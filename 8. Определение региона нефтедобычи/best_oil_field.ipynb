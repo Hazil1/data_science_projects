{
 "cells": [
  {
   "cell_type": "markdown",
   "metadata": {},
   "source": [
    "# Выбор локации для скважины"
   ]
  },
  {
   "cell_type": "markdown",
   "metadata": {},
   "source": [
    "Допустим, вы работаете в добывающей компании «ГлавРосГосНефть». Нужно решить, где бурить новую скважину.\n",
    "\n",
    "Вам предоставлены пробы нефти в трёх регионах: в каждом 10 000 месторождений, где измерили качество нефти и объём её запасов. Постройте модель машинного обучения, которая поможет определить регион, где добыча принесёт наибольшую прибыль. Проанализируйте возможную прибыль и риски техникой *Bootstrap.*\n",
    "\n",
    "Шаги для выбора локации:\n",
    "\n",
    "- В избранном регионе ищут месторождения, для каждого определяют значения признаков;\n",
    "- Строят модель и оценивают объём запасов;\n",
    "- Выбирают месторождения с самым высокими оценками значений. Количество месторождений зависит от бюджета компании и стоимости разработки одной скважины;\n",
    "- Прибыль равна суммарной прибыли отобранных месторождений."
   ]
  },
  {
   "cell_type": "code",
   "execution_count": 1,
   "metadata": {},
   "outputs": [],
   "source": [
    "# Подключим необходимые библиотеки\n",
    "import pandas as pd\n",
    "import matplotlib.pyplot as plt\n",
    "import seaborn as sns\n",
    "\n",
    "from sklearn.linear_model import LinearRegression\n",
    "from sklearn.model_selection import train_test_split\n",
    "from sklearn.preprocessing import StandardScaler\n",
    "from sklearn.metrics import mean_squared_error\n",
    "\n",
    "from numpy.random import RandomState"
   ]
  },
  {
   "cell_type": "markdown",
   "metadata": {},
   "source": [
    "## Загрузка и подготовка данных"
   ]
  },
  {
   "cell_type": "markdown",
   "metadata": {},
   "source": [
    "В ходе загрузи и подготовки данных будет выполнено:\n",
    "1. Загрузим и сохраним данные с переменные.\n",
    "2. Ознакомимся с данными, посмотрим на статистики, общую информацию, посмотрим наличие пропусков и дубликатов.\n",
    "3. Визуально познакомимся с данными, посмотрим на корреляцию признаков и на распределение данных.\n",
    "4. Подготовим данные для обучения модели. Разделим датасеты на признаки и целевой признак, разделим данные на обучающую и валидационную выборки, промасштабируем данные и, при необходимости, исключим столбцы из датасета, которые не влияют на целевой признак. "
   ]
  },
  {
   "cell_type": "code",
   "execution_count": 4,
   "metadata": {},
   "outputs": [],
   "source": [
    "# Загрузим данные по регионам и сохраним их в переменных location_1, location_2, location_3\n",
    "location_1 = pd.read_csv('geo_data_0.csv')\n",
    "location_2 = pd.read_csv('geo_data_1.csv')\n",
    "location_3 = pd.read_csv('geo_data_2.csv')"
   ]
  },
  {
   "cell_type": "code",
   "execution_count": 5,
   "metadata": {},
   "outputs": [],
   "source": [
    "locations = [location_1, location_2, location_3]"
   ]
  },
  {
   "cell_type": "markdown",
   "metadata": {},
   "source": [
    "### Ознакомление с данными "
   ]
  },
  {
   "cell_type": "code",
   "execution_count": 6,
   "metadata": {},
   "outputs": [
    {
     "data": {
      "text/html": [
       "<div>\n",
       "<style scoped>\n",
       "    .dataframe tbody tr th:only-of-type {\n",
       "        vertical-align: middle;\n",
       "    }\n",
       "\n",
       "    .dataframe tbody tr th {\n",
       "        vertical-align: top;\n",
       "    }\n",
       "\n",
       "    .dataframe thead th {\n",
       "        text-align: right;\n",
       "    }\n",
       "</style>\n",
       "<table border=\"1\" class=\"dataframe\">\n",
       "  <thead>\n",
       "    <tr style=\"text-align: right;\">\n",
       "      <th></th>\n",
       "      <th>id</th>\n",
       "      <th>f0</th>\n",
       "      <th>f1</th>\n",
       "      <th>f2</th>\n",
       "      <th>product</th>\n",
       "    </tr>\n",
       "  </thead>\n",
       "  <tbody>\n",
       "    <tr>\n",
       "      <th>0</th>\n",
       "      <td>txEyH</td>\n",
       "      <td>0.705745</td>\n",
       "      <td>-0.497823</td>\n",
       "      <td>1.221170</td>\n",
       "      <td>105.280062</td>\n",
       "    </tr>\n",
       "    <tr>\n",
       "      <th>1</th>\n",
       "      <td>2acmU</td>\n",
       "      <td>1.334711</td>\n",
       "      <td>-0.340164</td>\n",
       "      <td>4.365080</td>\n",
       "      <td>73.037750</td>\n",
       "    </tr>\n",
       "    <tr>\n",
       "      <th>2</th>\n",
       "      <td>409Wp</td>\n",
       "      <td>1.022732</td>\n",
       "      <td>0.151990</td>\n",
       "      <td>1.419926</td>\n",
       "      <td>85.265647</td>\n",
       "    </tr>\n",
       "    <tr>\n",
       "      <th>3</th>\n",
       "      <td>iJLyR</td>\n",
       "      <td>-0.032172</td>\n",
       "      <td>0.139033</td>\n",
       "      <td>2.978566</td>\n",
       "      <td>168.620776</td>\n",
       "    </tr>\n",
       "    <tr>\n",
       "      <th>4</th>\n",
       "      <td>Xdl7t</td>\n",
       "      <td>1.988431</td>\n",
       "      <td>0.155413</td>\n",
       "      <td>4.751769</td>\n",
       "      <td>154.036647</td>\n",
       "    </tr>\n",
       "  </tbody>\n",
       "</table>\n",
       "</div>"
      ],
      "text/plain": [
       "      id        f0        f1        f2     product\n",
       "0  txEyH  0.705745 -0.497823  1.221170  105.280062\n",
       "1  2acmU  1.334711 -0.340164  4.365080   73.037750\n",
       "2  409Wp  1.022732  0.151990  1.419926   85.265647\n",
       "3  iJLyR -0.032172  0.139033  2.978566  168.620776\n",
       "4  Xdl7t  1.988431  0.155413  4.751769  154.036647"
      ]
     },
     "metadata": {},
     "output_type": "display_data"
    },
    {
     "data": {
      "text/html": [
       "<div>\n",
       "<style scoped>\n",
       "    .dataframe tbody tr th:only-of-type {\n",
       "        vertical-align: middle;\n",
       "    }\n",
       "\n",
       "    .dataframe tbody tr th {\n",
       "        vertical-align: top;\n",
       "    }\n",
       "\n",
       "    .dataframe thead th {\n",
       "        text-align: right;\n",
       "    }\n",
       "</style>\n",
       "<table border=\"1\" class=\"dataframe\">\n",
       "  <thead>\n",
       "    <tr style=\"text-align: right;\">\n",
       "      <th></th>\n",
       "      <th>id</th>\n",
       "      <th>f0</th>\n",
       "      <th>f1</th>\n",
       "      <th>f2</th>\n",
       "      <th>product</th>\n",
       "    </tr>\n",
       "  </thead>\n",
       "  <tbody>\n",
       "    <tr>\n",
       "      <th>0</th>\n",
       "      <td>kBEdx</td>\n",
       "      <td>-15.001348</td>\n",
       "      <td>-8.276000</td>\n",
       "      <td>-0.005876</td>\n",
       "      <td>3.179103</td>\n",
       "    </tr>\n",
       "    <tr>\n",
       "      <th>1</th>\n",
       "      <td>62mP7</td>\n",
       "      <td>14.272088</td>\n",
       "      <td>-3.475083</td>\n",
       "      <td>0.999183</td>\n",
       "      <td>26.953261</td>\n",
       "    </tr>\n",
       "    <tr>\n",
       "      <th>2</th>\n",
       "      <td>vyE1P</td>\n",
       "      <td>6.263187</td>\n",
       "      <td>-5.948386</td>\n",
       "      <td>5.001160</td>\n",
       "      <td>134.766305</td>\n",
       "    </tr>\n",
       "    <tr>\n",
       "      <th>3</th>\n",
       "      <td>KcrkZ</td>\n",
       "      <td>-13.081196</td>\n",
       "      <td>-11.506057</td>\n",
       "      <td>4.999415</td>\n",
       "      <td>137.945408</td>\n",
       "    </tr>\n",
       "    <tr>\n",
       "      <th>4</th>\n",
       "      <td>AHL4O</td>\n",
       "      <td>12.702195</td>\n",
       "      <td>-8.147433</td>\n",
       "      <td>5.004363</td>\n",
       "      <td>134.766305</td>\n",
       "    </tr>\n",
       "  </tbody>\n",
       "</table>\n",
       "</div>"
      ],
      "text/plain": [
       "      id         f0         f1        f2     product\n",
       "0  kBEdx -15.001348  -8.276000 -0.005876    3.179103\n",
       "1  62mP7  14.272088  -3.475083  0.999183   26.953261\n",
       "2  vyE1P   6.263187  -5.948386  5.001160  134.766305\n",
       "3  KcrkZ -13.081196 -11.506057  4.999415  137.945408\n",
       "4  AHL4O  12.702195  -8.147433  5.004363  134.766305"
      ]
     },
     "metadata": {},
     "output_type": "display_data"
    },
    {
     "data": {
      "text/html": [
       "<div>\n",
       "<style scoped>\n",
       "    .dataframe tbody tr th:only-of-type {\n",
       "        vertical-align: middle;\n",
       "    }\n",
       "\n",
       "    .dataframe tbody tr th {\n",
       "        vertical-align: top;\n",
       "    }\n",
       "\n",
       "    .dataframe thead th {\n",
       "        text-align: right;\n",
       "    }\n",
       "</style>\n",
       "<table border=\"1\" class=\"dataframe\">\n",
       "  <thead>\n",
       "    <tr style=\"text-align: right;\">\n",
       "      <th></th>\n",
       "      <th>id</th>\n",
       "      <th>f0</th>\n",
       "      <th>f1</th>\n",
       "      <th>f2</th>\n",
       "      <th>product</th>\n",
       "    </tr>\n",
       "  </thead>\n",
       "  <tbody>\n",
       "    <tr>\n",
       "      <th>0</th>\n",
       "      <td>fwXo0</td>\n",
       "      <td>-1.146987</td>\n",
       "      <td>0.963328</td>\n",
       "      <td>-0.828965</td>\n",
       "      <td>27.758673</td>\n",
       "    </tr>\n",
       "    <tr>\n",
       "      <th>1</th>\n",
       "      <td>WJtFt</td>\n",
       "      <td>0.262778</td>\n",
       "      <td>0.269839</td>\n",
       "      <td>-2.530187</td>\n",
       "      <td>56.069697</td>\n",
       "    </tr>\n",
       "    <tr>\n",
       "      <th>2</th>\n",
       "      <td>ovLUW</td>\n",
       "      <td>0.194587</td>\n",
       "      <td>0.289035</td>\n",
       "      <td>-5.586433</td>\n",
       "      <td>62.871910</td>\n",
       "    </tr>\n",
       "    <tr>\n",
       "      <th>3</th>\n",
       "      <td>q6cA6</td>\n",
       "      <td>2.236060</td>\n",
       "      <td>-0.553760</td>\n",
       "      <td>0.930038</td>\n",
       "      <td>114.572842</td>\n",
       "    </tr>\n",
       "    <tr>\n",
       "      <th>4</th>\n",
       "      <td>WPMUX</td>\n",
       "      <td>-0.515993</td>\n",
       "      <td>1.716266</td>\n",
       "      <td>5.899011</td>\n",
       "      <td>149.600746</td>\n",
       "    </tr>\n",
       "  </tbody>\n",
       "</table>\n",
       "</div>"
      ],
      "text/plain": [
       "      id        f0        f1        f2     product\n",
       "0  fwXo0 -1.146987  0.963328 -0.828965   27.758673\n",
       "1  WJtFt  0.262778  0.269839 -2.530187   56.069697\n",
       "2  ovLUW  0.194587  0.289035 -5.586433   62.871910\n",
       "3  q6cA6  2.236060 -0.553760  0.930038  114.572842\n",
       "4  WPMUX -0.515993  1.716266  5.899011  149.600746"
      ]
     },
     "execution_count": 6,
     "metadata": {},
     "output_type": "execute_result"
    }
   ],
   "source": [
    "# Познакомимся с данными, отобразим первые 5 строк в каждом датасете\n",
    "display(location_1.head())\n",
    "display(location_2.head())\n",
    "location_3.head()"
   ]
  },
  {
   "cell_type": "markdown",
   "metadata": {},
   "source": [
    "В каждом датасете по 5 столбцов:\n",
    "- `id` - зашифрованное название месторождения/скважины\n",
    "- `f1`, `f2` и `f3` - характеристики\n",
    "- `product` - объём запасов в скважине (тыс. баррелей) - **целевая переменная**.\n",
    "\n",
    "Для обучения модели машинного обучения данные из столбца `id` нужно будет исключить, т.к название скважины никак не влияют на целевую переменную."
   ]
  },
  {
   "cell_type": "markdown",
   "metadata": {},
   "source": [
    "### Общая информация по датасетам"
   ]
  },
  {
   "cell_type": "code",
   "execution_count": 7,
   "metadata": {},
   "outputs": [
    {
     "name": "stdout",
     "output_type": "stream",
     "text": [
      "<class 'pandas.core.frame.DataFrame'>\n",
      "RangeIndex: 100000 entries, 0 to 99999\n",
      "Data columns (total 5 columns):\n",
      " #   Column   Non-Null Count   Dtype  \n",
      "---  ------   --------------   -----  \n",
      " 0   id       100000 non-null  object \n",
      " 1   f0       100000 non-null  float64\n",
      " 2   f1       100000 non-null  float64\n",
      " 3   f2       100000 non-null  float64\n",
      " 4   product  100000 non-null  float64\n",
      "dtypes: float64(4), object(1)\n",
      "memory usage: 3.8+ MB\n"
     ]
    },
    {
     "data": {
      "text/html": [
       "<div>\n",
       "<style scoped>\n",
       "    .dataframe tbody tr th:only-of-type {\n",
       "        vertical-align: middle;\n",
       "    }\n",
       "\n",
       "    .dataframe tbody tr th {\n",
       "        vertical-align: top;\n",
       "    }\n",
       "\n",
       "    .dataframe thead th {\n",
       "        text-align: right;\n",
       "    }\n",
       "</style>\n",
       "<table border=\"1\" class=\"dataframe\">\n",
       "  <thead>\n",
       "    <tr style=\"text-align: right;\">\n",
       "      <th></th>\n",
       "      <th>f0</th>\n",
       "      <th>f1</th>\n",
       "      <th>f2</th>\n",
       "      <th>product</th>\n",
       "    </tr>\n",
       "  </thead>\n",
       "  <tbody>\n",
       "    <tr>\n",
       "      <th>count</th>\n",
       "      <td>100000.000000</td>\n",
       "      <td>100000.000000</td>\n",
       "      <td>100000.000000</td>\n",
       "      <td>100000.000000</td>\n",
       "    </tr>\n",
       "    <tr>\n",
       "      <th>mean</th>\n",
       "      <td>0.500419</td>\n",
       "      <td>0.250143</td>\n",
       "      <td>2.502647</td>\n",
       "      <td>92.500000</td>\n",
       "    </tr>\n",
       "    <tr>\n",
       "      <th>std</th>\n",
       "      <td>0.871832</td>\n",
       "      <td>0.504433</td>\n",
       "      <td>3.248248</td>\n",
       "      <td>44.288691</td>\n",
       "    </tr>\n",
       "    <tr>\n",
       "      <th>min</th>\n",
       "      <td>-1.408605</td>\n",
       "      <td>-0.848218</td>\n",
       "      <td>-12.088328</td>\n",
       "      <td>0.000000</td>\n",
       "    </tr>\n",
       "    <tr>\n",
       "      <th>25%</th>\n",
       "      <td>-0.072580</td>\n",
       "      <td>-0.200881</td>\n",
       "      <td>0.287748</td>\n",
       "      <td>56.497507</td>\n",
       "    </tr>\n",
       "    <tr>\n",
       "      <th>50%</th>\n",
       "      <td>0.502360</td>\n",
       "      <td>0.250252</td>\n",
       "      <td>2.515969</td>\n",
       "      <td>91.849972</td>\n",
       "    </tr>\n",
       "    <tr>\n",
       "      <th>75%</th>\n",
       "      <td>1.073581</td>\n",
       "      <td>0.700646</td>\n",
       "      <td>4.715088</td>\n",
       "      <td>128.564089</td>\n",
       "    </tr>\n",
       "    <tr>\n",
       "      <th>max</th>\n",
       "      <td>2.362331</td>\n",
       "      <td>1.343769</td>\n",
       "      <td>16.003790</td>\n",
       "      <td>185.364347</td>\n",
       "    </tr>\n",
       "  </tbody>\n",
       "</table>\n",
       "</div>"
      ],
      "text/plain": [
       "                  f0             f1             f2        product\n",
       "count  100000.000000  100000.000000  100000.000000  100000.000000\n",
       "mean        0.500419       0.250143       2.502647      92.500000\n",
       "std         0.871832       0.504433       3.248248      44.288691\n",
       "min        -1.408605      -0.848218     -12.088328       0.000000\n",
       "25%        -0.072580      -0.200881       0.287748      56.497507\n",
       "50%         0.502360       0.250252       2.515969      91.849972\n",
       "75%         1.073581       0.700646       4.715088     128.564089\n",
       "max         2.362331       1.343769      16.003790     185.364347"
      ]
     },
     "execution_count": 7,
     "metadata": {},
     "output_type": "execute_result"
    }
   ],
   "source": [
    "# Посмотрим на общую информацию по данным с каждого региона\n",
    "location_1.info()\n",
    "location_1.describe()"
   ]
  },
  {
   "cell_type": "code",
   "execution_count": 8,
   "metadata": {},
   "outputs": [
    {
     "name": "stdout",
     "output_type": "stream",
     "text": [
      "<class 'pandas.core.frame.DataFrame'>\n",
      "RangeIndex: 100000 entries, 0 to 99999\n",
      "Data columns (total 5 columns):\n",
      " #   Column   Non-Null Count   Dtype  \n",
      "---  ------   --------------   -----  \n",
      " 0   id       100000 non-null  object \n",
      " 1   f0       100000 non-null  float64\n",
      " 2   f1       100000 non-null  float64\n",
      " 3   f2       100000 non-null  float64\n",
      " 4   product  100000 non-null  float64\n",
      "dtypes: float64(4), object(1)\n",
      "memory usage: 3.8+ MB\n"
     ]
    },
    {
     "data": {
      "text/html": [
       "<div>\n",
       "<style scoped>\n",
       "    .dataframe tbody tr th:only-of-type {\n",
       "        vertical-align: middle;\n",
       "    }\n",
       "\n",
       "    .dataframe tbody tr th {\n",
       "        vertical-align: top;\n",
       "    }\n",
       "\n",
       "    .dataframe thead th {\n",
       "        text-align: right;\n",
       "    }\n",
       "</style>\n",
       "<table border=\"1\" class=\"dataframe\">\n",
       "  <thead>\n",
       "    <tr style=\"text-align: right;\">\n",
       "      <th></th>\n",
       "      <th>f0</th>\n",
       "      <th>f1</th>\n",
       "      <th>f2</th>\n",
       "      <th>product</th>\n",
       "    </tr>\n",
       "  </thead>\n",
       "  <tbody>\n",
       "    <tr>\n",
       "      <th>count</th>\n",
       "      <td>100000.000000</td>\n",
       "      <td>100000.000000</td>\n",
       "      <td>100000.000000</td>\n",
       "      <td>100000.000000</td>\n",
       "    </tr>\n",
       "    <tr>\n",
       "      <th>mean</th>\n",
       "      <td>1.141296</td>\n",
       "      <td>-4.796579</td>\n",
       "      <td>2.494541</td>\n",
       "      <td>68.825000</td>\n",
       "    </tr>\n",
       "    <tr>\n",
       "      <th>std</th>\n",
       "      <td>8.965932</td>\n",
       "      <td>5.119872</td>\n",
       "      <td>1.703572</td>\n",
       "      <td>45.944423</td>\n",
       "    </tr>\n",
       "    <tr>\n",
       "      <th>min</th>\n",
       "      <td>-31.609576</td>\n",
       "      <td>-26.358598</td>\n",
       "      <td>-0.018144</td>\n",
       "      <td>0.000000</td>\n",
       "    </tr>\n",
       "    <tr>\n",
       "      <th>25%</th>\n",
       "      <td>-6.298551</td>\n",
       "      <td>-8.267985</td>\n",
       "      <td>1.000021</td>\n",
       "      <td>26.953261</td>\n",
       "    </tr>\n",
       "    <tr>\n",
       "      <th>50%</th>\n",
       "      <td>1.153055</td>\n",
       "      <td>-4.813172</td>\n",
       "      <td>2.011479</td>\n",
       "      <td>57.085625</td>\n",
       "    </tr>\n",
       "    <tr>\n",
       "      <th>75%</th>\n",
       "      <td>8.621015</td>\n",
       "      <td>-1.332816</td>\n",
       "      <td>3.999904</td>\n",
       "      <td>107.813044</td>\n",
       "    </tr>\n",
       "    <tr>\n",
       "      <th>max</th>\n",
       "      <td>29.421755</td>\n",
       "      <td>18.734063</td>\n",
       "      <td>5.019721</td>\n",
       "      <td>137.945408</td>\n",
       "    </tr>\n",
       "  </tbody>\n",
       "</table>\n",
       "</div>"
      ],
      "text/plain": [
       "                  f0             f1             f2        product\n",
       "count  100000.000000  100000.000000  100000.000000  100000.000000\n",
       "mean        1.141296      -4.796579       2.494541      68.825000\n",
       "std         8.965932       5.119872       1.703572      45.944423\n",
       "min       -31.609576     -26.358598      -0.018144       0.000000\n",
       "25%        -6.298551      -8.267985       1.000021      26.953261\n",
       "50%         1.153055      -4.813172       2.011479      57.085625\n",
       "75%         8.621015      -1.332816       3.999904     107.813044\n",
       "max        29.421755      18.734063       5.019721     137.945408"
      ]
     },
     "execution_count": 8,
     "metadata": {},
     "output_type": "execute_result"
    }
   ],
   "source": [
    "location_2.info()\n",
    "location_2.describe()"
   ]
  },
  {
   "cell_type": "code",
   "execution_count": 9,
   "metadata": {},
   "outputs": [
    {
     "name": "stdout",
     "output_type": "stream",
     "text": [
      "<class 'pandas.core.frame.DataFrame'>\n",
      "RangeIndex: 100000 entries, 0 to 99999\n",
      "Data columns (total 5 columns):\n",
      " #   Column   Non-Null Count   Dtype  \n",
      "---  ------   --------------   -----  \n",
      " 0   id       100000 non-null  object \n",
      " 1   f0       100000 non-null  float64\n",
      " 2   f1       100000 non-null  float64\n",
      " 3   f2       100000 non-null  float64\n",
      " 4   product  100000 non-null  float64\n",
      "dtypes: float64(4), object(1)\n",
      "memory usage: 3.8+ MB\n"
     ]
    },
    {
     "data": {
      "text/html": [
       "<div>\n",
       "<style scoped>\n",
       "    .dataframe tbody tr th:only-of-type {\n",
       "        vertical-align: middle;\n",
       "    }\n",
       "\n",
       "    .dataframe tbody tr th {\n",
       "        vertical-align: top;\n",
       "    }\n",
       "\n",
       "    .dataframe thead th {\n",
       "        text-align: right;\n",
       "    }\n",
       "</style>\n",
       "<table border=\"1\" class=\"dataframe\">\n",
       "  <thead>\n",
       "    <tr style=\"text-align: right;\">\n",
       "      <th></th>\n",
       "      <th>f0</th>\n",
       "      <th>f1</th>\n",
       "      <th>f2</th>\n",
       "      <th>product</th>\n",
       "    </tr>\n",
       "  </thead>\n",
       "  <tbody>\n",
       "    <tr>\n",
       "      <th>count</th>\n",
       "      <td>100000.000000</td>\n",
       "      <td>100000.000000</td>\n",
       "      <td>100000.000000</td>\n",
       "      <td>100000.000000</td>\n",
       "    </tr>\n",
       "    <tr>\n",
       "      <th>mean</th>\n",
       "      <td>0.002023</td>\n",
       "      <td>-0.002081</td>\n",
       "      <td>2.495128</td>\n",
       "      <td>95.000000</td>\n",
       "    </tr>\n",
       "    <tr>\n",
       "      <th>std</th>\n",
       "      <td>1.732045</td>\n",
       "      <td>1.730417</td>\n",
       "      <td>3.473445</td>\n",
       "      <td>44.749921</td>\n",
       "    </tr>\n",
       "    <tr>\n",
       "      <th>min</th>\n",
       "      <td>-8.760004</td>\n",
       "      <td>-7.084020</td>\n",
       "      <td>-11.970335</td>\n",
       "      <td>0.000000</td>\n",
       "    </tr>\n",
       "    <tr>\n",
       "      <th>25%</th>\n",
       "      <td>-1.162288</td>\n",
       "      <td>-1.174820</td>\n",
       "      <td>0.130359</td>\n",
       "      <td>59.450441</td>\n",
       "    </tr>\n",
       "    <tr>\n",
       "      <th>50%</th>\n",
       "      <td>0.009424</td>\n",
       "      <td>-0.009482</td>\n",
       "      <td>2.484236</td>\n",
       "      <td>94.925613</td>\n",
       "    </tr>\n",
       "    <tr>\n",
       "      <th>75%</th>\n",
       "      <td>1.158535</td>\n",
       "      <td>1.163678</td>\n",
       "      <td>4.858794</td>\n",
       "      <td>130.595027</td>\n",
       "    </tr>\n",
       "    <tr>\n",
       "      <th>max</th>\n",
       "      <td>7.238262</td>\n",
       "      <td>7.844801</td>\n",
       "      <td>16.739402</td>\n",
       "      <td>190.029838</td>\n",
       "    </tr>\n",
       "  </tbody>\n",
       "</table>\n",
       "</div>"
      ],
      "text/plain": [
       "                  f0             f1             f2        product\n",
       "count  100000.000000  100000.000000  100000.000000  100000.000000\n",
       "mean        0.002023      -0.002081       2.495128      95.000000\n",
       "std         1.732045       1.730417       3.473445      44.749921\n",
       "min        -8.760004      -7.084020     -11.970335       0.000000\n",
       "25%        -1.162288      -1.174820       0.130359      59.450441\n",
       "50%         0.009424      -0.009482       2.484236      94.925613\n",
       "75%         1.158535       1.163678       4.858794     130.595027\n",
       "max         7.238262       7.844801      16.739402     190.029838"
      ]
     },
     "execution_count": 9,
     "metadata": {},
     "output_type": "execute_result"
    }
   ],
   "source": [
    "location_3.info()\n",
    "location_3.describe()"
   ]
  },
  {
   "cell_type": "code",
   "execution_count": 10,
   "metadata": {},
   "outputs": [
    {
     "data": {
      "text/plain": [
       "0"
      ]
     },
     "metadata": {},
     "output_type": "display_data"
    },
    {
     "data": {
      "text/plain": [
       "0"
      ]
     },
     "metadata": {},
     "output_type": "display_data"
    },
    {
     "data": {
      "text/plain": [
       "0"
      ]
     },
     "execution_count": 10,
     "metadata": {},
     "output_type": "execute_result"
    }
   ],
   "source": [
    "# Проверим датасеты на наличие дубликатов\n",
    "display(location_1.duplicated().sum())\n",
    "display(location_2.duplicated().sum())\n",
    "location_3.duplicated().sum()"
   ]
  },
  {
   "cell_type": "markdown",
   "metadata": {},
   "source": [
    "При ознакомлении с общей информацией по данным было выявлено:\n",
    "1. В данных нет пропусков, во всех датасетах по 100000 строк.\n",
    "2. В столбцах: `f1`, `f2`, `f3` и `product` тип данных - `float64`. Изменение типов данных не требуется.\n",
    "3. Отсутствуют явные дубликаты а датасетах.\n",
    "\n",
    "Данные в столбцах `f1`, `f2` и `f3` в разным масшатобом, для корректного обучения модели машинного обучения необходимо в дальнейшем стандартизровать данные в этих столбцах."
   ]
  },
  {
   "cell_type": "markdown",
   "metadata": {},
   "source": [
    "### Корреляция данных в датасете"
   ]
  },
  {
   "cell_type": "code",
   "execution_count": 11,
   "metadata": {},
   "outputs": [],
   "source": [
    "# Создадим собственную функцию для отображения теплово карты по корреляции в едином стиле\n",
    "def corr_heatmap(data, name):\n",
    "    plt.figure(figsize=(10,3))\n",
    "    plt.title(f'Теловая карта корреляции признаков {name}', fontsize=14)\n",
    "    sns.heatmap(data.corr(), \n",
    "                annot=True,\n",
    "                linewidth=0.5,\n",
    "                cmap='Blues'\n",
    "               )"
   ]
  },
  {
   "cell_type": "code",
   "execution_count": 12,
   "metadata": {},
   "outputs": [
    {
     "name": "stderr",
     "output_type": "stream",
     "text": [
      "/var/folders/zq/yp8ktgrj2b12__tc31v8lj0h0000gn/T/ipykernel_87081/3163299402.py:5: FutureWarning: The default value of numeric_only in DataFrame.corr is deprecated. In a future version, it will default to False. Select only valid columns or specify the value of numeric_only to silence this warning.\n",
      "  sns.heatmap(data.corr(),\n"
     ]
    },
    {
     "data": {
      "image/png": "[encoded data removed]",
      "text/plain": [
       "<Figure size 1000x300 with 2 Axes>"
      ]
     },
     "metadata": {},
     "output_type": "display_data"
    }
   ],
   "source": [
    "# Корреляция признаков в Регионе 1\n",
    "corr_heatmap(location_1, \"Регион 1\")"
   ]
  },
  {
   "cell_type": "code",
   "execution_count": 13,
   "metadata": {},
   "outputs": [
    {
     "name": "stderr",
     "output_type": "stream",
     "text": [
      "/var/folders/zq/yp8ktgrj2b12__tc31v8lj0h0000gn/T/ipykernel_87081/3163299402.py:5: FutureWarning: The default value of numeric_only in DataFrame.corr is deprecated. In a future version, it will default to False. Select only valid columns or specify the value of numeric_only to silence this warning.\n",
      "  sns.heatmap(data.corr(),\n"
     ]
    },
    {
     "data": {
      "image/png": "[encoded data removed]",
      "text/plain": [
       "<Figure size 1000x300 with 2 Axes>"
      ]
     },
     "metadata": {},
     "output_type": "display_data"
    }
   ],
   "source": [
    "# Корреляция признаков в Регионе 2\n",
    "corr_heatmap(location_2, 'Регион 2')"
   ]
  },
  {
   "cell_type": "code",
   "execution_count": 14,
   "metadata": {},
   "outputs": [
    {
     "name": "stderr",
     "output_type": "stream",
     "text": [
      "/var/folders/zq/yp8ktgrj2b12__tc31v8lj0h0000gn/T/ipykernel_87081/3163299402.py:5: FutureWarning: The default value of numeric_only in DataFrame.corr is deprecated. In a future version, it will default to False. Select only valid columns or specify the value of numeric_only to silence this warning.\n",
      "  sns.heatmap(data.corr(),\n"
     ]
    },
    {
     "data": {
      "image/png": "[encoded data removed]",
      "text/plain": [
       "<Figure size 1000x300 with 2 Axes>"
      ]
     },
     "metadata": {},
     "output_type": "display_data"
    }
   ],
   "source": [
    "# Корреляция признаков в Регионе 3\n",
    "corr_heatmap(location_3, 'Регион 3')"
   ]
  },
  {
   "cell_type": "markdown",
   "metadata": {},
   "source": [
    "По тепловой диаграмме коррляции признаков видно, что на продуктивность скважины больше всего влияет признак **f2**"
   ]
  },
  {
   "cell_type": "code",
   "execution_count": 15,
   "metadata": {},
   "outputs": [
    {
     "data": {
      "image/png": "[encoded data removed]",
      "text/plain": [
       "<Figure size 640x480 with 1 Axes>"
      ]
     },
     "metadata": {},
     "output_type": "display_data"
    }
   ],
   "source": [
    "sns.scatterplot(data=location_2, x=location_2['f2'], y=location_2['product']);"
   ]
  },
  {
   "cell_type": "markdown",
   "metadata": {},
   "source": [
    "### Распределение данных"
   ]
  },
  {
   "cell_type": "markdown",
   "metadata": {},
   "source": [
    "Посмотрим на распределение данных в датасетах.\n",
    "\n",
    "Создадим фунцию `data_hist`, которая выдаст гистограммы для каждого признака из датасета."
   ]
  },
  {
   "cell_type": "code",
   "execution_count": 16,
   "metadata": {},
   "outputs": [],
   "source": [
    "def data_hist(data, name):\n",
    "    print(f'Распредение данных. {name}')\n",
    "    fig, ax = plt.subplots(1, 4, figsize=(15, 3))\n",
    "    ax[0].hist(data['f0'], bins=50, )\n",
    "    ax[0].set(title='f1')\n",
    "\n",
    "    ax[1].hist(data['f1'], bins=50)\n",
    "    ax[1].set(title='f2')\n",
    "\n",
    "    ax[2].hist(data['f2'], bins=50)\n",
    "    ax[2].set(title='f3')\n",
    "\n",
    "    ax[3].hist(data['product'], bins=50)\n",
    "    ax[3].set(title='product')\n",
    "\n",
    "    plt.show()"
   ]
  },
  {
   "cell_type": "code",
   "execution_count": 17,
   "metadata": {},
   "outputs": [
    {
     "name": "stdout",
     "output_type": "stream",
     "text": [
      "Распредение данных. Регион 1\n"
     ]
    },
    {
     "data": {
      "image/png": "[encoded data removed]",
      "text/plain": [
       "<Figure size 1500x300 with 4 Axes>"
      ]
     },
     "metadata": {},
     "output_type": "display_data"
    }
   ],
   "source": [
    "data_hist(location_1, 'Регион 1')"
   ]
  },
  {
   "cell_type": "code",
   "execution_count": 18,
   "metadata": {},
   "outputs": [
    {
     "name": "stdout",
     "output_type": "stream",
     "text": [
      "Распредение данных. Регион 2\n"
     ]
    },
    {
     "data": {
      "image/png": "[encoded data removed]",
      "text/plain": [
       "<Figure size 1500x300 with 4 Axes>"
      ]
     },
     "metadata": {},
     "output_type": "display_data"
    }
   ],
   "source": [
    "data_hist(location_2, \"Регион 2\")"
   ]
  },
  {
   "cell_type": "code",
   "execution_count": 19,
   "metadata": {},
   "outputs": [
    {
     "name": "stdout",
     "output_type": "stream",
     "text": [
      "Распредение данных. Регион 3\n"
     ]
    },
    {
     "data": {
      "image/png": "[encoded data removed]",
      "text/plain": [
       "<Figure size 1500x300 with 4 Axes>"
      ]
     },
     "metadata": {},
     "output_type": "display_data"
    }
   ],
   "source": [
    "data_hist(location_3, \"Регион 3\")"
   ]
  },
  {
   "cell_type": "markdown",
   "metadata": {},
   "source": [
    "Из гистрограмм видно, что нормально распределены признаки только в датасете по 3-му региону. В регионах 1 и 2 данные распределены не нормально, что, скорее всего, связано с тем, что данные синтетические.\n",
    "Возможно, что такое распределение данных повлияет на результаты обучения модели Линейной регрессии."
   ]
  },
  {
   "cell_type": "markdown",
   "metadata": {},
   "source": [
    "### Исключение столбцов из датасета"
   ]
  },
  {
   "cell_type": "markdown",
   "metadata": {},
   "source": [
    "В датасетах пристутствуют стобец с названием скважины, удалим его т.к. этот признак никак не влияет на целевой признак `product`. Сохраним данные в новых переменных например `good_loc_1` "
   ]
  },
  {
   "cell_type": "code",
   "execution_count": 20,
   "metadata": {},
   "outputs": [],
   "source": [
    "good_loc_1 = location_1.drop('id', axis=1)\n",
    "good_loc_2 = location_2.drop('id', axis=1)\n",
    "good_loc_3 = location_3.drop('id', axis=1)"
   ]
  },
  {
   "cell_type": "code",
   "execution_count": 21,
   "metadata": {},
   "outputs": [
    {
     "data": {
      "text/html": [
       "<div>\n",
       "<style scoped>\n",
       "    .dataframe tbody tr th:only-of-type {\n",
       "        vertical-align: middle;\n",
       "    }\n",
       "\n",
       "    .dataframe tbody tr th {\n",
       "        vertical-align: top;\n",
       "    }\n",
       "\n",
       "    .dataframe thead th {\n",
       "        text-align: right;\n",
       "    }\n",
       "</style>\n",
       "<table border=\"1\" class=\"dataframe\">\n",
       "  <thead>\n",
       "    <tr style=\"text-align: right;\">\n",
       "      <th></th>\n",
       "      <th>f0</th>\n",
       "      <th>f1</th>\n",
       "      <th>f2</th>\n",
       "      <th>product</th>\n",
       "    </tr>\n",
       "  </thead>\n",
       "  <tbody>\n",
       "    <tr>\n",
       "      <th>0</th>\n",
       "      <td>0.705745</td>\n",
       "      <td>-0.497823</td>\n",
       "      <td>1.221170</td>\n",
       "      <td>105.280062</td>\n",
       "    </tr>\n",
       "    <tr>\n",
       "      <th>1</th>\n",
       "      <td>1.334711</td>\n",
       "      <td>-0.340164</td>\n",
       "      <td>4.365080</td>\n",
       "      <td>73.037750</td>\n",
       "    </tr>\n",
       "    <tr>\n",
       "      <th>2</th>\n",
       "      <td>1.022732</td>\n",
       "      <td>0.151990</td>\n",
       "      <td>1.419926</td>\n",
       "      <td>85.265647</td>\n",
       "    </tr>\n",
       "    <tr>\n",
       "      <th>3</th>\n",
       "      <td>-0.032172</td>\n",
       "      <td>0.139033</td>\n",
       "      <td>2.978566</td>\n",
       "      <td>168.620776</td>\n",
       "    </tr>\n",
       "    <tr>\n",
       "      <th>4</th>\n",
       "      <td>1.988431</td>\n",
       "      <td>0.155413</td>\n",
       "      <td>4.751769</td>\n",
       "      <td>154.036647</td>\n",
       "    </tr>\n",
       "  </tbody>\n",
       "</table>\n",
       "</div>"
      ],
      "text/plain": [
       "         f0        f1        f2     product\n",
       "0  0.705745 -0.497823  1.221170  105.280062\n",
       "1  1.334711 -0.340164  4.365080   73.037750\n",
       "2  1.022732  0.151990  1.419926   85.265647\n",
       "3 -0.032172  0.139033  2.978566  168.620776\n",
       "4  1.988431  0.155413  4.751769  154.036647"
      ]
     },
     "execution_count": 21,
     "metadata": {},
     "output_type": "execute_result"
    }
   ],
   "source": [
    "# Проверим удалился ли столбец 'id'\n",
    "good_loc_1.head()"
   ]
  },
  {
   "cell_type": "markdown",
   "metadata": {},
   "source": [
    "### Разделение данных на признаки и целевой признак"
   ]
  },
  {
   "cell_type": "markdown",
   "metadata": {},
   "source": [
    "Разделим данные по каждому региону на датасеты с признаками - features, и целевым признаком target."
   ]
  },
  {
   "cell_type": "code",
   "execution_count": 29,
   "metadata": {},
   "outputs": [],
   "source": [
    "# Напишем собственную функцию по разделению данных на признаки и целевой признак\n",
    "def features_target(data):\n",
    "    '''Возращает 2 датасета: 1 - признаки, 2 - целевой признак'''\n",
    "    features = data.drop('product', axis=1)\n",
    "    target = data['product']\n",
    "    return features, target"
   ]
  },
  {
   "cell_type": "markdown",
   "metadata": {},
   "source": [
    "Создадим датасеты по каждому региону"
   ]
  },
  {
   "cell_type": "code",
   "execution_count": 30,
   "metadata": {},
   "outputs": [],
   "source": [
    "# Регион_1\n",
    "features_loc_1, target_loc_1 = features_target(good_loc_1)\n",
    "\n",
    "# Регион_2\n",
    "features_loc_2, target_loc_2 = features_target(good_loc_2)\n",
    "\n",
    "# Регион_3\n",
    "features_loc_3, target_loc_3 = features_target(good_loc_3)"
   ]
  },
  {
   "cell_type": "code",
   "execution_count": 31,
   "metadata": {},
   "outputs": [
    {
     "data": {
      "text/html": [
       "<div>\n",
       "<style scoped>\n",
       "    .dataframe tbody tr th:only-of-type {\n",
       "        vertical-align: middle;\n",
       "    }\n",
       "\n",
       "    .dataframe tbody tr th {\n",
       "        vertical-align: top;\n",
       "    }\n",
       "\n",
       "    .dataframe thead th {\n",
       "        text-align: right;\n",
       "    }\n",
       "</style>\n",
       "<table border=\"1\" class=\"dataframe\">\n",
       "  <thead>\n",
       "    <tr style=\"text-align: right;\">\n",
       "      <th></th>\n",
       "      <th>f0</th>\n",
       "      <th>f1</th>\n",
       "      <th>f2</th>\n",
       "    </tr>\n",
       "  </thead>\n",
       "  <tbody>\n",
       "    <tr>\n",
       "      <th>0</th>\n",
       "      <td>0.705745</td>\n",
       "      <td>-0.497823</td>\n",
       "      <td>1.221170</td>\n",
       "    </tr>\n",
       "    <tr>\n",
       "      <th>1</th>\n",
       "      <td>1.334711</td>\n",
       "      <td>-0.340164</td>\n",
       "      <td>4.365080</td>\n",
       "    </tr>\n",
       "    <tr>\n",
       "      <th>2</th>\n",
       "      <td>1.022732</td>\n",
       "      <td>0.151990</td>\n",
       "      <td>1.419926</td>\n",
       "    </tr>\n",
       "    <tr>\n",
       "      <th>3</th>\n",
       "      <td>-0.032172</td>\n",
       "      <td>0.139033</td>\n",
       "      <td>2.978566</td>\n",
       "    </tr>\n",
       "    <tr>\n",
       "      <th>4</th>\n",
       "      <td>1.988431</td>\n",
       "      <td>0.155413</td>\n",
       "      <td>4.751769</td>\n",
       "    </tr>\n",
       "  </tbody>\n",
       "</table>\n",
       "</div>"
      ],
      "text/plain": [
       "         f0        f1        f2\n",
       "0  0.705745 -0.497823  1.221170\n",
       "1  1.334711 -0.340164  4.365080\n",
       "2  1.022732  0.151990  1.419926\n",
       "3 -0.032172  0.139033  2.978566\n",
       "4  1.988431  0.155413  4.751769"
      ]
     },
     "metadata": {},
     "output_type": "display_data"
    },
    {
     "data": {
      "text/plain": [
       "0    105.280062\n",
       "1     73.037750\n",
       "2     85.265647\n",
       "3    168.620776\n",
       "4    154.036647\n",
       "Name: product, dtype: float64"
      ]
     },
     "execution_count": 31,
     "metadata": {},
     "output_type": "execute_result"
    }
   ],
   "source": [
    "# Проверим правильность разделения данных\n",
    "display(features_loc_1.head())\n",
    "target_loc_1.head()"
   ]
  },
  {
   "cell_type": "markdown",
   "metadata": {},
   "source": [
    "### Разделение данных на обучающую и валидиционную выборки"
   ]
  },
  {
   "cell_type": "code",
   "execution_count": 38,
   "metadata": {},
   "outputs": [],
   "source": [
    "# Напишем собственную функцию по разделению данных на обучающую и валидационную выборки\n",
    "def split_data(features, target):\n",
    "    features_train, features_valid, target_train, target_valid = train_test_split(features,\n",
    "                                                                                  target,\n",
    "                                                                                  random_state=123,\n",
    "                                                                                  test_size=0.25)\n",
    "    return features_train, features_valid, target_train, target_valid"
   ]
  },
  {
   "cell_type": "markdown",
   "metadata": {},
   "source": [
    "Разделим датасеты на обучающие и валидационные выборки"
   ]
  },
  {
   "cell_type": "code",
   "execution_count": 40,
   "metadata": {},
   "outputs": [],
   "source": [
    "# Регион_1\n",
    "features_train_loc_1, features_valid_loc_1, target_train_loc_1, target_valid_loc_1 = split_data(features_loc_1,\n",
    "                                                                                                target_loc_1)\n",
    "\n",
    "# Регион_2\n",
    "features_train_loc_2, features_valid_loc_2, target_train_loc_2, target_valid_loc_2 = split_data(features_loc_2,\n",
    "                                                                                                target_loc_2)\n",
    "\n",
    "# Регион_3\n",
    "features_train_loc_3, features_valid_loc_3, target_train_loc_3, target_valid_loc_3 = split_data(features_loc_3,\n",
    "                                                                                                target_loc_3)"
   ]
  },
  {
   "cell_type": "code",
   "execution_count": 34,
   "metadata": {},
   "outputs": [
    {
     "name": "stdout",
     "output_type": "stream",
     "text": [
      "\n",
      "Размер обучающей выборки: (75000, 3)\n",
      "Размер валидационной выборки: (25000, 3)\n",
      "\n"
     ]
    }
   ],
   "source": [
    "# Проверим правильно ли разделились данные на примере датасета 1 региона\n",
    "print(f'''\n",
    "Размер обучающей выборки: {features_train_loc_1.shape}\n",
    "Размер валидационной выборки: {features_valid_loc_1.shape}\n",
    "''')"
   ]
  },
  {
   "cell_type": "markdown",
   "metadata": {},
   "source": [
    "### Масштабирование данных"
   ]
  },
  {
   "cell_type": "markdown",
   "metadata": {},
   "source": [
    "Промасштабируем данные в столбцах `f0`, `f1` и `f2` в датасетах для каждого региона"
   ]
  },
  {
   "cell_type": "code",
   "execution_count": 26,
   "metadata": {},
   "outputs": [],
   "source": [
    "# Создадим собственную функцию по масшабированию данных для ускорения\n",
    "pd.options.mode.chained_assignment = None\n",
    "\n",
    "numeric = ['f0', 'f1', 'f2']\n",
    "def scale_features(features_train, features_valid):\n",
    "    scaler = StandardScaler()\n",
    "    scaler.fit(features_train[numeric])\n",
    "    features_train[numeric] = scaler.transform(features_train[numeric])\n",
    "    features_valid[numeric] = scaler.transform(features_valid[numeric])\n",
    "    return features_train, features_valid"
   ]
  },
  {
   "cell_type": "code",
   "execution_count": 27,
   "metadata": {},
   "outputs": [],
   "source": [
    "# Регион_1\n",
    "features_train_loc_1, features_valid_loc_1 = scale_features(features_train_loc_1, \n",
    "                                                            features_valid_loc_1)\n",
    "\n",
    "# Регион_2\n",
    "features_train_loc_2, features_valid_loc_2 = scale_features(features_train_loc_2, \n",
    "                                                            features_valid_loc_2)\n",
    "\n",
    "# Регион_3\n",
    "features_train_loc_3, features_valid_loc_3 = scale_features(features_train_loc_3, \n",
    "                                                            features_valid_loc_3)"
   ]
  },
  {
   "cell_type": "code",
   "execution_count": 35,
   "metadata": {
    "scrolled": true
   },
   "outputs": [
    {
     "data": {
      "text/html": [
       "<div>\n",
       "<style scoped>\n",
       "    .dataframe tbody tr th:only-of-type {\n",
       "        vertical-align: middle;\n",
       "    }\n",
       "\n",
       "    .dataframe tbody tr th {\n",
       "        vertical-align: top;\n",
       "    }\n",
       "\n",
       "    .dataframe thead th {\n",
       "        text-align: right;\n",
       "    }\n",
       "</style>\n",
       "<table border=\"1\" class=\"dataframe\">\n",
       "  <thead>\n",
       "    <tr style=\"text-align: right;\">\n",
       "      <th></th>\n",
       "      <th>f0</th>\n",
       "      <th>f1</th>\n",
       "      <th>f2</th>\n",
       "    </tr>\n",
       "  </thead>\n",
       "  <tbody>\n",
       "    <tr>\n",
       "      <th>31450</th>\n",
       "      <td>0.304856</td>\n",
       "      <td>-0.439498</td>\n",
       "      <td>6.551519</td>\n",
       "    </tr>\n",
       "    <tr>\n",
       "      <th>42809</th>\n",
       "      <td>0.585391</td>\n",
       "      <td>0.964728</td>\n",
       "      <td>0.463974</td>\n",
       "    </tr>\n",
       "    <tr>\n",
       "      <th>52419</th>\n",
       "      <td>0.339017</td>\n",
       "      <td>0.921952</td>\n",
       "      <td>2.210054</td>\n",
       "    </tr>\n",
       "    <tr>\n",
       "      <th>45663</th>\n",
       "      <td>-0.982766</td>\n",
       "      <td>0.410923</td>\n",
       "      <td>-3.243633</td>\n",
       "    </tr>\n",
       "    <tr>\n",
       "      <th>50696</th>\n",
       "      <td>-0.450268</td>\n",
       "      <td>0.738422</td>\n",
       "      <td>4.349805</td>\n",
       "    </tr>\n",
       "  </tbody>\n",
       "</table>\n",
       "</div>"
      ],
      "text/plain": [
       "             f0        f1        f2\n",
       "31450  0.304856 -0.439498  6.551519\n",
       "42809  0.585391  0.964728  0.463974\n",
       "52419  0.339017  0.921952  2.210054\n",
       "45663 -0.982766  0.410923 -3.243633\n",
       "50696 -0.450268  0.738422  4.349805"
      ]
     },
     "execution_count": 35,
     "metadata": {},
     "output_type": "execute_result"
    }
   ],
   "source": [
    "# Проверим правильность масшабирования данных\n",
    "features_train_loc_1.head()"
   ]
  },
  {
   "cell_type": "markdown",
   "metadata": {},
   "source": [
    "### Вывод по разделу"
   ]
  },
  {
   "cell_type": "markdown",
   "metadata": {},
   "source": [
    "В ходе раздела были выполнены следующие работы:\n",
    "1. Подгружены данные и сохранены в переменных.\n",
    "2. Ознакомились с общей информацией по датасету. Не было необходимости изменять типы данных в столбцах, в данных отсутствуют явные дубликаты. \n",
    "3. Постоили тепловую карту по корреляции данных, было выявлено, что на продуктивность скважины больше всего влият признак **f3**.\n",
    "4. Посмотрели на распределение данных в датасетах, было выявлено, что в регионах 1 и 2 данные распределены не нормально, что, скорее всего, связано с тем, что данные синтетические.\n",
    "5. Перед формированием обучающих выборок был исключен из датасета столбец `id`, т.к. название скважины никак не влияет на целевой признак `product`. \n",
    "6. Данные по каждому региону были разделены на датасеты с признаками - features, и целевым признаком target, далее были разделены на обучающие и валидационные выборки.\n",
    "7. Промасштабированы данные в столбцах `f0`, `f1` и `f2` в датасетах для каждого региона"
   ]
  },
  {
   "cell_type": "markdown",
   "metadata": {},
   "source": [
    "\n",
    "## Обучение и проверка модели"
   ]
  },
  {
   "cell_type": "markdown",
   "metadata": {},
   "source": [
    "### Обучение моделей"
   ]
  },
  {
   "cell_type": "markdown",
   "metadata": {},
   "source": [
    "Для прогнозирования продуктивности скважин обучим модели линейной регрессии (LinearRegression) для каждого региона."
   ]
  },
  {
   "cell_type": "code",
   "execution_count": 29,
   "metadata": {},
   "outputs": [],
   "source": [
    "# Создадим собственную функцию по обучению моделей\n",
    "# функция возращает предсказания в Series и показатель RMSE\n",
    "def linear_reg_model(features_train, features_valid, target_train, target_valid):\n",
    "    model = LinearRegression()\n",
    "    model.fit(features_train, target_train)\n",
    "    predictions = pd.Series(model.predict(features_valid), index=target_valid.index)\n",
    "    score = mean_squared_error(target_valid, predictions) ** 0.5\n",
    "    return pd.Series(predictions), score"
   ]
  },
  {
   "cell_type": "code",
   "execution_count": 30,
   "metadata": {},
   "outputs": [
    {
     "name": "stdout",
     "output_type": "stream",
     "text": [
      "\n",
      "Регион 1\n",
      "Средний запас предсказанного сырья: 92.54936189116309\n",
      "RMSE: 37.64786282376177\n",
      "\n"
     ]
    }
   ],
   "source": [
    "# Обучим модель для первого региона\n",
    "predictions_loc_1, score_loc_1 = linear_reg_model(features_train_loc_1, \n",
    "                                                  features_valid_loc_1, \n",
    "                                                  target_train_loc_1, \n",
    "                                                  target_valid_loc_1)\n",
    "\n",
    "print(f'''\n",
    "Регион 1\n",
    "Средний запас предсказанного сырья: {predictions_loc_1.mean()}\n",
    "RMSE: {score_loc_1}\n",
    "''')"
   ]
  },
  {
   "cell_type": "code",
   "execution_count": 31,
   "metadata": {},
   "outputs": [
    {
     "name": "stdout",
     "output_type": "stream",
     "text": [
      "\n",
      "Регион 2\n",
      "Средний запас предсказанного сырья: 69.28001860653976\n",
      "RMSE: 0.8954139804944314\n",
      "\n"
     ]
    }
   ],
   "source": [
    "# Обучим модель для второго региона\n",
    "predictions_loc_2, score_loc_2 = linear_reg_model(features_train_loc_2,\n",
    "                                                  features_valid_loc_2,\n",
    "                                                  target_train_loc_2,\n",
    "                                                  target_valid_loc_2)\n",
    "\n",
    "print(f'''\n",
    "Регион 2\n",
    "Средний запас предсказанного сырья: {predictions_loc_2.mean()}\n",
    "RMSE: {score_loc_2}\n",
    "''')"
   ]
  },
  {
   "cell_type": "code",
   "execution_count": 32,
   "metadata": {},
   "outputs": [
    {
     "name": "stdout",
     "output_type": "stream",
     "text": [
      "\n",
      "Регион 3\n",
      "Средний запас предсказанного сырья: 95.09859933591373\n",
      "RMSE: 40.12803006598514\n",
      "\n"
     ]
    }
   ],
   "source": [
    "# Обучим модель для третьего региона\n",
    "predictions_loc_3, score_loc_3 = linear_reg_model(features_train_loc_3,\n",
    "                                                 features_valid_loc_3,\n",
    "                                                 target_train_loc_3,\n",
    "                                                 target_valid_loc_3)\n",
    "\n",
    "print(f'''\n",
    "Регион 3\n",
    "Средний запас предсказанного сырья: {predictions_loc_3.mean()}\n",
    "RMSE: {score_loc_3}\n",
    "''')"
   ]
  },
  {
   "cell_type": "markdown",
   "metadata": {},
   "source": [
    "После обучения моделей линейной регресии, получили следующие результаты:\n",
    "1. Регион 1\n",
    "    - Средний запас предсказанного сырья: 92.54936189116309 - **Наибольший показатель**\n",
    "    - RMSE: 37.64786282376177\n",
    "2. Регион 2\n",
    "    - Средний запас предсказанного сырья: 69.28001860653976\n",
    "    - RMSE: 0.8954139804944314 - **Наилучший показатель**\n",
    "3. Регион 3\n",
    "    - Средний запас предсказанного сырья: 95.09859933591373\n",
    "    - RMSE: 40.12803006598514\n",
    "\n",
    "Наилучший показатель RMSE получился по второму региону, это должно быть связано с прямой корреляцией между признаком `f2` и `product`."
   ]
  },
  {
   "cell_type": "markdown",
   "metadata": {},
   "source": [
    "### Сохранение предсказаний и таргетов"
   ]
  },
  {
   "cell_type": "markdown",
   "metadata": {},
   "source": [
    "Сохраним предсказанные значения и таргеты по скважинам из валидационной выборки в один датафрейм по кадому региону."
   ]
  },
  {
   "cell_type": "code",
   "execution_count": 33,
   "metadata": {},
   "outputs": [],
   "source": [
    "# Напишем собственную функцию для ускорения процесса\n",
    "def predictions_target_df(predictions, target):\n",
    "    '''\n",
    "    Возращает датафрейм с 2 столбцами\n",
    "    1 столбец - предсказания по модели\n",
    "    2 столбец - таргеты из target_valid\n",
    "    '''\n",
    "    predictions_target = pd.DataFrame(columns=['predictions', 'target'])\n",
    "    predictions_target['predictions'] = predictions\n",
    "    predictions_target['target'] = target\n",
    "    return predictions_target"
   ]
  },
  {
   "cell_type": "code",
   "execution_count": 34,
   "metadata": {},
   "outputs": [],
   "source": [
    "# Регион 1\n",
    "pred_target_loc_1 = predictions_target_df(predictions_loc_1, target_valid_loc_1)\n",
    "\n",
    "# Регион 2\n",
    "pred_target_loc_2 = predictions_target_df(predictions_loc_2, target_valid_loc_2)\n",
    "\n",
    "# Регион 3\n",
    "pred_target_loc_3 = predictions_target_df(predictions_loc_3, target_valid_loc_3)"
   ]
  },
  {
   "cell_type": "code",
   "execution_count": 35,
   "metadata": {},
   "outputs": [
    {
     "data": {
      "text/html": [
       "<div>\n",
       "<style scoped>\n",
       "    .dataframe tbody tr th:only-of-type {\n",
       "        vertical-align: middle;\n",
       "    }\n",
       "\n",
       "    .dataframe tbody tr th {\n",
       "        vertical-align: top;\n",
       "    }\n",
       "\n",
       "    .dataframe thead th {\n",
       "        text-align: right;\n",
       "    }\n",
       "</style>\n",
       "<table border=\"1\" class=\"dataframe\">\n",
       "  <thead>\n",
       "    <tr style=\"text-align: right;\">\n",
       "      <th></th>\n",
       "      <th>predictions</th>\n",
       "      <th>target</th>\n",
       "    </tr>\n",
       "  </thead>\n",
       "  <tbody>\n",
       "    <tr>\n",
       "      <th>42083</th>\n",
       "      <td>123.284256</td>\n",
       "      <td>145.825972</td>\n",
       "    </tr>\n",
       "    <tr>\n",
       "      <th>71825</th>\n",
       "      <td>75.838240</td>\n",
       "      <td>134.020212</td>\n",
       "    </tr>\n",
       "    <tr>\n",
       "      <th>99535</th>\n",
       "      <td>55.526760</td>\n",
       "      <td>88.905826</td>\n",
       "    </tr>\n",
       "    <tr>\n",
       "      <th>47879</th>\n",
       "      <td>86.673045</td>\n",
       "      <td>19.508226</td>\n",
       "    </tr>\n",
       "    <tr>\n",
       "      <th>36734</th>\n",
       "      <td>109.909327</td>\n",
       "      <td>108.713468</td>\n",
       "    </tr>\n",
       "    <tr>\n",
       "      <th>...</th>\n",
       "      <td>...</td>\n",
       "      <td>...</td>\n",
       "    </tr>\n",
       "    <tr>\n",
       "      <th>56405</th>\n",
       "      <td>89.708779</td>\n",
       "      <td>80.100250</td>\n",
       "    </tr>\n",
       "    <tr>\n",
       "      <th>50954</th>\n",
       "      <td>55.672078</td>\n",
       "      <td>47.345664</td>\n",
       "    </tr>\n",
       "    <tr>\n",
       "      <th>99121</th>\n",
       "      <td>139.042911</td>\n",
       "      <td>176.382705</td>\n",
       "    </tr>\n",
       "    <tr>\n",
       "      <th>4170</th>\n",
       "      <td>96.867927</td>\n",
       "      <td>140.334745</td>\n",
       "    </tr>\n",
       "    <tr>\n",
       "      <th>18144</th>\n",
       "      <td>54.714331</td>\n",
       "      <td>117.324049</td>\n",
       "    </tr>\n",
       "  </tbody>\n",
       "</table>\n",
       "<p>25000 rows × 2 columns</p>\n",
       "</div>"
      ],
      "text/plain": [
       "       predictions      target\n",
       "42083   123.284256  145.825972\n",
       "71825    75.838240  134.020212\n",
       "99535    55.526760   88.905826\n",
       "47879    86.673045   19.508226\n",
       "36734   109.909327  108.713468\n",
       "...            ...         ...\n",
       "56405    89.708779   80.100250\n",
       "50954    55.672078   47.345664\n",
       "99121   139.042911  176.382705\n",
       "4170     96.867927  140.334745\n",
       "18144    54.714331  117.324049\n",
       "\n",
       "[25000 rows x 2 columns]"
      ]
     },
     "execution_count": 35,
     "metadata": {},
     "output_type": "execute_result"
    }
   ],
   "source": [
    "# Проверим как сформировались датафреймы\n",
    "pred_target_loc_1"
   ]
  },
  {
   "cell_type": "markdown",
   "metadata": {},
   "source": [
    "## Подготовка к расчёту прибыли"
   ]
  },
  {
   "cell_type": "markdown",
   "metadata": {},
   "source": [
    "Экономические показатели разработки месторождения.\n",
    "- Бюджет на разработку месторождения 10_000_000_000 руб.\n",
    "- Количество скважин - 200 шт.\n",
    "- Доход с 1000 баррелей - 450_000 руб.\n",
    "- Пороговое значение вероятности убытков - 2.5%."
   ]
  },
  {
   "cell_type": "code",
   "execution_count": 36,
   "metadata": {},
   "outputs": [],
   "source": [
    "# Сохраним экономические показатели в переменных\n",
    "BUDJET = 10_000_000_000\n",
    "WELLS = 200\n",
    "INCOME_1000bbls = 450_000\n",
    "LOSS_PROB = 0.025"
   ]
  },
  {
   "cell_type": "code",
   "execution_count": 37,
   "metadata": {},
   "outputs": [
    {
     "data": {
      "text/plain": [
       "111.11111111111111"
      ]
     },
     "execution_count": 37,
     "metadata": {},
     "output_type": "execute_result"
    }
   ],
   "source": [
    "# Найдем минимальные запасы месторождения, для выхода в точку безубыточности при разработке\n",
    "min_reserves = BUDJET / (WELLS * INCOME_1000bbls)\n",
    "min_reserves"
   ]
  },
  {
   "cell_type": "markdown",
   "metadata": {},
   "source": [
    "Минимальные необходимые запасы для безубыточной разработки месторождения - 111.11 тыс.баррелей.\n",
    "\n",
    "Наиболее близкими средними запасами нефти являются запасы по скважинам из 3 региона - **95.1 тыс.баррелей**, далее идёт 1 регион со средними запасами **92.5. тыс.баррелей**, наименьшие средние запасы по 2 региону - **69.3 тыс.баррелей**."
   ]
  },
  {
   "cell_type": "markdown",
   "metadata": {},
   "source": [
    "## Расчёт прибыли и рисков "
   ]
  },
  {
   "cell_type": "markdown",
   "metadata": {},
   "source": [
    "### Подсчет максимально возможной прибыли"
   ]
  },
  {
   "cell_type": "code",
   "execution_count": 38,
   "metadata": {},
   "outputs": [],
   "source": [
    "# Напишем собственную функцию по расчету максимально возмодной прибыли для региона \n",
    "# при выборе самых продуктивных скважин\n",
    "def profit(pred_target):\n",
    "    best_200_pred_wells = pred_target.sort_values(by='predictions', ascending=False)[:200]\n",
    "    best_200_wells = best_200_pred_wells['target']\n",
    "    max_income = best_200_wells.sum() * INCOME_1000bbls - BUDJET\n",
    "    return max_income"
   ]
  },
  {
   "cell_type": "code",
   "execution_count": 39,
   "metadata": {},
   "outputs": [
    {
     "name": "stdout",
     "output_type": "stream",
     "text": [
      "Максимально возможная прибыль: 3534.67 млн.руб\n"
     ]
    }
   ],
   "source": [
    "# Расчитаем максиамльно возможную прибыль с Региона 1\n",
    "max_profit_loc_1 = profit(pred_target_loc_1)\n",
    "print(f'Максимально возможная прибыль: {(max_profit_loc_1/1_000_000).round(2)} млн.руб')"
   ]
  },
  {
   "cell_type": "code",
   "execution_count": 40,
   "metadata": {},
   "outputs": [
    {
     "name": "stdout",
     "output_type": "stream",
     "text": [
      "Максимально возможная прибыль: 2415.09 млн.руб\n"
     ]
    }
   ],
   "source": [
    "# Расчитаем максиамльно возможную прибыль с Региона 1\n",
    "max_profit_loc_2 = profit(pred_target_loc_2)\n",
    "print(f'Максимально возможная прибыль: {(max_profit_loc_2/1_000_000).round(2)} млн.руб')"
   ]
  },
  {
   "cell_type": "code",
   "execution_count": 41,
   "metadata": {},
   "outputs": [
    {
     "name": "stdout",
     "output_type": "stream",
     "text": [
      "Максимально возможная прибыль: 2370.34 млн.руб\n"
     ]
    }
   ],
   "source": [
    "# Расчитаем максиамльно возможную прибыль с Региона 1\n",
    "max_profit_loc_3 = profit(pred_target_loc_3)\n",
    "print(f'Максимально возможная прибыль: {(max_profit_loc_3/1_000_000).round(2)} млн.руб')"
   ]
  },
  {
   "cell_type": "markdown",
   "metadata": {},
   "source": [
    "### Расчет прибыли и рисков"
   ]
  },
  {
   "cell_type": "markdown",
   "metadata": {},
   "source": [
    "Найдем среднюю прибыли с разработки месторождений, посчитаем 95% доверительный инвервал прибыли с разработки месторождений на регионах, путем формирования 1000 выборок с помощью техники Bootstrap, так же посчитаем риск убытков."
   ]
  },
  {
   "cell_type": "code",
   "execution_count": 42,
   "metadata": {},
   "outputs": [],
   "source": [
    "state = RandomState(123)"
   ]
  },
  {
   "cell_type": "code",
   "execution_count": 43,
   "metadata": {},
   "outputs": [],
   "source": [
    "def probability_loss(pred_target):\n",
    "    values = []\n",
    "    for i in range(1000):\n",
    "        wells_500 = pred_target.sample(n=500,\n",
    "                                       random_state=state,\n",
    "                                       replace=True)\n",
    "        value = profit(wells_500)\n",
    "        values.append(value)\n",
    "        \n",
    "    print(f'''\n",
    "    Средняя прибыль: {(pd.Series(values).mean() / 1_000_000).round(2)} млн.руб.\n",
    "    95%-й доверительный интервал: {(pd.Series(values)\n",
    "    .quantile(0.025) / 1_000_000).round(2)} - {(pd.Series(values).quantile(0.975) / 1_000_000).round(2)} млн.руб.\n",
    "    Риск убытков: {(pd.Series(values) < 0).sum() / 1000 * 100}%.\n",
    "    ''')"
   ]
  },
  {
   "cell_type": "code",
   "execution_count": 44,
   "metadata": {
    "scrolled": true
   },
   "outputs": [
    {
     "name": "stdout",
     "output_type": "stream",
     "text": [
      "\n",
      "    Средняя прибыль: 477.42 млн.руб.\n",
      "    95%-й доверительный интервал: -57.99 - 974.82 млн.руб.\n",
      "    Риск убытков: 4.1000000000000005%.\n",
      "    \n"
     ]
    }
   ],
   "source": [
    "# Посчитаем прибыли и риски для Региона 1\n",
    "probability_loss(pred_target_loc_1)"
   ]
  },
  {
   "cell_type": "code",
   "execution_count": 45,
   "metadata": {},
   "outputs": [
    {
     "name": "stdout",
     "output_type": "stream",
     "text": [
      "\n",
      "    Средняя прибыль: 467.48 млн.руб.\n",
      "    95%-й доверительный интервал: 68.76 - 871.49 млн.руб.\n",
      "    Риск убытков: 1.0%.\n",
      "    \n"
     ]
    }
   ],
   "source": [
    "# Посчитаем прибыли и риски для Региона 2\n",
    "probability_loss(pred_target_loc_2)"
   ]
  },
  {
   "cell_type": "code",
   "execution_count": 46,
   "metadata": {},
   "outputs": [
    {
     "name": "stdout",
     "output_type": "stream",
     "text": [
      "\n",
      "    Средняя прибыль: 362.13 млн.руб.\n",
      "    95%-й доверительный интервал: -182.99 - 870.97 млн.руб.\n",
      "    Риск убытков: 8.9%.\n",
      "    \n"
     ]
    }
   ],
   "source": [
    "# Посчитаем прибыли и риски для Региона 3\n",
    "probability_loss(pred_target_loc_3)"
   ]
  },
  {
   "cell_type": "markdown",
   "metadata": {},
   "source": [
    "По результатам расчетов **наименьший риск потерь - 1%** при разработке **Региона 2**, средняя прибыль при этом 467.48 млн. руб (95% доверительный инвервал 68.76 - 871.49 млн.руб).\n",
    "\n",
    "Максимальный риск потерь - 8.9% при разработке Региона 3."
   ]
  },
  {
   "cell_type": "markdown",
   "metadata": {},
   "source": [
    "## Общий вывод\n",
    "\n",
    "В ходе выполнения проекта были выполенны следующие шаги:\n",
    "1. Подгрузка и изнакомление с данными:\n",
    " - Ознакомились с общей информацией по датасетам; \n",
    " - Посмотрели на корреляцию признаков;\n",
    " - Графически ознакомились с данными;\n",
    " - Подготовили данные для обучения модели машинного обучения (масштабирование, разделение датасетов на признаки и целевой признак, разделение датасетов на обучающие датасеты и валидационные).\n",
    "2. Обучена модель линейной регресии для каждого региона, и получили следущие результаты:\n",
    "    \n",
    "    1) Регион 1\n",
    "        - Средний запас предсказанного сырья: 92.54936189116309 - Наибольший показатель\n",
    "        - RMSE: 37.64786282376177\n",
    "    2) Регион 2\n",
    "        - Средний запас предсказанного сырья: 69.28001860653976\n",
    "        - RMSE: 0.8954139804944314 - Наилучший показатель\n",
    "    3) Регион 3\n",
    "        - Средний запас предсказанного сырья: 95.09859933591373\n",
    "        - RMSE: 40.12803006598514\n",
    "3. Нашли минимальный средний объем запасов по каждой из 200 скважин для выхода в точку безубыточности, который составил 111.11 тыс.баррелей.\n",
    "4. Расчитали прибыли и риски по каждому региону.\n",
    "\n",
    "После проведенной работы для разработки нефтяных месторождений рекомендуется выбрать **Регион 2**, в связи с **минимальным риском потерь при разработке (1 %)**, по сравнению с Регионом 1 (4.1% риска потерь) и Регионом 3 (8.9% риска потерь).\n",
    "\n",
    "Максимально возможная прибыль при разрабоке (в случае бурения наиболее продуктивных скважин) Региона 2 составляет - 2.415 млрд.руб.\n",
    "\n",
    "Средняя прибыль при разработке Региона 2 составляет 467.48 млн.руб. 95% доверительный интервал при этом: 68.76 - 871.49 млн.руб."
   ]
  }
 ],
 "metadata": {
  "ExecuteTimeLog": [
   {
    "duration": 808,
    "start_time": "2023-04-07T22:24:16.729Z"
   },
   {
    "duration": 1276,
    "start_time": "2023-04-07T22:26:22.766Z"
   },
   {
    "duration": 400,
    "start_time": "2023-04-07T22:26:41.532Z"
   },
   {
    "duration": 416,
    "start_time": "2023-04-07T22:26:45.706Z"
   },
   {
    "duration": 382,
    "start_time": "2023-04-07T22:26:58.525Z"
   },
   {
    "duration": 384,
    "start_time": "2023-04-07T22:27:22.774Z"
   },
   {
    "duration": 16,
    "start_time": "2023-04-07T22:30:31.986Z"
   },
   {
    "duration": 25,
    "start_time": "2023-04-07T22:30:54.146Z"
   },
   {
    "duration": 36,
    "start_time": "2023-04-07T22:31:09.585Z"
   },
   {
    "duration": 1911,
    "start_time": "2023-04-08T10:41:26.669Z"
   },
   {
    "duration": 82,
    "start_time": "2023-04-08T10:41:30.744Z"
   },
   {
    "duration": 43,
    "start_time": "2023-04-08T10:41:37.518Z"
   },
   {
    "duration": 40,
    "start_time": "2023-04-08T10:41:39.777Z"
   },
   {
    "duration": 387,
    "start_time": "2023-04-08T11:23:30.461Z"
   },
   {
    "duration": 36,
    "start_time": "2023-04-08T11:23:31.102Z"
   },
   {
    "duration": 383,
    "start_time": "2023-04-08T11:23:34.064Z"
   },
   {
    "duration": 40,
    "start_time": "2023-04-08T11:23:35.055Z"
   },
   {
    "duration": 11,
    "start_time": "2023-04-08T11:23:51.957Z"
   },
   {
    "duration": 46,
    "start_time": "2023-04-08T11:23:53.870Z"
   },
   {
    "duration": 39,
    "start_time": "2023-04-08T11:23:58.937Z"
   },
   {
    "duration": 38,
    "start_time": "2023-04-08T11:24:14.576Z"
   },
   {
    "duration": 8,
    "start_time": "2023-04-08T11:24:30.590Z"
   },
   {
    "duration": 48,
    "start_time": "2023-04-08T11:24:41.477Z"
   },
   {
    "duration": 1849,
    "start_time": "2023-04-09T17:18:04.556Z"
   },
   {
    "duration": 589,
    "start_time": "2023-04-09T17:48:19.429Z"
   },
   {
    "duration": 396,
    "start_time": "2023-04-09T17:48:20.769Z"
   },
   {
    "duration": 353,
    "start_time": "2023-04-09T17:50:55.804Z"
   },
   {
    "duration": 24,
    "start_time": "2023-04-09T17:52:07.546Z"
   },
   {
    "duration": 50,
    "start_time": "2023-04-09T18:01:58.809Z"
   },
   {
    "duration": 45,
    "start_time": "2023-04-09T18:07:35.627Z"
   },
   {
    "duration": 70,
    "start_time": "2023-04-09T18:07:51.342Z"
   },
   {
    "duration": 35,
    "start_time": "2023-04-09T18:07:56.312Z"
   },
   {
    "duration": 130,
    "start_time": "2023-04-09T18:08:00.212Z"
   },
   {
    "duration": 33,
    "start_time": "2023-04-09T18:08:04.412Z"
   },
   {
    "duration": 86,
    "start_time": "2023-04-09T18:08:16.471Z"
   },
   {
    "duration": 37,
    "start_time": "2023-04-09T18:08:18.742Z"
   },
   {
    "duration": 90,
    "start_time": "2023-04-09T18:08:44.336Z"
   },
   {
    "duration": 93,
    "start_time": "2023-04-09T18:08:47.178Z"
   },
   {
    "duration": 93,
    "start_time": "2023-04-09T18:08:52.749Z"
   },
   {
    "duration": 33,
    "start_time": "2023-04-09T18:09:05.302Z"
   },
   {
    "duration": 33,
    "start_time": "2023-04-09T18:09:08.047Z"
   },
   {
    "duration": 45,
    "start_time": "2023-04-09T18:09:27.092Z"
   },
   {
    "duration": 162,
    "start_time": "2023-04-09T18:09:46.306Z"
   },
   {
    "duration": 119,
    "start_time": "2023-04-09T18:09:49.550Z"
   },
   {
    "duration": 43,
    "start_time": "2023-04-09T18:10:00.860Z"
   },
   {
    "duration": 112,
    "start_time": "2023-04-09T18:10:15.158Z"
   },
   {
    "duration": 83,
    "start_time": "2023-04-09T18:10:26.742Z"
   },
   {
    "duration": 115,
    "start_time": "2023-04-09T18:10:31.252Z"
   },
   {
    "duration": 124,
    "start_time": "2023-04-09T18:11:44.879Z"
   },
   {
    "duration": 116,
    "start_time": "2023-04-09T18:11:51.132Z"
   },
   {
    "duration": 95,
    "start_time": "2023-04-09T18:11:56.512Z"
   },
   {
    "duration": 87,
    "start_time": "2023-04-09T18:12:13.868Z"
   },
   {
    "duration": 110,
    "start_time": "2023-04-09T18:12:20.903Z"
   },
   {
    "duration": 114,
    "start_time": "2023-04-09T18:12:32.078Z"
   },
   {
    "duration": 133,
    "start_time": "2023-04-09T18:12:34.756Z"
   },
   {
    "duration": 9,
    "start_time": "2023-04-09T18:12:48.582Z"
   },
   {
    "duration": 3,
    "start_time": "2023-04-09T18:12:53.901Z"
   },
   {
    "duration": 112,
    "start_time": "2023-04-09T18:13:00.164Z"
   },
   {
    "duration": 20,
    "start_time": "2023-04-09T18:14:02.974Z"
   },
   {
    "duration": 90,
    "start_time": "2023-04-09T18:14:53.289Z"
   },
   {
    "duration": 12,
    "start_time": "2023-04-09T18:14:58.159Z"
   },
   {
    "duration": 19,
    "start_time": "2023-04-09T18:15:02.787Z"
   },
   {
    "duration": 9,
    "start_time": "2023-04-09T18:15:24.984Z"
   },
   {
    "duration": 9,
    "start_time": "2023-04-09T18:15:30.549Z"
   },
   {
    "duration": 9,
    "start_time": "2023-04-09T18:16:21.458Z"
   },
   {
    "duration": 9,
    "start_time": "2023-04-09T18:16:36.439Z"
   },
   {
    "duration": 11,
    "start_time": "2023-04-09T18:16:45.433Z"
   },
   {
    "duration": 11,
    "start_time": "2023-04-09T18:16:56.507Z"
   },
   {
    "duration": 83,
    "start_time": "2023-04-09T18:17:21.227Z"
   },
   {
    "duration": 88,
    "start_time": "2023-04-09T18:17:26.691Z"
   },
   {
    "duration": 126,
    "start_time": "2023-04-09T18:17:31.834Z"
   },
   {
    "duration": 3,
    "start_time": "2023-04-09T18:17:34.354Z"
   },
   {
    "duration": 11,
    "start_time": "2023-04-09T18:17:42.120Z"
   },
   {
    "duration": 26,
    "start_time": "2023-04-09T18:18:04.554Z"
   },
   {
    "duration": 25,
    "start_time": "2023-04-09T18:18:25.693Z"
   },
   {
    "duration": 117,
    "start_time": "2023-04-09T18:18:38.946Z"
   },
   {
    "duration": 23,
    "start_time": "2023-04-09T18:18:45.513Z"
   },
   {
    "duration": 23,
    "start_time": "2023-04-09T18:18:49.589Z"
   },
   {
    "duration": 22,
    "start_time": "2023-04-09T18:19:03.119Z"
   },
   {
    "duration": 25,
    "start_time": "2023-04-09T18:19:24.479Z"
   },
   {
    "duration": 36,
    "start_time": "2023-04-09T18:19:33.970Z"
   },
   {
    "duration": 15,
    "start_time": "2023-04-09T18:19:48.275Z"
   },
   {
    "duration": 44,
    "start_time": "2023-04-09T18:20:01.363Z"
   },
   {
    "duration": 14,
    "start_time": "2023-04-09T18:20:39.207Z"
   },
   {
    "duration": 21,
    "start_time": "2023-04-09T18:20:47.883Z"
   },
   {
    "duration": 46,
    "start_time": "2023-04-09T18:20:52.980Z"
   },
   {
    "duration": 4,
    "start_time": "2023-04-09T18:21:04.244Z"
   },
   {
    "duration": 44,
    "start_time": "2023-04-09T18:21:07.453Z"
   },
   {
    "duration": 45,
    "start_time": "2023-04-09T18:21:12.811Z"
   },
   {
    "duration": 45,
    "start_time": "2023-04-09T18:21:18.195Z"
   },
   {
    "duration": 84,
    "start_time": "2023-04-09T18:21:36.574Z"
   },
   {
    "duration": 78,
    "start_time": "2023-04-09T18:21:53.061Z"
   },
   {
    "duration": 37,
    "start_time": "2023-04-09T18:21:57.541Z"
   },
   {
    "duration": 13,
    "start_time": "2023-04-09T18:25:55.268Z"
   },
   {
    "duration": 63,
    "start_time": "2023-04-09T18:26:14.951Z"
   },
   {
    "duration": 35,
    "start_time": "2023-04-09T18:26:25.385Z"
   },
   {
    "duration": 60,
    "start_time": "2023-04-09T18:26:30.411Z"
   },
   {
    "duration": 61,
    "start_time": "2023-04-09T18:26:38.392Z"
   },
   {
    "duration": 48,
    "start_time": "2023-04-09T18:27:02.506Z"
   },
   {
    "duration": 43,
    "start_time": "2023-04-09T18:27:40.248Z"
   },
   {
    "duration": 2,
    "start_time": "2023-04-09T18:28:30.254Z"
   },
   {
    "duration": 115,
    "start_time": "2023-04-09T18:29:36.305Z"
   },
   {
    "duration": 122,
    "start_time": "2023-04-09T18:30:10.215Z"
   },
   {
    "duration": 9,
    "start_time": "2023-04-09T18:30:16.854Z"
   },
   {
    "duration": 9,
    "start_time": "2023-04-09T18:30:20.349Z"
   },
   {
    "duration": 34,
    "start_time": "2023-04-09T18:30:31.841Z"
   },
   {
    "duration": 9,
    "start_time": "2023-04-09T18:30:45.536Z"
   },
   {
    "duration": 18,
    "start_time": "2023-04-09T18:31:04.248Z"
   },
   {
    "duration": 17,
    "start_time": "2023-04-09T18:31:07.668Z"
   },
   {
    "duration": 13,
    "start_time": "2023-04-09T18:31:35.913Z"
   },
   {
    "duration": 74,
    "start_time": "2023-04-09T18:31:39.077Z"
   },
   {
    "duration": 14,
    "start_time": "2023-04-09T18:31:42.866Z"
   },
   {
    "duration": 43,
    "start_time": "2023-04-09T18:31:45.797Z"
   },
   {
    "duration": 133,
    "start_time": "2023-04-09T18:32:10.108Z"
   },
   {
    "duration": 41,
    "start_time": "2023-04-09T18:32:13.123Z"
   },
   {
    "duration": 113,
    "start_time": "2023-04-09T18:33:23.939Z"
   },
   {
    "duration": 15,
    "start_time": "2023-04-09T19:08:17.194Z"
   },
   {
    "duration": 314,
    "start_time": "2023-04-09T19:08:29.636Z"
   },
   {
    "duration": 3,
    "start_time": "2023-04-09T19:11:01.191Z"
   },
   {
    "duration": 3,
    "start_time": "2023-04-09T19:11:17.587Z"
   },
   {
    "duration": 277,
    "start_time": "2023-04-09T19:11:23.689Z"
   },
   {
    "duration": 3,
    "start_time": "2023-04-09T19:12:41.026Z"
   },
   {
    "duration": 299,
    "start_time": "2023-04-09T19:12:43.766Z"
   },
   {
    "duration": 3,
    "start_time": "2023-04-09T19:13:22.164Z"
   },
   {
    "duration": 332,
    "start_time": "2023-04-09T19:13:22.719Z"
   },
   {
    "duration": 3,
    "start_time": "2023-04-09T19:13:42.132Z"
   },
   {
    "duration": 29,
    "start_time": "2023-04-09T19:13:43.277Z"
   },
   {
    "duration": 3,
    "start_time": "2023-04-09T19:13:56.889Z"
   },
   {
    "duration": 325,
    "start_time": "2023-04-09T19:13:59.924Z"
   },
   {
    "duration": 3,
    "start_time": "2023-04-09T19:14:04.857Z"
   },
   {
    "duration": 35,
    "start_time": "2023-04-09T19:14:07.575Z"
   },
   {
    "duration": 3,
    "start_time": "2023-04-09T19:14:24.181Z"
   },
   {
    "duration": 285,
    "start_time": "2023-04-09T19:14:25.389Z"
   },
   {
    "duration": 3,
    "start_time": "2023-04-09T19:14:31.920Z"
   },
   {
    "duration": 28,
    "start_time": "2023-04-09T19:14:33.092Z"
   },
   {
    "duration": 4,
    "start_time": "2023-04-09T19:14:34.643Z"
   },
   {
    "duration": 280,
    "start_time": "2023-04-09T19:14:35.783Z"
   },
   {
    "duration": 4,
    "start_time": "2023-04-09T19:14:39.888Z"
   },
   {
    "duration": 25,
    "start_time": "2023-04-09T19:14:41.166Z"
   },
   {
    "duration": 3,
    "start_time": "2023-04-09T19:15:09.415Z"
   },
   {
    "duration": 310,
    "start_time": "2023-04-09T19:15:10.039Z"
   },
   {
    "duration": 3,
    "start_time": "2023-04-09T19:15:16.734Z"
   },
   {
    "duration": 3,
    "start_time": "2023-04-09T19:15:18.464Z"
   },
   {
    "duration": 303,
    "start_time": "2023-04-09T19:15:18.749Z"
   },
   {
    "duration": 3,
    "start_time": "2023-04-09T19:15:48.027Z"
   },
   {
    "duration": 481,
    "start_time": "2023-04-09T19:15:49.092Z"
   },
   {
    "duration": 3,
    "start_time": "2023-04-09T19:15:53.430Z"
   },
   {
    "duration": 362,
    "start_time": "2023-04-09T19:15:54.689Z"
   },
   {
    "duration": 7,
    "start_time": "2023-04-09T19:16:00.624Z"
   },
   {
    "duration": 29,
    "start_time": "2023-04-09T19:16:01.488Z"
   },
   {
    "duration": 3,
    "start_time": "2023-04-09T19:16:04.094Z"
   },
   {
    "duration": 31,
    "start_time": "2023-04-09T19:16:05.144Z"
   },
   {
    "duration": 3,
    "start_time": "2023-04-09T19:16:13.460Z"
   },
   {
    "duration": 325,
    "start_time": "2023-04-09T19:16:14.580Z"
   },
   {
    "duration": 3,
    "start_time": "2023-04-09T19:16:19.764Z"
   },
   {
    "duration": 322,
    "start_time": "2023-04-09T19:16:20.314Z"
   },
   {
    "duration": 5,
    "start_time": "2023-04-09T19:16:26.837Z"
   },
   {
    "duration": 274,
    "start_time": "2023-04-09T19:16:27.780Z"
   },
   {
    "duration": 3,
    "start_time": "2023-04-09T19:16:31.413Z"
   },
   {
    "duration": 322,
    "start_time": "2023-04-09T19:16:32.208Z"
   },
   {
    "duration": 5,
    "start_time": "2023-04-09T19:16:37.096Z"
   },
   {
    "duration": 28,
    "start_time": "2023-04-09T19:16:37.607Z"
   },
   {
    "duration": 3,
    "start_time": "2023-04-09T19:16:50.315Z"
   },
   {
    "duration": 318,
    "start_time": "2023-04-09T19:16:50.776Z"
   },
   {
    "duration": 4,
    "start_time": "2023-04-09T19:16:55.757Z"
   },
   {
    "duration": 32,
    "start_time": "2023-04-09T19:16:56.104Z"
   },
   {
    "duration": 3,
    "start_time": "2023-04-09T19:16:58.939Z"
   },
   {
    "duration": 304,
    "start_time": "2023-04-09T19:16:59.291Z"
   },
   {
    "duration": 4,
    "start_time": "2023-04-09T19:17:03.283Z"
   },
   {
    "duration": 297,
    "start_time": "2023-04-09T19:17:03.567Z"
   },
   {
    "duration": 3,
    "start_time": "2023-04-09T19:17:10.328Z"
   },
   {
    "duration": 390,
    "start_time": "2023-04-09T19:17:10.720Z"
   },
   {
    "duration": 4,
    "start_time": "2023-04-09T19:18:30.727Z"
   },
   {
    "duration": 315,
    "start_time": "2023-04-09T19:18:31.836Z"
   },
   {
    "duration": 3,
    "start_time": "2023-04-09T19:18:38.041Z"
   },
   {
    "duration": 264,
    "start_time": "2023-04-09T19:18:38.465Z"
   },
   {
    "duration": 3,
    "start_time": "2023-04-09T19:18:44.232Z"
   },
   {
    "duration": 280,
    "start_time": "2023-04-09T19:18:45.171Z"
   },
   {
    "duration": 3,
    "start_time": "2023-04-09T19:22:10.129Z"
   },
   {
    "duration": 26,
    "start_time": "2023-04-09T19:22:10.365Z"
   },
   {
    "duration": 3,
    "start_time": "2023-04-09T19:22:15.925Z"
   },
   {
    "duration": 323,
    "start_time": "2023-04-09T19:22:16.197Z"
   },
   {
    "duration": 4,
    "start_time": "2023-04-09T19:22:28.461Z"
   },
   {
    "duration": 315,
    "start_time": "2023-04-09T19:22:28.761Z"
   },
   {
    "duration": 3,
    "start_time": "2023-04-09T19:22:45.078Z"
   },
   {
    "duration": 305,
    "start_time": "2023-04-09T19:22:45.561Z"
   },
   {
    "duration": 3,
    "start_time": "2023-04-09T19:23:18.804Z"
   },
   {
    "duration": 39,
    "start_time": "2023-04-09T19:23:19.043Z"
   },
   {
    "duration": 3,
    "start_time": "2023-04-09T19:23:34.933Z"
   },
   {
    "duration": 542,
    "start_time": "2023-04-09T19:23:35.412Z"
   },
   {
    "duration": 3,
    "start_time": "2023-04-09T19:23:49.678Z"
   },
   {
    "duration": 25,
    "start_time": "2023-04-09T19:23:49.917Z"
   },
   {
    "duration": 3,
    "start_time": "2023-04-09T19:24:03.110Z"
   },
   {
    "duration": 308,
    "start_time": "2023-04-09T19:24:04.230Z"
   },
   {
    "duration": 4,
    "start_time": "2023-04-09T19:24:12.344Z"
   },
   {
    "duration": 312,
    "start_time": "2023-04-09T19:24:13.001Z"
   },
   {
    "duration": 3,
    "start_time": "2023-04-09T19:24:22.575Z"
   },
   {
    "duration": 25,
    "start_time": "2023-04-09T19:24:22.946Z"
   },
   {
    "duration": 4,
    "start_time": "2023-04-09T19:24:24.942Z"
   },
   {
    "duration": 35,
    "start_time": "2023-04-09T19:24:26.047Z"
   },
   {
    "duration": 3,
    "start_time": "2023-04-09T19:24:30.960Z"
   },
   {
    "duration": 26,
    "start_time": "2023-04-09T19:24:31.330Z"
   },
   {
    "duration": 4,
    "start_time": "2023-04-09T19:24:34.152Z"
   },
   {
    "duration": 356,
    "start_time": "2023-04-09T19:24:34.412Z"
   },
   {
    "duration": 3,
    "start_time": "2023-04-09T19:24:41.993Z"
   },
   {
    "duration": 278,
    "start_time": "2023-04-09T19:24:42.288Z"
   },
   {
    "duration": 3,
    "start_time": "2023-04-09T19:24:46.488Z"
   },
   {
    "duration": 298,
    "start_time": "2023-04-09T19:24:46.753Z"
   },
   {
    "duration": 4,
    "start_time": "2023-04-09T19:24:51.609Z"
   },
   {
    "duration": 301,
    "start_time": "2023-04-09T19:24:51.859Z"
   },
   {
    "duration": 3,
    "start_time": "2023-04-09T19:25:14.215Z"
   },
   {
    "duration": 314,
    "start_time": "2023-04-09T19:25:14.467Z"
   },
   {
    "duration": 3,
    "start_time": "2023-04-09T19:25:19.890Z"
   },
   {
    "duration": 27,
    "start_time": "2023-04-09T19:25:20.549Z"
   },
   {
    "duration": 3,
    "start_time": "2023-04-09T19:25:42.718Z"
   },
   {
    "duration": 299,
    "start_time": "2023-04-09T19:25:42.957Z"
   },
   {
    "duration": 4,
    "start_time": "2023-04-09T19:25:47.992Z"
   },
   {
    "duration": 27,
    "start_time": "2023-04-09T19:25:48.373Z"
   },
   {
    "duration": 2,
    "start_time": "2023-04-09T19:26:00.315Z"
   },
   {
    "duration": 338,
    "start_time": "2023-04-09T19:26:00.627Z"
   },
   {
    "duration": 3,
    "start_time": "2023-04-09T19:26:06.350Z"
   },
   {
    "duration": 296,
    "start_time": "2023-04-09T19:26:06.594Z"
   },
   {
    "duration": 3,
    "start_time": "2023-04-09T19:26:15.684Z"
   },
   {
    "duration": 270,
    "start_time": "2023-04-09T19:26:15.881Z"
   },
   {
    "duration": 5,
    "start_time": "2023-04-09T19:26:23.344Z"
   },
   {
    "duration": 25,
    "start_time": "2023-04-09T19:26:23.723Z"
   },
   {
    "duration": 3,
    "start_time": "2023-04-09T19:26:34.926Z"
   },
   {
    "duration": 287,
    "start_time": "2023-04-09T19:26:35.155Z"
   },
   {
    "duration": 4,
    "start_time": "2023-04-09T19:26:39.705Z"
   },
   {
    "duration": 269,
    "start_time": "2023-04-09T19:26:39.982Z"
   },
   {
    "duration": 3,
    "start_time": "2023-04-09T19:27:06.471Z"
   },
   {
    "duration": 139,
    "start_time": "2023-04-09T19:27:06.750Z"
   },
   {
    "duration": 4,
    "start_time": "2023-04-09T19:27:24.672Z"
   },
   {
    "duration": 337,
    "start_time": "2023-04-09T19:27:24.904Z"
   },
   {
    "duration": 3,
    "start_time": "2023-04-09T19:27:36.098Z"
   },
   {
    "duration": 292,
    "start_time": "2023-04-09T19:27:36.369Z"
   },
   {
    "duration": 3,
    "start_time": "2023-04-09T19:27:48.529Z"
   },
   {
    "duration": 336,
    "start_time": "2023-04-09T19:27:49.116Z"
   },
   {
    "duration": 77,
    "start_time": "2023-04-09T19:27:55.185Z"
   },
   {
    "duration": 3,
    "start_time": "2023-04-09T19:27:57.854Z"
   },
   {
    "duration": 14,
    "start_time": "2023-04-09T19:27:58.348Z"
   },
   {
    "duration": 3,
    "start_time": "2023-04-09T19:28:01.328Z"
   },
   {
    "duration": 322,
    "start_time": "2023-04-09T19:28:01.702Z"
   },
   {
    "duration": 3,
    "start_time": "2023-04-09T19:28:56.531Z"
   },
   {
    "duration": 4,
    "start_time": "2023-04-09T19:28:59.650Z"
   },
   {
    "duration": 297,
    "start_time": "2023-04-09T19:29:01.057Z"
   },
   {
    "duration": 3,
    "start_time": "2023-04-09T19:29:46.728Z"
   },
   {
    "duration": 335,
    "start_time": "2023-04-09T19:29:47.003Z"
   },
   {
    "duration": 333,
    "start_time": "2023-04-09T19:30:36.480Z"
   },
   {
    "duration": 324,
    "start_time": "2023-04-09T19:30:54.210Z"
   },
   {
    "duration": 311,
    "start_time": "2023-04-09T19:31:27.711Z"
   },
   {
    "duration": 326,
    "start_time": "2023-04-09T19:31:38.911Z"
   },
   {
    "duration": 1647,
    "start_time": "2023-04-09T19:34:09.339Z"
   },
   {
    "duration": 14,
    "start_time": "2023-04-09T19:34:21.625Z"
   },
   {
    "duration": 9,
    "start_time": "2023-04-09T19:34:25.593Z"
   },
   {
    "duration": 9,
    "start_time": "2023-04-09T19:34:31.000Z"
   },
   {
    "duration": 1606,
    "start_time": "2023-04-09T19:34:36.316Z"
   },
   {
    "duration": 17,
    "start_time": "2023-04-09T19:34:44.695Z"
   },
   {
    "duration": 247,
    "start_time": "2023-04-09T19:34:52.817Z"
   },
   {
    "duration": 9,
    "start_time": "2023-04-09T19:35:07.730Z"
   },
   {
    "duration": 312,
    "start_time": "2023-04-09T19:37:00.208Z"
   },
   {
    "duration": 473,
    "start_time": "2023-04-09T19:37:05.569Z"
   },
   {
    "duration": 3148,
    "start_time": "2023-04-09T19:37:49.881Z"
   },
   {
    "duration": 293,
    "start_time": "2023-04-09T19:38:04.302Z"
   },
   {
    "duration": 285,
    "start_time": "2023-04-09T19:38:11.737Z"
   },
   {
    "duration": 288,
    "start_time": "2023-04-09T19:38:14.119Z"
   },
   {
    "duration": 282,
    "start_time": "2023-04-09T19:38:55.981Z"
   },
   {
    "duration": 290,
    "start_time": "2023-04-09T19:39:00.441Z"
   },
   {
    "duration": 4,
    "start_time": "2023-04-09T19:39:37.088Z"
   },
   {
    "duration": 361,
    "start_time": "2023-04-09T19:39:37.698Z"
   },
   {
    "duration": 2,
    "start_time": "2023-04-09T19:39:38.092Z"
   },
   {
    "duration": 21,
    "start_time": "2023-04-09T19:39:39.377Z"
   },
   {
    "duration": 57,
    "start_time": "2023-04-09T19:39:42.361Z"
   },
   {
    "duration": 61,
    "start_time": "2023-04-09T19:39:43.995Z"
   },
   {
    "duration": 63,
    "start_time": "2023-04-09T19:39:48.492Z"
   },
   {
    "duration": 124,
    "start_time": "2023-04-09T19:39:50.291Z"
   },
   {
    "duration": 4,
    "start_time": "2023-04-09T19:39:52.527Z"
   },
   {
    "duration": 314,
    "start_time": "2023-04-09T19:39:54.764Z"
   },
   {
    "duration": 297,
    "start_time": "2023-04-09T19:39:56.374Z"
   },
   {
    "duration": 334,
    "start_time": "2023-04-09T19:39:59.921Z"
   },
   {
    "duration": 292,
    "start_time": "2023-04-09T19:40:07.023Z"
   },
   {
    "duration": 299,
    "start_time": "2023-04-09T19:40:12.971Z"
   },
   {
    "duration": 285,
    "start_time": "2023-04-09T19:40:17.800Z"
   },
   {
    "duration": 298,
    "start_time": "2023-04-09T19:40:22.047Z"
   },
   {
    "duration": 9,
    "start_time": "2023-04-09T19:40:24.802Z"
   },
   {
    "duration": 292,
    "start_time": "2023-04-09T19:40:27.172Z"
   },
   {
    "duration": 315,
    "start_time": "2023-04-09T19:40:41.653Z"
   },
   {
    "duration": 306,
    "start_time": "2023-04-09T19:41:07.886Z"
   },
   {
    "duration": 1182,
    "start_time": "2023-04-09T19:41:54.404Z"
   },
   {
    "duration": 892,
    "start_time": "2023-04-09T19:41:58.193Z"
   },
   {
    "duration": 6,
    "start_time": "2023-04-09T19:42:34.113Z"
   },
   {
    "duration": 320,
    "start_time": "2023-04-09T19:42:45.741Z"
   },
   {
    "duration": 75,
    "start_time": "2023-04-09T19:42:54.262Z"
   },
   {
    "duration": 311,
    "start_time": "2023-04-09T19:42:58.553Z"
   },
   {
    "duration": 322,
    "start_time": "2023-04-09T19:43:01.319Z"
   },
   {
    "duration": 329,
    "start_time": "2023-04-09T19:43:04.003Z"
   },
   {
    "duration": 552,
    "start_time": "2023-04-09T19:43:06.183Z"
   },
   {
    "duration": 153,
    "start_time": "2023-04-09T19:43:31.447Z"
   },
   {
    "duration": 168,
    "start_time": "2023-04-09T19:44:01.130Z"
   },
   {
    "duration": 160,
    "start_time": "2023-04-09T19:45:40.578Z"
   },
   {
    "duration": 0,
    "start_time": "2023-04-09T19:47:21.804Z"
   },
   {
    "duration": 0,
    "start_time": "2023-04-09T19:47:21.805Z"
   },
   {
    "duration": 494,
    "start_time": "2023-04-09T19:47:24.400Z"
   },
   {
    "duration": 365,
    "start_time": "2023-04-09T19:47:29.012Z"
   },
   {
    "duration": 182,
    "start_time": "2023-04-09T19:48:17.984Z"
   },
   {
    "duration": 289,
    "start_time": "2023-04-09T19:48:38.026Z"
   },
   {
    "duration": 172,
    "start_time": "2023-04-09T19:48:53.202Z"
   },
   {
    "duration": 170,
    "start_time": "2023-04-09T19:49:24.762Z"
   },
   {
    "duration": 181,
    "start_time": "2023-04-09T19:49:28.045Z"
   },
   {
    "duration": 190,
    "start_time": "2023-04-09T19:49:33.177Z"
   },
   {
    "duration": 181,
    "start_time": "2023-04-09T19:50:10.964Z"
   },
   {
    "duration": 164,
    "start_time": "2023-04-09T19:50:18.624Z"
   },
   {
    "duration": 165,
    "start_time": "2023-04-09T19:50:26.146Z"
   },
   {
    "duration": 109,
    "start_time": "2023-04-09T19:51:00.713Z"
   },
   {
    "duration": 5,
    "start_time": "2023-04-09T19:51:06.548Z"
   },
   {
    "duration": 4,
    "start_time": "2023-04-09T19:51:14.792Z"
   },
   {
    "duration": 161,
    "start_time": "2023-04-09T19:51:23.142Z"
   },
   {
    "duration": 189,
    "start_time": "2023-04-09T19:51:33.026Z"
   },
   {
    "duration": 168,
    "start_time": "2023-04-09T19:51:47.409Z"
   },
   {
    "duration": 4,
    "start_time": "2023-04-09T19:53:17.033Z"
   },
   {
    "duration": 10,
    "start_time": "2023-04-09T19:53:17.667Z"
   },
   {
    "duration": 128,
    "start_time": "2023-04-09T19:53:28.340Z"
   },
   {
    "duration": 124,
    "start_time": "2023-04-09T19:53:31.667Z"
   },
   {
    "duration": 4,
    "start_time": "2023-04-09T19:53:43.093Z"
   },
   {
    "duration": 385,
    "start_time": "2023-04-09T19:53:44.303Z"
   },
   {
    "duration": 338,
    "start_time": "2023-04-09T19:53:54.939Z"
   },
   {
    "duration": 5,
    "start_time": "2023-04-09T19:54:11.413Z"
   },
   {
    "duration": 320,
    "start_time": "2023-04-09T19:54:11.849Z"
   },
   {
    "duration": 4,
    "start_time": "2023-04-09T19:54:16.890Z"
   },
   {
    "duration": 311,
    "start_time": "2023-04-09T19:54:17.161Z"
   },
   {
    "duration": 3,
    "start_time": "2023-04-09T19:54:21.871Z"
   },
   {
    "duration": 310,
    "start_time": "2023-04-09T19:54:22.297Z"
   },
   {
    "duration": 314,
    "start_time": "2023-04-09T19:54:45.541Z"
   },
   {
    "duration": 317,
    "start_time": "2023-04-09T19:55:00.162Z"
   },
   {
    "duration": 308,
    "start_time": "2023-04-09T19:55:21.579Z"
   },
   {
    "duration": 292,
    "start_time": "2023-04-09T19:55:23.871Z"
   },
   {
    "duration": 311,
    "start_time": "2023-04-09T19:55:26.262Z"
   },
   {
    "duration": 4,
    "start_time": "2023-04-09T19:56:12.419Z"
   },
   {
    "duration": 147,
    "start_time": "2023-04-09T19:56:12.798Z"
   },
   {
    "duration": 153,
    "start_time": "2023-04-09T19:56:13.365Z"
   },
   {
    "duration": 155,
    "start_time": "2023-04-09T19:56:13.641Z"
   },
   {
    "duration": 810,
    "start_time": "2023-04-09T19:59:20.426Z"
   },
   {
    "duration": 618,
    "start_time": "2023-04-09T19:59:52.561Z"
   },
   {
    "duration": 321,
    "start_time": "2023-04-09T20:00:01.377Z"
   },
   {
    "duration": 295,
    "start_time": "2023-04-09T20:00:08.570Z"
   },
   {
    "duration": 405,
    "start_time": "2023-04-09T20:00:17.377Z"
   },
   {
    "duration": 4854,
    "start_time": "2023-04-09T20:00:25.300Z"
   },
   {
    "duration": 597,
    "start_time": "2023-04-09T20:00:32.653Z"
   },
   {
    "duration": 541,
    "start_time": "2023-04-09T20:00:44.772Z"
   },
   {
    "duration": 492,
    "start_time": "2023-04-09T20:00:48.121Z"
   },
   {
    "duration": 798,
    "start_time": "2023-04-09T20:00:52.630Z"
   },
   {
    "duration": 487,
    "start_time": "2023-04-09T20:00:54.910Z"
   },
   {
    "duration": 439,
    "start_time": "2023-04-09T20:00:57.303Z"
   },
   {
    "duration": 476,
    "start_time": "2023-04-09T20:01:11.637Z"
   },
   {
    "duration": 445,
    "start_time": "2023-04-09T20:01:18.404Z"
   },
   {
    "duration": 885,
    "start_time": "2023-04-09T20:01:28.416Z"
   },
   {
    "duration": 668,
    "start_time": "2023-04-09T20:02:05.215Z"
   },
   {
    "duration": 748,
    "start_time": "2023-04-09T20:02:14.585Z"
   },
   {
    "duration": 985,
    "start_time": "2023-04-09T20:02:20.344Z"
   },
   {
    "duration": 760,
    "start_time": "2023-04-09T20:02:25.572Z"
   },
   {
    "duration": 178,
    "start_time": "2023-04-09T20:03:23.021Z"
   },
   {
    "duration": 4,
    "start_time": "2023-04-09T20:04:29.998Z"
   },
   {
    "duration": 427,
    "start_time": "2023-04-09T20:04:39.522Z"
   },
   {
    "duration": 4,
    "start_time": "2023-04-09T20:04:58.063Z"
   },
   {
    "duration": 4,
    "start_time": "2023-04-09T20:05:23.656Z"
   },
   {
    "duration": 834,
    "start_time": "2023-04-09T20:05:24.070Z"
   },
   {
    "duration": 5,
    "start_time": "2023-04-09T20:06:16.346Z"
   },
   {
    "duration": 754,
    "start_time": "2023-04-09T20:06:17.120Z"
   },
   {
    "duration": 742,
    "start_time": "2023-04-09T20:08:14.933Z"
   },
   {
    "duration": 6,
    "start_time": "2023-04-09T20:12:29.579Z"
   },
   {
    "duration": 8,
    "start_time": "2023-04-09T20:12:30.050Z"
   },
   {
    "duration": 4,
    "start_time": "2023-04-09T20:12:35.928Z"
   },
   {
    "duration": 993,
    "start_time": "2023-04-09T20:12:36.236Z"
   },
   {
    "duration": 4,
    "start_time": "2023-04-09T20:12:43.248Z"
   },
   {
    "duration": 4,
    "start_time": "2023-04-09T20:12:45.585Z"
   },
   {
    "duration": 567,
    "start_time": "2023-04-09T20:12:45.880Z"
   },
   {
    "duration": 567,
    "start_time": "2023-04-09T20:12:47.190Z"
   },
   {
    "duration": 9,
    "start_time": "2023-04-09T20:13:08.797Z"
   },
   {
    "duration": 185,
    "start_time": "2023-04-09T20:13:09.072Z"
   },
   {
    "duration": 540,
    "start_time": "2023-04-09T20:13:14.869Z"
   },
   {
    "duration": 5,
    "start_time": "2023-04-09T20:13:25.891Z"
   },
   {
    "duration": 591,
    "start_time": "2023-04-09T20:13:26.120Z"
   },
   {
    "duration": 980,
    "start_time": "2023-04-09T20:13:26.713Z"
   },
   {
    "duration": 583,
    "start_time": "2023-04-09T20:13:27.695Z"
   },
   {
    "duration": 4,
    "start_time": "2023-04-09T20:14:07.338Z"
   },
   {
    "duration": 566,
    "start_time": "2023-04-09T20:14:07.569Z"
   },
   {
    "duration": 855,
    "start_time": "2023-04-09T20:14:08.136Z"
   },
   {
    "duration": 567,
    "start_time": "2023-04-09T20:14:08.992Z"
   },
   {
    "duration": 5,
    "start_time": "2023-04-09T20:14:26.466Z"
   },
   {
    "duration": 1062,
    "start_time": "2023-04-09T20:14:26.923Z"
   },
   {
    "duration": 1358,
    "start_time": "2023-04-09T20:14:27.987Z"
   },
   {
    "duration": 1365,
    "start_time": "2023-04-09T20:14:29.348Z"
   },
   {
    "duration": 207,
    "start_time": "2023-04-09T20:14:30.715Z"
   },
   {
    "duration": 8,
    "start_time": "2023-04-09T20:16:50.912Z"
   },
   {
    "duration": 5,
    "start_time": "2023-04-09T20:16:56.740Z"
   },
   {
    "duration": 1135,
    "start_time": "2023-04-09T20:16:56.965Z"
   },
   {
    "duration": 5,
    "start_time": "2023-04-09T20:17:52.143Z"
   },
   {
    "duration": 1345,
    "start_time": "2023-04-09T20:17:52.451Z"
   },
   {
    "duration": 1011,
    "start_time": "2023-04-09T20:18:11.607Z"
   },
   {
    "duration": 1328,
    "start_time": "2023-04-09T20:18:25.977Z"
   },
   {
    "duration": 5,
    "start_time": "2023-04-09T20:18:35.661Z"
   },
   {
    "duration": 1380,
    "start_time": "2023-04-09T20:18:37.075Z"
   },
   {
    "duration": 1038,
    "start_time": "2023-04-09T20:18:38.457Z"
   },
   {
    "duration": 1416,
    "start_time": "2023-04-09T20:18:39.824Z"
   },
   {
    "duration": 5,
    "start_time": "2023-04-09T20:19:08.871Z"
   },
   {
    "duration": 817,
    "start_time": "2023-04-09T20:19:09.154Z"
   },
   {
    "duration": 816,
    "start_time": "2023-04-09T20:19:09.972Z"
   },
   {
    "duration": 4,
    "start_time": "2023-04-09T20:19:17.290Z"
   },
   {
    "duration": 1014,
    "start_time": "2023-04-09T20:19:17.584Z"
   },
   {
    "duration": 798,
    "start_time": "2023-04-09T20:19:18.600Z"
   },
   {
    "duration": 4,
    "start_time": "2023-04-09T20:19:26.573Z"
   },
   {
    "duration": 541,
    "start_time": "2023-04-09T20:19:26.861Z"
   },
   {
    "duration": 821,
    "start_time": "2023-04-09T20:19:27.404Z"
   },
   {
    "duration": 544,
    "start_time": "2023-04-09T20:19:28.227Z"
   },
   {
    "duration": 313,
    "start_time": "2023-04-09T20:19:28.773Z"
   },
   {
    "duration": 5,
    "start_time": "2023-04-09T20:21:29.384Z"
   },
   {
    "duration": 10,
    "start_time": "2023-04-09T20:21:29.707Z"
   },
   {
    "duration": 304,
    "start_time": "2023-04-09T20:21:30.237Z"
   },
   {
    "duration": 4,
    "start_time": "2023-04-09T20:21:43.913Z"
   },
   {
    "duration": 8,
    "start_time": "2023-04-09T20:21:44.301Z"
   },
   {
    "duration": 322,
    "start_time": "2023-04-09T20:21:45.308Z"
   },
   {
    "duration": 5,
    "start_time": "2023-04-09T20:21:50.567Z"
   },
   {
    "duration": 8,
    "start_time": "2023-04-09T20:21:51.069Z"
   },
   {
    "duration": 5,
    "start_time": "2023-04-09T20:22:20.571Z"
   },
   {
    "duration": 8,
    "start_time": "2023-04-09T20:22:21.273Z"
   },
   {
    "duration": 371,
    "start_time": "2023-04-09T20:22:22.002Z"
   },
   {
    "duration": 4,
    "start_time": "2023-04-09T20:22:31.387Z"
   },
   {
    "duration": 9,
    "start_time": "2023-04-09T20:22:31.847Z"
   },
   {
    "duration": 545,
    "start_time": "2023-04-09T20:22:33.845Z"
   },
   {
    "duration": 5,
    "start_time": "2023-04-09T20:23:32.345Z"
   },
   {
    "duration": 823,
    "start_time": "2023-04-09T20:23:33.011Z"
   },
   {
    "duration": 4,
    "start_time": "2023-04-09T20:23:50.747Z"
   },
   {
    "duration": 542,
    "start_time": "2023-04-09T20:23:51.202Z"
   },
   {
    "duration": 5,
    "start_time": "2023-04-09T20:28:37.906Z"
   },
   {
    "duration": 4,
    "start_time": "2023-04-09T20:32:16.139Z"
   },
   {
    "duration": 505,
    "start_time": "2023-04-09T20:32:16.628Z"
   },
   {
    "duration": 506,
    "start_time": "2023-04-09T20:32:17.984Z"
   },
   {
    "duration": 529,
    "start_time": "2023-04-09T20:32:18.944Z"
   },
   {
    "duration": 3,
    "start_time": "2023-04-09T20:32:48.451Z"
   },
   {
    "duration": 669,
    "start_time": "2023-04-09T20:32:48.682Z"
   },
   {
    "duration": 323,
    "start_time": "2023-04-09T20:32:50.015Z"
   },
   {
    "duration": 318,
    "start_time": "2023-04-09T20:32:50.739Z"
   },
   {
    "duration": 5,
    "start_time": "2023-04-09T20:34:14.002Z"
   },
   {
    "duration": 555,
    "start_time": "2023-04-09T20:34:14.213Z"
   },
   {
    "duration": 5,
    "start_time": "2023-04-09T20:34:18.390Z"
   },
   {
    "duration": 477,
    "start_time": "2023-04-09T20:34:19.164Z"
   },
   {
    "duration": 6,
    "start_time": "2023-04-09T20:34:24.566Z"
   },
   {
    "duration": 518,
    "start_time": "2023-04-09T20:34:25.044Z"
   },
   {
    "duration": 4,
    "start_time": "2023-04-09T20:42:45.731Z"
   },
   {
    "duration": 512,
    "start_time": "2023-04-09T20:42:46.075Z"
   },
   {
    "duration": 1318,
    "start_time": "2023-04-09T20:46:21.363Z"
   },
   {
    "duration": 349,
    "start_time": "2023-04-09T20:46:22.683Z"
   },
   {
    "duration": 3,
    "start_time": "2023-04-09T20:46:23.034Z"
   },
   {
    "duration": 32,
    "start_time": "2023-04-09T20:46:23.038Z"
   },
   {
    "duration": 47,
    "start_time": "2023-04-09T20:46:23.072Z"
   },
   {
    "duration": 68,
    "start_time": "2023-04-09T20:46:23.121Z"
   },
   {
    "duration": 59,
    "start_time": "2023-04-09T20:46:23.191Z"
   },
   {
    "duration": 134,
    "start_time": "2023-04-09T20:46:23.252Z"
   },
   {
    "duration": 4,
    "start_time": "2023-04-09T20:46:23.388Z"
   },
   {
    "duration": 356,
    "start_time": "2023-04-09T20:46:23.393Z"
   },
   {
    "duration": 291,
    "start_time": "2023-04-09T20:46:23.750Z"
   },
   {
    "duration": 307,
    "start_time": "2023-04-09T20:46:24.048Z"
   },
   {
    "duration": 5,
    "start_time": "2023-04-09T20:46:24.356Z"
   },
   {
    "duration": 613,
    "start_time": "2023-04-09T20:46:24.364Z"
   },
   {
    "duration": 515,
    "start_time": "2023-04-09T20:46:24.978Z"
   },
   {
    "duration": 489,
    "start_time": "2023-04-09T20:46:25.494Z"
   },
   {
    "duration": 4,
    "start_time": "2023-04-09T20:46:25.984Z"
   },
   {
    "duration": 1538,
    "start_time": "2023-04-10T19:07:03.186Z"
   },
   {
    "duration": 863,
    "start_time": "2023-04-10T19:07:04.726Z"
   },
   {
    "duration": 2,
    "start_time": "2023-04-10T19:07:05.591Z"
   },
   {
    "duration": 28,
    "start_time": "2023-04-10T19:07:05.595Z"
   },
   {
    "duration": 53,
    "start_time": "2023-04-10T19:07:05.625Z"
   },
   {
    "duration": 47,
    "start_time": "2023-04-10T19:07:05.679Z"
   },
   {
    "duration": 65,
    "start_time": "2023-04-10T19:07:05.728Z"
   },
   {
    "duration": 139,
    "start_time": "2023-04-10T19:07:05.795Z"
   },
   {
    "duration": 4,
    "start_time": "2023-04-10T19:07:05.936Z"
   },
   {
    "duration": 369,
    "start_time": "2023-04-10T19:07:05.941Z"
   },
   {
    "duration": 356,
    "start_time": "2023-04-10T19:07:06.312Z"
   },
   {
    "duration": 321,
    "start_time": "2023-04-10T19:07:06.670Z"
   },
   {
    "duration": 5,
    "start_time": "2023-04-10T19:07:06.992Z"
   },
   {
    "duration": 662,
    "start_time": "2023-04-10T19:07:07.001Z"
   },
   {
    "duration": 576,
    "start_time": "2023-04-10T19:07:07.665Z"
   },
   {
    "duration": 560,
    "start_time": "2023-04-10T19:07:08.243Z"
   },
   {
    "duration": 3,
    "start_time": "2023-04-10T19:07:08.805Z"
   },
   {
    "duration": 1377,
    "start_time": "2023-04-10T19:23:22.318Z"
   },
   {
    "duration": 382,
    "start_time": "2023-04-10T19:23:23.697Z"
   },
   {
    "duration": 4,
    "start_time": "2023-04-10T19:23:24.081Z"
   },
   {
    "duration": 36,
    "start_time": "2023-04-10T19:23:24.088Z"
   },
   {
    "duration": 75,
    "start_time": "2023-04-10T19:23:24.126Z"
   },
   {
    "duration": 66,
    "start_time": "2023-04-10T19:23:24.203Z"
   },
   {
    "duration": 46,
    "start_time": "2023-04-10T19:23:24.271Z"
   },
   {
    "duration": 143,
    "start_time": "2023-04-10T19:23:24.319Z"
   },
   {
    "duration": 4,
    "start_time": "2023-04-10T19:23:24.463Z"
   },
   {
    "duration": 373,
    "start_time": "2023-04-10T19:23:24.469Z"
   },
   {
    "duration": 321,
    "start_time": "2023-04-10T19:23:24.843Z"
   },
   {
    "duration": 317,
    "start_time": "2023-04-10T19:23:25.166Z"
   },
   {
    "duration": 6,
    "start_time": "2023-04-10T19:23:25.484Z"
   },
   {
    "duration": 689,
    "start_time": "2023-04-10T19:23:25.491Z"
   },
   {
    "duration": 583,
    "start_time": "2023-04-10T19:23:26.182Z"
   },
   {
    "duration": 604,
    "start_time": "2023-04-10T19:23:26.767Z"
   },
   {
    "duration": 4,
    "start_time": "2023-04-10T19:23:27.373Z"
   },
   {
    "duration": 3,
    "start_time": "2023-04-10T19:24:38.610Z"
   },
   {
    "duration": 102,
    "start_time": "2023-04-10T19:24:56.270Z"
   },
   {
    "duration": 9,
    "start_time": "2023-04-10T19:25:01.271Z"
   },
   {
    "duration": 5,
    "start_time": "2023-04-10T19:29:28.003Z"
   },
   {
    "duration": 13,
    "start_time": "2023-04-10T19:29:37.439Z"
   },
   {
    "duration": 12,
    "start_time": "2023-04-10T19:30:22.399Z"
   },
   {
    "duration": 9,
    "start_time": "2023-04-10T19:31:11.808Z"
   },
   {
    "duration": 3,
    "start_time": "2023-04-10T19:39:14.145Z"
   },
   {
    "duration": 2,
    "start_time": "2023-04-10T19:40:15.818Z"
   },
   {
    "duration": 5,
    "start_time": "2023-04-10T19:42:16.814Z"
   },
   {
    "duration": 8,
    "start_time": "2023-04-10T19:42:28.908Z"
   },
   {
    "duration": 5,
    "start_time": "2023-04-10T19:42:35.969Z"
   },
   {
    "duration": 6,
    "start_time": "2023-04-10T19:42:39.603Z"
   },
   {
    "duration": 6,
    "start_time": "2023-04-10T19:43:28.167Z"
   },
   {
    "duration": 4,
    "start_time": "2023-04-10T19:45:51.306Z"
   },
   {
    "duration": 10,
    "start_time": "2023-04-10T19:46:09.346Z"
   },
   {
    "duration": 3,
    "start_time": "2023-04-10T19:48:49.555Z"
   },
   {
    "duration": 12,
    "start_time": "2023-04-10T19:49:47.577Z"
   },
   {
    "duration": 11,
    "start_time": "2023-04-10T19:49:51.897Z"
   },
   {
    "duration": 8,
    "start_time": "2023-04-10T19:50:00.523Z"
   },
   {
    "duration": 10,
    "start_time": "2023-04-10T19:50:16.495Z"
   },
   {
    "duration": 11,
    "start_time": "2023-04-10T19:50:20.493Z"
   },
   {
    "duration": 12,
    "start_time": "2023-04-10T19:50:27.851Z"
   },
   {
    "duration": 3,
    "start_time": "2023-04-10T19:53:06.699Z"
   },
   {
    "duration": 3,
    "start_time": "2023-04-10T19:53:20.201Z"
   },
   {
    "duration": 3,
    "start_time": "2023-04-10T19:54:29.737Z"
   },
   {
    "duration": 38,
    "start_time": "2023-04-10T19:58:30.735Z"
   },
   {
    "duration": 9,
    "start_time": "2023-04-10T19:58:41.250Z"
   },
   {
    "duration": 4,
    "start_time": "2023-04-10T19:58:46.521Z"
   },
   {
    "duration": 6,
    "start_time": "2023-04-10T19:59:27.619Z"
   },
   {
    "duration": 6,
    "start_time": "2023-04-10T19:59:45.292Z"
   },
   {
    "duration": 5,
    "start_time": "2023-04-10T19:59:50.583Z"
   },
   {
    "duration": 8,
    "start_time": "2023-04-10T20:00:00.702Z"
   },
   {
    "duration": 7,
    "start_time": "2023-04-10T20:00:08.297Z"
   },
   {
    "duration": 5,
    "start_time": "2023-04-10T20:00:29.919Z"
   },
   {
    "duration": 4,
    "start_time": "2023-04-10T20:02:44.922Z"
   },
   {
    "duration": 4,
    "start_time": "2023-04-10T20:13:56.294Z"
   },
   {
    "duration": 3,
    "start_time": "2023-04-10T20:13:58.319Z"
   },
   {
    "duration": 3,
    "start_time": "2023-04-10T20:20:21.251Z"
   },
   {
    "duration": 21,
    "start_time": "2023-04-10T20:21:59.569Z"
   },
   {
    "duration": 3,
    "start_time": "2023-04-10T20:22:22.066Z"
   },
   {
    "duration": 32,
    "start_time": "2023-04-10T20:22:22.602Z"
   },
   {
    "duration": 9,
    "start_time": "2023-04-10T20:22:40.563Z"
   },
   {
    "duration": 9,
    "start_time": "2023-04-10T20:22:48.360Z"
   },
   {
    "duration": 9,
    "start_time": "2023-04-10T20:22:50.917Z"
   },
   {
    "duration": 5,
    "start_time": "2023-04-10T20:23:02.026Z"
   },
   {
    "duration": 36,
    "start_time": "2023-04-10T20:24:21.230Z"
   },
   {
    "duration": 3,
    "start_time": "2023-04-10T20:24:21.741Z"
   },
   {
    "duration": 4,
    "start_time": "2023-04-10T20:24:23.159Z"
   },
   {
    "duration": 43,
    "start_time": "2023-04-10T20:24:23.781Z"
   },
   {
    "duration": 10,
    "start_time": "2023-04-10T20:24:26.059Z"
   },
   {
    "duration": 4,
    "start_time": "2023-04-10T20:25:03.823Z"
   },
   {
    "duration": 42,
    "start_time": "2023-04-10T20:25:04.394Z"
   },
   {
    "duration": 11,
    "start_time": "2023-04-10T20:25:05.721Z"
   },
   {
    "duration": 26,
    "start_time": "2023-04-10T20:25:13.983Z"
   },
   {
    "duration": 318,
    "start_time": "2023-04-10T20:25:46.422Z"
   },
   {
    "duration": 8,
    "start_time": "2023-04-10T20:26:43.023Z"
   },
   {
    "duration": 8,
    "start_time": "2023-04-10T20:27:28.920Z"
   },
   {
    "duration": 9,
    "start_time": "2023-04-10T20:27:50.437Z"
   },
   {
    "duration": 2,
    "start_time": "2023-04-10T20:28:10.421Z"
   },
   {
    "duration": 9,
    "start_time": "2023-04-10T20:28:18.871Z"
   },
   {
    "duration": 15,
    "start_time": "2023-04-10T20:53:42.009Z"
   },
   {
    "duration": 15,
    "start_time": "2023-04-10T20:53:48.881Z"
   },
   {
    "duration": 47,
    "start_time": "2023-04-10T20:55:17.619Z"
   },
   {
    "duration": 3,
    "start_time": "2023-04-10T20:55:24.821Z"
   },
   {
    "duration": 3,
    "start_time": "2023-04-10T20:55:33.654Z"
   },
   {
    "duration": 58,
    "start_time": "2023-04-10T20:58:10.299Z"
   },
   {
    "duration": 84,
    "start_time": "2023-04-10T20:58:29.871Z"
   },
   {
    "duration": 3,
    "start_time": "2023-04-10T20:58:49.197Z"
   },
   {
    "duration": 14,
    "start_time": "2023-04-10T20:58:49.587Z"
   },
   {
    "duration": 14,
    "start_time": "2023-04-10T20:58:55.245Z"
   },
   {
    "duration": 14,
    "start_time": "2023-04-10T20:58:59.423Z"
   },
   {
    "duration": 14,
    "start_time": "2023-04-10T20:59:03.786Z"
   },
   {
    "duration": 14,
    "start_time": "2023-04-10T20:59:06.861Z"
   },
   {
    "duration": 20,
    "start_time": "2023-04-10T20:59:10.626Z"
   },
   {
    "duration": 14,
    "start_time": "2023-04-10T20:59:15.125Z"
   },
   {
    "duration": 12,
    "start_time": "2023-04-10T20:59:20.874Z"
   },
   {
    "duration": 14,
    "start_time": "2023-04-10T20:59:27.071Z"
   },
   {
    "duration": 3,
    "start_time": "2023-04-10T20:59:39.646Z"
   },
   {
    "duration": 14,
    "start_time": "2023-04-10T20:59:40.051Z"
   },
   {
    "duration": 16,
    "start_time": "2023-04-10T21:00:13.171Z"
   },
   {
    "duration": 20,
    "start_time": "2023-04-10T21:01:16.133Z"
   },
   {
    "duration": 1444,
    "start_time": "2023-04-11T18:54:07.661Z"
   },
   {
    "duration": 859,
    "start_time": "2023-04-11T18:54:09.107Z"
   },
   {
    "duration": 2,
    "start_time": "2023-04-11T18:54:09.968Z"
   },
   {
    "duration": 24,
    "start_time": "2023-04-11T18:54:09.972Z"
   },
   {
    "duration": 47,
    "start_time": "2023-04-11T18:54:09.997Z"
   },
   {
    "duration": 42,
    "start_time": "2023-04-11T18:54:10.046Z"
   },
   {
    "duration": 48,
    "start_time": "2023-04-11T18:54:10.090Z"
   },
   {
    "duration": 118,
    "start_time": "2023-04-11T18:54:10.140Z"
   },
   {
    "duration": 3,
    "start_time": "2023-04-11T18:54:10.260Z"
   },
   {
    "duration": 342,
    "start_time": "2023-04-11T18:54:10.266Z"
   },
   {
    "duration": 329,
    "start_time": "2023-04-11T18:54:10.609Z"
   },
   {
    "duration": 304,
    "start_time": "2023-04-11T18:54:10.940Z"
   },
   {
    "duration": 8,
    "start_time": "2023-04-11T18:54:11.246Z"
   },
   {
    "duration": 634,
    "start_time": "2023-04-11T18:54:11.255Z"
   },
   {
    "duration": 563,
    "start_time": "2023-04-11T18:54:11.891Z"
   },
   {
    "duration": 615,
    "start_time": "2023-04-11T18:54:12.456Z"
   },
   {
    "duration": 9,
    "start_time": "2023-04-11T18:54:13.073Z"
   },
   {
    "duration": 16,
    "start_time": "2023-04-11T18:54:13.083Z"
   },
   {
    "duration": 3,
    "start_time": "2023-04-11T18:54:13.100Z"
   },
   {
    "duration": 9,
    "start_time": "2023-04-11T18:54:13.105Z"
   },
   {
    "duration": 20,
    "start_time": "2023-04-11T18:54:13.116Z"
   },
   {
    "duration": 4,
    "start_time": "2023-04-11T18:54:13.137Z"
   },
   {
    "duration": 9,
    "start_time": "2023-04-11T18:54:13.143Z"
   },
   {
    "duration": 151,
    "start_time": "2023-04-11T18:54:13.153Z"
   },
   {
    "duration": 3,
    "start_time": "2023-04-11T18:54:13.305Z"
   },
   {
    "duration": 4,
    "start_time": "2023-04-11T18:54:13.309Z"
   },
   {
    "duration": 48,
    "start_time": "2023-04-11T18:54:13.315Z"
   },
   {
    "duration": 6,
    "start_time": "2023-04-11T18:54:13.366Z"
   },
   {
    "duration": 4,
    "start_time": "2023-04-11T18:54:13.374Z"
   },
   {
    "duration": 62,
    "start_time": "2023-04-11T18:54:13.379Z"
   },
   {
    "duration": 4,
    "start_time": "2023-04-11T18:54:13.442Z"
   },
   {
    "duration": 11,
    "start_time": "2023-04-11T18:58:31.368Z"
   },
   {
    "duration": 22,
    "start_time": "2023-04-11T19:00:23.313Z"
   },
   {
    "duration": 213,
    "start_time": "2023-04-11T19:02:35.401Z"
   },
   {
    "duration": 12,
    "start_time": "2023-04-11T19:02:43.045Z"
   },
   {
    "duration": 55,
    "start_time": "2023-04-11T19:13:41.997Z"
   },
   {
    "duration": 33,
    "start_time": "2023-04-11T19:13:46.635Z"
   },
   {
    "duration": 14,
    "start_time": "2023-04-11T19:13:52.454Z"
   },
   {
    "duration": 17,
    "start_time": "2023-04-11T19:14:03.286Z"
   },
   {
    "duration": 49,
    "start_time": "2023-04-11T19:21:31.404Z"
   },
   {
    "duration": 5,
    "start_time": "2023-04-11T19:21:33.553Z"
   },
   {
    "duration": 3,
    "start_time": "2023-04-11T19:21:50.606Z"
   },
   {
    "duration": 7,
    "start_time": "2023-04-11T19:21:56.046Z"
   },
   {
    "duration": 3,
    "start_time": "2023-04-11T19:22:01.005Z"
   },
   {
    "duration": 46,
    "start_time": "2023-04-11T19:27:25.178Z"
   },
   {
    "duration": 2,
    "start_time": "2023-04-11T19:33:19.615Z"
   },
   {
    "duration": 3,
    "start_time": "2023-04-11T19:36:18.271Z"
   },
   {
    "duration": 4,
    "start_time": "2023-04-11T19:36:28.235Z"
   },
   {
    "duration": 3,
    "start_time": "2023-04-11T19:38:10.707Z"
   },
   {
    "duration": 9,
    "start_time": "2023-04-11T19:38:17.701Z"
   },
   {
    "duration": 8,
    "start_time": "2023-04-11T19:38:20.009Z"
   },
   {
    "duration": 8,
    "start_time": "2023-04-11T19:38:26.882Z"
   },
   {
    "duration": 3,
    "start_time": "2023-04-11T19:38:29.982Z"
   },
   {
    "duration": 4,
    "start_time": "2023-04-11T19:38:43.564Z"
   },
   {
    "duration": 4,
    "start_time": "2023-04-11T19:38:46.588Z"
   },
   {
    "duration": 8,
    "start_time": "2023-04-11T19:38:55.579Z"
   },
   {
    "duration": 11,
    "start_time": "2023-04-11T19:38:59.053Z"
   },
   {
    "duration": 10,
    "start_time": "2023-04-11T19:39:01.635Z"
   },
   {
    "duration": 8,
    "start_time": "2023-04-11T19:39:18.198Z"
   },
   {
    "duration": 16,
    "start_time": "2023-04-11T19:39:20.138Z"
   },
   {
    "duration": 4,
    "start_time": "2023-04-11T19:39:31.291Z"
   },
   {
    "duration": 4,
    "start_time": "2023-04-11T19:39:40.372Z"
   },
   {
    "duration": 1253,
    "start_time": "2023-04-11T19:39:56.798Z"
   },
   {
    "duration": 358,
    "start_time": "2023-04-11T19:39:58.054Z"
   },
   {
    "duration": 3,
    "start_time": "2023-04-11T19:39:58.414Z"
   },
   {
    "duration": 39,
    "start_time": "2023-04-11T19:39:58.418Z"
   },
   {
    "duration": 45,
    "start_time": "2023-04-11T19:39:58.460Z"
   },
   {
    "duration": 70,
    "start_time": "2023-04-11T19:39:58.506Z"
   },
   {
    "duration": 41,
    "start_time": "2023-04-11T19:39:58.578Z"
   },
   {
    "duration": 149,
    "start_time": "2023-04-11T19:39:58.621Z"
   },
   {
    "duration": 3,
    "start_time": "2023-04-11T19:39:58.772Z"
   },
   {
    "duration": 362,
    "start_time": "2023-04-11T19:39:58.776Z"
   },
   {
    "duration": 299,
    "start_time": "2023-04-11T19:39:59.140Z"
   },
   {
    "duration": 300,
    "start_time": "2023-04-11T19:39:59.441Z"
   },
   {
    "duration": 5,
    "start_time": "2023-04-11T19:39:59.744Z"
   },
   {
    "duration": 723,
    "start_time": "2023-04-11T19:39:59.753Z"
   },
   {
    "duration": 679,
    "start_time": "2023-04-11T19:40:00.478Z"
   },
   {
    "duration": 577,
    "start_time": "2023-04-11T19:40:01.160Z"
   },
   {
    "duration": 21,
    "start_time": "2023-04-11T19:40:01.740Z"
   },
   {
    "duration": 31,
    "start_time": "2023-04-11T19:40:01.763Z"
   },
   {
    "duration": 30,
    "start_time": "2023-04-11T19:40:01.795Z"
   },
   {
    "duration": 70,
    "start_time": "2023-04-11T19:40:01.826Z"
   },
   {
    "duration": 38,
    "start_time": "2023-04-11T19:40:01.897Z"
   },
   {
    "duration": 28,
    "start_time": "2023-04-11T19:40:01.938Z"
   },
   {
    "duration": 37,
    "start_time": "2023-04-11T19:40:01.967Z"
   },
   {
    "duration": 186,
    "start_time": "2023-04-11T19:40:02.006Z"
   },
   {
    "duration": 3,
    "start_time": "2023-04-11T19:40:02.194Z"
   },
   {
    "duration": 42,
    "start_time": "2023-04-11T19:40:02.199Z"
   },
   {
    "duration": 65,
    "start_time": "2023-04-11T19:40:02.244Z"
   },
   {
    "duration": 7,
    "start_time": "2023-04-11T19:40:02.311Z"
   },
   {
    "duration": 33,
    "start_time": "2023-04-11T19:40:02.319Z"
   },
   {
    "duration": 35,
    "start_time": "2023-04-11T19:40:02.355Z"
   },
   {
    "duration": 103,
    "start_time": "2023-04-11T19:40:02.442Z"
   },
   {
    "duration": 104,
    "start_time": "2023-04-11T19:40:02.548Z"
   },
   {
    "duration": 83,
    "start_time": "2023-04-11T19:40:02.654Z"
   },
   {
    "duration": 5,
    "start_time": "2023-04-11T19:40:02.739Z"
   },
   {
    "duration": 6,
    "start_time": "2023-04-11T19:40:02.746Z"
   },
   {
    "duration": 5,
    "start_time": "2023-04-11T19:59:29.643Z"
   },
   {
    "duration": 4,
    "start_time": "2023-04-11T20:00:30.137Z"
   },
   {
    "duration": 94,
    "start_time": "2023-04-11T20:03:30.072Z"
   },
   {
    "duration": 2,
    "start_time": "2023-04-11T20:03:33.148Z"
   },
   {
    "duration": 7,
    "start_time": "2023-04-11T20:03:42.838Z"
   },
   {
    "duration": 10,
    "start_time": "2023-04-11T20:03:50.283Z"
   },
   {
    "duration": 10,
    "start_time": "2023-04-11T20:04:25.611Z"
   },
   {
    "duration": 6,
    "start_time": "2023-04-11T20:04:35.070Z"
   },
   {
    "duration": 3,
    "start_time": "2023-04-11T20:11:29.823Z"
   },
   {
    "duration": 4,
    "start_time": "2023-04-11T20:11:34.397Z"
   },
   {
    "duration": 4,
    "start_time": "2023-04-11T20:18:20.928Z"
   },
   {
    "duration": 7,
    "start_time": "2023-04-11T20:18:44.916Z"
   },
   {
    "duration": 6,
    "start_time": "2023-04-11T20:18:50.322Z"
   },
   {
    "duration": 1298,
    "start_time": "2023-04-11T20:19:15.117Z"
   },
   {
    "duration": 325,
    "start_time": "2023-04-11T20:19:16.418Z"
   },
   {
    "duration": 3,
    "start_time": "2023-04-11T20:19:16.744Z"
   },
   {
    "duration": 31,
    "start_time": "2023-04-11T20:19:16.749Z"
   },
   {
    "duration": 72,
    "start_time": "2023-04-11T20:19:16.783Z"
   },
   {
    "duration": 51,
    "start_time": "2023-04-11T20:19:16.857Z"
   },
   {
    "duration": 65,
    "start_time": "2023-04-11T20:19:16.909Z"
   },
   {
    "duration": 118,
    "start_time": "2023-04-11T20:19:16.975Z"
   },
   {
    "duration": 3,
    "start_time": "2023-04-11T20:19:17.095Z"
   },
   {
    "duration": 350,
    "start_time": "2023-04-11T20:19:17.100Z"
   },
   {
    "duration": 285,
    "start_time": "2023-04-11T20:19:17.451Z"
   },
   {
    "duration": 284,
    "start_time": "2023-04-11T20:19:17.738Z"
   },
   {
    "duration": 4,
    "start_time": "2023-04-11T20:19:18.023Z"
   },
   {
    "duration": 600,
    "start_time": "2023-04-11T20:19:18.036Z"
   },
   {
    "duration": 519,
    "start_time": "2023-04-11T20:19:18.638Z"
   },
   {
    "duration": 511,
    "start_time": "2023-04-11T20:19:19.158Z"
   },
   {
    "duration": 10,
    "start_time": "2023-04-11T20:19:19.670Z"
   },
   {
    "duration": 19,
    "start_time": "2023-04-11T20:19:19.681Z"
   },
   {
    "duration": 5,
    "start_time": "2023-04-11T20:19:19.701Z"
   },
   {
    "duration": 23,
    "start_time": "2023-04-11T20:19:19.707Z"
   },
   {
    "duration": 15,
    "start_time": "2023-04-11T20:19:19.732Z"
   },
   {
    "duration": 5,
    "start_time": "2023-04-11T20:19:19.748Z"
   },
   {
    "duration": 5,
    "start_time": "2023-04-11T20:19:19.755Z"
   },
   {
    "duration": 135,
    "start_time": "2023-04-11T20:19:19.761Z"
   },
   {
    "duration": 3,
    "start_time": "2023-04-11T20:19:19.898Z"
   },
   {
    "duration": 4,
    "start_time": "2023-04-11T20:19:19.903Z"
   },
   {
    "duration": 52,
    "start_time": "2023-04-11T20:19:19.908Z"
   },
   {
    "duration": 8,
    "start_time": "2023-04-11T20:19:19.962Z"
   },
   {
    "duration": 9,
    "start_time": "2023-04-11T20:19:19.971Z"
   },
   {
    "duration": 156,
    "start_time": "2023-04-11T20:19:19.982Z"
   },
   {
    "duration": 12,
    "start_time": "2023-04-11T20:19:20.140Z"
   },
   {
    "duration": 86,
    "start_time": "2023-04-11T20:19:20.154Z"
   },
   {
    "duration": 8,
    "start_time": "2023-04-11T20:19:20.242Z"
   },
   {
    "duration": 97,
    "start_time": "2023-04-11T20:19:20.251Z"
   },
   {
    "duration": 93,
    "start_time": "2023-04-11T20:19:20.350Z"
   },
   {
    "duration": 101,
    "start_time": "2023-04-11T20:19:20.445Z"
   },
   {
    "duration": 0,
    "start_time": "2023-04-11T20:19:20.547Z"
   },
   {
    "duration": 5,
    "start_time": "2023-04-11T20:19:42.539Z"
   },
   {
    "duration": 15,
    "start_time": "2023-04-11T20:19:44.483Z"
   },
   {
    "duration": 2,
    "start_time": "2023-04-11T20:19:51.506Z"
   },
   {
    "duration": 10,
    "start_time": "2023-04-11T20:19:51.958Z"
   },
   {
    "duration": 10,
    "start_time": "2023-04-11T20:20:06.809Z"
   },
   {
    "duration": 6,
    "start_time": "2023-04-11T20:22:52.285Z"
   },
   {
    "duration": 67,
    "start_time": "2023-04-11T20:24:46.268Z"
   },
   {
    "duration": 3,
    "start_time": "2023-04-11T20:24:48.740Z"
   },
   {
    "duration": 12,
    "start_time": "2023-04-11T20:24:49.158Z"
   },
   {
    "duration": 17,
    "start_time": "2023-04-11T20:24:59.143Z"
   },
   {
    "duration": 12,
    "start_time": "2023-04-11T20:25:04.207Z"
   },
   {
    "duration": 12,
    "start_time": "2023-04-11T20:25:06.691Z"
   },
   {
    "duration": 12,
    "start_time": "2023-04-11T20:25:08.446Z"
   },
   {
    "duration": 4,
    "start_time": "2023-04-11T20:26:40.912Z"
   },
   {
    "duration": 17,
    "start_time": "2023-04-11T20:26:42.135Z"
   },
   {
    "duration": 12,
    "start_time": "2023-04-11T20:26:43.549Z"
   },
   {
    "duration": 15,
    "start_time": "2023-04-11T20:26:44.004Z"
   },
   {
    "duration": 3,
    "start_time": "2023-04-11T20:26:46.706Z"
   },
   {
    "duration": 5,
    "start_time": "2023-04-11T20:26:47.552Z"
   },
   {
    "duration": 4,
    "start_time": "2023-04-11T20:28:31.306Z"
   },
   {
    "duration": 14,
    "start_time": "2023-04-11T20:28:39.485Z"
   },
   {
    "duration": 11,
    "start_time": "2023-04-11T20:29:31.753Z"
   },
   {
    "duration": 10,
    "start_time": "2023-04-11T20:30:11.747Z"
   },
   {
    "duration": 11,
    "start_time": "2023-04-11T20:30:49.503Z"
   },
   {
    "duration": 7,
    "start_time": "2023-04-11T20:30:53.482Z"
   },
   {
    "duration": 6,
    "start_time": "2023-04-11T20:30:59.079Z"
   },
   {
    "duration": 5,
    "start_time": "2023-04-11T20:31:01.789Z"
   },
   {
    "duration": 21,
    "start_time": "2023-04-11T20:35:22.921Z"
   },
   {
    "duration": 5,
    "start_time": "2023-04-11T20:35:25.152Z"
   },
   {
    "duration": 3,
    "start_time": "2023-04-11T20:36:51.011Z"
   },
   {
    "duration": 13,
    "start_time": "2023-04-11T20:36:51.969Z"
   },
   {
    "duration": 16,
    "start_time": "2023-04-11T20:36:52.474Z"
   },
   {
    "duration": 14,
    "start_time": "2023-04-11T20:36:54.019Z"
   },
   {
    "duration": 5,
    "start_time": "2023-04-11T20:37:02.158Z"
   },
   {
    "duration": 3,
    "start_time": "2023-04-11T20:37:11.667Z"
   },
   {
    "duration": 3,
    "start_time": "2023-04-11T20:37:11.886Z"
   },
   {
    "duration": 3,
    "start_time": "2023-04-11T20:37:15.017Z"
   },
   {
    "duration": 10,
    "start_time": "2023-04-11T20:37:15.931Z"
   },
   {
    "duration": 6,
    "start_time": "2023-04-11T20:37:18.034Z"
   },
   {
    "duration": 3,
    "start_time": "2023-04-11T20:37:42.198Z"
   },
   {
    "duration": 11,
    "start_time": "2023-04-11T20:37:43.103Z"
   },
   {
    "duration": 6,
    "start_time": "2023-04-11T20:37:43.842Z"
   },
   {
    "duration": 5,
    "start_time": "2023-04-11T20:39:58.877Z"
   },
   {
    "duration": 49,
    "start_time": "2023-04-11T20:40:25.734Z"
   },
   {
    "duration": 51,
    "start_time": "2023-04-11T20:40:38.312Z"
   },
   {
    "duration": 47,
    "start_time": "2023-04-11T20:40:45.215Z"
   },
   {
    "duration": 4,
    "start_time": "2023-04-11T20:40:56.334Z"
   },
   {
    "duration": 850,
    "start_time": "2023-04-11T20:41:00.194Z"
   },
   {
    "duration": 0,
    "start_time": "2023-04-11T20:41:01.045Z"
   },
   {
    "duration": 838,
    "start_time": "2023-04-11T20:41:06.258Z"
   },
   {
    "duration": 0,
    "start_time": "2023-04-11T20:41:07.098Z"
   },
   {
    "duration": 3,
    "start_time": "2023-04-11T20:41:14.576Z"
   },
   {
    "duration": 823,
    "start_time": "2023-04-11T20:41:15.083Z"
   },
   {
    "duration": 0,
    "start_time": "2023-04-11T20:41:15.908Z"
   },
   {
    "duration": 839,
    "start_time": "2023-04-11T20:41:16.545Z"
   },
   {
    "duration": 3,
    "start_time": "2023-04-11T20:41:21.731Z"
   },
   {
    "duration": 156,
    "start_time": "2023-04-11T20:41:21.981Z"
   },
   {
    "duration": 176,
    "start_time": "2023-04-11T20:41:22.262Z"
   },
   {
    "duration": 150,
    "start_time": "2023-04-11T20:41:22.687Z"
   },
   {
    "duration": 4,
    "start_time": "2023-04-11T20:41:39.020Z"
   },
   {
    "duration": 14,
    "start_time": "2023-04-11T20:41:39.567Z"
   },
   {
    "duration": 14,
    "start_time": "2023-04-11T20:41:39.984Z"
   },
   {
    "duration": 13,
    "start_time": "2023-04-11T20:41:40.559Z"
   },
   {
    "duration": 5,
    "start_time": "2023-04-11T20:41:41.455Z"
   },
   {
    "duration": 3,
    "start_time": "2023-04-11T20:45:26.623Z"
   },
   {
    "duration": 85,
    "start_time": "2023-04-11T20:45:27.854Z"
   },
   {
    "duration": 5,
    "start_time": "2023-04-11T20:46:31.481Z"
   },
   {
    "duration": 3,
    "start_time": "2023-04-11T20:46:40.570Z"
   },
   {
    "duration": 5,
    "start_time": "2023-04-11T20:46:41.987Z"
   },
   {
    "duration": 177,
    "start_time": "2023-04-11T20:46:43.560Z"
   },
   {
    "duration": 3,
    "start_time": "2023-04-11T20:47:04.008Z"
   },
   {
    "duration": 6,
    "start_time": "2023-04-11T20:47:04.725Z"
   },
   {
    "duration": 152,
    "start_time": "2023-04-11T20:47:07.386Z"
   },
   {
    "duration": 99,
    "start_time": "2023-04-11T20:47:40.337Z"
   },
   {
    "duration": 7,
    "start_time": "2023-04-11T20:47:47.591Z"
   },
   {
    "duration": 3,
    "start_time": "2023-04-11T20:48:13.316Z"
   },
   {
    "duration": 5,
    "start_time": "2023-04-11T20:48:13.780Z"
   },
   {
    "duration": 78,
    "start_time": "2023-04-11T20:48:14.759Z"
   },
   {
    "duration": 4,
    "start_time": "2023-04-11T20:48:25.484Z"
   },
   {
    "duration": 6,
    "start_time": "2023-04-11T20:48:25.866Z"
   },
   {
    "duration": 17,
    "start_time": "2023-04-11T20:48:26.706Z"
   },
   {
    "duration": 15,
    "start_time": "2023-04-11T20:48:27.478Z"
   },
   {
    "duration": 16,
    "start_time": "2023-04-11T20:48:28.216Z"
   },
   {
    "duration": 5,
    "start_time": "2023-04-11T20:48:29.060Z"
   },
   {
    "duration": 12,
    "start_time": "2023-04-11T20:48:36.865Z"
   },
   {
    "duration": 12,
    "start_time": "2023-04-11T20:48:38.023Z"
   },
   {
    "duration": 21,
    "start_time": "2023-04-11T20:48:38.808Z"
   },
   {
    "duration": 6,
    "start_time": "2023-04-11T20:49:06.798Z"
   },
   {
    "duration": 2,
    "start_time": "2023-04-11T20:49:52.315Z"
   },
   {
    "duration": 3,
    "start_time": "2023-04-11T20:50:03.437Z"
   },
   {
    "duration": 5,
    "start_time": "2023-04-11T20:50:09.038Z"
   },
   {
    "duration": 7,
    "start_time": "2023-04-11T20:50:19.962Z"
   },
   {
    "duration": 7,
    "start_time": "2023-04-11T20:50:33.987Z"
   },
   {
    "duration": 15,
    "start_time": "2023-04-11T20:50:40.805Z"
   },
   {
    "duration": 6,
    "start_time": "2023-04-11T20:50:53.822Z"
   },
   {
    "duration": 12,
    "start_time": "2023-04-11T20:51:21.559Z"
   },
   {
    "duration": 14,
    "start_time": "2023-04-11T20:51:27.204Z"
   },
   {
    "duration": 5,
    "start_time": "2023-04-11T20:51:39.231Z"
   },
   {
    "duration": 4,
    "start_time": "2023-04-11T20:52:02.937Z"
   },
   {
    "duration": 17,
    "start_time": "2023-04-11T20:52:03.734Z"
   },
   {
    "duration": 13,
    "start_time": "2023-04-11T20:52:04.388Z"
   },
   {
    "duration": 15,
    "start_time": "2023-04-11T20:52:05.004Z"
   },
   {
    "duration": 10,
    "start_time": "2023-04-11T20:53:00.703Z"
   },
   {
    "duration": 8,
    "start_time": "2023-04-11T20:53:02.946Z"
   },
   {
    "duration": 7,
    "start_time": "2023-04-11T20:53:08.610Z"
   },
   {
    "duration": 8,
    "start_time": "2023-04-11T20:53:11.327Z"
   },
   {
    "duration": 13,
    "start_time": "2023-04-11T20:53:20.046Z"
   },
   {
    "duration": 13,
    "start_time": "2023-04-11T20:53:25.135Z"
   },
   {
    "duration": 3,
    "start_time": "2023-04-11T21:01:23.034Z"
   },
   {
    "duration": 6,
    "start_time": "2023-04-11T21:01:51.660Z"
   },
   {
    "duration": 14,
    "start_time": "2023-04-11T21:02:46.764Z"
   },
   {
    "duration": 9,
    "start_time": "2023-04-11T21:03:18.096Z"
   },
   {
    "duration": 3,
    "start_time": "2023-04-11T21:03:59.450Z"
   },
   {
    "duration": 13,
    "start_time": "2023-04-11T21:04:23.686Z"
   },
   {
    "duration": 5,
    "start_time": "2023-04-11T21:04:26.167Z"
   },
   {
    "duration": 3,
    "start_time": "2023-04-11T21:04:32.540Z"
   },
   {
    "duration": 10,
    "start_time": "2023-04-11T21:04:32.927Z"
   },
   {
    "duration": 5,
    "start_time": "2023-04-11T21:04:33.289Z"
   },
   {
    "duration": 3,
    "start_time": "2023-04-11T21:04:47.860Z"
   },
   {
    "duration": 12,
    "start_time": "2023-04-11T21:04:48.527Z"
   },
   {
    "duration": 2,
    "start_time": "2023-04-11T21:05:01.974Z"
   },
   {
    "duration": 14,
    "start_time": "2023-04-11T21:05:02.372Z"
   },
   {
    "duration": 9,
    "start_time": "2023-04-11T21:05:03.404Z"
   },
   {
    "duration": 5,
    "start_time": "2023-04-11T21:06:26.300Z"
   },
   {
    "duration": 4,
    "start_time": "2023-04-11T21:06:40.615Z"
   },
   {
    "duration": 3,
    "start_time": "2023-04-11T21:09:51.876Z"
   },
   {
    "duration": 3,
    "start_time": "2023-04-11T21:10:18.477Z"
   },
   {
    "duration": 4,
    "start_time": "2023-04-11T21:10:23.983Z"
   },
   {
    "duration": 3,
    "start_time": "2023-04-11T21:10:48.087Z"
   },
   {
    "duration": 4,
    "start_time": "2023-04-11T21:10:53.709Z"
   },
   {
    "duration": 5,
    "start_time": "2023-04-11T21:11:07.559Z"
   },
   {
    "duration": 2,
    "start_time": "2023-04-11T21:13:06.975Z"
   },
   {
    "duration": 3,
    "start_time": "2023-04-11T21:13:15.507Z"
   },
   {
    "duration": 2,
    "start_time": "2023-04-11T21:13:51.522Z"
   },
   {
    "duration": 9,
    "start_time": "2023-04-11T21:15:25.682Z"
   },
   {
    "duration": 2,
    "start_time": "2023-04-11T21:15:30.521Z"
   },
   {
    "duration": 4,
    "start_time": "2023-04-11T21:15:30.846Z"
   },
   {
    "duration": 4,
    "start_time": "2023-04-11T21:15:36.143Z"
   },
   {
    "duration": 15,
    "start_time": "2023-04-11T21:15:36.565Z"
   },
   {
    "duration": 11,
    "start_time": "2023-04-11T21:15:37.403Z"
   },
   {
    "duration": 4,
    "start_time": "2023-04-11T21:15:53.682Z"
   },
   {
    "duration": 7,
    "start_time": "2023-04-11T21:15:54.570Z"
   },
   {
    "duration": 8,
    "start_time": "2023-04-11T21:15:55.106Z"
   },
   {
    "duration": 5,
    "start_time": "2023-04-11T21:15:55.462Z"
   },
   {
    "duration": 1686,
    "start_time": "2023-04-12T14:02:25.434Z"
   },
   {
    "duration": 957,
    "start_time": "2023-04-12T14:02:27.122Z"
   },
   {
    "duration": 3,
    "start_time": "2023-04-12T14:02:28.081Z"
   },
   {
    "duration": 28,
    "start_time": "2023-04-12T14:02:28.086Z"
   },
   {
    "duration": 55,
    "start_time": "2023-04-12T14:02:28.116Z"
   },
   {
    "duration": 68,
    "start_time": "2023-04-12T14:02:28.173Z"
   },
   {
    "duration": 65,
    "start_time": "2023-04-12T14:02:28.244Z"
   },
   {
    "duration": 176,
    "start_time": "2023-04-12T14:02:28.312Z"
   },
   {
    "duration": 5,
    "start_time": "2023-04-12T14:02:28.490Z"
   },
   {
    "duration": 422,
    "start_time": "2023-04-12T14:02:28.497Z"
   },
   {
    "duration": 358,
    "start_time": "2023-04-12T14:02:28.921Z"
   },
   {
    "duration": 314,
    "start_time": "2023-04-12T14:02:29.280Z"
   },
   {
    "duration": 4,
    "start_time": "2023-04-12T14:02:29.596Z"
   },
   {
    "duration": 741,
    "start_time": "2023-04-12T14:02:29.602Z"
   },
   {
    "duration": 759,
    "start_time": "2023-04-12T14:02:30.345Z"
   },
   {
    "duration": 723,
    "start_time": "2023-04-12T14:02:31.106Z"
   },
   {
    "duration": 11,
    "start_time": "2023-04-12T14:02:31.831Z"
   },
   {
    "duration": 31,
    "start_time": "2023-04-12T14:02:31.844Z"
   },
   {
    "duration": 42,
    "start_time": "2023-04-12T14:02:31.877Z"
   },
   {
    "duration": 40,
    "start_time": "2023-04-12T14:02:31.921Z"
   },
   {
    "duration": 37,
    "start_time": "2023-04-12T14:02:31.963Z"
   },
   {
    "duration": 51,
    "start_time": "2023-04-12T14:02:32.002Z"
   },
   {
    "duration": 28,
    "start_time": "2023-04-12T14:02:32.055Z"
   },
   {
    "duration": 215,
    "start_time": "2023-04-12T14:02:32.085Z"
   },
   {
    "duration": 5,
    "start_time": "2023-04-12T14:02:32.301Z"
   },
   {
    "duration": 16,
    "start_time": "2023-04-12T14:02:32.308Z"
   },
   {
    "duration": 77,
    "start_time": "2023-04-12T14:02:32.326Z"
   },
   {
    "duration": 9,
    "start_time": "2023-04-12T14:02:32.407Z"
   },
   {
    "duration": 16,
    "start_time": "2023-04-12T14:02:32.418Z"
   },
   {
    "duration": 45,
    "start_time": "2023-04-12T14:02:32.436Z"
   },
   {
    "duration": 181,
    "start_time": "2023-04-12T14:02:32.483Z"
   },
   {
    "duration": 101,
    "start_time": "2023-04-12T14:02:32.671Z"
   },
   {
    "duration": 87,
    "start_time": "2023-04-12T14:02:32.778Z"
   },
   {
    "duration": 100,
    "start_time": "2023-04-12T14:02:32.874Z"
   },
   {
    "duration": 11,
    "start_time": "2023-04-12T14:02:32.976Z"
   },
   {
    "duration": 4,
    "start_time": "2023-04-12T14:02:32.989Z"
   },
   {
    "duration": 6,
    "start_time": "2023-04-12T14:02:32.994Z"
   },
   {
    "duration": 6,
    "start_time": "2023-04-12T14:02:33.001Z"
   },
   {
    "duration": 17,
    "start_time": "2023-04-12T14:02:33.009Z"
   },
   {
    "duration": 35,
    "start_time": "2023-04-12T14:02:33.028Z"
   },
   {
    "duration": 9,
    "start_time": "2023-04-12T14:02:33.064Z"
   },
   {
    "duration": 5,
    "start_time": "2023-04-12T14:02:33.075Z"
   },
   {
    "duration": 18,
    "start_time": "2023-04-12T14:02:33.081Z"
   },
   {
    "duration": 10,
    "start_time": "2023-04-12T14:02:33.101Z"
   },
   {
    "duration": 20,
    "start_time": "2023-04-12T14:02:33.113Z"
   },
   {
    "duration": 1423,
    "start_time": "2023-04-12T18:27:29.726Z"
   },
   {
    "duration": 844,
    "start_time": "2023-04-12T18:27:31.151Z"
   },
   {
    "duration": 3,
    "start_time": "2023-04-12T18:27:31.996Z"
   },
   {
    "duration": 35,
    "start_time": "2023-04-12T18:27:32.001Z"
   },
   {
    "duration": 41,
    "start_time": "2023-04-12T18:27:32.037Z"
   },
   {
    "duration": 37,
    "start_time": "2023-04-12T18:27:32.080Z"
   },
   {
    "duration": 38,
    "start_time": "2023-04-12T18:27:32.136Z"
   },
   {
    "duration": 123,
    "start_time": "2023-04-12T18:27:32.175Z"
   },
   {
    "duration": 4,
    "start_time": "2023-04-12T18:27:32.299Z"
   },
   {
    "duration": 394,
    "start_time": "2023-04-12T18:27:32.305Z"
   },
   {
    "duration": 320,
    "start_time": "2023-04-12T18:27:32.701Z"
   },
   {
    "duration": 291,
    "start_time": "2023-04-12T18:27:33.023Z"
   },
   {
    "duration": 4,
    "start_time": "2023-04-12T18:27:33.316Z"
   },
   {
    "duration": 569,
    "start_time": "2023-04-12T18:27:33.321Z"
   },
   {
    "duration": 518,
    "start_time": "2023-04-12T18:27:33.892Z"
   },
   {
    "duration": 495,
    "start_time": "2023-04-12T18:27:34.412Z"
   },
   {
    "duration": 10,
    "start_time": "2023-04-12T18:27:34.908Z"
   },
   {
    "duration": 19,
    "start_time": "2023-04-12T18:27:34.919Z"
   },
   {
    "duration": 17,
    "start_time": "2023-04-12T18:27:34.940Z"
   },
   {
    "duration": 18,
    "start_time": "2023-04-12T18:27:34.959Z"
   },
   {
    "duration": 15,
    "start_time": "2023-04-12T18:27:34.979Z"
   },
   {
    "duration": 4,
    "start_time": "2023-04-12T18:27:34.996Z"
   },
   {
    "duration": 18,
    "start_time": "2023-04-12T18:27:35.001Z"
   },
   {
    "duration": 137,
    "start_time": "2023-04-12T18:27:35.021Z"
   },
   {
    "duration": 3,
    "start_time": "2023-04-12T18:27:35.159Z"
   },
   {
    "duration": 6,
    "start_time": "2023-04-12T18:27:35.164Z"
   },
   {
    "duration": 38,
    "start_time": "2023-04-12T18:27:35.171Z"
   },
   {
    "duration": 7,
    "start_time": "2023-04-12T18:27:35.212Z"
   },
   {
    "duration": 4,
    "start_time": "2023-04-12T18:27:35.220Z"
   },
   {
    "duration": 24,
    "start_time": "2023-04-12T18:27:35.236Z"
   },
   {
    "duration": 82,
    "start_time": "2023-04-12T18:27:35.261Z"
   },
   {
    "duration": 96,
    "start_time": "2023-04-12T18:27:35.344Z"
   },
   {
    "duration": 96,
    "start_time": "2023-04-12T18:27:35.442Z"
   },
   {
    "duration": 128,
    "start_time": "2023-04-12T18:27:35.540Z"
   },
   {
    "duration": 10,
    "start_time": "2023-04-12T18:27:35.669Z"
   },
   {
    "duration": 13,
    "start_time": "2023-04-12T18:27:35.681Z"
   },
   {
    "duration": 6,
    "start_time": "2023-04-12T18:27:35.695Z"
   },
   {
    "duration": 8,
    "start_time": "2023-04-12T18:27:35.702Z"
   },
   {
    "duration": 28,
    "start_time": "2023-04-12T18:27:35.711Z"
   },
   {
    "duration": 9,
    "start_time": "2023-04-12T18:27:35.741Z"
   },
   {
    "duration": 8,
    "start_time": "2023-04-12T18:27:35.752Z"
   },
   {
    "duration": 42,
    "start_time": "2023-04-12T18:27:35.762Z"
   },
   {
    "duration": 0,
    "start_time": "2023-04-12T18:27:35.806Z"
   },
   {
    "duration": 0,
    "start_time": "2023-04-12T18:27:35.808Z"
   },
   {
    "duration": 1,
    "start_time": "2023-04-12T18:27:35.808Z"
   },
   {
    "duration": 3,
    "start_time": "2023-04-12T18:38:23.453Z"
   },
   {
    "duration": 4,
    "start_time": "2023-04-12T18:38:30.557Z"
   },
   {
    "duration": 4,
    "start_time": "2023-04-12T18:41:21.177Z"
   },
   {
    "duration": 3,
    "start_time": "2023-04-12T18:42:43.423Z"
   },
   {
    "duration": 4,
    "start_time": "2023-04-12T18:42:47.619Z"
   },
   {
    "duration": 3,
    "start_time": "2023-04-12T18:42:47.981Z"
   },
   {
    "duration": 3,
    "start_time": "2023-04-12T18:58:58.957Z"
   },
   {
    "duration": 243,
    "start_time": "2023-04-12T19:05:35.122Z"
   },
   {
    "duration": 381,
    "start_time": "2023-04-12T19:06:42.184Z"
   },
   {
    "duration": 144,
    "start_time": "2023-04-12T19:06:44.977Z"
   },
   {
    "duration": 149,
    "start_time": "2023-04-12T19:07:15.276Z"
   },
   {
    "duration": 89,
    "start_time": "2023-04-12T19:07:40.568Z"
   },
   {
    "duration": 778,
    "start_time": "2023-04-12T19:07:56.704Z"
   },
   {
    "duration": 129,
    "start_time": "2023-04-12T19:08:32.678Z"
   },
   {
    "duration": 108,
    "start_time": "2023-04-12T19:08:48.893Z"
   },
   {
    "duration": 88,
    "start_time": "2023-04-12T19:08:53.376Z"
   },
   {
    "duration": 95,
    "start_time": "2023-04-12T19:09:01.992Z"
   },
   {
    "duration": 92,
    "start_time": "2023-04-12T19:09:06.727Z"
   },
   {
    "duration": 320,
    "start_time": "2023-04-12T19:10:57.938Z"
   },
   {
    "duration": 87,
    "start_time": "2023-04-12T19:11:05.618Z"
   },
   {
    "duration": 165,
    "start_time": "2023-04-12T19:11:10.539Z"
   },
   {
    "duration": 137,
    "start_time": "2023-04-12T19:11:19.462Z"
   },
   {
    "duration": 146,
    "start_time": "2023-04-12T19:11:28.700Z"
   },
   {
    "duration": 142,
    "start_time": "2023-04-12T19:11:40.616Z"
   },
   {
    "duration": 3137,
    "start_time": "2023-04-12T19:12:06.633Z"
   },
   {
    "duration": 138,
    "start_time": "2023-04-12T19:12:41.963Z"
   },
   {
    "duration": 187,
    "start_time": "2023-04-12T19:12:58.877Z"
   },
   {
    "duration": 174,
    "start_time": "2023-04-12T19:13:09.432Z"
   },
   {
    "duration": 139,
    "start_time": "2023-04-12T19:13:14.159Z"
   },
   {
    "duration": 3,
    "start_time": "2023-04-12T19:16:48.312Z"
   },
   {
    "duration": 3,
    "start_time": "2023-04-12T19:16:48.737Z"
   },
   {
    "duration": 3,
    "start_time": "2023-04-12T19:16:49.265Z"
   },
   {
    "duration": 4,
    "start_time": "2023-04-12T19:16:49.842Z"
   },
   {
    "duration": 3,
    "start_time": "2023-04-12T19:16:56.574Z"
   },
   {
    "duration": 3,
    "start_time": "2023-04-12T19:16:56.891Z"
   },
   {
    "duration": 4,
    "start_time": "2023-04-12T19:16:57.175Z"
   },
   {
    "duration": 4,
    "start_time": "2023-04-12T19:16:57.459Z"
   },
   {
    "duration": 4,
    "start_time": "2023-04-12T19:25:26.622Z"
   },
   {
    "duration": 4,
    "start_time": "2023-04-12T19:25:29.067Z"
   },
   {
    "duration": 4,
    "start_time": "2023-04-12T19:25:29.421Z"
   },
   {
    "duration": 3,
    "start_time": "2023-04-12T19:25:29.916Z"
   },
   {
    "duration": 9,
    "start_time": "2023-04-12T19:25:33.480Z"
   },
   {
    "duration": 10,
    "start_time": "2023-04-12T19:25:50.538Z"
   },
   {
    "duration": 9,
    "start_time": "2023-04-12T19:25:55.687Z"
   },
   {
    "duration": 4,
    "start_time": "2023-04-12T19:26:24.240Z"
   },
   {
    "duration": 4,
    "start_time": "2023-04-12T19:26:28.843Z"
   },
   {
    "duration": 4,
    "start_time": "2023-04-12T19:26:46.578Z"
   },
   {
    "duration": 11,
    "start_time": "2023-04-12T19:26:57.013Z"
   },
   {
    "duration": 5,
    "start_time": "2023-04-12T19:27:03.479Z"
   },
   {
    "duration": 5,
    "start_time": "2023-04-12T19:27:13.608Z"
   },
   {
    "duration": 5,
    "start_time": "2023-04-12T19:27:17.256Z"
   },
   {
    "duration": 4,
    "start_time": "2023-04-12T19:27:23.056Z"
   },
   {
    "duration": 5,
    "start_time": "2023-04-12T19:27:25.530Z"
   },
   {
    "duration": 4,
    "start_time": "2023-04-12T19:27:30.179Z"
   },
   {
    "duration": 8,
    "start_time": "2023-04-12T19:27:35.516Z"
   },
   {
    "duration": 4,
    "start_time": "2023-04-12T19:28:03.135Z"
   },
   {
    "duration": 4,
    "start_time": "2023-04-12T19:28:03.711Z"
   },
   {
    "duration": 4,
    "start_time": "2023-04-12T19:28:04.029Z"
   },
   {
    "duration": 4,
    "start_time": "2023-04-12T19:28:04.441Z"
   },
   {
    "duration": 154,
    "start_time": "2023-04-12T19:32:56.153Z"
   },
   {
    "duration": 161,
    "start_time": "2023-04-12T19:33:03.422Z"
   },
   {
    "duration": 165,
    "start_time": "2023-04-12T19:33:07.102Z"
   },
   {
    "duration": 138,
    "start_time": "2023-04-12T19:33:14.215Z"
   },
   {
    "duration": 152,
    "start_time": "2023-04-12T19:33:18.813Z"
   },
   {
    "duration": 150,
    "start_time": "2023-04-12T19:33:32.867Z"
   },
   {
    "duration": 45,
    "start_time": "2023-04-12T19:37:14.402Z"
   },
   {
    "duration": 3,
    "start_time": "2023-04-12T19:37:25.734Z"
   },
   {
    "duration": 5,
    "start_time": "2023-04-12T19:37:39.597Z"
   },
   {
    "duration": 4,
    "start_time": "2023-04-12T19:38:01.936Z"
   },
   {
    "duration": 6,
    "start_time": "2023-04-12T19:38:02.394Z"
   },
   {
    "duration": 4,
    "start_time": "2023-04-12T19:38:22.584Z"
   },
   {
    "duration": 7,
    "start_time": "2023-04-12T19:38:23.752Z"
   },
   {
    "duration": 3,
    "start_time": "2023-04-12T19:38:29.477Z"
   },
   {
    "duration": 6,
    "start_time": "2023-04-12T19:38:31.347Z"
   },
   {
    "duration": 4,
    "start_time": "2023-04-12T19:38:56.955Z"
   },
   {
    "duration": 8,
    "start_time": "2023-04-12T19:38:57.834Z"
   },
   {
    "duration": 3,
    "start_time": "2023-04-12T19:39:14.652Z"
   },
   {
    "duration": 6,
    "start_time": "2023-04-12T19:39:15.791Z"
   },
   {
    "duration": 3,
    "start_time": "2023-04-12T19:39:25.627Z"
   },
   {
    "duration": 5,
    "start_time": "2023-04-12T19:39:26.285Z"
   },
   {
    "duration": 4,
    "start_time": "2023-04-12T19:39:47.816Z"
   },
   {
    "duration": 5,
    "start_time": "2023-04-12T19:39:48.431Z"
   },
   {
    "duration": 4,
    "start_time": "2023-04-12T19:40:01.995Z"
   },
   {
    "duration": 4,
    "start_time": "2023-04-12T19:40:02.764Z"
   },
   {
    "duration": 5,
    "start_time": "2023-04-12T19:40:06.455Z"
   },
   {
    "duration": 3,
    "start_time": "2023-04-12T19:40:16.812Z"
   },
   {
    "duration": 5,
    "start_time": "2023-04-12T19:40:17.216Z"
   },
   {
    "duration": 1226,
    "start_time": "2023-04-12T19:40:33.862Z"
   },
   {
    "duration": 317,
    "start_time": "2023-04-12T19:40:35.090Z"
   },
   {
    "duration": 3,
    "start_time": "2023-04-12T19:40:35.408Z"
   },
   {
    "duration": 40,
    "start_time": "2023-04-12T19:40:35.413Z"
   },
   {
    "duration": 47,
    "start_time": "2023-04-12T19:40:35.454Z"
   },
   {
    "duration": 51,
    "start_time": "2023-04-12T19:40:35.502Z"
   },
   {
    "duration": 38,
    "start_time": "2023-04-12T19:40:35.554Z"
   },
   {
    "duration": 122,
    "start_time": "2023-04-12T19:40:35.594Z"
   },
   {
    "duration": 3,
    "start_time": "2023-04-12T19:40:35.718Z"
   },
   {
    "duration": 308,
    "start_time": "2023-04-12T19:40:35.723Z"
   },
   {
    "duration": 291,
    "start_time": "2023-04-12T19:40:36.033Z"
   },
   {
    "duration": 297,
    "start_time": "2023-04-12T19:40:36.325Z"
   },
   {
    "duration": 13,
    "start_time": "2023-04-12T19:40:36.624Z"
   },
   {
    "duration": 577,
    "start_time": "2023-04-12T19:40:36.638Z"
   },
   {
    "duration": 492,
    "start_time": "2023-04-12T19:40:37.217Z"
   },
   {
    "duration": 475,
    "start_time": "2023-04-12T19:40:37.710Z"
   },
   {
    "duration": 10,
    "start_time": "2023-04-12T19:40:38.187Z"
   },
   {
    "duration": 9,
    "start_time": "2023-04-12T19:40:38.198Z"
   },
   {
    "duration": 4,
    "start_time": "2023-04-12T19:40:38.208Z"
   },
   {
    "duration": 23,
    "start_time": "2023-04-12T19:40:38.213Z"
   },
   {
    "duration": 24,
    "start_time": "2023-04-12T19:40:38.237Z"
   },
   {
    "duration": 3,
    "start_time": "2023-04-12T19:40:38.262Z"
   },
   {
    "duration": 5,
    "start_time": "2023-04-12T19:40:38.266Z"
   },
   {
    "duration": 130,
    "start_time": "2023-04-12T19:40:38.272Z"
   },
   {
    "duration": 3,
    "start_time": "2023-04-12T19:40:38.403Z"
   },
   {
    "duration": 7,
    "start_time": "2023-04-12T19:40:38.408Z"
   },
   {
    "duration": 42,
    "start_time": "2023-04-12T19:40:38.416Z"
   },
   {
    "duration": 7,
    "start_time": "2023-04-12T19:40:38.461Z"
   },
   {
    "duration": 4,
    "start_time": "2023-04-12T19:40:38.469Z"
   },
   {
    "duration": 62,
    "start_time": "2023-04-12T19:40:38.475Z"
   },
   {
    "duration": 101,
    "start_time": "2023-04-12T19:40:38.538Z"
   },
   {
    "duration": 97,
    "start_time": "2023-04-12T19:40:38.642Z"
   },
   {
    "duration": 4,
    "start_time": "2023-04-12T19:40:38.741Z"
   },
   {
    "duration": 100,
    "start_time": "2023-04-12T19:40:38.839Z"
   },
   {
    "duration": 9,
    "start_time": "2023-04-12T19:40:38.941Z"
   },
   {
    "duration": 9,
    "start_time": "2023-04-12T19:40:38.952Z"
   },
   {
    "duration": 7,
    "start_time": "2023-04-12T19:40:38.962Z"
   },
   {
    "duration": 4,
    "start_time": "2023-04-12T19:40:38.970Z"
   },
   {
    "duration": 15,
    "start_time": "2023-04-12T19:40:38.976Z"
   },
   {
    "duration": 7,
    "start_time": "2023-04-12T19:40:38.992Z"
   },
   {
    "duration": 4,
    "start_time": "2023-04-12T19:40:39.000Z"
   },
   {
    "duration": 10,
    "start_time": "2023-04-12T19:40:39.005Z"
   },
   {
    "duration": 22,
    "start_time": "2023-04-12T19:40:39.016Z"
   },
   {
    "duration": 7,
    "start_time": "2023-04-12T19:40:39.039Z"
   },
   {
    "duration": 3,
    "start_time": "2023-04-12T19:40:39.048Z"
   },
   {
    "duration": 4,
    "start_time": "2023-04-12T19:40:39.053Z"
   },
   {
    "duration": 10,
    "start_time": "2023-04-12T19:40:39.058Z"
   },
   {
    "duration": 10,
    "start_time": "2023-04-12T19:40:39.070Z"
   },
   {
    "duration": 3,
    "start_time": "2023-04-12T19:40:53.217Z"
   },
   {
    "duration": 360,
    "start_time": "2023-04-12T19:40:53.585Z"
   },
   {
    "duration": 3,
    "start_time": "2023-04-12T19:41:06.953Z"
   },
   {
    "duration": 345,
    "start_time": "2023-04-12T19:41:10.727Z"
   },
   {
    "duration": 335,
    "start_time": "2023-04-12T19:41:25.890Z"
   },
   {
    "duration": 394,
    "start_time": "2023-04-12T19:41:56.533Z"
   },
   {
    "duration": 4,
    "start_time": "2023-04-12T19:42:02.463Z"
   },
   {
    "duration": 6,
    "start_time": "2023-04-12T19:42:02.853Z"
   },
   {
    "duration": 3,
    "start_time": "2023-04-12T19:42:10.432Z"
   },
   {
    "duration": 6,
    "start_time": "2023-04-12T19:42:10.943Z"
   },
   {
    "duration": 3,
    "start_time": "2023-04-12T19:42:14.588Z"
   },
   {
    "duration": 5,
    "start_time": "2023-04-12T19:42:14.946Z"
   },
   {
    "duration": 3,
    "start_time": "2023-04-12T19:42:17.151Z"
   },
   {
    "duration": 5,
    "start_time": "2023-04-12T19:42:17.369Z"
   },
   {
    "duration": 3,
    "start_time": "2023-04-12T19:42:55.335Z"
   },
   {
    "duration": 347,
    "start_time": "2023-04-12T19:43:03.608Z"
   },
   {
    "duration": 429,
    "start_time": "2023-04-12T19:43:06.603Z"
   },
   {
    "duration": 492,
    "start_time": "2023-04-12T19:44:09.437Z"
   },
   {
    "duration": 342,
    "start_time": "2023-04-12T19:44:16.170Z"
   },
   {
    "duration": 363,
    "start_time": "2023-04-12T19:44:30.756Z"
   },
   {
    "duration": 352,
    "start_time": "2023-04-12T19:44:34.058Z"
   },
   {
    "duration": 452,
    "start_time": "2023-04-12T19:44:37.817Z"
   },
   {
    "duration": 543,
    "start_time": "2023-04-12T19:44:45.476Z"
   },
   {
    "duration": 622,
    "start_time": "2023-04-12T19:44:49.179Z"
   },
   {
    "duration": 497,
    "start_time": "2023-04-12T19:44:53.187Z"
   },
   {
    "duration": 482,
    "start_time": "2023-04-12T19:44:57.416Z"
   },
   {
    "duration": 493,
    "start_time": "2023-04-12T19:45:00.959Z"
   },
   {
    "duration": 3,
    "start_time": "2023-04-12T19:45:15.371Z"
   },
   {
    "duration": 498,
    "start_time": "2023-04-12T19:45:16.477Z"
   },
   {
    "duration": 5,
    "start_time": "2023-04-12T19:45:24.924Z"
   },
   {
    "duration": 528,
    "start_time": "2023-04-12T19:45:25.724Z"
   },
   {
    "duration": 538,
    "start_time": "2023-04-12T19:45:30.716Z"
   },
   {
    "duration": 492,
    "start_time": "2023-04-12T19:45:37.866Z"
   },
   {
    "duration": 584,
    "start_time": "2023-04-12T19:45:41.985Z"
   },
   {
    "duration": 48,
    "start_time": "2023-04-12T19:50:04.867Z"
   },
   {
    "duration": 3,
    "start_time": "2023-04-12T19:50:20.195Z"
   },
   {
    "duration": 12,
    "start_time": "2023-04-12T19:50:49.779Z"
   },
   {
    "duration": 4,
    "start_time": "2023-04-12T19:51:05.739Z"
   },
   {
    "duration": 13,
    "start_time": "2023-04-12T19:51:06.094Z"
   },
   {
    "duration": 4,
    "start_time": "2023-04-12T19:51:22.449Z"
   },
   {
    "duration": 17,
    "start_time": "2023-04-12T19:51:22.822Z"
   },
   {
    "duration": 4,
    "start_time": "2023-04-12T19:51:28.928Z"
   },
   {
    "duration": 1238,
    "start_time": "2023-04-12T19:53:21.969Z"
   },
   {
    "duration": 312,
    "start_time": "2023-04-12T19:53:23.208Z"
   },
   {
    "duration": 3,
    "start_time": "2023-04-12T19:53:23.521Z"
   },
   {
    "duration": 27,
    "start_time": "2023-04-12T19:53:23.525Z"
   },
   {
    "duration": 42,
    "start_time": "2023-04-12T19:53:23.554Z"
   },
   {
    "duration": 57,
    "start_time": "2023-04-12T19:53:23.597Z"
   },
   {
    "duration": 37,
    "start_time": "2023-04-12T19:53:23.656Z"
   },
   {
    "duration": 117,
    "start_time": "2023-04-12T19:53:23.694Z"
   },
   {
    "duration": 3,
    "start_time": "2023-04-12T19:53:23.813Z"
   },
   {
    "duration": 324,
    "start_time": "2023-04-12T19:53:23.817Z"
   },
   {
    "duration": 272,
    "start_time": "2023-04-12T19:53:24.143Z"
   },
   {
    "duration": 298,
    "start_time": "2023-04-12T19:53:24.417Z"
   },
   {
    "duration": 5,
    "start_time": "2023-04-12T19:53:24.716Z"
   },
   {
    "duration": 582,
    "start_time": "2023-04-12T19:53:24.723Z"
   },
   {
    "duration": 634,
    "start_time": "2023-04-12T19:53:25.307Z"
   },
   {
    "duration": 498,
    "start_time": "2023-04-12T19:53:25.943Z"
   },
   {
    "duration": 10,
    "start_time": "2023-04-12T19:53:26.443Z"
   },
   {
    "duration": 9,
    "start_time": "2023-04-12T19:53:26.455Z"
   },
   {
    "duration": 4,
    "start_time": "2023-04-12T19:53:26.466Z"
   },
   {
    "duration": 10,
    "start_time": "2023-04-12T19:53:26.471Z"
   },
   {
    "duration": 10,
    "start_time": "2023-04-12T19:53:26.483Z"
   },
   {
    "duration": 2,
    "start_time": "2023-04-12T19:53:26.495Z"
   },
   {
    "duration": 37,
    "start_time": "2023-04-12T19:53:26.499Z"
   },
   {
    "duration": 129,
    "start_time": "2023-04-12T19:53:26.538Z"
   },
   {
    "duration": 3,
    "start_time": "2023-04-12T19:53:26.669Z"
   },
   {
    "duration": 5,
    "start_time": "2023-04-12T19:53:26.674Z"
   },
   {
    "duration": 40,
    "start_time": "2023-04-12T19:53:26.681Z"
   },
   {
    "duration": 7,
    "start_time": "2023-04-12T19:53:26.736Z"
   },
   {
    "duration": 8,
    "start_time": "2023-04-12T19:53:26.745Z"
   },
   {
    "duration": 19,
    "start_time": "2023-04-12T19:53:26.754Z"
   },
   {
    "duration": 165,
    "start_time": "2023-04-12T19:53:26.775Z"
   },
   {
    "duration": 97,
    "start_time": "2023-04-12T19:53:26.942Z"
   },
   {
    "duration": 4,
    "start_time": "2023-04-12T19:53:27.041Z"
   },
   {
    "duration": 103,
    "start_time": "2023-04-12T19:53:27.136Z"
   },
   {
    "duration": 9,
    "start_time": "2023-04-12T19:53:27.240Z"
   },
   {
    "duration": 3,
    "start_time": "2023-04-12T19:53:27.251Z"
   },
   {
    "duration": 10,
    "start_time": "2023-04-12T19:53:27.255Z"
   },
   {
    "duration": 3,
    "start_time": "2023-04-12T19:53:27.266Z"
   },
   {
    "duration": 13,
    "start_time": "2023-04-12T19:53:27.270Z"
   },
   {
    "duration": 7,
    "start_time": "2023-04-12T19:53:27.284Z"
   },
   {
    "duration": 4,
    "start_time": "2023-04-12T19:53:27.294Z"
   },
   {
    "duration": 5,
    "start_time": "2023-04-12T19:53:27.299Z"
   },
   {
    "duration": 32,
    "start_time": "2023-04-12T19:53:27.305Z"
   },
   {
    "duration": 3,
    "start_time": "2023-04-12T19:53:27.338Z"
   },
   {
    "duration": 3,
    "start_time": "2023-04-12T19:53:27.343Z"
   },
   {
    "duration": 6,
    "start_time": "2023-04-12T19:53:27.348Z"
   },
   {
    "duration": 518,
    "start_time": "2023-04-12T19:53:27.355Z"
   },
   {
    "duration": 3,
    "start_time": "2023-04-12T19:53:27.875Z"
   },
   {
    "duration": 1218,
    "start_time": "2023-04-12T20:00:33.676Z"
   },
   {
    "duration": 325,
    "start_time": "2023-04-12T20:00:34.896Z"
   },
   {
    "duration": 3,
    "start_time": "2023-04-12T20:00:35.222Z"
   },
   {
    "duration": 28,
    "start_time": "2023-04-12T20:00:35.226Z"
   },
   {
    "duration": 43,
    "start_time": "2023-04-12T20:00:35.256Z"
   },
   {
    "duration": 59,
    "start_time": "2023-04-12T20:00:35.300Z"
   },
   {
    "duration": 40,
    "start_time": "2023-04-12T20:00:35.360Z"
   },
   {
    "duration": 115,
    "start_time": "2023-04-12T20:00:35.401Z"
   },
   {
    "duration": 3,
    "start_time": "2023-04-12T20:00:35.518Z"
   },
   {
    "duration": 326,
    "start_time": "2023-04-12T20:00:35.536Z"
   },
   {
    "duration": 265,
    "start_time": "2023-04-12T20:00:35.864Z"
   },
   {
    "duration": 295,
    "start_time": "2023-04-12T20:00:36.130Z"
   },
   {
    "duration": 11,
    "start_time": "2023-04-12T20:00:36.426Z"
   },
   {
    "duration": 575,
    "start_time": "2023-04-12T20:00:36.439Z"
   },
   {
    "duration": 514,
    "start_time": "2023-04-12T20:00:37.015Z"
   },
   {
    "duration": 497,
    "start_time": "2023-04-12T20:00:37.530Z"
   },
   {
    "duration": 13,
    "start_time": "2023-04-12T20:00:38.028Z"
   },
   {
    "duration": 10,
    "start_time": "2023-04-12T20:00:38.042Z"
   },
   {
    "duration": 6,
    "start_time": "2023-04-12T20:00:38.053Z"
   },
   {
    "duration": 16,
    "start_time": "2023-04-12T20:00:38.060Z"
   },
   {
    "duration": 15,
    "start_time": "2023-04-12T20:00:38.077Z"
   },
   {
    "duration": 3,
    "start_time": "2023-04-12T20:00:38.094Z"
   },
   {
    "duration": 4,
    "start_time": "2023-04-12T20:00:38.099Z"
   },
   {
    "duration": 143,
    "start_time": "2023-04-12T20:00:38.105Z"
   },
   {
    "duration": 3,
    "start_time": "2023-04-12T20:00:38.249Z"
   },
   {
    "duration": 11,
    "start_time": "2023-04-12T20:00:38.253Z"
   },
   {
    "duration": 46,
    "start_time": "2023-04-12T20:00:38.265Z"
   },
   {
    "duration": 7,
    "start_time": "2023-04-12T20:00:38.312Z"
   },
   {
    "duration": 7,
    "start_time": "2023-04-12T20:00:38.320Z"
   },
   {
    "duration": 19,
    "start_time": "2023-04-12T20:00:38.328Z"
   },
   {
    "duration": 191,
    "start_time": "2023-04-12T20:00:38.348Z"
   },
   {
    "duration": 103,
    "start_time": "2023-04-12T20:00:38.540Z"
   },
   {
    "duration": 92,
    "start_time": "2023-04-12T20:00:38.645Z"
   },
   {
    "duration": 102,
    "start_time": "2023-04-12T20:00:38.741Z"
   },
   {
    "duration": 9,
    "start_time": "2023-04-12T20:00:38.845Z"
   },
   {
    "duration": 3,
    "start_time": "2023-04-12T20:00:38.855Z"
   },
   {
    "duration": 4,
    "start_time": "2023-04-12T20:00:38.860Z"
   },
   {
    "duration": 4,
    "start_time": "2023-04-12T20:00:38.866Z"
   },
   {
    "duration": 13,
    "start_time": "2023-04-12T20:00:38.871Z"
   },
   {
    "duration": 7,
    "start_time": "2023-04-12T20:00:38.886Z"
   },
   {
    "duration": 3,
    "start_time": "2023-04-12T20:00:38.896Z"
   },
   {
    "duration": 37,
    "start_time": "2023-04-12T20:00:38.900Z"
   },
   {
    "duration": 3,
    "start_time": "2023-04-12T20:00:38.939Z"
   },
   {
    "duration": 4,
    "start_time": "2023-04-12T20:00:38.944Z"
   },
   {
    "duration": 4,
    "start_time": "2023-04-12T20:00:38.949Z"
   },
   {
    "duration": 4,
    "start_time": "2023-04-12T20:00:38.954Z"
   },
   {
    "duration": 519,
    "start_time": "2023-04-12T20:00:38.959Z"
   },
   {
    "duration": 3,
    "start_time": "2023-04-12T20:00:39.480Z"
   },
   {
    "duration": 1212,
    "start_time": "2023-04-12T20:01:39.861Z"
   },
   {
    "duration": 318,
    "start_time": "2023-04-12T20:01:41.074Z"
   },
   {
    "duration": 3,
    "start_time": "2023-04-12T20:01:41.393Z"
   },
   {
    "duration": 28,
    "start_time": "2023-04-12T20:01:41.397Z"
   },
   {
    "duration": 45,
    "start_time": "2023-04-12T20:01:41.428Z"
   },
   {
    "duration": 38,
    "start_time": "2023-04-12T20:01:41.474Z"
   },
   {
    "duration": 57,
    "start_time": "2023-04-12T20:01:41.514Z"
   },
   {
    "duration": 108,
    "start_time": "2023-04-12T20:01:41.573Z"
   },
   {
    "duration": 3,
    "start_time": "2023-04-12T20:01:41.682Z"
   },
   {
    "duration": 353,
    "start_time": "2023-04-12T20:01:41.687Z"
   },
   {
    "duration": 295,
    "start_time": "2023-04-12T20:01:42.041Z"
   },
   {
    "duration": 324,
    "start_time": "2023-04-12T20:01:42.337Z"
   },
   {
    "duration": 5,
    "start_time": "2023-04-12T20:01:42.662Z"
   },
   {
    "duration": 592,
    "start_time": "2023-04-12T20:01:42.670Z"
   },
   {
    "duration": 520,
    "start_time": "2023-04-12T20:01:43.264Z"
   },
   {
    "duration": 496,
    "start_time": "2023-04-12T20:01:43.786Z"
   },
   {
    "duration": 13,
    "start_time": "2023-04-12T20:01:44.283Z"
   },
   {
    "duration": 11,
    "start_time": "2023-04-12T20:01:44.298Z"
   },
   {
    "duration": 6,
    "start_time": "2023-04-12T20:01:44.310Z"
   },
   {
    "duration": 23,
    "start_time": "2023-04-12T20:01:44.318Z"
   },
   {
    "duration": 11,
    "start_time": "2023-04-12T20:01:44.342Z"
   },
   {
    "duration": 5,
    "start_time": "2023-04-12T20:01:44.354Z"
   },
   {
    "duration": 4,
    "start_time": "2023-04-12T20:01:44.360Z"
   },
   {
    "duration": 136,
    "start_time": "2023-04-12T20:01:44.366Z"
   },
   {
    "duration": 3,
    "start_time": "2023-04-12T20:01:44.503Z"
   },
   {
    "duration": 8,
    "start_time": "2023-04-12T20:01:44.507Z"
   },
   {
    "duration": 45,
    "start_time": "2023-04-12T20:01:44.516Z"
   },
   {
    "duration": 6,
    "start_time": "2023-04-12T20:01:44.564Z"
   },
   {
    "duration": 4,
    "start_time": "2023-04-12T20:01:44.572Z"
   },
   {
    "duration": 61,
    "start_time": "2023-04-12T20:01:44.577Z"
   },
   {
    "duration": 99,
    "start_time": "2023-04-12T20:01:44.640Z"
   },
   {
    "duration": 100,
    "start_time": "2023-04-12T20:01:44.740Z"
   },
   {
    "duration": 100,
    "start_time": "2023-04-12T20:01:44.841Z"
   },
   {
    "duration": 106,
    "start_time": "2023-04-12T20:01:44.942Z"
   },
   {
    "duration": 22,
    "start_time": "2023-04-12T20:01:45.050Z"
   },
   {
    "duration": 13,
    "start_time": "2023-04-12T20:01:45.073Z"
   },
   {
    "duration": 5,
    "start_time": "2023-04-12T20:01:45.087Z"
   },
   {
    "duration": 3,
    "start_time": "2023-04-12T20:01:45.094Z"
   },
   {
    "duration": 18,
    "start_time": "2023-04-12T20:01:45.098Z"
   },
   {
    "duration": 7,
    "start_time": "2023-04-12T20:01:45.117Z"
   },
   {
    "duration": 10,
    "start_time": "2023-04-12T20:01:45.127Z"
   },
   {
    "duration": 6,
    "start_time": "2023-04-12T20:01:45.138Z"
   },
   {
    "duration": 5,
    "start_time": "2023-04-12T20:01:45.145Z"
   },
   {
    "duration": 19,
    "start_time": "2023-04-12T20:01:45.151Z"
   },
   {
    "duration": 4,
    "start_time": "2023-04-12T20:01:45.171Z"
   },
   {
    "duration": 4,
    "start_time": "2023-04-12T20:01:45.177Z"
   },
   {
    "duration": 521,
    "start_time": "2023-04-12T20:01:45.182Z"
   },
   {
    "duration": 3,
    "start_time": "2023-04-12T20:01:45.704Z"
   },
   {
    "duration": 486,
    "start_time": "2023-04-12T20:05:23.342Z"
   },
   {
    "duration": 751,
    "start_time": "2023-04-12T20:05:37.800Z"
   },
   {
    "duration": 662,
    "start_time": "2023-04-12T20:06:22.135Z"
   },
   {
    "duration": 4,
    "start_time": "2023-04-12T20:26:52.074Z"
   },
   {
    "duration": 540,
    "start_time": "2023-04-12T20:26:52.476Z"
   },
   {
    "duration": 492,
    "start_time": "2023-04-12T20:28:44.562Z"
   },
   {
    "duration": 467,
    "start_time": "2023-04-12T20:28:48.125Z"
   },
   {
    "duration": 496,
    "start_time": "2023-04-12T20:28:50.850Z"
   },
   {
    "duration": 482,
    "start_time": "2023-04-12T20:28:54.446Z"
   },
   {
    "duration": 96,
    "start_time": "2023-04-12T20:29:51.577Z"
   },
   {
    "duration": 146,
    "start_time": "2023-04-12T20:29:56.714Z"
   },
   {
    "duration": 212,
    "start_time": "2023-04-12T20:30:04.273Z"
   },
   {
    "duration": 1470,
    "start_time": "2023-04-12T20:30:09.101Z"
   },
   {
    "duration": 326,
    "start_time": "2023-04-12T20:30:17.944Z"
   },
   {
    "duration": 556,
    "start_time": "2023-04-12T20:30:32.015Z"
   },
   {
    "duration": 325,
    "start_time": "2023-04-12T20:30:40.619Z"
   },
   {
    "duration": 9,
    "start_time": "2023-04-12T20:43:33.385Z"
   },
   {
    "duration": 495,
    "start_time": "2023-04-12T20:43:37.575Z"
   },
   {
    "duration": 3,
    "start_time": "2023-04-12T20:45:40.853Z"
   },
   {
    "duration": 489,
    "start_time": "2023-04-12T20:45:41.306Z"
   },
   {
    "duration": 729,
    "start_time": "2023-04-12T20:46:00.391Z"
   },
   {
    "duration": 594,
    "start_time": "2023-04-12T20:46:10.733Z"
   },
   {
    "duration": 521,
    "start_time": "2023-04-12T20:46:21.774Z"
   },
   {
    "duration": 489,
    "start_time": "2023-04-12T20:46:50.680Z"
   },
   {
    "duration": 2,
    "start_time": "2023-04-12T20:47:25.199Z"
   },
   {
    "duration": 4,
    "start_time": "2023-04-12T20:47:26.000Z"
   },
   {
    "duration": 4,
    "start_time": "2023-04-12T20:47:27.225Z"
   },
   {
    "duration": 3,
    "start_time": "2023-04-12T20:47:27.855Z"
   },
   {
    "duration": 3,
    "start_time": "2023-04-12T20:48:33.094Z"
   },
   {
    "duration": 506,
    "start_time": "2023-04-12T20:48:33.778Z"
   },
   {
    "duration": 490,
    "start_time": "2023-04-12T20:48:37.349Z"
   },
   {
    "duration": 506,
    "start_time": "2023-04-12T20:48:39.802Z"
   },
   {
    "duration": 496,
    "start_time": "2023-04-12T20:49:27.173Z"
   },
   {
    "duration": 494,
    "start_time": "2023-04-12T20:49:40.588Z"
   },
   {
    "duration": 122,
    "start_time": "2023-04-12T20:50:24.775Z"
   },
   {
    "duration": 42,
    "start_time": "2023-04-12T20:50:47.075Z"
   },
   {
    "duration": 212,
    "start_time": "2023-04-12T20:50:50.259Z"
   },
   {
    "duration": 128,
    "start_time": "2023-04-12T20:51:31.531Z"
   },
   {
    "duration": 210,
    "start_time": "2023-04-12T20:51:37.493Z"
   },
   {
    "duration": 527,
    "start_time": "2023-04-12T20:51:49.283Z"
   },
   {
    "duration": 243,
    "start_time": "2023-04-12T20:51:54.383Z"
   },
   {
    "duration": 261,
    "start_time": "2023-04-12T20:52:56.773Z"
   },
   {
    "duration": 651,
    "start_time": "2023-04-12T20:53:08.073Z"
   },
   {
    "duration": 4,
    "start_time": "2023-04-12T20:55:08.193Z"
   },
   {
    "duration": 3,
    "start_time": "2023-04-12T20:55:10.887Z"
   },
   {
    "duration": 3,
    "start_time": "2023-04-12T20:55:43.147Z"
   },
   {
    "duration": 206,
    "start_time": "2023-04-12T20:57:03.816Z"
   },
   {
    "duration": 162,
    "start_time": "2023-04-12T20:57:41.477Z"
   },
   {
    "duration": 144,
    "start_time": "2023-04-12T20:57:46.051Z"
   },
   {
    "duration": 145,
    "start_time": "2023-04-12T20:57:48.091Z"
   },
   {
    "duration": 169,
    "start_time": "2023-04-12T20:58:03.596Z"
   },
   {
    "duration": 345,
    "start_time": "2023-04-12T20:58:44.274Z"
   },
   {
    "duration": 4,
    "start_time": "2023-04-12T21:00:00.615Z"
   },
   {
    "duration": 488,
    "start_time": "2023-04-12T21:00:56.606Z"
   },
   {
    "duration": 400,
    "start_time": "2023-04-12T21:01:17.608Z"
   },
   {
    "duration": 412,
    "start_time": "2023-04-12T21:01:29.126Z"
   },
   {
    "duration": 402,
    "start_time": "2023-04-12T21:01:45.991Z"
   },
   {
    "duration": 407,
    "start_time": "2023-04-12T21:01:51.786Z"
   },
   {
    "duration": 415,
    "start_time": "2023-04-12T21:02:07.951Z"
   },
   {
    "duration": 602,
    "start_time": "2023-04-12T21:02:12.275Z"
   },
   {
    "duration": 563,
    "start_time": "2023-04-12T21:02:19.026Z"
   },
   {
    "duration": 566,
    "start_time": "2023-04-12T21:02:47.780Z"
   },
   {
    "duration": 692,
    "start_time": "2023-04-12T21:03:05.412Z"
   },
   {
    "duration": 626,
    "start_time": "2023-04-12T21:03:07.268Z"
   },
   {
    "duration": 656,
    "start_time": "2023-04-12T21:03:31.348Z"
   },
   {
    "duration": 617,
    "start_time": "2023-04-12T21:03:39.957Z"
   },
   {
    "duration": 867,
    "start_time": "2023-04-12T21:03:44.021Z"
   },
   {
    "duration": 407,
    "start_time": "2023-04-12T21:04:17.930Z"
   },
   {
    "duration": 4,
    "start_time": "2023-04-12T21:04:23.899Z"
   },
   {
    "duration": 605,
    "start_time": "2023-04-12T21:04:24.221Z"
   },
   {
    "duration": 664,
    "start_time": "2023-04-12T21:04:32.350Z"
   },
   {
    "duration": 637,
    "start_time": "2023-04-12T21:04:39.228Z"
   },
   {
    "duration": 1701,
    "start_time": "2023-04-13T19:15:58.692Z"
   },
   {
    "duration": 1698,
    "start_time": "2023-04-13T19:16:00.395Z"
   },
   {
    "duration": 4,
    "start_time": "2023-04-13T19:16:02.095Z"
   },
   {
    "duration": 82,
    "start_time": "2023-04-13T19:16:02.100Z"
   },
   {
    "duration": 66,
    "start_time": "2023-04-13T19:16:02.186Z"
   },
   {
    "duration": 49,
    "start_time": "2023-04-13T19:16:02.255Z"
   },
   {
    "duration": 47,
    "start_time": "2023-04-13T19:16:02.307Z"
   },
   {
    "duration": 143,
    "start_time": "2023-04-13T19:16:02.355Z"
   },
   {
    "duration": 3,
    "start_time": "2023-04-13T19:16:02.500Z"
   },
   {
    "duration": 358,
    "start_time": "2023-04-13T19:16:02.505Z"
   },
   {
    "duration": 352,
    "start_time": "2023-04-13T19:16:02.865Z"
   },
   {
    "duration": 320,
    "start_time": "2023-04-13T19:16:03.219Z"
   },
   {
    "duration": 5,
    "start_time": "2023-04-13T19:16:03.542Z"
   },
   {
    "duration": 694,
    "start_time": "2023-04-13T19:16:03.551Z"
   },
   {
    "duration": 604,
    "start_time": "2023-04-13T19:16:04.247Z"
   },
   {
    "duration": 682,
    "start_time": "2023-04-13T19:16:04.853Z"
   },
   {
    "duration": 10,
    "start_time": "2023-04-13T19:16:05.537Z"
   },
   {
    "duration": 13,
    "start_time": "2023-04-13T19:16:05.549Z"
   },
   {
    "duration": 7,
    "start_time": "2023-04-13T19:16:05.564Z"
   },
   {
    "duration": 22,
    "start_time": "2023-04-13T19:16:05.573Z"
   },
   {
    "duration": 17,
    "start_time": "2023-04-13T19:16:05.596Z"
   },
   {
    "duration": 19,
    "start_time": "2023-04-13T19:16:05.615Z"
   },
   {
    "duration": 22,
    "start_time": "2023-04-13T19:16:05.635Z"
   },
   {
    "duration": 60,
    "start_time": "2023-04-13T19:16:05.659Z"
   },
   {
    "duration": 4,
    "start_time": "2023-04-13T19:16:05.721Z"
   },
   {
    "duration": 16,
    "start_time": "2023-04-13T19:16:05.726Z"
   },
   {
    "duration": 61,
    "start_time": "2023-04-13T19:16:05.744Z"
   },
   {
    "duration": 8,
    "start_time": "2023-04-13T19:16:05.807Z"
   },
   {
    "duration": 17,
    "start_time": "2023-04-13T19:16:05.816Z"
   },
   {
    "duration": 55,
    "start_time": "2023-04-13T19:16:05.835Z"
   },
   {
    "duration": 109,
    "start_time": "2023-04-13T19:16:05.893Z"
   },
   {
    "duration": 188,
    "start_time": "2023-04-13T19:16:06.004Z"
   },
   {
    "duration": 195,
    "start_time": "2023-04-13T19:16:06.194Z"
   },
   {
    "duration": 32,
    "start_time": "2023-04-13T19:16:06.390Z"
   },
   {
    "duration": 16,
    "start_time": "2023-04-13T19:16:06.424Z"
   },
   {
    "duration": 9,
    "start_time": "2023-04-13T19:16:06.442Z"
   },
   {
    "duration": 7,
    "start_time": "2023-04-13T19:16:06.453Z"
   },
   {
    "duration": 9,
    "start_time": "2023-04-13T19:16:06.461Z"
   },
   {
    "duration": 19,
    "start_time": "2023-04-13T19:16:06.472Z"
   },
   {
    "duration": 10,
    "start_time": "2023-04-13T19:16:06.492Z"
   },
   {
    "duration": 9,
    "start_time": "2023-04-13T19:16:06.506Z"
   },
   {
    "duration": 11,
    "start_time": "2023-04-13T19:16:06.517Z"
   },
   {
    "duration": 17,
    "start_time": "2023-04-13T19:16:06.530Z"
   },
   {
    "duration": 7,
    "start_time": "2023-04-13T19:16:06.548Z"
   },
   {
    "duration": 8,
    "start_time": "2023-04-13T19:16:06.556Z"
   },
   {
    "duration": 665,
    "start_time": "2023-04-13T19:16:06.566Z"
   },
   {
    "duration": 661,
    "start_time": "2023-04-13T19:16:07.233Z"
   },
   {
    "duration": 684,
    "start_time": "2023-04-13T19:16:07.895Z"
   },
   {
    "duration": 6,
    "start_time": "2023-04-13T19:16:08.581Z"
   },
   {
    "duration": 3,
    "start_time": "2023-04-13T19:55:02.532Z"
   },
   {
    "duration": 126,
    "start_time": "2023-04-13T19:55:11.997Z"
   },
   {
    "duration": 6,
    "start_time": "2023-04-13T19:55:14.752Z"
   },
   {
    "duration": 9,
    "start_time": "2023-04-13T19:55:50.084Z"
   },
   {
    "duration": 4,
    "start_time": "2023-04-13T19:55:53.250Z"
   },
   {
    "duration": 5,
    "start_time": "2023-04-13T19:55:58.101Z"
   },
   {
    "duration": 158,
    "start_time": "2023-04-13T19:59:32.203Z"
   },
   {
    "duration": 6,
    "start_time": "2023-04-13T19:59:43.785Z"
   },
   {
    "duration": 17,
    "start_time": "2023-04-13T20:00:00.482Z"
   },
   {
    "duration": 4,
    "start_time": "2023-04-13T20:00:07.520Z"
   },
   {
    "duration": 748,
    "start_time": "2023-04-13T20:00:07.986Z"
   },
   {
    "duration": 9,
    "start_time": "2023-04-13T20:00:09.688Z"
   },
   {
    "duration": 6,
    "start_time": "2023-04-13T20:00:20.633Z"
   },
   {
    "duration": 5,
    "start_time": "2023-04-13T20:00:26.558Z"
   },
   {
    "duration": 17,
    "start_time": "2023-04-13T20:00:33.385Z"
   },
   {
    "duration": 5,
    "start_time": "2023-04-13T20:00:52.156Z"
   },
   {
    "duration": 4,
    "start_time": "2023-04-13T20:02:55.186Z"
   },
   {
    "duration": 720,
    "start_time": "2023-04-13T20:02:57.838Z"
   },
   {
    "duration": 7,
    "start_time": "2023-04-13T20:03:00.347Z"
   },
   {
    "duration": 16,
    "start_time": "2023-04-13T20:03:17.085Z"
   },
   {
    "duration": 685,
    "start_time": "2023-04-13T20:03:17.485Z"
   },
   {
    "duration": 6,
    "start_time": "2023-04-13T20:03:19.010Z"
   },
   {
    "duration": 6,
    "start_time": "2023-04-13T20:03:48.701Z"
   },
   {
    "duration": 3,
    "start_time": "2023-04-13T20:03:59.868Z"
   },
   {
    "duration": 772,
    "start_time": "2023-04-13T20:04:00.204Z"
   },
   {
    "duration": 27,
    "start_time": "2023-04-13T20:04:02.382Z"
   },
   {
    "duration": 8,
    "start_time": "2023-04-13T20:04:21.286Z"
   },
   {
    "duration": 845,
    "start_time": "2023-04-13T20:04:21.648Z"
   },
   {
    "duration": 6,
    "start_time": "2023-04-13T20:04:23.122Z"
   },
   {
    "duration": 553,
    "start_time": "2023-04-13T20:05:00.492Z"
   },
   {
    "duration": 688,
    "start_time": "2023-04-13T20:05:08.945Z"
   },
   {
    "duration": 660,
    "start_time": "2023-04-13T20:05:18.114Z"
   },
   {
    "duration": 5,
    "start_time": "2023-04-13T20:06:15.385Z"
   },
   {
    "duration": 410,
    "start_time": "2023-04-13T20:06:23.753Z"
   },
   {
    "duration": 506,
    "start_time": "2023-04-13T20:06:31.947Z"
   },
   {
    "duration": 4,
    "start_time": "2023-04-13T20:06:39.270Z"
   },
   {
    "duration": 415,
    "start_time": "2023-04-13T20:06:39.909Z"
   },
   {
    "duration": 641,
    "start_time": "2023-04-13T20:06:44.928Z"
   },
   {
    "duration": 433,
    "start_time": "2023-04-13T20:08:21.298Z"
   },
   {
    "duration": 448,
    "start_time": "2023-04-13T20:08:31.236Z"
   },
   {
    "duration": 437,
    "start_time": "2023-04-13T20:08:52.614Z"
   },
   {
    "duration": 428,
    "start_time": "2023-04-13T20:09:03.438Z"
   },
   {
    "duration": 453,
    "start_time": "2023-04-13T20:09:34.946Z"
   },
   {
    "duration": 467,
    "start_time": "2023-04-13T20:10:31.654Z"
   },
   {
    "duration": 4,
    "start_time": "2023-04-13T20:11:10.997Z"
   },
   {
    "duration": 591,
    "start_time": "2023-04-13T20:11:13.320Z"
   },
   {
    "duration": 3,
    "start_time": "2023-04-13T20:11:18.996Z"
   },
   {
    "duration": 9,
    "start_time": "2023-04-13T20:11:19.401Z"
   },
   {
    "duration": 508,
    "start_time": "2023-04-13T20:11:20.031Z"
   },
   {
    "duration": 124,
    "start_time": "2023-04-13T20:12:21.038Z"
   },
   {
    "duration": 431,
    "start_time": "2023-04-13T20:12:27.696Z"
   },
   {
    "duration": 7,
    "start_time": "2023-04-13T20:12:49.594Z"
   },
   {
    "duration": 421,
    "start_time": "2023-04-13T20:13:52.491Z"
   },
   {
    "duration": 6,
    "start_time": "2023-04-13T20:13:52.914Z"
   },
   {
    "duration": 7,
    "start_time": "2023-04-13T20:14:04.784Z"
   },
   {
    "duration": 6,
    "start_time": "2023-04-13T20:14:11.223Z"
   },
   {
    "duration": 4,
    "start_time": "2023-04-13T20:15:05.100Z"
   },
   {
    "duration": 3,
    "start_time": "2023-04-13T20:20:25.440Z"
   },
   {
    "duration": 18,
    "start_time": "2023-04-13T20:20:47.283Z"
   },
   {
    "duration": 4,
    "start_time": "2023-04-13T20:21:01.883Z"
   },
   {
    "duration": 9,
    "start_time": "2023-04-13T20:21:02.323Z"
   },
   {
    "duration": 3,
    "start_time": "2023-04-13T20:26:29.520Z"
   },
   {
    "duration": 14,
    "start_time": "2023-04-13T20:26:43.522Z"
   },
   {
    "duration": 5,
    "start_time": "2023-04-13T20:27:12.312Z"
   },
   {
    "duration": 6,
    "start_time": "2023-04-13T20:27:16.506Z"
   },
   {
    "duration": 14,
    "start_time": "2023-04-13T20:27:17.110Z"
   },
   {
    "duration": 16,
    "start_time": "2023-04-13T20:27:30.954Z"
   },
   {
    "duration": 9,
    "start_time": "2023-04-13T20:27:31.755Z"
   },
   {
    "duration": 13,
    "start_time": "2023-04-13T20:27:35.693Z"
   },
   {
    "duration": 4,
    "start_time": "2023-04-13T20:28:06.163Z"
   },
   {
    "duration": 26,
    "start_time": "2023-04-13T20:28:06.610Z"
   },
   {
    "duration": 4,
    "start_time": "2023-04-13T20:28:14.418Z"
   },
   {
    "duration": 15,
    "start_time": "2023-04-13T20:28:14.975Z"
   },
   {
    "duration": 3,
    "start_time": "2023-04-13T20:34:54.852Z"
   },
   {
    "duration": 5,
    "start_time": "2023-04-13T20:35:09.391Z"
   },
   {
    "duration": 4,
    "start_time": "2023-04-13T20:35:30.011Z"
   },
   {
    "duration": 5,
    "start_time": "2023-04-13T20:35:30.402Z"
   },
   {
    "duration": 4,
    "start_time": "2023-04-13T20:35:49.426Z"
   },
   {
    "duration": 4,
    "start_time": "2023-04-13T20:35:49.837Z"
   },
   {
    "duration": 3,
    "start_time": "2023-04-13T20:35:54.133Z"
   },
   {
    "duration": 3,
    "start_time": "2023-04-13T20:35:56.205Z"
   },
   {
    "duration": 4,
    "start_time": "2023-04-13T20:35:57.043Z"
   },
   {
    "duration": 5,
    "start_time": "2023-04-13T20:35:59.351Z"
   },
   {
    "duration": 4,
    "start_time": "2023-04-13T20:36:05.394Z"
   },
   {
    "duration": 5,
    "start_time": "2023-04-13T20:36:22.258Z"
   },
   {
    "duration": 5,
    "start_time": "2023-04-13T20:36:25.001Z"
   },
   {
    "duration": 11,
    "start_time": "2023-04-13T20:36:31.944Z"
   },
   {
    "duration": 9,
    "start_time": "2023-04-13T20:36:35.807Z"
   },
   {
    "duration": 11,
    "start_time": "2023-04-13T20:36:40.876Z"
   },
   {
    "duration": 9,
    "start_time": "2023-04-13T20:36:46.904Z"
   },
   {
    "duration": 9,
    "start_time": "2023-04-13T20:36:48.835Z"
   },
   {
    "duration": 182,
    "start_time": "2023-04-13T20:37:12.520Z"
   },
   {
    "duration": 463,
    "start_time": "2023-04-13T20:37:22.428Z"
   },
   {
    "duration": 3,
    "start_time": "2023-04-13T20:37:41.426Z"
   },
   {
    "duration": 4,
    "start_time": "2023-04-13T20:37:42.075Z"
   },
   {
    "duration": 5,
    "start_time": "2023-04-13T20:37:48.378Z"
   },
   {
    "duration": 5,
    "start_time": "2023-04-13T20:37:50.625Z"
   },
   {
    "duration": 5,
    "start_time": "2023-04-13T20:38:53.956Z"
   },
   {
    "duration": 5,
    "start_time": "2023-04-13T20:39:00.128Z"
   },
   {
    "duration": 10,
    "start_time": "2023-04-13T20:39:41.588Z"
   },
   {
    "duration": 3,
    "start_time": "2023-04-13T20:44:43.196Z"
   },
   {
    "duration": 397,
    "start_time": "2023-04-13T20:46:06.392Z"
   },
   {
    "duration": 349,
    "start_time": "2023-04-13T20:46:14.202Z"
   },
   {
    "duration": 10,
    "start_time": "2023-04-13T20:46:54.239Z"
   },
   {
    "duration": 11,
    "start_time": "2023-04-13T20:48:20.849Z"
   },
   {
    "duration": 5,
    "start_time": "2023-04-13T20:48:38.446Z"
   },
   {
    "duration": 12,
    "start_time": "2023-04-13T20:48:47.038Z"
   },
   {
    "duration": 15,
    "start_time": "2023-04-13T20:49:26.845Z"
   },
   {
    "duration": 8,
    "start_time": "2023-04-13T20:50:49.431Z"
   },
   {
    "duration": 9,
    "start_time": "2023-04-13T20:50:53.068Z"
   },
   {
    "duration": 9,
    "start_time": "2023-04-13T20:50:54.694Z"
   },
   {
    "duration": 7,
    "start_time": "2023-04-13T20:50:56.857Z"
   },
   {
    "duration": 7,
    "start_time": "2023-04-13T20:50:57.970Z"
   },
   {
    "duration": 7,
    "start_time": "2023-04-13T20:50:59.143Z"
   },
   {
    "duration": 8,
    "start_time": "2023-04-13T20:51:00.205Z"
   },
   {
    "duration": 6,
    "start_time": "2023-04-13T20:52:11.377Z"
   },
   {
    "duration": 3425,
    "start_time": "2023-04-13T20:52:31.849Z"
   },
   {
    "duration": 5,
    "start_time": "2023-04-13T20:52:59.663Z"
   },
   {
    "duration": 708,
    "start_time": "2023-04-13T20:53:03.092Z"
   },
   {
    "duration": 685,
    "start_time": "2023-04-13T20:53:36.915Z"
   },
   {
    "duration": 676,
    "start_time": "2023-04-13T20:53:43.012Z"
   },
   {
    "duration": 750,
    "start_time": "2023-04-13T20:53:50.336Z"
   },
   {
    "duration": 734,
    "start_time": "2023-04-13T20:54:04.508Z"
   },
   {
    "duration": 3,
    "start_time": "2023-04-13T20:57:00.269Z"
   },
   {
    "duration": 4,
    "start_time": "2023-04-13T21:03:03.982Z"
   },
   {
    "duration": 14,
    "start_time": "2023-04-13T21:03:43.610Z"
   },
   {
    "duration": 3,
    "start_time": "2023-04-13T21:03:51.286Z"
   },
   {
    "duration": 21,
    "start_time": "2023-04-13T21:03:51.688Z"
   },
   {
    "duration": 6,
    "start_time": "2023-04-13T21:06:37.791Z"
   },
   {
    "duration": 141,
    "start_time": "2023-04-13T21:06:49.325Z"
   },
   {
    "duration": 6,
    "start_time": "2023-04-13T21:07:06.628Z"
   },
   {
    "duration": 129,
    "start_time": "2023-04-13T21:07:27.331Z"
   },
   {
    "duration": 136,
    "start_time": "2023-04-13T21:07:31.353Z"
   },
   {
    "duration": 247,
    "start_time": "2023-04-13T21:07:44.145Z"
   },
   {
    "duration": 255,
    "start_time": "2023-04-13T21:07:47.189Z"
   },
   {
    "duration": 224,
    "start_time": "2023-04-13T21:07:49.605Z"
   },
   {
    "duration": 242,
    "start_time": "2023-04-13T21:07:51.504Z"
   },
   {
    "duration": 466,
    "start_time": "2023-04-13T21:07:52.944Z"
   },
   {
    "duration": 262,
    "start_time": "2023-04-13T21:07:54.381Z"
   },
   {
    "duration": 250,
    "start_time": "2023-04-13T21:08:04.075Z"
   },
   {
    "duration": 243,
    "start_time": "2023-04-13T21:08:09.668Z"
   },
   {
    "duration": 6,
    "start_time": "2023-04-13T21:08:16.152Z"
   },
   {
    "duration": 6,
    "start_time": "2023-04-13T21:08:18.309Z"
   },
   {
    "duration": 5,
    "start_time": "2023-04-13T21:08:19.386Z"
   },
   {
    "duration": 8,
    "start_time": "2023-04-13T21:08:20.455Z"
   },
   {
    "duration": 5,
    "start_time": "2023-04-13T21:08:22.921Z"
   },
   {
    "duration": 610,
    "start_time": "2023-04-13T21:08:53.653Z"
   },
   {
    "duration": 648,
    "start_time": "2023-04-13T21:08:59.403Z"
   },
   {
    "duration": 620,
    "start_time": "2023-04-13T21:09:19.285Z"
   },
   {
    "duration": 767,
    "start_time": "2023-04-13T21:09:34.763Z"
   },
   {
    "duration": 778,
    "start_time": "2023-04-13T21:09:54.356Z"
   },
   {
    "duration": 804,
    "start_time": "2023-04-13T21:09:58.074Z"
   },
   {
    "duration": 748,
    "start_time": "2023-04-13T21:10:28.469Z"
   },
   {
    "duration": 792,
    "start_time": "2023-04-13T21:10:47.341Z"
   },
   {
    "duration": 775,
    "start_time": "2023-04-13T21:11:01.305Z"
   },
   {
    "duration": 816,
    "start_time": "2023-04-13T21:11:24.285Z"
   },
   {
    "duration": 769,
    "start_time": "2023-04-13T21:12:39.376Z"
   },
   {
    "duration": 805,
    "start_time": "2023-04-13T21:13:01.055Z"
   },
   {
    "duration": 798,
    "start_time": "2023-04-13T21:13:12.358Z"
   },
   {
    "duration": 771,
    "start_time": "2023-04-13T21:13:39.066Z"
   },
   {
    "duration": 771,
    "start_time": "2023-04-13T21:13:51.727Z"
   },
   {
    "duration": 780,
    "start_time": "2023-04-13T21:14:02.860Z"
   },
   {
    "duration": 809,
    "start_time": "2023-04-13T21:14:19.470Z"
   },
   {
    "duration": 797,
    "start_time": "2023-04-13T21:14:26.197Z"
   },
   {
    "duration": 791,
    "start_time": "2023-04-13T21:14:51.794Z"
   },
   {
    "duration": 780,
    "start_time": "2023-04-13T21:15:07.022Z"
   },
   {
    "duration": 819,
    "start_time": "2023-04-13T21:16:40.522Z"
   },
   {
    "duration": 746,
    "start_time": "2023-04-13T21:17:45.503Z"
   },
   {
    "duration": 31,
    "start_time": "2023-04-13T21:18:39.391Z"
   },
   {
    "duration": 34,
    "start_time": "2023-04-13T21:19:27.250Z"
   },
   {
    "duration": 37,
    "start_time": "2023-04-13T21:20:35.949Z"
   },
   {
    "duration": 36,
    "start_time": "2023-04-13T21:20:43.521Z"
   },
   {
    "duration": 25,
    "start_time": "2023-04-13T21:21:06.238Z"
   },
   {
    "duration": 34,
    "start_time": "2023-04-13T21:21:27.146Z"
   },
   {
    "duration": 24,
    "start_time": "2023-04-13T21:22:33.002Z"
   },
   {
    "duration": 49,
    "start_time": "2023-04-13T21:23:00.850Z"
   },
   {
    "duration": 50,
    "start_time": "2023-04-13T21:23:28.748Z"
   },
   {
    "duration": 16,
    "start_time": "2023-04-13T21:24:19.070Z"
   },
   {
    "duration": 17,
    "start_time": "2023-04-13T21:24:44.004Z"
   },
   {
    "duration": 14,
    "start_time": "2023-04-13T21:24:56.826Z"
   },
   {
    "duration": 158,
    "start_time": "2023-04-13T21:25:27.597Z"
   },
   {
    "duration": 259,
    "start_time": "2023-04-13T21:25:41.801Z"
   },
   {
    "duration": 151,
    "start_time": "2023-04-13T21:25:47.812Z"
   },
   {
    "duration": 269,
    "start_time": "2023-04-13T21:25:51.863Z"
   },
   {
    "duration": 338,
    "start_time": "2023-04-13T21:25:55.591Z"
   },
   {
    "duration": 330,
    "start_time": "2023-04-13T21:26:05.020Z"
   },
   {
    "duration": 1065,
    "start_time": "2023-04-13T21:26:10.463Z"
   },
   {
    "duration": 1029,
    "start_time": "2023-04-13T21:26:31.119Z"
   },
   {
    "duration": 971,
    "start_time": "2023-04-13T21:26:38.531Z"
   },
   {
    "duration": 935,
    "start_time": "2023-04-13T21:26:48.259Z"
   },
   {
    "duration": 958,
    "start_time": "2023-04-13T21:26:56.520Z"
   },
   {
    "duration": 972,
    "start_time": "2023-04-13T21:27:10.890Z"
   },
   {
    "duration": 959,
    "start_time": "2023-04-13T21:27:17.710Z"
   },
   {
    "duration": 992,
    "start_time": "2023-04-13T21:27:58.490Z"
   },
   {
    "duration": 1037,
    "start_time": "2023-04-13T21:28:06.017Z"
   },
   {
    "duration": 1008,
    "start_time": "2023-04-13T21:28:13.558Z"
   },
   {
    "duration": 1001,
    "start_time": "2023-04-13T21:28:26.702Z"
   },
   {
    "duration": 1018,
    "start_time": "2023-04-13T21:28:33.131Z"
   },
   {
    "duration": 1051,
    "start_time": "2023-04-13T21:30:02.959Z"
   },
   {
    "duration": 980,
    "start_time": "2023-04-13T21:30:23.764Z"
   },
   {
    "duration": 989,
    "start_time": "2023-04-13T21:30:37.879Z"
   },
   {
    "duration": 1547,
    "start_time": "2023-04-13T21:30:58.858Z"
   },
   {
    "duration": 1028,
    "start_time": "2023-04-13T21:31:07.662Z"
   },
   {
    "duration": 1037,
    "start_time": "2023-04-13T21:31:16.157Z"
   },
   {
    "duration": 1015,
    "start_time": "2023-04-13T21:31:20.572Z"
   },
   {
    "duration": 1038,
    "start_time": "2023-04-13T21:31:23.935Z"
   },
   {
    "duration": 22,
    "start_time": "2023-04-13T21:34:14.012Z"
   },
   {
    "duration": 3,
    "start_time": "2023-04-13T21:34:53.605Z"
   },
   {
    "duration": 3,
    "start_time": "2023-04-13T21:35:33.233Z"
   },
   {
    "duration": 8,
    "start_time": "2023-04-13T21:35:47.506Z"
   },
   {
    "duration": 3,
    "start_time": "2023-04-13T21:36:20.780Z"
   },
   {
    "duration": 11,
    "start_time": "2023-04-13T21:36:21.281Z"
   },
   {
    "duration": 3,
    "start_time": "2023-04-13T21:36:51.468Z"
   },
   {
    "duration": 6,
    "start_time": "2023-04-13T21:36:52.202Z"
   },
   {
    "duration": 3,
    "start_time": "2023-04-13T21:37:07.470Z"
   },
   {
    "duration": 9,
    "start_time": "2023-04-13T21:37:07.845Z"
   },
   {
    "duration": 4,
    "start_time": "2023-04-13T21:37:14.096Z"
   },
   {
    "duration": 8,
    "start_time": "2023-04-13T21:37:15.183Z"
   },
   {
    "duration": 4,
    "start_time": "2023-04-13T21:37:23.754Z"
   },
   {
    "duration": 7,
    "start_time": "2023-04-13T21:37:24.517Z"
   },
   {
    "duration": 7,
    "start_time": "2023-04-13T21:37:48.665Z"
   },
   {
    "duration": 9,
    "start_time": "2023-04-13T21:37:55.058Z"
   },
   {
    "duration": 4,
    "start_time": "2023-04-13T21:38:36.636Z"
   },
   {
    "duration": 8,
    "start_time": "2023-04-13T21:38:37.227Z"
   },
   {
    "duration": 7,
    "start_time": "2023-04-13T21:38:37.835Z"
   },
   {
    "duration": 8,
    "start_time": "2023-04-13T21:38:38.251Z"
   },
   {
    "duration": 91,
    "start_time": "2023-04-13T21:39:00.141Z"
   },
   {
    "duration": 4,
    "start_time": "2023-04-13T21:39:04.700Z"
   },
   {
    "duration": 957,
    "start_time": "2023-04-13T21:39:17.736Z"
   },
   {
    "duration": 943,
    "start_time": "2023-04-13T21:39:41.355Z"
   },
   {
    "duration": 956,
    "start_time": "2023-04-13T21:39:51.923Z"
   },
   {
    "duration": 970,
    "start_time": "2023-04-13T21:39:56.830Z"
   },
   {
    "duration": 1111,
    "start_time": "2023-04-13T21:40:00.604Z"
   },
   {
    "duration": 961,
    "start_time": "2023-04-13T21:40:03.163Z"
   },
   {
    "duration": 8,
    "start_time": "2023-04-13T21:40:21.390Z"
   },
   {
    "duration": 8,
    "start_time": "2023-04-13T21:40:22.071Z"
   },
   {
    "duration": 8,
    "start_time": "2023-04-13T21:40:23.142Z"
   },
   {
    "duration": 5,
    "start_time": "2023-04-13T21:40:24.359Z"
   },
   {
    "duration": 946,
    "start_time": "2023-04-13T21:40:25.007Z"
   },
   {
    "duration": 938,
    "start_time": "2023-04-13T21:40:29.068Z"
   },
   {
    "duration": 1015,
    "start_time": "2023-04-13T21:40:31.015Z"
   },
   {
    "duration": 83,
    "start_time": "2023-04-13T21:41:39.004Z"
   },
   {
    "duration": 5,
    "start_time": "2023-04-13T21:41:42.811Z"
   },
   {
    "duration": 959,
    "start_time": "2023-04-13T21:41:43.514Z"
   },
   {
    "duration": 1481,
    "start_time": "2023-04-13T21:41:45.310Z"
   },
   {
    "duration": 927,
    "start_time": "2023-04-13T21:41:48.418Z"
   },
   {
    "duration": 954,
    "start_time": "2023-04-13T21:41:54.270Z"
   },
   {
    "duration": 964,
    "start_time": "2023-04-13T21:41:55.226Z"
   },
   {
    "duration": 987,
    "start_time": "2023-04-13T21:41:56.193Z"
   },
   {
    "duration": 975,
    "start_time": "2023-04-13T21:42:03.103Z"
   },
   {
    "duration": 1032,
    "start_time": "2023-04-13T21:42:04.079Z"
   },
   {
    "duration": 996,
    "start_time": "2023-04-13T21:42:05.112Z"
   },
   {
    "duration": 969,
    "start_time": "2023-04-13T21:42:09.234Z"
   },
   {
    "duration": 1034,
    "start_time": "2023-04-13T21:42:10.204Z"
   },
   {
    "duration": 937,
    "start_time": "2023-04-13T21:42:11.239Z"
   },
   {
    "duration": 1399,
    "start_time": "2023-04-13T21:42:37.537Z"
   },
   {
    "duration": 390,
    "start_time": "2023-04-13T21:42:38.938Z"
   },
   {
    "duration": 3,
    "start_time": "2023-04-13T21:42:39.329Z"
   },
   {
    "duration": 32,
    "start_time": "2023-04-13T21:42:39.334Z"
   },
   {
    "duration": 60,
    "start_time": "2023-04-13T21:42:39.368Z"
   },
   {
    "duration": 60,
    "start_time": "2023-04-13T21:42:39.431Z"
   },
   {
    "duration": 45,
    "start_time": "2023-04-13T21:42:39.493Z"
   },
   {
    "duration": 141,
    "start_time": "2023-04-13T21:42:39.539Z"
   },
   {
    "duration": 4,
    "start_time": "2023-04-13T21:42:39.686Z"
   },
   {
    "duration": 323,
    "start_time": "2023-04-13T21:42:39.692Z"
   },
   {
    "duration": 297,
    "start_time": "2023-04-13T21:42:40.016Z"
   },
   {
    "duration": 334,
    "start_time": "2023-04-13T21:42:40.314Z"
   },
   {
    "duration": 6,
    "start_time": "2023-04-13T21:42:40.650Z"
   },
   {
    "duration": 747,
    "start_time": "2023-04-13T21:42:40.660Z"
   },
   {
    "duration": 566,
    "start_time": "2023-04-13T21:42:41.409Z"
   },
   {
    "duration": 579,
    "start_time": "2023-04-13T21:42:41.977Z"
   },
   {
    "duration": 11,
    "start_time": "2023-04-13T21:42:42.558Z"
   },
   {
    "duration": 24,
    "start_time": "2023-04-13T21:42:42.570Z"
   },
   {
    "duration": 6,
    "start_time": "2023-04-13T21:42:42.596Z"
   },
   {
    "duration": 17,
    "start_time": "2023-04-13T21:42:42.603Z"
   },
   {
    "duration": 15,
    "start_time": "2023-04-13T21:42:42.622Z"
   },
   {
    "duration": 3,
    "start_time": "2023-04-13T21:42:42.639Z"
   },
   {
    "duration": 8,
    "start_time": "2023-04-13T21:42:42.643Z"
   },
   {
    "duration": 172,
    "start_time": "2023-04-13T21:42:42.653Z"
   },
   {
    "duration": 3,
    "start_time": "2023-04-13T21:42:42.827Z"
   },
   {
    "duration": 12,
    "start_time": "2023-04-13T21:42:42.832Z"
   },
   {
    "duration": 57,
    "start_time": "2023-04-13T21:42:42.846Z"
   },
   {
    "duration": 7,
    "start_time": "2023-04-13T21:42:42.905Z"
   },
   {
    "duration": 8,
    "start_time": "2023-04-13T21:42:42.914Z"
   },
   {
    "duration": 72,
    "start_time": "2023-04-13T21:42:42.923Z"
   },
   {
    "duration": 102,
    "start_time": "2023-04-13T21:42:43.001Z"
   },
   {
    "duration": 187,
    "start_time": "2023-04-13T21:42:43.105Z"
   },
   {
    "duration": 105,
    "start_time": "2023-04-13T21:42:43.294Z"
   },
   {
    "duration": 94,
    "start_time": "2023-04-13T21:42:43.401Z"
   },
   {
    "duration": 10,
    "start_time": "2023-04-13T21:42:43.497Z"
   },
   {
    "duration": 9,
    "start_time": "2023-04-13T21:42:43.508Z"
   },
   {
    "duration": 9,
    "start_time": "2023-04-13T21:42:43.518Z"
   },
   {
    "duration": 8,
    "start_time": "2023-04-13T21:42:43.528Z"
   },
   {
    "duration": 12,
    "start_time": "2023-04-13T21:42:43.538Z"
   },
   {
    "duration": 9,
    "start_time": "2023-04-13T21:42:43.551Z"
   },
   {
    "duration": 29,
    "start_time": "2023-04-13T21:42:43.564Z"
   },
   {
    "duration": 8,
    "start_time": "2023-04-13T21:42:43.594Z"
   },
   {
    "duration": 1149,
    "start_time": "2023-04-13T21:42:43.603Z"
   },
   {
    "duration": 1220,
    "start_time": "2023-04-13T21:42:44.754Z"
   },
   {
    "duration": 1257,
    "start_time": "2023-04-13T21:42:45.975Z"
   },
   {
    "duration": 2,
    "start_time": "2023-04-13T21:42:47.234Z"
   },
   {
    "duration": 15,
    "start_time": "2023-04-13T21:42:47.238Z"
   },
   {
    "duration": 12,
    "start_time": "2023-04-13T21:42:47.255Z"
   },
   {
    "duration": 116,
    "start_time": "2023-04-13T21:43:47.216Z"
   },
   {
    "duration": 63434,
    "start_time": "2023-04-13T21:44:11.897Z"
   },
   {
    "duration": 1135,
    "start_time": "2023-04-13T21:45:47.540Z"
   },
   {
    "duration": 3119,
    "start_time": "2023-04-13T21:45:55.343Z"
   },
   {
    "duration": 1821,
    "start_time": "2023-04-14T18:27:13.356Z"
   },
   {
    "duration": 1641,
    "start_time": "2023-04-14T18:27:15.179Z"
   },
   {
    "duration": 3,
    "start_time": "2023-04-14T18:27:16.822Z"
   },
   {
    "duration": 74,
    "start_time": "2023-04-14T18:27:16.827Z"
   },
   {
    "duration": 58,
    "start_time": "2023-04-14T18:27:16.903Z"
   },
   {
    "duration": 54,
    "start_time": "2023-04-14T18:27:16.963Z"
   },
   {
    "duration": 52,
    "start_time": "2023-04-14T18:27:17.040Z"
   },
   {
    "duration": 185,
    "start_time": "2023-04-14T18:27:17.094Z"
   },
   {
    "duration": 4,
    "start_time": "2023-04-14T18:27:17.280Z"
   },
   {
    "duration": 433,
    "start_time": "2023-04-14T18:27:17.288Z"
   },
   {
    "duration": 344,
    "start_time": "2023-04-14T18:27:17.723Z"
   },
   {
    "duration": 339,
    "start_time": "2023-04-14T18:27:18.068Z"
   },
   {
    "duration": 6,
    "start_time": "2023-04-14T18:27:18.409Z"
   },
   {
    "duration": 799,
    "start_time": "2023-04-14T18:27:18.417Z"
   },
   {
    "duration": 675,
    "start_time": "2023-04-14T18:27:19.218Z"
   },
   {
    "duration": 690,
    "start_time": "2023-04-14T18:27:19.896Z"
   },
   {
    "duration": 12,
    "start_time": "2023-04-14T18:27:20.588Z"
   },
   {
    "duration": 17,
    "start_time": "2023-04-14T18:27:20.602Z"
   },
   {
    "duration": 20,
    "start_time": "2023-04-14T18:27:20.621Z"
   },
   {
    "duration": 25,
    "start_time": "2023-04-14T18:27:20.644Z"
   },
   {
    "duration": 29,
    "start_time": "2023-04-14T18:27:20.672Z"
   },
   {
    "duration": 18,
    "start_time": "2023-04-14T18:27:20.704Z"
   },
   {
    "duration": 11,
    "start_time": "2023-04-14T18:27:20.724Z"
   },
   {
    "duration": 213,
    "start_time": "2023-04-14T18:27:20.738Z"
   },
   {
    "duration": 4,
    "start_time": "2023-04-14T18:27:20.953Z"
   },
   {
    "duration": 48,
    "start_time": "2023-04-14T18:27:20.959Z"
   },
   {
    "duration": 91,
    "start_time": "2023-04-14T18:27:21.009Z"
   },
   {
    "duration": 10,
    "start_time": "2023-04-14T18:27:21.104Z"
   },
   {
    "duration": 28,
    "start_time": "2023-04-14T18:27:21.115Z"
   },
   {
    "duration": 27,
    "start_time": "2023-04-14T18:27:21.145Z"
   },
   {
    "duration": 189,
    "start_time": "2023-04-14T18:27:21.174Z"
   },
   {
    "duration": 105,
    "start_time": "2023-04-14T18:27:21.442Z"
   },
   {
    "duration": 106,
    "start_time": "2023-04-14T18:27:21.550Z"
   },
   {
    "duration": 36,
    "start_time": "2023-04-14T18:27:21.742Z"
   },
   {
    "duration": 26,
    "start_time": "2023-04-14T18:27:21.780Z"
   },
   {
    "duration": 17,
    "start_time": "2023-04-14T18:27:21.807Z"
   },
   {
    "duration": 33,
    "start_time": "2023-04-14T18:27:21.826Z"
   },
   {
    "duration": 29,
    "start_time": "2023-04-14T18:27:21.860Z"
   },
   {
    "duration": 46,
    "start_time": "2023-04-14T18:27:21.891Z"
   },
   {
    "duration": 25,
    "start_time": "2023-04-14T18:27:21.939Z"
   },
   {
    "duration": 32,
    "start_time": "2023-04-14T18:27:21.966Z"
   },
   {
    "duration": 1261,
    "start_time": "2023-04-14T18:27:22.000Z"
   },
   {
    "duration": 74,
    "start_time": "2023-04-14T18:27:23.263Z"
   },
   {
    "duration": 0,
    "start_time": "2023-04-14T18:27:23.339Z"
   },
   {
    "duration": 1,
    "start_time": "2023-04-14T18:27:23.340Z"
   },
   {
    "duration": 0,
    "start_time": "2023-04-14T18:27:23.342Z"
   },
   {
    "duration": 0,
    "start_time": "2023-04-14T18:27:23.343Z"
   },
   {
    "duration": 39322,
    "start_time": "2023-04-14T18:27:48.263Z"
   },
   {
    "duration": 9,
    "start_time": "2023-04-14T18:28:44.797Z"
   },
   {
    "duration": 1263,
    "start_time": "2023-04-14T18:28:50.994Z"
   },
   {
    "duration": 1239,
    "start_time": "2023-04-14T18:29:02.751Z"
   },
   {
    "duration": 12,
    "start_time": "2023-04-14T18:30:25.530Z"
   },
   {
    "duration": 1075,
    "start_time": "2023-04-14T18:32:15.372Z"
   },
   {
    "duration": 26545,
    "start_time": "2023-04-14T18:32:22.672Z"
   },
   {
    "duration": 5,
    "start_time": "2023-04-14T18:40:27.374Z"
   },
   {
    "duration": 764,
    "start_time": "2023-04-14T18:40:58.981Z"
   },
   {
    "duration": 5,
    "start_time": "2023-04-14T18:42:07.134Z"
   },
   {
    "duration": 761,
    "start_time": "2023-04-14T18:42:07.717Z"
   },
   {
    "duration": 5,
    "start_time": "2023-04-14T18:42:35.923Z"
   },
   {
    "duration": 790,
    "start_time": "2023-04-14T18:42:36.491Z"
   },
   {
    "duration": 5,
    "start_time": "2023-04-14T18:46:55.274Z"
   },
   {
    "duration": 762,
    "start_time": "2023-04-14T18:46:56.769Z"
   },
   {
    "duration": 5,
    "start_time": "2023-04-14T18:47:09.209Z"
   },
   {
    "duration": 749,
    "start_time": "2023-04-14T18:47:09.584Z"
   },
   {
    "duration": 5,
    "start_time": "2023-04-14T18:47:16.148Z"
   },
   {
    "duration": 767,
    "start_time": "2023-04-14T18:47:16.608Z"
   },
   {
    "duration": 5,
    "start_time": "2023-04-14T18:47:25.492Z"
   },
   {
    "duration": 820,
    "start_time": "2023-04-14T18:47:26.010Z"
   },
   {
    "duration": 5,
    "start_time": "2023-04-14T18:47:31.047Z"
   },
   {
    "duration": 755,
    "start_time": "2023-04-14T18:47:31.636Z"
   },
   {
    "duration": 5,
    "start_time": "2023-04-14T18:47:52.300Z"
   },
   {
    "duration": 747,
    "start_time": "2023-04-14T18:47:53.871Z"
   },
   {
    "duration": 771,
    "start_time": "2023-04-14T18:48:29.020Z"
   },
   {
    "duration": 759,
    "start_time": "2023-04-14T18:48:47.309Z"
   },
   {
    "duration": 79,
    "start_time": "2023-04-14T18:50:36.665Z"
   },
   {
    "duration": 3,
    "start_time": "2023-04-14T18:50:57.941Z"
   },
   {
    "duration": 7,
    "start_time": "2023-04-14T18:50:58.844Z"
   },
   {
    "duration": 8,
    "start_time": "2023-04-14T18:51:03.491Z"
   },
   {
    "duration": 3,
    "start_time": "2023-04-14T18:51:11.750Z"
   },
   {
    "duration": 8,
    "start_time": "2023-04-14T18:51:12.171Z"
   },
   {
    "duration": 8,
    "start_time": "2023-04-14T18:51:12.875Z"
   },
   {
    "duration": 8,
    "start_time": "2023-04-14T18:51:13.476Z"
   },
   {
    "duration": 3,
    "start_time": "2023-04-14T18:51:29.474Z"
   },
   {
    "duration": 8,
    "start_time": "2023-04-14T18:51:29.835Z"
   },
   {
    "duration": 4,
    "start_time": "2023-04-14T18:51:39.037Z"
   },
   {
    "duration": 8,
    "start_time": "2023-04-14T18:51:39.420Z"
   },
   {
    "duration": 7,
    "start_time": "2023-04-14T18:51:40.050Z"
   },
   {
    "duration": 8,
    "start_time": "2023-04-14T18:51:40.523Z"
   },
   {
    "duration": 4,
    "start_time": "2023-04-14T18:51:43.911Z"
   },
   {
    "duration": 8,
    "start_time": "2023-04-14T18:51:44.192Z"
   },
   {
    "duration": 8,
    "start_time": "2023-04-14T18:51:44.485Z"
   },
   {
    "duration": 8,
    "start_time": "2023-04-14T18:51:44.917Z"
   },
   {
    "duration": 4,
    "start_time": "2023-04-14T18:51:54.911Z"
   },
   {
    "duration": 9,
    "start_time": "2023-04-14T18:51:55.298Z"
   },
   {
    "duration": 9,
    "start_time": "2023-04-14T18:51:56.362Z"
   },
   {
    "duration": 9,
    "start_time": "2023-04-14T18:51:56.624Z"
   },
   {
    "duration": 85,
    "start_time": "2023-04-14T18:52:27.892Z"
   },
   {
    "duration": 8,
    "start_time": "2023-04-14T18:52:28.303Z"
   },
   {
    "duration": 108,
    "start_time": "2023-04-14T18:52:34.544Z"
   },
   {
    "duration": 4,
    "start_time": "2023-04-14T18:52:38.993Z"
   },
   {
    "duration": 9,
    "start_time": "2023-04-14T18:52:40.944Z"
   },
   {
    "duration": 76,
    "start_time": "2023-04-14T18:52:46.419Z"
   },
   {
    "duration": 70,
    "start_time": "2023-04-14T18:52:51.971Z"
   },
   {
    "duration": 84,
    "start_time": "2023-04-14T18:53:12.442Z"
   },
   {
    "duration": 4,
    "start_time": "2023-04-14T18:53:26.566Z"
   },
   {
    "duration": 8,
    "start_time": "2023-04-14T18:53:27.314Z"
   },
   {
    "duration": 9,
    "start_time": "2023-04-14T18:53:27.914Z"
   },
   {
    "duration": 7,
    "start_time": "2023-04-14T18:53:28.760Z"
   },
   {
    "duration": 4,
    "start_time": "2023-04-14T18:53:54.894Z"
   },
   {
    "duration": 8,
    "start_time": "2023-04-14T18:53:55.314Z"
   },
   {
    "duration": 8,
    "start_time": "2023-04-14T18:53:57.608Z"
   },
   {
    "duration": 9,
    "start_time": "2023-04-14T18:53:57.955Z"
   },
   {
    "duration": 78,
    "start_time": "2023-04-14T18:54:05.256Z"
   },
   {
    "duration": 4,
    "start_time": "2023-04-14T18:54:58.232Z"
   },
   {
    "duration": 9,
    "start_time": "2023-04-14T18:54:59.149Z"
   },
   {
    "duration": 8,
    "start_time": "2023-04-14T18:54:59.639Z"
   },
   {
    "duration": 10,
    "start_time": "2023-04-14T18:55:00.072Z"
   },
   {
    "duration": 7,
    "start_time": "2023-04-14T18:55:55.824Z"
   },
   {
    "duration": 9,
    "start_time": "2023-04-14T18:56:00.679Z"
   },
   {
    "duration": 8,
    "start_time": "2023-04-14T18:56:03.749Z"
   },
   {
    "duration": 5,
    "start_time": "2023-04-14T18:57:57.330Z"
   },
   {
    "duration": 780,
    "start_time": "2023-04-14T18:58:00.474Z"
   },
   {
    "duration": 793,
    "start_time": "2023-04-14T18:58:04.640Z"
   },
   {
    "duration": 774,
    "start_time": "2023-04-14T18:58:09.821Z"
   },
   {
    "duration": 5,
    "start_time": "2023-04-14T19:03:13.015Z"
   },
   {
    "duration": 5,
    "start_time": "2023-04-14T19:03:36.393Z"
   },
   {
    "duration": 830,
    "start_time": "2023-04-14T19:03:56.916Z"
   },
   {
    "duration": 779,
    "start_time": "2023-04-14T19:04:02.378Z"
   },
   {
    "duration": 782,
    "start_time": "2023-04-14T19:04:07.259Z"
   },
   {
    "duration": 5,
    "start_time": "2023-04-14T19:05:24.364Z"
   },
   {
    "duration": 79,
    "start_time": "2023-04-14T19:21:46.750Z"
   },
   {
    "duration": 4633,
    "start_time": "2023-04-14T20:41:13.686Z"
   },
   {
    "duration": 993,
    "start_time": "2023-04-14T20:41:18.322Z"
   },
   {
    "duration": 4,
    "start_time": "2023-04-14T20:41:19.316Z"
   },
   {
    "duration": 90,
    "start_time": "2023-04-14T20:41:19.321Z"
   },
   {
    "duration": 110,
    "start_time": "2023-04-14T20:41:19.414Z"
   },
   {
    "duration": 111,
    "start_time": "2023-04-14T20:41:19.527Z"
   },
   {
    "duration": 105,
    "start_time": "2023-04-14T20:41:19.640Z"
   },
   {
    "duration": 307,
    "start_time": "2023-04-14T20:41:19.747Z"
   },
   {
    "duration": 57,
    "start_time": "2023-04-14T20:41:20.056Z"
   },
   {
    "duration": 597,
    "start_time": "2023-04-14T20:41:20.115Z"
   },
   {
    "duration": 605,
    "start_time": "2023-04-14T20:41:20.715Z"
   },
   {
    "duration": 519,
    "start_time": "2023-04-14T20:41:21.322Z"
   },
   {
    "duration": 4,
    "start_time": "2023-04-14T20:41:21.843Z"
   },
   {
    "duration": 1401,
    "start_time": "2023-04-14T20:41:21.913Z"
   },
   {
    "duration": 1330,
    "start_time": "2023-04-14T20:41:23.316Z"
   },
   {
    "duration": 1285,
    "start_time": "2023-04-14T20:41:24.648Z"
   },
   {
    "duration": 13,
    "start_time": "2023-04-14T20:41:25.935Z"
   },
   {
    "duration": 66,
    "start_time": "2023-04-14T20:41:25.950Z"
   },
   {
    "duration": 5,
    "start_time": "2023-04-14T20:41:26.019Z"
   },
   {
    "duration": 16,
    "start_time": "2023-04-14T20:41:26.026Z"
   },
   {
    "duration": 75,
    "start_time": "2023-04-14T20:41:26.044Z"
   },
   {
    "duration": 4,
    "start_time": "2023-04-14T20:41:26.121Z"
   },
   {
    "duration": 6,
    "start_time": "2023-04-14T20:41:26.127Z"
   },
   {
    "duration": 388,
    "start_time": "2023-04-14T20:41:26.134Z"
   },
   {
    "duration": 4,
    "start_time": "2023-04-14T20:41:26.524Z"
   },
   {
    "duration": 11,
    "start_time": "2023-04-14T20:41:26.529Z"
   },
   {
    "duration": 110,
    "start_time": "2023-04-14T20:41:26.541Z"
   },
   {
    "duration": 62,
    "start_time": "2023-04-14T20:41:26.652Z"
   },
   {
    "duration": 7,
    "start_time": "2023-04-14T20:41:26.716Z"
   },
   {
    "duration": 96,
    "start_time": "2023-04-14T20:41:26.725Z"
   },
   {
    "duration": 97,
    "start_time": "2023-04-14T20:41:26.823Z"
   },
   {
    "duration": 196,
    "start_time": "2023-04-14T20:41:26.922Z"
   },
   {
    "duration": 4,
    "start_time": "2023-04-14T20:41:27.211Z"
   },
   {
    "duration": 36,
    "start_time": "2023-04-14T20:41:27.217Z"
   },
   {
    "duration": 66,
    "start_time": "2023-04-14T20:41:27.256Z"
   },
   {
    "duration": 8,
    "start_time": "2023-04-14T20:41:27.324Z"
   },
   {
    "duration": 17,
    "start_time": "2023-04-14T20:41:27.333Z"
   },
   {
    "duration": 59,
    "start_time": "2023-04-14T20:41:27.352Z"
   },
   {
    "duration": 8,
    "start_time": "2023-04-14T20:41:27.413Z"
   },
   {
    "duration": 21,
    "start_time": "2023-04-14T20:41:27.422Z"
   },
   {
    "duration": 66,
    "start_time": "2023-04-14T20:41:27.446Z"
   },
   {
    "duration": 6,
    "start_time": "2023-04-14T20:41:27.514Z"
   },
   {
    "duration": 2098,
    "start_time": "2023-04-14T20:41:27.522Z"
   },
   {
    "duration": 2011,
    "start_time": "2023-04-14T20:41:29.623Z"
   },
   {
    "duration": 2015,
    "start_time": "2023-04-14T20:41:31.636Z"
   },
   {
    "duration": 7,
    "start_time": "2023-04-14T20:43:37.905Z"
   },
   {
    "duration": 806,
    "start_time": "2023-04-14T20:43:37.915Z"
   },
   {
    "duration": 9,
    "start_time": "2023-04-14T20:43:38.723Z"
   },
   {
    "duration": 87,
    "start_time": "2023-04-14T20:43:38.733Z"
   },
   {
    "duration": 181,
    "start_time": "2023-04-14T20:43:38.831Z"
   },
   {
    "duration": 136,
    "start_time": "2023-04-14T20:43:39.015Z"
   },
   {
    "duration": 163,
    "start_time": "2023-04-14T20:43:39.154Z"
   },
   {
    "duration": 303,
    "start_time": "2023-04-14T20:43:39.319Z"
   },
   {
    "duration": 4,
    "start_time": "2023-04-14T20:43:39.624Z"
   },
   {
    "duration": 586,
    "start_time": "2023-04-14T20:43:39.629Z"
   },
   {
    "duration": 523,
    "start_time": "2023-04-14T20:43:40.217Z"
   },
   {
    "duration": 572,
    "start_time": "2023-04-14T20:43:40.742Z"
   },
   {
    "duration": 5,
    "start_time": "2023-04-14T20:43:41.316Z"
   },
   {
    "duration": 1288,
    "start_time": "2023-04-14T20:43:41.324Z"
   },
   {
    "duration": 1526,
    "start_time": "2023-04-14T20:43:42.614Z"
   },
   {
    "duration": 1270,
    "start_time": "2023-04-14T20:43:44.142Z"
   },
   {
    "duration": 14,
    "start_time": "2023-04-14T20:43:45.415Z"
   },
   {
    "duration": 80,
    "start_time": "2023-04-14T20:43:45.432Z"
   },
   {
    "duration": 4,
    "start_time": "2023-04-14T20:43:45.514Z"
   },
   {
    "duration": 9,
    "start_time": "2023-04-14T20:43:45.520Z"
   },
   {
    "duration": 19,
    "start_time": "2023-04-14T20:43:45.531Z"
   },
   {
    "duration": 5,
    "start_time": "2023-04-14T20:43:45.612Z"
   },
   {
    "duration": 13,
    "start_time": "2023-04-14T20:43:45.619Z"
   },
   {
    "duration": 93,
    "start_time": "2023-04-14T20:43:45.635Z"
   },
   {
    "duration": 3,
    "start_time": "2023-04-14T20:43:45.730Z"
   },
   {
    "duration": 10,
    "start_time": "2023-04-14T20:43:45.735Z"
   },
   {
    "duration": 111,
    "start_time": "2023-04-14T20:43:45.747Z"
   },
   {
    "duration": 10,
    "start_time": "2023-04-14T20:43:45.913Z"
   },
   {
    "duration": 7,
    "start_time": "2023-04-14T20:43:45.925Z"
   },
   {
    "duration": 179,
    "start_time": "2023-04-14T20:43:45.934Z"
   },
   {
    "duration": 19,
    "start_time": "2023-04-14T20:43:46.115Z"
   },
   {
    "duration": 277,
    "start_time": "2023-04-14T20:43:46.135Z"
   },
   {
    "duration": 94,
    "start_time": "2023-04-14T20:43:46.417Z"
   },
   {
    "duration": 19,
    "start_time": "2023-04-14T20:43:46.514Z"
   },
   {
    "duration": 10,
    "start_time": "2023-04-14T20:43:46.535Z"
   },
   {
    "duration": 65,
    "start_time": "2023-04-14T20:43:46.547Z"
   },
   {
    "duration": 4,
    "start_time": "2023-04-14T20:43:46.614Z"
   },
   {
    "duration": 7,
    "start_time": "2023-04-14T20:43:46.620Z"
   },
   {
    "duration": 10,
    "start_time": "2023-04-14T20:43:46.628Z"
   },
   {
    "duration": 74,
    "start_time": "2023-04-14T20:43:46.639Z"
   },
   {
    "duration": 7,
    "start_time": "2023-04-14T20:43:46.717Z"
   },
   {
    "duration": 7,
    "start_time": "2023-04-14T20:43:46.726Z"
   },
   {
    "duration": 2001,
    "start_time": "2023-04-14T20:43:46.735Z"
   },
   {
    "duration": 2091,
    "start_time": "2023-04-14T20:43:48.737Z"
   },
   {
    "duration": 2084,
    "start_time": "2023-04-14T20:43:50.830Z"
   },
   {
    "duration": 9,
    "start_time": "2023-04-14T20:44:09.788Z"
   },
   {
    "duration": 15,
    "start_time": "2023-04-14T20:44:45.901Z"
   },
   {
    "duration": 2301,
    "start_time": "2023-04-14T20:44:46.329Z"
   },
   {
    "duration": 7,
    "start_time": "2023-04-14T20:44:50.463Z"
   },
   {
    "duration": 5,
    "start_time": "2023-04-14T20:45:19.255Z"
   },
   {
    "duration": 4019,
    "start_time": "2023-04-14T20:45:19.600Z"
   },
   {
    "duration": 8,
    "start_time": "2023-04-14T20:45:26.282Z"
   },
   {
    "duration": 9,
    "start_time": "2023-04-14T20:45:41.903Z"
   },
   {
    "duration": 2310,
    "start_time": "2023-04-14T20:45:42.412Z"
   },
   {
    "duration": 2407,
    "start_time": "2023-04-14T20:45:44.725Z"
   },
   {
    "duration": 2088,
    "start_time": "2023-04-14T20:45:47.134Z"
   },
   {
    "duration": 7,
    "start_time": "2023-04-14T20:45:58.697Z"
   },
   {
    "duration": 792,
    "start_time": "2023-04-14T20:45:59.121Z"
   },
   {
    "duration": 854,
    "start_time": "2023-04-14T20:45:59.916Z"
   },
   {
    "duration": 786,
    "start_time": "2023-04-14T20:46:00.772Z"
   },
   {
    "duration": 7,
    "start_time": "2023-04-14T20:46:06.618Z"
   },
   {
    "duration": 4,
    "start_time": "2023-04-14T20:48:38.456Z"
   },
   {
    "duration": 750,
    "start_time": "2023-04-14T20:48:38.972Z"
   },
   {
    "duration": 720,
    "start_time": "2023-04-14T20:48:39.724Z"
   },
   {
    "duration": 731,
    "start_time": "2023-04-14T20:48:40.445Z"
   },
   {
    "duration": 3237,
    "start_time": "2023-04-14T20:48:45.723Z"
   },
   {
    "duration": 425,
    "start_time": "2023-04-14T20:48:48.963Z"
   },
   {
    "duration": 3,
    "start_time": "2023-04-14T20:48:49.391Z"
   },
   {
    "duration": 39,
    "start_time": "2023-04-14T20:48:49.395Z"
   },
   {
    "duration": 53,
    "start_time": "2023-04-14T20:48:49.437Z"
   },
   {
    "duration": 66,
    "start_time": "2023-04-14T20:48:49.492Z"
   },
   {
    "duration": 71,
    "start_time": "2023-04-14T20:48:49.560Z"
   },
   {
    "duration": 154,
    "start_time": "2023-04-14T20:48:49.633Z"
   },
   {
    "duration": 5,
    "start_time": "2023-04-14T20:48:49.788Z"
   },
   {
    "duration": 374,
    "start_time": "2023-04-14T20:48:49.794Z"
   },
   {
    "duration": 379,
    "start_time": "2023-04-14T20:48:50.170Z"
   },
   {
    "duration": 341,
    "start_time": "2023-04-14T20:48:50.551Z"
   },
   {
    "duration": 5,
    "start_time": "2023-04-14T20:48:50.894Z"
   },
   {
    "duration": 713,
    "start_time": "2023-04-14T20:48:50.902Z"
   },
   {
    "duration": 624,
    "start_time": "2023-04-14T20:48:51.616Z"
   },
   {
    "duration": 670,
    "start_time": "2023-04-14T20:48:52.241Z"
   },
   {
    "duration": 13,
    "start_time": "2023-04-14T20:48:52.913Z"
   },
   {
    "duration": 15,
    "start_time": "2023-04-14T20:48:52.928Z"
   },
   {
    "duration": 6,
    "start_time": "2023-04-14T20:48:52.944Z"
   },
   {
    "duration": 14,
    "start_time": "2023-04-14T20:48:52.951Z"
   },
   {
    "duration": 26,
    "start_time": "2023-04-14T20:48:52.967Z"
   },
   {
    "duration": 4,
    "start_time": "2023-04-14T20:48:52.995Z"
   },
   {
    "duration": 4,
    "start_time": "2023-04-14T20:48:53.012Z"
   },
   {
    "duration": 166,
    "start_time": "2023-04-14T20:48:53.017Z"
   },
   {
    "duration": 4,
    "start_time": "2023-04-14T20:48:53.185Z"
   },
   {
    "duration": 14,
    "start_time": "2023-04-14T20:48:53.191Z"
   },
   {
    "duration": 59,
    "start_time": "2023-04-14T20:48:53.206Z"
   },
   {
    "duration": 9,
    "start_time": "2023-04-14T20:48:53.267Z"
   },
   {
    "duration": 14,
    "start_time": "2023-04-14T20:48:53.278Z"
   },
   {
    "duration": 46,
    "start_time": "2023-04-14T20:48:53.294Z"
   },
   {
    "duration": 178,
    "start_time": "2023-04-14T20:48:53.342Z"
   },
   {
    "duration": 194,
    "start_time": "2023-04-14T20:48:53.522Z"
   },
   {
    "duration": 93,
    "start_time": "2023-04-14T20:48:53.719Z"
   },
   {
    "duration": 106,
    "start_time": "2023-04-14T20:48:53.819Z"
   },
   {
    "duration": 14,
    "start_time": "2023-04-14T20:48:53.927Z"
   },
   {
    "duration": 19,
    "start_time": "2023-04-14T20:48:53.943Z"
   },
   {
    "duration": 17,
    "start_time": "2023-04-14T20:48:53.963Z"
   },
   {
    "duration": 10,
    "start_time": "2023-04-14T20:48:53.982Z"
   },
   {
    "duration": 27,
    "start_time": "2023-04-14T20:48:53.994Z"
   },
   {
    "duration": 11,
    "start_time": "2023-04-14T20:48:54.022Z"
   },
   {
    "duration": 21,
    "start_time": "2023-04-14T20:48:54.037Z"
   },
   {
    "duration": 6,
    "start_time": "2023-04-14T20:48:54.060Z"
   },
   {
    "duration": 952,
    "start_time": "2023-04-14T20:48:54.068Z"
   },
   {
    "duration": 996,
    "start_time": "2023-04-14T20:48:55.021Z"
   },
   {
    "duration": 950,
    "start_time": "2023-04-14T20:48:56.018Z"
   },
   {
    "duration": 1628,
    "start_time": "2023-04-15T07:08:28.354Z"
   },
   {
    "duration": 960,
    "start_time": "2023-04-15T07:08:29.984Z"
   },
   {
    "duration": 3,
    "start_time": "2023-04-15T07:08:30.945Z"
   },
   {
    "duration": 45,
    "start_time": "2023-04-15T07:08:30.950Z"
   },
   {
    "duration": 58,
    "start_time": "2023-04-15T07:08:31.006Z"
   },
   {
    "duration": 57,
    "start_time": "2023-04-15T07:08:31.065Z"
   },
   {
    "duration": 45,
    "start_time": "2023-04-15T07:08:31.124Z"
   },
   {
    "duration": 161,
    "start_time": "2023-04-15T07:08:31.186Z"
   },
   {
    "duration": 5,
    "start_time": "2023-04-15T07:08:31.348Z"
   },
   {
    "duration": 390,
    "start_time": "2023-04-15T07:08:31.355Z"
   },
   {
    "duration": 366,
    "start_time": "2023-04-15T07:08:31.747Z"
   },
   {
    "duration": 322,
    "start_time": "2023-04-15T07:08:32.115Z"
   },
   {
    "duration": 6,
    "start_time": "2023-04-15T07:08:32.438Z"
   },
   {
    "duration": 706,
    "start_time": "2023-04-15T07:08:32.447Z"
   },
   {
    "duration": 604,
    "start_time": "2023-04-15T07:08:33.155Z"
   },
   {
    "duration": 654,
    "start_time": "2023-04-15T07:08:33.760Z"
   },
   {
    "duration": 11,
    "start_time": "2023-04-15T07:08:34.416Z"
   },
   {
    "duration": 17,
    "start_time": "2023-04-15T07:08:34.430Z"
   },
   {
    "duration": 29,
    "start_time": "2023-04-15T07:08:34.449Z"
   },
   {
    "duration": 30,
    "start_time": "2023-04-15T07:08:34.480Z"
   },
   {
    "duration": 32,
    "start_time": "2023-04-15T07:08:34.512Z"
   },
   {
    "duration": 11,
    "start_time": "2023-04-15T07:08:34.546Z"
   },
   {
    "duration": 24,
    "start_time": "2023-04-15T07:08:34.559Z"
   },
   {
    "duration": 198,
    "start_time": "2023-04-15T07:08:34.586Z"
   },
   {
    "duration": 11,
    "start_time": "2023-04-15T07:08:34.786Z"
   },
   {
    "duration": 4,
    "start_time": "2023-04-15T07:08:34.803Z"
   },
   {
    "duration": 47,
    "start_time": "2023-04-15T07:08:34.808Z"
   },
   {
    "duration": 8,
    "start_time": "2023-04-15T07:08:34.857Z"
   },
   {
    "duration": 13,
    "start_time": "2023-04-15T07:08:34.866Z"
   },
   {
    "duration": 28,
    "start_time": "2023-04-15T07:08:34.881Z"
   },
   {
    "duration": 193,
    "start_time": "2023-04-15T07:08:34.912Z"
   },
   {
    "duration": 88,
    "start_time": "2023-04-15T07:08:35.108Z"
   },
   {
    "duration": 9,
    "start_time": "2023-04-15T07:08:35.198Z"
   },
   {
    "duration": 123,
    "start_time": "2023-04-15T07:08:35.286Z"
   },
   {
    "duration": 15,
    "start_time": "2023-04-15T07:08:35.411Z"
   },
   {
    "duration": 12,
    "start_time": "2023-04-15T07:08:35.428Z"
   },
   {
    "duration": 9,
    "start_time": "2023-04-15T07:08:35.442Z"
   },
   {
    "duration": 17,
    "start_time": "2023-04-15T07:08:35.453Z"
   },
   {
    "duration": 16,
    "start_time": "2023-04-15T07:08:35.471Z"
   },
   {
    "duration": 31,
    "start_time": "2023-04-15T07:08:35.488Z"
   },
   {
    "duration": 13,
    "start_time": "2023-04-15T07:08:35.524Z"
   },
   {
    "duration": 4,
    "start_time": "2023-04-15T07:08:35.538Z"
   },
   {
    "duration": 982,
    "start_time": "2023-04-15T07:08:35.544Z"
   },
   {
    "duration": 942,
    "start_time": "2023-04-15T07:08:36.528Z"
   },
   {
    "duration": 948,
    "start_time": "2023-04-15T07:08:37.471Z"
   },
   {
    "duration": 3,
    "start_time": "2023-04-15T07:09:19.436Z"
   },
   {
    "duration": 6,
    "start_time": "2023-04-15T07:09:20.997Z"
   },
   {
    "duration": 708,
    "start_time": "2023-04-15T07:09:21.909Z"
   },
   {
    "duration": 727,
    "start_time": "2023-04-15T07:09:24.003Z"
   },
   {
    "duration": 734,
    "start_time": "2023-04-15T07:09:27.525Z"
   },
   {
    "duration": 1457,
    "start_time": "2023-04-15T07:09:42.803Z"
   },
   {
    "duration": 389,
    "start_time": "2023-04-15T07:09:44.262Z"
   },
   {
    "duration": 2,
    "start_time": "2023-04-15T07:09:44.653Z"
   },
   {
    "duration": 35,
    "start_time": "2023-04-15T07:09:44.656Z"
   },
   {
    "duration": 50,
    "start_time": "2023-04-15T07:09:44.698Z"
   },
   {
    "duration": 52,
    "start_time": "2023-04-15T07:09:44.750Z"
   },
   {
    "duration": 45,
    "start_time": "2023-04-15T07:09:44.804Z"
   },
   {
    "duration": 149,
    "start_time": "2023-04-15T07:09:44.850Z"
   },
   {
    "duration": 4,
    "start_time": "2023-04-15T07:09:45.003Z"
   },
   {
    "duration": 360,
    "start_time": "2023-04-15T07:09:45.008Z"
   },
   {
    "duration": 335,
    "start_time": "2023-04-15T07:09:45.370Z"
   },
   {
    "duration": 332,
    "start_time": "2023-04-15T07:09:45.706Z"
   },
   {
    "duration": 5,
    "start_time": "2023-04-15T07:09:46.040Z"
   },
   {
    "duration": 676,
    "start_time": "2023-04-15T07:09:46.048Z"
   },
   {
    "duration": 588,
    "start_time": "2023-04-15T07:09:46.726Z"
   },
   {
    "duration": 585,
    "start_time": "2023-04-15T07:09:47.316Z"
   },
   {
    "duration": 12,
    "start_time": "2023-04-15T07:09:47.903Z"
   },
   {
    "duration": 12,
    "start_time": "2023-04-15T07:09:47.917Z"
   },
   {
    "duration": 5,
    "start_time": "2023-04-15T07:09:47.930Z"
   },
   {
    "duration": 11,
    "start_time": "2023-04-15T07:09:47.936Z"
   },
   {
    "duration": 17,
    "start_time": "2023-04-15T07:09:47.949Z"
   },
   {
    "duration": 22,
    "start_time": "2023-04-15T07:09:47.967Z"
   },
   {
    "duration": 8,
    "start_time": "2023-04-15T07:09:47.993Z"
   },
   {
    "duration": 146,
    "start_time": "2023-04-15T07:09:48.003Z"
   },
   {
    "duration": 4,
    "start_time": "2023-04-15T07:09:48.151Z"
   },
   {
    "duration": 4,
    "start_time": "2023-04-15T07:09:48.157Z"
   },
   {
    "duration": 62,
    "start_time": "2023-04-15T07:09:48.162Z"
   },
   {
    "duration": 8,
    "start_time": "2023-04-15T07:09:48.226Z"
   },
   {
    "duration": 9,
    "start_time": "2023-04-15T07:09:48.235Z"
   },
   {
    "duration": 51,
    "start_time": "2023-04-15T07:09:48.246Z"
   },
   {
    "duration": 102,
    "start_time": "2023-04-15T07:09:48.298Z"
   },
   {
    "duration": 99,
    "start_time": "2023-04-15T07:09:48.402Z"
   },
   {
    "duration": 6,
    "start_time": "2023-04-15T07:09:48.504Z"
   },
   {
    "duration": 178,
    "start_time": "2023-04-15T07:09:48.513Z"
   },
   {
    "duration": 12,
    "start_time": "2023-04-15T07:09:48.696Z"
   },
   {
    "duration": 3,
    "start_time": "2023-04-15T07:09:48.710Z"
   },
   {
    "duration": 12,
    "start_time": "2023-04-15T07:09:48.714Z"
   },
   {
    "duration": 4,
    "start_time": "2023-04-15T07:09:48.728Z"
   },
   {
    "duration": 15,
    "start_time": "2023-04-15T07:09:48.734Z"
   },
   {
    "duration": 8,
    "start_time": "2023-04-15T07:09:48.751Z"
   },
   {
    "duration": 34,
    "start_time": "2023-04-15T07:09:48.763Z"
   },
   {
    "duration": 5,
    "start_time": "2023-04-15T07:09:48.798Z"
   },
   {
    "duration": 5,
    "start_time": "2023-04-15T07:09:48.805Z"
   },
   {
    "duration": 727,
    "start_time": "2023-04-15T07:09:48.811Z"
   },
   {
    "duration": 693,
    "start_time": "2023-04-15T07:09:49.540Z"
   },
   {
    "duration": 699,
    "start_time": "2023-04-15T07:09:50.235Z"
   },
   {
    "duration": 1404,
    "start_time": "2023-04-15T07:10:15.618Z"
   },
   {
    "duration": 382,
    "start_time": "2023-04-15T07:10:17.024Z"
   },
   {
    "duration": 3,
    "start_time": "2023-04-15T07:10:17.408Z"
   },
   {
    "duration": 29,
    "start_time": "2023-04-15T07:10:17.412Z"
   },
   {
    "duration": 61,
    "start_time": "2023-04-15T07:10:17.443Z"
   },
   {
    "duration": 45,
    "start_time": "2023-04-15T07:10:17.506Z"
   },
   {
    "duration": 70,
    "start_time": "2023-04-15T07:10:17.552Z"
   },
   {
    "duration": 129,
    "start_time": "2023-04-15T07:10:17.624Z"
   },
   {
    "duration": 3,
    "start_time": "2023-04-15T07:10:17.755Z"
   },
   {
    "duration": 356,
    "start_time": "2023-04-15T07:10:17.760Z"
   },
   {
    "duration": 308,
    "start_time": "2023-04-15T07:10:18.117Z"
   },
   {
    "duration": 307,
    "start_time": "2023-04-15T07:10:18.427Z"
   },
   {
    "duration": 5,
    "start_time": "2023-04-15T07:10:18.736Z"
   },
   {
    "duration": 667,
    "start_time": "2023-04-15T07:10:18.744Z"
   },
   {
    "duration": 600,
    "start_time": "2023-04-15T07:10:19.413Z"
   },
   {
    "duration": 592,
    "start_time": "2023-04-15T07:10:20.014Z"
   },
   {
    "duration": 11,
    "start_time": "2023-04-15T07:10:20.608Z"
   },
   {
    "duration": 40,
    "start_time": "2023-04-15T07:10:20.621Z"
   },
   {
    "duration": 17,
    "start_time": "2023-04-15T07:10:20.662Z"
   },
   {
    "duration": 27,
    "start_time": "2023-04-15T07:10:20.681Z"
   },
   {
    "duration": 13,
    "start_time": "2023-04-15T07:10:20.710Z"
   },
   {
    "duration": 8,
    "start_time": "2023-04-15T07:10:20.724Z"
   },
   {
    "duration": 14,
    "start_time": "2023-04-15T07:10:20.733Z"
   },
   {
    "duration": 154,
    "start_time": "2023-04-15T07:10:20.748Z"
   },
   {
    "duration": 4,
    "start_time": "2023-04-15T07:10:20.903Z"
   },
   {
    "duration": 9,
    "start_time": "2023-04-15T07:10:20.908Z"
   },
   {
    "duration": 45,
    "start_time": "2023-04-15T07:10:20.919Z"
   },
   {
    "duration": 8,
    "start_time": "2023-04-15T07:10:20.965Z"
   },
   {
    "duration": 26,
    "start_time": "2023-04-15T07:10:20.975Z"
   },
   {
    "duration": 28,
    "start_time": "2023-04-15T07:10:21.004Z"
   },
   {
    "duration": 167,
    "start_time": "2023-04-15T07:10:21.037Z"
   },
   {
    "duration": 25,
    "start_time": "2023-04-15T07:10:21.286Z"
   },
   {
    "duration": 73,
    "start_time": "2023-04-15T07:10:21.313Z"
   },
   {
    "duration": 100,
    "start_time": "2023-04-15T07:10:21.388Z"
   },
   {
    "duration": 12,
    "start_time": "2023-04-15T07:10:21.492Z"
   },
   {
    "duration": 4,
    "start_time": "2023-04-15T07:10:21.505Z"
   },
   {
    "duration": 21,
    "start_time": "2023-04-15T07:10:21.510Z"
   },
   {
    "duration": 14,
    "start_time": "2023-04-15T07:10:21.533Z"
   },
   {
    "duration": 16,
    "start_time": "2023-04-15T07:10:21.549Z"
   },
   {
    "duration": 10,
    "start_time": "2023-04-15T07:10:21.567Z"
   },
   {
    "duration": 11,
    "start_time": "2023-04-15T07:10:21.580Z"
   },
   {
    "duration": 3,
    "start_time": "2023-04-15T07:10:21.595Z"
   },
   {
    "duration": 5,
    "start_time": "2023-04-15T07:10:21.601Z"
   },
   {
    "duration": 712,
    "start_time": "2023-04-15T07:10:21.607Z"
   },
   {
    "duration": 703,
    "start_time": "2023-04-15T07:10:22.321Z"
   },
   {
    "duration": 677,
    "start_time": "2023-04-15T07:10:23.026Z"
   },
   {
    "duration": 26,
    "start_time": "2023-04-15T07:47:30.984Z"
   },
   {
    "duration": 3,
    "start_time": "2023-04-15T07:47:31.283Z"
   },
   {
    "duration": 3,
    "start_time": "2023-04-15T07:51:38.119Z"
   },
   {
    "duration": 4,
    "start_time": "2023-04-15T07:51:39.609Z"
   },
   {
    "duration": 43,
    "start_time": "2023-04-15T07:53:48.831Z"
   },
   {
    "duration": 9,
    "start_time": "2023-04-15T07:53:57.417Z"
   },
   {
    "duration": 4,
    "start_time": "2023-04-15T07:54:10.833Z"
   },
   {
    "duration": 8,
    "start_time": "2023-04-15T07:54:12.287Z"
   },
   {
    "duration": 8,
    "start_time": "2023-04-15T07:54:12.898Z"
   },
   {
    "duration": 9,
    "start_time": "2023-04-15T07:54:13.429Z"
   },
   {
    "duration": 4,
    "start_time": "2023-04-15T07:55:01.609Z"
   },
   {
    "duration": 1194,
    "start_time": "2023-04-15T07:55:06.105Z"
   },
   {
    "duration": 3,
    "start_time": "2023-04-15T07:57:32.207Z"
   },
   {
    "duration": 7,
    "start_time": "2023-04-15T07:57:33.306Z"
   },
   {
    "duration": 4,
    "start_time": "2023-04-15T07:57:59.215Z"
   },
   {
    "duration": 734,
    "start_time": "2023-04-15T07:58:01.680Z"
   },
   {
    "duration": 691,
    "start_time": "2023-04-15T07:58:04.603Z"
   },
   {
    "duration": 737,
    "start_time": "2023-04-15T07:58:08.042Z"
   },
   {
    "duration": 782,
    "start_time": "2023-04-15T07:58:20.182Z"
   },
   {
    "duration": 691,
    "start_time": "2023-04-15T07:58:21.782Z"
   },
   {
    "duration": 688,
    "start_time": "2023-04-15T07:58:23.003Z"
   },
   {
    "duration": 7,
    "start_time": "2023-04-15T07:58:53.510Z"
   },
   {
    "duration": 7,
    "start_time": "2023-04-15T07:59:13.301Z"
   },
   {
    "duration": 7,
    "start_time": "2023-04-15T07:59:23.411Z"
   },
   {
    "duration": 5,
    "start_time": "2023-04-15T07:59:43.708Z"
   },
   {
    "duration": 702,
    "start_time": "2023-04-15T07:59:44.480Z"
   },
   {
    "duration": 685,
    "start_time": "2023-04-15T07:59:45.638Z"
   },
   {
    "duration": 712,
    "start_time": "2023-04-15T07:59:47.083Z"
   },
   {
    "duration": 4,
    "start_time": "2023-04-15T07:59:56.119Z"
   },
   {
    "duration": 1480,
    "start_time": "2023-04-15T08:00:02.186Z"
   },
   {
    "duration": 414,
    "start_time": "2023-04-15T08:00:03.668Z"
   },
   {
    "duration": 4,
    "start_time": "2023-04-15T08:00:04.084Z"
   },
   {
    "duration": 35,
    "start_time": "2023-04-15T08:00:04.091Z"
   },
   {
    "duration": 75,
    "start_time": "2023-04-15T08:00:04.129Z"
   },
   {
    "duration": 56,
    "start_time": "2023-04-15T08:00:04.206Z"
   },
   {
    "duration": 69,
    "start_time": "2023-04-15T08:00:04.264Z"
   },
   {
    "duration": 163,
    "start_time": "2023-04-15T08:00:04.334Z"
   },
   {
    "duration": 3,
    "start_time": "2023-04-15T08:00:04.499Z"
   },
   {
    "duration": 350,
    "start_time": "2023-04-15T08:00:04.504Z"
   },
   {
    "duration": 355,
    "start_time": "2023-04-15T08:00:04.856Z"
   },
   {
    "duration": 310,
    "start_time": "2023-04-15T08:00:05.213Z"
   },
   {
    "duration": 4,
    "start_time": "2023-04-15T08:00:05.525Z"
   },
   {
    "duration": 712,
    "start_time": "2023-04-15T08:00:05.532Z"
   },
   {
    "duration": 622,
    "start_time": "2023-04-15T08:00:06.246Z"
   },
   {
    "duration": 630,
    "start_time": "2023-04-15T08:00:06.869Z"
   },
   {
    "duration": 11,
    "start_time": "2023-04-15T08:00:07.501Z"
   },
   {
    "duration": 27,
    "start_time": "2023-04-15T08:00:07.514Z"
   },
   {
    "duration": 5,
    "start_time": "2023-04-15T08:00:07.542Z"
   },
   {
    "duration": 22,
    "start_time": "2023-04-15T08:00:07.549Z"
   },
   {
    "duration": 12,
    "start_time": "2023-04-15T08:00:07.573Z"
   },
   {
    "duration": 13,
    "start_time": "2023-04-15T08:00:07.588Z"
   },
   {
    "duration": 186,
    "start_time": "2023-04-15T08:00:07.603Z"
   },
   {
    "duration": 3,
    "start_time": "2023-04-15T08:00:07.791Z"
   },
   {
    "duration": 5,
    "start_time": "2023-04-15T08:00:07.796Z"
   },
   {
    "duration": 71,
    "start_time": "2023-04-15T08:00:07.803Z"
   },
   {
    "duration": 8,
    "start_time": "2023-04-15T08:00:07.876Z"
   },
   {
    "duration": 7,
    "start_time": "2023-04-15T08:00:07.886Z"
   },
   {
    "duration": 30,
    "start_time": "2023-04-15T08:00:07.895Z"
   },
   {
    "duration": 164,
    "start_time": "2023-04-15T08:00:07.926Z"
   },
   {
    "duration": 103,
    "start_time": "2023-04-15T08:00:08.092Z"
   },
   {
    "duration": 92,
    "start_time": "2023-04-15T08:00:08.197Z"
   },
   {
    "duration": 100,
    "start_time": "2023-04-15T08:00:08.296Z"
   },
   {
    "duration": 10,
    "start_time": "2023-04-15T08:00:08.397Z"
   },
   {
    "duration": 7,
    "start_time": "2023-04-15T08:00:08.409Z"
   },
   {
    "duration": 10,
    "start_time": "2023-04-15T08:00:08.417Z"
   },
   {
    "duration": 5,
    "start_time": "2023-04-15T08:00:08.428Z"
   },
   {
    "duration": 12,
    "start_time": "2023-04-15T08:00:08.435Z"
   },
   {
    "duration": 7,
    "start_time": "2023-04-15T08:00:08.449Z"
   },
   {
    "duration": 23,
    "start_time": "2023-04-15T08:00:08.486Z"
   },
   {
    "duration": 3,
    "start_time": "2023-04-15T08:00:08.513Z"
   },
   {
    "duration": 6,
    "start_time": "2023-04-15T08:00:08.517Z"
   },
   {
    "duration": 743,
    "start_time": "2023-04-15T08:00:08.525Z"
   },
   {
    "duration": 709,
    "start_time": "2023-04-15T08:00:09.270Z"
   },
   {
    "duration": 698,
    "start_time": "2023-04-15T08:00:09.984Z"
   },
   {
    "duration": 1460,
    "start_time": "2023-04-15T08:07:22.615Z"
   },
   {
    "duration": 475,
    "start_time": "2023-04-15T08:07:24.077Z"
   },
   {
    "duration": 3,
    "start_time": "2023-04-15T08:07:24.554Z"
   },
   {
    "duration": 39,
    "start_time": "2023-04-15T08:07:24.559Z"
   },
   {
    "duration": 50,
    "start_time": "2023-04-15T08:07:24.606Z"
   },
   {
    "duration": 67,
    "start_time": "2023-04-15T08:07:24.658Z"
   },
   {
    "duration": 44,
    "start_time": "2023-04-15T08:07:24.727Z"
   },
   {
    "duration": 145,
    "start_time": "2023-04-15T08:07:24.785Z"
   },
   {
    "duration": 4,
    "start_time": "2023-04-15T08:07:24.932Z"
   },
   {
    "duration": 382,
    "start_time": "2023-04-15T08:07:24.937Z"
   },
   {
    "duration": 313,
    "start_time": "2023-04-15T08:07:25.321Z"
   },
   {
    "duration": 366,
    "start_time": "2023-04-15T08:07:25.636Z"
   },
   {
    "duration": 5,
    "start_time": "2023-04-15T08:07:26.005Z"
   },
   {
    "duration": 727,
    "start_time": "2023-04-15T08:07:26.012Z"
   },
   {
    "duration": 707,
    "start_time": "2023-04-15T08:07:26.741Z"
   },
   {
    "duration": 672,
    "start_time": "2023-04-15T08:07:27.450Z"
   },
   {
    "duration": 11,
    "start_time": "2023-04-15T08:07:28.124Z"
   },
   {
    "duration": 10,
    "start_time": "2023-04-15T08:07:28.136Z"
   },
   {
    "duration": 7,
    "start_time": "2023-04-15T08:07:28.148Z"
   },
   {
    "duration": 33,
    "start_time": "2023-04-15T08:07:28.156Z"
   },
   {
    "duration": 23,
    "start_time": "2023-04-15T08:07:28.191Z"
   },
   {
    "duration": 7,
    "start_time": "2023-04-15T08:07:28.216Z"
   },
   {
    "duration": 177,
    "start_time": "2023-04-15T08:07:28.225Z"
   },
   {
    "duration": 3,
    "start_time": "2023-04-15T08:07:28.404Z"
   },
   {
    "duration": 9,
    "start_time": "2023-04-15T08:07:28.409Z"
   },
   {
    "duration": 60,
    "start_time": "2023-04-15T08:07:28.419Z"
   },
   {
    "duration": 14,
    "start_time": "2023-04-15T08:07:28.481Z"
   },
   {
    "duration": 72,
    "start_time": "2023-04-15T08:07:28.498Z"
   },
   {
    "duration": 37,
    "start_time": "2023-04-15T08:07:28.573Z"
   },
   {
    "duration": 185,
    "start_time": "2023-04-15T08:07:28.613Z"
   },
   {
    "duration": 199,
    "start_time": "2023-04-15T08:07:28.800Z"
   },
   {
    "duration": 10,
    "start_time": "2023-04-15T08:07:29.003Z"
   },
   {
    "duration": 90,
    "start_time": "2023-04-15T08:07:29.016Z"
   },
   {
    "duration": 32,
    "start_time": "2023-04-15T08:07:29.108Z"
   },
   {
    "duration": 8,
    "start_time": "2023-04-15T08:07:29.142Z"
   },
   {
    "duration": 20,
    "start_time": "2023-04-15T08:07:29.152Z"
   },
   {
    "duration": 4,
    "start_time": "2023-04-15T08:07:29.174Z"
   },
   {
    "duration": 12,
    "start_time": "2023-04-15T08:07:29.180Z"
   },
   {
    "duration": 8,
    "start_time": "2023-04-15T08:07:29.197Z"
   },
   {
    "duration": 16,
    "start_time": "2023-04-15T08:07:29.207Z"
   },
   {
    "duration": 4,
    "start_time": "2023-04-15T08:07:29.226Z"
   },
   {
    "duration": 7,
    "start_time": "2023-04-15T08:07:29.231Z"
   },
   {
    "duration": 803,
    "start_time": "2023-04-15T08:07:29.239Z"
   },
   {
    "duration": 826,
    "start_time": "2023-04-15T08:07:30.044Z"
   },
   {
    "duration": 797,
    "start_time": "2023-04-15T08:07:30.872Z"
   },
   {
    "duration": 48,
    "start_time": "2023-04-15T08:07:57.129Z"
   },
   {
    "duration": 15696,
    "start_time": "2023-04-15T08:09:12.332Z"
   },
   {
    "duration": 304,
    "start_time": "2023-04-15T08:09:49.657Z"
   },
   {
    "duration": 374,
    "start_time": "2023-04-15T08:12:53.222Z"
   },
   {
    "duration": 129,
    "start_time": "2023-04-15T08:13:33.016Z"
   },
   {
    "duration": 943,
    "start_time": "2023-04-15T08:13:38.210Z"
   },
   {
    "duration": 1526,
    "start_time": "2023-04-15T08:13:45.311Z"
   },
   {
    "duration": 772,
    "start_time": "2023-04-15T08:13:58.007Z"
   },
   {
    "duration": 1502,
    "start_time": "2023-04-15T08:15:57.012Z"
   },
   {
    "duration": 426,
    "start_time": "2023-04-15T08:15:58.517Z"
   },
   {
    "duration": 3,
    "start_time": "2023-04-15T08:15:58.945Z"
   },
   {
    "duration": 42,
    "start_time": "2023-04-15T08:15:58.950Z"
   },
   {
    "duration": 53,
    "start_time": "2023-04-15T08:15:58.996Z"
   },
   {
    "duration": 66,
    "start_time": "2023-04-15T08:15:59.050Z"
   },
   {
    "duration": 47,
    "start_time": "2023-04-15T08:15:59.118Z"
   },
   {
    "duration": 163,
    "start_time": "2023-04-15T08:15:59.167Z"
   },
   {
    "duration": 4,
    "start_time": "2023-04-15T08:15:59.332Z"
   },
   {
    "duration": 398,
    "start_time": "2023-04-15T08:15:59.338Z"
   },
   {
    "duration": 375,
    "start_time": "2023-04-15T08:15:59.738Z"
   },
   {
    "duration": 330,
    "start_time": "2023-04-15T08:16:00.114Z"
   },
   {
    "duration": 358,
    "start_time": "2023-04-15T08:16:00.446Z"
   },
   {
    "duration": 101,
    "start_time": "2023-04-15T08:16:00.809Z"
   },
   {
    "duration": 718,
    "start_time": "2023-04-15T08:16:00.912Z"
   },
   {
    "duration": 644,
    "start_time": "2023-04-15T08:16:01.632Z"
   },
   {
    "duration": 762,
    "start_time": "2023-04-15T08:16:02.278Z"
   },
   {
    "duration": 11,
    "start_time": "2023-04-15T08:16:03.042Z"
   },
   {
    "duration": 10,
    "start_time": "2023-04-15T08:16:03.055Z"
   },
   {
    "duration": 20,
    "start_time": "2023-04-15T08:16:03.067Z"
   },
   {
    "duration": 12,
    "start_time": "2023-04-15T08:16:03.089Z"
   },
   {
    "duration": 11,
    "start_time": "2023-04-15T08:16:03.105Z"
   },
   {
    "duration": 5,
    "start_time": "2023-04-15T08:16:03.117Z"
   },
   {
    "duration": 37,
    "start_time": "2023-04-15T08:16:03.123Z"
   },
   {
    "duration": 25,
    "start_time": "2023-04-15T08:16:03.162Z"
   },
   {
    "duration": 7,
    "start_time": "2023-04-15T08:16:03.189Z"
   },
   {
    "duration": 44,
    "start_time": "2023-04-15T08:16:03.204Z"
   },
   {
    "duration": 8,
    "start_time": "2023-04-15T08:16:03.250Z"
   },
   {
    "duration": 12,
    "start_time": "2023-04-15T08:16:03.260Z"
   },
   {
    "duration": 37,
    "start_time": "2023-04-15T08:16:03.274Z"
   },
   {
    "duration": 103,
    "start_time": "2023-04-15T08:16:03.391Z"
   },
   {
    "duration": 103,
    "start_time": "2023-04-15T08:16:03.496Z"
   },
   {
    "duration": 80,
    "start_time": "2023-04-15T08:16:03.608Z"
   },
   {
    "duration": 31,
    "start_time": "2023-04-15T08:16:03.690Z"
   },
   {
    "duration": 73,
    "start_time": "2023-04-15T08:16:03.723Z"
   },
   {
    "duration": 10,
    "start_time": "2023-04-15T08:16:03.797Z"
   },
   {
    "duration": 9,
    "start_time": "2023-04-15T08:16:03.809Z"
   },
   {
    "duration": 3,
    "start_time": "2023-04-15T08:16:03.820Z"
   },
   {
    "duration": 10,
    "start_time": "2023-04-15T08:16:03.825Z"
   },
   {
    "duration": 7,
    "start_time": "2023-04-15T08:16:03.836Z"
   },
   {
    "duration": 8,
    "start_time": "2023-04-15T08:16:03.846Z"
   },
   {
    "duration": 3,
    "start_time": "2023-04-15T08:16:03.856Z"
   },
   {
    "duration": 15,
    "start_time": "2023-04-15T08:16:03.892Z"
   },
   {
    "duration": 803,
    "start_time": "2023-04-15T08:16:03.909Z"
   },
   {
    "duration": 700,
    "start_time": "2023-04-15T08:16:04.713Z"
   },
   {
    "duration": 715,
    "start_time": "2023-04-15T08:16:05.415Z"
   },
   {
    "duration": 60,
    "start_time": "2023-04-15T08:17:40.747Z"
   },
   {
    "duration": 51,
    "start_time": "2023-04-15T08:17:46.510Z"
   },
   {
    "duration": 55,
    "start_time": "2023-04-15T08:18:36.808Z"
   }
  ],
  "kernelspec": {
   "display_name": "Python 3 (ipykernel)",
   "language": "python",
   "name": "python3"
  },
  "language_info": {
   "codemirror_mode": {
    "name": "ipython",
    "version": 3
   },
   "file_extension": ".py",
   "mimetype": "text/x-python",
   "name": "python",
   "nbconvert_exporter": "python",
   "pygments_lexer": "ipython3",
   "version": "3.9.12"
  },
  "toc": {
   "base_numbering": 1,
   "nav_menu": {},
   "number_sections": true,
   "sideBar": true,
   "skip_h1_title": true,
   "title_cell": "Table of Contents",
   "title_sidebar": "Contents",
   "toc_cell": false,
   "toc_position": {},
   "toc_section_display": true,
   "toc_window_display": true
  }
 },
 "nbformat": 4,
 "nbformat_minor": 4
}
