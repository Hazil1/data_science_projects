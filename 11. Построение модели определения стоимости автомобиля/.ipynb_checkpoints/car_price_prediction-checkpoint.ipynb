{
 "cells": [
  {
   "cell_type": "markdown",
   "metadata": {},
   "source": [
    "# Определение стоимости автомобилей"
   ]
  },
  {
   "cell_type": "markdown",
   "metadata": {},
   "source": [
    "Сервис по продаже автомобилей с пробегом «Не бит, не крашен» разрабатывает приложение для привлечения новых клиентов. В нём можно быстро узнать рыночную стоимость своего автомобиля. В вашем распоряжении исторические данные: технические характеристики, комплектации и цены автомобилей. Вам нужно построить модель для определения стоимости. \n",
    "\n",
    "Заказчику важны:\n",
    "\n",
    "- качество предсказания;\n",
    "- скорость предсказания;\n",
    "- время обучения."
   ]
  },
  {
   "cell_type": "code",
   "execution_count": 1,
   "metadata": {},
   "outputs": [
    {
     "name": "stdout",
     "output_type": "stream",
     "text": [
      "Requirement already satisfied: scikit-learn==1.1.3 in /opt/conda/lib/python3.9/site-packages (1.1.3)\n",
      "Requirement already satisfied: joblib>=1.0.0 in /opt/conda/lib/python3.9/site-packages (from scikit-learn==1.1.3) (1.1.0)\n",
      "Requirement already satisfied: scipy>=1.3.2 in /opt/conda/lib/python3.9/site-packages (from scikit-learn==1.1.3) (1.9.1)\n",
      "Requirement already satisfied: threadpoolctl>=2.0.0 in /opt/conda/lib/python3.9/site-packages (from scikit-learn==1.1.3) (3.1.0)\n",
      "Requirement already satisfied: numpy>=1.17.3 in /opt/conda/lib/python3.9/site-packages (from scikit-learn==1.1.3) (1.21.1)\n"
     ]
    }
   ],
   "source": [
    "!pip install scikit-learn==1.1.3"
   ]
  },
  {
   "cell_type": "code",
   "execution_count": 2,
   "metadata": {},
   "outputs": [],
   "source": [
    "# Загрузим все библиотеки\n",
    "import pandas as pd\n",
    "import numpy as np\n",
    "import matplotlib.pyplot as plt\n",
    "import seaborn as sns\n",
    "\n",
    "from sklearn.tree import DecisionTreeRegressor\n",
    "from lightgbm import LGBMRegressor\n",
    "from catboost import CatBoostRegressor\n",
    "\n",
    "from sklearn.model_selection import train_test_split, RandomizedSearchCV\n",
    "from sklearn.metrics import mean_squared_error\n",
    "from sklearn.preprocessing import (\n",
    "    OneHotEncoder, \n",
    "    OrdinalEncoder, \n",
    "    StandardScaler\n",
    ")\n",
    "\n",
    "# Обозначим константные значения\n",
    "RANDOM_STATE = 12345\n",
    "FORMAT = '%Y-%m-%d %H:%M:%S'"
   ]
  },
  {
   "cell_type": "markdown",
   "metadata": {},
   "source": [
    "## Подготовка данных"
   ]
  },
  {
   "cell_type": "markdown",
   "metadata": {},
   "source": [
    "В ходе подготовки данных посмотрим на наши данные поближе, избавимся от неинформативных признаков, уберем вылетные значения, заполним пропуски и удалим полные дубликаты в данных"
   ]
  },
  {
   "cell_type": "code",
   "execution_count": 3,
   "metadata": {
    "scrolled": true
   },
   "outputs": [
    {
     "data": {
      "text/html": [
       "<div>\n",
       "<style scoped>\n",
       "    .dataframe tbody tr th:only-of-type {\n",
       "        vertical-align: middle;\n",
       "    }\n",
       "\n",
       "    .dataframe tbody tr th {\n",
       "        vertical-align: top;\n",
       "    }\n",
       "\n",
       "    .dataframe thead th {\n",
       "        text-align: right;\n",
       "    }\n",
       "</style>\n",
       "<table border=\"1\" class=\"dataframe\">\n",
       "  <thead>\n",
       "    <tr style=\"text-align: right;\">\n",
       "      <th></th>\n",
       "      <th>DateCrawled</th>\n",
       "      <th>Price</th>\n",
       "      <th>VehicleType</th>\n",
       "      <th>RegistrationYear</th>\n",
       "      <th>Gearbox</th>\n",
       "      <th>Power</th>\n",
       "      <th>Model</th>\n",
       "      <th>Kilometer</th>\n",
       "      <th>RegistrationMonth</th>\n",
       "      <th>FuelType</th>\n",
       "      <th>Brand</th>\n",
       "      <th>Repaired</th>\n",
       "      <th>DateCreated</th>\n",
       "      <th>NumberOfPictures</th>\n",
       "      <th>PostalCode</th>\n",
       "      <th>LastSeen</th>\n",
       "    </tr>\n",
       "  </thead>\n",
       "  <tbody>\n",
       "    <tr>\n",
       "      <th>0</th>\n",
       "      <td>2016-03-24 11:52:17</td>\n",
       "      <td>480</td>\n",
       "      <td>NaN</td>\n",
       "      <td>1993</td>\n",
       "      <td>manual</td>\n",
       "      <td>0</td>\n",
       "      <td>golf</td>\n",
       "      <td>150000</td>\n",
       "      <td>0</td>\n",
       "      <td>petrol</td>\n",
       "      <td>volkswagen</td>\n",
       "      <td>NaN</td>\n",
       "      <td>2016-03-24 00:00:00</td>\n",
       "      <td>0</td>\n",
       "      <td>70435</td>\n",
       "      <td>2016-04-07 03:16:57</td>\n",
       "    </tr>\n",
       "    <tr>\n",
       "      <th>1</th>\n",
       "      <td>2016-03-24 10:58:45</td>\n",
       "      <td>18300</td>\n",
       "      <td>coupe</td>\n",
       "      <td>2011</td>\n",
       "      <td>manual</td>\n",
       "      <td>190</td>\n",
       "      <td>NaN</td>\n",
       "      <td>125000</td>\n",
       "      <td>5</td>\n",
       "      <td>gasoline</td>\n",
       "      <td>audi</td>\n",
       "      <td>yes</td>\n",
       "      <td>2016-03-24 00:00:00</td>\n",
       "      <td>0</td>\n",
       "      <td>66954</td>\n",
       "      <td>2016-04-07 01:46:50</td>\n",
       "    </tr>\n",
       "    <tr>\n",
       "      <th>2</th>\n",
       "      <td>2016-03-14 12:52:21</td>\n",
       "      <td>9800</td>\n",
       "      <td>suv</td>\n",
       "      <td>2004</td>\n",
       "      <td>auto</td>\n",
       "      <td>163</td>\n",
       "      <td>grand</td>\n",
       "      <td>125000</td>\n",
       "      <td>8</td>\n",
       "      <td>gasoline</td>\n",
       "      <td>jeep</td>\n",
       "      <td>NaN</td>\n",
       "      <td>2016-03-14 00:00:00</td>\n",
       "      <td>0</td>\n",
       "      <td>90480</td>\n",
       "      <td>2016-04-05 12:47:46</td>\n",
       "    </tr>\n",
       "    <tr>\n",
       "      <th>3</th>\n",
       "      <td>2016-03-17 16:54:04</td>\n",
       "      <td>1500</td>\n",
       "      <td>small</td>\n",
       "      <td>2001</td>\n",
       "      <td>manual</td>\n",
       "      <td>75</td>\n",
       "      <td>golf</td>\n",
       "      <td>150000</td>\n",
       "      <td>6</td>\n",
       "      <td>petrol</td>\n",
       "      <td>volkswagen</td>\n",
       "      <td>no</td>\n",
       "      <td>2016-03-17 00:00:00</td>\n",
       "      <td>0</td>\n",
       "      <td>91074</td>\n",
       "      <td>2016-03-17 17:40:17</td>\n",
       "    </tr>\n",
       "    <tr>\n",
       "      <th>4</th>\n",
       "      <td>2016-03-31 17:25:20</td>\n",
       "      <td>3600</td>\n",
       "      <td>small</td>\n",
       "      <td>2008</td>\n",
       "      <td>manual</td>\n",
       "      <td>69</td>\n",
       "      <td>fabia</td>\n",
       "      <td>90000</td>\n",
       "      <td>7</td>\n",
       "      <td>gasoline</td>\n",
       "      <td>skoda</td>\n",
       "      <td>no</td>\n",
       "      <td>2016-03-31 00:00:00</td>\n",
       "      <td>0</td>\n",
       "      <td>60437</td>\n",
       "      <td>2016-04-06 10:17:21</td>\n",
       "    </tr>\n",
       "  </tbody>\n",
       "</table>\n",
       "</div>"
      ],
      "text/plain": [
       "           DateCrawled  Price VehicleType  RegistrationYear Gearbox  Power  \\\n",
       "0  2016-03-24 11:52:17    480         NaN              1993  manual      0   \n",
       "1  2016-03-24 10:58:45  18300       coupe              2011  manual    190   \n",
       "2  2016-03-14 12:52:21   9800         suv              2004    auto    163   \n",
       "3  2016-03-17 16:54:04   1500       small              2001  manual     75   \n",
       "4  2016-03-31 17:25:20   3600       small              2008  manual     69   \n",
       "\n",
       "   Model  Kilometer  RegistrationMonth  FuelType       Brand Repaired  \\\n",
       "0   golf     150000                  0    petrol  volkswagen      NaN   \n",
       "1    NaN     125000                  5  gasoline        audi      yes   \n",
       "2  grand     125000                  8  gasoline        jeep      NaN   \n",
       "3   golf     150000                  6    petrol  volkswagen       no   \n",
       "4  fabia      90000                  7  gasoline       skoda       no   \n",
       "\n",
       "           DateCreated  NumberOfPictures  PostalCode             LastSeen  \n",
       "0  2016-03-24 00:00:00                 0       70435  2016-04-07 03:16:57  \n",
       "1  2016-03-24 00:00:00                 0       66954  2016-04-07 01:46:50  \n",
       "2  2016-03-14 00:00:00                 0       90480  2016-04-05 12:47:46  \n",
       "3  2016-03-17 00:00:00                 0       91074  2016-03-17 17:40:17  \n",
       "4  2016-03-31 00:00:00                 0       60437  2016-04-06 10:17:21  "
      ]
     },
     "execution_count": 3,
     "metadata": {},
     "output_type": "execute_result"
    }
   ],
   "source": [
    "# Загрузим и сохраним данные в переменную\n",
    "df = pd.read_csv('/datasets/autos.csv')\n",
    "LEN_DF = len(df) # сохраним длину изначального датасета\n",
    "df.head()"
   ]
  },
  {
   "cell_type": "markdown",
   "metadata": {},
   "source": [
    "**Признаки:**\n",
    "- DateCrawled — дата скачивания анкеты из базы\n",
    "- VehicleType — тип автомобильного кузова\n",
    "- RegistrationYear — год регистрации автомобиля\n",
    "- Gearbox — тип коробки передач\n",
    "- Power — мощность (л. с.)\n",
    "- Model — модель автомобиля\n",
    "- Kilometer — пробег (км)\n",
    "- RegistrationMonth — месяц регистрации автомобиля\n",
    "- FuelType — тип топлива\n",
    "- Brand — марка автомобиля\n",
    "- Repaired — была машина в ремонте или нет\n",
    "- DateCreated — дата создания анкеты\n",
    "- NumberOfPictures — количество фотографий автомобиля\n",
    "- PostalCode — почтовый индекс владельца анкеты (пользователя)\n",
    "- LastSeen — дата последней активности пользователя\n",
    "\n",
    "**Целевой признак**\n",
    "- Price — цена (евро)"
   ]
  },
  {
   "cell_type": "code",
   "execution_count": 4,
   "metadata": {},
   "outputs": [
    {
     "data": {
      "text/html": [
       "<div>\n",
       "<style scoped>\n",
       "    .dataframe tbody tr th:only-of-type {\n",
       "        vertical-align: middle;\n",
       "    }\n",
       "\n",
       "    .dataframe tbody tr th {\n",
       "        vertical-align: top;\n",
       "    }\n",
       "\n",
       "    .dataframe thead th {\n",
       "        text-align: right;\n",
       "    }\n",
       "</style>\n",
       "<table border=\"1\" class=\"dataframe\">\n",
       "  <thead>\n",
       "    <tr style=\"text-align: right;\">\n",
       "      <th></th>\n",
       "      <th>date_crawled</th>\n",
       "      <th>price</th>\n",
       "      <th>vehicle_type</th>\n",
       "      <th>registration_year</th>\n",
       "      <th>gearbox</th>\n",
       "      <th>power</th>\n",
       "      <th>model</th>\n",
       "      <th>kilometer</th>\n",
       "      <th>registration_month</th>\n",
       "      <th>fuel_type</th>\n",
       "      <th>brand</th>\n",
       "      <th>repaired</th>\n",
       "      <th>date_created</th>\n",
       "      <th>number_of_pictures</th>\n",
       "      <th>postal_code</th>\n",
       "      <th>last_seen</th>\n",
       "    </tr>\n",
       "  </thead>\n",
       "  <tbody>\n",
       "    <tr>\n",
       "      <th>0</th>\n",
       "      <td>2016-03-24 11:52:17</td>\n",
       "      <td>480</td>\n",
       "      <td>NaN</td>\n",
       "      <td>1993</td>\n",
       "      <td>manual</td>\n",
       "      <td>0</td>\n",
       "      <td>golf</td>\n",
       "      <td>150000</td>\n",
       "      <td>0</td>\n",
       "      <td>petrol</td>\n",
       "      <td>volkswagen</td>\n",
       "      <td>NaN</td>\n",
       "      <td>2016-03-24 00:00:00</td>\n",
       "      <td>0</td>\n",
       "      <td>70435</td>\n",
       "      <td>2016-04-07 03:16:57</td>\n",
       "    </tr>\n",
       "    <tr>\n",
       "      <th>1</th>\n",
       "      <td>2016-03-24 10:58:45</td>\n",
       "      <td>18300</td>\n",
       "      <td>coupe</td>\n",
       "      <td>2011</td>\n",
       "      <td>manual</td>\n",
       "      <td>190</td>\n",
       "      <td>NaN</td>\n",
       "      <td>125000</td>\n",
       "      <td>5</td>\n",
       "      <td>gasoline</td>\n",
       "      <td>audi</td>\n",
       "      <td>yes</td>\n",
       "      <td>2016-03-24 00:00:00</td>\n",
       "      <td>0</td>\n",
       "      <td>66954</td>\n",
       "      <td>2016-04-07 01:46:50</td>\n",
       "    </tr>\n",
       "    <tr>\n",
       "      <th>2</th>\n",
       "      <td>2016-03-14 12:52:21</td>\n",
       "      <td>9800</td>\n",
       "      <td>suv</td>\n",
       "      <td>2004</td>\n",
       "      <td>auto</td>\n",
       "      <td>163</td>\n",
       "      <td>grand</td>\n",
       "      <td>125000</td>\n",
       "      <td>8</td>\n",
       "      <td>gasoline</td>\n",
       "      <td>jeep</td>\n",
       "      <td>NaN</td>\n",
       "      <td>2016-03-14 00:00:00</td>\n",
       "      <td>0</td>\n",
       "      <td>90480</td>\n",
       "      <td>2016-04-05 12:47:46</td>\n",
       "    </tr>\n",
       "    <tr>\n",
       "      <th>3</th>\n",
       "      <td>2016-03-17 16:54:04</td>\n",
       "      <td>1500</td>\n",
       "      <td>small</td>\n",
       "      <td>2001</td>\n",
       "      <td>manual</td>\n",
       "      <td>75</td>\n",
       "      <td>golf</td>\n",
       "      <td>150000</td>\n",
       "      <td>6</td>\n",
       "      <td>petrol</td>\n",
       "      <td>volkswagen</td>\n",
       "      <td>no</td>\n",
       "      <td>2016-03-17 00:00:00</td>\n",
       "      <td>0</td>\n",
       "      <td>91074</td>\n",
       "      <td>2016-03-17 17:40:17</td>\n",
       "    </tr>\n",
       "    <tr>\n",
       "      <th>4</th>\n",
       "      <td>2016-03-31 17:25:20</td>\n",
       "      <td>3600</td>\n",
       "      <td>small</td>\n",
       "      <td>2008</td>\n",
       "      <td>manual</td>\n",
       "      <td>69</td>\n",
       "      <td>fabia</td>\n",
       "      <td>90000</td>\n",
       "      <td>7</td>\n",
       "      <td>gasoline</td>\n",
       "      <td>skoda</td>\n",
       "      <td>no</td>\n",
       "      <td>2016-03-31 00:00:00</td>\n",
       "      <td>0</td>\n",
       "      <td>60437</td>\n",
       "      <td>2016-04-06 10:17:21</td>\n",
       "    </tr>\n",
       "  </tbody>\n",
       "</table>\n",
       "</div>"
      ],
      "text/plain": [
       "          date_crawled  price vehicle_type  registration_year gearbox  power  \\\n",
       "0  2016-03-24 11:52:17    480          NaN               1993  manual      0   \n",
       "1  2016-03-24 10:58:45  18300        coupe               2011  manual    190   \n",
       "2  2016-03-14 12:52:21   9800          suv               2004    auto    163   \n",
       "3  2016-03-17 16:54:04   1500        small               2001  manual     75   \n",
       "4  2016-03-31 17:25:20   3600        small               2008  manual     69   \n",
       "\n",
       "   model  kilometer  registration_month fuel_type       brand repaired  \\\n",
       "0   golf     150000                   0    petrol  volkswagen      NaN   \n",
       "1    NaN     125000                   5  gasoline        audi      yes   \n",
       "2  grand     125000                   8  gasoline        jeep      NaN   \n",
       "3   golf     150000                   6    petrol  volkswagen       no   \n",
       "4  fabia      90000                   7  gasoline       skoda       no   \n",
       "\n",
       "          date_created  number_of_pictures  postal_code            last_seen  \n",
       "0  2016-03-24 00:00:00                   0        70435  2016-04-07 03:16:57  \n",
       "1  2016-03-24 00:00:00                   0        66954  2016-04-07 01:46:50  \n",
       "2  2016-03-14 00:00:00                   0        90480  2016-04-05 12:47:46  \n",
       "3  2016-03-17 00:00:00                   0        91074  2016-03-17 17:40:17  \n",
       "4  2016-03-31 00:00:00                   0        60437  2016-04-06 10:17:21  "
      ]
     },
     "execution_count": 4,
     "metadata": {},
     "output_type": "execute_result"
    }
   ],
   "source": [
    "# Изменим названия столбцов, приведем их в более удобный вид для дальнейшей работы\n",
    "columns = {'DateCrawled': 'date_crawled',\n",
    "           'VehicleType': 'vehicle_type',\n",
    "           'RegistrationYear': 'registration_year',\n",
    "           'RegistrationMonth': 'registration_month',\n",
    "           'FuelType': 'fuel_type',\n",
    "           'DateCreated': 'date_created',\n",
    "           'NumberOfPictures': 'number_of_pictures',\n",
    "           'PostalCode': 'postal_code',\n",
    "           'LastSeen': 'last_seen'\n",
    "          }\n",
    "\n",
    "df = df.rename(columns=columns)\n",
    "df = df.rename(str.lower, axis='columns')\n",
    "df.head()"
   ]
  },
  {
   "cell_type": "markdown",
   "metadata": {},
   "source": [
    "### Общая информация по датасету"
   ]
  },
  {
   "cell_type": "code",
   "execution_count": 5,
   "metadata": {},
   "outputs": [
    {
     "name": "stdout",
     "output_type": "stream",
     "text": [
      "<class 'pandas.core.frame.DataFrame'>\n",
      "RangeIndex: 354369 entries, 0 to 354368\n",
      "Data columns (total 16 columns):\n",
      " #   Column              Non-Null Count   Dtype \n",
      "---  ------              --------------   ----- \n",
      " 0   date_crawled        354369 non-null  object\n",
      " 1   price               354369 non-null  int64 \n",
      " 2   vehicle_type        316879 non-null  object\n",
      " 3   registration_year   354369 non-null  int64 \n",
      " 4   gearbox             334536 non-null  object\n",
      " 5   power               354369 non-null  int64 \n",
      " 6   model               334664 non-null  object\n",
      " 7   kilometer           354369 non-null  int64 \n",
      " 8   registration_month  354369 non-null  int64 \n",
      " 9   fuel_type           321474 non-null  object\n",
      " 10  brand               354369 non-null  object\n",
      " 11  repaired            283215 non-null  object\n",
      " 12  date_created        354369 non-null  object\n",
      " 13  number_of_pictures  354369 non-null  int64 \n",
      " 14  postal_code         354369 non-null  int64 \n",
      " 15  last_seen           354369 non-null  object\n",
      "dtypes: int64(7), object(9)\n",
      "memory usage: 43.3+ MB\n"
     ]
    }
   ],
   "source": [
    "df.info()"
   ]
  },
  {
   "cell_type": "code",
   "execution_count": 6,
   "metadata": {},
   "outputs": [
    {
     "name": "stdout",
     "output_type": "stream",
     "text": [
      "<class 'pandas.core.frame.DataFrame'>\n",
      "RangeIndex: 354369 entries, 0 to 354368\n",
      "Columns: 16 entries, date_crawled to last_seen\n",
      "dtypes: int64(7), object(9)\n",
      "memory usage: 217.0 MB\n"
     ]
    }
   ],
   "source": [
    "df.info(memory_usage='deep', max_cols=0)"
   ]
  },
  {
   "cell_type": "code",
   "execution_count": 7,
   "metadata": {},
   "outputs": [
    {
     "data": {
      "text/plain": [
       "4"
      ]
     },
     "execution_count": 7,
     "metadata": {},
     "output_type": "execute_result"
    }
   ],
   "source": [
    "# Посмотрим на количество явных дубликатов в данных\n",
    "df.duplicated().sum()"
   ]
  },
  {
   "cell_type": "code",
   "execution_count": 8,
   "metadata": {
    "scrolled": true
   },
   "outputs": [
    {
     "data": {
      "text/html": [
       "<div>\n",
       "<style scoped>\n",
       "    .dataframe tbody tr th:only-of-type {\n",
       "        vertical-align: middle;\n",
       "    }\n",
       "\n",
       "    .dataframe tbody tr th {\n",
       "        vertical-align: top;\n",
       "    }\n",
       "\n",
       "    .dataframe thead th {\n",
       "        text-align: right;\n",
       "    }\n",
       "</style>\n",
       "<table border=\"1\" class=\"dataframe\">\n",
       "  <thead>\n",
       "    <tr style=\"text-align: right;\">\n",
       "      <th></th>\n",
       "      <th>date_crawled</th>\n",
       "      <th>price</th>\n",
       "      <th>vehicle_type</th>\n",
       "      <th>registration_year</th>\n",
       "      <th>gearbox</th>\n",
       "      <th>power</th>\n",
       "      <th>model</th>\n",
       "      <th>kilometer</th>\n",
       "      <th>registration_month</th>\n",
       "      <th>fuel_type</th>\n",
       "      <th>brand</th>\n",
       "      <th>repaired</th>\n",
       "      <th>date_created</th>\n",
       "      <th>number_of_pictures</th>\n",
       "      <th>postal_code</th>\n",
       "      <th>last_seen</th>\n",
       "    </tr>\n",
       "  </thead>\n",
       "  <tbody>\n",
       "    <tr>\n",
       "      <th>354362</th>\n",
       "      <td>2016-03-05 19:56:21</td>\n",
       "      <td>1199</td>\n",
       "      <td>convertible</td>\n",
       "      <td>2000</td>\n",
       "      <td>auto</td>\n",
       "      <td>101</td>\n",
       "      <td>fortwo</td>\n",
       "      <td>125000</td>\n",
       "      <td>3</td>\n",
       "      <td>petrol</td>\n",
       "      <td>smart</td>\n",
       "      <td>no</td>\n",
       "      <td>2016-03-05 00:00:00</td>\n",
       "      <td>0</td>\n",
       "      <td>26135</td>\n",
       "      <td>2016-03-11 18:17:12</td>\n",
       "    </tr>\n",
       "    <tr>\n",
       "      <th>354363</th>\n",
       "      <td>2016-03-19 18:57:12</td>\n",
       "      <td>9200</td>\n",
       "      <td>bus</td>\n",
       "      <td>1996</td>\n",
       "      <td>manual</td>\n",
       "      <td>102</td>\n",
       "      <td>transporter</td>\n",
       "      <td>150000</td>\n",
       "      <td>3</td>\n",
       "      <td>gasoline</td>\n",
       "      <td>volkswagen</td>\n",
       "      <td>no</td>\n",
       "      <td>2016-03-19 00:00:00</td>\n",
       "      <td>0</td>\n",
       "      <td>87439</td>\n",
       "      <td>2016-04-07 07:15:26</td>\n",
       "    </tr>\n",
       "    <tr>\n",
       "      <th>354364</th>\n",
       "      <td>2016-03-20 19:41:08</td>\n",
       "      <td>3400</td>\n",
       "      <td>wagon</td>\n",
       "      <td>2002</td>\n",
       "      <td>manual</td>\n",
       "      <td>100</td>\n",
       "      <td>golf</td>\n",
       "      <td>150000</td>\n",
       "      <td>6</td>\n",
       "      <td>gasoline</td>\n",
       "      <td>volkswagen</td>\n",
       "      <td>NaN</td>\n",
       "      <td>2016-03-20 00:00:00</td>\n",
       "      <td>0</td>\n",
       "      <td>40764</td>\n",
       "      <td>2016-03-24 12:45:21</td>\n",
       "    </tr>\n",
       "  </tbody>\n",
       "</table>\n",
       "</div>"
      ],
      "text/plain": [
       "               date_crawled  price vehicle_type  registration_year gearbox  \\\n",
       "354362  2016-03-05 19:56:21   1199  convertible               2000    auto   \n",
       "354363  2016-03-19 18:57:12   9200          bus               1996  manual   \n",
       "354364  2016-03-20 19:41:08   3400        wagon               2002  manual   \n",
       "\n",
       "        power        model  kilometer  registration_month fuel_type  \\\n",
       "354362    101       fortwo     125000                   3    petrol   \n",
       "354363    102  transporter     150000                   3  gasoline   \n",
       "354364    100         golf     150000                   6  gasoline   \n",
       "\n",
       "             brand repaired         date_created  number_of_pictures  \\\n",
       "354362       smart       no  2016-03-05 00:00:00                   0   \n",
       "354363  volkswagen       no  2016-03-19 00:00:00                   0   \n",
       "354364  volkswagen      NaN  2016-03-20 00:00:00                   0   \n",
       "\n",
       "        postal_code            last_seen  \n",
       "354362        26135  2016-03-11 18:17:12  \n",
       "354363        87439  2016-04-07 07:15:26  \n",
       "354364        40764  2016-03-24 12:45:21  "
      ]
     },
     "execution_count": 8,
     "metadata": {},
     "output_type": "execute_result"
    }
   ],
   "source": [
    "# Удалим явные дубликаты\n",
    "df = df.drop_duplicates().reset_index(drop=True)\n",
    "df.tail(3)"
   ]
  },
  {
   "cell_type": "code",
   "execution_count": 9,
   "metadata": {},
   "outputs": [
    {
     "data": {
      "text/html": [
       "<div>\n",
       "<style scoped>\n",
       "    .dataframe tbody tr th:only-of-type {\n",
       "        vertical-align: middle;\n",
       "    }\n",
       "\n",
       "    .dataframe tbody tr th {\n",
       "        vertical-align: top;\n",
       "    }\n",
       "\n",
       "    .dataframe thead th {\n",
       "        text-align: right;\n",
       "    }\n",
       "</style>\n",
       "<table border=\"1\" class=\"dataframe\">\n",
       "  <thead>\n",
       "    <tr style=\"text-align: right;\">\n",
       "      <th></th>\n",
       "      <th>price</th>\n",
       "      <th>registration_year</th>\n",
       "      <th>power</th>\n",
       "      <th>kilometer</th>\n",
       "      <th>registration_month</th>\n",
       "      <th>number_of_pictures</th>\n",
       "      <th>postal_code</th>\n",
       "    </tr>\n",
       "  </thead>\n",
       "  <tbody>\n",
       "    <tr>\n",
       "      <th>count</th>\n",
       "      <td>354365.000000</td>\n",
       "      <td>354365.000000</td>\n",
       "      <td>354365.000000</td>\n",
       "      <td>354365.000000</td>\n",
       "      <td>354365.000000</td>\n",
       "      <td>354365.0</td>\n",
       "      <td>354365.000000</td>\n",
       "    </tr>\n",
       "    <tr>\n",
       "      <th>mean</th>\n",
       "      <td>4416.679830</td>\n",
       "      <td>2004.234481</td>\n",
       "      <td>110.093816</td>\n",
       "      <td>128211.363989</td>\n",
       "      <td>5.714650</td>\n",
       "      <td>0.0</td>\n",
       "      <td>50508.503800</td>\n",
       "    </tr>\n",
       "    <tr>\n",
       "      <th>std</th>\n",
       "      <td>4514.176349</td>\n",
       "      <td>90.228466</td>\n",
       "      <td>189.851330</td>\n",
       "      <td>37905.083858</td>\n",
       "      <td>3.726432</td>\n",
       "      <td>0.0</td>\n",
       "      <td>25783.100078</td>\n",
       "    </tr>\n",
       "    <tr>\n",
       "      <th>min</th>\n",
       "      <td>0.000000</td>\n",
       "      <td>1000.000000</td>\n",
       "      <td>0.000000</td>\n",
       "      <td>5000.000000</td>\n",
       "      <td>0.000000</td>\n",
       "      <td>0.0</td>\n",
       "      <td>1067.000000</td>\n",
       "    </tr>\n",
       "    <tr>\n",
       "      <th>25%</th>\n",
       "      <td>1050.000000</td>\n",
       "      <td>1999.000000</td>\n",
       "      <td>69.000000</td>\n",
       "      <td>125000.000000</td>\n",
       "      <td>3.000000</td>\n",
       "      <td>0.0</td>\n",
       "      <td>30165.000000</td>\n",
       "    </tr>\n",
       "    <tr>\n",
       "      <th>50%</th>\n",
       "      <td>2700.000000</td>\n",
       "      <td>2003.000000</td>\n",
       "      <td>105.000000</td>\n",
       "      <td>150000.000000</td>\n",
       "      <td>6.000000</td>\n",
       "      <td>0.0</td>\n",
       "      <td>49413.000000</td>\n",
       "    </tr>\n",
       "    <tr>\n",
       "      <th>75%</th>\n",
       "      <td>6400.000000</td>\n",
       "      <td>2008.000000</td>\n",
       "      <td>143.000000</td>\n",
       "      <td>150000.000000</td>\n",
       "      <td>9.000000</td>\n",
       "      <td>0.0</td>\n",
       "      <td>71083.000000</td>\n",
       "    </tr>\n",
       "    <tr>\n",
       "      <th>max</th>\n",
       "      <td>20000.000000</td>\n",
       "      <td>9999.000000</td>\n",
       "      <td>20000.000000</td>\n",
       "      <td>150000.000000</td>\n",
       "      <td>12.000000</td>\n",
       "      <td>0.0</td>\n",
       "      <td>99998.000000</td>\n",
       "    </tr>\n",
       "  </tbody>\n",
       "</table>\n",
       "</div>"
      ],
      "text/plain": [
       "               price  registration_year          power      kilometer  \\\n",
       "count  354365.000000      354365.000000  354365.000000  354365.000000   \n",
       "mean     4416.679830        2004.234481     110.093816  128211.363989   \n",
       "std      4514.176349          90.228466     189.851330   37905.083858   \n",
       "min         0.000000        1000.000000       0.000000    5000.000000   \n",
       "25%      1050.000000        1999.000000      69.000000  125000.000000   \n",
       "50%      2700.000000        2003.000000     105.000000  150000.000000   \n",
       "75%      6400.000000        2008.000000     143.000000  150000.000000   \n",
       "max     20000.000000        9999.000000   20000.000000  150000.000000   \n",
       "\n",
       "       registration_month  number_of_pictures    postal_code  \n",
       "count       354365.000000            354365.0  354365.000000  \n",
       "mean             5.714650                 0.0   50508.503800  \n",
       "std              3.726432                 0.0   25783.100078  \n",
       "min              0.000000                 0.0    1067.000000  \n",
       "25%              3.000000                 0.0   30165.000000  \n",
       "50%              6.000000                 0.0   49413.000000  \n",
       "75%              9.000000                 0.0   71083.000000  \n",
       "max             12.000000                 0.0   99998.000000  "
      ]
     },
     "execution_count": 9,
     "metadata": {},
     "output_type": "execute_result"
    }
   ],
   "source": [
    "df.describe()"
   ]
  },
  {
   "cell_type": "markdown",
   "metadata": {},
   "source": [
    "По таблице со статистиками видно, что есть вылетные значения в столбцах `registration_year` и `power`, в столбце `price` видим нулевую цену, что немного странно, значения из столбца `kilometer` похожи на правду. Далее расмотрим ближе распределения этих значений.\n",
    "\n",
    "Значения в столбце `number_of_pictures` равны нулю, сразу удалим этот столбец из датасета, т.к. он не имеет никакой информационной ценности для обучения моделей машинного обучения. Также удалим столбцы `date_crawlet` (дата скачивания анкеты из базы), `date_created` (дата создания анкеты), `last_seen` (дата последней активности пользователя) и 'registration_month' (месяц регистрации автомобиля), т.к. эти даты никак не должны влиять на стоимость авто."
   ]
  },
  {
   "cell_type": "code",
   "execution_count": 10,
   "metadata": {},
   "outputs": [],
   "source": [
    "# Удалим столбцы 'number_of_pictures', 'date_crawlet', 'last_seen' и 'registration_month'\n",
    "df = df.drop(columns=['number_of_pictures', 'date_crawled', 'last_seen', 'registration_month'], axis=1)"
   ]
  },
  {
   "cell_type": "code",
   "execution_count": 11,
   "metadata": {},
   "outputs": [
    {
     "data": {
      "text/plain": [
       "price                 0.000000\n",
       "vehicle_type         10.579487\n",
       "registration_year     0.000000\n",
       "gearbox               5.596772\n",
       "power                 0.000000\n",
       "model                 5.560651\n",
       "kilometer             0.000000\n",
       "fuel_type             9.282802\n",
       "brand                 0.000000\n",
       "repaired             20.079297\n",
       "date_created          0.000000\n",
       "postal_code           0.000000\n",
       "dtype: float64"
      ]
     },
     "execution_count": 11,
     "metadata": {},
     "output_type": "execute_result"
    }
   ],
   "source": [
    "# Посмотрим на количество пропусков в данных в процентах\n",
    "df.isna().sum() / len(df) * 100"
   ]
  },
  {
   "cell_type": "markdown",
   "metadata": {},
   "source": [
    "Пропуски в следующих столбцах:\n",
    "- `vehicle_type`\n",
    "- `gearbox`\n",
    "- `model`\n",
    "- `fuel_type`\n",
    "- `repaired`\n",
    "Пропусков очень много, мы не можем их просто удалить, далее попытаемся заполнить пропуски."
   ]
  },
  {
   "cell_type": "markdown",
   "metadata": {},
   "source": [
    "### Борьба с выбивающимися значениями"
   ]
  },
  {
   "cell_type": "markdown",
   "metadata": {},
   "source": [
    "Посмотрим поближе на значения из столбцов `registration_year`, `power`, `price` и `kilometer` т.к. в них есть выбивающиеся значения."
   ]
  },
  {
   "cell_type": "code",
   "execution_count": 12,
   "metadata": {},
   "outputs": [],
   "source": [
    "def histogram(column, bins=100):\n",
    "    plt.figure(figsize=(15, 4))\n",
    "    df[column].hist(bins=bins)\n",
    "    plt.title(f'Гистограмма распределения значений в столбце {column.upper()}', fontsize=16)\n",
    "    plt.show()\n",
    "    print(f'Количество пропусков в столбце {column}: {df[column].isna().sum()}')"
   ]
  },
  {
   "cell_type": "code",
   "execution_count": 13,
   "metadata": {},
   "outputs": [
    {
     "data": {
      "image/png": "[encoded data removed]",
      "text/plain": [
       "<Figure size 1080x288 with 1 Axes>"
      ]
     },
     "metadata": {
      "needs_background": "light"
     },
     "output_type": "display_data"
    },
    {
     "name": "stdout",
     "output_type": "stream",
     "text": [
      "Количество пропусков в столбце price: 0\n"
     ]
    },
    {
     "data": {
      "image/png": "[encoded data removed]",
      "text/plain": [
       "<Figure size 1080x288 with 1 Axes>"
      ]
     },
     "metadata": {
      "needs_background": "light"
     },
     "output_type": "display_data"
    },
    {
     "name": "stdout",
     "output_type": "stream",
     "text": [
      "Количество пропусков в столбце registration_year: 0\n"
     ]
    },
    {
     "data": {
      "image/png": "[encoded data removed]",
      "text/plain": [
       "<Figure size 1080x288 with 1 Axes>"
      ]
     },
     "metadata": {
      "needs_background": "light"
     },
     "output_type": "display_data"
    },
    {
     "name": "stdout",
     "output_type": "stream",
     "text": [
      "Количество пропусков в столбце power: 0\n"
     ]
    },
    {
     "data": {
      "image/png": "[encoded data removed]",
      "text/plain": [
       "<Figure size 1080x288 with 1 Axes>"
      ]
     },
     "metadata": {
      "needs_background": "light"
     },
     "output_type": "display_data"
    },
    {
     "name": "stdout",
     "output_type": "stream",
     "text": [
      "Количество пропусков в столбце kilometer: 0\n"
     ]
    }
   ],
   "source": [
    "columns = ['price', 'registration_year', 'power', 'kilometer']\n",
    "for column in columns:\n",
    "    histogram(column)"
   ]
  },
  {
   "cell_type": "markdown",
   "metadata": {},
   "source": [
    "Из гистограмм распределения значений видно:\n",
    "- В столбце `price` распределение выглядит адекватно, единственное присутствуют значения равные нулю;\n",
    "- Распределение значений в столбце `kilometer` дискретное, наибольшее количество значений равное 150_000, предполагаю, что при заполнении информации по авто есть значение пробега более 150_000 км.\n",
    "\n",
    "Значения в столбцах `registration_year` и `power` рассмотрим ближе."
   ]
  },
  {
   "cell_type": "markdown",
   "metadata": {},
   "source": [
    "#### Значения в столбце `price`\n",
    "\n",
    "Так как значения из столбца `price` являются целевым параметром, удалим объявления в ценой менее 100."
   ]
  },
  {
   "cell_type": "code",
   "execution_count": 14,
   "metadata": {},
   "outputs": [
    {
     "data": {
      "text/html": [
       "<div>\n",
       "<style scoped>\n",
       "    .dataframe tbody tr th:only-of-type {\n",
       "        vertical-align: middle;\n",
       "    }\n",
       "\n",
       "    .dataframe tbody tr th {\n",
       "        vertical-align: top;\n",
       "    }\n",
       "\n",
       "    .dataframe thead th {\n",
       "        text-align: right;\n",
       "    }\n",
       "</style>\n",
       "<table border=\"1\" class=\"dataframe\">\n",
       "  <thead>\n",
       "    <tr style=\"text-align: right;\">\n",
       "      <th></th>\n",
       "      <th>price</th>\n",
       "      <th>vehicle_type</th>\n",
       "      <th>registration_year</th>\n",
       "      <th>gearbox</th>\n",
       "      <th>power</th>\n",
       "      <th>model</th>\n",
       "      <th>kilometer</th>\n",
       "      <th>fuel_type</th>\n",
       "      <th>brand</th>\n",
       "      <th>repaired</th>\n",
       "      <th>date_created</th>\n",
       "      <th>postal_code</th>\n",
       "    </tr>\n",
       "  </thead>\n",
       "  <tbody>\n",
       "    <tr>\n",
       "      <th>340017</th>\n",
       "      <td>1199</td>\n",
       "      <td>convertible</td>\n",
       "      <td>2000</td>\n",
       "      <td>auto</td>\n",
       "      <td>101</td>\n",
       "      <td>fortwo</td>\n",
       "      <td>125000</td>\n",
       "      <td>petrol</td>\n",
       "      <td>smart</td>\n",
       "      <td>no</td>\n",
       "      <td>2016-03-05 00:00:00</td>\n",
       "      <td>26135</td>\n",
       "    </tr>\n",
       "    <tr>\n",
       "      <th>340018</th>\n",
       "      <td>9200</td>\n",
       "      <td>bus</td>\n",
       "      <td>1996</td>\n",
       "      <td>manual</td>\n",
       "      <td>102</td>\n",
       "      <td>transporter</td>\n",
       "      <td>150000</td>\n",
       "      <td>gasoline</td>\n",
       "      <td>volkswagen</td>\n",
       "      <td>no</td>\n",
       "      <td>2016-03-19 00:00:00</td>\n",
       "      <td>87439</td>\n",
       "    </tr>\n",
       "    <tr>\n",
       "      <th>340019</th>\n",
       "      <td>3400</td>\n",
       "      <td>wagon</td>\n",
       "      <td>2002</td>\n",
       "      <td>manual</td>\n",
       "      <td>100</td>\n",
       "      <td>golf</td>\n",
       "      <td>150000</td>\n",
       "      <td>gasoline</td>\n",
       "      <td>volkswagen</td>\n",
       "      <td>NaN</td>\n",
       "      <td>2016-03-20 00:00:00</td>\n",
       "      <td>40764</td>\n",
       "    </tr>\n",
       "  </tbody>\n",
       "</table>\n",
       "</div>"
      ],
      "text/plain": [
       "        price vehicle_type  registration_year gearbox  power        model  \\\n",
       "340017   1199  convertible               2000    auto    101       fortwo   \n",
       "340018   9200          bus               1996  manual    102  transporter   \n",
       "340019   3400        wagon               2002  manual    100         golf   \n",
       "\n",
       "        kilometer fuel_type       brand repaired         date_created  \\\n",
       "340017     125000    petrol       smart       no  2016-03-05 00:00:00   \n",
       "340018     150000  gasoline  volkswagen       no  2016-03-19 00:00:00   \n",
       "340019     150000  gasoline  volkswagen      NaN  2016-03-20 00:00:00   \n",
       "\n",
       "        postal_code  \n",
       "340017        26135  \n",
       "340018        87439  \n",
       "340019        40764  "
      ]
     },
     "execution_count": 14,
     "metadata": {},
     "output_type": "execute_result"
    }
   ],
   "source": [
    "df = df.query('price > 100').reset_index(drop=True)\n",
    "df.tail(3)"
   ]
  },
  {
   "cell_type": "markdown",
   "metadata": {},
   "source": [
    "#### Значения в столбце `registration_year`"
   ]
  },
  {
   "cell_type": "code",
   "execution_count": 15,
   "metadata": {},
   "outputs": [
    {
     "data": {
      "text/plain": [
       "count                  340020\n",
       "unique                    109\n",
       "top       2016-04-03 00:00:00\n",
       "freq                    13236\n",
       "Name: date_created, dtype: object"
      ]
     },
     "execution_count": 15,
     "metadata": {},
     "output_type": "execute_result"
    }
   ],
   "source": [
    "# Посмотрим на статистики по столбцу даты создания анкеты (date_created)\n",
    "df['date_created'].describe(datetime_is_numeric=True)"
   ]
  },
  {
   "cell_type": "markdown",
   "metadata": {},
   "source": [
    "Из статистик видно, что последняя анкета была создана в **апреле 2016 года**, исходя из этого в столбце `registration_year`, максимальное значение будет ограничено 2016 годом."
   ]
  },
  {
   "cell_type": "code",
   "execution_count": 16,
   "metadata": {
    "scrolled": true
   },
   "outputs": [
    {
     "data": {
      "image/png": "[encoded data removed]",
      "text/plain": [
       "<Figure size 1080x360 with 1 Axes>"
      ]
     },
     "metadata": {
      "needs_background": "light"
     },
     "output_type": "display_data"
    }
   ],
   "source": [
    "# Посмотрим на распределение значений по годам c 1900 по 2016\n",
    "df.loc[(df['registration_year'] < 2016) \n",
    "       & (df['registration_year'] > 1900)]['registration_year'].plot(kind='hist', \n",
    "                                                                     ylim=(0, 500),\n",
    "                                                                     bins=100, \n",
    "                                                                     figsize=(15, 5));"
   ]
  },
  {
   "cell_type": "markdown",
   "metadata": {},
   "source": [
    "Из распределения видно, что рост числа объявлений идет, приблизительно, с 1950 года, возьмем эту точку как минимальное значение, т.к. автомобили зарегистрированные ранее этой даты являются очень редкими и скорее всего ценообразование уже совсем другое в этом сегменте автомобилей."
   ]
  },
  {
   "cell_type": "code",
   "execution_count": 17,
   "metadata": {},
   "outputs": [],
   "source": [
    "# Удалим столбец 'date_created' далее он нам не пригодится\n",
    "df = df.drop(columns=['date_created'], axis=1)"
   ]
  },
  {
   "cell_type": "code",
   "execution_count": 18,
   "metadata": {},
   "outputs": [
    {
     "data": {
      "text/html": [
       "<div>\n",
       "<style scoped>\n",
       "    .dataframe tbody tr th:only-of-type {\n",
       "        vertical-align: middle;\n",
       "    }\n",
       "\n",
       "    .dataframe tbody tr th {\n",
       "        vertical-align: top;\n",
       "    }\n",
       "\n",
       "    .dataframe thead th {\n",
       "        text-align: right;\n",
       "    }\n",
       "</style>\n",
       "<table border=\"1\" class=\"dataframe\">\n",
       "  <thead>\n",
       "    <tr style=\"text-align: right;\">\n",
       "      <th></th>\n",
       "      <th>price</th>\n",
       "      <th>vehicle_type</th>\n",
       "      <th>registration_year</th>\n",
       "      <th>gearbox</th>\n",
       "      <th>power</th>\n",
       "      <th>model</th>\n",
       "      <th>kilometer</th>\n",
       "      <th>fuel_type</th>\n",
       "      <th>brand</th>\n",
       "      <th>repaired</th>\n",
       "      <th>postal_code</th>\n",
       "    </tr>\n",
       "  </thead>\n",
       "  <tbody>\n",
       "    <tr>\n",
       "      <th>326202</th>\n",
       "      <td>1199</td>\n",
       "      <td>convertible</td>\n",
       "      <td>2000</td>\n",
       "      <td>auto</td>\n",
       "      <td>101</td>\n",
       "      <td>fortwo</td>\n",
       "      <td>125000</td>\n",
       "      <td>petrol</td>\n",
       "      <td>smart</td>\n",
       "      <td>no</td>\n",
       "      <td>26135</td>\n",
       "    </tr>\n",
       "    <tr>\n",
       "      <th>326203</th>\n",
       "      <td>9200</td>\n",
       "      <td>bus</td>\n",
       "      <td>1996</td>\n",
       "      <td>manual</td>\n",
       "      <td>102</td>\n",
       "      <td>transporter</td>\n",
       "      <td>150000</td>\n",
       "      <td>gasoline</td>\n",
       "      <td>volkswagen</td>\n",
       "      <td>no</td>\n",
       "      <td>87439</td>\n",
       "    </tr>\n",
       "    <tr>\n",
       "      <th>326204</th>\n",
       "      <td>3400</td>\n",
       "      <td>wagon</td>\n",
       "      <td>2002</td>\n",
       "      <td>manual</td>\n",
       "      <td>100</td>\n",
       "      <td>golf</td>\n",
       "      <td>150000</td>\n",
       "      <td>gasoline</td>\n",
       "      <td>volkswagen</td>\n",
       "      <td>NaN</td>\n",
       "      <td>40764</td>\n",
       "    </tr>\n",
       "  </tbody>\n",
       "</table>\n",
       "</div>"
      ],
      "text/plain": [
       "        price vehicle_type  registration_year gearbox  power        model  \\\n",
       "326202   1199  convertible               2000    auto    101       fortwo   \n",
       "326203   9200          bus               1996  manual    102  transporter   \n",
       "326204   3400        wagon               2002  manual    100         golf   \n",
       "\n",
       "        kilometer fuel_type       brand repaired  postal_code  \n",
       "326202     125000    petrol       smart       no        26135  \n",
       "326203     150000  gasoline  volkswagen       no        87439  \n",
       "326204     150000  gasoline  volkswagen      NaN        40764  "
      ]
     },
     "execution_count": 18,
     "metadata": {},
     "output_type": "execute_result"
    }
   ],
   "source": [
    "# Удалим из датасета строки со значениями менее 1950 и более 2016 в столбце 'registration_year'\n",
    "df = df.loc[\n",
    "    (df['registration_year'] < 2017) \n",
    "    & (df['registration_year'] > 1949)].reset_index(drop=True)\n",
    "df.tail(3)"
   ]
  },
  {
   "cell_type": "markdown",
   "metadata": {},
   "source": [
    "#### Значения в столбце `power`"
   ]
  },
  {
   "cell_type": "code",
   "execution_count": 19,
   "metadata": {},
   "outputs": [
    {
     "data": {
      "image/png": "[encoded data removed]",
      "text/plain": [
       "<Figure size 1080x360 with 1 Axes>"
      ]
     },
     "metadata": {
      "needs_background": "light"
     },
     "output_type": "display_data"
    }
   ],
   "source": [
    "# Посмотрим поближе на распределение значений в столбце power\n",
    "df['power'].plot(kind='hist',\n",
    "                 figsize=(15, 5),\n",
    "                 xlim=(200, 1000),\n",
    "                 ylim=(0, 1000),\n",
    "                 bins=2000);"
   ]
  },
  {
   "cell_type": "markdown",
   "metadata": {},
   "source": [
    "По гисторгамме видно, что автомобили мощностью более 600 очень редкие, их можно удалить из датасета."
   ]
  },
  {
   "cell_type": "code",
   "execution_count": 20,
   "metadata": {},
   "outputs": [],
   "source": [
    "df = df.query('power < 600').reset_index(drop=True)"
   ]
  },
  {
   "cell_type": "code",
   "execution_count": 21,
   "metadata": {},
   "outputs": [
    {
     "data": {
      "text/plain": [
       "31153"
      ]
     },
     "execution_count": 21,
     "metadata": {},
     "output_type": "execute_result"
    }
   ],
   "source": [
    "# Посмотрим какое количество объявлений с мощностью 0\n",
    "df.query('power == 0').shape[0]"
   ]
  },
  {
   "cell_type": "markdown",
   "metadata": {},
   "source": [
    "Так как довольно много автомобилей с нулевым значением мощности, не будем их удалять, заменим их средними значениями для каждой модели автомобиля, для этого:\n",
    " - Сохраним все модели автомобиля в переменную `models`\n",
    " - Создадим датафрейм с моделями автомобиля и медианной мощностью для этой модели.\n",
    " - Заменим нули на медианные мощности"
   ]
  },
  {
   "cell_type": "code",
   "execution_count": 22,
   "metadata": {},
   "outputs": [
    {
     "data": {
      "text/plain": [
       "array(['100', '145', '147', '156', '159', '1_reihe', '1er', '200',\n",
       "       '2_reihe', '300c', '3_reihe', '3er', '4_reihe', '500', '5_reihe',\n",
       "       '5er', '601', '6_reihe', '6er', '7er', '80', '850', '90', '900',\n",
       "       '9000', '911', 'a1', 'a2', 'a3', 'a4', 'a5', 'a6', 'a8',\n",
       "       'a_klasse', 'accord', 'agila', 'alhambra', 'almera', 'altea',\n",
       "       'amarok', 'antara', 'arosa', 'astra', 'auris', 'avensis', 'aveo',\n",
       "       'aygo', 'b_klasse', 'b_max', 'beetle', 'berlingo', 'bora',\n",
       "       'boxster', 'bravo', 'c1', 'c2', 'c3', 'c4', 'c5', 'c_klasse',\n",
       "       'c_max', 'c_reihe', 'caddy', 'calibra', 'captiva', 'carisma',\n",
       "       'carnival', 'cayenne', 'cc', 'ceed', 'charade', 'cherokee',\n",
       "       'citigo', 'civic', 'cl', 'clio', 'clk', 'clubman', 'colt', 'combo',\n",
       "       'cooper', 'cordoba', 'corolla', 'corsa', 'cr_reihe', 'croma',\n",
       "       'crossfire', 'cuore', 'cx_reihe', 'defender', 'delta', 'discovery',\n",
       "       'doblo', 'ducato', 'duster', 'e_klasse', 'elefantino', 'eos',\n",
       "       'escort', 'espace', 'exeo', 'fabia', 'fiesta', 'focus', 'forester',\n",
       "       'forfour', 'fortwo', 'fox', 'freelander', 'fusion', 'g_klasse',\n",
       "       'galant', 'galaxy', 'getz', 'gl', 'glk', 'golf', 'grand', 'i3',\n",
       "       'i_reihe', 'ibiza', 'impreza', 'insignia', 'jazz', 'jetta',\n",
       "       'jimny', 'juke', 'justy', 'ka', 'kadett', 'kaefer', 'kalina',\n",
       "       'kalos', 'kangoo', 'kappa', 'kuga', 'laguna', 'lancer', 'lanos',\n",
       "       'legacy', 'leon', 'lodgy', 'logan', 'lupo', 'lybra', 'm_klasse',\n",
       "       'm_reihe', 'materia', 'matiz', 'megane', 'meriva', 'micra', 'mii',\n",
       "       'modus', 'mondeo', 'move', 'musa', 'mustang', 'mx_reihe', 'navara',\n",
       "       'niva', 'note', 'nubira', 'octavia', 'omega', 'one', 'other',\n",
       "       'outlander', 'pajero', 'panda', 'passat', 'phaeton', 'picanto',\n",
       "       'polo', 'primera', 'ptcruiser', 'punto', 'q3', 'q5', 'q7',\n",
       "       'qashqai', 'r19', 'range_rover', 'range_rover_evoque',\n",
       "       'range_rover_sport', 'rangerover', 'rav', 'rio', 'roadster',\n",
       "       'roomster', 'rx_reihe', 's60', 's_klasse', 's_max', 's_type',\n",
       "       'samara', 'sandero', 'santa', 'scenic', 'scirocco', 'seicento',\n",
       "       'serie_1', 'serie_2', 'serie_3', 'sharan', 'signum', 'sirion',\n",
       "       'sl', 'slk', 'sorento', 'spark', 'spider', 'sportage', 'sprinter',\n",
       "       'stilo', 'superb', 'swift', 'terios', 'tigra', 'tiguan', 'toledo',\n",
       "       'touareg', 'touran', 'transit', 'transporter', 'tt', 'tucson',\n",
       "       'twingo', 'up', 'v40', 'v50', 'v60', 'v70', 'v_klasse', 'vectra',\n",
       "       'verso', 'viano', 'vito', 'vivaro', 'voyager', 'wrangler',\n",
       "       'x_reihe', 'x_trail', 'x_type', 'xc_reihe', 'yaris', 'yeti',\n",
       "       'ypsilon', 'z_reihe', 'zafira'], dtype=object)"
      ]
     },
     "metadata": {},
     "output_type": "display_data"
    }
   ],
   "source": [
    "# Посмотрим на уникальные значения столбца 'model' и сохраним их в переменную\n",
    "models = df['model'].sort_values().unique()[:-1]\n",
    "display(models)"
   ]
  },
  {
   "cell_type": "code",
   "execution_count": 23,
   "metadata": {},
   "outputs": [
    {
     "data": {
      "text/html": [
       "<div>\n",
       "<style scoped>\n",
       "    .dataframe tbody tr th:only-of-type {\n",
       "        vertical-align: middle;\n",
       "    }\n",
       "\n",
       "    .dataframe tbody tr th {\n",
       "        vertical-align: top;\n",
       "    }\n",
       "\n",
       "    .dataframe thead th {\n",
       "        text-align: right;\n",
       "    }\n",
       "</style>\n",
       "<table border=\"1\" class=\"dataframe\">\n",
       "  <thead>\n",
       "    <tr style=\"text-align: right;\">\n",
       "      <th></th>\n",
       "      <th>power</th>\n",
       "    </tr>\n",
       "    <tr>\n",
       "      <th>model</th>\n",
       "      <th></th>\n",
       "    </tr>\n",
       "  </thead>\n",
       "  <tbody>\n",
       "    <tr>\n",
       "      <th>100</th>\n",
       "      <td>133.0</td>\n",
       "    </tr>\n",
       "    <tr>\n",
       "      <th>145</th>\n",
       "      <td>103.0</td>\n",
       "    </tr>\n",
       "    <tr>\n",
       "      <th>147</th>\n",
       "      <td>120.0</td>\n",
       "    </tr>\n",
       "    <tr>\n",
       "      <th>156</th>\n",
       "      <td>150.0</td>\n",
       "    </tr>\n",
       "    <tr>\n",
       "      <th>159</th>\n",
       "      <td>170.0</td>\n",
       "    </tr>\n",
       "  </tbody>\n",
       "</table>\n",
       "</div>"
      ],
      "text/plain": [
       "       power\n",
       "model       \n",
       "100    133.0\n",
       "145    103.0\n",
       "147    120.0\n",
       "156    150.0\n",
       "159    170.0"
      ]
     },
     "execution_count": 23,
     "metadata": {},
     "output_type": "execute_result"
    }
   ],
   "source": [
    "# Создадим датафрейм для параметра 'power'\n",
    "model_power = df.pivot_table(index='model', values='power', aggfunc='median')\n",
    "model_power.head()"
   ]
  },
  {
   "cell_type": "code",
   "execution_count": 24,
   "metadata": {},
   "outputs": [],
   "source": [
    "# Заменим нулевые значения\n",
    "for model in models:\n",
    "        df.loc[(df['model'] == model) & (df['power'] == 0), 'power'] = model_power.loc[model][0]"
   ]
  },
  {
   "cell_type": "code",
   "execution_count": 25,
   "metadata": {},
   "outputs": [
    {
     "name": "stdout",
     "output_type": "stream",
     "text": [
      "Количество значений мощности равное нулю: 3952\n"
     ]
    },
    {
     "data": {
      "image/png": "[encoded data removed]",
      "text/plain": [
       "<Figure size 1080x360 with 1 Axes>"
      ]
     },
     "metadata": {
      "needs_background": "light"
     },
     "output_type": "display_data"
    }
   ],
   "source": [
    "# Посмотрим на минимальные зачения в столбце 'power'\n",
    "df['power'].plot(kind='hist',\n",
    "                 figsize=(15, 5),\n",
    "                 xlim=(0, 100),\n",
    "                 ylim=(0, 5000),\n",
    "                 bins=100);\n",
    "\n",
    "print(f\"Количество значений мощности равное нулю: {(df['power'] == 0).sum()}\")"
   ]
  },
  {
   "cell_type": "markdown",
   "metadata": {},
   "source": [
    "Из распределения видно, что автомобили с мощностью менее 40 л.с. очень редки, можно их удалить."
   ]
  },
  {
   "cell_type": "code",
   "execution_count": 26,
   "metadata": {},
   "outputs": [],
   "source": [
    "df = df.query('power > 40').reset_index(drop=True)"
   ]
  },
  {
   "cell_type": "code",
   "execution_count": 27,
   "metadata": {},
   "outputs": [
    {
     "data": {
      "text/html": [
       "<div>\n",
       "<style scoped>\n",
       "    .dataframe tbody tr th:only-of-type {\n",
       "        vertical-align: middle;\n",
       "    }\n",
       "\n",
       "    .dataframe tbody tr th {\n",
       "        vertical-align: top;\n",
       "    }\n",
       "\n",
       "    .dataframe thead th {\n",
       "        text-align: right;\n",
       "    }\n",
       "</style>\n",
       "<table border=\"1\" class=\"dataframe\">\n",
       "  <thead>\n",
       "    <tr style=\"text-align: right;\">\n",
       "      <th></th>\n",
       "      <th>price</th>\n",
       "      <th>registration_year</th>\n",
       "      <th>power</th>\n",
       "      <th>kilometer</th>\n",
       "      <th>postal_code</th>\n",
       "    </tr>\n",
       "  </thead>\n",
       "  <tbody>\n",
       "    <tr>\n",
       "      <th>count</th>\n",
       "      <td>320162.000000</td>\n",
       "      <td>320162.00000</td>\n",
       "      <td>320162.000000</td>\n",
       "      <td>320162.000000</td>\n",
       "      <td>320162.000000</td>\n",
       "    </tr>\n",
       "    <tr>\n",
       "      <th>mean</th>\n",
       "      <td>4691.764757</td>\n",
       "      <td>2002.78300</td>\n",
       "      <td>119.995763</td>\n",
       "      <td>128774.417326</td>\n",
       "      <td>50895.396184</td>\n",
       "    </tr>\n",
       "    <tr>\n",
       "      <th>std</th>\n",
       "      <td>4555.209419</td>\n",
       "      <td>6.49614</td>\n",
       "      <td>52.571090</td>\n",
       "      <td>36679.250375</td>\n",
       "      <td>25719.537645</td>\n",
       "    </tr>\n",
       "    <tr>\n",
       "      <th>min</th>\n",
       "      <td>101.000000</td>\n",
       "      <td>1950.00000</td>\n",
       "      <td>41.000000</td>\n",
       "      <td>5000.000000</td>\n",
       "      <td>1067.000000</td>\n",
       "    </tr>\n",
       "    <tr>\n",
       "      <th>25%</th>\n",
       "      <td>1250.000000</td>\n",
       "      <td>1999.00000</td>\n",
       "      <td>76.500000</td>\n",
       "      <td>125000.000000</td>\n",
       "      <td>30655.000000</td>\n",
       "    </tr>\n",
       "    <tr>\n",
       "      <th>50%</th>\n",
       "      <td>2999.000000</td>\n",
       "      <td>2003.00000</td>\n",
       "      <td>110.000000</td>\n",
       "      <td>150000.000000</td>\n",
       "      <td>49716.000000</td>\n",
       "    </tr>\n",
       "    <tr>\n",
       "      <th>75%</th>\n",
       "      <td>6800.000000</td>\n",
       "      <td>2007.00000</td>\n",
       "      <td>147.000000</td>\n",
       "      <td>150000.000000</td>\n",
       "      <td>71397.000000</td>\n",
       "    </tr>\n",
       "    <tr>\n",
       "      <th>max</th>\n",
       "      <td>20000.000000</td>\n",
       "      <td>2016.00000</td>\n",
       "      <td>585.000000</td>\n",
       "      <td>150000.000000</td>\n",
       "      <td>99998.000000</td>\n",
       "    </tr>\n",
       "  </tbody>\n",
       "</table>\n",
       "</div>"
      ],
      "text/plain": [
       "               price  registration_year          power      kilometer  \\\n",
       "count  320162.000000       320162.00000  320162.000000  320162.000000   \n",
       "mean     4691.764757         2002.78300     119.995763  128774.417326   \n",
       "std      4555.209419            6.49614      52.571090   36679.250375   \n",
       "min       101.000000         1950.00000      41.000000    5000.000000   \n",
       "25%      1250.000000         1999.00000      76.500000  125000.000000   \n",
       "50%      2999.000000         2003.00000     110.000000  150000.000000   \n",
       "75%      6800.000000         2007.00000     147.000000  150000.000000   \n",
       "max     20000.000000         2016.00000     585.000000  150000.000000   \n",
       "\n",
       "         postal_code  \n",
       "count  320162.000000  \n",
       "mean    50895.396184  \n",
       "std     25719.537645  \n",
       "min      1067.000000  \n",
       "25%     30655.000000  \n",
       "50%     49716.000000  \n",
       "75%     71397.000000  \n",
       "max     99998.000000  "
      ]
     },
     "execution_count": 27,
     "metadata": {},
     "output_type": "execute_result"
    }
   ],
   "source": [
    "# Посмотрим на статистики после обработки выбивающихся значений\n",
    "df.describe()"
   ]
  },
  {
   "cell_type": "markdown",
   "metadata": {},
   "source": [
    "### Борьба с пропусками"
   ]
  },
  {
   "cell_type": "code",
   "execution_count": 28,
   "metadata": {
    "scrolled": false
   },
   "outputs": [
    {
     "data": {
      "text/plain": [
       "price                 0.000000\n",
       "vehicle_type          5.162699\n",
       "registration_year     0.000000\n",
       "gearbox               3.883659\n",
       "power                 0.000000\n",
       "model                 3.341433\n",
       "kilometer             0.000000\n",
       "fuel_type             6.407381\n",
       "brand                 0.000000\n",
       "repaired             17.084164\n",
       "postal_code           0.000000\n",
       "dtype: float64"
      ]
     },
     "execution_count": 28,
     "metadata": {},
     "output_type": "execute_result"
    }
   ],
   "source": [
    "# Посмотрим на количество пропусков в данных в процентах\n",
    "df.isna().sum() / len(df) * 100"
   ]
  },
  {
   "cell_type": "markdown",
   "metadata": {},
   "source": [
    "#### Значения в столбце `repaired`"
   ]
  },
  {
   "cell_type": "code",
   "execution_count": 29,
   "metadata": {},
   "outputs": [
    {
     "data": {
      "image/png": "[encoded data removed]",
      "text/plain": [
       "<Figure size 1080x288 with 1 Axes>"
      ]
     },
     "metadata": {
      "needs_background": "light"
     },
     "output_type": "display_data"
    },
    {
     "name": "stdout",
     "output_type": "stream",
     "text": [
      "Количество пропусков в столбце repaired: 54697\n"
     ]
    }
   ],
   "source": [
    "# Распределение данных в столбце 'repaired'\n",
    "histogram('repaired', df['repaired'].nunique() * 2)"
   ]
  },
  {
   "cell_type": "markdown",
   "metadata": {},
   "source": [
    "Предполагаю, что пропуски в столбце `repaired` связаны с тем, что владельцы авто, у которых небыло ДТП и соответственно их автомобили не были ремонтированы оставляли поле незаполенным. Заполним пропуски в столбце значением **no**"
   ]
  },
  {
   "cell_type": "code",
   "execution_count": 30,
   "metadata": {
    "scrolled": true
   },
   "outputs": [
    {
     "data": {
      "text/plain": [
       "array(['no', 'yes'], dtype=object)"
      ]
     },
     "execution_count": 30,
     "metadata": {},
     "output_type": "execute_result"
    }
   ],
   "source": [
    "df['repaired'] = df['repaired'].fillna(value='no')\n",
    "df['repaired'].unique()"
   ]
  },
  {
   "cell_type": "markdown",
   "metadata": {},
   "source": [
    "#### Значения в столбце `vehicle_type`"
   ]
  },
  {
   "cell_type": "code",
   "execution_count": 31,
   "metadata": {},
   "outputs": [
    {
     "data": {
      "image/png": "[encoded data removed]",
      "text/plain": [
       "<Figure size 1080x288 with 1 Axes>"
      ]
     },
     "metadata": {
      "needs_background": "light"
     },
     "output_type": "display_data"
    },
    {
     "name": "stdout",
     "output_type": "stream",
     "text": [
      "Количество пропусков в столбце vehicle_type: 16529\n"
     ]
    }
   ],
   "source": [
    "# Распределение данных в столбце 'vehicle_type'\n",
    "histogram('vehicle_type', df['vehicle_type'].nunique() * 2)"
   ]
  },
  {
   "cell_type": "markdown",
   "metadata": {},
   "source": [
    "#### Значения в столбце `gearbox`"
   ]
  },
  {
   "cell_type": "code",
   "execution_count": 32,
   "metadata": {},
   "outputs": [
    {
     "data": {
      "image/png": "[encoded data removed]",
      "text/plain": [
       "<Figure size 1080x288 with 1 Axes>"
      ]
     },
     "metadata": {
      "needs_background": "light"
     },
     "output_type": "display_data"
    },
    {
     "name": "stdout",
     "output_type": "stream",
     "text": [
      "Количество пропусков в столбце gearbox: 12434\n"
     ]
    }
   ],
   "source": [
    "# Распределение данных в столбце 'gearbox'\n",
    "histogram('gearbox', df['gearbox'].nunique() * 2)"
   ]
  },
  {
   "cell_type": "markdown",
   "metadata": {},
   "source": [
    "#### Значения в столбце `fuel_type'"
   ]
  },
  {
   "cell_type": "code",
   "execution_count": 33,
   "metadata": {},
   "outputs": [
    {
     "data": {
      "image/png": "[encoded data removed]",
      "text/plain": [
       "<Figure size 1080x288 with 1 Axes>"
      ]
     },
     "metadata": {
      "needs_background": "light"
     },
     "output_type": "display_data"
    },
    {
     "name": "stdout",
     "output_type": "stream",
     "text": [
      "Количество пропусков в столбце fuel_type: 20514\n"
     ]
    }
   ],
   "source": [
    "# Распределение данных в столбце 'fuel_type'\n",
    "histogram('fuel_type', df['fuel_type'].nunique() * 2)"
   ]
  },
  {
   "cell_type": "markdown",
   "metadata": {},
   "source": [
    "**Для борьбы с пропусками будем использовать следующий метод:**\n",
    "1. Создадим датафреймы с индексацией по модели автомомблиля, значения столбца будут заполнены наиболее встречаемым признаком для этого автомобиля.\n",
    "2. Заполним пропуски в признаках в датасете в соответствии с наиболее встречаемым признаком для этой модели автомобиля."
   ]
  },
  {
   "cell_type": "code",
   "execution_count": 34,
   "metadata": {},
   "outputs": [],
   "source": [
    "# Создадим функцию для генерации датафреймов с индексами моделей авто\n",
    "def model_feature(column1, column2):\n",
    "    model_feature = df.pivot_table(index=column1, values=column2, aggfunc='describe')\n",
    "    model_feature.drop(['count', 'freq', 'unique'], axis=1, inplace=True)\n",
    "    model_feature.rename(columns={'top': column2}, inplace=True)\n",
    "    return model_feature"
   ]
  },
  {
   "cell_type": "code",
   "execution_count": 35,
   "metadata": {},
   "outputs": [
    {
     "data": {
      "text/html": [
       "<div>\n",
       "<style scoped>\n",
       "    .dataframe tbody tr th:only-of-type {\n",
       "        vertical-align: middle;\n",
       "    }\n",
       "\n",
       "    .dataframe tbody tr th {\n",
       "        vertical-align: top;\n",
       "    }\n",
       "\n",
       "    .dataframe thead th {\n",
       "        text-align: right;\n",
       "    }\n",
       "</style>\n",
       "<table border=\"1\" class=\"dataframe\">\n",
       "  <thead>\n",
       "    <tr style=\"text-align: right;\">\n",
       "      <th></th>\n",
       "      <th>vehicle_type</th>\n",
       "    </tr>\n",
       "    <tr>\n",
       "      <th>model</th>\n",
       "      <th></th>\n",
       "    </tr>\n",
       "  </thead>\n",
       "  <tbody>\n",
       "    <tr>\n",
       "      <th>100</th>\n",
       "      <td>sedan</td>\n",
       "    </tr>\n",
       "    <tr>\n",
       "      <th>145</th>\n",
       "      <td>small</td>\n",
       "    </tr>\n",
       "    <tr>\n",
       "      <th>147</th>\n",
       "      <td>sedan</td>\n",
       "    </tr>\n",
       "    <tr>\n",
       "      <th>156</th>\n",
       "      <td>wagon</td>\n",
       "    </tr>\n",
       "    <tr>\n",
       "      <th>159</th>\n",
       "      <td>wagon</td>\n",
       "    </tr>\n",
       "  </tbody>\n",
       "</table>\n",
       "</div>"
      ],
      "text/plain": [
       "      vehicle_type\n",
       "model             \n",
       "100          sedan\n",
       "145          small\n",
       "147          sedan\n",
       "156          wagon\n",
       "159          wagon"
      ]
     },
     "execution_count": 35,
     "metadata": {},
     "output_type": "execute_result"
    }
   ],
   "source": [
    "# Создадим датафреймы с индексами моделей авто и необходимым параметрами\n",
    "model_gearbox = model_feature('model', 'gearbox')\n",
    "model_fuel_type = model_feature('model', 'fuel_type')\n",
    "model_vehicle_type = model_feature('model', 'vehicle_type')\n",
    "\n",
    "# Посмотрим правильно ли сформировался датафрейм\n",
    "model_vehicle_type.head()"
   ]
  },
  {
   "cell_type": "code",
   "execution_count": 36,
   "metadata": {},
   "outputs": [],
   "source": [
    "# Создадим функцию для заполнения пропусков требуемыми значениями\n",
    "models = df['model'].sort_values().unique()[:-1]\n",
    "\n",
    "def fill_nans(column, model_feature_df):\n",
    "    for model in models:\n",
    "        df.loc[(df['model'] == model) & (df[column].isnull()), column] = model_feature_df.loc[model][0]"
   ]
  },
  {
   "cell_type": "code",
   "execution_count": 37,
   "metadata": {},
   "outputs": [],
   "source": [
    "# Заполним пропуски в данных\n",
    "fill_nans('gearbox', model_gearbox)\n",
    "fill_nans('fuel_type', model_fuel_type)\n",
    "fill_nans('vehicle_type', model_vehicle_type)"
   ]
  },
  {
   "cell_type": "markdown",
   "metadata": {},
   "source": [
    "В результате борьбы с пропусками остались пропуски в столбцах: `vehicle_type`, `gearbox`, `fuel_type` и `model`.\n",
    "\n",
    "Пропуски в столбцах `vehicle_type`, `gearbox` и `fuel_type` заполним наиболее встречающимися значениями. \n",
    "\n",
    "Пропуски в столбце `model` - зполним значение `NA`"
   ]
  },
  {
   "cell_type": "code",
   "execution_count": 38,
   "metadata": {},
   "outputs": [
    {
     "data": {
      "text/plain": [
       "price                0\n",
       "vehicle_type         0\n",
       "registration_year    0\n",
       "gearbox              0\n",
       "power                0\n",
       "model                0\n",
       "kilometer            0\n",
       "fuel_type            0\n",
       "brand                0\n",
       "repaired             0\n",
       "postal_code          0\n",
       "dtype: int64"
      ]
     },
     "execution_count": 38,
     "metadata": {},
     "output_type": "execute_result"
    }
   ],
   "source": [
    "# Заполним оставшиеся пропуски в столбцах\n",
    "df['vehicle_type'].fillna('sedan', inplace=True)\n",
    "df['gearbox'].fillna('manual', inplace=True)\n",
    "df['fuel_type'].fillna('petrol', inplace=True)\n",
    "df['model'].fillna('NA', inplace=True)\n",
    "\n",
    "df.isna().sum()"
   ]
  },
  {
   "cell_type": "code",
   "execution_count": 39,
   "metadata": {},
   "outputs": [
    {
     "name": "stdout",
     "output_type": "stream",
     "text": [
      "<class 'pandas.core.frame.DataFrame'>\n",
      "RangeIndex: 320162 entries, 0 to 320161\n",
      "Data columns (total 11 columns):\n",
      " #   Column             Non-Null Count   Dtype  \n",
      "---  ------             --------------   -----  \n",
      " 0   price              320162 non-null  int64  \n",
      " 1   vehicle_type       320162 non-null  object \n",
      " 2   registration_year  320162 non-null  int64  \n",
      " 3   gearbox            320162 non-null  object \n",
      " 4   power              320162 non-null  float64\n",
      " 5   model              320162 non-null  object \n",
      " 6   kilometer          320162 non-null  int64  \n",
      " 7   fuel_type          320162 non-null  object \n",
      " 8   brand              320162 non-null  object \n",
      " 9   repaired           320162 non-null  object \n",
      " 10  postal_code        320162 non-null  int64  \n",
      "dtypes: float64(1), int64(4), object(6)\n",
      "memory usage: 26.9+ MB\n"
     ]
    }
   ],
   "source": [
    "df.info()"
   ]
  },
  {
   "cell_type": "code",
   "execution_count": 40,
   "metadata": {},
   "outputs": [
    {
     "name": "stdout",
     "output_type": "stream",
     "text": [
      "Датасет уменьшился на 9.65%\n"
     ]
    }
   ],
   "source": [
    "print(f'Датасет уменьшился на {round((1 - (len(df) / LEN_DF)) * 100, 2)}%')"
   ]
  },
  {
   "cell_type": "markdown",
   "metadata": {},
   "source": [
    "### Вывод по разделу\n",
    "При подготовке данных были выполнены следующие работы:\n",
    "- Загрузка и сохранение данных\n",
    "- Были изменены названия столбцов для удобной работы\n",
    "- Ознакомились с общей информацией по датасету\n",
    "- Удалены явные дубликаты\n",
    "- Удалены неинформативные столбцы\n",
    "- Устранены аномальные и выбивающиеся данные\n",
    "- Заполнены пропуски в данных\n",
    "\n",
    "В результате подготовки данных датасет уменьшился на 9.65%"
   ]
  },
  {
   "cell_type": "markdown",
   "metadata": {},
   "source": [
    "## Обучение моделей"
   ]
  },
  {
   "cell_type": "markdown",
   "metadata": {},
   "source": [
    "В ходе обучения моделей будут проведены следующие работы:\n",
    "1. Подготовлены данные к обучению:\n",
    "- Выделим целевой признак и обучающие признаки;\n",
    "- Поделим датасет на обучающую, валидационную и тестовую выборки;\n",
    "- Преобразуем категориальные признаки;\n",
    "- Отмасштабируем числовые признаки.\n",
    "\n",
    "2. Обучим модели машинного обучения из библиотек:\n",
    "- Scikit-learn\n",
    "- CatBoost\n",
    "- LightGBM"
   ]
  },
  {
   "cell_type": "markdown",
   "metadata": {},
   "source": [
    "### Подготовка данных к обучению моделей"
   ]
  },
  {
   "cell_type": "code",
   "execution_count": 41,
   "metadata": {},
   "outputs": [
    {
     "data": {
      "text/html": [
       "<div>\n",
       "<style scoped>\n",
       "    .dataframe tbody tr th:only-of-type {\n",
       "        vertical-align: middle;\n",
       "    }\n",
       "\n",
       "    .dataframe tbody tr th {\n",
       "        vertical-align: top;\n",
       "    }\n",
       "\n",
       "    .dataframe thead th {\n",
       "        text-align: right;\n",
       "    }\n",
       "</style>\n",
       "<table border=\"1\" class=\"dataframe\">\n",
       "  <thead>\n",
       "    <tr style=\"text-align: right;\">\n",
       "      <th></th>\n",
       "      <th>price</th>\n",
       "      <th>vehicle_type</th>\n",
       "      <th>registration_year</th>\n",
       "      <th>gearbox</th>\n",
       "      <th>power</th>\n",
       "      <th>model</th>\n",
       "      <th>kilometer</th>\n",
       "      <th>fuel_type</th>\n",
       "      <th>brand</th>\n",
       "      <th>repaired</th>\n",
       "      <th>postal_code</th>\n",
       "    </tr>\n",
       "  </thead>\n",
       "  <tbody>\n",
       "    <tr>\n",
       "      <th>0</th>\n",
       "      <td>480</td>\n",
       "      <td>sedan</td>\n",
       "      <td>1993</td>\n",
       "      <td>manual</td>\n",
       "      <td>101.0</td>\n",
       "      <td>golf</td>\n",
       "      <td>150000</td>\n",
       "      <td>petrol</td>\n",
       "      <td>volkswagen</td>\n",
       "      <td>no</td>\n",
       "      <td>70435</td>\n",
       "    </tr>\n",
       "    <tr>\n",
       "      <th>1</th>\n",
       "      <td>18300</td>\n",
       "      <td>coupe</td>\n",
       "      <td>2011</td>\n",
       "      <td>manual</td>\n",
       "      <td>190.0</td>\n",
       "      <td>NA</td>\n",
       "      <td>125000</td>\n",
       "      <td>gasoline</td>\n",
       "      <td>audi</td>\n",
       "      <td>yes</td>\n",
       "      <td>66954</td>\n",
       "    </tr>\n",
       "    <tr>\n",
       "      <th>2</th>\n",
       "      <td>9800</td>\n",
       "      <td>suv</td>\n",
       "      <td>2004</td>\n",
       "      <td>auto</td>\n",
       "      <td>163.0</td>\n",
       "      <td>grand</td>\n",
       "      <td>125000</td>\n",
       "      <td>gasoline</td>\n",
       "      <td>jeep</td>\n",
       "      <td>no</td>\n",
       "      <td>90480</td>\n",
       "    </tr>\n",
       "    <tr>\n",
       "      <th>3</th>\n",
       "      <td>1500</td>\n",
       "      <td>small</td>\n",
       "      <td>2001</td>\n",
       "      <td>manual</td>\n",
       "      <td>75.0</td>\n",
       "      <td>golf</td>\n",
       "      <td>150000</td>\n",
       "      <td>petrol</td>\n",
       "      <td>volkswagen</td>\n",
       "      <td>no</td>\n",
       "      <td>91074</td>\n",
       "    </tr>\n",
       "    <tr>\n",
       "      <th>4</th>\n",
       "      <td>3600</td>\n",
       "      <td>small</td>\n",
       "      <td>2008</td>\n",
       "      <td>manual</td>\n",
       "      <td>69.0</td>\n",
       "      <td>fabia</td>\n",
       "      <td>90000</td>\n",
       "      <td>gasoline</td>\n",
       "      <td>skoda</td>\n",
       "      <td>no</td>\n",
       "      <td>60437</td>\n",
       "    </tr>\n",
       "  </tbody>\n",
       "</table>\n",
       "</div>"
      ],
      "text/plain": [
       "   price vehicle_type  registration_year gearbox  power  model  kilometer  \\\n",
       "0    480        sedan               1993  manual  101.0   golf     150000   \n",
       "1  18300        coupe               2011  manual  190.0     NA     125000   \n",
       "2   9800          suv               2004    auto  163.0  grand     125000   \n",
       "3   1500        small               2001  manual   75.0   golf     150000   \n",
       "4   3600        small               2008  manual   69.0  fabia      90000   \n",
       "\n",
       "  fuel_type       brand repaired  postal_code  \n",
       "0    petrol  volkswagen       no        70435  \n",
       "1  gasoline        audi      yes        66954  \n",
       "2  gasoline        jeep       no        90480  \n",
       "3    petrol  volkswagen       no        91074  \n",
       "4  gasoline       skoda       no        60437  "
      ]
     },
     "execution_count": 41,
     "metadata": {},
     "output_type": "execute_result"
    }
   ],
   "source": [
    "df.head()"
   ]
  },
  {
   "cell_type": "code",
   "execution_count": 42,
   "metadata": {},
   "outputs": [
    {
     "data": {
      "text/html": [
       "<div>\n",
       "<style scoped>\n",
       "    .dataframe tbody tr th:only-of-type {\n",
       "        vertical-align: middle;\n",
       "    }\n",
       "\n",
       "    .dataframe tbody tr th {\n",
       "        vertical-align: top;\n",
       "    }\n",
       "\n",
       "    .dataframe thead th {\n",
       "        text-align: right;\n",
       "    }\n",
       "</style>\n",
       "<table border=\"1\" class=\"dataframe\">\n",
       "  <thead>\n",
       "    <tr style=\"text-align: right;\">\n",
       "      <th></th>\n",
       "      <th>vehicle_type</th>\n",
       "      <th>registration_year</th>\n",
       "      <th>gearbox</th>\n",
       "      <th>power</th>\n",
       "      <th>model</th>\n",
       "      <th>kilometer</th>\n",
       "      <th>fuel_type</th>\n",
       "      <th>brand</th>\n",
       "      <th>repaired</th>\n",
       "      <th>postal_code</th>\n",
       "    </tr>\n",
       "  </thead>\n",
       "  <tbody>\n",
       "    <tr>\n",
       "      <th>0</th>\n",
       "      <td>sedan</td>\n",
       "      <td>1993</td>\n",
       "      <td>manual</td>\n",
       "      <td>101.0</td>\n",
       "      <td>golf</td>\n",
       "      <td>150000</td>\n",
       "      <td>petrol</td>\n",
       "      <td>volkswagen</td>\n",
       "      <td>no</td>\n",
       "      <td>70435</td>\n",
       "    </tr>\n",
       "    <tr>\n",
       "      <th>1</th>\n",
       "      <td>coupe</td>\n",
       "      <td>2011</td>\n",
       "      <td>manual</td>\n",
       "      <td>190.0</td>\n",
       "      <td>NA</td>\n",
       "      <td>125000</td>\n",
       "      <td>gasoline</td>\n",
       "      <td>audi</td>\n",
       "      <td>yes</td>\n",
       "      <td>66954</td>\n",
       "    </tr>\n",
       "    <tr>\n",
       "      <th>2</th>\n",
       "      <td>suv</td>\n",
       "      <td>2004</td>\n",
       "      <td>auto</td>\n",
       "      <td>163.0</td>\n",
       "      <td>grand</td>\n",
       "      <td>125000</td>\n",
       "      <td>gasoline</td>\n",
       "      <td>jeep</td>\n",
       "      <td>no</td>\n",
       "      <td>90480</td>\n",
       "    </tr>\n",
       "  </tbody>\n",
       "</table>\n",
       "</div>"
      ],
      "text/plain": [
       "  vehicle_type  registration_year gearbox  power  model  kilometer fuel_type  \\\n",
       "0        sedan               1993  manual  101.0   golf     150000    petrol   \n",
       "1        coupe               2011  manual  190.0     NA     125000  gasoline   \n",
       "2          suv               2004    auto  163.0  grand     125000  gasoline   \n",
       "\n",
       "        brand repaired  postal_code  \n",
       "0  volkswagen       no        70435  \n",
       "1        audi      yes        66954  \n",
       "2        jeep       no        90480  "
      ]
     },
     "metadata": {},
     "output_type": "display_data"
    },
    {
     "data": {
      "text/plain": [
       "0      480\n",
       "1    18300\n",
       "2     9800\n",
       "Name: price, dtype: int64"
      ]
     },
     "execution_count": 42,
     "metadata": {},
     "output_type": "execute_result"
    }
   ],
   "source": [
    "# Разделим датасет на признаки и целевой признак\n",
    "features = df.drop('price', axis=1)\n",
    "target = df['price']\n",
    "\n",
    "display(features.head(3))\n",
    "target.head(3)"
   ]
  },
  {
   "cell_type": "code",
   "execution_count": 43,
   "metadata": {},
   "outputs": [
    {
     "name": "stdout",
     "output_type": "stream",
     "text": [
      "\n",
      "Тренировочная выборка: \n",
      "Фичи - (192097, 10)\n",
      "Целевой признак - (192097,))\n",
      "Доля от общего датасета - 0.5999993753162461\n",
      "\n",
      "Тестовая выборка:\n",
      "Фичи - (64033, 10)\n",
      "Целевой признак - (64033,))\n",
      "Доля от общего датасета - 0.20000187405126155\n",
      "\n",
      "Валидационная выборка:\n",
      "Фичи - (64032, 10)\n",
      "Целевой признак - (64032,))\n",
      "Доля от общего датасета - 0.1999987506324923\n",
      "\n"
     ]
    }
   ],
   "source": [
    "# Выделим из датасета тренировочную выборку\n",
    "X_train, X_val_test, y_train, y_val_test = train_test_split(features,\n",
    "                                                            target,\n",
    "                                                            train_size=0.6, \n",
    "                                                            random_state=RANDOM_STATE)\n",
    "\n",
    "# Выделим валидационную и тестовую выборки\n",
    "X_valid, X_test, y_valid, y_test = train_test_split(X_val_test,\n",
    "                                                    y_val_test,\n",
    "                                                    test_size=0.5,\n",
    "                                                    random_state=RANDOM_STATE)\n",
    "\n",
    "# Проверим в правильных пропорциях ли разделили данные\n",
    "print(f'''\n",
    "Тренировочная выборка: \n",
    "Фичи - {X_train.shape}\n",
    "Целевой признак - {y_train.shape})\n",
    "Доля от общего датасета - {y_train.shape[0] / len(df)}\n",
    "\n",
    "Тестовая выборка:\n",
    "Фичи - {X_test.shape}\n",
    "Целевой признак - {y_test.shape})\n",
    "Доля от общего датасета - {y_test.shape[0] / len(df)}\n",
    "\n",
    "Валидационная выборка:\n",
    "Фичи - {X_valid.shape}\n",
    "Целевой признак - {y_valid.shape})\n",
    "Доля от общего датасета - {y_valid.shape[0] / len(df)}\n",
    "''')"
   ]
  },
  {
   "cell_type": "markdown",
   "metadata": {},
   "source": [
    "#### One-Hot Encoding\n",
    "Преобразуем категориальные признаки `gearbox` и `rapaired` с помощью One-Hot Encoding."
   ]
  },
  {
   "cell_type": "code",
   "execution_count": 44,
   "metadata": {},
   "outputs": [],
   "source": [
    "ohe_features = ['gearbox', 'repaired']\n",
    "\n",
    "encoder_ohe = OneHotEncoder(drop='first', handle_unknown='ignore', sparse=False, dtype='int')\n",
    "encoder_ohe.fit(X_train[ohe_features])\n",
    "\n",
    "# Добавляем закодированные признаки в X_train\n",
    "X_train[encoder_ohe.get_feature_names_out()] = encoder_ohe.transform(X_train[ohe_features])\n",
    "X_train = X_train.drop(ohe_features, axis=1)\n",
    "\n",
    "# Повторяем для валидационной выборки\n",
    "X_valid[encoder_ohe.get_feature_names_out()] = encoder_ohe.transform(X_valid[ohe_features])\n",
    "X_valid = X_valid.drop(ohe_features, axis=1)\n",
    "\n",
    "# Повторяем для тестововй выборки\n",
    "X_test[encoder_ohe.get_feature_names_out()] = encoder_ohe.transform(X_test[ohe_features])\n",
    "X_test = X_test.drop(ohe_features, axis=1)"
   ]
  },
  {
   "cell_type": "code",
   "execution_count": 45,
   "metadata": {},
   "outputs": [
    {
     "data": {
      "text/html": [
       "<div>\n",
       "<style scoped>\n",
       "    .dataframe tbody tr th:only-of-type {\n",
       "        vertical-align: middle;\n",
       "    }\n",
       "\n",
       "    .dataframe tbody tr th {\n",
       "        vertical-align: top;\n",
       "    }\n",
       "\n",
       "    .dataframe thead th {\n",
       "        text-align: right;\n",
       "    }\n",
       "</style>\n",
       "<table border=\"1\" class=\"dataframe\">\n",
       "  <thead>\n",
       "    <tr style=\"text-align: right;\">\n",
       "      <th></th>\n",
       "      <th>vehicle_type</th>\n",
       "      <th>registration_year</th>\n",
       "      <th>power</th>\n",
       "      <th>model</th>\n",
       "      <th>kilometer</th>\n",
       "      <th>fuel_type</th>\n",
       "      <th>brand</th>\n",
       "      <th>postal_code</th>\n",
       "      <th>gearbox_manual</th>\n",
       "      <th>repaired_yes</th>\n",
       "    </tr>\n",
       "  </thead>\n",
       "  <tbody>\n",
       "    <tr>\n",
       "      <th>284502</th>\n",
       "      <td>coupe</td>\n",
       "      <td>1993</td>\n",
       "      <td>163.0</td>\n",
       "      <td>other</td>\n",
       "      <td>150000</td>\n",
       "      <td>petrol</td>\n",
       "      <td>ford</td>\n",
       "      <td>50999</td>\n",
       "      <td>1</td>\n",
       "      <td>0</td>\n",
       "    </tr>\n",
       "    <tr>\n",
       "      <th>264041</th>\n",
       "      <td>small</td>\n",
       "      <td>2012</td>\n",
       "      <td>86.0</td>\n",
       "      <td>corsa</td>\n",
       "      <td>40000</td>\n",
       "      <td>petrol</td>\n",
       "      <td>opel</td>\n",
       "      <td>97855</td>\n",
       "      <td>1</td>\n",
       "      <td>0</td>\n",
       "    </tr>\n",
       "    <tr>\n",
       "      <th>104503</th>\n",
       "      <td>small</td>\n",
       "      <td>2006</td>\n",
       "      <td>140.0</td>\n",
       "      <td>cr_reihe</td>\n",
       "      <td>150000</td>\n",
       "      <td>petrol</td>\n",
       "      <td>honda</td>\n",
       "      <td>65830</td>\n",
       "      <td>1</td>\n",
       "      <td>0</td>\n",
       "    </tr>\n",
       "    <tr>\n",
       "      <th>183036</th>\n",
       "      <td>sedan</td>\n",
       "      <td>2001</td>\n",
       "      <td>150.0</td>\n",
       "      <td>a4</td>\n",
       "      <td>150000</td>\n",
       "      <td>petrol</td>\n",
       "      <td>audi</td>\n",
       "      <td>51373</td>\n",
       "      <td>1</td>\n",
       "      <td>1</td>\n",
       "    </tr>\n",
       "    <tr>\n",
       "      <th>120474</th>\n",
       "      <td>bus</td>\n",
       "      <td>2004</td>\n",
       "      <td>131.0</td>\n",
       "      <td>transporter</td>\n",
       "      <td>150000</td>\n",
       "      <td>gasoline</td>\n",
       "      <td>volkswagen</td>\n",
       "      <td>38176</td>\n",
       "      <td>1</td>\n",
       "      <td>0</td>\n",
       "    </tr>\n",
       "  </tbody>\n",
       "</table>\n",
       "</div>"
      ],
      "text/plain": [
       "       vehicle_type  registration_year  power        model  kilometer  \\\n",
       "284502        coupe               1993  163.0        other     150000   \n",
       "264041        small               2012   86.0        corsa      40000   \n",
       "104503        small               2006  140.0     cr_reihe     150000   \n",
       "183036        sedan               2001  150.0           a4     150000   \n",
       "120474          bus               2004  131.0  transporter     150000   \n",
       "\n",
       "       fuel_type       brand  postal_code  gearbox_manual  repaired_yes  \n",
       "284502    petrol        ford        50999               1             0  \n",
       "264041    petrol        opel        97855               1             0  \n",
       "104503    petrol       honda        65830               1             0  \n",
       "183036    petrol        audi        51373               1             1  \n",
       "120474  gasoline  volkswagen        38176               1             0  "
      ]
     },
     "execution_count": 45,
     "metadata": {},
     "output_type": "execute_result"
    }
   ],
   "source": [
    "# Проверим правильно ли применился метод One-Hot-Encoding\n",
    "X_train.head()"
   ]
  },
  {
   "cell_type": "markdown",
   "metadata": {},
   "source": [
    "#### Ordinal Encoding\n"
   ]
  },
  {
   "cell_type": "markdown",
   "metadata": {},
   "source": [
    "Категориальные признаки `brand`, `model`, `vehicle_type` и `fuel_type` преобразуем с помощью OrdinalEncodeing.\n",
    "\n",
    "Эти признаки тоже можно преобразовать с помощью One-Hot Encoding, но чтобы обучение проходило быстрее было решено преобразовать их через OrdinalEncoding"
   ]
  },
  {
   "cell_type": "code",
   "execution_count": 46,
   "metadata": {
    "scrolled": true
   },
   "outputs": [],
   "source": [
    "oe_features = ['brand', 'model', 'vehicle_type', 'fuel_type']\n",
    "\n",
    "encoder_oe = OrdinalEncoder(dtype='int')\n",
    "encoder_oe.fit(X_train[oe_features])\n",
    "\n",
    "# Изменим признаки в датасетах\n",
    "X_train[oe_features] = encoder_oe.transform(X_train[oe_features])\n",
    "X_valid[oe_features] = encoder_oe.transform(X_valid[oe_features])\n",
    "X_test[oe_features] = encoder_oe.transform(X_test[oe_features])"
   ]
  },
  {
   "cell_type": "code",
   "execution_count": 47,
   "metadata": {
    "scrolled": true
   },
   "outputs": [
    {
     "data": {
      "text/html": [
       "<div>\n",
       "<style scoped>\n",
       "    .dataframe tbody tr th:only-of-type {\n",
       "        vertical-align: middle;\n",
       "    }\n",
       "\n",
       "    .dataframe tbody tr th {\n",
       "        vertical-align: top;\n",
       "    }\n",
       "\n",
       "    .dataframe thead th {\n",
       "        text-align: right;\n",
       "    }\n",
       "</style>\n",
       "<table border=\"1\" class=\"dataframe\">\n",
       "  <thead>\n",
       "    <tr style=\"text-align: right;\">\n",
       "      <th></th>\n",
       "      <th>vehicle_type</th>\n",
       "      <th>registration_year</th>\n",
       "      <th>power</th>\n",
       "      <th>model</th>\n",
       "      <th>kilometer</th>\n",
       "      <th>fuel_type</th>\n",
       "      <th>brand</th>\n",
       "      <th>postal_code</th>\n",
       "      <th>gearbox_manual</th>\n",
       "      <th>repaired_yes</th>\n",
       "    </tr>\n",
       "  </thead>\n",
       "  <tbody>\n",
       "    <tr>\n",
       "      <th>179317</th>\n",
       "      <td>4</td>\n",
       "      <td>2012</td>\n",
       "      <td>122.0</td>\n",
       "      <td>117</td>\n",
       "      <td>50000</td>\n",
       "      <td>6</td>\n",
       "      <td>38</td>\n",
       "      <td>73760</td>\n",
       "      <td>1</td>\n",
       "      <td>0</td>\n",
       "    </tr>\n",
       "    <tr>\n",
       "      <th>73852</th>\n",
       "      <td>5</td>\n",
       "      <td>2000</td>\n",
       "      <td>60.0</td>\n",
       "      <td>129</td>\n",
       "      <td>125000</td>\n",
       "      <td>6</td>\n",
       "      <td>10</td>\n",
       "      <td>93173</td>\n",
       "      <td>1</td>\n",
       "      <td>0</td>\n",
       "    </tr>\n",
       "    <tr>\n",
       "      <th>128068</th>\n",
       "      <td>5</td>\n",
       "      <td>2008</td>\n",
       "      <td>92.0</td>\n",
       "      <td>216</td>\n",
       "      <td>90000</td>\n",
       "      <td>6</td>\n",
       "      <td>35</td>\n",
       "      <td>33184</td>\n",
       "      <td>1</td>\n",
       "      <td>1</td>\n",
       "    </tr>\n",
       "    <tr>\n",
       "      <th>2269</th>\n",
       "      <td>5</td>\n",
       "      <td>1998</td>\n",
       "      <td>95.0</td>\n",
       "      <td>34</td>\n",
       "      <td>150000</td>\n",
       "      <td>6</td>\n",
       "      <td>20</td>\n",
       "      <td>72411</td>\n",
       "      <td>1</td>\n",
       "      <td>0</td>\n",
       "    </tr>\n",
       "    <tr>\n",
       "      <th>204107</th>\n",
       "      <td>0</td>\n",
       "      <td>1995</td>\n",
       "      <td>115.0</td>\n",
       "      <td>204</td>\n",
       "      <td>150000</td>\n",
       "      <td>6</td>\n",
       "      <td>38</td>\n",
       "      <td>18442</td>\n",
       "      <td>1</td>\n",
       "      <td>0</td>\n",
       "    </tr>\n",
       "  </tbody>\n",
       "</table>\n",
       "</div>"
      ],
      "text/plain": [
       "        vehicle_type  registration_year  power  model  kilometer  fuel_type  \\\n",
       "179317             4               2012  122.0    117      50000          6   \n",
       "73852              5               2000   60.0    129     125000          6   \n",
       "128068             5               2008   92.0    216      90000          6   \n",
       "2269               5               1998   95.0     34     150000          6   \n",
       "204107             0               1995  115.0    204     150000          6   \n",
       "\n",
       "        brand  postal_code  gearbox_manual  repaired_yes  \n",
       "179317     38        73760               1             0  \n",
       "73852      10        93173               1             0  \n",
       "128068     35        33184               1             1  \n",
       "2269       20        72411               1             0  \n",
       "204107     38        18442               1             0  "
      ]
     },
     "execution_count": 47,
     "metadata": {},
     "output_type": "execute_result"
    }
   ],
   "source": [
    "# Проверим\n",
    "X_test.head()"
   ]
  },
  {
   "cell_type": "markdown",
   "metadata": {},
   "source": [
    "#### Масштабирование признаков"
   ]
  },
  {
   "cell_type": "code",
   "execution_count": 48,
   "metadata": {},
   "outputs": [],
   "source": [
    "numeric = ['registration_year', 'power', 'kilometer']\n",
    "\n",
    "scaler = StandardScaler()\n",
    "scaler.fit(X_train[numeric])\n",
    "\n",
    "# Применим масштабирование к признакам\n",
    "X_train[numeric] = scaler.transform(X_train[numeric])\n",
    "X_valid[numeric] = scaler.transform(X_valid[numeric])\n",
    "X_test[numeric] = scaler.transform(X_test[numeric])"
   ]
  },
  {
   "cell_type": "code",
   "execution_count": 49,
   "metadata": {
    "scrolled": true
   },
   "outputs": [
    {
     "data": {
      "text/html": [
       "<div>\n",
       "<style scoped>\n",
       "    .dataframe tbody tr th:only-of-type {\n",
       "        vertical-align: middle;\n",
       "    }\n",
       "\n",
       "    .dataframe tbody tr th {\n",
       "        vertical-align: top;\n",
       "    }\n",
       "\n",
       "    .dataframe thead th {\n",
       "        text-align: right;\n",
       "    }\n",
       "</style>\n",
       "<table border=\"1\" class=\"dataframe\">\n",
       "  <thead>\n",
       "    <tr style=\"text-align: right;\">\n",
       "      <th></th>\n",
       "      <th>vehicle_type</th>\n",
       "      <th>registration_year</th>\n",
       "      <th>power</th>\n",
       "      <th>model</th>\n",
       "      <th>kilometer</th>\n",
       "      <th>fuel_type</th>\n",
       "      <th>brand</th>\n",
       "      <th>postal_code</th>\n",
       "      <th>gearbox_manual</th>\n",
       "      <th>repaired_yes</th>\n",
       "    </tr>\n",
       "  </thead>\n",
       "  <tbody>\n",
       "    <tr>\n",
       "      <th>284502</th>\n",
       "      <td>2</td>\n",
       "      <td>-1.513123</td>\n",
       "      <td>0.816142</td>\n",
       "      <td>167</td>\n",
       "      <td>0.578379</td>\n",
       "      <td>6</td>\n",
       "      <td>10</td>\n",
       "      <td>50999</td>\n",
       "      <td>1</td>\n",
       "      <td>0</td>\n",
       "    </tr>\n",
       "    <tr>\n",
       "      <th>264041</th>\n",
       "      <td>5</td>\n",
       "      <td>1.421934</td>\n",
       "      <td>-0.649149</td>\n",
       "      <td>84</td>\n",
       "      <td>-2.426497</td>\n",
       "      <td>6</td>\n",
       "      <td>24</td>\n",
       "      <td>97855</td>\n",
       "      <td>1</td>\n",
       "      <td>0</td>\n",
       "    </tr>\n",
       "    <tr>\n",
       "      <th>104503</th>\n",
       "      <td>5</td>\n",
       "      <td>0.495074</td>\n",
       "      <td>0.378458</td>\n",
       "      <td>85</td>\n",
       "      <td>0.578379</td>\n",
       "      <td>6</td>\n",
       "      <td>11</td>\n",
       "      <td>65830</td>\n",
       "      <td>1</td>\n",
       "      <td>0</td>\n",
       "    </tr>\n",
       "    <tr>\n",
       "      <th>183036</th>\n",
       "      <td>4</td>\n",
       "      <td>-0.277310</td>\n",
       "      <td>0.568755</td>\n",
       "      <td>30</td>\n",
       "      <td>0.578379</td>\n",
       "      <td>6</td>\n",
       "      <td>1</td>\n",
       "      <td>51373</td>\n",
       "      <td>1</td>\n",
       "      <td>1</td>\n",
       "    </tr>\n",
       "    <tr>\n",
       "      <th>120474</th>\n",
       "      <td>0</td>\n",
       "      <td>0.186120</td>\n",
       "      <td>0.207190</td>\n",
       "      <td>224</td>\n",
       "      <td>0.578379</td>\n",
       "      <td>2</td>\n",
       "      <td>38</td>\n",
       "      <td>38176</td>\n",
       "      <td>1</td>\n",
       "      <td>0</td>\n",
       "    </tr>\n",
       "  </tbody>\n",
       "</table>\n",
       "</div>"
      ],
      "text/plain": [
       "        vehicle_type  registration_year     power  model  kilometer  \\\n",
       "284502             2          -1.513123  0.816142    167   0.578379   \n",
       "264041             5           1.421934 -0.649149     84  -2.426497   \n",
       "104503             5           0.495074  0.378458     85   0.578379   \n",
       "183036             4          -0.277310  0.568755     30   0.578379   \n",
       "120474             0           0.186120  0.207190    224   0.578379   \n",
       "\n",
       "        fuel_type  brand  postal_code  gearbox_manual  repaired_yes  \n",
       "284502          6     10        50999               1             0  \n",
       "264041          6     24        97855               1             0  \n",
       "104503          6     11        65830               1             0  \n",
       "183036          6      1        51373               1             1  \n",
       "120474          2     38        38176               1             0  "
      ]
     },
     "execution_count": 49,
     "metadata": {},
     "output_type": "execute_result"
    }
   ],
   "source": [
    "# Проверим\n",
    "X_train.head()"
   ]
  },
  {
   "cell_type": "code",
   "execution_count": 50,
   "metadata": {},
   "outputs": [],
   "source": [
    "# Выделим категориальные признаки\n",
    "cat_features = ['vehicle_type', \n",
    "                'model',  \n",
    "                'fuel_type', \n",
    "                'brand', \n",
    "                'postal_code', \n",
    "                'gearbox_manual',\n",
    "                'repaired_yes']"
   ]
  },
  {
   "cell_type": "markdown",
   "metadata": {},
   "source": [
    "В связи с тем, что нам необходимо решить задачу регрессии выберем для обучения следующие модели:\n",
    "- DecisionTreeRegressor - библиотека Scikit-learn\n",
    "- CatBoostRegressor - библиотека CatBoost\n",
    "- LGBMRegressor - библиотека LightGBM"
   ]
  },
  {
   "cell_type": "markdown",
   "metadata": {},
   "source": [
    "### Модель DecisionTreeRegressor"
   ]
  },
  {
   "cell_type": "code",
   "execution_count": 54,
   "metadata": {
    "scrolled": true
   },
   "outputs": [
    {
     "name": "stdout",
     "output_type": "stream",
     "text": [
      "CPU times: user 10 s, sys: 23.3 ms, total: 10 s\n",
      "Wall time: 10.1 s\n"
     ]
    },
    {
     "data": {
      "text/html": [
       "<style>#sk-container-id-2 {color: black;background-color: white;}#sk-container-id-2 pre{padding: 0;}#sk-container-id-2 div.sk-toggleable {background-color: white;}#sk-container-id-2 label.sk-toggleable__label {cursor: pointer;display: block;width: 100%;margin-bottom: 0;padding: 0.3em;box-sizing: border-box;text-align: center;}#sk-container-id-2 label.sk-toggleable__label-arrow:before {content: \"▸\";float: left;margin-right: 0.25em;color: #696969;}#sk-container-id-2 label.sk-toggleable__label-arrow:hover:before {color: black;}#sk-container-id-2 div.sk-estimator:hover label.sk-toggleable__label-arrow:before {color: black;}#sk-container-id-2 div.sk-toggleable__content {max-height: 0;max-width: 0;overflow: hidden;text-align: left;background-color: #f0f8ff;}#sk-container-id-2 div.sk-toggleable__content pre {margin: 0.2em;color: black;border-radius: 0.25em;background-color: #f0f8ff;}#sk-container-id-2 input.sk-toggleable__control:checked~div.sk-toggleable__content {max-height: 200px;max-width: 100%;overflow: auto;}#sk-container-id-2 input.sk-toggleable__control:checked~label.sk-toggleable__label-arrow:before {content: \"▾\";}#sk-container-id-2 div.sk-estimator input.sk-toggleable__control:checked~label.sk-toggleable__label {background-color: #d4ebff;}#sk-container-id-2 div.sk-label input.sk-toggleable__control:checked~label.sk-toggleable__label {background-color: #d4ebff;}#sk-container-id-2 input.sk-hidden--visually {border: 0;clip: rect(1px 1px 1px 1px);clip: rect(1px, 1px, 1px, 1px);height: 1px;margin: -1px;overflow: hidden;padding: 0;position: absolute;width: 1px;}#sk-container-id-2 div.sk-estimator {font-family: monospace;background-color: #f0f8ff;border: 1px dotted black;border-radius: 0.25em;box-sizing: border-box;margin-bottom: 0.5em;}#sk-container-id-2 div.sk-estimator:hover {background-color: #d4ebff;}#sk-container-id-2 div.sk-parallel-item::after {content: \"\";width: 100%;border-bottom: 1px solid gray;flex-grow: 1;}#sk-container-id-2 div.sk-label:hover label.sk-toggleable__label {background-color: #d4ebff;}#sk-container-id-2 div.sk-serial::before {content: \"\";position: absolute;border-left: 1px solid gray;box-sizing: border-box;top: 0;bottom: 0;left: 50%;z-index: 0;}#sk-container-id-2 div.sk-serial {display: flex;flex-direction: column;align-items: center;background-color: white;padding-right: 0.2em;padding-left: 0.2em;position: relative;}#sk-container-id-2 div.sk-item {position: relative;z-index: 1;}#sk-container-id-2 div.sk-parallel {display: flex;align-items: stretch;justify-content: center;background-color: white;position: relative;}#sk-container-id-2 div.sk-item::before, #sk-container-id-2 div.sk-parallel-item::before {content: \"\";position: absolute;border-left: 1px solid gray;box-sizing: border-box;top: 0;bottom: 0;left: 50%;z-index: -1;}#sk-container-id-2 div.sk-parallel-item {display: flex;flex-direction: column;z-index: 1;position: relative;background-color: white;}#sk-container-id-2 div.sk-parallel-item:first-child::after {align-self: flex-end;width: 50%;}#sk-container-id-2 div.sk-parallel-item:last-child::after {align-self: flex-start;width: 50%;}#sk-container-id-2 div.sk-parallel-item:only-child::after {width: 0;}#sk-container-id-2 div.sk-dashed-wrapped {border: 1px dashed gray;margin: 0 0.4em 0.5em 0.4em;box-sizing: border-box;padding-bottom: 0.4em;background-color: white;}#sk-container-id-2 div.sk-label label {font-family: monospace;font-weight: bold;display: inline-block;line-height: 1.2em;}#sk-container-id-2 div.sk-label-container {text-align: center;}#sk-container-id-2 div.sk-container {/* jupyter's `normalize.less` sets `[hidden] { display: none; }` but bootstrap.min.css set `[hidden] { display: none !important; }` so we also need the `!important` here to be able to override the default hidden behavior on the sphinx rendered scikit-learn.org. See: https://github.com/scikit-learn/scikit-learn/issues/21755 */display: inline-block !important;position: relative;}#sk-container-id-2 div.sk-text-repr-fallback {display: none;}</style><div id=\"sk-container-id-2\" class=\"sk-top-container\"><div class=\"sk-text-repr-fallback\"><pre>RandomizedSearchCV(estimator=DecisionTreeRegressor(random_state=12345),\n",
       "                   n_jobs=-1,\n",
       "                   param_distributions={&#x27;max_depth&#x27;: range(1, 11),\n",
       "                                        &#x27;min_samples_split&#x27;: range(2, 11),\n",
       "                                        &#x27;splitter&#x27;: (&#x27;best&#x27;, &#x27;random&#x27;)},\n",
       "                   random_state=12345)</pre><b>In a Jupyter environment, please rerun this cell to show the HTML representation or trust the notebook. <br />On GitHub, the HTML representation is unable to render, please try loading this page with nbviewer.org.</b></div><div class=\"sk-container\" hidden><div class=\"sk-item sk-dashed-wrapped\"><div class=\"sk-label-container\"><div class=\"sk-label sk-toggleable\"><input class=\"sk-toggleable__control sk-hidden--visually\" id=\"sk-estimator-id-4\" type=\"checkbox\" ><label for=\"sk-estimator-id-4\" class=\"sk-toggleable__label sk-toggleable__label-arrow\">RandomizedSearchCV</label><div class=\"sk-toggleable__content\"><pre>RandomizedSearchCV(estimator=DecisionTreeRegressor(random_state=12345),\n",
       "                   n_jobs=-1,\n",
       "                   param_distributions={&#x27;max_depth&#x27;: range(1, 11),\n",
       "                                        &#x27;min_samples_split&#x27;: range(2, 11),\n",
       "                                        &#x27;splitter&#x27;: (&#x27;best&#x27;, &#x27;random&#x27;)},\n",
       "                   random_state=12345)</pre></div></div></div><div class=\"sk-parallel\"><div class=\"sk-parallel-item\"><div class=\"sk-item\"><div class=\"sk-label-container\"><div class=\"sk-label sk-toggleable\"><input class=\"sk-toggleable__control sk-hidden--visually\" id=\"sk-estimator-id-5\" type=\"checkbox\" ><label for=\"sk-estimator-id-5\" class=\"sk-toggleable__label sk-toggleable__label-arrow\">estimator: DecisionTreeRegressor</label><div class=\"sk-toggleable__content\"><pre>DecisionTreeRegressor(random_state=12345)</pre></div></div></div><div class=\"sk-serial\"><div class=\"sk-item\"><div class=\"sk-estimator sk-toggleable\"><input class=\"sk-toggleable__control sk-hidden--visually\" id=\"sk-estimator-id-6\" type=\"checkbox\" ><label for=\"sk-estimator-id-6\" class=\"sk-toggleable__label sk-toggleable__label-arrow\">DecisionTreeRegressor</label><div class=\"sk-toggleable__content\"><pre>DecisionTreeRegressor(random_state=12345)</pre></div></div></div></div></div></div></div></div></div></div>"
      ],
      "text/plain": [
       "RandomizedSearchCV(estimator=DecisionTreeRegressor(random_state=12345),\n",
       "                   n_jobs=-1,\n",
       "                   param_distributions={'max_depth': range(1, 11),\n",
       "                                        'min_samples_split': range(2, 11),\n",
       "                                        'splitter': ('best', 'random')},\n",
       "                   random_state=12345)"
      ]
     },
     "execution_count": 54,
     "metadata": {},
     "output_type": "execute_result"
    }
   ],
   "source": [
    "%%time\n",
    "model_dt = DecisionTreeRegressor(random_state=RANDOM_STATE)\n",
    "param_grid_dt = {'max_depth': range(1, 11, 1),\n",
    "                 'splitter': ('best', 'random'),\n",
    "                 'min_samples_split': range(2, 11, 1),\n",
    "                }\n",
    "\n",
    "grid_search_dt = RandomizedSearchCV(model_dt,\n",
    "                                   param_distributions=param_grid_dt,\n",
    "                                   n_jobs=-1,\n",
    "                                   random_state=RANDOM_STATE)\n",
    "\n",
    "grid_search_dt.fit(X_train, y_train)"
   ]
  },
  {
   "cell_type": "code",
   "execution_count": 64,
   "metadata": {},
   "outputs": [
    {
     "name": "stdout",
     "output_type": "stream",
     "text": [
      "\n",
      "RMSE для модели DecisionTreeRegressor: 1968.0256003250577\n",
      "Лучшие параметры: {'splitter': 'best', 'min_samples_split': 10, 'max_depth': 10}\n",
      "\n",
      "CPU times: user 12.2 ms, sys: 0 ns, total: 12.2 ms\n",
      "Wall time: 10.4 ms\n"
     ]
    }
   ],
   "source": [
    "%%time\n",
    "prediction_dt = grid_search_dt.predict(X_valid)\n",
    "dt_RMSE = mean_squared_error(y_valid, prediction_dt) ** 0.5\n",
    "print(f'''\n",
    "RMSE для модели DecisionTreeRegressor: {dt_RMSE}\n",
    "Лучшие параметры: {grid_search_dt.best_params_}\n",
    "''')"
   ]
  },
  {
   "cell_type": "markdown",
   "metadata": {},
   "source": [
    "### Модель CatBoostRegressor"
   ]
  },
  {
   "cell_type": "code",
   "execution_count": 56,
   "metadata": {
    "scrolled": true
   },
   "outputs": [
    {
     "name": "stdout",
     "output_type": "stream",
     "text": [
      "0:\tlearn: 3648.5450070\ttest: 3641.5093036\tbest: 3641.5093036 (0)\ttotal: 83.9ms\tremaining: 14.2s\n",
      "1:\tlearn: 3245.7247208\ttest: 3228.3241173\tbest: 3228.3241173 (1)\ttotal: 102ms\tremaining: 8.6s\n",
      "2:\tlearn: 3113.3714057\ttest: 3084.8364682\tbest: 3084.8364682 (2)\ttotal: 137ms\tremaining: 7.62s\n",
      "3:\tlearn: 2975.2068508\ttest: 2959.4454074\tbest: 2959.4454074 (3)\ttotal: 158ms\tremaining: 6.54s\n",
      "4:\tlearn: 2886.3221342\ttest: 2864.0587679\tbest: 2864.0587679 (4)\ttotal: 181ms\tremaining: 5.98s\n",
      "5:\tlearn: 2821.4247604\ttest: 2800.7292457\tbest: 2800.7292457 (5)\ttotal: 205ms\tremaining: 5.61s\n",
      "6:\tlearn: 2769.9286943\ttest: 2746.0821139\tbest: 2746.0821139 (6)\ttotal: 225ms\tremaining: 5.25s\n",
      "7:\tlearn: 2708.9643234\ttest: 2686.3884360\tbest: 2686.3884360 (7)\ttotal: 254ms\tremaining: 5.14s\n",
      "8:\tlearn: 2655.5756087\ttest: 2632.5882024\tbest: 2632.5882024 (8)\ttotal: 273ms\tremaining: 4.88s\n",
      "9:\tlearn: 2628.3609294\ttest: 2611.2224607\tbest: 2611.2224607 (9)\ttotal: 293ms\tremaining: 4.68s\n",
      "10:\tlearn: 2598.8688198\ttest: 2580.3851443\tbest: 2580.3851443 (10)\ttotal: 312ms\tremaining: 4.51s\n",
      "11:\tlearn: 2569.9225810\ttest: 2553.5692469\tbest: 2553.5692469 (11)\ttotal: 334ms\tremaining: 4.39s\n",
      "12:\tlearn: 2521.5490310\ttest: 2502.2348999\tbest: 2502.2348999 (12)\ttotal: 354ms\tremaining: 4.27s\n",
      "13:\tlearn: 2502.7057513\ttest: 2484.1140126\tbest: 2484.1140126 (13)\ttotal: 374ms\tremaining: 4.17s\n",
      "14:\tlearn: 2481.0557636\ttest: 2460.9128607\tbest: 2460.9128607 (14)\ttotal: 393ms\tremaining: 4.07s\n",
      "15:\tlearn: 2449.5860038\ttest: 2430.6086543\tbest: 2430.6086543 (15)\ttotal: 413ms\tremaining: 3.97s\n",
      "16:\tlearn: 2434.0256681\ttest: 2417.0071126\tbest: 2417.0071126 (16)\ttotal: 435ms\tremaining: 3.92s\n",
      "17:\tlearn: 2416.6116907\ttest: 2396.9059161\tbest: 2396.9059161 (17)\ttotal: 458ms\tremaining: 3.87s\n",
      "18:\tlearn: 2400.7785444\ttest: 2379.3289299\tbest: 2379.3289299 (18)\ttotal: 479ms\tremaining: 3.8s\n",
      "19:\tlearn: 2379.2414649\ttest: 2363.9528606\tbest: 2363.9528606 (19)\ttotal: 499ms\tremaining: 3.74s\n",
      "20:\tlearn: 2367.1519262\ttest: 2352.2335823\tbest: 2352.2335823 (20)\ttotal: 517ms\tremaining: 3.67s\n",
      "21:\tlearn: 2357.7664808\ttest: 2342.1203443\tbest: 2342.1203443 (21)\ttotal: 541ms\tremaining: 3.64s\n",
      "22:\tlearn: 2348.6450279\ttest: 2334.8110122\tbest: 2334.8110122 (22)\ttotal: 560ms\tremaining: 3.58s\n",
      "23:\tlearn: 2340.5945885\ttest: 2328.9608412\tbest: 2328.9608412 (23)\ttotal: 580ms\tremaining: 3.53s\n",
      "24:\tlearn: 2334.0011593\ttest: 2323.1928718\tbest: 2323.1928718 (24)\ttotal: 598ms\tremaining: 3.47s\n",
      "25:\tlearn: 2325.0569420\ttest: 2315.1648291\tbest: 2315.1648291 (25)\ttotal: 617ms\tremaining: 3.42s\n",
      "26:\tlearn: 2320.1435344\ttest: 2310.6572524\tbest: 2310.6572524 (26)\ttotal: 637ms\tremaining: 3.38s\n",
      "27:\tlearn: 2315.2996847\ttest: 2305.9640110\tbest: 2305.9640110 (27)\ttotal: 656ms\tremaining: 3.33s\n",
      "28:\tlearn: 2308.9581807\ttest: 2298.5954093\tbest: 2298.5954093 (28)\ttotal: 676ms\tremaining: 3.29s\n",
      "29:\tlearn: 2303.5278533\ttest: 2294.4731941\tbest: 2294.4731941 (29)\ttotal: 695ms\tremaining: 3.24s\n",
      "30:\tlearn: 2298.7142626\ttest: 2288.8703394\tbest: 2288.8703394 (30)\ttotal: 715ms\tremaining: 3.2s\n",
      "31:\tlearn: 2293.9066615\ttest: 2284.6618384\tbest: 2284.6618384 (31)\ttotal: 737ms\tremaining: 3.18s\n",
      "32:\tlearn: 2289.5142129\ttest: 2278.9533471\tbest: 2278.9533471 (32)\ttotal: 756ms\tremaining: 3.14s\n",
      "33:\tlearn: 2278.6922684\ttest: 2271.2515712\tbest: 2271.2515712 (33)\ttotal: 775ms\tremaining: 3.1s\n",
      "34:\tlearn: 2272.0110878\ttest: 2264.0056956\tbest: 2264.0056956 (34)\ttotal: 796ms\tremaining: 3.07s\n",
      "35:\tlearn: 2268.3954716\ttest: 2259.1914699\tbest: 2259.1914699 (35)\ttotal: 819ms\tremaining: 3.05s\n",
      "36:\tlearn: 2260.0936597\ttest: 2252.0328060\tbest: 2252.0328060 (36)\ttotal: 839ms\tremaining: 3.02s\n",
      "37:\tlearn: 2255.1781686\ttest: 2245.7297426\tbest: 2245.7297426 (37)\ttotal: 859ms\tremaining: 2.98s\n",
      "38:\tlearn: 2250.2859348\ttest: 2242.8323643\tbest: 2242.8323643 (38)\ttotal: 878ms\tremaining: 2.95s\n",
      "39:\tlearn: 2246.7214447\ttest: 2240.4066831\tbest: 2240.4066831 (39)\ttotal: 898ms\tremaining: 2.92s\n",
      "40:\tlearn: 2243.6866110\ttest: 2237.9064673\tbest: 2237.9064673 (40)\ttotal: 918ms\tremaining: 2.89s\n",
      "41:\tlearn: 2240.5326217\ttest: 2233.6108915\tbest: 2233.6108915 (41)\ttotal: 942ms\tremaining: 2.87s\n",
      "42:\tlearn: 2237.1785123\ttest: 2230.9938313\tbest: 2230.9938313 (42)\ttotal: 962ms\tremaining: 2.84s\n",
      "43:\tlearn: 2231.9965718\ttest: 2224.3443576\tbest: 2224.3443576 (43)\ttotal: 985ms\tremaining: 2.82s\n",
      "44:\tlearn: 2229.4393372\ttest: 2222.7875341\tbest: 2222.7875341 (44)\ttotal: 1s\tremaining: 2.79s\n",
      "45:\tlearn: 2226.1904577\ttest: 2219.3876853\tbest: 2219.3876853 (45)\ttotal: 1.02s\tremaining: 2.76s\n",
      "46:\tlearn: 2224.1338475\ttest: 2218.0254542\tbest: 2218.0254542 (46)\ttotal: 1.04s\tremaining: 2.73s\n",
      "47:\tlearn: 2221.3130017\ttest: 2214.4846533\tbest: 2214.4846533 (47)\ttotal: 1.06s\tremaining: 2.71s\n",
      "48:\tlearn: 2219.1568143\ttest: 2212.4318772\tbest: 2212.4318772 (48)\ttotal: 1.08s\tremaining: 2.67s\n",
      "49:\tlearn: 2217.5370227\ttest: 2209.5936748\tbest: 2209.5936748 (49)\ttotal: 1.1s\tremaining: 2.65s\n",
      "50:\tlearn: 2214.5405059\ttest: 2208.4062444\tbest: 2208.4062444 (50)\ttotal: 1.12s\tremaining: 2.62s\n",
      "51:\tlearn: 2213.0116853\ttest: 2206.8300177\tbest: 2206.8300177 (51)\ttotal: 1.15s\tremaining: 2.6s\n",
      "52:\tlearn: 2210.5387972\ttest: 2204.4811782\tbest: 2204.4811782 (52)\ttotal: 1.17s\tremaining: 2.58s\n",
      "53:\tlearn: 2208.6961759\ttest: 2201.3363264\tbest: 2201.3363264 (53)\ttotal: 1.19s\tremaining: 2.56s\n",
      "54:\tlearn: 2207.0511896\ttest: 2200.0440911\tbest: 2200.0440911 (54)\ttotal: 1.21s\tremaining: 2.53s\n",
      "55:\tlearn: 2205.4739695\ttest: 2199.9666929\tbest: 2199.9666929 (55)\ttotal: 1.23s\tremaining: 2.5s\n",
      "56:\tlearn: 2203.8499816\ttest: 2197.4871809\tbest: 2197.4871809 (56)\ttotal: 1.25s\tremaining: 2.48s\n",
      "57:\tlearn: 2202.1140679\ttest: 2196.9954041\tbest: 2196.9954041 (57)\ttotal: 1.27s\tremaining: 2.45s\n",
      "58:\tlearn: 2200.9686010\ttest: 2196.1554671\tbest: 2196.1554671 (58)\ttotal: 1.29s\tremaining: 2.42s\n",
      "59:\tlearn: 2200.2478970\ttest: 2194.4550275\tbest: 2194.4550275 (59)\ttotal: 1.31s\tremaining: 2.4s\n",
      "60:\tlearn: 2199.0911913\ttest: 2193.6948133\tbest: 2193.6948133 (60)\ttotal: 1.33s\tremaining: 2.38s\n",
      "61:\tlearn: 2198.4374316\ttest: 2193.5312587\tbest: 2193.5312587 (61)\ttotal: 1.35s\tremaining: 2.36s\n",
      "62:\tlearn: 2196.6593816\ttest: 2190.9490914\tbest: 2190.9490914 (62)\ttotal: 1.37s\tremaining: 2.33s\n",
      "63:\tlearn: 2195.3145092\ttest: 2189.7165421\tbest: 2189.7165421 (63)\ttotal: 1.39s\tremaining: 2.31s\n",
      "64:\tlearn: 2194.2563230\ttest: 2188.9424169\tbest: 2188.9424169 (64)\ttotal: 1.41s\tremaining: 2.28s\n",
      "65:\tlearn: 2192.4542877\ttest: 2186.5376200\tbest: 2186.5376200 (65)\ttotal: 1.44s\tremaining: 2.27s\n",
      "66:\tlearn: 2191.0520178\ttest: 2185.6868238\tbest: 2185.6868238 (66)\ttotal: 1.46s\tremaining: 2.24s\n",
      "67:\tlearn: 2190.0702425\ttest: 2184.1267235\tbest: 2184.1267235 (67)\ttotal: 1.48s\tremaining: 2.22s\n",
      "68:\tlearn: 2188.9304963\ttest: 2183.3257442\tbest: 2183.3257442 (68)\ttotal: 1.5s\tremaining: 2.2s\n",
      "69:\tlearn: 2188.0775943\ttest: 2182.4274294\tbest: 2182.4274294 (69)\ttotal: 1.52s\tremaining: 2.18s\n",
      "70:\tlearn: 2187.1536708\ttest: 2182.1369307\tbest: 2182.1369307 (70)\ttotal: 1.55s\tremaining: 2.17s\n",
      "71:\tlearn: 2186.2043452\ttest: 2180.2870160\tbest: 2180.2870160 (71)\ttotal: 1.58s\tremaining: 2.15s\n",
      "72:\tlearn: 2185.3295421\ttest: 2179.9236339\tbest: 2179.9236339 (72)\ttotal: 1.6s\tremaining: 2.12s\n",
      "73:\tlearn: 2184.5719121\ttest: 2179.5231636\tbest: 2179.5231636 (73)\ttotal: 1.62s\tremaining: 2.1s\n",
      "74:\tlearn: 2183.8352322\ttest: 2179.0436819\tbest: 2179.0436819 (74)\ttotal: 1.64s\tremaining: 2.08s\n",
      "75:\tlearn: 2182.7388458\ttest: 2177.9480879\tbest: 2177.9480879 (75)\ttotal: 1.66s\tremaining: 2.05s\n",
      "76:\tlearn: 2182.0233321\ttest: 2176.9321979\tbest: 2176.9321979 (76)\ttotal: 1.68s\tremaining: 2.03s\n",
      "77:\tlearn: 2180.9597794\ttest: 2176.0080352\tbest: 2176.0080352 (77)\ttotal: 1.7s\tremaining: 2s\n",
      "78:\tlearn: 2180.5784998\ttest: 2175.4016125\tbest: 2175.4016125 (78)\ttotal: 1.72s\tremaining: 1.98s\n",
      "79:\tlearn: 2179.6340266\ttest: 2174.5559494\tbest: 2174.5559494 (79)\ttotal: 1.74s\tremaining: 1.96s\n",
      "80:\tlearn: 2178.9425872\ttest: 2174.2198475\tbest: 2174.2198475 (80)\ttotal: 1.76s\tremaining: 1.93s\n",
      "81:\tlearn: 2177.7722727\ttest: 2172.6645983\tbest: 2172.6645983 (81)\ttotal: 1.78s\tremaining: 1.91s\n",
      "82:\tlearn: 2176.5706955\ttest: 2172.0110835\tbest: 2172.0110835 (82)\ttotal: 1.8s\tremaining: 1.89s\n",
      "83:\tlearn: 2175.8878049\ttest: 2171.1725212\tbest: 2171.1725212 (83)\ttotal: 1.82s\tremaining: 1.87s\n",
      "84:\tlearn: 2174.9904974\ttest: 2170.2673167\tbest: 2170.2673167 (84)\ttotal: 1.85s\tremaining: 1.85s\n",
      "85:\tlearn: 2174.2115190\ttest: 2169.1583388\tbest: 2169.1583388 (85)\ttotal: 1.87s\tremaining: 1.82s\n",
      "86:\tlearn: 2173.6044719\ttest: 2168.9744868\tbest: 2168.9744868 (86)\ttotal: 1.89s\tremaining: 1.8s\n",
      "87:\tlearn: 2172.8700888\ttest: 2167.7513965\tbest: 2167.7513965 (87)\ttotal: 1.91s\tremaining: 1.78s\n",
      "88:\tlearn: 2172.2883661\ttest: 2167.5853270\tbest: 2167.5853270 (88)\ttotal: 1.93s\tremaining: 1.76s\n",
      "89:\tlearn: 2171.6202072\ttest: 2167.2796124\tbest: 2167.2796124 (89)\ttotal: 1.95s\tremaining: 1.73s\n",
      "90:\tlearn: 2170.1109096\ttest: 2164.9772046\tbest: 2164.9772046 (90)\ttotal: 1.97s\tremaining: 1.71s\n",
      "91:\tlearn: 2168.8341277\ttest: 2164.7205355\tbest: 2164.7205355 (91)\ttotal: 1.99s\tremaining: 1.69s\n",
      "92:\tlearn: 2167.8754207\ttest: 2163.1173622\tbest: 2163.1173622 (92)\ttotal: 2.01s\tremaining: 1.66s\n",
      "93:\tlearn: 2166.9454878\ttest: 2162.4891072\tbest: 2162.4891072 (93)\ttotal: 2.03s\tremaining: 1.64s\n",
      "94:\tlearn: 2166.1126347\ttest: 2161.5698886\tbest: 2161.5698886 (94)\ttotal: 2.05s\tremaining: 1.62s\n",
      "95:\tlearn: 2165.4441423\ttest: 2160.2411425\tbest: 2160.2411425 (95)\ttotal: 2.07s\tremaining: 1.6s\n",
      "96:\tlearn: 2164.7513640\ttest: 2159.5685119\tbest: 2159.5685119 (96)\ttotal: 2.09s\tremaining: 1.58s\n",
      "97:\tlearn: 2164.1301781\ttest: 2158.9336274\tbest: 2158.9336274 (97)\ttotal: 2.12s\tremaining: 1.55s\n",
      "98:\tlearn: 2163.6380203\ttest: 2158.7207583\tbest: 2158.7207583 (98)\ttotal: 2.14s\tremaining: 1.53s\n",
      "99:\tlearn: 2163.0719501\ttest: 2157.7986731\tbest: 2157.7986731 (99)\ttotal: 2.16s\tremaining: 1.51s\n",
      "100:\tlearn: 2162.5883188\ttest: 2157.6095988\tbest: 2157.6095988 (100)\ttotal: 2.18s\tremaining: 1.49s\n",
      "101:\tlearn: 2161.9333286\ttest: 2156.6730366\tbest: 2156.6730366 (101)\ttotal: 2.2s\tremaining: 1.46s\n",
      "102:\tlearn: 2161.4548035\ttest: 2156.6377936\tbest: 2156.6377936 (102)\ttotal: 2.22s\tremaining: 1.44s\n",
      "103:\tlearn: 2160.7495817\ttest: 2155.6423569\tbest: 2155.6423569 (103)\ttotal: 2.24s\tremaining: 1.42s\n",
      "104:\tlearn: 2160.0939164\ttest: 2154.9289134\tbest: 2154.9289134 (104)\ttotal: 2.26s\tremaining: 1.4s\n",
      "105:\tlearn: 2159.6520147\ttest: 2154.5816346\tbest: 2154.5816346 (105)\ttotal: 2.28s\tremaining: 1.38s\n",
      "106:\tlearn: 2159.0643293\ttest: 2153.7657881\tbest: 2153.7657881 (106)\ttotal: 2.3s\tremaining: 1.35s\n",
      "107:\tlearn: 2158.1801288\ttest: 2152.6120546\tbest: 2152.6120546 (107)\ttotal: 2.32s\tremaining: 1.33s\n",
      "108:\tlearn: 2157.7163626\ttest: 2152.4341368\tbest: 2152.4341368 (108)\ttotal: 2.34s\tremaining: 1.31s\n",
      "109:\tlearn: 2156.9793887\ttest: 2151.7497842\tbest: 2151.7497842 (109)\ttotal: 2.36s\tremaining: 1.29s\n",
      "110:\tlearn: 2156.5284999\ttest: 2151.2298621\tbest: 2151.2298621 (110)\ttotal: 2.38s\tremaining: 1.26s\n",
      "111:\tlearn: 2156.1373931\ttest: 2150.9937125\tbest: 2150.9937125 (111)\ttotal: 2.4s\tremaining: 1.24s\n",
      "112:\tlearn: 2155.7652023\ttest: 2150.7748971\tbest: 2150.7748971 (112)\ttotal: 2.42s\tremaining: 1.22s\n",
      "113:\tlearn: 2155.1204721\ttest: 2149.7875356\tbest: 2149.7875356 (113)\ttotal: 2.44s\tremaining: 1.2s\n",
      "114:\tlearn: 2154.7042826\ttest: 2149.7040260\tbest: 2149.7040260 (114)\ttotal: 2.46s\tremaining: 1.18s\n",
      "115:\tlearn: 2154.2916456\ttest: 2148.9468449\tbest: 2148.9468449 (115)\ttotal: 2.48s\tremaining: 1.15s\n",
      "116:\tlearn: 2153.7651650\ttest: 2148.7018024\tbest: 2148.7018024 (116)\ttotal: 2.5s\tremaining: 1.13s\n",
      "117:\tlearn: 2153.4283023\ttest: 2148.0565988\tbest: 2148.0565988 (117)\ttotal: 2.52s\tremaining: 1.11s\n",
      "118:\tlearn: 2152.8947722\ttest: 2147.5396672\tbest: 2147.5396672 (118)\ttotal: 2.54s\tremaining: 1.09s\n",
      "119:\tlearn: 2152.3101359\ttest: 2146.9659132\tbest: 2146.9659132 (119)\ttotal: 2.56s\tremaining: 1.07s\n",
      "120:\tlearn: 2151.9601233\ttest: 2146.7202962\tbest: 2146.7202962 (120)\ttotal: 2.58s\tremaining: 1.04s\n",
      "121:\tlearn: 2151.6243681\ttest: 2146.5237968\tbest: 2146.5237968 (121)\ttotal: 2.6s\tremaining: 1.02s\n",
      "122:\tlearn: 2151.2614283\ttest: 2146.4778045\tbest: 2146.4778045 (122)\ttotal: 2.63s\tremaining: 1s\n",
      "123:\tlearn: 2150.6715587\ttest: 2145.6661410\tbest: 2145.6661410 (123)\ttotal: 2.65s\tremaining: 983ms\n",
      "124:\tlearn: 2150.2016150\ttest: 2145.7373395\tbest: 2145.6661410 (123)\ttotal: 2.67s\tremaining: 961ms\n",
      "125:\tlearn: 2149.4768376\ttest: 2144.4720614\tbest: 2144.4720614 (125)\ttotal: 2.69s\tremaining: 939ms\n",
      "126:\tlearn: 2148.8214734\ttest: 2144.1405393\tbest: 2144.1405393 (126)\ttotal: 2.71s\tremaining: 918ms\n",
      "127:\tlearn: 2148.3604111\ttest: 2143.0557785\tbest: 2143.0557785 (127)\ttotal: 2.73s\tremaining: 897ms\n",
      "128:\tlearn: 2147.7260649\ttest: 2143.3194483\tbest: 2143.0557785 (127)\ttotal: 2.75s\tremaining: 875ms\n",
      "129:\tlearn: 2147.1371261\ttest: 2142.2449961\tbest: 2142.2449961 (129)\ttotal: 2.77s\tremaining: 854ms\n",
      "130:\tlearn: 2146.5999240\ttest: 2142.3500602\tbest: 2142.2449961 (129)\ttotal: 2.8s\tremaining: 834ms\n",
      "131:\tlearn: 2146.0868273\ttest: 2141.1800669\tbest: 2141.1800669 (131)\ttotal: 2.83s\tremaining: 814ms\n",
      "132:\tlearn: 2145.6917504\ttest: 2140.6050470\tbest: 2140.6050470 (132)\ttotal: 2.85s\tremaining: 792ms\n",
      "133:\tlearn: 2145.4379809\ttest: 2140.5197202\tbest: 2140.5197202 (133)\ttotal: 2.87s\tremaining: 771ms\n",
      "134:\tlearn: 2145.0931883\ttest: 2140.2276809\tbest: 2140.2276809 (134)\ttotal: 2.89s\tremaining: 749ms\n",
      "135:\tlearn: 2144.8969264\ttest: 2139.9780868\tbest: 2139.9780868 (135)\ttotal: 2.91s\tremaining: 727ms\n",
      "136:\tlearn: 2144.6459934\ttest: 2139.6048450\tbest: 2139.6048450 (136)\ttotal: 2.93s\tremaining: 706ms\n",
      "137:\tlearn: 2143.8439250\ttest: 2138.7683278\tbest: 2138.7683278 (137)\ttotal: 2.95s\tremaining: 684ms\n",
      "138:\tlearn: 2143.3099451\ttest: 2138.0880301\tbest: 2138.0880301 (138)\ttotal: 2.97s\tremaining: 662ms\n",
      "139:\tlearn: 2142.9683022\ttest: 2137.7423821\tbest: 2137.7423821 (139)\ttotal: 2.99s\tremaining: 641ms\n",
      "140:\tlearn: 2142.7319337\ttest: 2137.5829681\tbest: 2137.5829681 (140)\ttotal: 3.01s\tremaining: 619ms\n",
      "141:\tlearn: 2142.0950501\ttest: 2136.6403631\tbest: 2136.6403631 (141)\ttotal: 3.03s\tremaining: 597ms\n",
      "142:\tlearn: 2141.7661641\ttest: 2136.3243265\tbest: 2136.3243265 (142)\ttotal: 3.05s\tremaining: 576ms\n",
      "143:\tlearn: 2141.4810021\ttest: 2136.0895768\tbest: 2136.0895768 (143)\ttotal: 3.07s\tremaining: 554ms\n",
      "144:\tlearn: 2141.1498238\ttest: 2135.7485842\tbest: 2135.7485842 (144)\ttotal: 3.09s\tremaining: 532ms\n",
      "145:\tlearn: 2140.8279550\ttest: 2135.8217615\tbest: 2135.7485842 (144)\ttotal: 3.11s\tremaining: 511ms\n",
      "146:\tlearn: 2140.5790544\ttest: 2135.7909277\tbest: 2135.7485842 (144)\ttotal: 3.13s\tremaining: 490ms\n",
      "147:\tlearn: 2140.5642967\ttest: 2135.6470078\tbest: 2135.6470078 (147)\ttotal: 3.15s\tremaining: 468ms\n",
      "148:\tlearn: 2140.2136574\ttest: 2135.6841335\tbest: 2135.6470078 (147)\ttotal: 3.17s\tremaining: 447ms\n",
      "149:\tlearn: 2140.1386257\ttest: 2135.6589546\tbest: 2135.6470078 (147)\ttotal: 3.19s\tremaining: 426ms\n",
      "150:\tlearn: 2139.8193605\ttest: 2134.9966699\tbest: 2134.9966699 (150)\ttotal: 3.21s\tremaining: 404ms\n",
      "151:\tlearn: 2139.7411992\ttest: 2134.6271576\tbest: 2134.6271576 (151)\ttotal: 3.23s\tremaining: 383ms\n",
      "152:\tlearn: 2139.6788208\ttest: 2134.6132611\tbest: 2134.6132611 (152)\ttotal: 3.25s\tremaining: 361ms\n",
      "153:\tlearn: 2139.3199767\ttest: 2134.4128757\tbest: 2134.4128757 (153)\ttotal: 3.27s\tremaining: 340ms\n",
      "154:\tlearn: 2139.2713961\ttest: 2134.1340669\tbest: 2134.1340669 (154)\ttotal: 3.29s\tremaining: 318ms\n",
      "155:\tlearn: 2139.0002968\ttest: 2134.1314981\tbest: 2134.1314981 (155)\ttotal: 3.31s\tremaining: 297ms\n",
      "156:\tlearn: 2138.6711512\ttest: 2133.3807376\tbest: 2133.3807376 (156)\ttotal: 3.33s\tremaining: 276ms\n",
      "157:\tlearn: 2138.3862245\ttest: 2133.3706268\tbest: 2133.3706268 (157)\ttotal: 3.35s\tremaining: 255ms\n",
      "158:\tlearn: 2138.0800894\ttest: 2132.9049541\tbest: 2132.9049541 (158)\ttotal: 3.37s\tremaining: 233ms\n",
      "159:\tlearn: 2137.8434243\ttest: 2132.7753722\tbest: 2132.7753722 (159)\ttotal: 3.39s\tremaining: 212ms\n",
      "160:\tlearn: 2137.5003204\ttest: 2132.2025098\tbest: 2132.2025098 (160)\ttotal: 3.41s\tremaining: 191ms\n",
      "161:\tlearn: 2137.1896608\ttest: 2132.1601418\tbest: 2132.1601418 (161)\ttotal: 3.43s\tremaining: 169ms\n",
      "162:\tlearn: 2136.9357449\ttest: 2131.6512703\tbest: 2131.6512703 (162)\ttotal: 3.45s\tremaining: 148ms\n",
      "163:\tlearn: 2136.6524267\ttest: 2131.0547346\tbest: 2131.0547346 (163)\ttotal: 3.47s\tremaining: 127ms\n",
      "164:\tlearn: 2136.2991121\ttest: 2131.1928984\tbest: 2131.0547346 (163)\ttotal: 3.49s\tremaining: 106ms\n",
      "165:\tlearn: 2135.6010760\ttest: 2130.6171820\tbest: 2130.6171820 (165)\ttotal: 3.5s\tremaining: 84.5ms\n",
      "166:\tlearn: 2135.3464876\ttest: 2130.1989746\tbest: 2130.1989746 (166)\ttotal: 3.52s\tremaining: 63.3ms\n",
      "167:\tlearn: 2135.1074092\ttest: 2129.6599513\tbest: 2129.6599513 (167)\ttotal: 3.54s\tremaining: 42.2ms\n",
      "168:\tlearn: 2134.8230082\ttest: 2128.9709717\tbest: 2128.9709717 (168)\ttotal: 3.56s\tremaining: 21.1ms\n",
      "169:\tlearn: 2134.4776501\ttest: 2128.7095696\tbest: 2128.7095696 (169)\ttotal: 3.58s\tremaining: 0us\n",
      "\n",
      "bestTest = 2128.70957\n",
      "bestIteration = 169\n",
      "\n",
      "0:\tloss: 2128.7095696\tbest: 2128.7095696 (0)\ttotal: 4.36s\tremaining: 39.2s\n",
      "0:\tlearn: 6060.8250078\ttest: 6040.5805411\tbest: 6040.5805411 (0)\ttotal: 34.5ms\tremaining: 1.69s\n",
      "1:\tlearn: 5633.0778742\ttest: 5612.1879368\tbest: 5612.1879368 (1)\ttotal: 71.3ms\tremaining: 1.71s\n",
      "2:\tlearn: 5255.0903859\ttest: 5233.2807365\tbest: 5233.2807365 (2)\ttotal: 96ms\tremaining: 1.5s\n",
      "3:\tlearn: 4920.2871103\ttest: 4898.2614010\tbest: 4898.2614010 (3)\ttotal: 121ms\tremaining: 1.39s\n",
      "4:\tlearn: 4635.3689974\ttest: 4612.2869504\tbest: 4612.2869504 (4)\ttotal: 146ms\tremaining: 1.31s\n",
      "5:\tlearn: 4384.0049812\ttest: 4361.8525144\tbest: 4361.8525144 (5)\ttotal: 171ms\tremaining: 1.25s\n",
      "6:\tlearn: 4159.0909721\ttest: 4135.9186384\tbest: 4135.9186384 (6)\ttotal: 207ms\tremaining: 1.27s\n",
      "7:\tlearn: 3962.1887089\ttest: 3939.9024693\tbest: 3939.9024693 (7)\ttotal: 232ms\tremaining: 1.22s\n",
      "8:\tlearn: 3794.4172064\ttest: 3772.6093735\tbest: 3772.6093735 (8)\ttotal: 262ms\tremaining: 1.19s\n",
      "9:\tlearn: 3647.1001495\ttest: 3625.5774824\tbest: 3625.5774824 (9)\ttotal: 289ms\tremaining: 1.16s\n",
      "10:\tlearn: 3510.8021608\ttest: 3490.6615187\tbest: 3490.6615187 (10)\ttotal: 314ms\tremaining: 1.11s\n",
      "11:\tlearn: 3396.3662007\ttest: 3377.2181291\tbest: 3377.2181291 (11)\ttotal: 340ms\tremaining: 1.07s\n",
      "12:\tlearn: 3299.0479002\ttest: 3279.8073153\tbest: 3279.8073153 (12)\ttotal: 366ms\tremaining: 1.04s\n",
      "13:\tlearn: 3202.1008752\ttest: 3182.1827891\tbest: 3182.1827891 (13)\ttotal: 391ms\tremaining: 1s\n",
      "14:\tlearn: 3119.4279799\ttest: 3100.1851304\tbest: 3100.1851304 (14)\ttotal: 416ms\tremaining: 972ms\n",
      "15:\tlearn: 3050.8178252\ttest: 3032.1153313\tbest: 3032.1153313 (15)\ttotal: 447ms\tremaining: 950ms\n",
      "16:\tlearn: 2981.3901480\ttest: 2961.8946980\tbest: 2961.8946980 (16)\ttotal: 472ms\tremaining: 916ms\n",
      "17:\tlearn: 2924.6307711\ttest: 2905.6620129\tbest: 2905.6620129 (17)\ttotal: 498ms\tremaining: 886ms\n",
      "18:\tlearn: 2877.5054968\ttest: 2857.9115249\tbest: 2857.9115249 (18)\ttotal: 524ms\tremaining: 854ms\n",
      "19:\tlearn: 2826.7972029\ttest: 2807.2791254\tbest: 2807.2791254 (19)\ttotal: 550ms\tremaining: 825ms\n",
      "20:\tlearn: 2785.6738979\ttest: 2766.0608517\tbest: 2766.0608517 (20)\ttotal: 576ms\tremaining: 796ms\n",
      "21:\tlearn: 2749.0635852\ttest: 2730.3117971\tbest: 2730.3117971 (21)\ttotal: 602ms\tremaining: 766ms\n",
      "22:\tlearn: 2717.2345729\ttest: 2697.4612310\tbest: 2697.4612310 (22)\ttotal: 627ms\tremaining: 736ms\n",
      "23:\tlearn: 2683.1065562\ttest: 2662.9731394\tbest: 2662.9731394 (23)\ttotal: 656ms\tremaining: 711ms\n",
      "24:\tlearn: 2653.0662533\ttest: 2633.4028088\tbest: 2633.4028088 (24)\ttotal: 683ms\tremaining: 683ms\n",
      "25:\tlearn: 2626.4870332\ttest: 2606.6302192\tbest: 2606.6302192 (25)\ttotal: 708ms\tremaining: 653ms\n",
      "26:\tlearn: 2601.8529915\ttest: 2582.6239665\tbest: 2582.6239665 (26)\ttotal: 733ms\tremaining: 624ms\n",
      "27:\tlearn: 2579.3881786\ttest: 2560.3862644\tbest: 2560.3862644 (27)\ttotal: 760ms\tremaining: 597ms\n",
      "28:\tlearn: 2545.9027097\ttest: 2527.0201987\tbest: 2527.0201987 (28)\ttotal: 785ms\tremaining: 569ms\n",
      "29:\tlearn: 2525.7344499\ttest: 2505.7714339\tbest: 2505.7714339 (29)\ttotal: 810ms\tremaining: 540ms\n",
      "30:\tlearn: 2507.8473257\ttest: 2488.1222391\tbest: 2488.1222391 (30)\ttotal: 835ms\tremaining: 512ms\n",
      "31:\tlearn: 2481.1080112\ttest: 2461.6041609\tbest: 2461.6041609 (31)\ttotal: 866ms\tremaining: 487ms\n",
      "32:\tlearn: 2464.8940099\ttest: 2444.8369400\tbest: 2444.8369400 (32)\ttotal: 891ms\tremaining: 459ms\n",
      "33:\tlearn: 2450.5339300\ttest: 2430.2234610\tbest: 2430.2234610 (33)\ttotal: 918ms\tremaining: 432ms\n",
      "34:\tlearn: 2436.7023927\ttest: 2416.2435191\tbest: 2416.2435191 (34)\ttotal: 944ms\tremaining: 404ms\n",
      "35:\tlearn: 2420.6102399\ttest: 2400.5895651\tbest: 2400.5895651 (35)\ttotal: 969ms\tremaining: 377ms\n",
      "36:\tlearn: 2400.1408914\ttest: 2380.2293399\tbest: 2380.2293399 (36)\ttotal: 994ms\tremaining: 349ms\n",
      "37:\tlearn: 2386.9661828\ttest: 2367.8745958\tbest: 2367.8745958 (37)\ttotal: 1.02s\tremaining: 322ms\n",
      "38:\tlearn: 2374.9264364\ttest: 2355.3028385\tbest: 2355.3028385 (38)\ttotal: 1.05s\tremaining: 295ms\n",
      "39:\tlearn: 2357.5645000\ttest: 2338.2792148\tbest: 2338.2792148 (39)\ttotal: 1.07s\tremaining: 268ms\n",
      "40:\tlearn: 2346.8983895\ttest: 2327.1279637\tbest: 2327.1279637 (40)\ttotal: 1.09s\tremaining: 241ms\n",
      "41:\tlearn: 2333.0269473\ttest: 2313.5533537\tbest: 2313.5533537 (41)\ttotal: 1.12s\tremaining: 214ms\n",
      "42:\tlearn: 2323.3303491\ttest: 2304.2292912\tbest: 2304.2292912 (42)\ttotal: 1.15s\tremaining: 187ms\n",
      "43:\tlearn: 2308.8374596\ttest: 2290.0041017\tbest: 2290.0041017 (43)\ttotal: 1.17s\tremaining: 160ms\n",
      "44:\tlearn: 2299.4938406\ttest: 2280.9986930\tbest: 2280.9986930 (44)\ttotal: 1.2s\tremaining: 134ms\n",
      "45:\tlearn: 2290.7006868\ttest: 2272.4629275\tbest: 2272.4629275 (45)\ttotal: 1.23s\tremaining: 107ms\n",
      "46:\tlearn: 2283.0228634\ttest: 2264.7530246\tbest: 2264.7530246 (46)\ttotal: 1.25s\tremaining: 80.1ms\n",
      "47:\tlearn: 2271.1184993\ttest: 2252.7101975\tbest: 2252.7101975 (47)\ttotal: 1.28s\tremaining: 53.5ms\n",
      "48:\tlearn: 2259.7033573\ttest: 2241.5843861\tbest: 2241.5843861 (48)\ttotal: 1.32s\tremaining: 26.9ms\n",
      "49:\tlearn: 2249.2048236\ttest: 2231.3455872\tbest: 2231.3455872 (49)\ttotal: 1.35s\tremaining: 0us\n",
      "\n",
      "bestTest = 2231.345587\n",
      "bestIteration = 49\n",
      "\n",
      "1:\tloss: 2231.3455872\tbest: 2128.7095696 (0)\ttotal: 5.74s\tremaining: 22.9s\n",
      "0:\tlearn: 4273.2922458\ttest: 4251.4856348\tbest: 4251.4856348 (0)\ttotal: 45.1ms\tremaining: 7.17s\n",
      "1:\tlearn: 3229.5950832\ttest: 3204.9947679\tbest: 3204.9947679 (1)\ttotal: 75.2ms\tremaining: 5.94s\n",
      "2:\tlearn: 2806.7480503\ttest: 2779.4276341\tbest: 2779.4276341 (2)\ttotal: 112ms\tremaining: 5.84s\n",
      "3:\tlearn: 2547.8581906\ttest: 2522.8223560\tbest: 2522.8223560 (3)\ttotal: 155ms\tremaining: 6.04s\n",
      "4:\tlearn: 2414.4507912\ttest: 2386.2689233\tbest: 2386.2689233 (4)\ttotal: 200ms\tremaining: 6.19s\n",
      "5:\tlearn: 2315.2136348\ttest: 2290.8710640\tbest: 2290.8710640 (5)\ttotal: 231ms\tremaining: 5.92s\n",
      "6:\tlearn: 2263.0748759\ttest: 2234.8640318\tbest: 2234.8640318 (6)\ttotal: 260ms\tremaining: 5.68s\n",
      "7:\tlearn: 2212.4694503\ttest: 2186.2451462\tbest: 2186.2451462 (7)\ttotal: 293ms\tremaining: 5.56s\n",
      "8:\tlearn: 2190.1608414\ttest: 2166.6581667\tbest: 2166.6581667 (8)\ttotal: 325ms\tremaining: 5.45s\n",
      "9:\tlearn: 2158.4594192\ttest: 2134.9075558\tbest: 2134.9075558 (9)\ttotal: 356ms\tremaining: 5.34s\n",
      "10:\tlearn: 2137.6790856\ttest: 2112.8952020\tbest: 2112.8952020 (10)\ttotal: 390ms\tremaining: 5.28s\n",
      "11:\tlearn: 2112.8641523\ttest: 2089.5127846\tbest: 2089.5127846 (11)\ttotal: 419ms\tremaining: 5.17s\n",
      "12:\tlearn: 2098.7041831\ttest: 2077.6348152\tbest: 2077.6348152 (12)\ttotal: 449ms\tremaining: 5.08s\n",
      "13:\tlearn: 2090.6300381\ttest: 2069.7630472\tbest: 2069.7630472 (13)\ttotal: 480ms\tremaining: 5s\n",
      "14:\tlearn: 2063.9333849\ttest: 2043.8864910\tbest: 2043.8864910 (14)\ttotal: 511ms\tremaining: 4.93s\n",
      "15:\tlearn: 2047.2203571\ttest: 2031.8667074\tbest: 2031.8667074 (15)\ttotal: 543ms\tremaining: 4.88s\n",
      "16:\tlearn: 2037.3550901\ttest: 2020.6720108\tbest: 2020.6720108 (16)\ttotal: 581ms\tremaining: 4.89s\n",
      "17:\tlearn: 2018.7392847\ttest: 2001.9908914\tbest: 2001.9908914 (17)\ttotal: 614ms\tremaining: 4.84s\n",
      "18:\tlearn: 2002.2403944\ttest: 1988.4155036\tbest: 1988.4155036 (18)\ttotal: 645ms\tremaining: 4.79s\n",
      "19:\tlearn: 1995.1645055\ttest: 1982.9110557\tbest: 1982.9110557 (19)\ttotal: 677ms\tremaining: 4.74s\n",
      "20:\tlearn: 1984.8111119\ttest: 1972.5714497\tbest: 1972.5714497 (20)\ttotal: 711ms\tremaining: 4.71s\n",
      "21:\tlearn: 1974.6549815\ttest: 1964.2651438\tbest: 1964.2651438 (21)\ttotal: 743ms\tremaining: 4.66s\n",
      "22:\tlearn: 1968.8779821\ttest: 1958.8086311\tbest: 1958.8086311 (22)\ttotal: 777ms\tremaining: 4.63s\n",
      "23:\tlearn: 1963.8515206\ttest: 1954.2806159\tbest: 1954.2806159 (23)\ttotal: 810ms\tremaining: 4.59s\n",
      "24:\tlearn: 1958.3590453\ttest: 1949.6050032\tbest: 1949.6050032 (24)\ttotal: 843ms\tremaining: 4.55s\n",
      "25:\tlearn: 1948.8958646\ttest: 1938.2439860\tbest: 1938.2439860 (25)\ttotal: 876ms\tremaining: 4.51s\n",
      "26:\tlearn: 1944.6757063\ttest: 1934.7900597\tbest: 1934.7900597 (26)\ttotal: 907ms\tremaining: 4.47s\n",
      "27:\tlearn: 1938.1415016\ttest: 1928.7299265\tbest: 1928.7299265 (27)\ttotal: 938ms\tremaining: 4.42s\n",
      "28:\tlearn: 1931.6929229\ttest: 1923.4932246\tbest: 1923.4932246 (28)\ttotal: 971ms\tremaining: 4.39s\n",
      "29:\tlearn: 1924.7393485\ttest: 1918.7830950\tbest: 1918.7830950 (29)\ttotal: 1s\tremaining: 4.34s\n",
      "30:\tlearn: 1920.8483834\ttest: 1914.8822637\tbest: 1914.8822637 (30)\ttotal: 1.03s\tremaining: 4.29s\n",
      "31:\tlearn: 1913.7104173\ttest: 1908.9129673\tbest: 1908.9129673 (31)\ttotal: 1.06s\tremaining: 4.25s\n",
      "32:\tlearn: 1903.2385327\ttest: 1898.7242789\tbest: 1898.7242789 (32)\ttotal: 1.09s\tremaining: 4.2s\n",
      "33:\tlearn: 1898.4381939\ttest: 1893.6653964\tbest: 1893.6653964 (33)\ttotal: 1.12s\tremaining: 4.16s\n",
      "34:\tlearn: 1894.8176917\ttest: 1889.9305250\tbest: 1889.9305250 (34)\ttotal: 1.15s\tremaining: 4.11s\n",
      "35:\tlearn: 1893.1329645\ttest: 1889.1179863\tbest: 1889.1179863 (35)\ttotal: 1.18s\tremaining: 4.07s\n",
      "36:\tlearn: 1890.7790291\ttest: 1887.7166173\tbest: 1887.7166173 (36)\ttotal: 1.21s\tremaining: 4.04s\n",
      "37:\tlearn: 1884.4587230\ttest: 1881.1032812\tbest: 1881.1032812 (37)\ttotal: 1.24s\tremaining: 4s\n",
      "38:\tlearn: 1879.7307026\ttest: 1875.6102428\tbest: 1875.6102428 (38)\ttotal: 1.28s\tremaining: 3.97s\n",
      "39:\tlearn: 1876.7403209\ttest: 1872.8404280\tbest: 1872.8404280 (39)\ttotal: 1.31s\tremaining: 3.93s\n",
      "40:\tlearn: 1872.2590841\ttest: 1868.1300523\tbest: 1868.1300523 (40)\ttotal: 1.34s\tremaining: 3.89s\n",
      "41:\tlearn: 1871.2342284\ttest: 1867.0654117\tbest: 1867.0654117 (41)\ttotal: 1.37s\tremaining: 3.86s\n",
      "42:\tlearn: 1866.7436191\ttest: 1862.9027477\tbest: 1862.9027477 (42)\ttotal: 1.4s\tremaining: 3.82s\n",
      "43:\tlearn: 1864.5504397\ttest: 1860.3632686\tbest: 1860.3632686 (43)\ttotal: 1.44s\tremaining: 3.79s\n",
      "44:\tlearn: 1861.0116919\ttest: 1856.8457545\tbest: 1856.8457545 (44)\ttotal: 1.47s\tremaining: 3.76s\n",
      "45:\tlearn: 1860.0985092\ttest: 1856.3037716\tbest: 1856.3037716 (45)\ttotal: 1.51s\tremaining: 3.74s\n",
      "46:\tlearn: 1858.4956104\ttest: 1855.5638368\tbest: 1855.5638368 (46)\ttotal: 1.54s\tremaining: 3.7s\n",
      "47:\tlearn: 1855.5831650\ttest: 1853.4375616\tbest: 1853.4375616 (47)\ttotal: 1.57s\tremaining: 3.66s\n",
      "48:\tlearn: 1854.2514888\ttest: 1852.4037901\tbest: 1852.4037901 (48)\ttotal: 1.6s\tremaining: 3.62s\n",
      "49:\tlearn: 1847.4910467\ttest: 1844.7864070\tbest: 1844.7864070 (49)\ttotal: 1.63s\tremaining: 3.58s\n",
      "50:\tlearn: 1845.5666451\ttest: 1843.2703794\tbest: 1843.2703794 (50)\ttotal: 1.66s\tremaining: 3.54s\n",
      "51:\tlearn: 1843.4431309\ttest: 1840.4241968\tbest: 1840.4241968 (51)\ttotal: 1.69s\tremaining: 3.51s\n",
      "52:\tlearn: 1841.0849569\ttest: 1838.2388067\tbest: 1838.2388067 (52)\ttotal: 1.72s\tremaining: 3.47s\n",
      "53:\tlearn: 1838.2371133\ttest: 1835.9657422\tbest: 1835.9657422 (53)\ttotal: 1.75s\tremaining: 3.44s\n",
      "54:\tlearn: 1834.9756848\ttest: 1833.7836450\tbest: 1833.7836450 (54)\ttotal: 1.78s\tremaining: 3.4s\n",
      "55:\tlearn: 1833.9931372\ttest: 1833.0764601\tbest: 1833.0764601 (55)\ttotal: 1.81s\tremaining: 3.36s\n",
      "56:\tlearn: 1832.0399300\ttest: 1831.3988192\tbest: 1831.3988192 (56)\ttotal: 1.84s\tremaining: 3.33s\n",
      "57:\tlearn: 1829.9271789\ttest: 1829.3469857\tbest: 1829.3469857 (57)\ttotal: 1.88s\tremaining: 3.3s\n",
      "58:\tlearn: 1828.2067827\ttest: 1827.3860552\tbest: 1827.3860552 (58)\ttotal: 1.91s\tremaining: 3.26s\n",
      "59:\tlearn: 1824.2864966\ttest: 1823.7857491\tbest: 1823.7857491 (59)\ttotal: 1.94s\tremaining: 3.23s\n",
      "60:\tlearn: 1822.4257580\ttest: 1822.4651809\tbest: 1822.4651809 (60)\ttotal: 1.97s\tremaining: 3.2s\n",
      "61:\tlearn: 1820.0439245\ttest: 1819.9439831\tbest: 1819.9439831 (61)\ttotal: 2s\tremaining: 3.16s\n",
      "62:\tlearn: 1819.0337230\ttest: 1818.5861741\tbest: 1818.5861741 (62)\ttotal: 2.03s\tremaining: 3.13s\n",
      "63:\tlearn: 1817.4227100\ttest: 1816.7721455\tbest: 1816.7721455 (63)\ttotal: 2.06s\tremaining: 3.1s\n",
      "64:\tlearn: 1816.0841590\ttest: 1815.3227076\tbest: 1815.3227076 (64)\ttotal: 2.1s\tremaining: 3.06s\n",
      "65:\tlearn: 1814.0532702\ttest: 1812.7998075\tbest: 1812.7998075 (65)\ttotal: 2.13s\tremaining: 3.04s\n",
      "66:\tlearn: 1812.5233233\ttest: 1811.6573090\tbest: 1811.6573090 (66)\ttotal: 2.17s\tremaining: 3.01s\n",
      "67:\tlearn: 1810.8396318\ttest: 1809.6714509\tbest: 1809.6714509 (67)\ttotal: 2.2s\tremaining: 2.97s\n",
      "68:\tlearn: 1809.6428590\ttest: 1808.7612140\tbest: 1808.7612140 (68)\ttotal: 2.23s\tremaining: 2.94s\n",
      "69:\tlearn: 1807.5596226\ttest: 1806.9507153\tbest: 1806.9507153 (69)\ttotal: 2.26s\tremaining: 2.91s\n",
      "70:\tlearn: 1805.6014582\ttest: 1805.3314092\tbest: 1805.3314092 (70)\ttotal: 2.29s\tremaining: 2.88s\n",
      "71:\tlearn: 1803.5329735\ttest: 1803.3668193\tbest: 1803.3668193 (71)\ttotal: 2.33s\tremaining: 2.84s\n",
      "72:\tlearn: 1802.5675085\ttest: 1802.6853662\tbest: 1802.6853662 (72)\ttotal: 2.36s\tremaining: 2.81s\n",
      "73:\tlearn: 1800.4516545\ttest: 1801.0588045\tbest: 1801.0588045 (73)\ttotal: 2.39s\tremaining: 2.78s\n",
      "74:\tlearn: 1800.0100680\ttest: 1800.5951956\tbest: 1800.5951956 (74)\ttotal: 2.42s\tremaining: 2.75s\n",
      "75:\tlearn: 1799.3400390\ttest: 1799.9268957\tbest: 1799.9268957 (75)\ttotal: 2.46s\tremaining: 2.71s\n",
      "76:\tlearn: 1797.8862053\ttest: 1798.5712205\tbest: 1798.5712205 (76)\ttotal: 2.49s\tremaining: 2.68s\n",
      "77:\tlearn: 1796.8498810\ttest: 1795.9338538\tbest: 1795.9338538 (77)\ttotal: 2.52s\tremaining: 2.65s\n",
      "78:\tlearn: 1795.6090642\ttest: 1794.8469567\tbest: 1794.8469567 (78)\ttotal: 2.55s\tremaining: 2.62s\n",
      "79:\tlearn: 1794.2925075\ttest: 1793.5153813\tbest: 1793.5153813 (79)\ttotal: 2.59s\tremaining: 2.59s\n",
      "80:\tlearn: 1793.0199255\ttest: 1792.2085366\tbest: 1792.2085366 (80)\ttotal: 2.62s\tremaining: 2.56s\n",
      "81:\tlearn: 1791.7880748\ttest: 1792.1206769\tbest: 1792.1206769 (81)\ttotal: 2.66s\tremaining: 2.53s\n",
      "82:\tlearn: 1790.8522303\ttest: 1791.5946518\tbest: 1791.5946518 (82)\ttotal: 2.7s\tremaining: 2.5s\n",
      "83:\tlearn: 1789.4918047\ttest: 1790.0155126\tbest: 1790.0155126 (83)\ttotal: 2.73s\tremaining: 2.47s\n",
      "84:\tlearn: 1788.4808648\ttest: 1788.8906367\tbest: 1788.8906367 (84)\ttotal: 2.77s\tremaining: 2.44s\n",
      "85:\tlearn: 1786.8914814\ttest: 1788.2620916\tbest: 1788.2620916 (85)\ttotal: 2.8s\tremaining: 2.41s\n",
      "86:\tlearn: 1785.7290341\ttest: 1787.5009682\tbest: 1787.5009682 (86)\ttotal: 2.83s\tremaining: 2.38s\n",
      "87:\tlearn: 1784.7807008\ttest: 1786.0008237\tbest: 1786.0008237 (87)\ttotal: 2.86s\tremaining: 2.34s\n",
      "88:\tlearn: 1783.3265828\ttest: 1784.5767511\tbest: 1784.5767511 (88)\ttotal: 2.89s\tremaining: 2.31s\n",
      "89:\tlearn: 1781.6940139\ttest: 1783.7653023\tbest: 1783.7653023 (89)\ttotal: 2.92s\tremaining: 2.27s\n",
      "90:\tlearn: 1780.2822517\ttest: 1782.6363676\tbest: 1782.6363676 (90)\ttotal: 2.95s\tremaining: 2.24s\n",
      "91:\tlearn: 1779.4251575\ttest: 1782.0700564\tbest: 1782.0700564 (91)\ttotal: 2.98s\tremaining: 2.21s\n",
      "92:\tlearn: 1777.1815984\ttest: 1779.4399127\tbest: 1779.4399127 (92)\ttotal: 3.02s\tremaining: 2.17s\n",
      "93:\tlearn: 1776.4512661\ttest: 1778.6518524\tbest: 1778.6518524 (93)\ttotal: 3.05s\tremaining: 2.14s\n",
      "94:\tlearn: 1775.4452877\ttest: 1777.8554839\tbest: 1777.8554839 (94)\ttotal: 3.08s\tremaining: 2.11s\n",
      "95:\tlearn: 1773.7154323\ttest: 1776.0796189\tbest: 1776.0796189 (95)\ttotal: 3.11s\tremaining: 2.07s\n",
      "96:\tlearn: 1773.0065563\ttest: 1774.8011378\tbest: 1774.8011378 (96)\ttotal: 3.14s\tremaining: 2.04s\n",
      "97:\tlearn: 1771.8412125\ttest: 1773.4110936\tbest: 1773.4110936 (97)\ttotal: 3.17s\tremaining: 2.01s\n",
      "98:\tlearn: 1770.7036809\ttest: 1772.6184690\tbest: 1772.6184690 (98)\ttotal: 3.2s\tremaining: 1.97s\n",
      "99:\tlearn: 1769.8748908\ttest: 1772.1959689\tbest: 1772.1959689 (99)\ttotal: 3.23s\tremaining: 1.94s\n",
      "100:\tlearn: 1768.9307761\ttest: 1771.8415174\tbest: 1771.8415174 (100)\ttotal: 3.27s\tremaining: 1.91s\n",
      "101:\tlearn: 1767.9224530\ttest: 1770.5004958\tbest: 1770.5004958 (101)\ttotal: 3.3s\tremaining: 1.88s\n",
      "102:\tlearn: 1766.9835514\ttest: 1769.3971504\tbest: 1769.3971504 (102)\ttotal: 3.33s\tremaining: 1.84s\n",
      "103:\tlearn: 1766.1587957\ttest: 1768.8836389\tbest: 1768.8836389 (103)\ttotal: 3.36s\tremaining: 1.81s\n",
      "104:\tlearn: 1765.3924605\ttest: 1767.7693488\tbest: 1767.7693488 (104)\ttotal: 3.39s\tremaining: 1.78s\n",
      "105:\tlearn: 1764.7459640\ttest: 1767.7021514\tbest: 1767.7021514 (105)\ttotal: 3.42s\tremaining: 1.75s\n",
      "106:\tlearn: 1763.1076251\ttest: 1766.7061156\tbest: 1766.7061156 (106)\ttotal: 3.46s\tremaining: 1.71s\n",
      "107:\tlearn: 1761.1891503\ttest: 1764.8345815\tbest: 1764.8345815 (107)\ttotal: 3.49s\tremaining: 1.68s\n",
      "108:\tlearn: 1760.2809721\ttest: 1764.4319448\tbest: 1764.4319448 (108)\ttotal: 3.52s\tremaining: 1.65s\n",
      "109:\tlearn: 1760.0167250\ttest: 1764.1874089\tbest: 1764.1874089 (109)\ttotal: 3.56s\tremaining: 1.61s\n",
      "110:\tlearn: 1759.3880706\ttest: 1763.6903364\tbest: 1763.6903364 (110)\ttotal: 3.59s\tremaining: 1.59s\n",
      "111:\tlearn: 1758.6022111\ttest: 1763.4069875\tbest: 1763.4069875 (111)\ttotal: 3.63s\tremaining: 1.56s\n",
      "112:\tlearn: 1757.9561121\ttest: 1762.6212283\tbest: 1762.6212283 (112)\ttotal: 3.68s\tremaining: 1.53s\n",
      "113:\tlearn: 1757.3613038\ttest: 1762.1208999\tbest: 1762.1208999 (113)\ttotal: 3.72s\tremaining: 1.5s\n",
      "114:\tlearn: 1756.5248014\ttest: 1762.2510761\tbest: 1762.1208999 (113)\ttotal: 3.76s\tremaining: 1.47s\n",
      "115:\tlearn: 1755.9059600\ttest: 1761.6997704\tbest: 1761.6997704 (115)\ttotal: 3.8s\tremaining: 1.44s\n",
      "116:\tlearn: 1755.4611641\ttest: 1761.4165497\tbest: 1761.4165497 (116)\ttotal: 3.83s\tremaining: 1.41s\n",
      "117:\tlearn: 1754.7382604\ttest: 1761.1490099\tbest: 1761.1490099 (117)\ttotal: 3.87s\tremaining: 1.38s\n",
      "118:\tlearn: 1754.3166932\ttest: 1760.6556121\tbest: 1760.6556121 (118)\ttotal: 3.9s\tremaining: 1.34s\n",
      "119:\tlearn: 1753.6074420\ttest: 1759.9798937\tbest: 1759.9798937 (119)\ttotal: 3.93s\tremaining: 1.31s\n",
      "120:\tlearn: 1752.8575871\ttest: 1759.3281290\tbest: 1759.3281290 (120)\ttotal: 3.96s\tremaining: 1.28s\n",
      "121:\tlearn: 1751.1971052\ttest: 1758.6132140\tbest: 1758.6132140 (121)\ttotal: 3.99s\tremaining: 1.24s\n",
      "122:\tlearn: 1750.4722825\ttest: 1758.2981389\tbest: 1758.2981389 (122)\ttotal: 4.02s\tremaining: 1.21s\n",
      "123:\tlearn: 1749.2613487\ttest: 1756.8242112\tbest: 1756.8242112 (123)\ttotal: 4.05s\tremaining: 1.18s\n",
      "124:\tlearn: 1748.8762968\ttest: 1757.2649297\tbest: 1756.8242112 (123)\ttotal: 4.08s\tremaining: 1.14s\n",
      "125:\tlearn: 1748.2486835\ttest: 1756.9559730\tbest: 1756.8242112 (123)\ttotal: 4.12s\tremaining: 1.11s\n",
      "126:\tlearn: 1747.8049132\ttest: 1756.6400297\tbest: 1756.6400297 (126)\ttotal: 4.14s\tremaining: 1.08s\n",
      "127:\tlearn: 1746.7017720\ttest: 1755.1527140\tbest: 1755.1527140 (127)\ttotal: 4.18s\tremaining: 1.04s\n",
      "128:\tlearn: 1746.1333072\ttest: 1754.0729444\tbest: 1754.0729444 (128)\ttotal: 4.21s\tremaining: 1.01s\n",
      "129:\tlearn: 1745.7608157\ttest: 1753.9751598\tbest: 1753.9751598 (129)\ttotal: 4.24s\tremaining: 979ms\n",
      "130:\tlearn: 1745.6477378\ttest: 1753.9091330\tbest: 1753.9091330 (130)\ttotal: 4.28s\tremaining: 947ms\n",
      "131:\tlearn: 1745.4088095\ttest: 1753.6808286\tbest: 1753.6808286 (131)\ttotal: 4.31s\tremaining: 914ms\n",
      "132:\tlearn: 1744.8508358\ttest: 1753.4750943\tbest: 1753.4750943 (132)\ttotal: 4.34s\tremaining: 881ms\n",
      "133:\tlearn: 1744.0188677\ttest: 1752.7064621\tbest: 1752.7064621 (133)\ttotal: 4.37s\tremaining: 848ms\n",
      "134:\tlearn: 1743.3145560\ttest: 1752.1814334\tbest: 1752.1814334 (134)\ttotal: 4.4s\tremaining: 815ms\n",
      "135:\tlearn: 1743.0994665\ttest: 1751.8117334\tbest: 1751.8117334 (135)\ttotal: 4.43s\tremaining: 782ms\n",
      "136:\tlearn: 1742.2286525\ttest: 1751.4794347\tbest: 1751.4794347 (136)\ttotal: 4.46s\tremaining: 749ms\n",
      "137:\tlearn: 1741.3978183\ttest: 1750.8953770\tbest: 1750.8953770 (137)\ttotal: 4.49s\tremaining: 716ms\n",
      "138:\tlearn: 1740.7928925\ttest: 1750.3528725\tbest: 1750.3528725 (138)\ttotal: 4.52s\tremaining: 683ms\n",
      "139:\tlearn: 1740.0911533\ttest: 1749.7167219\tbest: 1749.7167219 (139)\ttotal: 4.56s\tremaining: 651ms\n",
      "140:\tlearn: 1739.6304923\ttest: 1748.9646147\tbest: 1748.9646147 (140)\ttotal: 4.59s\tremaining: 618ms\n",
      "141:\tlearn: 1739.1177830\ttest: 1748.9650371\tbest: 1748.9646147 (140)\ttotal: 4.62s\tremaining: 585ms\n",
      "142:\tlearn: 1738.2173792\ttest: 1748.1035178\tbest: 1748.1035178 (142)\ttotal: 4.65s\tremaining: 553ms\n",
      "143:\tlearn: 1737.8805469\ttest: 1747.7288858\tbest: 1747.7288858 (143)\ttotal: 4.68s\tremaining: 520ms\n",
      "144:\tlearn: 1737.3890701\ttest: 1747.4022813\tbest: 1747.4022813 (144)\ttotal: 4.71s\tremaining: 488ms\n",
      "145:\tlearn: 1736.1884622\ttest: 1746.0288945\tbest: 1746.0288945 (145)\ttotal: 4.75s\tremaining: 456ms\n",
      "146:\tlearn: 1735.6466075\ttest: 1745.3487711\tbest: 1745.3487711 (146)\ttotal: 4.79s\tremaining: 423ms\n",
      "147:\tlearn: 1735.1729066\ttest: 1744.9435766\tbest: 1744.9435766 (147)\ttotal: 4.82s\tremaining: 391ms\n",
      "148:\tlearn: 1734.8171019\ttest: 1744.7749220\tbest: 1744.7749220 (148)\ttotal: 4.86s\tremaining: 359ms\n",
      "149:\tlearn: 1734.1781912\ttest: 1744.6591966\tbest: 1744.6591966 (149)\ttotal: 4.89s\tremaining: 326ms\n",
      "150:\tlearn: 1733.8172197\ttest: 1744.6354033\tbest: 1744.6354033 (150)\ttotal: 4.92s\tremaining: 294ms\n",
      "151:\tlearn: 1732.9078414\ttest: 1743.9381069\tbest: 1743.9381069 (151)\ttotal: 4.96s\tremaining: 261ms\n",
      "152:\tlearn: 1732.8814964\ttest: 1743.9854528\tbest: 1743.9381069 (151)\ttotal: 4.99s\tremaining: 228ms\n",
      "153:\tlearn: 1732.0335716\ttest: 1743.1512184\tbest: 1743.1512184 (153)\ttotal: 5.02s\tremaining: 196ms\n",
      "154:\tlearn: 1731.3263003\ttest: 1742.2009120\tbest: 1742.2009120 (154)\ttotal: 5.06s\tremaining: 163ms\n",
      "155:\tlearn: 1730.5750060\ttest: 1742.1325860\tbest: 1742.1325860 (155)\ttotal: 5.09s\tremaining: 130ms\n",
      "156:\tlearn: 1730.2760546\ttest: 1741.6715043\tbest: 1741.6715043 (156)\ttotal: 5.12s\tremaining: 97.8ms\n",
      "157:\tlearn: 1729.6601714\ttest: 1741.2123513\tbest: 1741.2123513 (157)\ttotal: 5.15s\tremaining: 65.2ms\n",
      "158:\tlearn: 1729.5253533\ttest: 1741.0345325\tbest: 1741.0345325 (158)\ttotal: 5.18s\tremaining: 32.6ms\n",
      "159:\tlearn: 1728.8615510\ttest: 1740.9543883\tbest: 1740.9543883 (159)\ttotal: 5.21s\tremaining: 0us\n",
      "\n",
      "bestTest = 1740.954388\n",
      "bestIteration = 159\n",
      "\n",
      "2:\tloss: 1740.9543883\tbest: 1740.9543883 (2)\ttotal: 11s\tremaining: 25.6s\n",
      "0:\tlearn: 6290.0567474\ttest: 6270.4518997\tbest: 6270.4518997 (0)\ttotal: 55.5ms\tremaining: 6.61s\n",
      "1:\tlearn: 6040.7628996\ttest: 6021.8162248\tbest: 6021.8162248 (1)\ttotal: 101ms\tremaining: 5.96s\n",
      "2:\tlearn: 5808.1523340\ttest: 5789.3851995\tbest: 5789.3851995 (2)\ttotal: 149ms\tremaining: 5.82s\n",
      "3:\tlearn: 5588.7573024\ttest: 5569.8157381\tbest: 5569.8157381 (3)\ttotal: 186ms\tremaining: 5.4s\n",
      "4:\tlearn: 5383.4241566\ttest: 5363.9316734\tbest: 5363.9316734 (4)\ttotal: 225ms\tremaining: 5.18s\n",
      "5:\tlearn: 5188.4203290\ttest: 5169.3350995\tbest: 5169.3350995 (5)\ttotal: 262ms\tremaining: 4.97s\n",
      "6:\tlearn: 5004.3979542\ttest: 4985.7925314\tbest: 4985.7925314 (6)\ttotal: 301ms\tremaining: 4.86s\n",
      "7:\tlearn: 4832.6964962\ttest: 4814.2615081\tbest: 4814.2615081 (7)\ttotal: 342ms\tremaining: 4.79s\n",
      "8:\tlearn: 4665.6481426\ttest: 4646.8609512\tbest: 4646.8609512 (8)\ttotal: 384ms\tremaining: 4.73s\n",
      "9:\tlearn: 4510.5713142\ttest: 4491.5703200\tbest: 4491.5703200 (9)\ttotal: 425ms\tremaining: 4.68s\n",
      "10:\tlearn: 4365.6480614\ttest: 4346.0669785\tbest: 4346.0669785 (10)\ttotal: 466ms\tremaining: 4.62s\n",
      "11:\tlearn: 4228.7013769\ttest: 4209.5199486\tbest: 4209.5199486 (11)\ttotal: 505ms\tremaining: 4.54s\n",
      "12:\tlearn: 4096.8276200\ttest: 4077.3274240\tbest: 4077.3274240 (12)\ttotal: 544ms\tremaining: 4.48s\n",
      "13:\tlearn: 3976.4808286\ttest: 3956.9361916\tbest: 3956.9361916 (13)\ttotal: 588ms\tremaining: 4.45s\n",
      "14:\tlearn: 3862.6183413\ttest: 3843.2859623\tbest: 3843.2859623 (14)\ttotal: 629ms\tremaining: 4.41s\n",
      "15:\tlearn: 3758.3530862\ttest: 3739.4439277\tbest: 3739.4439277 (15)\ttotal: 665ms\tremaining: 4.32s\n",
      "16:\tlearn: 3658.7584689\ttest: 3639.5809671\tbest: 3639.5809671 (16)\ttotal: 703ms\tremaining: 4.26s\n",
      "17:\tlearn: 3565.4922392\ttest: 3546.1635521\tbest: 3546.1635521 (17)\ttotal: 742ms\tremaining: 4.2s\n",
      "18:\tlearn: 3475.5900529\ttest: 3456.1135305\tbest: 3456.1135305 (18)\ttotal: 778ms\tremaining: 4.13s\n",
      "19:\tlearn: 3393.3830768\ttest: 3373.8039612\tbest: 3373.8039612 (19)\ttotal: 818ms\tremaining: 4.09s\n",
      "20:\tlearn: 3316.2989484\ttest: 3296.3559503\tbest: 3296.3559503 (20)\ttotal: 854ms\tremaining: 4.03s\n",
      "21:\tlearn: 3241.6424317\ttest: 3221.5287492\tbest: 3221.5287492 (21)\ttotal: 894ms\tremaining: 3.98s\n",
      "22:\tlearn: 3174.2476628\ttest: 3154.4709558\tbest: 3154.4709558 (22)\ttotal: 945ms\tremaining: 3.98s\n",
      "23:\tlearn: 3107.4640702\ttest: 3087.5366982\tbest: 3087.5366982 (23)\ttotal: 980ms\tremaining: 3.92s\n",
      "24:\tlearn: 3046.0674807\ttest: 3026.0145700\tbest: 3026.0145700 (24)\ttotal: 1.02s\tremaining: 3.86s\n",
      "25:\tlearn: 2988.2440942\ttest: 2968.5405783\tbest: 2968.5405783 (25)\ttotal: 1.05s\tremaining: 3.81s\n",
      "26:\tlearn: 2936.0164166\ttest: 2916.4363970\tbest: 2916.4363970 (26)\ttotal: 1.09s\tremaining: 3.75s\n",
      "27:\tlearn: 2887.6850816\ttest: 2867.9836828\tbest: 2867.9836828 (27)\ttotal: 1.13s\tremaining: 3.71s\n",
      "28:\tlearn: 2840.9203297\ttest: 2821.1097808\tbest: 2821.1097808 (28)\ttotal: 1.17s\tremaining: 3.66s\n",
      "29:\tlearn: 2797.9071635\ttest: 2778.4588912\tbest: 2778.4588912 (29)\ttotal: 1.2s\tremaining: 3.61s\n",
      "30:\tlearn: 2757.1359066\ttest: 2737.3154964\tbest: 2737.3154964 (30)\ttotal: 1.24s\tremaining: 3.56s\n",
      "31:\tlearn: 2719.1137321\ttest: 2699.2260287\tbest: 2699.2260287 (31)\ttotal: 1.27s\tremaining: 3.51s\n",
      "32:\tlearn: 2684.0203701\ttest: 2664.4665108\tbest: 2664.4665108 (32)\ttotal: 1.31s\tremaining: 3.47s\n",
      "33:\tlearn: 2648.0436991\ttest: 2628.4539594\tbest: 2628.4539594 (33)\ttotal: 1.35s\tremaining: 3.42s\n",
      "34:\tlearn: 2613.3105873\ttest: 2593.6577648\tbest: 2593.6577648 (34)\ttotal: 1.39s\tremaining: 3.37s\n",
      "35:\tlearn: 2580.4624075\ttest: 2561.2042029\tbest: 2561.2042029 (35)\ttotal: 1.43s\tremaining: 3.33s\n",
      "36:\tlearn: 2551.3494614\ttest: 2532.4962611\tbest: 2532.4962611 (36)\ttotal: 1.47s\tremaining: 3.29s\n",
      "37:\tlearn: 2524.6534837\ttest: 2505.5197838\tbest: 2505.5197838 (37)\ttotal: 1.5s\tremaining: 3.24s\n",
      "38:\tlearn: 2498.9743517\ttest: 2479.9737676\tbest: 2479.9737676 (38)\ttotal: 1.55s\tremaining: 3.22s\n",
      "39:\tlearn: 2475.5312031\ttest: 2456.6154955\tbest: 2456.6154955 (39)\ttotal: 1.59s\tremaining: 3.17s\n",
      "40:\tlearn: 2450.1345696\ttest: 2430.9783339\tbest: 2430.9783339 (40)\ttotal: 1.63s\tremaining: 3.14s\n",
      "41:\tlearn: 2426.1647434\ttest: 2407.2014958\tbest: 2407.2014958 (41)\ttotal: 1.66s\tremaining: 3.09s\n",
      "42:\tlearn: 2406.1017856\ttest: 2387.2216107\tbest: 2387.2216107 (42)\ttotal: 1.7s\tremaining: 3.04s\n",
      "43:\tlearn: 2385.1578460\ttest: 2366.2389278\tbest: 2366.2389278 (43)\ttotal: 1.74s\tremaining: 3s\n",
      "44:\tlearn: 2366.6222961\ttest: 2348.1508622\tbest: 2348.1508622 (44)\ttotal: 1.77s\tremaining: 2.95s\n",
      "45:\tlearn: 2348.4083315\ttest: 2329.8146930\tbest: 2329.8146930 (45)\ttotal: 1.81s\tremaining: 2.91s\n",
      "46:\tlearn: 2330.6343891\ttest: 2312.3482329\tbest: 2312.3482329 (46)\ttotal: 1.84s\tremaining: 2.87s\n",
      "47:\tlearn: 2314.6118240\ttest: 2296.8913442\tbest: 2296.8913442 (47)\ttotal: 1.88s\tremaining: 2.82s\n",
      "48:\tlearn: 2299.9495020\ttest: 2282.4655153\tbest: 2282.4655153 (48)\ttotal: 1.92s\tremaining: 2.78s\n",
      "49:\tlearn: 2284.8029883\ttest: 2267.8154810\tbest: 2267.8154810 (49)\ttotal: 1.95s\tremaining: 2.73s\n",
      "50:\tlearn: 2272.1086872\ttest: 2255.0678437\tbest: 2255.0678437 (50)\ttotal: 1.99s\tremaining: 2.69s\n",
      "51:\tlearn: 2258.9499337\ttest: 2242.0409450\tbest: 2242.0409450 (51)\ttotal: 2.03s\tremaining: 2.65s\n",
      "52:\tlearn: 2246.0800499\ttest: 2229.6264786\tbest: 2229.6264786 (52)\ttotal: 2.06s\tremaining: 2.61s\n",
      "53:\tlearn: 2235.5770013\ttest: 2218.9867766\tbest: 2218.9867766 (53)\ttotal: 2.1s\tremaining: 2.57s\n",
      "54:\tlearn: 2224.4586011\ttest: 2208.2258097\tbest: 2208.2258097 (54)\ttotal: 2.14s\tremaining: 2.52s\n",
      "55:\tlearn: 2212.6437887\ttest: 2196.0734997\tbest: 2196.0734997 (55)\ttotal: 2.17s\tremaining: 2.48s\n",
      "56:\tlearn: 2202.2357168\ttest: 2185.7376147\tbest: 2185.7376147 (56)\ttotal: 2.21s\tremaining: 2.44s\n",
      "57:\tlearn: 2192.0586813\ttest: 2175.5086537\tbest: 2175.5086537 (57)\ttotal: 2.25s\tremaining: 2.41s\n",
      "58:\tlearn: 2182.1829044\ttest: 2166.0319661\tbest: 2166.0319661 (58)\ttotal: 2.3s\tremaining: 2.38s\n",
      "59:\tlearn: 2173.0456521\ttest: 2156.9127259\tbest: 2156.9127259 (59)\ttotal: 2.34s\tremaining: 2.34s\n",
      "60:\tlearn: 2164.7851694\ttest: 2148.6930769\tbest: 2148.6930769 (60)\ttotal: 2.39s\tremaining: 2.31s\n",
      "61:\tlearn: 2156.1675753\ttest: 2140.4931891\tbest: 2140.4931891 (61)\ttotal: 2.43s\tremaining: 2.27s\n",
      "62:\tlearn: 2148.5779816\ttest: 2132.7534353\tbest: 2132.7534353 (62)\ttotal: 2.47s\tremaining: 2.23s\n",
      "63:\tlearn: 2140.3238852\ttest: 2124.7553556\tbest: 2124.7553556 (63)\ttotal: 2.51s\tremaining: 2.19s\n",
      "64:\tlearn: 2132.5179777\ttest: 2117.6134629\tbest: 2117.6134629 (64)\ttotal: 2.54s\tremaining: 2.15s\n",
      "65:\tlearn: 2126.4473896\ttest: 2111.6901995\tbest: 2111.6901995 (65)\ttotal: 2.58s\tremaining: 2.11s\n",
      "66:\tlearn: 2119.8396540\ttest: 2105.1376172\tbest: 2105.1376172 (66)\ttotal: 2.63s\tremaining: 2.08s\n",
      "67:\tlearn: 2113.8699880\ttest: 2099.2445636\tbest: 2099.2445636 (67)\ttotal: 2.66s\tremaining: 2.03s\n",
      "68:\tlearn: 2107.3726654\ttest: 2092.8020623\tbest: 2092.8020623 (68)\ttotal: 2.7s\tremaining: 1.99s\n",
      "69:\tlearn: 2101.9867362\ttest: 2087.5714375\tbest: 2087.5714375 (69)\ttotal: 2.73s\tremaining: 1.95s\n",
      "70:\tlearn: 2096.0618527\ttest: 2081.7410644\tbest: 2081.7410644 (70)\ttotal: 2.77s\tremaining: 1.91s\n",
      "71:\tlearn: 2091.0302600\ttest: 2076.6208282\tbest: 2076.6208282 (71)\ttotal: 2.81s\tremaining: 1.87s\n",
      "72:\tlearn: 2085.3068388\ttest: 2071.0773285\tbest: 2071.0773285 (72)\ttotal: 2.84s\tremaining: 1.83s\n",
      "73:\tlearn: 2081.1512803\ttest: 2066.9682156\tbest: 2066.9682156 (73)\ttotal: 2.88s\tremaining: 1.79s\n",
      "74:\tlearn: 2076.6022087\ttest: 2062.5564082\tbest: 2062.5564082 (74)\ttotal: 2.92s\tremaining: 1.75s\n",
      "75:\tlearn: 2071.5287045\ttest: 2057.6718421\tbest: 2057.6718421 (75)\ttotal: 2.95s\tremaining: 1.71s\n",
      "76:\tlearn: 2067.3151204\ttest: 2053.5172387\tbest: 2053.5172387 (76)\ttotal: 2.99s\tremaining: 1.67s\n",
      "77:\tlearn: 2062.0484948\ttest: 2048.3573977\tbest: 2048.3573977 (77)\ttotal: 3.03s\tremaining: 1.63s\n",
      "78:\tlearn: 2057.8656364\ttest: 2044.2925482\tbest: 2044.2925482 (78)\ttotal: 3.06s\tremaining: 1.59s\n",
      "79:\tlearn: 2054.4413913\ttest: 2040.9730104\tbest: 2040.9730104 (79)\ttotal: 3.1s\tremaining: 1.55s\n",
      "80:\tlearn: 2051.2711591\ttest: 2037.9562148\tbest: 2037.9562148 (80)\ttotal: 3.14s\tremaining: 1.51s\n",
      "81:\tlearn: 2046.6098695\ttest: 2033.2513158\tbest: 2033.2513158 (81)\ttotal: 3.18s\tremaining: 1.47s\n",
      "82:\tlearn: 2043.5472790\ttest: 2030.1652092\tbest: 2030.1652092 (82)\ttotal: 3.22s\tremaining: 1.43s\n",
      "83:\tlearn: 2039.7103508\ttest: 2026.6593813\tbest: 2026.6593813 (83)\ttotal: 3.25s\tremaining: 1.4s\n",
      "84:\tlearn: 2035.8030707\ttest: 2022.8846943\tbest: 2022.8846943 (84)\ttotal: 3.29s\tremaining: 1.35s\n",
      "85:\tlearn: 2032.7872707\ttest: 2020.1827611\tbest: 2020.1827611 (85)\ttotal: 3.33s\tremaining: 1.32s\n",
      "86:\tlearn: 2030.1294419\ttest: 2017.5780243\tbest: 2017.5780243 (86)\ttotal: 3.37s\tremaining: 1.28s\n",
      "87:\tlearn: 2027.0200286\ttest: 2014.4063073\tbest: 2014.4063073 (87)\ttotal: 3.41s\tremaining: 1.24s\n",
      "88:\tlearn: 2024.2193119\ttest: 2011.7661481\tbest: 2011.7661481 (88)\ttotal: 3.45s\tremaining: 1.2s\n",
      "89:\tlearn: 2021.0933782\ttest: 2008.9857927\tbest: 2008.9857927 (89)\ttotal: 3.49s\tremaining: 1.16s\n",
      "90:\tlearn: 2017.5883876\ttest: 2005.7062300\tbest: 2005.7062300 (90)\ttotal: 3.53s\tremaining: 1.13s\n",
      "91:\tlearn: 2014.6633293\ttest: 2002.8890525\tbest: 2002.8890525 (91)\ttotal: 3.57s\tremaining: 1.09s\n",
      "92:\tlearn: 2012.4389625\ttest: 2000.7446838\tbest: 2000.7446838 (92)\ttotal: 3.61s\tremaining: 1.05s\n",
      "93:\tlearn: 2009.3327880\ttest: 1997.9269307\tbest: 1997.9269307 (93)\ttotal: 3.65s\tremaining: 1.01s\n",
      "94:\tlearn: 2005.6385627\ttest: 1994.6760196\tbest: 1994.6760196 (94)\ttotal: 3.69s\tremaining: 970ms\n",
      "95:\tlearn: 2003.4163331\ttest: 1992.5344899\tbest: 1992.5344899 (95)\ttotal: 3.73s\tremaining: 932ms\n",
      "96:\tlearn: 2001.2843015\ttest: 1990.5021217\tbest: 1990.5021217 (96)\ttotal: 3.77s\tremaining: 893ms\n",
      "97:\tlearn: 1998.7458710\ttest: 1988.0179237\tbest: 1988.0179237 (97)\ttotal: 3.81s\tremaining: 855ms\n",
      "98:\tlearn: 1995.3275532\ttest: 1984.8832235\tbest: 1984.8832235 (98)\ttotal: 3.85s\tremaining: 817ms\n",
      "99:\tlearn: 1992.7751734\ttest: 1982.4246250\tbest: 1982.4246250 (99)\ttotal: 3.89s\tremaining: 778ms\n",
      "100:\tlearn: 1990.7017533\ttest: 1980.3496784\tbest: 1980.3496784 (100)\ttotal: 3.93s\tremaining: 739ms\n",
      "101:\tlearn: 1988.6613190\ttest: 1978.3351946\tbest: 1978.3351946 (101)\ttotal: 3.97s\tremaining: 700ms\n",
      "102:\tlearn: 1986.5156490\ttest: 1976.2976043\tbest: 1976.2976043 (102)\ttotal: 4.01s\tremaining: 662ms\n",
      "103:\tlearn: 1984.6400930\ttest: 1974.3314074\tbest: 1974.3314074 (103)\ttotal: 4.05s\tremaining: 624ms\n",
      "104:\tlearn: 1982.9960515\ttest: 1972.8646622\tbest: 1972.8646622 (104)\ttotal: 4.09s\tremaining: 585ms\n",
      "105:\tlearn: 1980.4824602\ttest: 1970.3508705\tbest: 1970.3508705 (105)\ttotal: 4.13s\tremaining: 546ms\n",
      "106:\tlearn: 1978.6691019\ttest: 1968.5604634\tbest: 1968.5604634 (106)\ttotal: 4.17s\tremaining: 507ms\n",
      "107:\tlearn: 1977.0408465\ttest: 1966.9299452\tbest: 1966.9299452 (107)\ttotal: 4.21s\tremaining: 468ms\n",
      "108:\tlearn: 1974.4757551\ttest: 1964.7616806\tbest: 1964.7616806 (108)\ttotal: 4.25s\tremaining: 429ms\n",
      "109:\tlearn: 1972.1145987\ttest: 1962.4475779\tbest: 1962.4475779 (109)\ttotal: 4.29s\tremaining: 390ms\n",
      "110:\tlearn: 1970.0438921\ttest: 1960.5790668\tbest: 1960.5790668 (110)\ttotal: 4.33s\tremaining: 351ms\n",
      "111:\tlearn: 1967.5885583\ttest: 1958.0470512\tbest: 1958.0470512 (111)\ttotal: 4.37s\tremaining: 312ms\n",
      "112:\tlearn: 1964.8662146\ttest: 1955.5128270\tbest: 1955.5128270 (112)\ttotal: 4.41s\tremaining: 273ms\n",
      "113:\tlearn: 1963.0893306\ttest: 1953.7757710\tbest: 1953.7757710 (113)\ttotal: 4.45s\tremaining: 234ms\n",
      "114:\tlearn: 1961.2557581\ttest: 1951.9559137\tbest: 1951.9559137 (114)\ttotal: 4.48s\tremaining: 195ms\n",
      "115:\tlearn: 1958.8828833\ttest: 1949.7203965\tbest: 1949.7203965 (115)\ttotal: 4.52s\tremaining: 156ms\n",
      "116:\tlearn: 1956.3960771\ttest: 1947.2623869\tbest: 1947.2623869 (116)\ttotal: 4.56s\tremaining: 117ms\n",
      "117:\tlearn: 1954.1005796\ttest: 1944.8591659\tbest: 1944.8591659 (117)\ttotal: 4.6s\tremaining: 78ms\n",
      "118:\tlearn: 1952.5047558\ttest: 1943.2182389\tbest: 1943.2182389 (118)\ttotal: 4.65s\tremaining: 39.1ms\n",
      "119:\tlearn: 1950.0266590\ttest: 1940.6692820\tbest: 1940.6692820 (119)\ttotal: 4.7s\tremaining: 0us\n",
      "\n",
      "bestTest = 1940.669282\n",
      "bestIteration = 119\n",
      "\n",
      "3:\tloss: 1940.6692820\tbest: 1740.9543883 (2)\ttotal: 15.7s\tremaining: 23.6s\n",
      "0:\tlearn: 6032.6506773\ttest: 6012.9416300\tbest: 6012.9416300 (0)\ttotal: 52.9ms\tremaining: 8.41s\n",
      "1:\tlearn: 5567.7682750\ttest: 5550.0112404\tbest: 5550.0112404 (1)\ttotal: 99.1ms\tremaining: 7.83s\n",
      "2:\tlearn: 5156.6066262\ttest: 5138.6778964\tbest: 5138.6778964 (2)\ttotal: 149ms\tremaining: 7.82s\n",
      "3:\tlearn: 4795.7051264\ttest: 4777.3533162\tbest: 4777.3533162 (3)\ttotal: 196ms\tremaining: 7.66s\n",
      "4:\tlearn: 4471.8920608\ttest: 4452.1396125\tbest: 4452.1396125 (4)\ttotal: 233ms\tremaining: 7.23s\n",
      "5:\tlearn: 4185.2818136\ttest: 4165.8908801\tbest: 4165.8908801 (5)\ttotal: 270ms\tremaining: 6.94s\n",
      "6:\tlearn: 3938.4901996\ttest: 3920.0127626\tbest: 3920.0127626 (6)\ttotal: 309ms\tremaining: 6.76s\n",
      "7:\tlearn: 3716.8121993\ttest: 3697.2518850\tbest: 3697.2518850 (7)\ttotal: 347ms\tremaining: 6.59s\n",
      "8:\tlearn: 3526.2757745\ttest: 3506.3818952\tbest: 3506.3818952 (8)\ttotal: 393ms\tremaining: 6.6s\n",
      "9:\tlearn: 3350.1797372\ttest: 3329.7131928\tbest: 3329.7131928 (9)\ttotal: 431ms\tremaining: 6.46s\n",
      "10:\tlearn: 3204.8186220\ttest: 3184.6531698\tbest: 3184.6531698 (10)\ttotal: 468ms\tremaining: 6.33s\n",
      "11:\tlearn: 3074.4816761\ttest: 3055.0285620\tbest: 3055.0285620 (11)\ttotal: 505ms\tremaining: 6.23s\n",
      "12:\tlearn: 2958.4230125\ttest: 2939.7522091\tbest: 2939.7522091 (12)\ttotal: 543ms\tremaining: 6.14s\n",
      "13:\tlearn: 2861.2511699\ttest: 2842.4092526\tbest: 2842.4092526 (13)\ttotal: 583ms\tremaining: 6.08s\n",
      "14:\tlearn: 2768.5502774\ttest: 2750.1008764\tbest: 2750.1008764 (14)\ttotal: 628ms\tremaining: 6.07s\n",
      "15:\tlearn: 2691.6076835\ttest: 2673.0228471\tbest: 2673.0228471 (15)\ttotal: 672ms\tremaining: 6.05s\n",
      "16:\tlearn: 2617.7104924\ttest: 2599.7291052\tbest: 2599.7291052 (16)\ttotal: 713ms\tremaining: 6s\n",
      "17:\tlearn: 2555.5438605\ttest: 2537.6910167\tbest: 2537.6910167 (17)\ttotal: 754ms\tremaining: 5.95s\n",
      "18:\tlearn: 2502.4455851\ttest: 2483.2038904\tbest: 2483.2038904 (18)\ttotal: 796ms\tremaining: 5.91s\n",
      "19:\tlearn: 2454.0227532\ttest: 2435.4641984\tbest: 2435.4641984 (19)\ttotal: 839ms\tremaining: 5.87s\n",
      "20:\tlearn: 2408.5976062\ttest: 2389.6452234\tbest: 2389.6452234 (20)\ttotal: 882ms\tremaining: 5.84s\n",
      "21:\tlearn: 2364.9377215\ttest: 2346.5866197\tbest: 2346.5866197 (21)\ttotal: 921ms\tremaining: 5.77s\n",
      "22:\tlearn: 2331.1013156\ttest: 2312.9637371\tbest: 2312.9637371 (22)\ttotal: 957ms\tremaining: 5.7s\n",
      "23:\tlearn: 2300.0332011\ttest: 2282.6777092\tbest: 2282.6777092 (23)\ttotal: 993ms\tremaining: 5.63s\n",
      "24:\tlearn: 2271.5256065\ttest: 2254.6401187\tbest: 2254.6401187 (24)\ttotal: 1.03s\tremaining: 5.57s\n",
      "25:\tlearn: 2245.1449231\ttest: 2229.0659975\tbest: 2229.0659975 (25)\ttotal: 1.07s\tremaining: 5.5s\n",
      "26:\tlearn: 2220.1824948\ttest: 2204.0295368\tbest: 2204.0295368 (26)\ttotal: 1.11s\tremaining: 5.46s\n",
      "27:\tlearn: 2199.3188681\ttest: 2183.3158970\tbest: 2183.3158970 (27)\ttotal: 1.15s\tremaining: 5.4s\n",
      "28:\tlearn: 2178.9879565\ttest: 2163.0047927\tbest: 2163.0047927 (28)\ttotal: 1.18s\tremaining: 5.34s\n",
      "29:\tlearn: 2162.5392253\ttest: 2146.9967104\tbest: 2146.9967104 (29)\ttotal: 1.22s\tremaining: 5.28s\n",
      "30:\tlearn: 2146.4857184\ttest: 2131.3444527\tbest: 2131.3444527 (30)\ttotal: 1.25s\tremaining: 5.22s\n",
      "31:\tlearn: 2131.2747967\ttest: 2117.1421531\tbest: 2117.1421531 (31)\ttotal: 1.29s\tremaining: 5.17s\n",
      "32:\tlearn: 2119.4485338\ttest: 2104.9288924\tbest: 2104.9288924 (32)\ttotal: 1.33s\tremaining: 5.12s\n",
      "33:\tlearn: 2108.3063944\ttest: 2093.6978230\tbest: 2093.6978230 (33)\ttotal: 1.36s\tremaining: 5.06s\n",
      "34:\tlearn: 2095.8200506\ttest: 2081.2091390\tbest: 2081.2091390 (34)\ttotal: 1.4s\tremaining: 5.01s\n",
      "35:\tlearn: 2087.3620034\ttest: 2072.7543989\tbest: 2072.7543989 (35)\ttotal: 1.44s\tremaining: 4.96s\n",
      "36:\tlearn: 2076.9613650\ttest: 2062.9179274\tbest: 2062.9179274 (36)\ttotal: 1.48s\tremaining: 4.91s\n",
      "37:\tlearn: 2066.1233657\ttest: 2052.4315498\tbest: 2052.4315498 (37)\ttotal: 1.51s\tremaining: 4.86s\n",
      "38:\tlearn: 2055.7246681\ttest: 2042.0058821\tbest: 2042.0058821 (38)\ttotal: 1.55s\tremaining: 4.81s\n",
      "39:\tlearn: 2048.6774220\ttest: 2034.9696585\tbest: 2034.9696585 (39)\ttotal: 1.59s\tremaining: 4.77s\n",
      "40:\tlearn: 2039.8026843\ttest: 2026.1010380\tbest: 2026.1010380 (40)\ttotal: 1.62s\tremaining: 4.71s\n",
      "41:\tlearn: 2033.2262250\ttest: 2019.6534578\tbest: 2019.6534578 (41)\ttotal: 1.66s\tremaining: 4.66s\n",
      "42:\tlearn: 2026.0403105\ttest: 2013.2866673\tbest: 2013.2866673 (42)\ttotal: 1.69s\tremaining: 4.61s\n",
      "43:\tlearn: 2019.7803677\ttest: 2007.4922430\tbest: 2007.4922430 (43)\ttotal: 1.73s\tremaining: 4.56s\n",
      "44:\tlearn: 2014.5841473\ttest: 2002.6179026\tbest: 2002.6179026 (44)\ttotal: 1.76s\tremaining: 4.51s\n",
      "45:\tlearn: 2009.4460926\ttest: 1997.2868616\tbest: 1997.2868616 (45)\ttotal: 1.8s\tremaining: 4.47s\n",
      "46:\tlearn: 2004.4506807\ttest: 1992.7041877\tbest: 1992.7041877 (46)\ttotal: 1.84s\tremaining: 4.43s\n",
      "47:\tlearn: 1999.4667593\ttest: 1988.0916942\tbest: 1988.0916942 (47)\ttotal: 1.88s\tremaining: 4.39s\n",
      "48:\tlearn: 1995.6483398\ttest: 1984.4708649\tbest: 1984.4708649 (48)\ttotal: 1.92s\tremaining: 4.34s\n",
      "49:\tlearn: 1989.7432335\ttest: 1978.6195468\tbest: 1978.6195468 (49)\ttotal: 1.96s\tremaining: 4.31s\n",
      "50:\tlearn: 1984.9258043\ttest: 1974.4809380\tbest: 1974.4809380 (50)\ttotal: 2s\tremaining: 4.28s\n",
      "51:\tlearn: 1981.3683554\ttest: 1971.2803137\tbest: 1971.2803137 (51)\ttotal: 2.04s\tremaining: 4.24s\n",
      "52:\tlearn: 1977.3807180\ttest: 1968.0616655\tbest: 1968.0616655 (52)\ttotal: 2.08s\tremaining: 4.2s\n",
      "53:\tlearn: 1972.3604157\ttest: 1962.9143951\tbest: 1962.9143951 (53)\ttotal: 2.12s\tremaining: 4.16s\n",
      "54:\tlearn: 1969.2468988\ttest: 1959.7691837\tbest: 1959.7691837 (54)\ttotal: 2.16s\tremaining: 4.13s\n",
      "55:\tlearn: 1964.9187514\ttest: 1955.3461981\tbest: 1955.3461981 (55)\ttotal: 2.21s\tremaining: 4.1s\n",
      "56:\tlearn: 1962.0747785\ttest: 1953.0058903\tbest: 1953.0058903 (56)\ttotal: 2.25s\tremaining: 4.06s\n",
      "57:\tlearn: 1957.7669837\ttest: 1948.8101130\tbest: 1948.8101130 (57)\ttotal: 2.29s\tremaining: 4.03s\n",
      "58:\tlearn: 1954.8788726\ttest: 1945.8820265\tbest: 1945.8820265 (58)\ttotal: 2.33s\tremaining: 3.98s\n",
      "59:\tlearn: 1951.1626574\ttest: 1942.2531246\tbest: 1942.2531246 (59)\ttotal: 2.37s\tremaining: 3.95s\n",
      "60:\tlearn: 1947.1710765\ttest: 1938.2020944\tbest: 1938.2020944 (60)\ttotal: 2.41s\tremaining: 3.91s\n",
      "61:\tlearn: 1942.3012510\ttest: 1933.5990819\tbest: 1933.5990819 (61)\ttotal: 2.45s\tremaining: 3.87s\n",
      "62:\tlearn: 1939.1027178\ttest: 1930.5346952\tbest: 1930.5346952 (62)\ttotal: 2.49s\tremaining: 3.84s\n",
      "63:\tlearn: 1937.1830554\ttest: 1928.5829376\tbest: 1928.5829376 (63)\ttotal: 2.53s\tremaining: 3.8s\n",
      "64:\tlearn: 1934.5208323\ttest: 1925.9285934\tbest: 1925.9285934 (64)\ttotal: 2.58s\tremaining: 3.76s\n",
      "65:\tlearn: 1929.5487209\ttest: 1921.1627776\tbest: 1921.1627776 (65)\ttotal: 2.61s\tremaining: 3.72s\n",
      "66:\tlearn: 1926.6302353\ttest: 1918.5061166\tbest: 1918.5061166 (66)\ttotal: 2.65s\tremaining: 3.68s\n",
      "67:\tlearn: 1924.8136925\ttest: 1916.8508394\tbest: 1916.8508394 (67)\ttotal: 2.69s\tremaining: 3.64s\n",
      "68:\tlearn: 1922.8628273\ttest: 1915.2288957\tbest: 1915.2288957 (68)\ttotal: 2.73s\tremaining: 3.6s\n",
      "69:\tlearn: 1919.0576130\ttest: 1911.4481284\tbest: 1911.4481284 (69)\ttotal: 2.77s\tremaining: 3.56s\n",
      "70:\tlearn: 1915.4668842\ttest: 1907.5799004\tbest: 1907.5799004 (70)\ttotal: 2.8s\tremaining: 3.51s\n",
      "71:\tlearn: 1913.0476955\ttest: 1905.1485799\tbest: 1905.1485799 (71)\ttotal: 2.84s\tremaining: 3.47s\n",
      "72:\tlearn: 1911.1648195\ttest: 1903.2043434\tbest: 1903.2043434 (72)\ttotal: 2.88s\tremaining: 3.43s\n",
      "73:\tlearn: 1908.3091131\ttest: 1900.7918167\tbest: 1900.7918167 (73)\ttotal: 2.92s\tremaining: 3.39s\n",
      "74:\tlearn: 1906.8016476\ttest: 1899.3647921\tbest: 1899.3647921 (74)\ttotal: 2.95s\tremaining: 3.35s\n",
      "75:\tlearn: 1904.2653714\ttest: 1896.6275573\tbest: 1896.6275573 (75)\ttotal: 3s\tremaining: 3.31s\n",
      "76:\tlearn: 1900.7399592\ttest: 1892.7919816\tbest: 1892.7919816 (76)\ttotal: 3.03s\tremaining: 3.27s\n",
      "77:\tlearn: 1897.3111119\ttest: 1889.6127663\tbest: 1889.6127663 (77)\ttotal: 3.07s\tremaining: 3.23s\n",
      "78:\tlearn: 1894.3876774\ttest: 1886.5370369\tbest: 1886.5370369 (78)\ttotal: 3.11s\tremaining: 3.19s\n",
      "79:\tlearn: 1891.2041450\ttest: 1883.5712567\tbest: 1883.5712567 (79)\ttotal: 3.15s\tremaining: 3.15s\n",
      "80:\tlearn: 1889.2388601\ttest: 1881.8852352\tbest: 1881.8852352 (80)\ttotal: 3.19s\tremaining: 3.11s\n",
      "81:\tlearn: 1887.3922773\ttest: 1880.2704949\tbest: 1880.2704949 (81)\ttotal: 3.22s\tremaining: 3.07s\n",
      "82:\tlearn: 1885.7801526\ttest: 1878.9660243\tbest: 1878.9660243 (82)\ttotal: 3.26s\tremaining: 3.02s\n",
      "83:\tlearn: 1884.5080672\ttest: 1877.6659658\tbest: 1877.6659658 (83)\ttotal: 3.3s\tremaining: 2.99s\n",
      "84:\tlearn: 1882.1201027\ttest: 1875.3108488\tbest: 1875.3108488 (84)\ttotal: 3.34s\tremaining: 2.95s\n",
      "85:\tlearn: 1879.8002557\ttest: 1873.0800311\tbest: 1873.0800311 (85)\ttotal: 3.38s\tremaining: 2.91s\n",
      "86:\tlearn: 1877.6172708\ttest: 1871.2582967\tbest: 1871.2582967 (86)\ttotal: 3.42s\tremaining: 2.87s\n",
      "87:\tlearn: 1875.4172097\ttest: 1868.9070653\tbest: 1868.9070653 (87)\ttotal: 3.46s\tremaining: 2.83s\n",
      "88:\tlearn: 1873.1448588\ttest: 1866.6698678\tbest: 1866.6698678 (88)\ttotal: 3.5s\tremaining: 2.79s\n",
      "89:\tlearn: 1871.9407729\ttest: 1865.4287508\tbest: 1865.4287508 (89)\ttotal: 3.54s\tremaining: 2.75s\n",
      "90:\tlearn: 1870.3360530\ttest: 1863.9494290\tbest: 1863.9494290 (90)\ttotal: 3.58s\tremaining: 2.71s\n",
      "91:\tlearn: 1868.5802977\ttest: 1862.1242903\tbest: 1862.1242903 (91)\ttotal: 3.63s\tremaining: 2.68s\n",
      "92:\tlearn: 1867.5321111\ttest: 1861.1229333\tbest: 1861.1229333 (92)\ttotal: 3.68s\tremaining: 2.65s\n",
      "93:\tlearn: 1865.2075968\ttest: 1858.7301254\tbest: 1858.7301254 (93)\ttotal: 3.73s\tremaining: 2.62s\n",
      "94:\tlearn: 1863.5529474\ttest: 1857.1680570\tbest: 1857.1680570 (94)\ttotal: 3.79s\tremaining: 2.59s\n",
      "95:\tlearn: 1862.0835364\ttest: 1855.6720706\tbest: 1855.6720706 (95)\ttotal: 3.84s\tremaining: 2.56s\n",
      "96:\tlearn: 1860.3286700\ttest: 1854.0867442\tbest: 1854.0867442 (96)\ttotal: 3.88s\tremaining: 2.52s\n",
      "97:\tlearn: 1858.8239824\ttest: 1852.6053035\tbest: 1852.6053035 (97)\ttotal: 3.92s\tremaining: 2.48s\n",
      "98:\tlearn: 1857.4297899\ttest: 1851.1618512\tbest: 1851.1618512 (98)\ttotal: 3.96s\tremaining: 2.44s\n",
      "99:\tlearn: 1855.7407392\ttest: 1849.4325658\tbest: 1849.4325658 (99)\ttotal: 4.01s\tremaining: 2.4s\n",
      "100:\tlearn: 1854.3947558\ttest: 1848.2126770\tbest: 1848.2126770 (100)\ttotal: 4.05s\tremaining: 2.36s\n",
      "101:\tlearn: 1851.7136113\ttest: 1845.3703295\tbest: 1845.3703295 (101)\ttotal: 4.09s\tremaining: 2.33s\n",
      "102:\tlearn: 1850.4274861\ttest: 1844.1701408\tbest: 1844.1701408 (102)\ttotal: 4.13s\tremaining: 2.29s\n",
      "103:\tlearn: 1848.9735072\ttest: 1843.0346411\tbest: 1843.0346411 (103)\ttotal: 4.17s\tremaining: 2.25s\n",
      "104:\tlearn: 1847.5070339\ttest: 1841.9018573\tbest: 1841.9018573 (104)\ttotal: 4.21s\tremaining: 2.21s\n",
      "105:\tlearn: 1846.0905061\ttest: 1840.3913420\tbest: 1840.3913420 (105)\ttotal: 4.25s\tremaining: 2.16s\n",
      "106:\tlearn: 1844.2409415\ttest: 1838.4462896\tbest: 1838.4462896 (106)\ttotal: 4.29s\tremaining: 2.12s\n",
      "107:\tlearn: 1842.3876775\ttest: 1836.5440888\tbest: 1836.5440888 (107)\ttotal: 4.32s\tremaining: 2.08s\n",
      "108:\tlearn: 1841.3734924\ttest: 1835.6456978\tbest: 1835.6456978 (108)\ttotal: 4.36s\tremaining: 2.04s\n",
      "109:\tlearn: 1839.2967124\ttest: 1833.5321756\tbest: 1833.5321756 (109)\ttotal: 4.4s\tremaining: 2s\n",
      "110:\tlearn: 1838.6033876\ttest: 1832.8879610\tbest: 1832.8879610 (110)\ttotal: 4.43s\tremaining: 1.96s\n",
      "111:\tlearn: 1837.5594647\ttest: 1831.7427910\tbest: 1831.7427910 (111)\ttotal: 4.47s\tremaining: 1.92s\n",
      "112:\tlearn: 1836.1855794\ttest: 1830.3234637\tbest: 1830.3234637 (112)\ttotal: 4.51s\tremaining: 1.88s\n",
      "113:\tlearn: 1835.1706109\ttest: 1829.3591460\tbest: 1829.3591460 (113)\ttotal: 4.55s\tremaining: 1.83s\n",
      "114:\tlearn: 1834.1401585\ttest: 1828.4438838\tbest: 1828.4438838 (114)\ttotal: 4.58s\tremaining: 1.79s\n",
      "115:\tlearn: 1833.0307137\ttest: 1827.4155926\tbest: 1827.4155926 (115)\ttotal: 4.62s\tremaining: 1.75s\n",
      "116:\tlearn: 1832.1357741\ttest: 1826.1458756\tbest: 1826.1458756 (116)\ttotal: 4.65s\tremaining: 1.71s\n",
      "117:\tlearn: 1831.3036201\ttest: 1825.4815864\tbest: 1825.4815864 (117)\ttotal: 4.69s\tremaining: 1.67s\n",
      "118:\tlearn: 1830.0637370\ttest: 1824.1353461\tbest: 1824.1353461 (118)\ttotal: 4.73s\tremaining: 1.63s\n",
      "119:\tlearn: 1829.3054424\ttest: 1823.5032727\tbest: 1823.5032727 (119)\ttotal: 4.77s\tremaining: 1.59s\n",
      "120:\tlearn: 1827.9468997\ttest: 1822.0667242\tbest: 1822.0667242 (120)\ttotal: 4.8s\tremaining: 1.55s\n",
      "121:\tlearn: 1826.9057544\ttest: 1820.9035333\tbest: 1820.9035333 (121)\ttotal: 4.84s\tremaining: 1.51s\n",
      "122:\tlearn: 1826.3410375\ttest: 1820.5188395\tbest: 1820.5188395 (122)\ttotal: 4.87s\tremaining: 1.47s\n",
      "123:\tlearn: 1825.1935536\ttest: 1819.3254211\tbest: 1819.3254211 (123)\ttotal: 4.91s\tremaining: 1.43s\n",
      "124:\tlearn: 1824.5999387\ttest: 1818.8556591\tbest: 1818.8556591 (124)\ttotal: 4.94s\tremaining: 1.38s\n",
      "125:\tlearn: 1823.3155422\ttest: 1817.8931437\tbest: 1817.8931437 (125)\ttotal: 4.98s\tremaining: 1.34s\n",
      "126:\tlearn: 1822.7832854\ttest: 1817.7506304\tbest: 1817.7506304 (126)\ttotal: 5.01s\tremaining: 1.3s\n",
      "127:\tlearn: 1822.3107705\ttest: 1817.3308390\tbest: 1817.3308390 (127)\ttotal: 5.05s\tremaining: 1.26s\n",
      "128:\tlearn: 1821.0059275\ttest: 1816.2254513\tbest: 1816.2254513 (128)\ttotal: 5.09s\tremaining: 1.22s\n",
      "129:\tlearn: 1820.2687213\ttest: 1815.5994414\tbest: 1815.5994414 (129)\ttotal: 5.12s\tremaining: 1.18s\n",
      "130:\tlearn: 1819.4851018\ttest: 1814.8291585\tbest: 1814.8291585 (130)\ttotal: 5.16s\tremaining: 1.14s\n",
      "131:\tlearn: 1818.4333726\ttest: 1813.6591880\tbest: 1813.6591880 (131)\ttotal: 5.21s\tremaining: 1.1s\n",
      "132:\tlearn: 1817.6371795\ttest: 1812.9638782\tbest: 1812.9638782 (132)\ttotal: 5.25s\tremaining: 1.06s\n",
      "133:\tlearn: 1817.3573418\ttest: 1812.7031925\tbest: 1812.7031925 (133)\ttotal: 5.29s\tremaining: 1.03s\n",
      "134:\tlearn: 1816.4525383\ttest: 1811.7694883\tbest: 1811.7694883 (134)\ttotal: 5.33s\tremaining: 987ms\n",
      "135:\tlearn: 1814.6990133\ttest: 1809.9055619\tbest: 1809.9055619 (135)\ttotal: 5.37s\tremaining: 948ms\n",
      "136:\tlearn: 1813.6995693\ttest: 1808.9091081\tbest: 1808.9091081 (136)\ttotal: 5.41s\tremaining: 908ms\n",
      "137:\tlearn: 1812.9075182\ttest: 1808.0266535\tbest: 1808.0266535 (137)\ttotal: 5.45s\tremaining: 868ms\n",
      "138:\tlearn: 1812.0718518\ttest: 1807.2907239\tbest: 1807.2907239 (138)\ttotal: 5.48s\tremaining: 828ms\n",
      "139:\tlearn: 1811.1455265\ttest: 1806.4079194\tbest: 1806.4079194 (139)\ttotal: 5.52s\tremaining: 789ms\n",
      "140:\tlearn: 1809.7963871\ttest: 1805.1279951\tbest: 1805.1279951 (140)\ttotal: 5.56s\tremaining: 749ms\n",
      "141:\tlearn: 1809.1652831\ttest: 1804.6140971\tbest: 1804.6140971 (141)\ttotal: 5.59s\tremaining: 709ms\n",
      "142:\tlearn: 1808.8196122\ttest: 1804.2285536\tbest: 1804.2285536 (142)\ttotal: 5.63s\tremaining: 669ms\n",
      "143:\tlearn: 1807.9431582\ttest: 1803.5900030\tbest: 1803.5900030 (143)\ttotal: 5.67s\tremaining: 629ms\n",
      "144:\tlearn: 1806.9393072\ttest: 1802.5614648\tbest: 1802.5614648 (144)\ttotal: 5.7s\tremaining: 590ms\n",
      "145:\tlearn: 1806.3804347\ttest: 1802.1910569\tbest: 1802.1910569 (145)\ttotal: 5.74s\tremaining: 550ms\n",
      "146:\tlearn: 1805.5117034\ttest: 1801.5966461\tbest: 1801.5966461 (146)\ttotal: 5.78s\tremaining: 511ms\n",
      "147:\tlearn: 1803.8362887\ttest: 1799.9319670\tbest: 1799.9319670 (147)\ttotal: 5.81s\tremaining: 471ms\n",
      "148:\tlearn: 1802.8613775\ttest: 1798.8273524\tbest: 1798.8273524 (148)\ttotal: 5.85s\tremaining: 432ms\n",
      "149:\tlearn: 1802.0773154\ttest: 1798.0913190\tbest: 1798.0913190 (149)\ttotal: 5.88s\tremaining: 392ms\n",
      "150:\tlearn: 1801.4170916\ttest: 1797.6472568\tbest: 1797.6472568 (150)\ttotal: 5.92s\tremaining: 353ms\n",
      "151:\tlearn: 1800.5200726\ttest: 1797.0107151\tbest: 1797.0107151 (151)\ttotal: 5.96s\tremaining: 314ms\n",
      "152:\tlearn: 1799.7834453\ttest: 1796.2166891\tbest: 1796.2166891 (152)\ttotal: 5.99s\tremaining: 274ms\n",
      "153:\tlearn: 1799.1720472\ttest: 1795.6400539\tbest: 1795.6400539 (153)\ttotal: 6.03s\tremaining: 235ms\n",
      "154:\tlearn: 1798.7116358\ttest: 1795.2453338\tbest: 1795.2453338 (154)\ttotal: 6.07s\tremaining: 196ms\n",
      "155:\tlearn: 1798.2359223\ttest: 1794.7593625\tbest: 1794.7593625 (155)\ttotal: 6.1s\tremaining: 156ms\n",
      "156:\tlearn: 1797.9949782\ttest: 1794.5572692\tbest: 1794.5572692 (156)\ttotal: 6.14s\tremaining: 117ms\n",
      "157:\tlearn: 1797.5640452\ttest: 1794.2010335\tbest: 1794.2010335 (157)\ttotal: 6.18s\tremaining: 78.2ms\n",
      "158:\tlearn: 1796.7629820\ttest: 1793.2374751\tbest: 1793.2374751 (158)\ttotal: 6.21s\tremaining: 39.1ms\n",
      "159:\tlearn: 1795.8449257\ttest: 1792.4415534\tbest: 1792.4415534 (159)\ttotal: 6.25s\tremaining: 0us\n",
      "\n",
      "bestTest = 1792.441553\n",
      "bestIteration = 159\n",
      "\n",
      "4:\tloss: 1792.4415534\tbest: 1740.9543883 (2)\ttotal: 22s\tremaining: 22s\n",
      "0:\tlearn: 5513.8131918\ttest: 5495.0707916\tbest: 5495.0707916 (0)\ttotal: 67.5ms\tremaining: 8.03s\n",
      "1:\tlearn: 4692.5182210\ttest: 4674.7621418\tbest: 4674.7621418 (1)\ttotal: 125ms\tremaining: 7.35s\n",
      "2:\tlearn: 4046.9559806\ttest: 4028.7124966\tbest: 4028.7124966 (2)\ttotal: 167ms\tremaining: 6.52s\n",
      "3:\tlearn: 3547.5378429\ttest: 3529.6877047\tbest: 3529.6877047 (3)\ttotal: 212ms\tremaining: 6.16s\n",
      "4:\tlearn: 3177.3079454\ttest: 3160.2179303\tbest: 3160.2179303 (4)\ttotal: 255ms\tremaining: 5.86s\n",
      "5:\tlearn: 2901.3569056\ttest: 2884.8983592\tbest: 2884.8983592 (5)\ttotal: 303ms\tremaining: 5.76s\n",
      "6:\tlearn: 2685.5571039\ttest: 2668.4321946\tbest: 2668.4321946 (6)\ttotal: 347ms\tremaining: 5.6s\n",
      "7:\tlearn: 2523.1142525\ttest: 2506.6588389\tbest: 2506.6588389 (7)\ttotal: 393ms\tremaining: 5.5s\n",
      "8:\tlearn: 2396.8473345\ttest: 2381.3789234\tbest: 2381.3789234 (8)\ttotal: 438ms\tremaining: 5.4s\n",
      "9:\tlearn: 2305.1538055\ttest: 2288.3970526\tbest: 2288.3970526 (9)\ttotal: 485ms\tremaining: 5.34s\n",
      "10:\tlearn: 2233.7703080\ttest: 2217.6779262\tbest: 2217.6779262 (10)\ttotal: 531ms\tremaining: 5.26s\n",
      "11:\tlearn: 2176.0403765\ttest: 2161.1943606\tbest: 2161.1943606 (11)\ttotal: 575ms\tremaining: 5.17s\n",
      "12:\tlearn: 2131.6981489\ttest: 2117.5012540\tbest: 2117.5012540 (12)\ttotal: 620ms\tremaining: 5.1s\n",
      "13:\tlearn: 2091.8234218\ttest: 2077.3486495\tbest: 2077.3486495 (13)\ttotal: 662ms\tremaining: 5.01s\n",
      "14:\tlearn: 2060.4636651\ttest: 2048.2146716\tbest: 2048.2146716 (14)\ttotal: 703ms\tremaining: 4.92s\n",
      "15:\tlearn: 2036.0934430\ttest: 2024.1408195\tbest: 2024.1408195 (15)\ttotal: 744ms\tremaining: 4.83s\n",
      "16:\tlearn: 2015.9120100\ttest: 2004.1626662\tbest: 2004.1626662 (16)\ttotal: 788ms\tremaining: 4.77s\n",
      "17:\tlearn: 1999.2272354\ttest: 1986.5009774\tbest: 1986.5009774 (17)\ttotal: 838ms\tremaining: 4.75s\n",
      "18:\tlearn: 1986.2515655\ttest: 1973.7371769\tbest: 1973.7371769 (18)\ttotal: 880ms\tremaining: 4.68s\n",
      "19:\tlearn: 1973.5537951\ttest: 1961.3467397\tbest: 1961.3467397 (19)\ttotal: 922ms\tremaining: 4.61s\n",
      "20:\tlearn: 1959.3056100\ttest: 1949.0535127\tbest: 1949.0535127 (20)\ttotal: 963ms\tremaining: 4.54s\n",
      "21:\tlearn: 1950.9816499\ttest: 1940.7220545\tbest: 1940.7220545 (21)\ttotal: 1s\tremaining: 4.48s\n",
      "22:\tlearn: 1939.8470696\ttest: 1929.6084749\tbest: 1929.6084749 (22)\ttotal: 1.05s\tremaining: 4.43s\n",
      "23:\tlearn: 1930.7221690\ttest: 1921.0073904\tbest: 1921.0073904 (23)\ttotal: 1.09s\tremaining: 4.38s\n",
      "24:\tlearn: 1923.2948383\ttest: 1914.4047069\tbest: 1914.4047069 (24)\ttotal: 1.14s\tremaining: 4.32s\n",
      "25:\tlearn: 1916.2039764\ttest: 1907.9357528\tbest: 1907.9357528 (25)\ttotal: 1.18s\tremaining: 4.27s\n",
      "26:\tlearn: 1911.1472635\ttest: 1903.2148008\tbest: 1903.2148008 (26)\ttotal: 1.22s\tremaining: 4.22s\n",
      "27:\tlearn: 1902.4900542\ttest: 1895.5889932\tbest: 1895.5889932 (27)\ttotal: 1.27s\tremaining: 4.18s\n",
      "28:\tlearn: 1896.0275230\ttest: 1889.8490152\tbest: 1889.8490152 (28)\ttotal: 1.32s\tremaining: 4.15s\n",
      "29:\tlearn: 1890.5666329\ttest: 1884.6044743\tbest: 1884.6044743 (29)\ttotal: 1.37s\tremaining: 4.1s\n",
      "30:\tlearn: 1882.2071470\ttest: 1876.7726279\tbest: 1876.7726279 (30)\ttotal: 1.41s\tremaining: 4.04s\n",
      "31:\tlearn: 1875.6874979\ttest: 1870.9229237\tbest: 1870.9229237 (31)\ttotal: 1.45s\tremaining: 3.99s\n",
      "32:\tlearn: 1872.5898920\ttest: 1867.8320898\tbest: 1867.8320898 (32)\ttotal: 1.49s\tremaining: 3.94s\n",
      "33:\tlearn: 1867.3476480\ttest: 1863.0437822\tbest: 1863.0437822 (33)\ttotal: 1.54s\tremaining: 3.89s\n",
      "34:\tlearn: 1864.4653527\ttest: 1860.3017077\tbest: 1860.3017077 (34)\ttotal: 1.58s\tremaining: 3.85s\n",
      "35:\tlearn: 1860.0014861\ttest: 1856.0104692\tbest: 1856.0104692 (35)\ttotal: 1.62s\tremaining: 3.79s\n",
      "36:\tlearn: 1857.4759994\ttest: 1853.2240180\tbest: 1853.2240180 (36)\ttotal: 1.67s\tremaining: 3.74s\n",
      "37:\tlearn: 1853.8658402\ttest: 1849.3639857\tbest: 1849.3639857 (37)\ttotal: 1.72s\tremaining: 3.7s\n",
      "38:\tlearn: 1849.5165137\ttest: 1845.5561859\tbest: 1845.5561859 (38)\ttotal: 1.77s\tremaining: 3.67s\n",
      "39:\tlearn: 1846.5989059\ttest: 1842.6266757\tbest: 1842.6266757 (39)\ttotal: 1.81s\tremaining: 3.62s\n",
      "40:\tlearn: 1842.9644869\ttest: 1839.5345284\tbest: 1839.5345284 (40)\ttotal: 1.87s\tremaining: 3.6s\n",
      "41:\tlearn: 1839.6294612\ttest: 1836.0819916\tbest: 1836.0819916 (41)\ttotal: 1.92s\tremaining: 3.56s\n",
      "42:\tlearn: 1835.9064585\ttest: 1832.3635328\tbest: 1832.3635328 (42)\ttotal: 1.96s\tremaining: 3.51s\n",
      "43:\tlearn: 1833.0147783\ttest: 1829.5717264\tbest: 1829.5717264 (43)\ttotal: 2s\tremaining: 3.46s\n",
      "44:\tlearn: 1828.2747774\ttest: 1824.6121741\tbest: 1824.6121741 (44)\ttotal: 2.04s\tremaining: 3.4s\n",
      "45:\tlearn: 1826.3223532\ttest: 1822.5672211\tbest: 1822.5672211 (45)\ttotal: 2.08s\tremaining: 3.35s\n",
      "46:\tlearn: 1824.1512212\ttest: 1820.7869393\tbest: 1820.7869393 (46)\ttotal: 2.13s\tremaining: 3.31s\n",
      "47:\tlearn: 1819.7943018\ttest: 1816.7771861\tbest: 1816.7771861 (47)\ttotal: 2.18s\tremaining: 3.27s\n",
      "48:\tlearn: 1817.1666003\ttest: 1814.0692194\tbest: 1814.0692194 (48)\ttotal: 2.22s\tremaining: 3.22s\n",
      "49:\tlearn: 1814.0013109\ttest: 1810.9676965\tbest: 1810.9676965 (49)\ttotal: 2.27s\tremaining: 3.17s\n",
      "50:\tlearn: 1811.5737121\ttest: 1808.7670748\tbest: 1808.7670748 (50)\ttotal: 2.31s\tremaining: 3.13s\n",
      "51:\tlearn: 1809.1605259\ttest: 1806.8076296\tbest: 1806.8076296 (51)\ttotal: 2.36s\tremaining: 3.08s\n",
      "52:\tlearn: 1806.5273045\ttest: 1804.4394449\tbest: 1804.4394449 (52)\ttotal: 2.4s\tremaining: 3.03s\n",
      "53:\tlearn: 1804.4713561\ttest: 1802.4011206\tbest: 1802.4011206 (53)\ttotal: 2.44s\tremaining: 2.98s\n",
      "54:\tlearn: 1800.9308123\ttest: 1798.6531402\tbest: 1798.6531402 (54)\ttotal: 2.48s\tremaining: 2.93s\n",
      "55:\tlearn: 1800.0995005\ttest: 1798.0394113\tbest: 1798.0394113 (55)\ttotal: 2.52s\tremaining: 2.88s\n",
      "56:\tlearn: 1798.6971850\ttest: 1797.1404333\tbest: 1797.1404333 (56)\ttotal: 2.56s\tremaining: 2.83s\n",
      "57:\tlearn: 1796.4398319\ttest: 1795.2976108\tbest: 1795.2976108 (57)\ttotal: 2.61s\tremaining: 2.79s\n",
      "58:\tlearn: 1794.8719471\ttest: 1793.5651453\tbest: 1793.5651453 (58)\ttotal: 2.65s\tremaining: 2.74s\n",
      "59:\tlearn: 1792.9969599\ttest: 1792.3048372\tbest: 1792.3048372 (59)\ttotal: 2.7s\tremaining: 2.7s\n",
      "60:\tlearn: 1790.3441096\ttest: 1789.5470374\tbest: 1789.5470374 (60)\ttotal: 2.74s\tremaining: 2.65s\n",
      "61:\tlearn: 1789.4002045\ttest: 1788.6578263\tbest: 1788.6578263 (61)\ttotal: 2.79s\tremaining: 2.61s\n",
      "62:\tlearn: 1787.0530832\ttest: 1785.9737319\tbest: 1785.9737319 (62)\ttotal: 2.83s\tremaining: 2.56s\n",
      "63:\tlearn: 1785.0237732\ttest: 1784.4023841\tbest: 1784.4023841 (63)\ttotal: 2.89s\tremaining: 2.53s\n",
      "64:\tlearn: 1783.9015371\ttest: 1783.9798957\tbest: 1783.9798957 (64)\ttotal: 2.94s\tremaining: 2.48s\n",
      "65:\tlearn: 1782.3410802\ttest: 1782.7238248\tbest: 1782.7238248 (65)\ttotal: 2.98s\tremaining: 2.44s\n",
      "66:\tlearn: 1780.5653905\ttest: 1780.9386456\tbest: 1780.9386456 (66)\ttotal: 3.03s\tremaining: 2.4s\n",
      "67:\tlearn: 1778.8947954\ttest: 1779.4815844\tbest: 1779.4815844 (67)\ttotal: 3.08s\tremaining: 2.36s\n",
      "68:\tlearn: 1777.8456097\ttest: 1778.6957652\tbest: 1778.6957652 (68)\ttotal: 3.13s\tremaining: 2.31s\n",
      "69:\tlearn: 1776.4303681\ttest: 1777.6856635\tbest: 1777.6856635 (69)\ttotal: 3.18s\tremaining: 2.27s\n",
      "70:\tlearn: 1773.7932019\ttest: 1774.6865676\tbest: 1774.6865676 (70)\ttotal: 3.23s\tremaining: 2.23s\n",
      "71:\tlearn: 1773.0662516\ttest: 1774.5087734\tbest: 1774.5087734 (71)\ttotal: 3.28s\tremaining: 2.18s\n",
      "72:\tlearn: 1771.0041878\ttest: 1772.5726171\tbest: 1772.5726171 (72)\ttotal: 3.32s\tremaining: 2.14s\n",
      "73:\tlearn: 1769.8341954\ttest: 1771.5215833\tbest: 1771.5215833 (73)\ttotal: 3.37s\tremaining: 2.1s\n",
      "74:\tlearn: 1768.0621156\ttest: 1769.6753405\tbest: 1769.6753405 (74)\ttotal: 3.42s\tremaining: 2.05s\n",
      "75:\tlearn: 1765.8221571\ttest: 1767.8986380\tbest: 1767.8986380 (75)\ttotal: 3.47s\tremaining: 2.01s\n",
      "76:\tlearn: 1764.2307632\ttest: 1766.8138588\tbest: 1766.8138588 (76)\ttotal: 3.52s\tremaining: 1.96s\n",
      "77:\tlearn: 1762.1389021\ttest: 1764.6279559\tbest: 1764.6279559 (77)\ttotal: 3.58s\tremaining: 1.93s\n",
      "78:\tlearn: 1760.9625116\ttest: 1763.3013258\tbest: 1763.3013258 (78)\ttotal: 3.64s\tremaining: 1.89s\n",
      "79:\tlearn: 1760.3058985\ttest: 1762.8111022\tbest: 1762.8111022 (79)\ttotal: 3.69s\tremaining: 1.84s\n",
      "80:\tlearn: 1758.6039834\ttest: 1761.0997096\tbest: 1761.0997096 (80)\ttotal: 3.73s\tremaining: 1.8s\n",
      "81:\tlearn: 1757.9759108\ttest: 1760.3142408\tbest: 1760.3142408 (81)\ttotal: 3.78s\tremaining: 1.75s\n",
      "82:\tlearn: 1756.3728192\ttest: 1758.7929150\tbest: 1758.7929150 (82)\ttotal: 3.82s\tremaining: 1.7s\n",
      "83:\tlearn: 1754.4749930\ttest: 1756.9484369\tbest: 1756.9484369 (83)\ttotal: 3.87s\tremaining: 1.66s\n",
      "84:\tlearn: 1753.6688740\ttest: 1756.2711198\tbest: 1756.2711198 (84)\ttotal: 3.92s\tremaining: 1.61s\n",
      "85:\tlearn: 1752.3851987\ttest: 1755.5066782\tbest: 1755.5066782 (85)\ttotal: 3.96s\tremaining: 1.56s\n",
      "86:\tlearn: 1750.7783338\ttest: 1754.4232001\tbest: 1754.4232001 (86)\ttotal: 4s\tremaining: 1.52s\n",
      "87:\tlearn: 1749.7491381\ttest: 1753.8793747\tbest: 1753.8793747 (87)\ttotal: 4.05s\tremaining: 1.47s\n",
      "88:\tlearn: 1749.1174842\ttest: 1753.3002833\tbest: 1753.3002833 (88)\ttotal: 4.09s\tremaining: 1.43s\n",
      "89:\tlearn: 1747.9888090\ttest: 1752.0958933\tbest: 1752.0958933 (89)\ttotal: 4.14s\tremaining: 1.38s\n",
      "90:\tlearn: 1746.8576479\ttest: 1751.4682680\tbest: 1751.4682680 (90)\ttotal: 4.19s\tremaining: 1.34s\n",
      "91:\tlearn: 1745.7638670\ttest: 1750.9640301\tbest: 1750.9640301 (91)\ttotal: 4.24s\tremaining: 1.29s\n",
      "92:\tlearn: 1744.5912728\ttest: 1749.7687363\tbest: 1749.7687363 (92)\ttotal: 4.29s\tremaining: 1.25s\n",
      "93:\tlearn: 1743.1550406\ttest: 1748.4813022\tbest: 1748.4813022 (93)\ttotal: 4.34s\tremaining: 1.2s\n",
      "94:\tlearn: 1742.1908705\ttest: 1747.3868281\tbest: 1747.3868281 (94)\ttotal: 4.4s\tremaining: 1.16s\n",
      "95:\tlearn: 1741.0801863\ttest: 1746.7109207\tbest: 1746.7109207 (95)\ttotal: 4.44s\tremaining: 1.11s\n",
      "96:\tlearn: 1740.3161635\ttest: 1745.9704792\tbest: 1745.9704792 (96)\ttotal: 4.49s\tremaining: 1.06s\n",
      "97:\tlearn: 1739.1702076\ttest: 1744.8804665\tbest: 1744.8804665 (97)\ttotal: 4.54s\tremaining: 1.02s\n",
      "98:\tlearn: 1738.2144138\ttest: 1744.0836049\tbest: 1744.0836049 (98)\ttotal: 4.58s\tremaining: 972ms\n",
      "99:\tlearn: 1737.7633133\ttest: 1744.1132819\tbest: 1744.0836049 (98)\ttotal: 4.63s\tremaining: 925ms\n",
      "100:\tlearn: 1736.9472852\ttest: 1743.6162153\tbest: 1743.6162153 (100)\ttotal: 4.67s\tremaining: 880ms\n",
      "101:\tlearn: 1736.3396361\ttest: 1743.1597136\tbest: 1743.1597136 (101)\ttotal: 4.72s\tremaining: 833ms\n",
      "102:\tlearn: 1735.8509707\ttest: 1742.7752680\tbest: 1742.7752680 (102)\ttotal: 4.77s\tremaining: 787ms\n",
      "103:\tlearn: 1734.6838625\ttest: 1741.5057828\tbest: 1741.5057828 (103)\ttotal: 4.82s\tremaining: 741ms\n",
      "104:\tlearn: 1733.9808091\ttest: 1740.5221858\tbest: 1740.5221858 (104)\ttotal: 4.86s\tremaining: 695ms\n",
      "105:\tlearn: 1733.3128645\ttest: 1740.0054092\tbest: 1740.0054092 (105)\ttotal: 4.91s\tremaining: 649ms\n",
      "106:\tlearn: 1732.5967013\ttest: 1739.3038501\tbest: 1739.3038501 (106)\ttotal: 4.96s\tremaining: 603ms\n",
      "107:\tlearn: 1732.0311017\ttest: 1738.8430771\tbest: 1738.8430771 (107)\ttotal: 5s\tremaining: 556ms\n",
      "108:\tlearn: 1730.4128123\ttest: 1737.5469798\tbest: 1737.5469798 (108)\ttotal: 5.04s\tremaining: 509ms\n",
      "109:\tlearn: 1729.4513965\ttest: 1736.7892607\tbest: 1736.7892607 (109)\ttotal: 5.09s\tremaining: 463ms\n",
      "110:\tlearn: 1727.9289356\ttest: 1735.4844225\tbest: 1735.4844225 (110)\ttotal: 5.13s\tremaining: 416ms\n",
      "111:\tlearn: 1727.0409818\ttest: 1734.9575130\tbest: 1734.9575130 (111)\ttotal: 5.18s\tremaining: 370ms\n",
      "112:\tlearn: 1725.9742009\ttest: 1734.1267691\tbest: 1734.1267691 (112)\ttotal: 5.22s\tremaining: 323ms\n",
      "113:\tlearn: 1725.0464603\ttest: 1733.4148879\tbest: 1733.4148879 (113)\ttotal: 5.26s\tremaining: 277ms\n",
      "114:\tlearn: 1723.9278235\ttest: 1732.8763050\tbest: 1732.8763050 (114)\ttotal: 5.3s\tremaining: 231ms\n",
      "115:\tlearn: 1723.1742124\ttest: 1732.6256390\tbest: 1732.6256390 (115)\ttotal: 5.35s\tremaining: 184ms\n",
      "116:\tlearn: 1722.4121781\ttest: 1731.9123560\tbest: 1731.9123560 (116)\ttotal: 5.39s\tremaining: 138ms\n",
      "117:\tlearn: 1721.5010761\ttest: 1730.9917058\tbest: 1730.9917058 (117)\ttotal: 5.44s\tremaining: 92.1ms\n",
      "118:\tlearn: 1720.6532023\ttest: 1730.3476690\tbest: 1730.3476690 (118)\ttotal: 5.48s\tremaining: 46.1ms\n",
      "119:\tlearn: 1720.0871220\ttest: 1730.1045784\tbest: 1730.1045784 (119)\ttotal: 5.53s\tremaining: 0us\n",
      "\n",
      "bestTest = 1730.104578\n",
      "bestIteration = 119\n",
      "\n",
      "5:\tloss: 1730.1045784\tbest: 1730.1045784 (5)\ttotal: 27.6s\tremaining: 18.4s\n",
      "0:\tlearn: 6496.3589712\ttest: 6476.9846140\tbest: 6476.9846140 (0)\ttotal: 81.8ms\tremaining: 2.37s\n",
      "1:\tlearn: 6441.7272824\ttest: 6422.4577912\tbest: 6422.4577912 (1)\ttotal: 144ms\tremaining: 2.01s\n",
      "2:\tlearn: 6388.3714983\ttest: 6369.0891512\tbest: 6369.0891512 (2)\ttotal: 222ms\tremaining: 2s\n",
      "3:\tlearn: 6335.5701928\ttest: 6316.4862300\tbest: 6316.4862300 (3)\ttotal: 290ms\tremaining: 1.89s\n",
      "4:\tlearn: 6283.0483630\ttest: 6264.0650106\tbest: 6264.0650106 (4)\ttotal: 348ms\tremaining: 1.74s\n",
      "5:\tlearn: 6231.3112988\ttest: 6212.6802890\tbest: 6212.6802890 (5)\ttotal: 409ms\tremaining: 1.63s\n",
      "6:\tlearn: 6179.6610231\ttest: 6161.0491449\tbest: 6161.0491449 (6)\ttotal: 468ms\tremaining: 1.54s\n",
      "7:\tlearn: 6128.9910480\ttest: 6110.3993092\tbest: 6110.3993092 (7)\ttotal: 533ms\tremaining: 1.47s\n",
      "8:\tlearn: 6078.9541053\ttest: 6060.7838012\tbest: 6060.7838012 (8)\ttotal: 590ms\tremaining: 1.38s\n",
      "9:\tlearn: 6029.6107991\ttest: 6011.5764115\tbest: 6011.5764115 (9)\ttotal: 655ms\tremaining: 1.31s\n",
      "10:\tlearn: 5980.4962897\ttest: 5962.5004565\tbest: 5962.5004565 (10)\ttotal: 725ms\tremaining: 1.25s\n",
      "11:\tlearn: 5931.4606730\ttest: 5913.5587722\tbest: 5913.5587722 (11)\ttotal: 787ms\tremaining: 1.18s\n",
      "12:\tlearn: 5883.6220235\ttest: 5865.9075078\tbest: 5865.9075078 (12)\ttotal: 850ms\tremaining: 1.11s\n",
      "13:\tlearn: 5836.3932324\ttest: 5818.6712410\tbest: 5818.6712410 (13)\ttotal: 907ms\tremaining: 1.04s\n",
      "14:\tlearn: 5789.1636207\ttest: 5771.2849267\tbest: 5771.2849267 (14)\ttotal: 964ms\tremaining: 964ms\n",
      "15:\tlearn: 5742.2571259\ttest: 5724.4761519\tbest: 5724.4761519 (15)\ttotal: 1.02s\tremaining: 895ms\n",
      "16:\tlearn: 5696.0005134\ttest: 5678.2081669\tbest: 5678.2081669 (16)\ttotal: 1.09s\tremaining: 831ms\n",
      "17:\tlearn: 5650.5847838\ttest: 5632.8195649\tbest: 5632.8195649 (17)\ttotal: 1.14s\tremaining: 760ms\n",
      "18:\tlearn: 5606.1936677\ttest: 5588.4970222\tbest: 5588.4970222 (18)\ttotal: 1.19s\tremaining: 692ms\n",
      "19:\tlearn: 5561.4205936\ttest: 5544.0547349\tbest: 5544.0547349 (19)\ttotal: 1.25s\tremaining: 626ms\n",
      "20:\tlearn: 5516.9678723\ttest: 5499.6975651\tbest: 5499.6975651 (20)\ttotal: 1.31s\tremaining: 561ms\n",
      "21:\tlearn: 5473.4158063\ttest: 5456.2346466\tbest: 5456.2346466 (21)\ttotal: 1.36s\tremaining: 497ms\n",
      "22:\tlearn: 5430.5335838\ttest: 5413.5629021\tbest: 5413.5629021 (22)\ttotal: 1.43s\tremaining: 436ms\n",
      "23:\tlearn: 5387.6685078\ttest: 5370.8572370\tbest: 5370.8572370 (23)\ttotal: 1.49s\tremaining: 373ms\n",
      "24:\tlearn: 5345.3400435\ttest: 5328.5400459\tbest: 5328.5400459 (24)\ttotal: 1.54s\tremaining: 309ms\n",
      "25:\tlearn: 5304.2258263\ttest: 5287.5070863\tbest: 5287.5070863 (25)\ttotal: 1.6s\tremaining: 247ms\n",
      "26:\tlearn: 5262.4258596\ttest: 5245.8747933\tbest: 5245.8747933 (26)\ttotal: 1.66s\tremaining: 185ms\n",
      "27:\tlearn: 5221.8164487\ttest: 5205.4360566\tbest: 5205.4360566 (27)\ttotal: 1.72s\tremaining: 123ms\n",
      "28:\tlearn: 5181.4327019\ttest: 5165.0312887\tbest: 5165.0312887 (28)\ttotal: 1.79s\tremaining: 61.7ms\n",
      "29:\tlearn: 5141.6651760\ttest: 5125.2330120\tbest: 5125.2330120 (29)\ttotal: 1.86s\tremaining: 0us\n",
      "\n",
      "bestTest = 5125.233012\n",
      "bestIteration = 29\n",
      "\n",
      "6:\tloss: 5125.2330120\tbest: 1730.1045784 (5)\ttotal: 29.5s\tremaining: 12.6s\n",
      "0:\tlearn: 2716.9474308\ttest: 2699.6390404\tbest: 2699.6390404 (0)\ttotal: 105ms\tremaining: 13.5s\n",
      "1:\tlearn: 2400.4621271\ttest: 2387.1056632\tbest: 2387.1056632 (1)\ttotal: 168ms\tremaining: 10.7s\n",
      "2:\tlearn: 2207.3067720\ttest: 2196.7550172\tbest: 2196.7550172 (2)\ttotal: 229ms\tremaining: 9.68s\n",
      "3:\tlearn: 2119.9275353\ttest: 2107.0624847\tbest: 2107.0624847 (3)\ttotal: 288ms\tremaining: 9.08s\n",
      "4:\tlearn: 2065.1443003\ttest: 2057.5850647\tbest: 2057.5850647 (4)\ttotal: 348ms\tremaining: 8.7s\n",
      "5:\tlearn: 2018.6250193\ttest: 2014.0631880\tbest: 2014.0631880 (5)\ttotal: 418ms\tremaining: 8.65s\n",
      "6:\tlearn: 1960.7913088\ttest: 1961.4443108\tbest: 1961.4443108 (6)\ttotal: 474ms\tremaining: 8.33s\n",
      "7:\tlearn: 1923.3558440\ttest: 1925.0136668\tbest: 1925.0136668 (7)\ttotal: 532ms\tremaining: 8.11s\n",
      "8:\tlearn: 1898.5799738\ttest: 1908.5379363\tbest: 1908.5379363 (8)\ttotal: 602ms\tremaining: 8.09s\n",
      "9:\tlearn: 1882.4131558\ttest: 1893.6031711\tbest: 1893.6031711 (9)\ttotal: 666ms\tremaining: 7.99s\n",
      "10:\tlearn: 1859.5290398\ttest: 1871.5547540\tbest: 1871.5547540 (10)\ttotal: 724ms\tremaining: 7.83s\n",
      "11:\tlearn: 1836.9486009\ttest: 1851.4595095\tbest: 1851.4595095 (11)\ttotal: 783ms\tremaining: 7.7s\n",
      "12:\tlearn: 1822.3809495\ttest: 1837.6389293\tbest: 1837.6389293 (12)\ttotal: 845ms\tremaining: 7.61s\n",
      "13:\tlearn: 1811.9465613\ttest: 1826.6562822\tbest: 1826.6562822 (13)\ttotal: 901ms\tremaining: 7.47s\n",
      "14:\tlearn: 1801.9221419\ttest: 1818.1505222\tbest: 1818.1505222 (14)\ttotal: 959ms\tremaining: 7.35s\n",
      "15:\tlearn: 1791.6919074\ttest: 1808.5392571\tbest: 1808.5392571 (15)\ttotal: 1.01s\tremaining: 7.21s\n",
      "16:\tlearn: 1783.5230907\ttest: 1798.8333139\tbest: 1798.8333139 (16)\ttotal: 1.06s\tremaining: 7.08s\n",
      "17:\tlearn: 1775.4769223\ttest: 1790.8638776\tbest: 1790.8638776 (17)\ttotal: 1.12s\tremaining: 6.98s\n",
      "18:\tlearn: 1765.9929658\ttest: 1782.3412597\tbest: 1782.3412597 (18)\ttotal: 1.17s\tremaining: 6.86s\n",
      "19:\tlearn: 1761.0893299\ttest: 1781.3177907\tbest: 1781.3177907 (19)\ttotal: 1.23s\tremaining: 6.75s\n",
      "20:\tlearn: 1754.0826440\ttest: 1776.2957683\tbest: 1776.2957683 (20)\ttotal: 1.28s\tremaining: 6.64s\n",
      "21:\tlearn: 1749.9922215\ttest: 1773.5994621\tbest: 1773.5994621 (21)\ttotal: 1.34s\tremaining: 6.56s\n",
      "22:\tlearn: 1741.0139441\ttest: 1770.0852979\tbest: 1770.0852979 (22)\ttotal: 1.39s\tremaining: 6.47s\n",
      "23:\tlearn: 1734.6633266\ttest: 1763.1405563\tbest: 1763.1405563 (23)\ttotal: 1.45s\tremaining: 6.38s\n",
      "24:\tlearn: 1728.8138059\ttest: 1759.9332934\tbest: 1759.9332934 (24)\ttotal: 1.5s\tremaining: 6.29s\n",
      "25:\tlearn: 1726.6160705\ttest: 1761.3663485\tbest: 1759.9332934 (24)\ttotal: 1.55s\tremaining: 6.21s\n",
      "26:\tlearn: 1721.2013237\ttest: 1756.0375523\tbest: 1756.0375523 (26)\ttotal: 1.61s\tremaining: 6.14s\n",
      "27:\tlearn: 1716.4837589\ttest: 1755.6638090\tbest: 1755.6638090 (27)\ttotal: 1.68s\tremaining: 6.11s\n",
      "28:\tlearn: 1711.8919736\ttest: 1752.2281988\tbest: 1752.2281988 (28)\ttotal: 1.73s\tremaining: 6.02s\n",
      "29:\tlearn: 1707.1529219\ttest: 1748.1310634\tbest: 1748.1310634 (29)\ttotal: 1.78s\tremaining: 5.94s\n",
      "30:\tlearn: 1703.4126095\ttest: 1744.5702806\tbest: 1744.5702806 (30)\ttotal: 1.83s\tremaining: 5.86s\n",
      "31:\tlearn: 1698.9569728\ttest: 1740.6481246\tbest: 1740.6481246 (31)\ttotal: 1.89s\tremaining: 5.78s\n",
      "32:\tlearn: 1694.4964704\ttest: 1739.6469776\tbest: 1739.6469776 (32)\ttotal: 1.94s\tremaining: 5.7s\n",
      "33:\tlearn: 1692.3502858\ttest: 1738.6086993\tbest: 1738.6086993 (33)\ttotal: 1.99s\tremaining: 5.62s\n",
      "34:\tlearn: 1689.4644271\ttest: 1736.2797185\tbest: 1736.2797185 (34)\ttotal: 2.05s\tremaining: 5.56s\n",
      "35:\tlearn: 1685.4891109\ttest: 1732.7091120\tbest: 1732.7091120 (35)\ttotal: 2.1s\tremaining: 5.49s\n",
      "36:\tlearn: 1683.4112933\ttest: 1732.9433713\tbest: 1732.7091120 (35)\ttotal: 2.15s\tremaining: 5.42s\n",
      "37:\tlearn: 1681.2281581\ttest: 1732.8175411\tbest: 1732.7091120 (35)\ttotal: 2.21s\tremaining: 5.34s\n",
      "38:\tlearn: 1677.7187270\ttest: 1728.8129510\tbest: 1728.8129510 (38)\ttotal: 2.27s\tremaining: 5.29s\n",
      "39:\tlearn: 1674.2270128\ttest: 1727.5531942\tbest: 1727.5531942 (39)\ttotal: 2.33s\tremaining: 5.23s\n",
      "40:\tlearn: 1670.6641172\ttest: 1726.2430352\tbest: 1726.2430352 (40)\ttotal: 2.39s\tremaining: 5.19s\n",
      "41:\tlearn: 1667.8636554\ttest: 1726.0302917\tbest: 1726.0302917 (41)\ttotal: 2.45s\tremaining: 5.13s\n",
      "42:\tlearn: 1666.0816215\ttest: 1725.8634467\tbest: 1725.8634467 (42)\ttotal: 2.5s\tremaining: 5.07s\n",
      "43:\tlearn: 1662.2946055\ttest: 1724.5068860\tbest: 1724.5068860 (43)\ttotal: 2.56s\tremaining: 5s\n",
      "44:\tlearn: 1658.1609918\ttest: 1724.3549581\tbest: 1724.3549581 (44)\ttotal: 2.62s\tremaining: 4.94s\n",
      "45:\tlearn: 1655.1294564\ttest: 1721.8501588\tbest: 1721.8501588 (45)\ttotal: 2.68s\tremaining: 4.89s\n",
      "46:\tlearn: 1654.1445374\ttest: 1722.6815990\tbest: 1721.8501588 (45)\ttotal: 2.73s\tremaining: 4.82s\n",
      "47:\tlearn: 1652.4101761\ttest: 1721.6116207\tbest: 1721.6116207 (47)\ttotal: 2.79s\tremaining: 4.76s\n",
      "48:\tlearn: 1651.3786765\ttest: 1721.0716243\tbest: 1721.0716243 (48)\ttotal: 2.84s\tremaining: 4.69s\n",
      "49:\tlearn: 1648.2921633\ttest: 1718.4931674\tbest: 1718.4931674 (49)\ttotal: 2.9s\tremaining: 4.63s\n",
      "50:\tlearn: 1645.3511265\ttest: 1715.6183874\tbest: 1715.6183874 (50)\ttotal: 2.96s\tremaining: 4.58s\n",
      "51:\tlearn: 1642.8939232\ttest: 1716.4749529\tbest: 1715.6183874 (50)\ttotal: 3.01s\tremaining: 4.52s\n",
      "52:\tlearn: 1639.4741818\ttest: 1712.8671862\tbest: 1712.8671862 (52)\ttotal: 3.07s\tremaining: 4.46s\n",
      "53:\tlearn: 1637.3683075\ttest: 1711.6429603\tbest: 1711.6429603 (53)\ttotal: 3.13s\tremaining: 4.41s\n",
      "54:\tlearn: 1633.9445341\ttest: 1712.0601363\tbest: 1711.6429603 (53)\ttotal: 3.19s\tremaining: 4.35s\n",
      "55:\tlearn: 1631.5820635\ttest: 1708.5435136\tbest: 1708.5435136 (55)\ttotal: 3.24s\tremaining: 4.29s\n",
      "56:\tlearn: 1629.8190206\ttest: 1709.0236776\tbest: 1708.5435136 (55)\ttotal: 3.3s\tremaining: 4.22s\n",
      "57:\tlearn: 1627.8410287\ttest: 1709.7751488\tbest: 1708.5435136 (55)\ttotal: 3.35s\tremaining: 4.16s\n",
      "58:\tlearn: 1626.3166423\ttest: 1709.6058327\tbest: 1708.5435136 (55)\ttotal: 3.4s\tremaining: 4.09s\n",
      "59:\tlearn: 1624.3348282\ttest: 1708.4983891\tbest: 1708.4983891 (59)\ttotal: 3.46s\tremaining: 4.04s\n",
      "60:\tlearn: 1622.6352347\ttest: 1708.5007528\tbest: 1708.4983891 (59)\ttotal: 3.52s\tremaining: 3.98s\n",
      "61:\tlearn: 1619.4534030\ttest: 1707.0994902\tbest: 1707.0994902 (61)\ttotal: 3.57s\tremaining: 3.92s\n",
      "62:\tlearn: 1617.0843268\ttest: 1706.0105210\tbest: 1706.0105210 (62)\ttotal: 3.62s\tremaining: 3.85s\n",
      "63:\tlearn: 1615.6092094\ttest: 1705.4787034\tbest: 1705.4787034 (63)\ttotal: 3.67s\tremaining: 3.79s\n",
      "64:\tlearn: 1614.2263343\ttest: 1705.8474663\tbest: 1705.4787034 (63)\ttotal: 3.73s\tremaining: 3.73s\n",
      "65:\tlearn: 1611.3485810\ttest: 1703.9682426\tbest: 1703.9682426 (65)\ttotal: 3.78s\tremaining: 3.67s\n",
      "66:\tlearn: 1608.1500077\ttest: 1703.1592372\tbest: 1703.1592372 (66)\ttotal: 3.84s\tremaining: 3.61s\n",
      "67:\tlearn: 1606.1052718\ttest: 1702.4410001\tbest: 1702.4410001 (67)\ttotal: 3.9s\tremaining: 3.55s\n",
      "68:\tlearn: 1605.2589036\ttest: 1702.2038599\tbest: 1702.2038599 (68)\ttotal: 3.95s\tremaining: 3.49s\n",
      "69:\tlearn: 1604.1770728\ttest: 1701.8654624\tbest: 1701.8654624 (69)\ttotal: 4s\tremaining: 3.43s\n",
      "70:\tlearn: 1602.7355361\ttest: 1700.5237220\tbest: 1700.5237220 (70)\ttotal: 4.06s\tremaining: 3.37s\n",
      "71:\tlearn: 1601.8825371\ttest: 1700.3421046\tbest: 1700.3421046 (71)\ttotal: 4.11s\tremaining: 3.31s\n",
      "72:\tlearn: 1599.1605175\ttest: 1698.0341133\tbest: 1698.0341133 (72)\ttotal: 4.17s\tremaining: 3.25s\n",
      "73:\tlearn: 1597.2976909\ttest: 1696.0528043\tbest: 1696.0528043 (73)\ttotal: 4.22s\tremaining: 3.19s\n",
      "74:\tlearn: 1595.6973542\ttest: 1695.2637654\tbest: 1695.2637654 (74)\ttotal: 4.27s\tremaining: 3.13s\n",
      "75:\tlearn: 1593.4643295\ttest: 1694.0221528\tbest: 1694.0221528 (75)\ttotal: 4.33s\tremaining: 3.08s\n",
      "76:\tlearn: 1592.4468984\ttest: 1693.6870437\tbest: 1693.6870437 (76)\ttotal: 4.39s\tremaining: 3.02s\n",
      "77:\tlearn: 1591.8905957\ttest: 1692.9921144\tbest: 1692.9921144 (77)\ttotal: 4.46s\tremaining: 2.98s\n",
      "78:\tlearn: 1589.3418045\ttest: 1692.5004775\tbest: 1692.5004775 (78)\ttotal: 4.54s\tremaining: 2.93s\n",
      "79:\tlearn: 1588.4504895\ttest: 1692.6302119\tbest: 1692.5004775 (78)\ttotal: 4.59s\tremaining: 2.87s\n",
      "80:\tlearn: 1587.2321701\ttest: 1692.7942014\tbest: 1692.5004775 (78)\ttotal: 4.68s\tremaining: 2.83s\n",
      "81:\tlearn: 1585.9963419\ttest: 1691.8605382\tbest: 1691.8605382 (81)\ttotal: 4.77s\tremaining: 2.79s\n",
      "82:\tlearn: 1584.2142304\ttest: 1690.1611838\tbest: 1690.1611838 (82)\ttotal: 4.86s\tremaining: 2.75s\n",
      "83:\tlearn: 1583.6601300\ttest: 1689.4413269\tbest: 1689.4413269 (83)\ttotal: 4.92s\tremaining: 2.69s\n",
      "84:\tlearn: 1582.7300025\ttest: 1689.9635565\tbest: 1689.4413269 (83)\ttotal: 4.97s\tremaining: 2.63s\n",
      "85:\tlearn: 1581.2194656\ttest: 1688.4258139\tbest: 1688.4258139 (85)\ttotal: 5.04s\tremaining: 2.58s\n",
      "86:\tlearn: 1579.9270915\ttest: 1687.9986388\tbest: 1687.9986388 (86)\ttotal: 5.09s\tremaining: 2.52s\n",
      "87:\tlearn: 1577.3199674\ttest: 1686.0478996\tbest: 1686.0478996 (87)\ttotal: 5.16s\tremaining: 2.46s\n",
      "88:\tlearn: 1575.3692908\ttest: 1685.6626192\tbest: 1685.6626192 (88)\ttotal: 5.22s\tremaining: 2.4s\n",
      "89:\tlearn: 1574.1144454\ttest: 1684.8902674\tbest: 1684.8902674 (89)\ttotal: 5.28s\tremaining: 2.34s\n",
      "90:\tlearn: 1571.9089492\ttest: 1683.1793291\tbest: 1683.1793291 (90)\ttotal: 5.33s\tremaining: 2.28s\n",
      "91:\tlearn: 1570.7623096\ttest: 1682.2997718\tbest: 1682.2997718 (91)\ttotal: 5.39s\tremaining: 2.22s\n",
      "92:\tlearn: 1568.8965581\ttest: 1683.1009449\tbest: 1682.2997718 (91)\ttotal: 5.44s\tremaining: 2.17s\n",
      "93:\tlearn: 1567.1535577\ttest: 1683.5900718\tbest: 1682.2997718 (91)\ttotal: 5.5s\tremaining: 2.1s\n",
      "94:\tlearn: 1566.3336925\ttest: 1683.9504900\tbest: 1682.2997718 (91)\ttotal: 5.55s\tremaining: 2.04s\n",
      "95:\tlearn: 1565.0358919\ttest: 1683.3402707\tbest: 1682.2997718 (91)\ttotal: 5.61s\tremaining: 1.99s\n",
      "96:\tlearn: 1564.5539962\ttest: 1683.6940841\tbest: 1682.2997718 (91)\ttotal: 5.66s\tremaining: 1.93s\n",
      "97:\tlearn: 1563.5729392\ttest: 1684.8679200\tbest: 1682.2997718 (91)\ttotal: 5.72s\tremaining: 1.87s\n",
      "98:\tlearn: 1562.4407031\ttest: 1684.0864782\tbest: 1682.2997718 (91)\ttotal: 5.78s\tremaining: 1.81s\n",
      "99:\tlearn: 1561.6929262\ttest: 1684.5663858\tbest: 1682.2997718 (91)\ttotal: 5.84s\tremaining: 1.75s\n",
      "100:\tlearn: 1560.6573121\ttest: 1685.5005809\tbest: 1682.2997718 (91)\ttotal: 5.9s\tremaining: 1.69s\n",
      "101:\tlearn: 1559.4379803\ttest: 1685.4603299\tbest: 1682.2997718 (91)\ttotal: 5.95s\tremaining: 1.63s\n",
      "102:\tlearn: 1558.3360278\ttest: 1685.9220730\tbest: 1682.2997718 (91)\ttotal: 6.01s\tremaining: 1.57s\n",
      "103:\tlearn: 1556.9917344\ttest: 1685.8390932\tbest: 1682.2997718 (91)\ttotal: 6.06s\tremaining: 1.52s\n",
      "104:\tlearn: 1556.3552991\ttest: 1685.4552035\tbest: 1682.2997718 (91)\ttotal: 6.13s\tremaining: 1.46s\n",
      "105:\tlearn: 1554.4709590\ttest: 1684.5999484\tbest: 1682.2997718 (91)\ttotal: 6.21s\tremaining: 1.41s\n",
      "106:\tlearn: 1554.0819674\ttest: 1684.5145618\tbest: 1682.2997718 (91)\ttotal: 6.27s\tremaining: 1.35s\n",
      "107:\tlearn: 1552.7121918\ttest: 1684.1619410\tbest: 1682.2997718 (91)\ttotal: 6.33s\tremaining: 1.29s\n",
      "108:\tlearn: 1550.2860248\ttest: 1684.0389492\tbest: 1682.2997718 (91)\ttotal: 6.4s\tremaining: 1.23s\n",
      "109:\tlearn: 1549.2359089\ttest: 1684.5273719\tbest: 1682.2997718 (91)\ttotal: 6.47s\tremaining: 1.18s\n",
      "110:\tlearn: 1547.9341271\ttest: 1684.9221814\tbest: 1682.2997718 (91)\ttotal: 6.53s\tremaining: 1.12s\n",
      "111:\tlearn: 1547.2127013\ttest: 1684.9255662\tbest: 1682.2997718 (91)\ttotal: 6.58s\tremaining: 1.06s\n",
      "112:\tlearn: 1545.8648577\ttest: 1683.8907457\tbest: 1682.2997718 (91)\ttotal: 6.64s\tremaining: 999ms\n",
      "113:\tlearn: 1544.9835145\ttest: 1684.3454111\tbest: 1682.2997718 (91)\ttotal: 6.7s\tremaining: 940ms\n",
      "114:\tlearn: 1543.7600922\ttest: 1685.0639235\tbest: 1682.2997718 (91)\ttotal: 6.77s\tremaining: 883ms\n",
      "115:\tlearn: 1542.7679478\ttest: 1686.0490588\tbest: 1682.2997718 (91)\ttotal: 6.83s\tremaining: 824ms\n",
      "116:\tlearn: 1542.2079627\ttest: 1686.8660740\tbest: 1682.2997718 (91)\ttotal: 6.88s\tremaining: 765ms\n",
      "117:\tlearn: 1540.3703301\ttest: 1686.3431805\tbest: 1682.2997718 (91)\ttotal: 6.95s\tremaining: 706ms\n",
      "118:\tlearn: 1539.2131322\ttest: 1686.4659471\tbest: 1682.2997718 (91)\ttotal: 7.01s\tremaining: 648ms\n",
      "119:\tlearn: 1538.0224730\ttest: 1687.0659888\tbest: 1682.2997718 (91)\ttotal: 7.06s\tremaining: 588ms\n",
      "120:\tlearn: 1535.8963192\ttest: 1686.5341471\tbest: 1682.2997718 (91)\ttotal: 7.12s\tremaining: 529ms\n",
      "121:\tlearn: 1534.5129201\ttest: 1685.4349176\tbest: 1682.2997718 (91)\ttotal: 7.17s\tremaining: 470ms\n",
      "122:\tlearn: 1534.0992913\ttest: 1685.6752580\tbest: 1682.2997718 (91)\ttotal: 7.24s\tremaining: 412ms\n",
      "123:\tlearn: 1532.5758617\ttest: 1685.6163554\tbest: 1682.2997718 (91)\ttotal: 7.29s\tremaining: 353ms\n",
      "124:\tlearn: 1532.0243210\ttest: 1685.3107882\tbest: 1682.2997718 (91)\ttotal: 7.35s\tremaining: 294ms\n",
      "125:\tlearn: 1531.5520251\ttest: 1684.6646825\tbest: 1682.2997718 (91)\ttotal: 7.4s\tremaining: 235ms\n",
      "126:\tlearn: 1530.8204876\ttest: 1684.3760297\tbest: 1682.2997718 (91)\ttotal: 7.46s\tremaining: 176ms\n",
      "127:\tlearn: 1530.3002608\ttest: 1683.7066007\tbest: 1682.2997718 (91)\ttotal: 7.51s\tremaining: 117ms\n",
      "128:\tlearn: 1528.2498948\ttest: 1681.7943641\tbest: 1681.7943641 (128)\ttotal: 7.57s\tremaining: 58.7ms\n",
      "129:\tlearn: 1527.2260166\ttest: 1682.5851643\tbest: 1681.7943641 (128)\ttotal: 7.62s\tremaining: 0us\n",
      "\n",
      "bestTest = 1681.794364\n",
      "bestIteration = 128\n",
      "\n",
      "7:\tloss: 1681.7943641\tbest: 1681.7943641 (7)\ttotal: 37.1s\tremaining: 9.29s\n",
      "0:\tlearn: 4037.6876670\ttest: 4023.2665445\tbest: 4023.2665445 (0)\ttotal: 80ms\tremaining: 11.1s\n",
      "1:\tlearn: 2837.0458807\ttest: 2823.5481860\tbest: 2823.5481860 (1)\ttotal: 145ms\tremaining: 10s\n",
      "2:\tlearn: 2363.7343518\ttest: 2350.2524926\tbest: 2350.2524926 (2)\ttotal: 206ms\tremaining: 9.41s\n",
      "3:\tlearn: 2139.6474304\ttest: 2122.2967882\tbest: 2122.2967882 (3)\ttotal: 270ms\tremaining: 9.19s\n",
      "4:\tlearn: 2038.8670657\ttest: 2024.5652107\tbest: 2024.5652107 (4)\ttotal: 329ms\tremaining: 8.88s\n",
      "5:\tlearn: 1985.0539302\ttest: 1970.8730017\tbest: 1970.8730017 (5)\ttotal: 383ms\tremaining: 8.56s\n",
      "6:\tlearn: 1949.2530555\ttest: 1938.6374743\tbest: 1938.6374743 (6)\ttotal: 439ms\tremaining: 8.35s\n",
      "7:\tlearn: 1927.2016972\ttest: 1916.2077534\tbest: 1916.2077534 (7)\ttotal: 532ms\tremaining: 8.78s\n",
      "8:\tlearn: 1902.8706997\ttest: 1894.0169570\tbest: 1894.0169570 (8)\ttotal: 603ms\tremaining: 8.78s\n",
      "9:\tlearn: 1890.1723758\ttest: 1883.1632847\tbest: 1883.1632847 (9)\ttotal: 664ms\tremaining: 8.63s\n",
      "10:\tlearn: 1867.7173419\ttest: 1861.1557249\tbest: 1861.1557249 (10)\ttotal: 765ms\tremaining: 8.98s\n",
      "11:\tlearn: 1845.5004600\ttest: 1840.8026423\tbest: 1840.8026423 (11)\ttotal: 834ms\tremaining: 8.9s\n",
      "12:\tlearn: 1827.9510346\ttest: 1824.2509730\tbest: 1824.2509730 (12)\ttotal: 896ms\tremaining: 8.76s\n",
      "13:\tlearn: 1815.9146770\ttest: 1814.5140469\tbest: 1814.5140469 (13)\ttotal: 956ms\tremaining: 8.61s\n",
      "14:\tlearn: 1808.9223782\ttest: 1808.0243458\tbest: 1808.0243458 (14)\ttotal: 1.01s\tremaining: 8.45s\n",
      "15:\tlearn: 1798.6663431\ttest: 1798.5447594\tbest: 1798.5447594 (15)\ttotal: 1.08s\tremaining: 8.35s\n",
      "16:\tlearn: 1791.6966306\ttest: 1792.8554113\tbest: 1792.8554113 (16)\ttotal: 1.14s\tremaining: 8.22s\n",
      "17:\tlearn: 1785.3871282\ttest: 1787.5812747\tbest: 1787.5812747 (17)\ttotal: 1.21s\tremaining: 8.19s\n",
      "18:\tlearn: 1776.9773179\ttest: 1781.5990238\tbest: 1781.5990238 (18)\ttotal: 1.36s\tremaining: 8.64s\n",
      "19:\tlearn: 1771.0089827\ttest: 1777.0629811\tbest: 1777.0629811 (19)\ttotal: 1.47s\tremaining: 8.81s\n",
      "20:\tlearn: 1766.2583754\ttest: 1772.8834784\tbest: 1772.8834784 (20)\ttotal: 1.58s\tremaining: 8.98s\n",
      "21:\tlearn: 1759.0454268\ttest: 1768.6750277\tbest: 1768.6750277 (21)\ttotal: 1.76s\tremaining: 9.43s\n",
      "22:\tlearn: 1752.2644889\ttest: 1762.7529889\tbest: 1762.7529889 (22)\ttotal: 1.82s\tremaining: 9.28s\n",
      "23:\tlearn: 1747.8292008\ttest: 1758.8364474\tbest: 1758.8364474 (23)\ttotal: 1.9s\tremaining: 9.2s\n",
      "24:\tlearn: 1740.6112659\ttest: 1752.3979379\tbest: 1752.3979379 (24)\ttotal: 1.96s\tremaining: 9.03s\n",
      "25:\tlearn: 1737.1143515\ttest: 1748.9101261\tbest: 1748.9101261 (25)\ttotal: 2.06s\tremaining: 9.02s\n",
      "26:\tlearn: 1733.2516996\ttest: 1745.9026276\tbest: 1745.9026276 (26)\ttotal: 2.15s\tremaining: 9.01s\n",
      "27:\tlearn: 1728.4566855\ttest: 1742.4822285\tbest: 1742.4822285 (27)\ttotal: 2.22s\tremaining: 8.88s\n",
      "28:\tlearn: 1723.3367795\ttest: 1738.3722840\tbest: 1738.3722840 (28)\ttotal: 2.28s\tremaining: 8.72s\n",
      "29:\tlearn: 1720.2556863\ttest: 1735.8724122\tbest: 1735.8724122 (29)\ttotal: 2.33s\tremaining: 8.56s\n",
      "30:\tlearn: 1717.2912639\ttest: 1733.8884308\tbest: 1733.8884308 (30)\ttotal: 2.4s\tremaining: 8.44s\n",
      "31:\tlearn: 1713.7317143\ttest: 1730.4290976\tbest: 1730.4290976 (31)\ttotal: 2.46s\tremaining: 8.3s\n",
      "32:\tlearn: 1711.2980917\ttest: 1729.3292798\tbest: 1729.3292798 (32)\ttotal: 2.52s\tremaining: 8.15s\n",
      "33:\tlearn: 1706.5460062\ttest: 1726.1714665\tbest: 1726.1714665 (33)\ttotal: 2.58s\tremaining: 8.03s\n",
      "34:\tlearn: 1702.9437355\ttest: 1723.7824013\tbest: 1723.7824013 (34)\ttotal: 2.65s\tremaining: 7.96s\n",
      "35:\tlearn: 1701.0096167\ttest: 1721.9149688\tbest: 1721.9149688 (35)\ttotal: 2.75s\tremaining: 7.93s\n",
      "36:\tlearn: 1696.4549189\ttest: 1717.9255702\tbest: 1717.9255702 (36)\ttotal: 2.84s\tremaining: 7.91s\n",
      "37:\tlearn: 1693.2776494\ttest: 1715.6050489\tbest: 1715.6050489 (37)\ttotal: 2.92s\tremaining: 7.85s\n",
      "38:\tlearn: 1692.4846023\ttest: 1715.6776621\tbest: 1715.6050489 (37)\ttotal: 2.98s\tremaining: 7.73s\n",
      "39:\tlearn: 1689.0056093\ttest: 1712.9184281\tbest: 1712.9184281 (39)\ttotal: 3.04s\tremaining: 7.6s\n",
      "40:\tlearn: 1687.5078027\ttest: 1712.7695545\tbest: 1712.7695545 (40)\ttotal: 3.1s\tremaining: 7.48s\n",
      "41:\tlearn: 1685.2318095\ttest: 1711.9573306\tbest: 1711.9573306 (41)\ttotal: 3.15s\tremaining: 7.36s\n",
      "42:\tlearn: 1682.6297054\ttest: 1709.2159569\tbest: 1709.2159569 (42)\ttotal: 3.21s\tremaining: 7.23s\n",
      "43:\tlearn: 1680.7037026\ttest: 1708.1957840\tbest: 1708.1957840 (43)\ttotal: 3.27s\tremaining: 7.12s\n",
      "44:\tlearn: 1677.7041691\ttest: 1706.0589724\tbest: 1706.0589724 (44)\ttotal: 3.32s\tremaining: 7.01s\n",
      "45:\tlearn: 1675.0451621\ttest: 1704.9800531\tbest: 1704.9800531 (45)\ttotal: 3.38s\tremaining: 6.9s\n",
      "46:\tlearn: 1672.5545332\ttest: 1702.9043955\tbest: 1702.9043955 (46)\ttotal: 3.44s\tremaining: 6.81s\n",
      "47:\tlearn: 1670.9088538\ttest: 1703.0040162\tbest: 1702.9043955 (46)\ttotal: 3.5s\tremaining: 6.71s\n",
      "48:\tlearn: 1668.5699374\ttest: 1701.1134092\tbest: 1701.1134092 (48)\ttotal: 3.56s\tremaining: 6.61s\n",
      "49:\tlearn: 1665.5801312\ttest: 1700.3653607\tbest: 1700.3653607 (49)\ttotal: 3.62s\tremaining: 6.51s\n",
      "50:\tlearn: 1663.2745058\ttest: 1699.2358714\tbest: 1699.2358714 (50)\ttotal: 3.68s\tremaining: 6.42s\n",
      "51:\tlearn: 1660.7871499\ttest: 1698.1287599\tbest: 1698.1287599 (51)\ttotal: 3.74s\tremaining: 6.33s\n",
      "52:\tlearn: 1658.2442397\ttest: 1695.8144625\tbest: 1695.8144625 (52)\ttotal: 3.8s\tremaining: 6.24s\n",
      "53:\tlearn: 1654.7205265\ttest: 1692.7861872\tbest: 1692.7861872 (53)\ttotal: 3.86s\tremaining: 6.14s\n",
      "54:\tlearn: 1652.6049377\ttest: 1690.8419638\tbest: 1690.8419638 (54)\ttotal: 3.91s\tremaining: 6.05s\n",
      "55:\tlearn: 1649.8397377\ttest: 1689.3609203\tbest: 1689.3609203 (55)\ttotal: 3.97s\tremaining: 5.95s\n",
      "56:\tlearn: 1647.3363316\ttest: 1687.4891094\tbest: 1687.4891094 (56)\ttotal: 4.02s\tremaining: 5.86s\n",
      "57:\tlearn: 1644.8371505\ttest: 1686.3558213\tbest: 1686.3558213 (57)\ttotal: 4.08s\tremaining: 5.76s\n",
      "58:\tlearn: 1643.4344080\ttest: 1685.3032493\tbest: 1685.3032493 (58)\ttotal: 4.13s\tremaining: 5.67s\n",
      "59:\tlearn: 1642.2077974\ttest: 1684.6795733\tbest: 1684.6795733 (59)\ttotal: 4.19s\tremaining: 5.58s\n",
      "60:\tlearn: 1640.7752660\ttest: 1683.7978187\tbest: 1683.7978187 (60)\ttotal: 4.24s\tremaining: 5.49s\n",
      "61:\tlearn: 1638.2375339\ttest: 1682.0149497\tbest: 1682.0149497 (61)\ttotal: 4.3s\tremaining: 5.41s\n",
      "62:\tlearn: 1637.1299303\ttest: 1681.4553550\tbest: 1681.4553550 (62)\ttotal: 4.36s\tremaining: 5.33s\n",
      "63:\tlearn: 1635.7635969\ttest: 1681.6758520\tbest: 1681.4553550 (62)\ttotal: 4.41s\tremaining: 5.24s\n",
      "64:\tlearn: 1634.8459093\ttest: 1680.8982787\tbest: 1680.8982787 (64)\ttotal: 4.47s\tremaining: 5.15s\n",
      "65:\tlearn: 1632.4117400\ttest: 1679.1770718\tbest: 1679.1770718 (65)\ttotal: 4.52s\tremaining: 5.07s\n",
      "66:\tlearn: 1628.8603749\ttest: 1676.4399183\tbest: 1676.4399183 (66)\ttotal: 4.58s\tremaining: 4.99s\n",
      "67:\tlearn: 1627.5478507\ttest: 1675.4967026\tbest: 1675.4967026 (67)\ttotal: 4.63s\tremaining: 4.9s\n",
      "68:\tlearn: 1625.2794264\ttest: 1674.5536433\tbest: 1674.5536433 (68)\ttotal: 4.69s\tremaining: 4.82s\n",
      "69:\tlearn: 1623.9663506\ttest: 1674.1601454\tbest: 1674.1601454 (69)\ttotal: 4.75s\tremaining: 4.75s\n",
      "70:\tlearn: 1622.6318677\ttest: 1673.5549566\tbest: 1673.5549566 (70)\ttotal: 4.8s\tremaining: 4.67s\n",
      "71:\tlearn: 1621.8585782\ttest: 1673.0822574\tbest: 1673.0822574 (71)\ttotal: 4.86s\tremaining: 4.58s\n",
      "72:\tlearn: 1620.9393506\ttest: 1673.1285835\tbest: 1673.0822574 (71)\ttotal: 4.92s\tremaining: 4.52s\n",
      "73:\tlearn: 1619.2166309\ttest: 1672.0560535\tbest: 1672.0560535 (73)\ttotal: 4.98s\tremaining: 4.44s\n",
      "74:\tlearn: 1618.2038395\ttest: 1671.4765461\tbest: 1671.4765461 (74)\ttotal: 5.03s\tremaining: 4.36s\n",
      "75:\tlearn: 1616.6892270\ttest: 1671.4577557\tbest: 1671.4577557 (75)\ttotal: 5.09s\tremaining: 4.28s\n",
      "76:\tlearn: 1615.9388392\ttest: 1671.2651239\tbest: 1671.2651239 (76)\ttotal: 5.14s\tremaining: 4.21s\n",
      "77:\tlearn: 1612.7679186\ttest: 1669.5527532\tbest: 1669.5527532 (77)\ttotal: 5.2s\tremaining: 4.13s\n",
      "78:\tlearn: 1610.8678828\ttest: 1668.2727688\tbest: 1668.2727688 (78)\ttotal: 5.26s\tremaining: 4.06s\n",
      "79:\tlearn: 1609.2729324\ttest: 1667.9411726\tbest: 1667.9411726 (79)\ttotal: 5.32s\tremaining: 3.99s\n",
      "80:\tlearn: 1607.8689776\ttest: 1667.7603048\tbest: 1667.7603048 (80)\ttotal: 5.37s\tremaining: 3.91s\n",
      "81:\tlearn: 1606.7728691\ttest: 1666.9354917\tbest: 1666.9354917 (81)\ttotal: 5.43s\tremaining: 3.84s\n",
      "82:\tlearn: 1604.7590379\ttest: 1666.8286595\tbest: 1666.8286595 (82)\ttotal: 5.48s\tremaining: 3.77s\n",
      "83:\tlearn: 1603.2872259\ttest: 1666.3667499\tbest: 1666.3667499 (83)\ttotal: 5.54s\tremaining: 3.69s\n",
      "84:\tlearn: 1602.0494441\ttest: 1664.7771444\tbest: 1664.7771444 (84)\ttotal: 5.59s\tremaining: 3.62s\n",
      "85:\tlearn: 1601.3015562\ttest: 1664.7019728\tbest: 1664.7019728 (85)\ttotal: 5.65s\tremaining: 3.54s\n",
      "86:\tlearn: 1599.8916821\ttest: 1663.0850460\tbest: 1663.0850460 (86)\ttotal: 5.7s\tremaining: 3.47s\n",
      "87:\tlearn: 1599.3228556\ttest: 1662.6074680\tbest: 1662.6074680 (87)\ttotal: 5.76s\tremaining: 3.4s\n",
      "88:\tlearn: 1596.6296695\ttest: 1660.8565822\tbest: 1660.8565822 (88)\ttotal: 5.81s\tremaining: 3.33s\n",
      "89:\tlearn: 1595.4130862\ttest: 1660.8993738\tbest: 1660.8565822 (88)\ttotal: 5.86s\tremaining: 3.26s\n",
      "90:\tlearn: 1593.4410116\ttest: 1658.9239566\tbest: 1658.9239566 (90)\ttotal: 5.94s\tremaining: 3.2s\n",
      "91:\tlearn: 1592.7189202\ttest: 1658.6555423\tbest: 1658.6555423 (91)\ttotal: 6s\tremaining: 3.13s\n",
      "92:\tlearn: 1591.4685188\ttest: 1658.6998974\tbest: 1658.6555423 (91)\ttotal: 6.06s\tremaining: 3.06s\n",
      "93:\tlearn: 1590.7616577\ttest: 1658.5767645\tbest: 1658.5767645 (93)\ttotal: 6.11s\tremaining: 2.99s\n",
      "94:\tlearn: 1589.2592546\ttest: 1657.4056392\tbest: 1657.4056392 (94)\ttotal: 6.17s\tremaining: 2.92s\n",
      "95:\tlearn: 1587.9779012\ttest: 1656.7816109\tbest: 1656.7816109 (95)\ttotal: 6.23s\tremaining: 2.85s\n",
      "96:\tlearn: 1587.2407763\ttest: 1656.4634482\tbest: 1656.4634482 (96)\ttotal: 6.28s\tremaining: 2.79s\n",
      "97:\tlearn: 1586.6773693\ttest: 1656.0551611\tbest: 1656.0551611 (97)\ttotal: 6.34s\tremaining: 2.72s\n",
      "98:\tlearn: 1585.6460194\ttest: 1655.8030619\tbest: 1655.8030619 (98)\ttotal: 6.39s\tremaining: 2.65s\n",
      "99:\tlearn: 1584.4057405\ttest: 1654.6367242\tbest: 1654.6367242 (99)\ttotal: 6.45s\tremaining: 2.58s\n",
      "100:\tlearn: 1583.8778216\ttest: 1654.5525802\tbest: 1654.5525802 (100)\ttotal: 6.5s\tremaining: 2.51s\n",
      "101:\tlearn: 1583.5098881\ttest: 1654.4046282\tbest: 1654.4046282 (101)\ttotal: 6.55s\tremaining: 2.44s\n",
      "102:\tlearn: 1582.2406785\ttest: 1654.6721035\tbest: 1654.4046282 (101)\ttotal: 6.61s\tremaining: 2.37s\n",
      "103:\tlearn: 1580.7799098\ttest: 1653.2392747\tbest: 1653.2392747 (103)\ttotal: 6.67s\tremaining: 2.31s\n",
      "104:\tlearn: 1579.2955450\ttest: 1653.2027532\tbest: 1653.2027532 (104)\ttotal: 6.72s\tremaining: 2.24s\n",
      "105:\tlearn: 1578.2896176\ttest: 1652.7355388\tbest: 1652.7355388 (105)\ttotal: 6.78s\tremaining: 2.17s\n",
      "106:\tlearn: 1577.4187117\ttest: 1652.3812025\tbest: 1652.3812025 (106)\ttotal: 6.83s\tremaining: 2.11s\n",
      "107:\tlearn: 1576.4805911\ttest: 1652.6715668\tbest: 1652.3812025 (106)\ttotal: 6.89s\tremaining: 2.04s\n",
      "108:\tlearn: 1574.4271577\ttest: 1651.6166402\tbest: 1651.6166402 (108)\ttotal: 6.95s\tremaining: 1.98s\n",
      "109:\tlearn: 1572.2076991\ttest: 1649.5558343\tbest: 1649.5558343 (109)\ttotal: 7.01s\tremaining: 1.91s\n",
      "110:\tlearn: 1570.2276666\ttest: 1648.7820930\tbest: 1648.7820930 (110)\ttotal: 7.07s\tremaining: 1.85s\n",
      "111:\tlearn: 1569.4207096\ttest: 1648.6115629\tbest: 1648.6115629 (111)\ttotal: 7.13s\tremaining: 1.78s\n",
      "112:\tlearn: 1568.5817136\ttest: 1648.1379073\tbest: 1648.1379073 (112)\ttotal: 7.22s\tremaining: 1.72s\n",
      "113:\tlearn: 1567.4156231\ttest: 1647.3972626\tbest: 1647.3972626 (113)\ttotal: 7.28s\tremaining: 1.66s\n",
      "114:\tlearn: 1567.0268771\ttest: 1647.6060975\tbest: 1647.3972626 (113)\ttotal: 7.35s\tremaining: 1.6s\n",
      "115:\tlearn: 1566.0566133\ttest: 1647.6822811\tbest: 1647.3972626 (113)\ttotal: 7.42s\tremaining: 1.53s\n",
      "116:\tlearn: 1564.2541670\ttest: 1646.9996732\tbest: 1646.9996732 (116)\ttotal: 7.48s\tremaining: 1.47s\n",
      "117:\tlearn: 1564.0832938\ttest: 1646.8951110\tbest: 1646.8951110 (117)\ttotal: 7.53s\tremaining: 1.4s\n",
      "118:\tlearn: 1563.2359697\ttest: 1646.5350799\tbest: 1646.5350799 (118)\ttotal: 7.59s\tremaining: 1.34s\n",
      "119:\tlearn: 1562.2456151\ttest: 1645.9541241\tbest: 1645.9541241 (119)\ttotal: 7.64s\tremaining: 1.27s\n",
      "120:\tlearn: 1560.9368727\ttest: 1645.9146357\tbest: 1645.9146357 (120)\ttotal: 7.7s\tremaining: 1.21s\n",
      "121:\tlearn: 1559.2484571\ttest: 1645.6805842\tbest: 1645.6805842 (121)\ttotal: 7.76s\tremaining: 1.15s\n",
      "122:\tlearn: 1558.7035228\ttest: 1645.9445251\tbest: 1645.6805842 (121)\ttotal: 7.82s\tremaining: 1.08s\n",
      "123:\tlearn: 1558.1762519\ttest: 1646.0738185\tbest: 1645.6805842 (121)\ttotal: 7.88s\tremaining: 1.02s\n",
      "124:\tlearn: 1557.4249082\ttest: 1646.2059565\tbest: 1645.6805842 (121)\ttotal: 7.94s\tremaining: 953ms\n",
      "125:\tlearn: 1556.5314047\ttest: 1646.7403854\tbest: 1645.6805842 (121)\ttotal: 7.99s\tremaining: 888ms\n",
      "126:\tlearn: 1555.8018422\ttest: 1646.2347221\tbest: 1645.6805842 (121)\ttotal: 8.05s\tremaining: 824ms\n",
      "127:\tlearn: 1554.4417843\ttest: 1645.7113205\tbest: 1645.6805842 (121)\ttotal: 8.11s\tremaining: 760ms\n",
      "128:\tlearn: 1553.8603113\ttest: 1645.5929222\tbest: 1645.5929222 (128)\ttotal: 8.16s\tremaining: 696ms\n",
      "129:\tlearn: 1552.8163523\ttest: 1645.4903839\tbest: 1645.4903839 (129)\ttotal: 8.22s\tremaining: 632ms\n",
      "130:\tlearn: 1552.3910514\ttest: 1645.7438359\tbest: 1645.4903839 (129)\ttotal: 8.28s\tremaining: 569ms\n",
      "131:\tlearn: 1551.6057148\ttest: 1645.9025254\tbest: 1645.4903839 (129)\ttotal: 8.34s\tremaining: 505ms\n",
      "132:\tlearn: 1551.0640508\ttest: 1645.4501007\tbest: 1645.4501007 (132)\ttotal: 8.4s\tremaining: 442ms\n",
      "133:\tlearn: 1550.2363856\ttest: 1644.7923398\tbest: 1644.7923398 (133)\ttotal: 8.47s\tremaining: 379ms\n",
      "134:\tlearn: 1549.2420665\ttest: 1644.5727061\tbest: 1644.5727061 (134)\ttotal: 8.53s\tremaining: 316ms\n",
      "135:\tlearn: 1547.6630471\ttest: 1643.6374676\tbest: 1643.6374676 (135)\ttotal: 8.59s\tremaining: 253ms\n",
      "136:\tlearn: 1547.1964824\ttest: 1643.8566847\tbest: 1643.6374676 (135)\ttotal: 8.65s\tremaining: 190ms\n",
      "137:\tlearn: 1546.1113329\ttest: 1644.0161596\tbest: 1643.6374676 (135)\ttotal: 8.72s\tremaining: 126ms\n",
      "138:\tlearn: 1545.0283462\ttest: 1643.1794918\tbest: 1643.1794918 (138)\ttotal: 8.78s\tremaining: 63.2ms\n",
      "139:\tlearn: 1543.4129092\ttest: 1642.4822686\tbest: 1642.4822686 (139)\ttotal: 8.84s\tremaining: 0us\n",
      "\n",
      "bestTest = 1642.482269\n",
      "bestIteration = 139\n",
      "\n",
      "8:\tloss: 1642.4822686\tbest: 1642.4822686 (8)\ttotal: 46s\tremaining: 5.11s\n",
      "0:\tlearn: 6004.5091212\ttest: 5985.8740155\tbest: 5985.8740155 (0)\ttotal: 102ms\tremaining: 19.4s\n",
      "1:\tlearn: 5509.3484353\ttest: 5489.8320702\tbest: 5489.8320702 (1)\ttotal: 186ms\tremaining: 17.5s\n",
      "2:\tlearn: 5069.2980957\ttest: 5053.1533885\tbest: 5053.1533885 (2)\ttotal: 263ms\tremaining: 16.4s\n",
      "3:\tlearn: 4681.5612877\ttest: 4666.0051377\tbest: 4666.0051377 (3)\ttotal: 339ms\tremaining: 15.8s\n",
      "4:\tlearn: 4326.8549121\ttest: 4310.3396719\tbest: 4310.3396719 (4)\ttotal: 425ms\tremaining: 15.7s\n",
      "5:\tlearn: 4021.1414942\ttest: 4002.8065929\tbest: 4002.8065929 (5)\ttotal: 518ms\tremaining: 15.9s\n",
      "6:\tlearn: 3740.0915445\ttest: 3723.1597706\tbest: 3723.1597706 (6)\ttotal: 598ms\tremaining: 15.6s\n",
      "7:\tlearn: 3498.0953048\ttest: 3481.9652355\tbest: 3481.9652355 (7)\ttotal: 668ms\tremaining: 15.2s\n",
      "8:\tlearn: 3283.7404572\ttest: 3267.9024521\tbest: 3267.9024521 (8)\ttotal: 742ms\tremaining: 14.9s\n",
      "9:\tlearn: 3100.3146813\ttest: 3085.9352114\tbest: 3085.9352114 (9)\ttotal: 812ms\tremaining: 14.6s\n",
      "10:\tlearn: 2934.3610876\ttest: 2919.5318947\tbest: 2919.5318947 (10)\ttotal: 884ms\tremaining: 14.4s\n",
      "11:\tlearn: 2790.1043904\ttest: 2774.8173396\tbest: 2774.8173396 (11)\ttotal: 957ms\tremaining: 14.2s\n",
      "12:\tlearn: 2661.6362051\ttest: 2647.2318102\tbest: 2647.2318102 (12)\ttotal: 1.03s\tremaining: 14s\n",
      "13:\tlearn: 2550.1473073\ttest: 2535.9883814\tbest: 2535.9883814 (13)\ttotal: 1.1s\tremaining: 13.8s\n",
      "14:\tlearn: 2453.1197002\ttest: 2438.4711332\tbest: 2438.4711332 (14)\ttotal: 1.17s\tremaining: 13.7s\n",
      "15:\tlearn: 2368.1131565\ttest: 2353.7775861\tbest: 2353.7775861 (15)\ttotal: 1.24s\tremaining: 13.5s\n",
      "16:\tlearn: 2297.5755552\ttest: 2284.5113437\tbest: 2284.5113437 (16)\ttotal: 1.32s\tremaining: 13.4s\n",
      "17:\tlearn: 2235.7760882\ttest: 2223.9115784\tbest: 2223.9115784 (17)\ttotal: 1.39s\tremaining: 13.3s\n",
      "18:\tlearn: 2177.7636177\ttest: 2167.4466681\tbest: 2167.4466681 (18)\ttotal: 1.46s\tremaining: 13.1s\n",
      "19:\tlearn: 2129.6179856\ttest: 2119.2368197\tbest: 2119.2368197 (19)\ttotal: 1.54s\tremaining: 13.1s\n",
      "20:\tlearn: 2087.8662967\ttest: 2078.4631750\tbest: 2078.4631750 (20)\ttotal: 1.62s\tremaining: 13s\n",
      "21:\tlearn: 2051.4183092\ttest: 2043.3652407\tbest: 2043.3652407 (21)\ttotal: 1.69s\tremaining: 12.9s\n",
      "22:\tlearn: 2020.2283503\ttest: 2013.3167277\tbest: 2013.3167277 (22)\ttotal: 1.77s\tremaining: 12.8s\n",
      "23:\tlearn: 1991.8673780\ttest: 1986.5321405\tbest: 1986.5321405 (23)\ttotal: 1.85s\tremaining: 12.8s\n",
      "24:\tlearn: 1967.9358074\ttest: 1964.2104006\tbest: 1964.2104006 (24)\ttotal: 1.93s\tremaining: 12.7s\n",
      "25:\tlearn: 1946.7375255\ttest: 1943.8700831\tbest: 1943.8700831 (25)\ttotal: 2s\tremaining: 12.6s\n",
      "26:\tlearn: 1927.6012327\ttest: 1925.3935830\tbest: 1925.3935830 (26)\ttotal: 2.08s\tremaining: 12.6s\n",
      "27:\tlearn: 1911.5904306\ttest: 1910.7478136\tbest: 1910.7478136 (27)\ttotal: 2.15s\tremaining: 12.4s\n",
      "28:\tlearn: 1897.4752598\ttest: 1896.9657708\tbest: 1896.9657708 (28)\ttotal: 2.22s\tremaining: 12.3s\n",
      "29:\tlearn: 1885.5463501\ttest: 1885.4351048\tbest: 1885.4351048 (29)\ttotal: 2.3s\tremaining: 12.2s\n",
      "30:\tlearn: 1873.4230986\ttest: 1873.5730594\tbest: 1873.5730594 (30)\ttotal: 2.37s\tremaining: 12.2s\n",
      "31:\tlearn: 1863.6554493\ttest: 1864.5026956\tbest: 1864.5026956 (31)\ttotal: 2.44s\tremaining: 12.1s\n",
      "32:\tlearn: 1854.3731251\ttest: 1855.9942302\tbest: 1855.9942302 (32)\ttotal: 2.51s\tremaining: 12s\n",
      "33:\tlearn: 1844.9398861\ttest: 1847.3630128\tbest: 1847.3630128 (33)\ttotal: 2.59s\tremaining: 11.9s\n",
      "34:\tlearn: 1837.6476709\ttest: 1840.4163989\tbest: 1840.4163989 (34)\ttotal: 2.67s\tremaining: 11.8s\n",
      "35:\tlearn: 1830.8490583\ttest: 1834.4202374\tbest: 1834.4202374 (35)\ttotal: 2.74s\tremaining: 11.7s\n",
      "36:\tlearn: 1824.8788652\ttest: 1829.2830797\tbest: 1829.2830797 (36)\ttotal: 2.81s\tremaining: 11.6s\n",
      "37:\tlearn: 1820.2970503\ttest: 1825.0641807\tbest: 1825.0641807 (37)\ttotal: 2.89s\tremaining: 11.6s\n",
      "38:\tlearn: 1814.1565392\ttest: 1819.5838810\tbest: 1819.5838810 (38)\ttotal: 2.96s\tremaining: 11.4s\n",
      "39:\tlearn: 1808.9143285\ttest: 1813.8449488\tbest: 1813.8449488 (39)\ttotal: 3.03s\tremaining: 11.4s\n",
      "40:\tlearn: 1801.3044212\ttest: 1806.8432528\tbest: 1806.8432528 (40)\ttotal: 3.1s\tremaining: 11.3s\n",
      "41:\tlearn: 1795.8576426\ttest: 1801.7668929\tbest: 1801.7668929 (41)\ttotal: 3.18s\tremaining: 11.2s\n",
      "42:\tlearn: 1789.6658250\ttest: 1796.1180700\tbest: 1796.1180700 (42)\ttotal: 3.25s\tremaining: 11.1s\n",
      "43:\tlearn: 1783.8915708\ttest: 1791.1450735\tbest: 1791.1450735 (43)\ttotal: 3.36s\tremaining: 11.2s\n",
      "44:\tlearn: 1779.8208903\ttest: 1787.2313716\tbest: 1787.2313716 (44)\ttotal: 3.46s\tremaining: 11.1s\n",
      "45:\tlearn: 1776.3964370\ttest: 1783.9946869\tbest: 1783.9946869 (45)\ttotal: 3.55s\tremaining: 11.1s\n",
      "46:\tlearn: 1772.1834407\ttest: 1780.2424808\tbest: 1780.2424808 (46)\ttotal: 3.62s\tremaining: 11s\n",
      "47:\tlearn: 1768.5214753\ttest: 1776.9480606\tbest: 1776.9480606 (47)\ttotal: 3.75s\tremaining: 11.1s\n",
      "48:\tlearn: 1765.4767749\ttest: 1774.2323332\tbest: 1774.2323332 (48)\ttotal: 3.83s\tremaining: 11s\n",
      "49:\tlearn: 1761.3388642\ttest: 1770.3477291\tbest: 1770.3477291 (49)\ttotal: 3.91s\tremaining: 11s\n",
      "50:\tlearn: 1757.8739022\ttest: 1767.2285765\tbest: 1767.2285765 (50)\ttotal: 3.99s\tremaining: 10.9s\n",
      "51:\tlearn: 1753.7705820\ttest: 1763.1666043\tbest: 1763.1666043 (51)\ttotal: 4.07s\tremaining: 10.8s\n",
      "52:\tlearn: 1751.9999881\ttest: 1761.6180242\tbest: 1761.6180242 (52)\ttotal: 4.14s\tremaining: 10.7s\n",
      "53:\tlearn: 1748.1954512\ttest: 1757.8739015\tbest: 1757.8739015 (53)\ttotal: 4.22s\tremaining: 10.6s\n",
      "54:\tlearn: 1744.6466566\ttest: 1754.4915819\tbest: 1754.4915819 (54)\ttotal: 4.3s\tremaining: 10.5s\n",
      "55:\tlearn: 1741.1085114\ttest: 1751.4571035\tbest: 1751.4571035 (55)\ttotal: 4.37s\tremaining: 10.5s\n",
      "56:\tlearn: 1738.7627154\ttest: 1749.3089885\tbest: 1749.3089885 (56)\ttotal: 4.44s\tremaining: 10.4s\n",
      "57:\tlearn: 1736.8922492\ttest: 1748.1287954\tbest: 1748.1287954 (57)\ttotal: 4.52s\tremaining: 10.3s\n",
      "58:\tlearn: 1734.6862853\ttest: 1746.6414463\tbest: 1746.6414463 (58)\ttotal: 4.6s\tremaining: 10.2s\n",
      "59:\tlearn: 1731.3997907\ttest: 1743.9968931\tbest: 1743.9968931 (59)\ttotal: 4.68s\tremaining: 10.2s\n",
      "60:\tlearn: 1729.2067728\ttest: 1742.1937742\tbest: 1742.1937742 (60)\ttotal: 4.76s\tremaining: 10.1s\n",
      "61:\tlearn: 1726.0589952\ttest: 1739.3477075\tbest: 1739.3477075 (61)\ttotal: 4.83s\tremaining: 9.98s\n",
      "62:\tlearn: 1724.8822422\ttest: 1738.4038207\tbest: 1738.4038207 (62)\ttotal: 4.92s\tremaining: 9.91s\n",
      "63:\tlearn: 1722.7730489\ttest: 1736.7425100\tbest: 1736.7425100 (63)\ttotal: 4.99s\tremaining: 9.83s\n",
      "64:\tlearn: 1721.4500269\ttest: 1735.7592528\tbest: 1735.7592528 (64)\ttotal: 5.07s\tremaining: 9.75s\n",
      "65:\tlearn: 1719.1834285\ttest: 1733.7991919\tbest: 1733.7991919 (65)\ttotal: 5.15s\tremaining: 9.68s\n",
      "66:\tlearn: 1716.5824303\ttest: 1731.6472592\tbest: 1731.6472592 (66)\ttotal: 5.23s\tremaining: 9.6s\n",
      "67:\tlearn: 1714.4795758\ttest: 1730.1120806\tbest: 1730.1120806 (67)\ttotal: 5.32s\tremaining: 9.54s\n",
      "68:\tlearn: 1712.1013189\ttest: 1728.0176966\tbest: 1728.0176966 (68)\ttotal: 5.4s\tremaining: 9.48s\n",
      "69:\tlearn: 1709.2125939\ttest: 1725.0865484\tbest: 1725.0865484 (69)\ttotal: 5.48s\tremaining: 9.39s\n",
      "70:\tlearn: 1707.9032611\ttest: 1724.2629557\tbest: 1724.2629557 (70)\ttotal: 5.55s\tremaining: 9.31s\n",
      "71:\tlearn: 1705.2802325\ttest: 1722.4304386\tbest: 1722.4304386 (71)\ttotal: 5.63s\tremaining: 9.22s\n",
      "72:\tlearn: 1702.1362161\ttest: 1719.9337017\tbest: 1719.9337017 (72)\ttotal: 5.7s\tremaining: 9.14s\n",
      "73:\tlearn: 1700.1960253\ttest: 1718.6006625\tbest: 1718.6006625 (73)\ttotal: 5.79s\tremaining: 9.08s\n",
      "74:\tlearn: 1698.2498649\ttest: 1717.1018744\tbest: 1717.1018744 (74)\ttotal: 5.87s\tremaining: 9s\n",
      "75:\tlearn: 1697.0190839\ttest: 1716.4104876\tbest: 1716.4104876 (75)\ttotal: 5.95s\tremaining: 8.93s\n",
      "76:\tlearn: 1694.5869016\ttest: 1714.9081772\tbest: 1714.9081772 (76)\ttotal: 6.02s\tremaining: 8.84s\n",
      "77:\tlearn: 1692.4588707\ttest: 1712.8597794\tbest: 1712.8597794 (77)\ttotal: 6.1s\tremaining: 8.76s\n",
      "78:\tlearn: 1691.3523402\ttest: 1712.0511300\tbest: 1712.0511300 (78)\ttotal: 6.18s\tremaining: 8.68s\n",
      "79:\tlearn: 1688.6394889\ttest: 1709.6840651\tbest: 1709.6840651 (79)\ttotal: 6.25s\tremaining: 8.6s\n",
      "80:\tlearn: 1686.6770853\ttest: 1708.1320361\tbest: 1708.1320361 (80)\ttotal: 6.33s\tremaining: 8.52s\n",
      "81:\tlearn: 1684.9784871\ttest: 1707.1303917\tbest: 1707.1303917 (81)\ttotal: 6.41s\tremaining: 8.44s\n",
      "82:\tlearn: 1683.2823086\ttest: 1705.5189639\tbest: 1705.5189639 (82)\ttotal: 6.5s\tremaining: 8.38s\n",
      "83:\tlearn: 1681.6547426\ttest: 1704.2010247\tbest: 1704.2010247 (83)\ttotal: 6.61s\tremaining: 8.34s\n",
      "84:\tlearn: 1680.2461069\ttest: 1702.9946865\tbest: 1702.9946865 (84)\ttotal: 6.68s\tremaining: 8.25s\n",
      "85:\tlearn: 1678.8779354\ttest: 1702.3040585\tbest: 1702.3040585 (85)\ttotal: 6.76s\tremaining: 8.17s\n",
      "86:\tlearn: 1677.6292560\ttest: 1701.7240607\tbest: 1701.7240607 (86)\ttotal: 6.83s\tremaining: 8.09s\n",
      "87:\tlearn: 1676.1500052\ttest: 1700.6886355\tbest: 1700.6886355 (87)\ttotal: 6.91s\tremaining: 8.01s\n",
      "88:\tlearn: 1675.3410864\ttest: 1699.8582092\tbest: 1699.8582092 (88)\ttotal: 6.98s\tremaining: 7.92s\n",
      "89:\tlearn: 1674.1411030\ttest: 1698.9492744\tbest: 1698.9492744 (89)\ttotal: 7.05s\tremaining: 7.84s\n",
      "90:\tlearn: 1672.3045793\ttest: 1697.7721697\tbest: 1697.7721697 (90)\ttotal: 7.13s\tremaining: 7.76s\n",
      "91:\tlearn: 1671.3201999\ttest: 1697.2969037\tbest: 1697.2969037 (91)\ttotal: 7.21s\tremaining: 7.68s\n",
      "92:\tlearn: 1670.0934734\ttest: 1696.3963844\tbest: 1696.3963844 (92)\ttotal: 7.29s\tremaining: 7.6s\n",
      "93:\tlearn: 1668.4918844\ttest: 1695.1703927\tbest: 1695.1703927 (93)\ttotal: 7.37s\tremaining: 7.53s\n",
      "94:\tlearn: 1667.5617432\ttest: 1694.4805726\tbest: 1694.4805726 (94)\ttotal: 7.45s\tremaining: 7.45s\n",
      "95:\tlearn: 1665.4721032\ttest: 1693.6943061\tbest: 1693.6943061 (95)\ttotal: 7.53s\tremaining: 7.37s\n",
      "96:\tlearn: 1664.4712153\ttest: 1693.1450804\tbest: 1693.1450804 (96)\ttotal: 7.61s\tremaining: 7.29s\n",
      "97:\tlearn: 1662.7039616\ttest: 1691.6559497\tbest: 1691.6559497 (97)\ttotal: 7.69s\tremaining: 7.21s\n",
      "98:\tlearn: 1661.6694808\ttest: 1690.8420927\tbest: 1690.8420927 (98)\ttotal: 7.77s\tremaining: 7.14s\n",
      "99:\tlearn: 1660.4980588\ttest: 1690.2946531\tbest: 1690.2946531 (99)\ttotal: 7.86s\tremaining: 7.08s\n",
      "100:\tlearn: 1659.4544949\ttest: 1689.2605401\tbest: 1689.2605401 (100)\ttotal: 7.94s\tremaining: 7s\n",
      "101:\tlearn: 1658.4031407\ttest: 1688.3433854\tbest: 1688.3433854 (101)\ttotal: 8.02s\tremaining: 6.92s\n",
      "102:\tlearn: 1656.6587040\ttest: 1686.9976359\tbest: 1686.9976359 (102)\ttotal: 8.11s\tremaining: 6.85s\n",
      "103:\tlearn: 1655.6238872\ttest: 1686.1291139\tbest: 1686.1291139 (103)\ttotal: 8.19s\tremaining: 6.77s\n",
      "104:\tlearn: 1653.9165543\ttest: 1684.9452862\tbest: 1684.9452862 (104)\ttotal: 8.28s\tremaining: 6.7s\n",
      "105:\tlearn: 1652.2419860\ttest: 1683.4978535\tbest: 1683.4978535 (105)\ttotal: 8.36s\tremaining: 6.63s\n",
      "106:\tlearn: 1651.1643758\ttest: 1682.9330010\tbest: 1682.9330010 (106)\ttotal: 8.44s\tremaining: 6.55s\n",
      "107:\tlearn: 1649.9012004\ttest: 1682.2475979\tbest: 1682.2475979 (107)\ttotal: 8.54s\tremaining: 6.48s\n",
      "108:\tlearn: 1647.8965785\ttest: 1680.9349280\tbest: 1680.9349280 (108)\ttotal: 8.63s\tremaining: 6.41s\n",
      "109:\tlearn: 1646.1004560\ttest: 1679.9515629\tbest: 1679.9515629 (109)\ttotal: 8.74s\tremaining: 6.36s\n",
      "110:\tlearn: 1644.7452642\ttest: 1678.8385289\tbest: 1678.8385289 (110)\ttotal: 8.83s\tremaining: 6.28s\n",
      "111:\tlearn: 1644.1687878\ttest: 1678.3458716\tbest: 1678.3458716 (111)\ttotal: 8.93s\tremaining: 6.21s\n",
      "112:\tlearn: 1643.0903210\ttest: 1677.5059346\tbest: 1677.5059346 (112)\ttotal: 8.99s\tremaining: 6.13s\n",
      "113:\tlearn: 1642.3324144\ttest: 1676.9627969\tbest: 1676.9627969 (113)\ttotal: 9.07s\tremaining: 6.05s\n",
      "114:\tlearn: 1640.8660146\ttest: 1676.2167827\tbest: 1676.2167827 (114)\ttotal: 9.15s\tremaining: 5.97s\n",
      "115:\tlearn: 1640.0994357\ttest: 1675.8206570\tbest: 1675.8206570 (115)\ttotal: 9.22s\tremaining: 5.88s\n",
      "116:\tlearn: 1639.4203044\ttest: 1675.4561958\tbest: 1675.4561958 (116)\ttotal: 9.29s\tremaining: 5.8s\n",
      "117:\tlearn: 1638.6516976\ttest: 1674.8994237\tbest: 1674.8994237 (117)\ttotal: 9.38s\tremaining: 5.72s\n",
      "118:\tlearn: 1637.2273877\ttest: 1673.8527783\tbest: 1673.8527783 (118)\ttotal: 9.46s\tremaining: 5.64s\n",
      "119:\tlearn: 1635.7017301\ttest: 1672.6913016\tbest: 1672.6913016 (119)\ttotal: 9.54s\tremaining: 5.57s\n",
      "120:\tlearn: 1633.9572127\ttest: 1671.4231663\tbest: 1671.4231663 (120)\ttotal: 9.63s\tremaining: 5.49s\n",
      "121:\tlearn: 1633.1424413\ttest: 1670.7604517\tbest: 1670.7604517 (121)\ttotal: 9.72s\tremaining: 5.42s\n",
      "122:\tlearn: 1632.0219211\ttest: 1670.0390328\tbest: 1670.0390328 (122)\ttotal: 9.81s\tremaining: 5.34s\n",
      "123:\tlearn: 1631.1305431\ttest: 1669.5690993\tbest: 1669.5690993 (123)\ttotal: 9.9s\tremaining: 5.27s\n",
      "124:\tlearn: 1629.9249378\ttest: 1669.0236031\tbest: 1669.0236031 (124)\ttotal: 9.98s\tremaining: 5.19s\n",
      "125:\tlearn: 1628.4172180\ttest: 1668.0439246\tbest: 1668.0439246 (125)\ttotal: 10.1s\tremaining: 5.11s\n",
      "126:\tlearn: 1627.9232027\ttest: 1667.7213947\tbest: 1667.7213947 (126)\ttotal: 10.1s\tremaining: 5.03s\n",
      "127:\tlearn: 1626.9214109\ttest: 1667.2289622\tbest: 1667.2289622 (127)\ttotal: 10.2s\tremaining: 4.95s\n",
      "128:\tlearn: 1625.9259138\ttest: 1666.6725566\tbest: 1666.6725566 (128)\ttotal: 10.3s\tremaining: 4.88s\n",
      "129:\tlearn: 1624.9331587\ttest: 1665.8263941\tbest: 1665.8263941 (129)\ttotal: 10.4s\tremaining: 4.8s\n",
      "130:\tlearn: 1624.0447859\ttest: 1665.2601942\tbest: 1665.2601942 (130)\ttotal: 10.5s\tremaining: 4.72s\n",
      "131:\tlearn: 1623.1941907\ttest: 1665.0514586\tbest: 1665.0514586 (131)\ttotal: 10.6s\tremaining: 4.64s\n",
      "132:\tlearn: 1622.4923421\ttest: 1664.6102829\tbest: 1664.6102829 (132)\ttotal: 10.6s\tremaining: 4.56s\n",
      "133:\tlearn: 1621.5993340\ttest: 1663.9398409\tbest: 1663.9398409 (133)\ttotal: 10.7s\tremaining: 4.48s\n",
      "134:\tlearn: 1620.9708847\ttest: 1663.5619784\tbest: 1663.5619784 (134)\ttotal: 10.8s\tremaining: 4.4s\n",
      "135:\tlearn: 1619.8331534\ttest: 1663.3790535\tbest: 1663.3790535 (135)\ttotal: 10.9s\tremaining: 4.32s\n",
      "136:\tlearn: 1618.6226934\ttest: 1662.8863579\tbest: 1662.8863579 (136)\ttotal: 11s\tremaining: 4.24s\n",
      "137:\tlearn: 1618.1540388\ttest: 1662.4166415\tbest: 1662.4166415 (137)\ttotal: 11s\tremaining: 4.16s\n",
      "138:\tlearn: 1617.3609017\ttest: 1662.0280108\tbest: 1662.0280108 (138)\ttotal: 11.1s\tremaining: 4.08s\n",
      "139:\tlearn: 1615.8258551\ttest: 1660.7487085\tbest: 1660.7487085 (139)\ttotal: 11.2s\tremaining: 4s\n",
      "140:\tlearn: 1615.1885379\ttest: 1660.4992923\tbest: 1660.4992923 (140)\ttotal: 11.3s\tremaining: 3.91s\n",
      "141:\tlearn: 1614.1822248\ttest: 1659.9403217\tbest: 1659.9403217 (141)\ttotal: 11.3s\tremaining: 3.83s\n",
      "142:\tlearn: 1613.4655846\ttest: 1659.9412427\tbest: 1659.9403217 (141)\ttotal: 11.4s\tremaining: 3.75s\n",
      "143:\tlearn: 1612.2608321\ttest: 1659.2853631\tbest: 1659.2853631 (143)\ttotal: 11.5s\tremaining: 3.67s\n",
      "144:\tlearn: 1610.9167915\ttest: 1658.3255191\tbest: 1658.3255191 (144)\ttotal: 11.6s\tremaining: 3.59s\n",
      "145:\tlearn: 1609.2712298\ttest: 1657.3429830\tbest: 1657.3429830 (145)\ttotal: 11.6s\tremaining: 3.51s\n",
      "146:\tlearn: 1608.3045236\ttest: 1656.5657686\tbest: 1656.5657686 (146)\ttotal: 11.7s\tremaining: 3.43s\n",
      "147:\tlearn: 1607.4507898\ttest: 1656.1092490\tbest: 1656.1092490 (147)\ttotal: 11.8s\tremaining: 3.35s\n",
      "148:\tlearn: 1606.7036400\ttest: 1655.6556775\tbest: 1655.6556775 (148)\ttotal: 11.9s\tremaining: 3.27s\n",
      "149:\tlearn: 1605.9475466\ttest: 1655.5185846\tbest: 1655.5185846 (149)\ttotal: 12s\tremaining: 3.19s\n",
      "150:\tlearn: 1605.4408114\ttest: 1655.3396357\tbest: 1655.3396357 (150)\ttotal: 12s\tremaining: 3.11s\n",
      "151:\tlearn: 1605.0246435\ttest: 1655.1823586\tbest: 1655.1823586 (151)\ttotal: 12.1s\tremaining: 3.03s\n",
      "152:\tlearn: 1604.0026117\ttest: 1654.5901294\tbest: 1654.5901294 (152)\ttotal: 12.2s\tremaining: 2.95s\n",
      "153:\tlearn: 1603.0476935\ttest: 1654.3229130\tbest: 1654.3229130 (153)\ttotal: 12.3s\tremaining: 2.87s\n",
      "154:\tlearn: 1602.4694226\ttest: 1654.1989276\tbest: 1654.1989276 (154)\ttotal: 12.4s\tremaining: 2.79s\n",
      "155:\tlearn: 1601.8664037\ttest: 1653.8677277\tbest: 1653.8677277 (155)\ttotal: 12.4s\tremaining: 2.71s\n",
      "156:\tlearn: 1601.3075316\ttest: 1653.5635027\tbest: 1653.5635027 (156)\ttotal: 12.5s\tremaining: 2.63s\n",
      "157:\tlearn: 1600.7325437\ttest: 1653.3820387\tbest: 1653.3820387 (157)\ttotal: 12.6s\tremaining: 2.54s\n",
      "158:\tlearn: 1599.8869491\ttest: 1652.6538603\tbest: 1652.6538603 (158)\ttotal: 12.6s\tremaining: 2.46s\n",
      "159:\tlearn: 1598.9445888\ttest: 1652.0950263\tbest: 1652.0950263 (159)\ttotal: 12.7s\tremaining: 2.38s\n",
      "160:\tlearn: 1597.9999785\ttest: 1651.3464402\tbest: 1651.3464402 (160)\ttotal: 12.8s\tremaining: 2.3s\n",
      "161:\tlearn: 1597.6989090\ttest: 1651.3046001\tbest: 1651.3046001 (161)\ttotal: 12.8s\tremaining: 2.22s\n",
      "162:\tlearn: 1596.8511915\ttest: 1650.6577418\tbest: 1650.6577418 (162)\ttotal: 12.9s\tremaining: 2.14s\n",
      "163:\tlearn: 1596.5633822\ttest: 1650.5602279\tbest: 1650.5602279 (163)\ttotal: 13s\tremaining: 2.06s\n",
      "164:\tlearn: 1595.6675243\ttest: 1650.3127914\tbest: 1650.3127914 (164)\ttotal: 13.1s\tremaining: 1.98s\n",
      "165:\tlearn: 1594.7091217\ttest: 1649.7464295\tbest: 1649.7464295 (165)\ttotal: 13.1s\tremaining: 1.9s\n",
      "166:\tlearn: 1594.0893239\ttest: 1649.6427815\tbest: 1649.6427815 (166)\ttotal: 13.2s\tremaining: 1.82s\n",
      "167:\tlearn: 1593.5910468\ttest: 1649.6397171\tbest: 1649.6397171 (167)\ttotal: 13.3s\tremaining: 1.74s\n",
      "168:\tlearn: 1592.6211458\ttest: 1649.4887357\tbest: 1649.4887357 (168)\ttotal: 13.3s\tremaining: 1.66s\n",
      "169:\tlearn: 1591.9343104\ttest: 1649.0178293\tbest: 1649.0178293 (169)\ttotal: 13.4s\tremaining: 1.58s\n",
      "170:\tlearn: 1591.2929061\ttest: 1648.5685082\tbest: 1648.5685082 (170)\ttotal: 13.5s\tremaining: 1.5s\n",
      "171:\tlearn: 1590.5010585\ttest: 1647.9705036\tbest: 1647.9705036 (171)\ttotal: 13.6s\tremaining: 1.42s\n",
      "172:\tlearn: 1589.7817864\ttest: 1647.7426368\tbest: 1647.7426368 (172)\ttotal: 13.7s\tremaining: 1.34s\n",
      "173:\tlearn: 1589.2294522\ttest: 1647.8130009\tbest: 1647.7426368 (172)\ttotal: 13.8s\tremaining: 1.26s\n",
      "174:\tlearn: 1588.4789715\ttest: 1647.5932906\tbest: 1647.5932906 (174)\ttotal: 13.8s\tremaining: 1.19s\n",
      "175:\tlearn: 1587.5105560\ttest: 1647.0920695\tbest: 1647.0920695 (175)\ttotal: 13.9s\tremaining: 1.11s\n",
      "176:\tlearn: 1587.2554492\ttest: 1646.9016872\tbest: 1646.9016872 (176)\ttotal: 14s\tremaining: 1.03s\n",
      "177:\tlearn: 1586.5977777\ttest: 1646.5938161\tbest: 1646.5938161 (177)\ttotal: 14.1s\tremaining: 948ms\n",
      "178:\tlearn: 1585.9324862\ttest: 1646.2736662\tbest: 1646.2736662 (178)\ttotal: 14.1s\tremaining: 869ms\n",
      "179:\tlearn: 1585.2037947\ttest: 1645.9456886\tbest: 1645.9456886 (179)\ttotal: 14.2s\tremaining: 789ms\n",
      "180:\tlearn: 1584.4249413\ttest: 1645.4841009\tbest: 1645.4841009 (180)\ttotal: 14.3s\tremaining: 710ms\n",
      "181:\tlearn: 1583.8970906\ttest: 1645.3180414\tbest: 1645.3180414 (181)\ttotal: 14.4s\tremaining: 631ms\n",
      "182:\tlearn: 1583.2787054\ttest: 1644.9536435\tbest: 1644.9536435 (182)\ttotal: 14.4s\tremaining: 552ms\n",
      "183:\tlearn: 1582.7255012\ttest: 1644.6210646\tbest: 1644.6210646 (183)\ttotal: 14.5s\tremaining: 473ms\n",
      "184:\tlearn: 1582.1250526\ttest: 1644.3845448\tbest: 1644.3845448 (184)\ttotal: 14.6s\tremaining: 394ms\n",
      "185:\tlearn: 1581.7776364\ttest: 1644.3691168\tbest: 1644.3691168 (185)\ttotal: 14.7s\tremaining: 315ms\n",
      "186:\tlearn: 1580.8078872\ttest: 1643.7972156\tbest: 1643.7972156 (186)\ttotal: 14.7s\tremaining: 237ms\n",
      "187:\tlearn: 1580.2858419\ttest: 1643.6968021\tbest: 1643.6968021 (187)\ttotal: 14.8s\tremaining: 158ms\n",
      "188:\tlearn: 1579.5991077\ttest: 1643.4949885\tbest: 1643.4949885 (188)\ttotal: 14.9s\tremaining: 78.8ms\n",
      "189:\tlearn: 1578.8590274\ttest: 1643.2164823\tbest: 1643.2164823 (189)\ttotal: 15s\tremaining: 0us\n",
      "\n",
      "bestTest = 1643.216482\n",
      "bestIteration = 189\n",
      "\n",
      "9:\tloss: 1643.2164823\tbest: 1642.4822686 (8)\ttotal: 1m 1s\tremaining: 0us\n",
      "Estimating final quality...\n",
      "Training on fold [0/3]\n",
      "0:\tlearn: 4030.8788666\ttest: 4027.5349526\tbest: 4027.5349526 (0)\ttotal: 71.9ms\tremaining: 9.99s\n",
      "1:\tlearn: 2905.9694886\ttest: 2908.8158596\tbest: 2908.8158596 (1)\ttotal: 130ms\tremaining: 8.95s\n",
      "2:\tlearn: 2384.4944156\ttest: 2385.2644880\tbest: 2385.2644880 (2)\ttotal: 178ms\tremaining: 8.11s\n",
      "3:\tlearn: 2181.0780824\ttest: 2180.7498284\tbest: 2180.7498284 (3)\ttotal: 235ms\tremaining: 7.98s\n",
      "4:\tlearn: 2075.3314367\ttest: 2076.5838214\tbest: 2076.5838214 (4)\ttotal: 281ms\tremaining: 7.57s\n",
      "5:\tlearn: 2016.0755165\ttest: 2016.3300102\tbest: 2016.3300102 (5)\ttotal: 326ms\tremaining: 7.28s\n",
      "6:\tlearn: 1975.7940545\ttest: 1977.6284817\tbest: 1977.6284817 (6)\ttotal: 376ms\tremaining: 7.15s\n",
      "7:\tlearn: 1943.3980571\ttest: 1945.4758238\tbest: 1945.4758238 (7)\ttotal: 424ms\tremaining: 7s\n",
      "8:\tlearn: 1918.4416084\ttest: 1922.5378298\tbest: 1922.5378298 (8)\ttotal: 471ms\tremaining: 6.85s\n",
      "9:\tlearn: 1894.6342641\ttest: 1897.7743054\tbest: 1897.7743054 (9)\ttotal: 523ms\tremaining: 6.8s\n",
      "10:\tlearn: 1878.2297433\ttest: 1882.4461009\tbest: 1882.4461009 (10)\ttotal: 572ms\tremaining: 6.71s\n",
      "11:\tlearn: 1854.5836814\ttest: 1858.3742382\tbest: 1858.3742382 (11)\ttotal: 618ms\tremaining: 6.59s\n",
      "12:\tlearn: 1843.9622454\ttest: 1849.0780846\tbest: 1849.0780846 (12)\ttotal: 663ms\tremaining: 6.47s\n",
      "13:\tlearn: 1831.5232037\ttest: 1835.6928771\tbest: 1835.6928771 (13)\ttotal: 711ms\tremaining: 6.39s\n",
      "14:\tlearn: 1823.0741859\ttest: 1829.2239455\tbest: 1829.2239455 (14)\ttotal: 762ms\tremaining: 6.35s\n",
      "15:\tlearn: 1811.1879482\ttest: 1817.0120986\tbest: 1817.0120986 (15)\ttotal: 811ms\tremaining: 6.29s\n",
      "16:\tlearn: 1802.8992269\ttest: 1811.0826463\tbest: 1811.0826463 (16)\ttotal: 858ms\tremaining: 6.21s\n",
      "17:\tlearn: 1791.3861346\ttest: 1801.4647872\tbest: 1801.4647872 (17)\ttotal: 906ms\tremaining: 6.14s\n",
      "18:\tlearn: 1785.4418678\ttest: 1796.6852371\tbest: 1796.6852371 (18)\ttotal: 952ms\tremaining: 6.06s\n",
      "19:\tlearn: 1777.7794129\ttest: 1790.6824932\tbest: 1790.6824932 (19)\ttotal: 999ms\tremaining: 5.99s\n",
      "20:\tlearn: 1772.6209732\ttest: 1786.3263776\tbest: 1786.3263776 (20)\ttotal: 1.05s\tremaining: 5.95s\n",
      "21:\tlearn: 1766.4705777\ttest: 1780.8876453\tbest: 1780.8876453 (21)\ttotal: 1.1s\tremaining: 5.89s\n",
      "22:\tlearn: 1759.4296073\ttest: 1774.9396772\tbest: 1774.9396772 (22)\ttotal: 1.15s\tremaining: 5.84s\n",
      "23:\tlearn: 1754.1368781\ttest: 1770.5165406\tbest: 1770.5165406 (23)\ttotal: 1.2s\tremaining: 5.78s\n",
      "24:\tlearn: 1749.0655959\ttest: 1765.8274372\tbest: 1765.8274372 (24)\ttotal: 1.25s\tremaining: 5.74s\n",
      "25:\tlearn: 1743.5784067\ttest: 1761.8499108\tbest: 1761.8499108 (25)\ttotal: 1.31s\tremaining: 5.77s\n",
      "26:\tlearn: 1740.7169606\ttest: 1759.7909950\tbest: 1759.7909950 (26)\ttotal: 1.36s\tremaining: 5.7s\n",
      "27:\tlearn: 1734.4417519\ttest: 1755.4654999\tbest: 1755.4654999 (27)\ttotal: 1.41s\tremaining: 5.63s\n",
      "28:\tlearn: 1731.4835654\ttest: 1754.4065003\tbest: 1754.4065003 (28)\ttotal: 1.45s\tremaining: 5.55s\n",
      "29:\tlearn: 1726.1048277\ttest: 1751.9839821\tbest: 1751.9839821 (29)\ttotal: 1.5s\tremaining: 5.48s\n",
      "30:\tlearn: 1721.9378565\ttest: 1750.1979799\tbest: 1750.1979799 (30)\ttotal: 1.54s\tremaining: 5.43s\n",
      "31:\tlearn: 1716.8654755\ttest: 1745.8264742\tbest: 1745.8264742 (31)\ttotal: 1.59s\tremaining: 5.37s\n",
      "32:\tlearn: 1711.2916578\ttest: 1741.2709984\tbest: 1741.2709984 (32)\ttotal: 1.64s\tremaining: 5.32s\n",
      "33:\tlearn: 1707.9498293\ttest: 1738.0898568\tbest: 1738.0898568 (33)\ttotal: 1.69s\tremaining: 5.26s\n",
      "34:\tlearn: 1703.7565398\ttest: 1733.9096644\tbest: 1733.9096644 (34)\ttotal: 1.74s\tremaining: 5.22s\n",
      "35:\tlearn: 1698.8646566\ttest: 1731.0758800\tbest: 1731.0758800 (35)\ttotal: 1.79s\tremaining: 5.19s\n",
      "36:\tlearn: 1695.1044117\ttest: 1727.8229950\tbest: 1727.8229950 (36)\ttotal: 1.84s\tremaining: 5.14s\n",
      "37:\tlearn: 1692.0050439\ttest: 1725.8734062\tbest: 1725.8734062 (37)\ttotal: 1.89s\tremaining: 5.08s\n",
      "38:\tlearn: 1689.0242077\ttest: 1724.5573429\tbest: 1724.5573429 (38)\ttotal: 1.94s\tremaining: 5.03s\n",
      "39:\tlearn: 1686.5863953\ttest: 1723.8424558\tbest: 1723.8424558 (39)\ttotal: 1.99s\tremaining: 4.97s\n",
      "40:\tlearn: 1684.2588578\ttest: 1724.4113631\tbest: 1723.8424558 (39)\ttotal: 2.04s\tremaining: 4.92s\n",
      "41:\tlearn: 1679.7509843\ttest: 1721.0102503\tbest: 1721.0102503 (41)\ttotal: 2.09s\tremaining: 4.87s\n",
      "42:\tlearn: 1677.5285014\ttest: 1719.7300611\tbest: 1719.7300611 (42)\ttotal: 2.14s\tremaining: 4.82s\n",
      "43:\tlearn: 1675.4699127\ttest: 1718.0712957\tbest: 1718.0712957 (43)\ttotal: 2.18s\tremaining: 4.76s\n",
      "44:\tlearn: 1673.4645550\ttest: 1717.8728530\tbest: 1717.8728530 (44)\ttotal: 2.23s\tremaining: 4.71s\n",
      "45:\tlearn: 1672.0346097\ttest: 1716.7733701\tbest: 1716.7733701 (45)\ttotal: 2.28s\tremaining: 4.65s\n",
      "46:\tlearn: 1668.8089326\ttest: 1713.7290437\tbest: 1713.7290437 (46)\ttotal: 2.33s\tremaining: 4.6s\n",
      "47:\tlearn: 1666.2101753\ttest: 1713.5957093\tbest: 1713.5957093 (47)\ttotal: 2.37s\tremaining: 4.55s\n",
      "48:\tlearn: 1664.4307593\ttest: 1711.8698943\tbest: 1711.8698943 (48)\ttotal: 2.42s\tremaining: 4.5s\n",
      "49:\tlearn: 1661.1418862\ttest: 1711.6196705\tbest: 1711.6196705 (49)\ttotal: 2.47s\tremaining: 4.45s\n",
      "50:\tlearn: 1658.4276043\ttest: 1710.2351979\tbest: 1710.2351979 (50)\ttotal: 2.52s\tremaining: 4.41s\n",
      "51:\tlearn: 1654.8462440\ttest: 1707.7441709\tbest: 1707.7441709 (51)\ttotal: 2.57s\tremaining: 4.35s\n",
      "52:\tlearn: 1653.5248016\ttest: 1707.6179223\tbest: 1707.6179223 (52)\ttotal: 2.62s\tremaining: 4.3s\n",
      "53:\tlearn: 1652.1988515\ttest: 1707.1674745\tbest: 1707.1674745 (53)\ttotal: 2.67s\tremaining: 4.24s\n",
      "54:\tlearn: 1649.9302784\ttest: 1706.5463888\tbest: 1706.5463888 (54)\ttotal: 2.71s\tremaining: 4.19s\n",
      "55:\tlearn: 1647.8079188\ttest: 1705.4708238\tbest: 1705.4708238 (55)\ttotal: 2.76s\tremaining: 4.14s\n",
      "56:\tlearn: 1646.7514935\ttest: 1705.4431343\tbest: 1705.4431343 (56)\ttotal: 2.8s\tremaining: 4.08s\n",
      "57:\tlearn: 1644.9371594\ttest: 1704.0409424\tbest: 1704.0409424 (57)\ttotal: 2.85s\tremaining: 4.04s\n",
      "58:\tlearn: 1641.1812186\ttest: 1702.0262048\tbest: 1702.0262048 (58)\ttotal: 2.91s\tremaining: 3.99s\n",
      "59:\tlearn: 1639.1376730\ttest: 1700.9637532\tbest: 1700.9637532 (59)\ttotal: 2.95s\tremaining: 3.94s\n",
      "60:\tlearn: 1637.6610974\ttest: 1700.0658026\tbest: 1700.0658026 (60)\ttotal: 3s\tremaining: 3.89s\n",
      "61:\tlearn: 1636.8735444\ttest: 1700.0878903\tbest: 1700.0658026 (60)\ttotal: 3.05s\tremaining: 3.84s\n",
      "62:\tlearn: 1633.5725076\ttest: 1698.9096610\tbest: 1698.9096610 (62)\ttotal: 3.1s\tremaining: 3.79s\n",
      "63:\tlearn: 1631.7496422\ttest: 1698.1617214\tbest: 1698.1617214 (63)\ttotal: 3.15s\tremaining: 3.74s\n",
      "64:\tlearn: 1629.4277961\ttest: 1696.6081913\tbest: 1696.6081913 (64)\ttotal: 3.19s\tremaining: 3.69s\n",
      "65:\tlearn: 1626.6810298\ttest: 1695.8540227\tbest: 1695.8540227 (65)\ttotal: 3.24s\tremaining: 3.63s\n",
      "66:\tlearn: 1625.1782671\ttest: 1695.1772222\tbest: 1695.1772222 (66)\ttotal: 3.29s\tremaining: 3.58s\n",
      "67:\tlearn: 1623.7725299\ttest: 1694.1734997\tbest: 1694.1734997 (67)\ttotal: 3.34s\tremaining: 3.54s\n",
      "68:\tlearn: 1622.8597076\ttest: 1693.7438768\tbest: 1693.7438768 (68)\ttotal: 3.39s\tremaining: 3.49s\n",
      "69:\tlearn: 1621.1858212\ttest: 1693.3555340\tbest: 1693.3555340 (69)\ttotal: 3.44s\tremaining: 3.44s\n",
      "70:\tlearn: 1619.9184226\ttest: 1693.4236250\tbest: 1693.3555340 (69)\ttotal: 3.48s\tremaining: 3.39s\n",
      "71:\tlearn: 1616.8145901\ttest: 1693.1483299\tbest: 1693.1483299 (71)\ttotal: 3.53s\tremaining: 3.33s\n",
      "72:\tlearn: 1615.7164016\ttest: 1693.4521489\tbest: 1693.1483299 (71)\ttotal: 3.58s\tremaining: 3.28s\n",
      "73:\tlearn: 1613.6542687\ttest: 1692.5696986\tbest: 1692.5696986 (73)\ttotal: 3.62s\tremaining: 3.23s\n",
      "74:\tlearn: 1612.5179985\ttest: 1691.8289677\tbest: 1691.8289677 (74)\ttotal: 3.67s\tremaining: 3.18s\n",
      "75:\tlearn: 1611.1803524\ttest: 1690.8219152\tbest: 1690.8219152 (75)\ttotal: 3.73s\tremaining: 3.14s\n",
      "76:\tlearn: 1611.1660581\ttest: 1690.8258877\tbest: 1690.8219152 (75)\ttotal: 3.78s\tremaining: 3.09s\n",
      "77:\tlearn: 1609.6803824\ttest: 1689.8075864\tbest: 1689.8075864 (77)\ttotal: 3.84s\tremaining: 3.05s\n",
      "78:\tlearn: 1609.6475530\ttest: 1689.8066846\tbest: 1689.8066846 (78)\ttotal: 3.88s\tremaining: 3s\n",
      "79:\tlearn: 1608.8482318\ttest: 1689.4933050\tbest: 1689.4933050 (79)\ttotal: 3.93s\tremaining: 2.95s\n",
      "80:\tlearn: 1606.2479821\ttest: 1688.0456846\tbest: 1688.0456846 (80)\ttotal: 3.98s\tremaining: 2.9s\n",
      "81:\tlearn: 1605.1764303\ttest: 1687.7718718\tbest: 1687.7718718 (81)\ttotal: 4.03s\tremaining: 2.85s\n",
      "82:\tlearn: 1603.0947813\ttest: 1687.0575810\tbest: 1687.0575810 (82)\ttotal: 4.08s\tremaining: 2.8s\n",
      "83:\tlearn: 1601.1609573\ttest: 1685.8939877\tbest: 1685.8939877 (83)\ttotal: 4.12s\tremaining: 2.75s\n",
      "84:\tlearn: 1600.0802036\ttest: 1686.1032131\tbest: 1685.8939877 (83)\ttotal: 4.17s\tremaining: 2.7s\n",
      "85:\tlearn: 1599.1007047\ttest: 1685.7431729\tbest: 1685.7431729 (85)\ttotal: 4.22s\tremaining: 2.65s\n",
      "86:\tlearn: 1597.8366940\ttest: 1685.0260275\tbest: 1685.0260275 (86)\ttotal: 4.29s\tremaining: 2.61s\n",
      "87:\tlearn: 1597.3337518\ttest: 1684.6133011\tbest: 1684.6133011 (87)\ttotal: 4.34s\tremaining: 2.56s\n",
      "88:\tlearn: 1595.4149529\ttest: 1684.1697761\tbest: 1684.1697761 (88)\ttotal: 4.38s\tremaining: 2.51s\n",
      "89:\tlearn: 1594.0344454\ttest: 1683.6539014\tbest: 1683.6539014 (89)\ttotal: 4.43s\tremaining: 2.46s\n",
      "90:\tlearn: 1592.9429759\ttest: 1683.6055800\tbest: 1683.6055800 (90)\ttotal: 4.48s\tremaining: 2.41s\n",
      "91:\tlearn: 1592.4542237\ttest: 1683.5593619\tbest: 1683.5593619 (91)\ttotal: 4.54s\tremaining: 2.37s\n",
      "92:\tlearn: 1591.4257134\ttest: 1683.4951944\tbest: 1683.4951944 (92)\ttotal: 4.6s\tremaining: 2.32s\n",
      "93:\tlearn: 1590.8991930\ttest: 1683.3013081\tbest: 1683.3013081 (93)\ttotal: 4.66s\tremaining: 2.28s\n",
      "94:\tlearn: 1590.1546824\ttest: 1682.7169367\tbest: 1682.7169367 (94)\ttotal: 4.7s\tremaining: 2.23s\n",
      "95:\tlearn: 1588.3090700\ttest: 1682.5952455\tbest: 1682.5952455 (95)\ttotal: 4.75s\tremaining: 2.18s\n",
      "96:\tlearn: 1586.7603024\ttest: 1682.3410474\tbest: 1682.3410474 (96)\ttotal: 4.8s\tremaining: 2.13s\n",
      "97:\tlearn: 1584.6874509\ttest: 1681.0189967\tbest: 1681.0189967 (97)\ttotal: 4.85s\tremaining: 2.08s\n",
      "98:\tlearn: 1581.9795326\ttest: 1679.6378078\tbest: 1679.6378078 (98)\ttotal: 4.91s\tremaining: 2.03s\n",
      "99:\tlearn: 1581.2971568\ttest: 1679.3868983\tbest: 1679.3868983 (99)\ttotal: 4.96s\tremaining: 1.99s\n",
      "100:\tlearn: 1579.6956309\ttest: 1678.6908127\tbest: 1678.6908127 (100)\ttotal: 5.01s\tremaining: 1.93s\n",
      "101:\tlearn: 1578.6554914\ttest: 1678.5537503\tbest: 1678.5537503 (101)\ttotal: 5.05s\tremaining: 1.88s\n",
      "102:\tlearn: 1577.4797275\ttest: 1678.0394902\tbest: 1678.0394902 (102)\ttotal: 5.1s\tremaining: 1.83s\n",
      "103:\tlearn: 1575.5717191\ttest: 1676.9202521\tbest: 1676.9202521 (103)\ttotal: 5.15s\tremaining: 1.78s\n",
      "104:\tlearn: 1574.4990636\ttest: 1677.1252719\tbest: 1676.9202521 (103)\ttotal: 5.19s\tremaining: 1.73s\n",
      "105:\tlearn: 1573.0218644\ttest: 1676.9564387\tbest: 1676.9202521 (103)\ttotal: 5.24s\tremaining: 1.68s\n",
      "106:\tlearn: 1572.4533039\ttest: 1676.5827281\tbest: 1676.5827281 (106)\ttotal: 5.29s\tremaining: 1.63s\n",
      "107:\tlearn: 1571.4774048\ttest: 1676.7515598\tbest: 1676.5827281 (106)\ttotal: 5.33s\tremaining: 1.58s\n",
      "108:\tlearn: 1570.1997899\ttest: 1676.8364299\tbest: 1676.5827281 (106)\ttotal: 5.38s\tremaining: 1.53s\n",
      "109:\tlearn: 1569.7289590\ttest: 1676.4252420\tbest: 1676.4252420 (109)\ttotal: 5.42s\tremaining: 1.48s\n",
      "110:\tlearn: 1568.7878032\ttest: 1676.8190599\tbest: 1676.4252420 (109)\ttotal: 5.47s\tremaining: 1.43s\n",
      "111:\tlearn: 1568.4397963\ttest: 1676.7320576\tbest: 1676.4252420 (109)\ttotal: 5.51s\tremaining: 1.38s\n",
      "112:\tlearn: 1567.1887986\ttest: 1676.7638151\tbest: 1676.4252420 (109)\ttotal: 5.56s\tremaining: 1.33s\n",
      "113:\tlearn: 1566.9525369\ttest: 1676.4921913\tbest: 1676.4252420 (109)\ttotal: 5.61s\tremaining: 1.28s\n",
      "114:\tlearn: 1566.3978982\ttest: 1676.1374284\tbest: 1676.1374284 (114)\ttotal: 5.66s\tremaining: 1.23s\n",
      "115:\tlearn: 1565.4952197\ttest: 1675.9954724\tbest: 1675.9954724 (115)\ttotal: 5.7s\tremaining: 1.18s\n",
      "116:\tlearn: 1565.1716960\ttest: 1675.9988854\tbest: 1675.9954724 (115)\ttotal: 5.75s\tremaining: 1.13s\n",
      "117:\tlearn: 1563.8012848\ttest: 1675.5191802\tbest: 1675.5191802 (117)\ttotal: 5.8s\tremaining: 1.08s\n",
      "118:\tlearn: 1563.2225382\ttest: 1675.5420851\tbest: 1675.5191802 (117)\ttotal: 5.85s\tremaining: 1.03s\n",
      "119:\tlearn: 1562.1253800\ttest: 1675.2183843\tbest: 1675.2183843 (119)\ttotal: 5.9s\tremaining: 984ms\n",
      "120:\tlearn: 1560.8623844\ttest: 1674.9150292\tbest: 1674.9150292 (120)\ttotal: 5.95s\tremaining: 935ms\n",
      "121:\tlearn: 1558.6085063\ttest: 1673.0552631\tbest: 1673.0552631 (121)\ttotal: 6s\tremaining: 885ms\n",
      "122:\tlearn: 1558.1781394\ttest: 1672.8607064\tbest: 1672.8607064 (122)\ttotal: 6.04s\tremaining: 835ms\n",
      "123:\tlearn: 1557.0067676\ttest: 1672.2608698\tbest: 1672.2608698 (123)\ttotal: 6.09s\tremaining: 786ms\n",
      "124:\tlearn: 1555.6204001\ttest: 1671.5552881\tbest: 1671.5552881 (124)\ttotal: 6.14s\tremaining: 737ms\n",
      "125:\tlearn: 1554.2115445\ttest: 1671.3148150\tbest: 1671.3148150 (125)\ttotal: 6.19s\tremaining: 688ms\n",
      "126:\tlearn: 1552.4896742\ttest: 1670.5981346\tbest: 1670.5981346 (126)\ttotal: 6.24s\tremaining: 639ms\n",
      "127:\tlearn: 1550.8609616\ttest: 1669.9966423\tbest: 1669.9966423 (127)\ttotal: 6.29s\tremaining: 589ms\n",
      "128:\tlearn: 1549.9852561\ttest: 1669.7567370\tbest: 1669.7567370 (128)\ttotal: 6.34s\tremaining: 541ms\n",
      "129:\tlearn: 1549.2487055\ttest: 1669.4345313\tbest: 1669.4345313 (129)\ttotal: 6.39s\tremaining: 492ms\n",
      "130:\tlearn: 1548.0152904\ttest: 1668.8915944\tbest: 1668.8915944 (130)\ttotal: 6.44s\tremaining: 442ms\n",
      "131:\tlearn: 1546.8650691\ttest: 1667.9772804\tbest: 1667.9772804 (131)\ttotal: 6.49s\tremaining: 393ms\n",
      "132:\tlearn: 1546.2168775\ttest: 1667.8308482\tbest: 1667.8308482 (132)\ttotal: 6.53s\tremaining: 344ms\n",
      "133:\tlearn: 1545.4001291\ttest: 1668.0003779\tbest: 1667.8308482 (132)\ttotal: 6.58s\tremaining: 295ms\n",
      "134:\tlearn: 1544.5865514\ttest: 1667.4224340\tbest: 1667.4224340 (134)\ttotal: 6.63s\tremaining: 246ms\n",
      "135:\tlearn: 1543.4037400\ttest: 1667.0866632\tbest: 1667.0866632 (135)\ttotal: 6.68s\tremaining: 197ms\n",
      "136:\tlearn: 1541.9354927\ttest: 1667.1720751\tbest: 1667.0866632 (135)\ttotal: 6.73s\tremaining: 147ms\n",
      "137:\tlearn: 1540.9620434\ttest: 1666.2660699\tbest: 1666.2660699 (137)\ttotal: 6.78s\tremaining: 98.3ms\n",
      "138:\tlearn: 1540.2802685\ttest: 1666.2575159\tbest: 1666.2575159 (138)\ttotal: 6.83s\tremaining: 49.2ms\n",
      "139:\tlearn: 1539.3657266\ttest: 1665.6992931\tbest: 1665.6992931 (139)\ttotal: 6.88s\tremaining: 0us\n",
      "\n",
      "bestTest = 1665.699293\n",
      "bestIteration = 139\n",
      "\n",
      "Training on fold [1/3]\n",
      "0:\tlearn: 3940.9705461\ttest: 3959.3633301\tbest: 3959.3633301 (0)\ttotal: 74.9ms\tremaining: 10.4s\n",
      "1:\tlearn: 2808.4670030\ttest: 2825.7167930\tbest: 2825.7167930 (1)\ttotal: 136ms\tremaining: 9.36s\n",
      "2:\tlearn: 2336.2165921\ttest: 2354.1881093\tbest: 2354.1881093 (2)\ttotal: 189ms\tremaining: 8.63s\n",
      "3:\tlearn: 2117.7477187\ttest: 2128.3294660\tbest: 2128.3294660 (3)\ttotal: 243ms\tremaining: 8.28s\n",
      "4:\tlearn: 2019.6425376\ttest: 2033.2934179\tbest: 2033.2934179 (4)\ttotal: 295ms\tremaining: 7.98s\n",
      "5:\tlearn: 1977.0027732\ttest: 1989.3588497\tbest: 1989.3588497 (5)\ttotal: 347ms\tremaining: 7.74s\n",
      "6:\tlearn: 1936.7770954\ttest: 1950.4224149\tbest: 1950.4224149 (6)\ttotal: 395ms\tremaining: 7.51s\n",
      "7:\tlearn: 1912.5044463\ttest: 1926.5732650\tbest: 1926.5732650 (7)\ttotal: 446ms\tremaining: 7.36s\n",
      "8:\tlearn: 1895.4446648\ttest: 1914.1933859\tbest: 1914.1933859 (8)\ttotal: 496ms\tremaining: 7.21s\n",
      "9:\tlearn: 1877.7530504\ttest: 1899.6591784\tbest: 1899.6591784 (9)\ttotal: 544ms\tremaining: 7.07s\n",
      "10:\tlearn: 1864.0625189\ttest: 1886.3676202\tbest: 1886.3676202 (10)\ttotal: 598ms\tremaining: 7.01s\n",
      "11:\tlearn: 1852.0900082\ttest: 1873.5947056\tbest: 1873.5947056 (11)\ttotal: 644ms\tremaining: 6.87s\n",
      "12:\tlearn: 1840.1350052\ttest: 1861.0843142\tbest: 1861.0843142 (12)\ttotal: 691ms\tremaining: 6.75s\n",
      "13:\tlearn: 1821.1760783\ttest: 1841.4658540\tbest: 1841.4658540 (13)\ttotal: 743ms\tremaining: 6.68s\n",
      "14:\tlearn: 1812.4619123\ttest: 1833.4151221\tbest: 1833.4151221 (14)\ttotal: 793ms\tremaining: 6.61s\n",
      "15:\tlearn: 1802.1719530\ttest: 1823.0830235\tbest: 1823.0830235 (15)\ttotal: 840ms\tremaining: 6.51s\n",
      "16:\tlearn: 1791.0256262\ttest: 1812.5983274\tbest: 1812.5983274 (16)\ttotal: 888ms\tremaining: 6.42s\n",
      "17:\tlearn: 1783.7168566\ttest: 1803.4556542\tbest: 1803.4556542 (17)\ttotal: 962ms\tremaining: 6.52s\n",
      "18:\tlearn: 1776.1510114\ttest: 1796.5984515\tbest: 1796.5984515 (18)\ttotal: 1.03s\tremaining: 6.56s\n",
      "19:\tlearn: 1770.8025168\ttest: 1793.6552154\tbest: 1793.6552154 (19)\ttotal: 1.09s\tremaining: 6.56s\n",
      "20:\tlearn: 1762.1312476\ttest: 1785.8328231\tbest: 1785.8328231 (20)\ttotal: 1.16s\tremaining: 6.55s\n",
      "21:\tlearn: 1756.0823324\ttest: 1780.1074498\tbest: 1780.1074498 (21)\ttotal: 1.21s\tremaining: 6.48s\n",
      "22:\tlearn: 1750.8389826\ttest: 1777.2520857\tbest: 1777.2520857 (22)\ttotal: 1.25s\tremaining: 6.37s\n",
      "23:\tlearn: 1746.2340263\ttest: 1773.8015958\tbest: 1773.8015958 (23)\ttotal: 1.31s\tremaining: 6.32s\n",
      "24:\tlearn: 1741.4792144\ttest: 1769.8894490\tbest: 1769.8894490 (24)\ttotal: 1.35s\tremaining: 6.23s\n",
      "25:\tlearn: 1737.8981731\ttest: 1765.8007725\tbest: 1765.8007725 (25)\ttotal: 1.4s\tremaining: 6.15s\n",
      "26:\tlearn: 1731.8595091\ttest: 1760.4933785\tbest: 1760.4933785 (26)\ttotal: 1.45s\tremaining: 6.08s\n",
      "27:\tlearn: 1727.5300844\ttest: 1758.6629242\tbest: 1758.6629242 (27)\ttotal: 1.5s\tremaining: 6.02s\n",
      "28:\tlearn: 1721.4407743\ttest: 1753.1914919\tbest: 1753.1914919 (28)\ttotal: 1.55s\tremaining: 5.94s\n",
      "29:\tlearn: 1717.4426345\ttest: 1750.3549799\tbest: 1750.3549799 (29)\ttotal: 1.6s\tremaining: 5.87s\n",
      "30:\tlearn: 1713.8011118\ttest: 1746.5221193\tbest: 1746.5221193 (30)\ttotal: 1.65s\tremaining: 5.79s\n",
      "31:\tlearn: 1710.2339145\ttest: 1744.2614844\tbest: 1744.2614844 (31)\ttotal: 1.69s\tremaining: 5.72s\n",
      "32:\tlearn: 1704.8999509\ttest: 1738.3524381\tbest: 1738.3524381 (32)\ttotal: 1.74s\tremaining: 5.64s\n",
      "33:\tlearn: 1701.1884318\ttest: 1736.2199287\tbest: 1736.2199287 (33)\ttotal: 1.78s\tremaining: 5.56s\n",
      "34:\tlearn: 1698.0062191\ttest: 1733.3179467\tbest: 1733.3179467 (34)\ttotal: 1.83s\tremaining: 5.49s\n",
      "35:\tlearn: 1693.7753306\ttest: 1728.6398807\tbest: 1728.6398807 (35)\ttotal: 1.88s\tremaining: 5.42s\n",
      "36:\tlearn: 1692.0435676\ttest: 1727.9446834\tbest: 1727.9446834 (36)\ttotal: 1.92s\tremaining: 5.35s\n",
      "37:\tlearn: 1688.8037133\ttest: 1725.3078492\tbest: 1725.3078492 (37)\ttotal: 1.97s\tremaining: 5.29s\n",
      "38:\tlearn: 1683.2700759\ttest: 1721.3519555\tbest: 1721.3519555 (38)\ttotal: 2.02s\tremaining: 5.23s\n",
      "39:\tlearn: 1680.8998505\ttest: 1719.7870213\tbest: 1719.7870213 (39)\ttotal: 2.07s\tremaining: 5.18s\n",
      "40:\tlearn: 1677.5663632\ttest: 1717.9612329\tbest: 1717.9612329 (40)\ttotal: 2.13s\tremaining: 5.13s\n",
      "41:\tlearn: 1674.9055264\ttest: 1716.6854644\tbest: 1716.6854644 (41)\ttotal: 2.18s\tremaining: 5.08s\n",
      "42:\tlearn: 1672.7124150\ttest: 1715.5903474\tbest: 1715.5903474 (42)\ttotal: 2.23s\tremaining: 5.03s\n",
      "43:\tlearn: 1671.1133758\ttest: 1715.7491050\tbest: 1715.5903474 (42)\ttotal: 2.28s\tremaining: 4.97s\n",
      "44:\tlearn: 1670.4310878\ttest: 1715.7917177\tbest: 1715.5903474 (42)\ttotal: 2.33s\tremaining: 4.91s\n",
      "45:\tlearn: 1666.8584175\ttest: 1713.2027708\tbest: 1713.2027708 (45)\ttotal: 2.37s\tremaining: 4.85s\n",
      "46:\tlearn: 1665.5258122\ttest: 1712.8334796\tbest: 1712.8334796 (46)\ttotal: 2.42s\tremaining: 4.79s\n",
      "47:\tlearn: 1664.3638248\ttest: 1712.7943167\tbest: 1712.7943167 (47)\ttotal: 2.47s\tremaining: 4.73s\n",
      "48:\tlearn: 1663.0153569\ttest: 1711.7919404\tbest: 1711.7919404 (48)\ttotal: 2.52s\tremaining: 4.67s\n",
      "49:\tlearn: 1661.1980850\ttest: 1710.3028148\tbest: 1710.3028148 (49)\ttotal: 2.56s\tremaining: 4.61s\n",
      "50:\tlearn: 1659.1186716\ttest: 1709.8356231\tbest: 1709.8356231 (50)\ttotal: 2.61s\tremaining: 4.56s\n",
      "51:\tlearn: 1657.8287525\ttest: 1709.2840391\tbest: 1709.2840391 (51)\ttotal: 2.65s\tremaining: 4.49s\n",
      "52:\tlearn: 1655.0755176\ttest: 1707.2105636\tbest: 1707.2105636 (52)\ttotal: 2.7s\tremaining: 4.43s\n",
      "53:\tlearn: 1652.6768335\ttest: 1705.6076933\tbest: 1705.6076933 (53)\ttotal: 2.75s\tremaining: 4.37s\n",
      "54:\tlearn: 1650.5875135\ttest: 1703.7048663\tbest: 1703.7048663 (54)\ttotal: 2.79s\tremaining: 4.32s\n",
      "55:\tlearn: 1647.7742073\ttest: 1701.3135011\tbest: 1701.3135011 (55)\ttotal: 2.85s\tremaining: 4.27s\n",
      "56:\tlearn: 1645.1336649\ttest: 1699.3637401\tbest: 1699.3637401 (56)\ttotal: 2.9s\tremaining: 4.22s\n",
      "57:\tlearn: 1642.7502075\ttest: 1698.8582527\tbest: 1698.8582527 (57)\ttotal: 2.94s\tremaining: 4.16s\n",
      "58:\tlearn: 1641.3568271\ttest: 1697.4334014\tbest: 1697.4334014 (58)\ttotal: 2.99s\tremaining: 4.11s\n",
      "59:\tlearn: 1639.9904414\ttest: 1696.4436154\tbest: 1696.4436154 (59)\ttotal: 3.04s\tremaining: 4.05s\n",
      "60:\tlearn: 1636.1926488\ttest: 1694.2954426\tbest: 1694.2954426 (60)\ttotal: 3.09s\tremaining: 4s\n",
      "61:\tlearn: 1632.6922966\ttest: 1692.4439787\tbest: 1692.4439787 (61)\ttotal: 3.14s\tremaining: 3.94s\n",
      "62:\tlearn: 1630.7342018\ttest: 1690.7566420\tbest: 1690.7566420 (62)\ttotal: 3.19s\tremaining: 3.9s\n",
      "63:\tlearn: 1628.5229774\ttest: 1688.5771170\tbest: 1688.5771170 (63)\ttotal: 3.23s\tremaining: 3.84s\n",
      "64:\tlearn: 1625.7518119\ttest: 1687.3339416\tbest: 1687.3339416 (64)\ttotal: 3.28s\tremaining: 3.79s\n",
      "65:\tlearn: 1623.2512328\ttest: 1686.0521416\tbest: 1686.0521416 (65)\ttotal: 3.33s\tremaining: 3.73s\n",
      "66:\tlearn: 1621.9329734\ttest: 1685.8888435\tbest: 1685.8888435 (66)\ttotal: 3.38s\tremaining: 3.68s\n",
      "67:\tlearn: 1620.6277809\ttest: 1685.3954004\tbest: 1685.3954004 (67)\ttotal: 3.43s\tremaining: 3.63s\n",
      "68:\tlearn: 1619.4730101\ttest: 1684.7995617\tbest: 1684.7995617 (68)\ttotal: 3.48s\tremaining: 3.58s\n",
      "69:\tlearn: 1617.5626107\ttest: 1684.1181529\tbest: 1684.1181529 (69)\ttotal: 3.52s\tremaining: 3.52s\n",
      "70:\tlearn: 1615.9382245\ttest: 1683.8290344\tbest: 1683.8290344 (70)\ttotal: 3.57s\tremaining: 3.47s\n",
      "71:\tlearn: 1614.3754430\ttest: 1683.5158791\tbest: 1683.5158791 (71)\ttotal: 3.62s\tremaining: 3.42s\n",
      "72:\tlearn: 1613.7490054\ttest: 1683.3255929\tbest: 1683.3255929 (72)\ttotal: 3.67s\tremaining: 3.37s\n",
      "73:\tlearn: 1611.9452601\ttest: 1682.5603989\tbest: 1682.5603989 (73)\ttotal: 3.72s\tremaining: 3.32s\n",
      "74:\tlearn: 1610.9134993\ttest: 1682.0637338\tbest: 1682.0637338 (74)\ttotal: 3.77s\tremaining: 3.26s\n",
      "75:\tlearn: 1610.3362575\ttest: 1681.8617276\tbest: 1681.8617276 (75)\ttotal: 3.81s\tremaining: 3.21s\n",
      "76:\tlearn: 1608.8334705\ttest: 1680.9513495\tbest: 1680.9513495 (76)\ttotal: 3.86s\tremaining: 3.16s\n",
      "77:\tlearn: 1608.0502905\ttest: 1681.4859843\tbest: 1680.9513495 (76)\ttotal: 3.91s\tremaining: 3.11s\n",
      "78:\tlearn: 1606.8751118\ttest: 1680.6251232\tbest: 1680.6251232 (78)\ttotal: 3.96s\tremaining: 3.06s\n",
      "79:\tlearn: 1604.8301694\ttest: 1679.6165786\tbest: 1679.6165786 (79)\ttotal: 4.01s\tremaining: 3.01s\n",
      "80:\tlearn: 1603.9486639\ttest: 1678.9054710\tbest: 1678.9054710 (80)\ttotal: 4.06s\tremaining: 2.96s\n",
      "81:\tlearn: 1603.0234660\ttest: 1678.6078244\tbest: 1678.6078244 (81)\ttotal: 4.11s\tremaining: 2.91s\n",
      "82:\tlearn: 1601.9390075\ttest: 1677.9430265\tbest: 1677.9430265 (82)\ttotal: 4.16s\tremaining: 2.85s\n",
      "83:\tlearn: 1600.6904056\ttest: 1677.3321128\tbest: 1677.3321128 (83)\ttotal: 4.2s\tremaining: 2.8s\n",
      "84:\tlearn: 1600.1528511\ttest: 1677.1740167\tbest: 1677.1740167 (84)\ttotal: 4.25s\tremaining: 2.75s\n",
      "85:\tlearn: 1598.6481988\ttest: 1676.5187475\tbest: 1676.5187475 (85)\ttotal: 4.3s\tremaining: 2.7s\n",
      "86:\tlearn: 1596.7338627\ttest: 1675.7116439\tbest: 1675.7116439 (86)\ttotal: 4.34s\tremaining: 2.65s\n",
      "87:\tlearn: 1596.1540829\ttest: 1675.7667112\tbest: 1675.7116439 (86)\ttotal: 4.39s\tremaining: 2.59s\n",
      "88:\tlearn: 1595.0197153\ttest: 1675.3870322\tbest: 1675.3870322 (88)\ttotal: 4.43s\tremaining: 2.54s\n",
      "89:\tlearn: 1593.6136896\ttest: 1674.4979538\tbest: 1674.4979538 (89)\ttotal: 4.48s\tremaining: 2.49s\n",
      "90:\tlearn: 1591.8396365\ttest: 1673.6781979\tbest: 1673.6781979 (90)\ttotal: 4.53s\tremaining: 2.44s\n",
      "91:\tlearn: 1590.7125745\ttest: 1673.1493849\tbest: 1673.1493849 (91)\ttotal: 4.57s\tremaining: 2.38s\n",
      "92:\tlearn: 1589.7017024\ttest: 1672.7931956\tbest: 1672.7931956 (92)\ttotal: 4.62s\tremaining: 2.33s\n",
      "93:\tlearn: 1587.5043792\ttest: 1672.1754005\tbest: 1672.1754005 (93)\ttotal: 4.67s\tremaining: 2.28s\n",
      "94:\tlearn: 1586.2880722\ttest: 1671.8883067\tbest: 1671.8883067 (94)\ttotal: 4.71s\tremaining: 2.23s\n",
      "95:\tlearn: 1584.3424705\ttest: 1670.9713250\tbest: 1670.9713250 (95)\ttotal: 4.76s\tremaining: 2.18s\n",
      "96:\tlearn: 1583.3815681\ttest: 1671.1353720\tbest: 1670.9713250 (95)\ttotal: 4.81s\tremaining: 2.13s\n",
      "97:\tlearn: 1582.2556933\ttest: 1670.4886679\tbest: 1670.4886679 (97)\ttotal: 4.85s\tremaining: 2.08s\n",
      "98:\tlearn: 1581.1577652\ttest: 1670.3900880\tbest: 1670.3900880 (98)\ttotal: 4.9s\tremaining: 2.03s\n",
      "99:\tlearn: 1580.2758405\ttest: 1669.8450839\tbest: 1669.8450839 (99)\ttotal: 4.95s\tremaining: 1.98s\n",
      "100:\tlearn: 1579.1885955\ttest: 1669.5699022\tbest: 1669.5699022 (100)\ttotal: 5s\tremaining: 1.93s\n",
      "101:\tlearn: 1577.9569646\ttest: 1669.0399531\tbest: 1669.0399531 (101)\ttotal: 5.05s\tremaining: 1.88s\n",
      "102:\tlearn: 1575.0176925\ttest: 1668.3453633\tbest: 1668.3453633 (102)\ttotal: 5.11s\tremaining: 1.83s\n",
      "103:\tlearn: 1574.5605318\ttest: 1668.3343014\tbest: 1668.3343014 (103)\ttotal: 5.15s\tremaining: 1.78s\n",
      "104:\tlearn: 1573.8385196\ttest: 1668.3090054\tbest: 1668.3090054 (104)\ttotal: 5.2s\tremaining: 1.73s\n",
      "105:\tlearn: 1571.9017163\ttest: 1666.6479877\tbest: 1666.6479877 (105)\ttotal: 5.25s\tremaining: 1.68s\n",
      "106:\tlearn: 1571.0426317\ttest: 1666.3497726\tbest: 1666.3497726 (106)\ttotal: 5.29s\tremaining: 1.63s\n",
      "107:\tlearn: 1569.1239229\ttest: 1664.5588142\tbest: 1664.5588142 (107)\ttotal: 5.34s\tremaining: 1.58s\n",
      "108:\tlearn: 1568.4358159\ttest: 1664.4443950\tbest: 1664.4443950 (108)\ttotal: 5.38s\tremaining: 1.53s\n",
      "109:\tlearn: 1567.0486930\ttest: 1663.8784760\tbest: 1663.8784760 (109)\ttotal: 5.43s\tremaining: 1.48s\n",
      "110:\tlearn: 1566.2299574\ttest: 1663.2707083\tbest: 1663.2707083 (110)\ttotal: 5.48s\tremaining: 1.43s\n",
      "111:\tlearn: 1565.6227952\ttest: 1663.2615668\tbest: 1663.2615668 (111)\ttotal: 5.53s\tremaining: 1.38s\n",
      "112:\tlearn: 1564.8048165\ttest: 1662.8869726\tbest: 1662.8869726 (112)\ttotal: 5.57s\tremaining: 1.33s\n",
      "113:\tlearn: 1563.4265198\ttest: 1663.1432890\tbest: 1662.8869726 (112)\ttotal: 5.62s\tremaining: 1.28s\n",
      "114:\tlearn: 1562.5608070\ttest: 1662.8605727\tbest: 1662.8605727 (114)\ttotal: 5.66s\tremaining: 1.23s\n",
      "115:\tlearn: 1561.9106908\ttest: 1661.9402690\tbest: 1661.9402690 (115)\ttotal: 5.71s\tremaining: 1.18s\n",
      "116:\tlearn: 1561.1657890\ttest: 1661.3446373\tbest: 1661.3446373 (116)\ttotal: 5.76s\tremaining: 1.13s\n",
      "117:\tlearn: 1559.7024403\ttest: 1660.2708505\tbest: 1660.2708505 (117)\ttotal: 5.81s\tremaining: 1.08s\n",
      "118:\tlearn: 1559.3850814\ttest: 1660.5952026\tbest: 1660.2708505 (117)\ttotal: 5.86s\tremaining: 1.03s\n",
      "119:\tlearn: 1558.0483168\ttest: 1660.4321008\tbest: 1660.2708505 (117)\ttotal: 5.91s\tremaining: 984ms\n",
      "120:\tlearn: 1557.3348503\ttest: 1660.2462873\tbest: 1660.2462873 (120)\ttotal: 5.95s\tremaining: 935ms\n",
      "121:\tlearn: 1556.4188122\ttest: 1659.8895728\tbest: 1659.8895728 (121)\ttotal: 6s\tremaining: 885ms\n",
      "122:\tlearn: 1554.8684973\ttest: 1659.0944194\tbest: 1659.0944194 (122)\ttotal: 6.04s\tremaining: 836ms\n",
      "123:\tlearn: 1553.8452358\ttest: 1659.3963157\tbest: 1659.0944194 (122)\ttotal: 6.1s\tremaining: 787ms\n",
      "124:\tlearn: 1553.2565553\ttest: 1659.3363345\tbest: 1659.0944194 (122)\ttotal: 6.15s\tremaining: 738ms\n",
      "125:\tlearn: 1552.4540398\ttest: 1658.9772650\tbest: 1658.9772650 (125)\ttotal: 6.19s\tremaining: 688ms\n",
      "126:\tlearn: 1551.2324034\ttest: 1659.3047211\tbest: 1658.9772650 (125)\ttotal: 6.24s\tremaining: 639ms\n",
      "127:\tlearn: 1549.6232932\ttest: 1658.1508537\tbest: 1658.1508537 (127)\ttotal: 6.29s\tremaining: 590ms\n",
      "128:\tlearn: 1549.3195780\ttest: 1658.4817561\tbest: 1658.1508537 (127)\ttotal: 6.34s\tremaining: 541ms\n",
      "129:\tlearn: 1547.9432720\ttest: 1658.3877262\tbest: 1658.1508537 (127)\ttotal: 6.39s\tremaining: 492ms\n",
      "130:\tlearn: 1546.9198787\ttest: 1658.2740493\tbest: 1658.1508537 (127)\ttotal: 6.45s\tremaining: 443ms\n",
      "131:\tlearn: 1545.8141445\ttest: 1658.0923045\tbest: 1658.0923045 (131)\ttotal: 6.5s\tremaining: 394ms\n",
      "132:\tlearn: 1544.9864275\ttest: 1657.6595356\tbest: 1657.6595356 (132)\ttotal: 6.55s\tremaining: 345ms\n",
      "133:\tlearn: 1544.2214210\ttest: 1657.0574888\tbest: 1657.0574888 (133)\ttotal: 6.6s\tremaining: 295ms\n",
      "134:\tlearn: 1543.1643653\ttest: 1656.1826168\tbest: 1656.1826168 (134)\ttotal: 6.64s\tremaining: 246ms\n",
      "135:\tlearn: 1541.9343239\ttest: 1656.1328401\tbest: 1656.1328401 (135)\ttotal: 6.69s\tremaining: 197ms\n",
      "136:\tlearn: 1540.8591704\ttest: 1655.8263213\tbest: 1655.8263213 (136)\ttotal: 6.73s\tremaining: 147ms\n",
      "137:\tlearn: 1539.5802190\ttest: 1655.0993643\tbest: 1655.0993643 (137)\ttotal: 6.79s\tremaining: 98.4ms\n",
      "138:\tlearn: 1538.7734291\ttest: 1654.3134644\tbest: 1654.3134644 (138)\ttotal: 6.83s\tremaining: 49.2ms\n",
      "139:\tlearn: 1538.4587227\ttest: 1654.3817539\tbest: 1654.3134644 (138)\ttotal: 6.88s\tremaining: 0us\n",
      "\n",
      "bestTest = 1654.313464\n",
      "bestIteration = 138\n",
      "\n",
      "Training on fold [2/3]\n",
      "0:\tlearn: 3951.2864445\ttest: 3920.8013217\tbest: 3920.8013217 (0)\ttotal: 88.6ms\tremaining: 12.3s\n",
      "1:\tlearn: 2815.6510860\ttest: 2792.8403713\tbest: 2792.8403713 (1)\ttotal: 155ms\tremaining: 10.7s\n",
      "2:\tlearn: 2347.7794935\ttest: 2330.0714264\tbest: 2330.0714264 (2)\ttotal: 218ms\tremaining: 9.97s\n",
      "3:\tlearn: 2123.4720362\ttest: 2110.7346550\tbest: 2110.7346550 (3)\ttotal: 292ms\tremaining: 9.92s\n",
      "4:\tlearn: 2031.5527246\ttest: 2025.3384836\tbest: 2025.3384836 (4)\ttotal: 340ms\tremaining: 9.18s\n",
      "5:\tlearn: 1981.6422383\ttest: 1980.1041337\tbest: 1980.1041337 (5)\ttotal: 390ms\tremaining: 8.71s\n",
      "6:\tlearn: 1945.1925145\ttest: 1948.5656158\tbest: 1948.5656158 (6)\ttotal: 450ms\tremaining: 8.56s\n",
      "7:\tlearn: 1920.0453865\ttest: 1925.8177073\tbest: 1925.8177073 (7)\ttotal: 502ms\tremaining: 8.28s\n",
      "8:\tlearn: 1900.5230669\ttest: 1907.1259381\tbest: 1907.1259381 (8)\ttotal: 548ms\tremaining: 7.97s\n",
      "9:\tlearn: 1874.6451500\ttest: 1883.3857426\tbest: 1883.3857426 (9)\ttotal: 597ms\tremaining: 7.76s\n",
      "10:\tlearn: 1852.5528733\ttest: 1863.1614777\tbest: 1863.1614777 (10)\ttotal: 645ms\tremaining: 7.56s\n",
      "11:\tlearn: 1838.0740807\ttest: 1850.1092265\tbest: 1850.1092265 (11)\ttotal: 695ms\tremaining: 7.41s\n",
      "12:\tlearn: 1824.8757815\ttest: 1838.2312040\tbest: 1838.2312040 (12)\ttotal: 742ms\tremaining: 7.25s\n",
      "13:\tlearn: 1816.5619619\ttest: 1830.8008653\tbest: 1830.8008653 (13)\ttotal: 789ms\tremaining: 7.1s\n",
      "14:\tlearn: 1805.3143679\ttest: 1823.0683318\tbest: 1823.0683318 (14)\ttotal: 836ms\tremaining: 6.96s\n",
      "15:\tlearn: 1793.4932023\ttest: 1812.6149461\tbest: 1812.6149461 (15)\ttotal: 885ms\tremaining: 6.86s\n",
      "16:\tlearn: 1788.7138935\ttest: 1809.1923003\tbest: 1809.1923003 (16)\ttotal: 935ms\tremaining: 6.77s\n",
      "17:\tlearn: 1782.5249320\ttest: 1804.2729885\tbest: 1804.2729885 (17)\ttotal: 987ms\tremaining: 6.69s\n",
      "18:\tlearn: 1775.9980335\ttest: 1798.7313566\tbest: 1798.7313566 (18)\ttotal: 1.04s\tremaining: 6.61s\n",
      "19:\tlearn: 1768.8950368\ttest: 1792.2789518\tbest: 1792.2789518 (19)\ttotal: 1.08s\tremaining: 6.51s\n",
      "20:\tlearn: 1761.2920539\ttest: 1784.7373641\tbest: 1784.7373641 (20)\ttotal: 1.13s\tremaining: 6.41s\n",
      "21:\tlearn: 1755.6478442\ttest: 1781.4916516\tbest: 1781.4916516 (21)\ttotal: 1.18s\tremaining: 6.32s\n",
      "22:\tlearn: 1747.7219401\ttest: 1775.7060700\tbest: 1775.7060700 (22)\ttotal: 1.23s\tremaining: 6.23s\n",
      "23:\tlearn: 1740.9838686\ttest: 1770.7924942\tbest: 1770.7924942 (23)\ttotal: 1.27s\tremaining: 6.16s\n",
      "24:\tlearn: 1733.6773091\ttest: 1765.0355394\tbest: 1765.0355394 (24)\ttotal: 1.32s\tremaining: 6.07s\n",
      "25:\tlearn: 1727.8211129\ttest: 1759.8062617\tbest: 1759.8062617 (25)\ttotal: 1.36s\tremaining: 5.99s\n",
      "26:\tlearn: 1720.9050259\ttest: 1753.3933944\tbest: 1753.3933944 (26)\ttotal: 1.41s\tremaining: 5.91s\n",
      "27:\tlearn: 1717.8426561\ttest: 1751.9712253\tbest: 1751.9712253 (27)\ttotal: 1.46s\tremaining: 5.86s\n",
      "28:\tlearn: 1712.4598049\ttest: 1747.7855992\tbest: 1747.7855992 (28)\ttotal: 1.51s\tremaining: 5.79s\n",
      "29:\tlearn: 1708.8107597\ttest: 1744.6396557\tbest: 1744.6396557 (29)\ttotal: 1.57s\tremaining: 5.77s\n",
      "30:\tlearn: 1706.3929867\ttest: 1742.9848071\tbest: 1742.9848071 (30)\ttotal: 1.62s\tremaining: 5.7s\n",
      "31:\tlearn: 1702.0758545\ttest: 1740.5950054\tbest: 1740.5950054 (31)\ttotal: 1.67s\tremaining: 5.65s\n",
      "32:\tlearn: 1699.2994358\ttest: 1737.5621219\tbest: 1737.5621219 (32)\ttotal: 1.72s\tremaining: 5.58s\n",
      "33:\tlearn: 1696.5067600\ttest: 1736.3036103\tbest: 1736.3036103 (33)\ttotal: 1.79s\tremaining: 5.57s\n",
      "34:\tlearn: 1693.1068401\ttest: 1733.6890136\tbest: 1733.6890136 (34)\ttotal: 1.83s\tremaining: 5.5s\n",
      "35:\tlearn: 1690.1910042\ttest: 1732.4769097\tbest: 1732.4769097 (35)\ttotal: 1.88s\tremaining: 5.43s\n",
      "36:\tlearn: 1686.1802989\ttest: 1729.5960841\tbest: 1729.5960841 (36)\ttotal: 1.93s\tremaining: 5.38s\n",
      "37:\tlearn: 1681.8090866\ttest: 1726.0725371\tbest: 1726.0725371 (37)\ttotal: 1.98s\tremaining: 5.32s\n",
      "38:\tlearn: 1677.4293977\ttest: 1722.5650649\tbest: 1722.5650649 (38)\ttotal: 2.03s\tremaining: 5.26s\n",
      "39:\tlearn: 1675.1788641\ttest: 1721.2611165\tbest: 1721.2611165 (39)\ttotal: 2.08s\tremaining: 5.21s\n",
      "40:\tlearn: 1673.5458557\ttest: 1720.6892969\tbest: 1720.6892969 (40)\ttotal: 2.13s\tremaining: 5.15s\n",
      "41:\tlearn: 1669.7428702\ttest: 1717.0215258\tbest: 1717.0215258 (41)\ttotal: 2.18s\tremaining: 5.09s\n",
      "42:\tlearn: 1665.2948315\ttest: 1713.4125977\tbest: 1713.4125977 (42)\ttotal: 2.23s\tremaining: 5.03s\n",
      "43:\tlearn: 1661.2268689\ttest: 1710.8537483\tbest: 1710.8537483 (43)\ttotal: 2.28s\tremaining: 4.98s\n",
      "44:\tlearn: 1658.6292820\ttest: 1709.1722792\tbest: 1709.1722792 (44)\ttotal: 2.33s\tremaining: 4.92s\n",
      "45:\tlearn: 1656.5900255\ttest: 1708.5831771\tbest: 1708.5831771 (45)\ttotal: 2.38s\tremaining: 4.87s\n",
      "46:\tlearn: 1654.8201311\ttest: 1707.9644192\tbest: 1707.9644192 (46)\ttotal: 2.44s\tremaining: 4.83s\n",
      "47:\tlearn: 1652.9241185\ttest: 1708.4504358\tbest: 1707.9644192 (46)\ttotal: 2.49s\tremaining: 4.78s\n",
      "48:\tlearn: 1651.3558735\ttest: 1708.2594420\tbest: 1707.9644192 (46)\ttotal: 2.54s\tremaining: 4.72s\n",
      "49:\tlearn: 1647.3636154\ttest: 1705.2388378\tbest: 1705.2388378 (49)\ttotal: 2.6s\tremaining: 4.68s\n",
      "50:\tlearn: 1645.2299452\ttest: 1704.7258379\tbest: 1704.7258379 (50)\ttotal: 2.66s\tremaining: 4.64s\n",
      "51:\tlearn: 1643.6269155\ttest: 1703.5865784\tbest: 1703.5865784 (51)\ttotal: 2.71s\tremaining: 4.59s\n",
      "52:\tlearn: 1640.9690057\ttest: 1702.5384509\tbest: 1702.5384509 (52)\ttotal: 2.77s\tremaining: 4.55s\n",
      "53:\tlearn: 1638.5193816\ttest: 1700.5386458\tbest: 1700.5386458 (53)\ttotal: 2.82s\tremaining: 4.5s\n",
      "54:\tlearn: 1637.0759539\ttest: 1700.0933650\tbest: 1700.0933650 (54)\ttotal: 2.88s\tremaining: 4.45s\n",
      "55:\tlearn: 1634.5447922\ttest: 1697.7303300\tbest: 1697.7303300 (55)\ttotal: 2.93s\tremaining: 4.4s\n",
      "56:\tlearn: 1632.2173097\ttest: 1696.0405636\tbest: 1696.0405636 (56)\ttotal: 2.99s\tremaining: 4.35s\n",
      "57:\tlearn: 1629.3298925\ttest: 1694.0448793\tbest: 1694.0448793 (57)\ttotal: 3.04s\tremaining: 4.29s\n",
      "58:\tlearn: 1626.6275029\ttest: 1692.5342220\tbest: 1692.5342220 (58)\ttotal: 3.09s\tremaining: 4.24s\n",
      "59:\tlearn: 1623.6000048\ttest: 1691.2199854\tbest: 1691.2199854 (59)\ttotal: 3.14s\tremaining: 4.18s\n",
      "60:\tlearn: 1621.8953032\ttest: 1690.4948517\tbest: 1690.4948517 (60)\ttotal: 3.19s\tremaining: 4.13s\n",
      "61:\tlearn: 1620.2218544\ttest: 1689.9312086\tbest: 1689.9312086 (61)\ttotal: 3.24s\tremaining: 4.07s\n",
      "62:\tlearn: 1619.3940344\ttest: 1689.5687068\tbest: 1689.5687068 (62)\ttotal: 3.29s\tremaining: 4.02s\n",
      "63:\tlearn: 1618.0565588\ttest: 1689.4569914\tbest: 1689.4569914 (63)\ttotal: 3.33s\tremaining: 3.96s\n",
      "64:\tlearn: 1616.1349192\ttest: 1689.0743367\tbest: 1689.0743367 (64)\ttotal: 3.38s\tremaining: 3.9s\n",
      "65:\tlearn: 1614.4560282\ttest: 1688.5699232\tbest: 1688.5699232 (65)\ttotal: 3.42s\tremaining: 3.84s\n",
      "66:\tlearn: 1613.1736797\ttest: 1688.3073059\tbest: 1688.3073059 (66)\ttotal: 3.47s\tremaining: 3.78s\n",
      "67:\tlearn: 1612.5151275\ttest: 1687.7921130\tbest: 1687.7921130 (67)\ttotal: 3.52s\tremaining: 3.72s\n",
      "68:\tlearn: 1610.2135427\ttest: 1687.0506622\tbest: 1687.0506622 (68)\ttotal: 3.56s\tremaining: 3.66s\n",
      "69:\tlearn: 1608.7839986\ttest: 1686.1917951\tbest: 1686.1917951 (69)\ttotal: 3.6s\tremaining: 3.6s\n",
      "70:\tlearn: 1607.9776343\ttest: 1686.1424313\tbest: 1686.1424313 (70)\ttotal: 3.65s\tremaining: 3.55s\n",
      "71:\tlearn: 1606.9064897\ttest: 1686.1892589\tbest: 1686.1424313 (70)\ttotal: 3.7s\tremaining: 3.49s\n",
      "72:\tlearn: 1605.5682462\ttest: 1685.8120668\tbest: 1685.8120668 (72)\ttotal: 3.74s\tremaining: 3.43s\n",
      "73:\tlearn: 1603.1512863\ttest: 1685.2917790\tbest: 1685.2917790 (73)\ttotal: 3.79s\tremaining: 3.38s\n",
      "74:\tlearn: 1601.8511896\ttest: 1684.7691024\tbest: 1684.7691024 (74)\ttotal: 3.83s\tremaining: 3.32s\n",
      "75:\tlearn: 1598.8579264\ttest: 1682.3156356\tbest: 1682.3156356 (75)\ttotal: 3.89s\tremaining: 3.27s\n",
      "76:\tlearn: 1596.8725615\ttest: 1681.6538850\tbest: 1681.6538850 (76)\ttotal: 3.96s\tremaining: 3.24s\n",
      "77:\tlearn: 1595.4780121\ttest: 1681.2618686\tbest: 1681.2618686 (77)\ttotal: 4.03s\tremaining: 3.2s\n",
      "78:\tlearn: 1594.4482975\ttest: 1681.2669715\tbest: 1681.2618686 (77)\ttotal: 4.09s\tremaining: 3.16s\n",
      "79:\tlearn: 1593.4464917\ttest: 1680.8783101\tbest: 1680.8783101 (79)\ttotal: 4.14s\tremaining: 3.11s\n",
      "80:\tlearn: 1592.1026019\ttest: 1681.1068017\tbest: 1680.8783101 (79)\ttotal: 4.2s\tremaining: 3.06s\n",
      "81:\tlearn: 1589.5548205\ttest: 1678.7261790\tbest: 1678.7261790 (81)\ttotal: 4.26s\tremaining: 3.01s\n",
      "82:\tlearn: 1588.5109502\ttest: 1677.8394417\tbest: 1677.8394417 (82)\ttotal: 4.31s\tremaining: 2.96s\n",
      "83:\tlearn: 1587.5481203\ttest: 1678.3295412\tbest: 1677.8394417 (82)\ttotal: 4.36s\tremaining: 2.91s\n",
      "84:\tlearn: 1585.0188468\ttest: 1676.8727990\tbest: 1676.8727990 (84)\ttotal: 4.42s\tremaining: 2.86s\n",
      "85:\tlearn: 1583.6672104\ttest: 1676.2691567\tbest: 1676.2691567 (85)\ttotal: 4.48s\tremaining: 2.81s\n",
      "86:\tlearn: 1582.6594542\ttest: 1676.3617065\tbest: 1676.2691567 (85)\ttotal: 4.53s\tremaining: 2.76s\n",
      "87:\tlearn: 1580.8007289\ttest: 1675.8807762\tbest: 1675.8807762 (87)\ttotal: 4.57s\tremaining: 2.7s\n",
      "88:\tlearn: 1578.6161154\ttest: 1674.3379913\tbest: 1674.3379913 (88)\ttotal: 4.62s\tremaining: 2.65s\n",
      "89:\tlearn: 1577.4912923\ttest: 1674.0617455\tbest: 1674.0617455 (89)\ttotal: 4.67s\tremaining: 2.6s\n",
      "90:\tlearn: 1575.8310230\ttest: 1674.0031021\tbest: 1674.0031021 (90)\ttotal: 4.72s\tremaining: 2.54s\n",
      "91:\tlearn: 1574.8003928\ttest: 1672.7952506\tbest: 1672.7952506 (91)\ttotal: 4.77s\tremaining: 2.49s\n",
      "92:\tlearn: 1573.8039540\ttest: 1672.3622156\tbest: 1672.3622156 (92)\ttotal: 4.82s\tremaining: 2.43s\n",
      "93:\tlearn: 1573.5304119\ttest: 1672.4917416\tbest: 1672.3622156 (92)\ttotal: 4.87s\tremaining: 2.38s\n",
      "94:\tlearn: 1572.2818903\ttest: 1671.4986016\tbest: 1671.4986016 (94)\ttotal: 4.91s\tremaining: 2.33s\n",
      "95:\tlearn: 1570.8855978\ttest: 1670.7082345\tbest: 1670.7082345 (95)\ttotal: 4.96s\tremaining: 2.27s\n",
      "96:\tlearn: 1569.7751286\ttest: 1670.2023182\tbest: 1670.2023182 (96)\ttotal: 5s\tremaining: 2.22s\n",
      "97:\tlearn: 1569.0631115\ttest: 1670.3158176\tbest: 1670.2023182 (96)\ttotal: 5.05s\tremaining: 2.17s\n",
      "98:\tlearn: 1568.1976588\ttest: 1669.9974199\tbest: 1669.9974199 (98)\ttotal: 5.1s\tremaining: 2.11s\n",
      "99:\tlearn: 1566.6978054\ttest: 1669.3320851\tbest: 1669.3320851 (99)\ttotal: 5.15s\tremaining: 2.06s\n",
      "100:\tlearn: 1565.5317114\ttest: 1669.3849837\tbest: 1669.3320851 (99)\ttotal: 5.19s\tremaining: 2s\n",
      "101:\tlearn: 1564.4545084\ttest: 1669.3924679\tbest: 1669.3320851 (99)\ttotal: 5.25s\tremaining: 1.95s\n",
      "102:\tlearn: 1562.9358482\ttest: 1669.2562482\tbest: 1669.2562482 (102)\ttotal: 5.3s\tremaining: 1.9s\n",
      "103:\tlearn: 1562.0403909\ttest: 1668.9840452\tbest: 1668.9840452 (103)\ttotal: 5.34s\tremaining: 1.85s\n",
      "104:\tlearn: 1561.5759690\ttest: 1669.0475167\tbest: 1668.9840452 (103)\ttotal: 5.39s\tremaining: 1.8s\n",
      "105:\tlearn: 1560.8362061\ttest: 1668.9688489\tbest: 1668.9688489 (105)\ttotal: 5.44s\tremaining: 1.75s\n",
      "106:\tlearn: 1559.9248888\ttest: 1668.7226764\tbest: 1668.7226764 (106)\ttotal: 5.49s\tremaining: 1.69s\n",
      "107:\tlearn: 1559.5368928\ttest: 1668.3448919\tbest: 1668.3448919 (107)\ttotal: 5.55s\tremaining: 1.65s\n",
      "108:\tlearn: 1557.2589175\ttest: 1667.0035469\tbest: 1667.0035469 (108)\ttotal: 5.61s\tremaining: 1.59s\n",
      "109:\tlearn: 1555.7012740\ttest: 1666.6211905\tbest: 1666.6211905 (109)\ttotal: 5.66s\tremaining: 1.54s\n",
      "110:\tlearn: 1555.0162740\ttest: 1666.0599670\tbest: 1666.0599670 (110)\ttotal: 5.71s\tremaining: 1.49s\n",
      "111:\tlearn: 1553.7638334\ttest: 1665.9293030\tbest: 1665.9293030 (111)\ttotal: 5.76s\tremaining: 1.44s\n",
      "112:\tlearn: 1553.0466367\ttest: 1665.5446303\tbest: 1665.5446303 (112)\ttotal: 5.81s\tremaining: 1.39s\n",
      "113:\tlearn: 1551.1580125\ttest: 1664.1694498\tbest: 1664.1694498 (113)\ttotal: 5.86s\tremaining: 1.34s\n",
      "114:\tlearn: 1550.0859880\ttest: 1664.6008387\tbest: 1664.1694498 (113)\ttotal: 5.91s\tremaining: 1.28s\n",
      "115:\tlearn: 1549.2375969\ttest: 1664.2219459\tbest: 1664.1694498 (113)\ttotal: 5.96s\tremaining: 1.23s\n",
      "116:\tlearn: 1548.5067603\ttest: 1663.8881654\tbest: 1663.8881654 (116)\ttotal: 6.01s\tremaining: 1.18s\n",
      "117:\tlearn: 1547.8071716\ttest: 1663.7696663\tbest: 1663.7696663 (117)\ttotal: 6.06s\tremaining: 1.13s\n",
      "118:\tlearn: 1545.3994272\ttest: 1662.5282517\tbest: 1662.5282517 (118)\ttotal: 6.11s\tremaining: 1.08s\n",
      "119:\tlearn: 1543.1240640\ttest: 1661.2504249\tbest: 1661.2504249 (119)\ttotal: 6.16s\tremaining: 1.03s\n",
      "120:\tlearn: 1541.9804366\ttest: 1660.9345765\tbest: 1660.9345765 (120)\ttotal: 6.21s\tremaining: 975ms\n",
      "121:\tlearn: 1540.5393258\ttest: 1660.3966314\tbest: 1660.3966314 (121)\ttotal: 6.26s\tremaining: 924ms\n",
      "122:\tlearn: 1540.2626413\ttest: 1660.4649907\tbest: 1660.3966314 (121)\ttotal: 6.31s\tremaining: 872ms\n",
      "123:\tlearn: 1539.5102987\ttest: 1660.8914182\tbest: 1660.3966314 (121)\ttotal: 6.35s\tremaining: 820ms\n",
      "124:\tlearn: 1538.6861158\ttest: 1661.3886251\tbest: 1660.3966314 (121)\ttotal: 6.41s\tremaining: 769ms\n",
      "125:\tlearn: 1537.9404665\ttest: 1661.5759518\tbest: 1660.3966314 (121)\ttotal: 6.46s\tremaining: 718ms\n",
      "126:\tlearn: 1537.3922168\ttest: 1661.3009001\tbest: 1660.3966314 (121)\ttotal: 6.51s\tremaining: 666ms\n",
      "127:\tlearn: 1536.5782485\ttest: 1661.2473783\tbest: 1660.3966314 (121)\ttotal: 6.55s\tremaining: 614ms\n",
      "128:\tlearn: 1535.5932004\ttest: 1661.0583427\tbest: 1660.3966314 (121)\ttotal: 6.6s\tremaining: 563ms\n",
      "129:\tlearn: 1535.0505004\ttest: 1661.0026812\tbest: 1660.3966314 (121)\ttotal: 6.65s\tremaining: 512ms\n",
      "130:\tlearn: 1533.9466271\ttest: 1660.9380753\tbest: 1660.3966314 (121)\ttotal: 6.7s\tremaining: 460ms\n",
      "131:\tlearn: 1533.4728715\ttest: 1660.7656276\tbest: 1660.3966314 (121)\ttotal: 6.75s\tremaining: 409ms\n",
      "132:\tlearn: 1531.7875208\ttest: 1660.6114850\tbest: 1660.3966314 (121)\ttotal: 6.8s\tremaining: 358ms\n",
      "133:\tlearn: 1530.8068918\ttest: 1659.7271877\tbest: 1659.7271877 (133)\ttotal: 6.85s\tremaining: 307ms\n",
      "134:\tlearn: 1529.7540819\ttest: 1658.9932685\tbest: 1658.9932685 (134)\ttotal: 6.9s\tremaining: 255ms\n",
      "135:\tlearn: 1528.8629634\ttest: 1658.8033540\tbest: 1658.8033540 (135)\ttotal: 6.95s\tremaining: 204ms\n",
      "136:\tlearn: 1527.9078340\ttest: 1658.1683731\tbest: 1658.1683731 (136)\ttotal: 7s\tremaining: 153ms\n",
      "137:\tlearn: 1527.2892727\ttest: 1658.0903836\tbest: 1658.0903836 (137)\ttotal: 7.05s\tremaining: 102ms\n",
      "138:\tlearn: 1526.7654632\ttest: 1658.0147086\tbest: 1658.0147086 (138)\ttotal: 7.1s\tremaining: 51.1ms\n",
      "139:\tlearn: 1526.2235137\ttest: 1658.0259493\tbest: 1658.0147086 (138)\ttotal: 7.15s\tremaining: 0us\n",
      "\n",
      "bestTest = 1658.014709\n",
      "bestIteration = 138\n",
      "\n",
      "CPU times: user 1min 28s, sys: 2.98 s, total: 1min 31s\n",
      "Wall time: 1min 33s\n"
     ]
    }
   ],
   "source": [
    "%%time\n",
    "model_cb = CatBoostRegressor(random_state=RANDOM_STATE, \n",
    "                             cat_features=cat_features, \n",
    "                             loss_function='RMSE')\n",
    "\n",
    "param_grid_cb = {'max_depth': range(1, 11, 1),\n",
    "                 'n_estimators': range(10, 200, 10),\n",
    "                 'learning_rate': [0.01, 0.05, 0.1, 0.2, 0.5, 1, 2]\n",
    "                }\n",
    "\n",
    "grid_search_cb = model_cb.randomized_search(param_grid_cb,\n",
    "                                            X=X_train,\n",
    "                                            y=y_train,\n",
    "                                            refit=True,\n",
    "                                           )"
   ]
  },
  {
   "cell_type": "code",
   "execution_count": 57,
   "metadata": {},
   "outputs": [
    {
     "data": {
      "text/plain": [
       "{'learn': {'RMSE': 1547.8373209845563}}"
      ]
     },
     "execution_count": 57,
     "metadata": {},
     "output_type": "execute_result"
    }
   ],
   "source": [
    "model_cb.best_score_"
   ]
  },
  {
   "cell_type": "code",
   "execution_count": 63,
   "metadata": {},
   "outputs": [
    {
     "name": "stdout",
     "output_type": "stream",
     "text": [
      "\n",
      "RMSE для модели CatBoostRegressor: 1629.7973880214427\n",
      "\n",
      "CPU times: user 102 ms, sys: 219 µs, total: 103 ms\n",
      "Wall time: 100 ms\n"
     ]
    }
   ],
   "source": [
    "%%time\n",
    "predictions_cb = model_cb.predict(X_valid)\n",
    "cb_RMSE = mean_squared_error(y_valid, predictions_cb) ** 0.5\n",
    "print(f'''\n",
    "RMSE для модели CatBoostRegressor: {cb_RMSE}\n",
    "''')"
   ]
  },
  {
   "cell_type": "markdown",
   "metadata": {},
   "source": [
    "### Модель LGBMRegressor"
   ]
  },
  {
   "cell_type": "code",
   "execution_count": 51,
   "metadata": {},
   "outputs": [
    {
     "name": "stdout",
     "output_type": "stream",
     "text": [
      "CPU times: user 3min 50s, sys: 2.55 s, total: 3min 52s\n",
      "Wall time: 3min 54s\n"
     ]
    },
    {
     "data": {
      "text/html": [
       "<style>#sk-container-id-1 {color: black;background-color: white;}#sk-container-id-1 pre{padding: 0;}#sk-container-id-1 div.sk-toggleable {background-color: white;}#sk-container-id-1 label.sk-toggleable__label {cursor: pointer;display: block;width: 100%;margin-bottom: 0;padding: 0.3em;box-sizing: border-box;text-align: center;}#sk-container-id-1 label.sk-toggleable__label-arrow:before {content: \"▸\";float: left;margin-right: 0.25em;color: #696969;}#sk-container-id-1 label.sk-toggleable__label-arrow:hover:before {color: black;}#sk-container-id-1 div.sk-estimator:hover label.sk-toggleable__label-arrow:before {color: black;}#sk-container-id-1 div.sk-toggleable__content {max-height: 0;max-width: 0;overflow: hidden;text-align: left;background-color: #f0f8ff;}#sk-container-id-1 div.sk-toggleable__content pre {margin: 0.2em;color: black;border-radius: 0.25em;background-color: #f0f8ff;}#sk-container-id-1 input.sk-toggleable__control:checked~div.sk-toggleable__content {max-height: 200px;max-width: 100%;overflow: auto;}#sk-container-id-1 input.sk-toggleable__control:checked~label.sk-toggleable__label-arrow:before {content: \"▾\";}#sk-container-id-1 div.sk-estimator input.sk-toggleable__control:checked~label.sk-toggleable__label {background-color: #d4ebff;}#sk-container-id-1 div.sk-label input.sk-toggleable__control:checked~label.sk-toggleable__label {background-color: #d4ebff;}#sk-container-id-1 input.sk-hidden--visually {border: 0;clip: rect(1px 1px 1px 1px);clip: rect(1px, 1px, 1px, 1px);height: 1px;margin: -1px;overflow: hidden;padding: 0;position: absolute;width: 1px;}#sk-container-id-1 div.sk-estimator {font-family: monospace;background-color: #f0f8ff;border: 1px dotted black;border-radius: 0.25em;box-sizing: border-box;margin-bottom: 0.5em;}#sk-container-id-1 div.sk-estimator:hover {background-color: #d4ebff;}#sk-container-id-1 div.sk-parallel-item::after {content: \"\";width: 100%;border-bottom: 1px solid gray;flex-grow: 1;}#sk-container-id-1 div.sk-label:hover label.sk-toggleable__label {background-color: #d4ebff;}#sk-container-id-1 div.sk-serial::before {content: \"\";position: absolute;border-left: 1px solid gray;box-sizing: border-box;top: 0;bottom: 0;left: 50%;z-index: 0;}#sk-container-id-1 div.sk-serial {display: flex;flex-direction: column;align-items: center;background-color: white;padding-right: 0.2em;padding-left: 0.2em;position: relative;}#sk-container-id-1 div.sk-item {position: relative;z-index: 1;}#sk-container-id-1 div.sk-parallel {display: flex;align-items: stretch;justify-content: center;background-color: white;position: relative;}#sk-container-id-1 div.sk-item::before, #sk-container-id-1 div.sk-parallel-item::before {content: \"\";position: absolute;border-left: 1px solid gray;box-sizing: border-box;top: 0;bottom: 0;left: 50%;z-index: -1;}#sk-container-id-1 div.sk-parallel-item {display: flex;flex-direction: column;z-index: 1;position: relative;background-color: white;}#sk-container-id-1 div.sk-parallel-item:first-child::after {align-self: flex-end;width: 50%;}#sk-container-id-1 div.sk-parallel-item:last-child::after {align-self: flex-start;width: 50%;}#sk-container-id-1 div.sk-parallel-item:only-child::after {width: 0;}#sk-container-id-1 div.sk-dashed-wrapped {border: 1px dashed gray;margin: 0 0.4em 0.5em 0.4em;box-sizing: border-box;padding-bottom: 0.4em;background-color: white;}#sk-container-id-1 div.sk-label label {font-family: monospace;font-weight: bold;display: inline-block;line-height: 1.2em;}#sk-container-id-1 div.sk-label-container {text-align: center;}#sk-container-id-1 div.sk-container {/* jupyter's `normalize.less` sets `[hidden] { display: none; }` but bootstrap.min.css set `[hidden] { display: none !important; }` so we also need the `!important` here to be able to override the default hidden behavior on the sphinx rendered scikit-learn.org. See: https://github.com/scikit-learn/scikit-learn/issues/21755 */display: inline-block !important;position: relative;}#sk-container-id-1 div.sk-text-repr-fallback {display: none;}</style><div id=\"sk-container-id-1\" class=\"sk-top-container\"><div class=\"sk-text-repr-fallback\"><pre>RandomizedSearchCV(estimator=LGBMRegressor(random_state=12345), n_jobs=-1,\n",
       "                   param_distributions={&#x27;learning_rate&#x27;: [0.01, 0.05, 0.1, 0.2,\n",
       "                                                          0.5, 1, 2],\n",
       "                                        &#x27;max_depth&#x27;: range(1, 11),\n",
       "                                        &#x27;n_estimators&#x27;: range(10, 200, 10)},\n",
       "                   random_state=12345)</pre><b>In a Jupyter environment, please rerun this cell to show the HTML representation or trust the notebook. <br />On GitHub, the HTML representation is unable to render, please try loading this page with nbviewer.org.</b></div><div class=\"sk-container\" hidden><div class=\"sk-item sk-dashed-wrapped\"><div class=\"sk-label-container\"><div class=\"sk-label sk-toggleable\"><input class=\"sk-toggleable__control sk-hidden--visually\" id=\"sk-estimator-id-1\" type=\"checkbox\" ><label for=\"sk-estimator-id-1\" class=\"sk-toggleable__label sk-toggleable__label-arrow\">RandomizedSearchCV</label><div class=\"sk-toggleable__content\"><pre>RandomizedSearchCV(estimator=LGBMRegressor(random_state=12345), n_jobs=-1,\n",
       "                   param_distributions={&#x27;learning_rate&#x27;: [0.01, 0.05, 0.1, 0.2,\n",
       "                                                          0.5, 1, 2],\n",
       "                                        &#x27;max_depth&#x27;: range(1, 11),\n",
       "                                        &#x27;n_estimators&#x27;: range(10, 200, 10)},\n",
       "                   random_state=12345)</pre></div></div></div><div class=\"sk-parallel\"><div class=\"sk-parallel-item\"><div class=\"sk-item\"><div class=\"sk-label-container\"><div class=\"sk-label sk-toggleable\"><input class=\"sk-toggleable__control sk-hidden--visually\" id=\"sk-estimator-id-2\" type=\"checkbox\" ><label for=\"sk-estimator-id-2\" class=\"sk-toggleable__label sk-toggleable__label-arrow\">estimator: LGBMRegressor</label><div class=\"sk-toggleable__content\"><pre>LGBMRegressor(random_state=12345)</pre></div></div></div><div class=\"sk-serial\"><div class=\"sk-item\"><div class=\"sk-estimator sk-toggleable\"><input class=\"sk-toggleable__control sk-hidden--visually\" id=\"sk-estimator-id-3\" type=\"checkbox\" ><label for=\"sk-estimator-id-3\" class=\"sk-toggleable__label sk-toggleable__label-arrow\">LGBMRegressor</label><div class=\"sk-toggleable__content\"><pre>LGBMRegressor(random_state=12345)</pre></div></div></div></div></div></div></div></div></div></div>"
      ],
      "text/plain": [
       "RandomizedSearchCV(estimator=LGBMRegressor(random_state=12345), n_jobs=-1,\n",
       "                   param_distributions={'learning_rate': [0.01, 0.05, 0.1, 0.2,\n",
       "                                                          0.5, 1, 2],\n",
       "                                        'max_depth': range(1, 11),\n",
       "                                        'n_estimators': range(10, 200, 10)},\n",
       "                   random_state=12345)"
      ]
     },
     "execution_count": 51,
     "metadata": {},
     "output_type": "execute_result"
    }
   ],
   "source": [
    "%%time\n",
    "model_lgbm = LGBMRegressor(random_state=RANDOM_STATE, n_jobs=-1)\n",
    "\n",
    "param_grid_lgbm = {'max_depth': range(1, 11, 1),\n",
    "                   'n_estimators': range(10, 200, 10),\n",
    "                   'learning_rate': [0.01, 0.05, 0.1, 0.2, 0.5, 1, 2]\n",
    "                  }\n",
    "\n",
    "grid_search_lgbm = RandomizedSearchCV(model_lgbm,\n",
    "                                      param_distributions=param_grid_lgbm,\n",
    "                                      n_jobs=-1,\n",
    "                                      random_state=RANDOM_STATE)\n",
    "\n",
    "grid_search_lgbm.fit(X_train, y_train)"
   ]
  },
  {
   "cell_type": "code",
   "execution_count": 62,
   "metadata": {},
   "outputs": [
    {
     "name": "stdout",
     "output_type": "stream",
     "text": [
      "\n",
      "RMSE для модели LGBMRegressor: 1668.0538077593824\n",
      "\n",
      "CPU times: user 723 ms, sys: 10.1 ms, total: 733 ms\n",
      "Wall time: 666 ms\n"
     ]
    },
    {
     "data": {
      "text/plain": [
       "{'n_estimators': 150, 'max_depth': 9, 'learning_rate': 0.1}"
      ]
     },
     "execution_count": 62,
     "metadata": {},
     "output_type": "execute_result"
    }
   ],
   "source": [
    "%%time\n",
    "predictions_lgbm = grid_search_lgbm.predict(X_valid)\n",
    "lgbm_RMSE = mean_squared_error(y_valid, predictions_lgbm) ** 0.5\n",
    "print(f'''\n",
    "RMSE для модели LGBMRegressor: {lgbm_RMSE}\n",
    "''')\n",
    "grid_search_lgbm.best_params_"
   ]
  },
  {
   "cell_type": "markdown",
   "metadata": {},
   "source": [
    "### Вывод по резделу\n",
    "\n",
    "В ходе обучения моделей были подготовлены датасеты для обучения моделей МО. Был выделен из датасета целевой признак **цена**, и обучающие параметры, датасет был разделен на обучающую, валидационну и тестовую выборки. Преобразованы категориальные признаки и масштабированы чиловые признаки.\n",
    "\n",
    "В связи с тем, что нам необходимо решить задачу регрессии были выбраны и обучены следующие модели:\n",
    "- DecisionTreeRegressor\n",
    "- CatBoostRegressor\n",
    "- LGBMRegressor"
   ]
  },
  {
   "cell_type": "markdown",
   "metadata": {},
   "source": [
    "## Анализ моделей"
   ]
  },
  {
   "cell_type": "markdown",
   "metadata": {},
   "source": [
    "Посмотрим на общие результаты после обучения моделей"
   ]
  },
  {
   "cell_type": "markdown",
   "metadata": {},
   "source": [
    "**DecisionTreeRegressor**\n",
    "Время обучения модели:\n",
    "- CPU times: user 10 s, sys: 23.3 ms, total: 10 s\n",
    "- Wall time: 10.1 s\n",
    "\n",
    "Время предсказания модели:\n",
    "- CPU times: user 12.2 ms, sys: 0 ns, total: 12.2 ms\n",
    "- Wall time: 10.4 ms\n",
    "\n",
    "RMSE: 1968.0256003250577\n",
    " \n",
    "\n",
    "**CatBoostRegressor** \n",
    "Время обучения модели:\n",
    "- CPU times: user 1min 28s, sys: 2.98 s, total: 1min 31s\n",
    "- Wall time: 1min 33s\n",
    "\n",
    "Время предсказания модели:\n",
    "- CPU times: user 102 ms, sys: 219 µs, total: 103 ms\n",
    "- Wall time: 100 ms\n",
    "\n",
    "RMSE: 1629.7973880214427\n",
    "\n",
    "**LGBMRegressor**\n",
    "Время обучения модели:\n",
    "- CPU times: user 3min 50s, sys: 2.55 s, total: 3min 52s\n",
    "- Wall time: 3min 54s\n",
    "\n",
    "Время предсказания модели:\n",
    "- CPU times: user 723 ms, sys: 10.1 ms, total: 733 ms\n",
    "- Wall time: 666 ms\n",
    "\n",
    "RMSE: 1668.0538077593824"
   ]
  },
  {
   "cell_type": "markdown",
   "metadata": {},
   "source": [
    "Из результатов обучения видно, что наилучшей моделью по метрике RMSE оказалась модель **CatBootRegression** с результатом **RMSE: 1629.79**, вторая по результату - **LGBMRegressor**, и третья **DecisionTreeRegressor**.\n",
    "\n",
    "Самое быстрое время обучения и предсказания у модели - **DecisionTreeRegressor**, вторая - **CatBoostRegressor** и третья - **LGBMRegressor**\n",
    "\n",
    "Рекомендуется к выбору модель **CatBootRegression** т.к. она показала наилучший результат по метрике RMSE и не самое долгое время предсказания, "
   ]
  },
  {
   "cell_type": "code",
   "execution_count": 65,
   "metadata": {},
   "outputs": [
    {
     "name": "stdout",
     "output_type": "stream",
     "text": [
      "\n",
      "RMSE для модели CatBoostRegressor: 1648.977287465652\n",
      "\n"
     ]
    }
   ],
   "source": [
    "# Проверим выбранную модель на тестовых данных\n",
    "predictions_cb_test = model_cb.predict(X_test)\n",
    "cb_RMSE_test = mean_squared_error(y_test, predictions_cb_test) ** 0.5\n",
    "print(f'''\n",
    "RMSE для модели CatBoostRegressor: {cb_RMSE_test}\n",
    "''')"
   ]
  },
  {
   "cell_type": "markdown",
   "metadata": {},
   "source": [
    "## Вывод\n",
    "В ходе выполнения работы была проведена подготовка данных к обучению моделей машинного обучения, устранены выбивающиеся значения, заполнены пропуски в данных, удалены явные дубликаты а также удалены неинформативные параметры для обучения моделей.\n",
    "\n",
    "Выделены данные по целевому признаку и обучающие признаки, разделены на обучающую, валидационную и тестовую выборки, преобразованы категориальные признаки и масштабированы числовые.\n",
    "\n",
    "Были обучены модели DecisionTreeRegressor, CatBootRegression и LGBMRegressor.\n",
    "\n",
    "Для выбора рекомендуется модель **CatBootRegression**, т.к. был получен наилучший показатель метрики **RMSE - 1629.79, время обучения - 1min 33s и время предсказания - 100 ms.**\n",
    "\n",
    "**На тестовой выборке модель CatBoostRegressor для метрики RMSE был получен результат 1648.977287465652**"
   ]
  }
 ],
 "metadata": {
  "ExecuteTimeLog": [
   {
    "duration": 44,
    "start_time": "2023-05-21T20:46:09.610Z"
   },
   {
    "duration": 778,
    "start_time": "2023-05-21T20:51:25.339Z"
   },
   {
    "duration": 3041,
    "start_time": "2023-05-21T20:51:26.120Z"
   },
   {
    "duration": 15,
    "start_time": "2023-05-21T20:52:09.196Z"
   },
   {
    "duration": 166,
    "start_time": "2023-05-21T20:52:11.644Z"
   },
   {
    "duration": 13,
    "start_time": "2023-05-21T20:52:22.626Z"
   },
   {
    "duration": 95,
    "start_time": "2023-05-21T20:52:24.834Z"
   },
   {
    "duration": 13,
    "start_time": "2023-05-21T20:52:35.238Z"
   },
   {
    "duration": 81,
    "start_time": "2023-05-21T20:52:37.534Z"
   },
   {
    "duration": 158,
    "start_time": "2023-05-21T20:52:50.238Z"
   },
   {
    "duration": 145,
    "start_time": "2023-05-21T20:52:56.007Z"
   },
   {
    "duration": 1532,
    "start_time": "2023-05-22T19:25:41.207Z"
   },
   {
    "duration": 3,
    "start_time": "2023-05-22T19:26:32.562Z"
   },
   {
    "duration": 3429,
    "start_time": "2023-05-22T19:27:48.320Z"
   },
   {
    "duration": 115,
    "start_time": "2023-05-22T19:28:00.682Z"
   },
   {
    "duration": 98,
    "start_time": "2023-05-22T19:28:09.115Z"
   },
   {
    "duration": 847,
    "start_time": "2023-05-22T19:28:33.468Z"
   },
   {
    "duration": 106,
    "start_time": "2023-05-22T19:28:36.578Z"
   },
   {
    "duration": 5,
    "start_time": "2023-05-22T19:31:09.657Z"
   },
   {
    "duration": 107,
    "start_time": "2023-05-22T19:31:16.025Z"
   },
   {
    "duration": 9,
    "start_time": "2023-05-22T19:31:18.788Z"
   },
   {
    "duration": 4,
    "start_time": "2023-05-22T19:31:22.850Z"
   },
   {
    "duration": 9,
    "start_time": "2023-05-22T19:31:40.144Z"
   },
   {
    "duration": 11,
    "start_time": "2023-05-22T19:31:43.030Z"
   },
   {
    "duration": 3,
    "start_time": "2023-05-22T19:31:46.936Z"
   },
   {
    "duration": 4,
    "start_time": "2023-05-22T19:31:52.119Z"
   },
   {
    "duration": 11,
    "start_time": "2023-05-22T19:32:11.268Z"
   },
   {
    "duration": 3,
    "start_time": "2023-05-22T19:32:16.023Z"
   },
   {
    "duration": 4,
    "start_time": "2023-05-22T19:32:19.059Z"
   },
   {
    "duration": 9,
    "start_time": "2023-05-22T19:32:23.784Z"
   },
   {
    "duration": 10,
    "start_time": "2023-05-22T19:32:30.302Z"
   },
   {
    "duration": 11,
    "start_time": "2023-05-22T19:32:32.972Z"
   },
   {
    "duration": 5,
    "start_time": "2023-05-22T19:32:36.079Z"
   },
   {
    "duration": 4,
    "start_time": "2023-05-22T19:32:57.172Z"
   },
   {
    "duration": 12,
    "start_time": "2023-05-22T19:37:33.972Z"
   },
   {
    "duration": 3,
    "start_time": "2023-05-22T19:37:41.483Z"
   },
   {
    "duration": 42,
    "start_time": "2023-05-22T19:37:41.805Z"
   },
   {
    "duration": 72,
    "start_time": "2023-05-22T19:37:56.969Z"
   },
   {
    "duration": 94,
    "start_time": "2023-05-22T19:38:18.173Z"
   },
   {
    "duration": 119,
    "start_time": "2023-05-22T19:38:29.063Z"
   },
   {
    "duration": 85,
    "start_time": "2023-05-22T19:38:34.139Z"
   },
   {
    "duration": 77,
    "start_time": "2023-05-22T19:38:37.463Z"
   },
   {
    "duration": 87,
    "start_time": "2023-05-22T19:38:41.209Z"
   },
   {
    "duration": 93,
    "start_time": "2023-05-22T19:38:48.844Z"
   },
   {
    "duration": 97,
    "start_time": "2023-05-22T19:44:28.339Z"
   },
   {
    "duration": 11,
    "start_time": "2023-05-22T19:46:06.050Z"
   },
   {
    "duration": 10,
    "start_time": "2023-05-22T19:46:08.730Z"
   },
   {
    "duration": 15,
    "start_time": "2023-05-22T19:46:11.270Z"
   },
   {
    "duration": 9,
    "start_time": "2023-05-22T19:47:01.748Z"
   },
   {
    "duration": 1558,
    "start_time": "2023-05-22T19:47:08.743Z"
   },
   {
    "duration": 6,
    "start_time": "2023-05-22T19:47:13.351Z"
   },
   {
    "duration": 1521,
    "start_time": "2023-05-22T19:47:18.460Z"
   },
   {
    "duration": 970,
    "start_time": "2023-05-22T19:47:24.343Z"
   },
   {
    "duration": 4,
    "start_time": "2023-05-22T19:47:28.356Z"
   },
   {
    "duration": 736,
    "start_time": "2023-05-22T19:47:28.823Z"
   },
   {
    "duration": 105,
    "start_time": "2023-05-22T19:47:29.561Z"
   },
   {
    "duration": 102,
    "start_time": "2023-05-22T19:47:31.443Z"
   },
   {
    "duration": 7,
    "start_time": "2023-05-22T19:47:32.842Z"
   },
   {
    "duration": 6,
    "start_time": "2023-05-22T19:47:50.063Z"
   },
   {
    "duration": 14,
    "start_time": "2023-05-22T19:47:55.243Z"
   },
   {
    "duration": 6,
    "start_time": "2023-05-22T19:47:57.384Z"
   },
   {
    "duration": 10,
    "start_time": "2023-05-22T19:48:10.930Z"
   },
   {
    "duration": 552,
    "start_time": "2023-05-22T19:48:12.979Z"
   },
   {
    "duration": 11,
    "start_time": "2023-05-22T19:48:18.923Z"
   },
   {
    "duration": 13,
    "start_time": "2023-05-22T19:48:22.575Z"
   },
   {
    "duration": 592,
    "start_time": "2023-05-22T19:48:24.610Z"
   },
   {
    "duration": 557,
    "start_time": "2023-05-22T19:48:26.915Z"
   },
   {
    "duration": 4,
    "start_time": "2023-05-22T19:48:31.454Z"
   },
   {
    "duration": 764,
    "start_time": "2023-05-22T19:48:31.816Z"
   },
   {
    "duration": 115,
    "start_time": "2023-05-22T19:48:32.582Z"
   },
   {
    "duration": 144,
    "start_time": "2023-05-22T19:48:32.699Z"
   },
   {
    "duration": 23,
    "start_time": "2023-05-22T19:48:34.922Z"
   },
   {
    "duration": 14,
    "start_time": "2023-05-22T19:48:41.557Z"
   },
   {
    "duration": 99,
    "start_time": "2023-05-22T19:48:45.062Z"
   },
   {
    "duration": 106,
    "start_time": "2023-05-22T19:48:47.158Z"
   },
   {
    "duration": 11,
    "start_time": "2023-05-22T19:54:05.954Z"
   },
   {
    "duration": 6,
    "start_time": "2023-05-22T19:54:37.341Z"
   },
   {
    "duration": 14,
    "start_time": "2023-05-22T19:55:17.172Z"
   },
   {
    "duration": 6,
    "start_time": "2023-05-22T19:55:22.402Z"
   },
   {
    "duration": 690,
    "start_time": "2023-05-22T19:57:23.738Z"
   },
   {
    "duration": 523,
    "start_time": "2023-05-22T19:57:36.014Z"
   },
   {
    "duration": 507,
    "start_time": "2023-05-22T19:57:42.626Z"
   },
   {
    "duration": 47,
    "start_time": "2023-05-22T20:00:55.077Z"
   },
   {
    "duration": 3,
    "start_time": "2023-05-22T20:00:58.514Z"
   },
   {
    "duration": 74,
    "start_time": "2023-05-22T20:01:02.722Z"
   },
   {
    "duration": 155,
    "start_time": "2023-05-22T20:01:50.994Z"
   },
   {
    "duration": 15,
    "start_time": "2023-05-22T20:01:51.449Z"
   },
   {
    "duration": 74,
    "start_time": "2023-05-22T20:02:11.718Z"
   },
   {
    "duration": 88,
    "start_time": "2023-05-22T20:04:29.508Z"
   },
   {
    "duration": 73,
    "start_time": "2023-05-22T20:04:59.405Z"
   },
   {
    "duration": 34,
    "start_time": "2023-05-22T20:06:40.305Z"
   },
   {
    "duration": 157,
    "start_time": "2023-05-22T20:09:06.225Z"
   },
   {
    "duration": 4,
    "start_time": "2023-05-22T20:11:06.221Z"
   },
   {
    "duration": 4,
    "start_time": "2023-05-22T20:11:09.613Z"
   },
   {
    "duration": 4,
    "start_time": "2023-05-22T20:11:20.325Z"
   },
   {
    "duration": 47,
    "start_time": "2023-05-22T20:16:28.441Z"
   },
   {
    "duration": 5,
    "start_time": "2023-05-22T20:18:15.208Z"
   },
   {
    "duration": 4,
    "start_time": "2023-05-22T20:18:19.060Z"
   },
   {
    "duration": 159,
    "start_time": "2023-05-22T20:18:31.863Z"
   },
   {
    "duration": 15,
    "start_time": "2023-05-22T20:18:42.549Z"
   },
   {
    "duration": 75,
    "start_time": "2023-05-22T20:18:46.532Z"
   },
   {
    "duration": 177,
    "start_time": "2023-05-22T20:18:53.360Z"
   },
   {
    "duration": 11,
    "start_time": "2023-05-22T20:19:02.817Z"
   },
   {
    "duration": 77,
    "start_time": "2023-05-22T20:19:06.724Z"
   },
   {
    "duration": 10,
    "start_time": "2023-05-22T20:20:06.761Z"
   },
   {
    "duration": 9,
    "start_time": "2023-05-22T20:20:14.345Z"
   },
   {
    "duration": 9,
    "start_time": "2023-05-22T20:20:18.977Z"
   },
   {
    "duration": 9,
    "start_time": "2023-05-22T20:20:24.221Z"
   },
   {
    "duration": 11,
    "start_time": "2023-05-22T20:20:35.080Z"
   },
   {
    "duration": 93,
    "start_time": "2023-05-22T20:21:31.978Z"
   },
   {
    "duration": 4,
    "start_time": "2023-05-22T20:21:46.752Z"
   },
   {
    "duration": 10,
    "start_time": "2023-05-22T20:21:57.976Z"
   },
   {
    "duration": 53,
    "start_time": "2023-05-22T20:22:00.375Z"
   },
   {
    "duration": 5,
    "start_time": "2023-05-22T20:22:02.112Z"
   },
   {
    "duration": 9,
    "start_time": "2023-05-22T20:22:04.965Z"
   },
   {
    "duration": 4,
    "start_time": "2023-05-22T20:22:08.250Z"
   },
   {
    "duration": 4,
    "start_time": "2023-05-22T20:22:16.208Z"
   },
   {
    "duration": 9,
    "start_time": "2023-05-22T20:22:22.129Z"
   },
   {
    "duration": 69,
    "start_time": "2023-05-22T20:22:27.300Z"
   },
   {
    "duration": 16,
    "start_time": "2023-05-22T20:25:25.624Z"
   },
   {
    "duration": 17,
    "start_time": "2023-05-22T20:25:51.646Z"
   },
   {
    "duration": 14,
    "start_time": "2023-05-22T20:26:00.416Z"
   },
   {
    "duration": 13,
    "start_time": "2023-05-22T20:26:11.521Z"
   },
   {
    "duration": 78,
    "start_time": "2023-05-22T20:26:14.866Z"
   },
   {
    "duration": 18,
    "start_time": "2023-05-22T20:26:52.328Z"
   },
   {
    "duration": 180,
    "start_time": "2023-05-22T20:26:54.096Z"
   },
   {
    "duration": 75,
    "start_time": "2023-05-22T20:26:56.048Z"
   },
   {
    "duration": 14,
    "start_time": "2023-05-22T20:27:23.544Z"
   },
   {
    "duration": 5,
    "start_time": "2023-05-22T20:27:56.909Z"
   },
   {
    "duration": 6,
    "start_time": "2023-05-22T20:28:04.220Z"
   },
   {
    "duration": 8,
    "start_time": "2023-05-22T20:28:07.474Z"
   },
   {
    "duration": 33,
    "start_time": "2023-05-22T20:29:01.123Z"
   },
   {
    "duration": 35,
    "start_time": "2023-05-22T20:29:03.744Z"
   },
   {
    "duration": 19,
    "start_time": "2023-05-22T20:29:10.456Z"
   },
   {
    "duration": 91,
    "start_time": "2023-05-22T20:29:13.873Z"
   },
   {
    "duration": 14,
    "start_time": "2023-05-22T20:29:22.608Z"
   },
   {
    "duration": 12,
    "start_time": "2023-05-22T20:29:24.673Z"
   },
   {
    "duration": 12,
    "start_time": "2023-05-22T20:29:27.529Z"
   },
   {
    "duration": 1554,
    "start_time": "2023-05-22T20:29:38.078Z"
   },
   {
    "duration": 851,
    "start_time": "2023-05-22T20:29:39.634Z"
   },
   {
    "duration": 113,
    "start_time": "2023-05-22T20:29:40.486Z"
   },
   {
    "duration": 133,
    "start_time": "2023-05-22T20:29:40.600Z"
   },
   {
    "duration": 245,
    "start_time": "2023-05-22T20:29:40.735Z"
   },
   {
    "duration": 105,
    "start_time": "2023-05-22T20:29:40.982Z"
   },
   {
    "duration": 23,
    "start_time": "2023-05-22T20:29:41.089Z"
   },
   {
    "duration": 173,
    "start_time": "2023-05-22T20:29:41.114Z"
   },
   {
    "duration": 28,
    "start_time": "2023-05-22T20:29:41.289Z"
   },
   {
    "duration": 91,
    "start_time": "2023-05-22T20:29:41.319Z"
   },
   {
    "duration": 4,
    "start_time": "2023-05-22T20:29:41.413Z"
   },
   {
    "duration": 85,
    "start_time": "2023-05-22T20:29:41.419Z"
   },
   {
    "duration": 85,
    "start_time": "2023-05-22T20:29:41.505Z"
   },
   {
    "duration": 109,
    "start_time": "2023-05-22T20:29:41.593Z"
   },
   {
    "duration": 1515,
    "start_time": "2023-05-22T20:30:43.721Z"
   },
   {
    "duration": 851,
    "start_time": "2023-05-22T20:30:45.238Z"
   },
   {
    "duration": 124,
    "start_time": "2023-05-22T20:30:46.091Z"
   },
   {
    "duration": 131,
    "start_time": "2023-05-22T20:30:46.216Z"
   },
   {
    "duration": 236,
    "start_time": "2023-05-22T20:30:46.349Z"
   },
   {
    "duration": 101,
    "start_time": "2023-05-22T20:30:46.587Z"
   },
   {
    "duration": 26,
    "start_time": "2023-05-22T20:30:46.690Z"
   },
   {
    "duration": 161,
    "start_time": "2023-05-22T20:30:46.718Z"
   },
   {
    "duration": 24,
    "start_time": "2023-05-22T20:30:46.881Z"
   },
   {
    "duration": 89,
    "start_time": "2023-05-22T20:30:46.907Z"
   },
   {
    "duration": 77,
    "start_time": "2023-05-22T20:30:46.998Z"
   },
   {
    "duration": 4,
    "start_time": "2023-05-22T20:30:47.076Z"
   },
   {
    "duration": 77,
    "start_time": "2023-05-22T20:30:47.081Z"
   },
   {
    "duration": 106,
    "start_time": "2023-05-22T20:30:47.160Z"
   },
   {
    "duration": 1318,
    "start_time": "2023-05-22T20:31:10.799Z"
   },
   {
    "duration": 851,
    "start_time": "2023-05-22T20:31:12.119Z"
   },
   {
    "duration": 157,
    "start_time": "2023-05-22T20:31:15.283Z"
   },
   {
    "duration": 106,
    "start_time": "2023-05-22T20:31:22.357Z"
   },
   {
    "duration": 131,
    "start_time": "2023-05-22T20:31:32.268Z"
   },
   {
    "duration": 244,
    "start_time": "2023-05-22T20:31:46.119Z"
   },
   {
    "duration": 111,
    "start_time": "2023-05-22T20:31:48.914Z"
   },
   {
    "duration": 26,
    "start_time": "2023-05-22T20:31:59.479Z"
   },
   {
    "duration": 13,
    "start_time": "2023-05-22T20:32:33.945Z"
   },
   {
    "duration": 163,
    "start_time": "2023-05-22T20:32:35.952Z"
   },
   {
    "duration": 204,
    "start_time": "2023-05-22T20:32:52.147Z"
   },
   {
    "duration": 77,
    "start_time": "2023-05-22T20:33:07.136Z"
   },
   {
    "duration": 74,
    "start_time": "2023-05-22T20:33:14.214Z"
   },
   {
    "duration": 24,
    "start_time": "2023-05-22T20:33:17.513Z"
   },
   {
    "duration": 73,
    "start_time": "2023-05-22T20:33:18.764Z"
   },
   {
    "duration": 73,
    "start_time": "2023-05-22T20:33:21.294Z"
   },
   {
    "duration": 157,
    "start_time": "2023-05-22T20:33:37.279Z"
   },
   {
    "duration": 77,
    "start_time": "2023-05-22T20:34:03.347Z"
   },
   {
    "duration": 77,
    "start_time": "2023-05-22T20:34:07.363Z"
   },
   {
    "duration": 76,
    "start_time": "2023-05-22T20:34:20.455Z"
   },
   {
    "duration": 73,
    "start_time": "2023-05-22T20:34:29.748Z"
   },
   {
    "duration": 77,
    "start_time": "2023-05-22T20:34:36.639Z"
   },
   {
    "duration": 86,
    "start_time": "2023-05-22T20:34:52.594Z"
   },
   {
    "duration": 1546,
    "start_time": "2023-05-22T20:35:02.134Z"
   },
   {
    "duration": 847,
    "start_time": "2023-05-22T20:35:05.314Z"
   },
   {
    "duration": 112,
    "start_time": "2023-05-22T20:35:07.682Z"
   },
   {
    "duration": 239,
    "start_time": "2023-05-22T20:35:10.112Z"
   },
   {
    "duration": 104,
    "start_time": "2023-05-22T20:35:13.022Z"
   },
   {
    "duration": 128,
    "start_time": "2023-05-22T20:35:18.248Z"
   },
   {
    "duration": 240,
    "start_time": "2023-05-22T20:35:20.670Z"
   },
   {
    "duration": 31,
    "start_time": "2023-05-22T20:35:21.777Z"
   },
   {
    "duration": 27,
    "start_time": "2023-05-22T20:35:35.281Z"
   },
   {
    "duration": 185,
    "start_time": "2023-05-22T20:35:35.842Z"
   },
   {
    "duration": 1500,
    "start_time": "2023-05-22T20:36:03.105Z"
   },
   {
    "duration": 866,
    "start_time": "2023-05-22T20:36:04.608Z"
   },
   {
    "duration": 117,
    "start_time": "2023-05-22T20:36:06.591Z"
   },
   {
    "duration": 240,
    "start_time": "2023-05-22T20:36:08.919Z"
   },
   {
    "duration": 97,
    "start_time": "2023-05-22T20:36:09.862Z"
   },
   {
    "duration": 124,
    "start_time": "2023-05-22T20:36:12.619Z"
   },
   {
    "duration": 244,
    "start_time": "2023-05-22T20:36:13.638Z"
   },
   {
    "duration": 31,
    "start_time": "2023-05-22T20:36:14.351Z"
   },
   {
    "duration": 180,
    "start_time": "2023-05-22T20:36:14.974Z"
   },
   {
    "duration": 81,
    "start_time": "2023-05-22T20:36:25.246Z"
   },
   {
    "duration": 98,
    "start_time": "2023-05-22T20:36:34.468Z"
   },
   {
    "duration": 77,
    "start_time": "2023-05-22T20:36:56.337Z"
   },
   {
    "duration": 97,
    "start_time": "2023-05-22T20:37:01.219Z"
   },
   {
    "duration": 12,
    "start_time": "2023-05-22T20:37:09.690Z"
   },
   {
    "duration": 9,
    "start_time": "2023-05-22T20:37:56.290Z"
   },
   {
    "duration": 81,
    "start_time": "2023-05-22T20:38:18.612Z"
   },
   {
    "duration": 94,
    "start_time": "2023-05-22T20:38:25.300Z"
   },
   {
    "duration": 13,
    "start_time": "2023-05-22T20:38:27.290Z"
   },
   {
    "duration": 31,
    "start_time": "2023-05-22T20:38:58.983Z"
   },
   {
    "duration": 15,
    "start_time": "2023-05-22T20:39:03.190Z"
   },
   {
    "duration": 13,
    "start_time": "2023-05-22T20:39:12.751Z"
   },
   {
    "duration": 77,
    "start_time": "2023-05-22T20:39:16.591Z"
   },
   {
    "duration": 3,
    "start_time": "2023-05-22T20:39:27.788Z"
   },
   {
    "duration": 1353,
    "start_time": "2023-05-22T20:39:39.980Z"
   },
   {
    "duration": 856,
    "start_time": "2023-05-22T20:39:42.533Z"
   },
   {
    "duration": 101,
    "start_time": "2023-05-22T20:39:46.622Z"
   },
   {
    "duration": 249,
    "start_time": "2023-05-22T20:39:47.575Z"
   },
   {
    "duration": 109,
    "start_time": "2023-05-22T20:39:50.700Z"
   },
   {
    "duration": 125,
    "start_time": "2023-05-22T20:39:54.922Z"
   },
   {
    "duration": 237,
    "start_time": "2023-05-22T20:39:57.479Z"
   },
   {
    "duration": 28,
    "start_time": "2023-05-22T20:39:58.110Z"
   },
   {
    "duration": 90,
    "start_time": "2023-05-22T20:39:59.672Z"
   },
   {
    "duration": 126,
    "start_time": "2023-05-22T20:40:01.414Z"
   },
   {
    "duration": 87,
    "start_time": "2023-05-22T20:40:20.706Z"
   },
   {
    "duration": 83,
    "start_time": "2023-05-22T20:40:24.097Z"
   },
   {
    "duration": 12,
    "start_time": "2023-05-22T20:40:26.462Z"
   },
   {
    "duration": 27,
    "start_time": "2023-05-22T20:40:30.763Z"
   },
   {
    "duration": 69,
    "start_time": "2023-05-22T20:40:33.205Z"
   },
   {
    "duration": 12,
    "start_time": "2023-05-22T20:40:34.960Z"
   },
   {
    "duration": 70,
    "start_time": "2023-05-22T20:41:18.197Z"
   },
   {
    "duration": 162,
    "start_time": "2023-05-22T20:41:20.727Z"
   },
   {
    "duration": 64,
    "start_time": "2023-05-22T20:41:30.023Z"
   },
   {
    "duration": 16,
    "start_time": "2023-05-22T20:41:39.257Z"
   },
   {
    "duration": 258,
    "start_time": "2023-05-22T20:41:42.262Z"
   },
   {
    "duration": 238,
    "start_time": "2023-05-22T20:41:46.965Z"
   },
   {
    "duration": 266,
    "start_time": "2023-05-22T20:42:10.613Z"
   },
   {
    "duration": 320,
    "start_time": "2023-05-22T20:42:12.612Z"
   },
   {
    "duration": 315,
    "start_time": "2023-05-22T20:42:26.161Z"
   },
   {
    "duration": 23,
    "start_time": "2023-05-22T20:42:35.074Z"
   },
   {
    "duration": 403,
    "start_time": "2023-05-22T20:42:49.075Z"
   },
   {
    "duration": 387,
    "start_time": "2023-05-22T20:42:55.205Z"
   },
   {
    "duration": 404,
    "start_time": "2023-05-22T20:43:01.107Z"
   },
   {
    "duration": 415,
    "start_time": "2023-05-22T20:43:05.690Z"
   },
   {
    "duration": 1412,
    "start_time": "2023-05-22T20:43:23.131Z"
   },
   {
    "duration": 779,
    "start_time": "2023-05-22T20:43:24.545Z"
   },
   {
    "duration": 118,
    "start_time": "2023-05-22T20:43:25.325Z"
   },
   {
    "duration": 226,
    "start_time": "2023-05-22T20:43:25.445Z"
   },
   {
    "duration": 113,
    "start_time": "2023-05-22T20:43:25.673Z"
   },
   {
    "duration": 135,
    "start_time": "2023-05-22T20:43:25.787Z"
   },
   {
    "duration": 256,
    "start_time": "2023-05-22T20:43:25.924Z"
   },
   {
    "duration": 30,
    "start_time": "2023-05-22T20:43:26.182Z"
   },
   {
    "duration": 96,
    "start_time": "2023-05-22T20:43:26.214Z"
   },
   {
    "duration": 115,
    "start_time": "2023-05-22T20:43:26.312Z"
   },
   {
    "duration": 0,
    "start_time": "2023-05-22T20:43:26.429Z"
   },
   {
    "duration": 0,
    "start_time": "2023-05-22T20:43:26.430Z"
   },
   {
    "duration": 0,
    "start_time": "2023-05-22T20:43:26.431Z"
   },
   {
    "duration": 0,
    "start_time": "2023-05-22T20:43:26.433Z"
   },
   {
    "duration": 0,
    "start_time": "2023-05-22T20:43:26.434Z"
   },
   {
    "duration": 0,
    "start_time": "2023-05-22T20:43:26.435Z"
   },
   {
    "duration": 13,
    "start_time": "2023-05-22T20:43:37.094Z"
   },
   {
    "duration": 84,
    "start_time": "2023-05-22T20:43:42.654Z"
   },
   {
    "duration": 12,
    "start_time": "2023-05-22T20:43:46.518Z"
   },
   {
    "duration": 24,
    "start_time": "2023-05-22T20:44:58.154Z"
   },
   {
    "duration": 81,
    "start_time": "2023-05-22T20:45:02.790Z"
   },
   {
    "duration": 152,
    "start_time": "2023-05-22T20:45:07.119Z"
   },
   {
    "duration": 71,
    "start_time": "2023-05-22T20:45:47.468Z"
   },
   {
    "duration": 75,
    "start_time": "2023-05-22T20:46:22.617Z"
   },
   {
    "duration": 291,
    "start_time": "2023-05-22T20:46:49.906Z"
   },
   {
    "duration": 306,
    "start_time": "2023-05-22T20:47:06.719Z"
   },
   {
    "duration": 312,
    "start_time": "2023-05-22T20:47:10.592Z"
   },
   {
    "duration": 351,
    "start_time": "2023-05-22T20:47:13.161Z"
   },
   {
    "duration": 1426,
    "start_time": "2023-05-22T20:47:27.440Z"
   },
   {
    "duration": 842,
    "start_time": "2023-05-22T20:47:28.868Z"
   },
   {
    "duration": 110,
    "start_time": "2023-05-22T20:47:29.712Z"
   },
   {
    "duration": 279,
    "start_time": "2023-05-22T20:47:29.824Z"
   },
   {
    "duration": 105,
    "start_time": "2023-05-22T20:47:30.105Z"
   },
   {
    "duration": 128,
    "start_time": "2023-05-22T20:47:30.212Z"
   },
   {
    "duration": 237,
    "start_time": "2023-05-22T20:47:30.342Z"
   },
   {
    "duration": 28,
    "start_time": "2023-05-22T20:47:30.581Z"
   },
   {
    "duration": 51,
    "start_time": "2023-05-22T20:47:30.611Z"
   },
   {
    "duration": 71,
    "start_time": "2023-05-22T20:47:30.665Z"
   },
   {
    "duration": 162,
    "start_time": "2023-05-22T20:47:30.737Z"
   },
   {
    "duration": 128,
    "start_time": "2023-05-22T20:47:30.901Z"
   },
   {
    "duration": 284,
    "start_time": "2023-05-22T20:47:31.030Z"
   },
   {
    "duration": 339,
    "start_time": "2023-05-22T20:47:31.317Z"
   },
   {
    "duration": 66,
    "start_time": "2023-05-22T20:48:25.952Z"
   },
   {
    "duration": 396,
    "start_time": "2023-05-22T20:48:41.397Z"
   },
   {
    "duration": 357,
    "start_time": "2023-05-22T20:48:44.837Z"
   },
   {
    "duration": 523,
    "start_time": "2023-05-22T20:49:01.075Z"
   },
   {
    "duration": 626,
    "start_time": "2023-05-22T20:49:10.522Z"
   },
   {
    "duration": 746,
    "start_time": "2023-05-22T20:49:30.145Z"
   },
   {
    "duration": 688,
    "start_time": "2023-05-22T20:49:37.269Z"
   },
   {
    "duration": 717,
    "start_time": "2023-05-22T20:49:48.530Z"
   },
   {
    "duration": 45,
    "start_time": "2023-05-22T20:49:58.526Z"
   },
   {
    "duration": 172,
    "start_time": "2023-05-22T20:50:07.127Z"
   },
   {
    "duration": 627,
    "start_time": "2023-05-22T20:50:17.698Z"
   },
   {
    "duration": 74,
    "start_time": "2023-05-22T20:50:23.095Z"
   },
   {
    "duration": 703,
    "start_time": "2023-05-22T20:50:33.266Z"
   },
   {
    "duration": 73,
    "start_time": "2023-05-22T20:50:55.452Z"
   },
   {
    "duration": 686,
    "start_time": "2023-05-22T20:51:08.752Z"
   },
   {
    "duration": 77,
    "start_time": "2023-05-22T20:51:22.218Z"
   },
   {
    "duration": 754,
    "start_time": "2023-05-22T20:51:44.966Z"
   },
   {
    "duration": 784,
    "start_time": "2023-05-22T20:51:55.592Z"
   },
   {
    "duration": 710,
    "start_time": "2023-05-22T20:52:03.550Z"
   },
   {
    "duration": 641,
    "start_time": "2023-05-22T20:52:14.955Z"
   },
   {
    "duration": 662,
    "start_time": "2023-05-22T20:52:24.479Z"
   },
   {
    "duration": 664,
    "start_time": "2023-05-22T20:52:39.557Z"
   },
   {
    "duration": 641,
    "start_time": "2023-05-22T20:52:46.344Z"
   },
   {
    "duration": 649,
    "start_time": "2023-05-22T20:52:52.755Z"
   },
   {
    "duration": 795,
    "start_time": "2023-05-22T20:52:59.857Z"
   },
   {
    "duration": 638,
    "start_time": "2023-05-22T20:53:07.100Z"
   },
   {
    "duration": 656,
    "start_time": "2023-05-22T20:53:16.098Z"
   },
   {
    "duration": 634,
    "start_time": "2023-05-22T20:53:18.454Z"
   },
   {
    "duration": 660,
    "start_time": "2023-05-22T20:53:27.088Z"
   },
   {
    "duration": 627,
    "start_time": "2023-05-22T20:53:38.150Z"
   },
   {
    "duration": 660,
    "start_time": "2023-05-22T20:53:44.721Z"
   },
   {
    "duration": 807,
    "start_time": "2023-05-22T20:53:52.186Z"
   },
   {
    "duration": 644,
    "start_time": "2023-05-22T20:54:18.608Z"
   },
   {
    "duration": 705,
    "start_time": "2023-05-22T20:54:34.285Z"
   },
   {
    "duration": 662,
    "start_time": "2023-05-22T20:54:54.866Z"
   },
   {
    "duration": 675,
    "start_time": "2023-05-22T20:55:11.712Z"
   },
   {
    "duration": 671,
    "start_time": "2023-05-22T20:55:18.050Z"
   },
   {
    "duration": 48,
    "start_time": "2023-05-22T20:55:31.298Z"
   },
   {
    "duration": 720,
    "start_time": "2023-05-22T20:55:33.635Z"
   },
   {
    "duration": 795,
    "start_time": "2023-05-22T20:55:37.822Z"
   },
   {
    "duration": 706,
    "start_time": "2023-05-22T20:55:59.081Z"
   },
   {
    "duration": 647,
    "start_time": "2023-05-22T20:56:04.142Z"
   },
   {
    "duration": 629,
    "start_time": "2023-05-22T20:56:15.528Z"
   },
   {
    "duration": 639,
    "start_time": "2023-05-22T20:56:20.030Z"
   },
   {
    "duration": 675,
    "start_time": "2023-05-22T20:56:32.094Z"
   },
   {
    "duration": 697,
    "start_time": "2023-05-22T20:56:36.201Z"
   },
   {
    "duration": 832,
    "start_time": "2023-05-22T20:56:47.823Z"
   },
   {
    "duration": 675,
    "start_time": "2023-05-22T20:56:52.199Z"
   },
   {
    "duration": 692,
    "start_time": "2023-05-22T20:57:05.777Z"
   },
   {
    "duration": 666,
    "start_time": "2023-05-22T20:57:07.954Z"
   },
   {
    "duration": 664,
    "start_time": "2023-05-22T20:57:17.599Z"
   },
   {
    "duration": 75,
    "start_time": "2023-05-22T20:57:20.631Z"
   },
   {
    "duration": 73,
    "start_time": "2023-05-22T20:57:23.090Z"
   },
   {
    "duration": 633,
    "start_time": "2023-05-22T20:57:25.242Z"
   },
   {
    "duration": 644,
    "start_time": "2023-05-22T20:57:31.821Z"
   },
   {
    "duration": 73,
    "start_time": "2023-05-22T20:57:35.008Z"
   },
   {
    "duration": 797,
    "start_time": "2023-05-22T20:57:37.352Z"
   },
   {
    "duration": 675,
    "start_time": "2023-05-22T20:57:47.395Z"
   },
   {
    "duration": 752,
    "start_time": "2023-05-22T20:57:50.362Z"
   },
   {
    "duration": 660,
    "start_time": "2023-05-22T20:57:54.403Z"
   },
   {
    "duration": 692,
    "start_time": "2023-05-22T20:58:03.835Z"
   },
   {
    "duration": 661,
    "start_time": "2023-05-22T20:58:08.379Z"
   },
   {
    "duration": 638,
    "start_time": "2023-05-22T20:58:15.744Z"
   },
   {
    "duration": 728,
    "start_time": "2023-05-22T20:58:18.518Z"
   },
   {
    "duration": 633,
    "start_time": "2023-05-22T20:58:36.029Z"
   },
   {
    "duration": 635,
    "start_time": "2023-05-22T20:58:40.536Z"
   },
   {
    "duration": 690,
    "start_time": "2023-05-22T20:58:55.354Z"
   },
   {
    "duration": 668,
    "start_time": "2023-05-22T20:58:58.173Z"
   },
   {
    "duration": 739,
    "start_time": "2023-05-22T20:59:13.580Z"
   },
   {
    "duration": 803,
    "start_time": "2023-05-22T20:59:18.280Z"
   },
   {
    "duration": 662,
    "start_time": "2023-05-22T20:59:21.327Z"
   },
   {
    "duration": 678,
    "start_time": "2023-05-22T20:59:29.661Z"
   },
   {
    "duration": 658,
    "start_time": "2023-05-22T20:59:34.925Z"
   },
   {
    "duration": 675,
    "start_time": "2023-05-22T20:59:38.202Z"
   },
   {
    "duration": 729,
    "start_time": "2023-05-22T20:59:50.296Z"
   },
   {
    "duration": 693,
    "start_time": "2023-05-22T20:59:54.294Z"
   },
   {
    "duration": 660,
    "start_time": "2023-05-22T21:00:07.412Z"
   },
   {
    "duration": 756,
    "start_time": "2023-05-22T21:00:10.906Z"
   },
   {
    "duration": 685,
    "start_time": "2023-05-22T21:00:35.074Z"
   },
   {
    "duration": 655,
    "start_time": "2023-05-22T21:00:38.375Z"
   },
   {
    "duration": 645,
    "start_time": "2023-05-22T21:00:53.922Z"
   },
   {
    "duration": 692,
    "start_time": "2023-05-22T21:00:57.313Z"
   },
   {
    "duration": 67,
    "start_time": "2023-05-22T21:01:08.774Z"
   },
   {
    "duration": 646,
    "start_time": "2023-05-22T21:01:11.004Z"
   },
   {
    "duration": 809,
    "start_time": "2023-05-22T21:01:14.875Z"
   },
   {
    "duration": 651,
    "start_time": "2023-05-22T21:01:26.645Z"
   },
   {
    "duration": 644,
    "start_time": "2023-05-22T21:01:29.758Z"
   },
   {
    "duration": 631,
    "start_time": "2023-05-22T21:01:33.009Z"
   },
   {
    "duration": 641,
    "start_time": "2023-05-22T21:01:43.985Z"
   },
   {
    "duration": 750,
    "start_time": "2023-05-22T21:01:47.990Z"
   },
   {
    "duration": 675,
    "start_time": "2023-05-22T21:01:52.703Z"
   },
   {
    "duration": 688,
    "start_time": "2023-05-22T21:02:04.898Z"
   },
   {
    "duration": 804,
    "start_time": "2023-05-22T21:02:08.793Z"
   },
   {
    "duration": 674,
    "start_time": "2023-05-22T21:02:28.262Z"
   },
   {
    "duration": 661,
    "start_time": "2023-05-22T21:02:34.590Z"
   },
   {
    "duration": 671,
    "start_time": "2023-05-22T21:02:37.771Z"
   },
   {
    "duration": 663,
    "start_time": "2023-05-22T21:02:54.582Z"
   },
   {
    "duration": 625,
    "start_time": "2023-05-22T21:02:58.620Z"
   },
   {
    "duration": 606,
    "start_time": "2023-05-22T21:03:11.045Z"
   },
   {
    "duration": 754,
    "start_time": "2023-05-22T21:03:14.900Z"
   },
   {
    "duration": 635,
    "start_time": "2023-05-22T21:03:34.341Z"
   },
   {
    "duration": 672,
    "start_time": "2023-05-22T21:03:39.482Z"
   },
   {
    "duration": 69,
    "start_time": "2023-05-22T21:03:43.559Z"
   },
   {
    "duration": 709,
    "start_time": "2023-05-22T21:03:56.521Z"
   },
   {
    "duration": 70,
    "start_time": "2023-05-22T21:03:59.569Z"
   },
   {
    "duration": 712,
    "start_time": "2023-05-22T21:04:02.527Z"
   },
   {
    "duration": 630,
    "start_time": "2023-05-22T21:04:10.164Z"
   },
   {
    "duration": 675,
    "start_time": "2023-05-22T21:04:19.978Z"
   },
   {
    "duration": 766,
    "start_time": "2023-05-22T21:04:26.282Z"
   },
   {
    "duration": 649,
    "start_time": "2023-05-22T21:04:29.828Z"
   },
   {
    "duration": 651,
    "start_time": "2023-05-22T21:04:45.370Z"
   },
   {
    "duration": 723,
    "start_time": "2023-05-22T21:04:51.820Z"
   },
   {
    "duration": 681,
    "start_time": "2023-05-22T21:05:22.704Z"
   },
   {
    "duration": 670,
    "start_time": "2023-05-22T21:05:39.020Z"
   },
   {
    "duration": 655,
    "start_time": "2023-05-22T21:05:42.121Z"
   },
   {
    "duration": 622,
    "start_time": "2023-05-22T21:05:45.537Z"
   },
   {
    "duration": 739,
    "start_time": "2023-05-22T21:06:08.440Z"
   },
   {
    "duration": 663,
    "start_time": "2023-05-22T21:06:17.962Z"
   },
   {
    "duration": 1047,
    "start_time": "2023-05-22T21:06:40.914Z"
   },
   {
    "duration": 1082,
    "start_time": "2023-05-22T21:06:44.776Z"
   },
   {
    "duration": 973,
    "start_time": "2023-05-22T21:07:06.951Z"
   },
   {
    "duration": 1213,
    "start_time": "2023-05-22T21:07:12.556Z"
   },
   {
    "duration": 987,
    "start_time": "2023-05-22T21:07:18.830Z"
   },
   {
    "duration": 1578,
    "start_time": "2023-05-22T21:07:32.249Z"
   },
   {
    "duration": 1689,
    "start_time": "2023-05-22T21:07:37.820Z"
   },
   {
    "duration": 1477,
    "start_time": "2023-05-22T21:07:40.199Z"
   },
   {
    "duration": 44268,
    "start_time": "2023-05-22T21:09:00.781Z"
   },
   {
    "duration": 1376,
    "start_time": "2023-05-22T21:12:36.111Z"
   },
   {
    "duration": 875,
    "start_time": "2023-05-22T21:12:37.489Z"
   },
   {
    "duration": 120,
    "start_time": "2023-05-22T21:12:38.366Z"
   },
   {
    "duration": 230,
    "start_time": "2023-05-22T21:12:38.487Z"
   },
   {
    "duration": 115,
    "start_time": "2023-05-22T21:12:38.719Z"
   },
   {
    "duration": 135,
    "start_time": "2023-05-22T21:12:38.835Z"
   },
   {
    "duration": 259,
    "start_time": "2023-05-22T21:12:38.971Z"
   },
   {
    "duration": 37,
    "start_time": "2023-05-22T21:12:39.232Z"
   },
   {
    "duration": 25,
    "start_time": "2023-05-22T21:12:39.270Z"
   },
   {
    "duration": 82,
    "start_time": "2023-05-22T21:12:39.296Z"
   },
   {
    "duration": 155,
    "start_time": "2023-05-22T21:12:39.380Z"
   },
   {
    "duration": 71,
    "start_time": "2023-05-22T21:12:39.537Z"
   },
   {
    "duration": 279,
    "start_time": "2023-05-22T21:12:39.610Z"
   },
   {
    "duration": 316,
    "start_time": "2023-05-22T21:12:39.891Z"
   },
   {
    "duration": 676,
    "start_time": "2023-05-22T21:12:40.209Z"
   },
   {
    "duration": 46840,
    "start_time": "2023-05-22T21:12:40.887Z"
   },
   {
    "duration": 1396,
    "start_time": "2023-05-22T21:13:27.728Z"
   },
   {
    "duration": 1666,
    "start_time": "2023-05-22T21:13:55.605Z"
   },
   {
    "duration": 2632,
    "start_time": "2023-05-22T21:14:14.986Z"
   },
   {
    "duration": 2337,
    "start_time": "2023-05-22T21:14:21.816Z"
   },
   {
    "duration": 1882,
    "start_time": "2023-05-23T17:00:35.446Z"
   },
   {
    "duration": 1257,
    "start_time": "2023-05-23T17:00:37.331Z"
   },
   {
    "duration": 126,
    "start_time": "2023-05-23T17:00:38.591Z"
   },
   {
    "duration": 274,
    "start_time": "2023-05-23T17:00:38.719Z"
   },
   {
    "duration": 119,
    "start_time": "2023-05-23T17:00:38.995Z"
   },
   {
    "duration": 149,
    "start_time": "2023-05-23T17:00:39.116Z"
   },
   {
    "duration": 249,
    "start_time": "2023-05-23T17:00:39.270Z"
   },
   {
    "duration": 50,
    "start_time": "2023-05-23T17:00:39.521Z"
   },
   {
    "duration": 29,
    "start_time": "2023-05-23T17:00:39.573Z"
   },
   {
    "duration": 89,
    "start_time": "2023-05-23T17:00:39.604Z"
   },
   {
    "duration": 178,
    "start_time": "2023-05-23T17:00:39.695Z"
   },
   {
    "duration": 92,
    "start_time": "2023-05-23T17:00:39.874Z"
   },
   {
    "duration": 298,
    "start_time": "2023-05-23T17:00:39.968Z"
   },
   {
    "duration": 350,
    "start_time": "2023-05-23T17:00:40.272Z"
   },
   {
    "duration": 747,
    "start_time": "2023-05-23T17:00:40.624Z"
   },
   {
    "duration": 80,
    "start_time": "2023-05-23T17:00:59.037Z"
   },
   {
    "duration": 338,
    "start_time": "2023-05-23T17:02:09.344Z"
   },
   {
    "duration": 1658,
    "start_time": "2023-05-23T17:02:16.550Z"
   },
   {
    "duration": 1020,
    "start_time": "2023-05-23T17:02:18.210Z"
   },
   {
    "duration": 140,
    "start_time": "2023-05-23T17:02:19.232Z"
   },
   {
    "duration": 266,
    "start_time": "2023-05-23T17:02:19.374Z"
   },
   {
    "duration": 118,
    "start_time": "2023-05-23T17:02:19.644Z"
   },
   {
    "duration": 150,
    "start_time": "2023-05-23T17:02:19.764Z"
   },
   {
    "duration": 281,
    "start_time": "2023-05-23T17:02:19.915Z"
   },
   {
    "duration": 34,
    "start_time": "2023-05-23T17:02:20.198Z"
   },
   {
    "duration": 39,
    "start_time": "2023-05-23T17:02:20.234Z"
   },
   {
    "duration": 80,
    "start_time": "2023-05-23T17:02:20.276Z"
   },
   {
    "duration": 197,
    "start_time": "2023-05-23T17:02:20.358Z"
   },
   {
    "duration": 85,
    "start_time": "2023-05-23T17:02:20.557Z"
   },
   {
    "duration": 322,
    "start_time": "2023-05-23T17:02:20.644Z"
   },
   {
    "duration": 364,
    "start_time": "2023-05-23T17:02:20.972Z"
   },
   {
    "duration": 588,
    "start_time": "2023-05-23T17:02:21.338Z"
   },
   {
    "duration": 94,
    "start_time": "2023-05-23T17:02:21.928Z"
   },
   {
    "duration": 120,
    "start_time": "2023-05-23T17:04:44.884Z"
   },
   {
    "duration": 11,
    "start_time": "2023-05-23T17:05:04.240Z"
   },
   {
    "duration": 51,
    "start_time": "2023-05-23T17:05:32.646Z"
   },
   {
    "duration": 422,
    "start_time": "2023-05-23T17:05:46.771Z"
   },
   {
    "duration": 605,
    "start_time": "2023-05-23T17:05:48.244Z"
   },
   {
    "duration": 81,
    "start_time": "2023-05-23T17:05:51.376Z"
   },
   {
    "duration": 171,
    "start_time": "2023-05-23T17:06:08.774Z"
   },
   {
    "duration": 277,
    "start_time": "2023-05-23T17:06:16.203Z"
   },
   {
    "duration": 161,
    "start_time": "2023-05-23T17:06:20.146Z"
   },
   {
    "duration": 204,
    "start_time": "2023-05-23T17:06:24.805Z"
   },
   {
    "duration": 4,
    "start_time": "2023-05-23T17:07:42.610Z"
   },
   {
    "duration": 1256,
    "start_time": "2023-05-23T17:08:08.036Z"
   },
   {
    "duration": 3,
    "start_time": "2023-05-23T17:08:27.301Z"
   },
   {
    "duration": 1333,
    "start_time": "2023-05-23T17:08:27.804Z"
   },
   {
    "duration": 15,
    "start_time": "2023-05-23T17:08:32.484Z"
   },
   {
    "duration": 4,
    "start_time": "2023-05-23T17:08:38.353Z"
   },
   {
    "duration": 11,
    "start_time": "2023-05-23T17:08:41.182Z"
   },
   {
    "duration": 3,
    "start_time": "2023-05-23T17:08:58.096Z"
   },
   {
    "duration": 11,
    "start_time": "2023-05-23T17:09:07.573Z"
   },
   {
    "duration": 227,
    "start_time": "2023-05-23T17:09:19.750Z"
   },
   {
    "duration": 3,
    "start_time": "2023-05-23T17:09:23.591Z"
   },
   {
    "duration": 234,
    "start_time": "2023-05-23T17:09:24.472Z"
   },
   {
    "duration": 3,
    "start_time": "2023-05-23T17:10:13.271Z"
   },
   {
    "duration": 240,
    "start_time": "2023-05-23T17:10:13.642Z"
   },
   {
    "duration": 4,
    "start_time": "2023-05-23T17:10:26.045Z"
   },
   {
    "duration": 248,
    "start_time": "2023-05-23T17:10:26.886Z"
   },
   {
    "duration": 3,
    "start_time": "2023-05-23T17:10:31.588Z"
   },
   {
    "duration": 274,
    "start_time": "2023-05-23T17:10:31.999Z"
   },
   {
    "duration": 4,
    "start_time": "2023-05-23T17:10:58.111Z"
   },
   {
    "duration": 247,
    "start_time": "2023-05-23T17:10:59.147Z"
   },
   {
    "duration": 4,
    "start_time": "2023-05-23T17:11:02.873Z"
   },
   {
    "duration": 238,
    "start_time": "2023-05-23T17:11:03.276Z"
   },
   {
    "duration": 10,
    "start_time": "2023-05-23T17:11:17.678Z"
   },
   {
    "duration": 5,
    "start_time": "2023-05-23T17:11:19.507Z"
   },
   {
    "duration": 5,
    "start_time": "2023-05-23T17:11:33.607Z"
   },
   {
    "duration": 7339,
    "start_time": "2023-05-23T17:12:01.706Z"
   },
   {
    "duration": 7,
    "start_time": "2023-05-23T17:13:24.549Z"
   },
   {
    "duration": 8286,
    "start_time": "2023-05-23T17:13:26.390Z"
   },
   {
    "duration": 3,
    "start_time": "2023-05-23T17:13:56.806Z"
   },
   {
    "duration": 6894,
    "start_time": "2023-05-23T17:13:57.484Z"
   },
   {
    "duration": 7,
    "start_time": "2023-05-23T17:15:08.504Z"
   },
   {
    "duration": 6,
    "start_time": "2023-05-23T17:15:12.788Z"
   },
   {
    "duration": 23,
    "start_time": "2023-05-23T17:15:14.840Z"
   },
   {
    "duration": 38,
    "start_time": "2023-05-23T17:15:22.240Z"
   },
   {
    "duration": 22,
    "start_time": "2023-05-23T17:15:24.981Z"
   },
   {
    "duration": 30,
    "start_time": "2023-05-23T17:15:46.946Z"
   },
   {
    "duration": 281,
    "start_time": "2023-05-23T17:15:54.001Z"
   },
   {
    "duration": 255,
    "start_time": "2023-05-23T17:16:38.748Z"
   },
   {
    "duration": 5,
    "start_time": "2023-05-23T17:17:32.077Z"
   },
   {
    "duration": 159,
    "start_time": "2023-05-23T17:17:37.007Z"
   },
   {
    "duration": 1722,
    "start_time": "2023-05-23T17:17:44.040Z"
   },
   {
    "duration": 99,
    "start_time": "2023-05-23T17:18:26.954Z"
   },
   {
    "duration": 14,
    "start_time": "2023-05-23T17:18:31.154Z"
   },
   {
    "duration": 5,
    "start_time": "2023-05-23T17:19:03.144Z"
   },
   {
    "duration": 14,
    "start_time": "2023-05-23T17:19:15.282Z"
   },
   {
    "duration": 13,
    "start_time": "2023-05-23T17:19:24.239Z"
   },
   {
    "duration": 25,
    "start_time": "2023-05-23T17:19:29.540Z"
   },
   {
    "duration": 29,
    "start_time": "2023-05-23T17:19:57.770Z"
   },
   {
    "duration": 35,
    "start_time": "2023-05-23T17:20:46.771Z"
   },
   {
    "duration": 5,
    "start_time": "2023-05-23T17:20:59.459Z"
   },
   {
    "duration": 25,
    "start_time": "2023-05-23T17:21:05.843Z"
   },
   {
    "duration": 72,
    "start_time": "2023-05-23T17:21:39.740Z"
   },
   {
    "duration": 7,
    "start_time": "2023-05-23T17:22:00.881Z"
   },
   {
    "duration": 20,
    "start_time": "2023-05-23T17:22:09.387Z"
   },
   {
    "duration": 18,
    "start_time": "2023-05-23T17:22:54.943Z"
   },
   {
    "duration": 120,
    "start_time": "2023-05-23T17:23:11.474Z"
   },
   {
    "duration": 80,
    "start_time": "2023-05-23T17:23:21.686Z"
   },
   {
    "duration": 11,
    "start_time": "2023-05-23T17:23:49.048Z"
   },
   {
    "duration": 12,
    "start_time": "2023-05-23T17:23:53.078Z"
   },
   {
    "duration": 75,
    "start_time": "2023-05-23T17:23:57.848Z"
   },
   {
    "duration": 80,
    "start_time": "2023-05-23T17:24:02.192Z"
   },
   {
    "duration": 142,
    "start_time": "2023-05-23T17:24:17.376Z"
   },
   {
    "duration": 28,
    "start_time": "2023-05-23T17:25:07.651Z"
   },
   {
    "duration": 37,
    "start_time": "2023-05-23T17:25:30.814Z"
   },
   {
    "duration": 13,
    "start_time": "2023-05-23T17:25:37.591Z"
   },
   {
    "duration": 6,
    "start_time": "2023-05-23T17:25:44.786Z"
   },
   {
    "duration": 13,
    "start_time": "2023-05-23T17:25:55.188Z"
   },
   {
    "duration": 16,
    "start_time": "2023-05-23T17:25:57.448Z"
   },
   {
    "duration": 13,
    "start_time": "2023-05-23T17:26:16.970Z"
   },
   {
    "duration": 14,
    "start_time": "2023-05-23T17:26:21.001Z"
   },
   {
    "duration": 31,
    "start_time": "2023-05-23T17:26:22.866Z"
   },
   {
    "duration": 32,
    "start_time": "2023-05-23T17:26:26.498Z"
   },
   {
    "duration": 13,
    "start_time": "2023-05-23T17:26:31.523Z"
   },
   {
    "duration": 7,
    "start_time": "2023-05-23T17:27:26.397Z"
   },
   {
    "duration": 331,
    "start_time": "2023-05-23T17:27:35.124Z"
   },
   {
    "duration": 7,
    "start_time": "2023-05-23T17:28:41.497Z"
   },
   {
    "duration": 21,
    "start_time": "2023-05-23T17:28:47.251Z"
   },
   {
    "duration": 22,
    "start_time": "2023-05-23T17:29:16.570Z"
   },
   {
    "duration": 232,
    "start_time": "2023-05-23T17:29:37.972Z"
   },
   {
    "duration": 6,
    "start_time": "2023-05-23T17:30:47.349Z"
   },
   {
    "duration": 20,
    "start_time": "2023-05-23T17:30:55.111Z"
   },
   {
    "duration": 913,
    "start_time": "2023-05-23T17:55:53.262Z"
   },
   {
    "duration": 5,
    "start_time": "2023-05-23T17:56:59.102Z"
   },
   {
    "duration": 120,
    "start_time": "2023-05-23T17:57:59.622Z"
   },
   {
    "duration": 256,
    "start_time": "2023-05-23T17:58:05.232Z"
   },
   {
    "duration": 106,
    "start_time": "2023-05-23T17:58:27.380Z"
   },
   {
    "duration": 101,
    "start_time": "2023-05-23T17:58:28.764Z"
   },
   {
    "duration": 900,
    "start_time": "2023-05-23T17:58:59.955Z"
   },
   {
    "duration": 109,
    "start_time": "2023-05-23T17:59:02.767Z"
   },
   {
    "duration": 121,
    "start_time": "2023-05-23T17:59:11.144Z"
   },
   {
    "duration": 259,
    "start_time": "2023-05-23T17:59:19.962Z"
   },
   {
    "duration": 101,
    "start_time": "2023-05-23T17:59:21.091Z"
   },
   {
    "duration": 1497,
    "start_time": "2023-05-23T18:02:28.314Z"
   },
   {
    "duration": 926,
    "start_time": "2023-05-23T18:02:33.085Z"
   },
   {
    "duration": 143,
    "start_time": "2023-05-23T18:02:38.088Z"
   },
   {
    "duration": 136,
    "start_time": "2023-05-23T18:02:58.758Z"
   },
   {
    "duration": 118,
    "start_time": "2023-05-23T18:03:01.552Z"
   },
   {
    "duration": 249,
    "start_time": "2023-05-23T18:03:03.693Z"
   },
   {
    "duration": 99,
    "start_time": "2023-05-23T18:03:05.079Z"
   },
   {
    "duration": 1558,
    "start_time": "2023-05-23T18:06:38.755Z"
   },
   {
    "duration": 874,
    "start_time": "2023-05-23T18:06:40.315Z"
   },
   {
    "duration": 134,
    "start_time": "2023-05-23T18:06:41.322Z"
   },
   {
    "duration": 117,
    "start_time": "2023-05-23T18:06:42.819Z"
   },
   {
    "duration": 255,
    "start_time": "2023-05-23T18:06:44.949Z"
   },
   {
    "duration": 118,
    "start_time": "2023-05-23T18:06:47.879Z"
   },
   {
    "duration": 100,
    "start_time": "2023-05-23T18:08:31.761Z"
   },
   {
    "duration": 263,
    "start_time": "2023-05-23T18:08:42.714Z"
   },
   {
    "duration": 36,
    "start_time": "2023-05-23T18:08:44.614Z"
   },
   {
    "duration": 76,
    "start_time": "2023-05-23T18:08:51.918Z"
   },
   {
    "duration": 297,
    "start_time": "2023-05-23T18:09:04.693Z"
   },
   {
    "duration": 384,
    "start_time": "2023-05-23T18:09:05.982Z"
   },
   {
    "duration": 85,
    "start_time": "2023-05-23T18:09:23.778Z"
   },
   {
    "duration": 102,
    "start_time": "2023-05-23T18:09:56.587Z"
   },
   {
    "duration": 98,
    "start_time": "2023-05-23T18:10:00.455Z"
   },
   {
    "duration": 73,
    "start_time": "2023-05-23T18:10:03.754Z"
   },
   {
    "duration": 69,
    "start_time": "2023-05-23T18:10:08.273Z"
   },
   {
    "duration": 73,
    "start_time": "2023-05-23T18:10:14.964Z"
   },
   {
    "duration": 75,
    "start_time": "2023-05-23T18:10:27.086Z"
   },
   {
    "duration": 621,
    "start_time": "2023-05-23T18:11:28.411Z"
   },
   {
    "duration": 632,
    "start_time": "2023-05-23T18:11:31.394Z"
   },
   {
    "duration": 4,
    "start_time": "2023-05-23T18:14:30.544Z"
   },
   {
    "duration": 839,
    "start_time": "2023-05-23T18:14:31.718Z"
   },
   {
    "duration": 93,
    "start_time": "2023-05-23T18:14:34.242Z"
   },
   {
    "duration": 111,
    "start_time": "2023-05-23T18:14:39.399Z"
   },
   {
    "duration": 346,
    "start_time": "2023-05-23T18:14:55.900Z"
   },
   {
    "duration": 233,
    "start_time": "2023-05-23T18:14:57.877Z"
   },
   {
    "duration": 110,
    "start_time": "2023-05-23T18:14:59.677Z"
   },
   {
    "duration": 25,
    "start_time": "2023-05-23T18:15:14.284Z"
   },
   {
    "duration": 158,
    "start_time": "2023-05-23T18:20:05.950Z"
   },
   {
    "duration": 387,
    "start_time": "2023-05-23T18:20:09.960Z"
   },
   {
    "duration": 358,
    "start_time": "2023-05-23T18:20:15.619Z"
   },
   {
    "duration": 73,
    "start_time": "2023-05-23T18:20:22.337Z"
   },
   {
    "duration": 1582,
    "start_time": "2023-05-23T18:20:58.194Z"
   },
   {
    "duration": 988,
    "start_time": "2023-05-23T18:20:59.778Z"
   },
   {
    "duration": 159,
    "start_time": "2023-05-23T18:21:00.768Z"
   },
   {
    "duration": 135,
    "start_time": "2023-05-23T18:21:00.929Z"
   },
   {
    "duration": 269,
    "start_time": "2023-05-23T18:21:01.070Z"
   },
   {
    "duration": 288,
    "start_time": "2023-05-23T18:21:01.341Z"
   },
   {
    "duration": 139,
    "start_time": "2023-05-23T18:21:01.631Z"
   },
   {
    "duration": 36,
    "start_time": "2023-05-23T18:21:01.772Z"
   },
   {
    "duration": 403,
    "start_time": "2023-05-23T18:21:01.810Z"
   },
   {
    "duration": 356,
    "start_time": "2023-05-23T18:21:02.215Z"
   },
   {
    "duration": 75,
    "start_time": "2023-05-23T18:21:02.573Z"
   },
   {
    "duration": 614,
    "start_time": "2023-05-23T18:21:02.649Z"
   },
   {
    "duration": 21,
    "start_time": "2023-05-23T18:21:03.271Z"
   },
   {
    "duration": 34,
    "start_time": "2023-05-23T18:21:03.294Z"
   },
   {
    "duration": 230,
    "start_time": "2023-05-23T18:21:03.330Z"
   },
   {
    "duration": 23,
    "start_time": "2023-05-23T18:21:03.563Z"
   },
   {
    "duration": 96,
    "start_time": "2023-05-23T18:21:03.588Z"
   },
   {
    "duration": 4,
    "start_time": "2023-05-23T18:21:03.686Z"
   },
   {
    "duration": 6709,
    "start_time": "2023-05-23T18:21:03.692Z"
   },
   {
    "duration": 4,
    "start_time": "2023-05-23T19:26:54.578Z"
   },
   {
    "duration": 1668,
    "start_time": "2023-05-23T19:27:01.477Z"
   },
   {
    "duration": 875,
    "start_time": "2023-05-23T19:27:03.147Z"
   },
   {
    "duration": 150,
    "start_time": "2023-05-23T19:27:04.024Z"
   },
   {
    "duration": 121,
    "start_time": "2023-05-23T19:27:04.177Z"
   },
   {
    "duration": 279,
    "start_time": "2023-05-23T19:27:04.301Z"
   },
   {
    "duration": 268,
    "start_time": "2023-05-23T19:27:04.582Z"
   },
   {
    "duration": 122,
    "start_time": "2023-05-23T19:27:04.851Z"
   },
   {
    "duration": 31,
    "start_time": "2023-05-23T19:27:04.975Z"
   },
   {
    "duration": 343,
    "start_time": "2023-05-23T19:27:05.008Z"
   },
   {
    "duration": 362,
    "start_time": "2023-05-23T19:27:05.353Z"
   },
   {
    "duration": 91,
    "start_time": "2023-05-23T19:27:05.718Z"
   },
   {
    "duration": 4,
    "start_time": "2023-05-23T19:27:05.810Z"
   },
   {
    "duration": 702,
    "start_time": "2023-05-23T19:27:05.816Z"
   },
   {
    "duration": 23,
    "start_time": "2023-05-23T19:27:06.521Z"
   },
   {
    "duration": 42,
    "start_time": "2023-05-23T19:27:06.546Z"
   },
   {
    "duration": 264,
    "start_time": "2023-05-23T19:27:06.590Z"
   },
   {
    "duration": 29,
    "start_time": "2023-05-23T19:27:06.856Z"
   },
   {
    "duration": 126,
    "start_time": "2023-05-23T19:27:06.887Z"
   },
   {
    "duration": 6,
    "start_time": "2023-05-23T19:27:56.707Z"
   },
   {
    "duration": 3,
    "start_time": "2023-05-23T19:28:42.375Z"
   },
   {
    "duration": 867,
    "start_time": "2023-05-23T19:29:12.766Z"
   },
   {
    "duration": 3,
    "start_time": "2023-05-23T19:29:42.851Z"
   },
   {
    "duration": 672,
    "start_time": "2023-05-23T19:29:44.167Z"
   },
   {
    "duration": 3,
    "start_time": "2023-05-23T19:30:17.177Z"
   },
   {
    "duration": 985,
    "start_time": "2023-05-23T19:30:17.426Z"
   },
   {
    "duration": 4,
    "start_time": "2023-05-23T19:31:01.723Z"
   },
   {
    "duration": 1102,
    "start_time": "2023-05-23T19:31:03.505Z"
   },
   {
    "duration": 3,
    "start_time": "2023-05-23T19:31:17.610Z"
   },
   {
    "duration": 1254,
    "start_time": "2023-05-23T19:31:18.504Z"
   },
   {
    "duration": 4,
    "start_time": "2023-05-23T19:31:22.666Z"
   },
   {
    "duration": 1321,
    "start_time": "2023-05-23T19:31:23.166Z"
   },
   {
    "duration": 1432,
    "start_time": "2023-05-23T19:38:31.952Z"
   },
   {
    "duration": 146,
    "start_time": "2023-05-23T19:38:42.377Z"
   },
   {
    "duration": 166,
    "start_time": "2023-05-23T19:38:56.867Z"
   },
   {
    "duration": 181,
    "start_time": "2023-05-23T19:39:25.275Z"
   },
   {
    "duration": 153,
    "start_time": "2023-05-23T19:39:32.536Z"
   },
   {
    "duration": 13,
    "start_time": "2023-05-23T19:40:20.008Z"
   },
   {
    "duration": 11,
    "start_time": "2023-05-23T19:40:33.845Z"
   },
   {
    "duration": 33756,
    "start_time": "2023-05-23T19:41:26.515Z"
   },
   {
    "duration": 35553,
    "start_time": "2023-05-23T19:42:41.955Z"
   },
   {
    "duration": 162,
    "start_time": "2023-05-23T19:45:14.445Z"
   },
   {
    "duration": 151,
    "start_time": "2023-05-23T19:45:34.046Z"
   },
   {
    "duration": 154,
    "start_time": "2023-05-23T19:45:39.082Z"
   },
   {
    "duration": 209,
    "start_time": "2023-05-23T19:45:49.025Z"
   },
   {
    "duration": 167,
    "start_time": "2023-05-23T19:45:56.742Z"
   },
   {
    "duration": 221,
    "start_time": "2023-05-23T19:46:03.555Z"
   },
   {
    "duration": 189,
    "start_time": "2023-05-23T19:46:18.786Z"
   },
   {
    "duration": 197,
    "start_time": "2023-05-23T19:46:32.308Z"
   },
   {
    "duration": 322,
    "start_time": "2023-05-23T19:46:37.584Z"
   },
   {
    "duration": 1930,
    "start_time": "2023-05-23T19:46:44.072Z"
   },
   {
    "duration": 186,
    "start_time": "2023-05-23T19:46:57.318Z"
   },
   {
    "duration": 442,
    "start_time": "2023-05-23T19:47:00.070Z"
   },
   {
    "duration": 549,
    "start_time": "2023-05-23T19:47:04.304Z"
   },
   {
    "duration": 882,
    "start_time": "2023-05-23T19:47:07.641Z"
   },
   {
    "duration": 1277,
    "start_time": "2023-05-23T19:47:13.355Z"
   },
   {
    "duration": 758,
    "start_time": "2023-05-23T19:47:19.606Z"
   },
   {
    "duration": 1383,
    "start_time": "2023-05-23T19:47:32.392Z"
   },
   {
    "duration": 2212,
    "start_time": "2023-05-23T19:47:50.155Z"
   },
   {
    "duration": 1514,
    "start_time": "2023-05-23T19:47:55.386Z"
   },
   {
    "duration": 1476,
    "start_time": "2023-05-23T19:47:58.310Z"
   },
   {
    "duration": 2290,
    "start_time": "2023-05-23T19:48:45.003Z"
   },
   {
    "duration": 6,
    "start_time": "2023-05-23T19:49:50.622Z"
   },
   {
    "duration": 15,
    "start_time": "2023-05-23T19:51:07.848Z"
   },
   {
    "duration": 12,
    "start_time": "2023-05-23T19:51:23.896Z"
   },
   {
    "duration": 11,
    "start_time": "2023-05-23T19:51:27.226Z"
   },
   {
    "duration": 17,
    "start_time": "2023-05-23T19:51:33.011Z"
   },
   {
    "duration": 20,
    "start_time": "2023-05-23T19:51:58.185Z"
   },
   {
    "duration": 19,
    "start_time": "2023-05-23T19:52:38.049Z"
   },
   {
    "duration": 1300,
    "start_time": "2023-05-23T19:52:41.394Z"
   },
   {
    "duration": 2259,
    "start_time": "2023-05-23T19:55:46.677Z"
   },
   {
    "duration": 106,
    "start_time": "2023-05-23T19:56:32.712Z"
   },
   {
    "duration": 1537,
    "start_time": "2023-05-23T19:56:36.345Z"
   },
   {
    "duration": 1344,
    "start_time": "2023-05-23T19:56:46.686Z"
   },
   {
    "duration": 2290,
    "start_time": "2023-05-23T19:57:08.075Z"
   },
   {
    "duration": 84,
    "start_time": "2023-05-23T19:57:42.077Z"
   },
   {
    "duration": 308,
    "start_time": "2023-05-23T19:57:52.499Z"
   },
   {
    "duration": 1323,
    "start_time": "2023-05-23T19:58:02.314Z"
   },
   {
    "duration": 1333,
    "start_time": "2023-05-23T19:58:16.074Z"
   },
   {
    "duration": 2247,
    "start_time": "2023-05-23T19:58:22.195Z"
   },
   {
    "duration": 1374,
    "start_time": "2023-05-23T19:58:32.226Z"
   },
   {
    "duration": 2159,
    "start_time": "2023-05-23T19:58:43.101Z"
   },
   {
    "duration": 13265,
    "start_time": "2023-05-23T19:58:56.543Z"
   },
   {
    "duration": 8338,
    "start_time": "2023-05-23T19:59:25.447Z"
   },
   {
    "duration": 7,
    "start_time": "2023-05-23T20:00:07.314Z"
   },
   {
    "duration": 54,
    "start_time": "2023-05-23T20:00:15.853Z"
   },
   {
    "duration": 1099,
    "start_time": "2023-05-23T20:00:21.963Z"
   },
   {
    "duration": 986,
    "start_time": "2023-05-23T20:00:24.398Z"
   },
   {
    "duration": 161,
    "start_time": "2023-05-23T20:00:34.316Z"
   },
   {
    "duration": 1346,
    "start_time": "2023-05-23T20:01:02.907Z"
   },
   {
    "duration": 2669,
    "start_time": "2023-05-23T20:01:10.624Z"
   },
   {
    "duration": 1327,
    "start_time": "2023-05-23T20:01:50.156Z"
   },
   {
    "duration": 304,
    "start_time": "2023-05-23T20:01:56.612Z"
   },
   {
    "duration": 16,
    "start_time": "2023-05-23T20:02:15.686Z"
   },
   {
    "duration": 16,
    "start_time": "2023-05-23T20:03:08.381Z"
   },
   {
    "duration": 14,
    "start_time": "2023-05-23T20:03:13.933Z"
   },
   {
    "duration": 13,
    "start_time": "2023-05-23T20:03:18.340Z"
   },
   {
    "duration": 12,
    "start_time": "2023-05-23T20:03:28.745Z"
   },
   {
    "duration": 15,
    "start_time": "2023-05-23T20:03:31.326Z"
   },
   {
    "duration": 1380,
    "start_time": "2023-05-23T20:03:41.225Z"
   },
   {
    "duration": 1294,
    "start_time": "2023-05-23T20:03:45.432Z"
   },
   {
    "duration": 308,
    "start_time": "2023-05-23T20:04:24.855Z"
   },
   {
    "duration": 326,
    "start_time": "2023-05-23T20:05:27.315Z"
   },
   {
    "duration": 455,
    "start_time": "2023-05-23T20:05:40.993Z"
   },
   {
    "duration": 324,
    "start_time": "2023-05-23T20:05:46.289Z"
   },
   {
    "duration": 52,
    "start_time": "2023-05-23T20:10:55.330Z"
   },
   {
    "duration": 37,
    "start_time": "2023-05-23T20:11:10.446Z"
   },
   {
    "duration": 61,
    "start_time": "2023-05-23T20:11:14.754Z"
   },
   {
    "duration": 65,
    "start_time": "2023-05-23T20:11:37.654Z"
   },
   {
    "duration": 89,
    "start_time": "2023-05-23T20:11:39.661Z"
   },
   {
    "duration": 56,
    "start_time": "2023-05-23T20:12:07.104Z"
   },
   {
    "duration": 86,
    "start_time": "2023-05-23T20:12:08.733Z"
   },
   {
    "duration": 4,
    "start_time": "2023-05-23T20:15:22.450Z"
   },
   {
    "duration": 1098,
    "start_time": "2023-05-23T20:15:23.588Z"
   },
   {
    "duration": 74,
    "start_time": "2023-05-23T20:15:39.427Z"
   },
   {
    "duration": 163,
    "start_time": "2023-05-23T20:15:56.682Z"
   },
   {
    "duration": 11,
    "start_time": "2023-05-23T20:16:04.764Z"
   },
   {
    "duration": 281,
    "start_time": "2023-05-23T20:16:07.570Z"
   },
   {
    "duration": 275,
    "start_time": "2023-05-23T20:16:27.393Z"
   },
   {
    "duration": 7,
    "start_time": "2023-05-23T20:16:38.188Z"
   },
   {
    "duration": 7,
    "start_time": "2023-05-23T20:16:40.856Z"
   },
   {
    "duration": 11,
    "start_time": "2023-05-23T20:17:00.872Z"
   },
   {
    "duration": 158,
    "start_time": "2023-05-23T20:17:06.985Z"
   },
   {
    "duration": 155,
    "start_time": "2023-05-23T20:17:15.025Z"
   },
   {
    "duration": 161,
    "start_time": "2023-05-23T20:17:19.510Z"
   },
   {
    "duration": 149,
    "start_time": "2023-05-23T20:18:02.178Z"
   },
   {
    "duration": 154,
    "start_time": "2023-05-23T20:18:32.240Z"
   },
   {
    "duration": 271,
    "start_time": "2023-05-23T20:18:50.811Z"
   },
   {
    "duration": 239,
    "start_time": "2023-05-23T20:19:01.607Z"
   },
   {
    "duration": 19,
    "start_time": "2023-05-23T20:19:16.467Z"
   },
   {
    "duration": 12,
    "start_time": "2023-05-23T20:19:41.970Z"
   },
   {
    "duration": 6,
    "start_time": "2023-05-23T20:19:55.794Z"
   },
   {
    "duration": 41,
    "start_time": "2023-05-23T20:20:15.517Z"
   },
   {
    "duration": 1063,
    "start_time": "2023-05-23T20:20:28.350Z"
   },
   {
    "duration": 1051,
    "start_time": "2023-05-23T20:20:31.649Z"
   },
   {
    "duration": 106,
    "start_time": "2023-05-23T20:20:37.849Z"
   },
   {
    "duration": 180,
    "start_time": "2023-05-23T20:20:42.066Z"
   },
   {
    "duration": 172,
    "start_time": "2023-05-23T20:20:53.874Z"
   },
   {
    "duration": 1064,
    "start_time": "2023-05-23T20:20:56.942Z"
   },
   {
    "duration": 298,
    "start_time": "2023-05-23T20:21:07.615Z"
   },
   {
    "duration": 287,
    "start_time": "2023-05-23T20:21:13.307Z"
   },
   {
    "duration": 287,
    "start_time": "2023-05-23T20:21:26.602Z"
   },
   {
    "duration": 285,
    "start_time": "2023-05-23T20:21:29.314Z"
   },
   {
    "duration": 5,
    "start_time": "2023-05-23T20:21:50.100Z"
   },
   {
    "duration": 12,
    "start_time": "2023-05-23T20:22:01.772Z"
   },
   {
    "duration": 8,
    "start_time": "2023-05-23T20:22:17.023Z"
   },
   {
    "duration": 7,
    "start_time": "2023-05-23T20:22:34.190Z"
   },
   {
    "duration": 90,
    "start_time": "2023-05-23T20:30:15.556Z"
   },
   {
    "duration": 199,
    "start_time": "2023-05-23T20:30:20.388Z"
   },
   {
    "duration": 288,
    "start_time": "2023-05-23T20:30:31.442Z"
   },
   {
    "duration": 1408,
    "start_time": "2023-05-23T20:30:35.418Z"
   },
   {
    "duration": 13675,
    "start_time": "2023-05-23T20:30:47.156Z"
   },
   {
    "duration": 4069,
    "start_time": "2023-05-23T20:31:06.126Z"
   },
   {
    "duration": 90,
    "start_time": "2023-05-23T20:31:36.944Z"
   },
   {
    "duration": 3236,
    "start_time": "2023-05-23T20:31:40.449Z"
   },
   {
    "duration": 2599,
    "start_time": "2023-05-23T20:31:53.829Z"
   },
   {
    "duration": 3420,
    "start_time": "2023-05-23T20:32:11.563Z"
   },
   {
    "duration": 3554,
    "start_time": "2023-05-23T20:32:27.085Z"
   },
   {
    "duration": 2383,
    "start_time": "2023-05-23T20:32:42.049Z"
   },
   {
    "duration": 3581,
    "start_time": "2023-05-23T20:32:46.280Z"
   },
   {
    "duration": 3521,
    "start_time": "2023-05-23T20:32:55.630Z"
   },
   {
    "duration": 2521,
    "start_time": "2023-05-23T20:33:00.538Z"
   },
   {
    "duration": 3574,
    "start_time": "2023-05-23T20:33:15.214Z"
   },
   {
    "duration": 3396,
    "start_time": "2023-05-23T20:33:21.963Z"
   },
   {
    "duration": 2483,
    "start_time": "2023-05-23T20:34:00.340Z"
   },
   {
    "duration": 4641,
    "start_time": "2023-05-23T20:34:13.263Z"
   },
   {
    "duration": 92,
    "start_time": "2023-05-23T20:34:24.044Z"
   },
   {
    "duration": 4688,
    "start_time": "2023-05-23T20:34:27.023Z"
   },
   {
    "duration": 3446,
    "start_time": "2023-05-23T20:35:00.792Z"
   },
   {
    "duration": 4612,
    "start_time": "2023-05-23T20:36:10.545Z"
   },
   {
    "duration": 4848,
    "start_time": "2023-05-23T20:36:28.504Z"
   },
   {
    "duration": 24,
    "start_time": "2023-05-23T20:39:25.939Z"
   },
   {
    "duration": 48,
    "start_time": "2023-05-23T20:39:35.080Z"
   },
   {
    "duration": 26,
    "start_time": "2023-05-23T20:40:44.040Z"
   },
   {
    "duration": 59,
    "start_time": "2023-05-23T20:41:04.481Z"
   },
   {
    "duration": 86,
    "start_time": "2023-05-23T20:41:07.478Z"
   },
   {
    "duration": 124,
    "start_time": "2023-05-23T20:41:17.379Z"
   },
   {
    "duration": 125,
    "start_time": "2023-05-23T20:41:40.725Z"
   },
   {
    "duration": 107,
    "start_time": "2023-05-23T20:42:05.388Z"
   },
   {
    "duration": 1486,
    "start_time": "2023-05-23T20:42:15.725Z"
   },
   {
    "duration": 899,
    "start_time": "2023-05-23T20:42:17.213Z"
   },
   {
    "duration": 147,
    "start_time": "2023-05-23T20:42:18.113Z"
   },
   {
    "duration": 126,
    "start_time": "2023-05-23T20:42:18.261Z"
   },
   {
    "duration": 276,
    "start_time": "2023-05-23T20:42:18.389Z"
   },
   {
    "duration": 258,
    "start_time": "2023-05-23T20:42:18.671Z"
   },
   {
    "duration": 108,
    "start_time": "2023-05-23T20:42:18.930Z"
   },
   {
    "duration": 36,
    "start_time": "2023-05-23T20:42:19.040Z"
   },
   {
    "duration": 336,
    "start_time": "2023-05-23T20:42:19.078Z"
   },
   {
    "duration": 339,
    "start_time": "2023-05-23T20:42:19.416Z"
   },
   {
    "duration": 76,
    "start_time": "2023-05-23T20:42:19.757Z"
   },
   {
    "duration": 4,
    "start_time": "2023-05-23T20:42:19.835Z"
   },
   {
    "duration": 1225,
    "start_time": "2023-05-23T20:42:19.841Z"
   },
   {
    "duration": 20,
    "start_time": "2023-05-23T20:42:21.070Z"
   },
   {
    "duration": 347,
    "start_time": "2023-05-23T20:42:21.091Z"
   },
   {
    "duration": 82,
    "start_time": "2023-05-23T20:42:21.440Z"
   },
   {
    "duration": 2719,
    "start_time": "2023-05-23T20:42:21.523Z"
   },
   {
    "duration": 4331,
    "start_time": "2023-05-23T20:42:24.243Z"
   },
   {
    "duration": 137,
    "start_time": "2023-05-23T20:42:28.576Z"
   },
   {
    "duration": 6,
    "start_time": "2023-05-23T20:42:28.714Z"
   },
   {
    "duration": 593,
    "start_time": "2023-05-23T20:42:58.043Z"
   },
   {
    "duration": 19,
    "start_time": "2023-05-23T20:42:58.638Z"
   },
   {
    "duration": 29,
    "start_time": "2023-05-23T20:42:58.658Z"
   },
   {
    "duration": 246,
    "start_time": "2023-05-23T20:42:58.689Z"
   },
   {
    "duration": 18,
    "start_time": "2023-05-23T20:42:58.936Z"
   },
   {
    "duration": 85,
    "start_time": "2023-05-23T20:42:58.956Z"
   },
   {
    "duration": 3,
    "start_time": "2023-05-23T20:42:59.044Z"
   },
   {
    "duration": 119,
    "start_time": "2023-05-23T20:43:45.316Z"
   },
   {
    "duration": 9,
    "start_time": "2023-05-23T20:43:47.578Z"
   },
   {
    "duration": 1606,
    "start_time": "2023-05-23T20:43:54.670Z"
   },
   {
    "duration": 894,
    "start_time": "2023-05-23T20:43:56.278Z"
   },
   {
    "duration": 146,
    "start_time": "2023-05-23T20:43:57.173Z"
   },
   {
    "duration": 124,
    "start_time": "2023-05-23T20:43:57.321Z"
   },
   {
    "duration": 247,
    "start_time": "2023-05-23T20:43:57.447Z"
   },
   {
    "duration": 298,
    "start_time": "2023-05-23T20:43:57.696Z"
   },
   {
    "duration": 115,
    "start_time": "2023-05-23T20:43:57.996Z"
   },
   {
    "duration": 30,
    "start_time": "2023-05-23T20:43:58.113Z"
   },
   {
    "duration": 318,
    "start_time": "2023-05-23T20:43:58.145Z"
   },
   {
    "duration": 346,
    "start_time": "2023-05-23T20:43:58.465Z"
   },
   {
    "duration": 83,
    "start_time": "2023-05-23T20:43:58.813Z"
   },
   {
    "duration": 3,
    "start_time": "2023-05-23T20:43:58.898Z"
   },
   {
    "duration": 1222,
    "start_time": "2023-05-23T20:43:58.903Z"
   },
   {
    "duration": 19,
    "start_time": "2023-05-23T20:44:00.127Z"
   },
   {
    "duration": 340,
    "start_time": "2023-05-23T20:44:00.148Z"
   },
   {
    "duration": 88,
    "start_time": "2023-05-23T20:44:00.489Z"
   },
   {
    "duration": 2809,
    "start_time": "2023-05-23T20:44:00.579Z"
   },
   {
    "duration": 4310,
    "start_time": "2023-05-23T20:44:03.390Z"
   },
   {
    "duration": 10,
    "start_time": "2023-05-23T20:44:07.703Z"
   },
   {
    "duration": 140,
    "start_time": "2023-05-23T20:44:07.715Z"
   },
   {
    "duration": 14,
    "start_time": "2023-05-23T20:44:07.858Z"
   },
   {
    "duration": 50,
    "start_time": "2023-05-23T20:44:07.874Z"
   },
   {
    "duration": 593,
    "start_time": "2023-05-23T20:44:07.927Z"
   },
   {
    "duration": 19,
    "start_time": "2023-05-23T20:44:08.523Z"
   },
   {
    "duration": 33,
    "start_time": "2023-05-23T20:44:08.543Z"
   },
   {
    "duration": 238,
    "start_time": "2023-05-23T20:44:08.577Z"
   },
   {
    "duration": 18,
    "start_time": "2023-05-23T20:44:08.817Z"
   },
   {
    "duration": 85,
    "start_time": "2023-05-23T20:44:08.838Z"
   },
   {
    "duration": 7,
    "start_time": "2023-05-23T20:45:37.717Z"
   },
   {
    "duration": 7,
    "start_time": "2023-05-23T20:45:46.053Z"
   },
   {
    "duration": 7,
    "start_time": "2023-05-23T20:45:51.844Z"
   },
   {
    "duration": 6,
    "start_time": "2023-05-23T20:45:54.738Z"
   },
   {
    "duration": 5,
    "start_time": "2023-05-23T20:45:56.863Z"
   },
   {
    "duration": 11,
    "start_time": "2023-05-23T20:46:21.602Z"
   },
   {
    "duration": 14,
    "start_time": "2023-05-23T20:46:27.912Z"
   },
   {
    "duration": 134,
    "start_time": "2023-05-23T20:46:58.040Z"
   },
   {
    "duration": 9,
    "start_time": "2023-05-23T20:47:07.859Z"
   },
   {
    "duration": 4,
    "start_time": "2023-05-23T20:47:10.949Z"
   },
   {
    "duration": 799,
    "start_time": "2023-05-23T20:47:10.955Z"
   },
   {
    "duration": 74,
    "start_time": "2023-05-23T20:47:11.756Z"
   },
   {
    "duration": 118,
    "start_time": "2023-05-23T20:47:11.832Z"
   },
   {
    "duration": 259,
    "start_time": "2023-05-23T20:47:11.952Z"
   },
   {
    "duration": 225,
    "start_time": "2023-05-23T20:47:12.213Z"
   },
   {
    "duration": 122,
    "start_time": "2023-05-23T20:47:12.439Z"
   },
   {
    "duration": 31,
    "start_time": "2023-05-23T20:47:12.563Z"
   },
   {
    "duration": 295,
    "start_time": "2023-05-23T20:47:12.596Z"
   },
   {
    "duration": 354,
    "start_time": "2023-05-23T20:47:12.894Z"
   },
   {
    "duration": 82,
    "start_time": "2023-05-23T20:47:13.249Z"
   },
   {
    "duration": 3,
    "start_time": "2023-05-23T20:47:13.333Z"
   },
   {
    "duration": 1495,
    "start_time": "2023-05-23T20:47:13.338Z"
   },
   {
    "duration": 20,
    "start_time": "2023-05-23T20:47:14.835Z"
   },
   {
    "duration": 333,
    "start_time": "2023-05-23T20:47:14.857Z"
   },
   {
    "duration": 80,
    "start_time": "2023-05-23T20:47:15.192Z"
   },
   {
    "duration": 2812,
    "start_time": "2023-05-23T20:47:15.274Z"
   },
   {
    "duration": 34,
    "start_time": "2023-05-23T20:47:18.087Z"
   },
   {
    "duration": 4177,
    "start_time": "2023-05-23T20:47:18.123Z"
   },
   {
    "duration": 10,
    "start_time": "2023-05-23T20:47:22.302Z"
   },
   {
    "duration": 16,
    "start_time": "2023-05-23T20:48:10.945Z"
   },
   {
    "duration": 18,
    "start_time": "2023-05-23T20:48:37.396Z"
   },
   {
    "duration": 7,
    "start_time": "2023-05-23T20:51:31.813Z"
   },
   {
    "duration": 6,
    "start_time": "2023-05-23T20:51:35.825Z"
   },
   {
    "duration": 33,
    "start_time": "2023-05-23T20:53:56.497Z"
   },
   {
    "duration": 49,
    "start_time": "2023-05-23T20:54:03.262Z"
   },
   {
    "duration": 39,
    "start_time": "2023-05-23T20:54:08.602Z"
   },
   {
    "duration": 93,
    "start_time": "2023-05-23T20:54:29.053Z"
   },
   {
    "duration": 1530,
    "start_time": "2023-05-23T20:54:44.161Z"
   },
   {
    "duration": 971,
    "start_time": "2023-05-23T20:54:45.693Z"
   },
   {
    "duration": 149,
    "start_time": "2023-05-23T20:54:46.666Z"
   },
   {
    "duration": 121,
    "start_time": "2023-05-23T20:54:46.818Z"
   },
   {
    "duration": 259,
    "start_time": "2023-05-23T20:54:46.942Z"
   },
   {
    "duration": 265,
    "start_time": "2023-05-23T20:54:47.203Z"
   },
   {
    "duration": 108,
    "start_time": "2023-05-23T20:54:47.470Z"
   },
   {
    "duration": 32,
    "start_time": "2023-05-23T20:54:47.579Z"
   },
   {
    "duration": 333,
    "start_time": "2023-05-23T20:54:47.613Z"
   },
   {
    "duration": 358,
    "start_time": "2023-05-23T20:54:47.949Z"
   },
   {
    "duration": 81,
    "start_time": "2023-05-23T20:54:48.309Z"
   },
   {
    "duration": 4,
    "start_time": "2023-05-23T20:54:48.391Z"
   },
   {
    "duration": 1236,
    "start_time": "2023-05-23T20:54:48.396Z"
   },
   {
    "duration": 83,
    "start_time": "2023-05-23T20:54:49.634Z"
   },
   {
    "duration": 20,
    "start_time": "2023-05-23T20:54:49.719Z"
   },
   {
    "duration": 332,
    "start_time": "2023-05-23T20:54:49.741Z"
   },
   {
    "duration": 83,
    "start_time": "2023-05-23T20:54:50.075Z"
   },
   {
    "duration": 2877,
    "start_time": "2023-05-23T20:54:50.160Z"
   },
   {
    "duration": 18,
    "start_time": "2023-05-23T20:54:53.039Z"
   },
   {
    "duration": 4362,
    "start_time": "2023-05-23T20:54:53.058Z"
   },
   {
    "duration": 135,
    "start_time": "2023-05-23T20:54:57.422Z"
   },
   {
    "duration": 5,
    "start_time": "2023-05-23T20:54:57.558Z"
   },
   {
    "duration": 10,
    "start_time": "2023-05-23T20:54:57.571Z"
   },
   {
    "duration": 619,
    "start_time": "2023-05-23T20:54:57.583Z"
   },
   {
    "duration": 18,
    "start_time": "2023-05-23T20:54:58.204Z"
   },
   {
    "duration": 23,
    "start_time": "2023-05-23T20:54:58.224Z"
   },
   {
    "duration": 231,
    "start_time": "2023-05-23T20:54:58.249Z"
   },
   {
    "duration": 18,
    "start_time": "2023-05-23T20:54:58.483Z"
   },
   {
    "duration": 83,
    "start_time": "2023-05-23T20:54:58.503Z"
   },
   {
    "duration": 19,
    "start_time": "2023-05-23T20:55:08.341Z"
   },
   {
    "duration": 688,
    "start_time": "2023-05-23T20:55:11.722Z"
   },
   {
    "duration": 71,
    "start_time": "2023-05-23T20:57:25.517Z"
   },
   {
    "duration": 11,
    "start_time": "2023-05-23T20:57:45.467Z"
   },
   {
    "duration": 111,
    "start_time": "2023-05-23T20:58:44.661Z"
   },
   {
    "duration": 14,
    "start_time": "2023-05-23T20:58:48.766Z"
   },
   {
    "duration": 43,
    "start_time": "2023-05-23T20:58:58.888Z"
   },
   {
    "duration": 13,
    "start_time": "2023-05-23T20:59:05.797Z"
   },
   {
    "duration": 32,
    "start_time": "2023-05-23T20:59:11.746Z"
   },
   {
    "duration": 17,
    "start_time": "2023-05-23T20:59:44.311Z"
   },
   {
    "duration": 1130,
    "start_time": "2023-05-23T20:59:51.842Z"
   },
   {
    "duration": 3,
    "start_time": "2023-05-23T20:59:55.391Z"
   },
   {
    "duration": 34,
    "start_time": "2023-05-23T21:00:04.704Z"
   },
   {
    "duration": 6,
    "start_time": "2023-05-23T21:06:02.785Z"
   },
   {
    "duration": 7,
    "start_time": "2023-05-23T21:06:04.201Z"
   },
   {
    "duration": 6,
    "start_time": "2023-05-23T21:06:16.116Z"
   },
   {
    "duration": 7,
    "start_time": "2023-05-23T21:06:19.636Z"
   },
   {
    "duration": 6,
    "start_time": "2023-05-23T21:06:23.433Z"
   },
   {
    "duration": 6,
    "start_time": "2023-05-23T21:06:37.793Z"
   },
   {
    "duration": 5,
    "start_time": "2023-05-23T21:06:40.664Z"
   },
   {
    "duration": 31,
    "start_time": "2023-05-23T21:08:17.121Z"
   },
   {
    "duration": 6,
    "start_time": "2023-05-23T21:09:54.564Z"
   },
   {
    "duration": 63,
    "start_time": "2023-05-23T21:10:27.101Z"
   },
   {
    "duration": 66,
    "start_time": "2023-05-23T21:10:41.072Z"
   },
   {
    "duration": 4794,
    "start_time": "2023-05-23T21:10:43.460Z"
   },
   {
    "duration": 6,
    "start_time": "2023-05-23T21:11:10.735Z"
   },
   {
    "duration": 27,
    "start_time": "2023-05-23T21:11:15.246Z"
   },
   {
    "duration": 12,
    "start_time": "2023-05-23T21:11:28.411Z"
   },
   {
    "duration": 1087,
    "start_time": "2023-05-23T21:11:39.339Z"
   },
   {
    "duration": 5,
    "start_time": "2023-05-23T21:12:08.471Z"
   },
   {
    "duration": 1552,
    "start_time": "2023-05-23T21:12:27.430Z"
   },
   {
    "duration": 854,
    "start_time": "2023-05-23T21:12:28.984Z"
   },
   {
    "duration": 148,
    "start_time": "2023-05-23T21:12:29.840Z"
   },
   {
    "duration": 113,
    "start_time": "2023-05-23T21:12:32.105Z"
   },
   {
    "duration": 251,
    "start_time": "2023-05-23T21:12:32.738Z"
   },
   {
    "duration": 273,
    "start_time": "2023-05-23T21:12:34.044Z"
   },
   {
    "duration": 121,
    "start_time": "2023-05-23T21:12:34.451Z"
   },
   {
    "duration": 32,
    "start_time": "2023-05-23T21:12:36.606Z"
   },
   {
    "duration": 310,
    "start_time": "2023-05-23T21:12:37.003Z"
   },
   {
    "duration": 376,
    "start_time": "2023-05-23T21:12:37.711Z"
   },
   {
    "duration": 78,
    "start_time": "2023-05-23T21:12:38.740Z"
   },
   {
    "duration": 4,
    "start_time": "2023-05-23T21:12:41.503Z"
   },
   {
    "duration": 1208,
    "start_time": "2023-05-23T21:12:42.314Z"
   },
   {
    "duration": 63,
    "start_time": "2023-05-23T21:12:46.389Z"
   },
   {
    "duration": 19,
    "start_time": "2023-05-23T21:12:52.529Z"
   },
   {
    "duration": 309,
    "start_time": "2023-05-23T21:12:55.106Z"
   },
   {
    "duration": 82,
    "start_time": "2023-05-23T21:12:57.778Z"
   },
   {
    "duration": 2815,
    "start_time": "2023-05-23T21:13:00.621Z"
   },
   {
    "duration": 65,
    "start_time": "2023-05-23T21:13:06.974Z"
   },
   {
    "duration": 17,
    "start_time": "2023-05-23T21:13:08.471Z"
   },
   {
    "duration": 5,
    "start_time": "2023-05-23T21:13:10.970Z"
   },
   {
    "duration": 11,
    "start_time": "2023-05-23T21:13:21.941Z"
   },
   {
    "duration": 4258,
    "start_time": "2023-05-23T21:13:30.325Z"
   },
   {
    "duration": 4516,
    "start_time": "2023-05-23T21:13:42.810Z"
   },
   {
    "duration": 305,
    "start_time": "2023-05-23T21:13:53.561Z"
   },
   {
    "duration": 65,
    "start_time": "2023-05-23T21:14:13.816Z"
   },
   {
    "duration": 300,
    "start_time": "2023-05-23T21:14:17.087Z"
   },
   {
    "duration": 590,
    "start_time": "2023-05-23T21:14:37.701Z"
   },
   {
    "duration": 276,
    "start_time": "2023-05-23T21:14:42.571Z"
   },
   {
    "duration": 89,
    "start_time": "2023-05-23T21:15:18.108Z"
   },
   {
    "duration": 1510,
    "start_time": "2023-05-23T21:15:50.212Z"
   },
   {
    "duration": 959,
    "start_time": "2023-05-23T21:15:51.724Z"
   },
   {
    "duration": 148,
    "start_time": "2023-05-23T21:15:52.685Z"
   },
   {
    "duration": 128,
    "start_time": "2023-05-23T21:15:52.835Z"
   },
   {
    "duration": 277,
    "start_time": "2023-05-23T21:15:52.972Z"
   },
   {
    "duration": 276,
    "start_time": "2023-05-23T21:15:53.250Z"
   },
   {
    "duration": 122,
    "start_time": "2023-05-23T21:15:53.528Z"
   },
   {
    "duration": 37,
    "start_time": "2023-05-23T21:15:53.652Z"
   },
   {
    "duration": 327,
    "start_time": "2023-05-23T21:15:53.691Z"
   },
   {
    "duration": 368,
    "start_time": "2023-05-23T21:15:54.020Z"
   },
   {
    "duration": 89,
    "start_time": "2023-05-23T21:15:54.389Z"
   },
   {
    "duration": 5,
    "start_time": "2023-05-23T21:15:54.480Z"
   },
   {
    "duration": 1293,
    "start_time": "2023-05-23T21:15:54.487Z"
   },
   {
    "duration": 63,
    "start_time": "2023-05-23T21:15:55.783Z"
   },
   {
    "duration": 38,
    "start_time": "2023-05-23T21:15:55.849Z"
   },
   {
    "duration": 363,
    "start_time": "2023-05-23T21:15:55.889Z"
   },
   {
    "duration": 101,
    "start_time": "2023-05-23T21:15:56.254Z"
   },
   {
    "duration": 2896,
    "start_time": "2023-05-23T21:15:56.357Z"
   },
   {
    "duration": 69,
    "start_time": "2023-05-23T21:15:59.255Z"
   },
   {
    "duration": 17,
    "start_time": "2023-05-23T21:15:59.326Z"
   },
   {
    "duration": 90,
    "start_time": "2023-05-23T21:15:59.345Z"
   },
   {
    "duration": 99,
    "start_time": "2023-05-23T21:15:59.436Z"
   },
   {
    "duration": 3,
    "start_time": "2023-05-23T21:15:59.537Z"
   },
   {
    "duration": 580,
    "start_time": "2023-05-23T21:15:59.541Z"
   },
   {
    "duration": 20,
    "start_time": "2023-05-23T21:16:00.123Z"
   },
   {
    "duration": 38,
    "start_time": "2023-05-23T21:16:00.145Z"
   },
   {
    "duration": 265,
    "start_time": "2023-05-23T21:16:00.185Z"
   },
   {
    "duration": 27,
    "start_time": "2023-05-23T21:16:00.452Z"
   },
   {
    "duration": 98,
    "start_time": "2023-05-23T21:16:00.482Z"
   },
   {
    "duration": 92,
    "start_time": "2023-05-23T21:17:10.539Z"
   },
   {
    "duration": 10,
    "start_time": "2023-05-23T21:17:54.211Z"
   },
   {
    "duration": 10,
    "start_time": "2023-05-23T21:17:58.286Z"
   },
   {
    "duration": 9,
    "start_time": "2023-05-23T21:18:06.889Z"
   },
   {
    "duration": 3105,
    "start_time": "2023-05-23T21:19:01.147Z"
   },
   {
    "duration": 1532,
    "start_time": "2023-05-23T21:19:10.175Z"
   },
   {
    "duration": 918,
    "start_time": "2023-05-23T21:19:11.709Z"
   },
   {
    "duration": 152,
    "start_time": "2023-05-23T21:19:12.629Z"
   },
   {
    "duration": 135,
    "start_time": "2023-05-23T21:19:12.783Z"
   },
   {
    "duration": 274,
    "start_time": "2023-05-23T21:19:12.921Z"
   },
   {
    "duration": 275,
    "start_time": "2023-05-23T21:19:13.197Z"
   },
   {
    "duration": 114,
    "start_time": "2023-05-23T21:19:13.473Z"
   },
   {
    "duration": 33,
    "start_time": "2023-05-23T21:19:13.589Z"
   },
   {
    "duration": 309,
    "start_time": "2023-05-23T21:19:13.624Z"
   },
   {
    "duration": 342,
    "start_time": "2023-05-23T21:19:13.934Z"
   },
   {
    "duration": 72,
    "start_time": "2023-05-23T21:19:14.278Z"
   },
   {
    "duration": 4,
    "start_time": "2023-05-23T21:19:14.351Z"
   },
   {
    "duration": 1237,
    "start_time": "2023-05-23T21:19:14.372Z"
   },
   {
    "duration": 68,
    "start_time": "2023-05-23T21:19:15.612Z"
   },
   {
    "duration": 19,
    "start_time": "2023-05-23T21:19:15.682Z"
   },
   {
    "duration": 338,
    "start_time": "2023-05-23T21:19:15.703Z"
   },
   {
    "duration": 106,
    "start_time": "2023-05-23T21:19:16.043Z"
   },
   {
    "duration": 2795,
    "start_time": "2023-05-23T21:19:16.151Z"
   },
   {
    "duration": 2838,
    "start_time": "2023-05-23T21:19:18.949Z"
   },
   {
    "duration": 66,
    "start_time": "2023-05-23T21:19:21.789Z"
   },
   {
    "duration": 30,
    "start_time": "2023-05-23T21:19:21.857Z"
   },
   {
    "duration": 66,
    "start_time": "2023-05-23T21:19:21.888Z"
   },
   {
    "duration": 105,
    "start_time": "2023-05-23T21:19:21.956Z"
   },
   {
    "duration": 3,
    "start_time": "2023-05-23T21:19:22.072Z"
   },
   {
    "duration": 586,
    "start_time": "2023-05-23T21:19:22.077Z"
   },
   {
    "duration": 22,
    "start_time": "2023-05-23T21:19:22.665Z"
   },
   {
    "duration": 22,
    "start_time": "2023-05-23T21:19:22.689Z"
   },
   {
    "duration": 243,
    "start_time": "2023-05-23T21:19:22.713Z"
   },
   {
    "duration": 22,
    "start_time": "2023-05-23T21:19:22.958Z"
   },
   {
    "duration": 92,
    "start_time": "2023-05-23T21:19:22.981Z"
   },
   {
    "duration": 2858,
    "start_time": "2023-05-23T21:20:32.676Z"
   },
   {
    "duration": 1523,
    "start_time": "2023-05-23T21:20:46.079Z"
   },
   {
    "duration": 942,
    "start_time": "2023-05-23T21:20:47.605Z"
   },
   {
    "duration": 143,
    "start_time": "2023-05-23T21:20:48.549Z"
   },
   {
    "duration": 121,
    "start_time": "2023-05-23T21:20:48.694Z"
   },
   {
    "duration": 268,
    "start_time": "2023-05-23T21:20:48.817Z"
   },
   {
    "duration": 267,
    "start_time": "2023-05-23T21:20:49.086Z"
   },
   {
    "duration": 120,
    "start_time": "2023-05-23T21:20:49.355Z"
   },
   {
    "duration": 31,
    "start_time": "2023-05-23T21:20:49.477Z"
   },
   {
    "duration": 333,
    "start_time": "2023-05-23T21:20:49.510Z"
   },
   {
    "duration": 367,
    "start_time": "2023-05-23T21:20:49.845Z"
   },
   {
    "duration": 81,
    "start_time": "2023-05-23T21:20:50.214Z"
   },
   {
    "duration": 3,
    "start_time": "2023-05-23T21:20:50.297Z"
   },
   {
    "duration": 1270,
    "start_time": "2023-05-23T21:20:50.302Z"
   },
   {
    "duration": 59,
    "start_time": "2023-05-23T21:20:51.575Z"
   },
   {
    "duration": 17,
    "start_time": "2023-05-23T21:20:51.636Z"
   },
   {
    "duration": 378,
    "start_time": "2023-05-23T21:20:51.655Z"
   },
   {
    "duration": 91,
    "start_time": "2023-05-23T21:20:52.035Z"
   },
   {
    "duration": 2794,
    "start_time": "2023-05-23T21:20:52.127Z"
   },
   {
    "duration": 74,
    "start_time": "2023-05-23T21:20:54.923Z"
   },
   {
    "duration": 17,
    "start_time": "2023-05-23T21:20:54.999Z"
   },
   {
    "duration": 3119,
    "start_time": "2023-05-23T21:20:55.018Z"
   },
   {
    "duration": 80,
    "start_time": "2023-05-23T21:20:58.139Z"
   },
   {
    "duration": 104,
    "start_time": "2023-05-23T21:20:58.221Z"
   },
   {
    "duration": 3,
    "start_time": "2023-05-23T21:20:58.326Z"
   },
   {
    "duration": 608,
    "start_time": "2023-05-23T21:20:58.330Z"
   },
   {
    "duration": 18,
    "start_time": "2023-05-23T21:20:58.940Z"
   },
   {
    "duration": 30,
    "start_time": "2023-05-23T21:20:58.960Z"
   },
   {
    "duration": 265,
    "start_time": "2023-05-23T21:20:58.992Z"
   },
   {
    "duration": 32,
    "start_time": "2023-05-23T21:20:59.258Z"
   },
   {
    "duration": 87,
    "start_time": "2023-05-23T21:20:59.291Z"
   },
   {
    "duration": 5,
    "start_time": "2023-05-23T21:21:17.882Z"
   },
   {
    "duration": 871,
    "start_time": "2023-05-23T21:21:18.718Z"
   },
   {
    "duration": 107,
    "start_time": "2023-05-23T21:21:19.592Z"
   },
   {
    "duration": 121,
    "start_time": "2023-05-23T21:21:19.700Z"
   },
   {
    "duration": 260,
    "start_time": "2023-05-23T21:21:19.823Z"
   },
   {
    "duration": 226,
    "start_time": "2023-05-23T21:21:20.085Z"
   },
   {
    "duration": 117,
    "start_time": "2023-05-23T21:21:20.312Z"
   },
   {
    "duration": 41,
    "start_time": "2023-05-23T21:21:20.432Z"
   },
   {
    "duration": 295,
    "start_time": "2023-05-23T21:21:20.568Z"
   },
   {
    "duration": 356,
    "start_time": "2023-05-23T21:21:20.864Z"
   },
   {
    "duration": 79,
    "start_time": "2023-05-23T21:21:21.222Z"
   },
   {
    "duration": 4,
    "start_time": "2023-05-23T21:21:21.753Z"
   },
   {
    "duration": 1628,
    "start_time": "2023-05-23T21:21:22.269Z"
   },
   {
    "duration": 59,
    "start_time": "2023-05-23T21:21:26.318Z"
   },
   {
    "duration": 19,
    "start_time": "2023-05-23T21:21:28.509Z"
   },
   {
    "duration": 306,
    "start_time": "2023-05-23T21:21:29.442Z"
   },
   {
    "duration": 80,
    "start_time": "2023-05-23T21:21:31.801Z"
   },
   {
    "duration": 2762,
    "start_time": "2023-05-23T21:21:33.985Z"
   },
   {
    "duration": 66,
    "start_time": "2023-05-23T21:21:40.370Z"
   },
   {
    "duration": 18,
    "start_time": "2023-05-23T21:21:42.575Z"
   },
   {
    "duration": 71,
    "start_time": "2023-05-23T21:22:00.843Z"
   },
   {
    "duration": 575,
    "start_time": "2023-05-23T21:22:06.335Z"
   },
   {
    "duration": 266,
    "start_time": "2023-05-23T21:22:25.890Z"
   },
   {
    "duration": 188,
    "start_time": "2023-05-23T21:22:34.662Z"
   },
   {
    "duration": 200,
    "start_time": "2023-05-23T21:22:36.912Z"
   },
   {
    "duration": 209,
    "start_time": "2023-05-23T21:22:38.783Z"
   },
   {
    "duration": 209,
    "start_time": "2023-05-23T21:22:41.871Z"
   },
   {
    "duration": 237,
    "start_time": "2023-05-23T21:22:44.654Z"
   },
   {
    "duration": 248,
    "start_time": "2023-05-23T21:22:48.287Z"
   },
   {
    "duration": 283,
    "start_time": "2023-05-23T21:22:50.921Z"
   },
   {
    "duration": 140,
    "start_time": "2023-05-23T21:24:49.887Z"
   },
   {
    "duration": 54,
    "start_time": "2023-05-23T21:25:31.531Z"
   },
   {
    "duration": 81,
    "start_time": "2023-05-23T21:25:56.495Z"
   },
   {
    "duration": 105,
    "start_time": "2023-05-23T21:25:57.809Z"
   },
   {
    "duration": 75,
    "start_time": "2023-05-23T21:26:27.381Z"
   },
   {
    "duration": 88,
    "start_time": "2023-05-23T21:26:29.858Z"
   },
   {
    "duration": 64,
    "start_time": "2023-05-23T21:26:35.339Z"
   },
   {
    "duration": 51,
    "start_time": "2023-05-23T21:26:44.970Z"
   },
   {
    "duration": 1724,
    "start_time": "2023-05-24T19:50:26.513Z"
   },
   {
    "duration": 3331,
    "start_time": "2023-05-24T19:50:29.849Z"
   },
   {
    "duration": 121,
    "start_time": "2023-05-24T19:50:33.821Z"
   },
   {
    "duration": 166,
    "start_time": "2023-05-24T19:50:36.052Z"
   },
   {
    "duration": 294,
    "start_time": "2023-05-24T19:50:37.860Z"
   },
   {
    "duration": 265,
    "start_time": "2023-05-24T19:50:38.965Z"
   },
   {
    "duration": 94,
    "start_time": "2023-05-24T19:50:39.244Z"
   },
   {
    "duration": 25,
    "start_time": "2023-05-24T19:50:41.349Z"
   },
   {
    "duration": 268,
    "start_time": "2023-05-24T19:50:41.577Z"
   },
   {
    "duration": 334,
    "start_time": "2023-05-24T19:50:41.953Z"
   },
   {
    "duration": 88,
    "start_time": "2023-05-24T19:50:45.755Z"
   },
   {
    "duration": 3,
    "start_time": "2023-05-24T19:50:48.454Z"
   },
   {
    "duration": 1156,
    "start_time": "2023-05-24T19:50:48.694Z"
   },
   {
    "duration": 60,
    "start_time": "2023-05-24T19:50:54.210Z"
   },
   {
    "duration": 20,
    "start_time": "2023-05-24T19:50:54.682Z"
   },
   {
    "duration": 287,
    "start_time": "2023-05-24T19:50:55.058Z"
   },
   {
    "duration": 74,
    "start_time": "2023-05-24T19:50:57.152Z"
   },
   {
    "duration": 2745,
    "start_time": "2023-05-24T19:50:57.573Z"
   },
   {
    "duration": 68,
    "start_time": "2023-05-24T19:51:00.320Z"
   },
   {
    "duration": 13,
    "start_time": "2023-05-24T19:51:00.392Z"
   },
   {
    "duration": 78,
    "start_time": "2023-05-24T19:51:00.922Z"
   },
   {
    "duration": 304,
    "start_time": "2023-05-24T19:51:01.225Z"
   },
   {
    "duration": 64,
    "start_time": "2023-05-24T19:51:03.691Z"
   },
   {
    "duration": 78,
    "start_time": "2023-05-24T19:51:04.269Z"
   },
   {
    "duration": 92,
    "start_time": "2023-05-24T19:51:27.622Z"
   },
   {
    "duration": 5,
    "start_time": "2023-05-24T20:00:55.948Z"
   },
   {
    "duration": 139,
    "start_time": "2023-05-24T20:01:05.360Z"
   },
   {
    "duration": 15,
    "start_time": "2023-05-24T20:01:19.149Z"
   },
   {
    "duration": 44,
    "start_time": "2023-05-24T20:01:24.417Z"
   },
   {
    "duration": 215,
    "start_time": "2023-05-24T20:01:27.217Z"
   },
   {
    "duration": 0,
    "start_time": "2023-05-24T20:02:12.160Z"
   },
   {
    "duration": 13,
    "start_time": "2023-05-24T20:02:26.508Z"
   },
   {
    "duration": 8,
    "start_time": "2023-05-24T20:02:52.022Z"
   },
   {
    "duration": 5,
    "start_time": "2023-05-24T20:02:55.100Z"
   },
   {
    "duration": 233,
    "start_time": "2023-05-24T20:03:07.301Z"
   },
   {
    "duration": 255,
    "start_time": "2023-05-24T20:03:13.654Z"
   },
   {
    "duration": 229,
    "start_time": "2023-05-24T20:03:32.767Z"
   },
   {
    "duration": 231,
    "start_time": "2023-05-24T20:03:35.060Z"
   },
   {
    "duration": 202,
    "start_time": "2023-05-24T20:03:37.163Z"
   },
   {
    "duration": 56,
    "start_time": "2023-05-24T20:03:39.564Z"
   },
   {
    "duration": 255,
    "start_time": "2023-05-24T20:03:41.860Z"
   },
   {
    "duration": 232,
    "start_time": "2023-05-24T20:03:56.620Z"
   },
   {
    "duration": 266,
    "start_time": "2023-05-24T20:03:59.759Z"
   },
   {
    "duration": 238,
    "start_time": "2023-05-24T20:04:41.103Z"
   },
   {
    "duration": 240,
    "start_time": "2023-05-24T20:05:32.166Z"
   },
   {
    "duration": 249,
    "start_time": "2023-05-24T20:05:41.891Z"
   },
   {
    "duration": 251,
    "start_time": "2023-05-24T20:05:55.274Z"
   },
   {
    "duration": 361,
    "start_time": "2023-05-24T20:06:22.011Z"
   },
   {
    "duration": 378,
    "start_time": "2023-05-24T20:06:33.249Z"
   },
   {
    "duration": 10,
    "start_time": "2023-05-24T20:07:50.578Z"
   },
   {
    "duration": 639,
    "start_time": "2023-05-24T20:07:51.324Z"
   },
   {
    "duration": 4,
    "start_time": "2023-05-24T20:08:36.918Z"
   },
   {
    "duration": 1160,
    "start_time": "2023-05-24T20:08:37.814Z"
   },
   {
    "duration": 248,
    "start_time": "2023-05-24T20:09:02.478Z"
   },
   {
    "duration": 242,
    "start_time": "2023-05-24T20:09:55.493Z"
   },
   {
    "duration": 208,
    "start_time": "2023-05-24T20:09:59.058Z"
   },
   {
    "duration": 210,
    "start_time": "2023-05-24T20:10:01.892Z"
   },
   {
    "duration": 236,
    "start_time": "2023-05-24T20:10:04.160Z"
   },
   {
    "duration": 275,
    "start_time": "2023-05-24T20:11:20.056Z"
   },
   {
    "duration": 343,
    "start_time": "2023-05-24T20:11:24.021Z"
   },
   {
    "duration": 296,
    "start_time": "2023-05-24T20:11:27.404Z"
   },
   {
    "duration": 13,
    "start_time": "2023-05-24T20:12:13.364Z"
   },
   {
    "duration": 4415,
    "start_time": "2023-05-24T20:12:25.171Z"
   },
   {
    "duration": 3470,
    "start_time": "2023-05-24T20:12:52.064Z"
   },
   {
    "duration": 181,
    "start_time": "2023-05-24T20:13:40.357Z"
   },
   {
    "duration": 220,
    "start_time": "2023-05-24T20:14:08.771Z"
   },
   {
    "duration": 272,
    "start_time": "2023-05-24T20:14:12.849Z"
   },
   {
    "duration": 203,
    "start_time": "2023-05-24T20:14:25.063Z"
   },
   {
    "duration": 89,
    "start_time": "2023-05-24T20:20:38.062Z"
   },
   {
    "duration": 202,
    "start_time": "2023-05-24T20:22:21.473Z"
   },
   {
    "duration": 2,
    "start_time": "2023-05-24T20:22:26.956Z"
   },
   {
    "duration": 24,
    "start_time": "2023-05-24T20:26:20.046Z"
   },
   {
    "duration": 222,
    "start_time": "2023-05-24T20:26:29.585Z"
   },
   {
    "duration": 20,
    "start_time": "2023-05-24T20:26:47.484Z"
   },
   {
    "duration": 27,
    "start_time": "2023-05-24T20:26:54.687Z"
   },
   {
    "duration": 13,
    "start_time": "2023-05-24T20:26:59.957Z"
   },
   {
    "duration": 30,
    "start_time": "2023-05-24T20:27:13.863Z"
   },
   {
    "duration": 22,
    "start_time": "2023-05-24T20:27:24.707Z"
   },
   {
    "duration": 7,
    "start_time": "2023-05-24T20:27:37.492Z"
   },
   {
    "duration": 34,
    "start_time": "2023-05-24T20:27:45.048Z"
   },
   {
    "duration": 229,
    "start_time": "2023-05-24T20:27:53.154Z"
   },
   {
    "duration": 58,
    "start_time": "2023-05-24T20:28:15.715Z"
   },
   {
    "duration": 44,
    "start_time": "2023-05-24T20:28:18.114Z"
   },
   {
    "duration": 273,
    "start_time": "2023-05-24T20:28:49.740Z"
   },
   {
    "duration": 100,
    "start_time": "2023-05-24T20:29:01.347Z"
   },
   {
    "duration": 258,
    "start_time": "2023-05-24T20:29:40.763Z"
   },
   {
    "duration": 53,
    "start_time": "2023-05-24T20:35:34.748Z"
   },
   {
    "duration": 21,
    "start_time": "2023-05-24T20:35:36.904Z"
   },
   {
    "duration": 304,
    "start_time": "2023-05-24T20:35:48.599Z"
   },
   {
    "duration": 318,
    "start_time": "2023-05-24T20:35:59.097Z"
   },
   {
    "duration": 244,
    "start_time": "2023-05-24T20:36:27.403Z"
   },
   {
    "duration": 20,
    "start_time": "2023-05-24T20:36:47.365Z"
   },
   {
    "duration": 248,
    "start_time": "2023-05-24T20:36:59.050Z"
   },
   {
    "duration": 51,
    "start_time": "2023-05-24T20:37:07.671Z"
   },
   {
    "duration": 41,
    "start_time": "2023-05-24T20:37:16.048Z"
   },
   {
    "duration": 78,
    "start_time": "2023-05-24T20:38:44.244Z"
   },
   {
    "duration": 23,
    "start_time": "2023-05-24T20:39:32.083Z"
   },
   {
    "duration": 19,
    "start_time": "2023-05-24T20:40:22.670Z"
   },
   {
    "duration": 43,
    "start_time": "2023-05-24T20:40:25.148Z"
   },
   {
    "duration": 31,
    "start_time": "2023-05-24T20:40:57.546Z"
   },
   {
    "duration": 41,
    "start_time": "2023-05-24T20:41:02.106Z"
   },
   {
    "duration": 51,
    "start_time": "2023-05-24T20:41:39.115Z"
   },
   {
    "duration": 20,
    "start_time": "2023-05-24T20:42:00.154Z"
   },
   {
    "duration": 24,
    "start_time": "2023-05-24T20:42:04.594Z"
   },
   {
    "duration": 158,
    "start_time": "2023-05-24T20:42:06.453Z"
   },
   {
    "duration": 251,
    "start_time": "2023-05-24T20:42:22.551Z"
   },
   {
    "duration": 180,
    "start_time": "2023-05-24T20:42:26.680Z"
   },
   {
    "duration": 29,
    "start_time": "2023-05-24T20:42:34.986Z"
   },
   {
    "duration": 537,
    "start_time": "2023-05-24T20:42:42.796Z"
   },
   {
    "duration": 922,
    "start_time": "2023-05-24T20:42:56.708Z"
   },
   {
    "duration": 175,
    "start_time": "2023-05-24T20:43:03.871Z"
   },
   {
    "duration": 128,
    "start_time": "2023-05-24T20:43:22.641Z"
   },
   {
    "duration": 144,
    "start_time": "2023-05-24T20:43:47.497Z"
   },
   {
    "duration": 30,
    "start_time": "2023-05-24T20:43:53.560Z"
   },
   {
    "duration": 137,
    "start_time": "2023-05-24T20:43:59.963Z"
   },
   {
    "duration": 128,
    "start_time": "2023-05-24T20:44:29.398Z"
   },
   {
    "duration": 15,
    "start_time": "2023-05-24T20:44:56.753Z"
   },
   {
    "duration": 17,
    "start_time": "2023-05-24T20:45:07.974Z"
   },
   {
    "duration": 15,
    "start_time": "2023-05-24T20:45:11.658Z"
   },
   {
    "duration": 17,
    "start_time": "2023-05-24T20:45:15.368Z"
   },
   {
    "duration": 21,
    "start_time": "2023-05-24T20:45:37.167Z"
   },
   {
    "duration": 17,
    "start_time": "2023-05-24T20:45:43.245Z"
   },
   {
    "duration": 46,
    "start_time": "2023-05-24T20:45:53.444Z"
   },
   {
    "duration": 16,
    "start_time": "2023-05-24T20:45:56.613Z"
   },
   {
    "duration": 928,
    "start_time": "2023-05-24T20:46:14.647Z"
   },
   {
    "duration": 22,
    "start_time": "2023-05-24T20:46:20.145Z"
   },
   {
    "duration": 27,
    "start_time": "2023-05-24T20:46:36.750Z"
   },
   {
    "duration": 25,
    "start_time": "2023-05-24T20:46:41.467Z"
   },
   {
    "duration": 17,
    "start_time": "2023-05-24T20:47:18.545Z"
   },
   {
    "duration": 17,
    "start_time": "2023-05-24T20:47:23.188Z"
   },
   {
    "duration": 16,
    "start_time": "2023-05-24T20:47:26.471Z"
   },
   {
    "duration": 29,
    "start_time": "2023-05-24T20:48:01.121Z"
   },
   {
    "duration": 37,
    "start_time": "2023-05-24T20:48:30.150Z"
   },
   {
    "duration": 52,
    "start_time": "2023-05-24T20:48:50.610Z"
   },
   {
    "duration": 50,
    "start_time": "2023-05-24T20:49:06.285Z"
   },
   {
    "duration": 26,
    "start_time": "2023-05-24T20:49:10.719Z"
   },
   {
    "duration": 25,
    "start_time": "2023-05-24T20:49:15.987Z"
   },
   {
    "duration": 59,
    "start_time": "2023-05-24T20:49:19.816Z"
   },
   {
    "duration": 48,
    "start_time": "2023-05-24T20:49:22.954Z"
   },
   {
    "duration": 28,
    "start_time": "2023-05-24T20:49:26.258Z"
   },
   {
    "duration": 29,
    "start_time": "2023-05-24T20:49:31.694Z"
   },
   {
    "duration": 47,
    "start_time": "2023-05-24T20:49:34.994Z"
   },
   {
    "duration": 67,
    "start_time": "2023-05-24T20:50:39.776Z"
   },
   {
    "duration": 29,
    "start_time": "2023-05-24T20:50:45.050Z"
   },
   {
    "duration": 28,
    "start_time": "2023-05-24T20:51:07.952Z"
   },
   {
    "duration": 40,
    "start_time": "2023-05-24T20:51:12.518Z"
   },
   {
    "duration": 49,
    "start_time": "2023-05-24T20:51:16.085Z"
   },
   {
    "duration": 37,
    "start_time": "2023-05-24T20:51:18.677Z"
   },
   {
    "duration": 25,
    "start_time": "2023-05-24T20:53:22.595Z"
   },
   {
    "duration": 27,
    "start_time": "2023-05-24T20:53:42.588Z"
   },
   {
    "duration": 26,
    "start_time": "2023-05-24T20:53:57.550Z"
   },
   {
    "duration": 31,
    "start_time": "2023-05-24T20:54:49.406Z"
   },
   {
    "duration": 38,
    "start_time": "2023-05-24T20:54:52.078Z"
   },
   {
    "duration": 31,
    "start_time": "2023-05-24T20:55:03.364Z"
   },
   {
    "duration": 28,
    "start_time": "2023-05-24T20:56:18.580Z"
   },
   {
    "duration": 28,
    "start_time": "2023-05-24T20:56:26.711Z"
   },
   {
    "duration": 29,
    "start_time": "2023-05-24T20:57:53.064Z"
   },
   {
    "duration": 35,
    "start_time": "2023-05-24T20:57:56.224Z"
   },
   {
    "duration": 23,
    "start_time": "2023-05-24T20:58:14.693Z"
   },
   {
    "duration": 57,
    "start_time": "2023-05-24T20:58:44.913Z"
   },
   {
    "duration": 46,
    "start_time": "2023-05-24T20:58:51.006Z"
   },
   {
    "duration": 70,
    "start_time": "2023-05-24T20:59:24.188Z"
   },
   {
    "duration": 68,
    "start_time": "2023-05-24T21:00:26.996Z"
   },
   {
    "duration": 24,
    "start_time": "2023-05-24T21:07:26.949Z"
   },
   {
    "duration": 18,
    "start_time": "2023-05-24T21:07:51.329Z"
   },
   {
    "duration": 16,
    "start_time": "2023-05-24T21:08:01.094Z"
   },
   {
    "duration": 15,
    "start_time": "2023-05-24T21:08:19.068Z"
   },
   {
    "duration": 59,
    "start_time": "2023-05-24T21:08:29.574Z"
   },
   {
    "duration": 12,
    "start_time": "2023-05-24T21:08:32.030Z"
   },
   {
    "duration": 12,
    "start_time": "2023-05-24T21:08:41.606Z"
   },
   {
    "duration": 24,
    "start_time": "2023-05-24T21:08:52.999Z"
   },
   {
    "duration": 24,
    "start_time": "2023-05-24T21:08:56.960Z"
   },
   {
    "duration": 168,
    "start_time": "2023-05-24T21:09:02.113Z"
   },
   {
    "duration": 27,
    "start_time": "2023-05-24T21:09:11.109Z"
   },
   {
    "duration": 9,
    "start_time": "2023-05-24T21:09:13.745Z"
   },
   {
    "duration": 150,
    "start_time": "2023-05-24T21:09:17.786Z"
   },
   {
    "duration": 40,
    "start_time": "2023-05-24T21:09:44.600Z"
   },
   {
    "duration": 18,
    "start_time": "2023-05-24T21:12:20.899Z"
   },
   {
    "duration": 5,
    "start_time": "2023-05-24T21:12:27.305Z"
   },
   {
    "duration": 12,
    "start_time": "2023-05-24T21:12:37.064Z"
   },
   {
    "duration": 5,
    "start_time": "2023-05-24T21:12:43.113Z"
   },
   {
    "duration": 4,
    "start_time": "2023-05-24T21:12:49.089Z"
   },
   {
    "duration": 10,
    "start_time": "2023-05-24T21:13:15.430Z"
   },
   {
    "duration": 9,
    "start_time": "2023-05-24T21:13:22.683Z"
   },
   {
    "duration": 90,
    "start_time": "2023-05-24T21:13:42.848Z"
   },
   {
    "duration": 73,
    "start_time": "2023-05-24T21:13:58.002Z"
   },
   {
    "duration": 21,
    "start_time": "2023-05-24T21:14:30.685Z"
   },
   {
    "duration": 11,
    "start_time": "2023-05-24T21:14:38.097Z"
   },
   {
    "duration": 62,
    "start_time": "2023-05-24T21:14:42.096Z"
   },
   {
    "duration": 29,
    "start_time": "2023-05-24T21:15:00.308Z"
   },
   {
    "duration": 22,
    "start_time": "2023-05-24T21:15:02.747Z"
   },
   {
    "duration": 17,
    "start_time": "2023-05-24T21:15:05.113Z"
   },
   {
    "duration": 82,
    "start_time": "2023-05-24T21:15:09.197Z"
   },
   {
    "duration": 702,
    "start_time": "2023-05-24T21:15:15.236Z"
   },
   {
    "duration": 343,
    "start_time": "2023-05-24T21:15:33.014Z"
   },
   {
    "duration": 21,
    "start_time": "2023-05-24T21:15:41.158Z"
   },
   {
    "duration": 22,
    "start_time": "2023-05-24T21:15:46.403Z"
   },
   {
    "duration": 19,
    "start_time": "2023-05-24T21:15:50.987Z"
   },
   {
    "duration": 330,
    "start_time": "2023-05-24T21:15:55.529Z"
   },
   {
    "duration": 803,
    "start_time": "2023-05-24T21:16:24.031Z"
   },
   {
    "duration": 43,
    "start_time": "2023-05-24T21:17:22.282Z"
   },
   {
    "duration": 121,
    "start_time": "2023-05-24T21:17:34.686Z"
   },
   {
    "duration": 127,
    "start_time": "2023-05-24T21:17:41.689Z"
   },
   {
    "duration": 154,
    "start_time": "2023-05-24T21:17:46.713Z"
   },
   {
    "duration": 125,
    "start_time": "2023-05-24T21:17:52.326Z"
   },
   {
    "duration": 124,
    "start_time": "2023-05-24T21:17:57.726Z"
   },
   {
    "duration": 744,
    "start_time": "2023-05-24T21:18:36.740Z"
   },
   {
    "duration": 137,
    "start_time": "2023-05-24T21:19:28.740Z"
   },
   {
    "duration": 754,
    "start_time": "2023-05-24T21:20:24.609Z"
   },
   {
    "duration": 295,
    "start_time": "2023-05-24T21:20:53.272Z"
   },
   {
    "duration": 752,
    "start_time": "2023-05-24T21:22:33.091Z"
   },
   {
    "duration": 712,
    "start_time": "2023-05-24T21:22:54.457Z"
   },
   {
    "duration": 767,
    "start_time": "2023-05-24T21:23:17.025Z"
   },
   {
    "duration": 2,
    "start_time": "2023-05-24T21:24:38.213Z"
   },
   {
    "duration": 1465,
    "start_time": "2023-05-24T21:24:48.204Z"
   },
   {
    "duration": 899,
    "start_time": "2023-05-24T21:24:49.671Z"
   },
   {
    "duration": 132,
    "start_time": "2023-05-24T21:24:50.572Z"
   },
   {
    "duration": 145,
    "start_time": "2023-05-24T21:24:50.706Z"
   },
   {
    "duration": 281,
    "start_time": "2023-05-24T21:24:50.853Z"
   },
   {
    "duration": 257,
    "start_time": "2023-05-24T21:24:51.136Z"
   },
   {
    "duration": 98,
    "start_time": "2023-05-24T21:24:51.395Z"
   },
   {
    "duration": 28,
    "start_time": "2023-05-24T21:24:51.495Z"
   },
   {
    "duration": 294,
    "start_time": "2023-05-24T21:24:51.525Z"
   },
   {
    "duration": 322,
    "start_time": "2023-05-24T21:24:51.822Z"
   },
   {
    "duration": 93,
    "start_time": "2023-05-24T21:24:52.146Z"
   },
   {
    "duration": 5,
    "start_time": "2023-05-24T21:24:52.241Z"
   },
   {
    "duration": 1242,
    "start_time": "2023-05-24T21:24:52.247Z"
   },
   {
    "duration": 52,
    "start_time": "2023-05-24T21:24:53.491Z"
   },
   {
    "duration": 35,
    "start_time": "2023-05-24T21:24:53.544Z"
   },
   {
    "duration": 340,
    "start_time": "2023-05-24T21:24:53.580Z"
   },
   {
    "duration": 94,
    "start_time": "2023-05-24T21:24:53.923Z"
   },
   {
    "duration": 2791,
    "start_time": "2023-05-24T21:24:54.020Z"
   },
   {
    "duration": 67,
    "start_time": "2023-05-24T21:24:56.813Z"
   },
   {
    "duration": 15,
    "start_time": "2023-05-24T21:24:56.882Z"
   },
   {
    "duration": 78,
    "start_time": "2023-05-24T21:24:56.898Z"
   },
   {
    "duration": 277,
    "start_time": "2023-05-24T21:24:56.978Z"
   },
   {
    "duration": 72,
    "start_time": "2023-05-24T21:24:57.257Z"
   },
   {
    "duration": 82,
    "start_time": "2023-05-24T21:24:57.331Z"
   },
   {
    "duration": 85,
    "start_time": "2023-05-24T21:24:57.415Z"
   },
   {
    "duration": 341,
    "start_time": "2023-05-24T21:24:57.502Z"
   },
   {
    "duration": 490,
    "start_time": "2023-05-24T21:24:57.845Z"
   },
   {
    "duration": 319,
    "start_time": "2023-05-24T21:24:58.338Z"
   },
   {
    "duration": 2,
    "start_time": "2023-05-24T21:24:58.659Z"
   },
   {
    "duration": 249,
    "start_time": "2023-05-24T21:24:58.663Z"
   },
   {
    "duration": 61,
    "start_time": "2023-05-24T21:24:58.914Z"
   },
   {
    "duration": 86,
    "start_time": "2023-05-24T21:24:58.977Z"
   },
   {
    "duration": 23,
    "start_time": "2023-05-24T21:24:59.076Z"
   },
   {
    "duration": 757,
    "start_time": "2023-05-24T21:24:59.101Z"
   },
   {
    "duration": 779,
    "start_time": "2023-05-24T21:24:59.859Z"
   },
   {
    "duration": 800,
    "start_time": "2023-05-24T21:25:00.640Z"
   },
   {
    "duration": 335,
    "start_time": "2023-05-24T21:25:01.442Z"
   },
   {
    "duration": 146,
    "start_time": "2023-05-24T21:25:01.779Z"
   },
   {
    "duration": 3,
    "start_time": "2023-05-24T21:25:01.926Z"
   },
   {
    "duration": 709,
    "start_time": "2023-05-24T21:25:01.930Z"
   },
   {
    "duration": 20,
    "start_time": "2023-05-24T21:25:02.641Z"
   },
   {
    "duration": 19,
    "start_time": "2023-05-24T21:25:02.675Z"
   },
   {
    "duration": 340,
    "start_time": "2023-05-24T21:25:02.696Z"
   },
   {
    "duration": 21,
    "start_time": "2023-05-24T21:25:03.041Z"
   },
   {
    "duration": 1429,
    "start_time": "2023-05-25T10:14:06.715Z"
   },
   {
    "duration": 2932,
    "start_time": "2023-05-25T10:14:09.801Z"
   },
   {
    "duration": 109,
    "start_time": "2023-05-25T10:14:12.735Z"
   },
   {
    "duration": 127,
    "start_time": "2023-05-25T10:14:14.697Z"
   },
   {
    "duration": 237,
    "start_time": "2023-05-25T10:14:16.081Z"
   },
   {
    "duration": 225,
    "start_time": "2023-05-25T10:14:18.611Z"
   },
   {
    "duration": 82,
    "start_time": "2023-05-25T10:14:19.697Z"
   },
   {
    "duration": 23,
    "start_time": "2023-05-25T10:14:21.137Z"
   },
   {
    "duration": 244,
    "start_time": "2023-05-25T10:14:22.001Z"
   },
   {
    "duration": 278,
    "start_time": "2023-05-25T10:14:22.883Z"
   },
   {
    "duration": 75,
    "start_time": "2023-05-25T10:14:23.857Z"
   },
   {
    "duration": 3,
    "start_time": "2023-05-25T10:14:26.717Z"
   },
   {
    "duration": 1041,
    "start_time": "2023-05-25T10:14:28.481Z"
   },
   {
    "duration": 51,
    "start_time": "2023-05-25T10:14:32.370Z"
   },
   {
    "duration": 66,
    "start_time": "2023-05-25T10:14:48.233Z"
   },
   {
    "duration": 18,
    "start_time": "2023-05-25T10:15:01.433Z"
   },
   {
    "duration": 277,
    "start_time": "2023-05-25T10:15:03.291Z"
   },
   {
    "duration": 71,
    "start_time": "2023-05-25T10:15:05.657Z"
   },
   {
    "duration": 2247,
    "start_time": "2023-05-25T10:15:07.553Z"
   },
   {
    "duration": 53,
    "start_time": "2023-05-25T10:15:12.865Z"
   },
   {
    "duration": 15,
    "start_time": "2023-05-25T10:15:18.602Z"
   },
   {
    "duration": 69,
    "start_time": "2023-05-25T10:15:34.770Z"
   },
   {
    "duration": 242,
    "start_time": "2023-05-25T10:15:36.493Z"
   },
   {
    "duration": 58,
    "start_time": "2023-05-25T10:15:42.225Z"
   },
   {
    "duration": 66,
    "start_time": "2023-05-25T10:15:44.722Z"
   },
   {
    "duration": 59,
    "start_time": "2023-05-25T10:15:47.721Z"
   },
   {
    "duration": 197,
    "start_time": "2023-05-25T10:15:50.820Z"
   },
   {
    "duration": 40,
    "start_time": "2023-05-25T10:15:58.193Z"
   },
   {
    "duration": 21,
    "start_time": "2023-05-25T10:18:08.579Z"
   },
   {
    "duration": 17,
    "start_time": "2023-05-25T10:18:53.239Z"
   },
   {
    "duration": 118,
    "start_time": "2023-05-25T10:20:41.917Z"
   },
   {
    "duration": 13,
    "start_time": "2023-05-25T10:20:49.274Z"
   },
   {
    "duration": 76,
    "start_time": "2023-05-25T10:20:52.353Z"
   },
   {
    "duration": 75,
    "start_time": "2023-05-25T10:21:05.390Z"
   },
   {
    "duration": 68,
    "start_time": "2023-05-25T10:21:10.505Z"
   },
   {
    "duration": 13,
    "start_time": "2023-05-25T10:21:24.929Z"
   },
   {
    "duration": 224,
    "start_time": "2023-05-25T10:21:55.881Z"
   },
   {
    "duration": 215,
    "start_time": "2023-05-25T10:21:58.921Z"
   },
   {
    "duration": 220,
    "start_time": "2023-05-25T10:22:11.673Z"
   },
   {
    "duration": 219,
    "start_time": "2023-05-25T10:22:16.425Z"
   },
   {
    "duration": 217,
    "start_time": "2023-05-25T10:22:21.944Z"
   },
   {
    "duration": 223,
    "start_time": "2023-05-25T10:22:24.904Z"
   },
   {
    "duration": 225,
    "start_time": "2023-05-25T10:22:34.033Z"
   },
   {
    "duration": 221,
    "start_time": "2023-05-25T10:22:56.377Z"
   },
   {
    "duration": 274,
    "start_time": "2023-05-25T10:23:00.457Z"
   },
   {
    "duration": 216,
    "start_time": "2023-05-25T10:23:11.122Z"
   },
   {
    "duration": 23,
    "start_time": "2023-05-25T10:23:54.242Z"
   },
   {
    "duration": 236,
    "start_time": "2023-05-25T10:25:00.434Z"
   },
   {
    "duration": 25,
    "start_time": "2023-05-25T10:25:30.221Z"
   },
   {
    "duration": 65,
    "start_time": "2023-05-25T10:25:41.968Z"
   },
   {
    "duration": 43,
    "start_time": "2023-05-25T10:25:44.360Z"
   },
   {
    "duration": 19,
    "start_time": "2023-05-25T10:26:25.609Z"
   },
   {
    "duration": 34,
    "start_time": "2023-05-25T10:26:36.049Z"
   },
   {
    "duration": 54,
    "start_time": "2023-05-25T10:27:41.601Z"
   },
   {
    "duration": 39,
    "start_time": "2023-05-25T10:27:53.240Z"
   },
   {
    "duration": 9,
    "start_time": "2023-05-25T10:43:48.128Z"
   },
   {
    "duration": 9,
    "start_time": "2023-05-25T10:43:52.151Z"
   },
   {
    "duration": 8,
    "start_time": "2023-05-25T10:43:56.152Z"
   },
   {
    "duration": 703,
    "start_time": "2023-05-25T10:43:58.672Z"
   },
   {
    "duration": 11,
    "start_time": "2023-05-25T10:44:00.691Z"
   },
   {
    "duration": 12,
    "start_time": "2023-05-25T10:44:15.000Z"
   },
   {
    "duration": 221,
    "start_time": "2023-05-25T10:44:40.432Z"
   },
   {
    "duration": 9,
    "start_time": "2023-05-25T10:44:43.880Z"
   },
   {
    "duration": 781,
    "start_time": "2023-05-25T10:45:04.079Z"
   },
   {
    "duration": 37,
    "start_time": "2023-05-25T10:45:11.536Z"
   },
   {
    "duration": 381,
    "start_time": "2023-05-25T10:45:15.718Z"
   },
   {
    "duration": 43,
    "start_time": "2023-05-25T10:45:18.903Z"
   },
   {
    "duration": 7,
    "start_time": "2023-05-25T10:45:20.895Z"
   },
   {
    "duration": 5,
    "start_time": "2023-05-25T10:45:29.663Z"
   },
   {
    "duration": 10,
    "start_time": "2023-05-25T10:45:40.903Z"
   },
   {
    "duration": 4,
    "start_time": "2023-05-25T10:45:44.055Z"
   },
   {
    "duration": 5,
    "start_time": "2023-05-25T10:45:46.783Z"
   },
   {
    "duration": 8,
    "start_time": "2023-05-25T10:45:54.095Z"
   },
   {
    "duration": 762,
    "start_time": "2023-05-25T10:46:00.367Z"
   },
   {
    "duration": 8,
    "start_time": "2023-05-25T10:46:03.424Z"
   },
   {
    "duration": 5,
    "start_time": "2023-05-25T10:46:12.727Z"
   },
   {
    "duration": 8,
    "start_time": "2023-05-25T10:46:21.047Z"
   },
   {
    "duration": 5,
    "start_time": "2023-05-25T10:46:31.903Z"
   },
   {
    "duration": 5,
    "start_time": "2023-05-25T10:46:36.663Z"
   },
   {
    "duration": 7,
    "start_time": "2023-05-25T10:47:07.503Z"
   },
   {
    "duration": 9,
    "start_time": "2023-05-25T10:47:13.375Z"
   },
   {
    "duration": 6,
    "start_time": "2023-05-25T10:47:29.719Z"
   },
   {
    "duration": 43,
    "start_time": "2023-05-25T10:53:13.521Z"
   },
   {
    "duration": 78,
    "start_time": "2023-05-25T10:53:39.735Z"
   },
   {
    "duration": 22,
    "start_time": "2023-05-25T10:53:49.920Z"
   },
   {
    "duration": 796,
    "start_time": "2023-05-25T10:54:31.303Z"
   },
   {
    "duration": 243,
    "start_time": "2023-05-25T10:54:48.542Z"
   },
   {
    "duration": 21,
    "start_time": "2023-05-25T10:55:03.639Z"
   },
   {
    "duration": 21,
    "start_time": "2023-05-25T10:55:09.974Z"
   },
   {
    "duration": 23,
    "start_time": "2023-05-25T10:55:33.823Z"
   },
   {
    "duration": 42,
    "start_time": "2023-05-25T10:55:58.750Z"
   },
   {
    "duration": 27,
    "start_time": "2023-05-25T10:56:06.214Z"
   },
   {
    "duration": 219,
    "start_time": "2023-05-25T10:56:43.478Z"
   },
   {
    "duration": 31,
    "start_time": "2023-05-25T10:56:45.950Z"
   },
   {
    "duration": 101,
    "start_time": "2023-05-25T10:57:05.079Z"
   },
   {
    "duration": 248,
    "start_time": "2023-05-25T10:57:20.190Z"
   },
   {
    "duration": 33,
    "start_time": "2023-05-25T10:57:20.623Z"
   },
   {
    "duration": 10,
    "start_time": "2023-05-25T10:58:03.279Z"
   },
   {
    "duration": 224,
    "start_time": "2023-05-25T10:58:25.342Z"
   },
   {
    "duration": 9,
    "start_time": "2023-05-25T10:58:28.958Z"
   },
   {
    "duration": 4,
    "start_time": "2023-05-25T10:59:00.022Z"
   },
   {
    "duration": 210,
    "start_time": "2023-05-25T10:59:22.247Z"
   },
   {
    "duration": 4,
    "start_time": "2023-05-25T10:59:25.966Z"
   },
   {
    "duration": 103,
    "start_time": "2023-05-25T10:59:26.511Z"
   },
   {
    "duration": 8,
    "start_time": "2023-05-25T10:59:41.574Z"
   },
   {
    "duration": 673,
    "start_time": "2023-05-25T10:59:45.995Z"
   },
   {
    "duration": 10,
    "start_time": "2023-05-25T10:59:48.758Z"
   },
   {
    "duration": 10,
    "start_time": "2023-05-25T10:59:56.422Z"
   },
   {
    "duration": 9,
    "start_time": "2023-05-25T10:59:59.990Z"
   },
   {
    "duration": 5,
    "start_time": "2023-05-25T11:00:07.830Z"
   },
   {
    "duration": 13,
    "start_time": "2023-05-25T11:00:21.655Z"
   },
   {
    "duration": 3,
    "start_time": "2023-05-25T11:00:24.302Z"
   },
   {
    "duration": 57,
    "start_time": "2023-05-25T11:00:25.958Z"
   },
   {
    "duration": 4,
    "start_time": "2023-05-25T11:00:27.151Z"
   },
   {
    "duration": 4,
    "start_time": "2023-05-25T11:00:31.854Z"
   },
   {
    "duration": 13,
    "start_time": "2023-05-25T11:01:17.583Z"
   },
   {
    "duration": 16,
    "start_time": "2023-05-25T11:01:23.086Z"
   },
   {
    "duration": 50,
    "start_time": "2023-05-25T11:01:27.647Z"
   },
   {
    "duration": 48,
    "start_time": "2023-05-25T11:01:32.150Z"
   },
   {
    "duration": 42,
    "start_time": "2023-05-25T11:01:35.734Z"
   },
   {
    "duration": 17,
    "start_time": "2023-05-25T11:01:38.758Z"
   },
   {
    "duration": 18,
    "start_time": "2023-05-25T11:01:42.686Z"
   },
   {
    "duration": 17,
    "start_time": "2023-05-25T11:01:47.159Z"
   },
   {
    "duration": 14,
    "start_time": "2023-05-25T11:01:52.247Z"
   },
   {
    "duration": 17,
    "start_time": "2023-05-25T11:02:02.286Z"
   },
   {
    "duration": 23,
    "start_time": "2023-05-25T11:02:05.806Z"
   },
   {
    "duration": 45,
    "start_time": "2023-05-25T11:02:11.328Z"
   },
   {
    "duration": 49,
    "start_time": "2023-05-25T11:02:59.196Z"
   },
   {
    "duration": 795,
    "start_time": "2023-05-25T11:03:52.174Z"
   },
   {
    "duration": 58,
    "start_time": "2023-05-25T11:03:55.711Z"
   },
   {
    "duration": 74,
    "start_time": "2023-05-25T11:04:34.191Z"
   },
   {
    "duration": 679,
    "start_time": "2023-05-25T11:06:07.581Z"
   },
   {
    "duration": 686,
    "start_time": "2023-05-25T11:06:15.886Z"
   },
   {
    "duration": 678,
    "start_time": "2023-05-25T11:06:20.143Z"
   },
   {
    "duration": 664,
    "start_time": "2023-05-25T11:06:27.622Z"
   },
   {
    "duration": 713,
    "start_time": "2023-05-25T11:06:31.238Z"
   },
   {
    "duration": 11,
    "start_time": "2023-05-25T11:07:11.318Z"
   },
   {
    "duration": 20,
    "start_time": "2023-05-25T11:07:50.622Z"
   },
   {
    "duration": 10,
    "start_time": "2023-05-25T11:08:16.278Z"
   },
   {
    "duration": 10,
    "start_time": "2023-05-25T11:08:24.981Z"
   },
   {
    "duration": 10,
    "start_time": "2023-05-25T11:08:45.017Z"
   },
   {
    "duration": 11,
    "start_time": "2023-05-25T11:08:49.173Z"
   },
   {
    "duration": 56,
    "start_time": "2023-05-25T11:09:23.086Z"
   },
   {
    "duration": 43,
    "start_time": "2023-05-25T11:09:35.221Z"
   },
   {
    "duration": 58,
    "start_time": "2023-05-25T11:09:41.878Z"
   },
   {
    "duration": 5,
    "start_time": "2023-05-25T11:13:40.822Z"
   },
   {
    "duration": 4,
    "start_time": "2023-05-25T11:13:53.453Z"
   },
   {
    "duration": 3,
    "start_time": "2023-05-25T11:15:16.389Z"
   },
   {
    "duration": 11,
    "start_time": "2023-05-25T11:15:36.893Z"
   },
   {
    "duration": 11,
    "start_time": "2023-05-25T11:16:03.318Z"
   },
   {
    "duration": 3,
    "start_time": "2023-05-25T11:16:25.333Z"
   },
   {
    "duration": 634,
    "start_time": "2023-05-25T11:16:26.405Z"
   },
   {
    "duration": 653,
    "start_time": "2023-05-25T11:16:31.525Z"
   },
   {
    "duration": 2,
    "start_time": "2023-05-25T11:16:55.438Z"
   },
   {
    "duration": 623,
    "start_time": "2023-05-25T11:16:55.797Z"
   },
   {
    "duration": 649,
    "start_time": "2023-05-25T11:17:01.740Z"
   },
   {
    "duration": 3,
    "start_time": "2023-05-25T11:17:06.733Z"
   },
   {
    "duration": 631,
    "start_time": "2023-05-25T11:17:07.595Z"
   },
   {
    "duration": 3,
    "start_time": "2023-05-25T11:17:24.317Z"
   },
   {
    "duration": 638,
    "start_time": "2023-05-25T11:17:24.774Z"
   },
   {
    "duration": 4,
    "start_time": "2023-05-25T11:17:33.909Z"
   },
   {
    "duration": 4,
    "start_time": "2023-05-25T11:17:37.036Z"
   },
   {
    "duration": 644,
    "start_time": "2023-05-25T11:17:37.639Z"
   },
   {
    "duration": 622,
    "start_time": "2023-05-25T11:17:51.343Z"
   },
   {
    "duration": 659,
    "start_time": "2023-05-25T11:18:26.189Z"
   },
   {
    "duration": 633,
    "start_time": "2023-05-25T11:18:37.397Z"
   },
   {
    "duration": 1893,
    "start_time": "2023-05-25T11:20:24.573Z"
   },
   {
    "duration": 58,
    "start_time": "2023-05-25T11:25:57.181Z"
   },
   {
    "duration": 19,
    "start_time": "2023-05-25T11:26:14.973Z"
   },
   {
    "duration": 32,
    "start_time": "2023-05-25T11:26:37.988Z"
   },
   {
    "duration": 42,
    "start_time": "2023-05-25T11:26:42.061Z"
   },
   {
    "duration": 11,
    "start_time": "2023-05-25T11:30:57.869Z"
   },
   {
    "duration": 26,
    "start_time": "2023-05-25T11:31:06.244Z"
   },
   {
    "duration": 42,
    "start_time": "2023-05-25T11:31:10.396Z"
   },
   {
    "duration": 85,
    "start_time": "2023-05-25T11:31:20.322Z"
   },
   {
    "duration": 80,
    "start_time": "2023-05-25T11:31:28.284Z"
   },
   {
    "duration": 71,
    "start_time": "2023-05-25T11:31:41.781Z"
   },
   {
    "duration": 22,
    "start_time": "2023-05-25T11:31:57.069Z"
   },
   {
    "duration": 19,
    "start_time": "2023-05-25T11:32:14.461Z"
   },
   {
    "duration": 11,
    "start_time": "2023-05-25T11:32:24.532Z"
   },
   {
    "duration": 21,
    "start_time": "2023-05-25T11:32:26.101Z"
   },
   {
    "duration": 1238,
    "start_time": "2023-05-25T11:32:49.276Z"
   },
   {
    "duration": 729,
    "start_time": "2023-05-25T11:32:52.428Z"
   },
   {
    "duration": 110,
    "start_time": "2023-05-25T11:32:54.646Z"
   },
   {
    "duration": 102,
    "start_time": "2023-05-25T11:32:56.364Z"
   },
   {
    "duration": 214,
    "start_time": "2023-05-25T11:32:57.532Z"
   },
   {
    "duration": 205,
    "start_time": "2023-05-25T11:32:59.411Z"
   },
   {
    "duration": 93,
    "start_time": "2023-05-25T11:33:00.380Z"
   },
   {
    "duration": 24,
    "start_time": "2023-05-25T11:33:01.790Z"
   },
   {
    "duration": 243,
    "start_time": "2023-05-25T11:33:02.638Z"
   },
   {
    "duration": 268,
    "start_time": "2023-05-25T11:33:03.484Z"
   },
   {
    "duration": 63,
    "start_time": "2023-05-25T11:33:05.158Z"
   },
   {
    "duration": 3,
    "start_time": "2023-05-25T11:33:31.277Z"
   },
   {
    "duration": 1058,
    "start_time": "2023-05-25T11:33:32.227Z"
   },
   {
    "duration": 45,
    "start_time": "2023-05-25T11:33:36.764Z"
   },
   {
    "duration": 16,
    "start_time": "2023-05-25T11:33:38.220Z"
   },
   {
    "duration": 248,
    "start_time": "2023-05-25T11:33:39.340Z"
   },
   {
    "duration": 68,
    "start_time": "2023-05-25T11:33:40.828Z"
   },
   {
    "duration": 2265,
    "start_time": "2023-05-25T11:33:41.324Z"
   },
   {
    "duration": 53,
    "start_time": "2023-05-25T11:33:43.592Z"
   },
   {
    "duration": 14,
    "start_time": "2023-05-25T11:33:43.646Z"
   },
   {
    "duration": 77,
    "start_time": "2023-05-25T11:33:43.662Z"
   },
   {
    "duration": 279,
    "start_time": "2023-05-25T11:33:43.740Z"
   },
   {
    "duration": 56,
    "start_time": "2023-05-25T11:33:45.211Z"
   },
   {
    "duration": 71,
    "start_time": "2023-05-25T11:33:45.607Z"
   },
   {
    "duration": 58,
    "start_time": "2023-05-25T11:33:47.020Z"
   },
   {
    "duration": 187,
    "start_time": "2023-05-25T11:33:48.469Z"
   },
   {
    "duration": 29,
    "start_time": "2023-05-25T11:33:49.860Z"
   },
   {
    "duration": 45,
    "start_time": "2023-05-25T11:33:52.276Z"
   },
   {
    "duration": 106,
    "start_time": "2023-05-25T11:34:00.172Z"
   },
   {
    "duration": 23,
    "start_time": "2023-05-25T11:34:02.077Z"
   },
   {
    "duration": 10,
    "start_time": "2023-05-25T11:34:18.757Z"
   },
   {
    "duration": 8,
    "start_time": "2023-05-25T11:34:22.349Z"
   },
   {
    "duration": 70,
    "start_time": "2023-05-25T11:34:24.612Z"
   },
   {
    "duration": 23,
    "start_time": "2023-05-25T11:34:36.460Z"
   },
   {
    "duration": 4,
    "start_time": "2023-05-25T11:34:40.829Z"
   },
   {
    "duration": 14,
    "start_time": "2023-05-25T11:34:58.748Z"
   },
   {
    "duration": 13,
    "start_time": "2023-05-25T11:35:02.413Z"
   },
   {
    "duration": 1286,
    "start_time": "2023-05-25T11:35:12.235Z"
   },
   {
    "duration": 720,
    "start_time": "2023-05-25T11:35:13.523Z"
   },
   {
    "duration": 120,
    "start_time": "2023-05-25T11:35:14.244Z"
   },
   {
    "duration": 110,
    "start_time": "2023-05-25T11:35:14.366Z"
   },
   {
    "duration": 266,
    "start_time": "2023-05-25T11:35:14.477Z"
   },
   {
    "duration": 239,
    "start_time": "2023-05-25T11:35:14.745Z"
   },
   {
    "duration": 101,
    "start_time": "2023-05-25T11:35:14.986Z"
   },
   {
    "duration": 30,
    "start_time": "2023-05-25T11:35:15.088Z"
   },
   {
    "duration": 242,
    "start_time": "2023-05-25T11:35:15.119Z"
   },
   {
    "duration": 269,
    "start_time": "2023-05-25T11:35:15.364Z"
   },
   {
    "duration": 72,
    "start_time": "2023-05-25T11:35:15.635Z"
   },
   {
    "duration": 3,
    "start_time": "2023-05-25T11:35:15.709Z"
   },
   {
    "duration": 1067,
    "start_time": "2023-05-25T11:35:15.713Z"
   },
   {
    "duration": 52,
    "start_time": "2023-05-25T11:35:16.782Z"
   },
   {
    "duration": 15,
    "start_time": "2023-05-25T11:35:16.836Z"
   },
   {
    "duration": 266,
    "start_time": "2023-05-25T11:35:16.852Z"
   },
   {
    "duration": 67,
    "start_time": "2023-05-25T11:35:17.120Z"
   },
   {
    "duration": 2254,
    "start_time": "2023-05-25T11:35:17.189Z"
   },
   {
    "duration": 47,
    "start_time": "2023-05-25T11:35:19.445Z"
   },
   {
    "duration": 23,
    "start_time": "2023-05-25T11:35:19.494Z"
   },
   {
    "duration": 60,
    "start_time": "2023-05-25T11:35:19.519Z"
   },
   {
    "duration": 246,
    "start_time": "2023-05-25T11:35:19.581Z"
   },
   {
    "duration": 55,
    "start_time": "2023-05-25T11:35:19.829Z"
   },
   {
    "duration": 77,
    "start_time": "2023-05-25T11:35:19.886Z"
   },
   {
    "duration": 67,
    "start_time": "2023-05-25T11:35:19.965Z"
   },
   {
    "duration": 192,
    "start_time": "2023-05-25T11:35:20.034Z"
   },
   {
    "duration": 28,
    "start_time": "2023-05-25T11:35:20.228Z"
   },
   {
    "duration": 52,
    "start_time": "2023-05-25T11:35:20.258Z"
   },
   {
    "duration": 111,
    "start_time": "2023-05-25T11:35:20.312Z"
   },
   {
    "duration": 10,
    "start_time": "2023-05-25T11:36:00.317Z"
   },
   {
    "duration": 26,
    "start_time": "2023-05-25T11:36:01.654Z"
   },
   {
    "duration": 9,
    "start_time": "2023-05-25T11:36:12.164Z"
   },
   {
    "duration": 24,
    "start_time": "2023-05-25T11:36:14.142Z"
   },
   {
    "duration": 13,
    "start_time": "2023-05-25T11:45:40.269Z"
   },
   {
    "duration": 5,
    "start_time": "2023-05-25T11:45:46.364Z"
   },
   {
    "duration": 73,
    "start_time": "2023-05-25T11:45:53.061Z"
   },
   {
    "duration": 21,
    "start_time": "2023-05-25T11:45:53.980Z"
   },
   {
    "duration": 12,
    "start_time": "2023-05-25T11:46:02.925Z"
   },
   {
    "duration": 22,
    "start_time": "2023-05-25T11:46:04.771Z"
   },
   {
    "duration": 8,
    "start_time": "2023-05-25T11:46:26.092Z"
   },
   {
    "duration": 79,
    "start_time": "2023-05-25T11:46:35.692Z"
   },
   {
    "duration": 190,
    "start_time": "2023-05-25T11:46:38.053Z"
   },
   {
    "duration": 2,
    "start_time": "2023-05-25T11:46:51.733Z"
   },
   {
    "duration": 21,
    "start_time": "2023-05-25T11:46:52.077Z"
   },
   {
    "duration": 81,
    "start_time": "2023-05-25T11:48:23.986Z"
   },
   {
    "duration": 21,
    "start_time": "2023-05-25T11:48:24.828Z"
   },
   {
    "duration": 2,
    "start_time": "2023-05-25T11:48:53.629Z"
   },
   {
    "duration": 29,
    "start_time": "2023-05-25T11:49:07.468Z"
   },
   {
    "duration": 25,
    "start_time": "2023-05-25T11:49:07.860Z"
   },
   {
    "duration": 23,
    "start_time": "2023-05-25T11:49:24.228Z"
   },
   {
    "duration": 29,
    "start_time": "2023-05-25T11:49:27.020Z"
   },
   {
    "duration": 23,
    "start_time": "2023-05-25T11:49:27.404Z"
   },
   {
    "duration": 19,
    "start_time": "2023-05-25T11:49:34.509Z"
   },
   {
    "duration": 22,
    "start_time": "2023-05-25T11:49:36.941Z"
   },
   {
    "duration": 10,
    "start_time": "2023-05-25T11:50:02.037Z"
   },
   {
    "duration": 22,
    "start_time": "2023-05-25T11:50:04.492Z"
   },
   {
    "duration": 9,
    "start_time": "2023-05-25T11:50:15.212Z"
   },
   {
    "duration": 8,
    "start_time": "2023-05-25T11:50:19.716Z"
   },
   {
    "duration": 20,
    "start_time": "2023-05-25T11:50:21.125Z"
   },
   {
    "duration": 10,
    "start_time": "2023-05-25T11:50:31.284Z"
   },
   {
    "duration": 10,
    "start_time": "2023-05-25T11:50:35.100Z"
   },
   {
    "duration": 32,
    "start_time": "2023-05-25T11:50:45.212Z"
   },
   {
    "duration": 16,
    "start_time": "2023-05-25T11:51:49.461Z"
   },
   {
    "duration": 19,
    "start_time": "2023-05-25T11:51:54.782Z"
   },
   {
    "duration": 42,
    "start_time": "2023-05-25T11:52:04.076Z"
   },
   {
    "duration": 23,
    "start_time": "2023-05-25T11:52:07.132Z"
   },
   {
    "duration": 28,
    "start_time": "2023-05-25T11:52:31.213Z"
   },
   {
    "duration": 46,
    "start_time": "2023-05-25T11:52:39.885Z"
   },
   {
    "duration": 102,
    "start_time": "2023-05-25T11:52:50.700Z"
   },
   {
    "duration": 75,
    "start_time": "2023-05-25T11:53:58.421Z"
   },
   {
    "duration": 71,
    "start_time": "2023-05-25T11:57:59.908Z"
   },
   {
    "duration": 63,
    "start_time": "2023-05-25T11:58:04.541Z"
   },
   {
    "duration": 81,
    "start_time": "2023-05-25T11:59:13.437Z"
   },
   {
    "duration": 63,
    "start_time": "2023-05-25T11:59:18.021Z"
   },
   {
    "duration": 1411,
    "start_time": "2023-05-25T11:59:26.660Z"
   },
   {
    "duration": 826,
    "start_time": "2023-05-25T11:59:28.072Z"
   },
   {
    "duration": 127,
    "start_time": "2023-05-25T11:59:28.908Z"
   },
   {
    "duration": 120,
    "start_time": "2023-05-25T11:59:29.037Z"
   },
   {
    "duration": 249,
    "start_time": "2023-05-25T11:59:29.158Z"
   },
   {
    "duration": 287,
    "start_time": "2023-05-25T11:59:29.409Z"
   },
   {
    "duration": 94,
    "start_time": "2023-05-25T11:59:29.698Z"
   },
   {
    "duration": 30,
    "start_time": "2023-05-25T11:59:29.794Z"
   },
   {
    "duration": 284,
    "start_time": "2023-05-25T11:59:29.828Z"
   },
   {
    "duration": 335,
    "start_time": "2023-05-25T11:59:30.113Z"
   },
   {
    "duration": 90,
    "start_time": "2023-05-25T11:59:30.450Z"
   },
   {
    "duration": 4,
    "start_time": "2023-05-25T11:59:30.542Z"
   },
   {
    "duration": 1293,
    "start_time": "2023-05-25T11:59:30.548Z"
   },
   {
    "duration": 72,
    "start_time": "2023-05-25T11:59:31.844Z"
   },
   {
    "duration": 21,
    "start_time": "2023-05-25T11:59:31.918Z"
   },
   {
    "duration": 339,
    "start_time": "2023-05-25T11:59:31.941Z"
   },
   {
    "duration": 80,
    "start_time": "2023-05-25T11:59:32.281Z"
   },
   {
    "duration": 2874,
    "start_time": "2023-05-25T11:59:32.362Z"
   },
   {
    "duration": 74,
    "start_time": "2023-05-25T11:59:35.238Z"
   },
   {
    "duration": 16,
    "start_time": "2023-05-25T11:59:35.314Z"
   },
   {
    "duration": 76,
    "start_time": "2023-05-25T11:59:35.332Z"
   },
   {
    "duration": 296,
    "start_time": "2023-05-25T11:59:35.410Z"
   },
   {
    "duration": 59,
    "start_time": "2023-05-25T11:59:35.708Z"
   },
   {
    "duration": 94,
    "start_time": "2023-05-25T11:59:35.769Z"
   },
   {
    "duration": 79,
    "start_time": "2023-05-25T11:59:35.865Z"
   },
   {
    "duration": 228,
    "start_time": "2023-05-25T11:59:35.947Z"
   },
   {
    "duration": 38,
    "start_time": "2023-05-25T11:59:36.178Z"
   },
   {
    "duration": 63,
    "start_time": "2023-05-25T11:59:36.218Z"
   },
   {
    "duration": 3,
    "start_time": "2023-05-25T11:59:36.282Z"
   },
   {
    "duration": 527,
    "start_time": "2023-05-25T11:59:36.286Z"
   },
   {
    "duration": 231,
    "start_time": "2023-05-25T11:59:36.815Z"
   },
   {
    "duration": 282,
    "start_time": "2023-05-25T11:59:37.048Z"
   },
   {
    "duration": 3,
    "start_time": "2023-05-25T11:59:37.331Z"
   },
   {
    "duration": 70,
    "start_time": "2023-05-25T11:59:37.337Z"
   },
   {
    "duration": 768,
    "start_time": "2023-05-25T11:59:37.409Z"
   },
   {
    "duration": 4,
    "start_time": "2023-05-25T11:59:38.179Z"
   },
   {
    "duration": 2306,
    "start_time": "2023-05-25T11:59:38.184Z"
   },
   {
    "duration": 863,
    "start_time": "2023-05-25T11:59:40.492Z"
   },
   {
    "duration": 0,
    "start_time": "2023-05-25T11:59:41.357Z"
   },
   {
    "duration": 0,
    "start_time": "2023-05-25T11:59:41.358Z"
   },
   {
    "duration": 0,
    "start_time": "2023-05-25T11:59:41.359Z"
   },
   {
    "duration": 65,
    "start_time": "2023-05-25T12:02:05.652Z"
   },
   {
    "duration": 85,
    "start_time": "2023-05-25T12:02:14.780Z"
   },
   {
    "duration": 76,
    "start_time": "2023-05-25T12:02:19.287Z"
   },
   {
    "duration": 71,
    "start_time": "2023-05-25T12:02:26.443Z"
   },
   {
    "duration": 64,
    "start_time": "2023-05-25T12:02:31.243Z"
   },
   {
    "duration": 66,
    "start_time": "2023-05-25T12:02:38.038Z"
   },
   {
    "duration": 59,
    "start_time": "2023-05-25T12:02:49.660Z"
   },
   {
    "duration": 95,
    "start_time": "2023-05-25T12:03:23.541Z"
   },
   {
    "duration": 27,
    "start_time": "2023-05-25T12:03:25.926Z"
   },
   {
    "duration": 126,
    "start_time": "2023-05-25T12:03:42.575Z"
   },
   {
    "duration": 31,
    "start_time": "2023-05-25T12:03:43.417Z"
   },
   {
    "duration": 111,
    "start_time": "2023-05-25T12:03:49.936Z"
   },
   {
    "duration": 26,
    "start_time": "2023-05-25T12:03:50.804Z"
   },
   {
    "duration": 61,
    "start_time": "2023-05-25T12:03:57.053Z"
   },
   {
    "duration": 63,
    "start_time": "2023-05-25T12:04:06.300Z"
   },
   {
    "duration": 71,
    "start_time": "2023-05-25T12:04:55.908Z"
   },
   {
    "duration": 93,
    "start_time": "2023-05-25T12:04:58.800Z"
   },
   {
    "duration": 74,
    "start_time": "2023-05-25T12:05:02.948Z"
   },
   {
    "duration": 1361,
    "start_time": "2023-05-25T12:05:20.027Z"
   },
   {
    "duration": 773,
    "start_time": "2023-05-25T12:05:21.390Z"
   },
   {
    "duration": 124,
    "start_time": "2023-05-25T12:05:22.164Z"
   },
   {
    "duration": 119,
    "start_time": "2023-05-25T12:05:22.289Z"
   },
   {
    "duration": 340,
    "start_time": "2023-05-25T12:05:22.410Z"
   },
   {
    "duration": 237,
    "start_time": "2023-05-25T12:05:22.751Z"
   },
   {
    "duration": 95,
    "start_time": "2023-05-25T12:05:22.990Z"
   },
   {
    "duration": 34,
    "start_time": "2023-05-25T12:05:23.087Z"
   },
   {
    "duration": 270,
    "start_time": "2023-05-25T12:05:23.124Z"
   },
   {
    "duration": 313,
    "start_time": "2023-05-25T12:05:23.397Z"
   },
   {
    "duration": 72,
    "start_time": "2023-05-25T12:05:23.712Z"
   },
   {
    "duration": 3,
    "start_time": "2023-05-25T12:05:23.786Z"
   },
   {
    "duration": 1137,
    "start_time": "2023-05-25T12:05:23.790Z"
   },
   {
    "duration": 51,
    "start_time": "2023-05-25T12:05:24.929Z"
   },
   {
    "duration": 31,
    "start_time": "2023-05-25T12:05:24.981Z"
   },
   {
    "duration": 278,
    "start_time": "2023-05-25T12:05:25.014Z"
   },
   {
    "duration": 77,
    "start_time": "2023-05-25T12:05:25.293Z"
   },
   {
    "duration": 2552,
    "start_time": "2023-05-25T12:05:25.371Z"
   },
   {
    "duration": 54,
    "start_time": "2023-05-25T12:05:27.925Z"
   },
   {
    "duration": 27,
    "start_time": "2023-05-25T12:05:27.981Z"
   },
   {
    "duration": 66,
    "start_time": "2023-05-25T12:05:28.009Z"
   },
   {
    "duration": 275,
    "start_time": "2023-05-25T12:05:28.077Z"
   },
   {
    "duration": 65,
    "start_time": "2023-05-25T12:05:28.353Z"
   },
   {
    "duration": 71,
    "start_time": "2023-05-25T12:05:28.420Z"
   },
   {
    "duration": 79,
    "start_time": "2023-05-25T12:05:28.493Z"
   },
   {
    "duration": 214,
    "start_time": "2023-05-25T12:05:28.574Z"
   },
   {
    "duration": 38,
    "start_time": "2023-05-25T12:05:28.790Z"
   },
   {
    "duration": 45,
    "start_time": "2023-05-25T12:05:28.832Z"
   },
   {
    "duration": 75,
    "start_time": "2023-05-25T12:05:28.879Z"
   },
   {
    "duration": 60,
    "start_time": "2023-05-25T12:05:39.324Z"
   },
   {
    "duration": 64,
    "start_time": "2023-05-25T12:21:04.491Z"
   },
   {
    "duration": 55,
    "start_time": "2023-05-25T12:23:10.420Z"
   },
   {
    "duration": 1323,
    "start_time": "2023-05-25T12:23:18.048Z"
   },
   {
    "duration": 826,
    "start_time": "2023-05-25T12:23:19.372Z"
   },
   {
    "duration": 130,
    "start_time": "2023-05-25T12:23:20.199Z"
   },
   {
    "duration": 106,
    "start_time": "2023-05-25T12:23:20.331Z"
   },
   {
    "duration": 262,
    "start_time": "2023-05-25T12:23:20.438Z"
   },
   {
    "duration": 249,
    "start_time": "2023-05-25T12:23:20.702Z"
   },
   {
    "duration": 101,
    "start_time": "2023-05-25T12:23:20.953Z"
   },
   {
    "duration": 24,
    "start_time": "2023-05-25T12:23:21.056Z"
   },
   {
    "duration": 313,
    "start_time": "2023-05-25T12:23:21.082Z"
   },
   {
    "duration": 304,
    "start_time": "2023-05-25T12:23:21.397Z"
   },
   {
    "duration": 74,
    "start_time": "2023-05-25T12:23:21.702Z"
   },
   {
    "duration": 3,
    "start_time": "2023-05-25T12:23:21.778Z"
   },
   {
    "duration": 1226,
    "start_time": "2023-05-25T12:23:21.783Z"
   },
   {
    "duration": 52,
    "start_time": "2023-05-25T12:23:23.011Z"
   },
   {
    "duration": 16,
    "start_time": "2023-05-25T12:23:23.065Z"
   },
   {
    "duration": 310,
    "start_time": "2023-05-25T12:23:23.083Z"
   },
   {
    "duration": 74,
    "start_time": "2023-05-25T12:23:23.394Z"
   },
   {
    "duration": 2567,
    "start_time": "2023-05-25T12:23:23.470Z"
   },
   {
    "duration": 53,
    "start_time": "2023-05-25T12:23:26.040Z"
   },
   {
    "duration": 37,
    "start_time": "2023-05-25T12:23:26.095Z"
   },
   {
    "duration": 61,
    "start_time": "2023-05-25T12:23:26.134Z"
   },
   {
    "duration": 270,
    "start_time": "2023-05-25T12:23:26.196Z"
   },
   {
    "duration": 67,
    "start_time": "2023-05-25T12:23:26.468Z"
   },
   {
    "duration": 88,
    "start_time": "2023-05-25T12:23:26.537Z"
   },
   {
    "duration": 80,
    "start_time": "2023-05-25T12:23:26.627Z"
   },
   {
    "duration": 219,
    "start_time": "2023-05-25T12:23:26.710Z"
   },
   {
    "duration": 30,
    "start_time": "2023-05-25T12:23:26.930Z"
   },
   {
    "duration": 67,
    "start_time": "2023-05-25T12:23:26.963Z"
   },
   {
    "duration": 487,
    "start_time": "2023-05-25T12:23:27.031Z"
   },
   {
    "duration": 234,
    "start_time": "2023-05-25T12:23:27.520Z"
   },
   {
    "duration": 301,
    "start_time": "2023-05-25T12:23:27.755Z"
   },
   {
    "duration": 2,
    "start_time": "2023-05-25T12:23:28.058Z"
   },
   {
    "duration": 79,
    "start_time": "2023-05-25T12:23:28.061Z"
   },
   {
    "duration": 727,
    "start_time": "2023-05-25T12:23:28.142Z"
   },
   {
    "duration": 3,
    "start_time": "2023-05-25T12:23:28.871Z"
   },
   {
    "duration": 2141,
    "start_time": "2023-05-25T12:23:28.876Z"
   },
   {
    "duration": 915,
    "start_time": "2023-05-25T12:23:31.019Z"
   },
   {
    "duration": 0,
    "start_time": "2023-05-25T12:23:31.936Z"
   },
   {
    "duration": 0,
    "start_time": "2023-05-25T12:23:31.937Z"
   },
   {
    "duration": 0,
    "start_time": "2023-05-25T12:23:31.938Z"
   },
   {
    "duration": 230,
    "start_time": "2023-05-25T12:47:02.873Z"
   },
   {
    "duration": 236,
    "start_time": "2023-05-25T12:47:17.373Z"
   },
   {
    "duration": 225,
    "start_time": "2023-05-25T13:00:37.521Z"
   },
   {
    "duration": 61,
    "start_time": "2023-05-25T13:00:46.777Z"
   },
   {
    "duration": 58,
    "start_time": "2023-05-25T13:00:49.201Z"
   },
   {
    "duration": 45,
    "start_time": "2023-05-25T13:01:32.322Z"
   },
   {
    "duration": 52,
    "start_time": "2023-05-25T13:01:54.329Z"
   },
   {
    "duration": 39,
    "start_time": "2023-05-25T13:01:59.074Z"
   },
   {
    "duration": 63,
    "start_time": "2023-05-25T13:02:13.074Z"
   },
   {
    "duration": 63,
    "start_time": "2023-05-25T13:02:29.721Z"
   },
   {
    "duration": 3,
    "start_time": "2023-05-25T13:02:38.617Z"
   },
   {
    "duration": 234,
    "start_time": "2023-05-25T13:02:40.345Z"
   },
   {
    "duration": 51,
    "start_time": "2023-05-25T13:02:50.786Z"
   },
   {
    "duration": 232,
    "start_time": "2023-05-25T13:03:05.305Z"
   },
   {
    "duration": 4,
    "start_time": "2023-05-25T13:04:37.681Z"
   },
   {
    "duration": 1005,
    "start_time": "2023-05-25T13:04:38.373Z"
   },
   {
    "duration": 47,
    "start_time": "2023-05-25T13:04:54.878Z"
   },
   {
    "duration": 16,
    "start_time": "2023-05-25T13:04:56.888Z"
   },
   {
    "duration": 254,
    "start_time": "2023-05-25T13:04:57.520Z"
   },
   {
    "duration": 51,
    "start_time": "2023-05-25T13:04:59.974Z"
   },
   {
    "duration": 2740,
    "start_time": "2023-05-25T13:05:00.818Z"
   },
   {
    "duration": 204,
    "start_time": "2023-05-25T13:05:07.577Z"
   },
   {
    "duration": 230,
    "start_time": "2023-05-25T13:05:15.283Z"
   },
   {
    "duration": 195,
    "start_time": "2023-05-25T13:05:17.793Z"
   },
   {
    "duration": 442,
    "start_time": "2023-05-25T13:05:20.436Z"
   },
   {
    "duration": 279,
    "start_time": "2023-05-25T13:06:03.249Z"
   },
   {
    "duration": 57,
    "start_time": "2023-05-25T13:06:07.418Z"
   },
   {
    "duration": 249,
    "start_time": "2023-05-25T13:06:57.599Z"
   },
   {
    "duration": 260,
    "start_time": "2023-05-25T13:07:04.219Z"
   },
   {
    "duration": 243,
    "start_time": "2023-05-25T13:07:36.889Z"
   },
   {
    "duration": 1579,
    "start_time": "2023-05-25T17:32:49.157Z"
   },
   {
    "duration": 2945,
    "start_time": "2023-05-25T17:32:50.738Z"
   },
   {
    "duration": 130,
    "start_time": "2023-05-25T17:32:53.684Z"
   },
   {
    "duration": 118,
    "start_time": "2023-05-25T17:32:53.816Z"
   },
   {
    "duration": 336,
    "start_time": "2023-05-25T17:32:53.936Z"
   },
   {
    "duration": 267,
    "start_time": "2023-05-25T17:32:54.274Z"
   },
   {
    "duration": 93,
    "start_time": "2023-05-25T17:32:54.543Z"
   },
   {
    "duration": 37,
    "start_time": "2023-05-25T17:32:54.638Z"
   },
   {
    "duration": 292,
    "start_time": "2023-05-25T17:32:54.676Z"
   },
   {
    "duration": 312,
    "start_time": "2023-05-25T17:32:54.970Z"
   },
   {
    "duration": 81,
    "start_time": "2023-05-25T17:32:55.284Z"
   },
   {
    "duration": 4,
    "start_time": "2023-05-25T17:32:55.367Z"
   },
   {
    "duration": 1266,
    "start_time": "2023-05-25T17:32:55.372Z"
   },
   {
    "duration": 52,
    "start_time": "2023-05-25T17:32:56.649Z"
   },
   {
    "duration": 18,
    "start_time": "2023-05-25T17:32:56.703Z"
   },
   {
    "duration": 327,
    "start_time": "2023-05-25T17:32:56.723Z"
   },
   {
    "duration": 77,
    "start_time": "2023-05-25T17:32:57.052Z"
   },
   {
    "duration": 2645,
    "start_time": "2023-05-25T17:32:57.130Z"
   },
   {
    "duration": 52,
    "start_time": "2023-05-25T17:32:59.777Z"
   },
   {
    "duration": 30,
    "start_time": "2023-05-25T17:32:59.830Z"
   },
   {
    "duration": 64,
    "start_time": "2023-05-25T17:32:59.862Z"
   },
   {
    "duration": 362,
    "start_time": "2023-05-25T17:32:59.929Z"
   },
   {
    "duration": 78,
    "start_time": "2023-05-25T17:33:00.293Z"
   },
   {
    "duration": 88,
    "start_time": "2023-05-25T17:33:00.373Z"
   },
   {
    "duration": 69,
    "start_time": "2023-05-25T17:33:00.463Z"
   },
   {
    "duration": 229,
    "start_time": "2023-05-25T17:33:00.534Z"
   },
   {
    "duration": 34,
    "start_time": "2023-05-25T17:33:00.765Z"
   },
   {
    "duration": 335,
    "start_time": "2023-05-25T17:33:00.801Z"
   },
   {
    "duration": 584,
    "start_time": "2023-05-25T17:33:01.139Z"
   },
   {
    "duration": 265,
    "start_time": "2023-05-25T17:33:01.725Z"
   },
   {
    "duration": 295,
    "start_time": "2023-05-25T17:33:01.992Z"
   },
   {
    "duration": 2,
    "start_time": "2023-05-25T17:33:02.289Z"
   },
   {
    "duration": 884,
    "start_time": "2023-05-25T17:33:02.293Z"
   },
   {
    "duration": 4,
    "start_time": "2023-05-25T17:33:03.179Z"
   },
   {
    "duration": 2437,
    "start_time": "2023-05-25T17:33:03.185Z"
   },
   {
    "duration": 984,
    "start_time": "2023-05-25T17:33:05.624Z"
   },
   {
    "duration": 0,
    "start_time": "2023-05-25T17:33:06.610Z"
   },
   {
    "duration": 0,
    "start_time": "2023-05-25T17:33:06.611Z"
   },
   {
    "duration": 1,
    "start_time": "2023-05-25T17:33:06.612Z"
   },
   {
    "duration": 8,
    "start_time": "2023-05-25T17:34:58.408Z"
   },
   {
    "duration": 4,
    "start_time": "2023-05-25T17:35:06.479Z"
   },
   {
    "duration": 5,
    "start_time": "2023-05-25T17:35:15.489Z"
   },
   {
    "duration": 11,
    "start_time": "2023-05-25T17:35:23.100Z"
   },
   {
    "duration": 9,
    "start_time": "2023-05-25T17:35:26.646Z"
   },
   {
    "duration": 10,
    "start_time": "2023-05-25T17:35:28.797Z"
   },
   {
    "duration": 61,
    "start_time": "2023-05-25T17:35:31.151Z"
   },
   {
    "duration": 4,
    "start_time": "2023-05-25T17:35:34.878Z"
   },
   {
    "duration": 14,
    "start_time": "2023-05-25T17:36:09.771Z"
   },
   {
    "duration": 5,
    "start_time": "2023-05-25T17:36:14.675Z"
   },
   {
    "duration": 11,
    "start_time": "2023-05-25T17:36:19.944Z"
   },
   {
    "duration": 4,
    "start_time": "2023-05-25T17:36:22.364Z"
   },
   {
    "duration": 24,
    "start_time": "2023-05-25T17:36:39.746Z"
   },
   {
    "duration": 38,
    "start_time": "2023-05-25T17:37:03.821Z"
   },
   {
    "duration": 39,
    "start_time": "2023-05-25T17:37:34.912Z"
   },
   {
    "duration": 43,
    "start_time": "2023-05-25T17:38:12.051Z"
   },
   {
    "duration": 1617,
    "start_time": "2023-05-25T17:38:58.188Z"
   },
   {
    "duration": 3026,
    "start_time": "2023-05-25T17:38:59.807Z"
   },
   {
    "duration": 132,
    "start_time": "2023-05-25T17:39:02.835Z"
   },
   {
    "duration": 118,
    "start_time": "2023-05-25T17:39:02.970Z"
   },
   {
    "duration": 309,
    "start_time": "2023-05-25T17:39:03.090Z"
   },
   {
    "duration": 286,
    "start_time": "2023-05-25T17:39:03.400Z"
   },
   {
    "duration": 101,
    "start_time": "2023-05-25T17:39:03.688Z"
   },
   {
    "duration": 24,
    "start_time": "2023-05-25T17:39:03.791Z"
   },
   {
    "duration": 316,
    "start_time": "2023-05-25T17:39:03.816Z"
   },
   {
    "duration": 360,
    "start_time": "2023-05-25T17:39:04.134Z"
   },
   {
    "duration": 88,
    "start_time": "2023-05-25T17:39:04.495Z"
   },
   {
    "duration": 3,
    "start_time": "2023-05-25T17:39:04.585Z"
   },
   {
    "duration": 1274,
    "start_time": "2023-05-25T17:39:04.590Z"
   },
   {
    "duration": 70,
    "start_time": "2023-05-25T17:39:05.867Z"
   },
   {
    "duration": 22,
    "start_time": "2023-05-25T17:39:05.950Z"
   },
   {
    "duration": 318,
    "start_time": "2023-05-25T17:39:05.974Z"
   },
   {
    "duration": 78,
    "start_time": "2023-05-25T17:39:06.293Z"
   },
   {
    "duration": 2802,
    "start_time": "2023-05-25T17:39:06.372Z"
   },
   {
    "duration": 55,
    "start_time": "2023-05-25T17:39:09.176Z"
   },
   {
    "duration": 28,
    "start_time": "2023-05-25T17:39:09.233Z"
   },
   {
    "duration": 67,
    "start_time": "2023-05-25T17:39:09.263Z"
   },
   {
    "duration": 315,
    "start_time": "2023-05-25T17:39:09.332Z"
   },
   {
    "duration": 67,
    "start_time": "2023-05-25T17:39:09.650Z"
   },
   {
    "duration": 96,
    "start_time": "2023-05-25T17:39:09.719Z"
   },
   {
    "duration": 83,
    "start_time": "2023-05-25T17:39:09.817Z"
   },
   {
    "duration": 237,
    "start_time": "2023-05-25T17:39:09.901Z"
   },
   {
    "duration": 40,
    "start_time": "2023-05-25T17:39:10.140Z"
   },
   {
    "duration": 328,
    "start_time": "2023-05-25T17:39:10.182Z"
   },
   {
    "duration": 480,
    "start_time": "2023-05-25T17:39:10.512Z"
   },
   {
    "duration": 254,
    "start_time": "2023-05-25T17:39:10.993Z"
   },
   {
    "duration": 299,
    "start_time": "2023-05-25T17:39:11.251Z"
   },
   {
    "duration": 4,
    "start_time": "2023-05-25T17:39:11.552Z"
   },
   {
    "duration": 810,
    "start_time": "2023-05-25T17:39:11.557Z"
   },
   {
    "duration": 4,
    "start_time": "2023-05-25T17:39:12.369Z"
   },
   {
    "duration": 2386,
    "start_time": "2023-05-25T17:39:12.375Z"
   },
   {
    "duration": 65,
    "start_time": "2023-05-25T17:39:29.200Z"
   },
   {
    "duration": 1519,
    "start_time": "2023-05-25T17:39:45.533Z"
   },
   {
    "duration": 3119,
    "start_time": "2023-05-25T17:39:47.054Z"
   },
   {
    "duration": 153,
    "start_time": "2023-05-25T17:39:50.175Z"
   },
   {
    "duration": 120,
    "start_time": "2023-05-25T17:39:50.330Z"
   },
   {
    "duration": 261,
    "start_time": "2023-05-25T17:39:50.453Z"
   },
   {
    "duration": 253,
    "start_time": "2023-05-25T17:39:50.716Z"
   },
   {
    "duration": 133,
    "start_time": "2023-05-25T17:39:50.971Z"
   },
   {
    "duration": 31,
    "start_time": "2023-05-25T17:39:51.107Z"
   },
   {
    "duration": 309,
    "start_time": "2023-05-25T17:39:51.150Z"
   },
   {
    "duration": 333,
    "start_time": "2023-05-25T17:39:51.461Z"
   },
   {
    "duration": 85,
    "start_time": "2023-05-25T17:39:51.796Z"
   },
   {
    "duration": 5,
    "start_time": "2023-05-25T17:39:51.883Z"
   },
   {
    "duration": 1295,
    "start_time": "2023-05-25T17:39:51.889Z"
   },
   {
    "duration": 63,
    "start_time": "2023-05-25T17:39:53.187Z"
   },
   {
    "duration": 17,
    "start_time": "2023-05-25T17:39:53.252Z"
   },
   {
    "duration": 316,
    "start_time": "2023-05-25T17:39:53.271Z"
   },
   {
    "duration": 83,
    "start_time": "2023-05-25T17:39:53.589Z"
   },
   {
    "duration": 2866,
    "start_time": "2023-05-25T17:39:53.673Z"
   },
   {
    "duration": 67,
    "start_time": "2023-05-25T17:39:56.541Z"
   },
   {
    "duration": 15,
    "start_time": "2023-05-25T17:39:56.610Z"
   },
   {
    "duration": 86,
    "start_time": "2023-05-25T17:39:56.627Z"
   },
   {
    "duration": 293,
    "start_time": "2023-05-25T17:39:56.715Z"
   },
   {
    "duration": 70,
    "start_time": "2023-05-25T17:39:57.011Z"
   },
   {
    "duration": 100,
    "start_time": "2023-05-25T17:39:57.083Z"
   },
   {
    "duration": 79,
    "start_time": "2023-05-25T17:39:57.184Z"
   },
   {
    "duration": 285,
    "start_time": "2023-05-25T17:39:57.265Z"
   },
   {
    "duration": 49,
    "start_time": "2023-05-25T17:39:57.552Z"
   },
   {
    "duration": 324,
    "start_time": "2023-05-25T17:39:57.603Z"
   },
   {
    "duration": 557,
    "start_time": "2023-05-25T17:39:57.929Z"
   },
   {
    "duration": 291,
    "start_time": "2023-05-25T17:39:58.489Z"
   },
   {
    "duration": 282,
    "start_time": "2023-05-25T17:39:58.782Z"
   },
   {
    "duration": 2,
    "start_time": "2023-05-25T17:39:59.066Z"
   },
   {
    "duration": 765,
    "start_time": "2023-05-25T17:39:59.069Z"
   },
   {
    "duration": 4,
    "start_time": "2023-05-25T17:39:59.836Z"
   },
   {
    "duration": 2377,
    "start_time": "2023-05-25T17:39:59.850Z"
   },
   {
    "duration": 180,
    "start_time": "2023-05-25T17:40:02.229Z"
   },
   {
    "duration": 1,
    "start_time": "2023-05-25T17:40:02.411Z"
   },
   {
    "duration": 0,
    "start_time": "2023-05-25T17:40:02.413Z"
   },
   {
    "duration": 0,
    "start_time": "2023-05-25T17:40:02.415Z"
   },
   {
    "duration": 0,
    "start_time": "2023-05-25T17:40:02.416Z"
   },
   {
    "duration": 0,
    "start_time": "2023-05-25T17:40:02.417Z"
   },
   {
    "duration": 52,
    "start_time": "2023-05-25T17:40:36.470Z"
   },
   {
    "duration": 50,
    "start_time": "2023-05-25T17:41:58.627Z"
   },
   {
    "duration": 30,
    "start_time": "2023-05-25T17:42:07.463Z"
   },
   {
    "duration": 30,
    "start_time": "2023-05-25T17:42:21.718Z"
   },
   {
    "duration": 30,
    "start_time": "2023-05-25T17:42:35.742Z"
   },
   {
    "duration": 5,
    "start_time": "2023-05-25T17:42:38.398Z"
   },
   {
    "duration": 41,
    "start_time": "2023-05-25T17:42:47.486Z"
   },
   {
    "duration": 35,
    "start_time": "2023-05-25T17:43:40.729Z"
   },
   {
    "duration": 51,
    "start_time": "2023-05-25T17:43:45.443Z"
   },
   {
    "duration": 29,
    "start_time": "2023-05-25T17:44:10.033Z"
   },
   {
    "duration": 32,
    "start_time": "2023-05-25T17:44:17.303Z"
   },
   {
    "duration": 35,
    "start_time": "2023-05-25T17:44:46.274Z"
   },
   {
    "duration": 49,
    "start_time": "2023-05-25T17:44:49.140Z"
   },
   {
    "duration": 51,
    "start_time": "2023-05-25T17:45:04.148Z"
   },
   {
    "duration": 35,
    "start_time": "2023-05-25T17:45:26.099Z"
   },
   {
    "duration": 50,
    "start_time": "2023-05-25T17:46:03.526Z"
   },
   {
    "duration": 38,
    "start_time": "2023-05-25T17:46:06.855Z"
   },
   {
    "duration": 1503,
    "start_time": "2023-05-25T17:48:43.757Z"
   },
   {
    "duration": 828,
    "start_time": "2023-05-25T17:48:45.262Z"
   },
   {
    "duration": 136,
    "start_time": "2023-05-25T17:48:46.092Z"
   },
   {
    "duration": 152,
    "start_time": "2023-05-25T17:48:46.231Z"
   },
   {
    "duration": 298,
    "start_time": "2023-05-25T17:48:46.385Z"
   },
   {
    "duration": 251,
    "start_time": "2023-05-25T17:48:46.685Z"
   },
   {
    "duration": 107,
    "start_time": "2023-05-25T17:48:46.938Z"
   },
   {
    "duration": 24,
    "start_time": "2023-05-25T17:48:47.050Z"
   },
   {
    "duration": 279,
    "start_time": "2023-05-25T17:48:47.076Z"
   },
   {
    "duration": 374,
    "start_time": "2023-05-25T17:48:47.359Z"
   },
   {
    "duration": 102,
    "start_time": "2023-05-25T17:48:47.735Z"
   },
   {
    "duration": 11,
    "start_time": "2023-05-25T17:48:47.839Z"
   },
   {
    "duration": 1284,
    "start_time": "2023-05-25T17:48:47.852Z"
   },
   {
    "duration": 65,
    "start_time": "2023-05-25T17:48:49.138Z"
   },
   {
    "duration": 23,
    "start_time": "2023-05-25T17:48:49.206Z"
   },
   {
    "duration": 340,
    "start_time": "2023-05-25T17:48:49.232Z"
   },
   {
    "duration": 85,
    "start_time": "2023-05-25T17:48:49.574Z"
   },
   {
    "duration": 2702,
    "start_time": "2023-05-25T17:48:49.661Z"
   },
   {
    "duration": 62,
    "start_time": "2023-05-25T17:48:52.373Z"
   },
   {
    "duration": 22,
    "start_time": "2023-05-25T17:48:52.438Z"
   },
   {
    "duration": 100,
    "start_time": "2023-05-25T17:48:52.462Z"
   },
   {
    "duration": 273,
    "start_time": "2023-05-25T17:48:52.564Z"
   },
   {
    "duration": 61,
    "start_time": "2023-05-25T17:48:52.845Z"
   },
   {
    "duration": 85,
    "start_time": "2023-05-25T17:48:52.908Z"
   },
   {
    "duration": 82,
    "start_time": "2023-05-25T17:48:52.994Z"
   },
   {
    "duration": 213,
    "start_time": "2023-05-25T17:48:53.078Z"
   },
   {
    "duration": 35,
    "start_time": "2023-05-25T17:48:53.292Z"
   },
   {
    "duration": 320,
    "start_time": "2023-05-25T17:48:53.330Z"
   },
   {
    "duration": 499,
    "start_time": "2023-05-25T17:48:53.652Z"
   },
   {
    "duration": 283,
    "start_time": "2023-05-25T17:48:54.153Z"
   },
   {
    "duration": 324,
    "start_time": "2023-05-25T17:48:54.438Z"
   },
   {
    "duration": 3,
    "start_time": "2023-05-25T17:48:54.764Z"
   },
   {
    "duration": 848,
    "start_time": "2023-05-25T17:48:54.768Z"
   },
   {
    "duration": 4,
    "start_time": "2023-05-25T17:48:55.618Z"
   },
   {
    "duration": 2218,
    "start_time": "2023-05-25T17:48:55.624Z"
   },
   {
    "duration": 33,
    "start_time": "2023-05-25T17:48:57.844Z"
   },
   {
    "duration": 4,
    "start_time": "2023-05-25T17:48:57.879Z"
   },
   {
    "duration": 65,
    "start_time": "2023-05-25T17:48:57.885Z"
   },
   {
    "duration": 847,
    "start_time": "2023-05-25T17:48:57.952Z"
   },
   {
    "duration": 1,
    "start_time": "2023-05-25T17:48:58.800Z"
   },
   {
    "duration": 0,
    "start_time": "2023-05-25T17:48:58.802Z"
   },
   {
    "duration": 0,
    "start_time": "2023-05-25T17:48:58.803Z"
   },
   {
    "duration": 46,
    "start_time": "2023-05-25T17:50:17.959Z"
   },
   {
    "duration": 37,
    "start_time": "2023-05-25T17:50:41.138Z"
   },
   {
    "duration": 30,
    "start_time": "2023-05-25T17:50:46.656Z"
   },
   {
    "duration": 37,
    "start_time": "2023-05-25T17:50:58.851Z"
   },
   {
    "duration": 41,
    "start_time": "2023-05-25T17:51:04.134Z"
   },
   {
    "duration": 32,
    "start_time": "2023-05-25T17:51:11.089Z"
   },
   {
    "duration": 50,
    "start_time": "2023-05-25T17:51:25.239Z"
   },
   {
    "duration": 50,
    "start_time": "2023-05-25T17:51:33.825Z"
   },
   {
    "duration": 41,
    "start_time": "2023-05-25T17:51:34.763Z"
   },
   {
    "duration": 35,
    "start_time": "2023-05-25T17:51:41.236Z"
   },
   {
    "duration": 37,
    "start_time": "2023-05-25T17:51:44.903Z"
   },
   {
    "duration": 42,
    "start_time": "2023-05-25T17:51:46.057Z"
   },
   {
    "duration": 31,
    "start_time": "2023-05-25T17:51:49.983Z"
   },
   {
    "duration": 38,
    "start_time": "2023-05-25T17:51:58.899Z"
   },
   {
    "duration": 59,
    "start_time": "2023-05-25T17:52:00.079Z"
   },
   {
    "duration": 34,
    "start_time": "2023-05-25T17:52:03.484Z"
   },
   {
    "duration": 28,
    "start_time": "2023-05-25T17:54:09.207Z"
   },
   {
    "duration": 6,
    "start_time": "2023-05-25T17:54:22.491Z"
   },
   {
    "duration": 31,
    "start_time": "2023-05-25T17:54:58.628Z"
   },
   {
    "duration": 18,
    "start_time": "2023-05-25T17:54:58.936Z"
   },
   {
    "duration": 34,
    "start_time": "2023-05-25T17:55:04.172Z"
   },
   {
    "duration": 50,
    "start_time": "2023-05-25T17:55:18.557Z"
   },
   {
    "duration": 31,
    "start_time": "2023-05-25T17:55:40.193Z"
   },
   {
    "duration": 34,
    "start_time": "2023-05-25T17:55:50.645Z"
   },
   {
    "duration": 34,
    "start_time": "2023-05-25T17:56:02.120Z"
   },
   {
    "duration": 25,
    "start_time": "2023-05-25T17:56:09.123Z"
   },
   {
    "duration": 4,
    "start_time": "2023-05-25T17:56:18.231Z"
   },
   {
    "duration": 715,
    "start_time": "2023-05-25T17:56:18.974Z"
   },
   {
    "duration": 125,
    "start_time": "2023-05-25T17:56:20.217Z"
   },
   {
    "duration": 106,
    "start_time": "2023-05-25T17:56:23.103Z"
   },
   {
    "duration": 248,
    "start_time": "2023-05-25T17:56:24.811Z"
   },
   {
    "duration": 203,
    "start_time": "2023-05-25T17:56:25.716Z"
   },
   {
    "duration": 88,
    "start_time": "2023-05-25T17:56:26.163Z"
   },
   {
    "duration": 26,
    "start_time": "2023-05-25T17:56:28.233Z"
   },
   {
    "duration": 238,
    "start_time": "2023-05-25T17:56:28.605Z"
   },
   {
    "duration": 304,
    "start_time": "2023-05-25T17:56:29.405Z"
   },
   {
    "duration": 73,
    "start_time": "2023-05-25T17:56:31.076Z"
   },
   {
    "duration": 3,
    "start_time": "2023-05-25T17:56:32.598Z"
   },
   {
    "duration": 1194,
    "start_time": "2023-05-25T17:56:34.264Z"
   },
   {
    "duration": 51,
    "start_time": "2023-05-25T17:56:38.666Z"
   },
   {
    "duration": 17,
    "start_time": "2023-05-25T17:56:41.137Z"
   },
   {
    "duration": 310,
    "start_time": "2023-05-25T17:56:43.112Z"
   },
   {
    "duration": 67,
    "start_time": "2023-05-25T17:56:45.188Z"
   },
   {
    "duration": 2608,
    "start_time": "2023-05-25T17:56:47.393Z"
   },
   {
    "duration": 68,
    "start_time": "2023-05-25T17:56:50.003Z"
   },
   {
    "duration": 15,
    "start_time": "2023-05-25T17:56:50.167Z"
   },
   {
    "duration": 62,
    "start_time": "2023-05-25T17:56:53.164Z"
   },
   {
    "duration": 302,
    "start_time": "2023-05-25T17:56:53.783Z"
   },
   {
    "duration": 62,
    "start_time": "2023-05-25T17:57:01.923Z"
   },
   {
    "duration": 85,
    "start_time": "2023-05-25T17:57:04.379Z"
   },
   {
    "duration": 66,
    "start_time": "2023-05-25T17:57:06.619Z"
   },
   {
    "duration": 215,
    "start_time": "2023-05-25T17:57:09.148Z"
   },
   {
    "duration": 37,
    "start_time": "2023-05-25T17:57:14.319Z"
   },
   {
    "duration": 285,
    "start_time": "2023-05-25T17:57:15.327Z"
   },
   {
    "duration": 271,
    "start_time": "2023-05-25T17:57:28.127Z"
   },
   {
    "duration": 236,
    "start_time": "2023-05-25T17:57:32.336Z"
   },
   {
    "duration": 270,
    "start_time": "2023-05-25T17:57:34.402Z"
   },
   {
    "duration": 967,
    "start_time": "2023-05-25T17:57:40.956Z"
   },
   {
    "duration": 4,
    "start_time": "2023-05-25T17:57:44.728Z"
   },
   {
    "duration": 2236,
    "start_time": "2023-05-25T17:57:45.284Z"
   },
   {
    "duration": 32,
    "start_time": "2023-05-25T17:57:49.149Z"
   },
   {
    "duration": 31,
    "start_time": "2023-05-25T17:57:55.344Z"
   },
   {
    "duration": 81,
    "start_time": "2023-05-25T17:58:14.066Z"
   },
   {
    "duration": 253,
    "start_time": "2023-05-25T17:59:37.501Z"
   },
   {
    "duration": 245,
    "start_time": "2023-05-25T17:59:52.621Z"
   },
   {
    "duration": 240,
    "start_time": "2023-05-25T18:00:02.650Z"
   },
   {
    "duration": 77,
    "start_time": "2023-05-25T18:00:06.404Z"
   },
   {
    "duration": 255,
    "start_time": "2023-05-25T18:00:08.901Z"
   },
   {
    "duration": 236,
    "start_time": "2023-05-25T18:00:12.692Z"
   },
   {
    "duration": 278,
    "start_time": "2023-05-25T18:00:17.744Z"
   },
   {
    "duration": 21,
    "start_time": "2023-05-25T18:00:39.845Z"
   },
   {
    "duration": 288,
    "start_time": "2023-05-25T18:01:51.723Z"
   },
   {
    "duration": 312,
    "start_time": "2023-05-25T18:02:09.547Z"
   },
   {
    "duration": 243,
    "start_time": "2023-05-25T18:02:22.527Z"
   },
   {
    "duration": 70,
    "start_time": "2023-05-25T18:02:57.897Z"
   },
   {
    "duration": 68,
    "start_time": "2023-05-25T18:03:05.633Z"
   },
   {
    "duration": 28,
    "start_time": "2023-05-25T18:05:05.144Z"
   },
   {
    "duration": 7062,
    "start_time": "2023-05-25T18:05:12.436Z"
   },
   {
    "duration": 72,
    "start_time": "2023-05-25T18:05:27.537Z"
   },
   {
    "duration": 66,
    "start_time": "2023-05-25T18:05:37.532Z"
   },
   {
    "duration": 3,
    "start_time": "2023-05-25T18:09:58.378Z"
   },
   {
    "duration": 1408,
    "start_time": "2023-05-25T18:10:20.603Z"
   },
   {
    "duration": 878,
    "start_time": "2023-05-25T18:10:22.012Z"
   },
   {
    "duration": 127,
    "start_time": "2023-05-25T18:10:22.892Z"
   },
   {
    "duration": 118,
    "start_time": "2023-05-25T18:10:23.021Z"
   },
   {
    "duration": 257,
    "start_time": "2023-05-25T18:10:23.140Z"
   },
   {
    "duration": 242,
    "start_time": "2023-05-25T18:10:23.399Z"
   },
   {
    "duration": 97,
    "start_time": "2023-05-25T18:10:23.642Z"
   },
   {
    "duration": 32,
    "start_time": "2023-05-25T18:10:23.741Z"
   },
   {
    "duration": 300,
    "start_time": "2023-05-25T18:10:23.775Z"
   },
   {
    "duration": 346,
    "start_time": "2023-05-25T18:10:24.078Z"
   },
   {
    "duration": 85,
    "start_time": "2023-05-25T18:10:24.426Z"
   },
   {
    "duration": 3,
    "start_time": "2023-05-25T18:10:24.513Z"
   },
   {
    "duration": 1194,
    "start_time": "2023-05-25T18:10:24.517Z"
   },
   {
    "duration": 64,
    "start_time": "2023-05-25T18:10:25.712Z"
   },
   {
    "duration": 17,
    "start_time": "2023-05-25T18:10:25.778Z"
   },
   {
    "duration": 316,
    "start_time": "2023-05-25T18:10:25.797Z"
   },
   {
    "duration": 84,
    "start_time": "2023-05-25T18:10:26.115Z"
   },
   {
    "duration": 2698,
    "start_time": "2023-05-25T18:10:26.200Z"
   },
   {
    "duration": 65,
    "start_time": "2023-05-25T18:10:28.901Z"
   },
   {
    "duration": 15,
    "start_time": "2023-05-25T18:10:28.967Z"
   },
   {
    "duration": 77,
    "start_time": "2023-05-25T18:10:28.984Z"
   },
   {
    "duration": 286,
    "start_time": "2023-05-25T18:10:29.063Z"
   },
   {
    "duration": 59,
    "start_time": "2023-05-25T18:10:29.350Z"
   },
   {
    "duration": 96,
    "start_time": "2023-05-25T18:10:29.411Z"
   },
   {
    "duration": 75,
    "start_time": "2023-05-25T18:10:29.508Z"
   },
   {
    "duration": 210,
    "start_time": "2023-05-25T18:10:29.585Z"
   },
   {
    "duration": 32,
    "start_time": "2023-05-25T18:10:29.796Z"
   },
   {
    "duration": 262,
    "start_time": "2023-05-25T18:10:29.853Z"
   },
   {
    "duration": 496,
    "start_time": "2023-05-25T18:10:30.117Z"
   },
   {
    "duration": 245,
    "start_time": "2023-05-25T18:10:30.615Z"
   },
   {
    "duration": 302,
    "start_time": "2023-05-25T18:10:30.861Z"
   },
   {
    "duration": 4,
    "start_time": "2023-05-25T18:10:31.165Z"
   },
   {
    "duration": 2245,
    "start_time": "2023-05-25T18:10:31.170Z"
   },
   {
    "duration": 9,
    "start_time": "2023-05-25T18:10:56.309Z"
   },
   {
    "duration": 111,
    "start_time": "2023-05-25T18:11:19.557Z"
   },
   {
    "duration": 4,
    "start_time": "2023-05-25T18:11:37.205Z"
   },
   {
    "duration": 10,
    "start_time": "2023-05-25T18:11:38.288Z"
   },
   {
    "duration": 7183,
    "start_time": "2023-05-25T18:11:41.318Z"
   },
   {
    "duration": 21119,
    "start_time": "2023-05-25T18:13:17.936Z"
   },
   {
    "duration": 69,
    "start_time": "2023-05-25T18:13:47.989Z"
   },
   {
    "duration": 98,
    "start_time": "2023-05-25T18:13:56.000Z"
   },
   {
    "duration": 82,
    "start_time": "2023-05-25T18:14:38.538Z"
   },
   {
    "duration": 110,
    "start_time": "2023-05-25T18:14:41.060Z"
   },
   {
    "duration": 99,
    "start_time": "2023-05-25T18:14:49.866Z"
   },
   {
    "duration": 100,
    "start_time": "2023-05-25T18:14:52.723Z"
   },
   {
    "duration": 122,
    "start_time": "2023-05-25T18:14:56.648Z"
   },
   {
    "duration": 88,
    "start_time": "2023-05-25T18:15:18.676Z"
   },
   {
    "duration": 24,
    "start_time": "2023-05-25T18:15:50.586Z"
   },
   {
    "duration": 109,
    "start_time": "2023-05-25T18:16:55.247Z"
   },
   {
    "duration": 114,
    "start_time": "2023-05-25T18:17:04.060Z"
   },
   {
    "duration": 116,
    "start_time": "2023-05-25T18:17:10.785Z"
   },
   {
    "duration": 93,
    "start_time": "2023-05-25T18:17:13.524Z"
   },
   {
    "duration": 151,
    "start_time": "2023-05-25T18:17:19.457Z"
   },
   {
    "duration": 6,
    "start_time": "2023-05-25T18:17:52.608Z"
   },
   {
    "duration": 187,
    "start_time": "2023-05-25T18:17:54.906Z"
   },
   {
    "duration": 3153,
    "start_time": "2023-05-25T18:18:06.574Z"
   },
   {
    "duration": 5,
    "start_time": "2023-05-25T18:18:18.331Z"
   },
   {
    "duration": 44,
    "start_time": "2023-05-25T18:18:39.582Z"
   },
   {
    "duration": 31,
    "start_time": "2023-05-25T18:18:49.729Z"
   },
   {
    "duration": 191,
    "start_time": "2023-05-25T18:18:55.337Z"
   },
   {
    "duration": 48,
    "start_time": "2023-05-25T18:19:34.665Z"
   },
   {
    "duration": 206,
    "start_time": "2023-05-25T18:19:39.403Z"
   },
   {
    "duration": 207,
    "start_time": "2023-05-25T18:19:42.258Z"
   },
   {
    "duration": 43,
    "start_time": "2023-05-25T18:19:56.131Z"
   },
   {
    "duration": 42,
    "start_time": "2023-05-25T18:20:00.506Z"
   },
   {
    "duration": 45,
    "start_time": "2023-05-25T18:20:03.398Z"
   },
   {
    "duration": 51,
    "start_time": "2023-05-25T18:20:16.686Z"
   },
   {
    "duration": 774,
    "start_time": "2023-05-25T18:20:29.802Z"
   },
   {
    "duration": 4,
    "start_time": "2023-05-25T18:20:46.622Z"
   },
   {
    "duration": 51,
    "start_time": "2023-05-25T18:21:09.894Z"
   },
   {
    "duration": 349,
    "start_time": "2023-05-25T18:21:14.350Z"
   },
   {
    "duration": 45,
    "start_time": "2023-05-25T18:21:39.348Z"
   },
   {
    "duration": 155,
    "start_time": "2023-05-25T18:22:12.429Z"
   },
   {
    "duration": 366,
    "start_time": "2023-05-25T18:22:31.787Z"
   },
   {
    "duration": 103,
    "start_time": "2023-05-25T18:22:48.984Z"
   },
   {
    "duration": 39,
    "start_time": "2023-05-25T18:22:55.676Z"
   },
   {
    "duration": 60,
    "start_time": "2023-05-25T18:23:34.917Z"
   },
   {
    "duration": 110,
    "start_time": "2023-05-25T18:23:41.808Z"
   },
   {
    "duration": 156,
    "start_time": "2023-05-25T18:23:55.871Z"
   },
   {
    "duration": 66,
    "start_time": "2023-05-25T18:24:01.237Z"
   },
   {
    "duration": 56,
    "start_time": "2023-05-25T18:24:15.204Z"
   },
   {
    "duration": 54,
    "start_time": "2023-05-25T18:24:24.217Z"
   },
   {
    "duration": 38,
    "start_time": "2023-05-25T18:24:27.656Z"
   },
   {
    "duration": 8,
    "start_time": "2023-05-25T18:33:07.431Z"
   },
   {
    "duration": 11,
    "start_time": "2023-05-25T18:33:14.156Z"
   },
   {
    "duration": 9,
    "start_time": "2023-05-25T18:33:18.931Z"
   },
   {
    "duration": 9,
    "start_time": "2023-05-25T18:33:26.097Z"
   },
   {
    "duration": 3,
    "start_time": "2023-05-25T18:33:28.518Z"
   },
   {
    "duration": 6,
    "start_time": "2023-05-25T18:34:18.295Z"
   },
   {
    "duration": 3,
    "start_time": "2023-05-25T18:40:03.880Z"
   },
   {
    "duration": 2150,
    "start_time": "2023-05-25T18:40:42.151Z"
   },
   {
    "duration": 2088,
    "start_time": "2023-05-25T18:41:27.336Z"
   },
   {
    "duration": 54,
    "start_time": "2023-05-25T18:41:38.238Z"
   },
   {
    "duration": 2039,
    "start_time": "2023-05-25T18:41:40.964Z"
   },
   {
    "duration": 50,
    "start_time": "2023-05-25T18:41:56.397Z"
   },
   {
    "duration": 2128,
    "start_time": "2023-05-25T18:42:03.489Z"
   },
   {
    "duration": 2908,
    "start_time": "2023-05-25T18:42:14.872Z"
   },
   {
    "duration": 2208,
    "start_time": "2023-05-25T18:42:21.898Z"
   },
   {
    "duration": 2082,
    "start_time": "2023-05-25T18:42:25.431Z"
   },
   {
    "duration": 2096,
    "start_time": "2023-05-25T18:42:30.979Z"
   },
   {
    "duration": 2067,
    "start_time": "2023-05-25T18:43:21.764Z"
   },
   {
    "duration": 20171,
    "start_time": "2023-05-25T18:44:12.612Z"
   },
   {
    "duration": 3,
    "start_time": "2023-05-25T18:44:32.786Z"
   },
   {
    "duration": 68,
    "start_time": "2023-05-25T18:45:41.496Z"
   },
   {
    "duration": 72,
    "start_time": "2023-05-25T18:46:03.920Z"
   },
   {
    "duration": 5,
    "start_time": "2023-05-25T18:47:41.100Z"
   },
   {
    "duration": 6,
    "start_time": "2023-05-25T18:47:48.194Z"
   },
   {
    "duration": 4,
    "start_time": "2023-05-25T18:47:54.082Z"
   },
   {
    "duration": 8,
    "start_time": "2023-05-25T18:48:03.264Z"
   },
   {
    "duration": 5,
    "start_time": "2023-05-25T18:48:07.092Z"
   },
   {
    "duration": 18,
    "start_time": "2023-05-25T18:53:21.198Z"
   },
   {
    "duration": 13,
    "start_time": "2023-05-25T18:54:24.006Z"
   },
   {
    "duration": 15,
    "start_time": "2023-05-25T18:54:32.946Z"
   },
   {
    "duration": 13,
    "start_time": "2023-05-25T18:54:39.188Z"
   },
   {
    "duration": 4,
    "start_time": "2023-05-25T18:54:55.145Z"
   },
   {
    "duration": 721,
    "start_time": "2023-05-25T18:54:55.842Z"
   },
   {
    "duration": 86,
    "start_time": "2023-05-25T18:54:58.013Z"
   },
   {
    "duration": 126,
    "start_time": "2023-05-25T18:55:00.050Z"
   },
   {
    "duration": 243,
    "start_time": "2023-05-25T18:55:02.019Z"
   },
   {
    "duration": 105,
    "start_time": "2023-05-25T18:55:04.105Z"
   },
   {
    "duration": 14,
    "start_time": "2023-05-25T18:55:06.080Z"
   },
   {
    "duration": 18,
    "start_time": "2023-05-25T18:55:24.362Z"
   },
   {
    "duration": 45,
    "start_time": "2023-05-25T18:55:29.002Z"
   },
   {
    "duration": 18,
    "start_time": "2023-05-25T18:55:46.582Z"
   },
   {
    "duration": 213,
    "start_time": "2023-05-25T18:55:50.596Z"
   },
   {
    "duration": 277,
    "start_time": "2023-05-25T18:56:04.654Z"
   },
   {
    "duration": 76,
    "start_time": "2023-05-25T18:56:09.563Z"
   },
   {
    "duration": 6,
    "start_time": "2023-05-25T18:56:24.752Z"
   },
   {
    "duration": 1479,
    "start_time": "2023-05-25T18:56:25.300Z"
   },
   {
    "duration": 49,
    "start_time": "2023-05-25T18:56:47.880Z"
   },
   {
    "duration": 41,
    "start_time": "2023-05-25T18:57:00.487Z"
   },
   {
    "duration": 308,
    "start_time": "2023-05-25T18:57:50.517Z"
   },
   {
    "duration": 44,
    "start_time": "2023-05-25T18:58:27.972Z"
   },
   {
    "duration": 3,
    "start_time": "2023-05-25T18:59:43.309Z"
   },
   {
    "duration": 749,
    "start_time": "2023-05-25T18:59:44.123Z"
   },
   {
    "duration": 92,
    "start_time": "2023-05-25T18:59:45.896Z"
   },
   {
    "duration": 102,
    "start_time": "2023-05-25T18:59:49.326Z"
   },
   {
    "duration": 265,
    "start_time": "2023-05-25T18:59:51.239Z"
   },
   {
    "duration": 3,
    "start_time": "2023-05-25T18:59:56.786Z"
   },
   {
    "duration": 94,
    "start_time": "2023-05-25T19:00:01.297Z"
   },
   {
    "duration": 22,
    "start_time": "2023-05-25T19:00:03.656Z"
   },
   {
    "duration": 230,
    "start_time": "2023-05-25T19:00:04.846Z"
   },
   {
    "duration": 777,
    "start_time": "2023-05-25T19:00:24.810Z"
   },
   {
    "duration": 735,
    "start_time": "2023-05-25T19:00:27.197Z"
   },
   {
    "duration": 99,
    "start_time": "2023-05-25T19:00:27.934Z"
   },
   {
    "duration": 103,
    "start_time": "2023-05-25T19:00:28.036Z"
   },
   {
    "duration": 239,
    "start_time": "2023-05-25T19:00:29.585Z"
   },
   {
    "duration": 88,
    "start_time": "2023-05-25T19:00:31.951Z"
   },
   {
    "duration": 402,
    "start_time": "2023-05-25T19:00:34.395Z"
   },
   {
    "duration": 88,
    "start_time": "2023-05-25T19:01:09.513Z"
   },
   {
    "duration": 19,
    "start_time": "2023-05-25T19:01:13.544Z"
   },
   {
    "duration": 75,
    "start_time": "2023-05-25T19:01:15.077Z"
   },
   {
    "duration": 4,
    "start_time": "2023-05-25T19:01:18.480Z"
   },
   {
    "duration": 1203,
    "start_time": "2023-05-25T19:01:21.881Z"
   },
   {
    "duration": 85,
    "start_time": "2023-05-25T19:01:27.217Z"
   },
   {
    "duration": 49,
    "start_time": "2023-05-25T19:01:29.338Z"
   },
   {
    "duration": 38,
    "start_time": "2023-05-25T19:01:34.861Z"
   },
   {
    "duration": 35,
    "start_time": "2023-05-25T19:01:38.491Z"
   },
   {
    "duration": 33,
    "start_time": "2023-05-25T19:01:58.960Z"
   },
   {
    "duration": 289,
    "start_time": "2023-05-25T19:02:14.783Z"
   },
   {
    "duration": 63,
    "start_time": "2023-05-25T19:02:30.176Z"
   },
   {
    "duration": 3073,
    "start_time": "2023-05-25T19:02:36.216Z"
   },
   {
    "duration": 56,
    "start_time": "2023-05-25T19:02:41.182Z"
   },
   {
    "duration": 14,
    "start_time": "2023-05-25T19:02:42.940Z"
   },
   {
    "duration": 60,
    "start_time": "2023-05-25T19:02:44.805Z"
   },
   {
    "duration": 293,
    "start_time": "2023-05-25T19:02:46.387Z"
   },
   {
    "duration": 57,
    "start_time": "2023-05-25T19:02:48.729Z"
   },
   {
    "duration": 85,
    "start_time": "2023-05-25T19:02:52.020Z"
   },
   {
    "duration": 69,
    "start_time": "2023-05-25T19:02:54.524Z"
   },
   {
    "duration": 202,
    "start_time": "2023-05-25T19:03:00.178Z"
   },
   {
    "duration": 31,
    "start_time": "2023-05-25T19:03:02.542Z"
   },
   {
    "duration": 278,
    "start_time": "2023-05-25T19:03:04.193Z"
   },
   {
    "duration": 208,
    "start_time": "2023-05-25T19:03:10.742Z"
   },
   {
    "duration": 256,
    "start_time": "2023-05-25T19:03:12.586Z"
   },
   {
    "duration": 258,
    "start_time": "2023-05-25T19:03:14.439Z"
   },
   {
    "duration": 5,
    "start_time": "2023-05-25T19:03:17.176Z"
   },
   {
    "duration": 2200,
    "start_time": "2023-05-25T19:03:18.440Z"
   },
   {
    "duration": 4,
    "start_time": "2023-05-25T19:03:21.510Z"
   },
   {
    "duration": 20713,
    "start_time": "2023-05-25T19:03:24.134Z"
   },
   {
    "duration": 67,
    "start_time": "2023-05-25T19:03:44.850Z"
   },
   {
    "duration": 167,
    "start_time": "2023-05-25T19:04:03.001Z"
   },
   {
    "duration": 74,
    "start_time": "2023-05-25T19:04:35.013Z"
   },
   {
    "duration": 786,
    "start_time": "2023-05-25T19:05:24.521Z"
   },
   {
    "duration": 769,
    "start_time": "2023-05-25T19:05:30.030Z"
   },
   {
    "duration": 4,
    "start_time": "2023-05-25T19:05:41.944Z"
   },
   {
    "duration": 10,
    "start_time": "2023-05-25T19:05:56.385Z"
   },
   {
    "duration": 9,
    "start_time": "2023-05-25T19:06:00.639Z"
   },
   {
    "duration": 9,
    "start_time": "2023-05-25T19:06:06.073Z"
   },
   {
    "duration": 10,
    "start_time": "2023-05-25T19:06:13.320Z"
   },
   {
    "duration": 1415,
    "start_time": "2023-05-25T19:06:25.410Z"
   },
   {
    "duration": 836,
    "start_time": "2023-05-25T19:06:26.827Z"
   },
   {
    "duration": 133,
    "start_time": "2023-05-25T19:06:27.664Z"
   },
   {
    "duration": 112,
    "start_time": "2023-05-25T19:06:27.800Z"
   },
   {
    "duration": 241,
    "start_time": "2023-05-25T19:06:27.914Z"
   },
   {
    "duration": 455,
    "start_time": "2023-05-25T19:06:28.157Z"
   },
   {
    "duration": 554,
    "start_time": "2023-05-25T19:06:28.614Z"
   },
   {
    "duration": 2,
    "start_time": "2023-05-25T19:06:29.170Z"
   },
   {
    "duration": 108,
    "start_time": "2023-05-25T19:06:29.174Z"
   },
   {
    "duration": 19,
    "start_time": "2023-05-25T19:06:29.285Z"
   },
   {
    "duration": 89,
    "start_time": "2023-05-25T19:06:29.306Z"
   },
   {
    "duration": 4,
    "start_time": "2023-05-25T19:06:29.397Z"
   },
   {
    "duration": 1167,
    "start_time": "2023-05-25T19:06:29.403Z"
   },
   {
    "duration": 93,
    "start_time": "2023-05-25T19:06:30.572Z"
   },
   {
    "duration": 36,
    "start_time": "2023-05-25T19:06:30.666Z"
   },
   {
    "duration": 333,
    "start_time": "2023-05-25T19:06:30.703Z"
   },
   {
    "duration": 70,
    "start_time": "2023-05-25T19:06:31.038Z"
   },
   {
    "duration": 2778,
    "start_time": "2023-05-25T19:06:31.110Z"
   },
   {
    "duration": 62,
    "start_time": "2023-05-25T19:06:33.890Z"
   },
   {
    "duration": 15,
    "start_time": "2023-05-25T19:06:33.954Z"
   },
   {
    "duration": 63,
    "start_time": "2023-05-25T19:06:33.970Z"
   },
   {
    "duration": 365,
    "start_time": "2023-05-25T19:06:34.051Z"
   },
   {
    "duration": 88,
    "start_time": "2023-05-25T19:06:34.418Z"
   },
   {
    "duration": 117,
    "start_time": "2023-05-25T19:06:34.508Z"
   },
   {
    "duration": 79,
    "start_time": "2023-05-25T19:06:34.626Z"
   },
   {
    "duration": 213,
    "start_time": "2023-05-25T19:06:34.707Z"
   },
   {
    "duration": 39,
    "start_time": "2023-05-25T19:06:34.922Z"
   },
   {
    "duration": 551,
    "start_time": "2023-05-25T19:06:34.965Z"
   },
   {
    "duration": 235,
    "start_time": "2023-05-25T19:06:35.517Z"
   },
   {
    "duration": 280,
    "start_time": "2023-05-25T19:06:35.753Z"
   },
   {
    "duration": 270,
    "start_time": "2023-05-25T19:06:36.035Z"
   },
   {
    "duration": 6,
    "start_time": "2023-05-25T19:06:36.307Z"
   },
   {
    "duration": 2176,
    "start_time": "2023-05-25T19:06:36.315Z"
   },
   {
    "duration": 3,
    "start_time": "2023-05-25T19:06:38.493Z"
   },
   {
    "duration": 20072,
    "start_time": "2023-05-25T19:06:38.498Z"
   },
   {
    "duration": 167,
    "start_time": "2023-05-25T19:06:58.572Z"
   },
   {
    "duration": 74,
    "start_time": "2023-05-25T19:06:58.741Z"
   },
   {
    "duration": 4,
    "start_time": "2023-05-25T19:06:58.817Z"
   },
   {
    "duration": 5,
    "start_time": "2023-05-25T19:06:58.823Z"
   },
   {
    "duration": 553,
    "start_time": "2023-05-25T19:06:58.830Z"
   },
   {
    "duration": 152,
    "start_time": "2023-05-25T19:08:05.280Z"
   },
   {
    "duration": 69,
    "start_time": "2023-05-25T19:08:07.272Z"
   },
   {
    "duration": 4,
    "start_time": "2023-05-25T19:08:08.116Z"
   },
   {
    "duration": 3,
    "start_time": "2023-05-25T19:08:17.519Z"
   },
   {
    "duration": 1414,
    "start_time": "2023-05-25T19:10:11.819Z"
   },
   {
    "duration": 802,
    "start_time": "2023-05-25T19:10:13.235Z"
   },
   {
    "duration": 146,
    "start_time": "2023-05-25T19:10:14.039Z"
   },
   {
    "duration": 139,
    "start_time": "2023-05-25T19:10:14.187Z"
   },
   {
    "duration": 247,
    "start_time": "2023-05-25T19:10:14.328Z"
   },
   {
    "duration": 461,
    "start_time": "2023-05-25T19:10:14.577Z"
   },
   {
    "duration": 539,
    "start_time": "2023-05-25T19:10:15.039Z"
   },
   {
    "duration": 2,
    "start_time": "2023-05-25T19:10:15.580Z"
   },
   {
    "duration": 103,
    "start_time": "2023-05-25T19:10:15.584Z"
   },
   {
    "duration": 19,
    "start_time": "2023-05-25T19:10:15.689Z"
   },
   {
    "duration": 93,
    "start_time": "2023-05-25T19:10:15.709Z"
   },
   {
    "duration": 3,
    "start_time": "2023-05-25T19:10:15.804Z"
   },
   {
    "duration": 1182,
    "start_time": "2023-05-25T19:10:15.809Z"
   },
   {
    "duration": 96,
    "start_time": "2023-05-25T19:10:16.994Z"
   },
   {
    "duration": 41,
    "start_time": "2023-05-25T19:10:17.091Z"
   },
   {
    "duration": 324,
    "start_time": "2023-05-25T19:10:17.134Z"
   },
   {
    "duration": 67,
    "start_time": "2023-05-25T19:10:17.460Z"
   },
   {
    "duration": 2675,
    "start_time": "2023-05-25T19:10:17.528Z"
   },
   {
    "duration": 68,
    "start_time": "2023-05-25T19:10:20.205Z"
   },
   {
    "duration": 14,
    "start_time": "2023-05-25T19:10:20.275Z"
   },
   {
    "duration": 78,
    "start_time": "2023-05-25T19:10:20.291Z"
   },
   {
    "duration": 272,
    "start_time": "2023-05-25T19:10:20.371Z"
   },
   {
    "duration": 69,
    "start_time": "2023-05-25T19:10:20.645Z"
   },
   {
    "duration": 91,
    "start_time": "2023-05-25T19:10:20.715Z"
   },
   {
    "duration": 83,
    "start_time": "2023-05-25T19:10:20.808Z"
   },
   {
    "duration": 217,
    "start_time": "2023-05-25T19:10:20.892Z"
   },
   {
    "duration": 41,
    "start_time": "2023-05-25T19:10:21.110Z"
   },
   {
    "duration": 489,
    "start_time": "2023-05-25T19:10:21.153Z"
   },
   {
    "duration": 227,
    "start_time": "2023-05-25T19:10:21.643Z"
   },
   {
    "duration": 297,
    "start_time": "2023-05-25T19:10:21.872Z"
   },
   {
    "duration": 333,
    "start_time": "2023-05-25T19:10:22.171Z"
   },
   {
    "duration": 4,
    "start_time": "2023-05-25T19:10:22.507Z"
   },
   {
    "duration": 2342,
    "start_time": "2023-05-25T19:10:22.513Z"
   },
   {
    "duration": 3,
    "start_time": "2023-05-25T19:10:24.857Z"
   },
   {
    "duration": 20796,
    "start_time": "2023-05-25T19:10:45.344Z"
   },
   {
    "duration": 169,
    "start_time": "2023-05-25T19:11:06.142Z"
   },
   {
    "duration": 179,
    "start_time": "2023-05-25T19:11:15.279Z"
   },
   {
    "duration": 81,
    "start_time": "2023-05-25T19:11:17.422Z"
   },
   {
    "duration": 4,
    "start_time": "2023-05-25T19:11:23.015Z"
   },
   {
    "duration": 164,
    "start_time": "2023-05-25T19:11:38.053Z"
   },
   {
    "duration": 4,
    "start_time": "2023-05-25T19:11:45.350Z"
   },
   {
    "duration": 763,
    "start_time": "2023-05-25T19:11:45.873Z"
   },
   {
    "duration": 96,
    "start_time": "2023-05-25T19:11:46.638Z"
   },
   {
    "duration": 120,
    "start_time": "2023-05-25T19:11:46.736Z"
   },
   {
    "duration": 259,
    "start_time": "2023-05-25T19:11:46.859Z"
   },
   {
    "duration": 420,
    "start_time": "2023-05-25T19:11:47.120Z"
   },
   {
    "duration": 498,
    "start_time": "2023-05-25T19:11:47.542Z"
   },
   {
    "duration": 2,
    "start_time": "2023-05-25T19:11:48.042Z"
   },
   {
    "duration": 86,
    "start_time": "2023-05-25T19:11:48.050Z"
   },
   {
    "duration": 27,
    "start_time": "2023-05-25T19:11:48.137Z"
   },
   {
    "duration": 96,
    "start_time": "2023-05-25T19:11:48.165Z"
   },
   {
    "duration": 4,
    "start_time": "2023-05-25T19:11:48.506Z"
   },
   {
    "duration": 1161,
    "start_time": "2023-05-25T19:11:48.680Z"
   },
   {
    "duration": 78,
    "start_time": "2023-05-25T19:11:49.850Z"
   },
   {
    "duration": 49,
    "start_time": "2023-05-25T19:11:49.929Z"
   },
   {
    "duration": 285,
    "start_time": "2023-05-25T19:11:52.035Z"
   },
   {
    "duration": 61,
    "start_time": "2023-05-25T19:11:53.490Z"
   },
   {
    "duration": 2755,
    "start_time": "2023-05-25T19:12:01.216Z"
   },
   {
    "duration": 56,
    "start_time": "2023-05-25T19:12:03.973Z"
   },
   {
    "duration": 15,
    "start_time": "2023-05-25T19:12:06.520Z"
   },
   {
    "duration": 63,
    "start_time": "2023-05-25T19:12:13.304Z"
   },
   {
    "duration": 268,
    "start_time": "2023-05-25T19:12:31.800Z"
   },
   {
    "duration": 162,
    "start_time": "2023-05-25T19:14:25.521Z"
   },
   {
    "duration": 136,
    "start_time": "2023-05-25T19:14:36.494Z"
   },
   {
    "duration": 129,
    "start_time": "2023-05-25T19:14:39.849Z"
   },
   {
    "duration": 124,
    "start_time": "2023-05-25T19:14:42.239Z"
   },
   {
    "duration": 122,
    "start_time": "2023-05-25T19:14:45.478Z"
   },
   {
    "duration": 742,
    "start_time": "2023-05-25T19:14:53.151Z"
   },
   {
    "duration": 116,
    "start_time": "2023-05-25T19:15:19.088Z"
   },
   {
    "duration": 325,
    "start_time": "2023-05-25T19:15:23.946Z"
   },
   {
    "duration": 118,
    "start_time": "2023-05-25T19:15:39.815Z"
   },
   {
    "duration": 733,
    "start_time": "2023-05-25T19:15:55.725Z"
   },
   {
    "duration": 107,
    "start_time": "2023-05-25T19:16:05.880Z"
   },
   {
    "duration": 247,
    "start_time": "2023-05-25T19:16:11.003Z"
   },
   {
    "duration": 104,
    "start_time": "2023-05-25T19:16:21.575Z"
   },
   {
    "duration": 249,
    "start_time": "2023-05-25T19:16:41.671Z"
   },
   {
    "duration": 240,
    "start_time": "2023-05-25T19:16:46.835Z"
   },
   {
    "duration": 104,
    "start_time": "2023-05-25T19:17:02.902Z"
   },
   {
    "duration": 1337,
    "start_time": "2023-05-25T19:17:46.402Z"
   },
   {
    "duration": 800,
    "start_time": "2023-05-25T19:17:47.741Z"
   },
   {
    "duration": 129,
    "start_time": "2023-05-25T19:17:48.543Z"
   },
   {
    "duration": 114,
    "start_time": "2023-05-25T19:17:48.674Z"
   },
   {
    "duration": 233,
    "start_time": "2023-05-25T19:17:48.789Z"
   },
   {
    "duration": 447,
    "start_time": "2023-05-25T19:17:49.024Z"
   },
   {
    "duration": 527,
    "start_time": "2023-05-25T19:17:49.472Z"
   },
   {
    "duration": 2,
    "start_time": "2023-05-25T19:17:50.000Z"
   },
   {
    "duration": 100,
    "start_time": "2023-05-25T19:17:50.004Z"
   },
   {
    "duration": 19,
    "start_time": "2023-05-25T19:17:50.106Z"
   },
   {
    "duration": 91,
    "start_time": "2023-05-25T19:17:50.127Z"
   },
   {
    "duration": 4,
    "start_time": "2023-05-25T19:17:50.219Z"
   },
   {
    "duration": 1154,
    "start_time": "2023-05-25T19:17:50.225Z"
   },
   {
    "duration": 93,
    "start_time": "2023-05-25T19:17:51.382Z"
   },
   {
    "duration": 39,
    "start_time": "2023-05-25T19:17:51.476Z"
   },
   {
    "duration": 304,
    "start_time": "2023-05-25T19:17:51.517Z"
   },
   {
    "duration": 75,
    "start_time": "2023-05-25T19:17:51.824Z"
   },
   {
    "duration": 2720,
    "start_time": "2023-05-25T19:17:51.901Z"
   },
   {
    "duration": 65,
    "start_time": "2023-05-25T19:17:54.622Z"
   },
   {
    "duration": 14,
    "start_time": "2023-05-25T19:17:54.689Z"
   },
   {
    "duration": 7,
    "start_time": "2023-05-25T19:17:54.705Z"
   },
   {
    "duration": 269,
    "start_time": "2023-05-25T19:17:54.713Z"
   },
   {
    "duration": 55,
    "start_time": "2023-05-25T19:17:54.984Z"
   },
   {
    "duration": 76,
    "start_time": "2023-05-25T19:17:55.041Z"
   },
   {
    "duration": 74,
    "start_time": "2023-05-25T19:17:55.119Z"
   },
   {
    "duration": 195,
    "start_time": "2023-05-25T19:17:55.195Z"
   },
   {
    "duration": 31,
    "start_time": "2023-05-25T19:17:55.391Z"
   },
   {
    "duration": 500,
    "start_time": "2023-05-25T19:17:55.424Z"
   },
   {
    "duration": 203,
    "start_time": "2023-05-25T19:17:55.926Z"
   },
   {
    "duration": 251,
    "start_time": "2023-05-25T19:17:56.130Z"
   },
   {
    "duration": 236,
    "start_time": "2023-05-25T19:17:56.382Z"
   },
   {
    "duration": 3,
    "start_time": "2023-05-25T19:17:56.620Z"
   },
   {
    "duration": 3046,
    "start_time": "2023-05-25T19:17:56.625Z"
   },
   {
    "duration": 0,
    "start_time": "2023-05-25T19:17:59.672Z"
   },
   {
    "duration": 0,
    "start_time": "2023-05-25T19:17:59.673Z"
   },
   {
    "duration": 8,
    "start_time": "2023-05-25T19:18:39.079Z"
   },
   {
    "duration": 848,
    "start_time": "2023-05-25T19:18:48.648Z"
   },
   {
    "duration": 890,
    "start_time": "2023-05-25T19:19:18.913Z"
   },
   {
    "duration": 2150,
    "start_time": "2023-05-25T19:19:51.078Z"
   },
   {
    "duration": 9,
    "start_time": "2023-05-25T19:20:37.601Z"
   },
   {
    "duration": 36,
    "start_time": "2023-05-25T19:20:45.534Z"
   },
   {
    "duration": 43,
    "start_time": "2023-05-25T19:20:50.396Z"
   },
   {
    "duration": 42,
    "start_time": "2023-05-25T19:21:01.198Z"
   },
   {
    "duration": 44,
    "start_time": "2023-05-25T19:21:37.746Z"
   },
   {
    "duration": 3,
    "start_time": "2023-05-25T19:21:43.359Z"
   },
   {
    "duration": 23571,
    "start_time": "2023-05-25T19:21:44.672Z"
   },
   {
    "duration": 70,
    "start_time": "2023-05-25T19:22:14.797Z"
   },
   {
    "duration": 342,
    "start_time": "2023-05-25T19:23:16.849Z"
   },
   {
    "duration": 1435,
    "start_time": "2023-05-25T19:24:08.215Z"
   },
   {
    "duration": 834,
    "start_time": "2023-05-25T19:24:09.652Z"
   },
   {
    "duration": 131,
    "start_time": "2023-05-25T19:24:10.488Z"
   },
   {
    "duration": 110,
    "start_time": "2023-05-25T19:24:10.621Z"
   },
   {
    "duration": 246,
    "start_time": "2023-05-25T19:24:10.734Z"
   },
   {
    "duration": 460,
    "start_time": "2023-05-25T19:24:10.982Z"
   },
   {
    "duration": 530,
    "start_time": "2023-05-25T19:24:11.443Z"
   },
   {
    "duration": 2,
    "start_time": "2023-05-25T19:24:11.975Z"
   },
   {
    "duration": 100,
    "start_time": "2023-05-25T19:24:11.978Z"
   },
   {
    "duration": 18,
    "start_time": "2023-05-25T19:24:12.080Z"
   },
   {
    "duration": 93,
    "start_time": "2023-05-25T19:24:12.100Z"
   },
   {
    "duration": 3,
    "start_time": "2023-05-25T19:24:12.195Z"
   },
   {
    "duration": 1167,
    "start_time": "2023-05-25T19:24:12.200Z"
   },
   {
    "duration": 91,
    "start_time": "2023-05-25T19:24:13.369Z"
   },
   {
    "duration": 35,
    "start_time": "2023-05-25T19:24:13.462Z"
   },
   {
    "duration": 296,
    "start_time": "2023-05-25T19:24:13.499Z"
   },
   {
    "duration": 75,
    "start_time": "2023-05-25T19:24:13.797Z"
   },
   {
    "duration": 2643,
    "start_time": "2023-05-25T19:24:13.874Z"
   },
   {
    "duration": 63,
    "start_time": "2023-05-25T19:24:16.519Z"
   },
   {
    "duration": 14,
    "start_time": "2023-05-25T19:24:16.583Z"
   },
   {
    "duration": 283,
    "start_time": "2023-05-25T19:24:16.598Z"
   },
   {
    "duration": 67,
    "start_time": "2023-05-25T19:24:16.883Z"
   },
   {
    "duration": 71,
    "start_time": "2023-05-25T19:24:16.952Z"
   },
   {
    "duration": 75,
    "start_time": "2023-05-25T19:24:17.025Z"
   },
   {
    "duration": 206,
    "start_time": "2023-05-25T19:24:17.101Z"
   },
   {
    "duration": 28,
    "start_time": "2023-05-25T19:24:17.309Z"
   },
   {
    "duration": 502,
    "start_time": "2023-05-25T19:24:17.339Z"
   },
   {
    "duration": 211,
    "start_time": "2023-05-25T19:24:17.843Z"
   },
   {
    "duration": 268,
    "start_time": "2023-05-25T19:24:18.056Z"
   },
   {
    "duration": 247,
    "start_time": "2023-05-25T19:24:18.326Z"
   },
   {
    "duration": 3,
    "start_time": "2023-05-25T19:24:18.575Z"
   },
   {
    "duration": 2203,
    "start_time": "2023-05-25T19:24:18.580Z"
   },
   {
    "duration": 40,
    "start_time": "2023-05-25T19:24:20.785Z"
   },
   {
    "duration": 3,
    "start_time": "2023-05-25T19:24:20.826Z"
   },
   {
    "duration": 24030,
    "start_time": "2023-05-25T19:24:20.831Z"
   },
   {
    "duration": 71,
    "start_time": "2023-05-25T19:24:44.863Z"
   },
   {
    "duration": 183,
    "start_time": "2023-05-25T19:26:48.471Z"
   },
   {
    "duration": 77,
    "start_time": "2023-05-25T19:26:54.845Z"
   },
   {
    "duration": 163,
    "start_time": "2023-05-25T19:26:57.604Z"
   },
   {
    "duration": 174,
    "start_time": "2023-05-25T19:27:01.644Z"
   },
   {
    "duration": 181,
    "start_time": "2023-05-25T19:27:24.205Z"
   },
   {
    "duration": 4,
    "start_time": "2023-05-25T19:27:38.147Z"
   },
   {
    "duration": 4,
    "start_time": "2023-05-25T19:27:43.470Z"
   },
   {
    "duration": 4,
    "start_time": "2023-05-25T19:27:50.941Z"
   },
   {
    "duration": 78,
    "start_time": "2023-05-25T19:28:10.415Z"
   },
   {
    "duration": 3,
    "start_time": "2023-05-25T19:28:27.863Z"
   },
   {
    "duration": 1396,
    "start_time": "2023-05-25T19:28:36.916Z"
   },
   {
    "duration": 803,
    "start_time": "2023-05-25T19:28:38.313Z"
   },
   {
    "duration": 128,
    "start_time": "2023-05-25T19:28:40.523Z"
   },
   {
    "duration": 111,
    "start_time": "2023-05-25T19:28:49.918Z"
   },
   {
    "duration": 229,
    "start_time": "2023-05-25T19:28:55.430Z"
   },
   {
    "duration": 483,
    "start_time": "2023-05-25T19:28:59.020Z"
   },
   {
    "duration": 551,
    "start_time": "2023-05-25T19:29:02.028Z"
   },
   {
    "duration": 96,
    "start_time": "2023-05-25T19:29:06.196Z"
   },
   {
    "duration": 22,
    "start_time": "2023-05-25T19:29:14.011Z"
   },
   {
    "duration": 81,
    "start_time": "2023-05-25T19:29:16.642Z"
   },
   {
    "duration": 86,
    "start_time": "2023-05-25T19:29:26.876Z"
   },
   {
    "duration": 4,
    "start_time": "2023-05-25T19:29:36.279Z"
   },
   {
    "duration": 1175,
    "start_time": "2023-05-25T19:29:39.077Z"
   },
   {
    "duration": 4,
    "start_time": "2023-05-25T19:30:03.983Z"
   },
   {
    "duration": 809,
    "start_time": "2023-05-25T19:30:05.084Z"
   },
   {
    "duration": 90,
    "start_time": "2023-05-25T19:30:08.336Z"
   },
   {
    "duration": 106,
    "start_time": "2023-05-25T19:30:12.284Z"
   },
   {
    "duration": 244,
    "start_time": "2023-05-25T19:30:40.433Z"
   },
   {
    "duration": 396,
    "start_time": "2023-05-25T19:30:44.647Z"
   },
   {
    "duration": 513,
    "start_time": "2023-05-25T19:30:46.076Z"
   },
   {
    "duration": 90,
    "start_time": "2023-05-25T19:30:50.074Z"
   },
   {
    "duration": 18,
    "start_time": "2023-05-25T19:30:53.768Z"
   },
   {
    "duration": 79,
    "start_time": "2023-05-25T19:30:58.021Z"
   },
   {
    "duration": 94,
    "start_time": "2023-05-25T19:31:14.200Z"
   },
   {
    "duration": 4,
    "start_time": "2023-05-25T19:31:16.126Z"
   },
   {
    "duration": 1201,
    "start_time": "2023-05-25T19:31:17.583Z"
   },
   {
    "duration": 81,
    "start_time": "2023-05-25T19:31:25.403Z"
   },
   {
    "duration": 39,
    "start_time": "2023-05-25T19:31:31.659Z"
   },
   {
    "duration": 296,
    "start_time": "2023-05-25T19:31:38.302Z"
   },
   {
    "duration": 68,
    "start_time": "2023-05-25T19:31:44.971Z"
   },
   {
    "duration": 6,
    "start_time": "2023-05-25T19:32:08.985Z"
   },
   {
    "duration": 2640,
    "start_time": "2023-05-25T19:32:14.130Z"
   },
   {
    "duration": 56,
    "start_time": "2023-05-25T19:32:19.027Z"
   },
   {
    "duration": 15,
    "start_time": "2023-05-25T19:32:22.932Z"
   },
   {
    "duration": 283,
    "start_time": "2023-05-25T19:32:52.647Z"
   },
   {
    "duration": 4,
    "start_time": "2023-05-25T19:35:28.610Z"
   },
   {
    "duration": 713,
    "start_time": "2023-05-25T19:35:29.139Z"
   },
   {
    "duration": 106,
    "start_time": "2023-05-25T19:35:29.854Z"
   },
   {
    "duration": 112,
    "start_time": "2023-05-25T19:35:31.675Z"
   },
   {
    "duration": 238,
    "start_time": "2023-05-25T19:35:31.991Z"
   },
   {
    "duration": 387,
    "start_time": "2023-05-25T19:35:34.383Z"
   },
   {
    "duration": 488,
    "start_time": "2023-05-25T19:35:34.772Z"
   },
   {
    "duration": 2,
    "start_time": "2023-05-25T19:35:35.262Z"
   },
   {
    "duration": 95,
    "start_time": "2023-05-25T19:35:35.266Z"
   },
   {
    "duration": 17,
    "start_time": "2023-05-25T19:35:37.850Z"
   },
   {
    "duration": 74,
    "start_time": "2023-05-25T19:35:38.052Z"
   },
   {
    "duration": 5,
    "start_time": "2023-05-25T19:35:40.803Z"
   },
   {
    "duration": 1278,
    "start_time": "2023-05-25T19:35:41.091Z"
   },
   {
    "duration": 71,
    "start_time": "2023-05-25T19:35:44.722Z"
   },
   {
    "duration": 36,
    "start_time": "2023-05-25T19:35:45.736Z"
   },
   {
    "duration": 289,
    "start_time": "2023-05-25T19:35:48.169Z"
   },
   {
    "duration": 63,
    "start_time": "2023-05-25T19:35:49.412Z"
   },
   {
    "duration": 2644,
    "start_time": "2023-05-25T19:35:51.590Z"
   },
   {
    "duration": 65,
    "start_time": "2023-05-25T19:35:54.236Z"
   },
   {
    "duration": 15,
    "start_time": "2023-05-25T19:35:54.303Z"
   },
   {
    "duration": 270,
    "start_time": "2023-05-25T19:35:56.744Z"
   },
   {
    "duration": 60,
    "start_time": "2023-05-25T19:35:59.944Z"
   },
   {
    "duration": 76,
    "start_time": "2023-05-25T19:36:00.441Z"
   },
   {
    "duration": 64,
    "start_time": "2023-05-25T19:36:04.535Z"
   },
   {
    "duration": 192,
    "start_time": "2023-05-25T19:36:07.511Z"
   },
   {
    "duration": 31,
    "start_time": "2023-05-25T19:36:09.715Z"
   },
   {
    "duration": 259,
    "start_time": "2023-05-25T19:36:10.478Z"
   },
   {
    "duration": 197,
    "start_time": "2023-05-25T19:36:12.821Z"
   },
   {
    "duration": 536,
    "start_time": "2023-05-25T19:36:13.967Z"
   },
   {
    "duration": 219,
    "start_time": "2023-05-25T19:36:17.150Z"
   },
   {
    "duration": 4,
    "start_time": "2023-05-25T19:36:22.132Z"
   },
   {
    "duration": 2123,
    "start_time": "2023-05-25T19:36:24.249Z"
   },
   {
    "duration": 138,
    "start_time": "2023-05-25T19:36:28.522Z"
   },
   {
    "duration": 44,
    "start_time": "2023-05-25T19:36:46.667Z"
   },
   {
    "duration": 4,
    "start_time": "2023-05-25T19:36:58.860Z"
   },
   {
    "duration": 16,
    "start_time": "2023-05-25T19:37:01.504Z"
   },
   {
    "duration": 4,
    "start_time": "2023-05-25T19:39:36.015Z"
   },
   {
    "duration": 13,
    "start_time": "2023-05-25T19:39:36.673Z"
   },
   {
    "duration": 3,
    "start_time": "2023-05-25T19:39:40.800Z"
   },
   {
    "duration": 4,
    "start_time": "2023-05-25T19:39:44.369Z"
   },
   {
    "duration": 3,
    "start_time": "2023-05-25T19:39:46.288Z"
   },
   {
    "duration": 17,
    "start_time": "2023-05-25T19:39:46.655Z"
   },
   {
    "duration": 80,
    "start_time": "2023-05-25T19:40:03.448Z"
   },
   {
    "duration": 10,
    "start_time": "2023-05-25T19:40:07.406Z"
   },
   {
    "duration": 14,
    "start_time": "2023-05-25T19:40:32.755Z"
   },
   {
    "duration": 10,
    "start_time": "2023-05-25T19:40:36.641Z"
   },
   {
    "duration": 10,
    "start_time": "2023-05-25T19:40:41.017Z"
   },
   {
    "duration": 2183,
    "start_time": "2023-05-25T19:40:46.672Z"
   },
   {
    "duration": 8,
    "start_time": "2023-05-25T19:40:56.154Z"
   },
   {
    "duration": 13,
    "start_time": "2023-05-25T19:41:06.835Z"
   },
   {
    "duration": 5,
    "start_time": "2023-05-25T19:41:11.485Z"
   },
   {
    "duration": 4,
    "start_time": "2023-05-25T19:41:19.782Z"
   },
   {
    "duration": 3,
    "start_time": "2023-05-25T19:41:29.758Z"
   },
   {
    "duration": 5,
    "start_time": "2023-05-25T19:41:37.872Z"
   },
   {
    "duration": 18055,
    "start_time": "2023-05-25T19:41:38.586Z"
   },
   {
    "duration": 3747,
    "start_time": "2023-05-25T19:41:56.643Z"
   },
   {
    "duration": 63,
    "start_time": "2023-05-25T19:42:09.786Z"
   },
   {
    "duration": 23,
    "start_time": "2023-05-25T19:42:26.887Z"
   },
   {
    "duration": 130,
    "start_time": "2023-05-25T19:42:41.282Z"
   },
   {
    "duration": 296,
    "start_time": "2023-05-25T19:42:54.306Z"
   },
   {
    "duration": 4,
    "start_time": "2023-05-25T19:43:47.696Z"
   },
   {
    "duration": 708,
    "start_time": "2023-05-25T19:43:48.272Z"
   },
   {
    "duration": 111,
    "start_time": "2023-05-25T19:43:49.929Z"
   },
   {
    "duration": 114,
    "start_time": "2023-05-25T19:43:51.949Z"
   },
   {
    "duration": 238,
    "start_time": "2023-05-25T19:43:53.439Z"
   },
   {
    "duration": 440,
    "start_time": "2023-05-25T19:43:53.997Z"
   },
   {
    "duration": 479,
    "start_time": "2023-05-25T19:43:55.688Z"
   },
   {
    "duration": 2,
    "start_time": "2023-05-25T19:43:56.169Z"
   },
   {
    "duration": 84,
    "start_time": "2023-05-25T19:43:57.715Z"
   },
   {
    "duration": 19,
    "start_time": "2023-05-25T19:44:00.022Z"
   },
   {
    "duration": 85,
    "start_time": "2023-05-25T19:44:00.459Z"
   },
   {
    "duration": 3,
    "start_time": "2023-05-25T19:44:03.048Z"
   },
   {
    "duration": 1238,
    "start_time": "2023-05-25T19:44:04.064Z"
   },
   {
    "duration": 78,
    "start_time": "2023-05-25T19:44:12.964Z"
   },
   {
    "duration": 38,
    "start_time": "2023-05-25T19:44:15.527Z"
   },
   {
    "duration": 291,
    "start_time": "2023-05-25T19:44:16.683Z"
   },
   {
    "duration": 65,
    "start_time": "2023-05-25T19:44:19.122Z"
   },
   {
    "duration": 2557,
    "start_time": "2023-05-25T19:44:25.416Z"
   },
   {
    "duration": 53,
    "start_time": "2023-05-25T19:44:30.577Z"
   },
   {
    "duration": 18,
    "start_time": "2023-05-25T19:44:34.461Z"
   },
   {
    "duration": 258,
    "start_time": "2023-05-25T19:44:40.856Z"
   },
   {
    "duration": 75,
    "start_time": "2023-05-25T19:44:56.604Z"
   },
   {
    "duration": 77,
    "start_time": "2023-05-25T19:45:03.586Z"
   },
   {
    "duration": 202,
    "start_time": "2023-05-25T19:45:09.235Z"
   },
   {
    "duration": 32,
    "start_time": "2023-05-25T19:45:11.394Z"
   },
   {
    "duration": 449,
    "start_time": "2023-05-25T19:45:13.478Z"
   },
   {
    "duration": 210,
    "start_time": "2023-05-25T19:45:15.805Z"
   },
   {
    "duration": 263,
    "start_time": "2023-05-25T19:45:17.742Z"
   },
   {
    "duration": 240,
    "start_time": "2023-05-25T19:45:23.082Z"
   },
   {
    "duration": 3,
    "start_time": "2023-05-25T19:45:28.080Z"
   },
   {
    "duration": 2144,
    "start_time": "2023-05-25T19:45:29.245Z"
   },
   {
    "duration": 4219,
    "start_time": "2023-05-25T19:45:33.409Z"
   },
   {
    "duration": 3,
    "start_time": "2023-05-25T19:45:41.374Z"
   },
   {
    "duration": 20202,
    "start_time": "2023-05-25T19:45:44.365Z"
   },
   {
    "duration": 82,
    "start_time": "2023-05-25T19:46:04.569Z"
   },
   {
    "duration": 268,
    "start_time": "2023-05-25T19:46:27.213Z"
   },
   {
    "duration": 270,
    "start_time": "2023-05-25T19:46:45.049Z"
   },
   {
    "duration": 262,
    "start_time": "2023-05-25T19:46:53.774Z"
   },
   {
    "duration": 4197,
    "start_time": "2023-05-25T19:47:13.570Z"
   },
   {
    "duration": 283,
    "start_time": "2023-05-25T19:47:20.267Z"
   },
   {
    "duration": 270,
    "start_time": "2023-05-25T19:47:36.491Z"
   },
   {
    "duration": 297,
    "start_time": "2023-05-25T19:47:44.867Z"
   },
   {
    "duration": 233,
    "start_time": "2023-05-25T19:51:56.105Z"
   },
   {
    "duration": 4076,
    "start_time": "2023-05-25T19:52:48.492Z"
   },
   {
    "duration": 1388,
    "start_time": "2023-05-25T19:53:06.647Z"
   },
   {
    "duration": 819,
    "start_time": "2023-05-25T19:53:08.037Z"
   },
   {
    "duration": 132,
    "start_time": "2023-05-25T19:53:08.858Z"
   },
   {
    "duration": 146,
    "start_time": "2023-05-25T19:53:08.992Z"
   },
   {
    "duration": 285,
    "start_time": "2023-05-25T19:53:09.141Z"
   },
   {
    "duration": 459,
    "start_time": "2023-05-25T19:53:09.428Z"
   },
   {
    "duration": 549,
    "start_time": "2023-05-25T19:53:09.889Z"
   },
   {
    "duration": 2,
    "start_time": "2023-05-25T19:53:10.439Z"
   },
   {
    "duration": 108,
    "start_time": "2023-05-25T19:53:10.443Z"
   },
   {
    "duration": 19,
    "start_time": "2023-05-25T19:53:10.552Z"
   },
   {
    "duration": 88,
    "start_time": "2023-05-25T19:53:10.572Z"
   },
   {
    "duration": 3,
    "start_time": "2023-05-25T19:53:10.662Z"
   },
   {
    "duration": 1126,
    "start_time": "2023-05-25T19:53:10.666Z"
   },
   {
    "duration": 94,
    "start_time": "2023-05-25T19:53:11.796Z"
   },
   {
    "duration": 36,
    "start_time": "2023-05-25T19:53:11.892Z"
   },
   {
    "duration": 296,
    "start_time": "2023-05-25T19:53:11.930Z"
   },
   {
    "duration": 77,
    "start_time": "2023-05-25T19:53:12.228Z"
   },
   {
    "duration": 2652,
    "start_time": "2023-05-25T19:53:12.307Z"
   },
   {
    "duration": 58,
    "start_time": "2023-05-25T19:53:14.961Z"
   },
   {
    "duration": 30,
    "start_time": "2023-05-25T19:53:15.021Z"
   },
   {
    "duration": 266,
    "start_time": "2023-05-25T19:53:15.053Z"
   },
   {
    "duration": 4199,
    "start_time": "2023-05-25T19:53:15.322Z"
   },
   {
    "duration": 41,
    "start_time": "2023-05-25T19:53:27.846Z"
   },
   {
    "duration": 4107,
    "start_time": "2023-05-25T19:53:31.307Z"
   },
   {
    "duration": 268,
    "start_time": "2023-05-25T19:53:35.415Z"
   },
   {
    "duration": 497,
    "start_time": "2023-05-25T19:53:56.531Z"
   },
   {
    "duration": 291,
    "start_time": "2023-05-25T19:54:01.963Z"
   },
   {
    "duration": 278,
    "start_time": "2023-05-25T19:55:04.944Z"
   },
   {
    "duration": 268,
    "start_time": "2023-05-25T19:55:10.124Z"
   },
   {
    "duration": 272,
    "start_time": "2023-05-25T19:55:21.717Z"
   },
   {
    "duration": 252,
    "start_time": "2023-05-25T19:55:45.516Z"
   },
   {
    "duration": 61,
    "start_time": "2023-05-25T19:55:53.377Z"
   },
   {
    "duration": 82,
    "start_time": "2023-05-25T19:55:54.648Z"
   },
   {
    "duration": 86,
    "start_time": "2023-05-25T19:56:04.180Z"
   },
   {
    "duration": 292,
    "start_time": "2023-05-25T19:56:08.743Z"
   },
   {
    "duration": 32,
    "start_time": "2023-05-25T19:57:02.668Z"
   },
   {
    "duration": 259,
    "start_time": "2023-05-25T19:57:11.279Z"
   },
   {
    "duration": 216,
    "start_time": "2023-05-25T19:57:14.761Z"
   },
   {
    "duration": 269,
    "start_time": "2023-05-25T19:57:17.333Z"
   },
   {
    "duration": 3,
    "start_time": "2023-05-25T19:57:27.336Z"
   },
   {
    "duration": 2220,
    "start_time": "2023-05-25T19:57:29.415Z"
   },
   {
    "duration": 4,
    "start_time": "2023-05-25T19:57:38.013Z"
   },
   {
    "duration": 6275,
    "start_time": "2023-05-25T19:57:40.932Z"
   },
   {
    "duration": 1529,
    "start_time": "2023-05-25T19:58:16.572Z"
   },
   {
    "duration": 870,
    "start_time": "2023-05-25T19:58:18.103Z"
   },
   {
    "duration": 136,
    "start_time": "2023-05-25T19:58:18.975Z"
   },
   {
    "duration": 109,
    "start_time": "2023-05-25T19:58:19.112Z"
   },
   {
    "duration": 267,
    "start_time": "2023-05-25T19:58:19.226Z"
   },
   {
    "duration": 474,
    "start_time": "2023-05-25T19:58:19.495Z"
   },
   {
    "duration": 591,
    "start_time": "2023-05-25T19:58:19.971Z"
   },
   {
    "duration": 2,
    "start_time": "2023-05-25T19:58:20.564Z"
   },
   {
    "duration": 110,
    "start_time": "2023-05-25T19:58:20.568Z"
   },
   {
    "duration": 18,
    "start_time": "2023-05-25T19:58:20.680Z"
   },
   {
    "duration": 99,
    "start_time": "2023-05-25T19:58:20.699Z"
   },
   {
    "duration": 3,
    "start_time": "2023-05-25T19:58:20.800Z"
   },
   {
    "duration": 1283,
    "start_time": "2023-05-25T19:58:20.805Z"
   },
   {
    "duration": 97,
    "start_time": "2023-05-25T19:58:22.090Z"
   },
   {
    "duration": 37,
    "start_time": "2023-05-25T19:58:22.189Z"
   },
   {
    "duration": 390,
    "start_time": "2023-05-25T19:58:22.228Z"
   },
   {
    "duration": 70,
    "start_time": "2023-05-25T19:58:22.620Z"
   },
   {
    "duration": 3030,
    "start_time": "2023-05-25T19:58:22.691Z"
   },
   {
    "duration": 72,
    "start_time": "2023-05-25T19:58:25.723Z"
   },
   {
    "duration": 14,
    "start_time": "2023-05-25T19:58:25.797Z"
   },
   {
    "duration": 262,
    "start_time": "2023-05-25T19:58:25.813Z"
   },
   {
    "duration": 41,
    "start_time": "2023-05-25T19:58:26.076Z"
   },
   {
    "duration": 4551,
    "start_time": "2023-05-25T19:58:26.118Z"
   },
   {
    "duration": 296,
    "start_time": "2023-05-25T19:58:30.671Z"
   },
   {
    "duration": 58,
    "start_time": "2023-05-25T19:58:30.968Z"
   },
   {
    "duration": 103,
    "start_time": "2023-05-25T19:58:31.027Z"
   },
   {
    "duration": 87,
    "start_time": "2023-05-25T19:58:31.132Z"
   },
   {
    "duration": 230,
    "start_time": "2023-05-25T19:58:31.221Z"
   },
   {
    "duration": 36,
    "start_time": "2023-05-25T19:58:31.453Z"
   },
   {
    "duration": 560,
    "start_time": "2023-05-25T19:58:31.490Z"
   },
   {
    "duration": 235,
    "start_time": "2023-05-25T19:58:32.053Z"
   },
   {
    "duration": 292,
    "start_time": "2023-05-25T19:58:32.290Z"
   },
   {
    "duration": 3,
    "start_time": "2023-05-25T19:58:32.584Z"
   },
   {
    "duration": 2285,
    "start_time": "2023-05-25T19:58:32.588Z"
   },
   {
    "duration": 3,
    "start_time": "2023-05-25T19:58:34.874Z"
   },
   {
    "duration": 6233,
    "start_time": "2023-05-25T19:58:56.814Z"
   },
   {
    "duration": 8,
    "start_time": "2023-05-25T20:00:11.186Z"
   },
   {
    "duration": 733,
    "start_time": "2023-05-25T20:00:21.515Z"
   },
   {
    "duration": 4,
    "start_time": "2023-05-25T20:00:47.175Z"
   },
   {
    "duration": 11,
    "start_time": "2023-05-25T20:01:01.528Z"
   },
   {
    "duration": 9,
    "start_time": "2023-05-25T20:01:05.009Z"
   },
   {
    "duration": 7,
    "start_time": "2023-05-25T20:01:09.719Z"
   },
   {
    "duration": 6,
    "start_time": "2023-05-25T20:02:06.444Z"
   },
   {
    "duration": 6,
    "start_time": "2023-05-25T20:02:45.228Z"
   },
   {
    "duration": 20,
    "start_time": "2023-05-25T20:03:13.965Z"
   },
   {
    "duration": 23,
    "start_time": "2023-05-25T20:03:19.587Z"
   },
   {
    "duration": 4,
    "start_time": "2023-05-25T20:03:38.263Z"
   },
   {
    "duration": 714,
    "start_time": "2023-05-25T20:03:38.808Z"
   },
   {
    "duration": 64,
    "start_time": "2023-05-25T20:03:39.642Z"
   },
   {
    "duration": 29,
    "start_time": "2023-05-25T20:03:45.277Z"
   },
   {
    "duration": 3,
    "start_time": "2023-05-25T20:04:26.465Z"
   },
   {
    "duration": 713,
    "start_time": "2023-05-25T20:04:27.177Z"
   },
   {
    "duration": 120,
    "start_time": "2023-05-25T20:04:27.891Z"
   },
   {
    "duration": 108,
    "start_time": "2023-05-25T20:04:28.012Z"
   },
   {
    "duration": 251,
    "start_time": "2023-05-25T20:04:28.122Z"
   },
   {
    "duration": 383,
    "start_time": "2023-05-25T20:04:28.469Z"
   },
   {
    "duration": 474,
    "start_time": "2023-05-25T20:04:28.854Z"
   },
   {
    "duration": 2,
    "start_time": "2023-05-25T20:04:29.330Z"
   },
   {
    "duration": 84,
    "start_time": "2023-05-25T20:04:29.370Z"
   },
   {
    "duration": 18,
    "start_time": "2023-05-25T20:04:29.795Z"
   },
   {
    "duration": 77,
    "start_time": "2023-05-25T20:04:29.959Z"
   },
   {
    "duration": 4,
    "start_time": "2023-05-25T20:04:32.452Z"
   },
   {
    "duration": 1149,
    "start_time": "2023-05-25T20:04:32.674Z"
   },
   {
    "duration": 77,
    "start_time": "2023-05-25T20:04:36.572Z"
   },
   {
    "duration": 37,
    "start_time": "2023-05-25T20:04:38.898Z"
   },
   {
    "duration": 286,
    "start_time": "2023-05-25T20:04:40.287Z"
   },
   {
    "duration": 45,
    "start_time": "2023-05-25T20:04:42.760Z"
   },
   {
    "duration": 2576,
    "start_time": "2023-05-25T20:04:44.926Z"
   },
   {
    "duration": 56,
    "start_time": "2023-05-25T20:04:59.725Z"
   },
   {
    "duration": 77,
    "start_time": "2023-05-25T20:05:00.974Z"
   },
   {
    "duration": 3,
    "start_time": "2023-05-25T20:05:47.572Z"
   },
   {
    "duration": 3,
    "start_time": "2023-05-25T20:05:49.701Z"
   },
   {
    "duration": 726,
    "start_time": "2023-05-25T20:05:50.463Z"
   },
   {
    "duration": 119,
    "start_time": "2023-05-25T20:05:51.191Z"
   },
   {
    "duration": 106,
    "start_time": "2023-05-25T20:05:53.273Z"
   },
   {
    "duration": 234,
    "start_time": "2023-05-25T20:05:53.532Z"
   },
   {
    "duration": 385,
    "start_time": "2023-05-25T20:05:54.424Z"
   },
   {
    "duration": 472,
    "start_time": "2023-05-25T20:05:54.838Z"
   },
   {
    "duration": 2,
    "start_time": "2023-05-25T20:05:55.560Z"
   },
   {
    "duration": 85,
    "start_time": "2023-05-25T20:05:56.187Z"
   },
   {
    "duration": 22,
    "start_time": "2023-05-25T20:05:58.257Z"
   },
   {
    "duration": 76,
    "start_time": "2023-05-25T20:05:58.565Z"
   },
   {
    "duration": 3,
    "start_time": "2023-05-25T20:06:00.869Z"
   },
   {
    "duration": 1360,
    "start_time": "2023-05-25T20:06:02.540Z"
   },
   {
    "duration": 75,
    "start_time": "2023-05-25T20:06:07.452Z"
   },
   {
    "duration": 36,
    "start_time": "2023-05-25T20:06:08.589Z"
   },
   {
    "duration": 351,
    "start_time": "2023-05-25T20:06:23.908Z"
   },
   {
    "duration": 44,
    "start_time": "2023-05-25T20:06:27.442Z"
   },
   {
    "duration": 2612,
    "start_time": "2023-05-25T20:06:37.678Z"
   },
   {
    "duration": 63,
    "start_time": "2023-05-25T20:06:44.189Z"
   },
   {
    "duration": 15,
    "start_time": "2023-05-25T20:06:44.739Z"
   },
   {
    "duration": 256,
    "start_time": "2023-05-25T20:07:02.995Z"
   },
   {
    "duration": 40,
    "start_time": "2023-05-25T20:07:06.368Z"
   },
   {
    "duration": 4036,
    "start_time": "2023-05-25T20:07:08.508Z"
   },
   {
    "duration": 274,
    "start_time": "2023-05-25T20:07:12.546Z"
   },
   {
    "duration": 69,
    "start_time": "2023-05-25T20:07:12.821Z"
   },
   {
    "duration": 84,
    "start_time": "2023-05-25T20:07:12.892Z"
   },
   {
    "duration": 75,
    "start_time": "2023-05-25T20:07:15.715Z"
   },
   {
    "duration": 221,
    "start_time": "2023-05-25T20:07:18.448Z"
   },
   {
    "duration": 32,
    "start_time": "2023-05-25T20:07:21.033Z"
   },
   {
    "duration": 257,
    "start_time": "2023-05-25T20:07:23.344Z"
   },
   {
    "duration": 214,
    "start_time": "2023-05-25T20:07:26.140Z"
   },
   {
    "duration": 265,
    "start_time": "2023-05-25T20:07:27.445Z"
   },
   {
    "duration": 4,
    "start_time": "2023-05-25T20:07:31.156Z"
   },
   {
    "duration": 2408,
    "start_time": "2023-05-25T20:07:36.141Z"
   },
   {
    "duration": 280,
    "start_time": "2023-05-25T20:08:14.045Z"
   },
   {
    "duration": 6,
    "start_time": "2023-05-25T20:08:17.332Z"
   },
   {
    "duration": 20,
    "start_time": "2023-05-25T20:08:25.457Z"
   },
   {
    "duration": 19725,
    "start_time": "2023-05-25T20:08:31.160Z"
   },
   {
    "duration": 71,
    "start_time": "2023-05-25T20:08:52.659Z"
   },
   {
    "duration": 79,
    "start_time": "2023-05-25T20:08:59.844Z"
   },
   {
    "duration": 153,
    "start_time": "2023-05-25T20:11:19.987Z"
   },
   {
    "duration": 162,
    "start_time": "2023-05-25T20:11:26.724Z"
   },
   {
    "duration": 22,
    "start_time": "2023-05-25T20:11:38.246Z"
   },
   {
    "duration": 77,
    "start_time": "2023-05-25T20:11:41.689Z"
   },
   {
    "duration": 68,
    "start_time": "2023-05-25T20:11:50.671Z"
   },
   {
    "duration": 157,
    "start_time": "2023-05-25T20:11:56.085Z"
   },
   {
    "duration": 172,
    "start_time": "2023-05-25T20:12:01.211Z"
   },
   {
    "duration": 154,
    "start_time": "2023-05-25T20:14:49.244Z"
   },
   {
    "duration": 76,
    "start_time": "2023-05-25T20:14:58.398Z"
   },
   {
    "duration": 77,
    "start_time": "2023-05-25T20:15:08.258Z"
   },
   {
    "duration": 17,
    "start_time": "2023-05-25T20:16:03.502Z"
   },
   {
    "duration": 68,
    "start_time": "2023-05-25T20:16:07.176Z"
   },
   {
    "duration": 12,
    "start_time": "2023-05-25T20:16:15.560Z"
   },
   {
    "duration": 70,
    "start_time": "2023-05-25T20:16:17.229Z"
   },
   {
    "duration": 44,
    "start_time": "2023-05-25T20:17:24.489Z"
   },
   {
    "duration": 43,
    "start_time": "2023-05-25T20:17:46.588Z"
   },
   {
    "duration": 69,
    "start_time": "2023-05-25T20:17:47.876Z"
   },
   {
    "duration": 107,
    "start_time": "2023-05-25T20:17:55.964Z"
   },
   {
    "duration": 72,
    "start_time": "2023-05-25T20:18:04.975Z"
   },
   {
    "duration": 4,
    "start_time": "2023-05-25T20:18:24.832Z"
   },
   {
    "duration": 3,
    "start_time": "2023-05-25T20:18:49.721Z"
   },
   {
    "duration": 5,
    "start_time": "2023-05-25T20:18:54.190Z"
   },
   {
    "duration": 3,
    "start_time": "2023-05-25T20:19:03.871Z"
   },
   {
    "duration": 9,
    "start_time": "2023-05-25T20:19:15.405Z"
   },
   {
    "duration": 9,
    "start_time": "2023-05-25T20:19:17.719Z"
   },
   {
    "duration": 10,
    "start_time": "2023-05-25T20:19:20.162Z"
   },
   {
    "duration": 3,
    "start_time": "2023-05-25T20:19:24.003Z"
   },
   {
    "duration": 10,
    "start_time": "2023-05-25T20:19:48.059Z"
   },
   {
    "duration": 9,
    "start_time": "2023-05-25T20:19:50.086Z"
   },
   {
    "duration": 4,
    "start_time": "2023-05-25T20:19:58.940Z"
   },
   {
    "duration": 3,
    "start_time": "2023-05-25T20:20:02.299Z"
   },
   {
    "duration": 3,
    "start_time": "2023-05-25T20:20:36.741Z"
   },
   {
    "duration": 710,
    "start_time": "2023-05-25T20:22:22.995Z"
   },
   {
    "duration": 610,
    "start_time": "2023-05-25T20:22:35.231Z"
   },
   {
    "duration": 571,
    "start_time": "2023-05-25T20:23:06.619Z"
   },
   {
    "duration": 592,
    "start_time": "2023-05-25T20:23:19.516Z"
   },
   {
    "duration": 24,
    "start_time": "2023-05-25T20:32:19.258Z"
   },
   {
    "duration": 3,
    "start_time": "2023-05-25T20:32:53.872Z"
   },
   {
    "duration": 774,
    "start_time": "2023-05-25T20:32:53.877Z"
   },
   {
    "duration": 119,
    "start_time": "2023-05-25T20:32:54.653Z"
   },
   {
    "duration": 114,
    "start_time": "2023-05-25T20:32:54.774Z"
   },
   {
    "duration": 253,
    "start_time": "2023-05-25T20:32:54.891Z"
   },
   {
    "duration": 370,
    "start_time": "2023-05-25T20:32:55.146Z"
   },
   {
    "duration": 475,
    "start_time": "2023-05-25T20:32:55.518Z"
   },
   {
    "duration": 94,
    "start_time": "2023-05-25T20:32:55.995Z"
   },
   {
    "duration": 18,
    "start_time": "2023-05-25T20:32:56.092Z"
   },
   {
    "duration": 91,
    "start_time": "2023-05-25T20:32:56.112Z"
   },
   {
    "duration": 3,
    "start_time": "2023-05-25T20:32:56.205Z"
   },
   {
    "duration": 1241,
    "start_time": "2023-05-25T20:32:56.209Z"
   },
   {
    "duration": 82,
    "start_time": "2023-05-25T20:32:57.452Z"
   },
   {
    "duration": 37,
    "start_time": "2023-05-25T20:32:57.554Z"
   },
   {
    "duration": 292,
    "start_time": "2023-05-25T20:32:57.593Z"
   },
   {
    "duration": 67,
    "start_time": "2023-05-25T20:32:57.887Z"
   },
   {
    "duration": 2737,
    "start_time": "2023-05-25T20:32:57.956Z"
   },
   {
    "duration": 60,
    "start_time": "2023-05-25T20:33:00.696Z"
   },
   {
    "duration": 14,
    "start_time": "2023-05-25T20:33:00.758Z"
   },
   {
    "duration": 246,
    "start_time": "2023-05-25T20:33:00.773Z"
   },
   {
    "duration": 51,
    "start_time": "2023-05-25T20:33:01.021Z"
   },
   {
    "duration": 4123,
    "start_time": "2023-05-25T20:33:01.074Z"
   },
   {
    "duration": 261,
    "start_time": "2023-05-25T20:33:05.199Z"
   },
   {
    "duration": 58,
    "start_time": "2023-05-25T20:33:05.462Z"
   },
   {
    "duration": 94,
    "start_time": "2023-05-25T20:33:05.522Z"
   },
   {
    "duration": 73,
    "start_time": "2023-05-25T20:33:05.618Z"
   },
   {
    "duration": 492,
    "start_time": "2023-05-25T20:33:05.693Z"
   },
   {
    "duration": 30,
    "start_time": "2023-05-25T20:33:06.187Z"
   },
   {
    "duration": 269,
    "start_time": "2023-05-25T20:33:06.219Z"
   },
   {
    "duration": 212,
    "start_time": "2023-05-25T20:33:06.491Z"
   },
   {
    "duration": 276,
    "start_time": "2023-05-25T20:33:06.705Z"
   },
   {
    "duration": 4,
    "start_time": "2023-05-25T20:33:06.983Z"
   },
   {
    "duration": 2097,
    "start_time": "2023-05-25T20:33:06.989Z"
   },
   {
    "duration": 223,
    "start_time": "2023-05-25T20:33:09.088Z"
   },
   {
    "duration": 18878,
    "start_time": "2023-05-25T20:33:09.312Z"
   },
   {
    "duration": 122,
    "start_time": "2023-05-25T20:33:28.192Z"
   },
   {
    "duration": 83,
    "start_time": "2023-05-25T20:33:28.316Z"
   },
   {
    "duration": 3,
    "start_time": "2023-05-25T20:33:28.401Z"
   },
   {
    "duration": 25,
    "start_time": "2023-05-25T20:33:28.406Z"
   },
   {
    "duration": 19,
    "start_time": "2023-05-25T20:34:06.769Z"
   },
   {
    "duration": 36,
    "start_time": "2023-05-25T20:34:10.644Z"
   },
   {
    "duration": 13,
    "start_time": "2023-05-25T20:36:47.543Z"
   },
   {
    "duration": 1391,
    "start_time": "2023-05-25T20:37:02.522Z"
   },
   {
    "duration": 857,
    "start_time": "2023-05-25T20:37:03.915Z"
   },
   {
    "duration": 135,
    "start_time": "2023-05-25T20:37:04.774Z"
   },
   {
    "duration": 123,
    "start_time": "2023-05-25T20:37:04.910Z"
   },
   {
    "duration": 243,
    "start_time": "2023-05-25T20:37:05.035Z"
   },
   {
    "duration": 448,
    "start_time": "2023-05-25T20:37:05.279Z"
   },
   {
    "duration": 538,
    "start_time": "2023-05-25T20:37:05.729Z"
   },
   {
    "duration": 94,
    "start_time": "2023-05-25T20:37:06.268Z"
   },
   {
    "duration": 16,
    "start_time": "2023-05-25T20:37:06.364Z"
   },
   {
    "duration": 84,
    "start_time": "2023-05-25T20:37:06.382Z"
   },
   {
    "duration": 5,
    "start_time": "2023-05-25T20:37:06.468Z"
   },
   {
    "duration": 1147,
    "start_time": "2023-05-25T20:37:06.474Z"
   },
   {
    "duration": 99,
    "start_time": "2023-05-25T20:37:07.622Z"
   },
   {
    "duration": 795,
    "start_time": "2023-05-25T20:37:07.725Z"
   },
   {
    "duration": 0,
    "start_time": "2023-05-25T20:37:08.522Z"
   },
   {
    "duration": 0,
    "start_time": "2023-05-25T20:37:08.523Z"
   },
   {
    "duration": 0,
    "start_time": "2023-05-25T20:37:08.524Z"
   },
   {
    "duration": 0,
    "start_time": "2023-05-25T20:37:08.525Z"
   },
   {
    "duration": 0,
    "start_time": "2023-05-25T20:37:08.526Z"
   },
   {
    "duration": 0,
    "start_time": "2023-05-25T20:37:08.527Z"
   },
   {
    "duration": 0,
    "start_time": "2023-05-25T20:37:08.528Z"
   },
   {
    "duration": 0,
    "start_time": "2023-05-25T20:37:08.529Z"
   },
   {
    "duration": 0,
    "start_time": "2023-05-25T20:37:08.530Z"
   },
   {
    "duration": 0,
    "start_time": "2023-05-25T20:37:08.532Z"
   },
   {
    "duration": 0,
    "start_time": "2023-05-25T20:37:08.533Z"
   },
   {
    "duration": 0,
    "start_time": "2023-05-25T20:37:08.534Z"
   },
   {
    "duration": 0,
    "start_time": "2023-05-25T20:37:08.535Z"
   },
   {
    "duration": 0,
    "start_time": "2023-05-25T20:37:08.536Z"
   },
   {
    "duration": 0,
    "start_time": "2023-05-25T20:37:08.537Z"
   },
   {
    "duration": 0,
    "start_time": "2023-05-25T20:37:08.538Z"
   },
   {
    "duration": 0,
    "start_time": "2023-05-25T20:37:08.539Z"
   },
   {
    "duration": 0,
    "start_time": "2023-05-25T20:37:08.540Z"
   },
   {
    "duration": 0,
    "start_time": "2023-05-25T20:37:08.541Z"
   },
   {
    "duration": 0,
    "start_time": "2023-05-25T20:37:08.542Z"
   },
   {
    "duration": 0,
    "start_time": "2023-05-25T20:37:08.543Z"
   },
   {
    "duration": 0,
    "start_time": "2023-05-25T20:37:08.544Z"
   },
   {
    "duration": 0,
    "start_time": "2023-05-25T20:37:08.545Z"
   },
   {
    "duration": 0,
    "start_time": "2023-05-25T20:37:08.546Z"
   },
   {
    "duration": 0,
    "start_time": "2023-05-25T20:37:08.548Z"
   },
   {
    "duration": 710,
    "start_time": "2023-05-25T20:38:26.259Z"
   },
   {
    "duration": 1349,
    "start_time": "2023-05-25T20:38:34.362Z"
   },
   {
    "duration": 772,
    "start_time": "2023-05-25T20:38:35.713Z"
   },
   {
    "duration": 133,
    "start_time": "2023-05-25T20:38:36.486Z"
   },
   {
    "duration": 116,
    "start_time": "2023-05-25T20:38:36.621Z"
   },
   {
    "duration": 241,
    "start_time": "2023-05-25T20:38:36.739Z"
   },
   {
    "duration": 431,
    "start_time": "2023-05-25T20:38:36.982Z"
   },
   {
    "duration": 526,
    "start_time": "2023-05-25T20:38:37.415Z"
   },
   {
    "duration": 90,
    "start_time": "2023-05-25T20:38:37.943Z"
   },
   {
    "duration": 24,
    "start_time": "2023-05-25T20:38:38.035Z"
   },
   {
    "duration": 75,
    "start_time": "2023-05-25T20:38:38.061Z"
   },
   {
    "duration": 15,
    "start_time": "2023-05-25T20:38:38.137Z"
   },
   {
    "duration": 1137,
    "start_time": "2023-05-25T20:38:38.154Z"
   },
   {
    "duration": 96,
    "start_time": "2023-05-25T20:38:39.293Z"
   },
   {
    "duration": 38,
    "start_time": "2023-05-25T20:38:39.391Z"
   },
   {
    "duration": 292,
    "start_time": "2023-05-25T20:38:39.430Z"
   },
   {
    "duration": 76,
    "start_time": "2023-05-25T20:38:39.724Z"
   },
   {
    "duration": 2523,
    "start_time": "2023-05-25T20:38:39.802Z"
   },
   {
    "duration": 57,
    "start_time": "2023-05-25T20:38:42.327Z"
   },
   {
    "duration": 15,
    "start_time": "2023-05-25T20:38:42.385Z"
   },
   {
    "duration": 259,
    "start_time": "2023-05-25T20:38:42.401Z"
   },
   {
    "duration": 43,
    "start_time": "2023-05-25T20:38:42.661Z"
   },
   {
    "duration": 4970,
    "start_time": "2023-05-25T20:38:42.706Z"
   },
   {
    "duration": 257,
    "start_time": "2023-05-25T20:38:47.677Z"
   },
   {
    "duration": 73,
    "start_time": "2023-05-25T20:38:47.935Z"
   },
   {
    "duration": 85,
    "start_time": "2023-05-25T20:38:48.010Z"
   },
   {
    "duration": 72,
    "start_time": "2023-05-25T20:38:48.096Z"
   },
   {
    "duration": 219,
    "start_time": "2023-05-25T20:38:48.169Z"
   },
   {
    "duration": 30,
    "start_time": "2023-05-25T20:38:48.390Z"
   },
   {
    "duration": 475,
    "start_time": "2023-05-25T20:38:48.422Z"
   },
   {
    "duration": 218,
    "start_time": "2023-05-25T20:38:48.899Z"
   },
   {
    "duration": 272,
    "start_time": "2023-05-25T20:38:49.119Z"
   },
   {
    "duration": 3,
    "start_time": "2023-05-25T20:38:49.393Z"
   },
   {
    "duration": 2112,
    "start_time": "2023-05-25T20:38:49.397Z"
   },
   {
    "duration": 230,
    "start_time": "2023-05-25T20:38:51.511Z"
   },
   {
    "duration": 21677,
    "start_time": "2023-05-25T20:38:51.743Z"
   },
   {
    "duration": 108,
    "start_time": "2023-05-25T20:39:13.422Z"
   },
   {
    "duration": 73,
    "start_time": "2023-05-25T20:39:13.532Z"
   },
   {
    "duration": 113,
    "start_time": "2023-05-25T20:39:13.607Z"
   },
   {
    "duration": 0,
    "start_time": "2023-05-25T20:39:13.721Z"
   },
   {
    "duration": 23,
    "start_time": "2023-05-25T20:40:18.254Z"
   },
   {
    "duration": 1387,
    "start_time": "2023-05-25T20:40:24.520Z"
   },
   {
    "duration": 786,
    "start_time": "2023-05-25T20:40:25.909Z"
   },
   {
    "duration": 133,
    "start_time": "2023-05-25T20:40:26.696Z"
   },
   {
    "duration": 123,
    "start_time": "2023-05-25T20:40:26.830Z"
   },
   {
    "duration": 287,
    "start_time": "2023-05-25T20:40:26.955Z"
   },
   {
    "duration": 461,
    "start_time": "2023-05-25T20:40:27.250Z"
   },
   {
    "duration": 544,
    "start_time": "2023-05-25T20:40:27.713Z"
   },
   {
    "duration": 102,
    "start_time": "2023-05-25T20:40:28.259Z"
   },
   {
    "duration": 19,
    "start_time": "2023-05-25T20:40:28.363Z"
   },
   {
    "duration": 96,
    "start_time": "2023-05-25T20:40:28.384Z"
   },
   {
    "duration": 3,
    "start_time": "2023-05-25T20:40:28.482Z"
   },
   {
    "duration": 1113,
    "start_time": "2023-05-25T20:40:28.487Z"
   },
   {
    "duration": 91,
    "start_time": "2023-05-25T20:40:29.601Z"
   },
   {
    "duration": 35,
    "start_time": "2023-05-25T20:40:29.695Z"
   },
   {
    "duration": 299,
    "start_time": "2023-05-25T20:40:29.731Z"
   },
   {
    "duration": 24,
    "start_time": "2023-05-25T20:40:30.032Z"
   },
   {
    "duration": 73,
    "start_time": "2023-05-25T20:40:30.058Z"
   },
   {
    "duration": 2647,
    "start_time": "2023-05-25T20:40:30.133Z"
   },
   {
    "duration": 34,
    "start_time": "2023-05-25T20:40:32.781Z"
   },
   {
    "duration": 14,
    "start_time": "2023-05-25T20:40:32.816Z"
   },
   {
    "duration": 250,
    "start_time": "2023-05-25T20:40:32.832Z"
   },
   {
    "duration": 43,
    "start_time": "2023-05-25T20:40:33.083Z"
   },
   {
    "duration": 3988,
    "start_time": "2023-05-25T20:40:33.127Z"
   },
   {
    "duration": 272,
    "start_time": "2023-05-25T20:40:37.116Z"
   },
   {
    "duration": 71,
    "start_time": "2023-05-25T20:40:37.390Z"
   },
   {
    "duration": 88,
    "start_time": "2023-05-25T20:40:37.463Z"
   },
   {
    "duration": 64,
    "start_time": "2023-05-25T20:40:37.552Z"
   },
   {
    "duration": 216,
    "start_time": "2023-05-25T20:40:37.617Z"
   },
   {
    "duration": 35,
    "start_time": "2023-05-25T20:40:37.835Z"
   },
   {
    "duration": 498,
    "start_time": "2023-05-25T20:40:37.871Z"
   },
   {
    "duration": 223,
    "start_time": "2023-05-25T20:40:38.370Z"
   },
   {
    "duration": 262,
    "start_time": "2023-05-25T20:40:38.595Z"
   },
   {
    "duration": 4,
    "start_time": "2023-05-25T20:40:38.859Z"
   },
   {
    "duration": 2117,
    "start_time": "2023-05-25T20:40:38.864Z"
   },
   {
    "duration": 242,
    "start_time": "2023-05-25T20:40:40.983Z"
   },
   {
    "duration": 19493,
    "start_time": "2023-05-25T20:40:41.227Z"
   },
   {
    "duration": 109,
    "start_time": "2023-05-25T20:41:00.722Z"
   },
   {
    "duration": 66,
    "start_time": "2023-05-25T20:41:00.833Z"
   },
   {
    "duration": 148,
    "start_time": "2023-05-25T20:41:00.901Z"
   },
   {
    "duration": 0,
    "start_time": "2023-05-25T20:41:01.050Z"
   },
   {
    "duration": 4,
    "start_time": "2023-05-25T20:41:58.103Z"
   },
   {
    "duration": 38,
    "start_time": "2023-05-25T20:42:03.878Z"
   },
   {
    "duration": 12,
    "start_time": "2023-05-25T20:43:34.302Z"
   },
   {
    "duration": 16,
    "start_time": "2023-05-25T20:43:47.758Z"
   },
   {
    "duration": 18,
    "start_time": "2023-05-25T20:43:55.776Z"
   },
   {
    "duration": 15,
    "start_time": "2023-05-25T20:44:14.557Z"
   },
   {
    "duration": 5,
    "start_time": "2023-05-25T20:44:20.080Z"
   },
   {
    "duration": 12,
    "start_time": "2023-05-25T20:44:30.386Z"
   },
   {
    "duration": 5,
    "start_time": "2023-05-25T20:44:39.280Z"
   },
   {
    "duration": 14,
    "start_time": "2023-05-25T20:44:50.056Z"
   },
   {
    "duration": 34,
    "start_time": "2023-05-25T20:44:56.680Z"
   },
   {
    "duration": 5,
    "start_time": "2023-05-25T20:45:00.916Z"
   },
   {
    "duration": 76,
    "start_time": "2023-05-25T20:50:22.866Z"
   },
   {
    "duration": 18,
    "start_time": "2023-05-25T20:51:53.118Z"
   },
   {
    "duration": 5,
    "start_time": "2023-05-25T20:52:04.009Z"
   },
   {
    "duration": 115,
    "start_time": "2023-05-25T20:52:42.162Z"
   },
   {
    "duration": 3,
    "start_time": "2023-05-25T20:53:08.581Z"
   },
   {
    "duration": 13,
    "start_time": "2023-05-25T20:53:25.680Z"
   },
   {
    "duration": 4,
    "start_time": "2023-05-25T20:53:27.966Z"
   },
   {
    "duration": 3,
    "start_time": "2023-05-25T20:54:14.958Z"
   },
   {
    "duration": 4,
    "start_time": "2023-05-25T20:54:31.463Z"
   },
   {
    "duration": 4,
    "start_time": "2023-05-25T20:55:19.109Z"
   },
   {
    "duration": 3,
    "start_time": "2023-05-25T20:55:25.370Z"
   },
   {
    "duration": 3,
    "start_time": "2023-05-25T20:55:56.124Z"
   },
   {
    "duration": 3,
    "start_time": "2023-05-25T20:56:48.850Z"
   },
   {
    "duration": 5,
    "start_time": "2023-05-25T20:57:24.173Z"
   },
   {
    "duration": 4,
    "start_time": "2023-05-25T20:58:01.050Z"
   },
   {
    "duration": 3,
    "start_time": "2023-05-25T20:58:17.358Z"
   },
   {
    "duration": 4,
    "start_time": "2023-05-25T20:59:15.777Z"
   },
   {
    "duration": 125,
    "start_time": "2023-05-25T20:59:26.999Z"
   },
   {
    "duration": 46,
    "start_time": "2023-05-26T09:55:14.957Z"
   },
   {
    "duration": 1395,
    "start_time": "2023-05-26T09:55:19.053Z"
   },
   {
    "duration": 3081,
    "start_time": "2023-05-26T09:55:22.853Z"
   },
   {
    "duration": 110,
    "start_time": "2023-05-26T09:55:25.936Z"
   },
   {
    "duration": 97,
    "start_time": "2023-05-26T09:55:26.048Z"
   },
   {
    "duration": 222,
    "start_time": "2023-05-26T09:55:26.147Z"
   },
   {
    "duration": 389,
    "start_time": "2023-05-26T09:55:26.371Z"
   },
   {
    "duration": 474,
    "start_time": "2023-05-26T09:55:26.762Z"
   },
   {
    "duration": 85,
    "start_time": "2023-05-26T09:55:27.238Z"
   },
   {
    "duration": 16,
    "start_time": "2023-05-26T09:55:27.820Z"
   },
   {
    "duration": 71,
    "start_time": "2023-05-26T09:55:28.124Z"
   },
   {
    "duration": 3,
    "start_time": "2023-05-26T09:55:29.820Z"
   },
   {
    "duration": 1029,
    "start_time": "2023-05-26T09:55:30.396Z"
   },
   {
    "duration": 75,
    "start_time": "2023-05-26T09:55:33.508Z"
   },
   {
    "duration": 35,
    "start_time": "2023-05-26T09:55:34.733Z"
   },
   {
    "duration": 257,
    "start_time": "2023-05-26T09:55:35.820Z"
   },
   {
    "duration": 15,
    "start_time": "2023-05-26T09:55:36.436Z"
   },
   {
    "duration": 68,
    "start_time": "2023-05-26T09:55:36.724Z"
   },
   {
    "duration": 2253,
    "start_time": "2023-05-26T09:55:38.244Z"
   },
   {
    "duration": 31,
    "start_time": "2023-05-26T09:55:41.925Z"
   },
   {
    "duration": 13,
    "start_time": "2023-05-26T09:55:42.828Z"
   },
   {
    "duration": 211,
    "start_time": "2023-05-26T09:55:44.421Z"
   },
   {
    "duration": 38,
    "start_time": "2023-05-26T09:55:45.686Z"
   },
   {
    "duration": 3611,
    "start_time": "2023-05-26T09:55:46.549Z"
   },
   {
    "duration": 233,
    "start_time": "2023-05-26T09:55:50.161Z"
   },
   {
    "duration": 47,
    "start_time": "2023-05-26T09:55:52.061Z"
   },
   {
    "duration": 68,
    "start_time": "2023-05-26T09:55:52.742Z"
   },
   {
    "duration": 80,
    "start_time": "2023-05-26T09:55:54.204Z"
   },
   {
    "duration": 181,
    "start_time": "2023-05-26T09:55:55.629Z"
   },
   {
    "duration": 30,
    "start_time": "2023-05-26T09:55:56.919Z"
   },
   {
    "duration": 400,
    "start_time": "2023-05-26T09:55:57.989Z"
   },
   {
    "duration": 195,
    "start_time": "2023-05-26T09:55:59.662Z"
   },
   {
    "duration": 253,
    "start_time": "2023-05-26T09:56:00.996Z"
   },
   {
    "duration": 4,
    "start_time": "2023-05-26T09:56:02.380Z"
   },
   {
    "duration": 1919,
    "start_time": "2023-05-26T09:56:03.708Z"
   },
   {
    "duration": 200,
    "start_time": "2023-05-26T09:56:06.981Z"
   },
   {
    "duration": 18468,
    "start_time": "2023-05-26T09:56:08.004Z"
   },
   {
    "duration": 98,
    "start_time": "2023-05-26T09:56:26.474Z"
   },
   {
    "duration": 76,
    "start_time": "2023-05-26T09:56:26.573Z"
   },
   {
    "duration": 4,
    "start_time": "2023-05-26T09:56:26.651Z"
   },
   {
    "duration": 11,
    "start_time": "2023-05-26T09:56:30.733Z"
   },
   {
    "duration": 22,
    "start_time": "2023-05-26T09:56:31.597Z"
   },
   {
    "duration": 107,
    "start_time": "2023-05-26T09:56:32.541Z"
   },
   {
    "duration": 18,
    "start_time": "2023-05-26T09:57:06.772Z"
   },
   {
    "duration": 18,
    "start_time": "2023-05-26T10:03:08.878Z"
   },
   {
    "duration": 8,
    "start_time": "2023-05-26T10:04:46.788Z"
   },
   {
    "duration": 10,
    "start_time": "2023-05-26T10:04:51.860Z"
   },
   {
    "duration": 10,
    "start_time": "2023-05-26T10:05:29.875Z"
   },
   {
    "duration": 9,
    "start_time": "2023-05-26T10:05:34.851Z"
   },
   {
    "duration": 11,
    "start_time": "2023-05-26T10:05:40.540Z"
   },
   {
    "duration": 11,
    "start_time": "2023-05-26T10:05:44.620Z"
   },
   {
    "duration": 2,
    "start_time": "2023-05-26T10:05:53.516Z"
   },
   {
    "duration": 3,
    "start_time": "2023-05-26T10:06:03.804Z"
   },
   {
    "duration": 10,
    "start_time": "2023-05-26T10:06:11.459Z"
   },
   {
    "duration": 11,
    "start_time": "2023-05-26T10:06:15.363Z"
   },
   {
    "duration": 11,
    "start_time": "2023-05-26T10:07:15.819Z"
   },
   {
    "duration": 11,
    "start_time": "2023-05-26T10:07:24.864Z"
   },
   {
    "duration": 9,
    "start_time": "2023-05-26T10:07:32.002Z"
   },
   {
    "duration": 9,
    "start_time": "2023-05-26T10:07:33.811Z"
   },
   {
    "duration": 11,
    "start_time": "2023-05-26T10:07:42.947Z"
   },
   {
    "duration": 5,
    "start_time": "2023-05-26T10:10:32.459Z"
   },
   {
    "duration": 81,
    "start_time": "2023-05-26T10:15:13.275Z"
   },
   {
    "duration": 346,
    "start_time": "2023-05-26T10:16:46.795Z"
   },
   {
    "duration": 5075,
    "start_time": "2023-05-26T10:16:57.058Z"
   },
   {
    "duration": 68,
    "start_time": "2023-05-26T10:17:06.219Z"
   },
   {
    "duration": 5,
    "start_time": "2023-05-26T10:17:47.419Z"
   },
   {
    "duration": 4,
    "start_time": "2023-05-26T10:17:53.947Z"
   },
   {
    "duration": 120,
    "start_time": "2023-05-26T10:18:01.291Z"
   },
   {
    "duration": 57,
    "start_time": "2023-05-26T11:21:35.695Z"
   },
   {
    "duration": 18,
    "start_time": "2023-05-26T11:22:17.112Z"
   },
   {
    "duration": 61,
    "start_time": "2023-05-26T11:22:41.039Z"
   },
   {
    "duration": 17,
    "start_time": "2023-05-26T11:22:49.424Z"
   },
   {
    "duration": 18,
    "start_time": "2023-05-26T11:22:52.960Z"
   },
   {
    "duration": 55,
    "start_time": "2023-05-26T11:23:25.960Z"
   },
   {
    "duration": 105,
    "start_time": "2023-05-26T11:23:28.843Z"
   },
   {
    "duration": 17,
    "start_time": "2023-05-26T11:23:33.352Z"
   },
   {
    "duration": 81,
    "start_time": "2023-05-26T11:23:49.504Z"
   },
   {
    "duration": 23,
    "start_time": "2023-05-26T11:23:52.399Z"
   },
   {
    "duration": 17,
    "start_time": "2023-05-26T11:23:57.487Z"
   },
   {
    "duration": 6,
    "start_time": "2023-05-26T11:24:49.752Z"
   },
   {
    "duration": 7,
    "start_time": "2023-05-26T11:24:52.416Z"
   },
   {
    "duration": 5,
    "start_time": "2023-05-26T11:25:07.057Z"
   },
   {
    "duration": 1375,
    "start_time": "2023-05-26T11:25:15.271Z"
   },
   {
    "duration": 799,
    "start_time": "2023-05-26T11:25:16.648Z"
   },
   {
    "duration": 126,
    "start_time": "2023-05-26T11:25:17.449Z"
   },
   {
    "duration": 118,
    "start_time": "2023-05-26T11:25:17.577Z"
   },
   {
    "duration": 248,
    "start_time": "2023-05-26T11:25:17.697Z"
   },
   {
    "duration": 449,
    "start_time": "2023-05-26T11:25:17.947Z"
   },
   {
    "duration": 544,
    "start_time": "2023-05-26T11:25:18.397Z"
   },
   {
    "duration": 91,
    "start_time": "2023-05-26T11:25:18.942Z"
   },
   {
    "duration": 17,
    "start_time": "2023-05-26T11:25:19.034Z"
   },
   {
    "duration": 82,
    "start_time": "2023-05-26T11:25:19.053Z"
   },
   {
    "duration": 4,
    "start_time": "2023-05-26T11:25:19.137Z"
   },
   {
    "duration": 1095,
    "start_time": "2023-05-26T11:25:19.142Z"
   },
   {
    "duration": 81,
    "start_time": "2023-05-26T11:25:20.238Z"
   },
   {
    "duration": 35,
    "start_time": "2023-05-26T11:25:20.321Z"
   },
   {
    "duration": 303,
    "start_time": "2023-05-26T11:25:20.358Z"
   },
   {
    "duration": 15,
    "start_time": "2023-05-26T11:25:20.662Z"
   },
   {
    "duration": 74,
    "start_time": "2023-05-26T11:25:20.678Z"
   },
   {
    "duration": 2428,
    "start_time": "2023-05-26T11:25:20.754Z"
   },
   {
    "duration": 37,
    "start_time": "2023-05-26T11:25:23.184Z"
   },
   {
    "duration": 12,
    "start_time": "2023-05-26T11:25:23.222Z"
   },
   {
    "duration": 219,
    "start_time": "2023-05-26T11:25:23.236Z"
   },
   {
    "duration": 37,
    "start_time": "2023-05-26T11:25:23.456Z"
   },
   {
    "duration": 3744,
    "start_time": "2023-05-26T11:25:23.506Z"
   },
   {
    "duration": 241,
    "start_time": "2023-05-26T11:25:27.251Z"
   },
   {
    "duration": 40,
    "start_time": "2023-05-26T11:25:27.494Z"
   },
   {
    "duration": 79,
    "start_time": "2023-05-26T11:25:27.536Z"
   },
   {
    "duration": 64,
    "start_time": "2023-05-26T11:25:27.617Z"
   },
   {
    "duration": 224,
    "start_time": "2023-05-26T11:25:27.684Z"
   },
   {
    "duration": 29,
    "start_time": "2023-05-26T11:25:27.910Z"
   },
   {
    "duration": 460,
    "start_time": "2023-05-26T11:25:27.940Z"
   },
   {
    "duration": 206,
    "start_time": "2023-05-26T11:25:28.407Z"
   },
   {
    "duration": 252,
    "start_time": "2023-05-26T11:25:28.615Z"
   },
   {
    "duration": 3,
    "start_time": "2023-05-26T11:25:28.869Z"
   },
   {
    "duration": 2109,
    "start_time": "2023-05-26T11:25:28.873Z"
   },
   {
    "duration": 228,
    "start_time": "2023-05-26T11:25:30.984Z"
   },
   {
    "duration": 18387,
    "start_time": "2023-05-26T11:25:31.213Z"
   },
   {
    "duration": 97,
    "start_time": "2023-05-26T11:25:49.601Z"
   },
   {
    "duration": 61,
    "start_time": "2023-05-26T11:25:49.706Z"
   },
   {
    "duration": 4,
    "start_time": "2023-05-26T11:25:49.769Z"
   },
   {
    "duration": 37,
    "start_time": "2023-05-26T11:25:49.775Z"
   },
   {
    "duration": 29,
    "start_time": "2023-05-26T11:25:49.814Z"
   },
   {
    "duration": 132,
    "start_time": "2023-05-26T11:25:49.845Z"
   },
   {
    "duration": 33,
    "start_time": "2023-05-26T11:25:49.980Z"
   },
   {
    "duration": 8311,
    "start_time": "2023-05-26T11:25:50.015Z"
   },
   {
    "duration": 69,
    "start_time": "2023-05-26T11:26:07.711Z"
   },
   {
    "duration": 44,
    "start_time": "2023-05-26T11:26:16.912Z"
   },
   {
    "duration": 42,
    "start_time": "2023-05-26T11:26:20.175Z"
   },
   {
    "duration": 1609,
    "start_time": "2023-05-26T17:09:59.418Z"
   },
   {
    "duration": 3594,
    "start_time": "2023-05-26T17:10:03.257Z"
   },
   {
    "duration": 142,
    "start_time": "2023-05-26T17:10:06.853Z"
   },
   {
    "duration": 148,
    "start_time": "2023-05-26T17:10:06.997Z"
   },
   {
    "duration": 304,
    "start_time": "2023-05-26T17:10:07.147Z"
   },
   {
    "duration": 454,
    "start_time": "2023-05-26T17:10:07.453Z"
   },
   {
    "duration": 580,
    "start_time": "2023-05-26T17:10:07.908Z"
   },
   {
    "duration": 102,
    "start_time": "2023-05-26T17:10:08.492Z"
   },
   {
    "duration": 18,
    "start_time": "2023-05-26T17:10:08.595Z"
   },
   {
    "duration": 114,
    "start_time": "2023-05-26T17:10:08.615Z"
   },
   {
    "duration": 15,
    "start_time": "2023-05-26T17:10:08.731Z"
   },
   {
    "duration": 1255,
    "start_time": "2023-05-26T17:10:08.748Z"
   },
   {
    "duration": 99,
    "start_time": "2023-05-26T17:10:10.005Z"
   },
   {
    "duration": 50,
    "start_time": "2023-05-26T17:10:10.106Z"
   },
   {
    "duration": 338,
    "start_time": "2023-05-26T17:10:10.157Z"
   },
   {
    "duration": 17,
    "start_time": "2023-05-26T17:10:10.496Z"
   },
   {
    "duration": 72,
    "start_time": "2023-05-26T17:10:10.515Z"
   },
   {
    "duration": 2755,
    "start_time": "2023-05-26T17:10:10.590Z"
   },
   {
    "duration": 49,
    "start_time": "2023-05-26T17:10:13.347Z"
   },
   {
    "duration": 18,
    "start_time": "2023-05-26T17:10:13.398Z"
   },
   {
    "duration": 307,
    "start_time": "2023-05-26T17:10:13.418Z"
   },
   {
    "duration": 53,
    "start_time": "2023-05-26T17:10:13.726Z"
   },
   {
    "duration": 5193,
    "start_time": "2023-05-26T17:10:13.781Z"
   },
   {
    "duration": 285,
    "start_time": "2023-05-26T17:10:18.979Z"
   },
   {
    "duration": 68,
    "start_time": "2023-05-26T17:10:19.266Z"
   },
   {
    "duration": 86,
    "start_time": "2023-05-26T17:10:19.336Z"
   },
   {
    "duration": 96,
    "start_time": "2023-05-26T17:10:19.423Z"
   },
   {
    "duration": 273,
    "start_time": "2023-05-26T17:10:19.520Z"
   },
   {
    "duration": 39,
    "start_time": "2023-05-26T17:10:19.795Z"
   },
   {
    "duration": 493,
    "start_time": "2023-05-26T17:10:19.835Z"
   },
   {
    "duration": 272,
    "start_time": "2023-05-26T17:10:20.330Z"
   },
   {
    "duration": 311,
    "start_time": "2023-05-26T17:10:20.606Z"
   },
   {
    "duration": 4,
    "start_time": "2023-05-26T17:10:20.919Z"
   },
   {
    "duration": 2284,
    "start_time": "2023-05-26T17:10:20.924Z"
   },
   {
    "duration": 316,
    "start_time": "2023-05-26T17:10:23.209Z"
   },
   {
    "duration": 26578,
    "start_time": "2023-05-26T17:10:23.527Z"
   },
   {
    "duration": 145,
    "start_time": "2023-05-26T17:10:50.109Z"
   },
   {
    "duration": 101,
    "start_time": "2023-05-26T17:10:50.256Z"
   },
   {
    "duration": 3,
    "start_time": "2023-05-26T17:10:50.359Z"
   },
   {
    "duration": 34,
    "start_time": "2023-05-26T17:10:50.363Z"
   },
   {
    "duration": 28,
    "start_time": "2023-05-26T17:10:50.399Z"
   },
   {
    "duration": 107,
    "start_time": "2023-05-26T17:10:50.429Z"
   },
   {
    "duration": 18,
    "start_time": "2023-05-26T17:10:50.538Z"
   },
   {
    "duration": 9062,
    "start_time": "2023-05-26T17:19:02.798Z"
   },
   {
    "duration": 2357,
    "start_time": "2023-05-26T17:19:21.209Z"
   },
   {
    "duration": 1391,
    "start_time": "2023-05-26T17:19:23.568Z"
   },
   {
    "duration": 957,
    "start_time": "2023-05-26T17:19:24.961Z"
   },
   {
    "duration": 128,
    "start_time": "2023-05-26T17:19:25.919Z"
   },
   {
    "duration": 174,
    "start_time": "2023-05-26T17:19:26.050Z"
   },
   {
    "duration": 350,
    "start_time": "2023-05-26T17:19:26.226Z"
   },
   {
    "duration": 510,
    "start_time": "2023-05-26T17:19:26.585Z"
   },
   {
    "duration": 624,
    "start_time": "2023-05-26T17:19:27.106Z"
   },
   {
    "duration": 112,
    "start_time": "2023-05-26T17:19:27.732Z"
   },
   {
    "duration": 41,
    "start_time": "2023-05-26T17:19:27.846Z"
   },
   {
    "duration": 151,
    "start_time": "2023-05-26T17:19:27.895Z"
   },
   {
    "duration": 6,
    "start_time": "2023-05-26T17:19:28.047Z"
   },
   {
    "duration": 1387,
    "start_time": "2023-05-26T17:19:28.055Z"
   },
   {
    "duration": 102,
    "start_time": "2023-05-26T17:19:29.446Z"
   },
   {
    "duration": 77,
    "start_time": "2023-05-26T17:19:29.551Z"
   },
   {
    "duration": 353,
    "start_time": "2023-05-26T17:19:29.629Z"
   },
   {
    "duration": 25,
    "start_time": "2023-05-26T17:19:29.983Z"
   },
   {
    "duration": 94,
    "start_time": "2023-05-26T17:19:30.010Z"
   },
   {
    "duration": 3036,
    "start_time": "2023-05-26T17:19:30.106Z"
   },
   {
    "duration": 45,
    "start_time": "2023-05-26T17:19:33.144Z"
   },
   {
    "duration": 17,
    "start_time": "2023-05-26T17:19:33.195Z"
   },
   {
    "duration": 344,
    "start_time": "2023-05-26T17:19:33.214Z"
   },
   {
    "duration": 73,
    "start_time": "2023-05-26T17:19:33.560Z"
   },
   {
    "duration": 5739,
    "start_time": "2023-05-26T17:19:33.634Z"
   },
   {
    "duration": 304,
    "start_time": "2023-05-26T17:19:39.374Z"
   },
   {
    "duration": 62,
    "start_time": "2023-05-26T17:19:39.680Z"
   },
   {
    "duration": 90,
    "start_time": "2023-05-26T17:19:39.744Z"
   },
   {
    "duration": 104,
    "start_time": "2023-05-26T17:19:39.835Z"
   },
   {
    "duration": 265,
    "start_time": "2023-05-26T17:19:39.940Z"
   },
   {
    "duration": 44,
    "start_time": "2023-05-26T17:19:40.209Z"
   },
   {
    "duration": 310,
    "start_time": "2023-05-26T17:19:40.254Z"
   },
   {
    "duration": 281,
    "start_time": "2023-05-26T17:19:40.565Z"
   },
   {
    "duration": 599,
    "start_time": "2023-05-26T17:19:40.848Z"
   },
   {
    "duration": 3,
    "start_time": "2023-05-26T17:19:41.449Z"
   },
   {
    "duration": 3661,
    "start_time": "2023-05-26T17:19:41.454Z"
   },
   {
    "duration": 339,
    "start_time": "2023-05-26T17:19:45.117Z"
   },
   {
    "duration": 28784,
    "start_time": "2023-05-26T17:19:45.457Z"
   },
   {
    "duration": 201,
    "start_time": "2023-05-26T17:20:14.243Z"
   },
   {
    "duration": 108,
    "start_time": "2023-05-26T17:20:14.445Z"
   },
   {
    "duration": 3,
    "start_time": "2023-05-26T17:20:14.555Z"
   },
   {
    "duration": 17,
    "start_time": "2023-05-26T17:20:14.577Z"
   },
   {
    "duration": 33,
    "start_time": "2023-05-26T17:20:14.596Z"
   },
   {
    "duration": 118,
    "start_time": "2023-05-26T17:20:14.630Z"
   },
   {
    "duration": 18,
    "start_time": "2023-05-26T17:20:14.749Z"
   },
   {
    "duration": 9586,
    "start_time": "2023-05-26T17:20:14.768Z"
   },
   {
    "duration": 5,
    "start_time": "2023-05-26T17:21:19.040Z"
   },
   {
    "duration": 104,
    "start_time": "2023-05-26T17:22:20.760Z"
   },
   {
    "duration": 90,
    "start_time": "2023-05-26T17:22:28.906Z"
   },
   {
    "duration": 54,
    "start_time": "2023-05-26T17:22:36.105Z"
   },
   {
    "duration": 54,
    "start_time": "2023-05-26T17:22:45.836Z"
   },
   {
    "duration": 24,
    "start_time": "2023-05-26T17:23:24.525Z"
   },
   {
    "duration": 2,
    "start_time": "2023-05-26T17:23:43.450Z"
   },
   {
    "duration": 145,
    "start_time": "2023-05-26T17:44:53.253Z"
   },
   {
    "duration": 415,
    "start_time": "2023-05-26T17:45:42.224Z"
   },
   {
    "duration": 294,
    "start_time": "2023-05-26T17:47:24.839Z"
   },
   {
    "duration": 1073,
    "start_time": "2023-05-26T17:47:32.853Z"
   },
   {
    "duration": 2470,
    "start_time": "2023-05-26T17:47:44.062Z"
   },
   {
    "duration": 2439,
    "start_time": "2023-05-26T17:48:03.474Z"
   },
   {
    "duration": 10,
    "start_time": "2023-05-26T17:51:12.590Z"
   },
   {
    "duration": 9,
    "start_time": "2023-05-26T17:51:33.144Z"
   },
   {
    "duration": 9,
    "start_time": "2023-05-26T17:51:38.539Z"
   },
   {
    "duration": 10,
    "start_time": "2023-05-26T17:51:45.113Z"
   },
   {
    "duration": 1469,
    "start_time": "2023-05-26T17:51:50.894Z"
   },
   {
    "duration": 1400,
    "start_time": "2023-05-26T17:52:01.415Z"
   },
   {
    "duration": 1369,
    "start_time": "2023-05-26T17:52:17.503Z"
   },
   {
    "duration": 5,
    "start_time": "2023-05-26T17:52:27.991Z"
   },
   {
    "duration": 97,
    "start_time": "2023-05-26T17:52:37.589Z"
   },
   {
    "duration": 25,
    "start_time": "2023-05-26T17:52:39.163Z"
   },
   {
    "duration": 8991,
    "start_time": "2023-05-26T17:52:41.337Z"
   },
   {
    "duration": 25,
    "start_time": "2023-05-26T17:52:50.330Z"
   },
   {
    "duration": 1013,
    "start_time": "2023-05-26T17:52:53.227Z"
   },
   {
    "duration": 67,
    "start_time": "2023-05-26T17:53:16.869Z"
   },
   {
    "duration": 1199,
    "start_time": "2023-05-26T17:53:29.863Z"
   },
   {
    "duration": 1749,
    "start_time": "2023-05-26T17:54:25.987Z"
   },
   {
    "duration": 33,
    "start_time": "2023-05-26T17:55:27.100Z"
   },
   {
    "duration": 29,
    "start_time": "2023-05-26T17:55:44.408Z"
   },
   {
    "duration": 28,
    "start_time": "2023-05-26T17:56:14.589Z"
   },
   {
    "duration": 46,
    "start_time": "2023-05-26T17:56:22.039Z"
   },
   {
    "duration": 114,
    "start_time": "2023-05-26T18:01:01.393Z"
   },
   {
    "duration": 17,
    "start_time": "2023-05-26T18:01:03.131Z"
   },
   {
    "duration": 9418,
    "start_time": "2023-05-26T18:01:22.235Z"
   },
   {
    "duration": 32,
    "start_time": "2023-05-26T18:01:31.655Z"
   },
   {
    "duration": 15,
    "start_time": "2023-05-26T18:04:57.704Z"
   },
   {
    "duration": 12,
    "start_time": "2023-05-26T18:05:08.994Z"
   },
   {
    "duration": 25,
    "start_time": "2023-05-26T18:08:04.172Z"
   },
   {
    "duration": 71,
    "start_time": "2023-05-26T18:08:10.360Z"
   },
   {
    "duration": 13,
    "start_time": "2023-05-26T18:08:19.134Z"
   },
   {
    "duration": 301,
    "start_time": "2023-05-26T18:08:22.202Z"
   },
   {
    "duration": 968,
    "start_time": "2023-05-26T18:08:28.241Z"
   },
   {
    "duration": 5,
    "start_time": "2023-05-26T18:08:29.992Z"
   },
   {
    "duration": 103,
    "start_time": "2023-05-26T18:08:38.388Z"
   },
   {
    "duration": 19,
    "start_time": "2023-05-26T18:08:40.332Z"
   },
   {
    "duration": 9598,
    "start_time": "2023-05-26T18:08:42.302Z"
   },
   {
    "duration": 29,
    "start_time": "2023-05-26T18:08:53.454Z"
   },
   {
    "duration": 1027,
    "start_time": "2023-05-26T18:08:55.972Z"
   },
   {
    "duration": 6,
    "start_time": "2023-05-26T18:08:57.001Z"
   },
   {
    "duration": 100,
    "start_time": "2023-05-26T18:09:16.563Z"
   },
   {
    "duration": 18,
    "start_time": "2023-05-26T18:09:18.148Z"
   },
   {
    "duration": 9466,
    "start_time": "2023-05-26T18:09:20.187Z"
   },
   {
    "duration": 36,
    "start_time": "2023-05-26T18:09:29.656Z"
   },
   {
    "duration": 304,
    "start_time": "2023-05-26T18:09:29.693Z"
   },
   {
    "duration": 68,
    "start_time": "2023-05-26T18:09:35.247Z"
   },
   {
    "duration": 64,
    "start_time": "2023-05-26T18:40:24.707Z"
   },
   {
    "duration": 9,
    "start_time": "2023-05-26T18:40:32.430Z"
   },
   {
    "duration": 13,
    "start_time": "2023-05-26T18:40:36.614Z"
   },
   {
    "duration": 59,
    "start_time": "2023-05-26T18:40:47.303Z"
   },
   {
    "duration": 13,
    "start_time": "2023-05-26T18:47:48.071Z"
   },
   {
    "duration": 5,
    "start_time": "2023-05-26T18:52:12.204Z"
   },
   {
    "duration": 138,
    "start_time": "2023-05-26T18:53:44.312Z"
   },
   {
    "duration": 29,
    "start_time": "2023-05-26T18:53:46.032Z"
   },
   {
    "duration": 39,
    "start_time": "2023-05-26T18:54:15.204Z"
   },
   {
    "duration": 52,
    "start_time": "2023-05-26T18:54:24.657Z"
   },
   {
    "duration": 62,
    "start_time": "2023-05-26T18:54:34.674Z"
   },
   {
    "duration": 37,
    "start_time": "2023-05-26T18:54:40.130Z"
   },
   {
    "duration": 22,
    "start_time": "2023-05-26T18:56:06.849Z"
   },
   {
    "duration": 23,
    "start_time": "2023-05-26T18:56:19.332Z"
   },
   {
    "duration": 2258,
    "start_time": "2023-05-26T18:56:30.700Z"
   },
   {
    "duration": 29,
    "start_time": "2023-05-26T18:56:38.255Z"
   },
   {
    "duration": 24,
    "start_time": "2023-05-26T18:57:03.510Z"
   },
   {
    "duration": 12,
    "start_time": "2023-05-26T19:01:59.091Z"
   },
   {
    "duration": 34,
    "start_time": "2023-05-26T19:02:07.489Z"
   },
   {
    "duration": 100,
    "start_time": "2023-05-26T19:02:13.003Z"
   },
   {
    "duration": 4,
    "start_time": "2023-05-26T19:02:14.531Z"
   },
   {
    "duration": 18,
    "start_time": "2023-05-26T19:02:25.179Z"
   },
   {
    "duration": 112,
    "start_time": "2023-05-26T19:02:28.359Z"
   },
   {
    "duration": 19,
    "start_time": "2023-05-26T19:02:29.900Z"
   },
   {
    "duration": 1972,
    "start_time": "2023-05-26T19:02:31.638Z"
   },
   {
    "duration": 37,
    "start_time": "2023-05-26T19:02:34.049Z"
   },
   {
    "duration": 146,
    "start_time": "2023-05-26T19:02:36.625Z"
   },
   {
    "duration": 87,
    "start_time": "2023-05-26T19:02:38.223Z"
   },
   {
    "duration": 107,
    "start_time": "2023-05-26T19:04:18.591Z"
   },
   {
    "duration": 19,
    "start_time": "2023-05-26T19:04:20.695Z"
   },
   {
    "duration": 288,
    "start_time": "2023-05-26T19:06:07.021Z"
   },
   {
    "duration": 22,
    "start_time": "2023-05-26T19:06:08.202Z"
   },
   {
    "duration": 98,
    "start_time": "2023-05-26T19:06:24.403Z"
   },
   {
    "duration": 2125,
    "start_time": "2023-05-26T19:06:26.619Z"
   },
   {
    "duration": 24,
    "start_time": "2023-05-26T19:06:29.003Z"
   },
   {
    "duration": 265,
    "start_time": "2023-05-26T19:06:33.597Z"
   },
   {
    "duration": 92,
    "start_time": "2023-05-26T19:06:34.211Z"
   },
   {
    "duration": 71,
    "start_time": "2023-05-26T19:06:44.261Z"
   },
   {
    "duration": 46,
    "start_time": "2023-05-26T19:06:53.493Z"
   },
   {
    "duration": 27,
    "start_time": "2023-05-26T19:07:04.740Z"
   },
   {
    "duration": 27,
    "start_time": "2023-05-26T19:07:17.309Z"
   },
   {
    "duration": 301,
    "start_time": "2023-05-26T19:10:10.832Z"
   },
   {
    "duration": 95,
    "start_time": "2023-05-26T19:10:17.915Z"
   },
   {
    "duration": 306,
    "start_time": "2023-05-26T19:11:13.792Z"
   },
   {
    "duration": 69,
    "start_time": "2023-05-26T19:11:15.646Z"
   },
   {
    "duration": 24,
    "start_time": "2023-05-26T19:11:21.799Z"
   },
   {
    "duration": 17,
    "start_time": "2023-05-26T19:12:07.075Z"
   },
   {
    "duration": 6,
    "start_time": "2023-05-26T19:12:52.390Z"
   },
   {
    "duration": 9210,
    "start_time": "2023-05-26T20:36:22.030Z"
   },
   {
    "duration": 1629,
    "start_time": "2023-05-26T20:36:31.243Z"
   },
   {
    "duration": 1264,
    "start_time": "2023-05-26T20:36:32.874Z"
   },
   {
    "duration": 139,
    "start_time": "2023-05-26T20:36:34.140Z"
   },
   {
    "duration": 187,
    "start_time": "2023-05-26T20:36:34.282Z"
   },
   {
    "duration": 367,
    "start_time": "2023-05-26T20:36:34.471Z"
   },
   {
    "duration": 523,
    "start_time": "2023-05-26T20:36:34.846Z"
   },
   {
    "duration": 811,
    "start_time": "2023-05-26T20:36:35.371Z"
   },
   {
    "duration": 104,
    "start_time": "2023-05-26T20:36:36.184Z"
   },
   {
    "duration": 20,
    "start_time": "2023-05-26T20:36:36.290Z"
   },
   {
    "duration": 149,
    "start_time": "2023-05-26T20:36:36.312Z"
   },
   {
    "duration": 4,
    "start_time": "2023-05-26T20:36:36.463Z"
   },
   {
    "duration": 1438,
    "start_time": "2023-05-26T20:36:36.469Z"
   },
   {
    "duration": 113,
    "start_time": "2023-05-26T20:36:37.912Z"
   },
   {
    "duration": 64,
    "start_time": "2023-05-26T20:36:38.027Z"
   },
   {
    "duration": 388,
    "start_time": "2023-05-26T20:36:38.093Z"
   },
   {
    "duration": 18,
    "start_time": "2023-05-26T20:36:38.483Z"
   },
   {
    "duration": 89,
    "start_time": "2023-05-26T20:36:38.503Z"
   },
   {
    "duration": 3036,
    "start_time": "2023-05-26T20:36:38.594Z"
   },
   {
    "duration": 47,
    "start_time": "2023-05-26T20:36:41.633Z"
   },
   {
    "duration": 17,
    "start_time": "2023-05-26T20:36:41.682Z"
   },
   {
    "duration": 338,
    "start_time": "2023-05-26T20:36:41.701Z"
   },
   {
    "duration": 71,
    "start_time": "2023-05-26T20:36:42.041Z"
   },
   {
    "duration": 5485,
    "start_time": "2023-05-26T20:36:42.114Z"
   },
   {
    "duration": 305,
    "start_time": "2023-05-26T20:36:47.601Z"
   },
   {
    "duration": 65,
    "start_time": "2023-05-26T20:36:47.909Z"
   },
   {
    "duration": 98,
    "start_time": "2023-05-26T20:36:47.976Z"
   },
   {
    "duration": 150,
    "start_time": "2023-05-26T20:36:48.076Z"
   },
   {
    "duration": 286,
    "start_time": "2023-05-26T20:36:48.228Z"
   },
   {
    "duration": 70,
    "start_time": "2023-05-26T20:36:48.516Z"
   },
   {
    "duration": 412,
    "start_time": "2023-05-26T20:36:48.588Z"
   },
   {
    "duration": 289,
    "start_time": "2023-05-26T20:36:49.002Z"
   },
   {
    "duration": 619,
    "start_time": "2023-05-26T20:36:49.293Z"
   },
   {
    "duration": 4,
    "start_time": "2023-05-26T20:36:49.914Z"
   },
   {
    "duration": 2584,
    "start_time": "2023-05-26T20:36:49.920Z"
   },
   {
    "duration": 381,
    "start_time": "2023-05-26T20:36:52.507Z"
   },
   {
    "duration": 27169,
    "start_time": "2023-05-26T20:36:52.890Z"
   },
   {
    "duration": 152,
    "start_time": "2023-05-26T20:37:20.062Z"
   },
   {
    "duration": 114,
    "start_time": "2023-05-26T20:37:20.216Z"
   },
   {
    "duration": 6,
    "start_time": "2023-05-26T20:37:20.346Z"
   },
   {
    "duration": 40,
    "start_time": "2023-05-26T20:37:20.358Z"
   },
   {
    "duration": 64,
    "start_time": "2023-05-26T20:37:20.400Z"
   },
   {
    "duration": 113,
    "start_time": "2023-05-26T20:37:20.466Z"
   },
   {
    "duration": 2372,
    "start_time": "2023-05-26T20:37:20.581Z"
   },
   {
    "duration": 41,
    "start_time": "2023-05-26T20:37:22.955Z"
   },
   {
    "duration": 318,
    "start_time": "2023-05-26T20:37:22.999Z"
   },
   {
    "duration": 39,
    "start_time": "2023-05-26T20:37:23.318Z"
   },
   {
    "duration": 319,
    "start_time": "2023-05-26T20:37:23.361Z"
   },
   {
    "duration": 29,
    "start_time": "2023-05-26T20:37:23.683Z"
   },
   {
    "duration": 3,
    "start_time": "2023-05-26T20:37:23.714Z"
   },
   {
    "duration": 201,
    "start_time": "2023-05-26T20:37:23.719Z"
   },
   {
    "duration": 4,
    "start_time": "2023-05-26T20:52:32.552Z"
   },
   {
    "duration": 4,
    "start_time": "2023-05-26T20:52:34.682Z"
   },
   {
    "duration": 4,
    "start_time": "2023-05-26T20:52:35.412Z"
   },
   {
    "duration": 3,
    "start_time": "2023-05-26T20:52:35.998Z"
   },
   {
    "duration": 6,
    "start_time": "2023-05-26T20:52:54.550Z"
   },
   {
    "duration": 5,
    "start_time": "2023-05-26T20:53:06.994Z"
   },
   {
    "duration": 4,
    "start_time": "2023-05-26T20:53:09.139Z"
   },
   {
    "duration": 138,
    "start_time": "2023-05-26T21:07:54.436Z"
   },
   {
    "duration": 117,
    "start_time": "2023-05-26T21:09:35.756Z"
   },
   {
    "duration": 51,
    "start_time": "2023-05-26T21:10:13.217Z"
   },
   {
    "duration": 85,
    "start_time": "2023-05-26T21:10:18.755Z"
   },
   {
    "duration": 24,
    "start_time": "2023-05-26T21:10:50.591Z"
   },
   {
    "duration": 8,
    "start_time": "2023-05-26T21:11:01.562Z"
   },
   {
    "duration": 12,
    "start_time": "2023-05-26T21:11:06.524Z"
   },
   {
    "duration": 13,
    "start_time": "2023-05-26T21:11:14.127Z"
   },
   {
    "duration": 2606,
    "start_time": "2023-05-26T21:11:42.537Z"
   },
   {
    "duration": 1395,
    "start_time": "2023-05-26T21:11:45.145Z"
   },
   {
    "duration": 976,
    "start_time": "2023-05-26T21:11:46.542Z"
   },
   {
    "duration": 152,
    "start_time": "2023-05-26T21:11:47.520Z"
   },
   {
    "duration": 182,
    "start_time": "2023-05-26T21:11:47.675Z"
   },
   {
    "duration": 327,
    "start_time": "2023-05-26T21:11:47.864Z"
   },
   {
    "duration": 494,
    "start_time": "2023-05-26T21:11:48.194Z"
   },
   {
    "duration": 621,
    "start_time": "2023-05-26T21:11:48.690Z"
   },
   {
    "duration": 120,
    "start_time": "2023-05-26T21:11:49.313Z"
   },
   {
    "duration": 28,
    "start_time": "2023-05-26T21:11:49.435Z"
   },
   {
    "duration": 157,
    "start_time": "2023-05-26T21:11:49.466Z"
   },
   {
    "duration": 63,
    "start_time": "2023-05-26T21:11:49.625Z"
   },
   {
    "duration": 1466,
    "start_time": "2023-05-26T21:11:49.690Z"
   },
   {
    "duration": 106,
    "start_time": "2023-05-26T21:11:51.166Z"
   },
   {
    "duration": 67,
    "start_time": "2023-05-26T21:11:51.274Z"
   },
   {
    "duration": 398,
    "start_time": "2023-05-26T21:11:51.343Z"
   },
   {
    "duration": 20,
    "start_time": "2023-05-26T21:11:51.751Z"
   },
   {
    "duration": 118,
    "start_time": "2023-05-26T21:11:51.773Z"
   },
   {
    "duration": 3393,
    "start_time": "2023-05-26T21:11:51.893Z"
   },
   {
    "duration": 35,
    "start_time": "2023-05-26T21:11:55.287Z"
   },
   {
    "duration": 39,
    "start_time": "2023-05-26T21:11:55.324Z"
   },
   {
    "duration": 360,
    "start_time": "2023-05-26T21:11:55.365Z"
   },
   {
    "duration": 66,
    "start_time": "2023-05-26T21:11:55.727Z"
   },
   {
    "duration": 5763,
    "start_time": "2023-05-26T21:11:55.795Z"
   },
   {
    "duration": 377,
    "start_time": "2023-05-26T21:12:01.560Z"
   },
   {
    "duration": 64,
    "start_time": "2023-05-26T21:12:01.947Z"
   },
   {
    "duration": 107,
    "start_time": "2023-05-26T21:12:02.013Z"
   },
   {
    "duration": 132,
    "start_time": "2023-05-26T21:12:02.122Z"
   },
   {
    "duration": 332,
    "start_time": "2023-05-26T21:12:02.256Z"
   },
   {
    "duration": 59,
    "start_time": "2023-05-26T21:12:02.590Z"
   },
   {
    "duration": 370,
    "start_time": "2023-05-26T21:12:02.651Z"
   },
   {
    "duration": 337,
    "start_time": "2023-05-26T21:12:03.023Z"
   },
   {
    "duration": 561,
    "start_time": "2023-05-26T21:12:03.361Z"
   },
   {
    "duration": 4,
    "start_time": "2023-05-26T21:12:03.923Z"
   },
   {
    "duration": 2556,
    "start_time": "2023-05-26T21:12:03.928Z"
   },
   {
    "duration": 345,
    "start_time": "2023-05-26T21:12:06.485Z"
   },
   {
    "duration": 29142,
    "start_time": "2023-05-26T21:12:06.832Z"
   },
   {
    "duration": 210,
    "start_time": "2023-05-26T21:12:35.976Z"
   },
   {
    "duration": 111,
    "start_time": "2023-05-26T21:12:36.188Z"
   },
   {
    "duration": 6,
    "start_time": "2023-05-26T21:12:36.301Z"
   },
   {
    "duration": 51,
    "start_time": "2023-05-26T21:12:36.313Z"
   },
   {
    "duration": 40,
    "start_time": "2023-05-26T21:12:36.369Z"
   },
   {
    "duration": 107,
    "start_time": "2023-05-26T21:12:36.412Z"
   },
   {
    "duration": 2197,
    "start_time": "2023-05-26T21:12:36.521Z"
   },
   {
    "duration": 44,
    "start_time": "2023-05-26T21:12:38.720Z"
   },
   {
    "duration": 269,
    "start_time": "2023-05-26T21:12:38.766Z"
   },
   {
    "duration": 38,
    "start_time": "2023-05-26T21:12:39.037Z"
   },
   {
    "duration": 290,
    "start_time": "2023-05-26T21:12:39.077Z"
   },
   {
    "duration": 26,
    "start_time": "2023-05-26T21:12:39.369Z"
   },
   {
    "duration": 279,
    "start_time": "2023-05-26T21:12:39.398Z"
   },
   {
    "duration": 5,
    "start_time": "2023-05-26T21:12:39.680Z"
   },
   {
    "duration": 10,
    "start_time": "2023-05-26T21:12:39.687Z"
   },
   {
    "duration": 93,
    "start_time": "2023-05-26T21:13:11.990Z"
   },
   {
    "duration": 117,
    "start_time": "2023-05-26T21:13:22.516Z"
   },
   {
    "duration": 122381,
    "start_time": "2023-05-26T21:14:18.190Z"
   },
   {
    "duration": 12,
    "start_time": "2023-05-26T21:16:20.574Z"
   },
   {
    "duration": 11,
    "start_time": "2023-05-26T21:16:35.139Z"
   },
   {
    "duration": 15,
    "start_time": "2023-05-26T21:17:01.098Z"
   },
   {
    "duration": 3937,
    "start_time": "2023-05-26T21:17:05.720Z"
   },
   {
    "duration": 3624,
    "start_time": "2023-05-26T21:17:16.815Z"
   },
   {
    "duration": 127,
    "start_time": "2023-05-26T21:17:47.371Z"
   },
   {
    "duration": 83,
    "start_time": "2023-05-26T21:18:07.714Z"
   },
   {
    "duration": 146,
    "start_time": "2023-05-26T21:18:11.439Z"
   },
   {
    "duration": 698620,
    "start_time": "2023-05-26T21:22:18.536Z"
   },
   {
    "duration": 4,
    "start_time": "2023-05-26T21:36:17.631Z"
   },
   {
    "duration": 4,
    "start_time": "2023-05-26T21:36:32.891Z"
   },
   {
    "duration": 4,
    "start_time": "2023-05-26T21:36:51.626Z"
   },
   {
    "duration": 4,
    "start_time": "2023-05-26T21:53:05.663Z"
   },
   {
    "duration": 199143,
    "start_time": "2023-05-26T21:53:05.669Z"
   },
   {
    "duration": 0,
    "start_time": "2023-05-26T21:56:24.832Z"
   },
   {
    "duration": 0,
    "start_time": "2023-05-26T21:56:24.834Z"
   },
   {
    "duration": 0,
    "start_time": "2023-05-26T21:56:24.835Z"
   },
   {
    "duration": 6,
    "start_time": "2023-05-26T21:56:27.848Z"
   },
   {
    "duration": 8243,
    "start_time": "2023-05-26T21:56:34.291Z"
   },
   {
    "duration": 46,
    "start_time": "2023-05-26T21:56:42.537Z"
   },
   {
    "duration": 5,
    "start_time": "2023-05-26T21:56:58.503Z"
   },
   {
    "duration": 1191,
    "start_time": "2023-05-26T21:56:59.201Z"
   },
   {
    "duration": 124,
    "start_time": "2023-05-26T21:57:00.394Z"
   },
   {
    "duration": 141,
    "start_time": "2023-05-26T21:57:00.520Z"
   },
   {
    "duration": 337,
    "start_time": "2023-05-26T21:57:00.664Z"
   },
   {
    "duration": 470,
    "start_time": "2023-05-26T21:57:01.003Z"
   },
   {
    "duration": 610,
    "start_time": "2023-05-26T21:57:01.475Z"
   },
   {
    "duration": 118,
    "start_time": "2023-05-26T21:57:02.087Z"
   },
   {
    "duration": 19,
    "start_time": "2023-05-26T21:57:02.207Z"
   },
   {
    "duration": 199,
    "start_time": "2023-05-26T21:57:02.228Z"
   },
   {
    "duration": 52,
    "start_time": "2023-05-26T21:57:02.429Z"
   },
   {
    "duration": 1517,
    "start_time": "2023-05-26T21:57:02.483Z"
   },
   {
    "duration": 85,
    "start_time": "2023-05-26T21:57:04.002Z"
   },
   {
    "duration": 62,
    "start_time": "2023-05-26T21:57:04.089Z"
   },
   {
    "duration": 329,
    "start_time": "2023-05-26T21:57:04.156Z"
   },
   {
    "duration": 16,
    "start_time": "2023-05-26T21:57:04.488Z"
   },
   {
    "duration": 84,
    "start_time": "2023-05-26T21:57:04.506Z"
   },
   {
    "duration": 3162,
    "start_time": "2023-05-26T21:57:04.592Z"
   },
   {
    "duration": 38,
    "start_time": "2023-05-26T21:57:07.757Z"
   },
   {
    "duration": 15,
    "start_time": "2023-05-26T21:57:07.797Z"
   },
   {
    "duration": 353,
    "start_time": "2023-05-26T21:57:07.814Z"
   },
   {
    "duration": 50,
    "start_time": "2023-05-26T21:57:08.169Z"
   },
   {
    "duration": 5785,
    "start_time": "2023-05-26T21:57:08.221Z"
   },
   {
    "duration": 316,
    "start_time": "2023-05-26T21:57:14.009Z"
   },
   {
    "duration": 77,
    "start_time": "2023-05-26T21:57:14.327Z"
   },
   {
    "duration": 116,
    "start_time": "2023-05-26T21:57:14.407Z"
   },
   {
    "duration": 105,
    "start_time": "2023-05-26T21:57:14.526Z"
   },
   {
    "duration": 270,
    "start_time": "2023-05-26T21:57:14.633Z"
   },
   {
    "duration": 57,
    "start_time": "2023-05-26T21:57:14.905Z"
   },
   {
    "duration": 654,
    "start_time": "2023-05-26T21:57:14.964Z"
   },
   {
    "duration": 271,
    "start_time": "2023-05-26T21:57:16.433Z"
   },
   {
    "duration": 362,
    "start_time": "2023-05-26T21:57:16.864Z"
   },
   {
    "duration": 4,
    "start_time": "2023-05-26T21:57:18.895Z"
   },
   {
    "duration": 2636,
    "start_time": "2023-05-26T21:57:19.091Z"
   },
   {
    "duration": 363,
    "start_time": "2023-05-26T21:57:21.729Z"
   },
   {
    "duration": 27969,
    "start_time": "2023-05-26T21:57:22.093Z"
   },
   {
    "duration": 150,
    "start_time": "2023-05-26T21:57:50.065Z"
   },
   {
    "duration": 96,
    "start_time": "2023-05-26T21:57:50.217Z"
   },
   {
    "duration": 3,
    "start_time": "2023-05-26T21:57:50.315Z"
   },
   {
    "duration": 35,
    "start_time": "2023-05-26T21:57:50.320Z"
   },
   {
    "duration": 39,
    "start_time": "2023-05-26T21:57:50.362Z"
   },
   {
    "duration": 126,
    "start_time": "2023-05-26T21:57:50.403Z"
   },
   {
    "duration": 387,
    "start_time": "2023-05-26T21:59:19.399Z"
   },
   {
    "duration": 24,
    "start_time": "2023-05-26T21:59:21.242Z"
   },
   {
    "duration": 788,
    "start_time": "2023-05-26T21:59:34.229Z"
   },
   {
    "duration": 20,
    "start_time": "2023-05-26T21:59:35.396Z"
   },
   {
    "duration": 174,
    "start_time": "2023-05-26T22:00:25.397Z"
   },
   {
    "duration": 16,
    "start_time": "2023-05-26T22:00:26.595Z"
   },
   {
    "duration": 8,
    "start_time": "2023-05-26T22:00:29.503Z"
   },
   {
    "duration": 24618,
    "start_time": "2023-05-26T22:00:41.960Z"
   },
   {
    "duration": 4,
    "start_time": "2023-05-26T22:02:00.816Z"
   },
   {
    "duration": 106,
    "start_time": "2023-05-26T22:04:10.207Z"
   },
   {
    "duration": 10683,
    "start_time": "2023-05-26T22:04:31.687Z"
   },
   {
    "duration": 6,
    "start_time": "2023-05-26T22:04:47.656Z"
   },
   {
    "duration": 15696,
    "start_time": "2023-05-26T22:05:10.730Z"
   },
   {
    "duration": 4,
    "start_time": "2023-05-26T22:05:26.428Z"
   },
   {
    "duration": 16,
    "start_time": "2023-05-26T22:06:53.058Z"
   },
   {
    "duration": 10,
    "start_time": "2023-05-26T22:07:05.226Z"
   },
   {
    "duration": 12,
    "start_time": "2023-05-26T22:07:21.960Z"
   },
   {
    "duration": 16,
    "start_time": "2023-05-26T22:08:01.323Z"
   },
   {
    "duration": 14,
    "start_time": "2023-05-26T22:08:11.199Z"
   },
   {
    "duration": 23,
    "start_time": "2023-05-26T22:08:42.446Z"
   },
   {
    "duration": 13,
    "start_time": "2023-05-26T22:08:49.732Z"
   },
   {
    "duration": 20,
    "start_time": "2023-05-26T22:09:00.325Z"
   },
   {
    "duration": 19,
    "start_time": "2023-05-26T22:09:04.613Z"
   },
   {
    "duration": 22,
    "start_time": "2023-05-26T22:09:09.057Z"
   },
   {
    "duration": 16,
    "start_time": "2023-05-26T22:09:13.618Z"
   },
   {
    "duration": 5,
    "start_time": "2023-05-26T22:09:34.797Z"
   },
   {
    "duration": 4,
    "start_time": "2023-05-26T22:09:49.393Z"
   },
   {
    "duration": 13,
    "start_time": "2023-05-26T22:10:46.011Z"
   },
   {
    "duration": 14,
    "start_time": "2023-05-26T22:10:50.591Z"
   },
   {
    "duration": 14,
    "start_time": "2023-05-26T22:12:00.099Z"
   },
   {
    "duration": 14,
    "start_time": "2023-05-26T22:13:50.919Z"
   },
   {
    "duration": 1945,
    "start_time": "2023-05-26T22:15:10.195Z"
   },
   {
    "duration": 33930,
    "start_time": "2023-05-26T22:15:27.588Z"
   },
   {
    "duration": 32897,
    "start_time": "2023-05-26T22:16:14.241Z"
   },
   {
    "duration": 124,
    "start_time": "2023-05-26T22:16:47.140Z"
   },
   {
    "duration": 10687,
    "start_time": "2023-05-26T22:24:06.596Z"
   },
   {
    "duration": 13,
    "start_time": "2023-05-26T22:24:33.992Z"
   },
   {
    "duration": 4267,
    "start_time": "2023-05-26T22:24:42.210Z"
   },
   {
    "duration": 12,
    "start_time": "2023-05-26T22:24:46.479Z"
   },
   {
    "duration": 5650,
    "start_time": "2023-05-26T22:24:55.395Z"
   },
   {
    "duration": 17,
    "start_time": "2023-05-26T22:25:01.051Z"
   },
   {
    "duration": 5443,
    "start_time": "2023-05-26T22:25:07.219Z"
   },
   {
    "duration": 20,
    "start_time": "2023-05-26T22:25:12.663Z"
   },
   {
    "duration": 4313,
    "start_time": "2023-05-26T22:25:35.260Z"
   },
   {
    "duration": 12,
    "start_time": "2023-05-26T22:25:39.575Z"
   },
   {
    "duration": 10928,
    "start_time": "2023-05-26T22:25:46.056Z"
   },
   {
    "duration": 12,
    "start_time": "2023-05-26T22:25:56.986Z"
   },
   {
    "duration": 14756,
    "start_time": "2023-05-26T22:26:01.483Z"
   },
   {
    "duration": 24,
    "start_time": "2023-05-26T22:26:16.241Z"
   },
   {
    "duration": 8703,
    "start_time": "2023-05-26T22:26:38.127Z"
   },
   {
    "duration": 20,
    "start_time": "2023-05-26T22:26:46.832Z"
   },
   {
    "duration": 13026,
    "start_time": "2023-05-26T22:26:52.459Z"
   },
   {
    "duration": 17,
    "start_time": "2023-05-26T22:27:05.487Z"
   },
   {
    "duration": 11211,
    "start_time": "2023-05-26T22:27:13.202Z"
   },
   {
    "duration": 11,
    "start_time": "2023-05-26T22:27:24.415Z"
   },
   {
    "duration": 13131,
    "start_time": "2023-05-26T22:27:34.995Z"
   },
   {
    "duration": 26,
    "start_time": "2023-05-26T22:27:48.128Z"
   },
   {
    "duration": 11250,
    "start_time": "2023-05-26T22:27:51.161Z"
   },
   {
    "duration": 13,
    "start_time": "2023-05-26T22:28:02.413Z"
   },
   {
    "duration": 13165,
    "start_time": "2023-05-26T22:28:05.804Z"
   },
   {
    "duration": 14,
    "start_time": "2023-05-26T22:28:18.971Z"
   },
   {
    "duration": 10313,
    "start_time": "2023-05-26T22:28:23.398Z"
   },
   {
    "duration": 13,
    "start_time": "2023-05-26T22:28:33.713Z"
   },
   {
    "duration": 4379,
    "start_time": "2023-05-26T22:28:37.995Z"
   },
   {
    "duration": 19,
    "start_time": "2023-05-26T22:28:42.376Z"
   },
   {
    "duration": 4613,
    "start_time": "2023-05-26T22:28:47.791Z"
   },
   {
    "duration": 16,
    "start_time": "2023-05-26T22:28:52.408Z"
   },
   {
    "duration": 13286,
    "start_time": "2023-05-26T22:28:59.296Z"
   },
   {
    "duration": 17,
    "start_time": "2023-05-26T22:29:12.585Z"
   },
   {
    "duration": 8886,
    "start_time": "2023-05-26T22:29:54.934Z"
   },
   {
    "duration": 26,
    "start_time": "2023-05-26T22:30:03.822Z"
   },
   {
    "duration": 13734,
    "start_time": "2023-05-26T22:30:11.361Z"
   },
   {
    "duration": 17,
    "start_time": "2023-05-26T22:30:25.098Z"
   },
   {
    "duration": 4,
    "start_time": "2023-05-26T22:35:32.083Z"
   },
   {
    "duration": 4,
    "start_time": "2023-05-26T22:36:38.395Z"
   },
   {
    "duration": 1187,
    "start_time": "2023-05-26T22:36:39.020Z"
   },
   {
    "duration": 132,
    "start_time": "2023-05-26T22:36:40.209Z"
   },
   {
    "duration": 159,
    "start_time": "2023-05-26T22:36:40.342Z"
   },
   {
    "duration": 311,
    "start_time": "2023-05-26T22:36:40.504Z"
   },
   {
    "duration": 455,
    "start_time": "2023-05-26T22:36:40.817Z"
   },
   {
    "duration": 602,
    "start_time": "2023-05-26T22:36:41.274Z"
   },
   {
    "duration": 105,
    "start_time": "2023-05-26T22:36:41.879Z"
   },
   {
    "duration": 19,
    "start_time": "2023-05-26T22:36:41.986Z"
   },
   {
    "duration": 127,
    "start_time": "2023-05-26T22:36:42.007Z"
   },
   {
    "duration": 5,
    "start_time": "2023-05-26T22:36:44.755Z"
   },
   {
    "duration": 1490,
    "start_time": "2023-05-26T22:36:45.503Z"
   },
   {
    "duration": 78,
    "start_time": "2023-05-26T22:36:47.691Z"
   },
   {
    "duration": 55,
    "start_time": "2023-05-26T22:36:50.149Z"
   },
   {
    "duration": 326,
    "start_time": "2023-05-26T22:36:51.328Z"
   },
   {
    "duration": 19,
    "start_time": "2023-05-26T22:36:52.397Z"
   },
   {
    "duration": 77,
    "start_time": "2023-05-26T22:36:52.682Z"
   },
   {
    "duration": 3269,
    "start_time": "2023-05-26T22:36:54.995Z"
   },
   {
    "duration": 37,
    "start_time": "2023-05-26T22:36:58.267Z"
   },
   {
    "duration": 17,
    "start_time": "2023-05-26T22:36:58.306Z"
   },
   {
    "duration": 343,
    "start_time": "2023-05-26T22:36:58.325Z"
   },
   {
    "duration": 53,
    "start_time": "2023-05-26T22:36:58.670Z"
   },
   {
    "duration": 5692,
    "start_time": "2023-05-26T22:36:58.725Z"
   },
   {
    "duration": 307,
    "start_time": "2023-05-26T22:37:04.419Z"
   },
   {
    "duration": 74,
    "start_time": "2023-05-26T22:37:04.728Z"
   },
   {
    "duration": 96,
    "start_time": "2023-05-26T22:37:04.804Z"
   },
   {
    "duration": 88,
    "start_time": "2023-05-26T22:37:04.902Z"
   },
   {
    "duration": 263,
    "start_time": "2023-05-26T22:37:04.992Z"
   },
   {
    "duration": 59,
    "start_time": "2023-05-26T22:37:05.259Z"
   },
   {
    "duration": 345,
    "start_time": "2023-05-26T22:37:05.320Z"
   },
   {
    "duration": 294,
    "start_time": "2023-05-26T22:37:05.667Z"
   },
   {
    "duration": 346,
    "start_time": "2023-05-26T22:37:05.963Z"
   },
   {
    "duration": 4,
    "start_time": "2023-05-26T22:37:06.312Z"
   },
   {
    "duration": 2968,
    "start_time": "2023-05-26T22:37:06.320Z"
   },
   {
    "duration": 342,
    "start_time": "2023-05-26T22:37:09.290Z"
   },
   {
    "duration": 28325,
    "start_time": "2023-05-26T22:37:09.634Z"
   },
   {
    "duration": 148,
    "start_time": "2023-05-26T22:37:37.962Z"
   },
   {
    "duration": 124,
    "start_time": "2023-05-26T22:37:38.112Z"
   },
   {
    "duration": 11,
    "start_time": "2023-05-26T22:37:38.238Z"
   },
   {
    "duration": 13,
    "start_time": "2023-05-26T22:37:41.298Z"
   },
   {
    "duration": 26,
    "start_time": "2023-05-26T22:37:42.098Z"
   },
   {
    "duration": 109,
    "start_time": "2023-05-26T22:37:43.802Z"
   },
   {
    "duration": 390,
    "start_time": "2023-05-26T22:37:48.691Z"
   },
   {
    "duration": 16,
    "start_time": "2023-05-26T22:37:49.089Z"
   },
   {
    "duration": 625,
    "start_time": "2023-05-26T22:37:55.013Z"
   },
   {
    "duration": 15,
    "start_time": "2023-05-26T22:37:56.026Z"
   },
   {
    "duration": 13,
    "start_time": "2023-05-26T22:37:59.209Z"
   },
   {
    "duration": 180,
    "start_time": "2023-05-26T22:38:00.533Z"
   },
   {
    "duration": 18,
    "start_time": "2023-05-26T22:38:02.623Z"
   },
   {
    "duration": 12302,
    "start_time": "2023-05-26T22:38:10.732Z"
   },
   {
    "duration": 27,
    "start_time": "2023-05-26T22:38:23.037Z"
   },
   {
    "duration": 3,
    "start_time": "2023-05-26T22:40:11.046Z"
   },
   {
    "duration": 2101,
    "start_time": "2023-05-26T22:40:51.394Z"
   },
   {
    "duration": 3,
    "start_time": "2023-05-26T22:41:27.489Z"
   },
   {
    "duration": 2145,
    "start_time": "2023-05-26T22:41:41.697Z"
   },
   {
    "duration": 446,
    "start_time": "2023-05-26T22:42:49.451Z"
   },
   {
    "duration": 12,
    "start_time": "2023-05-26T22:42:50.497Z"
   },
   {
    "duration": 163,
    "start_time": "2023-05-26T22:42:54.028Z"
   },
   {
    "duration": 13,
    "start_time": "2023-05-26T22:42:56.895Z"
   },
   {
    "duration": 4,
    "start_time": "2023-05-26T22:42:57.533Z"
   },
   {
    "duration": 11443,
    "start_time": "2023-05-26T22:42:58.887Z"
   },
   {
    "duration": 22,
    "start_time": "2023-05-26T22:43:10.332Z"
   },
   {
    "duration": 2469,
    "start_time": "2023-05-26T22:43:10.356Z"
   },
   {
    "duration": 14,
    "start_time": "2023-05-26T22:43:12.828Z"
   },
   {
    "duration": 21,
    "start_time": "2023-05-26T22:43:56.696Z"
   },
   {
    "duration": 16,
    "start_time": "2023-05-26T22:44:12.203Z"
   },
   {
    "duration": 13,
    "start_time": "2023-05-26T22:44:18.105Z"
   },
   {
    "duration": 94,
    "start_time": "2023-05-26T22:44:29.895Z"
   },
   {
    "duration": 444,
    "start_time": "2023-05-26T22:44:32.510Z"
   },
   {
    "duration": 12,
    "start_time": "2023-05-26T22:44:33.696Z"
   },
   {
    "duration": 585,
    "start_time": "2023-05-26T22:44:37.307Z"
   },
   {
    "duration": 13,
    "start_time": "2023-05-26T22:44:37.894Z"
   },
   {
    "duration": 161,
    "start_time": "2023-05-26T22:44:39.908Z"
   },
   {
    "duration": 11,
    "start_time": "2023-05-26T22:44:40.329Z"
   },
   {
    "duration": 2,
    "start_time": "2023-05-26T22:44:41.244Z"
   },
   {
    "duration": 11195,
    "start_time": "2023-05-26T22:44:42.287Z"
   },
   {
    "duration": 15,
    "start_time": "2023-05-26T22:44:53.484Z"
   },
   {
    "duration": 108040,
    "start_time": "2023-05-26T22:44:53.501Z"
   },
   {
    "duration": 721,
    "start_time": "2023-05-26T22:46:41.543Z"
   },
   {
    "duration": 11380,
    "start_time": "2023-05-26T22:52:16.745Z"
   },
   {
    "duration": 21,
    "start_time": "2023-05-26T22:52:28.127Z"
   },
   {
    "duration": 11025,
    "start_time": "2023-05-26T22:53:33.283Z"
   },
   {
    "duration": 15,
    "start_time": "2023-05-26T22:53:44.311Z"
   },
   {
    "duration": 97,
    "start_time": "2023-05-26T22:59:44.494Z"
   },
   {
    "duration": 79,
    "start_time": "2023-05-26T22:59:57.886Z"
   },
   {
    "duration": 1595,
    "start_time": "2023-05-26T23:00:05.318Z"
   },
   {
    "duration": 114,
    "start_time": "2023-05-26T23:00:18.820Z"
   },
   {
    "duration": 10,
    "start_time": "2023-05-26T23:01:13.282Z"
   },
   {
    "duration": 10,
    "start_time": "2023-05-26T23:01:29.486Z"
   },
   {
    "duration": 5,
    "start_time": "2023-05-26T23:01:37.618Z"
   },
   {
    "duration": 81,
    "start_time": "2023-05-26T23:02:16.507Z"
   },
   {
    "duration": 88,
    "start_time": "2023-05-26T23:08:28.884Z"
   },
   {
    "duration": 102,
    "start_time": "2023-05-26T23:10:10.220Z"
   },
   {
    "duration": 73,
    "start_time": "2023-05-26T23:11:43.544Z"
   },
   {
    "duration": 82,
    "start_time": "2023-05-26T23:12:47.644Z"
   },
   {
    "duration": 85,
    "start_time": "2023-05-26T23:16:40.460Z"
   },
   {
    "duration": 1003,
    "start_time": "2023-05-26T23:16:48.202Z"
   },
   {
    "duration": 1109,
    "start_time": "2023-05-26T23:17:09.921Z"
   },
   {
    "duration": 942,
    "start_time": "2023-05-26T23:17:17.791Z"
   },
   {
    "duration": 991,
    "start_time": "2023-05-26T23:17:25.149Z"
   },
   {
    "duration": 23697,
    "start_time": "2023-05-26T23:18:04.062Z"
   },
   {
    "duration": 11,
    "start_time": "2023-05-26T23:18:49.953Z"
   },
   {
    "duration": 6,
    "start_time": "2023-05-26T23:19:06.788Z"
   },
   {
    "duration": 13,
    "start_time": "2023-05-26T23:19:50.292Z"
   },
   {
    "duration": 4,
    "start_time": "2023-05-26T23:19:58.546Z"
   },
   {
    "duration": 3,
    "start_time": "2023-05-26T23:20:07.506Z"
   },
   {
    "duration": 4,
    "start_time": "2023-05-26T23:20:18.989Z"
   },
   {
    "duration": 109,
    "start_time": "2023-05-26T23:20:36.684Z"
   },
   {
    "duration": 23587,
    "start_time": "2023-05-26T23:20:49.229Z"
   },
   {
    "duration": 3,
    "start_time": "2023-05-26T23:21:12.818Z"
   },
   {
    "duration": 18,
    "start_time": "2023-05-26T23:21:12.822Z"
   },
   {
    "duration": 6,
    "start_time": "2023-05-26T23:21:31.989Z"
   },
   {
    "duration": 101,
    "start_time": "2023-05-26T23:21:36.088Z"
   },
   {
    "duration": 47490,
    "start_time": "2023-05-26T23:21:58.700Z"
   },
   {
    "duration": 3,
    "start_time": "2023-05-26T23:22:46.193Z"
   },
   {
    "duration": 45,
    "start_time": "2023-05-26T23:22:46.197Z"
   },
   {
    "duration": 140,
    "start_time": "2023-05-26T23:23:01.590Z"
   },
   {
    "duration": 4,
    "start_time": "2023-05-26T23:23:04.889Z"
   },
   {
    "duration": 124,
    "start_time": "2023-05-26T23:23:12.611Z"
   },
   {
    "duration": 106418,
    "start_time": "2023-05-26T23:23:53.088Z"
   },
   {
    "duration": 3,
    "start_time": "2023-05-26T23:25:39.508Z"
   },
   {
    "duration": 8,
    "start_time": "2023-05-26T23:25:39.512Z"
   },
   {
    "duration": 111,
    "start_time": "2023-05-26T23:25:39.521Z"
   },
   {
    "duration": 12,
    "start_time": "2023-05-26T23:26:36.676Z"
   },
   {
    "duration": 9,
    "start_time": "2023-05-26T23:26:38.524Z"
   },
   {
    "duration": 4,
    "start_time": "2023-05-26T23:27:20.937Z"
   },
   {
    "duration": 4,
    "start_time": "2023-05-26T23:27:31.659Z"
   },
   {
    "duration": 4,
    "start_time": "2023-05-26T23:27:33.725Z"
   },
   {
    "duration": 5,
    "start_time": "2023-05-26T23:27:42.778Z"
   },
   {
    "duration": 4,
    "start_time": "2023-05-26T23:28:10.003Z"
   },
   {
    "duration": 4,
    "start_time": "2023-05-26T23:28:27.816Z"
   },
   {
    "duration": 5,
    "start_time": "2023-05-26T23:28:33.480Z"
   },
   {
    "duration": 5,
    "start_time": "2023-05-26T23:28:51.312Z"
   },
   {
    "duration": 5,
    "start_time": "2023-05-26T23:29:00.287Z"
   },
   {
    "duration": 7,
    "start_time": "2023-05-26T23:29:16.905Z"
   },
   {
    "duration": 5,
    "start_time": "2023-05-26T23:29:31.383Z"
   },
   {
    "duration": 5,
    "start_time": "2023-05-26T23:29:45.050Z"
   },
   {
    "duration": 119,
    "start_time": "2023-05-26T23:29:56.158Z"
   },
   {
    "duration": 153,
    "start_time": "2023-05-26T23:30:09.327Z"
   },
   {
    "duration": 116,
    "start_time": "2023-05-26T23:30:24.683Z"
   },
   {
    "duration": 16,
    "start_time": "2023-05-26T23:31:21.344Z"
   },
   {
    "duration": 6,
    "start_time": "2023-05-26T23:31:25.654Z"
   },
   {
    "duration": 116,
    "start_time": "2023-05-26T23:31:27.208Z"
   },
   {
    "duration": 16,
    "start_time": "2023-05-26T23:32:00.056Z"
   },
   {
    "duration": 20,
    "start_time": "2023-05-26T23:32:18.885Z"
   },
   {
    "duration": 16,
    "start_time": "2023-05-26T23:32:30.203Z"
   },
   {
    "duration": 53417,
    "start_time": "2023-05-26T23:34:52.029Z"
   },
   {
    "duration": 5,
    "start_time": "2023-05-26T23:36:18.343Z"
   },
   {
    "duration": 5,
    "start_time": "2023-05-26T23:36:28.639Z"
   },
   {
    "duration": 4015,
    "start_time": "2023-05-26T23:36:42.047Z"
   },
   {
    "duration": 2214,
    "start_time": "2023-05-26T23:36:46.065Z"
   },
   {
    "duration": 1017,
    "start_time": "2023-05-26T23:36:48.281Z"
   },
   {
    "duration": 146,
    "start_time": "2023-05-26T23:36:49.300Z"
   },
   {
    "duration": 153,
    "start_time": "2023-05-26T23:36:49.448Z"
   },
   {
    "duration": 292,
    "start_time": "2023-05-26T23:36:49.603Z"
   },
   {
    "duration": 580,
    "start_time": "2023-05-26T23:36:49.897Z"
   },
   {
    "duration": 616,
    "start_time": "2023-05-26T23:36:50.479Z"
   },
   {
    "duration": 115,
    "start_time": "2023-05-26T23:36:51.097Z"
   },
   {
    "duration": 19,
    "start_time": "2023-05-26T23:36:51.213Z"
   },
   {
    "duration": 129,
    "start_time": "2023-05-26T23:36:51.234Z"
   },
   {
    "duration": 11,
    "start_time": "2023-05-26T23:36:51.365Z"
   },
   {
    "duration": 1374,
    "start_time": "2023-05-26T23:36:51.377Z"
   },
   {
    "duration": 103,
    "start_time": "2023-05-26T23:36:52.754Z"
   },
   {
    "duration": 49,
    "start_time": "2023-05-26T23:36:52.859Z"
   },
   {
    "duration": 361,
    "start_time": "2023-05-26T23:36:52.910Z"
   },
   {
    "duration": 17,
    "start_time": "2023-05-26T23:36:53.273Z"
   },
   {
    "duration": 93,
    "start_time": "2023-05-26T23:36:53.293Z"
   },
   {
    "duration": 2769,
    "start_time": "2023-05-26T23:36:53.388Z"
   },
   {
    "duration": 41,
    "start_time": "2023-05-26T23:36:56.160Z"
   },
   {
    "duration": 15,
    "start_time": "2023-05-26T23:36:56.203Z"
   },
   {
    "duration": 328,
    "start_time": "2023-05-26T23:36:56.220Z"
   },
   {
    "duration": 49,
    "start_time": "2023-05-26T23:36:56.550Z"
   },
   {
    "duration": 5117,
    "start_time": "2023-05-26T23:36:56.601Z"
   },
   {
    "duration": 356,
    "start_time": "2023-05-26T23:37:01.719Z"
   },
   {
    "duration": 80,
    "start_time": "2023-05-26T23:37:02.077Z"
   },
   {
    "duration": 76,
    "start_time": "2023-05-26T23:37:02.159Z"
   },
   {
    "duration": 113,
    "start_time": "2023-05-26T23:37:02.247Z"
   },
   {
    "duration": 317,
    "start_time": "2023-05-26T23:37:02.363Z"
   },
   {
    "duration": 51,
    "start_time": "2023-05-26T23:37:02.682Z"
   },
   {
    "duration": 319,
    "start_time": "2023-05-26T23:37:02.747Z"
   },
   {
    "duration": 271,
    "start_time": "2023-05-26T23:37:03.068Z"
   },
   {
    "duration": 569,
    "start_time": "2023-05-26T23:37:03.340Z"
   },
   {
    "duration": 4,
    "start_time": "2023-05-26T23:37:03.910Z"
   },
   {
    "duration": 2599,
    "start_time": "2023-05-26T23:37:03.915Z"
   },
   {
    "duration": 375,
    "start_time": "2023-05-26T23:37:06.516Z"
   },
   {
    "duration": 26711,
    "start_time": "2023-05-26T23:37:06.893Z"
   },
   {
    "duration": 144,
    "start_time": "2023-05-26T23:37:33.606Z"
   },
   {
    "duration": 81,
    "start_time": "2023-05-26T23:37:33.752Z"
   },
   {
    "duration": 4,
    "start_time": "2023-05-26T23:37:33.846Z"
   },
   {
    "duration": 25,
    "start_time": "2023-05-26T23:37:33.853Z"
   },
   {
    "duration": 39,
    "start_time": "2023-05-26T23:37:33.880Z"
   },
   {
    "duration": 111,
    "start_time": "2023-05-26T23:37:33.921Z"
   },
   {
    "duration": 464,
    "start_time": "2023-05-26T23:37:34.033Z"
   },
   {
    "duration": 11,
    "start_time": "2023-05-26T23:37:34.499Z"
   },
   {
    "duration": 598,
    "start_time": "2023-05-26T23:37:34.512Z"
   },
   {
    "duration": 10,
    "start_time": "2023-05-26T23:37:35.112Z"
   },
   {
    "duration": 205,
    "start_time": "2023-05-26T23:37:35.124Z"
   },
   {
    "duration": 18,
    "start_time": "2023-05-26T23:37:35.330Z"
   },
   {
    "duration": 21,
    "start_time": "2023-05-26T23:37:35.350Z"
   },
   {
    "duration": 12147,
    "start_time": "2023-05-26T23:37:35.373Z"
   },
   {
    "duration": 169,
    "start_time": "2023-05-26T23:37:47.521Z"
   },
   {
    "duration": 0,
    "start_time": "2023-05-26T23:37:47.693Z"
   },
   {
    "duration": 0,
    "start_time": "2023-05-26T23:37:47.695Z"
   },
   {
    "duration": 0,
    "start_time": "2023-05-26T23:37:47.695Z"
   },
   {
    "duration": 0,
    "start_time": "2023-05-26T23:37:47.697Z"
   },
   {
    "duration": 0,
    "start_time": "2023-05-26T23:37:47.698Z"
   },
   {
    "duration": 13,
    "start_time": "2023-05-26T23:38:45.315Z"
   },
   {
    "duration": 4,
    "start_time": "2023-05-26T23:40:10.738Z"
   },
   {
    "duration": 18,
    "start_time": "2023-05-26T23:40:14.207Z"
   },
   {
    "duration": 11581,
    "start_time": "2023-05-26T23:40:22.379Z"
   },
   {
    "duration": 17,
    "start_time": "2023-05-26T23:40:33.963Z"
   },
   {
    "duration": 110246,
    "start_time": "2023-05-26T23:40:41.602Z"
   },
   {
    "duration": 4,
    "start_time": "2023-05-26T23:42:31.851Z"
   },
   {
    "duration": 147,
    "start_time": "2023-05-26T23:42:31.857Z"
   },
   {
    "duration": 16965,
    "start_time": "2023-05-26T23:42:32.006Z"
   },
   {
    "duration": 0,
    "start_time": "2023-05-26T23:42:48.973Z"
   },
   {
    "duration": 0,
    "start_time": "2023-05-26T23:43:31.661Z"
   },
   {
    "duration": 0,
    "start_time": "2023-05-26T23:43:31.663Z"
   },
   {
    "duration": 0,
    "start_time": "2023-05-26T23:43:31.664Z"
   },
   {
    "duration": 76973,
    "start_time": "2023-05-26T23:43:33.489Z"
   },
   {
    "duration": 5,
    "start_time": "2023-05-26T23:44:50.464Z"
   },
   {
    "duration": 140,
    "start_time": "2023-05-26T23:44:50.471Z"
   },
   {
    "duration": 2600,
    "start_time": "2023-05-26T23:45:21.481Z"
   },
   {
    "duration": 1476,
    "start_time": "2023-05-26T23:45:24.085Z"
   },
   {
    "duration": 967,
    "start_time": "2023-05-26T23:45:25.563Z"
   },
   {
    "duration": 158,
    "start_time": "2023-05-26T23:45:26.532Z"
   },
   {
    "duration": 165,
    "start_time": "2023-05-26T23:45:26.693Z"
   },
   {
    "duration": 336,
    "start_time": "2023-05-26T23:45:26.861Z"
   },
   {
    "duration": 586,
    "start_time": "2023-05-26T23:45:27.200Z"
   },
   {
    "duration": 637,
    "start_time": "2023-05-26T23:45:27.788Z"
   },
   {
    "duration": 105,
    "start_time": "2023-05-26T23:45:28.426Z"
   },
   {
    "duration": 22,
    "start_time": "2023-05-26T23:45:28.533Z"
   },
   {
    "duration": 123,
    "start_time": "2023-05-26T23:45:28.558Z"
   },
   {
    "duration": 5,
    "start_time": "2023-05-26T23:45:28.683Z"
   },
   {
    "duration": 1299,
    "start_time": "2023-05-26T23:45:28.689Z"
   },
   {
    "duration": 93,
    "start_time": "2023-05-26T23:45:29.991Z"
   },
   {
    "duration": 47,
    "start_time": "2023-05-26T23:45:30.086Z"
   },
   {
    "duration": 345,
    "start_time": "2023-05-26T23:45:30.146Z"
   },
   {
    "duration": 20,
    "start_time": "2023-05-26T23:45:30.494Z"
   },
   {
    "duration": 144,
    "start_time": "2023-05-26T23:45:30.516Z"
   },
   {
    "duration": 3067,
    "start_time": "2023-05-26T23:45:30.662Z"
   },
   {
    "duration": 49,
    "start_time": "2023-05-26T23:45:33.731Z"
   },
   {
    "duration": 17,
    "start_time": "2023-05-26T23:45:33.782Z"
   },
   {
    "duration": 301,
    "start_time": "2023-05-26T23:45:33.801Z"
   },
   {
    "duration": 69,
    "start_time": "2023-05-26T23:45:34.104Z"
   },
   {
    "duration": 4998,
    "start_time": "2023-05-26T23:45:34.175Z"
   },
   {
    "duration": 300,
    "start_time": "2023-05-26T23:45:39.175Z"
   },
   {
    "duration": 53,
    "start_time": "2023-05-26T23:45:39.477Z"
   },
   {
    "duration": 88,
    "start_time": "2023-05-26T23:45:39.531Z"
   },
   {
    "duration": 95,
    "start_time": "2023-05-26T23:45:39.621Z"
   },
   {
    "duration": 296,
    "start_time": "2023-05-26T23:45:39.718Z"
   },
   {
    "duration": 42,
    "start_time": "2023-05-26T23:45:40.016Z"
   },
   {
    "duration": 321,
    "start_time": "2023-05-26T23:45:40.060Z"
   },
   {
    "duration": 252,
    "start_time": "2023-05-26T23:45:40.383Z"
   },
   {
    "duration": 559,
    "start_time": "2023-05-26T23:45:40.637Z"
   },
   {
    "duration": 3,
    "start_time": "2023-05-26T23:45:41.198Z"
   },
   {
    "duration": 2524,
    "start_time": "2023-05-26T23:45:41.203Z"
   },
   {
    "duration": 327,
    "start_time": "2023-05-26T23:45:43.729Z"
   },
   {
    "duration": 26026,
    "start_time": "2023-05-26T23:45:44.058Z"
   },
   {
    "duration": 146,
    "start_time": "2023-05-26T23:46:10.086Z"
   },
   {
    "duration": 93,
    "start_time": "2023-05-26T23:46:10.234Z"
   },
   {
    "duration": 18,
    "start_time": "2023-05-26T23:46:10.329Z"
   },
   {
    "duration": 22,
    "start_time": "2023-05-26T23:46:10.353Z"
   },
   {
    "duration": 32,
    "start_time": "2023-05-26T23:46:10.377Z"
   },
   {
    "duration": 119,
    "start_time": "2023-05-26T23:46:10.411Z"
   },
   {
    "duration": 484,
    "start_time": "2023-05-26T23:46:10.532Z"
   },
   {
    "duration": 12,
    "start_time": "2023-05-26T23:46:11.018Z"
   },
   {
    "duration": 648,
    "start_time": "2023-05-26T23:46:11.032Z"
   },
   {
    "duration": 10,
    "start_time": "2023-05-26T23:46:11.682Z"
   },
   {
    "duration": 194,
    "start_time": "2023-05-26T23:46:11.693Z"
   },
   {
    "duration": 11,
    "start_time": "2023-05-26T23:46:11.889Z"
   },
   {
    "duration": 10,
    "start_time": "2023-05-26T23:46:11.902Z"
   },
   {
    "duration": 12705,
    "start_time": "2023-05-26T23:46:11.914Z"
   },
   {
    "duration": 27,
    "start_time": "2023-05-26T23:46:24.620Z"
   },
   {
    "duration": 108107,
    "start_time": "2023-05-26T23:46:24.650Z"
   },
   {
    "duration": 5,
    "start_time": "2023-05-26T23:48:12.759Z"
   },
   {
    "duration": 140,
    "start_time": "2023-05-26T23:48:12.767Z"
   },
   {
    "duration": 29495,
    "start_time": "2023-05-26T23:48:40.068Z"
   },
   {
    "duration": 5,
    "start_time": "2023-05-26T23:49:09.646Z"
   },
   {
    "duration": 1862,
    "start_time": "2023-05-27T07:30:54.516Z"
   },
   {
    "duration": 1071,
    "start_time": "2023-05-27T07:30:57.589Z"
   },
   {
    "duration": 128,
    "start_time": "2023-05-27T07:30:58.661Z"
   },
   {
    "duration": 143,
    "start_time": "2023-05-27T07:30:58.791Z"
   },
   {
    "duration": 289,
    "start_time": "2023-05-27T07:30:58.937Z"
   },
   {
    "duration": 482,
    "start_time": "2023-05-27T07:30:59.228Z"
   },
   {
    "duration": 569,
    "start_time": "2023-05-27T07:30:59.712Z"
   },
   {
    "duration": 106,
    "start_time": "2023-05-27T07:31:00.282Z"
   },
   {
    "duration": 19,
    "start_time": "2023-05-27T07:31:00.390Z"
   },
   {
    "duration": 218,
    "start_time": "2023-05-27T07:31:00.410Z"
   },
   {
    "duration": 50,
    "start_time": "2023-05-27T07:31:00.629Z"
   },
   {
    "duration": 1360,
    "start_time": "2023-05-27T07:31:00.681Z"
   },
   {
    "duration": 91,
    "start_time": "2023-05-27T07:31:02.042Z"
   },
   {
    "duration": 45,
    "start_time": "2023-05-27T07:31:02.135Z"
   },
   {
    "duration": 447,
    "start_time": "2023-05-27T07:31:02.183Z"
   },
   {
    "duration": 16,
    "start_time": "2023-05-27T07:31:02.632Z"
   },
   {
    "duration": 84,
    "start_time": "2023-05-27T07:31:02.650Z"
   },
   {
    "duration": 2671,
    "start_time": "2023-05-27T07:31:02.736Z"
   },
   {
    "duration": 39,
    "start_time": "2023-05-27T07:31:05.408Z"
   },
   {
    "duration": 12,
    "start_time": "2023-05-27T07:31:05.449Z"
   },
   {
    "duration": 283,
    "start_time": "2023-05-27T07:31:05.464Z"
   },
   {
    "duration": 46,
    "start_time": "2023-05-27T07:31:05.749Z"
   },
   {
    "duration": 4607,
    "start_time": "2023-05-27T07:31:05.797Z"
   },
   {
    "duration": 277,
    "start_time": "2023-05-27T07:31:10.405Z"
   },
   {
    "duration": 67,
    "start_time": "2023-05-27T07:31:10.683Z"
   },
   {
    "duration": 77,
    "start_time": "2023-05-27T07:31:10.752Z"
   },
   {
    "duration": 81,
    "start_time": "2023-05-27T07:31:10.831Z"
   },
   {
    "duration": 256,
    "start_time": "2023-05-27T07:31:10.924Z"
   },
   {
    "duration": 43,
    "start_time": "2023-05-27T07:31:11.182Z"
   },
   {
    "duration": 266,
    "start_time": "2023-05-27T07:31:11.227Z"
   },
   {
    "duration": 229,
    "start_time": "2023-05-27T07:31:11.495Z"
   },
   {
    "duration": 292,
    "start_time": "2023-05-27T07:31:11.726Z"
   },
   {
    "duration": 3,
    "start_time": "2023-05-27T07:31:12.025Z"
   },
   {
    "duration": 2468,
    "start_time": "2023-05-27T07:31:12.032Z"
   },
   {
    "duration": 274,
    "start_time": "2023-05-27T07:31:14.502Z"
   },
   {
    "duration": 21760,
    "start_time": "2023-05-27T07:31:14.778Z"
   },
   {
    "duration": 160,
    "start_time": "2023-05-27T07:31:36.540Z"
   },
   {
    "duration": 79,
    "start_time": "2023-05-27T07:31:36.701Z"
   },
   {
    "duration": 40,
    "start_time": "2023-05-27T07:31:36.783Z"
   },
   {
    "duration": 52,
    "start_time": "2023-05-27T07:31:36.825Z"
   },
   {
    "duration": 72,
    "start_time": "2023-05-27T07:31:36.879Z"
   },
   {
    "duration": 104,
    "start_time": "2023-05-27T07:31:36.953Z"
   },
   {
    "duration": 127,
    "start_time": "2023-05-27T07:31:37.059Z"
   },
   {
    "duration": 0,
    "start_time": "2023-05-27T07:31:37.187Z"
   },
   {
    "duration": 0,
    "start_time": "2023-05-27T07:31:37.188Z"
   },
   {
    "duration": 0,
    "start_time": "2023-05-27T07:31:37.190Z"
   },
   {
    "duration": 0,
    "start_time": "2023-05-27T07:31:37.190Z"
   },
   {
    "duration": 0,
    "start_time": "2023-05-27T07:31:37.191Z"
   },
   {
    "duration": 0,
    "start_time": "2023-05-27T07:31:37.192Z"
   },
   {
    "duration": 17,
    "start_time": "2023-05-27T07:31:52.814Z"
   },
   {
    "duration": 7269,
    "start_time": "2023-05-27T07:32:14.244Z"
   },
   {
    "duration": 2508,
    "start_time": "2023-05-27T07:32:30.213Z"
   },
   {
    "duration": 1304,
    "start_time": "2023-05-27T07:32:32.724Z"
   },
   {
    "duration": 861,
    "start_time": "2023-05-27T07:32:34.580Z"
   },
   {
    "duration": 131,
    "start_time": "2023-05-27T07:32:35.444Z"
   },
   {
    "duration": 160,
    "start_time": "2023-05-27T07:32:35.577Z"
   },
   {
    "duration": 257,
    "start_time": "2023-05-27T07:32:35.739Z"
   },
   {
    "duration": 450,
    "start_time": "2023-05-27T07:32:35.998Z"
   },
   {
    "duration": 568,
    "start_time": "2023-05-27T07:32:36.450Z"
   },
   {
    "duration": 84,
    "start_time": "2023-05-27T07:32:37.020Z"
   },
   {
    "duration": 29,
    "start_time": "2023-05-27T07:32:37.105Z"
   },
   {
    "duration": 104,
    "start_time": "2023-05-27T07:32:37.135Z"
   },
   {
    "duration": 69,
    "start_time": "2023-05-27T07:32:37.241Z"
   },
   {
    "duration": 1174,
    "start_time": "2023-05-27T07:32:37.312Z"
   },
   {
    "duration": 85,
    "start_time": "2023-05-27T07:32:38.488Z"
   },
   {
    "duration": 54,
    "start_time": "2023-05-27T07:32:38.574Z"
   },
   {
    "duration": 360,
    "start_time": "2023-05-27T07:32:38.629Z"
   },
   {
    "duration": 14,
    "start_time": "2023-05-27T07:32:38.991Z"
   },
   {
    "duration": 76,
    "start_time": "2023-05-27T07:32:39.006Z"
   },
   {
    "duration": 2451,
    "start_time": "2023-05-27T07:32:39.083Z"
   },
   {
    "duration": 31,
    "start_time": "2023-05-27T07:32:41.536Z"
   },
   {
    "duration": 13,
    "start_time": "2023-05-27T07:32:41.570Z"
   },
   {
    "duration": 275,
    "start_time": "2023-05-27T07:32:41.584Z"
   },
   {
    "duration": 44,
    "start_time": "2023-05-27T07:32:41.861Z"
   },
   {
    "duration": 4444,
    "start_time": "2023-05-27T07:32:41.907Z"
   },
   {
    "duration": 249,
    "start_time": "2023-05-27T07:32:46.353Z"
   },
   {
    "duration": 64,
    "start_time": "2023-05-27T07:32:46.604Z"
   },
   {
    "duration": 73,
    "start_time": "2023-05-27T07:32:46.670Z"
   },
   {
    "duration": 70,
    "start_time": "2023-05-27T07:32:46.745Z"
   },
   {
    "duration": 205,
    "start_time": "2023-05-27T07:32:46.825Z"
   },
   {
    "duration": 35,
    "start_time": "2023-05-27T07:32:47.032Z"
   },
   {
    "duration": 287,
    "start_time": "2023-05-27T07:32:47.069Z"
   },
   {
    "duration": 233,
    "start_time": "2023-05-27T07:32:47.358Z"
   },
   {
    "duration": 476,
    "start_time": "2023-05-27T07:32:47.592Z"
   },
   {
    "duration": 4,
    "start_time": "2023-05-27T07:32:48.069Z"
   },
   {
    "duration": 2018,
    "start_time": "2023-05-27T07:32:48.074Z"
   },
   {
    "duration": 253,
    "start_time": "2023-05-27T07:32:50.094Z"
   },
   {
    "duration": 22338,
    "start_time": "2023-05-27T07:32:50.348Z"
   },
   {
    "duration": 163,
    "start_time": "2023-05-27T07:33:12.687Z"
   },
   {
    "duration": 96,
    "start_time": "2023-05-27T07:33:12.852Z"
   },
   {
    "duration": 23,
    "start_time": "2023-05-27T07:33:12.950Z"
   },
   {
    "duration": 52,
    "start_time": "2023-05-27T07:33:12.975Z"
   },
   {
    "duration": 50,
    "start_time": "2023-05-27T07:33:13.029Z"
   },
   {
    "duration": 104,
    "start_time": "2023-05-27T07:33:13.081Z"
   },
   {
    "duration": 483,
    "start_time": "2023-05-27T07:33:13.187Z"
   },
   {
    "duration": 14,
    "start_time": "2023-05-27T07:33:13.671Z"
   },
   {
    "duration": 748,
    "start_time": "2023-05-27T07:33:13.687Z"
   },
   {
    "duration": 10,
    "start_time": "2023-05-27T07:33:14.436Z"
   },
   {
    "duration": 165,
    "start_time": "2023-05-27T07:33:14.447Z"
   },
   {
    "duration": 13,
    "start_time": "2023-05-27T07:33:14.614Z"
   },
   {
    "duration": 11,
    "start_time": "2023-05-27T07:33:14.629Z"
   },
   {
    "duration": 234612,
    "start_time": "2023-05-27T07:33:51.814Z"
   },
   {
    "duration": 808,
    "start_time": "2023-05-27T07:37:46.428Z"
   },
   {
    "duration": 0,
    "start_time": "2023-05-27T07:37:47.238Z"
   },
   {
    "duration": 0,
    "start_time": "2023-05-27T07:37:47.239Z"
   },
   {
    "duration": 0,
    "start_time": "2023-05-27T07:37:47.240Z"
   },
   {
    "duration": 0,
    "start_time": "2023-05-27T07:37:47.241Z"
   },
   {
    "duration": 0,
    "start_time": "2023-05-27T07:37:47.243Z"
   },
   {
    "duration": 636,
    "start_time": "2023-05-27T07:43:52.210Z"
   },
   {
    "duration": 10066,
    "start_time": "2023-05-27T07:44:04.943Z"
   },
   {
    "duration": 20,
    "start_time": "2023-05-27T07:44:15.011Z"
   },
   {
    "duration": 93844,
    "start_time": "2023-05-27T07:44:15.034Z"
   },
   {
    "duration": 4,
    "start_time": "2023-05-27T07:45:48.880Z"
   },
   {
    "duration": 132,
    "start_time": "2023-05-27T07:45:48.886Z"
   },
   {
    "duration": 735,
    "start_time": "2023-05-27T07:45:49.020Z"
   },
   {
    "duration": 718,
    "start_time": "2023-05-27T07:46:35.930Z"
   },
   {
    "duration": 666,
    "start_time": "2023-05-27T07:46:43.880Z"
   },
   {
    "duration": 673,
    "start_time": "2023-05-27T08:00:15.378Z"
   },
   {
    "duration": 104,
    "start_time": "2023-05-27T08:00:25.469Z"
   },
   {
    "duration": 14,
    "start_time": "2023-05-27T08:00:36.116Z"
   },
   {
    "duration": 102,
    "start_time": "2023-05-27T08:27:19.229Z"
   },
   {
    "duration": 100,
    "start_time": "2023-05-27T10:15:01.251Z"
   },
   {
    "duration": 100,
    "start_time": "2023-05-27T10:15:06.494Z"
   }
  ],
  "kernelspec": {
   "display_name": "Python 3 (ipykernel)",
   "language": "python",
   "name": "python3"
  },
  "language_info": {
   "codemirror_mode": {
    "name": "ipython",
    "version": 3
   },
   "file_extension": ".py",
   "mimetype": "text/x-python",
   "name": "python",
   "nbconvert_exporter": "python",
   "pygments_lexer": "ipython3",
   "version": "3.9.12"
  },
  "toc": {
   "base_numbering": 1,
   "nav_menu": {},
   "number_sections": true,
   "sideBar": true,
   "skip_h1_title": true,
   "title_cell": "Table of Contents",
   "title_sidebar": "Contents",
   "toc_cell": false,
   "toc_position": {},
   "toc_section_display": true,
   "toc_window_display": true
  }
 },
 "nbformat": 4,
 "nbformat_minor": 2
}
