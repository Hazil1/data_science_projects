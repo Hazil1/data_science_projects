{
 "cells": [
  {
   "cell_type": "markdown",
   "metadata": {
    "toc": true
   },
   "source": [
    "<h1>Содержание<span class=\"tocSkip\"></span></h1>\n",
    "<div class=\"toc\"><ul class=\"toc-item\"><li><span><a href=\"#Подготовка\" data-toc-modified-id=\"Подготовка-1\"><span class=\"toc-item-num\">1&nbsp;&nbsp;</span>Подготовка</a></span><ul class=\"toc-item\"><li><span><a href=\"#Вывод-по-разделу\" data-toc-modified-id=\"Вывод-по-разделу-1.1\"><span class=\"toc-item-num\">1.1&nbsp;&nbsp;</span>Вывод по разделу</a></span></li></ul></li><li><span><a href=\"#Анализ\" data-toc-modified-id=\"Анализ-2\"><span class=\"toc-item-num\">2&nbsp;&nbsp;</span>Анализ</a></span><ul class=\"toc-item\"><li><span><a href=\"#Вывод-по-разделу\" data-toc-modified-id=\"Вывод-по-разделу-2.1\"><span class=\"toc-item-num\">2.1&nbsp;&nbsp;</span>Вывод по разделу</a></span></li></ul></li><li><span><a href=\"#Обучение\" data-toc-modified-id=\"Обучение-3\"><span class=\"toc-item-num\">3&nbsp;&nbsp;</span>Обучение</a></span><ul class=\"toc-item\"><li><span><a href=\"#Создание-дополнительных-признаков\" data-toc-modified-id=\"Создание-дополнительных-признаков-3.1\"><span class=\"toc-item-num\">3.1&nbsp;&nbsp;</span>Создание дополнительных признаков</a></span></li><li><span><a href=\"#Подготовка-датасетов-к-обучению-модели\" data-toc-modified-id=\"Подготовка-датасетов-к-обучению-модели-3.2\"><span class=\"toc-item-num\">3.2&nbsp;&nbsp;</span>Подготовка датасетов к обучению модели</a></span></li><li><span><a href=\"#Модель-DecisionTreeRegressor\" data-toc-modified-id=\"Модель-DecisionTreeRegressor-3.3\"><span class=\"toc-item-num\">3.3&nbsp;&nbsp;</span>Модель DecisionTreeRegressor</a></span></li><li><span><a href=\"#Модель-RandomForestRegressor\" data-toc-modified-id=\"Модель-RandomForestRegressor-3.4\"><span class=\"toc-item-num\">3.4&nbsp;&nbsp;</span>Модель RandomForestRegressor</a></span></li><li><span><a href=\"#Модель-CatBoostRegressor\" data-toc-modified-id=\"Модель-CatBoostRegressor-3.5\"><span class=\"toc-item-num\">3.5&nbsp;&nbsp;</span>Модель CatBoostRegressor</a></span></li><li><span><a href=\"#Модель-LGBMRegressor\" data-toc-modified-id=\"Модель-LGBMRegressor-3.6\"><span class=\"toc-item-num\">3.6&nbsp;&nbsp;</span>Модель LGBMRegressor</a></span></li><li><span><a href=\"#Вывод-по-разделу\" data-toc-modified-id=\"Вывод-по-разделу-3.7\"><span class=\"toc-item-num\">3.7&nbsp;&nbsp;</span>Вывод по разделу</a></span></li></ul></li><li><span><a href=\"#Тестирование\" data-toc-modified-id=\"Тестирование-4\"><span class=\"toc-item-num\">4&nbsp;&nbsp;</span>Тестирование</a></span></li><li><span><a href=\"#Вывод\" data-toc-modified-id=\"Вывод-5\"><span class=\"toc-item-num\">5&nbsp;&nbsp;</span>Вывод</a></span></li><li><span><a href=\"#Чек-лист-проверки\" data-toc-modified-id=\"Чек-лист-проверки-6\"><span class=\"toc-item-num\">6&nbsp;&nbsp;</span>Чек-лист проверки</a></span></li></ul></div>"
   ]
  },
  {
   "cell_type": "markdown",
   "metadata": {},
   "source": [
    "#  Прогнозирование заказов такси"
   ]
  },
  {
   "cell_type": "markdown",
   "metadata": {},
   "source": [
    "Компания «Чётенькое такси» собрала исторические данные о заказах такси в аэропортах. Чтобы привлекать больше водителей в период пиковой нагрузки, нужно спрогнозировать количество заказов такси на следующий час. Постройте модель для такого предсказания.\n",
    "\n",
    "Значение метрики *RMSE* на тестовой выборке должно быть не больше 48.\n",
    "\n",
    "Вам нужно:\n",
    "\n",
    "1. Загрузить данные и выполнить их ресемплирование по одному часу.\n",
    "2. Проанализировать данные.\n",
    "3. Обучить разные модели с различными гиперпараметрами. Сделать тестовую выборку размером 10% от исходных данных.\n",
    "4. Проверить данные на тестовой выборке и сделать выводы.\n",
    "\n",
    "\n",
    "Данные лежат в файле `taxi.csv`. Количество заказов находится в столбце `num_orders` (от англ. *number of orders*, «число заказов»)."
   ]
  },
  {
   "cell_type": "code",
   "execution_count": 1,
   "metadata": {},
   "outputs": [
    {
     "name": "stdout",
     "output_type": "stream",
     "text": [
      "Requirement already satisfied: scikit-learn==1.1.3 in /opt/conda/lib/python3.9/site-packages (1.1.3)\r\n",
      "Requirement already satisfied: joblib>=1.0.0 in /opt/conda/lib/python3.9/site-packages (from scikit-learn==1.1.3) (1.1.0)\r\n",
      "Requirement already satisfied: scipy>=1.3.2 in /opt/conda/lib/python3.9/site-packages (from scikit-learn==1.1.3) (1.9.1)\r\n",
      "Requirement already satisfied: numpy>=1.17.3 in /opt/conda/lib/python3.9/site-packages (from scikit-learn==1.1.3) (1.21.1)\r\n",
      "Requirement already satisfied: threadpoolctl>=2.0.0 in /opt/conda/lib/python3.9/site-packages (from scikit-learn==1.1.3) (3.1.0)\r\n"
     ]
    }
   ],
   "source": [
    "!pip install scikit-learn==1.1.3"
   ]
  },
  {
   "cell_type": "code",
   "execution_count": 2,
   "metadata": {},
   "outputs": [],
   "source": [
    "# Импортируем все необходимы библиотеки\n",
    "import pandas as pd\n",
    "import matplotlib.pyplot as plt\n",
    "\n",
    "from statsmodels.tsa.seasonal import seasonal_decompose\n",
    "from sklearn.model_selection import train_test_split, RandomizedSearchCV, TimeSeriesSplit\n",
    "from sklearn.metrics import mean_squared_error, make_scorer\n",
    "\n",
    "from sklearn.tree import DecisionTreeRegressor\n",
    "from sklearn.ensemble import RandomForestRegressor\n",
    "from catboost import CatBoostRegressor\n",
    "from lightgbm import LGBMRegressor\n",
    "\n",
    "# Зафиксируем константные значения\n",
    "RANDOM_STATE=12345"
   ]
  },
  {
   "cell_type": "markdown",
   "metadata": {},
   "source": [
    "## Подготовка"
   ]
  },
  {
   "cell_type": "markdown",
   "metadata": {},
   "source": [
    "Подгрузим датасет, посмотрим на общую информацию по датасету, проверим данные на наличие пропусков, проверим на хроноологичность данных"
   ]
  },
  {
   "cell_type": "code",
   "execution_count": 3,
   "metadata": {},
   "outputs": [
    {
     "data": {
      "text/html": [
       "<div>\n",
       "<style scoped>\n",
       "    .dataframe tbody tr th:only-of-type {\n",
       "        vertical-align: middle;\n",
       "    }\n",
       "\n",
       "    .dataframe tbody tr th {\n",
       "        vertical-align: top;\n",
       "    }\n",
       "\n",
       "    .dataframe thead th {\n",
       "        text-align: right;\n",
       "    }\n",
       "</style>\n",
       "<table border=\"1\" class=\"dataframe\">\n",
       "  <thead>\n",
       "    <tr style=\"text-align: right;\">\n",
       "      <th></th>\n",
       "      <th>num_orders</th>\n",
       "    </tr>\n",
       "    <tr>\n",
       "      <th>datetime</th>\n",
       "      <th></th>\n",
       "    </tr>\n",
       "  </thead>\n",
       "  <tbody>\n",
       "    <tr>\n",
       "      <th>2018-03-01 00:00:00</th>\n",
       "      <td>9</td>\n",
       "    </tr>\n",
       "    <tr>\n",
       "      <th>2018-03-01 00:10:00</th>\n",
       "      <td>14</td>\n",
       "    </tr>\n",
       "    <tr>\n",
       "      <th>2018-03-01 00:20:00</th>\n",
       "      <td>28</td>\n",
       "    </tr>\n",
       "    <tr>\n",
       "      <th>2018-03-01 00:30:00</th>\n",
       "      <td>20</td>\n",
       "    </tr>\n",
       "    <tr>\n",
       "      <th>2018-03-01 00:40:00</th>\n",
       "      <td>32</td>\n",
       "    </tr>\n",
       "  </tbody>\n",
       "</table>\n",
       "</div>"
      ],
      "text/plain": [
       "                     num_orders\n",
       "datetime                       \n",
       "2018-03-01 00:00:00           9\n",
       "2018-03-01 00:10:00          14\n",
       "2018-03-01 00:20:00          28\n",
       "2018-03-01 00:30:00          20\n",
       "2018-03-01 00:40:00          32"
      ]
     },
     "execution_count": 3,
     "metadata": {},
     "output_type": "execute_result"
    }
   ],
   "source": [
    "# Подгрузим данные и сохраним в переменной\n",
    "data = pd.read_csv('/datasets/taxi.csv', index_col=[0], parse_dates=[0])\n",
    "data.head()"
   ]
  },
  {
   "cell_type": "code",
   "execution_count": 4,
   "metadata": {},
   "outputs": [
    {
     "name": "stdout",
     "output_type": "stream",
     "text": [
      "<class 'pandas.core.frame.DataFrame'>\n",
      "DatetimeIndex: 26496 entries, 2018-03-01 00:00:00 to 2018-08-31 23:50:00\n",
      "Data columns (total 1 columns):\n",
      " #   Column      Non-Null Count  Dtype\n",
      "---  ------      --------------  -----\n",
      " 0   num_orders  26496 non-null  int64\n",
      "dtypes: int64(1)\n",
      "memory usage: 414.0 KB\n"
     ]
    }
   ],
   "source": [
    "data.info()"
   ]
  },
  {
   "cell_type": "code",
   "execution_count": 5,
   "metadata": {},
   "outputs": [
    {
     "data": {
      "text/html": [
       "<div>\n",
       "<style scoped>\n",
       "    .dataframe tbody tr th:only-of-type {\n",
       "        vertical-align: middle;\n",
       "    }\n",
       "\n",
       "    .dataframe tbody tr th {\n",
       "        vertical-align: top;\n",
       "    }\n",
       "\n",
       "    .dataframe thead th {\n",
       "        text-align: right;\n",
       "    }\n",
       "</style>\n",
       "<table border=\"1\" class=\"dataframe\">\n",
       "  <thead>\n",
       "    <tr style=\"text-align: right;\">\n",
       "      <th></th>\n",
       "      <th>num_orders</th>\n",
       "    </tr>\n",
       "  </thead>\n",
       "  <tbody>\n",
       "    <tr>\n",
       "      <th>count</th>\n",
       "      <td>26496.000000</td>\n",
       "    </tr>\n",
       "    <tr>\n",
       "      <th>mean</th>\n",
       "      <td>14.070463</td>\n",
       "    </tr>\n",
       "    <tr>\n",
       "      <th>std</th>\n",
       "      <td>9.211330</td>\n",
       "    </tr>\n",
       "    <tr>\n",
       "      <th>min</th>\n",
       "      <td>0.000000</td>\n",
       "    </tr>\n",
       "    <tr>\n",
       "      <th>25%</th>\n",
       "      <td>8.000000</td>\n",
       "    </tr>\n",
       "    <tr>\n",
       "      <th>50%</th>\n",
       "      <td>13.000000</td>\n",
       "    </tr>\n",
       "    <tr>\n",
       "      <th>75%</th>\n",
       "      <td>19.000000</td>\n",
       "    </tr>\n",
       "    <tr>\n",
       "      <th>max</th>\n",
       "      <td>119.000000</td>\n",
       "    </tr>\n",
       "  </tbody>\n",
       "</table>\n",
       "</div>"
      ],
      "text/plain": [
       "         num_orders\n",
       "count  26496.000000\n",
       "mean      14.070463\n",
       "std        9.211330\n",
       "min        0.000000\n",
       "25%        8.000000\n",
       "50%       13.000000\n",
       "75%       19.000000\n",
       "max      119.000000"
      ]
     },
     "execution_count": 5,
     "metadata": {},
     "output_type": "execute_result"
    }
   ],
   "source": [
    "data.describe()"
   ]
  },
  {
   "cell_type": "code",
   "execution_count": 6,
   "metadata": {},
   "outputs": [
    {
     "data": {
      "text/plain": [
       "True"
      ]
     },
     "execution_count": 6,
     "metadata": {},
     "output_type": "execute_result"
    }
   ],
   "source": [
    "# Проверим в хронологическом порядке ли расположены дата и время\n",
    "data.index.is_monotonic"
   ]
  },
  {
   "cell_type": "code",
   "execution_count": 7,
   "metadata": {},
   "outputs": [
    {
     "data": {
      "text/html": [
       "<div>\n",
       "<style scoped>\n",
       "    .dataframe tbody tr th:only-of-type {\n",
       "        vertical-align: middle;\n",
       "    }\n",
       "\n",
       "    .dataframe tbody tr th {\n",
       "        vertical-align: top;\n",
       "    }\n",
       "\n",
       "    .dataframe thead th {\n",
       "        text-align: right;\n",
       "    }\n",
       "</style>\n",
       "<table border=\"1\" class=\"dataframe\">\n",
       "  <thead>\n",
       "    <tr style=\"text-align: right;\">\n",
       "      <th></th>\n",
       "      <th>num_orders</th>\n",
       "    </tr>\n",
       "    <tr>\n",
       "      <th>datetime</th>\n",
       "      <th></th>\n",
       "    </tr>\n",
       "  </thead>\n",
       "  <tbody>\n",
       "    <tr>\n",
       "      <th>2018-03-01 00:00:00</th>\n",
       "      <td>124</td>\n",
       "    </tr>\n",
       "    <tr>\n",
       "      <th>2018-03-01 01:00:00</th>\n",
       "      <td>85</td>\n",
       "    </tr>\n",
       "    <tr>\n",
       "      <th>2018-03-01 02:00:00</th>\n",
       "      <td>71</td>\n",
       "    </tr>\n",
       "    <tr>\n",
       "      <th>2018-03-01 03:00:00</th>\n",
       "      <td>66</td>\n",
       "    </tr>\n",
       "    <tr>\n",
       "      <th>2018-03-01 04:00:00</th>\n",
       "      <td>43</td>\n",
       "    </tr>\n",
       "  </tbody>\n",
       "</table>\n",
       "</div>"
      ],
      "text/plain": [
       "                     num_orders\n",
       "datetime                       \n",
       "2018-03-01 00:00:00         124\n",
       "2018-03-01 01:00:00          85\n",
       "2018-03-01 02:00:00          71\n",
       "2018-03-01 03:00:00          66\n",
       "2018-03-01 04:00:00          43"
      ]
     },
     "execution_count": 7,
     "metadata": {},
     "output_type": "execute_result"
    }
   ],
   "source": [
    "# Сделаем ресемплирование датасета по одному часу\n",
    "data_1h = data.resample('1H').sum()\n",
    "data_1h.head()"
   ]
  },
  {
   "cell_type": "code",
   "execution_count": 8,
   "metadata": {},
   "outputs": [
    {
     "data": {
      "text/plain": [
       "6.0"
      ]
     },
     "execution_count": 8,
     "metadata": {},
     "output_type": "execute_result"
    }
   ],
   "source": [
    "# Посмотрим во сколько раз изменился размер датасета\n",
    "data.shape[0] / data_1h.shape[0]"
   ]
  },
  {
   "cell_type": "markdown",
   "metadata": {},
   "source": [
    "### Вывод по разделу"
   ]
  },
  {
   "cell_type": "markdown",
   "metadata": {},
   "source": [
    "В ходе подготовки данных были подгружены и сохранены данные в переменную, ознакомились с общей информаций по датасету.\n",
    "\n",
    "Провели ресемплирование данных по 1 часу т.к. не нужен очень детальный прогноз до 10 минут, будем делать прогноз для каждого часа."
   ]
  },
  {
   "cell_type": "markdown",
   "metadata": {},
   "source": [
    "## Анализ\n",
    "\n",
    "Проанализируем данные, посмотрим на тренды и сезонность, построим графики, также посмотрим как меняется среднее количество заказов в течение суток и в течении недели."
   ]
  },
  {
   "cell_type": "code",
   "execution_count": 9,
   "metadata": {},
   "outputs": [
    {
     "data": {
      "image/png": "[encoded data removed]",
      "text/plain": [
       "<Figure size 936x936 with 3 Axes>"
      ]
     },
     "metadata": {
      "needs_background": "light"
     },
     "output_type": "display_data"
    }
   ],
   "source": [
    "# Оценим тренды и сезонность в данных\n",
    "decomposed = seasonal_decompose(data_1h['num_orders'])\n",
    "\n",
    "plt.figure(figsize=(13, 13))\n",
    "plt.subplot(311)\n",
    "decomposed.trend.plot(ax=plt.gca(), grid=True)\n",
    "plt.title('Тренд', fontsize=16)\n",
    "plt.subplot(312)\n",
    "decomposed.seasonal['2018-03-01':'2018-03-07'].plot(ax=plt.gca(), grid=True)\n",
    "plt.title('Сезонность', fontsize=16)\n",
    "plt.subplot(313)\n",
    "decomposed.resid.plot(ax=plt.gca(), grid=True)\n",
    "plt.title('Остатки', fontsize=16)\n",
    "plt.tight_layout()"
   ]
  },
  {
   "cell_type": "markdown",
   "metadata": {},
   "source": [
    "Исходя из графиков можно сделать следующий вывод:\n",
    "1. Cудя по тренду мы видим рост количества заказов такси более чем в 3 раза, но нельзя сказать связано ли это с временем года т.к. выборка не достаточна для этого, неоходимо хотя бы два года, возможно такой плавный рост связан с ростом популярности этого оператора (компании) такси.\n",
    "2. На графике сезонности видна переодичность заказов в течении недели.\n",
    "3. Остатки в основном от -50 до 50 "
   ]
  },
  {
   "cell_type": "markdown",
   "metadata": {},
   "source": [
    "**Посмотрим на зависимость заказов такси от времени суток и дня недели**"
   ]
  },
  {
   "cell_type": "code",
   "execution_count": 10,
   "metadata": {},
   "outputs": [],
   "source": [
    "# Функция создания дополнительных признаков из datetime\n",
    "def make_features(data):\n",
    "    data['day'] = data.index.day\n",
    "    data['day_of_week'] = data.index.dayofweek\n",
    "    data['hour'] = data.index.hour"
   ]
  },
  {
   "cell_type": "code",
   "execution_count": 11,
   "metadata": {},
   "outputs": [
    {
     "data": {
      "text/html": [
       "<div>\n",
       "<style scoped>\n",
       "    .dataframe tbody tr th:only-of-type {\n",
       "        vertical-align: middle;\n",
       "    }\n",
       "\n",
       "    .dataframe tbody tr th {\n",
       "        vertical-align: top;\n",
       "    }\n",
       "\n",
       "    .dataframe thead th {\n",
       "        text-align: right;\n",
       "    }\n",
       "</style>\n",
       "<table border=\"1\" class=\"dataframe\">\n",
       "  <thead>\n",
       "    <tr style=\"text-align: right;\">\n",
       "      <th></th>\n",
       "      <th>num_orders</th>\n",
       "      <th>day</th>\n",
       "      <th>day_of_week</th>\n",
       "      <th>hour</th>\n",
       "    </tr>\n",
       "    <tr>\n",
       "      <th>datetime</th>\n",
       "      <th></th>\n",
       "      <th></th>\n",
       "      <th></th>\n",
       "      <th></th>\n",
       "    </tr>\n",
       "  </thead>\n",
       "  <tbody>\n",
       "    <tr>\n",
       "      <th>2018-03-01 00:00:00</th>\n",
       "      <td>124</td>\n",
       "      <td>1</td>\n",
       "      <td>3</td>\n",
       "      <td>0</td>\n",
       "    </tr>\n",
       "    <tr>\n",
       "      <th>2018-03-01 01:00:00</th>\n",
       "      <td>85</td>\n",
       "      <td>1</td>\n",
       "      <td>3</td>\n",
       "      <td>1</td>\n",
       "    </tr>\n",
       "    <tr>\n",
       "      <th>2018-03-01 02:00:00</th>\n",
       "      <td>71</td>\n",
       "      <td>1</td>\n",
       "      <td>3</td>\n",
       "      <td>2</td>\n",
       "    </tr>\n",
       "    <tr>\n",
       "      <th>2018-03-01 03:00:00</th>\n",
       "      <td>66</td>\n",
       "      <td>1</td>\n",
       "      <td>3</td>\n",
       "      <td>3</td>\n",
       "    </tr>\n",
       "    <tr>\n",
       "      <th>2018-03-01 04:00:00</th>\n",
       "      <td>43</td>\n",
       "      <td>1</td>\n",
       "      <td>3</td>\n",
       "      <td>4</td>\n",
       "    </tr>\n",
       "  </tbody>\n",
       "</table>\n",
       "</div>"
      ],
      "text/plain": [
       "                     num_orders  day  day_of_week  hour\n",
       "datetime                                               \n",
       "2018-03-01 00:00:00         124    1            3     0\n",
       "2018-03-01 01:00:00          85    1            3     1\n",
       "2018-03-01 02:00:00          71    1            3     2\n",
       "2018-03-01 03:00:00          66    1            3     3\n",
       "2018-03-01 04:00:00          43    1            3     4"
      ]
     },
     "execution_count": 11,
     "metadata": {},
     "output_type": "execute_result"
    }
   ],
   "source": [
    "make_features(data_1h)\n",
    "data_1h.head()"
   ]
  },
  {
   "cell_type": "code",
   "execution_count": 12,
   "metadata": {},
   "outputs": [
    {
     "data": {
      "image/png": "[encoded data removed]",
      "text/plain": [
       "<Figure size 1080x288 with 1 Axes>"
      ]
     },
     "metadata": {
      "needs_background": "light"
     },
     "output_type": "display_data"
    }
   ],
   "source": [
    "# Оценим как, в среденем меняется количество заказов в течение суток\n",
    "data_1h.pivot_table(index='hour', \n",
    "                    values='num_orders', \n",
    "                    aggfunc='mean').plot(grid=True,\n",
    "                                         figsize=(15, 4))\n",
    "plt.title('Среднее числа заказов такси в течение суток', fontsize=16)\n",
    "plt.xlabel('Часы', fontsize=12)\n",
    "plt.ylabel('Кол-во заказов (среднее)', fontsize=12)\n",
    "plt.show()"
   ]
  },
  {
   "cell_type": "code",
   "execution_count": 13,
   "metadata": {},
   "outputs": [
    {
     "data": {
      "image/png": "[encoded data removed]",
      "text/plain": [
       "<Figure size 1080x288 with 1 Axes>"
      ]
     },
     "metadata": {
      "needs_background": "light"
     },
     "output_type": "display_data"
    }
   ],
   "source": [
    "# Оценим как, в среденем меняется количество заказов в течение недели\n",
    "data_1h.pivot_table(index='day_of_week', \n",
    "                    values='num_orders', \n",
    "                    aggfunc='mean').plot(grid=True,\n",
    "                                         figsize=(15, 4))\n",
    "plt.title('Среднее числа заказов такси в течение недели', fontsize=16)\n",
    "plt.xlabel('День недели', fontsize=12)\n",
    "plt.ylabel('Кол-во заказов (среднее)', fontsize=12)\n",
    "plt.show()"
   ]
  },
  {
   "cell_type": "markdown",
   "metadata": {},
   "source": [
    "Из графиков видно:\n",
    "1. **График среднего числа заказов в течение суток**. Ранним утром 5:00 - 7:00 наименьшее количество заказов такси, далее с 7:00 - 10:00 рост числа заказов (когда люди едут на работу), наибольшее количесиво заказов, примерно с 22:00 - 00:00, далее в течение ночи количество заказов снижается.\n",
    "2. **График среднего числа заказо в течение недели**. Наибольшее количество заказов в понедельник и в пяницу, наименьшее во вторник и воскресенье. Со вторника по пятницу виден рост числа заказов, с пяницу по воскресенье падение числа заказов."
   ]
  },
  {
   "cell_type": "markdown",
   "metadata": {},
   "source": [
    "### Вывод по разделу\n",
    "После проведения анализа данных было выявлено:\n",
    "1. Наблюдается тренд на рост числа заказов с течением времени.\n",
    "2. Выявлена сезонность заказов такси. Циклично повторяются закономерности заказов такси ежесуточно.\n",
    "3. Наименьшее число заказов такси в течение суток в период 5:00 - 7:00, наибольшее - 22:00 - 00:00\n",
    "4. Наименьшее число заказов такси в течение недели во вторник, наибольшее в пяницу и в понедельник."
   ]
  },
  {
   "cell_type": "markdown",
   "metadata": {},
   "source": [
    "## Обучение"
   ]
  },
  {
   "cell_type": "markdown",
   "metadata": {},
   "source": [
    "Выделим целевой признак из данных. Разобъем данные на тренировочную, валидационную и тестовую выборки. Обучим несколько моделей машинного обучения и выберем наилучшую модель."
   ]
  },
  {
   "cell_type": "markdown",
   "metadata": {},
   "source": [
    "### Создание дополнительных признаков"
   ]
  },
  {
   "cell_type": "markdown",
   "metadata": {},
   "source": [
    "В связи с тем, что сезонность наблюдается с переодичностью в одни сутки, максимальное количество лагов будет равно 24 для прогнозирования числа заказов для каждого часа. \n",
    "\n",
    "Создадим два столбца rolling_mean_size, первый с разбивкой по 6 часов, т.к видно, что утром, днем, вечером и ночью количество заказов изменяется, второй с разбивкой по 24 часа, т.к. в зависимости от дня недели число заказов тоже изменяется."
   ]
  },
  {
   "cell_type": "code",
   "execution_count": 15,
   "metadata": {},
   "outputs": [],
   "source": [
    "# Создадим лаги в датасете\n",
    "for lag in range(1, 25):\n",
    "    data_1h[f'lag_{lag}'] = data_1h['num_orders'].shift(lag)\n",
    "    \n",
    "data_1h['lag_168'] = data_1h['num_orders'].shift(168)"
   ]
  },
  {
   "cell_type": "code",
   "execution_count": 16,
   "metadata": {},
   "outputs": [],
   "source": [
    "# Создадим признаки rolling_mean_size\n",
    "data_1h['rolling_mean_6h'] = data_1h['num_orders'].shift().rolling(6).mean()\n",
    "#data_1h['rolling_mean_day'] = data_1h['num_orders'].shift().rolling(24).mean()"
   ]
  },
  {
   "cell_type": "code",
   "execution_count": 17,
   "metadata": {},
   "outputs": [
    {
     "data": {
      "text/html": [
       "<div>\n",
       "<style scoped>\n",
       "    .dataframe tbody tr th:only-of-type {\n",
       "        vertical-align: middle;\n",
       "    }\n",
       "\n",
       "    .dataframe tbody tr th {\n",
       "        vertical-align: top;\n",
       "    }\n",
       "\n",
       "    .dataframe thead th {\n",
       "        text-align: right;\n",
       "    }\n",
       "</style>\n",
       "<table border=\"1\" class=\"dataframe\">\n",
       "  <thead>\n",
       "    <tr style=\"text-align: right;\">\n",
       "      <th></th>\n",
       "      <th>num_orders</th>\n",
       "      <th>day</th>\n",
       "      <th>day_of_week</th>\n",
       "      <th>hour</th>\n",
       "      <th>lag_1</th>\n",
       "      <th>lag_2</th>\n",
       "      <th>lag_3</th>\n",
       "      <th>lag_4</th>\n",
       "      <th>lag_5</th>\n",
       "      <th>lag_6</th>\n",
       "      <th>...</th>\n",
       "      <th>lag_17</th>\n",
       "      <th>lag_18</th>\n",
       "      <th>lag_19</th>\n",
       "      <th>lag_20</th>\n",
       "      <th>lag_21</th>\n",
       "      <th>lag_22</th>\n",
       "      <th>lag_23</th>\n",
       "      <th>lag_24</th>\n",
       "      <th>lag_168</th>\n",
       "      <th>rolling_mean_6h</th>\n",
       "    </tr>\n",
       "    <tr>\n",
       "      <th>datetime</th>\n",
       "      <th></th>\n",
       "      <th></th>\n",
       "      <th></th>\n",
       "      <th></th>\n",
       "      <th></th>\n",
       "      <th></th>\n",
       "      <th></th>\n",
       "      <th></th>\n",
       "      <th></th>\n",
       "      <th></th>\n",
       "      <th></th>\n",
       "      <th></th>\n",
       "      <th></th>\n",
       "      <th></th>\n",
       "      <th></th>\n",
       "      <th></th>\n",
       "      <th></th>\n",
       "      <th></th>\n",
       "      <th></th>\n",
       "      <th></th>\n",
       "      <th></th>\n",
       "    </tr>\n",
       "  </thead>\n",
       "  <tbody>\n",
       "    <tr>\n",
       "      <th>2018-03-08 00:00:00</th>\n",
       "      <td>143</td>\n",
       "      <td>8</td>\n",
       "      <td>3</td>\n",
       "      <td>0</td>\n",
       "      <td>94.0</td>\n",
       "      <td>127.0</td>\n",
       "      <td>108.0</td>\n",
       "      <td>76.0</td>\n",
       "      <td>50.0</td>\n",
       "      <td>99.0</td>\n",
       "      <td>...</td>\n",
       "      <td>17.0</td>\n",
       "      <td>19.0</td>\n",
       "      <td>10.0</td>\n",
       "      <td>73.0</td>\n",
       "      <td>66.0</td>\n",
       "      <td>24.0</td>\n",
       "      <td>121.0</td>\n",
       "      <td>100.0</td>\n",
       "      <td>124.0</td>\n",
       "      <td>92.333333</td>\n",
       "    </tr>\n",
       "    <tr>\n",
       "      <th>2018-03-08 01:00:00</th>\n",
       "      <td>78</td>\n",
       "      <td>8</td>\n",
       "      <td>3</td>\n",
       "      <td>1</td>\n",
       "      <td>143.0</td>\n",
       "      <td>94.0</td>\n",
       "      <td>127.0</td>\n",
       "      <td>108.0</td>\n",
       "      <td>76.0</td>\n",
       "      <td>50.0</td>\n",
       "      <td>...</td>\n",
       "      <td>38.0</td>\n",
       "      <td>17.0</td>\n",
       "      <td>19.0</td>\n",
       "      <td>10.0</td>\n",
       "      <td>73.0</td>\n",
       "      <td>66.0</td>\n",
       "      <td>24.0</td>\n",
       "      <td>121.0</td>\n",
       "      <td>85.0</td>\n",
       "      <td>99.666667</td>\n",
       "    </tr>\n",
       "    <tr>\n",
       "      <th>2018-03-08 02:00:00</th>\n",
       "      <td>65</td>\n",
       "      <td>8</td>\n",
       "      <td>3</td>\n",
       "      <td>2</td>\n",
       "      <td>78.0</td>\n",
       "      <td>143.0</td>\n",
       "      <td>94.0</td>\n",
       "      <td>127.0</td>\n",
       "      <td>108.0</td>\n",
       "      <td>76.0</td>\n",
       "      <td>...</td>\n",
       "      <td>50.0</td>\n",
       "      <td>38.0</td>\n",
       "      <td>17.0</td>\n",
       "      <td>19.0</td>\n",
       "      <td>10.0</td>\n",
       "      <td>73.0</td>\n",
       "      <td>66.0</td>\n",
       "      <td>24.0</td>\n",
       "      <td>71.0</td>\n",
       "      <td>104.333333</td>\n",
       "    </tr>\n",
       "    <tr>\n",
       "      <th>2018-03-08 03:00:00</th>\n",
       "      <td>68</td>\n",
       "      <td>8</td>\n",
       "      <td>3</td>\n",
       "      <td>3</td>\n",
       "      <td>65.0</td>\n",
       "      <td>78.0</td>\n",
       "      <td>143.0</td>\n",
       "      <td>94.0</td>\n",
       "      <td>127.0</td>\n",
       "      <td>108.0</td>\n",
       "      <td>...</td>\n",
       "      <td>34.0</td>\n",
       "      <td>50.0</td>\n",
       "      <td>38.0</td>\n",
       "      <td>17.0</td>\n",
       "      <td>19.0</td>\n",
       "      <td>10.0</td>\n",
       "      <td>73.0</td>\n",
       "      <td>66.0</td>\n",
       "      <td>66.0</td>\n",
       "      <td>102.500000</td>\n",
       "    </tr>\n",
       "    <tr>\n",
       "      <th>2018-03-08 04:00:00</th>\n",
       "      <td>60</td>\n",
       "      <td>8</td>\n",
       "      <td>3</td>\n",
       "      <td>4</td>\n",
       "      <td>68.0</td>\n",
       "      <td>65.0</td>\n",
       "      <td>78.0</td>\n",
       "      <td>143.0</td>\n",
       "      <td>94.0</td>\n",
       "      <td>127.0</td>\n",
       "      <td>...</td>\n",
       "      <td>58.0</td>\n",
       "      <td>34.0</td>\n",
       "      <td>50.0</td>\n",
       "      <td>38.0</td>\n",
       "      <td>17.0</td>\n",
       "      <td>19.0</td>\n",
       "      <td>10.0</td>\n",
       "      <td>73.0</td>\n",
       "      <td>43.0</td>\n",
       "      <td>95.833333</td>\n",
       "    </tr>\n",
       "  </tbody>\n",
       "</table>\n",
       "<p>5 rows × 30 columns</p>\n",
       "</div>"
      ],
      "text/plain": [
       "                     num_orders  day  day_of_week  hour  lag_1  lag_2  lag_3  \\\n",
       "datetime                                                                       \n",
       "2018-03-08 00:00:00         143    8            3     0   94.0  127.0  108.0   \n",
       "2018-03-08 01:00:00          78    8            3     1  143.0   94.0  127.0   \n",
       "2018-03-08 02:00:00          65    8            3     2   78.0  143.0   94.0   \n",
       "2018-03-08 03:00:00          68    8            3     3   65.0   78.0  143.0   \n",
       "2018-03-08 04:00:00          60    8            3     4   68.0   65.0   78.0   \n",
       "\n",
       "                     lag_4  lag_5  lag_6  ...  lag_17  lag_18  lag_19  lag_20  \\\n",
       "datetime                                  ...                                   \n",
       "2018-03-08 00:00:00   76.0   50.0   99.0  ...    17.0    19.0    10.0    73.0   \n",
       "2018-03-08 01:00:00  108.0   76.0   50.0  ...    38.0    17.0    19.0    10.0   \n",
       "2018-03-08 02:00:00  127.0  108.0   76.0  ...    50.0    38.0    17.0    19.0   \n",
       "2018-03-08 03:00:00   94.0  127.0  108.0  ...    34.0    50.0    38.0    17.0   \n",
       "2018-03-08 04:00:00  143.0   94.0  127.0  ...    58.0    34.0    50.0    38.0   \n",
       "\n",
       "                     lag_21  lag_22  lag_23  lag_24  lag_168  rolling_mean_6h  \n",
       "datetime                                                                       \n",
       "2018-03-08 00:00:00    66.0    24.0   121.0   100.0    124.0        92.333333  \n",
       "2018-03-08 01:00:00    73.0    66.0    24.0   121.0     85.0        99.666667  \n",
       "2018-03-08 02:00:00    10.0    73.0    66.0    24.0     71.0       104.333333  \n",
       "2018-03-08 03:00:00    19.0    10.0    73.0    66.0     66.0       102.500000  \n",
       "2018-03-08 04:00:00    17.0    19.0    10.0    73.0     43.0        95.833333  \n",
       "\n",
       "[5 rows x 30 columns]"
      ]
     },
     "execution_count": 17,
     "metadata": {},
     "output_type": "execute_result"
    }
   ],
   "source": [
    "data_1h.dropna(inplace=True)\n",
    "data_1h.head()"
   ]
  },
  {
   "cell_type": "code",
   "execution_count": 18,
   "metadata": {},
   "outputs": [
    {
     "data": {
      "image/png": "[encoded data removed]",
      "text/plain": [
       "<Figure size 1080x360 with 1 Axes>"
      ]
     },
     "metadata": {
      "needs_background": "light"
     },
     "output_type": "display_data"
    }
   ],
   "source": [
    "data_1h['2018-03-01':'2018-03-30'].plot(y=['num_orders', 'rolling_mean_6h'], \n",
    "                                  figsize=(15, 5),\n",
    "                                  grid=True);\n",
    "plt.title('График заказов такси в марте со скользящими средними', fontsize=16)\n",
    "plt.xlabel('Число месяца', fontsize=12)\n",
    "plt.ylabel('Число заказов', fontsize=12)\n",
    "plt.ylim(0, 150)\n",
    "plt.show()"
   ]
  },
  {
   "cell_type": "markdown",
   "metadata": {},
   "source": [
    "### Подготовка датасетов к обучению модели"
   ]
  },
  {
   "cell_type": "code",
   "execution_count": 19,
   "metadata": {},
   "outputs": [
    {
     "name": "stdout",
     "output_type": "stream",
     "text": [
      "2018-03-08 00:00:00 2018-08-14 06:00:00\n",
      "2018-08-14 07:00:00 2018-08-31 23:00:00\n"
     ]
    }
   ],
   "source": [
    "# Разделим данные на обучающую и тестовую выборки\n",
    "train, test = train_test_split(data_1h, \n",
    "                               test_size=0.1, \n",
    "                               shuffle=False)\n",
    "\n",
    "print(train.index.min(), train.index.max())\n",
    "print(test.index.min(), test.index.max())"
   ]
  },
  {
   "cell_type": "code",
   "execution_count": 20,
   "metadata": {
    "scrolled": true
   },
   "outputs": [
    {
     "name": "stdout",
     "output_type": "stream",
     "text": [
      "(3823, 29) (3823,)\n",
      "(425, 29) (425,)\n"
     ]
    },
    {
     "data": {
      "text/plain": [
       "8.99529411764706"
      ]
     },
     "execution_count": 20,
     "metadata": {},
     "output_type": "execute_result"
    }
   ],
   "source": [
    "# Разделим датасеты на обучающие признаки и целевой признак\n",
    "X_train = train.drop('num_orders', axis=1)\n",
    "y_train = train['num_orders']\n",
    "\n",
    "X_test = test.drop('num_orders', axis=1)\n",
    "y_test = test['num_orders']\n",
    "\n",
    "print(X_train.shape, y_train.shape)\n",
    "print(X_test.shape, y_test.shape)\n",
    "X_train.shape[0] / X_test.shape[0]"
   ]
  },
  {
   "cell_type": "markdown",
   "metadata": {},
   "source": [
    "### Модель DecisionTreeRegressor"
   ]
  },
  {
   "cell_type": "code",
   "execution_count": 21,
   "metadata": {},
   "outputs": [],
   "source": [
    "tscv = TimeSeriesSplit(n_splits=5)"
   ]
  },
  {
   "cell_type": "code",
   "execution_count": 22,
   "metadata": {},
   "outputs": [],
   "source": [
    "dtr = DecisionTreeRegressor(random_state=RANDOM_STATE)\n",
    "param_grid_dtr = {'max_depth': range(1, 11, 1),\n",
    "                  'splitter': ('best', 'random'),\n",
    "                  'min_samples_split': range(2, 11, 1)\n",
    "                }\n",
    "grid_search_dtr = RandomizedSearchCV(estimator=dtr,\n",
    "                                     cv=tscv,\n",
    "                                     param_distributions=param_grid_dtr,\n",
    "                                     n_jobs=-1,\n",
    "                                     random_state=RANDOM_STATE,\n",
    "                                     scoring='neg_root_mean_squared_error')\n",
    "\n",
    "dtr_pred = grid_search_dtr.fit(X_train, y_train)"
   ]
  },
  {
   "cell_type": "code",
   "execution_count": 23,
   "metadata": {},
   "outputs": [
    {
     "name": "stdout",
     "output_type": "stream",
     "text": [
      "\n",
      "Лучшая оценка RMSE: 26.399166033977565\n",
      "Лучшие параметры модели: {'splitter': 'random', 'min_samples_split': 10, 'max_depth': 7}\n",
      "\n"
     ]
    }
   ],
   "source": [
    "print(f'''\n",
    "Лучшая оценка RMSE: {dtr_pred.best_score_ * -1}\n",
    "Лучшие параметры модели: {dtr_pred.best_params_}\n",
    "''')"
   ]
  },
  {
   "cell_type": "markdown",
   "metadata": {},
   "source": [
    "### Модель RandomForestRegressor"
   ]
  },
  {
   "cell_type": "code",
   "execution_count": 24,
   "metadata": {},
   "outputs": [],
   "source": [
    "rfr = RandomForestRegressor(random_state=RANDOM_STATE)\n",
    "param_grid_rfr = {'max_depth': range(1, 11, 1),\n",
    "                  'n_estimators': range(10, 101, 10),\n",
    "                  'min_samples_split': range(2, 11, 1)\n",
    "                }\n",
    "grid_search_rfr = RandomizedSearchCV(estimator=rfr,\n",
    "                                     param_distributions=param_grid_rfr,\n",
    "                                     n_jobs=-1,\n",
    "                                     random_state=RANDOM_STATE,\n",
    "                                     cv=tscv,\n",
    "                                     scoring='neg_root_mean_squared_error')\n",
    "\n",
    "rfr_pred = grid_search_rfr.fit(X_train, y_train)"
   ]
  },
  {
   "cell_type": "code",
   "execution_count": 25,
   "metadata": {},
   "outputs": [
    {
     "name": "stdout",
     "output_type": "stream",
     "text": [
      "\n",
      "Лучшая оценка RMSE: 23.377509141827698\n",
      "Лучшие параметры модели: {'n_estimators': 90, 'min_samples_split': 8, 'max_depth': 9}\n",
      "\n"
     ]
    }
   ],
   "source": [
    "print(f'''\n",
    "Лучшая оценка RMSE: {rfr_pred.best_score_ * -1}\n",
    "Лучшие параметры модели: {rfr_pred.best_params_}\n",
    "''')"
   ]
  },
  {
   "cell_type": "markdown",
   "metadata": {},
   "source": [
    "### Модель CatBoostRegressor"
   ]
  },
  {
   "cell_type": "code",
   "execution_count": 26,
   "metadata": {},
   "outputs": [],
   "source": [
    "cat_features = ['day',\n",
    "                'day_of_week',\n",
    "                'hour']"
   ]
  },
  {
   "cell_type": "code",
   "execution_count": 27,
   "metadata": {},
   "outputs": [
    {
     "name": "stdout",
     "output_type": "stream",
     "text": [
      "0:\tloss: 29.0767149\tbest: 29.0767149 (0)\ttotal: 1.8s\tremaining: 16.2s\n",
      "1:\tloss: 29.6058014\tbest: 29.0767149 (0)\ttotal: 1.85s\tremaining: 7.4s\n",
      "2:\tloss: 30.0062099\tbest: 29.0767149 (0)\ttotal: 2.1s\tremaining: 4.9s\n",
      "3:\tloss: 30.5051014\tbest: 29.0767149 (0)\ttotal: 2.46s\tremaining: 3.68s\n",
      "4:\tloss: 46.0532233\tbest: 29.0767149 (0)\ttotal: 2.83s\tremaining: 2.83s\n",
      "5:\tloss: 29.9036783\tbest: 29.0767149 (0)\ttotal: 2.93s\tremaining: 1.95s\n",
      "6:\tloss: 33.1069371\tbest: 29.0767149 (0)\ttotal: 3.15s\tremaining: 1.35s\n"
     ]
    },
    {
     "name": "stderr",
     "output_type": "stream",
     "text": [
      "learning rate is greater than 1. You probably need to decrease learning rate.\n"
     ]
    },
    {
     "name": "stdout",
     "output_type": "stream",
     "text": [
      "7:\tloss: 52.8499134\tbest: 29.0767149 (0)\ttotal: 3.71s\tremaining: 927ms\n",
      "8:\tloss: 29.6022840\tbest: 29.0767149 (0)\ttotal: 4.5s\tremaining: 500ms\n",
      "9:\tloss: 29.0327697\tbest: 29.0327697 (9)\ttotal: 5.43s\tremaining: 0us\n",
      "Estimating final quality...\n"
     ]
    }
   ],
   "source": [
    "cbr = CatBoostRegressor(random_state=RANDOM_STATE,\n",
    "                        logging_level = 'Silent',\n",
    "                        cat_features=cat_features,\n",
    "                        loss_function='RMSE')\n",
    "\n",
    "param_grid_cbr = {'max_depth': range(1, 6, 1),\n",
    "                  'n_estimators': range(10, 200, 10),\n",
    "                  'learning_rate': [0.01, 0.02, 0.05, 0.1, 0.2, 0.5, 1, 2]}\n",
    "\n",
    "grid_search_cbr = cbr.randomized_search(param_grid_cbr,\n",
    "                                        X=X_train,\n",
    "                                        y=y_train,\n",
    "                                        cv=tscv,\n",
    "                                        refit=True)"
   ]
  },
  {
   "cell_type": "code",
   "execution_count": 28,
   "metadata": {},
   "outputs": [
    {
     "name": "stdout",
     "output_type": "stream",
     "text": [
      "Лучшая оценка: {'learn': {'RMSE': 17.79390780708966}}\n"
     ]
    }
   ],
   "source": [
    "print(f'Лучшая оценка: {cbr.best_score_}')"
   ]
  },
  {
   "cell_type": "markdown",
   "metadata": {},
   "source": [
    "### Модель LGBMRegressor"
   ]
  },
  {
   "cell_type": "code",
   "execution_count": 29,
   "metadata": {},
   "outputs": [],
   "source": [
    "lgbmr = LGBMRegressor(random_state=RANDOM_STATE, n_jobs=-1)\n",
    "\n",
    "param_grid_lgbmr = {'max_depth': range(1, 6, 1),\n",
    "                    'n_estimators': range(10, 200, 10),\n",
    "                    'learning_rate': [0.01, 0.02, 0.05, 0.1, 0.2, 0.5, 1, 2]}\n",
    "\n",
    "grid_search_lgbmr = RandomizedSearchCV(estimator=lgbmr,\n",
    "                                       param_distributions=param_grid_lgbmr,\n",
    "                                       n_jobs=-1,\n",
    "                                       random_state=RANDOM_STATE,\n",
    "                                       cv=tscv,\n",
    "                                       scoring='neg_root_mean_squared_error')\n",
    "\n",
    "lgbmr_pred = grid_search_lgbmr.fit(X_train, y_train)"
   ]
  },
  {
   "cell_type": "code",
   "execution_count": 30,
   "metadata": {},
   "outputs": [
    {
     "name": "stdout",
     "output_type": "stream",
     "text": [
      "\n",
      "Лучшая оценка RMSE: 22.951854318981976\n",
      "Лучшие параметры модели: {'n_estimators': 90, 'max_depth': 3, 'learning_rate': 0.1}\n",
      "\n"
     ]
    }
   ],
   "source": [
    "print(f'''\n",
    "Лучшая оценка RMSE: {lgbmr_pred.best_score_ * -1}\n",
    "Лучшие параметры модели: {lgbmr_pred.best_params_}\n",
    "''')"
   ]
  },
  {
   "cell_type": "markdown",
   "metadata": {},
   "source": [
    "### Вывод по разделу"
   ]
  },
  {
   "cell_type": "markdown",
   "metadata": {},
   "source": [
    "В ходе раздела было выполнено:\n",
    "1. Созданы дополнительные признаки - лаги\n",
    "2. Созданы дополнительные признаки - `rolling_mean_6h` и `rolling_mean_day`\n",
    "3. Подготовлены датасеты к обучению моделей\n",
    "4. Обучены модели DecisionTreeRegressor, RandomForestRegressor, CatBoostRegressor и LGBMRegressor\n",
    "\n",
    "Наилучшей оказалась модель **CatBoostRegressor** значение **RMSE - 17.79**"
   ]
  },
  {
   "cell_type": "markdown",
   "metadata": {},
   "source": [
    "## Тестирование"
   ]
  },
  {
   "cell_type": "code",
   "execution_count": 31,
   "metadata": {},
   "outputs": [
    {
     "name": "stdout",
     "output_type": "stream",
     "text": [
      "RMSE для модели CatBoostRegressor: 39.895131769194556\n"
     ]
    }
   ],
   "source": [
    "# Протестируем выбранную модель на тестовых данных\n",
    "predictions_cbr = cbr.predict(X_test)\n",
    "print(f'RMSE для модели CatBoostRegressor: {mean_squared_error(y_test,predictions_cbr) ** 0.5}')"
   ]
  },
  {
   "cell_type": "code",
   "execution_count": 32,
   "metadata": {},
   "outputs": [
    {
     "name": "stdout",
     "output_type": "stream",
     "text": [
      "RMSE для предыдущего значения ряда: 58.819724582830204\n"
     ]
    }
   ],
   "source": [
    "# Сравним с предсказаниями предыдущего значения ряда\n",
    "pred_previous = y_test.shift().fillna(y_train[-1])\n",
    "print(f'RMSE для предыдущего значения ряда: {mean_squared_error(y_test, pred_previous) ** 0.5}')"
   ]
  },
  {
   "cell_type": "markdown",
   "metadata": {},
   "source": [
    "RMSE для предыдущего значения ряда получилось больше, чем RMSE для модели CatBoostRegressor."
   ]
  },
  {
   "cell_type": "markdown",
   "metadata": {},
   "source": [
    "## Вывод"
   ]
  },
  {
   "cell_type": "markdown",
   "metadata": {},
   "source": [
    "В ходе работы:\n",
    "1. Подгрузили данные и ознакомились с общей информацией, провели ресемлирование датасета по 1 часу.\n",
    "2. Провели разведочный анализ данных. Был выявлен тренд на рост числа заказов такси и выявлена сезонность заказов такси (еженевная)\n",
    "3. Были созданы дополнительные признаки в датасете\n",
    "4. Выявлены закономерности числа заказов такси в зависимости от времени суток и дня недели.\n",
    "5. Провели обучение моделей регресии\n",
    "\n",
    "Наилучшей моделью оказалась модель **CatBoostRegressor**, значением **RMSE** на тестовых данных - **39.89**"
   ]
  }
 ],
 "metadata": {
  "ExecuteTimeLog": [
   {
    "duration": 483,
    "start_time": "2023-06-02T20:48:58.000Z"
   },
   {
    "duration": 28,
    "start_time": "2023-06-02T20:49:02.818Z"
   },
   {
    "duration": 121,
    "start_time": "2023-06-02T20:49:40.865Z"
   },
   {
    "duration": 13,
    "start_time": "2023-06-02T20:49:52.747Z"
   },
   {
    "duration": 17,
    "start_time": "2023-06-02T20:50:04.080Z"
   },
   {
    "duration": 20,
    "start_time": "2023-06-02T20:51:19.249Z"
   },
   {
    "duration": 67,
    "start_time": "2023-06-02T20:51:40.981Z"
   },
   {
    "duration": 6,
    "start_time": "2023-06-02T20:51:43.281Z"
   },
   {
    "duration": 190,
    "start_time": "2023-06-02T20:52:02.274Z"
   },
   {
    "duration": 658,
    "start_time": "2023-06-02T20:52:11.756Z"
   },
   {
    "duration": 163,
    "start_time": "2023-06-02T20:52:22.034Z"
   },
   {
    "duration": 13,
    "start_time": "2023-06-02T20:52:33.249Z"
   },
   {
    "duration": 11,
    "start_time": "2023-06-02T20:52:40.408Z"
   },
   {
    "duration": 50,
    "start_time": "2023-06-02T20:53:14.357Z"
   },
   {
    "duration": 11,
    "start_time": "2023-06-02T20:53:15.751Z"
   },
   {
    "duration": 17,
    "start_time": "2023-06-02T20:53:18.182Z"
   },
   {
    "duration": 160,
    "start_time": "2023-06-02T20:53:19.035Z"
   },
   {
    "duration": 708,
    "start_time": "2023-06-02T20:53:28.701Z"
   },
   {
    "duration": 632,
    "start_time": "2023-06-02T20:53:35.099Z"
   },
   {
    "duration": 6,
    "start_time": "2023-06-02T20:53:47.508Z"
   },
   {
    "duration": 30,
    "start_time": "2023-06-02T20:54:16.611Z"
   },
   {
    "duration": 1909,
    "start_time": "2023-06-02T20:54:41.109Z"
   },
   {
    "duration": 1802,
    "start_time": "2023-06-02T20:55:12.501Z"
   },
   {
    "duration": 1954,
    "start_time": "2023-06-02T20:55:17.661Z"
   },
   {
    "duration": 2115,
    "start_time": "2023-06-02T20:55:25.574Z"
   },
   {
    "duration": 4,
    "start_time": "2023-06-02T20:56:05.248Z"
   },
   {
    "duration": 177,
    "start_time": "2023-06-02T20:56:14.980Z"
   },
   {
    "duration": 10,
    "start_time": "2023-06-02T20:56:23.701Z"
   },
   {
    "duration": 195,
    "start_time": "2023-06-02T20:56:25.030Z"
   },
   {
    "duration": 4,
    "start_time": "2023-06-02T20:56:36.263Z"
   },
   {
    "duration": 181,
    "start_time": "2023-06-02T20:56:38.706Z"
   },
   {
    "duration": 11,
    "start_time": "2023-06-02T20:56:55.528Z"
   },
   {
    "duration": 5,
    "start_time": "2023-06-02T20:57:24.013Z"
   },
   {
    "duration": 12,
    "start_time": "2023-06-02T20:57:24.681Z"
   },
   {
    "duration": 4,
    "start_time": "2023-06-02T20:57:29.024Z"
   },
   {
    "duration": 12,
    "start_time": "2023-06-02T20:57:29.490Z"
   },
   {
    "duration": 5,
    "start_time": "2023-06-02T20:57:38.836Z"
   },
   {
    "duration": 12,
    "start_time": "2023-06-02T20:57:39.750Z"
   },
   {
    "duration": 14,
    "start_time": "2023-06-02T20:57:53.089Z"
   },
   {
    "duration": 19,
    "start_time": "2023-06-02T20:57:59.850Z"
   },
   {
    "duration": 1576,
    "start_time": "2023-06-04T19:19:47.459Z"
   },
   {
    "duration": 9,
    "start_time": "2023-06-04T19:19:58.651Z"
   },
   {
    "duration": 4,
    "start_time": "2023-06-04T19:20:20.488Z"
   },
   {
    "duration": 181,
    "start_time": "2023-06-04T19:20:21.481Z"
   },
   {
    "duration": 11,
    "start_time": "2023-06-04T19:20:23.025Z"
   },
   {
    "duration": 14,
    "start_time": "2023-06-04T19:20:24.536Z"
   },
   {
    "duration": 7,
    "start_time": "2023-06-04T19:20:26.204Z"
   },
   {
    "duration": 12,
    "start_time": "2023-06-04T19:20:26.981Z"
   },
   {
    "duration": 11,
    "start_time": "2023-06-04T19:20:38.747Z"
   },
   {
    "duration": 5,
    "start_time": "2023-06-04T19:21:18.763Z"
   },
   {
    "duration": 109,
    "start_time": "2023-06-04T19:22:51.647Z"
   },
   {
    "duration": 17,
    "start_time": "2023-06-04T19:22:59.702Z"
   },
   {
    "duration": 19,
    "start_time": "2023-06-04T19:23:03.794Z"
   },
   {
    "duration": 12,
    "start_time": "2023-06-04T19:23:14.057Z"
   },
   {
    "duration": 15,
    "start_time": "2023-06-04T19:23:48.534Z"
   },
   {
    "duration": 15,
    "start_time": "2023-06-04T19:23:55.557Z"
   },
   {
    "duration": 9,
    "start_time": "2023-06-04T19:24:03.666Z"
   },
   {
    "duration": 1921,
    "start_time": "2023-06-04T19:24:22.998Z"
   },
   {
    "duration": 15,
    "start_time": "2023-06-04T19:24:40.333Z"
   },
   {
    "duration": 12,
    "start_time": "2023-06-04T19:24:50.182Z"
   },
   {
    "duration": 601,
    "start_time": "2023-06-04T19:24:54.596Z"
   },
   {
    "duration": 152,
    "start_time": "2023-06-04T19:25:13.823Z"
   },
   {
    "duration": 166,
    "start_time": "2023-06-04T19:25:35.402Z"
   },
   {
    "duration": 609,
    "start_time": "2023-06-04T19:25:42.236Z"
   },
   {
    "duration": 915,
    "start_time": "2023-06-04T19:25:54.817Z"
   },
   {
    "duration": 639,
    "start_time": "2023-06-04T19:26:05.492Z"
   },
   {
    "duration": 10,
    "start_time": "2023-06-04T19:26:11.340Z"
   },
   {
    "duration": 614,
    "start_time": "2023-06-04T19:26:14.779Z"
   },
   {
    "duration": 656,
    "start_time": "2023-06-04T19:26:18.091Z"
   },
   {
    "duration": 4,
    "start_time": "2023-06-04T19:36:47.968Z"
   },
   {
    "duration": 5,
    "start_time": "2023-06-04T19:36:56.870Z"
   },
   {
    "duration": 52,
    "start_time": "2023-06-04T19:36:57.919Z"
   },
   {
    "duration": 15,
    "start_time": "2023-06-04T19:37:02.441Z"
   },
   {
    "duration": 17,
    "start_time": "2023-06-04T19:37:02.850Z"
   },
   {
    "duration": 4,
    "start_time": "2023-06-04T19:37:07.332Z"
   },
   {
    "duration": 5,
    "start_time": "2023-06-04T19:37:37.472Z"
   },
   {
    "duration": 22,
    "start_time": "2023-06-04T19:38:11.742Z"
   },
   {
    "duration": 521,
    "start_time": "2023-06-04T19:38:42.819Z"
   },
   {
    "duration": 551,
    "start_time": "2023-06-04T19:38:54.668Z"
   },
   {
    "duration": 9,
    "start_time": "2023-06-04T19:39:06.864Z"
   },
   {
    "duration": 3,
    "start_time": "2023-06-04T19:39:14.562Z"
   },
   {
    "duration": 50,
    "start_time": "2023-06-04T19:39:15.223Z"
   },
   {
    "duration": 18,
    "start_time": "2023-06-04T19:39:16.545Z"
   },
   {
    "duration": 12,
    "start_time": "2023-06-04T19:39:16.831Z"
   },
   {
    "duration": 4,
    "start_time": "2023-06-04T19:39:18.174Z"
   },
   {
    "duration": 6,
    "start_time": "2023-06-04T19:39:18.631Z"
   },
   {
    "duration": 10,
    "start_time": "2023-06-04T19:39:18.932Z"
   },
   {
    "duration": 24,
    "start_time": "2023-06-04T19:39:20.246Z"
   },
   {
    "duration": 11,
    "start_time": "2023-06-04T19:39:20.516Z"
   },
   {
    "duration": 654,
    "start_time": "2023-06-04T19:39:20.860Z"
   },
   {
    "duration": 1417,
    "start_time": "2023-06-04T19:39:22.552Z"
   },
   {
    "duration": 533,
    "start_time": "2023-06-04T19:39:36.697Z"
   },
   {
    "duration": 15,
    "start_time": "2023-06-04T19:40:33.568Z"
   },
   {
    "duration": 8,
    "start_time": "2023-06-04T19:40:42.371Z"
   },
   {
    "duration": 25,
    "start_time": "2023-06-04T19:41:05.455Z"
   },
   {
    "duration": 13,
    "start_time": "2023-06-04T19:41:19.219Z"
   },
   {
    "duration": 207,
    "start_time": "2023-06-04T19:41:23.375Z"
   },
   {
    "duration": 255,
    "start_time": "2023-06-04T19:41:31.969Z"
   },
   {
    "duration": 196,
    "start_time": "2023-06-04T19:41:50.684Z"
   },
   {
    "duration": 247,
    "start_time": "2023-06-04T19:42:24.300Z"
   },
   {
    "duration": 653,
    "start_time": "2023-06-04T19:42:33.968Z"
   },
   {
    "duration": 210,
    "start_time": "2023-06-04T19:42:36.226Z"
   },
   {
    "duration": 211,
    "start_time": "2023-06-04T19:42:38.194Z"
   },
   {
    "duration": 209,
    "start_time": "2023-06-04T19:42:45.979Z"
   },
   {
    "duration": 244,
    "start_time": "2023-06-04T19:43:43.015Z"
   },
   {
    "duration": 204,
    "start_time": "2023-06-04T19:43:53.473Z"
   },
   {
    "duration": 683,
    "start_time": "2023-06-04T19:44:48.120Z"
   },
   {
    "duration": 963,
    "start_time": "2023-06-04T19:44:54.472Z"
   },
   {
    "duration": 13,
    "start_time": "2023-06-04T19:46:32.014Z"
   },
   {
    "duration": 725,
    "start_time": "2023-06-04T19:46:39.444Z"
   },
   {
    "duration": 5,
    "start_time": "2023-06-04T19:46:54.790Z"
   },
   {
    "duration": 15,
    "start_time": "2023-06-04T19:46:55.476Z"
   },
   {
    "duration": 19,
    "start_time": "2023-06-04T19:46:56.895Z"
   },
   {
    "duration": 10,
    "start_time": "2023-06-04T19:46:59.835Z"
   },
   {
    "duration": 806,
    "start_time": "2023-06-04T19:47:01.133Z"
   },
   {
    "duration": 3,
    "start_time": "2023-06-04T19:47:11.332Z"
   },
   {
    "duration": 52,
    "start_time": "2023-06-04T19:47:11.910Z"
   },
   {
    "duration": 10,
    "start_time": "2023-06-04T19:47:13.385Z"
   },
   {
    "duration": 13,
    "start_time": "2023-06-04T19:47:13.715Z"
   },
   {
    "duration": 4,
    "start_time": "2023-06-04T19:47:15.221Z"
   },
   {
    "duration": 5,
    "start_time": "2023-06-04T19:47:15.661Z"
   },
   {
    "duration": 11,
    "start_time": "2023-06-04T19:47:18.005Z"
   },
   {
    "duration": 19,
    "start_time": "2023-06-04T19:47:20.496Z"
   },
   {
    "duration": 10,
    "start_time": "2023-06-04T19:47:23.903Z"
   },
   {
    "duration": 761,
    "start_time": "2023-06-04T19:47:25.404Z"
   },
   {
    "duration": 860,
    "start_time": "2023-06-04T19:48:30.070Z"
   },
   {
    "duration": 46,
    "start_time": "2023-06-04T19:49:00.058Z"
   },
   {
    "duration": 10,
    "start_time": "2023-06-04T19:49:00.297Z"
   },
   {
    "duration": 15,
    "start_time": "2023-06-04T19:49:00.475Z"
   },
   {
    "duration": 4,
    "start_time": "2023-06-04T19:49:00.664Z"
   },
   {
    "duration": 7,
    "start_time": "2023-06-04T19:49:32.717Z"
   },
   {
    "duration": 15,
    "start_time": "2023-06-04T19:49:33.571Z"
   },
   {
    "duration": 26,
    "start_time": "2023-06-04T19:49:34.632Z"
   },
   {
    "duration": 14,
    "start_time": "2023-06-04T19:49:35.533Z"
   },
   {
    "duration": 789,
    "start_time": "2023-06-04T19:49:36.887Z"
   },
   {
    "duration": 5,
    "start_time": "2023-06-04T19:49:50.085Z"
   },
   {
    "duration": 20,
    "start_time": "2023-06-04T19:49:50.474Z"
   },
   {
    "duration": 26,
    "start_time": "2023-06-04T19:49:50.816Z"
   },
   {
    "duration": 10,
    "start_time": "2023-06-04T19:49:51.302Z"
   },
   {
    "duration": 5,
    "start_time": "2023-06-04T19:49:53.435Z"
   },
   {
    "duration": 60,
    "start_time": "2023-06-04T19:49:54.072Z"
   },
   {
    "duration": 11,
    "start_time": "2023-06-04T19:49:54.135Z"
   },
   {
    "duration": 16,
    "start_time": "2023-06-04T19:49:54.214Z"
   },
   {
    "duration": 5,
    "start_time": "2023-06-04T19:49:54.298Z"
   },
   {
    "duration": 6,
    "start_time": "2023-06-04T19:49:54.380Z"
   },
   {
    "duration": 14,
    "start_time": "2023-06-04T19:49:54.465Z"
   },
   {
    "duration": 26,
    "start_time": "2023-06-04T19:49:54.547Z"
   },
   {
    "duration": 9,
    "start_time": "2023-06-04T19:49:54.629Z"
   },
   {
    "duration": 1138,
    "start_time": "2023-06-04T19:49:54.712Z"
   },
   {
    "duration": 686,
    "start_time": "2023-06-04T19:49:55.852Z"
   },
   {
    "duration": 535,
    "start_time": "2023-06-04T19:49:56.540Z"
   },
   {
    "duration": 259,
    "start_time": "2023-06-04T19:49:57.076Z"
   },
   {
    "duration": 227,
    "start_time": "2023-06-04T19:49:57.337Z"
   },
   {
    "duration": 182,
    "start_time": "2023-06-04T19:49:57.566Z"
   },
   {
    "duration": 3,
    "start_time": "2023-06-04T19:51:43.332Z"
   },
   {
    "duration": 29,
    "start_time": "2023-06-04T19:52:56.857Z"
   },
   {
    "duration": 12,
    "start_time": "2023-06-04T19:53:05.312Z"
   },
   {
    "duration": 4,
    "start_time": "2023-06-04T19:53:42.304Z"
   },
   {
    "duration": 58,
    "start_time": "2023-06-04T19:53:42.686Z"
   },
   {
    "duration": 10,
    "start_time": "2023-06-04T19:53:42.868Z"
   },
   {
    "duration": 18,
    "start_time": "2023-06-04T19:53:44.172Z"
   },
   {
    "duration": 4,
    "start_time": "2023-06-04T19:53:44.392Z"
   },
   {
    "duration": 2,
    "start_time": "2023-06-04T19:53:44.606Z"
   },
   {
    "duration": 9,
    "start_time": "2023-06-04T19:53:44.817Z"
   },
   {
    "duration": 3,
    "start_time": "2023-06-04T19:53:44.999Z"
   },
   {
    "duration": 6,
    "start_time": "2023-06-04T19:53:45.216Z"
   },
   {
    "duration": 13,
    "start_time": "2023-06-04T19:53:45.383Z"
   },
   {
    "duration": 2,
    "start_time": "2023-06-04T19:53:50.996Z"
   },
   {
    "duration": 569,
    "start_time": "2023-06-04T19:53:57.575Z"
   },
   {
    "duration": 3,
    "start_time": "2023-06-04T19:54:00.934Z"
   },
   {
    "duration": 671,
    "start_time": "2023-06-04T19:54:04.204Z"
   },
   {
    "duration": 284,
    "start_time": "2023-06-04T19:54:04.877Z"
   },
   {
    "duration": 236,
    "start_time": "2023-06-04T19:54:08.010Z"
   },
   {
    "duration": 250,
    "start_time": "2023-06-04T19:54:09.565Z"
   },
   {
    "duration": 12,
    "start_time": "2023-06-04T19:54:10.936Z"
   },
   {
    "duration": 11,
    "start_time": "2023-06-04T19:54:15.886Z"
   },
   {
    "duration": 11,
    "start_time": "2023-06-04T19:54:35.934Z"
   },
   {
    "duration": 11,
    "start_time": "2023-06-04T19:54:50.634Z"
   },
   {
    "duration": 14,
    "start_time": "2023-06-04T19:55:05.017Z"
   },
   {
    "duration": 16,
    "start_time": "2023-06-04T19:56:03.157Z"
   },
   {
    "duration": 4,
    "start_time": "2023-06-04T19:56:19.810Z"
   },
   {
    "duration": 17,
    "start_time": "2023-06-04T19:56:24.769Z"
   },
   {
    "duration": 12,
    "start_time": "2023-06-04T19:57:05.981Z"
   },
   {
    "duration": 19,
    "start_time": "2023-06-04T19:57:17.666Z"
   },
   {
    "duration": 4,
    "start_time": "2023-06-04T19:58:05.303Z"
   },
   {
    "duration": 15,
    "start_time": "2023-06-04T19:58:19.690Z"
   },
   {
    "duration": 6,
    "start_time": "2023-06-04T19:58:49.023Z"
   },
   {
    "duration": 49,
    "start_time": "2023-06-04T19:59:28.604Z"
   },
   {
    "duration": 17,
    "start_time": "2023-06-04T19:59:28.941Z"
   },
   {
    "duration": 18,
    "start_time": "2023-06-04T19:59:30.072Z"
   },
   {
    "duration": 6,
    "start_time": "2023-06-04T19:59:33.233Z"
   },
   {
    "duration": 12,
    "start_time": "2023-06-04T19:59:34.825Z"
   },
   {
    "duration": 841,
    "start_time": "2023-06-04T19:59:47.045Z"
   },
   {
    "duration": 656,
    "start_time": "2023-06-04T19:59:50.357Z"
   },
   {
    "duration": 550,
    "start_time": "2023-06-04T19:59:59.772Z"
   },
   {
    "duration": 274,
    "start_time": "2023-06-04T20:00:01.491Z"
   },
   {
    "duration": 209,
    "start_time": "2023-06-04T20:00:02.798Z"
   },
   {
    "duration": 270,
    "start_time": "2023-06-04T20:00:04.213Z"
   },
   {
    "duration": 11,
    "start_time": "2023-06-04T20:01:51.285Z"
   },
   {
    "duration": 12,
    "start_time": "2023-06-04T20:01:57.878Z"
   },
   {
    "duration": 6,
    "start_time": "2023-06-04T20:02:42.507Z"
   },
   {
    "duration": 7,
    "start_time": "2023-06-04T20:02:46.638Z"
   },
   {
    "duration": 26,
    "start_time": "2023-06-04T20:02:54.948Z"
   },
   {
    "duration": 6,
    "start_time": "2023-06-04T20:03:32.919Z"
   },
   {
    "duration": 14,
    "start_time": "2023-06-04T20:03:33.320Z"
   },
   {
    "duration": 647,
    "start_time": "2023-06-04T20:03:56.030Z"
   },
   {
    "duration": 660,
    "start_time": "2023-06-04T20:04:07.927Z"
   },
   {
    "duration": 8,
    "start_time": "2023-06-04T20:07:02.555Z"
   },
   {
    "duration": 16,
    "start_time": "2023-06-04T20:07:06.376Z"
   },
   {
    "duration": 636,
    "start_time": "2023-06-04T20:07:39.495Z"
   },
   {
    "duration": 644,
    "start_time": "2023-06-04T20:07:57.989Z"
   },
   {
    "duration": 13,
    "start_time": "2023-06-04T20:08:16.519Z"
   },
   {
    "duration": 599,
    "start_time": "2023-06-04T20:08:19.788Z"
   },
   {
    "duration": 619,
    "start_time": "2023-06-04T20:08:24.743Z"
   },
   {
    "duration": 632,
    "start_time": "2023-06-04T20:08:46.507Z"
   },
   {
    "duration": 13,
    "start_time": "2023-06-04T20:10:10.979Z"
   },
   {
    "duration": 6,
    "start_time": "2023-06-04T20:10:46.119Z"
   },
   {
    "duration": 15,
    "start_time": "2023-06-04T20:10:53.476Z"
   },
   {
    "duration": 4,
    "start_time": "2023-06-04T20:12:24.844Z"
   },
   {
    "duration": 7,
    "start_time": "2023-06-04T20:13:28.794Z"
   },
   {
    "duration": 9,
    "start_time": "2023-06-04T20:13:56.045Z"
   },
   {
    "duration": 5,
    "start_time": "2023-06-04T20:17:22.525Z"
   },
   {
    "duration": 5,
    "start_time": "2023-06-04T20:18:44.692Z"
   },
   {
    "duration": 4,
    "start_time": "2023-06-04T20:20:41.999Z"
   },
   {
    "duration": 5,
    "start_time": "2023-06-04T20:21:01.538Z"
   },
   {
    "duration": 10,
    "start_time": "2023-06-04T20:25:42.100Z"
   },
   {
    "duration": 21,
    "start_time": "2023-06-04T20:26:04.223Z"
   },
   {
    "duration": 4,
    "start_time": "2023-06-04T20:26:05.937Z"
   },
   {
    "duration": 18,
    "start_time": "2023-06-04T20:26:06.223Z"
   },
   {
    "duration": 1671,
    "start_time": "2023-06-05T07:31:44.639Z"
   },
   {
    "duration": 233,
    "start_time": "2023-06-05T07:31:46.312Z"
   },
   {
    "duration": 10,
    "start_time": "2023-06-05T07:31:46.546Z"
   },
   {
    "duration": 12,
    "start_time": "2023-06-05T07:31:46.652Z"
   },
   {
    "duration": 3,
    "start_time": "2023-06-05T07:31:47.958Z"
   },
   {
    "duration": 49,
    "start_time": "2023-06-05T07:32:06.632Z"
   },
   {
    "duration": 9,
    "start_time": "2023-06-05T07:33:01.327Z"
   },
   {
    "duration": 11,
    "start_time": "2023-06-05T07:33:06.245Z"
   },
   {
    "duration": 11,
    "start_time": "2023-06-05T07:33:43.127Z"
   },
   {
    "duration": 49,
    "start_time": "2023-06-05T07:33:46.254Z"
   },
   {
    "duration": 8,
    "start_time": "2023-06-05T07:33:46.550Z"
   },
   {
    "duration": 10,
    "start_time": "2023-06-05T07:33:47.534Z"
   },
   {
    "duration": 4,
    "start_time": "2023-06-05T07:33:48.782Z"
   },
   {
    "duration": 11,
    "start_time": "2023-06-05T07:33:49.670Z"
   },
   {
    "duration": 14,
    "start_time": "2023-06-05T07:34:00.014Z"
   },
   {
    "duration": 353,
    "start_time": "2023-06-05T07:50:01.782Z"
   },
   {
    "duration": 145,
    "start_time": "2023-06-05T07:51:34.894Z"
   },
   {
    "duration": 3,
    "start_time": "2023-06-05T07:51:38.590Z"
   },
   {
    "duration": 8,
    "start_time": "2023-06-05T07:51:53.573Z"
   },
   {
    "duration": 5,
    "start_time": "2023-06-05T07:51:59.245Z"
   },
   {
    "duration": 3,
    "start_time": "2023-06-05T07:52:05.973Z"
   },
   {
    "duration": 4,
    "start_time": "2023-06-05T07:52:51.430Z"
   },
   {
    "duration": 16,
    "start_time": "2023-06-05T07:53:41.311Z"
   },
   {
    "duration": 315,
    "start_time": "2023-06-05T07:53:57.027Z"
   },
   {
    "duration": 203,
    "start_time": "2023-06-05T07:54:10.527Z"
   },
   {
    "duration": 174,
    "start_time": "2023-06-05T07:54:21.629Z"
   },
   {
    "duration": 221,
    "start_time": "2023-06-05T07:54:26.108Z"
   },
   {
    "duration": 217,
    "start_time": "2023-06-05T07:54:36.173Z"
   },
   {
    "duration": 20,
    "start_time": "2023-06-05T07:55:42.268Z"
   },
   {
    "duration": 24,
    "start_time": "2023-06-05T07:55:51.327Z"
   },
   {
    "duration": 8,
    "start_time": "2023-06-05T07:56:10.678Z"
   },
   {
    "duration": 21,
    "start_time": "2023-06-05T07:56:16.044Z"
   },
   {
    "duration": 1581,
    "start_time": "2023-06-05T07:56:32.464Z"
   },
   {
    "duration": 255,
    "start_time": "2023-06-05T07:57:07.133Z"
   },
   {
    "duration": 226,
    "start_time": "2023-06-05T07:57:18.687Z"
   },
   {
    "duration": 190,
    "start_time": "2023-06-05T08:04:09.374Z"
   },
   {
    "duration": 14,
    "start_time": "2023-06-05T08:04:37.533Z"
   },
   {
    "duration": 4,
    "start_time": "2023-06-05T08:52:46.683Z"
   },
   {
    "duration": 18,
    "start_time": "2023-06-05T08:52:47.715Z"
   },
   {
    "duration": 30,
    "start_time": "2023-06-05T08:52:48.597Z"
   },
   {
    "duration": 4,
    "start_time": "2023-06-05T08:53:04.741Z"
   },
   {
    "duration": 11,
    "start_time": "2023-06-05T08:53:04.987Z"
   },
   {
    "duration": 22,
    "start_time": "2023-06-05T08:53:05.235Z"
   },
   {
    "duration": 4,
    "start_time": "2023-06-05T08:53:08.562Z"
   },
   {
    "duration": 50,
    "start_time": "2023-06-05T08:53:09.011Z"
   },
   {
    "duration": 10,
    "start_time": "2023-06-05T08:53:09.227Z"
   },
   {
    "duration": 12,
    "start_time": "2023-06-05T08:53:09.427Z"
   },
   {
    "duration": 3,
    "start_time": "2023-06-05T08:53:09.731Z"
   },
   {
    "duration": 10,
    "start_time": "2023-06-05T08:53:10.091Z"
   },
   {
    "duration": 221,
    "start_time": "2023-06-05T08:53:11.074Z"
   },
   {
    "duration": 201,
    "start_time": "2023-06-05T08:53:11.771Z"
   },
   {
    "duration": 4,
    "start_time": "2023-06-05T08:53:16.035Z"
   },
   {
    "duration": 23,
    "start_time": "2023-06-05T08:53:18.516Z"
   },
   {
    "duration": 20,
    "start_time": "2023-06-05T08:53:23.827Z"
   },
   {
    "duration": 5,
    "start_time": "2023-06-05T08:53:59.562Z"
   },
   {
    "duration": 4,
    "start_time": "2023-06-05T08:54:05.429Z"
   },
   {
    "duration": 55,
    "start_time": "2023-06-05T08:54:05.915Z"
   },
   {
    "duration": 9,
    "start_time": "2023-06-05T08:54:06.147Z"
   },
   {
    "duration": 11,
    "start_time": "2023-06-05T08:54:06.395Z"
   },
   {
    "duration": 3,
    "start_time": "2023-06-05T08:54:06.685Z"
   },
   {
    "duration": 10,
    "start_time": "2023-06-05T08:54:07.461Z"
   },
   {
    "duration": 228,
    "start_time": "2023-06-05T08:54:07.731Z"
   },
   {
    "duration": 210,
    "start_time": "2023-06-05T08:54:08.547Z"
   },
   {
    "duration": 5,
    "start_time": "2023-06-05T08:54:09.595Z"
   },
   {
    "duration": 20,
    "start_time": "2023-06-05T08:54:12.085Z"
   },
   {
    "duration": 24,
    "start_time": "2023-06-05T08:54:13.971Z"
   },
   {
    "duration": 24,
    "start_time": "2023-06-05T08:54:15.581Z"
   },
   {
    "duration": 674,
    "start_time": "2023-06-05T08:54:32.099Z"
   },
   {
    "duration": 16,
    "start_time": "2023-06-05T08:54:53.828Z"
   },
   {
    "duration": 26,
    "start_time": "2023-06-05T08:55:05.510Z"
   },
   {
    "duration": 231,
    "start_time": "2023-06-05T08:55:08.203Z"
   },
   {
    "duration": 48,
    "start_time": "2023-06-05T08:55:30.563Z"
   },
   {
    "duration": 9,
    "start_time": "2023-06-05T08:55:30.803Z"
   },
   {
    "duration": 10,
    "start_time": "2023-06-05T08:55:31.076Z"
   },
   {
    "duration": 8,
    "start_time": "2023-06-05T08:55:31.321Z"
   },
   {
    "duration": 12,
    "start_time": "2023-06-05T08:55:31.561Z"
   },
   {
    "duration": 235,
    "start_time": "2023-06-05T08:55:31.803Z"
   },
   {
    "duration": 199,
    "start_time": "2023-06-05T08:55:32.083Z"
   },
   {
    "duration": 3,
    "start_time": "2023-06-05T08:55:32.332Z"
   },
   {
    "duration": 20,
    "start_time": "2023-06-05T08:55:33.235Z"
   },
   {
    "duration": 25,
    "start_time": "2023-06-05T08:55:33.899Z"
   },
   {
    "duration": 19,
    "start_time": "2023-06-05T08:55:34.244Z"
   },
   {
    "duration": 244,
    "start_time": "2023-06-05T08:55:35.195Z"
   },
   {
    "duration": 48,
    "start_time": "2023-06-05T08:56:00.548Z"
   },
   {
    "duration": 9,
    "start_time": "2023-06-05T08:56:00.779Z"
   },
   {
    "duration": 11,
    "start_time": "2023-06-05T08:56:01.003Z"
   },
   {
    "duration": 4,
    "start_time": "2023-06-05T08:56:01.475Z"
   },
   {
    "duration": 10,
    "start_time": "2023-06-05T08:56:01.627Z"
   },
   {
    "duration": 476,
    "start_time": "2023-06-05T08:56:01.765Z"
   },
   {
    "duration": 221,
    "start_time": "2023-06-05T08:56:02.243Z"
   },
   {
    "duration": 4,
    "start_time": "2023-06-05T08:56:02.466Z"
   },
   {
    "duration": 76,
    "start_time": "2023-06-05T08:56:02.472Z"
   },
   {
    "duration": 32,
    "start_time": "2023-06-05T08:56:02.550Z"
   },
   {
    "duration": 21,
    "start_time": "2023-06-05T08:56:02.583Z"
   },
   {
    "duration": 242,
    "start_time": "2023-06-05T08:56:02.605Z"
   },
   {
    "duration": 204,
    "start_time": "2023-06-05T09:31:59.475Z"
   },
   {
    "duration": 219,
    "start_time": "2023-06-05T09:32:11.203Z"
   },
   {
    "duration": 217,
    "start_time": "2023-06-05T09:32:14.231Z"
   },
   {
    "duration": 5,
    "start_time": "2023-06-05T09:32:57.850Z"
   },
   {
    "duration": 26,
    "start_time": "2023-06-05T09:33:05.955Z"
   },
   {
    "duration": 199,
    "start_time": "2023-06-05T09:33:21.625Z"
   },
   {
    "duration": 271,
    "start_time": "2023-06-05T09:34:11.978Z"
   },
   {
    "duration": 207,
    "start_time": "2023-06-05T09:34:21.314Z"
   },
   {
    "duration": 139,
    "start_time": "2023-06-05T09:34:37.370Z"
   },
   {
    "duration": 162,
    "start_time": "2023-06-05T09:34:46.746Z"
   },
   {
    "duration": 183,
    "start_time": "2023-06-05T09:35:08.146Z"
   },
   {
    "duration": 2307,
    "start_time": "2023-06-05T09:35:15.274Z"
   },
   {
    "duration": 207,
    "start_time": "2023-06-05T09:35:18.970Z"
   },
   {
    "duration": 292,
    "start_time": "2023-06-05T09:35:30.250Z"
   },
   {
    "duration": 290,
    "start_time": "2023-06-05T09:35:50.785Z"
   },
   {
    "duration": 145,
    "start_time": "2023-06-05T09:36:17.458Z"
   },
   {
    "duration": 143,
    "start_time": "2023-06-05T09:36:36.113Z"
   },
   {
    "duration": 136,
    "start_time": "2023-06-05T09:38:17.066Z"
   },
   {
    "duration": 1496,
    "start_time": "2023-06-05T10:03:31.712Z"
   },
   {
    "duration": 3,
    "start_time": "2023-06-05T10:03:40.313Z"
   },
   {
    "duration": 54,
    "start_time": "2023-06-05T10:03:45.771Z"
   },
   {
    "duration": 11,
    "start_time": "2023-06-05T10:03:46.072Z"
   },
   {
    "duration": 11,
    "start_time": "2023-06-05T10:03:47.192Z"
   },
   {
    "duration": 4,
    "start_time": "2023-06-05T10:03:47.808Z"
   },
   {
    "duration": 9,
    "start_time": "2023-06-05T10:03:49.224Z"
   },
   {
    "duration": 229,
    "start_time": "2023-06-05T10:03:49.729Z"
   },
   {
    "duration": 196,
    "start_time": "2023-06-05T10:03:51.319Z"
   },
   {
    "duration": 3,
    "start_time": "2023-06-05T10:03:57.049Z"
   },
   {
    "duration": 19,
    "start_time": "2023-06-05T10:03:57.432Z"
   },
   {
    "duration": 28,
    "start_time": "2023-06-05T10:03:59.200Z"
   },
   {
    "duration": 33,
    "start_time": "2023-06-05T10:04:17.017Z"
   },
   {
    "duration": 23,
    "start_time": "2023-06-05T10:08:56.729Z"
   },
   {
    "duration": 8,
    "start_time": "2023-06-05T10:18:50.227Z"
   },
   {
    "duration": 650,
    "start_time": "2023-06-05T10:24:34.240Z"
   },
   {
    "duration": 707,
    "start_time": "2023-06-05T10:24:46.144Z"
   },
   {
    "duration": 813,
    "start_time": "2023-06-05T10:25:03.551Z"
   },
   {
    "duration": 106,
    "start_time": "2023-06-05T10:25:49.808Z"
   },
   {
    "duration": 128,
    "start_time": "2023-06-05T10:25:52.829Z"
   },
   {
    "duration": 123,
    "start_time": "2023-06-05T10:25:58.952Z"
   },
   {
    "duration": 377,
    "start_time": "2023-06-05T10:26:12.480Z"
   },
   {
    "duration": 637,
    "start_time": "2023-06-05T10:26:20.303Z"
   },
   {
    "duration": 1289,
    "start_time": "2023-06-05T10:26:29.352Z"
   },
   {
    "duration": 818,
    "start_time": "2023-06-05T10:28:04.743Z"
   },
   {
    "duration": 766,
    "start_time": "2023-06-05T10:28:14.087Z"
   },
   {
    "duration": 755,
    "start_time": "2023-06-05T10:28:20.096Z"
   },
   {
    "duration": 278,
    "start_time": "2023-06-05T10:29:13.775Z"
   },
   {
    "duration": 4,
    "start_time": "2023-06-05T10:36:14.407Z"
   },
   {
    "duration": 1597,
    "start_time": "2023-06-05T10:36:56.480Z"
   },
   {
    "duration": 61,
    "start_time": "2023-06-05T10:36:59.295Z"
   },
   {
    "duration": 10,
    "start_time": "2023-06-05T10:37:01.626Z"
   },
   {
    "duration": 13,
    "start_time": "2023-06-05T10:37:04.018Z"
   },
   {
    "duration": 4,
    "start_time": "2023-06-05T10:37:04.903Z"
   },
   {
    "duration": 18,
    "start_time": "2023-06-05T10:37:08.111Z"
   },
   {
    "duration": 3,
    "start_time": "2023-06-05T10:37:18.384Z"
   },
   {
    "duration": 50,
    "start_time": "2023-06-05T10:37:43.999Z"
   },
   {
    "duration": 1447,
    "start_time": "2023-06-05T10:37:45.791Z"
   },
   {
    "duration": 54,
    "start_time": "2023-06-05T10:37:47.240Z"
   },
   {
    "duration": 9,
    "start_time": "2023-06-05T10:37:48.871Z"
   },
   {
    "duration": 12,
    "start_time": "2023-06-05T10:37:49.199Z"
   },
   {
    "duration": 4,
    "start_time": "2023-06-05T10:37:51.407Z"
   },
   {
    "duration": 12,
    "start_time": "2023-06-05T10:38:02.383Z"
   },
   {
    "duration": 4,
    "start_time": "2023-06-05T10:38:55.791Z"
   },
   {
    "duration": 7,
    "start_time": "2023-06-05T10:39:33.967Z"
   },
   {
    "duration": 5,
    "start_time": "2023-06-05T10:39:47.576Z"
   },
   {
    "duration": 7,
    "start_time": "2023-06-05T10:39:54.928Z"
   },
   {
    "duration": 5,
    "start_time": "2023-06-05T10:40:01.519Z"
   },
   {
    "duration": 9,
    "start_time": "2023-06-05T10:40:04.495Z"
   },
   {
    "duration": 9,
    "start_time": "2023-06-05T10:40:16.080Z"
   },
   {
    "duration": 6,
    "start_time": "2023-06-05T10:40:19.039Z"
   },
   {
    "duration": 82,
    "start_time": "2023-06-05T10:40:28.528Z"
   },
   {
    "duration": 11,
    "start_time": "2023-06-05T10:40:30.312Z"
   },
   {
    "duration": 8,
    "start_time": "2023-06-05T10:41:37.055Z"
   },
   {
    "duration": 8,
    "start_time": "2023-06-05T10:41:39.399Z"
   },
   {
    "duration": 16,
    "start_time": "2023-06-05T10:42:40.472Z"
   },
   {
    "duration": 14,
    "start_time": "2023-06-05T10:42:43.448Z"
   },
   {
    "duration": 13,
    "start_time": "2023-06-05T10:42:45.847Z"
   },
   {
    "duration": 860,
    "start_time": "2023-06-05T10:42:51.007Z"
   },
   {
    "duration": 967,
    "start_time": "2023-06-05T10:43:11.032Z"
   },
   {
    "duration": 27,
    "start_time": "2023-06-05T10:43:25.432Z"
   },
   {
    "duration": 743,
    "start_time": "2023-06-05T10:43:32.990Z"
   },
   {
    "duration": 1015,
    "start_time": "2023-06-05T10:43:48.383Z"
   },
   {
    "duration": 735,
    "start_time": "2023-06-05T10:43:59.631Z"
   },
   {
    "duration": 216,
    "start_time": "2023-06-05T10:44:37.384Z"
   },
   {
    "duration": 202,
    "start_time": "2023-06-05T10:44:45.311Z"
   },
   {
    "duration": 65,
    "start_time": "2023-06-05T11:07:03.494Z"
   },
   {
    "duration": 63,
    "start_time": "2023-06-05T11:07:07.598Z"
   },
   {
    "duration": 767,
    "start_time": "2023-06-05T11:21:40.006Z"
   },
   {
    "duration": 904,
    "start_time": "2023-06-05T14:23:56.185Z"
   },
   {
    "duration": 759,
    "start_time": "2023-06-05T14:24:00.739Z"
   },
   {
    "duration": 93,
    "start_time": "2023-06-05T14:24:34.383Z"
   },
   {
    "duration": 761,
    "start_time": "2023-06-05T14:24:39.198Z"
   },
   {
    "duration": 1107,
    "start_time": "2023-06-05T14:25:01.047Z"
   },
   {
    "duration": 857,
    "start_time": "2023-06-05T14:25:10.840Z"
   },
   {
    "duration": 934,
    "start_time": "2023-06-05T14:25:18.390Z"
   },
   {
    "duration": 56,
    "start_time": "2023-06-05T17:25:49.839Z"
   },
   {
    "duration": 1648,
    "start_time": "2023-06-05T17:25:55.294Z"
   },
   {
    "duration": 139,
    "start_time": "2023-06-05T17:25:58.933Z"
   },
   {
    "duration": 12,
    "start_time": "2023-06-05T17:26:01.815Z"
   },
   {
    "duration": 15,
    "start_time": "2023-06-05T17:26:02.039Z"
   },
   {
    "duration": 5,
    "start_time": "2023-06-05T17:26:03.600Z"
   },
   {
    "duration": 18,
    "start_time": "2023-06-05T17:26:03.879Z"
   },
   {
    "duration": 5,
    "start_time": "2023-06-05T17:26:05.491Z"
   },
   {
    "duration": 1010,
    "start_time": "2023-06-05T17:26:09.436Z"
   },
   {
    "duration": 750,
    "start_time": "2023-06-05T17:26:17.610Z"
   },
   {
    "duration": 256,
    "start_time": "2023-06-05T17:31:01.949Z"
   },
   {
    "duration": 4,
    "start_time": "2023-06-05T17:31:44.002Z"
   },
   {
    "duration": 39,
    "start_time": "2023-06-05T17:31:44.293Z"
   },
   {
    "duration": 42,
    "start_time": "2023-06-05T17:31:44.696Z"
   },
   {
    "duration": 764,
    "start_time": "2023-06-05T17:31:48.452Z"
   },
   {
    "duration": 576,
    "start_time": "2023-06-05T17:31:49.218Z"
   },
   {
    "duration": 5,
    "start_time": "2023-06-05T17:31:49.795Z"
   },
   {
    "duration": 615,
    "start_time": "2023-06-05T17:31:49.802Z"
   },
   {
    "duration": 259,
    "start_time": "2023-06-05T17:31:50.419Z"
   },
   {
    "duration": 216,
    "start_time": "2023-06-05T17:31:50.679Z"
   },
   {
    "duration": 250,
    "start_time": "2023-06-05T17:31:50.898Z"
   },
   {
    "duration": 7,
    "start_time": "2023-06-05T17:31:51.150Z"
   },
   {
    "duration": 588,
    "start_time": "2023-06-05T17:31:52.353Z"
   },
   {
    "duration": 735,
    "start_time": "2023-06-05T17:31:52.943Z"
   },
   {
    "duration": 691,
    "start_time": "2023-06-05T17:31:53.680Z"
   },
   {
    "duration": 47,
    "start_time": "2023-06-05T17:31:55.237Z"
   },
   {
    "duration": 97,
    "start_time": "2023-06-05T17:31:56.501Z"
   },
   {
    "duration": 47,
    "start_time": "2023-06-05T17:32:41.798Z"
   },
   {
    "duration": 12,
    "start_time": "2023-06-05T17:33:08.513Z"
   },
   {
    "duration": 144,
    "start_time": "2023-06-05T17:33:19.903Z"
   },
   {
    "duration": 146,
    "start_time": "2023-06-05T17:33:39.102Z"
   },
   {
    "duration": 155,
    "start_time": "2023-06-05T17:34:35.296Z"
   },
   {
    "duration": 13,
    "start_time": "2023-06-05T17:35:13.098Z"
   },
   {
    "duration": 839,
    "start_time": "2023-06-05T17:40:19.653Z"
   },
   {
    "duration": 909,
    "start_time": "2023-06-05T17:40:26.341Z"
   },
   {
    "duration": 884,
    "start_time": "2023-06-05T17:40:42.332Z"
   },
   {
    "duration": 1051,
    "start_time": "2023-06-05T17:40:50.744Z"
   },
   {
    "duration": 4,
    "start_time": "2023-06-05T17:42:44.890Z"
   },
   {
    "duration": 1505,
    "start_time": "2023-06-05T17:43:17.998Z"
   },
   {
    "duration": 54,
    "start_time": "2023-06-05T17:43:19.939Z"
   },
   {
    "duration": 12,
    "start_time": "2023-06-05T17:43:20.199Z"
   },
   {
    "duration": 12,
    "start_time": "2023-06-05T17:43:22.001Z"
   },
   {
    "duration": 3,
    "start_time": "2023-06-05T17:43:22.299Z"
   },
   {
    "duration": 12,
    "start_time": "2023-06-05T17:43:23.794Z"
   },
   {
    "duration": 4,
    "start_time": "2023-06-05T17:43:24.209Z"
   },
   {
    "duration": 887,
    "start_time": "2023-06-05T17:43:26.694Z"
   },
   {
    "duration": 1550,
    "start_time": "2023-06-05T17:44:05.843Z"
   },
   {
    "duration": 61,
    "start_time": "2023-06-05T17:44:07.394Z"
   },
   {
    "duration": 14,
    "start_time": "2023-06-05T17:44:08.516Z"
   },
   {
    "duration": 16,
    "start_time": "2023-06-05T17:44:10.713Z"
   },
   {
    "duration": 4,
    "start_time": "2023-06-05T17:44:10.990Z"
   },
   {
    "duration": 13,
    "start_time": "2023-06-05T17:44:12.586Z"
   },
   {
    "duration": 4,
    "start_time": "2023-06-05T17:44:13.978Z"
   },
   {
    "duration": 910,
    "start_time": "2023-06-05T17:44:15.524Z"
   },
   {
    "duration": 3,
    "start_time": "2023-06-05T17:44:22.697Z"
   },
   {
    "duration": 8,
    "start_time": "2023-06-05T17:44:35.997Z"
   },
   {
    "duration": 16,
    "start_time": "2023-06-05T17:44:49.642Z"
   },
   {
    "duration": 156,
    "start_time": "2023-06-05T17:45:33.994Z"
   },
   {
    "duration": 168,
    "start_time": "2023-06-05T17:45:47.199Z"
   },
   {
    "duration": 159,
    "start_time": "2023-06-05T17:46:19.944Z"
   },
   {
    "duration": 116,
    "start_time": "2023-06-05T17:46:35.743Z"
   },
   {
    "duration": 3,
    "start_time": "2023-06-05T17:46:44.696Z"
   },
   {
    "duration": 25,
    "start_time": "2023-06-05T17:46:48.011Z"
   },
   {
    "duration": 14,
    "start_time": "2023-06-05T17:46:53.396Z"
   },
   {
    "duration": 162,
    "start_time": "2023-06-05T17:47:02.520Z"
   },
   {
    "duration": 87,
    "start_time": "2023-06-05T17:47:06.313Z"
   },
   {
    "duration": 152,
    "start_time": "2023-06-05T17:47:08.844Z"
   },
   {
    "duration": 274,
    "start_time": "2023-06-05T17:47:14.034Z"
   },
   {
    "duration": 150,
    "start_time": "2023-06-05T17:47:16.761Z"
   },
   {
    "duration": 170,
    "start_time": "2023-06-05T17:47:22.997Z"
   },
   {
    "duration": 140,
    "start_time": "2023-06-05T17:47:52.760Z"
   },
   {
    "duration": 150,
    "start_time": "2023-06-05T17:48:16.948Z"
   },
   {
    "duration": 168,
    "start_time": "2023-06-05T17:48:32.398Z"
   },
   {
    "duration": 708,
    "start_time": "2023-06-05T17:48:39.111Z"
   },
   {
    "duration": 154,
    "start_time": "2023-06-05T17:48:46.859Z"
   },
   {
    "duration": 164,
    "start_time": "2023-06-05T17:48:52.351Z"
   },
   {
    "duration": 177,
    "start_time": "2023-06-05T17:48:56.298Z"
   },
   {
    "duration": 164,
    "start_time": "2023-06-05T17:48:58.194Z"
   },
   {
    "duration": 196,
    "start_time": "2023-06-05T17:49:34.858Z"
   },
   {
    "duration": 200,
    "start_time": "2023-06-05T17:50:05.371Z"
   },
   {
    "duration": 178,
    "start_time": "2023-06-05T17:50:42.590Z"
   },
   {
    "duration": 177,
    "start_time": "2023-06-05T17:50:49.498Z"
   },
   {
    "duration": 175,
    "start_time": "2023-06-05T17:51:17.510Z"
   },
   {
    "duration": 174,
    "start_time": "2023-06-05T17:51:44.076Z"
   },
   {
    "duration": 202,
    "start_time": "2023-06-05T17:51:52.845Z"
   },
   {
    "duration": 167,
    "start_time": "2023-06-05T17:51:58.249Z"
   },
   {
    "duration": 1635,
    "start_time": "2023-06-05T17:52:11.903Z"
   },
   {
    "duration": 58,
    "start_time": "2023-06-05T17:52:13.546Z"
   },
   {
    "duration": 22,
    "start_time": "2023-06-05T17:52:14.314Z"
   },
   {
    "duration": 13,
    "start_time": "2023-06-05T17:52:15.752Z"
   },
   {
    "duration": 5,
    "start_time": "2023-06-05T17:52:15.954Z"
   },
   {
    "duration": 12,
    "start_time": "2023-06-05T17:52:16.182Z"
   },
   {
    "duration": 4,
    "start_time": "2023-06-05T17:52:17.954Z"
   },
   {
    "duration": 903,
    "start_time": "2023-06-05T17:52:19.386Z"
   },
   {
    "duration": 7,
    "start_time": "2023-06-05T17:52:26.151Z"
   },
   {
    "duration": 13,
    "start_time": "2023-06-05T17:52:27.606Z"
   },
   {
    "duration": 163,
    "start_time": "2023-06-05T17:52:28.352Z"
   },
   {
    "duration": 195,
    "start_time": "2023-06-05T17:52:30.850Z"
   },
   {
    "duration": 209,
    "start_time": "2023-06-05T17:58:15.086Z"
   },
   {
    "duration": 172,
    "start_time": "2023-06-05T18:00:20.346Z"
   },
   {
    "duration": 201,
    "start_time": "2023-06-05T18:00:20.582Z"
   },
   {
    "duration": 3,
    "start_time": "2023-06-05T18:09:00.929Z"
   },
   {
    "duration": 126,
    "start_time": "2023-06-05T18:15:55.958Z"
   },
   {
    "duration": 134,
    "start_time": "2023-06-05T18:19:51.991Z"
   },
   {
    "duration": 11,
    "start_time": "2023-06-05T18:19:56.214Z"
   },
   {
    "duration": 11,
    "start_time": "2023-06-05T18:20:06.494Z"
   },
   {
    "duration": 6,
    "start_time": "2023-06-05T18:20:24.890Z"
   },
   {
    "duration": 3,
    "start_time": "2023-06-05T18:28:26.517Z"
   },
   {
    "duration": 73,
    "start_time": "2023-06-05T18:29:24.144Z"
   },
   {
    "duration": 4,
    "start_time": "2023-06-05T18:29:30.156Z"
   },
   {
    "duration": 26,
    "start_time": "2023-06-05T18:44:34.358Z"
   },
   {
    "duration": 18,
    "start_time": "2023-06-05T18:44:49.046Z"
   },
   {
    "duration": 1445,
    "start_time": "2023-06-05T18:47:56.158Z"
   },
   {
    "duration": 1516,
    "start_time": "2023-06-05T18:49:29.446Z"
   },
   {
    "duration": 6,
    "start_time": "2023-06-05T18:49:51.985Z"
   },
   {
    "duration": 38,
    "start_time": "2023-06-05T18:49:59.299Z"
   },
   {
    "duration": 6,
    "start_time": "2023-06-05T18:50:06.750Z"
   },
   {
    "duration": 31,
    "start_time": "2023-06-05T18:50:08.837Z"
   },
   {
    "duration": 27,
    "start_time": "2023-06-05T18:50:16.550Z"
   },
   {
    "duration": 39,
    "start_time": "2023-06-05T18:50:21.858Z"
   },
   {
    "duration": 7,
    "start_time": "2023-06-05T18:50:40.795Z"
   },
   {
    "duration": 5,
    "start_time": "2023-06-05T18:50:47.442Z"
   },
   {
    "duration": 5,
    "start_time": "2023-06-05T18:50:54.484Z"
   },
   {
    "duration": 4,
    "start_time": "2023-06-05T18:51:11.963Z"
   },
   {
    "duration": 4,
    "start_time": "2023-06-05T18:51:16.683Z"
   },
   {
    "duration": 5,
    "start_time": "2023-06-05T18:51:21.436Z"
   },
   {
    "duration": 9,
    "start_time": "2023-06-05T18:51:24.029Z"
   },
   {
    "duration": 4,
    "start_time": "2023-06-05T18:51:29.836Z"
   },
   {
    "duration": 5,
    "start_time": "2023-06-05T18:51:33.050Z"
   },
   {
    "duration": 5,
    "start_time": "2023-06-05T18:51:40.638Z"
   },
   {
    "duration": 5,
    "start_time": "2023-06-05T18:51:54.086Z"
   },
   {
    "duration": 3,
    "start_time": "2023-06-05T18:52:16.681Z"
   },
   {
    "duration": 47,
    "start_time": "2023-06-05T18:52:17.756Z"
   },
   {
    "duration": 9,
    "start_time": "2023-06-05T18:52:17.949Z"
   },
   {
    "duration": 14,
    "start_time": "2023-06-05T18:52:18.138Z"
   },
   {
    "duration": 4,
    "start_time": "2023-06-05T18:52:19.454Z"
   },
   {
    "duration": 10,
    "start_time": "2023-06-05T18:52:19.667Z"
   },
   {
    "duration": 4,
    "start_time": "2023-06-05T18:52:19.849Z"
   },
   {
    "duration": 803,
    "start_time": "2023-06-05T18:52:21.938Z"
   },
   {
    "duration": 3,
    "start_time": "2023-06-05T18:52:22.743Z"
   },
   {
    "duration": 33,
    "start_time": "2023-06-05T18:52:22.747Z"
   },
   {
    "duration": 275,
    "start_time": "2023-06-05T18:52:22.913Z"
   },
   {
    "duration": 200,
    "start_time": "2023-06-05T18:52:25.360Z"
   },
   {
    "duration": 18,
    "start_time": "2023-06-05T18:52:28.590Z"
   },
   {
    "duration": 10,
    "start_time": "2023-06-05T18:52:28.918Z"
   },
   {
    "duration": 48,
    "start_time": "2023-06-05T18:52:29.316Z"
   },
   {
    "duration": 22,
    "start_time": "2023-06-05T18:52:32.655Z"
   },
   {
    "duration": 35,
    "start_time": "2023-06-05T18:52:41.916Z"
   },
   {
    "duration": 6,
    "start_time": "2023-06-05T18:53:02.866Z"
   },
   {
    "duration": 24,
    "start_time": "2023-06-05T18:53:11.554Z"
   },
   {
    "duration": 300,
    "start_time": "2023-06-05T18:54:58.754Z"
   },
   {
    "duration": 355,
    "start_time": "2023-06-05T18:55:10.337Z"
   },
   {
    "duration": 452,
    "start_time": "2023-06-05T18:55:23.287Z"
   },
   {
    "duration": 346,
    "start_time": "2023-06-05T18:55:42.619Z"
   },
   {
    "duration": 359,
    "start_time": "2023-06-05T18:55:46.845Z"
   },
   {
    "duration": 410,
    "start_time": "2023-06-05T18:55:53.431Z"
   },
   {
    "duration": 393,
    "start_time": "2023-06-05T18:56:14.084Z"
   },
   {
    "duration": 390,
    "start_time": "2023-06-05T18:56:19.620Z"
   },
   {
    "duration": 304,
    "start_time": "2023-06-05T18:56:40.265Z"
   },
   {
    "duration": 1278,
    "start_time": "2023-06-05T18:56:48.687Z"
   },
   {
    "duration": 332,
    "start_time": "2023-06-05T18:56:51.118Z"
   },
   {
    "duration": 325,
    "start_time": "2023-06-05T18:58:50.802Z"
   },
   {
    "duration": 329,
    "start_time": "2023-06-05T18:59:01.617Z"
   },
   {
    "duration": 303,
    "start_time": "2023-06-05T18:59:25.541Z"
   },
   {
    "duration": 317,
    "start_time": "2023-06-05T19:00:02.964Z"
   },
   {
    "duration": 320,
    "start_time": "2023-06-05T19:00:14.593Z"
   },
   {
    "duration": 295,
    "start_time": "2023-06-05T19:00:20.653Z"
   },
   {
    "duration": 460,
    "start_time": "2023-06-05T19:00:26.056Z"
   },
   {
    "duration": 189,
    "start_time": "2023-06-05T19:00:31.706Z"
   },
   {
    "duration": 167,
    "start_time": "2023-06-05T19:00:35.822Z"
   },
   {
    "duration": 4,
    "start_time": "2023-06-05T19:10:59.292Z"
   },
   {
    "duration": 13,
    "start_time": "2023-06-05T19:12:44.830Z"
   },
   {
    "duration": 5,
    "start_time": "2023-06-05T19:13:30.858Z"
   },
   {
    "duration": 7,
    "start_time": "2023-06-05T19:14:06.186Z"
   },
   {
    "duration": 8,
    "start_time": "2023-06-05T19:15:09.492Z"
   },
   {
    "duration": 5,
    "start_time": "2023-06-05T19:17:52.088Z"
   },
   {
    "duration": 14,
    "start_time": "2023-06-05T19:29:47.922Z"
   },
   {
    "duration": 14,
    "start_time": "2023-06-05T19:29:53.731Z"
   },
   {
    "duration": 8,
    "start_time": "2023-06-05T19:30:04.822Z"
   },
   {
    "duration": 105,
    "start_time": "2023-06-05T19:30:18.389Z"
   },
   {
    "duration": 85,
    "start_time": "2023-06-05T19:30:27.876Z"
   },
   {
    "duration": 18,
    "start_time": "2023-06-05T19:30:34.124Z"
   },
   {
    "duration": 13,
    "start_time": "2023-06-05T19:30:56.083Z"
   },
   {
    "duration": 3,
    "start_time": "2023-06-05T19:31:37.657Z"
   },
   {
    "duration": 9,
    "start_time": "2023-06-05T19:32:27.986Z"
   },
   {
    "duration": 4,
    "start_time": "2023-06-05T19:32:56.738Z"
   },
   {
    "duration": 4,
    "start_time": "2023-06-05T19:32:59.536Z"
   },
   {
    "duration": 13,
    "start_time": "2023-06-05T19:34:12.794Z"
   },
   {
    "duration": 3,
    "start_time": "2023-06-05T19:34:26.002Z"
   },
   {
    "duration": 9,
    "start_time": "2023-06-05T19:34:37.190Z"
   },
   {
    "duration": 1255,
    "start_time": "2023-06-05T19:34:57.546Z"
   },
   {
    "duration": 7021,
    "start_time": "2023-06-05T19:36:20.200Z"
   },
   {
    "duration": 15,
    "start_time": "2023-06-05T19:36:27.223Z"
   },
   {
    "duration": 63,
    "start_time": "2023-06-05T19:36:29.295Z"
   },
   {
    "duration": 11,
    "start_time": "2023-06-05T19:36:29.492Z"
   },
   {
    "duration": 13,
    "start_time": "2023-06-05T19:36:29.686Z"
   },
   {
    "duration": 5,
    "start_time": "2023-06-05T19:36:29.847Z"
   },
   {
    "duration": 11,
    "start_time": "2023-06-05T19:36:30.047Z"
   },
   {
    "duration": 5,
    "start_time": "2023-06-05T19:36:30.236Z"
   },
   {
    "duration": 927,
    "start_time": "2023-06-05T19:36:30.883Z"
   },
   {
    "duration": 15,
    "start_time": "2023-06-05T19:36:31.812Z"
   },
   {
    "duration": 2245,
    "start_time": "2023-06-05T19:36:44.038Z"
   },
   {
    "duration": 1184,
    "start_time": "2023-06-05T19:36:46.286Z"
   },
   {
    "duration": 56,
    "start_time": "2023-06-05T19:36:48.751Z"
   },
   {
    "duration": 10,
    "start_time": "2023-06-05T19:36:49.003Z"
   },
   {
    "duration": 13,
    "start_time": "2023-06-05T19:36:49.286Z"
   },
   {
    "duration": 4,
    "start_time": "2023-06-05T19:36:49.483Z"
   },
   {
    "duration": 11,
    "start_time": "2023-06-05T19:36:49.749Z"
   },
   {
    "duration": 4,
    "start_time": "2023-06-05T19:36:49.989Z"
   },
   {
    "duration": 758,
    "start_time": "2023-06-05T19:36:50.747Z"
   },
   {
    "duration": 3,
    "start_time": "2023-06-05T19:36:51.507Z"
   },
   {
    "duration": 52,
    "start_time": "2023-06-05T19:36:51.512Z"
   },
   {
    "duration": 155,
    "start_time": "2023-06-05T19:36:51.688Z"
   },
   {
    "duration": 238,
    "start_time": "2023-06-05T19:36:51.847Z"
   },
   {
    "duration": 18,
    "start_time": "2023-06-05T19:36:53.444Z"
   },
   {
    "duration": 7,
    "start_time": "2023-06-05T19:36:53.689Z"
   },
   {
    "duration": 27,
    "start_time": "2023-06-05T19:36:53.935Z"
   },
   {
    "duration": 405,
    "start_time": "2023-06-05T19:36:54.755Z"
   },
   {
    "duration": 6,
    "start_time": "2023-06-05T19:36:56.789Z"
   },
   {
    "duration": 8,
    "start_time": "2023-06-05T19:36:57.087Z"
   },
   {
    "duration": 1236,
    "start_time": "2023-06-05T19:36:58.375Z"
   },
   {
    "duration": 29,
    "start_time": "2023-06-05T19:37:16.686Z"
   },
   {
    "duration": 22,
    "start_time": "2023-06-05T19:37:27.887Z"
   },
   {
    "duration": 6,
    "start_time": "2023-06-05T19:37:33.389Z"
   },
   {
    "duration": 5,
    "start_time": "2023-06-05T19:37:37.638Z"
   },
   {
    "duration": 5,
    "start_time": "2023-06-05T19:37:44.039Z"
   },
   {
    "duration": 1358,
    "start_time": "2023-06-05T19:37:53.155Z"
   },
   {
    "duration": 1525,
    "start_time": "2023-06-05T19:37:56.255Z"
   },
   {
    "duration": 1177,
    "start_time": "2023-06-05T19:38:08.288Z"
   },
   {
    "duration": 1138,
    "start_time": "2023-06-05T19:38:14.303Z"
   },
   {
    "duration": 1214,
    "start_time": "2023-06-05T19:38:54.546Z"
   },
   {
    "duration": 1311,
    "start_time": "2023-06-05T19:38:59.747Z"
   },
   {
    "duration": 1332,
    "start_time": "2023-06-05T19:39:42.839Z"
   },
   {
    "duration": 1312,
    "start_time": "2023-06-05T19:40:00.575Z"
   },
   {
    "duration": 5,
    "start_time": "2023-06-05T19:40:14.638Z"
   },
   {
    "duration": 4,
    "start_time": "2023-06-05T19:40:20.908Z"
   },
   {
    "duration": 3,
    "start_time": "2023-06-05T19:40:30.648Z"
   },
   {
    "duration": 7,
    "start_time": "2023-06-05T19:42:05.912Z"
   },
   {
    "duration": 119,
    "start_time": "2023-06-05T19:42:38.427Z"
   },
   {
    "duration": 11,
    "start_time": "2023-06-05T19:43:14.839Z"
   },
   {
    "duration": 10,
    "start_time": "2023-06-05T19:43:19.688Z"
   },
   {
    "duration": 1196,
    "start_time": "2023-06-05T19:43:28.521Z"
   },
   {
    "duration": 1301,
    "start_time": "2023-06-05T19:49:29.895Z"
   },
   {
    "duration": 4,
    "start_time": "2023-06-05T19:49:32.277Z"
   },
   {
    "duration": 9,
    "start_time": "2023-06-05T19:49:37.710Z"
   },
   {
    "duration": 5,
    "start_time": "2023-06-05T19:49:40.976Z"
   },
   {
    "duration": 1304,
    "start_time": "2023-06-05T19:49:47.976Z"
   },
   {
    "duration": 5,
    "start_time": "2023-06-05T19:49:49.282Z"
   },
   {
    "duration": 1320,
    "start_time": "2023-06-05T19:49:52.788Z"
   },
   {
    "duration": 4,
    "start_time": "2023-06-05T19:49:54.110Z"
   },
   {
    "duration": 98,
    "start_time": "2023-06-05T19:51:08.878Z"
   },
   {
    "duration": 3,
    "start_time": "2023-06-05T19:51:15.998Z"
   },
   {
    "duration": 11,
    "start_time": "2023-06-05T19:52:20.500Z"
   },
   {
    "duration": 3,
    "start_time": "2023-06-05T19:52:23.440Z"
   },
   {
    "duration": 1207,
    "start_time": "2023-06-05T19:57:03.801Z"
   },
   {
    "duration": 4,
    "start_time": "2023-06-05T19:57:06.900Z"
   },
   {
    "duration": 4,
    "start_time": "2023-06-05T19:57:24.278Z"
   },
   {
    "duration": 10,
    "start_time": "2023-06-05T19:57:59.792Z"
   },
   {
    "duration": 58944,
    "start_time": "2023-06-05T19:58:05.647Z"
   },
   {
    "duration": 4,
    "start_time": "2023-06-05T19:59:04.593Z"
   },
   {
    "duration": 7,
    "start_time": "2023-06-05T19:59:04.598Z"
   },
   {
    "duration": 29,
    "start_time": "2023-06-05T20:00:20.077Z"
   },
   {
    "duration": 22,
    "start_time": "2023-06-05T20:00:25.779Z"
   },
   {
    "duration": 5,
    "start_time": "2023-06-05T20:01:01.103Z"
   },
   {
    "duration": 27,
    "start_time": "2023-06-05T20:01:07.321Z"
   },
   {
    "duration": 3,
    "start_time": "2023-06-05T20:01:58.611Z"
   },
   {
    "duration": 77,
    "start_time": "2023-06-05T20:06:16.623Z"
   },
   {
    "duration": 7052,
    "start_time": "2023-06-05T20:06:21.183Z"
   },
   {
    "duration": 12,
    "start_time": "2023-06-05T20:07:44.943Z"
   },
   {
    "duration": 10,
    "start_time": "2023-06-05T20:07:49.338Z"
   },
   {
    "duration": 4,
    "start_time": "2023-06-05T20:07:59.482Z"
   },
   {
    "duration": 17,
    "start_time": "2023-06-05T20:08:08.519Z"
   },
   {
    "duration": 3,
    "start_time": "2023-06-05T20:08:12.871Z"
   },
   {
    "duration": 7,
    "start_time": "2023-06-05T20:08:24.624Z"
   },
   {
    "duration": 10,
    "start_time": "2023-06-05T20:08:27.837Z"
   },
   {
    "duration": 9,
    "start_time": "2023-06-05T20:08:30.074Z"
   },
   {
    "duration": 89,
    "start_time": "2023-06-05T20:08:32.500Z"
   },
   {
    "duration": 10,
    "start_time": "2023-06-05T20:08:38.638Z"
   },
   {
    "duration": 9,
    "start_time": "2023-06-05T20:08:41.797Z"
   },
   {
    "duration": 11,
    "start_time": "2023-06-05T20:08:51.842Z"
   },
   {
    "duration": 82,
    "start_time": "2023-06-05T20:09:19.303Z"
   },
   {
    "duration": 3,
    "start_time": "2023-06-05T20:09:25.235Z"
   },
   {
    "duration": 3,
    "start_time": "2023-06-05T20:09:34.438Z"
   },
   {
    "duration": 9089,
    "start_time": "2023-06-05T20:09:51.314Z"
   },
   {
    "duration": 3,
    "start_time": "2023-06-05T20:10:00.404Z"
   },
   {
    "duration": 4488,
    "start_time": "2023-06-05T20:10:06.782Z"
   },
   {
    "duration": 3,
    "start_time": "2023-06-05T20:10:11.398Z"
   },
   {
    "duration": 9042,
    "start_time": "2023-06-05T20:10:16.873Z"
   },
   {
    "duration": 3,
    "start_time": "2023-06-05T20:10:25.916Z"
   },
   {
    "duration": 11,
    "start_time": "2023-06-05T20:10:43.882Z"
   },
   {
    "duration": 8722,
    "start_time": "2023-06-05T20:10:48.080Z"
   },
   {
    "duration": 3,
    "start_time": "2023-06-05T20:10:56.804Z"
   },
   {
    "duration": 56597,
    "start_time": "2023-06-05T20:13:59.066Z"
   },
   {
    "duration": 126876,
    "start_time": "2023-06-05T20:15:05.164Z"
   },
   {
    "duration": 4,
    "start_time": "2023-06-05T20:17:12.042Z"
   },
   {
    "duration": 6,
    "start_time": "2023-06-05T20:17:50.009Z"
   },
   {
    "duration": 85,
    "start_time": "2023-06-05T20:24:28.124Z"
   },
   {
    "duration": 87,
    "start_time": "2023-06-05T20:24:34.310Z"
   },
   {
    "duration": 5,
    "start_time": "2023-06-05T20:25:07.789Z"
   },
   {
    "duration": 83,
    "start_time": "2023-06-05T20:25:28.108Z"
   },
   {
    "duration": 6,
    "start_time": "2023-06-05T20:25:33.134Z"
   },
   {
    "duration": 78,
    "start_time": "2023-06-05T20:25:39.484Z"
   },
   {
    "duration": 65,
    "start_time": "2023-06-05T20:25:42.837Z"
   },
   {
    "duration": 70,
    "start_time": "2023-06-05T20:25:47.844Z"
   },
   {
    "duration": 111,
    "start_time": "2023-06-05T20:25:54.783Z"
   },
   {
    "duration": 6,
    "start_time": "2023-06-05T20:26:02.934Z"
   },
   {
    "duration": 4,
    "start_time": "2023-06-05T20:30:09.144Z"
   },
   {
    "duration": 6,
    "start_time": "2023-06-05T20:31:02.936Z"
   },
   {
    "duration": 75,
    "start_time": "2023-06-05T20:38:33.909Z"
   },
   {
    "duration": 2172,
    "start_time": "2023-06-05T20:38:48.714Z"
   },
   {
    "duration": 1223,
    "start_time": "2023-06-05T20:38:50.889Z"
   },
   {
    "duration": 66,
    "start_time": "2023-06-05T20:38:52.114Z"
   },
   {
    "duration": 9,
    "start_time": "2023-06-05T20:38:52.182Z"
   },
   {
    "duration": 18,
    "start_time": "2023-06-05T20:38:52.193Z"
   },
   {
    "duration": 4,
    "start_time": "2023-06-05T20:38:52.213Z"
   },
   {
    "duration": 25,
    "start_time": "2023-06-05T20:38:52.218Z"
   },
   {
    "duration": 9,
    "start_time": "2023-06-05T20:38:52.245Z"
   },
   {
    "duration": 791,
    "start_time": "2023-06-05T20:38:52.255Z"
   },
   {
    "duration": 4,
    "start_time": "2023-06-05T20:38:53.048Z"
   },
   {
    "duration": 34,
    "start_time": "2023-06-05T20:38:53.053Z"
   },
   {
    "duration": 198,
    "start_time": "2023-06-05T20:38:53.089Z"
   },
   {
    "duration": 282,
    "start_time": "2023-06-05T20:38:53.289Z"
   },
   {
    "duration": 19,
    "start_time": "2023-06-05T20:38:53.572Z"
   },
   {
    "duration": 6,
    "start_time": "2023-06-05T20:38:53.592Z"
   },
   {
    "duration": 47,
    "start_time": "2023-06-05T20:38:53.599Z"
   },
   {
    "duration": 337,
    "start_time": "2023-06-05T20:38:53.648Z"
   },
   {
    "duration": 6,
    "start_time": "2023-06-05T20:38:53.986Z"
   },
   {
    "duration": 9,
    "start_time": "2023-06-05T20:38:53.994Z"
   },
   {
    "duration": 1343,
    "start_time": "2023-06-05T20:38:54.026Z"
   },
   {
    "duration": 4,
    "start_time": "2023-06-05T20:38:55.370Z"
   },
   {
    "duration": 59564,
    "start_time": "2023-06-05T20:38:55.376Z"
   },
   {
    "duration": 4,
    "start_time": "2023-06-05T20:39:54.942Z"
   },
   {
    "duration": 26,
    "start_time": "2023-06-05T20:39:54.948Z"
   },
   {
    "duration": 9972,
    "start_time": "2023-06-05T20:39:54.976Z"
   },
   {
    "duration": 4,
    "start_time": "2023-06-05T20:40:04.950Z"
   },
   {
    "duration": 121471,
    "start_time": "2023-06-05T20:40:04.956Z"
   },
   {
    "duration": 9,
    "start_time": "2023-06-05T20:42:06.431Z"
   },
   {
    "duration": 46,
    "start_time": "2023-06-05T20:42:06.441Z"
   },
   {
    "duration": 5,
    "start_time": "2023-06-05T20:42:06.489Z"
   },
   {
    "duration": 12661,
    "start_time": "2023-06-06T07:29:48.148Z"
   },
   {
    "duration": 1872,
    "start_time": "2023-06-06T07:30:00.813Z"
   },
   {
    "duration": 156,
    "start_time": "2023-06-06T07:30:02.687Z"
   },
   {
    "duration": 9,
    "start_time": "2023-06-06T07:30:02.845Z"
   },
   {
    "duration": 25,
    "start_time": "2023-06-06T07:30:02.856Z"
   },
   {
    "duration": 4,
    "start_time": "2023-06-06T07:30:02.883Z"
   },
   {
    "duration": 17,
    "start_time": "2023-06-06T07:30:02.889Z"
   },
   {
    "duration": 4,
    "start_time": "2023-06-06T07:30:02.907Z"
   },
   {
    "duration": 935,
    "start_time": "2023-06-06T07:30:02.912Z"
   },
   {
    "duration": 4,
    "start_time": "2023-06-06T07:30:03.849Z"
   },
   {
    "duration": 17,
    "start_time": "2023-06-06T07:30:03.855Z"
   },
   {
    "duration": 249,
    "start_time": "2023-06-06T07:30:03.873Z"
   },
   {
    "duration": 206,
    "start_time": "2023-06-06T07:30:04.124Z"
   },
   {
    "duration": 18,
    "start_time": "2023-06-06T07:30:04.331Z"
   },
   {
    "duration": 5,
    "start_time": "2023-06-06T07:30:04.351Z"
   },
   {
    "duration": 50,
    "start_time": "2023-06-06T07:30:04.357Z"
   },
   {
    "duration": 350,
    "start_time": "2023-06-06T07:30:04.410Z"
   },
   {
    "duration": 20,
    "start_time": "2023-06-06T07:30:04.762Z"
   },
   {
    "duration": 16,
    "start_time": "2023-06-06T07:30:04.786Z"
   },
   {
    "duration": 1323,
    "start_time": "2023-06-06T07:30:04.804Z"
   },
   {
    "duration": 3,
    "start_time": "2023-06-06T07:30:06.129Z"
   },
   {
    "duration": 251445,
    "start_time": "2023-06-06T07:30:06.134Z"
   },
   {
    "duration": 8,
    "start_time": "2023-06-06T07:34:17.580Z"
   },
   {
    "duration": 6,
    "start_time": "2023-06-06T07:34:17.592Z"
   },
   {
    "duration": 48079,
    "start_time": "2023-06-06T07:34:17.679Z"
   },
   {
    "duration": 20,
    "start_time": "2023-06-06T07:35:05.760Z"
   },
   {
    "duration": 3682609,
    "start_time": "2023-06-06T07:35:05.782Z"
   },
   {
    "duration": 2,
    "start_time": "2023-06-06T08:36:28.394Z"
   },
   {
    "duration": 182,
    "start_time": "2023-06-06T08:36:28.397Z"
   },
   {
    "duration": 99,
    "start_time": "2023-06-06T08:36:28.580Z"
   },
   {
    "duration": 1673,
    "start_time": "2023-06-06T09:42:35.926Z"
   },
   {
    "duration": 7863,
    "start_time": "2023-06-06T09:57:23.917Z"
   },
   {
    "duration": 1714,
    "start_time": "2023-06-06T09:57:31.783Z"
   },
   {
    "duration": 130,
    "start_time": "2023-06-06T09:57:33.500Z"
   },
   {
    "duration": 12,
    "start_time": "2023-06-06T09:57:33.634Z"
   },
   {
    "duration": 35,
    "start_time": "2023-06-06T09:57:33.649Z"
   },
   {
    "duration": 20,
    "start_time": "2023-06-06T09:57:33.686Z"
   },
   {
    "duration": 21,
    "start_time": "2023-06-06T09:57:33.708Z"
   },
   {
    "duration": 15,
    "start_time": "2023-06-06T09:57:33.732Z"
   },
   {
    "duration": 936,
    "start_time": "2023-06-06T09:57:35.105Z"
   },
   {
    "duration": 4,
    "start_time": "2023-06-06T09:57:53.713Z"
   },
   {
    "duration": 14,
    "start_time": "2023-06-06T09:58:49.296Z"
   },
   {
    "duration": 181,
    "start_time": "2023-06-06T09:58:52.842Z"
   },
   {
    "duration": 295,
    "start_time": "2023-06-06T09:58:54.528Z"
   },
   {
    "duration": 347,
    "start_time": "2023-06-06T09:59:49.897Z"
   },
   {
    "duration": 33,
    "start_time": "2023-06-06T10:00:01.561Z"
   },
   {
    "duration": 82,
    "start_time": "2023-06-06T10:01:46.136Z"
   },
   {
    "duration": 127,
    "start_time": "2023-06-06T10:02:35.438Z"
   },
   {
    "duration": 11,
    "start_time": "2023-06-06T10:02:42.375Z"
   },
   {
    "duration": 6,
    "start_time": "2023-06-06T10:02:44.978Z"
   },
   {
    "duration": 32,
    "start_time": "2023-06-06T10:02:50.049Z"
   },
   {
    "duration": 21,
    "start_time": "2023-06-06T10:02:57.959Z"
   },
   {
    "duration": 343,
    "start_time": "2023-06-06T10:03:08.265Z"
   },
   {
    "duration": 9,
    "start_time": "2023-06-06T10:03:28.745Z"
   },
   {
    "duration": 10,
    "start_time": "2023-06-06T10:03:32.032Z"
   },
   {
    "duration": 4,
    "start_time": "2023-06-06T10:07:47.567Z"
   },
   {
    "duration": 3,
    "start_time": "2023-06-06T10:08:24.456Z"
   },
   {
    "duration": 894,
    "start_time": "2023-06-06T10:09:49.399Z"
   },
   {
    "duration": 3,
    "start_time": "2023-06-06T10:09:54.912Z"
   },
   {
    "duration": 35955,
    "start_time": "2023-06-06T10:10:25.305Z"
   },
   {
    "duration": 3,
    "start_time": "2023-06-06T10:11:01.262Z"
   },
   {
    "duration": 120005,
    "start_time": "2023-06-06T10:11:21.154Z"
   },
   {
    "duration": 3,
    "start_time": "2023-06-06T10:13:21.161Z"
   },
   {
    "duration": 22,
    "start_time": "2023-06-06T10:13:21.166Z"
   },
   {
    "duration": 77,
    "start_time": "2023-06-06T10:13:21.191Z"
   },
   {
    "duration": 0,
    "start_time": "2023-06-06T10:13:21.270Z"
   },
   {
    "duration": 2,
    "start_time": "2023-06-06T10:17:44.464Z"
   },
   {
    "duration": 11334,
    "start_time": "2023-06-06T10:17:44.992Z"
   },
   {
    "duration": 3,
    "start_time": "2023-06-06T10:18:12.208Z"
   },
   {
    "duration": 10592,
    "start_time": "2023-06-06T10:18:26.208Z"
   },
   {
    "duration": 4,
    "start_time": "2023-06-06T10:18:42.535Z"
   },
   {
    "duration": 11817,
    "start_time": "2023-06-06T10:18:52.672Z"
   },
   {
    "duration": 4,
    "start_time": "2023-06-06T10:19:04.491Z"
   },
   {
    "duration": 7,
    "start_time": "2023-06-06T10:19:46.752Z"
   },
   {
    "duration": 6,
    "start_time": "2023-06-06T10:19:50.991Z"
   },
   {
    "duration": 2091,
    "start_time": "2023-06-06T10:22:25.094Z"
   },
   {
    "duration": 1765,
    "start_time": "2023-06-06T10:22:27.187Z"
   },
   {
    "duration": 55,
    "start_time": "2023-06-06T10:22:28.954Z"
   },
   {
    "duration": 11,
    "start_time": "2023-06-06T10:22:29.012Z"
   },
   {
    "duration": 17,
    "start_time": "2023-06-06T10:22:29.025Z"
   },
   {
    "duration": 4,
    "start_time": "2023-06-06T10:22:29.044Z"
   },
   {
    "duration": 19,
    "start_time": "2023-06-06T10:22:29.050Z"
   },
   {
    "duration": 5,
    "start_time": "2023-06-06T10:22:29.071Z"
   },
   {
    "duration": 779,
    "start_time": "2023-06-06T10:22:29.077Z"
   },
   {
    "duration": 4,
    "start_time": "2023-06-06T10:22:29.860Z"
   },
   {
    "duration": 20,
    "start_time": "2023-06-06T10:22:29.865Z"
   },
   {
    "duration": 171,
    "start_time": "2023-06-06T10:22:29.887Z"
   },
   {
    "duration": 267,
    "start_time": "2023-06-06T10:22:30.060Z"
   },
   {
    "duration": 327,
    "start_time": "2023-06-06T10:22:30.329Z"
   },
   {
    "duration": 20,
    "start_time": "2023-06-06T10:22:30.658Z"
   },
   {
    "duration": 32,
    "start_time": "2023-06-06T10:22:30.680Z"
   },
   {
    "duration": 53,
    "start_time": "2023-06-06T10:22:30.713Z"
   },
   {
    "duration": 337,
    "start_time": "2023-06-06T10:22:30.767Z"
   },
   {
    "duration": 7,
    "start_time": "2023-06-06T10:22:31.105Z"
   },
   {
    "duration": 39,
    "start_time": "2023-06-06T10:22:31.113Z"
   },
   {
    "duration": 43,
    "start_time": "2023-06-06T10:22:31.154Z"
   },
   {
    "duration": 810,
    "start_time": "2023-06-06T10:22:31.199Z"
   },
   {
    "duration": 4,
    "start_time": "2023-06-06T10:22:32.012Z"
   },
   {
    "duration": 37033,
    "start_time": "2023-06-06T10:22:32.017Z"
   },
   {
    "duration": 3,
    "start_time": "2023-06-06T10:23:09.052Z"
   },
   {
    "duration": 21,
    "start_time": "2023-06-06T10:23:09.056Z"
   },
   {
    "duration": 10413,
    "start_time": "2023-06-06T10:23:09.078Z"
   },
   {
    "duration": 4,
    "start_time": "2023-06-06T10:23:19.494Z"
   },
   {
    "duration": 36958,
    "start_time": "2023-06-06T10:23:19.500Z"
   },
   {
    "duration": 7,
    "start_time": "2023-06-06T10:23:56.460Z"
   },
   {
    "duration": 182,
    "start_time": "2023-06-06T10:23:56.469Z"
   },
   {
    "duration": 0,
    "start_time": "2023-06-06T10:23:56.653Z"
   },
   {
    "duration": 12,
    "start_time": "2023-06-06T10:39:51.966Z"
   },
   {
    "duration": 4,
    "start_time": "2023-06-06T10:40:45.005Z"
   },
   {
    "duration": 2512,
    "start_time": "2023-06-06T10:40:51.142Z"
   },
   {
    "duration": 1357,
    "start_time": "2023-06-06T10:40:53.656Z"
   },
   {
    "duration": 59,
    "start_time": "2023-06-06T10:40:55.015Z"
   },
   {
    "duration": 10,
    "start_time": "2023-06-06T10:40:55.077Z"
   },
   {
    "duration": 17,
    "start_time": "2023-06-06T10:40:55.089Z"
   },
   {
    "duration": 15,
    "start_time": "2023-06-06T10:40:55.109Z"
   },
   {
    "duration": 28,
    "start_time": "2023-06-06T10:40:55.126Z"
   },
   {
    "duration": 5,
    "start_time": "2023-06-06T10:40:55.156Z"
   },
   {
    "duration": 835,
    "start_time": "2023-06-06T10:40:55.162Z"
   },
   {
    "duration": 4,
    "start_time": "2023-06-06T10:40:55.999Z"
   },
   {
    "duration": 35,
    "start_time": "2023-06-06T10:40:56.004Z"
   },
   {
    "duration": 191,
    "start_time": "2023-06-06T10:40:56.040Z"
   },
   {
    "duration": 277,
    "start_time": "2023-06-06T10:40:56.242Z"
   },
   {
    "duration": 347,
    "start_time": "2023-06-06T10:40:56.520Z"
   },
   {
    "duration": 21,
    "start_time": "2023-06-06T10:40:56.869Z"
   },
   {
    "duration": 5,
    "start_time": "2023-06-06T10:40:56.892Z"
   },
   {
    "duration": 49,
    "start_time": "2023-06-06T10:40:56.899Z"
   },
   {
    "duration": 326,
    "start_time": "2023-06-06T10:40:56.949Z"
   },
   {
    "duration": 8,
    "start_time": "2023-06-06T10:40:57.277Z"
   },
   {
    "duration": 17,
    "start_time": "2023-06-06T10:40:57.287Z"
   },
   {
    "duration": 9,
    "start_time": "2023-06-06T10:40:57.305Z"
   },
   {
    "duration": 802,
    "start_time": "2023-06-06T10:40:57.315Z"
   },
   {
    "duration": 4,
    "start_time": "2023-06-06T10:40:58.119Z"
   },
   {
    "duration": 35944,
    "start_time": "2023-06-06T10:40:58.126Z"
   },
   {
    "duration": 3,
    "start_time": "2023-06-06T10:41:34.072Z"
   },
   {
    "duration": 11,
    "start_time": "2023-06-06T10:41:34.077Z"
   },
   {
    "duration": 11257,
    "start_time": "2023-06-06T10:41:34.090Z"
   },
   {
    "duration": 3,
    "start_time": "2023-06-06T10:41:45.351Z"
   },
   {
    "duration": 15386,
    "start_time": "2023-06-06T10:41:45.356Z"
   },
   {
    "duration": 3,
    "start_time": "2023-06-06T10:42:00.744Z"
   },
   {
    "duration": 81,
    "start_time": "2023-06-06T10:42:00.749Z"
   },
   {
    "duration": 108,
    "start_time": "2023-06-06T10:42:00.832Z"
   }
  ],
  "kernelspec": {
   "display_name": "Python 3 (ipykernel)",
   "language": "python",
   "name": "python3"
  },
  "language_info": {
   "codemirror_mode": {
    "name": "ipython",
    "version": 3
   },
   "file_extension": ".py",
   "mimetype": "text/x-python",
   "name": "python",
   "nbconvert_exporter": "python",
   "pygments_lexer": "ipython3",
   "version": "3.9.12"
  },
  "toc": {
   "base_numbering": 1,
   "nav_menu": {},
   "number_sections": true,
   "sideBar": true,
   "skip_h1_title": true,
   "title_cell": "Содержание",
   "title_sidebar": "Contents",
   "toc_cell": true,
   "toc_position": {},
   "toc_section_display": true,
   "toc_window_display": true
  }
 },
 "nbformat": 4,
 "nbformat_minor": 2
}
