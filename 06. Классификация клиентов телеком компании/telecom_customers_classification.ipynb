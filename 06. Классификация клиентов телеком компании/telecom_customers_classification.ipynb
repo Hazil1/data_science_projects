{
 "cells": [
  {
   "cell_type": "markdown",
   "metadata": {},
   "source": [
    "# Рекомендация тарифов"
   ]
  },
  {
   "cell_type": "markdown",
   "metadata": {},
   "source": [
    "В вашем распоряжении данные о поведении клиентов, которые уже перешли на эти тарифы (из проекта курса «Статистический анализ данных»). Нужно построить модель для задачи классификации, которая выберет подходящий тариф. Предобработка данных не понадобится — вы её уже сделали.\n",
    "\n",
    "Постройте модель с максимально большим значением *accuracy*. Чтобы сдать проект успешно, нужно довести долю правильных ответов по крайней мере до 0.75. Проверьте *accuracy* на тестовой выборке самостоятельно."
   ]
  },
  {
   "cell_type": "markdown",
   "metadata": {},
   "source": [
    "## Откройте и изучите файл"
   ]
  },
  {
   "cell_type": "code",
   "execution_count": 1,
   "metadata": {},
   "outputs": [],
   "source": [
    "# Импортируем необходимые библиотеки\n",
    "import pandas as pd\n",
    "from sklearn.tree import DecisionTreeClassifier\n",
    "from sklearn.ensemble import RandomForestClassifier\n",
    "from sklearn.linear_model import LogisticRegression\n",
    "from sklearn.model_selection import train_test_split\n",
    "from sklearn.metrics import accuracy_score\n",
    "from sklearn.dummy import DummyClassifier"
   ]
  },
  {
   "cell_type": "code",
   "execution_count": 2,
   "metadata": {},
   "outputs": [
    {
     "data": {
      "text/html": [
       "<div>\n",
       "<style scoped>\n",
       "    .dataframe tbody tr th:only-of-type {\n",
       "        vertical-align: middle;\n",
       "    }\n",
       "\n",
       "    .dataframe tbody tr th {\n",
       "        vertical-align: top;\n",
       "    }\n",
       "\n",
       "    .dataframe thead th {\n",
       "        text-align: right;\n",
       "    }\n",
       "</style>\n",
       "<table border=\"1\" class=\"dataframe\">\n",
       "  <thead>\n",
       "    <tr style=\"text-align: right;\">\n",
       "      <th></th>\n",
       "      <th>calls</th>\n",
       "      <th>minutes</th>\n",
       "      <th>messages</th>\n",
       "      <th>mb_used</th>\n",
       "      <th>is_ultra</th>\n",
       "    </tr>\n",
       "  </thead>\n",
       "  <tbody>\n",
       "    <tr>\n",
       "      <th>0</th>\n",
       "      <td>40.0</td>\n",
       "      <td>311.90</td>\n",
       "      <td>83.0</td>\n",
       "      <td>19915.42</td>\n",
       "      <td>0</td>\n",
       "    </tr>\n",
       "    <tr>\n",
       "      <th>1</th>\n",
       "      <td>85.0</td>\n",
       "      <td>516.75</td>\n",
       "      <td>56.0</td>\n",
       "      <td>22696.96</td>\n",
       "      <td>0</td>\n",
       "    </tr>\n",
       "    <tr>\n",
       "      <th>2</th>\n",
       "      <td>77.0</td>\n",
       "      <td>467.66</td>\n",
       "      <td>86.0</td>\n",
       "      <td>21060.45</td>\n",
       "      <td>0</td>\n",
       "    </tr>\n",
       "    <tr>\n",
       "      <th>3</th>\n",
       "      <td>106.0</td>\n",
       "      <td>745.53</td>\n",
       "      <td>81.0</td>\n",
       "      <td>8437.39</td>\n",
       "      <td>1</td>\n",
       "    </tr>\n",
       "    <tr>\n",
       "      <th>4</th>\n",
       "      <td>66.0</td>\n",
       "      <td>418.74</td>\n",
       "      <td>1.0</td>\n",
       "      <td>14502.75</td>\n",
       "      <td>0</td>\n",
       "    </tr>\n",
       "  </tbody>\n",
       "</table>\n",
       "</div>"
      ],
      "text/plain": [
       "   calls  minutes  messages   mb_used  is_ultra\n",
       "0   40.0   311.90      83.0  19915.42         0\n",
       "1   85.0   516.75      56.0  22696.96         0\n",
       "2   77.0   467.66      86.0  21060.45         0\n",
       "3  106.0   745.53      81.0   8437.39         1\n",
       "4   66.0   418.74       1.0  14502.75         0"
      ]
     },
     "execution_count": 2,
     "metadata": {},
     "output_type": "execute_result"
    }
   ],
   "source": [
    "# Сохраним датасет в переменную df и выведем первые 5 строк\n",
    "df = pd.read_csv('/datasets/users_behavior.csv')\n",
    "df.head()"
   ]
  },
  {
   "cell_type": "code",
   "execution_count": 3,
   "metadata": {
    "scrolled": true
   },
   "outputs": [
    {
     "name": "stdout",
     "output_type": "stream",
     "text": [
      "<class 'pandas.core.frame.DataFrame'>\n",
      "RangeIndex: 3214 entries, 0 to 3213\n",
      "Data columns (total 5 columns):\n",
      " #   Column    Non-Null Count  Dtype  \n",
      "---  ------    --------------  -----  \n",
      " 0   calls     3214 non-null   float64\n",
      " 1   minutes   3214 non-null   float64\n",
      " 2   messages  3214 non-null   float64\n",
      " 3   mb_used   3214 non-null   float64\n",
      " 4   is_ultra  3214 non-null   int64  \n",
      "dtypes: float64(4), int64(1)\n",
      "memory usage: 125.7 KB\n"
     ]
    }
   ],
   "source": [
    "# Постотрим общую информацию по датасету\n",
    "df.info()"
   ]
  },
  {
   "cell_type": "code",
   "execution_count": 4,
   "metadata": {},
   "outputs": [
    {
     "name": "stdout",
     "output_type": "stream",
     "text": [
      "Количество пользователей тарифом Ультра: 985\n",
      "Количество пользователей тарифом Смарт: 2229\n"
     ]
    }
   ],
   "source": [
    "# Посмотрим количество пользователей по тарифам в нашей выборке\n",
    "print(f'Количество пользователей тарифом Ультра: {len(df[df[\"is_ultra\"] == 1])}')\n",
    "print(f'Количество пользователей тарифом Смарт: {len(df[df[\"is_ultra\"] == 0])}')"
   ]
  },
  {
   "cell_type": "markdown",
   "metadata": {},
   "source": [
    "Датасет состоит из 5 столбцов:\n",
    "- `calls` - количество звонков;\n",
    "- `minutes` - суммарная длительность звонков в минутах;\n",
    "- `messages` - количество SMS-сообщений;\n",
    "- `mb_used` - израсходованный интернет-трафик в Мб;\n",
    "- `is_ultra` - каким тарифом пользовался в течении месяца (\"Ультра\" - 1, \"Смарт\" - 0).\n",
    "\n",
    "Данные в столбце `is_ultra` для нас будут целевыми, т.е по значениями столбцов `calls`, `minutes`, `messages` и `mb_used` будет строиться рекомендательная система тарифов.\n",
    "\n",
    "В нашей выборке пользователей с тарифом Смарт более чем в 2 раза больше, чем пользователей с тарифом Ультра.\n",
    "\n",
    "Мы будем решать задачу классификации для этого будем использовать следующие модели машинного обучения:\n",
    "- Дерево решений;\n",
    "- Случайный лес;\n",
    "- Логистическая регрессия."
   ]
  },
  {
   "cell_type": "markdown",
   "metadata": {},
   "source": [
    "## Разбейте данные на выборки"
   ]
  },
  {
   "cell_type": "markdown",
   "metadata": {},
   "source": [
    "### Разобъем датасет на тренировочную, валидационную и тестовую выборки"
   ]
  },
  {
   "cell_type": "code",
   "execution_count": 5,
   "metadata": {},
   "outputs": [],
   "source": [
    "# Разделим датасет на два датасета features - признаки, target - целевой признак\n",
    "features = df.drop(['is_ultra'], axis=1)\n",
    "target = df['is_ultra']"
   ]
  },
  {
   "cell_type": "markdown",
   "metadata": {},
   "source": [
    "Выделим из данных тренировочные данные, в размере 60% от всех данных. Остальные 40% данных поделим на попалам, чтобы получить тестовые и валидационные данные.\n",
    "\n",
    "В результате мы получим:\n",
    "- Тренировочные данные в размере 60% от изначального датасета;\n",
    "- Валидационные данные в размере 20% от изначального датасета;\n",
    "- Тестовые данные в размере 20% от изначального датасета;"
   ]
  },
  {
   "cell_type": "code",
   "execution_count": 6,
   "metadata": {},
   "outputs": [],
   "source": [
    "features_train, features_valid_test, target_train, target_valid_test = train_test_split(features, \n",
    "                                                                                        target, \n",
    "                                                                                        random_state=123, \n",
    "                                                                                        train_size=0.6)\n",
    "\n",
    "features_valid, features_test, target_valid, target_test = train_test_split(features_valid_test,\n",
    "                                                                            target_valid_test,\n",
    "                                                                            random_state=123,\n",
    "                                                                            test_size=0.5)"
   ]
  },
  {
   "cell_type": "code",
   "execution_count": 7,
   "metadata": {},
   "outputs": [
    {
     "name": "stdout",
     "output_type": "stream",
     "text": [
      "Тренировочные данные: призники - (1928, 4), целевой признак - (1928,)\n",
      "Валидационные данные: призники - (643, 4), целевой признак - (643,)\n",
      "Тестовые данный: призники - (643, 4), целевой признак - (643,)\n"
     ]
    }
   ],
   "source": [
    "# Выведем форму датасетов каждому датасету\n",
    "print(f'Тренировочные данные: призники - {features_train.shape}, целевой признак - {target_train.shape}')\n",
    "print(f'Валидационные данные: призники - {features_valid.shape}, целевой признак - {target_valid.shape}')\n",
    "print(f'Тестовые данный: призники - {features_test.shape}, целевой признак - {target_test.shape}')"
   ]
  },
  {
   "cell_type": "markdown",
   "metadata": {},
   "source": [
    "**Вывод:**\n",
    "1. Мы разбили изначальный датасет на датасет с признками и датасет с целевыми признаками.\n",
    "2. Разделили полученные датасеты на 3 выборки:\n",
    "- Обучающую - 60% от изначального датасета;\n",
    "- Валидационную - 20% и от изначального датасета;\n",
    "- Тестовую - 20% от изначального датасета."
   ]
  },
  {
   "cell_type": "markdown",
   "metadata": {},
   "source": [
    "## Исследуйте модели"
   ]
  },
  {
   "cell_type": "markdown",
   "metadata": {},
   "source": [
    "### Дерево решений"
   ]
  },
  {
   "cell_type": "markdown",
   "metadata": {},
   "source": [
    "Построим модель \"Дерево решений\" (DecisionTreeClassifier). \n",
    "\n",
    "Переберем деревья глубиной от 1 до 10 и выберем наилучшее"
   ]
  },
  {
   "cell_type": "code",
   "execution_count": 65,
   "metadata": {},
   "outputs": [
    {
     "name": "stdout",
     "output_type": "stream",
     "text": [
      "\n",
      "Лучший результат: 0.8242612752721618\n",
      "Значения гиперпараметров:\n",
      "   - max_depth: 5\n",
      "   - splitter: 'random'\n",
      "   - min_sample_leaf: 3\n",
      "   \n"
     ]
    }
   ],
   "source": [
    "best_tree_model = None\n",
    "best_tree_depth = 0\n",
    "best_tree_accuracy = 0\n",
    "best_tree_splitter = None\n",
    "best_min_salmple_leaf = 0\n",
    "\n",
    "for splitter in ('best', 'random'):\n",
    "    for depth in range(1, 11):\n",
    "        for sample in range(2, 5, 1):\n",
    "            tree_model = DecisionTreeClassifier(max_depth=depth,\n",
    "                                                random_state=123,\n",
    "                                                splitter=splitter,\n",
    "                                                min_samples_leaf=sample\n",
    "                                               )\n",
    "            tree_model.fit(features_train, target_train)\n",
    "            prediction_valid = tree_model.predict(features_valid)\n",
    "            result = accuracy_score(target_valid, prediction_valid)\n",
    "            if result > best_tree_accuracy:\n",
    "                best_tree_accuracy = result\n",
    "                best_tree_model = tree_model\n",
    "                best_tree_depth = depth\n",
    "                best_tree_splitter = splitter\n",
    "                best_min_salmple_leaf = sample\n",
    "\n",
    "print(f\"\"\"\n",
    "Лучший результат: {best_tree_accuracy}\n",
    "Значения гиперпараметров:\n",
    "   - max_depth: {best_tree_depth}\n",
    "   - splitter: '{splitter}'\n",
    "   - min_sample_leaf: {best_min_salmple_leaf}\n",
    "   \"\"\")"
   ]
  },
  {
   "cell_type": "markdown",
   "metadata": {},
   "source": [
    "### Случайный лес"
   ]
  },
  {
   "cell_type": "markdown",
   "metadata": {},
   "source": [
    "Построим модель \"Случайный лес\" (RandomForestClassifier).\n",
    "\n",
    "Переберем параметры `criterion`, `n_estimators`, `max_depth` и выберем наилучшую модель."
   ]
  },
  {
   "cell_type": "code",
   "execution_count": 131,
   "metadata": {},
   "outputs": [
    {
     "name": "stdout",
     "output_type": "stream",
     "text": [
      "\n",
      "Лучший результат: 0.8351477449455676\n",
      "Значения гиперпараметров:\n",
      "    max_depth: 9\n",
      "    n_estimators: 50\n",
      "    criterion: gini\n",
      "    max_features: None\n",
      "    \n",
      "    \n"
     ]
    }
   ],
   "source": [
    "best_forest_model = None\n",
    "best_forest_depth = 0\n",
    "best_forest_est = 0\n",
    "best_forest_accuracy = 0\n",
    "best_forest_criterion = None\n",
    "depths = list()\n",
    "trees = list()\n",
    "score = list()\n",
    "best_feature = None\n",
    "\n",
    "for crit in ('gini', 'entropy'):\n",
    "    for depth in range(1, 11):\n",
    "        for est in range(10, 101, 10):\n",
    "            for feature in ('sqrt', 'log2', None, 'auto'):\n",
    "                forest_model = RandomForestClassifier(criterion=crit,\n",
    "                                                      n_estimators=est,\n",
    "                                                      max_depth=depth,\n",
    "                                                      max_features=feature,\n",
    "                                                      random_state=123)\n",
    "                forest_model.fit(features_train, target_train)\n",
    "                prediction_valid = forest_model.predict(features_valid)\n",
    "                result = accuracy_score(target_valid, prediction_valid)\n",
    "                if result > best_forest_accuracy:\n",
    "                    best_forest_accuracy = result\n",
    "                    best_forest_model = forest_model\n",
    "                    best_forest_depth = depth\n",
    "                    best_forest_est = est\n",
    "                    best_forest_criterion = crit\n",
    "                    depths.append(depth)\n",
    "                    trees.append(est)\n",
    "                    score.append(result)\n",
    "                    best_feature = feature\n",
    "\n",
    "print(f'''\n",
    "Лучший результат: {best_forest_accuracy}\n",
    "Значения гиперпараметров:\n",
    "    max_depth: {best_forest_depth}\n",
    "    n_estimators: {best_forest_est}\n",
    "    criterion: {best_forest_criterion}\n",
    "    max_features: {best_feature}\n",
    "    \n",
    "    ''')\n"
   ]
  },
  {
   "cell_type": "code",
   "execution_count": 119,
   "metadata": {},
   "outputs": [
    {
     "data": {
      "image/png": "[encoded data removed]",
      "text/plain": [
       "<Figure size 1080x432 with 2 Axes>"
      ]
     },
     "metadata": {
      "needs_background": "light"
     },
     "output_type": "display_data"
    }
   ],
   "source": [
    "import matplotlib.pyplot as plt\n",
    "import seaborn as sns\n",
    "\n",
    "fig, ax = plt.subplots(1, 2, figsize=(15, 6))\n",
    "ax[0].plot(depths,\n",
    "           score, \n",
    "           'o', color='b', alpha=0.5)\n",
    "ax[0].grid()\n",
    "\n",
    "ax[1].plot(trees,\n",
    "            score, \n",
    "           'o', color='r', alpha=0.5)\n",
    "ax[1].grid()"
   ]
  },
  {
   "cell_type": "markdown",
   "metadata": {},
   "source": [
    "### Логистическая регрессия"
   ]
  },
  {
   "cell_type": "markdown",
   "metadata": {},
   "source": [
    "Построим модель \"Логистическая регрессия\" (LogisticRegression). \n",
    "\n",
    "Рассмотрим модели с количеством итераций от 100 до 1000 и выберем лучшую модель."
   ]
  },
  {
   "cell_type": "code",
   "execution_count": 64,
   "metadata": {},
   "outputs": [
    {
     "name": "stdout",
     "output_type": "stream",
     "text": [
      "\n",
      "Лучший результат: 0.7589424572317263\n",
      "    Количество итераций: 1000\n",
      "    \n"
     ]
    }
   ],
   "source": [
    "best_log_reg_model = None\n",
    "best_log_reg_iter = 0\n",
    "best_log_reg_accuracy = 0\n",
    "\n",
    "for iter in range(100, 1001, 100):\n",
    "    log_reg_model = LogisticRegression(max_iter=iter,\n",
    "                                           solver='lbfgs',\n",
    "                                           random_state=123)\n",
    "    log_reg_model.fit(features_train, target_train)\n",
    "    prediction_valid = log_reg_model.predict(features_valid)\n",
    "    result = accuracy_score(target_valid, prediction_valid)\n",
    "    if result < best_forest_accuracy:\n",
    "        best_log_reg_accuracy = result\n",
    "        best_log_reg_model = log_reg_model\n",
    "        best_log_reg_iter = iter\n",
    "\n",
    "print(f'''\n",
    "Лучший результат: {best_log_reg_accuracy}\n",
    "    Количество итераций: {best_log_reg_iter}\n",
    "    ''')"
   ]
  },
  {
   "cell_type": "markdown",
   "metadata": {},
   "source": [
    "**Вывод:**\n",
    "\n",
    "**По валидационным данным лучшей моделью оказалась модель \"Случайный лес\" со следующими гипер-параметрами:**\n",
    " - accuracy_score: 0.8351477449455676\n",
    " - max_depth: 9\n",
    " - n_estimators: 70\n",
    " - criterion: 'gini'"
   ]
  },
  {
   "cell_type": "markdown",
   "metadata": {},
   "source": [
    "## Проверьте модель на тестовой выборке"
   ]
  },
  {
   "cell_type": "markdown",
   "metadata": {},
   "source": [
    "Проверим работу наилучшей полученной модели на тестовой выборке."
   ]
  },
  {
   "cell_type": "markdown",
   "metadata": {},
   "source": [
    "### Случайный лес"
   ]
  },
  {
   "cell_type": "code",
   "execution_count": 132,
   "metadata": {},
   "outputs": [
    {
     "name": "stdout",
     "output_type": "stream",
     "text": [
      "Accuracy score модели \"Случайный лес\" на тестовой выборке по наилучшей модели: 0.7947122861586314\n"
     ]
    }
   ],
   "source": [
    "# Проверим результаты работы модели \"Случайный лес\" на тестовой выборке \n",
    "prediction_valid = best_forest_model.predict(features_test)\n",
    "result = accuracy_score(target_test, prediction_valid)\n",
    "print(f'Accuracy score модели \"Случайный лес\" на тестовой выборке по наилучшей модели: {result}')"
   ]
  },
  {
   "cell_type": "markdown",
   "metadata": {
    "scrolled": false
   },
   "source": [
    "Вывод:\n",
    "\n",
    "В результате проверки модели на тестовых данных **`accuracy_score` = 0.7947122861586314**\n",
    "\n"
   ]
  },
  {
   "cell_type": "markdown",
   "metadata": {},
   "source": [
    "## (бонус) Проверьте модели на адекватность"
   ]
  },
  {
   "cell_type": "markdown",
   "metadata": {},
   "source": [
    "В наших данных есть дисбаланс классов, пользователей с тарифом \"Смарт\" более чем в 2 раза больше, чем пользователей с тарифом \"Ультра\". Большинство алгоритмов машинного обучения работают лучше всего, когда количество образцов в каждом классе примерно одинаково.\n",
    "\n",
    "Для проверки модели на адекватность будем использвать DummyClassifier."
   ]
  },
  {
   "cell_type": "code",
   "execution_count": 15,
   "metadata": {},
   "outputs": [
    {
     "name": "stdout",
     "output_type": "stream",
     "text": [
      "Accuracy score: 0.6936236391912908\n"
     ]
    }
   ],
   "source": [
    "dummy = DummyClassifier(strategy='most_frequent', random_state=123).fit(features_train, target_train)\n",
    "dummy_pred = dummy.predict(features_test)\n",
    "print('Accuracy score:', accuracy_score(target_test, dummy_pred))"
   ]
  },
  {
   "cell_type": "markdown",
   "metadata": {},
   "source": [
    "При проверке наших данных мы получили значение `accuracy_score` ниже, чем при использовании модели \"Случайный лес\", что говорит нам о правильности работы нашей модели."
   ]
  },
  {
   "cell_type": "markdown",
   "metadata": {},
   "source": [
    "## Общий вывод\n",
    "\n",
    "**В ходе работы было выполнено:**\n",
    "1. Полученные данные были разделены на 3 выборки:\n",
    "- Обучающую - 60% от изначального датасета;\n",
    "- Валидационную - 20% и от изначального датасета;\n",
    "- Тестовую - 20% от изначального датасета.\n",
    "\n",
    "2. Построены модели машинного обучения:\n",
    "- Дерево решений;\n",
    "- Случайный лес;\n",
    "- Логистическая регрессия.\n",
    "\n",
    "3. Проведена проверка моделей на тестовой выборке. Получены следующие результаты:\n",
    "- Дерево решений - 0.7713841368584758\n",
    "- Случайный лес - accuracy_score = 0.7947122861586314\n",
    "- Логистическая регрессия - accuracy_score = 0.7309486780715396\n",
    "\n",
    "\n",
    "4. Проведена проверка работы модели на адекватность.\n",
    "\n",
    "**Наилучшая модель с результатом (accuracy_score = 0.795) для рекомендательной системы - Случайный лес со следующими гипер-параметрами:**\n",
    "- max_depth: 9\n",
    "- n_estimators: 70\n",
    "- criterion: 'gini'\n",
    "- max_features: None\n"
   ]
  },
  {
   "cell_type": "code",
   "execution_count": null,
   "metadata": {},
   "outputs": [],
   "source": []
  }
 ],
 "metadata": {
  "ExecuteTimeLog": [
   {
    "duration": 427,
    "start_time": "2023-03-10T18:18:11.213Z"
   },
   {
    "duration": 146,
    "start_time": "2023-03-10T18:18:22.762Z"
   },
   {
    "duration": 42,
    "start_time": "2023-03-10T18:18:27.815Z"
   },
   {
    "duration": 11,
    "start_time": "2023-03-10T18:18:35.850Z"
   },
   {
    "duration": 9,
    "start_time": "2023-03-10T18:18:38.815Z"
   },
   {
    "duration": 33,
    "start_time": "2023-03-10T18:32:33.861Z"
   },
   {
    "duration": 14,
    "start_time": "2023-03-10T18:32:54.636Z"
   },
   {
    "duration": 14,
    "start_time": "2023-03-10T18:33:01.713Z"
   },
   {
    "duration": 70,
    "start_time": "2023-03-10T18:33:09.539Z"
   },
   {
    "duration": 13,
    "start_time": "2023-03-10T18:33:14.826Z"
   },
   {
    "duration": 5,
    "start_time": "2023-03-10T18:33:18.228Z"
   },
   {
    "duration": 5,
    "start_time": "2023-03-10T18:33:22.203Z"
   },
   {
    "duration": 3,
    "start_time": "2023-03-10T18:37:41.607Z"
   },
   {
    "duration": 54,
    "start_time": "2023-03-10T18:38:29.646Z"
   },
   {
    "duration": 11,
    "start_time": "2023-03-10T18:38:41.719Z"
   },
   {
    "duration": 9,
    "start_time": "2023-03-10T18:38:50.617Z"
   },
   {
    "duration": 4,
    "start_time": "2023-03-10T18:38:56.383Z"
   },
   {
    "duration": 6,
    "start_time": "2023-03-10T18:46:41.807Z"
   },
   {
    "duration": 10,
    "start_time": "2023-03-10T18:46:53.008Z"
   },
   {
    "duration": 9,
    "start_time": "2023-03-10T18:48:03.603Z"
   },
   {
    "duration": 10,
    "start_time": "2023-03-10T18:48:08.118Z"
   },
   {
    "duration": 10,
    "start_time": "2023-03-10T18:48:30.464Z"
   },
   {
    "duration": 84,
    "start_time": "2023-03-10T18:48:32.192Z"
   },
   {
    "duration": 14,
    "start_time": "2023-03-10T18:48:32.807Z"
   },
   {
    "duration": 8,
    "start_time": "2023-03-10T18:48:36.107Z"
   },
   {
    "duration": 6,
    "start_time": "2023-03-10T18:48:36.754Z"
   },
   {
    "duration": 5,
    "start_time": "2023-03-10T18:48:42.107Z"
   },
   {
    "duration": 4,
    "start_time": "2023-03-10T18:48:48.682Z"
   },
   {
    "duration": 7,
    "start_time": "2023-03-10T18:48:56.301Z"
   },
   {
    "duration": 8,
    "start_time": "2023-03-10T18:51:27.267Z"
   },
   {
    "duration": 4,
    "start_time": "2023-03-10T18:52:36.871Z"
   },
   {
    "duration": 4,
    "start_time": "2023-03-10T18:52:59.694Z"
   },
   {
    "duration": 4,
    "start_time": "2023-03-10T18:54:52.525Z"
   },
   {
    "duration": 3,
    "start_time": "2023-03-10T19:03:59.410Z"
   },
   {
    "duration": 10,
    "start_time": "2023-03-10T19:04:37.371Z"
   },
   {
    "duration": 10,
    "start_time": "2023-03-10T19:04:40.762Z"
   },
   {
    "duration": 4,
    "start_time": "2023-03-10T19:04:49.629Z"
   },
   {
    "duration": 4,
    "start_time": "2023-03-10T19:04:53.935Z"
   },
   {
    "duration": 5,
    "start_time": "2023-03-10T19:04:57.002Z"
   },
   {
    "duration": 4,
    "start_time": "2023-03-10T19:05:01.577Z"
   },
   {
    "duration": 87,
    "start_time": "2023-03-10T19:05:17.685Z"
   },
   {
    "duration": 8,
    "start_time": "2023-03-10T19:05:20.150Z"
   },
   {
    "duration": 4,
    "start_time": "2023-03-10T19:05:23.746Z"
   },
   {
    "duration": 9,
    "start_time": "2023-03-10T19:05:54.238Z"
   },
   {
    "duration": 93,
    "start_time": "2023-03-10T19:06:00.225Z"
   },
   {
    "duration": 5,
    "start_time": "2023-03-10T19:06:02.919Z"
   },
   {
    "duration": 21,
    "start_time": "2023-03-10T19:09:16.461Z"
   },
   {
    "duration": 6,
    "start_time": "2023-03-10T19:09:54.864Z"
   },
   {
    "duration": 10,
    "start_time": "2023-03-10T19:10:23.647Z"
   },
   {
    "duration": 11,
    "start_time": "2023-03-10T19:10:35.338Z"
   },
   {
    "duration": 12,
    "start_time": "2023-03-10T19:11:26.307Z"
   },
   {
    "duration": 7,
    "start_time": "2023-03-10T19:11:35.181Z"
   },
   {
    "duration": 8,
    "start_time": "2023-03-10T19:11:49.208Z"
   },
   {
    "duration": 3,
    "start_time": "2023-03-10T19:13:23.932Z"
   },
   {
    "duration": 14,
    "start_time": "2023-03-10T19:13:27.454Z"
   },
   {
    "duration": 17,
    "start_time": "2023-03-10T19:14:18.403Z"
   },
   {
    "duration": 13,
    "start_time": "2023-03-10T19:14:33.163Z"
   },
   {
    "duration": 18,
    "start_time": "2023-03-10T19:14:40.291Z"
   },
   {
    "duration": 11,
    "start_time": "2023-03-10T19:14:44.385Z"
   },
   {
    "duration": 12,
    "start_time": "2023-03-10T19:15:08.548Z"
   },
   {
    "duration": 15,
    "start_time": "2023-03-10T19:15:14.825Z"
   },
   {
    "duration": 3,
    "start_time": "2023-03-10T19:15:39.461Z"
   },
   {
    "duration": 9,
    "start_time": "2023-03-10T19:15:53.833Z"
   },
   {
    "duration": 8,
    "start_time": "2023-03-10T19:15:58.938Z"
   },
   {
    "duration": 4,
    "start_time": "2023-03-10T19:16:02.665Z"
   },
   {
    "duration": 17,
    "start_time": "2023-03-10T19:17:07.118Z"
   },
   {
    "duration": 16,
    "start_time": "2023-03-10T19:17:39.041Z"
   },
   {
    "duration": 23,
    "start_time": "2023-03-10T19:17:45.655Z"
   },
   {
    "duration": 15,
    "start_time": "2023-03-10T19:21:42.442Z"
   },
   {
    "duration": 71,
    "start_time": "2023-03-10T19:21:51.378Z"
   },
   {
    "duration": 15,
    "start_time": "2023-03-10T19:22:45.627Z"
   },
   {
    "duration": 11,
    "start_time": "2023-03-10T19:22:58.222Z"
   },
   {
    "duration": 81,
    "start_time": "2023-03-10T19:23:29.250Z"
   },
   {
    "duration": 12,
    "start_time": "2023-03-10T19:23:35.962Z"
   },
   {
    "duration": 12,
    "start_time": "2023-03-10T19:23:38.007Z"
   },
   {
    "duration": 12,
    "start_time": "2023-03-10T19:23:40.896Z"
   },
   {
    "duration": 17,
    "start_time": "2023-03-10T19:23:43.167Z"
   },
   {
    "duration": 15,
    "start_time": "2023-03-10T19:23:45.205Z"
   },
   {
    "duration": 13,
    "start_time": "2023-03-10T19:23:46.956Z"
   },
   {
    "duration": 13,
    "start_time": "2023-03-10T19:23:49.314Z"
   },
   {
    "duration": 15,
    "start_time": "2023-03-10T19:23:51.764Z"
   },
   {
    "duration": 14,
    "start_time": "2023-03-10T19:23:55.483Z"
   },
   {
    "duration": 13,
    "start_time": "2023-03-10T19:23:58.142Z"
   },
   {
    "duration": 12,
    "start_time": "2023-03-10T19:24:00.205Z"
   },
   {
    "duration": 11,
    "start_time": "2023-03-10T19:24:02.361Z"
   },
   {
    "duration": 14,
    "start_time": "2023-03-10T19:24:44.433Z"
   },
   {
    "duration": 10,
    "start_time": "2023-03-10T19:24:48.514Z"
   },
   {
    "duration": 9,
    "start_time": "2023-03-10T19:24:50.323Z"
   },
   {
    "duration": 12,
    "start_time": "2023-03-10T19:24:52.530Z"
   },
   {
    "duration": 12,
    "start_time": "2023-03-10T19:24:56.619Z"
   },
   {
    "duration": 10,
    "start_time": "2023-03-10T19:24:59.065Z"
   },
   {
    "duration": 73,
    "start_time": "2023-03-10T19:25:00.776Z"
   },
   {
    "duration": 9,
    "start_time": "2023-03-10T19:25:01.373Z"
   },
   {
    "duration": 12,
    "start_time": "2023-03-10T19:25:04.873Z"
   },
   {
    "duration": 9,
    "start_time": "2023-03-10T19:25:08.273Z"
   },
   {
    "duration": 9,
    "start_time": "2023-03-10T19:25:10.476Z"
   },
   {
    "duration": 11,
    "start_time": "2023-03-10T19:25:12.784Z"
   },
   {
    "duration": 12,
    "start_time": "2023-03-10T19:25:14.957Z"
   },
   {
    "duration": 12,
    "start_time": "2023-03-10T19:25:17.302Z"
   },
   {
    "duration": 13,
    "start_time": "2023-03-10T19:25:19.093Z"
   },
   {
    "duration": 13,
    "start_time": "2023-03-10T19:25:24.274Z"
   },
   {
    "duration": 14,
    "start_time": "2023-03-10T19:25:26.537Z"
   },
   {
    "duration": 18,
    "start_time": "2023-03-10T19:25:30.100Z"
   },
   {
    "duration": 11,
    "start_time": "2023-03-10T19:25:32.053Z"
   },
   {
    "duration": 11,
    "start_time": "2023-03-10T19:25:34.131Z"
   },
   {
    "duration": 11,
    "start_time": "2023-03-10T19:25:40.747Z"
   },
   {
    "duration": 12,
    "start_time": "2023-03-10T19:26:06.693Z"
   },
   {
    "duration": 7,
    "start_time": "2023-03-10T19:27:37.268Z"
   },
   {
    "duration": 69,
    "start_time": "2023-03-10T19:28:00.344Z"
   },
   {
    "duration": 5,
    "start_time": "2023-03-10T19:28:03.588Z"
   },
   {
    "duration": 66,
    "start_time": "2023-03-10T19:31:00.239Z"
   },
   {
    "duration": 6,
    "start_time": "2023-03-10T19:31:02.778Z"
   },
   {
    "duration": 7,
    "start_time": "2023-03-10T19:31:14.482Z"
   },
   {
    "duration": 7,
    "start_time": "2023-03-10T19:32:22.593Z"
   },
   {
    "duration": 72,
    "start_time": "2023-03-10T19:36:28.632Z"
   },
   {
    "duration": 6,
    "start_time": "2023-03-10T19:36:29.889Z"
   },
   {
    "duration": 67,
    "start_time": "2023-03-10T19:36:34.537Z"
   },
   {
    "duration": 7,
    "start_time": "2023-03-10T19:36:35.432Z"
   },
   {
    "duration": 1082,
    "start_time": "2023-03-10T19:36:54.052Z"
   },
   {
    "duration": 44,
    "start_time": "2023-03-10T19:36:55.137Z"
   },
   {
    "duration": 11,
    "start_time": "2023-03-10T19:36:55.183Z"
   },
   {
    "duration": 25,
    "start_time": "2023-03-10T19:36:55.197Z"
   },
   {
    "duration": 14,
    "start_time": "2023-03-10T19:36:55.225Z"
   },
   {
    "duration": 27,
    "start_time": "2023-03-10T19:36:55.241Z"
   },
   {
    "duration": 6,
    "start_time": "2023-03-10T19:36:55.270Z"
   },
   {
    "duration": 191,
    "start_time": "2023-03-10T19:36:55.278Z"
   },
   {
    "duration": 0,
    "start_time": "2023-03-10T19:36:55.471Z"
   },
   {
    "duration": 0,
    "start_time": "2023-03-10T19:36:55.473Z"
   },
   {
    "duration": 0,
    "start_time": "2023-03-10T19:36:55.474Z"
   },
   {
    "duration": 68,
    "start_time": "2023-03-10T19:37:12.652Z"
   },
   {
    "duration": 5,
    "start_time": "2023-03-10T19:37:40.747Z"
   },
   {
    "duration": 67,
    "start_time": "2023-03-10T19:37:49.814Z"
   },
   {
    "duration": 6,
    "start_time": "2023-03-10T19:37:50.420Z"
   },
   {
    "duration": 6,
    "start_time": "2023-03-10T19:38:49.796Z"
   },
   {
    "duration": 13517,
    "start_time": "2023-03-10T19:43:30.362Z"
   },
   {
    "duration": 18,
    "start_time": "2023-03-10T19:45:27.348Z"
   },
   {
    "duration": 7,
    "start_time": "2023-03-10T19:47:32.759Z"
   },
   {
    "duration": 6,
    "start_time": "2023-03-10T19:47:42.069Z"
   },
   {
    "duration": 69,
    "start_time": "2023-03-10T19:53:21.590Z"
   },
   {
    "duration": 6,
    "start_time": "2023-03-10T19:53:22.690Z"
   },
   {
    "duration": 13770,
    "start_time": "2023-03-10T19:53:25.242Z"
   },
   {
    "duration": 21,
    "start_time": "2023-03-10T19:53:43.925Z"
   },
   {
    "duration": 25,
    "start_time": "2023-03-10T19:55:00.775Z"
   },
   {
    "duration": 18,
    "start_time": "2023-03-10T19:55:20.157Z"
   },
   {
    "duration": 43,
    "start_time": "2023-03-10T19:55:25.470Z"
   },
   {
    "duration": 288,
    "start_time": "2023-03-10T19:55:32.710Z"
   },
   {
    "duration": 292,
    "start_time": "2023-03-10T19:55:39.990Z"
   },
   {
    "duration": 270,
    "start_time": "2023-03-10T19:55:59.121Z"
   },
   {
    "duration": 6,
    "start_time": "2023-03-10T19:57:11.862Z"
   },
   {
    "duration": 2474,
    "start_time": "2023-03-10T19:57:22.773Z"
   },
   {
    "duration": 6,
    "start_time": "2023-03-10T19:57:29.254Z"
   },
   {
    "duration": 24573,
    "start_time": "2023-03-10T19:57:33.172Z"
   },
   {
    "duration": 6,
    "start_time": "2023-03-10T19:58:01.223Z"
   },
   {
    "duration": 2655,
    "start_time": "2023-03-10T19:58:08.587Z"
   },
   {
    "duration": 7,
    "start_time": "2023-03-10T19:58:13.424Z"
   },
   {
    "duration": 2647,
    "start_time": "2023-03-10T19:58:23.402Z"
   },
   {
    "duration": 7,
    "start_time": "2023-03-10T19:58:30.822Z"
   },
   {
    "duration": 323,
    "start_time": "2023-03-10T19:59:16.168Z"
   },
   {
    "duration": 6,
    "start_time": "2023-03-10T19:59:19.546Z"
   },
   {
    "duration": 1871,
    "start_time": "2023-03-10T19:59:28.246Z"
   },
   {
    "duration": 2816,
    "start_time": "2023-03-10T19:59:33.840Z"
   },
   {
    "duration": 6,
    "start_time": "2023-03-10T19:59:40.434Z"
   },
   {
    "duration": 281,
    "start_time": "2023-03-10T19:59:47.163Z"
   },
   {
    "duration": 6,
    "start_time": "2023-03-10T19:59:48.523Z"
   },
   {
    "duration": 14027,
    "start_time": "2023-03-10T20:07:30.210Z"
   },
   {
    "duration": 18,
    "start_time": "2023-03-10T20:07:48.758Z"
   },
   {
    "duration": 15389,
    "start_time": "2023-03-10T20:08:00.471Z"
   },
   {
    "duration": 20,
    "start_time": "2023-03-10T20:08:18.512Z"
   },
   {
    "duration": 19519,
    "start_time": "2023-03-10T20:08:29.958Z"
   },
   {
    "duration": 16,
    "start_time": "2023-03-10T20:08:54.749Z"
   },
   {
    "duration": 15458,
    "start_time": "2023-03-10T20:09:15.377Z"
   },
   {
    "duration": 18,
    "start_time": "2023-03-10T20:09:34.727Z"
   },
   {
    "duration": 72,
    "start_time": "2023-03-10T20:11:43.593Z"
   },
   {
    "duration": 11,
    "start_time": "2023-03-10T20:11:47.195Z"
   },
   {
    "duration": 40,
    "start_time": "2023-03-10T20:11:50.760Z"
   },
   {
    "duration": 9,
    "start_time": "2023-03-10T20:11:53.248Z"
   },
   {
    "duration": 47,
    "start_time": "2023-03-10T20:11:56.737Z"
   },
   {
    "duration": 9,
    "start_time": "2023-03-10T20:11:58.477Z"
   },
   {
    "duration": 68,
    "start_time": "2023-03-10T20:12:00.950Z"
   },
   {
    "duration": 9,
    "start_time": "2023-03-10T20:12:02.289Z"
   },
   {
    "duration": 103,
    "start_time": "2023-03-10T20:12:04.244Z"
   },
   {
    "duration": 12,
    "start_time": "2023-03-10T20:12:04.811Z"
   },
   {
    "duration": 118,
    "start_time": "2023-03-10T20:12:07.230Z"
   },
   {
    "duration": 13,
    "start_time": "2023-03-10T20:12:07.675Z"
   },
   {
    "duration": 149,
    "start_time": "2023-03-10T20:12:10.527Z"
   },
   {
    "duration": 15,
    "start_time": "2023-03-10T20:12:11.050Z"
   },
   {
    "duration": 179,
    "start_time": "2023-03-10T20:12:13.374Z"
   },
   {
    "duration": 16,
    "start_time": "2023-03-10T20:12:14.064Z"
   },
   {
    "duration": 206,
    "start_time": "2023-03-10T20:12:16.020Z"
   },
   {
    "duration": 26,
    "start_time": "2023-03-10T20:12:16.440Z"
   },
   {
    "duration": 239,
    "start_time": "2023-03-10T20:12:18.349Z"
   },
   {
    "duration": 19,
    "start_time": "2023-03-10T20:12:18.742Z"
   },
   {
    "duration": 268,
    "start_time": "2023-03-10T20:12:21.702Z"
   },
   {
    "duration": 22,
    "start_time": "2023-03-10T20:12:22.430Z"
   },
   {
    "duration": 291,
    "start_time": "2023-03-10T20:12:25.322Z"
   },
   {
    "duration": 24,
    "start_time": "2023-03-10T20:12:26.035Z"
   },
   {
    "duration": 44,
    "start_time": "2023-03-10T20:12:29.319Z"
   },
   {
    "duration": 9,
    "start_time": "2023-03-10T20:12:29.782Z"
   },
   {
    "duration": 28,
    "start_time": "2023-03-10T20:12:32.232Z"
   },
   {
    "duration": 8,
    "start_time": "2023-03-10T20:12:32.722Z"
   },
   {
    "duration": 27,
    "start_time": "2023-03-10T20:12:34.871Z"
   },
   {
    "duration": 8,
    "start_time": "2023-03-10T20:12:35.262Z"
   },
   {
    "duration": 31,
    "start_time": "2023-03-10T20:12:41.660Z"
   },
   {
    "duration": 8,
    "start_time": "2023-03-10T20:12:42.152Z"
   },
   {
    "duration": 33,
    "start_time": "2023-03-10T20:12:44.691Z"
   },
   {
    "duration": 8,
    "start_time": "2023-03-10T20:12:45.104Z"
   },
   {
    "duration": 34,
    "start_time": "2023-03-10T20:12:49.881Z"
   },
   {
    "duration": 8,
    "start_time": "2023-03-10T20:12:50.308Z"
   },
   {
    "duration": 37,
    "start_time": "2023-03-10T20:12:53.473Z"
   },
   {
    "duration": 8,
    "start_time": "2023-03-10T20:12:53.780Z"
   },
   {
    "duration": 39,
    "start_time": "2023-03-10T20:12:59.269Z"
   },
   {
    "duration": 10,
    "start_time": "2023-03-10T20:12:59.645Z"
   },
   {
    "duration": 40,
    "start_time": "2023-03-10T20:13:02.200Z"
   },
   {
    "duration": 9,
    "start_time": "2023-03-10T20:13:02.626Z"
   },
   {
    "duration": 51,
    "start_time": "2023-03-10T20:13:04.552Z"
   },
   {
    "duration": 8,
    "start_time": "2023-03-10T20:13:04.883Z"
   },
   {
    "duration": 43,
    "start_time": "2023-03-10T20:13:07.640Z"
   },
   {
    "duration": 8,
    "start_time": "2023-03-10T20:13:07.988Z"
   },
   {
    "duration": 44,
    "start_time": "2023-03-10T20:13:11.659Z"
   },
   {
    "duration": 9,
    "start_time": "2023-03-10T20:13:12.097Z"
   },
   {
    "duration": 38,
    "start_time": "2023-03-10T20:13:15.432Z"
   },
   {
    "duration": 8,
    "start_time": "2023-03-10T20:13:16.306Z"
   },
   {
    "duration": 63,
    "start_time": "2023-03-10T20:13:32.070Z"
   },
   {
    "duration": 9,
    "start_time": "2023-03-10T20:13:33.398Z"
   },
   {
    "duration": 48,
    "start_time": "2023-03-10T20:13:37.160Z"
   },
   {
    "duration": 9,
    "start_time": "2023-03-10T20:13:37.666Z"
   },
   {
    "duration": 27,
    "start_time": "2023-03-10T20:13:41.916Z"
   },
   {
    "duration": 8,
    "start_time": "2023-03-10T20:13:42.305Z"
   },
   {
    "duration": 28,
    "start_time": "2023-03-10T20:13:44.346Z"
   },
   {
    "duration": 9,
    "start_time": "2023-03-10T20:13:44.670Z"
   },
   {
    "duration": 29,
    "start_time": "2023-03-10T20:13:47.118Z"
   },
   {
    "duration": 7,
    "start_time": "2023-03-10T20:13:47.452Z"
   },
   {
    "duration": 32,
    "start_time": "2023-03-10T20:13:49.749Z"
   },
   {
    "duration": 7,
    "start_time": "2023-03-10T20:13:50.042Z"
   },
   {
    "duration": 37,
    "start_time": "2023-03-10T20:13:52.417Z"
   },
   {
    "duration": 7,
    "start_time": "2023-03-10T20:13:52.701Z"
   },
   {
    "duration": 35,
    "start_time": "2023-03-10T20:13:55.929Z"
   },
   {
    "duration": 10,
    "start_time": "2023-03-10T20:13:56.286Z"
   },
   {
    "duration": 40,
    "start_time": "2023-03-10T20:13:58.840Z"
   },
   {
    "duration": 9,
    "start_time": "2023-03-10T20:13:59.920Z"
   },
   {
    "duration": 43,
    "start_time": "2023-03-10T20:14:01.994Z"
   },
   {
    "duration": 10,
    "start_time": "2023-03-10T20:14:02.282Z"
   },
   {
    "duration": 54,
    "start_time": "2023-03-10T20:14:04.217Z"
   },
   {
    "duration": 11,
    "start_time": "2023-03-10T20:14:04.452Z"
   },
   {
    "duration": 50,
    "start_time": "2023-03-10T20:14:06.620Z"
   },
   {
    "duration": 11,
    "start_time": "2023-03-10T20:14:06.948Z"
   },
   {
    "duration": 50,
    "start_time": "2023-03-10T20:14:09.162Z"
   },
   {
    "duration": 9,
    "start_time": "2023-03-10T20:14:09.474Z"
   },
   {
    "duration": 51,
    "start_time": "2023-03-10T20:14:11.377Z"
   },
   {
    "duration": 10,
    "start_time": "2023-03-10T20:14:11.654Z"
   },
   {
    "duration": 42,
    "start_time": "2023-03-10T20:14:14.321Z"
   },
   {
    "duration": 9,
    "start_time": "2023-03-10T20:14:14.965Z"
   },
   {
    "duration": 61,
    "start_time": "2023-03-10T20:14:21.389Z"
   },
   {
    "duration": 10,
    "start_time": "2023-03-10T20:14:22.637Z"
   },
   {
    "duration": 87,
    "start_time": "2023-03-10T20:14:25.203Z"
   },
   {
    "duration": 11,
    "start_time": "2023-03-10T20:14:26.526Z"
   },
   {
    "duration": 115,
    "start_time": "2023-03-10T20:14:29.302Z"
   },
   {
    "duration": 13,
    "start_time": "2023-03-10T20:14:29.848Z"
   },
   {
    "duration": 142,
    "start_time": "2023-03-10T20:14:31.976Z"
   },
   {
    "duration": 15,
    "start_time": "2023-03-10T20:14:32.538Z"
   },
   {
    "duration": 159,
    "start_time": "2023-03-10T20:14:34.260Z"
   },
   {
    "duration": 17,
    "start_time": "2023-03-10T20:14:34.667Z"
   },
   {
    "duration": 206,
    "start_time": "2023-03-10T20:14:36.381Z"
   },
   {
    "duration": 16,
    "start_time": "2023-03-10T20:14:36.755Z"
   },
   {
    "duration": 221,
    "start_time": "2023-03-10T20:14:39.350Z"
   },
   {
    "duration": 19,
    "start_time": "2023-03-10T20:14:39.769Z"
   },
   {
    "duration": 251,
    "start_time": "2023-03-10T20:14:44.382Z"
   },
   {
    "duration": 22,
    "start_time": "2023-03-10T20:14:44.822Z"
   },
   {
    "duration": 277,
    "start_time": "2023-03-10T20:14:48.381Z"
   },
   {
    "duration": 21,
    "start_time": "2023-03-10T20:14:48.871Z"
   },
   {
    "duration": 46,
    "start_time": "2023-03-10T20:14:51.097Z"
   },
   {
    "duration": 8,
    "start_time": "2023-03-10T20:14:52.179Z"
   },
   {
    "duration": 15583,
    "start_time": "2023-03-10T20:15:24.905Z"
   },
   {
    "duration": 18,
    "start_time": "2023-03-10T20:15:44.048Z"
   },
   {
    "duration": 7,
    "start_time": "2023-03-10T20:47:12.032Z"
   },
   {
    "duration": 21,
    "start_time": "2023-03-10T20:47:13.884Z"
   },
   {
    "duration": 7,
    "start_time": "2023-03-10T20:47:42.085Z"
   },
   {
    "duration": 17,
    "start_time": "2023-03-10T20:59:24.451Z"
   },
   {
    "duration": 9152,
    "start_time": "2023-03-10T20:59:34.392Z"
   },
   {
    "duration": 33188,
    "start_time": "2023-03-10T21:01:02.338Z"
   },
   {
    "duration": 33366,
    "start_time": "2023-03-10T21:02:19.036Z"
   },
   {
    "duration": 20,
    "start_time": "2023-03-10T21:03:03.457Z"
   },
   {
    "duration": 1227,
    "start_time": "2023-03-11T12:10:44.266Z"
   },
   {
    "duration": 85,
    "start_time": "2023-03-11T12:10:45.495Z"
   },
   {
    "duration": 11,
    "start_time": "2023-03-11T12:10:45.582Z"
   },
   {
    "duration": 8,
    "start_time": "2023-03-11T12:10:45.595Z"
   },
   {
    "duration": 6,
    "start_time": "2023-03-11T12:10:45.605Z"
   },
   {
    "duration": 7,
    "start_time": "2023-03-11T12:10:45.613Z"
   },
   {
    "duration": 8,
    "start_time": "2023-03-11T12:10:45.622Z"
   },
   {
    "duration": 98,
    "start_time": "2023-03-11T12:10:45.632Z"
   },
   {
    "duration": 38523,
    "start_time": "2023-03-11T12:10:45.732Z"
   },
   {
    "duration": 335,
    "start_time": "2023-03-11T12:11:24.257Z"
   },
   {
    "duration": 7,
    "start_time": "2023-03-11T12:11:24.593Z"
   },
   {
    "duration": 38,
    "start_time": "2023-03-11T12:11:24.601Z"
   },
   {
    "duration": 11,
    "start_time": "2023-03-11T12:11:24.640Z"
   },
   {
    "duration": 9,
    "start_time": "2023-03-11T12:12:21.150Z"
   },
   {
    "duration": 143,
    "start_time": "2023-03-11T12:13:26.533Z"
   },
   {
    "duration": 9,
    "start_time": "2023-03-11T12:13:40.285Z"
   },
   {
    "duration": 19,
    "start_time": "2023-03-11T12:13:55.835Z"
   },
   {
    "duration": 7,
    "start_time": "2023-03-11T12:13:57.458Z"
   },
   {
    "duration": 7,
    "start_time": "2023-03-11T12:13:59.692Z"
   },
   {
    "duration": 6,
    "start_time": "2023-03-11T12:14:01.120Z"
   },
   {
    "duration": 6,
    "start_time": "2023-03-11T12:14:02.913Z"
   },
   {
    "duration": 6,
    "start_time": "2023-03-11T12:14:04.694Z"
   },
   {
    "duration": 4,
    "start_time": "2023-03-11T12:17:37.844Z"
   },
   {
    "duration": 3,
    "start_time": "2023-03-11T12:18:30.318Z"
   },
   {
    "duration": 2,
    "start_time": "2023-03-11T12:31:22.546Z"
   },
   {
    "duration": 14,
    "start_time": "2023-03-11T12:32:47.223Z"
   },
   {
    "duration": 7,
    "start_time": "2023-03-11T12:33:05.734Z"
   },
   {
    "duration": 13,
    "start_time": "2023-03-11T12:33:22.007Z"
   },
   {
    "duration": 265,
    "start_time": "2023-03-11T12:34:55.858Z"
   },
   {
    "duration": 7,
    "start_time": "2023-03-11T12:35:03.579Z"
   },
   {
    "duration": 19,
    "start_time": "2023-03-11T12:35:04.718Z"
   },
   {
    "duration": 7,
    "start_time": "2023-03-11T12:35:06.450Z"
   },
   {
    "duration": 14,
    "start_time": "2023-03-11T12:38:00.048Z"
   },
   {
    "duration": 7,
    "start_time": "2023-03-11T12:38:18.390Z"
   },
   {
    "duration": 7,
    "start_time": "2023-03-11T12:38:22.254Z"
   },
   {
    "duration": 8,
    "start_time": "2023-03-11T12:39:03.322Z"
   },
   {
    "duration": 7,
    "start_time": "2023-03-11T12:39:08.541Z"
   },
   {
    "duration": 4,
    "start_time": "2023-03-11T12:51:39.640Z"
   },
   {
    "duration": 32,
    "start_time": "2023-03-11T12:52:53.178Z"
   },
   {
    "duration": 15,
    "start_time": "2023-03-11T12:57:38.446Z"
   },
   {
    "duration": 14,
    "start_time": "2023-03-11T12:57:40.718Z"
   },
   {
    "duration": 6,
    "start_time": "2023-03-11T13:00:53.343Z"
   },
   {
    "duration": 6,
    "start_time": "2023-03-11T13:01:00.996Z"
   },
   {
    "duration": 68,
    "start_time": "2023-03-11T13:01:44.656Z"
   },
   {
    "duration": 51,
    "start_time": "2023-03-11T13:01:51.591Z"
   },
   {
    "duration": 45,
    "start_time": "2023-03-11T13:02:01.309Z"
   },
   {
    "duration": 51,
    "start_time": "2023-03-11T13:02:36.076Z"
   },
   {
    "duration": 48,
    "start_time": "2023-03-11T13:02:52.449Z"
   },
   {
    "duration": 5,
    "start_time": "2023-03-11T13:02:58.246Z"
   },
   {
    "duration": 7,
    "start_time": "2023-03-11T13:04:40.679Z"
   },
   {
    "duration": 4,
    "start_time": "2023-03-11T13:19:11.019Z"
   },
   {
    "duration": 5,
    "start_time": "2023-03-11T13:22:36.530Z"
   },
   {
    "duration": 5,
    "start_time": "2023-03-11T13:22:54.296Z"
   },
   {
    "duration": 7,
    "start_time": "2023-03-11T13:24:18.209Z"
   },
   {
    "duration": 4,
    "start_time": "2023-03-11T13:24:18.593Z"
   },
   {
    "duration": 3,
    "start_time": "2023-03-11T13:24:58.398Z"
   },
   {
    "duration": 46,
    "start_time": "2023-03-11T13:29:52.621Z"
   },
   {
    "duration": 33554,
    "start_time": "2023-03-11T13:33:09.634Z"
   },
   {
    "duration": 43,
    "start_time": "2023-03-11T13:35:48.372Z"
   },
   {
    "duration": 32503,
    "start_time": "2023-03-11T13:36:06.310Z"
   },
   {
    "duration": 17314,
    "start_time": "2023-03-11T13:36:58.081Z"
   },
   {
    "duration": 0,
    "start_time": "2023-03-11T13:37:35.346Z"
   },
   {
    "duration": 30659,
    "start_time": "2023-03-11T13:37:36.152Z"
   },
   {
    "duration": 110,
    "start_time": "2023-03-11T13:38:08.922Z"
   },
   {
    "duration": 367,
    "start_time": "2023-03-11T13:39:16.957Z"
   },
   {
    "duration": 360,
    "start_time": "2023-03-11T13:39:25.891Z"
   },
   {
    "duration": 309,
    "start_time": "2023-03-11T13:39:32.937Z"
   },
   {
    "duration": 294,
    "start_time": "2023-03-11T13:39:41.679Z"
   },
   {
    "duration": 307,
    "start_time": "2023-03-11T13:39:46.666Z"
   },
   {
    "duration": 339,
    "start_time": "2023-03-11T13:39:50.420Z"
   },
   {
    "duration": 287,
    "start_time": "2023-03-11T13:39:53.152Z"
   },
   {
    "duration": 92,
    "start_time": "2023-03-11T13:52:38.820Z"
   },
   {
    "duration": 210,
    "start_time": "2023-03-11T13:56:30.358Z"
   },
   {
    "duration": 3465,
    "start_time": "2023-03-11T13:57:02.353Z"
   },
   {
    "duration": 324,
    "start_time": "2023-03-11T13:57:40.864Z"
   },
   {
    "duration": 308,
    "start_time": "2023-03-11T13:58:16.741Z"
   },
   {
    "duration": 6,
    "start_time": "2023-03-11T14:02:21.798Z"
   },
   {
    "duration": 5,
    "start_time": "2023-03-11T14:02:25.173Z"
   },
   {
    "duration": 1073,
    "start_time": "2023-03-11T14:15:27.618Z"
   },
   {
    "duration": 51,
    "start_time": "2023-03-11T14:15:28.693Z"
   },
   {
    "duration": 12,
    "start_time": "2023-03-11T14:15:28.746Z"
   },
   {
    "duration": 11,
    "start_time": "2023-03-11T14:15:28.760Z"
   },
   {
    "duration": 4,
    "start_time": "2023-03-11T14:15:28.775Z"
   },
   {
    "duration": 11,
    "start_time": "2023-03-11T14:15:28.781Z"
   },
   {
    "duration": 6,
    "start_time": "2023-03-11T14:15:28.793Z"
   },
   {
    "duration": 98,
    "start_time": "2023-03-11T14:15:28.800Z"
   },
   {
    "duration": 29745,
    "start_time": "2023-03-11T14:15:28.901Z"
   },
   {
    "duration": 355,
    "start_time": "2023-03-11T14:15:58.647Z"
   },
   {
    "duration": 20,
    "start_time": "2023-03-11T14:15:59.004Z"
   },
   {
    "duration": 24,
    "start_time": "2023-03-11T14:15:59.026Z"
   },
   {
    "duration": 7,
    "start_time": "2023-03-11T14:15:59.053Z"
   },
   {
    "duration": 11,
    "start_time": "2023-03-11T14:15:59.063Z"
   },
   {
    "duration": 7,
    "start_time": "2023-03-11T14:16:18.152Z"
   },
   {
    "duration": 1332,
    "start_time": "2023-03-11T14:38:37.079Z"
   },
   {
    "duration": 100,
    "start_time": "2023-03-11T14:38:38.413Z"
   },
   {
    "duration": 13,
    "start_time": "2023-03-11T14:38:38.515Z"
   },
   {
    "duration": 12,
    "start_time": "2023-03-11T14:38:38.531Z"
   },
   {
    "duration": 4,
    "start_time": "2023-03-11T14:38:38.545Z"
   },
   {
    "duration": 8,
    "start_time": "2023-03-11T14:38:38.552Z"
   },
   {
    "duration": 5,
    "start_time": "2023-03-11T14:38:38.562Z"
   },
   {
    "duration": 84,
    "start_time": "2023-03-11T14:38:38.569Z"
   },
   {
    "duration": 1132,
    "start_time": "2023-03-11T19:34:54.180Z"
   },
   {
    "duration": 88,
    "start_time": "2023-03-11T19:34:56.167Z"
   },
   {
    "duration": 12,
    "start_time": "2023-03-11T19:34:58.308Z"
   },
   {
    "duration": 8,
    "start_time": "2023-03-11T19:35:00.923Z"
   },
   {
    "duration": 5,
    "start_time": "2023-03-11T19:35:13.988Z"
   },
   {
    "duration": 7,
    "start_time": "2023-03-11T19:35:16.595Z"
   },
   {
    "duration": 5,
    "start_time": "2023-03-11T19:35:19.227Z"
   },
   {
    "duration": 80,
    "start_time": "2023-03-11T19:35:26.404Z"
   },
   {
    "duration": 123,
    "start_time": "2023-03-11T19:37:00.788Z"
   },
   {
    "duration": 8,
    "start_time": "2023-03-11T19:37:07.075Z"
   },
   {
    "duration": 9,
    "start_time": "2023-03-11T19:37:18.434Z"
   },
   {
    "duration": 9,
    "start_time": "2023-03-11T19:37:33.807Z"
   },
   {
    "duration": 7,
    "start_time": "2023-03-11T19:37:42.371Z"
   },
   {
    "duration": 8,
    "start_time": "2023-03-11T19:37:51.117Z"
   },
   {
    "duration": 9,
    "start_time": "2023-03-11T19:40:29.830Z"
   },
   {
    "duration": 12,
    "start_time": "2023-03-11T19:40:33.648Z"
   },
   {
    "duration": 3,
    "start_time": "2023-03-11T19:41:04.916Z"
   },
   {
    "duration": 12,
    "start_time": "2023-03-11T19:41:57.184Z"
   },
   {
    "duration": 11,
    "start_time": "2023-03-11T19:42:15.728Z"
   },
   {
    "duration": 11,
    "start_time": "2023-03-11T19:42:20.151Z"
   },
   {
    "duration": 9,
    "start_time": "2023-03-11T19:42:25.541Z"
   },
   {
    "duration": 44,
    "start_time": "2023-03-11T19:45:45.300Z"
   },
   {
    "duration": 117,
    "start_time": "2023-03-11T19:45:49.785Z"
   },
   {
    "duration": 53,
    "start_time": "2023-03-11T19:46:00.445Z"
   },
   {
    "duration": 112,
    "start_time": "2023-03-11T19:46:04.794Z"
   },
   {
    "duration": 121,
    "start_time": "2023-03-11T19:49:01.189Z"
   },
   {
    "duration": 112,
    "start_time": "2023-03-11T19:49:18.644Z"
   },
   {
    "duration": 116,
    "start_time": "2023-03-11T19:49:48.998Z"
   },
   {
    "duration": 17,
    "start_time": "2023-03-11T19:53:51.035Z"
   },
   {
    "duration": 989,
    "start_time": "2023-03-11T19:54:08.880Z"
   },
   {
    "duration": 970,
    "start_time": "2023-03-11T19:54:24.923Z"
   },
   {
    "duration": 1298,
    "start_time": "2023-03-11T19:54:34.230Z"
   },
   {
    "duration": 45,
    "start_time": "2023-03-11T19:54:49.790Z"
   },
   {
    "duration": 1119,
    "start_time": "2023-03-11T19:55:02.550Z"
   },
   {
    "duration": 969,
    "start_time": "2023-03-11T19:55:11.671Z"
   },
   {
    "duration": 44,
    "start_time": "2023-03-11T19:56:39.324Z"
   },
   {
    "duration": 969,
    "start_time": "2023-03-11T19:56:42.762Z"
   },
   {
    "duration": 983,
    "start_time": "2023-03-11T19:56:50.859Z"
   },
   {
    "duration": 880,
    "start_time": "2023-03-11T19:56:56.101Z"
   },
   {
    "duration": 377,
    "start_time": "2023-03-11T19:57:03.002Z"
   },
   {
    "duration": 362,
    "start_time": "2023-03-11T19:57:51.321Z"
   },
   {
    "duration": 6,
    "start_time": "2023-03-11T19:58:01.305Z"
   },
   {
    "duration": 8,
    "start_time": "2023-03-11T19:58:02.683Z"
   },
   {
    "duration": 9,
    "start_time": "2023-03-11T19:58:08.546Z"
   },
   {
    "duration": 30370,
    "start_time": "2023-03-11T19:58:21.079Z"
   },
   {
    "duration": 21,
    "start_time": "2023-03-11T19:59:06.773Z"
   },
   {
    "duration": 10,
    "start_time": "2023-03-11T19:59:12.440Z"
   },
   {
    "duration": 309,
    "start_time": "2023-03-11T19:59:55.398Z"
   },
   {
    "duration": 298,
    "start_time": "2023-03-11T20:00:36.936Z"
   },
   {
    "duration": 331,
    "start_time": "2023-03-11T20:01:24.055Z"
   },
   {
    "duration": 290,
    "start_time": "2023-03-11T20:01:38.940Z"
   },
   {
    "duration": 284,
    "start_time": "2023-03-11T20:02:41.080Z"
   },
   {
    "duration": 284,
    "start_time": "2023-03-11T20:02:49.166Z"
   },
   {
    "duration": 275,
    "start_time": "2023-03-11T20:02:58.006Z"
   },
   {
    "duration": 340,
    "start_time": "2023-03-11T20:03:05.182Z"
   },
   {
    "duration": 29032,
    "start_time": "2023-03-11T20:03:39.260Z"
   },
   {
    "duration": 338,
    "start_time": "2023-03-11T20:04:23.822Z"
   },
   {
    "duration": 270,
    "start_time": "2023-03-11T20:04:27.026Z"
   },
   {
    "duration": 301,
    "start_time": "2023-03-11T20:04:44.847Z"
   },
   {
    "duration": 305,
    "start_time": "2023-03-11T20:05:09.510Z"
   },
   {
    "duration": 31448,
    "start_time": "2023-03-11T20:05:19.818Z"
   },
   {
    "duration": 346,
    "start_time": "2023-03-11T20:06:34.574Z"
   },
   {
    "duration": 322,
    "start_time": "2023-03-11T20:07:32.958Z"
   },
   {
    "duration": 324,
    "start_time": "2023-03-11T20:08:05.475Z"
   },
   {
    "duration": 303,
    "start_time": "2023-03-11T20:08:37.572Z"
   },
   {
    "duration": 45,
    "start_time": "2023-03-11T20:11:30.077Z"
   },
   {
    "duration": 43,
    "start_time": "2023-03-11T20:11:34.302Z"
   },
   {
    "duration": 50,
    "start_time": "2023-03-11T20:12:04.652Z"
   },
   {
    "duration": 30876,
    "start_time": "2023-03-11T20:12:17.440Z"
   },
   {
    "duration": 446,
    "start_time": "2023-03-11T20:13:18.972Z"
   },
   {
    "duration": 22,
    "start_time": "2023-03-11T20:13:27.770Z"
   },
   {
    "duration": 3,
    "start_time": "2023-03-11T20:13:48.507Z"
   },
   {
    "duration": 43,
    "start_time": "2023-03-11T20:14:14.872Z"
   },
   {
    "duration": 120,
    "start_time": "2023-03-11T20:14:17.812Z"
   },
   {
    "duration": 11,
    "start_time": "2023-03-11T20:14:43.676Z"
   },
   {
    "duration": 11,
    "start_time": "2023-03-11T20:14:54.512Z"
   },
   {
    "duration": 238,
    "start_time": "2023-03-11T20:16:05.981Z"
   },
   {
    "duration": 13,
    "start_time": "2023-03-11T20:17:25.497Z"
   },
   {
    "duration": 12,
    "start_time": "2023-03-11T20:17:39.654Z"
   },
   {
    "duration": 9,
    "start_time": "2023-03-11T20:18:07.784Z"
   },
   {
    "duration": 11,
    "start_time": "2023-03-11T20:18:17.598Z"
   },
   {
    "duration": 12,
    "start_time": "2023-03-11T20:18:22.360Z"
   },
   {
    "duration": 558,
    "start_time": "2023-03-11T20:20:13.901Z"
   },
   {
    "duration": 39,
    "start_time": "2023-03-11T20:21:05.163Z"
   },
   {
    "duration": 30705,
    "start_time": "2023-03-11T20:21:18.794Z"
   },
   {
    "duration": 465,
    "start_time": "2023-03-11T20:21:49.501Z"
   },
   {
    "duration": 0,
    "start_time": "2023-03-11T20:24:07.079Z"
   },
   {
    "duration": 0,
    "start_time": "2023-03-11T20:24:07.080Z"
   },
   {
    "duration": 4,
    "start_time": "2023-03-11T20:24:08.268Z"
   },
   {
    "duration": 3,
    "start_time": "2023-03-11T20:24:13.621Z"
   },
   {
    "duration": 3,
    "start_time": "2023-03-11T20:24:19.768Z"
   },
   {
    "duration": 31000,
    "start_time": "2023-03-11T20:24:31.533Z"
   },
   {
    "duration": 3,
    "start_time": "2023-03-11T20:25:02.535Z"
   },
   {
    "duration": 303,
    "start_time": "2023-03-11T20:25:06.593Z"
   },
   {
    "duration": 29885,
    "start_time": "2023-03-11T20:26:23.395Z"
   },
   {
    "duration": 316,
    "start_time": "2023-03-11T20:26:53.282Z"
   },
   {
    "duration": 30622,
    "start_time": "2023-03-11T20:27:27.233Z"
   },
   {
    "duration": 242,
    "start_time": "2023-03-11T20:27:57.863Z"
   },
   {
    "duration": 194,
    "start_time": "2023-03-11T20:28:42.323Z"
   },
   {
    "duration": 43,
    "start_time": "2023-03-11T20:28:45.096Z"
   },
   {
    "duration": 191,
    "start_time": "2023-03-11T20:28:48.133Z"
   },
   {
    "duration": 231,
    "start_time": "2023-03-11T20:28:53.005Z"
   },
   {
    "duration": 276,
    "start_time": "2023-03-11T20:29:01.393Z"
   },
   {
    "duration": 45,
    "start_time": "2023-03-11T20:34:17.006Z"
   },
   {
    "duration": 41,
    "start_time": "2023-03-11T20:34:21.003Z"
   },
   {
    "duration": 47,
    "start_time": "2023-03-11T20:34:28.401Z"
   },
   {
    "duration": 53,
    "start_time": "2023-03-11T20:34:32.930Z"
   },
   {
    "duration": 55,
    "start_time": "2023-03-11T20:34:38.827Z"
   },
   {
    "duration": 218,
    "start_time": "2023-03-11T20:34:43.099Z"
   },
   {
    "duration": 676,
    "start_time": "2023-03-11T20:35:53.273Z"
   },
   {
    "duration": 310,
    "start_time": "2023-03-11T20:36:03.431Z"
   },
   {
    "duration": 283,
    "start_time": "2023-03-11T20:36:07.168Z"
   },
   {
    "duration": 157,
    "start_time": "2023-03-11T20:36:26.616Z"
   },
   {
    "duration": 54,
    "start_time": "2023-03-11T20:36:38.122Z"
   },
   {
    "duration": 18,
    "start_time": "2023-03-11T20:36:41.178Z"
   },
   {
    "duration": 18,
    "start_time": "2023-03-11T20:36:46.224Z"
   },
   {
    "duration": 63,
    "start_time": "2023-03-11T20:36:54.612Z"
   },
   {
    "duration": 170,
    "start_time": "2023-03-11T20:36:59.003Z"
   },
   {
    "duration": 185,
    "start_time": "2023-03-11T20:37:46.941Z"
   },
   {
    "duration": 267,
    "start_time": "2023-03-11T20:38:17.969Z"
   },
   {
    "duration": 12,
    "start_time": "2023-03-11T20:41:03.003Z"
   },
   {
    "duration": 12,
    "start_time": "2023-03-11T20:41:40.483Z"
   },
   {
    "duration": 51,
    "start_time": "2023-03-11T20:41:44.754Z"
   },
   {
    "duration": 10,
    "start_time": "2023-03-11T20:41:47.020Z"
   },
   {
    "duration": 8,
    "start_time": "2023-03-11T20:50:24.604Z"
   },
   {
    "duration": 7,
    "start_time": "2023-03-11T20:50:34.425Z"
   },
   {
    "duration": 18,
    "start_time": "2023-03-11T20:50:35.706Z"
   },
   {
    "duration": 17,
    "start_time": "2023-03-11T20:55:24.051Z"
   },
   {
    "duration": 41,
    "start_time": "2023-03-11T20:55:39.564Z"
   },
   {
    "duration": 130925,
    "start_time": "2023-03-11T20:55:43.403Z"
   },
   {
    "duration": 18,
    "start_time": "2023-03-11T20:58:21.368Z"
   },
   {
    "duration": 130759,
    "start_time": "2023-03-11T21:00:15.548Z"
   },
   {
    "duration": 15,
    "start_time": "2023-03-11T21:02:39.628Z"
   }
  ],
  "kernelspec": {
   "display_name": "Python 3 (ipykernel)",
   "language": "python",
   "name": "python3"
  },
  "language_info": {
   "codemirror_mode": {
    "name": "ipython",
    "version": 3
   },
   "file_extension": ".py",
   "mimetype": "text/x-python",
   "name": "python",
   "nbconvert_exporter": "python",
   "pygments_lexer": "ipython3",
   "version": "3.9.12"
  },
  "toc": {
   "base_numbering": 1,
   "nav_menu": {},
   "number_sections": true,
   "sideBar": true,
   "skip_h1_title": true,
   "title_cell": "Table of Contents",
   "title_sidebar": "Contents",
   "toc_cell": false,
   "toc_position": {},
   "toc_section_display": true,
   "toc_window_display": false
  }
 },
 "nbformat": 4,
 "nbformat_minor": 2
}
