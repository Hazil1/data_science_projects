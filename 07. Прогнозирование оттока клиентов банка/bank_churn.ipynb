{
 "cells": [
  {
   "cell_type": "markdown",
   "metadata": {
    "toc": true
   },
   "source": [
    "<h1>Содержание<span class=\"tocSkip\"></span></h1>\n",
    "<div class=\"toc\"><ul class=\"toc-item\"><li><span><a href=\"#Подготовка-данных\" data-toc-modified-id=\"Подготовка-данных-1\"><span class=\"toc-item-num\">1&nbsp;&nbsp;</span>Подготовка данных</a></span><ul class=\"toc-item\"><li><span><a href=\"#Ознакомимся-с-данными\" data-toc-modified-id=\"Ознакомимся-с-данными-1.1\"><span class=\"toc-item-num\">1.1&nbsp;&nbsp;</span>Ознакомимся с данными</a></span></li><li><span><a href=\"#Переименование-столбцов\" data-toc-modified-id=\"Переименование-столбцов-1.2\"><span class=\"toc-item-num\">1.2&nbsp;&nbsp;</span>Переименование столбцов</a></span></li><li><span><a href=\"#Устранение-пропусков\" data-toc-modified-id=\"Устранение-пропусков-1.3\"><span class=\"toc-item-num\">1.3&nbsp;&nbsp;</span>Устранение пропусков</a></span></li><li><span><a href=\"#Исключение-столбцов-из-датасета\" data-toc-modified-id=\"Исключение-столбцов-из-датасета-1.4\"><span class=\"toc-item-num\">1.4&nbsp;&nbsp;</span>Исключение столбцов из датасета</a></span></li><li><span><a href=\"#Разделение-датасета\" data-toc-modified-id=\"Разделение-датасета-1.5\"><span class=\"toc-item-num\">1.5&nbsp;&nbsp;</span>Разделение датасета</a></span></li><li><span><a href=\"#Преобразование-данных-методом-One-Hot-Encoding\" data-toc-modified-id=\"Преобразование-данных-методом-One-Hot-Encoding-1.6\"><span class=\"toc-item-num\">1.6&nbsp;&nbsp;</span>Преобразование данных методом One-Hot-Encoding</a></span></li><li><span><a href=\"#Масштабирование-данных\" data-toc-modified-id=\"Масштабирование-данных-1.7\"><span class=\"toc-item-num\">1.7&nbsp;&nbsp;</span>Масштабирование данных</a></span></li><li><span><a href=\"#Вывод-по-разделу\" data-toc-modified-id=\"Вывод-по-разделу-1.8\"><span class=\"toc-item-num\">1.8&nbsp;&nbsp;</span>Вывод по разделу</a></span></li></ul></li><li><span><a href=\"#Исследование-задачи\" data-toc-modified-id=\"Исследование-задачи-2\"><span class=\"toc-item-num\">2&nbsp;&nbsp;</span>Исследование задачи</a></span><ul class=\"toc-item\"><li><span><a href=\"#Обучение-модели\" data-toc-modified-id=\"Обучение-модели-2.1\"><span class=\"toc-item-num\">2.1&nbsp;&nbsp;</span>Обучение модели</a></span></li><li><span><a href=\"#Вывод-по-разделу\" data-toc-modified-id=\"Вывод-по-разделу-2.2\"><span class=\"toc-item-num\">2.2&nbsp;&nbsp;</span>Вывод по разделу</a></span></li></ul></li><li><span><a href=\"#Борьба-с-дисбалансом\" data-toc-modified-id=\"Борьба-с-дисбалансом-3\"><span class=\"toc-item-num\">3&nbsp;&nbsp;</span>Борьба с дисбалансом</a></span><ul class=\"toc-item\"><li><span><a href=\"#Изменение-веса-классов\" data-toc-modified-id=\"Изменение-веса-классов-3.1\"><span class=\"toc-item-num\">3.1&nbsp;&nbsp;</span>Изменение веса классов</a></span></li><li><span><a href=\"#Увеличение-выборки-(upsampling)\" data-toc-modified-id=\"Увеличение-выборки-(upsampling)-3.2\"><span class=\"toc-item-num\">3.2&nbsp;&nbsp;</span>Увеличение выборки (upsampling)</a></span><ul class=\"toc-item\"><li><span><a href=\"#Обучим-модели-после-увеличения-выборки\" data-toc-modified-id=\"Обучим-модели-после-увеличения-выборки-3.2.1\"><span class=\"toc-item-num\">3.2.1&nbsp;&nbsp;</span>Обучим модели после увеличения выборки</a></span></li></ul></li><li><span><a href=\"#Уменьшение-выборки-(downsampling)\" data-toc-modified-id=\"Уменьшение-выборки-(downsampling)-3.3\"><span class=\"toc-item-num\">3.3&nbsp;&nbsp;</span>Уменьшение выборки (downsampling)</a></span><ul class=\"toc-item\"><li><span><a href=\"#Обучим-модели-после-уменьшения-выборки\" data-toc-modified-id=\"Обучим-модели-после-уменьшения-выборки-3.3.1\"><span class=\"toc-item-num\">3.3.1&nbsp;&nbsp;</span>Обучим модели после уменьшения выборки</a></span></li></ul></li><li><span><a href=\"#Вывод-по-разделу\" data-toc-modified-id=\"Вывод-по-разделу-3.4\"><span class=\"toc-item-num\">3.4&nbsp;&nbsp;</span>Вывод по разделу</a></span></li></ul></li><li><span><a href=\"#Тестирование-модели\" data-toc-modified-id=\"Тестирование-модели-4\"><span class=\"toc-item-num\">4&nbsp;&nbsp;</span>Тестирование модели</a></span><ul class=\"toc-item\"><li><span><a href=\"#Проверим-метрику-F1-на-dummy---модели\" data-toc-modified-id=\"Проверим-метрику-F1-на-dummy---модели-4.1\"><span class=\"toc-item-num\">4.1&nbsp;&nbsp;</span>Проверим метрику F1 на dummy - модели</a></span></li></ul></li><li><span><a href=\"#Вывод\" data-toc-modified-id=\"Вывод-5\"><span class=\"toc-item-num\">5&nbsp;&nbsp;</span>Вывод</a></span></li><li><span><a href=\"#Чек-лист-готовности-проекта\" data-toc-modified-id=\"Чек-лист-готовности-проекта-6\"><span class=\"toc-item-num\">6&nbsp;&nbsp;</span>Чек-лист готовности проекта</a></span></li></ul></div>"
   ]
  },
  {
   "cell_type": "markdown",
   "metadata": {},
   "source": [
    "# Отток клиентов"
   ]
  },
  {
   "cell_type": "markdown",
   "metadata": {},
   "source": [
    "Из «Бета-Банка» стали уходить клиенты. Каждый месяц. Немного, но заметно. Банковские маркетологи посчитали: сохранять текущих клиентов дешевле, чем привлекать новых.\n",
    "\n",
    "Нужно спрогнозировать, уйдёт клиент из банка в ближайшее время или нет. Вам предоставлены исторические данные о поведении клиентов и расторжении договоров с банком. \n",
    "\n",
    "Постройте модель с предельно большим значением *F1*-меры. Чтобы сдать проект успешно, нужно довести метрику до 0.59. Проверьте *F1*-меру на тестовой выборке самостоятельно.\n",
    "\n",
    "Дополнительно измеряйте *AUC-ROC*, сравнивайте её значение с *F1*-мерой.\n",
    "\n",
    "Источник данных: [https://www.kaggle.com/barelydedicated/bank-customer-churn-modeling](https://www.kaggle.com/barelydedicated/bank-customer-churn-modeling)"
   ]
  },
  {
   "cell_type": "code",
   "execution_count": 1,
   "metadata": {},
   "outputs": [
    {
     "name": "stdout",
     "output_type": "stream",
     "text": [
      "Requirement already satisfied: scikit-learn==1.1.3 in /opt/conda/lib/python3.9/site-packages (1.1.3)\n",
      "Requirement already satisfied: joblib>=1.0.0 in /opt/conda/lib/python3.9/site-packages (from scikit-learn==1.1.3) (1.1.0)\n",
      "Requirement already satisfied: threadpoolctl>=2.0.0 in /opt/conda/lib/python3.9/site-packages (from scikit-learn==1.1.3) (3.1.0)\n",
      "Requirement already satisfied: numpy>=1.17.3 in /opt/conda/lib/python3.9/site-packages (from scikit-learn==1.1.3) (1.21.1)\n",
      "Requirement already satisfied: scipy>=1.3.2 in /opt/conda/lib/python3.9/site-packages (from scikit-learn==1.1.3) (1.9.1)\n"
     ]
    }
   ],
   "source": [
    "!pip install scikit-learn==1.1.3"
   ]
  },
  {
   "cell_type": "code",
   "execution_count": 2,
   "metadata": {},
   "outputs": [],
   "source": [
    "# Импортируем необходимые библиотеки\n",
    "import pandas as pd\n",
    "import matplotlib.pyplot as plt\n",
    "import seaborn as sns\n",
    "\n",
    "from sklearn.preprocessing import StandardScaler, OneHotEncoder\n",
    "from sklearn.model_selection import train_test_split\n",
    "from sklearn.linear_model import LogisticRegression\n",
    "from sklearn.tree import DecisionTreeClassifier\n",
    "from sklearn.ensemble import RandomForestClassifier\n",
    "from sklearn.utils import shuffle\n",
    "from sklearn.metrics import (\n",
    "    f1_score, \n",
    "    roc_auc_score, \n",
    "    roc_curve,\n",
    "    recall_score\n",
    ")\n"
   ]
  },
  {
   "cell_type": "markdown",
   "metadata": {},
   "source": [
    "## Подготовка данных"
   ]
  },
  {
   "cell_type": "markdown",
   "metadata": {},
   "source": [
    "В ходе подготовки данных будет проведены следующие операции:\n",
    "1. Разгрузка, сохранение данных и ознакомление с данными\n",
    "2. Переименование столбцов (при необходимости)\n",
    "3. Проверка на наличие дубликатов\n",
    "4. Проверка пропусков и их устранение\n",
    "5. Преобразование категориальных данных методом\n",
    "6. Масштабирование данных \n",
    "7. Разделение данных на обучающую, валидационную и тестовую выборки."
   ]
  },
  {
   "cell_type": "markdown",
   "metadata": {},
   "source": [
    "### Ознакомимся с данными"
   ]
  },
  {
   "cell_type": "code",
   "execution_count": 3,
   "metadata": {},
   "outputs": [
    {
     "data": {
      "text/html": [
       "<div>\n",
       "<style scoped>\n",
       "    .dataframe tbody tr th:only-of-type {\n",
       "        vertical-align: middle;\n",
       "    }\n",
       "\n",
       "    .dataframe tbody tr th {\n",
       "        vertical-align: top;\n",
       "    }\n",
       "\n",
       "    .dataframe thead th {\n",
       "        text-align: right;\n",
       "    }\n",
       "</style>\n",
       "<table border=\"1\" class=\"dataframe\">\n",
       "  <thead>\n",
       "    <tr style=\"text-align: right;\">\n",
       "      <th></th>\n",
       "      <th>RowNumber</th>\n",
       "      <th>CustomerId</th>\n",
       "      <th>Surname</th>\n",
       "      <th>CreditScore</th>\n",
       "      <th>Geography</th>\n",
       "      <th>Gender</th>\n",
       "      <th>Age</th>\n",
       "      <th>Tenure</th>\n",
       "      <th>Balance</th>\n",
       "      <th>NumOfProducts</th>\n",
       "      <th>HasCrCard</th>\n",
       "      <th>IsActiveMember</th>\n",
       "      <th>EstimatedSalary</th>\n",
       "      <th>Exited</th>\n",
       "    </tr>\n",
       "  </thead>\n",
       "  <tbody>\n",
       "    <tr>\n",
       "      <th>0</th>\n",
       "      <td>1</td>\n",
       "      <td>15634602</td>\n",
       "      <td>Hargrave</td>\n",
       "      <td>619</td>\n",
       "      <td>France</td>\n",
       "      <td>Female</td>\n",
       "      <td>42</td>\n",
       "      <td>2.0</td>\n",
       "      <td>0.00</td>\n",
       "      <td>1</td>\n",
       "      <td>1</td>\n",
       "      <td>1</td>\n",
       "      <td>101348.88</td>\n",
       "      <td>1</td>\n",
       "    </tr>\n",
       "    <tr>\n",
       "      <th>1</th>\n",
       "      <td>2</td>\n",
       "      <td>15647311</td>\n",
       "      <td>Hill</td>\n",
       "      <td>608</td>\n",
       "      <td>Spain</td>\n",
       "      <td>Female</td>\n",
       "      <td>41</td>\n",
       "      <td>1.0</td>\n",
       "      <td>83807.86</td>\n",
       "      <td>1</td>\n",
       "      <td>0</td>\n",
       "      <td>1</td>\n",
       "      <td>112542.58</td>\n",
       "      <td>0</td>\n",
       "    </tr>\n",
       "    <tr>\n",
       "      <th>2</th>\n",
       "      <td>3</td>\n",
       "      <td>15619304</td>\n",
       "      <td>Onio</td>\n",
       "      <td>502</td>\n",
       "      <td>France</td>\n",
       "      <td>Female</td>\n",
       "      <td>42</td>\n",
       "      <td>8.0</td>\n",
       "      <td>159660.80</td>\n",
       "      <td>3</td>\n",
       "      <td>1</td>\n",
       "      <td>0</td>\n",
       "      <td>113931.57</td>\n",
       "      <td>1</td>\n",
       "    </tr>\n",
       "    <tr>\n",
       "      <th>3</th>\n",
       "      <td>4</td>\n",
       "      <td>15701354</td>\n",
       "      <td>Boni</td>\n",
       "      <td>699</td>\n",
       "      <td>France</td>\n",
       "      <td>Female</td>\n",
       "      <td>39</td>\n",
       "      <td>1.0</td>\n",
       "      <td>0.00</td>\n",
       "      <td>2</td>\n",
       "      <td>0</td>\n",
       "      <td>0</td>\n",
       "      <td>93826.63</td>\n",
       "      <td>0</td>\n",
       "    </tr>\n",
       "    <tr>\n",
       "      <th>4</th>\n",
       "      <td>5</td>\n",
       "      <td>15737888</td>\n",
       "      <td>Mitchell</td>\n",
       "      <td>850</td>\n",
       "      <td>Spain</td>\n",
       "      <td>Female</td>\n",
       "      <td>43</td>\n",
       "      <td>2.0</td>\n",
       "      <td>125510.82</td>\n",
       "      <td>1</td>\n",
       "      <td>1</td>\n",
       "      <td>1</td>\n",
       "      <td>79084.10</td>\n",
       "      <td>0</td>\n",
       "    </tr>\n",
       "  </tbody>\n",
       "</table>\n",
       "</div>"
      ],
      "text/plain": [
       "   RowNumber  CustomerId   Surname  CreditScore Geography  Gender  Age  \\\n",
       "0          1    15634602  Hargrave          619    France  Female   42   \n",
       "1          2    15647311      Hill          608     Spain  Female   41   \n",
       "2          3    15619304      Onio          502    France  Female   42   \n",
       "3          4    15701354      Boni          699    France  Female   39   \n",
       "4          5    15737888  Mitchell          850     Spain  Female   43   \n",
       "\n",
       "   Tenure    Balance  NumOfProducts  HasCrCard  IsActiveMember  \\\n",
       "0     2.0       0.00              1          1               1   \n",
       "1     1.0   83807.86              1          0               1   \n",
       "2     8.0  159660.80              3          1               0   \n",
       "3     1.0       0.00              2          0               0   \n",
       "4     2.0  125510.82              1          1               1   \n",
       "\n",
       "   EstimatedSalary  Exited  \n",
       "0        101348.88       1  \n",
       "1        112542.58       0  \n",
       "2        113931.57       1  \n",
       "3         93826.63       0  \n",
       "4         79084.10       0  "
      ]
     },
     "execution_count": 3,
     "metadata": {},
     "output_type": "execute_result"
    }
   ],
   "source": [
    "# Загрузим датасет и сохраним его в data\n",
    "data = pd.read_csv('/datasets/Churn.csv')\n",
    "\n",
    "data.head() # выведем первые 5 столбцов датасета"
   ]
  },
  {
   "cell_type": "code",
   "execution_count": 4,
   "metadata": {},
   "outputs": [
    {
     "name": "stdout",
     "output_type": "stream",
     "text": [
      "<class 'pandas.core.frame.DataFrame'>\n",
      "RangeIndex: 10000 entries, 0 to 9999\n",
      "Data columns (total 14 columns):\n",
      " #   Column           Non-Null Count  Dtype  \n",
      "---  ------           --------------  -----  \n",
      " 0   RowNumber        10000 non-null  int64  \n",
      " 1   CustomerId       10000 non-null  int64  \n",
      " 2   Surname          10000 non-null  object \n",
      " 3   CreditScore      10000 non-null  int64  \n",
      " 4   Geography        10000 non-null  object \n",
      " 5   Gender           10000 non-null  object \n",
      " 6   Age              10000 non-null  int64  \n",
      " 7   Tenure           9091 non-null   float64\n",
      " 8   Balance          10000 non-null  float64\n",
      " 9   NumOfProducts    10000 non-null  int64  \n",
      " 10  HasCrCard        10000 non-null  int64  \n",
      " 11  IsActiveMember   10000 non-null  int64  \n",
      " 12  EstimatedSalary  10000 non-null  float64\n",
      " 13  Exited           10000 non-null  int64  \n",
      "dtypes: float64(3), int64(8), object(3)\n",
      "memory usage: 1.1+ MB\n"
     ]
    }
   ],
   "source": [
    "# Посмотрим на общую информацию по датасету\n",
    "data.info()"
   ]
  },
  {
   "cell_type": "code",
   "execution_count": 5,
   "metadata": {},
   "outputs": [
    {
     "data": {
      "text/plain": [
       "0"
      ]
     },
     "execution_count": 5,
     "metadata": {},
     "output_type": "execute_result"
    }
   ],
   "source": [
    "# Проверим наличие дубликатов в данных\n",
    "data.duplicated().sum()"
   ]
  },
  {
   "cell_type": "markdown",
   "metadata": {},
   "source": [
    "### Переименование столбцов\n",
    "Переименуем названия столбцов и приведем их к единому виду для удобства"
   ]
  },
  {
   "cell_type": "code",
   "execution_count": 6,
   "metadata": {},
   "outputs": [
    {
     "data": {
      "text/html": [
       "<div>\n",
       "<style scoped>\n",
       "    .dataframe tbody tr th:only-of-type {\n",
       "        vertical-align: middle;\n",
       "    }\n",
       "\n",
       "    .dataframe tbody tr th {\n",
       "        vertical-align: top;\n",
       "    }\n",
       "\n",
       "    .dataframe thead th {\n",
       "        text-align: right;\n",
       "    }\n",
       "</style>\n",
       "<table border=\"1\" class=\"dataframe\">\n",
       "  <thead>\n",
       "    <tr style=\"text-align: right;\">\n",
       "      <th></th>\n",
       "      <th>row_number</th>\n",
       "      <th>customer_id</th>\n",
       "      <th>surname</th>\n",
       "      <th>credit_score</th>\n",
       "      <th>geography</th>\n",
       "      <th>gender</th>\n",
       "      <th>age</th>\n",
       "      <th>tenure</th>\n",
       "      <th>balance</th>\n",
       "      <th>num_of_products</th>\n",
       "      <th>has_cr_card</th>\n",
       "      <th>is_active_member</th>\n",
       "      <th>estimated_salary</th>\n",
       "      <th>exited</th>\n",
       "    </tr>\n",
       "  </thead>\n",
       "  <tbody>\n",
       "    <tr>\n",
       "      <th>0</th>\n",
       "      <td>1</td>\n",
       "      <td>15634602</td>\n",
       "      <td>Hargrave</td>\n",
       "      <td>619</td>\n",
       "      <td>France</td>\n",
       "      <td>Female</td>\n",
       "      <td>42</td>\n",
       "      <td>2.0</td>\n",
       "      <td>0.00</td>\n",
       "      <td>1</td>\n",
       "      <td>1</td>\n",
       "      <td>1</td>\n",
       "      <td>101348.88</td>\n",
       "      <td>1</td>\n",
       "    </tr>\n",
       "    <tr>\n",
       "      <th>1</th>\n",
       "      <td>2</td>\n",
       "      <td>15647311</td>\n",
       "      <td>Hill</td>\n",
       "      <td>608</td>\n",
       "      <td>Spain</td>\n",
       "      <td>Female</td>\n",
       "      <td>41</td>\n",
       "      <td>1.0</td>\n",
       "      <td>83807.86</td>\n",
       "      <td>1</td>\n",
       "      <td>0</td>\n",
       "      <td>1</td>\n",
       "      <td>112542.58</td>\n",
       "      <td>0</td>\n",
       "    </tr>\n",
       "    <tr>\n",
       "      <th>2</th>\n",
       "      <td>3</td>\n",
       "      <td>15619304</td>\n",
       "      <td>Onio</td>\n",
       "      <td>502</td>\n",
       "      <td>France</td>\n",
       "      <td>Female</td>\n",
       "      <td>42</td>\n",
       "      <td>8.0</td>\n",
       "      <td>159660.80</td>\n",
       "      <td>3</td>\n",
       "      <td>1</td>\n",
       "      <td>0</td>\n",
       "      <td>113931.57</td>\n",
       "      <td>1</td>\n",
       "    </tr>\n",
       "    <tr>\n",
       "      <th>3</th>\n",
       "      <td>4</td>\n",
       "      <td>15701354</td>\n",
       "      <td>Boni</td>\n",
       "      <td>699</td>\n",
       "      <td>France</td>\n",
       "      <td>Female</td>\n",
       "      <td>39</td>\n",
       "      <td>1.0</td>\n",
       "      <td>0.00</td>\n",
       "      <td>2</td>\n",
       "      <td>0</td>\n",
       "      <td>0</td>\n",
       "      <td>93826.63</td>\n",
       "      <td>0</td>\n",
       "    </tr>\n",
       "    <tr>\n",
       "      <th>4</th>\n",
       "      <td>5</td>\n",
       "      <td>15737888</td>\n",
       "      <td>Mitchell</td>\n",
       "      <td>850</td>\n",
       "      <td>Spain</td>\n",
       "      <td>Female</td>\n",
       "      <td>43</td>\n",
       "      <td>2.0</td>\n",
       "      <td>125510.82</td>\n",
       "      <td>1</td>\n",
       "      <td>1</td>\n",
       "      <td>1</td>\n",
       "      <td>79084.10</td>\n",
       "      <td>0</td>\n",
       "    </tr>\n",
       "  </tbody>\n",
       "</table>\n",
       "</div>"
      ],
      "text/plain": [
       "   row_number  customer_id   surname  credit_score geography  gender  age  \\\n",
       "0           1     15634602  Hargrave           619    France  Female   42   \n",
       "1           2     15647311      Hill           608     Spain  Female   41   \n",
       "2           3     15619304      Onio           502    France  Female   42   \n",
       "3           4     15701354      Boni           699    France  Female   39   \n",
       "4           5     15737888  Mitchell           850     Spain  Female   43   \n",
       "\n",
       "   tenure    balance  num_of_products  has_cr_card  is_active_member  \\\n",
       "0     2.0       0.00                1            1                 1   \n",
       "1     1.0   83807.86                1            0                 1   \n",
       "2     8.0  159660.80                3            1                 0   \n",
       "3     1.0       0.00                2            0                 0   \n",
       "4     2.0  125510.82                1            1                 1   \n",
       "\n",
       "   estimated_salary  exited  \n",
       "0         101348.88       1  \n",
       "1         112542.58       0  \n",
       "2         113931.57       1  \n",
       "3          93826.63       0  \n",
       "4          79084.10       0  "
      ]
     },
     "execution_count": 6,
     "metadata": {},
     "output_type": "execute_result"
    }
   ],
   "source": [
    "data = data.rename(columns={'RowNumber': 'row_number',\n",
    "                            'CustomerId': 'customer_id',\n",
    "                            'Surname': 'surname',\n",
    "                            'CreditScore': 'credit_score',\n",
    "                            'Geography': 'geography',\n",
    "                            'Gender': 'gender',\n",
    "                            'Age': 'age',\n",
    "                            'Tenure': 'tenure',\n",
    "                            'Balance': 'balance',\n",
    "                            'NumOfProducts': 'num_of_products',\n",
    "                            'HasCrCard': 'has_cr_card',\n",
    "                            'IsActiveMember': 'is_active_member',\n",
    "                            'EstimatedSalary': 'estimated_salary',\n",
    "                            'Exited': 'exited'})\n",
    "\n",
    "data.head()"
   ]
  },
  {
   "cell_type": "markdown",
   "metadata": {},
   "source": [
    "В датасете есть следующие столбцы:\n",
    "\n",
    "- `row_number` - индекс строки в данных\n",
    "- `customer_id` - уникальный идентификатор клиента\n",
    "- `surname` - фамилия\n",
    "- `credit_score` - кредитный рейтинг\n",
    "- `geography` - страна проживания\n",
    "- `gender` - пол\n",
    "- `age` - возраст\n",
    "- `tenure` - сколько лет человек является клиентом банка\n",
    "- `balance` - балансе на счёте\n",
    "- `num_of_products` - количество продуктов банка, используемых клиентом\n",
    "- `has_cr_card` - наличие кредитной карты\n",
    "- `is_active_member` - активность клиента\n",
    "- `estimated_salary` - предполагаемая зарплата\n",
    "- `exited` - факт ухода клиента\n",
    "\n",
    "**Целевой признак - `exited` - факт ухода клиента.**"
   ]
  },
  {
   "cell_type": "markdown",
   "metadata": {},
   "source": [
    "### Устранение пропусков"
   ]
  },
  {
   "cell_type": "markdown",
   "metadata": {},
   "source": [
    "Видно большое количество пропусков в признаке `tenure`, возможно это клиенты, которые пользуются услугами банка менее одного года. Проверим это, проверив уникальные значения в признаке."
   ]
  },
  {
   "cell_type": "code",
   "execution_count": 7,
   "metadata": {},
   "outputs": [
    {
     "data": {
      "text/plain": [
       "array([ 0.,  1.,  2.,  3.,  4.,  5.,  6.,  7.,  8.,  9., 10., nan])"
      ]
     },
     "execution_count": 7,
     "metadata": {},
     "output_type": "execute_result"
    }
   ],
   "source": [
    "data['tenure'].sort_values().unique()"
   ]
  },
  {
   "cell_type": "markdown",
   "metadata": {},
   "source": [
    "В списке ункальных значений есть значение **0**, моё первое предположение оказалось не верным. \n",
    "\n",
    "Максимальное количество лет в списке - **10**, возможно клиенты с пропусками в данном столбце являются клиентами банка более 10 лет. Заполним пропуски медианным значением "
   ]
  },
  {
   "cell_type": "code",
   "execution_count": 8,
   "metadata": {},
   "outputs": [
    {
     "data": {
      "text/plain": [
       "0"
      ]
     },
     "execution_count": 8,
     "metadata": {},
     "output_type": "execute_result"
    }
   ],
   "source": [
    "data['tenure'].fillna(data['tenure'].median(), inplace=True)\n",
    "data['tenure'].isna().sum()"
   ]
  },
  {
   "cell_type": "code",
   "execution_count": 9,
   "metadata": {},
   "outputs": [
    {
     "data": {
      "text/plain": [
       "array([ 0.,  1.,  2.,  3.,  4.,  5.,  6.,  7.,  8.,  9., 10.])"
      ]
     },
     "execution_count": 9,
     "metadata": {},
     "output_type": "execute_result"
    }
   ],
   "source": [
    "data['tenure'].sort_values().unique()"
   ]
  },
  {
   "cell_type": "markdown",
   "metadata": {},
   "source": [
    "### Исключение столбцов из датасета"
   ]
  },
  {
   "cell_type": "markdown",
   "metadata": {},
   "source": [
    "В датасете присутствуют признаки, которые никак не дожны влиять на целевой признак, при обучении модели такие данные могут только помешать. \n",
    "\n",
    "Данные из столбца `row_number` по сути дублирую индекс - исключим этот столбец из датасета для обучения модели.\n",
    "\n",
    "Признаки `customer_id` и `surname` необходимо так же исключить, т.к. id и фамилия человека никак не влияют на то будет ли дальше он пользоваться услугами банка.\n",
    "\n"
   ]
  },
  {
   "cell_type": "code",
   "execution_count": 10,
   "metadata": {},
   "outputs": [
    {
     "data": {
      "text/html": [
       "<div>\n",
       "<style scoped>\n",
       "    .dataframe tbody tr th:only-of-type {\n",
       "        vertical-align: middle;\n",
       "    }\n",
       "\n",
       "    .dataframe tbody tr th {\n",
       "        vertical-align: top;\n",
       "    }\n",
       "\n",
       "    .dataframe thead th {\n",
       "        text-align: right;\n",
       "    }\n",
       "</style>\n",
       "<table border=\"1\" class=\"dataframe\">\n",
       "  <thead>\n",
       "    <tr style=\"text-align: right;\">\n",
       "      <th></th>\n",
       "      <th>credit_score</th>\n",
       "      <th>geography</th>\n",
       "      <th>gender</th>\n",
       "      <th>age</th>\n",
       "      <th>tenure</th>\n",
       "      <th>balance</th>\n",
       "      <th>num_of_products</th>\n",
       "      <th>has_cr_card</th>\n",
       "      <th>is_active_member</th>\n",
       "      <th>estimated_salary</th>\n",
       "      <th>exited</th>\n",
       "    </tr>\n",
       "  </thead>\n",
       "  <tbody>\n",
       "    <tr>\n",
       "      <th>0</th>\n",
       "      <td>619</td>\n",
       "      <td>France</td>\n",
       "      <td>Female</td>\n",
       "      <td>42</td>\n",
       "      <td>2.0</td>\n",
       "      <td>0.00</td>\n",
       "      <td>1</td>\n",
       "      <td>1</td>\n",
       "      <td>1</td>\n",
       "      <td>101348.88</td>\n",
       "      <td>1</td>\n",
       "    </tr>\n",
       "    <tr>\n",
       "      <th>1</th>\n",
       "      <td>608</td>\n",
       "      <td>Spain</td>\n",
       "      <td>Female</td>\n",
       "      <td>41</td>\n",
       "      <td>1.0</td>\n",
       "      <td>83807.86</td>\n",
       "      <td>1</td>\n",
       "      <td>0</td>\n",
       "      <td>1</td>\n",
       "      <td>112542.58</td>\n",
       "      <td>0</td>\n",
       "    </tr>\n",
       "    <tr>\n",
       "      <th>2</th>\n",
       "      <td>502</td>\n",
       "      <td>France</td>\n",
       "      <td>Female</td>\n",
       "      <td>42</td>\n",
       "      <td>8.0</td>\n",
       "      <td>159660.80</td>\n",
       "      <td>3</td>\n",
       "      <td>1</td>\n",
       "      <td>0</td>\n",
       "      <td>113931.57</td>\n",
       "      <td>1</td>\n",
       "    </tr>\n",
       "    <tr>\n",
       "      <th>3</th>\n",
       "      <td>699</td>\n",
       "      <td>France</td>\n",
       "      <td>Female</td>\n",
       "      <td>39</td>\n",
       "      <td>1.0</td>\n",
       "      <td>0.00</td>\n",
       "      <td>2</td>\n",
       "      <td>0</td>\n",
       "      <td>0</td>\n",
       "      <td>93826.63</td>\n",
       "      <td>0</td>\n",
       "    </tr>\n",
       "    <tr>\n",
       "      <th>4</th>\n",
       "      <td>850</td>\n",
       "      <td>Spain</td>\n",
       "      <td>Female</td>\n",
       "      <td>43</td>\n",
       "      <td>2.0</td>\n",
       "      <td>125510.82</td>\n",
       "      <td>1</td>\n",
       "      <td>1</td>\n",
       "      <td>1</td>\n",
       "      <td>79084.10</td>\n",
       "      <td>0</td>\n",
       "    </tr>\n",
       "  </tbody>\n",
       "</table>\n",
       "</div>"
      ],
      "text/plain": [
       "   credit_score geography  gender  age  tenure    balance  num_of_products  \\\n",
       "0           619    France  Female   42     2.0       0.00                1   \n",
       "1           608     Spain  Female   41     1.0   83807.86                1   \n",
       "2           502    France  Female   42     8.0  159660.80                3   \n",
       "3           699    France  Female   39     1.0       0.00                2   \n",
       "4           850     Spain  Female   43     2.0  125510.82                1   \n",
       "\n",
       "   has_cr_card  is_active_member  estimated_salary  exited  \n",
       "0            1                 1         101348.88       1  \n",
       "1            0                 1         112542.58       0  \n",
       "2            1                 0         113931.57       1  \n",
       "3            0                 0          93826.63       0  \n",
       "4            1                 1          79084.10       0  "
      ]
     },
     "execution_count": 10,
     "metadata": {},
     "output_type": "execute_result"
    }
   ],
   "source": [
    "good_data = data.drop(['row_number', 'customer_id', 'surname'], axis=1)\n",
    "\n",
    "good_data.head()"
   ]
  },
  {
   "cell_type": "markdown",
   "metadata": {},
   "source": [
    "### Разделение датасета "
   ]
  },
  {
   "cell_type": "markdown",
   "metadata": {},
   "source": [
    "Необходимо разделить датасет на три части:\n",
    "1. Тренировочные данные\n",
    "2. Валидационный данные\n",
    "3. Тестовые данные\n",
    "\n",
    "Для тренировочной выборки возьмем 60% от всего датасета, для валидационной и тестовой по 20%"
   ]
  },
  {
   "cell_type": "code",
   "execution_count": 11,
   "metadata": {},
   "outputs": [],
   "source": [
    "# Разделим данные на два датасета features - признаки, target - целевой признак\n",
    "features = good_data.drop('exited', axis=1)\n",
    "target = good_data['exited']\n",
    "\n",
    "# Разделим данные на тренировочную и валидационно-тестовую выборки\n",
    "features_train, features_valid_test, target_train, target_valid_test = train_test_split(features, \n",
    "                                                                                        target, \n",
    "                                                                                        random_state=123,\n",
    "                                                                                        test_size=0.4)\n",
    "\n",
    "# Разделим данные на валидационную и тестовую выборки\n",
    "features_valid, features_test, target_valid, target_test = train_test_split(features_valid_test,\n",
    "                                                                            target_valid_test,\n",
    "                                                                            random_state=123,\n",
    "                                                                            test_size=0.5)"
   ]
  },
  {
   "cell_type": "code",
   "execution_count": 12,
   "metadata": {},
   "outputs": [
    {
     "name": "stdout",
     "output_type": "stream",
     "text": [
      "\n",
      "Размер обучающей выборки: (6000, 10)\n",
      "Размер валидационной выборки: (2000, 10)\n",
      "Размер тестовой выборки: (2000, 10)\n",
      "\n"
     ]
    }
   ],
   "source": [
    "print(f'''\n",
    "Размер обучающей выборки: {features_train.shape}\n",
    "Размер валидационной выборки: {features_valid.shape}\n",
    "Размер тестовой выборки: {features_test.shape}\n",
    "''')"
   ]
  },
  {
   "cell_type": "markdown",
   "metadata": {},
   "source": [
    "### Преобразование данных методом One-Hot-Encoding"
   ]
  },
  {
   "cell_type": "markdown",
   "metadata": {},
   "source": [
    "В столбцах `geography` и `gender` категориальные признаки, для обучения модели преобразуем их в численные, используем метод **One-Hot Encoding**. Для исключения дамми-ловушки сразу же удалим первый столбец с помощью `drop_first`"
   ]
  },
  {
   "cell_type": "code",
   "execution_count": 13,
   "metadata": {},
   "outputs": [
    {
     "data": {
      "text/plain": [
       "['geography', 'gender']"
      ]
     },
     "execution_count": 13,
     "metadata": {},
     "output_type": "execute_result"
    }
   ],
   "source": [
    "ohe_features = features_train.select_dtypes(include='object').columns.to_list()\n",
    "ohe_features"
   ]
  },
  {
   "cell_type": "code",
   "execution_count": 14,
   "metadata": {
    "scrolled": true
   },
   "outputs": [
    {
     "data": {
      "text/html": [
       "<style>#sk-container-id-1 {color: black;background-color: white;}#sk-container-id-1 pre{padding: 0;}#sk-container-id-1 div.sk-toggleable {background-color: white;}#sk-container-id-1 label.sk-toggleable__label {cursor: pointer;display: block;width: 100%;margin-bottom: 0;padding: 0.3em;box-sizing: border-box;text-align: center;}#sk-container-id-1 label.sk-toggleable__label-arrow:before {content: \"▸\";float: left;margin-right: 0.25em;color: #696969;}#sk-container-id-1 label.sk-toggleable__label-arrow:hover:before {color: black;}#sk-container-id-1 div.sk-estimator:hover label.sk-toggleable__label-arrow:before {color: black;}#sk-container-id-1 div.sk-toggleable__content {max-height: 0;max-width: 0;overflow: hidden;text-align: left;background-color: #f0f8ff;}#sk-container-id-1 div.sk-toggleable__content pre {margin: 0.2em;color: black;border-radius: 0.25em;background-color: #f0f8ff;}#sk-container-id-1 input.sk-toggleable__control:checked~div.sk-toggleable__content {max-height: 200px;max-width: 100%;overflow: auto;}#sk-container-id-1 input.sk-toggleable__control:checked~label.sk-toggleable__label-arrow:before {content: \"▾\";}#sk-container-id-1 div.sk-estimator input.sk-toggleable__control:checked~label.sk-toggleable__label {background-color: #d4ebff;}#sk-container-id-1 div.sk-label input.sk-toggleable__control:checked~label.sk-toggleable__label {background-color: #d4ebff;}#sk-container-id-1 input.sk-hidden--visually {border: 0;clip: rect(1px 1px 1px 1px);clip: rect(1px, 1px, 1px, 1px);height: 1px;margin: -1px;overflow: hidden;padding: 0;position: absolute;width: 1px;}#sk-container-id-1 div.sk-estimator {font-family: monospace;background-color: #f0f8ff;border: 1px dotted black;border-radius: 0.25em;box-sizing: border-box;margin-bottom: 0.5em;}#sk-container-id-1 div.sk-estimator:hover {background-color: #d4ebff;}#sk-container-id-1 div.sk-parallel-item::after {content: \"\";width: 100%;border-bottom: 1px solid gray;flex-grow: 1;}#sk-container-id-1 div.sk-label:hover label.sk-toggleable__label {background-color: #d4ebff;}#sk-container-id-1 div.sk-serial::before {content: \"\";position: absolute;border-left: 1px solid gray;box-sizing: border-box;top: 0;bottom: 0;left: 50%;z-index: 0;}#sk-container-id-1 div.sk-serial {display: flex;flex-direction: column;align-items: center;background-color: white;padding-right: 0.2em;padding-left: 0.2em;position: relative;}#sk-container-id-1 div.sk-item {position: relative;z-index: 1;}#sk-container-id-1 div.sk-parallel {display: flex;align-items: stretch;justify-content: center;background-color: white;position: relative;}#sk-container-id-1 div.sk-item::before, #sk-container-id-1 div.sk-parallel-item::before {content: \"\";position: absolute;border-left: 1px solid gray;box-sizing: border-box;top: 0;bottom: 0;left: 50%;z-index: -1;}#sk-container-id-1 div.sk-parallel-item {display: flex;flex-direction: column;z-index: 1;position: relative;background-color: white;}#sk-container-id-1 div.sk-parallel-item:first-child::after {align-self: flex-end;width: 50%;}#sk-container-id-1 div.sk-parallel-item:last-child::after {align-self: flex-start;width: 50%;}#sk-container-id-1 div.sk-parallel-item:only-child::after {width: 0;}#sk-container-id-1 div.sk-dashed-wrapped {border: 1px dashed gray;margin: 0 0.4em 0.5em 0.4em;box-sizing: border-box;padding-bottom: 0.4em;background-color: white;}#sk-container-id-1 div.sk-label label {font-family: monospace;font-weight: bold;display: inline-block;line-height: 1.2em;}#sk-container-id-1 div.sk-label-container {text-align: center;}#sk-container-id-1 div.sk-container {/* jupyter's `normalize.less` sets `[hidden] { display: none; }` but bootstrap.min.css set `[hidden] { display: none !important; }` so we also need the `!important` here to be able to override the default hidden behavior on the sphinx rendered scikit-learn.org. See: https://github.com/scikit-learn/scikit-learn/issues/21755 */display: inline-block !important;position: relative;}#sk-container-id-1 div.sk-text-repr-fallback {display: none;}</style><div id=\"sk-container-id-1\" class=\"sk-top-container\"><div class=\"sk-text-repr-fallback\"><pre>OneHotEncoder(drop=&#x27;first&#x27;, handle_unknown=&#x27;ignore&#x27;, sparse=False)</pre><b>In a Jupyter environment, please rerun this cell to show the HTML representation or trust the notebook. <br />On GitHub, the HTML representation is unable to render, please try loading this page with nbviewer.org.</b></div><div class=\"sk-container\" hidden><div class=\"sk-item\"><div class=\"sk-estimator sk-toggleable\"><input class=\"sk-toggleable__control sk-hidden--visually\" id=\"sk-estimator-id-1\" type=\"checkbox\" checked><label for=\"sk-estimator-id-1\" class=\"sk-toggleable__label sk-toggleable__label-arrow\">OneHotEncoder</label><div class=\"sk-toggleable__content\"><pre>OneHotEncoder(drop=&#x27;first&#x27;, handle_unknown=&#x27;ignore&#x27;, sparse=False)</pre></div></div></div></div></div>"
      ],
      "text/plain": [
       "OneHotEncoder(drop='first', handle_unknown='ignore', sparse=False)"
      ]
     },
     "execution_count": 14,
     "metadata": {},
     "output_type": "execute_result"
    }
   ],
   "source": [
    "encoder_ohe = OneHotEncoder(drop='first', handle_unknown='ignore', sparse=False)\n",
    "\n",
    "# Обучаем энкодер на заданных категориальных признаках тренировочной выборки\n",
    "encoder_ohe.fit(features_train[ohe_features])"
   ]
  },
  {
   "cell_type": "code",
   "execution_count": 15,
   "metadata": {},
   "outputs": [],
   "source": [
    "# Добавляем закодированные признаки в features_train\n",
    "features_train[\n",
    "    encoder_ohe.get_feature_names_out()] = encoder_ohe.transform(features_train[ohe_features])\n",
    "\n",
    "# Удаляем незакодированные категориальные признаки (изначальные)\n",
    "features_train = features_train.drop(ohe_features, axis=1)"
   ]
  },
  {
   "cell_type": "code",
   "execution_count": 16,
   "metadata": {},
   "outputs": [],
   "source": [
    "# Повторяем для валидационной выборки\n",
    "features_valid[\n",
    "    encoder_ohe.get_feature_names_out()] = encoder_ohe.transform(features_valid[ohe_features])\n",
    "\n",
    "features_valid = features_valid.drop(ohe_features, axis=1)"
   ]
  },
  {
   "cell_type": "code",
   "execution_count": 17,
   "metadata": {},
   "outputs": [],
   "source": [
    "# Повторяем для тестовой выборки\n",
    "features_test[\n",
    "    encoder_ohe.get_feature_names_out()] = encoder_ohe.transform(features_test[ohe_features])\n",
    "\n",
    "features_test = features_test.drop(ohe_features, axis=1)"
   ]
  },
  {
   "cell_type": "code",
   "execution_count": 18,
   "metadata": {},
   "outputs": [
    {
     "data": {
      "text/html": [
       "<div>\n",
       "<style scoped>\n",
       "    .dataframe tbody tr th:only-of-type {\n",
       "        vertical-align: middle;\n",
       "    }\n",
       "\n",
       "    .dataframe tbody tr th {\n",
       "        vertical-align: top;\n",
       "    }\n",
       "\n",
       "    .dataframe thead th {\n",
       "        text-align: right;\n",
       "    }\n",
       "</style>\n",
       "<table border=\"1\" class=\"dataframe\">\n",
       "  <thead>\n",
       "    <tr style=\"text-align: right;\">\n",
       "      <th></th>\n",
       "      <th>credit_score</th>\n",
       "      <th>age</th>\n",
       "      <th>tenure</th>\n",
       "      <th>balance</th>\n",
       "      <th>num_of_products</th>\n",
       "      <th>has_cr_card</th>\n",
       "      <th>is_active_member</th>\n",
       "      <th>estimated_salary</th>\n",
       "      <th>geography_Germany</th>\n",
       "      <th>geography_Spain</th>\n",
       "      <th>gender_Male</th>\n",
       "    </tr>\n",
       "  </thead>\n",
       "  <tbody>\n",
       "    <tr>\n",
       "      <th>9696</th>\n",
       "      <td>550</td>\n",
       "      <td>32</td>\n",
       "      <td>8.0</td>\n",
       "      <td>97514.07</td>\n",
       "      <td>1</td>\n",
       "      <td>1</td>\n",
       "      <td>1</td>\n",
       "      <td>199138.84</td>\n",
       "      <td>0.0</td>\n",
       "      <td>0.0</td>\n",
       "      <td>1.0</td>\n",
       "    </tr>\n",
       "    <tr>\n",
       "      <th>509</th>\n",
       "      <td>599</td>\n",
       "      <td>37</td>\n",
       "      <td>2.0</td>\n",
       "      <td>0.00</td>\n",
       "      <td>2</td>\n",
       "      <td>1</td>\n",
       "      <td>1</td>\n",
       "      <td>143739.29</td>\n",
       "      <td>0.0</td>\n",
       "      <td>1.0</td>\n",
       "      <td>0.0</td>\n",
       "    </tr>\n",
       "    <tr>\n",
       "      <th>621</th>\n",
       "      <td>656</td>\n",
       "      <td>40</td>\n",
       "      <td>10.0</td>\n",
       "      <td>167878.50</td>\n",
       "      <td>1</td>\n",
       "      <td>0</td>\n",
       "      <td>1</td>\n",
       "      <td>151887.16</td>\n",
       "      <td>0.0</td>\n",
       "      <td>1.0</td>\n",
       "      <td>0.0</td>\n",
       "    </tr>\n",
       "    <tr>\n",
       "      <th>7681</th>\n",
       "      <td>641</td>\n",
       "      <td>33</td>\n",
       "      <td>2.0</td>\n",
       "      <td>146193.60</td>\n",
       "      <td>2</td>\n",
       "      <td>1</td>\n",
       "      <td>1</td>\n",
       "      <td>55796.83</td>\n",
       "      <td>0.0</td>\n",
       "      <td>0.0</td>\n",
       "      <td>1.0</td>\n",
       "    </tr>\n",
       "    <tr>\n",
       "      <th>4265</th>\n",
       "      <td>709</td>\n",
       "      <td>32</td>\n",
       "      <td>4.0</td>\n",
       "      <td>147307.91</td>\n",
       "      <td>1</td>\n",
       "      <td>0</td>\n",
       "      <td>1</td>\n",
       "      <td>40861.55</td>\n",
       "      <td>0.0</td>\n",
       "      <td>0.0</td>\n",
       "      <td>1.0</td>\n",
       "    </tr>\n",
       "  </tbody>\n",
       "</table>\n",
       "</div>"
      ],
      "text/plain": [
       "      credit_score  age  tenure    balance  num_of_products  has_cr_card  \\\n",
       "9696           550   32     8.0   97514.07                1            1   \n",
       "509            599   37     2.0       0.00                2            1   \n",
       "621            656   40    10.0  167878.50                1            0   \n",
       "7681           641   33     2.0  146193.60                2            1   \n",
       "4265           709   32     4.0  147307.91                1            0   \n",
       "\n",
       "      is_active_member  estimated_salary  geography_Germany  geography_Spain  \\\n",
       "9696                 1         199138.84                0.0              0.0   \n",
       "509                  1         143739.29                0.0              1.0   \n",
       "621                  1         151887.16                0.0              1.0   \n",
       "7681                 1          55796.83                0.0              0.0   \n",
       "4265                 1          40861.55                0.0              0.0   \n",
       "\n",
       "      gender_Male  \n",
       "9696          1.0  \n",
       "509           0.0  \n",
       "621           0.0  \n",
       "7681          1.0  \n",
       "4265          1.0  "
      ]
     },
     "execution_count": 18,
     "metadata": {},
     "output_type": "execute_result"
    }
   ],
   "source": [
    "# Проверим правильно ли применился метод One-Hot-Encoding\n",
    "features_train.head()"
   ]
  },
  {
   "cell_type": "markdown",
   "metadata": {},
   "source": [
    "### Масштабирование данных"
   ]
  },
  {
   "cell_type": "markdown",
   "metadata": {},
   "source": [
    "Промасштабируем данные в столбцах `credit_score`, `age`, `tenure`, `balance`, `num_of_products`, `estimated_salary`"
   ]
  },
  {
   "cell_type": "code",
   "execution_count": 19,
   "metadata": {},
   "outputs": [],
   "source": [
    "pd.options.mode.chained_assignment = None\n",
    "\n",
    "numeric = ['credit_score', 'age', 'tenure', 'balance', 'num_of_products', 'estimated_salary']\n",
    "\n",
    "scaler = StandardScaler()\n",
    "scaler.fit(features_train[numeric])\n",
    "\n",
    "features_train[numeric] = scaler.transform(features_train[numeric])\n",
    "features_valid[numeric] = scaler.transform(features_valid[numeric])\n",
    "features_test[numeric] = scaler.transform(features_test[numeric])"
   ]
  },
  {
   "cell_type": "code",
   "execution_count": 20,
   "metadata": {},
   "outputs": [
    {
     "data": {
      "text/html": [
       "<div>\n",
       "<style scoped>\n",
       "    .dataframe tbody tr th:only-of-type {\n",
       "        vertical-align: middle;\n",
       "    }\n",
       "\n",
       "    .dataframe tbody tr th {\n",
       "        vertical-align: top;\n",
       "    }\n",
       "\n",
       "    .dataframe thead th {\n",
       "        text-align: right;\n",
       "    }\n",
       "</style>\n",
       "<table border=\"1\" class=\"dataframe\">\n",
       "  <thead>\n",
       "    <tr style=\"text-align: right;\">\n",
       "      <th></th>\n",
       "      <th>credit_score</th>\n",
       "      <th>age</th>\n",
       "      <th>tenure</th>\n",
       "      <th>balance</th>\n",
       "      <th>num_of_products</th>\n",
       "      <th>has_cr_card</th>\n",
       "      <th>is_active_member</th>\n",
       "      <th>estimated_salary</th>\n",
       "      <th>geography_Germany</th>\n",
       "      <th>geography_Spain</th>\n",
       "      <th>gender_Male</th>\n",
       "    </tr>\n",
       "  </thead>\n",
       "  <tbody>\n",
       "    <tr>\n",
       "      <th>9696</th>\n",
       "      <td>-1.036502</td>\n",
       "      <td>-0.653217</td>\n",
       "      <td>1.091918</td>\n",
       "      <td>0.329383</td>\n",
       "      <td>-0.911674</td>\n",
       "      <td>1</td>\n",
       "      <td>1</td>\n",
       "      <td>1.717588</td>\n",
       "      <td>0.0</td>\n",
       "      <td>0.0</td>\n",
       "      <td>1.0</td>\n",
       "    </tr>\n",
       "    <tr>\n",
       "      <th>509</th>\n",
       "      <td>-0.529560</td>\n",
       "      <td>-0.185576</td>\n",
       "      <td>-1.085144</td>\n",
       "      <td>-1.222776</td>\n",
       "      <td>0.799319</td>\n",
       "      <td>1</td>\n",
       "      <td>1</td>\n",
       "      <td>0.758922</td>\n",
       "      <td>0.0</td>\n",
       "      <td>1.0</td>\n",
       "      <td>0.0</td>\n",
       "    </tr>\n",
       "    <tr>\n",
       "      <th>621</th>\n",
       "      <td>0.060149</td>\n",
       "      <td>0.095009</td>\n",
       "      <td>1.817605</td>\n",
       "      <td>1.449393</td>\n",
       "      <td>-0.911674</td>\n",
       "      <td>0</td>\n",
       "      <td>1</td>\n",
       "      <td>0.899918</td>\n",
       "      <td>0.0</td>\n",
       "      <td>1.0</td>\n",
       "      <td>0.0</td>\n",
       "    </tr>\n",
       "    <tr>\n",
       "      <th>7681</th>\n",
       "      <td>-0.095038</td>\n",
       "      <td>-0.559689</td>\n",
       "      <td>-1.085144</td>\n",
       "      <td>1.104228</td>\n",
       "      <td>0.799319</td>\n",
       "      <td>1</td>\n",
       "      <td>1</td>\n",
       "      <td>-0.762886</td>\n",
       "      <td>0.0</td>\n",
       "      <td>0.0</td>\n",
       "      <td>1.0</td>\n",
       "    </tr>\n",
       "    <tr>\n",
       "      <th>4265</th>\n",
       "      <td>0.608474</td>\n",
       "      <td>-0.653217</td>\n",
       "      <td>-0.359457</td>\n",
       "      <td>1.121965</td>\n",
       "      <td>-0.911674</td>\n",
       "      <td>0</td>\n",
       "      <td>1</td>\n",
       "      <td>-1.021335</td>\n",
       "      <td>0.0</td>\n",
       "      <td>0.0</td>\n",
       "      <td>1.0</td>\n",
       "    </tr>\n",
       "  </tbody>\n",
       "</table>\n",
       "</div>"
      ],
      "text/plain": [
       "      credit_score       age    tenure   balance  num_of_products  \\\n",
       "9696     -1.036502 -0.653217  1.091918  0.329383        -0.911674   \n",
       "509      -0.529560 -0.185576 -1.085144 -1.222776         0.799319   \n",
       "621       0.060149  0.095009  1.817605  1.449393        -0.911674   \n",
       "7681     -0.095038 -0.559689 -1.085144  1.104228         0.799319   \n",
       "4265      0.608474 -0.653217 -0.359457  1.121965        -0.911674   \n",
       "\n",
       "      has_cr_card  is_active_member  estimated_salary  geography_Germany  \\\n",
       "9696            1                 1          1.717588                0.0   \n",
       "509             1                 1          0.758922                0.0   \n",
       "621             0                 1          0.899918                0.0   \n",
       "7681            1                 1         -0.762886                0.0   \n",
       "4265            0                 1         -1.021335                0.0   \n",
       "\n",
       "      geography_Spain  gender_Male  \n",
       "9696              0.0          1.0  \n",
       "509               1.0          0.0  \n",
       "621               1.0          0.0  \n",
       "7681              0.0          1.0  \n",
       "4265              0.0          1.0  "
      ]
     },
     "execution_count": 20,
     "metadata": {},
     "output_type": "execute_result"
    }
   ],
   "source": [
    "# Проверим правильность масштабирования данных\n",
    "features_train.head()"
   ]
  },
  {
   "cell_type": "markdown",
   "metadata": {},
   "source": [
    "### Вывод по разделу\n",
    "В ходе раздела были выполнены следующие операции с данными:\n",
    "1. Данные сохранены в переменную `data`\n",
    "2. Переименованы столбцы в датасете (для удобства восприятия)\n",
    "3. Устранены пропуски\n",
    "4. Исключены данные из датасета, которые могут помешать обучению модели\n",
    "5. Проверены данные на наличие явных дубликатов\n",
    "6. Преобразование категориальных признаков\n",
    "7. Масштабирование признаков\n",
    "8. Разделение данных на тренировочную, валидационную и тестовые выборки."
   ]
  },
  {
   "cell_type": "markdown",
   "metadata": {},
   "source": [
    "## Исследование задачи"
   ]
  },
  {
   "cell_type": "markdown",
   "metadata": {},
   "source": [
    "Посмотрим на дисбаланс классов в данных и обучим модели на имеющихся данных."
   ]
  },
  {
   "cell_type": "code",
   "execution_count": 21,
   "metadata": {},
   "outputs": [
    {
     "data": {
      "text/plain": [
       "Text(0, 0.5, 'Частота')"
      ]
     },
     "execution_count": 21,
     "metadata": {},
     "output_type": "execute_result"
    },
    {
     "data": {
      "image/png": "[encoded data removed]",
      "text/plain": [
       "<Figure size 504x360 with 1 Axes>"
      ]
     },
     "metadata": {
      "needs_background": "light"
     },
     "output_type": "display_data"
    }
   ],
   "source": [
    "# Посмотрим на дисбаланс классов по целевому признаку\n",
    "plt.figure(figsize=(7, 5))\n",
    "sns.countplot(data=data, x=data['exited'])\n",
    "\n",
    "plt.title('Распределение классов в выборке', fontsize=16)\n",
    "plt.xlabel('Значение классов', fontsize=12)\n",
    "plt.ylabel('Частота', fontsize=12)"
   ]
  },
  {
   "cell_type": "code",
   "execution_count": 22,
   "metadata": {},
   "outputs": [
    {
     "data": {
      "text/plain": [
       "(2037, 11)"
      ]
     },
     "metadata": {},
     "output_type": "display_data"
    },
    {
     "data": {
      "text/plain": [
       "(7963, 11)"
      ]
     },
     "execution_count": 22,
     "metadata": {},
     "output_type": "execute_result"
    }
   ],
   "source": [
    "display(good_data[good_data['exited'] == 1].shape)\n",
    "good_data[good_data['exited'] == 0].shape"
   ]
  },
  {
   "cell_type": "code",
   "execution_count": 23,
   "metadata": {},
   "outputs": [
    {
     "data": {
      "text/plain": [
       "3.9091801669121256"
      ]
     },
     "execution_count": 23,
     "metadata": {},
     "output_type": "execute_result"
    }
   ],
   "source": [
    "good_data[good_data['exited'] == 0].shape[0] / good_data[good_data['exited'] == 1].shape[0]"
   ]
  },
  {
   "cell_type": "markdown",
   "metadata": {},
   "source": [
    "Из данных мы видим, что в выборке число клиентов переставших пользоваться услугами банка (значение **1**) почти в 4 раза меньше , чем клиентов, которые продолжают пользоваться услугами банка (значение **0**)"
   ]
  },
  {
   "cell_type": "markdown",
   "metadata": {},
   "source": [
    "### Обучение модели\n",
    "\n",
    "Обучим модели без учёта дисбаланса классов:\n",
    " - Логистическая регрессия - LogisticRegression\n",
    " - Дерево решений - DecisionTreeClassifier\n",
    " - Случайный лес - RandomForestClassifier"
   ]
  },
  {
   "cell_type": "code",
   "execution_count": 24,
   "metadata": {},
   "outputs": [
    {
     "name": "stdout",
     "output_type": "stream",
     "text": [
      "F1: 0.28190476190476194\n",
      "ROC-AUC: 0.7470778995012358\n"
     ]
    }
   ],
   "source": [
    "# Обучим модель логистической регрессии\n",
    "model = LogisticRegression(random_state=123, \n",
    "                           solver='liblinear',\n",
    "                           )\n",
    "model.fit(features_train, target_train)\n",
    "predictions_valid = model.predict(features_valid)   \n",
    "probabilities_valid = model.predict_proba(features_valid)\n",
    "probabilities_one_valid = probabilities_valid[:, 1]\n",
    "\n",
    "print(f'F1: {f1_score(target_valid, predictions_valid)}')\n",
    "print(f'ROC-AUC: {roc_auc_score(target_valid, probabilities_one_valid)}')"
   ]
  },
  {
   "cell_type": "code",
   "execution_count": 25,
   "metadata": {},
   "outputs": [
    {
     "name": "stdout",
     "output_type": "stream",
     "text": [
      "\n",
      "F1: 0.5888888888888889\n",
      "ROC-AUC: 0.8373967229488404\n",
      "Max_depth: 6\n",
      "Splitter: random\n",
      "\n"
     ]
    }
   ],
   "source": [
    "# Обучим модель Дерево решений\n",
    "best_score = 0\n",
    "\n",
    "for depth in range(1, 16, 1):\n",
    "    for split in ['best', 'random']:\n",
    "        model = DecisionTreeClassifier(random_state=123,\n",
    "                                        max_depth=depth,                                              \n",
    "                                        splitter=split)\n",
    "        model.fit(features_train, target_train)\n",
    "        predictions_valid = model.predict(features_valid)\n",
    "        score = f1_score(target_valid, predictions_valid)\n",
    "            \n",
    "        probabilities_valid = model.predict_proba(features_valid)\n",
    "        probabilities_one_valid = probabilities_valid[:, 1]\n",
    "        auc_roc = roc_auc_score(target_valid, probabilities_one_valid)\n",
    "            \n",
    "        if score > best_score:\n",
    "            best_score = score\n",
    "            best_depth = depth\n",
    "            best_auc_score = auc_roc\n",
    "            best_splitter = split\n",
    "        \n",
    "print(f'''\n",
    "F1: {best_score}\n",
    "ROC-AUC: {best_auc_score}\n",
    "Max_depth: {best_depth}\n",
    "Splitter: {best_splitter}\n",
    "''')"
   ]
  },
  {
   "cell_type": "code",
   "execution_count": 26,
   "metadata": {},
   "outputs": [
    {
     "name": "stdout",
     "output_type": "stream",
     "text": [
      "\n",
      "F1: 0.5915492957746479\n",
      "ROC-AUC: 0.863788869151848\n",
      "Max_depth: 14\n",
      "N_estimators: 60\n",
      "\n"
     ]
    }
   ],
   "source": [
    "# Обучим модель Случайный лес\n",
    "best_score = 0\n",
    "\n",
    "for depth in range(1, 16, 1):\n",
    "    for n_est in range(10, 110, 10):\n",
    "        model = RandomForestClassifier(max_depth=depth,\n",
    "                                       n_estimators=n_est,\n",
    "                                       random_state=123)\n",
    "        model.fit(features_train, target_train)\n",
    "        predictions_valid = model.predict(features_valid)\n",
    "        score = f1_score(target_valid, predictions_valid)\n",
    "        \n",
    "        probabilities_valid = model.predict_proba(features_valid)\n",
    "        probabilities_one_valid = probabilities_valid[:, 1]\n",
    "        auc_roc = roc_auc_score(target_valid, probabilities_one_valid)\n",
    "        \n",
    "        if score > best_score:\n",
    "            best_score = score\n",
    "            best_depth = depth\n",
    "            best_n_est = n_est\n",
    "            best_auc_score = auc_roc\n",
    "            \n",
    "print(f'''\n",
    "F1: {best_score}\n",
    "ROC-AUC: {best_auc_score}\n",
    "Max_depth: {best_depth}\n",
    "N_estimators: {best_n_est}\n",
    "''')"
   ]
  },
  {
   "cell_type": "markdown",
   "metadata": {},
   "source": [
    "Наилучшей моделью оказалась модель: **RandomForestClassifier** со следующими гиперпараметрами:\n",
    " - `max_depth=14`\n",
    " - `n_estimators=60`"
   ]
  },
  {
   "cell_type": "markdown",
   "metadata": {},
   "source": [
    "### Вывод по разделу"
   ]
  },
  {
   "cell_type": "markdown",
   "metadata": {},
   "source": [
    "При расмотрении данных было выявлено, что присутствует дисбаланс классов в датасете. \n",
    "\n",
    "Количество клиентов переставших пользоваться услугами банка (значение **1**) почти в 4 раза меньше , чем клиентов, которые продолжают пользоваться услугами банка (значение **0**).\n",
    "\n",
    "Были обучены модели классификации и получены следующие результаты:\n",
    " - LogisticRegression - F1: 0.281, ROC-AUC: 0.747\n",
    " - DecisionTreeClassifier - F1: 0.588, ROC-AUC: 0.837 | При гиперпараметрах: max_depth: 6, splitter: random   \n",
    " - RandomForesClassifier - F1: 0.591, ROC-AUC: 0.863 | При  гиперпараметрах: max_depth: 14, n_estimators: 60"
   ]
  },
  {
   "cell_type": "markdown",
   "metadata": {},
   "source": [
    "## Борьба с дисбалансом"
   ]
  },
  {
   "cell_type": "markdown",
   "metadata": {},
   "source": [
    "В связи с дисбалансом классов (разница классов почти в 4 раза) необходимо сбаланисировать данные.\n",
    "\n",
    "Для борьбы с дисбалансом воспользуется методами:\n",
    "1. Изменение веса классов\n",
    "2. Увеличение выборки (upsampling)\n",
    "3. Уменьшение выборки (downsampling)"
   ]
  },
  {
   "cell_type": "code",
   "execution_count": 27,
   "metadata": {},
   "outputs": [
    {
     "data": {
      "text/plain": [
       "(6000, 11)"
      ]
     },
     "execution_count": 27,
     "metadata": {},
     "output_type": "execute_result"
    }
   ],
   "source": [
    "# Посмотрим размер обучающей выборки\n",
    "features_train.shape"
   ]
  },
  {
   "cell_type": "markdown",
   "metadata": {},
   "source": [
    "### Изменение веса классов"
   ]
  },
  {
   "cell_type": "code",
   "execution_count": 28,
   "metadata": {},
   "outputs": [
    {
     "name": "stdout",
     "output_type": "stream",
     "text": [
      "\n",
      "F1: 0.4553415061295972\n",
      "ROC-AUC: 0.7495069251727342\n",
      "class_weight: 'balanced'\n",
      "\n"
     ]
    }
   ],
   "source": [
    "# Обучим модель Логистической регрессии\n",
    "model = LogisticRegression(random_state=123,\n",
    "                           class_weight='balanced')\n",
    "model.fit(features_train, target_train)\n",
    "predictions_valid = model.predict(features_valid)\n",
    "probabilities_valid = model.predict_proba(features_valid)\n",
    "probabilities_one_valid = probabilities_valid[:, 1]\n",
    "\n",
    "print(f'''\n",
    "F1: {f1_score(target_valid, predictions_valid)}\n",
    "ROC-AUC: {roc_auc_score(target_valid, probabilities_one_valid)}\n",
    "class_weight: 'balanced'\n",
    "''')"
   ]
  },
  {
   "cell_type": "code",
   "execution_count": 29,
   "metadata": {},
   "outputs": [
    {
     "name": "stdout",
     "output_type": "stream",
     "text": [
      "\n",
      "F1: 0.5839267548321465\n",
      "ROC-AUC: 0.816019084524404\n",
      "Depth: 8\n",
      "Splitter: best\n",
      "Class_weight: 'balanced'\n",
      "\n"
     ]
    }
   ],
   "source": [
    "# Обучим модель Дерево решений\n",
    "best_score = 0\n",
    "\n",
    "for depth in range(1, 16, 1):\n",
    "    for split in ['best', 'random']:\n",
    "        model = DecisionTreeClassifier(random_state=123, \n",
    "                                        class_weight='balanced',\n",
    "                                        max_depth=depth,\n",
    "                                        splitter=split)\n",
    "        model.fit(features_train, target_train)\n",
    "        predictions_valid = model.predict(features_valid)\n",
    "        score = f1_score(target_valid, predictions_valid)\n",
    "            \n",
    "        probabilities_valid = model.predict_proba(features_valid)\n",
    "        probabilities_one_valid = probabilities_valid[:, 1]\n",
    "        auc_roc = roc_auc_score(target_valid, probabilities_one_valid)\n",
    "            \n",
    "        if score > best_score:\n",
    "            best_score = score\n",
    "            best_roc_auc = auc_roc\n",
    "            best_depth = depth\n",
    "            best_splitter = split\n",
    "                \n",
    "print(f'''\n",
    "F1: {best_score}\n",
    "ROC-AUC: {best_roc_auc}\n",
    "Depth: {best_depth}\n",
    "Splitter: {best_splitter}\n",
    "Class_weight: 'balanced'\n",
    "''')"
   ]
  },
  {
   "cell_type": "code",
   "execution_count": 30,
   "metadata": {},
   "outputs": [
    {
     "name": "stdout",
     "output_type": "stream",
     "text": [
      "\n",
      "F1: 0.6369119420989142\n",
      "ROC-AUC: 0.8640899292627267\n",
      "Depth: 9\n",
      "N_estimators: 80\n",
      "Weight: balanced_subsample\n",
      "\n"
     ]
    }
   ],
   "source": [
    "# Обучем модель Случайный лес\n",
    "best_score = 0\n",
    "\n",
    "for weight in ['balanced', 'balanced_subsample', None]:\n",
    "    for depth in range(1, 16, 1):\n",
    "        for n_est in range(10, 110, 10):\n",
    "            model = RandomForestClassifier(random_state=123,\n",
    "                                           class_weight=weight,\n",
    "                                           max_depth=depth,\n",
    "                                           n_estimators=n_est)\n",
    "            model.fit(features_train, target_train)\n",
    "            predictions_valid = model.predict(features_valid)\n",
    "            score = f1_score(target_valid, predictions_valid)\n",
    "            \n",
    "            probabilities_valid = model.predict_proba(features_valid)\n",
    "            probabilities_one_valid = probabilities_valid[:, 1]\n",
    "            auc_roc = roc_auc_score(target_valid, probabilities_one_valid)\n",
    "            \n",
    "            if score > best_score:\n",
    "                best_score = score\n",
    "                best_auc_roc = auc_roc\n",
    "                best_depth = depth\n",
    "                best_n_est = n_est\n",
    "                best_weight = weight\n",
    "                \n",
    "print(f'''\n",
    "F1: {best_score}\n",
    "ROC-AUC: {best_auc_roc}\n",
    "Depth: {best_depth}\n",
    "N_estimators: {best_n_est}\n",
    "Weight: {best_weight}\n",
    "''')"
   ]
  },
  {
   "cell_type": "markdown",
   "metadata": {},
   "source": [
    "После обучения моделей с подбором вес классов, получили следующие результаты:\n",
    "1. LogisticRegression: F1: 0.455, ROC-AUC: 0.749 | При гиперпараметрах: **class_weight: 'balanced'**\n",
    "2. DecisionTreeClassifier: F1: 0.583, ROC-AUC: 0.816 | При гиперпараметрах: max_depth: 8, splitter: 'best', **class_weight: 'balanced'**\n",
    "3. RandomForestClassifier: F1: 0.636, ROC-AUC: 0.864 | При гиперпараметрах: max_depth: 9, n_estimators: 80, **class_weight: 'balanced_subsample'**\n",
    "\n",
    "**Наилучшая модель RandomForestClassifier - метрика F1 - 0.636**"
   ]
  },
  {
   "cell_type": "markdown",
   "metadata": {},
   "source": [
    "### Увеличение выборки (upsampling)"
   ]
  },
  {
   "cell_type": "code",
   "execution_count": 31,
   "metadata": {},
   "outputs": [
    {
     "name": "stdout",
     "output_type": "stream",
     "text": [
      "Класс 0: (4761, 11)\n",
      "Класс 1: (1239, 11)\n"
     ]
    }
   ],
   "source": [
    "# Посмотрим на количество пользователей в каждом классе\n",
    "print(f'Класс 0: {features_train[target_train == 0].shape}')\n",
    "print(f'Класс 1: {features_train[target_train == 1].shape}')"
   ]
  },
  {
   "cell_type": "code",
   "execution_count": 32,
   "metadata": {},
   "outputs": [
    {
     "data": {
      "text/plain": [
       "(9717, 11)"
      ]
     },
     "execution_count": 32,
     "metadata": {},
     "output_type": "execute_result"
    }
   ],
   "source": [
    "# Разделим выборки на положительные и отрицательные ответы\n",
    "features_zeros = features_train[target_train == 0]\n",
    "features_ones = features_train[target_train == 1]\n",
    "target_zeros = target_train[target_train == 0]\n",
    "target_ones = target_train[target_train == 1]\n",
    "\n",
    "repeat = 4 # во столько раз увеличим данные с классом 1\n",
    "\n",
    "# Объединим данные и увеличем количество данных недостающего класса\n",
    "features_upsampled = pd.concat([features_zeros] + [features_ones] * repeat)\n",
    "target_upsampled = pd.concat([target_zeros] + [target_ones] * repeat)\n",
    "\n",
    "# Посмотрим на размер датасета после увеличения\n",
    "features_upsampled.shape"
   ]
  },
  {
   "cell_type": "code",
   "execution_count": 33,
   "metadata": {},
   "outputs": [],
   "source": [
    "# Перемешаем данные\n",
    "features_upsampled, target_upsampled = shuffle(features_upsampled, target_upsampled, random_state=123)"
   ]
  },
  {
   "cell_type": "code",
   "execution_count": 34,
   "metadata": {},
   "outputs": [
    {
     "name": "stdout",
     "output_type": "stream",
     "text": [
      "Класс 1: 4956\n",
      "Класс 0: 4761\n"
     ]
    }
   ],
   "source": [
    "# Посмотрим как изменилось распеределение классов\n",
    "print(f'Класс 1: {target_upsampled[target_upsampled == 1].count()}')\n",
    "print(f'Класс 0: {target_upsampled[target_upsampled == 0].count()}')"
   ]
  },
  {
   "cell_type": "markdown",
   "metadata": {},
   "source": [
    "#### Обучим модели после увеличения выборки"
   ]
  },
  {
   "cell_type": "code",
   "execution_count": 35,
   "metadata": {},
   "outputs": [
    {
     "name": "stdout",
     "output_type": "stream",
     "text": [
      "F1: 0.4578313253012049\n",
      "ROC-AUC: 0.7495148270129148\n"
     ]
    }
   ],
   "source": [
    "# Обучим модель логистической регрессии\n",
    "model = LogisticRegression(random_state=123)\n",
    "model.fit(features_upsampled, target_upsampled)\n",
    "predictions_valid = model.predict(features_valid)\n",
    "score = f1_score(target_valid, predictions_valid)\n",
    "\n",
    "probabilities_valid = model.predict_proba(features_valid)\n",
    "probabilities_one_valid = probabilities_valid[:, 1]\n",
    "auc_roc = roc_auc_score(target_valid, probabilities_one_valid)\n",
    "\n",
    "print(f'F1: {score}')\n",
    "print(f'ROC-AUC: {auc_roc}')"
   ]
  },
  {
   "cell_type": "code",
   "execution_count": 36,
   "metadata": {},
   "outputs": [
    {
     "name": "stdout",
     "output_type": "stream",
     "text": [
      "\n",
      "F1: 0.6014568158168575\n",
      "ROC-AUC: 0.8474699888109942\n",
      "Depth: 7\n",
      "Splitter: random\n",
      "\n"
     ]
    }
   ],
   "source": [
    "# Обучим модель Дерево решений\n",
    "best_score = 0\n",
    "\n",
    "for depth in range(1, 16, 1):\n",
    "    for split in ['best', 'random']:\n",
    "        model = DecisionTreeClassifier(max_depth=depth,\n",
    "                                        splitter=split)\n",
    "        model.fit(features_upsampled, target_upsampled)\n",
    "        predictions_valid = model.predict(features_valid)\n",
    "        score = f1_score(target_valid, predictions_valid)\n",
    "            \n",
    "        probabilities_valid = model.predict_proba(features_valid)\n",
    "        probabilities_one_valid = probabilities_valid[:, 1]\n",
    "        auc_roc = roc_auc_score(target_valid, probabilities_one_valid)\n",
    "            \n",
    "        if score > best_score:\n",
    "            best_score = score\n",
    "            best_auc_roc = auc_roc\n",
    "            best_depth = depth\n",
    "            best_splitter = split\n",
    "                \n",
    "print(f'''\n",
    "F1: {best_score}\n",
    "ROC-AUC: {best_auc_roc}\n",
    "Depth: {best_depth}\n",
    "Splitter: {best_splitter}\n",
    "''')"
   ]
  },
  {
   "cell_type": "code",
   "execution_count": 37,
   "metadata": {},
   "outputs": [
    {
     "name": "stdout",
     "output_type": "stream",
     "text": [
      "\n",
      "F1: 0.6338028169014085\n",
      "ROC-AUC: 0.8658899684558541\n",
      "Depth: 11\n",
      "N_estimators: 50\n",
      "\n"
     ]
    }
   ],
   "source": [
    "# Обучим модель Случайный лес\n",
    "best_score = 0\n",
    "\n",
    "for depth in range(1, 16, 1):\n",
    "    for n_est in range(10, 110, 10):\n",
    "        model = RandomForestClassifier(max_depth=depth,\n",
    "                                       n_estimators=n_est,\n",
    "                                       random_state=123)\n",
    "        model.fit(features_upsampled, target_upsampled)\n",
    "        predictions_valid = model.predict(features_valid)\n",
    "        score = f1_score(target_valid, predictions_valid)\n",
    "        \n",
    "        probabilities_valid = model.predict_proba(features_valid)\n",
    "        probabilities_one_valid = probabilities_valid[:, 1]\n",
    "        auc_roc = roc_auc_score(target_valid, probabilities_one_valid)\n",
    "        \n",
    "        if score > best_score:\n",
    "            best_score = score\n",
    "            best_depth = depth\n",
    "            best_n_est = n_est\n",
    "            best_auc_score = auc_roc\n",
    "            \n",
    "print(f'''\n",
    "F1: {best_score}\n",
    "ROC-AUC: {best_auc_score}\n",
    "Depth: {best_depth}\n",
    "N_estimators: {best_n_est}\n",
    "''')"
   ]
  },
  {
   "cell_type": "markdown",
   "metadata": {},
   "source": [
    "После обучения моделей с подбором вес классов, получили следующие результаты:\n",
    "1. LogisticRegression: F1: 0.457, ROC-AUC: 0.749 \n",
    "2. DecisionTreeClassifier: F1: 0.589, ROC-AUC: 0.849 | При гиперпараметрах: max_depth: 6, splitter: random\n",
    "3. RandomForestClassifier: F1: 0.633, ROC-AUC: 0.865 | При гиперпараметрах: max_depth: 11, n_estimators: 50, \n",
    "\n",
    "**Наилучшая модель RandomForestClassifier - метрика F1 - 0.633**"
   ]
  },
  {
   "cell_type": "markdown",
   "metadata": {},
   "source": [
    "\n",
    "\n",
    "### Уменьшение выборки (downsampling)"
   ]
  },
  {
   "cell_type": "code",
   "execution_count": 38,
   "metadata": {},
   "outputs": [
    {
     "name": "stdout",
     "output_type": "stream",
     "text": [
      "Класс 1: 1239\n",
      "Класс 0: 1190\n"
     ]
    }
   ],
   "source": [
    "# Доля, которую оставим от всей выборки\n",
    "fraction = 0.25\n",
    "\n",
    "# Сгенерируем выборки с уменьешнием класса 0\n",
    "features_downsampled = pd.concat(\n",
    "    [features_zeros.sample(frac=fraction, random_state=123)] + [features_ones])\n",
    "target_downsampled = pd.concat(\n",
    "    [target_zeros.sample(frac=fraction, random_state=123)] + [target_ones])\n",
    "\n",
    "# Посмотрим на размер датасета после уменьшения\n",
    "features_downsampled[target_downsampled == 0].shape\n",
    "print(f'Класс 1: {len(features_downsampled[target_downsampled == 1])}')\n",
    "print(f'Класс 0: {len(features_downsampled[target_downsampled == 0])}')"
   ]
  },
  {
   "cell_type": "markdown",
   "metadata": {},
   "source": [
    "#### Обучим модели после уменьшения выборки"
   ]
  },
  {
   "cell_type": "code",
   "execution_count": 39,
   "metadata": {},
   "outputs": [
    {
     "name": "stdout",
     "output_type": "stream",
     "text": [
      "F1: 0.4556313993174062\n",
      "ROC-AUC: 0.7477732614371234\n"
     ]
    }
   ],
   "source": [
    "# Обучим модель логистической регрессии\n",
    "model = LogisticRegression(random_state=123)\n",
    "model.fit(features_downsampled, target_downsampled)\n",
    "predictions_valid = model.predict(features_valid)\n",
    "score = f1_score(target_valid, predictions_valid)\n",
    "\n",
    "probabilities_valid = model.predict_proba(features_valid)\n",
    "probabilities_one_valid = probabilities_valid[:, 1]\n",
    "auc_roc = roc_auc_score(target_valid, probabilities_one_valid)\n",
    "\n",
    "print(f'F1: {score}')\n",
    "print(f'ROC-AUC: {auc_roc}')"
   ]
  },
  {
   "cell_type": "code",
   "execution_count": 40,
   "metadata": {},
   "outputs": [
    {
     "name": "stdout",
     "output_type": "stream",
     "text": [
      "\n",
      "F1: 0.5784114052953157\n",
      "ROC-AUC: 0.8034156494364407\n",
      "Depth: 8\n",
      "Splitter: best\n",
      "\n"
     ]
    }
   ],
   "source": [
    "# Обучим модель Дерево решений\n",
    "best_score = 0\n",
    "\n",
    "for depth in range(1, 16, 1):\n",
    "    for split in ['best', 'random']:\n",
    "        model = DecisionTreeClassifier(max_depth=depth,\n",
    "                                        splitter=split)\n",
    "        model.fit(features_downsampled, target_downsampled)\n",
    "        predictions_valid = model.predict(features_valid)\n",
    "        score = f1_score(target_valid, predictions_valid)\n",
    "            \n",
    "        probabilities_valid = model.predict_proba(features_valid)\n",
    "        probabilities_one_valid = probabilities_valid[:, 1]\n",
    "        auc_roc = roc_auc_score(target_valid, probabilities_one_valid)\n",
    "            \n",
    "        if score > best_score:\n",
    "            best_score = score\n",
    "            best_auc_roc = auc_roc\n",
    "            best_depth = depth\n",
    "            best_splitter = split\n",
    "                \n",
    "print(f'''\n",
    "F1: {best_score}\n",
    "ROC-AUC: {best_auc_roc}\n",
    "Depth: {best_depth}\n",
    "Splitter: {best_splitter}\n",
    "''')"
   ]
  },
  {
   "cell_type": "code",
   "execution_count": 41,
   "metadata": {},
   "outputs": [
    {
     "name": "stdout",
     "output_type": "stream",
     "text": [
      "\n",
      "F1: 0.6071085494716619\n",
      "AUC-ROC: 0.8034156494364407\n",
      "Depth: 9\n",
      "N_estimators: 50\n",
      "\n"
     ]
    }
   ],
   "source": [
    "# Обучим модель Случайный лес\n",
    "best_score = 0\n",
    "\n",
    "for depth in range(1, 16, 1):\n",
    "    for n_est in range(10, 110, 10):\n",
    "        model = RandomForestClassifier(max_depth=depth,\n",
    "                                       n_estimators=n_est,\n",
    "                                       random_state=123)\n",
    "        \n",
    "        model.fit(features_downsampled, target_downsampled)\n",
    "        predictions_valid = model.predict(features_valid)\n",
    "        score = f1_score(target_valid, predictions_valid)\n",
    "        \n",
    "        probabilities_valid = model.predict_proba(features_valid)\n",
    "        probabilities_one_valid = probabilities_valid[:, 1]\n",
    "        auc_roc = roc_auc_score(target_valid, probabilities_one_valid)\n",
    "        \n",
    "        if score > best_score:\n",
    "            best_score = score\n",
    "            best_depth = depth\n",
    "            best_n_est = n_est\n",
    "            best_auc_score = auc_roc \n",
    "            \n",
    "print(f'''\n",
    "F1: {best_score}\n",
    "AUC-ROC: {best_auc_roc}\n",
    "Depth: {best_depth}\n",
    "N_estimators: {best_n_est}\n",
    "''')"
   ]
  },
  {
   "cell_type": "markdown",
   "metadata": {},
   "source": [
    "После обучения моделей с подбором вес классов, получили следующие результаты:\n",
    "1. LogisticRegression: F1: 0.455, ROC-AUC: 0.747\n",
    "2. DecisionTreeClassifier: F1: 0.577, ROC-AUC: 0.800 | При гиперпараметрах: max_depth: 8, splitter: 'best'\n",
    "3. RandomForestClassifier: F1: 0.607, ROC-AUC: 0.800 | При гиперпараметрах: max_depth: 9, n_estimators: 50, \n",
    "\n",
    "**Наилучшая модель RandomForestClassifier - метрика F1 - 0.607**"
   ]
  },
  {
   "cell_type": "markdown",
   "metadata": {},
   "source": [
    "### Вывод по разделу"
   ]
  },
  {
   "cell_type": "markdown",
   "metadata": {},
   "source": [
    "В ходе борьбы с дисбалансом классов были использованы методы:\n",
    "1. Изменение веса классов\n",
    "2. Увеличение выборки (upsampling)\n",
    "3. Уменьшение выборки (downsampling)\n",
    "\n",
    "Наибольшую метрику **F1** равную **0.636** (ROC-AUC - 0.864) получили при импользовании метода **Изменение веса классов** при использвании модели **RandomForestClassifier** со следующими гипер-параметрами:\n",
    " - max_depth: 9 \n",
    " - n_estimators: 80 \n",
    " - class_weight: 'balanced_subsample'"
   ]
  },
  {
   "cell_type": "markdown",
   "metadata": {},
   "source": [
    "## Тестирование модели"
   ]
  },
  {
   "cell_type": "code",
   "execution_count": 42,
   "metadata": {},
   "outputs": [
    {
     "name": "stdout",
     "output_type": "stream",
     "text": [
      "\n",
      "F1: 0.6280991735537189\n",
      "ROC-AUC: 0.8642072383930122\n",
      "\n"
     ]
    }
   ],
   "source": [
    "# Обучим модель Случайный лес с подобранными гиперпараметрами и проверим на тестовых данных\n",
    "best_score = 0\n",
    "\n",
    "model = RandomForestClassifier(max_depth=9,\n",
    "                               n_estimators=80,\n",
    "                               random_state=123,\n",
    "                               class_weight='balanced_subsample')\n",
    "model.fit(features_train, target_train)\n",
    "predictions_test = model.predict(features_test)\n",
    "score = f1_score(target_test, predictions_test)\n",
    "        \n",
    "probabilities_test = model.predict_proba(features_test)\n",
    "probabilities_one_test = probabilities_test[:, 1]\n",
    "auc_roc = roc_auc_score(target_test, probabilities_one_test)\n",
    "                 \n",
    "print(f'''\n",
    "F1: {score}\n",
    "ROC-AUC: {auc_roc}\n",
    "''')"
   ]
  },
  {
   "cell_type": "code",
   "execution_count": 43,
   "metadata": {},
   "outputs": [],
   "source": [
    "fpr, tpr, thresholds = roc_curve(target_test, probabilities_one_test)"
   ]
  },
  {
   "cell_type": "code",
   "execution_count": 44,
   "metadata": {},
   "outputs": [
    {
     "data": {
      "image/png": "[encoded data removed]",
      "text/plain": [
       "<Figure size 504x504 with 1 Axes>"
      ]
     },
     "metadata": {
      "needs_background": "light"
     },
     "output_type": "display_data"
    }
   ],
   "source": [
    "plt.figure(figsize=(7, 7))\n",
    "\n",
    "plt.plot(fpr, tpr, color='r')\n",
    "plt.plot([0, 1], [0, 1], linestyle='--')\n",
    "plt.xlim(0, 1)\n",
    "plt.ylim(0, 1)\n",
    "\n",
    "# Название графиков и осей\n",
    "plt.title('ROC-кривая', fontsize=16)\n",
    "plt.xlabel('False Positive Rate', fontsize=12)\n",
    "plt.ylabel('True Positive Rate', fontsize=12)\n",
    "\n",
    "plt.show()"
   ]
  },
  {
   "cell_type": "code",
   "execution_count": 45,
   "metadata": {},
   "outputs": [
    {
     "data": {
      "text/plain": [
       "0.6584158415841584"
      ]
     },
     "execution_count": 45,
     "metadata": {},
     "output_type": "execute_result"
    }
   ],
   "source": [
    "# Посмотрим полноту\n",
    "recall_score(target_test, predictions_test)"
   ]
  },
  {
   "cell_type": "markdown",
   "metadata": {},
   "source": [
    "Доля правильных ответов составляет 0.658 %"
   ]
  },
  {
   "cell_type": "markdown",
   "metadata": {},
   "source": [
    "### Проверим метрику F1 на dummy - модели"
   ]
  },
  {
   "cell_type": "code",
   "execution_count": 46,
   "metadata": {},
   "outputs": [
    {
     "name": "stdout",
     "output_type": "stream",
     "text": [
      "F1: 0.3361064891846922\n"
     ]
    }
   ],
   "source": [
    "from sklearn.dummy import DummyClassifier\n",
    "\n",
    "dummy_model = DummyClassifier(strategy='constant', constant=1)\n",
    "dummy_model.fit(features_train, target_train)\n",
    "print(f'F1: {f1_score(dummy_model.predict(features_test), target_test)}')"
   ]
  },
  {
   "cell_type": "markdown",
   "metadata": {},
   "source": [
    "## Вывод"
   ]
  },
  {
   "cell_type": "markdown",
   "metadata": {},
   "source": [
    "В ходе работы было:\n",
    "1. Подготовлены данные для обучения моделей классификации. \n",
    "2. Выявлен дисбалан классов (разница почти в 4 раза).\n",
    "3. Испробованы методы для борьбы с дисбалансом классов:\n",
    " - Изменение веса классов\n",
    " - Увеличение выборки (upsampling)\n",
    " - Уменьшение выборки (downsampling)\n",
    "4. Обучены модели по при каждом методе.\n",
    "\n",
    "В результате проведенных работ наилучшей моделью оказалась модель **RandomForestClassifier** при использовании метода борьбы с дисбалансом - **изменение весов классов**, со следующими гиперпараметрами:\n",
    " - max_depth=9\n",
    " - n_estimators=80\n",
    " - class_weight='balanced_subsample'\n",
    "\n",
    "**Метрики наилучшей модели**\n",
    " - **F1: 0.6280991735537189**\n",
    " - **ROC-AUC: 0.8642072383930122**\n",
    " - **Recall: 0.6584158415841584**"
   ]
  }
 ],
 "metadata": {
  "ExecuteTimeLog": [
   {
    "duration": 341,
    "start_time": "2023-03-25T15:30:47.607Z"
   },
   {
    "duration": 412,
    "start_time": "2023-03-25T15:33:30.896Z"
   },
   {
    "duration": 238,
    "start_time": "2023-03-25T15:33:59.200Z"
   },
   {
    "duration": 1705,
    "start_time": "2023-03-25T17:51:48.990Z"
   },
   {
    "duration": 118,
    "start_time": "2023-03-25T17:51:50.697Z"
   },
   {
    "duration": 16,
    "start_time": "2023-03-25T17:51:57.868Z"
   },
   {
    "duration": 1528,
    "start_time": "2023-03-26T08:15:15.732Z"
   },
   {
    "duration": 178,
    "start_time": "2023-03-26T08:15:17.262Z"
   },
   {
    "duration": 14,
    "start_time": "2023-03-26T08:15:19.094Z"
   },
   {
    "duration": 48,
    "start_time": "2023-03-26T08:25:32.420Z"
   },
   {
    "duration": 7,
    "start_time": "2023-03-26T08:25:44.164Z"
   },
   {
    "duration": 25,
    "start_time": "2023-03-26T08:25:50.311Z"
   },
   {
    "duration": 15,
    "start_time": "2023-03-26T08:25:57.260Z"
   },
   {
    "duration": 45,
    "start_time": "2023-03-26T08:43:34.578Z"
   },
   {
    "duration": 45,
    "start_time": "2023-03-26T08:43:42.119Z"
   },
   {
    "duration": 10,
    "start_time": "2023-03-26T08:43:50.589Z"
   },
   {
    "duration": 5,
    "start_time": "2023-03-26T08:43:57.121Z"
   },
   {
    "duration": 14844,
    "start_time": "2023-03-26T08:44:38.538Z"
   },
   {
    "duration": 259,
    "start_time": "2023-03-26T08:45:22.342Z"
   },
   {
    "duration": 23,
    "start_time": "2023-03-26T08:47:33.833Z"
   },
   {
    "duration": 22,
    "start_time": "2023-03-26T08:47:33.857Z"
   },
   {
    "duration": 11,
    "start_time": "2023-03-26T08:47:57.234Z"
   },
   {
    "duration": 10,
    "start_time": "2023-03-26T08:48:02.477Z"
   },
   {
    "duration": 139,
    "start_time": "2023-03-26T08:48:21.416Z"
   },
   {
    "duration": 12,
    "start_time": "2023-03-26T08:48:26.594Z"
   },
   {
    "duration": 13,
    "start_time": "2023-03-26T08:48:35.819Z"
   },
   {
    "duration": 6,
    "start_time": "2023-03-26T08:48:45.670Z"
   },
   {
    "duration": 13,
    "start_time": "2023-03-26T08:48:50.715Z"
   },
   {
    "duration": 7,
    "start_time": "2023-03-26T08:48:52.986Z"
   },
   {
    "duration": 6,
    "start_time": "2023-03-26T08:49:17.494Z"
   },
   {
    "duration": 5,
    "start_time": "2023-03-26T08:49:19.225Z"
   },
   {
    "duration": 31,
    "start_time": "2023-03-26T08:49:21.804Z"
   },
   {
    "duration": 20,
    "start_time": "2023-03-26T08:49:28.135Z"
   },
   {
    "duration": 5,
    "start_time": "2023-03-26T08:49:32.404Z"
   },
   {
    "duration": 4,
    "start_time": "2023-03-26T09:14:16.839Z"
   },
   {
    "duration": 54,
    "start_time": "2023-03-26T09:14:16.845Z"
   },
   {
    "duration": 18,
    "start_time": "2023-03-26T09:14:16.901Z"
   },
   {
    "duration": 20,
    "start_time": "2023-03-26T09:14:16.921Z"
   },
   {
    "duration": 10,
    "start_time": "2023-03-26T09:14:16.942Z"
   },
   {
    "duration": 11,
    "start_time": "2023-03-26T09:14:16.954Z"
   },
   {
    "duration": 3,
    "start_time": "2023-03-26T09:14:20.475Z"
   },
   {
    "duration": 53,
    "start_time": "2023-03-26T09:14:21.287Z"
   },
   {
    "duration": 1460,
    "start_time": "2023-03-26T09:14:29.299Z"
   },
   {
    "duration": 57,
    "start_time": "2023-03-26T09:14:30.762Z"
   },
   {
    "duration": 13,
    "start_time": "2023-03-26T09:14:30.820Z"
   },
   {
    "duration": 40,
    "start_time": "2023-03-26T09:14:30.835Z"
   },
   {
    "duration": 19,
    "start_time": "2023-03-26T09:14:30.878Z"
   },
   {
    "duration": 21,
    "start_time": "2023-03-26T09:14:30.898Z"
   },
   {
    "duration": 3,
    "start_time": "2023-03-26T09:24:36.252Z"
   },
   {
    "duration": 107,
    "start_time": "2023-03-26T09:24:45.393Z"
   },
   {
    "duration": 13,
    "start_time": "2023-03-26T09:24:50.648Z"
   },
   {
    "duration": 11,
    "start_time": "2023-03-26T09:24:55.180Z"
   },
   {
    "duration": 12,
    "start_time": "2023-03-26T09:25:04.563Z"
   },
   {
    "duration": 10,
    "start_time": "2023-03-26T09:25:07.946Z"
   },
   {
    "duration": 6,
    "start_time": "2023-03-26T09:25:42.598Z"
   },
   {
    "duration": 5,
    "start_time": "2023-03-26T09:25:46.555Z"
   },
   {
    "duration": 5,
    "start_time": "2023-03-26T09:25:49.446Z"
   },
   {
    "duration": 5,
    "start_time": "2023-03-26T09:25:55.022Z"
   },
   {
    "duration": 5,
    "start_time": "2023-03-26T09:26:12.810Z"
   },
   {
    "duration": 9,
    "start_time": "2023-03-26T09:26:37.048Z"
   },
   {
    "duration": 8,
    "start_time": "2023-03-26T09:26:41.552Z"
   },
   {
    "duration": 7,
    "start_time": "2023-03-26T09:27:10.627Z"
   },
   {
    "duration": 12,
    "start_time": "2023-03-26T09:27:26.641Z"
   },
   {
    "duration": 12,
    "start_time": "2023-03-26T09:27:39.406Z"
   },
   {
    "duration": 6,
    "start_time": "2023-03-26T09:28:02.328Z"
   },
   {
    "duration": 6,
    "start_time": "2023-03-26T09:28:02.816Z"
   },
   {
    "duration": 6,
    "start_time": "2023-03-26T09:31:20.269Z"
   },
   {
    "duration": 5,
    "start_time": "2023-03-26T09:31:48.712Z"
   },
   {
    "duration": 1463,
    "start_time": "2023-03-26T14:29:26.463Z"
   },
   {
    "duration": 184,
    "start_time": "2023-03-26T14:29:27.928Z"
   },
   {
    "duration": 16,
    "start_time": "2023-03-26T14:29:28.233Z"
   },
   {
    "duration": 14,
    "start_time": "2023-03-26T14:29:30.019Z"
   },
   {
    "duration": 11,
    "start_time": "2023-03-26T14:29:34.131Z"
   },
   {
    "duration": 6,
    "start_time": "2023-03-26T14:29:36.039Z"
   },
   {
    "duration": 5,
    "start_time": "2023-03-26T14:29:57.198Z"
   },
   {
    "duration": 8,
    "start_time": "2023-03-26T14:30:15.547Z"
   },
   {
    "duration": 100,
    "start_time": "2023-03-26T14:30:19.942Z"
   },
   {
    "duration": 22,
    "start_time": "2023-03-26T14:30:26.232Z"
   },
   {
    "duration": 281,
    "start_time": "2023-03-26T14:30:55.654Z"
   },
   {
    "duration": 807,
    "start_time": "2023-03-26T14:31:01.158Z"
   },
   {
    "duration": 19,
    "start_time": "2023-03-26T14:31:09.155Z"
   },
   {
    "duration": 12,
    "start_time": "2023-03-26T14:31:15.182Z"
   },
   {
    "duration": 24,
    "start_time": "2023-03-26T14:31:19.025Z"
   },
   {
    "duration": 6,
    "start_time": "2023-03-26T14:31:24.329Z"
   },
   {
    "duration": 12,
    "start_time": "2023-03-26T14:31:27.625Z"
   },
   {
    "duration": 4,
    "start_time": "2023-03-26T14:31:30.599Z"
   },
   {
    "duration": 135,
    "start_time": "2023-03-26T14:31:43.665Z"
   },
   {
    "duration": 135,
    "start_time": "2023-03-26T14:32:19.310Z"
   },
   {
    "duration": 153,
    "start_time": "2023-03-26T14:32:22.189Z"
   },
   {
    "duration": 357,
    "start_time": "2023-03-26T14:32:31.446Z"
   },
   {
    "duration": 200,
    "start_time": "2023-03-26T14:32:37.001Z"
   },
   {
    "duration": 154,
    "start_time": "2023-03-26T14:32:42.147Z"
   },
   {
    "duration": 143,
    "start_time": "2023-03-26T14:32:45.108Z"
   },
   {
    "duration": 6,
    "start_time": "2023-03-26T14:36:27.185Z"
   },
   {
    "duration": 3,
    "start_time": "2023-03-26T14:36:44.527Z"
   },
   {
    "duration": 6,
    "start_time": "2023-03-26T14:36:57.692Z"
   },
   {
    "duration": 7,
    "start_time": "2023-03-26T14:37:01.603Z"
   },
   {
    "duration": 4,
    "start_time": "2023-03-26T15:21:06.869Z"
   },
   {
    "duration": 50,
    "start_time": "2023-03-26T15:22:21.035Z"
   },
   {
    "duration": 13,
    "start_time": "2023-03-26T15:23:04.400Z"
   },
   {
    "duration": 39,
    "start_time": "2023-03-26T15:23:39.586Z"
   },
   {
    "duration": 25,
    "start_time": "2023-03-26T15:23:46.249Z"
   },
   {
    "duration": 57,
    "start_time": "2023-03-26T15:24:03.315Z"
   },
   {
    "duration": 406,
    "start_time": "2023-03-26T15:24:19.852Z"
   },
   {
    "duration": 1373,
    "start_time": "2023-03-26T15:25:26.269Z"
   },
   {
    "duration": 55,
    "start_time": "2023-03-26T15:25:27.644Z"
   },
   {
    "duration": 14,
    "start_time": "2023-03-26T15:25:27.703Z"
   },
   {
    "duration": 14,
    "start_time": "2023-03-26T15:25:27.719Z"
   },
   {
    "duration": 17,
    "start_time": "2023-03-26T15:25:27.734Z"
   },
   {
    "duration": 15,
    "start_time": "2023-03-26T15:25:27.753Z"
   },
   {
    "duration": 18,
    "start_time": "2023-03-26T15:25:27.770Z"
   },
   {
    "duration": 9,
    "start_time": "2023-03-26T15:25:27.790Z"
   },
   {
    "duration": 6,
    "start_time": "2023-03-26T15:25:27.801Z"
   },
   {
    "duration": 4,
    "start_time": "2023-03-26T15:32:02.604Z"
   },
   {
    "duration": 13,
    "start_time": "2023-03-26T15:32:12.527Z"
   },
   {
    "duration": 783,
    "start_time": "2023-03-26T15:36:29.962Z"
   },
   {
    "duration": 10,
    "start_time": "2023-03-26T15:36:43.746Z"
   },
   {
    "duration": 9,
    "start_time": "2023-03-26T15:36:54.898Z"
   },
   {
    "duration": 9,
    "start_time": "2023-03-26T15:40:00.868Z"
   },
   {
    "duration": 6,
    "start_time": "2023-03-26T15:40:05.432Z"
   },
   {
    "duration": 20,
    "start_time": "2023-03-26T15:56:36.910Z"
   },
   {
    "duration": 15,
    "start_time": "2023-03-26T15:59:27.915Z"
   },
   {
    "duration": 1730,
    "start_time": "2023-03-26T19:27:06.001Z"
   },
   {
    "duration": 220,
    "start_time": "2023-03-26T19:27:07.733Z"
   },
   {
    "duration": 27,
    "start_time": "2023-03-26T19:27:07.955Z"
   },
   {
    "duration": 15,
    "start_time": "2023-03-26T19:27:07.988Z"
   },
   {
    "duration": 17,
    "start_time": "2023-03-26T19:27:08.005Z"
   },
   {
    "duration": 6,
    "start_time": "2023-03-26T19:27:08.023Z"
   },
   {
    "duration": 5,
    "start_time": "2023-03-26T19:27:08.031Z"
   },
   {
    "duration": 39,
    "start_time": "2023-03-26T19:27:08.037Z"
   },
   {
    "duration": 28,
    "start_time": "2023-03-26T19:27:08.085Z"
   },
   {
    "duration": 6,
    "start_time": "2023-03-26T19:27:08.114Z"
   },
   {
    "duration": 5,
    "start_time": "2023-03-26T19:27:08.122Z"
   },
   {
    "duration": 45,
    "start_time": "2023-03-26T19:29:22.110Z"
   },
   {
    "duration": 2,
    "start_time": "2023-03-26T19:29:33.120Z"
   },
   {
    "duration": 72,
    "start_time": "2023-03-26T19:31:45.858Z"
   },
   {
    "duration": 146,
    "start_time": "2023-03-26T19:31:57.297Z"
   },
   {
    "duration": 6,
    "start_time": "2023-03-26T19:32:16.190Z"
   },
   {
    "duration": 16,
    "start_time": "2023-03-26T19:32:52.592Z"
   },
   {
    "duration": 19,
    "start_time": "2023-03-26T19:33:10.941Z"
   },
   {
    "duration": 11,
    "start_time": "2023-03-26T19:33:49.495Z"
   },
   {
    "duration": 19,
    "start_time": "2023-03-26T19:33:50.010Z"
   },
   {
    "duration": 20,
    "start_time": "2023-03-26T19:34:23.702Z"
   },
   {
    "duration": 19,
    "start_time": "2023-03-26T19:34:25.135Z"
   },
   {
    "duration": 13,
    "start_time": "2023-03-26T19:34:46.498Z"
   },
   {
    "duration": 18,
    "start_time": "2023-03-26T19:39:05.152Z"
   },
   {
    "duration": 19,
    "start_time": "2023-03-26T19:39:48.643Z"
   },
   {
    "duration": 23,
    "start_time": "2023-03-26T19:41:04.686Z"
   },
   {
    "duration": 30,
    "start_time": "2023-03-26T19:41:55.479Z"
   },
   {
    "duration": 6,
    "start_time": "2023-03-26T19:42:57.805Z"
   },
   {
    "duration": 6,
    "start_time": "2023-03-26T19:43:00.507Z"
   },
   {
    "duration": 230,
    "start_time": "2023-03-26T19:43:35.547Z"
   },
   {
    "duration": 36,
    "start_time": "2023-03-26T19:44:06.348Z"
   },
   {
    "duration": 16,
    "start_time": "2023-03-26T19:44:15.149Z"
   },
   {
    "duration": 31,
    "start_time": "2023-03-26T19:44:23.448Z"
   },
   {
    "duration": 245,
    "start_time": "2023-03-26T19:56:37.437Z"
   },
   {
    "duration": 144,
    "start_time": "2023-03-26T19:56:46.086Z"
   },
   {
    "duration": 153,
    "start_time": "2023-03-26T19:56:58.958Z"
   },
   {
    "duration": 313,
    "start_time": "2023-03-26T19:57:01.231Z"
   },
   {
    "duration": 147,
    "start_time": "2023-03-26T20:00:24.910Z"
   },
   {
    "duration": 165,
    "start_time": "2023-03-26T20:01:35.760Z"
   },
   {
    "duration": 13,
    "start_time": "2023-03-26T20:02:13.305Z"
   },
   {
    "duration": 6,
    "start_time": "2023-03-26T20:02:31.130Z"
   },
   {
    "duration": 8,
    "start_time": "2023-03-26T20:03:05.338Z"
   },
   {
    "duration": 4,
    "start_time": "2023-03-26T20:15:54.848Z"
   },
   {
    "duration": 11,
    "start_time": "2023-03-26T20:17:08.795Z"
   },
   {
    "duration": 24,
    "start_time": "2023-03-26T20:17:20.575Z"
   },
   {
    "duration": 7427,
    "start_time": "2023-03-26T20:22:37.674Z"
   },
   {
    "duration": 20,
    "start_time": "2023-03-26T20:24:19.846Z"
   },
   {
    "duration": 7381,
    "start_time": "2023-03-26T20:24:20.370Z"
   },
   {
    "duration": 18,
    "start_time": "2023-03-26T20:31:02.643Z"
   },
   {
    "duration": 41863,
    "start_time": "2023-03-26T20:31:27.137Z"
   },
   {
    "duration": 10,
    "start_time": "2023-03-26T20:35:25.353Z"
   },
   {
    "duration": 157,
    "start_time": "2023-03-26T20:35:34.218Z"
   },
   {
    "duration": 148,
    "start_time": "2023-03-26T20:35:40.944Z"
   },
   {
    "duration": 149,
    "start_time": "2023-03-26T20:35:45.775Z"
   },
   {
    "duration": 230,
    "start_time": "2023-03-26T20:35:59.130Z"
   },
   {
    "duration": 763,
    "start_time": "2023-03-26T20:36:03.296Z"
   },
   {
    "duration": 155,
    "start_time": "2023-03-26T20:36:06.769Z"
   },
   {
    "duration": 153,
    "start_time": "2023-03-26T20:36:11.574Z"
   },
   {
    "duration": 130,
    "start_time": "2023-03-26T20:36:15.510Z"
   },
   {
    "duration": 128,
    "start_time": "2023-03-26T20:36:17.580Z"
   },
   {
    "duration": 56,
    "start_time": "2023-03-26T20:36:19.840Z"
   },
   {
    "duration": 90,
    "start_time": "2023-03-26T20:36:22.298Z"
   },
   {
    "duration": 117,
    "start_time": "2023-03-26T20:36:24.994Z"
   },
   {
    "duration": 137,
    "start_time": "2023-03-26T20:36:27.638Z"
   },
   {
    "duration": 141,
    "start_time": "2023-03-26T20:36:29.775Z"
   },
   {
    "duration": 147,
    "start_time": "2023-03-26T20:36:32.456Z"
   },
   {
    "duration": 142,
    "start_time": "2023-03-26T20:36:34.459Z"
   },
   {
    "duration": 43327,
    "start_time": "2023-03-26T20:36:38.552Z"
   },
   {
    "duration": 165,
    "start_time": "2023-03-26T20:37:30.010Z"
   },
   {
    "duration": 169,
    "start_time": "2023-03-26T20:37:33.074Z"
   },
   {
    "duration": 148,
    "start_time": "2023-03-26T20:37:34.942Z"
   },
   {
    "duration": 158,
    "start_time": "2023-03-26T20:37:36.971Z"
   },
   {
    "duration": 158,
    "start_time": "2023-03-26T20:37:39.759Z"
   },
   {
    "duration": 159,
    "start_time": "2023-03-26T20:37:44.446Z"
   },
   {
    "duration": 154,
    "start_time": "2023-03-26T20:37:47.129Z"
   },
   {
    "duration": 155,
    "start_time": "2023-03-26T20:37:49.901Z"
   },
   {
    "duration": 7760,
    "start_time": "2023-03-26T20:39:52.592Z"
   },
   {
    "duration": 121,
    "start_time": "2023-03-26T20:40:51.443Z"
   },
   {
    "duration": 25,
    "start_time": "2023-03-26T20:40:54.439Z"
   },
   {
    "duration": 137,
    "start_time": "2023-03-26T20:40:59.635Z"
   },
   {
    "duration": 7668,
    "start_time": "2023-03-26T20:41:05.402Z"
   },
   {
    "duration": 42199,
    "start_time": "2023-03-26T20:41:13.072Z"
   },
   {
    "duration": 173,
    "start_time": "2023-03-26T20:41:55.273Z"
   },
   {
    "duration": 1438,
    "start_time": "2023-03-27T19:32:33.484Z"
   },
   {
    "duration": 177,
    "start_time": "2023-03-27T19:32:34.924Z"
   },
   {
    "duration": 12,
    "start_time": "2023-03-27T19:32:35.103Z"
   },
   {
    "duration": 14,
    "start_time": "2023-03-27T19:32:35.116Z"
   },
   {
    "duration": 13,
    "start_time": "2023-03-27T19:32:35.133Z"
   },
   {
    "duration": 14,
    "start_time": "2023-03-27T19:32:35.147Z"
   },
   {
    "duration": 4,
    "start_time": "2023-03-27T19:32:35.163Z"
   },
   {
    "duration": 12,
    "start_time": "2023-03-27T19:32:35.168Z"
   },
   {
    "duration": 24,
    "start_time": "2023-03-27T19:32:35.181Z"
   },
   {
    "duration": 18,
    "start_time": "2023-03-27T19:32:35.206Z"
   },
   {
    "duration": 11,
    "start_time": "2023-03-27T19:32:35.225Z"
   },
   {
    "duration": 139,
    "start_time": "2023-03-27T19:32:35.238Z"
   },
   {
    "duration": 72,
    "start_time": "2023-03-27T19:32:35.380Z"
   },
   {
    "duration": 0,
    "start_time": "2023-03-27T19:32:35.454Z"
   },
   {
    "duration": 0,
    "start_time": "2023-03-27T19:32:35.455Z"
   },
   {
    "duration": 0,
    "start_time": "2023-03-27T19:32:35.456Z"
   },
   {
    "duration": 1,
    "start_time": "2023-03-27T19:32:35.457Z"
   },
   {
    "duration": 0,
    "start_time": "2023-03-27T19:32:35.458Z"
   },
   {
    "duration": 0,
    "start_time": "2023-03-27T19:32:35.460Z"
   },
   {
    "duration": 0,
    "start_time": "2023-03-27T19:32:35.461Z"
   },
   {
    "duration": 0,
    "start_time": "2023-03-27T19:32:35.462Z"
   },
   {
    "duration": 17,
    "start_time": "2023-03-27T19:33:26.235Z"
   },
   {
    "duration": 11,
    "start_time": "2023-03-27T19:33:36.391Z"
   },
   {
    "duration": 5,
    "start_time": "2023-03-27T19:33:47.207Z"
   },
   {
    "duration": 5,
    "start_time": "2023-03-27T19:33:49.301Z"
   },
   {
    "duration": 7,
    "start_time": "2023-03-27T19:34:06.835Z"
   },
   {
    "duration": 6,
    "start_time": "2023-03-27T19:34:12.150Z"
   },
   {
    "duration": 12,
    "start_time": "2023-03-27T19:44:23.510Z"
   },
   {
    "duration": 4,
    "start_time": "2023-03-27T19:44:25.814Z"
   },
   {
    "duration": 3,
    "start_time": "2023-03-27T19:44:32.786Z"
   },
   {
    "duration": 3,
    "start_time": "2023-03-27T19:45:13.034Z"
   },
   {
    "duration": 314,
    "start_time": "2023-03-27T19:52:21.590Z"
   },
   {
    "duration": 38904,
    "start_time": "2023-03-27T19:52:27.694Z"
   },
   {
    "duration": 60,
    "start_time": "2023-03-27T19:53:06.600Z"
   },
   {
    "duration": 91,
    "start_time": "2023-03-27T19:53:20.364Z"
   },
   {
    "duration": 310,
    "start_time": "2023-03-27T19:53:21.057Z"
   },
   {
    "duration": 38371,
    "start_time": "2023-03-27T19:53:23.434Z"
   },
   {
    "duration": 144,
    "start_time": "2023-03-27T19:54:01.807Z"
   },
   {
    "duration": 114174,
    "start_time": "2023-03-27T19:56:15.206Z"
   },
   {
    "duration": 155,
    "start_time": "2023-03-27T19:58:52.681Z"
   },
   {
    "duration": 93,
    "start_time": "2023-03-27T19:58:57.980Z"
   },
   {
    "duration": 80660,
    "start_time": "2023-03-27T19:59:11.057Z"
   },
   {
    "duration": 918,
    "start_time": "2023-03-27T20:01:06.653Z"
   },
   {
    "duration": 87065,
    "start_time": "2023-03-27T20:03:39.187Z"
   },
   {
    "duration": 87885,
    "start_time": "2023-03-27T20:05:49.559Z"
   },
   {
    "duration": 159,
    "start_time": "2023-03-27T20:07:28.197Z"
   },
   {
    "duration": 264,
    "start_time": "2023-03-27T20:07:50.681Z"
   },
   {
    "duration": 324,
    "start_time": "2023-03-27T20:07:53.286Z"
   },
   {
    "duration": 335,
    "start_time": "2023-03-27T20:12:06.419Z"
   },
   {
    "duration": 88096,
    "start_time": "2023-03-27T20:13:30.829Z"
   },
   {
    "duration": 362,
    "start_time": "2023-03-27T20:15:16.567Z"
   },
   {
    "duration": 325,
    "start_time": "2023-03-27T20:16:05.647Z"
   },
   {
    "duration": 261,
    "start_time": "2023-03-27T20:25:46.375Z"
   },
   {
    "duration": 331,
    "start_time": "2023-03-27T20:25:55.307Z"
   },
   {
    "duration": 378,
    "start_time": "2023-03-27T20:26:01.055Z"
   },
   {
    "duration": 348,
    "start_time": "2023-03-27T20:26:08.395Z"
   },
   {
    "duration": 17,
    "start_time": "2023-03-27T20:27:58.504Z"
   },
   {
    "duration": 12,
    "start_time": "2023-03-27T20:28:04.269Z"
   },
   {
    "duration": 11,
    "start_time": "2023-03-27T20:28:33.092Z"
   },
   {
    "duration": 7,
    "start_time": "2023-03-27T20:28:39.952Z"
   },
   {
    "duration": 13,
    "start_time": "2023-03-27T20:28:50.199Z"
   },
   {
    "duration": 1898,
    "start_time": "2023-03-27T20:33:33.473Z"
   },
   {
    "duration": 37,
    "start_time": "2023-03-27T20:34:30.534Z"
   },
   {
    "duration": 2070,
    "start_time": "2023-03-27T20:34:54.249Z"
   },
   {
    "duration": 133995,
    "start_time": "2023-03-27T20:35:05.092Z"
   },
   {
    "duration": 272,
    "start_time": "2023-03-27T20:37:19.088Z"
   },
   {
    "duration": 339,
    "start_time": "2023-03-27T20:37:36.920Z"
   },
   {
    "duration": 8,
    "start_time": "2023-03-27T20:43:51.851Z"
   },
   {
    "duration": 7,
    "start_time": "2023-03-27T20:45:24.877Z"
   },
   {
    "duration": 12,
    "start_time": "2023-03-27T20:48:48.394Z"
   },
   {
    "duration": 9,
    "start_time": "2023-03-27T20:49:20.397Z"
   },
   {
    "duration": 3,
    "start_time": "2023-03-27T20:49:22.580Z"
   },
   {
    "duration": 5,
    "start_time": "2023-03-27T20:50:05.289Z"
   },
   {
    "duration": 5,
    "start_time": "2023-03-27T20:50:10.938Z"
   },
   {
    "duration": 7,
    "start_time": "2023-03-27T20:50:14.178Z"
   },
   {
    "duration": 6,
    "start_time": "2023-03-27T20:50:32.041Z"
   },
   {
    "duration": 10,
    "start_time": "2023-03-27T20:50:40.300Z"
   },
   {
    "duration": 7,
    "start_time": "2023-03-27T20:50:40.890Z"
   },
   {
    "duration": 12,
    "start_time": "2023-03-27T20:50:43.920Z"
   },
   {
    "duration": 8,
    "start_time": "2023-03-27T20:50:44.410Z"
   },
   {
    "duration": 5,
    "start_time": "2023-03-27T20:51:01.819Z"
   },
   {
    "duration": 16,
    "start_time": "2023-03-27T20:51:04.672Z"
   },
   {
    "duration": 6,
    "start_time": "2023-03-27T20:51:13.193Z"
   },
   {
    "duration": 4,
    "start_time": "2023-03-27T20:53:17.812Z"
   },
   {
    "duration": 9,
    "start_time": "2023-03-27T20:54:05.135Z"
   },
   {
    "duration": 7,
    "start_time": "2023-03-27T20:54:06.194Z"
   },
   {
    "duration": 7,
    "start_time": "2023-03-27T20:57:45.898Z"
   },
   {
    "duration": 13,
    "start_time": "2023-03-27T20:58:22.981Z"
   },
   {
    "duration": 13,
    "start_time": "2023-03-27T20:58:23.570Z"
   },
   {
    "duration": 7,
    "start_time": "2023-03-27T20:58:23.985Z"
   },
   {
    "duration": 7,
    "start_time": "2023-03-27T20:58:25.197Z"
   },
   {
    "duration": 10,
    "start_time": "2023-03-27T20:58:59.281Z"
   },
   {
    "duration": 13,
    "start_time": "2023-03-27T21:04:00.074Z"
   },
   {
    "duration": 5,
    "start_time": "2023-03-27T21:04:04.379Z"
   },
   {
    "duration": 12,
    "start_time": "2023-03-27T21:04:05.575Z"
   },
   {
    "duration": 45,
    "start_time": "2023-03-27T21:06:28.772Z"
   },
   {
    "duration": 34,
    "start_time": "2023-03-27T21:08:56.046Z"
   },
   {
    "duration": 12,
    "start_time": "2023-03-27T21:09:47.094Z"
   },
   {
    "duration": 5,
    "start_time": "2023-03-27T21:09:48.104Z"
   },
   {
    "duration": 6,
    "start_time": "2023-03-27T21:09:48.792Z"
   },
   {
    "duration": 1672,
    "start_time": "2023-03-28T18:04:53.432Z"
   },
   {
    "duration": 100,
    "start_time": "2023-03-28T18:04:55.106Z"
   },
   {
    "duration": 13,
    "start_time": "2023-03-28T18:04:55.207Z"
   },
   {
    "duration": 13,
    "start_time": "2023-03-28T18:04:55.222Z"
   },
   {
    "duration": 15,
    "start_time": "2023-03-28T18:04:55.237Z"
   },
   {
    "duration": 81,
    "start_time": "2023-03-28T18:04:55.254Z"
   },
   {
    "duration": 5,
    "start_time": "2023-03-28T18:04:55.337Z"
   },
   {
    "duration": 15,
    "start_time": "2023-03-28T18:04:55.343Z"
   },
   {
    "duration": 39,
    "start_time": "2023-03-28T18:04:55.360Z"
   },
   {
    "duration": 21,
    "start_time": "2023-03-28T18:04:55.401Z"
   },
   {
    "duration": 12,
    "start_time": "2023-03-28T18:04:55.424Z"
   },
   {
    "duration": 147,
    "start_time": "2023-03-28T18:04:55.438Z"
   },
   {
    "duration": 10,
    "start_time": "2023-03-28T18:04:55.587Z"
   },
   {
    "duration": 13,
    "start_time": "2023-03-28T18:04:55.600Z"
   },
   {
    "duration": 30,
    "start_time": "2023-03-28T18:04:55.614Z"
   },
   {
    "duration": 6,
    "start_time": "2023-03-28T18:04:55.646Z"
   },
   {
    "duration": 583,
    "start_time": "2023-03-28T18:04:55.654Z"
   },
   {
    "duration": 0,
    "start_time": "2023-03-28T18:04:56.239Z"
   },
   {
    "duration": 0,
    "start_time": "2023-03-28T18:04:56.240Z"
   },
   {
    "duration": 0,
    "start_time": "2023-03-28T18:04:56.241Z"
   },
   {
    "duration": 0,
    "start_time": "2023-03-28T18:04:56.242Z"
   },
   {
    "duration": 0,
    "start_time": "2023-03-28T18:04:56.243Z"
   },
   {
    "duration": 0,
    "start_time": "2023-03-28T18:04:56.262Z"
   },
   {
    "duration": 0,
    "start_time": "2023-03-28T18:04:56.263Z"
   },
   {
    "duration": 354,
    "start_time": "2023-03-28T18:19:07.709Z"
   },
   {
    "duration": 2314,
    "start_time": "2023-03-28T18:19:11.912Z"
   },
   {
    "duration": 144184,
    "start_time": "2023-03-28T18:19:14.510Z"
   },
   {
    "duration": 1076,
    "start_time": "2023-03-28T18:25:57.145Z"
   },
   {
    "duration": 1099,
    "start_time": "2023-03-28T18:26:10.513Z"
   },
   {
    "duration": 1049,
    "start_time": "2023-03-28T18:26:56.225Z"
   },
   {
    "duration": 1126,
    "start_time": "2023-03-28T18:28:00.201Z"
   },
   {
    "duration": 46302,
    "start_time": "2023-03-28T18:28:29.151Z"
   },
   {
    "duration": 331,
    "start_time": "2023-03-28T18:29:15.456Z"
   },
   {
    "duration": 12,
    "start_time": "2023-03-28T18:29:30.357Z"
   },
   {
    "duration": 13,
    "start_time": "2023-03-28T18:29:39.927Z"
   },
   {
    "duration": 16,
    "start_time": "2023-03-28T18:30:24.900Z"
   },
   {
    "duration": 6,
    "start_time": "2023-03-28T18:30:31.504Z"
   },
   {
    "duration": 9,
    "start_time": "2023-03-28T18:30:33.700Z"
   },
   {
    "duration": 159,
    "start_time": "2023-03-28T18:35:26.267Z"
   },
   {
    "duration": 338,
    "start_time": "2023-03-28T18:35:33.443Z"
   },
   {
    "duration": 162,
    "start_time": "2023-03-28T18:35:47.640Z"
   },
   {
    "duration": 5,
    "start_time": "2023-03-28T18:37:29.790Z"
   },
   {
    "duration": 284,
    "start_time": "2023-03-28T18:37:40.879Z"
   },
   {
    "duration": 6,
    "start_time": "2023-03-28T18:38:15.671Z"
   },
   {
    "duration": 7,
    "start_time": "2023-03-28T18:38:16.027Z"
   },
   {
    "duration": 245,
    "start_time": "2023-03-28T18:38:21.356Z"
   },
   {
    "duration": 239,
    "start_time": "2023-03-28T18:38:26.486Z"
   },
   {
    "duration": 376,
    "start_time": "2023-03-28T18:38:32.579Z"
   },
   {
    "duration": 239,
    "start_time": "2023-03-28T18:38:37.822Z"
   },
   {
    "duration": 59109,
    "start_time": "2023-03-28T18:43:44.357Z"
   },
   {
    "duration": 115482,
    "start_time": "2023-03-28T18:45:14.253Z"
   },
   {
    "duration": 5,
    "start_time": "2023-03-28T18:55:38.776Z"
   },
   {
    "duration": 7,
    "start_time": "2023-03-28T18:55:40.443Z"
   },
   {
    "duration": 12,
    "start_time": "2023-03-28T18:56:06.988Z"
   },
   {
    "duration": 11,
    "start_time": "2023-03-28T18:56:19.472Z"
   },
   {
    "duration": 198,
    "start_time": "2023-03-28T18:56:23.863Z"
   },
   {
    "duration": 4,
    "start_time": "2023-03-28T18:56:26.156Z"
   },
   {
    "duration": 11,
    "start_time": "2023-03-28T18:56:26.811Z"
   },
   {
    "duration": 12,
    "start_time": "2023-03-28T18:57:03.165Z"
   },
   {
    "duration": 10,
    "start_time": "2023-03-28T18:57:09.917Z"
   },
   {
    "duration": 8,
    "start_time": "2023-03-28T18:57:23.006Z"
   },
   {
    "duration": 7,
    "start_time": "2023-03-28T18:57:39.161Z"
   },
   {
    "duration": 11,
    "start_time": "2023-03-28T18:57:39.897Z"
   },
   {
    "duration": 115625,
    "start_time": "2023-03-28T18:57:45.124Z"
   },
   {
    "duration": 363,
    "start_time": "2023-03-28T19:03:23.807Z"
   },
   {
    "duration": 1222,
    "start_time": "2023-03-28T19:06:05.109Z"
   },
   {
    "duration": 44,
    "start_time": "2023-03-28T19:08:36.793Z"
   },
   {
    "duration": 44367,
    "start_time": "2023-03-28T19:08:55.234Z"
   },
   {
    "duration": 158,
    "start_time": "2023-03-28T19:11:08.607Z"
   },
   {
    "duration": 162,
    "start_time": "2023-03-28T19:11:56.026Z"
   },
   {
    "duration": 6,
    "start_time": "2023-03-28T19:14:22.059Z"
   },
   {
    "duration": 6,
    "start_time": "2023-03-28T19:14:36.866Z"
   },
   {
    "duration": 5,
    "start_time": "2023-03-28T19:15:25.341Z"
   },
   {
    "duration": 7,
    "start_time": "2023-03-28T19:15:25.817Z"
   },
   {
    "duration": 47572,
    "start_time": "2023-03-28T19:16:30.535Z"
   },
   {
    "duration": 38,
    "start_time": "2023-03-28T19:17:38.724Z"
   },
   {
    "duration": 27,
    "start_time": "2023-03-28T19:17:45.383Z"
   },
   {
    "duration": 26,
    "start_time": "2023-03-28T19:32:51.116Z"
   },
   {
    "duration": 1611,
    "start_time": "2023-03-28T19:33:02.460Z"
   },
   {
    "duration": 81,
    "start_time": "2023-03-28T19:33:04.074Z"
   },
   {
    "duration": 24,
    "start_time": "2023-03-28T19:33:04.158Z"
   },
   {
    "duration": 20,
    "start_time": "2023-03-28T19:33:04.186Z"
   },
   {
    "duration": 23,
    "start_time": "2023-03-28T19:33:04.208Z"
   },
   {
    "duration": 44,
    "start_time": "2023-03-28T19:33:04.233Z"
   },
   {
    "duration": 9,
    "start_time": "2023-03-28T19:33:04.283Z"
   },
   {
    "duration": 28,
    "start_time": "2023-03-28T19:33:04.294Z"
   },
   {
    "duration": 57,
    "start_time": "2023-03-28T19:33:04.324Z"
   },
   {
    "duration": 12,
    "start_time": "2023-03-28T19:33:04.385Z"
   },
   {
    "duration": 4,
    "start_time": "2023-03-28T19:33:04.399Z"
   },
   {
    "duration": 56,
    "start_time": "2023-03-28T19:33:04.405Z"
   },
   {
    "duration": 14,
    "start_time": "2023-03-28T19:33:04.463Z"
   },
   {
    "duration": 178,
    "start_time": "2023-03-28T19:33:04.479Z"
   },
   {
    "duration": 12,
    "start_time": "2023-03-28T19:33:04.658Z"
   },
   {
    "duration": 8,
    "start_time": "2023-03-28T19:33:04.672Z"
   },
   {
    "duration": 87,
    "start_time": "2023-03-28T19:33:04.683Z"
   },
   {
    "duration": 1340,
    "start_time": "2023-03-28T19:33:04.864Z"
   },
   {
    "duration": 1749,
    "start_time": "2023-03-28T19:33:06.206Z"
   },
   {
    "duration": 0,
    "start_time": "2023-03-28T19:33:07.957Z"
   },
   {
    "duration": 0,
    "start_time": "2023-03-28T19:33:07.959Z"
   },
   {
    "duration": 0,
    "start_time": "2023-03-28T19:33:07.962Z"
   },
   {
    "duration": 0,
    "start_time": "2023-03-28T19:33:07.963Z"
   },
   {
    "duration": 0,
    "start_time": "2023-03-28T19:33:07.965Z"
   },
   {
    "duration": 0,
    "start_time": "2023-03-28T19:33:07.966Z"
   },
   {
    "duration": 0,
    "start_time": "2023-03-28T19:33:07.967Z"
   },
   {
    "duration": 4,
    "start_time": "2023-03-28T19:33:20.037Z"
   },
   {
    "duration": 1482,
    "start_time": "2023-03-28T19:33:32.348Z"
   },
   {
    "duration": 51,
    "start_time": "2023-03-28T19:33:35.682Z"
   },
   {
    "duration": 15,
    "start_time": "2023-03-28T19:33:39.637Z"
   },
   {
    "duration": 12,
    "start_time": "2023-03-28T19:33:40.709Z"
   },
   {
    "duration": 16,
    "start_time": "2023-03-28T19:33:46.473Z"
   },
   {
    "duration": 6,
    "start_time": "2023-03-28T19:33:49.622Z"
   },
   {
    "duration": 6,
    "start_time": "2023-03-28T19:33:51.364Z"
   },
   {
    "duration": 6,
    "start_time": "2023-03-28T19:34:46.406Z"
   },
   {
    "duration": 17,
    "start_time": "2023-03-28T19:34:55.440Z"
   },
   {
    "duration": 23,
    "start_time": "2023-03-28T19:34:59.520Z"
   },
   {
    "duration": 14,
    "start_time": "2023-03-28T19:35:12.390Z"
   },
   {
    "duration": 4,
    "start_time": "2023-03-28T19:35:15.142Z"
   },
   {
    "duration": 31,
    "start_time": "2023-03-28T19:40:58.063Z"
   },
   {
    "duration": 12,
    "start_time": "2023-03-28T19:41:19.392Z"
   },
   {
    "duration": 13,
    "start_time": "2023-03-28T19:41:32.664Z"
   },
   {
    "duration": 13,
    "start_time": "2023-03-28T19:41:40.530Z"
   },
   {
    "duration": 14,
    "start_time": "2023-03-28T19:41:51.409Z"
   },
   {
    "duration": 11,
    "start_time": "2023-03-28T19:41:56.783Z"
   },
   {
    "duration": 28,
    "start_time": "2023-03-28T19:44:16.136Z"
   },
   {
    "duration": 13,
    "start_time": "2023-03-28T19:44:19.386Z"
   },
   {
    "duration": 14,
    "start_time": "2023-03-28T19:45:16.532Z"
   },
   {
    "duration": 183,
    "start_time": "2023-03-28T19:45:21.826Z"
   },
   {
    "duration": 10,
    "start_time": "2023-03-28T19:45:25.564Z"
   },
   {
    "duration": 7,
    "start_time": "2023-03-28T19:45:26.392Z"
   },
   {
    "duration": 304,
    "start_time": "2023-03-28T19:45:34.359Z"
   },
   {
    "duration": 1187,
    "start_time": "2023-03-28T19:45:40.260Z"
   },
   {
    "duration": 1566,
    "start_time": "2023-03-28T19:46:11.234Z"
   },
   {
    "duration": 45765,
    "start_time": "2023-03-28T19:46:27.822Z"
   },
   {
    "duration": 4,
    "start_time": "2023-03-28T19:47:40.226Z"
   },
   {
    "duration": 12,
    "start_time": "2023-03-28T19:47:43.909Z"
   },
   {
    "duration": 19,
    "start_time": "2023-03-28T19:47:49.083Z"
   },
   {
    "duration": 10,
    "start_time": "2023-03-28T19:47:51.387Z"
   },
   {
    "duration": 8,
    "start_time": "2023-03-28T19:47:55.707Z"
   },
   {
    "duration": 789,
    "start_time": "2023-03-28T19:48:01.564Z"
   },
   {
    "duration": 113882,
    "start_time": "2023-03-28T19:48:21.717Z"
   },
   {
    "duration": 62,
    "start_time": "2023-03-28T19:52:04.128Z"
   },
   {
    "duration": 63192,
    "start_time": "2023-03-28T19:52:17.759Z"
   },
   {
    "duration": 5,
    "start_time": "2023-03-28T19:53:59.085Z"
   },
   {
    "duration": 7,
    "start_time": "2023-03-28T19:56:51.415Z"
   },
   {
    "duration": 8,
    "start_time": "2023-03-28T19:57:45.604Z"
   },
   {
    "duration": 7,
    "start_time": "2023-03-28T19:58:03.469Z"
   },
   {
    "duration": 4,
    "start_time": "2023-03-28T19:58:08.144Z"
   },
   {
    "duration": 6,
    "start_time": "2023-03-28T19:58:14.060Z"
   },
   {
    "duration": 20,
    "start_time": "2023-03-28T19:58:22.665Z"
   },
   {
    "duration": 11,
    "start_time": "2023-03-28T19:58:29.829Z"
   },
   {
    "duration": 6,
    "start_time": "2023-03-28T19:58:31.848Z"
   },
   {
    "duration": 5,
    "start_time": "2023-03-28T19:58:40.100Z"
   },
   {
    "duration": 17,
    "start_time": "2023-03-28T19:58:51.419Z"
   },
   {
    "duration": 6,
    "start_time": "2023-03-28T19:58:51.837Z"
   },
   {
    "duration": 7,
    "start_time": "2023-03-28T19:58:53.243Z"
   },
   {
    "duration": 59308,
    "start_time": "2023-03-28T19:58:56.868Z"
   },
   {
    "duration": 15,
    "start_time": "2023-03-28T20:00:52.528Z"
   },
   {
    "duration": 6,
    "start_time": "2023-03-28T20:00:53.154Z"
   },
   {
    "duration": 8,
    "start_time": "2023-03-28T20:00:53.511Z"
   },
   {
    "duration": 65668,
    "start_time": "2023-03-28T20:00:55.943Z"
   },
   {
    "duration": 14,
    "start_time": "2023-03-28T20:02:53.063Z"
   },
   {
    "duration": 6,
    "start_time": "2023-03-28T20:02:55.976Z"
   },
   {
    "duration": 9,
    "start_time": "2023-03-28T20:02:56.381Z"
   },
   {
    "duration": 12,
    "start_time": "2023-03-28T20:07:03.289Z"
   },
   {
    "duration": 22,
    "start_time": "2023-03-28T20:07:19.798Z"
   },
   {
    "duration": 23,
    "start_time": "2023-03-28T20:07:26.291Z"
   },
   {
    "duration": 23,
    "start_time": "2023-03-28T20:07:32.045Z"
   },
   {
    "duration": 21,
    "start_time": "2023-03-28T20:07:41.522Z"
   },
   {
    "duration": 20,
    "start_time": "2023-03-28T20:07:52.666Z"
   },
   {
    "duration": 10,
    "start_time": "2023-03-28T20:07:57.175Z"
   },
   {
    "duration": 12,
    "start_time": "2023-03-28T20:08:07.672Z"
   },
   {
    "duration": 14,
    "start_time": "2023-03-28T20:08:30.849Z"
   },
   {
    "duration": 13,
    "start_time": "2023-03-28T20:08:34.473Z"
   },
   {
    "duration": 11,
    "start_time": "2023-03-28T20:08:37.925Z"
   },
   {
    "duration": 27150,
    "start_time": "2023-03-28T20:15:17.899Z"
   },
   {
    "duration": 27598,
    "start_time": "2023-03-28T20:17:29.026Z"
   },
   {
    "duration": 61093,
    "start_time": "2023-03-28T20:19:35.099Z"
   },
   {
    "duration": 8,
    "start_time": "2023-03-28T20:21:39.180Z"
   },
   {
    "duration": 9,
    "start_time": "2023-03-28T20:21:40.189Z"
   },
   {
    "duration": 63166,
    "start_time": "2023-03-28T20:22:14.668Z"
   },
   {
    "duration": 62956,
    "start_time": "2023-03-28T20:24:16.494Z"
   },
   {
    "duration": 7,
    "start_time": "2023-03-28T20:27:20.108Z"
   },
   {
    "duration": 14,
    "start_time": "2023-03-28T20:27:20.615Z"
   },
   {
    "duration": 8,
    "start_time": "2023-03-28T20:27:21.175Z"
   },
   {
    "duration": 8,
    "start_time": "2023-03-28T20:27:21.638Z"
   },
   {
    "duration": 58853,
    "start_time": "2023-03-28T20:27:23.396Z"
   },
   {
    "duration": 45160,
    "start_time": "2023-03-28T20:31:12.622Z"
   },
   {
    "duration": 3,
    "start_time": "2023-03-28T20:31:57.783Z"
   },
   {
    "duration": 4,
    "start_time": "2023-03-28T20:31:57.788Z"
   },
   {
    "duration": 28039,
    "start_time": "2023-03-28T20:31:57.794Z"
   },
   {
    "duration": 137,
    "start_time": "2023-03-28T20:35:44.825Z"
   },
   {
    "duration": 1345,
    "start_time": "2023-03-28T20:42:44.904Z"
   },
   {
    "duration": 59763,
    "start_time": "2023-03-28T20:42:47.011Z"
   },
   {
    "duration": 26,
    "start_time": "2023-03-28T20:43:46.776Z"
   },
   {
    "duration": 1235,
    "start_time": "2023-03-28T20:43:46.863Z"
   },
   {
    "duration": 44553,
    "start_time": "2023-03-28T20:44:01.363Z"
   },
   {
    "duration": 1075,
    "start_time": "2023-03-28T20:44:45.918Z"
   },
   {
    "duration": 1413,
    "start_time": "2023-03-28T20:45:47.784Z"
   },
   {
    "duration": 51,
    "start_time": "2023-03-28T20:45:49.199Z"
   },
   {
    "duration": 14,
    "start_time": "2023-03-28T20:45:49.252Z"
   },
   {
    "duration": 11,
    "start_time": "2023-03-28T20:45:49.269Z"
   },
   {
    "duration": 15,
    "start_time": "2023-03-28T20:45:49.282Z"
   },
   {
    "duration": 7,
    "start_time": "2023-03-28T20:45:49.299Z"
   },
   {
    "duration": 10,
    "start_time": "2023-03-28T20:45:49.307Z"
   },
   {
    "duration": 42,
    "start_time": "2023-03-28T20:45:49.319Z"
   },
   {
    "duration": 20,
    "start_time": "2023-03-28T20:45:49.363Z"
   },
   {
    "duration": 11,
    "start_time": "2023-03-28T20:45:49.387Z"
   },
   {
    "duration": 4,
    "start_time": "2023-03-28T20:45:49.400Z"
   },
   {
    "duration": 59,
    "start_time": "2023-03-28T20:45:49.406Z"
   },
   {
    "duration": 12,
    "start_time": "2023-03-28T20:45:49.467Z"
   },
   {
    "duration": 147,
    "start_time": "2023-03-28T20:45:49.481Z"
   },
   {
    "duration": 9,
    "start_time": "2023-03-28T20:45:49.629Z"
   },
   {
    "duration": 24,
    "start_time": "2023-03-28T20:45:49.639Z"
   },
   {
    "duration": 27,
    "start_time": "2023-03-28T20:45:49.664Z"
   },
   {
    "duration": 1251,
    "start_time": "2023-03-28T20:45:49.762Z"
   },
   {
    "duration": 44143,
    "start_time": "2023-03-28T20:45:51.016Z"
   },
   {
    "duration": 5,
    "start_time": "2023-03-28T20:46:35.161Z"
   },
   {
    "duration": 10,
    "start_time": "2023-03-28T20:46:35.168Z"
   },
   {
    "duration": 16,
    "start_time": "2023-03-28T20:46:35.181Z"
   },
   {
    "duration": 6,
    "start_time": "2023-03-28T20:46:35.199Z"
   },
   {
    "duration": 7,
    "start_time": "2023-03-28T20:46:35.207Z"
   },
   {
    "duration": 251,
    "start_time": "2023-03-28T20:46:35.216Z"
   },
   {
    "duration": 1562,
    "start_time": "2023-03-28T20:46:35.468Z"
   },
   {
    "duration": 59458,
    "start_time": "2023-03-28T20:46:37.032Z"
   },
   {
    "duration": 9,
    "start_time": "2023-03-28T20:47:36.495Z"
   },
   {
    "duration": 3,
    "start_time": "2023-03-28T20:47:36.506Z"
   },
   {
    "duration": 4,
    "start_time": "2023-03-28T20:47:36.511Z"
   },
   {
    "duration": 28178,
    "start_time": "2023-03-28T20:47:36.516Z"
   },
   {
    "duration": 191,
    "start_time": "2023-03-28T20:48:04.696Z"
   },
   {
    "duration": 638,
    "start_time": "2023-03-28T20:54:49.574Z"
   },
   {
    "duration": 602,
    "start_time": "2023-03-28T20:56:01.406Z"
   },
   {
    "duration": 12,
    "start_time": "2023-03-28T20:58:49.707Z"
   },
   {
    "duration": 5,
    "start_time": "2023-03-28T20:59:11.216Z"
   },
   {
    "duration": 9,
    "start_time": "2023-03-28T20:59:39.428Z"
   },
   {
    "duration": 1690,
    "start_time": "2023-03-29T10:22:52.976Z"
   },
   {
    "duration": 101,
    "start_time": "2023-03-29T10:22:54.668Z"
   },
   {
    "duration": 13,
    "start_time": "2023-03-29T10:22:54.771Z"
   },
   {
    "duration": 12,
    "start_time": "2023-03-29T10:22:54.786Z"
   },
   {
    "duration": 14,
    "start_time": "2023-03-29T10:22:54.799Z"
   },
   {
    "duration": 5,
    "start_time": "2023-03-29T10:22:54.815Z"
   },
   {
    "duration": 5,
    "start_time": "2023-03-29T10:22:54.841Z"
   },
   {
    "duration": 14,
    "start_time": "2023-03-29T10:22:54.848Z"
   },
   {
    "duration": 20,
    "start_time": "2023-03-29T10:22:54.863Z"
   },
   {
    "duration": 11,
    "start_time": "2023-03-29T10:22:54.885Z"
   },
   {
    "duration": 3,
    "start_time": "2023-03-29T10:22:54.898Z"
   },
   {
    "duration": 57,
    "start_time": "2023-03-29T10:22:54.902Z"
   },
   {
    "duration": 10,
    "start_time": "2023-03-29T10:22:54.961Z"
   },
   {
    "duration": 147,
    "start_time": "2023-03-29T10:22:54.973Z"
   },
   {
    "duration": 8,
    "start_time": "2023-03-29T10:22:55.122Z"
   },
   {
    "duration": 6,
    "start_time": "2023-03-29T10:22:55.141Z"
   },
   {
    "duration": 93,
    "start_time": "2023-03-29T10:22:55.149Z"
   },
   {
    "duration": 208,
    "start_time": "2023-03-29T10:22:55.244Z"
   },
   {
    "duration": 0,
    "start_time": "2023-03-29T10:22:55.454Z"
   },
   {
    "duration": 0,
    "start_time": "2023-03-29T10:22:55.455Z"
   },
   {
    "duration": 0,
    "start_time": "2023-03-29T10:22:55.457Z"
   },
   {
    "duration": 0,
    "start_time": "2023-03-29T10:22:55.458Z"
   },
   {
    "duration": 0,
    "start_time": "2023-03-29T10:22:55.472Z"
   },
   {
    "duration": 4,
    "start_time": "2023-03-29T10:24:41.434Z"
   },
   {
    "duration": 1323,
    "start_time": "2023-03-29T10:26:00.285Z"
   },
   {
    "duration": 53,
    "start_time": "2023-03-29T10:26:01.613Z"
   },
   {
    "duration": 12,
    "start_time": "2023-03-29T10:26:01.667Z"
   },
   {
    "duration": 31,
    "start_time": "2023-03-29T10:26:01.682Z"
   },
   {
    "duration": 28,
    "start_time": "2023-03-29T10:26:01.715Z"
   },
   {
    "duration": 30,
    "start_time": "2023-03-29T10:26:01.744Z"
   },
   {
    "duration": 22,
    "start_time": "2023-03-29T10:26:01.776Z"
   },
   {
    "duration": 33,
    "start_time": "2023-03-29T10:26:01.799Z"
   },
   {
    "duration": 31,
    "start_time": "2023-03-29T10:26:01.833Z"
   },
   {
    "duration": 29,
    "start_time": "2023-03-29T10:26:01.867Z"
   },
   {
    "duration": 22,
    "start_time": "2023-03-29T10:26:01.898Z"
   },
   {
    "duration": 50,
    "start_time": "2023-03-29T10:26:01.922Z"
   },
   {
    "duration": 41,
    "start_time": "2023-03-29T10:26:01.974Z"
   },
   {
    "duration": 173,
    "start_time": "2023-03-29T10:26:02.016Z"
   },
   {
    "duration": 4,
    "start_time": "2023-03-29T10:27:18.825Z"
   },
   {
    "duration": 49,
    "start_time": "2023-03-29T10:27:25.257Z"
   },
   {
    "duration": 12,
    "start_time": "2023-03-29T10:27:30.699Z"
   },
   {
    "duration": 12,
    "start_time": "2023-03-29T10:27:33.513Z"
   },
   {
    "duration": 19,
    "start_time": "2023-03-29T10:27:41.385Z"
   },
   {
    "duration": 7,
    "start_time": "2023-03-29T10:27:47.835Z"
   },
   {
    "duration": 5,
    "start_time": "2023-03-29T10:27:49.273Z"
   },
   {
    "duration": 13,
    "start_time": "2023-03-29T10:27:56.001Z"
   },
   {
    "duration": 28,
    "start_time": "2023-03-29T10:27:58.964Z"
   },
   {
    "duration": 12,
    "start_time": "2023-03-29T10:28:03.305Z"
   },
   {
    "duration": 4,
    "start_time": "2023-03-29T10:28:07.808Z"
   },
   {
    "duration": 28,
    "start_time": "2023-03-29T10:28:17.567Z"
   },
   {
    "duration": 11,
    "start_time": "2023-03-29T10:28:20.202Z"
   },
   {
    "duration": 25,
    "start_time": "2023-03-29T10:28:37.295Z"
   },
   {
    "duration": 13,
    "start_time": "2023-03-29T10:28:39.356Z"
   },
   {
    "duration": 151,
    "start_time": "2023-03-29T10:28:43.395Z"
   },
   {
    "duration": 9,
    "start_time": "2023-03-29T10:28:43.904Z"
   },
   {
    "duration": 6,
    "start_time": "2023-03-29T10:28:45.883Z"
   },
   {
    "duration": 40,
    "start_time": "2023-03-29T10:28:50.801Z"
   },
   {
    "duration": 512,
    "start_time": "2023-03-29T10:28:57.452Z"
   },
   {
    "duration": 43085,
    "start_time": "2023-03-29T10:28:58.595Z"
   },
   {
    "duration": 3,
    "start_time": "2023-03-29T10:29:41.682Z"
   },
   {
    "duration": 7,
    "start_time": "2023-03-29T10:29:41.687Z"
   },
   {
    "duration": 11,
    "start_time": "2023-03-29T10:29:41.696Z"
   },
   {
    "duration": 5,
    "start_time": "2023-03-29T10:29:41.708Z"
   },
   {
    "duration": 31,
    "start_time": "2023-03-29T10:29:41.714Z"
   },
   {
    "duration": 551,
    "start_time": "2023-03-29T10:36:46.210Z"
   },
   {
    "duration": 43398,
    "start_time": "2023-03-29T10:36:48.042Z"
   },
   {
    "duration": 5,
    "start_time": "2023-03-29T10:46:53.696Z"
   },
   {
    "duration": 6,
    "start_time": "2023-03-29T10:46:55.560Z"
   },
   {
    "duration": 11,
    "start_time": "2023-03-29T10:46:56.704Z"
   },
   {
    "duration": 6,
    "start_time": "2023-03-29T10:46:57.184Z"
   },
   {
    "duration": 7,
    "start_time": "2023-03-29T10:46:57.692Z"
   },
   {
    "duration": 342,
    "start_time": "2023-03-29T10:47:08.601Z"
   },
   {
    "duration": 570,
    "start_time": "2023-03-29T10:47:41.978Z"
   },
   {
    "duration": 9,
    "start_time": "2023-03-29T11:08:15.935Z"
   },
   {
    "duration": 1036,
    "start_time": "2023-03-29T11:12:25.471Z"
   },
   {
    "duration": 53,
    "start_time": "2023-03-29T11:27:00.235Z"
   },
   {
    "duration": 38,
    "start_time": "2023-03-29T11:27:39.780Z"
   },
   {
    "duration": 145654,
    "start_time": "2023-03-29T11:27:49.893Z"
   },
   {
    "duration": 6,
    "start_time": "2023-03-29T11:30:15.549Z"
   },
   {
    "duration": 13,
    "start_time": "2023-03-29T11:30:15.557Z"
   },
   {
    "duration": 6,
    "start_time": "2023-03-29T11:30:15.571Z"
   },
   {
    "duration": 6,
    "start_time": "2023-03-29T11:30:15.578Z"
   },
   {
    "duration": 7,
    "start_time": "2023-03-29T11:37:15.596Z"
   },
   {
    "duration": 11,
    "start_time": "2023-03-29T11:37:19.661Z"
   },
   {
    "duration": 6,
    "start_time": "2023-03-29T11:37:21.203Z"
   },
   {
    "duration": 5,
    "start_time": "2023-03-29T11:39:41.877Z"
   },
   {
    "duration": 266,
    "start_time": "2023-03-29T11:43:26.582Z"
   },
   {
    "duration": 24,
    "start_time": "2023-03-29T11:43:27.041Z"
   },
   {
    "duration": 630,
    "start_time": "2023-03-29T11:43:40.652Z"
   },
   {
    "duration": 57820,
    "start_time": "2023-03-29T11:43:49.708Z"
   },
   {
    "duration": 9,
    "start_time": "2023-03-29T11:45:11.628Z"
   },
   {
    "duration": 2,
    "start_time": "2023-03-29T11:45:13.275Z"
   },
   {
    "duration": 340,
    "start_time": "2023-03-29T11:46:06.349Z"
   },
   {
    "duration": 27272,
    "start_time": "2023-03-29T11:46:40.261Z"
   },
   {
    "duration": 172714,
    "start_time": "2023-03-29T11:49:49.309Z"
   },
   {
    "duration": 0,
    "start_time": "2023-03-29T11:58:37.295Z"
   },
   {
    "duration": 173229,
    "start_time": "2023-03-29T12:00:14.108Z"
   },
   {
    "duration": 12,
    "start_time": "2023-03-29T12:03:07.350Z"
   },
   {
    "duration": 192423,
    "start_time": "2023-03-29T12:19:12.106Z"
   },
   {
    "duration": 25,
    "start_time": "2023-03-29T13:09:27.413Z"
   },
   {
    "duration": 13,
    "start_time": "2023-03-29T13:11:02.465Z"
   },
   {
    "duration": 6,
    "start_time": "2023-03-29T13:27:13.992Z"
   },
   {
    "duration": 429,
    "start_time": "2023-03-29T13:43:23.035Z"
   },
   {
    "duration": 403,
    "start_time": "2023-03-29T13:43:34.685Z"
   },
   {
    "duration": 3,
    "start_time": "2023-03-29T13:44:24.089Z"
   },
   {
    "duration": 4,
    "start_time": "2023-03-29T13:45:11.138Z"
   },
   {
    "duration": 7,
    "start_time": "2023-03-29T14:01:44.175Z"
   },
   {
    "duration": 6,
    "start_time": "2023-03-29T14:03:31.993Z"
   },
   {
    "duration": 139,
    "start_time": "2023-03-29T14:07:26.343Z"
   },
   {
    "duration": 4,
    "start_time": "2023-03-29T14:21:31.767Z"
   },
   {
    "duration": 75,
    "start_time": "2023-03-29T14:21:31.773Z"
   },
   {
    "duration": 15,
    "start_time": "2023-03-29T14:21:31.850Z"
   },
   {
    "duration": 12,
    "start_time": "2023-03-29T14:21:31.866Z"
   },
   {
    "duration": 15,
    "start_time": "2023-03-29T14:21:31.880Z"
   },
   {
    "duration": 8,
    "start_time": "2023-03-29T14:21:31.896Z"
   },
   {
    "duration": 37,
    "start_time": "2023-03-29T14:21:31.905Z"
   },
   {
    "duration": 14,
    "start_time": "2023-03-29T14:21:31.943Z"
   },
   {
    "duration": 32,
    "start_time": "2023-03-29T14:21:31.960Z"
   },
   {
    "duration": 11,
    "start_time": "2023-03-29T14:21:31.993Z"
   },
   {
    "duration": 12,
    "start_time": "2023-03-29T14:21:32.006Z"
   },
   {
    "duration": 45,
    "start_time": "2023-03-29T14:21:32.019Z"
   },
   {
    "duration": 12,
    "start_time": "2023-03-29T14:21:32.067Z"
   },
   {
    "duration": 168,
    "start_time": "2023-03-29T14:21:32.081Z"
   },
   {
    "duration": 1397,
    "start_time": "2023-03-29T14:25:03.401Z"
   },
   {
    "duration": 55,
    "start_time": "2023-03-29T14:25:08.464Z"
   },
   {
    "duration": 12,
    "start_time": "2023-03-29T14:25:09.727Z"
   },
   {
    "duration": 12,
    "start_time": "2023-03-29T14:25:15.914Z"
   },
   {
    "duration": 16,
    "start_time": "2023-03-29T14:25:19.946Z"
   },
   {
    "duration": 6,
    "start_time": "2023-03-29T14:25:27.930Z"
   },
   {
    "duration": 6,
    "start_time": "2023-03-29T14:25:32.714Z"
   },
   {
    "duration": 14,
    "start_time": "2023-03-29T14:25:38.472Z"
   },
   {
    "duration": 22,
    "start_time": "2023-03-29T14:25:44.496Z"
   },
   {
    "duration": 10,
    "start_time": "2023-03-29T14:25:49.945Z"
   },
   {
    "duration": 10,
    "start_time": "2023-03-29T14:25:51.598Z"
   },
   {
    "duration": 25,
    "start_time": "2023-03-29T14:26:17.988Z"
   },
   {
    "duration": 15,
    "start_time": "2023-03-29T14:26:19.338Z"
   },
   {
    "duration": 240,
    "start_time": "2023-03-29T14:26:29.694Z"
   },
   {
    "duration": 11,
    "start_time": "2023-03-29T14:26:31.491Z"
   },
   {
    "duration": 8,
    "start_time": "2023-03-29T14:26:31.928Z"
   },
   {
    "duration": 28,
    "start_time": "2023-03-29T14:26:40.447Z"
   },
   {
    "duration": 41873,
    "start_time": "2023-03-29T14:27:55.118Z"
   },
   {
    "duration": 4,
    "start_time": "2023-03-29T14:28:52.597Z"
   },
   {
    "duration": 490,
    "start_time": "2023-03-29T14:28:58.018Z"
   },
   {
    "duration": 534,
    "start_time": "2023-03-29T14:29:05.506Z"
   },
   {
    "duration": 1022,
    "start_time": "2023-03-29T14:29:11.306Z"
   },
   {
    "duration": 139070,
    "start_time": "2023-03-29T14:33:55.858Z"
   },
   {
    "duration": 13,
    "start_time": "2023-03-29T14:36:14.929Z"
   },
   {
    "duration": 12,
    "start_time": "2023-03-29T14:36:14.944Z"
   },
   {
    "duration": 5,
    "start_time": "2023-03-29T14:36:14.958Z"
   },
   {
    "duration": 6,
    "start_time": "2023-03-29T14:36:14.964Z"
   },
   {
    "duration": 1544,
    "start_time": "2023-03-29T16:00:16.155Z"
   },
   {
    "duration": 299,
    "start_time": "2023-03-29T16:00:17.701Z"
   },
   {
    "duration": 11,
    "start_time": "2023-03-29T16:00:18.001Z"
   },
   {
    "duration": 10,
    "start_time": "2023-03-29T16:00:18.014Z"
   },
   {
    "duration": 14,
    "start_time": "2023-03-29T16:00:18.025Z"
   },
   {
    "duration": 16,
    "start_time": "2023-03-29T16:00:18.040Z"
   },
   {
    "duration": 15,
    "start_time": "2023-03-29T16:00:18.057Z"
   },
   {
    "duration": 26,
    "start_time": "2023-03-29T16:00:18.073Z"
   },
   {
    "duration": 32,
    "start_time": "2023-03-29T16:00:18.100Z"
   },
   {
    "duration": 10,
    "start_time": "2023-03-29T16:00:18.134Z"
   },
   {
    "duration": 7,
    "start_time": "2023-03-29T16:00:18.145Z"
   },
   {
    "duration": 38,
    "start_time": "2023-03-29T16:00:18.154Z"
   },
   {
    "duration": 9,
    "start_time": "2023-03-29T16:00:18.194Z"
   },
   {
    "duration": 133,
    "start_time": "2023-03-29T16:00:18.205Z"
   },
   {
    "duration": 7,
    "start_time": "2023-03-29T16:00:18.340Z"
   },
   {
    "duration": 25,
    "start_time": "2023-03-29T16:00:18.349Z"
   },
   {
    "duration": 102,
    "start_time": "2023-03-29T16:00:18.375Z"
   },
   {
    "duration": 705,
    "start_time": "2023-03-29T16:00:18.478Z"
   },
   {
    "duration": 43794,
    "start_time": "2023-03-29T16:00:19.185Z"
   },
   {
    "duration": 3,
    "start_time": "2023-03-29T16:01:02.981Z"
   },
   {
    "duration": 695,
    "start_time": "2023-03-29T16:01:02.986Z"
   },
   {
    "duration": 1111,
    "start_time": "2023-03-29T16:01:03.774Z"
   },
   {
    "duration": 137305,
    "start_time": "2023-03-29T16:01:04.887Z"
   },
   {
    "duration": 6,
    "start_time": "2023-03-29T16:03:22.194Z"
   },
   {
    "duration": 13,
    "start_time": "2023-03-29T16:03:22.202Z"
   },
   {
    "duration": 17,
    "start_time": "2023-03-29T16:03:22.216Z"
   },
   {
    "duration": 15,
    "start_time": "2023-03-29T16:03:22.235Z"
   },
   {
    "duration": 228,
    "start_time": "2023-03-29T16:03:22.253Z"
   },
   {
    "duration": 824,
    "start_time": "2023-03-29T16:03:22.483Z"
   },
   {
    "duration": 58018,
    "start_time": "2023-03-29T16:03:23.309Z"
   },
   {
    "duration": 10,
    "start_time": "2023-03-29T16:04:21.328Z"
   },
   {
    "duration": 134,
    "start_time": "2023-03-29T16:04:21.339Z"
   },
   {
    "duration": 412,
    "start_time": "2023-03-29T16:04:21.474Z"
   },
   {
    "duration": 25367,
    "start_time": "2023-03-29T16:04:21.887Z"
   },
   {
    "duration": 359,
    "start_time": "2023-03-29T16:04:47.255Z"
   },
   {
    "duration": 4,
    "start_time": "2023-03-29T16:04:47.616Z"
   },
   {
    "duration": 125,
    "start_time": "2023-03-29T16:04:47.621Z"
   },
   {
    "duration": 56,
    "start_time": "2023-03-30T19:56:33.505Z"
   },
   {
    "duration": 1650,
    "start_time": "2023-03-30T19:56:40.071Z"
   },
   {
    "duration": 127,
    "start_time": "2023-03-30T19:56:46.076Z"
   },
   {
    "duration": 28,
    "start_time": "2023-03-30T19:56:46.937Z"
   },
   {
    "duration": 13,
    "start_time": "2023-03-30T19:56:50.264Z"
   },
   {
    "duration": 16,
    "start_time": "2023-03-30T19:56:52.467Z"
   },
   {
    "duration": 6,
    "start_time": "2023-03-30T19:56:56.476Z"
   },
   {
    "duration": 6,
    "start_time": "2023-03-30T19:57:00.130Z"
   },
   {
    "duration": 9,
    "start_time": "2023-03-30T19:57:07.761Z"
   },
   {
    "duration": 153,
    "start_time": "2023-03-30T20:00:16.259Z"
   },
   {
    "duration": 152,
    "start_time": "2023-03-30T20:01:01.676Z"
   },
   {
    "duration": 139,
    "start_time": "2023-03-30T20:01:18.195Z"
   },
   {
    "duration": 226,
    "start_time": "2023-03-30T20:01:24.774Z"
   },
   {
    "duration": 165,
    "start_time": "2023-03-30T20:01:29.784Z"
   },
   {
    "duration": 162,
    "start_time": "2023-03-30T20:02:24.259Z"
   },
   {
    "duration": 162,
    "start_time": "2023-03-30T20:02:37.740Z"
   },
   {
    "duration": 179,
    "start_time": "2023-03-30T20:02:46.283Z"
   },
   {
    "duration": 178,
    "start_time": "2023-03-30T20:07:19.936Z"
   },
   {
    "duration": 186,
    "start_time": "2023-03-30T20:08:04.807Z"
   },
   {
    "duration": 167,
    "start_time": "2023-03-30T20:09:57.564Z"
   },
   {
    "duration": 190,
    "start_time": "2023-03-30T20:10:01.447Z"
   },
   {
    "duration": 157,
    "start_time": "2023-03-30T20:10:04.668Z"
   },
   {
    "duration": 174,
    "start_time": "2023-03-30T20:10:08.097Z"
   },
   {
    "duration": 179,
    "start_time": "2023-03-30T20:10:13.510Z"
   },
   {
    "duration": 183,
    "start_time": "2023-03-30T20:10:44.378Z"
   },
   {
    "duration": 268,
    "start_time": "2023-03-30T20:10:49.396Z"
   },
   {
    "duration": 191,
    "start_time": "2023-03-30T20:11:06.001Z"
   },
   {
    "duration": 201,
    "start_time": "2023-03-30T20:11:56.866Z"
   },
   {
    "duration": 294,
    "start_time": "2023-03-30T20:13:37.405Z"
   },
   {
    "duration": 185,
    "start_time": "2023-03-30T20:13:46.802Z"
   },
   {
    "duration": 206,
    "start_time": "2023-03-30T20:14:00.630Z"
   },
   {
    "duration": 20,
    "start_time": "2023-03-30T20:14:14.312Z"
   },
   {
    "duration": 31,
    "start_time": "2023-03-30T20:14:25.247Z"
   },
   {
    "duration": 200,
    "start_time": "2023-03-30T20:14:30.993Z"
   },
   {
    "duration": 172,
    "start_time": "2023-03-30T20:14:35.688Z"
   },
   {
    "duration": 104,
    "start_time": "2023-03-30T20:15:06.597Z"
   },
   {
    "duration": 188,
    "start_time": "2023-03-30T20:15:12.138Z"
   },
   {
    "duration": 166,
    "start_time": "2023-03-30T20:15:28.914Z"
   },
   {
    "duration": 131,
    "start_time": "2023-03-30T20:15:37.657Z"
   },
   {
    "duration": 52,
    "start_time": "2023-03-30T20:15:55.585Z"
   },
   {
    "duration": 17,
    "start_time": "2023-03-30T20:18:33.154Z"
   },
   {
    "duration": 17,
    "start_time": "2023-03-30T20:18:39.676Z"
   },
   {
    "duration": 10,
    "start_time": "2023-03-30T20:18:45.006Z"
   },
   {
    "duration": 4,
    "start_time": "2023-03-30T20:18:45.597Z"
   },
   {
    "duration": 34,
    "start_time": "2023-03-30T20:18:48.888Z"
   },
   {
    "duration": 16,
    "start_time": "2023-03-30T20:18:51.248Z"
   },
   {
    "duration": 136,
    "start_time": "2023-03-30T20:18:53.990Z"
   },
   {
    "duration": 8,
    "start_time": "2023-03-30T20:18:56.887Z"
   },
   {
    "duration": 7,
    "start_time": "2023-03-30T20:18:58.115Z"
   },
   {
    "duration": 56,
    "start_time": "2023-03-30T20:19:00.119Z"
   },
   {
    "duration": 74,
    "start_time": "2023-03-30T20:20:45.974Z"
   },
   {
    "duration": 539,
    "start_time": "2023-03-30T20:21:05.376Z"
   },
   {
    "duration": 48649,
    "start_time": "2023-03-30T20:21:09.484Z"
   },
   {
    "duration": 444,
    "start_time": "2023-03-30T20:22:02.813Z"
   },
   {
    "duration": 768,
    "start_time": "2023-03-30T20:22:09.097Z"
   },
   {
    "duration": 610,
    "start_time": "2023-03-30T20:24:04.474Z"
   },
   {
    "duration": 156322,
    "start_time": "2023-03-30T20:24:45.020Z"
   },
   {
    "duration": 7,
    "start_time": "2023-03-30T20:27:58.216Z"
   },
   {
    "duration": 14,
    "start_time": "2023-03-30T20:28:00.133Z"
   },
   {
    "duration": 6,
    "start_time": "2023-03-30T20:28:45.831Z"
   },
   {
    "duration": 5,
    "start_time": "2023-03-30T20:28:46.489Z"
   },
   {
    "duration": 275,
    "start_time": "2023-03-30T20:28:52.313Z"
   },
   {
    "duration": 685,
    "start_time": "2023-03-30T20:29:14.684Z"
   },
   {
    "duration": 66906,
    "start_time": "2023-03-30T20:29:39.726Z"
   },
   {
    "duration": 11,
    "start_time": "2023-03-30T20:31:17.500Z"
   },
   {
    "duration": 53,
    "start_time": "2023-03-30T20:31:20.308Z"
   },
   {
    "duration": 429,
    "start_time": "2023-03-30T20:31:38.884Z"
   },
   {
    "duration": 31103,
    "start_time": "2023-03-30T20:32:05.588Z"
   },
   {
    "duration": 833,
    "start_time": "2023-03-30T20:33:26.704Z"
   },
   {
    "duration": 5,
    "start_time": "2023-03-30T20:33:40.810Z"
   },
   {
    "duration": 134,
    "start_time": "2023-03-30T20:33:43.309Z"
   },
   {
    "duration": 6,
    "start_time": "2023-03-30T20:37:04.090Z"
   },
   {
    "duration": 873,
    "start_time": "2023-03-31T18:26:53.896Z"
   },
   {
    "duration": 111,
    "start_time": "2023-03-31T18:27:02.200Z"
   },
   {
    "duration": 13,
    "start_time": "2023-03-31T18:27:02.821Z"
   },
   {
    "duration": 13,
    "start_time": "2023-03-31T18:27:05.109Z"
   },
   {
    "duration": 15,
    "start_time": "2023-03-31T18:27:05.821Z"
   },
   {
    "duration": 19,
    "start_time": "2023-03-31T18:27:14.695Z"
   },
   {
    "duration": 6,
    "start_time": "2023-03-31T18:27:16.924Z"
   },
   {
    "duration": 6,
    "start_time": "2023-03-31T18:27:17.119Z"
   },
   {
    "duration": 18,
    "start_time": "2023-03-31T18:27:26.378Z"
   },
   {
    "duration": 10,
    "start_time": "2023-03-31T18:33:31.761Z"
   },
   {
    "duration": 6,
    "start_time": "2023-03-31T18:33:34.097Z"
   },
   {
    "duration": 123,
    "start_time": "2023-03-31T18:34:02.921Z"
   },
   {
    "duration": 63,
    "start_time": "2023-03-31T18:34:28.450Z"
   },
   {
    "duration": 12,
    "start_time": "2023-03-31T18:41:08.353Z"
   },
   {
    "duration": 13,
    "start_time": "2023-03-31T18:41:33.807Z"
   },
   {
    "duration": 4,
    "start_time": "2023-03-31T18:43:18.156Z"
   },
   {
    "duration": 10,
    "start_time": "2023-03-31T18:43:22.591Z"
   },
   {
    "duration": 6,
    "start_time": "2023-03-31T18:43:36.507Z"
   },
   {
    "duration": 9,
    "start_time": "2023-03-31T18:44:34.194Z"
   },
   {
    "duration": 4,
    "start_time": "2023-03-31T18:48:14.951Z"
   },
   {
    "duration": 19,
    "start_time": "2023-03-31T18:48:19.541Z"
   },
   {
    "duration": 4,
    "start_time": "2023-03-31T18:49:32.095Z"
   },
   {
    "duration": 7,
    "start_time": "2023-03-31T18:50:16.597Z"
   },
   {
    "duration": 13,
    "start_time": "2023-03-31T18:58:33.814Z"
   },
   {
    "duration": 7917,
    "start_time": "2023-03-31T18:59:13.800Z"
   },
   {
    "duration": 5,
    "start_time": "2023-03-31T18:59:25.151Z"
   },
   {
    "duration": 55,
    "start_time": "2023-03-31T18:59:27.298Z"
   },
   {
    "duration": 21,
    "start_time": "2023-03-31T18:59:27.464Z"
   },
   {
    "duration": 15,
    "start_time": "2023-03-31T18:59:27.604Z"
   },
   {
    "duration": 23,
    "start_time": "2023-03-31T18:59:28.003Z"
   },
   {
    "duration": 7,
    "start_time": "2023-03-31T18:59:30.127Z"
   },
   {
    "duration": 17,
    "start_time": "2023-03-31T18:59:30.500Z"
   },
   {
    "duration": 13,
    "start_time": "2023-03-31T18:59:30.700Z"
   },
   {
    "duration": 16,
    "start_time": "2023-03-31T18:59:31.556Z"
   },
   {
    "duration": 14,
    "start_time": "2023-03-31T18:59:33.896Z"
   },
   {
    "duration": 11,
    "start_time": "2023-03-31T18:59:34.089Z"
   },
   {
    "duration": 22,
    "start_time": "2023-03-31T18:59:38.401Z"
   },
   {
    "duration": 15,
    "start_time": "2023-03-31T18:59:39.217Z"
   },
   {
    "duration": 15,
    "start_time": "2023-03-31T18:59:39.706Z"
   },
   {
    "duration": 11,
    "start_time": "2023-03-31T19:00:13.212Z"
   },
   {
    "duration": 16,
    "start_time": "2023-03-31T19:00:25.839Z"
   },
   {
    "duration": 979,
    "start_time": "2023-03-31T19:01:30.190Z"
   },
   {
    "duration": 9,
    "start_time": "2023-03-31T19:02:13.895Z"
   },
   {
    "duration": 11,
    "start_time": "2023-03-31T19:03:21.546Z"
   },
   {
    "duration": 6,
    "start_time": "2023-03-31T19:03:55.339Z"
   },
   {
    "duration": 14,
    "start_time": "2023-03-31T19:03:58.598Z"
   },
   {
    "duration": 15,
    "start_time": "2023-03-31T19:04:38.403Z"
   },
   {
    "duration": 5,
    "start_time": "2023-03-31T19:04:51.599Z"
   },
   {
    "duration": 15,
    "start_time": "2023-03-31T19:04:52.091Z"
   },
   {
    "duration": 14,
    "start_time": "2023-03-31T19:05:15.154Z"
   },
   {
    "duration": 2220,
    "start_time": "2023-03-31T19:05:24.105Z"
   },
   {
    "duration": 2177,
    "start_time": "2023-03-31T19:06:05.500Z"
   },
   {
    "duration": 1303,
    "start_time": "2023-03-31T19:06:09.676Z"
   },
   {
    "duration": 80,
    "start_time": "2023-03-31T19:06:18.355Z"
   },
   {
    "duration": 13,
    "start_time": "2023-03-31T19:06:18.948Z"
   },
   {
    "duration": 12,
    "start_time": "2023-03-31T19:06:19.356Z"
   },
   {
    "duration": 15,
    "start_time": "2023-03-31T19:06:19.998Z"
   },
   {
    "duration": 8,
    "start_time": "2023-03-31T19:06:21.099Z"
   },
   {
    "duration": 8,
    "start_time": "2023-03-31T19:06:21.453Z"
   },
   {
    "duration": 6,
    "start_time": "2023-03-31T19:06:21.631Z"
   },
   {
    "duration": 19,
    "start_time": "2023-03-31T19:06:22.963Z"
   },
   {
    "duration": 10,
    "start_time": "2023-03-31T19:06:23.847Z"
   },
   {
    "duration": 9,
    "start_time": "2023-03-31T19:06:24.587Z"
   },
   {
    "duration": 12,
    "start_time": "2023-03-31T19:06:26.537Z"
   },
   {
    "duration": 6,
    "start_time": "2023-03-31T19:06:28.557Z"
   },
   {
    "duration": 38,
    "start_time": "2023-03-31T19:06:29.563Z"
   },
   {
    "duration": 132,
    "start_time": "2023-03-31T19:07:22.492Z"
   },
   {
    "duration": 13,
    "start_time": "2023-03-31T19:07:29.689Z"
   },
   {
    "duration": 16,
    "start_time": "2023-03-31T19:07:41.957Z"
   },
   {
    "duration": 13,
    "start_time": "2023-03-31T19:07:50.817Z"
   },
   {
    "duration": 13,
    "start_time": "2023-03-31T19:08:01.953Z"
   },
   {
    "duration": 44,
    "start_time": "2023-03-31T19:09:29.455Z"
   },
   {
    "duration": 13,
    "start_time": "2023-03-31T19:09:30.314Z"
   },
   {
    "duration": 12,
    "start_time": "2023-03-31T19:09:30.893Z"
   },
   {
    "duration": 16,
    "start_time": "2023-03-31T19:09:32.475Z"
   },
   {
    "duration": 7,
    "start_time": "2023-03-31T19:09:34.714Z"
   },
   {
    "duration": 8,
    "start_time": "2023-03-31T19:09:35.053Z"
   },
   {
    "duration": 7,
    "start_time": "2023-03-31T19:09:35.213Z"
   },
   {
    "duration": 14,
    "start_time": "2023-03-31T19:09:35.985Z"
   },
   {
    "duration": 10,
    "start_time": "2023-03-31T19:09:36.681Z"
   },
   {
    "duration": 3,
    "start_time": "2023-03-31T19:09:36.879Z"
   },
   {
    "duration": 12,
    "start_time": "2023-03-31T19:09:38.705Z"
   },
   {
    "duration": 5,
    "start_time": "2023-03-31T19:09:43.779Z"
   },
   {
    "duration": 8,
    "start_time": "2023-03-31T19:09:52.891Z"
   },
   {
    "duration": 15,
    "start_time": "2023-03-31T19:10:07.142Z"
   },
   {
    "duration": 9,
    "start_time": "2023-03-31T19:10:07.817Z"
   },
   {
    "duration": 9,
    "start_time": "2023-03-31T19:10:08.862Z"
   },
   {
    "duration": 14,
    "start_time": "2023-03-31T19:10:21.877Z"
   },
   {
    "duration": 19,
    "start_time": "2023-03-31T19:12:37.240Z"
   },
   {
    "duration": 14,
    "start_time": "2023-03-31T19:12:40.190Z"
   },
   {
    "duration": 10,
    "start_time": "2023-03-31T19:12:50.043Z"
   },
   {
    "duration": 4,
    "start_time": "2023-03-31T19:12:53.380Z"
   },
   {
    "duration": 13,
    "start_time": "2023-03-31T19:13:05.833Z"
   },
   {
    "duration": 14,
    "start_time": "2023-03-31T19:13:41.379Z"
   },
   {
    "duration": 25,
    "start_time": "2023-03-31T19:13:46.880Z"
   },
   {
    "duration": 13,
    "start_time": "2023-03-31T19:13:49.096Z"
   },
   {
    "duration": 145,
    "start_time": "2023-03-31T19:14:01.236Z"
   },
   {
    "duration": 9,
    "start_time": "2023-03-31T19:14:04.337Z"
   },
   {
    "duration": 9,
    "start_time": "2023-03-31T19:14:05.085Z"
   },
   {
    "duration": 162,
    "start_time": "2023-03-31T19:14:09.013Z"
   },
   {
    "duration": 553,
    "start_time": "2023-03-31T19:14:11.579Z"
   },
   {
    "duration": 44006,
    "start_time": "2023-03-31T19:14:39.832Z"
   },
   {
    "duration": 1997,
    "start_time": "2023-03-31T19:15:43.341Z"
   },
   {
    "duration": 1240,
    "start_time": "2023-03-31T19:15:45.341Z"
   },
   {
    "duration": 50,
    "start_time": "2023-03-31T19:15:46.583Z"
   },
   {
    "duration": 12,
    "start_time": "2023-03-31T19:15:46.635Z"
   },
   {
    "duration": 11,
    "start_time": "2023-03-31T19:15:46.648Z"
   },
   {
    "duration": 18,
    "start_time": "2023-03-31T19:15:46.661Z"
   },
   {
    "duration": 9,
    "start_time": "2023-03-31T19:15:46.680Z"
   },
   {
    "duration": 10,
    "start_time": "2023-03-31T19:15:46.690Z"
   },
   {
    "duration": 6,
    "start_time": "2023-03-31T19:15:46.702Z"
   },
   {
    "duration": 14,
    "start_time": "2023-03-31T19:15:46.710Z"
   },
   {
    "duration": 14,
    "start_time": "2023-03-31T19:15:46.726Z"
   },
   {
    "duration": 6,
    "start_time": "2023-03-31T19:15:46.742Z"
   },
   {
    "duration": 28,
    "start_time": "2023-03-31T19:15:46.749Z"
   },
   {
    "duration": 8,
    "start_time": "2023-03-31T19:15:46.778Z"
   },
   {
    "duration": 23,
    "start_time": "2023-03-31T19:15:46.787Z"
   },
   {
    "duration": 9,
    "start_time": "2023-03-31T19:15:46.811Z"
   },
   {
    "duration": 19,
    "start_time": "2023-03-31T19:15:46.822Z"
   },
   {
    "duration": 29,
    "start_time": "2023-03-31T19:15:46.843Z"
   },
   {
    "duration": 28,
    "start_time": "2023-03-31T19:15:46.874Z"
   },
   {
    "duration": 14,
    "start_time": "2023-03-31T19:15:46.904Z"
   },
   {
    "duration": 158,
    "start_time": "2023-03-31T19:15:46.920Z"
   },
   {
    "duration": 9,
    "start_time": "2023-03-31T19:15:47.080Z"
   },
   {
    "duration": 8,
    "start_time": "2023-03-31T19:15:47.090Z"
   },
   {
    "duration": 77,
    "start_time": "2023-03-31T19:15:47.100Z"
   },
   {
    "duration": 615,
    "start_time": "2023-03-31T19:15:47.179Z"
   },
   {
    "duration": 43160,
    "start_time": "2023-03-31T19:15:47.796Z"
   },
   {
    "duration": 4,
    "start_time": "2023-03-31T19:16:30.958Z"
   },
   {
    "duration": 305,
    "start_time": "2023-03-31T19:16:30.974Z"
   },
   {
    "duration": 677,
    "start_time": "2023-03-31T19:16:31.282Z"
   },
   {
    "duration": 150659,
    "start_time": "2023-03-31T19:16:31.961Z"
   },
   {
    "duration": 6,
    "start_time": "2023-03-31T19:19:02.622Z"
   },
   {
    "duration": 12,
    "start_time": "2023-03-31T19:19:02.630Z"
   },
   {
    "duration": 6,
    "start_time": "2023-03-31T19:19:02.644Z"
   },
   {
    "duration": 7,
    "start_time": "2023-03-31T19:19:02.675Z"
   },
   {
    "duration": 596,
    "start_time": "2023-03-31T19:19:02.687Z"
   },
   {
    "duration": 744,
    "start_time": "2023-03-31T19:19:03.285Z"
   },
   {
    "duration": 60603,
    "start_time": "2023-03-31T19:19:04.032Z"
   },
   {
    "duration": 10,
    "start_time": "2023-03-31T19:20:04.637Z"
   },
   {
    "duration": 530,
    "start_time": "2023-03-31T19:20:04.649Z"
   },
   {
    "duration": 449,
    "start_time": "2023-03-31T19:20:05.181Z"
   },
   {
    "duration": 28416,
    "start_time": "2023-03-31T19:20:05.632Z"
   },
   {
    "duration": 800,
    "start_time": "2023-03-31T19:20:34.050Z"
   },
   {
    "duration": 4,
    "start_time": "2023-03-31T19:20:34.852Z"
   },
   {
    "duration": 156,
    "start_time": "2023-03-31T19:20:34.857Z"
   },
   {
    "duration": 8,
    "start_time": "2023-03-31T19:20:35.016Z"
   },
   {
    "duration": 41,
    "start_time": "2023-03-31T19:20:35.029Z"
   },
   {
    "duration": 595,
    "start_time": "2023-03-31T19:24:03.400Z"
   },
   {
    "duration": 4,
    "start_time": "2023-03-31T19:24:17.001Z"
   },
   {
    "duration": 135,
    "start_time": "2023-03-31T19:24:18.144Z"
   },
   {
    "duration": 6,
    "start_time": "2023-03-31T19:25:48.728Z"
   },
   {
    "duration": 5,
    "start_time": "2023-03-31T19:28:59.889Z"
   },
   {
    "duration": 118,
    "start_time": "2023-03-31T19:29:35.538Z"
   },
   {
    "duration": 6,
    "start_time": "2023-03-31T19:29:40.764Z"
   },
   {
    "duration": 3,
    "start_time": "2023-03-31T19:40:42.698Z"
   },
   {
    "duration": 50,
    "start_time": "2023-03-31T19:40:52.501Z"
   },
   {
    "duration": 13,
    "start_time": "2023-03-31T19:40:53.034Z"
   },
   {
    "duration": 12,
    "start_time": "2023-03-31T19:40:53.308Z"
   },
   {
    "duration": 16,
    "start_time": "2023-03-31T19:40:55.219Z"
   },
   {
    "duration": 6,
    "start_time": "2023-03-31T19:40:58.907Z"
   },
   {
    "duration": 7,
    "start_time": "2023-03-31T19:40:59.200Z"
   },
   {
    "duration": 11,
    "start_time": "2023-03-31T19:40:59.376Z"
   },
   {
    "duration": 14,
    "start_time": "2023-03-31T19:41:01.796Z"
   },
   {
    "duration": 11,
    "start_time": "2023-03-31T19:41:03.820Z"
   },
   {
    "duration": 4,
    "start_time": "2023-03-31T19:41:05.202Z"
   },
   {
    "duration": 6,
    "start_time": "2023-03-31T19:41:08.149Z"
   },
   {
    "duration": 7,
    "start_time": "2023-03-31T19:41:08.405Z"
   },
   {
    "duration": 3,
    "start_time": "2023-03-31T19:41:09.862Z"
   },
   {
    "duration": 16,
    "start_time": "2023-03-31T19:41:33.813Z"
   },
   {
    "duration": 3,
    "start_time": "2023-03-31T19:41:55.682Z"
   },
   {
    "duration": 38,
    "start_time": "2023-03-31T19:41:56.396Z"
   },
   {
    "duration": 13,
    "start_time": "2023-03-31T19:42:23.945Z"
   },
   {
    "duration": 9,
    "start_time": "2023-03-31T19:42:24.837Z"
   },
   {
    "duration": 10,
    "start_time": "2023-03-31T19:42:25.295Z"
   },
   {
    "duration": 15,
    "start_time": "2023-03-31T19:42:27.115Z"
   },
   {
    "duration": 2002,
    "start_time": "2023-03-31T19:42:35.135Z"
   },
   {
    "duration": 1245,
    "start_time": "2023-03-31T19:42:37.139Z"
   },
   {
    "duration": 52,
    "start_time": "2023-03-31T19:42:38.386Z"
   },
   {
    "duration": 20,
    "start_time": "2023-03-31T19:42:38.440Z"
   },
   {
    "duration": 17,
    "start_time": "2023-03-31T19:42:38.463Z"
   },
   {
    "duration": 15,
    "start_time": "2023-03-31T19:42:38.482Z"
   },
   {
    "duration": 8,
    "start_time": "2023-03-31T19:42:38.499Z"
   },
   {
    "duration": 7,
    "start_time": "2023-03-31T19:42:38.508Z"
   },
   {
    "duration": 5,
    "start_time": "2023-03-31T19:42:38.516Z"
   },
   {
    "duration": 15,
    "start_time": "2023-03-31T19:42:38.523Z"
   },
   {
    "duration": 38,
    "start_time": "2023-03-31T19:42:38.540Z"
   },
   {
    "duration": 8,
    "start_time": "2023-03-31T19:42:38.580Z"
   },
   {
    "duration": 10,
    "start_time": "2023-03-31T19:42:38.589Z"
   },
   {
    "duration": 8,
    "start_time": "2023-03-31T19:42:38.602Z"
   },
   {
    "duration": 15,
    "start_time": "2023-03-31T19:42:38.611Z"
   },
   {
    "duration": 9,
    "start_time": "2023-03-31T19:42:38.627Z"
   },
   {
    "duration": 38,
    "start_time": "2023-03-31T19:42:38.637Z"
   },
   {
    "duration": 14,
    "start_time": "2023-03-31T19:42:38.676Z"
   },
   {
    "duration": 31,
    "start_time": "2023-03-31T19:42:38.692Z"
   },
   {
    "duration": 14,
    "start_time": "2023-03-31T19:42:38.725Z"
   },
   {
    "duration": 158,
    "start_time": "2023-03-31T19:42:38.740Z"
   },
   {
    "duration": 9,
    "start_time": "2023-03-31T19:42:38.899Z"
   },
   {
    "duration": 7,
    "start_time": "2023-03-31T19:42:38.910Z"
   },
   {
    "duration": 64,
    "start_time": "2023-03-31T19:42:38.919Z"
   },
   {
    "duration": 610,
    "start_time": "2023-03-31T19:42:39.075Z"
   },
   {
    "duration": 43562,
    "start_time": "2023-03-31T19:42:39.687Z"
   },
   {
    "duration": 3,
    "start_time": "2023-03-31T19:43:23.251Z"
   },
   {
    "duration": 128,
    "start_time": "2023-03-31T19:43:23.255Z"
   },
   {
    "duration": 778,
    "start_time": "2023-03-31T19:43:23.385Z"
   },
   {
    "duration": 7,
    "start_time": "2023-03-31T19:45:52.435Z"
   },
   {
    "duration": 13,
    "start_time": "2023-03-31T19:45:52.443Z"
   },
   {
    "duration": 31,
    "start_time": "2023-03-31T19:45:52.458Z"
   },
   {
    "duration": 8,
    "start_time": "2023-03-31T19:45:52.490Z"
   },
   {
    "duration": 581,
    "start_time": "2023-03-31T19:45:52.500Z"
   },
   {
    "duration": 748,
    "start_time": "2023-03-31T19:45:53.082Z"
   },
   {
    "duration": 61364,
    "start_time": "2023-03-31T19:45:53.832Z"
   },
   {
    "duration": 10,
    "start_time": "2023-03-31T19:46:55.198Z"
   },
   {
    "duration": 177,
    "start_time": "2023-03-31T19:46:55.210Z"
   },
   {
    "duration": 556,
    "start_time": "2023-03-31T19:46:55.388Z"
   },
   {
    "duration": 28162,
    "start_time": "2023-03-31T19:46:55.948Z"
   },
   {
    "duration": 636,
    "start_time": "2023-03-31T19:47:24.112Z"
   },
   {
    "duration": 3,
    "start_time": "2023-03-31T19:47:24.750Z"
   },
   {
    "duration": 146,
    "start_time": "2023-03-31T19:47:24.755Z"
   },
   {
    "duration": 6,
    "start_time": "2023-03-31T19:47:24.902Z"
   },
   {
    "duration": 6,
    "start_time": "2023-03-31T19:47:24.909Z"
   },
   {
    "duration": 2089,
    "start_time": "2023-03-31T19:48:39.969Z"
   },
   {
    "duration": 1263,
    "start_time": "2023-03-31T19:48:42.060Z"
   },
   {
    "duration": 67,
    "start_time": "2023-03-31T19:48:43.324Z"
   },
   {
    "duration": 14,
    "start_time": "2023-03-31T19:48:43.393Z"
   },
   {
    "duration": 13,
    "start_time": "2023-03-31T19:48:43.410Z"
   },
   {
    "duration": 16,
    "start_time": "2023-03-31T19:48:43.425Z"
   },
   {
    "duration": 7,
    "start_time": "2023-03-31T19:48:43.443Z"
   },
   {
    "duration": 38,
    "start_time": "2023-03-31T19:48:43.452Z"
   },
   {
    "duration": 7,
    "start_time": "2023-03-31T19:48:43.492Z"
   },
   {
    "duration": 20,
    "start_time": "2023-03-31T19:48:43.501Z"
   },
   {
    "duration": 11,
    "start_time": "2023-03-31T19:48:43.523Z"
   },
   {
    "duration": 4,
    "start_time": "2023-03-31T19:48:43.536Z"
   },
   {
    "duration": 8,
    "start_time": "2023-03-31T19:48:43.541Z"
   },
   {
    "duration": 32,
    "start_time": "2023-03-31T19:48:43.553Z"
   },
   {
    "duration": 16,
    "start_time": "2023-03-31T19:48:43.587Z"
   },
   {
    "duration": 9,
    "start_time": "2023-03-31T19:48:43.604Z"
   },
   {
    "duration": 10,
    "start_time": "2023-03-31T19:48:43.614Z"
   },
   {
    "duration": 14,
    "start_time": "2023-03-31T19:48:43.626Z"
   },
   {
    "duration": 62,
    "start_time": "2023-03-31T19:48:43.642Z"
   },
   {
    "duration": 14,
    "start_time": "2023-03-31T19:48:43.705Z"
   },
   {
    "duration": 157,
    "start_time": "2023-03-31T19:48:43.721Z"
   },
   {
    "duration": 17,
    "start_time": "2023-03-31T19:48:43.883Z"
   },
   {
    "duration": 6,
    "start_time": "2023-03-31T19:48:43.902Z"
   },
   {
    "duration": 77,
    "start_time": "2023-03-31T19:48:43.910Z"
   },
   {
    "duration": 768,
    "start_time": "2023-03-31T19:48:43.989Z"
   },
   {
    "duration": 45893,
    "start_time": "2023-03-31T19:48:44.758Z"
   },
   {
    "duration": 4,
    "start_time": "2023-03-31T19:49:30.653Z"
   },
   {
    "duration": 318,
    "start_time": "2023-03-31T19:49:30.659Z"
   },
   {
    "duration": 699,
    "start_time": "2023-03-31T19:49:30.978Z"
   },
   {
    "duration": 150142,
    "start_time": "2023-03-31T19:49:31.679Z"
   },
   {
    "duration": 7,
    "start_time": "2023-03-31T19:52:01.823Z"
   },
   {
    "duration": 57,
    "start_time": "2023-03-31T19:52:01.832Z"
   },
   {
    "duration": 44,
    "start_time": "2023-03-31T19:52:01.892Z"
   },
   {
    "duration": 51,
    "start_time": "2023-03-31T19:52:01.938Z"
   },
   {
    "duration": 190,
    "start_time": "2023-03-31T19:52:01.992Z"
   },
   {
    "duration": 812,
    "start_time": "2023-03-31T19:52:02.191Z"
   },
   {
    "duration": 61598,
    "start_time": "2023-03-31T19:52:03.005Z"
   },
   {
    "duration": 12,
    "start_time": "2023-03-31T19:53:04.605Z"
   },
   {
    "duration": 181,
    "start_time": "2023-03-31T19:53:04.619Z"
   },
   {
    "duration": 487,
    "start_time": "2023-03-31T19:53:04.878Z"
   },
   {
    "duration": 29182,
    "start_time": "2023-03-31T19:53:05.369Z"
   },
   {
    "duration": 663,
    "start_time": "2023-03-31T19:53:34.553Z"
   },
   {
    "duration": 6,
    "start_time": "2023-03-31T19:53:35.218Z"
   },
   {
    "duration": 162,
    "start_time": "2023-03-31T19:53:35.226Z"
   },
   {
    "duration": 7,
    "start_time": "2023-03-31T19:53:35.393Z"
   },
   {
    "duration": 7,
    "start_time": "2023-03-31T19:53:35.402Z"
   }
  ],
  "kernelspec": {
   "display_name": "Python 3 (ipykernel)",
   "language": "python",
   "name": "python3"
  },
  "language_info": {
   "codemirror_mode": {
    "name": "ipython",
    "version": 3
   },
   "file_extension": ".py",
   "mimetype": "text/x-python",
   "name": "python",
   "nbconvert_exporter": "python",
   "pygments_lexer": "ipython3",
   "version": "3.9.12"
  },
  "toc": {
   "base_numbering": 1,
   "nav_menu": {},
   "number_sections": true,
   "sideBar": true,
   "skip_h1_title": true,
   "title_cell": "Содержание",
   "title_sidebar": "Contents",
   "toc_cell": true,
   "toc_position": {},
   "toc_section_display": true,
   "toc_window_display": false
  }
 },
 "nbformat": 4,
 "nbformat_minor": 2
}
