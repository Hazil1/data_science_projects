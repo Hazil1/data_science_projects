{
 "cells": [
  {
   "cell_type": "markdown",
   "id": "8f15cd85",
   "metadata": {
    "deletable": false,
    "editable": false,
    "id": "c81daeeb"
   },
   "source": [
    "# Исследование надежности заемщиков\n"
   ]
  },
  {
   "cell_type": "markdown",
   "id": "8773fec8",
   "metadata": {
    "deletable": false,
    "editable": false,
    "id": "827c20bf"
   },
   "source": [
    "Во второй части проекта вы выполните шаги 3 и 4. Их вручную проверит ревьюер.\n",
    "Чтобы вам не пришлось писать код заново для шагов 1 и 2, мы добавили авторские решения в ячейки с кодом. \n",
    "\n"
   ]
  },
  {
   "cell_type": "markdown",
   "id": "b3b443b9",
   "metadata": {
    "deletable": false,
    "editable": false,
    "id": "744d7639"
   },
   "source": [
    "## Откройте таблицу и изучите общую информацию о данных"
   ]
  },
  {
   "cell_type": "markdown",
   "id": "9c6cab50",
   "metadata": {
    "deletable": false,
    "editable": false,
    "id": "e7a14c31"
   },
   "source": [
    "**Задание 1. Импортируйте библиотеку pandas. Считайте данные из csv-файла в датафрейм и сохраните в переменную `data`. Путь к файлу:**\n",
    "\n",
    "`/datasets/data.csv`"
   ]
  },
  {
   "cell_type": "code",
   "execution_count": 1,
   "id": "1bd34aa7",
   "metadata": {
    "deletable": false,
    "id": "7bcf75c9"
   },
   "outputs": [],
   "source": [
    "import pandas as pd\n",
    "import seaborn as sns\n",
    "\n",
    "try:\n",
    "    data = pd.read_csv('/datasets/data.csv')\n",
    "except:\n",
    "    data = pd.read_csv('https://code.s3.yandex.net/datasets/data.csv')"
   ]
  },
  {
   "cell_type": "markdown",
   "id": "8d6a46cf",
   "metadata": {
    "deletable": false,
    "editable": false,
    "id": "b8038fe3"
   },
   "source": [
    "**Задание 2. Выведите первые 20 строчек датафрейма `data` на экран.**"
   ]
  },
  {
   "cell_type": "code",
   "execution_count": 2,
   "id": "226e270e",
   "metadata": {
    "deletable": false,
    "id": "2a7cab99",
    "outputId": "1a8f3ef2-d323-4ec2-ddf7-89670b5944c4"
   },
   "outputs": [
    {
     "data": {
      "text/html": [
       "<div>\n",
       "<style scoped>\n",
       "    .dataframe tbody tr th:only-of-type {\n",
       "        vertical-align: middle;\n",
       "    }\n",
       "\n",
       "    .dataframe tbody tr th {\n",
       "        vertical-align: top;\n",
       "    }\n",
       "\n",
       "    .dataframe thead th {\n",
       "        text-align: right;\n",
       "    }\n",
       "</style>\n",
       "<table border=\"1\" class=\"dataframe\">\n",
       "  <thead>\n",
       "    <tr style=\"text-align: right;\">\n",
       "      <th></th>\n",
       "      <th>children</th>\n",
       "      <th>days_employed</th>\n",
       "      <th>dob_years</th>\n",
       "      <th>education</th>\n",
       "      <th>education_id</th>\n",
       "      <th>family_status</th>\n",
       "      <th>family_status_id</th>\n",
       "      <th>gender</th>\n",
       "      <th>income_type</th>\n",
       "      <th>debt</th>\n",
       "      <th>total_income</th>\n",
       "      <th>purpose</th>\n",
       "    </tr>\n",
       "  </thead>\n",
       "  <tbody>\n",
       "    <tr>\n",
       "      <th>0</th>\n",
       "      <td>1</td>\n",
       "      <td>-8437.673028</td>\n",
       "      <td>42</td>\n",
       "      <td>высшее</td>\n",
       "      <td>0</td>\n",
       "      <td>женат / замужем</td>\n",
       "      <td>0</td>\n",
       "      <td>F</td>\n",
       "      <td>сотрудник</td>\n",
       "      <td>0</td>\n",
       "      <td>253875.639453</td>\n",
       "      <td>покупка жилья</td>\n",
       "    </tr>\n",
       "    <tr>\n",
       "      <th>1</th>\n",
       "      <td>1</td>\n",
       "      <td>-4024.803754</td>\n",
       "      <td>36</td>\n",
       "      <td>среднее</td>\n",
       "      <td>1</td>\n",
       "      <td>женат / замужем</td>\n",
       "      <td>0</td>\n",
       "      <td>F</td>\n",
       "      <td>сотрудник</td>\n",
       "      <td>0</td>\n",
       "      <td>112080.014102</td>\n",
       "      <td>приобретение автомобиля</td>\n",
       "    </tr>\n",
       "    <tr>\n",
       "      <th>2</th>\n",
       "      <td>0</td>\n",
       "      <td>-5623.422610</td>\n",
       "      <td>33</td>\n",
       "      <td>Среднее</td>\n",
       "      <td>1</td>\n",
       "      <td>женат / замужем</td>\n",
       "      <td>0</td>\n",
       "      <td>M</td>\n",
       "      <td>сотрудник</td>\n",
       "      <td>0</td>\n",
       "      <td>145885.952297</td>\n",
       "      <td>покупка жилья</td>\n",
       "    </tr>\n",
       "    <tr>\n",
       "      <th>3</th>\n",
       "      <td>3</td>\n",
       "      <td>-4124.747207</td>\n",
       "      <td>32</td>\n",
       "      <td>среднее</td>\n",
       "      <td>1</td>\n",
       "      <td>женат / замужем</td>\n",
       "      <td>0</td>\n",
       "      <td>M</td>\n",
       "      <td>сотрудник</td>\n",
       "      <td>0</td>\n",
       "      <td>267628.550329</td>\n",
       "      <td>дополнительное образование</td>\n",
       "    </tr>\n",
       "    <tr>\n",
       "      <th>4</th>\n",
       "      <td>0</td>\n",
       "      <td>340266.072047</td>\n",
       "      <td>53</td>\n",
       "      <td>среднее</td>\n",
       "      <td>1</td>\n",
       "      <td>гражданский брак</td>\n",
       "      <td>1</td>\n",
       "      <td>F</td>\n",
       "      <td>пенсионер</td>\n",
       "      <td>0</td>\n",
       "      <td>158616.077870</td>\n",
       "      <td>сыграть свадьбу</td>\n",
       "    </tr>\n",
       "    <tr>\n",
       "      <th>5</th>\n",
       "      <td>0</td>\n",
       "      <td>-926.185831</td>\n",
       "      <td>27</td>\n",
       "      <td>высшее</td>\n",
       "      <td>0</td>\n",
       "      <td>гражданский брак</td>\n",
       "      <td>1</td>\n",
       "      <td>M</td>\n",
       "      <td>компаньон</td>\n",
       "      <td>0</td>\n",
       "      <td>255763.565419</td>\n",
       "      <td>покупка жилья</td>\n",
       "    </tr>\n",
       "    <tr>\n",
       "      <th>6</th>\n",
       "      <td>0</td>\n",
       "      <td>-2879.202052</td>\n",
       "      <td>43</td>\n",
       "      <td>высшее</td>\n",
       "      <td>0</td>\n",
       "      <td>женат / замужем</td>\n",
       "      <td>0</td>\n",
       "      <td>F</td>\n",
       "      <td>компаньон</td>\n",
       "      <td>0</td>\n",
       "      <td>240525.971920</td>\n",
       "      <td>операции с жильем</td>\n",
       "    </tr>\n",
       "    <tr>\n",
       "      <th>7</th>\n",
       "      <td>0</td>\n",
       "      <td>-152.779569</td>\n",
       "      <td>50</td>\n",
       "      <td>СРЕДНЕЕ</td>\n",
       "      <td>1</td>\n",
       "      <td>женат / замужем</td>\n",
       "      <td>0</td>\n",
       "      <td>M</td>\n",
       "      <td>сотрудник</td>\n",
       "      <td>0</td>\n",
       "      <td>135823.934197</td>\n",
       "      <td>образование</td>\n",
       "    </tr>\n",
       "    <tr>\n",
       "      <th>8</th>\n",
       "      <td>2</td>\n",
       "      <td>-6929.865299</td>\n",
       "      <td>35</td>\n",
       "      <td>ВЫСШЕЕ</td>\n",
       "      <td>0</td>\n",
       "      <td>гражданский брак</td>\n",
       "      <td>1</td>\n",
       "      <td>F</td>\n",
       "      <td>сотрудник</td>\n",
       "      <td>0</td>\n",
       "      <td>95856.832424</td>\n",
       "      <td>на проведение свадьбы</td>\n",
       "    </tr>\n",
       "    <tr>\n",
       "      <th>9</th>\n",
       "      <td>0</td>\n",
       "      <td>-2188.756445</td>\n",
       "      <td>41</td>\n",
       "      <td>среднее</td>\n",
       "      <td>1</td>\n",
       "      <td>женат / замужем</td>\n",
       "      <td>0</td>\n",
       "      <td>M</td>\n",
       "      <td>сотрудник</td>\n",
       "      <td>0</td>\n",
       "      <td>144425.938277</td>\n",
       "      <td>покупка жилья для семьи</td>\n",
       "    </tr>\n",
       "  </tbody>\n",
       "</table>\n",
       "</div>"
      ],
      "text/plain": [
       "   children  days_employed  dob_years education  education_id  \\\n",
       "0         1   -8437.673028         42    высшее             0   \n",
       "1         1   -4024.803754         36   среднее             1   \n",
       "2         0   -5623.422610         33   Среднее             1   \n",
       "3         3   -4124.747207         32   среднее             1   \n",
       "4         0  340266.072047         53   среднее             1   \n",
       "5         0    -926.185831         27    высшее             0   \n",
       "6         0   -2879.202052         43    высшее             0   \n",
       "7         0    -152.779569         50   СРЕДНЕЕ             1   \n",
       "8         2   -6929.865299         35    ВЫСШЕЕ             0   \n",
       "9         0   -2188.756445         41   среднее             1   \n",
       "\n",
       "      family_status  family_status_id gender income_type  debt   total_income  \\\n",
       "0   женат / замужем                 0      F   сотрудник     0  253875.639453   \n",
       "1   женат / замужем                 0      F   сотрудник     0  112080.014102   \n",
       "2   женат / замужем                 0      M   сотрудник     0  145885.952297   \n",
       "3   женат / замужем                 0      M   сотрудник     0  267628.550329   \n",
       "4  гражданский брак                 1      F   пенсионер     0  158616.077870   \n",
       "5  гражданский брак                 1      M   компаньон     0  255763.565419   \n",
       "6   женат / замужем                 0      F   компаньон     0  240525.971920   \n",
       "7   женат / замужем                 0      M   сотрудник     0  135823.934197   \n",
       "8  гражданский брак                 1      F   сотрудник     0   95856.832424   \n",
       "9   женат / замужем                 0      M   сотрудник     0  144425.938277   \n",
       "\n",
       "                      purpose  \n",
       "0               покупка жилья  \n",
       "1     приобретение автомобиля  \n",
       "2               покупка жилья  \n",
       "3  дополнительное образование  \n",
       "4             сыграть свадьбу  \n",
       "5               покупка жилья  \n",
       "6           операции с жильем  \n",
       "7                 образование  \n",
       "8       на проведение свадьбы  \n",
       "9     покупка жилья для семьи  "
      ]
     },
     "execution_count": 2,
     "metadata": {},
     "output_type": "execute_result"
    }
   ],
   "source": [
    "data.head(10)"
   ]
  },
  {
   "cell_type": "markdown",
   "id": "89c47f8e",
   "metadata": {
    "deletable": false,
    "editable": false,
    "id": "1c12e233"
   },
   "source": [
    "**Задание 3. Выведите основную информацию о датафрейме с помощью метода `info()`.**"
   ]
  },
  {
   "cell_type": "code",
   "execution_count": 3,
   "id": "0f5001a5",
   "metadata": {
    "deletable": false,
    "id": "2b757bca",
    "outputId": "15376089-8dad-46c9-b520-c05248d43158"
   },
   "outputs": [
    {
     "name": "stdout",
     "output_type": "stream",
     "text": [
      "<class 'pandas.core.frame.DataFrame'>\n",
      "RangeIndex: 21525 entries, 0 to 21524\n",
      "Data columns (total 12 columns):\n",
      " #   Column            Non-Null Count  Dtype  \n",
      "---  ------            --------------  -----  \n",
      " 0   children          21525 non-null  int64  \n",
      " 1   days_employed     19351 non-null  float64\n",
      " 2   dob_years         21525 non-null  int64  \n",
      " 3   education         21525 non-null  object \n",
      " 4   education_id      21525 non-null  int64  \n",
      " 5   family_status     21525 non-null  object \n",
      " 6   family_status_id  21525 non-null  int64  \n",
      " 7   gender            21525 non-null  object \n",
      " 8   income_type       21525 non-null  object \n",
      " 9   debt              21525 non-null  int64  \n",
      " 10  total_income      19351 non-null  float64\n",
      " 11  purpose           21525 non-null  object \n",
      "dtypes: float64(2), int64(5), object(5)\n",
      "memory usage: 2.0+ MB\n"
     ]
    }
   ],
   "source": [
    "data.info()"
   ]
  },
  {
   "cell_type": "markdown",
   "id": "e7aa6263",
   "metadata": {
    "deletable": false,
    "editable": false,
    "id": "333ec665"
   },
   "source": [
    "## Предобработка данных"
   ]
  },
  {
   "cell_type": "markdown",
   "id": "3f655a79",
   "metadata": {
    "deletable": false,
    "editable": false,
    "id": "02d92d53"
   },
   "source": [
    "### Удаление пропусков"
   ]
  },
  {
   "cell_type": "markdown",
   "id": "69639c75",
   "metadata": {
    "deletable": false,
    "editable": false,
    "id": "cd84967c"
   },
   "source": [
    "**Задание 4. Выведите количество пропущенных значений для каждого столбца. Используйте комбинацию двух методов.**"
   ]
  },
  {
   "cell_type": "code",
   "execution_count": 4,
   "id": "7d2e3806",
   "metadata": {
    "deletable": false,
    "id": "7f9b2309",
    "outputId": "81f4d817-781c-465c-ed15-91ce4446810d"
   },
   "outputs": [
    {
     "data": {
      "text/plain": [
       "children               0\n",
       "days_employed       2174\n",
       "dob_years              0\n",
       "education              0\n",
       "education_id           0\n",
       "family_status          0\n",
       "family_status_id       0\n",
       "gender                 0\n",
       "income_type            0\n",
       "debt                   0\n",
       "total_income        2174\n",
       "purpose                0\n",
       "dtype: int64"
      ]
     },
     "execution_count": 4,
     "metadata": {},
     "output_type": "execute_result"
    }
   ],
   "source": [
    "data.isna().sum()"
   ]
  },
  {
   "cell_type": "markdown",
   "id": "c3bc3c45",
   "metadata": {
    "deletable": false,
    "editable": false,
    "id": "db86e27b"
   },
   "source": [
    "**Задание 5. В двух столбцах есть пропущенные значения. Один из них — `days_employed`. Пропуски в этом столбце вы обработаете на следующем этапе. Другой столбец с пропущенными значениями — `total_income` — хранит данные о доходах. На сумму дохода сильнее всего влияет тип занятости, поэтому заполнить пропуски в этом столбце нужно медианным значением по каждому типу из столбца `income_type`. Например, у человека с типом занятости `сотрудник` пропуск в столбце `total_income` должен быть заполнен медианным доходом среди всех записей с тем же типом.**"
   ]
  },
  {
   "cell_type": "code",
   "execution_count": 5,
   "id": "ec1e1175",
   "metadata": {
    "deletable": false,
    "id": "42006a93"
   },
   "outputs": [],
   "source": [
    "for t in data['income_type'].unique():\n",
    "    data.loc[(data['income_type'] == t) & (data['total_income'].isna()), 'total_income'] = \\\n",
    "    data.loc[(data['income_type'] == t), 'total_income'].median()"
   ]
  },
  {
   "cell_type": "markdown",
   "id": "e30ee525",
   "metadata": {
    "deletable": false,
    "editable": false,
    "id": "89da5ece"
   },
   "source": [
    "### Обработка аномальных значений"
   ]
  },
  {
   "cell_type": "markdown",
   "id": "bb013afe",
   "metadata": {
    "deletable": false,
    "editable": false,
    "id": "57964554"
   },
   "source": [
    "**Задание 6. В данных могут встречаться артефакты (аномалии) — значения, которые не отражают действительность и появились по какой-то ошибке. таким артефактом будет отрицательное количество дней трудового стажа в столбце `days_employed`. Для реальных данных это нормально. Обработайте значения в этом столбце: замените все отрицательные значения положительными с помощью метода `abs()`.**"
   ]
  },
  {
   "cell_type": "code",
   "execution_count": 6,
   "id": "fca1ff60",
   "metadata": {
    "deletable": false,
    "id": "f6f055bf"
   },
   "outputs": [],
   "source": [
    "data['days_employed'] = data['days_employed'].abs()"
   ]
  },
  {
   "cell_type": "markdown",
   "id": "d37d0100",
   "metadata": {
    "deletable": false,
    "editable": false,
    "id": "6107dd2f"
   },
   "source": [
    "**Задание 7. Для каждого типа занятости выведите медианное значение трудового стажа `days_employed` в днях.**"
   ]
  },
  {
   "cell_type": "code",
   "execution_count": 7,
   "id": "7c6808cd",
   "metadata": {
    "deletable": false,
    "id": "85a5faf6",
    "outputId": "801ef80e-522b-4668-f34e-565af7432bcf"
   },
   "outputs": [
    {
     "data": {
      "text/plain": [
       "income_type\n",
       "безработный        366413.652744\n",
       "в декрете            3296.759962\n",
       "госслужащий          2689.368353\n",
       "компаньон            1547.382223\n",
       "пенсионер          365213.306266\n",
       "предприниматель       520.848083\n",
       "сотрудник            1574.202821\n",
       "студент               578.751554\n",
       "Name: days_employed, dtype: float64"
      ]
     },
     "execution_count": 7,
     "metadata": {},
     "output_type": "execute_result"
    }
   ],
   "source": [
    "data.groupby('income_type')['days_employed'].agg('median')"
   ]
  },
  {
   "cell_type": "markdown",
   "id": "82cf4a97",
   "metadata": {
    "deletable": false,
    "editable": false,
    "id": "38d1a030"
   },
   "source": [
    "У двух типов (безработные и пенсионеры) получатся аномально большие значения. Исправить такие значения сложно, поэтому оставьте их как есть. Тем более этот столбец не понадобится вам для исследования."
   ]
  },
  {
   "cell_type": "markdown",
   "id": "d1f5caa5",
   "metadata": {
    "deletable": false,
    "editable": false,
    "id": "d8a9f147"
   },
   "source": [
    "**Задание 8. Выведите перечень уникальных значений столбца `children`.**"
   ]
  },
  {
   "cell_type": "code",
   "execution_count": 8,
   "id": "f62f1fa1",
   "metadata": {
    "deletable": false,
    "id": "ef5056eb",
    "outputId": "6975b15c-7f95-4697-d16d-a0c79b657b03"
   },
   "outputs": [
    {
     "data": {
      "text/plain": [
       "array([ 1,  0,  3,  2, -1,  4, 20,  5])"
      ]
     },
     "execution_count": 8,
     "metadata": {},
     "output_type": "execute_result"
    }
   ],
   "source": [
    "data['children'].unique()"
   ]
  },
  {
   "cell_type": "markdown",
   "id": "0bcfbbbf",
   "metadata": {
    "deletable": false,
    "editable": false,
    "id": "40b9ebf2"
   },
   "source": [
    "**Задание 9. В столбце `children` есть два аномальных значения. Удалите строки, в которых встречаются такие аномальные значения из датафрейма `data`.**"
   ]
  },
  {
   "cell_type": "code",
   "execution_count": 9,
   "id": "51d5b70f",
   "metadata": {
    "deletable": false,
    "id": "3ff9801d"
   },
   "outputs": [],
   "source": [
    "data = data[(data['children'] != -1) & (data['children'] != 20)]"
   ]
  },
  {
   "cell_type": "markdown",
   "id": "e75643ac",
   "metadata": {
    "deletable": false,
    "editable": false,
    "id": "bbc4d0ce"
   },
   "source": [
    "**Задание 10. Ещё раз выведите перечень уникальных значений столбца `children`, чтобы убедиться, что артефакты удалены.**"
   ]
  },
  {
   "cell_type": "code",
   "execution_count": 10,
   "id": "52ad91fe",
   "metadata": {
    "deletable": false,
    "id": "ad4fa8b7",
    "outputId": "b2097101-d49d-44d9-901b-32a65c9463d1"
   },
   "outputs": [
    {
     "data": {
      "text/plain": [
       "array([1, 0, 3, 2, 4, 5])"
      ]
     },
     "execution_count": 10,
     "metadata": {},
     "output_type": "execute_result"
    }
   ],
   "source": [
    "data['children'].unique()"
   ]
  },
  {
   "cell_type": "markdown",
   "id": "e8592c2a",
   "metadata": {
    "deletable": false,
    "editable": false,
    "id": "75440b63"
   },
   "source": [
    "### Удаление пропусков (продолжение)"
   ]
  },
  {
   "cell_type": "markdown",
   "id": "429d5a29",
   "metadata": {
    "deletable": false,
    "editable": false,
    "id": "f4ea573f"
   },
   "source": [
    "**Задание 11. Заполните пропуски в столбце `days_employed` медианными значениями по каждого типа занятости `income_type`.**"
   ]
  },
  {
   "cell_type": "code",
   "execution_count": 11,
   "id": "cc2d6a7e",
   "metadata": {
    "deletable": false,
    "id": "af6b1a7e"
   },
   "outputs": [],
   "source": [
    "for t in data['income_type'].unique():\n",
    "    data.loc[(data['income_type'] == t) & (data['days_employed'].isna()), 'days_employed'] = \\\n",
    "    data.loc[(data['income_type'] == t), 'days_employed'].median()"
   ]
  },
  {
   "cell_type": "markdown",
   "id": "10aaa77b",
   "metadata": {
    "deletable": false,
    "editable": false,
    "id": "2753f40d"
   },
   "source": [
    "**Задание 12. Убедитесь, что все пропуски заполнены. Проверьте себя и ещё раз выведите количество пропущенных значений для каждого столбца с помощью двух методов.**"
   ]
  },
  {
   "cell_type": "code",
   "execution_count": 12,
   "id": "8de63014",
   "metadata": {
    "deletable": false,
    "id": "55f78bc2",
    "outputId": "8da1e4e1-358e-4e87-98c9-f261bce0a7b2"
   },
   "outputs": [
    {
     "data": {
      "text/plain": [
       "children            0\n",
       "days_employed       0\n",
       "dob_years           0\n",
       "education           0\n",
       "education_id        0\n",
       "family_status       0\n",
       "family_status_id    0\n",
       "gender              0\n",
       "income_type         0\n",
       "debt                0\n",
       "total_income        0\n",
       "purpose             0\n",
       "dtype: int64"
      ]
     },
     "execution_count": 12,
     "metadata": {},
     "output_type": "execute_result"
    }
   ],
   "source": [
    "data.isna().sum()"
   ]
  },
  {
   "cell_type": "markdown",
   "id": "6c59722d",
   "metadata": {
    "deletable": false,
    "editable": false,
    "id": "ddc81e43"
   },
   "source": [
    "### Изменение типов данных"
   ]
  },
  {
   "cell_type": "markdown",
   "id": "1170441a",
   "metadata": {
    "deletable": false,
    "editable": false,
    "id": "42d19d24"
   },
   "source": [
    "**Задание 13. Замените вещественный тип данных в столбце `total_income` на целочисленный с помощью метода `astype()`.**"
   ]
  },
  {
   "cell_type": "code",
   "execution_count": 13,
   "id": "22c29680",
   "metadata": {
    "deletable": false,
    "id": "920b65ad"
   },
   "outputs": [],
   "source": [
    "data['total_income'] = data['total_income'].astype(int)"
   ]
  },
  {
   "cell_type": "markdown",
   "id": "3f04cd6e",
   "metadata": {
    "deletable": false,
    "editable": false,
    "id": "80c420ba"
   },
   "source": [
    "### Обработка дубликатов"
   ]
  },
  {
   "cell_type": "markdown",
   "id": "d313d4ff",
   "metadata": {
    "deletable": false,
    "editable": false
   },
   "source": [
    "**Задание 14. Обработайте неявные дубликаты в столбце `education`. В этом столбце есть одни и те же значения, но записанные по-разному: с использованием заглавных и строчных букв. Приведите их к нижнему регистру. Проверьте остальные столбцы.**"
   ]
  },
  {
   "cell_type": "code",
   "execution_count": 14,
   "id": "ff0b6d50",
   "metadata": {
    "deletable": false
   },
   "outputs": [],
   "source": [
    "data['education'] = data['education'].str.lower()"
   ]
  },
  {
   "cell_type": "markdown",
   "id": "73694dd2",
   "metadata": {
    "deletable": false,
    "editable": false,
    "id": "dc587695"
   },
   "source": [
    "**Задание 15. Выведите на экран количество строк-дубликатов в данных. Если такие строки присутствуют, удалите их.**"
   ]
  },
  {
   "cell_type": "code",
   "execution_count": 15,
   "id": "1cb267b4",
   "metadata": {
    "deletable": false,
    "id": "3ee445e4",
    "outputId": "9684deba-1934-42d1-99e1-cda61740f822"
   },
   "outputs": [
    {
     "data": {
      "text/plain": [
       "71"
      ]
     },
     "execution_count": 15,
     "metadata": {},
     "output_type": "execute_result"
    }
   ],
   "source": [
    "data.duplicated().sum()"
   ]
  },
  {
   "cell_type": "code",
   "execution_count": 16,
   "id": "7c20bbb8",
   "metadata": {
    "deletable": false,
    "id": "8575fe05"
   },
   "outputs": [],
   "source": [
    "data = data.drop_duplicates()"
   ]
  },
  {
   "cell_type": "markdown",
   "id": "f06f0eb3",
   "metadata": {
    "deletable": false,
    "editable": false,
    "id": "9904cf55"
   },
   "source": [
    "### Категоризация данных"
   ]
  },
  {
   "cell_type": "markdown",
   "id": "a4e70f5d",
   "metadata": {
    "deletable": false,
    "editable": false,
    "id": "72fcc8a2"
   },
   "source": [
    "**Задание 16. На основании диапазонов, указанных ниже, создайте в датафрейме `data` столбец `total_income_category` с категориями:**\n",
    "\n",
    "- 0–30000 — `'E'`;\n",
    "- 30001–50000 — `'D'`;\n",
    "- 50001–200000 — `'C'`;\n",
    "- 200001–1000000 — `'B'`;\n",
    "- 1000001 и выше — `'A'`.\n",
    "\n",
    "\n",
    "**Например, кредитополучателю с доходом 25000 нужно назначить категорию `'E'`, а клиенту, получающему 235000, — `'B'`. Используйте собственную функцию с именем `categorize_income()` и метод `apply()`.**"
   ]
  },
  {
   "cell_type": "code",
   "execution_count": 17,
   "id": "93c2e534",
   "metadata": {
    "deletable": false,
    "id": "e1771346"
   },
   "outputs": [],
   "source": [
    "def categorize_income(income):\n",
    "    try:\n",
    "        if 0 <= income <= 30000:\n",
    "            return 'E'\n",
    "        elif 30001 <= income <= 50000:\n",
    "            return 'D'\n",
    "        elif 50001 <= income <= 200000:\n",
    "            return 'C'\n",
    "        elif 200001 <= income <= 1000000:\n",
    "            return 'B'\n",
    "        elif income >= 1000001:\n",
    "            return 'A'\n",
    "    except:\n",
    "        pass"
   ]
  },
  {
   "cell_type": "code",
   "execution_count": 18,
   "id": "d83b22e7",
   "metadata": {
    "deletable": false,
    "id": "d5f3586d"
   },
   "outputs": [],
   "source": [
    "data['total_income_category'] = data['total_income'].apply(categorize_income)"
   ]
  },
  {
   "cell_type": "markdown",
   "id": "ca9cb91c",
   "metadata": {
    "deletable": false,
    "editable": false,
    "id": "dde49b5c"
   },
   "source": [
    "**Задание 17. Выведите на экран перечень уникальных целей взятия кредита из столбца `purpose`.**"
   ]
  },
  {
   "cell_type": "code",
   "execution_count": 19,
   "id": "7435d356",
   "metadata": {
    "deletable": false,
    "id": "f67ce9b3",
    "outputId": "673c12d9-7d7e-4ae0-9812-c622c89dd244"
   },
   "outputs": [
    {
     "data": {
      "text/plain": [
       "array(['покупка жилья', 'приобретение автомобиля',\n",
       "       'дополнительное образование', 'сыграть свадьбу',\n",
       "       'операции с жильем', 'образование', 'на проведение свадьбы',\n",
       "       'покупка жилья для семьи', 'покупка недвижимости',\n",
       "       'покупка коммерческой недвижимости', 'покупка жилой недвижимости',\n",
       "       'строительство собственной недвижимости', 'недвижимость',\n",
       "       'строительство недвижимости', 'на покупку подержанного автомобиля',\n",
       "       'на покупку своего автомобиля',\n",
       "       'операции с коммерческой недвижимостью',\n",
       "       'строительство жилой недвижимости', 'жилье',\n",
       "       'операции со своей недвижимостью', 'автомобили',\n",
       "       'заняться образованием', 'сделка с подержанным автомобилем',\n",
       "       'получение образования', 'автомобиль', 'свадьба',\n",
       "       'получение дополнительного образования', 'покупка своего жилья',\n",
       "       'операции с недвижимостью', 'получение высшего образования',\n",
       "       'свой автомобиль', 'сделка с автомобилем',\n",
       "       'профильное образование', 'высшее образование',\n",
       "       'покупка жилья для сдачи', 'на покупку автомобиля', 'ремонт жилью',\n",
       "       'заняться высшим образованием'], dtype=object)"
      ]
     },
     "execution_count": 19,
     "metadata": {},
     "output_type": "execute_result"
    }
   ],
   "source": [
    "data['purpose'].unique()"
   ]
  },
  {
   "cell_type": "markdown",
   "id": "de3d9859",
   "metadata": {
    "deletable": false,
    "editable": false,
    "id": "85d0aef0"
   },
   "source": [
    "**Задание 18. Создайте функцию, которая на основании данных из столбца `purpose` сформирует новый столбец `purpose_category`, в который войдут следующие категории:**\n",
    "\n",
    "- `'операции с автомобилем'`,\n",
    "- `'операции с недвижимостью'`,\n",
    "- `'проведение свадьбы'`,\n",
    "- `'получение образования'`.\n",
    "\n",
    "**Например, если в столбце `purpose` находится подстрока `'на покупку автомобиля'`, то в столбце `purpose_category` должна появиться строка `'операции с автомобилем'`.**\n",
    "\n",
    "**Используйте собственную функцию с именем `categorize_purpose()` и метод `apply()`. Изучите данные в столбце `purpose` и определите, какие подстроки помогут вам правильно определить категорию.**"
   ]
  },
  {
   "cell_type": "code",
   "execution_count": 20,
   "id": "abe21efd",
   "metadata": {
    "deletable": false,
    "id": "e149fab4"
   },
   "outputs": [],
   "source": [
    "def categorize_purpose(row):\n",
    "    try:\n",
    "        if 'автом' in row:\n",
    "            return 'операции с автомобилем'\n",
    "        elif 'жил' in row or 'недвиж' in row:\n",
    "            return 'операции с недвижимостью'\n",
    "        elif 'свад' in row:\n",
    "            return 'проведение свадьбы'\n",
    "        elif 'образов' in row:\n",
    "            return 'получение образования'\n",
    "    except:\n",
    "        return 'нет категории'"
   ]
  },
  {
   "cell_type": "code",
   "execution_count": 21,
   "id": "b76151ea",
   "metadata": {
    "deletable": false,
    "id": "bf36e69b"
   },
   "outputs": [],
   "source": [
    "data['purpose_category'] = data['purpose'].apply(categorize_purpose)"
   ]
  },
  {
   "cell_type": "markdown",
   "id": "d8acdd96",
   "metadata": {
    "deletable": false,
    "editable": false,
    "id": "09b242bf"
   },
   "source": [
    "### Шаг 3. Исследуйте данные и ответьте на вопросы"
   ]
  },
  {
   "cell_type": "markdown",
   "id": "3b9e7ce7",
   "metadata": {
    "deletable": false,
    "editable": false,
    "id": "c5d66278"
   },
   "source": [
    "#### 3.1 Есть ли зависимость между количеством детей и возвратом кредита в срок?"
   ]
  },
  {
   "cell_type": "code",
   "execution_count": 22,
   "id": "dc468f2f",
   "metadata": {
    "deletable": false,
    "id": "2cacfc4a"
   },
   "outputs": [
    {
     "data": {
      "text/plain": [
       "children\n",
       "0    14091\n",
       "1     4808\n",
       "2     2052\n",
       "3      330\n",
       "4       41\n",
       "5        9\n",
       "Name: debt, dtype: int64"
      ]
     },
     "execution_count": 22,
     "metadata": {},
     "output_type": "execute_result"
    }
   ],
   "source": [
    "# Сгруппируем клиентов по количеству детей и посчитаем количество заемщиков в каждой группе\n",
    "gr_by_childrens = data.groupby('children')['debt'].count()\n",
    "gr_by_childrens"
   ]
  },
  {
   "cell_type": "code",
   "execution_count": 23,
   "id": "a95f2ae1",
   "metadata": {},
   "outputs": [
    {
     "data": {
      "text/plain": [
       "children\n",
       "0    1063\n",
       "1     444\n",
       "2     194\n",
       "3      27\n",
       "4       4\n",
       "5       0\n",
       "Name: debt, dtype: int64"
      ]
     },
     "execution_count": 23,
     "metadata": {},
     "output_type": "execute_result"
    }
   ],
   "source": [
    "# Найдем количество должников в каждой группе\n",
    "gr_by_childrens_debt = data.groupby('children')['debt'].sum()\n",
    "gr_by_childrens_debt"
   ]
  },
  {
   "cell_type": "code",
   "execution_count": 24,
   "id": "db18273e",
   "metadata": {
    "scrolled": true
   },
   "outputs": [
    {
     "data": {
      "text/plain": [
       "children\n",
       "0    7.5\n",
       "1    9.2\n",
       "2    9.5\n",
       "3    8.2\n",
       "4    9.8\n",
       "5    0.0\n",
       "Name: debt, dtype: float64"
      ]
     },
     "execution_count": 24,
     "metadata": {},
     "output_type": "execute_result"
    }
   ],
   "source": [
    "# Найдем процентное соотношение должников к общему количеству заемщиков в каждой из групп\n",
    "debitor_ratio_by_children = (gr_by_childrens_debt / gr_by_childrens * 100).round(1)\n",
    "debitor_ratio_by_children"
   ]
  },
  {
   "cell_type": "code",
   "execution_count": 39,
   "id": "d9e5aacd",
   "metadata": {},
   "outputs": [
    {
     "data": {
      "text/html": [
       "<div>\n",
       "<style scoped>\n",
       "    .dataframe tbody tr th:only-of-type {\n",
       "        vertical-align: middle;\n",
       "    }\n",
       "\n",
       "    .dataframe tbody tr th {\n",
       "        vertical-align: top;\n",
       "    }\n",
       "\n",
       "    .dataframe thead tr th {\n",
       "        text-align: left;\n",
       "    }\n",
       "\n",
       "    .dataframe thead tr:last-of-type th {\n",
       "        text-align: right;\n",
       "    }\n",
       "</style>\n",
       "<table border=\"1\" class=\"dataframe\">\n",
       "  <thead>\n",
       "    <tr>\n",
       "      <th></th>\n",
       "      <th>count</th>\n",
       "      <th>sum</th>\n",
       "      <th>mean</th>\n",
       "    </tr>\n",
       "    <tr>\n",
       "      <th></th>\n",
       "      <th>debt</th>\n",
       "      <th>debt</th>\n",
       "      <th>debt</th>\n",
       "    </tr>\n",
       "    <tr>\n",
       "      <th>children</th>\n",
       "      <th></th>\n",
       "      <th></th>\n",
       "      <th></th>\n",
       "    </tr>\n",
       "  </thead>\n",
       "  <tbody>\n",
       "    <tr>\n",
       "      <th>0</th>\n",
       "      <td>14091</td>\n",
       "      <td>1063</td>\n",
       "      <td>0.075438</td>\n",
       "    </tr>\n",
       "    <tr>\n",
       "      <th>1</th>\n",
       "      <td>4808</td>\n",
       "      <td>444</td>\n",
       "      <td>0.092346</td>\n",
       "    </tr>\n",
       "    <tr>\n",
       "      <th>2</th>\n",
       "      <td>2052</td>\n",
       "      <td>194</td>\n",
       "      <td>0.094542</td>\n",
       "    </tr>\n",
       "    <tr>\n",
       "      <th>3</th>\n",
       "      <td>330</td>\n",
       "      <td>27</td>\n",
       "      <td>0.081818</td>\n",
       "    </tr>\n",
       "    <tr>\n",
       "      <th>4</th>\n",
       "      <td>41</td>\n",
       "      <td>4</td>\n",
       "      <td>0.097561</td>\n",
       "    </tr>\n",
       "    <tr>\n",
       "      <th>5</th>\n",
       "      <td>9</td>\n",
       "      <td>0</td>\n",
       "      <td>0.000000</td>\n",
       "    </tr>\n",
       "  </tbody>\n",
       "</table>\n",
       "</div>"
      ],
      "text/plain": [
       "          count   sum      mean\n",
       "           debt  debt      debt\n",
       "children                       \n",
       "0         14091  1063  0.075438\n",
       "1          4808   444  0.092346\n",
       "2          2052   194  0.094542\n",
       "3           330    27  0.081818\n",
       "4            41     4  0.097561\n",
       "5             9     0  0.000000"
      ]
     },
     "execution_count": 39,
     "metadata": {},
     "output_type": "execute_result"
    }
   ],
   "source": [
    "# Выведем сводную таблицу с группировкой по количеству детей у заёмщика\n",
    "children_debt = data.pivot_table(index='children', values='debt', aggfunc=['count', 'sum', 'mean'])\n",
    "children_debt"
   ]
  },
  {
   "cell_type": "markdown",
   "id": "db646b6f",
   "metadata": {
    "deletable": false,
    "id": "3a6b99ec"
   },
   "source": [
    "**Вывод:** \n",
    "\n",
    "- Наблюдается несбалансированность групп, доля заемщиков с 3 и более детьми существенно ниже чем, доля заемщиеков без детей или с 1 или 2 детьми.\n",
    "- Заемщики без детей реже становятся должниками, это происходит в **7.5%** случаев.\n",
    "- При наличие детей, риск невыплаты кредита **повышается на 0.7 - 2.4 п.п., т.е 8.2 - 9.8%**\n",
    "- Доля заемщиков с 5 детими очень маленькая, всего 9 заемщиков из 21525, но можно предположить, что риск возникновения задолжности возрастет, т.к, в общем, у заемщиков с детьми больше невозвратов чем у заемщиков без детей"
   ]
  },
  {
   "cell_type": "markdown",
   "id": "b00273e0",
   "metadata": {
    "deletable": false,
    "editable": false,
    "id": "97be82ca"
   },
   "source": [
    "#### 3.2 Есть ли зависимость между семейным положением и возвратом кредита в срок?"
   ]
  },
  {
   "cell_type": "code",
   "execution_count": 27,
   "id": "2fafccce",
   "metadata": {
    "deletable": false,
    "id": "dc3f7ee8"
   },
   "outputs": [
    {
     "data": {
      "text/plain": [
       "family_status\n",
       "Не женат / не замужем     2796\n",
       "в разводе                 1189\n",
       "вдовец / вдова             951\n",
       "гражданский брак          4134\n",
       "женат / замужем          12261\n",
       "Name: family_status, dtype: int64"
      ]
     },
     "execution_count": 27,
     "metadata": {},
     "output_type": "execute_result"
    }
   ],
   "source": [
    "# Сгруппируем заемщиков по семейному положению\n",
    "gr_by_family_stat = data.groupby('family_status')['family_status'].count()\n",
    "gr_by_family_stat"
   ]
  },
  {
   "cell_type": "code",
   "execution_count": 28,
   "id": "522444e4",
   "metadata": {},
   "outputs": [
    {
     "data": {
      "text/plain": [
       "family_status\n",
       "Не женат / не замужем    273\n",
       "в разводе                 84\n",
       "вдовец / вдова            63\n",
       "гражданский брак         385\n",
       "женат / замужем          927\n",
       "Name: debt, dtype: int64"
      ]
     },
     "execution_count": 28,
     "metadata": {},
     "output_type": "execute_result"
    }
   ],
   "source": [
    "# Найдем количество должников в каждой группе\n",
    "gr_by_family_stat_debt = data.groupby('family_status')['debt'].sum()\n",
    "gr_by_family_stat_debt"
   ]
  },
  {
   "cell_type": "code",
   "execution_count": 29,
   "id": "19d08dec",
   "metadata": {},
   "outputs": [
    {
     "data": {
      "text/plain": [
       "family_status\n",
       "Не женат / не замужем    9.8\n",
       "в разводе                7.1\n",
       "вдовец / вдова           6.6\n",
       "гражданский брак         9.3\n",
       "женат / замужем          7.6\n",
       "dtype: float64"
      ]
     },
     "execution_count": 29,
     "metadata": {},
     "output_type": "execute_result"
    }
   ],
   "source": [
    "# Найдем процентное соотношение должников к общему кол-ву заемщиуов в каждой группе\n",
    "debitor_by_family_stat_ratio = (gr_by_family_stat_debt / gr_by_family_stat * 100).round(1)\n",
    "debitor_by_family_stat_ratio"
   ]
  },
  {
   "cell_type": "code",
   "execution_count": 30,
   "id": "5b710190",
   "metadata": {},
   "outputs": [
    {
     "data": {
      "text/html": [
       "<div>\n",
       "<style scoped>\n",
       "    .dataframe tbody tr th:only-of-type {\n",
       "        vertical-align: middle;\n",
       "    }\n",
       "\n",
       "    .dataframe tbody tr th {\n",
       "        vertical-align: top;\n",
       "    }\n",
       "\n",
       "    .dataframe thead tr th {\n",
       "        text-align: left;\n",
       "    }\n",
       "\n",
       "    .dataframe thead tr:last-of-type th {\n",
       "        text-align: right;\n",
       "    }\n",
       "</style>\n",
       "<table border=\"1\" class=\"dataframe\">\n",
       "  <thead>\n",
       "    <tr>\n",
       "      <th></th>\n",
       "      <th>count</th>\n",
       "      <th>sum</th>\n",
       "      <th>ratio</th>\n",
       "    </tr>\n",
       "    <tr>\n",
       "      <th></th>\n",
       "      <th>debt</th>\n",
       "      <th>debt</th>\n",
       "      <th></th>\n",
       "    </tr>\n",
       "    <tr>\n",
       "      <th>family_status</th>\n",
       "      <th></th>\n",
       "      <th></th>\n",
       "      <th></th>\n",
       "    </tr>\n",
       "  </thead>\n",
       "  <tbody>\n",
       "    <tr>\n",
       "      <th>Не женат / не замужем</th>\n",
       "      <td>2796</td>\n",
       "      <td>273</td>\n",
       "      <td>9.8</td>\n",
       "    </tr>\n",
       "    <tr>\n",
       "      <th>в разводе</th>\n",
       "      <td>1189</td>\n",
       "      <td>84</td>\n",
       "      <td>7.1</td>\n",
       "    </tr>\n",
       "    <tr>\n",
       "      <th>вдовец / вдова</th>\n",
       "      <td>951</td>\n",
       "      <td>63</td>\n",
       "      <td>6.6</td>\n",
       "    </tr>\n",
       "    <tr>\n",
       "      <th>гражданский брак</th>\n",
       "      <td>4134</td>\n",
       "      <td>385</td>\n",
       "      <td>9.3</td>\n",
       "    </tr>\n",
       "    <tr>\n",
       "      <th>женат / замужем</th>\n",
       "      <td>12261</td>\n",
       "      <td>927</td>\n",
       "      <td>7.6</td>\n",
       "    </tr>\n",
       "  </tbody>\n",
       "</table>\n",
       "</div>"
      ],
      "text/plain": [
       "                       count  sum ratio\n",
       "                        debt debt      \n",
       "family_status                          \n",
       "Не женат / не замужем   2796  273   9.8\n",
       "в разводе               1189   84   7.1\n",
       "вдовец / вдова           951   63   6.6\n",
       "гражданский брак        4134  385   9.3\n",
       "женат / замужем        12261  927   7.6"
      ]
     },
     "execution_count": 30,
     "metadata": {},
     "output_type": "execute_result"
    }
   ],
   "source": [
    "# Выведем сводную таблицу сгруппированную по семейному положению.\n",
    "family_stat_debt = data.pivot_table(index='family_status', values='debt', aggfunc=['count', 'sum'])\n",
    "family_stat_debt['ratio'] = debitor_by_family_stat_ratio\n",
    "family_stat_debt"
   ]
  },
  {
   "cell_type": "markdown",
   "id": "94d5533a",
   "metadata": {
    "deletable": false,
    "id": "1cef7837"
   },
   "source": [
    "**Вывод:**\n",
    " - Наибольшая доля невозвратов приходится на заемщиков из группы **Не женат/не замужем - 9.8%**\n",
    " - Так же высока доля невозвратов в группе **гражданский брак - 9.3%** \n",
    " - Заемщики **состоящие или состоявшие в зарегистрированом браке** реже становятся должниками и процент невозрата займа соствляет **6.6 - 7.6%**"
   ]
  },
  {
   "cell_type": "markdown",
   "id": "4bb512f2",
   "metadata": {
    "deletable": false,
    "editable": false,
    "id": "1e8b2fca"
   },
   "source": [
    "#### 3.3 Есть ли зависимость между уровнем дохода и возвратом кредита в срок?"
   ]
  },
  {
   "cell_type": "code",
   "execution_count": 31,
   "id": "fb77b90a",
   "metadata": {
    "deletable": false,
    "id": "cd7e3720"
   },
   "outputs": [
    {
     "data": {
      "text/plain": [
       "total_income_category\n",
       "A       25\n",
       "B     5014\n",
       "C    15921\n",
       "D      349\n",
       "E       22\n",
       "Name: total_income_category, dtype: int64"
      ]
     },
     "execution_count": 31,
     "metadata": {},
     "output_type": "execute_result"
    }
   ],
   "source": [
    "# Сгруппируем заемщиков по категориям из столбца `total_income_category` и посчитаем \n",
    "# количество заемщиков в каждой группе\n",
    "gr_by_income_category = data.groupby('total_income_category')['total_income_category'].count()\n",
    "gr_by_income_category"
   ]
  },
  {
   "cell_type": "code",
   "execution_count": 32,
   "id": "39347ec8",
   "metadata": {},
   "outputs": [
    {
     "data": {
      "text/plain": [
       "total_income_category\n",
       "A       2\n",
       "B     354\n",
       "C    1353\n",
       "D      21\n",
       "E       2\n",
       "Name: debt, dtype: int64"
      ]
     },
     "execution_count": 32,
     "metadata": {},
     "output_type": "execute_result"
    }
   ],
   "source": [
    "# Посчитаем количество должников в каждой из групп\n",
    "gr_by_income_category_debt = data.groupby('total_income_category')['debt'].sum()\n",
    "gr_by_income_category_debt "
   ]
  },
  {
   "cell_type": "code",
   "execution_count": 33,
   "id": "e764d7c5",
   "metadata": {},
   "outputs": [
    {
     "data": {
      "text/plain": [
       "total_income_category\n",
       "A    8.0\n",
       "B    7.1\n",
       "C    8.5\n",
       "D    6.0\n",
       "E    9.1\n",
       "dtype: float64"
      ]
     },
     "execution_count": 33,
     "metadata": {},
     "output_type": "execute_result"
    }
   ],
   "source": [
    "# Найдем процентное соотношение количество должников к общему количеству заемщиков в каждой группе\n",
    "debitor_by_income_categoty_ratio = (gr_by_income_category_debt / gr_by_income_category * 100).round(1) \n",
    "debitor_by_income_categoty_ratio"
   ]
  },
  {
   "cell_type": "code",
   "execution_count": 34,
   "id": "88921da5",
   "metadata": {},
   "outputs": [
    {
     "data": {
      "text/html": [
       "<div>\n",
       "<style scoped>\n",
       "    .dataframe tbody tr th:only-of-type {\n",
       "        vertical-align: middle;\n",
       "    }\n",
       "\n",
       "    .dataframe tbody tr th {\n",
       "        vertical-align: top;\n",
       "    }\n",
       "\n",
       "    .dataframe thead tr th {\n",
       "        text-align: left;\n",
       "    }\n",
       "\n",
       "    .dataframe thead tr:last-of-type th {\n",
       "        text-align: right;\n",
       "    }\n",
       "</style>\n",
       "<table border=\"1\" class=\"dataframe\">\n",
       "  <thead>\n",
       "    <tr>\n",
       "      <th></th>\n",
       "      <th>count</th>\n",
       "      <th>sum</th>\n",
       "      <th>ratio</th>\n",
       "      <th>income</th>\n",
       "    </tr>\n",
       "    <tr>\n",
       "      <th></th>\n",
       "      <th>debt</th>\n",
       "      <th>debt</th>\n",
       "      <th></th>\n",
       "      <th></th>\n",
       "    </tr>\n",
       "    <tr>\n",
       "      <th>total_income_category</th>\n",
       "      <th></th>\n",
       "      <th></th>\n",
       "      <th></th>\n",
       "      <th></th>\n",
       "    </tr>\n",
       "  </thead>\n",
       "  <tbody>\n",
       "    <tr>\n",
       "      <th>A</th>\n",
       "      <td>25</td>\n",
       "      <td>2</td>\n",
       "      <td>8.0</td>\n",
       "      <td>больше 1000000 руб.</td>\n",
       "    </tr>\n",
       "    <tr>\n",
       "      <th>B</th>\n",
       "      <td>5014</td>\n",
       "      <td>354</td>\n",
       "      <td>7.1</td>\n",
       "      <td>200001 - 1000000 руб.</td>\n",
       "    </tr>\n",
       "    <tr>\n",
       "      <th>C</th>\n",
       "      <td>15921</td>\n",
       "      <td>1353</td>\n",
       "      <td>8.5</td>\n",
       "      <td>50001 - 200000 руб.</td>\n",
       "    </tr>\n",
       "    <tr>\n",
       "      <th>D</th>\n",
       "      <td>349</td>\n",
       "      <td>21</td>\n",
       "      <td>6.0</td>\n",
       "      <td>30001 - 50000 руб.</td>\n",
       "    </tr>\n",
       "    <tr>\n",
       "      <th>E</th>\n",
       "      <td>22</td>\n",
       "      <td>2</td>\n",
       "      <td>9.1</td>\n",
       "      <td>меньшне 30000 руб.</td>\n",
       "    </tr>\n",
       "  </tbody>\n",
       "</table>\n",
       "</div>"
      ],
      "text/plain": [
       "                       count   sum ratio                 income\n",
       "                        debt  debt                             \n",
       "total_income_category                                          \n",
       "A                         25     2   8.0    больше 1000000 руб.\n",
       "B                       5014   354   7.1  200001 - 1000000 руб.\n",
       "C                      15921  1353   8.5    50001 - 200000 руб.\n",
       "D                        349    21   6.0     30001 - 50000 руб.\n",
       "E                         22     2   9.1     меньшне 30000 руб."
      ]
     },
     "execution_count": 34,
     "metadata": {},
     "output_type": "execute_result"
    }
   ],
   "source": [
    "# Выведем сводную таблицу сгруппированную по категориям заёмщиков\n",
    "income_debt = data.pivot_table(index='total_income_category', values='debt', aggfunc=['count', 'sum'])\n",
    "income_debt['ratio'] = debitor_by_income_categoty_ratio \n",
    "\n",
    "# Добавим описание уровня доходов для каждой категории заёмщиков\n",
    "income_debt['income'] = ['больше 1000000 руб.', '200001 - 1000000 руб.', '50001 - 200000 руб.', '30001 - 50000 руб.', 'меньшне 30000 руб.']\n",
    "income_debt"
   ]
  },
  {
   "cell_type": "markdown",
   "id": "04ec6b9a",
   "metadata": {
    "deletable": false,
    "id": "e8593def"
   },
   "source": [
    "**Вывод:** \n",
    "- Наблюдается не сбаланисорованность выборок\n",
    "- В группах **А** и **E** очень маленькая выборка, **25** и **22** заемщика соответственно, в группе **D** всего **349** заемщиков, что составляет 1.6% от общего числа заёмщиков.\n",
    "- По группам **B** и **C** можно сделать вывод, что с **ростом дохода** количество невозвратов кредита **уменьшается**"
   ]
  },
  {
   "cell_type": "markdown",
   "id": "309eccf9",
   "metadata": {
    "deletable": false,
    "editable": false,
    "id": "99ecbd1f"
   },
   "source": [
    "#### 3.4 Как разные цели кредита влияют на его возврат в срок?"
   ]
  },
  {
   "cell_type": "code",
   "execution_count": 35,
   "id": "ae0f5a1e",
   "metadata": {
    "deletable": false,
    "id": "2b687290"
   },
   "outputs": [
    {
     "data": {
      "text/plain": [
       "purpose_category\n",
       "операции с автомобилем       4279\n",
       "операции с недвижимостью    10751\n",
       "получение образования        3988\n",
       "проведение свадьбы           2313\n",
       "Name: purpose_category, dtype: int64"
      ]
     },
     "execution_count": 35,
     "metadata": {},
     "output_type": "execute_result"
    }
   ],
   "source": [
    "# Сгруппируем заемщиков по целям взятия кредита и посчитаем количество заемщиков в каждой группе\n",
    "gr_by_purpose_category = data.groupby('purpose_category')['purpose_category'].count()\n",
    "gr_by_purpose_category"
   ]
  },
  {
   "cell_type": "code",
   "execution_count": 36,
   "id": "d1c143b1",
   "metadata": {},
   "outputs": [
    {
     "data": {
      "text/plain": [
       "purpose_category\n",
       "операции с автомобилем      400\n",
       "операции с недвижимостью    780\n",
       "получение образования       369\n",
       "проведение свадьбы          183\n",
       "Name: debt, dtype: int64"
      ]
     },
     "execution_count": 36,
     "metadata": {},
     "output_type": "execute_result"
    }
   ],
   "source": [
    "# Посчитаем количество невозвратов в каждой группе\n",
    "gr_by_purpose_category_debt = data.groupby('purpose_category')['debt'].sum()\n",
    "gr_by_purpose_category_debt"
   ]
  },
  {
   "cell_type": "code",
   "execution_count": 37,
   "id": "b2833e0d",
   "metadata": {},
   "outputs": [
    {
     "data": {
      "text/plain": [
       "purpose_category\n",
       "операции с автомобилем      9.3\n",
       "операции с недвижимостью    7.3\n",
       "получение образования       9.3\n",
       "проведение свадьбы          7.9\n",
       "dtype: float64"
      ]
     },
     "execution_count": 37,
     "metadata": {},
     "output_type": "execute_result"
    }
   ],
   "source": [
    "# Посчитаем процентное отношение количества задолжностей к общему числу займов в каждой группе\n",
    "debitor_by_purpose_category_ratio = (gr_by_purpose_category_debt / gr_by_purpose_category * 100).round(1)\n",
    "debitor_by_purpose_category_ratio"
   ]
  },
  {
   "cell_type": "code",
   "execution_count": 38,
   "id": "1511bb34",
   "metadata": {},
   "outputs": [
    {
     "data": {
      "text/html": [
       "<div>\n",
       "<style scoped>\n",
       "    .dataframe tbody tr th:only-of-type {\n",
       "        vertical-align: middle;\n",
       "    }\n",
       "\n",
       "    .dataframe tbody tr th {\n",
       "        vertical-align: top;\n",
       "    }\n",
       "\n",
       "    .dataframe thead tr th {\n",
       "        text-align: left;\n",
       "    }\n",
       "\n",
       "    .dataframe thead tr:last-of-type th {\n",
       "        text-align: right;\n",
       "    }\n",
       "</style>\n",
       "<table border=\"1\" class=\"dataframe\">\n",
       "  <thead>\n",
       "    <tr>\n",
       "      <th></th>\n",
       "      <th>count</th>\n",
       "      <th>sum</th>\n",
       "      <th>ratio</th>\n",
       "    </tr>\n",
       "    <tr>\n",
       "      <th></th>\n",
       "      <th>debt</th>\n",
       "      <th>debt</th>\n",
       "      <th></th>\n",
       "    </tr>\n",
       "    <tr>\n",
       "      <th>purpose_category</th>\n",
       "      <th></th>\n",
       "      <th></th>\n",
       "      <th></th>\n",
       "    </tr>\n",
       "  </thead>\n",
       "  <tbody>\n",
       "    <tr>\n",
       "      <th>операции с автомобилем</th>\n",
       "      <td>4279</td>\n",
       "      <td>400</td>\n",
       "      <td>9.3</td>\n",
       "    </tr>\n",
       "    <tr>\n",
       "      <th>операции с недвижимостью</th>\n",
       "      <td>10751</td>\n",
       "      <td>780</td>\n",
       "      <td>7.3</td>\n",
       "    </tr>\n",
       "    <tr>\n",
       "      <th>получение образования</th>\n",
       "      <td>3988</td>\n",
       "      <td>369</td>\n",
       "      <td>9.3</td>\n",
       "    </tr>\n",
       "    <tr>\n",
       "      <th>проведение свадьбы</th>\n",
       "      <td>2313</td>\n",
       "      <td>183</td>\n",
       "      <td>7.9</td>\n",
       "    </tr>\n",
       "  </tbody>\n",
       "</table>\n",
       "</div>"
      ],
      "text/plain": [
       "                          count  sum ratio\n",
       "                           debt debt      \n",
       "purpose_category                          \n",
       "операции с автомобилем     4279  400   9.3\n",
       "операции с недвижимостью  10751  780   7.3\n",
       "получение образования      3988  369   9.3\n",
       "проведение свадьбы         2313  183   7.9"
      ]
     },
     "execution_count": 38,
     "metadata": {},
     "output_type": "execute_result"
    }
   ],
   "source": [
    "# Выведем сводную таблицу сгруппированную по целям кредита\n",
    "purpose_debt = data.pivot_table(index='purpose_category', values='debt', aggfunc=['count', 'sum'])\n",
    "purpose_debt['ratio'] = debitor_by_purpose_category_ratio\n",
    "purpose_debt"
   ]
  },
  {
   "cell_type": "markdown",
   "id": "62f3b6ec",
   "metadata": {
    "deletable": false,
    "id": "b4bb2ce6"
   },
   "source": [
    "**Вывод:** \n",
    "- Наименьшее число невозратов к общему числу займов в группе **операции с недвижимостью - 7.3%** и группе **проведение свадьбы - 7.9%**\n",
    "- При кредите на **автомобиль** или на **получения образования** вероятность невозрата кредита **возрастает**, доля невозвратов к общему числу займов в группе составляет **9.3%**"
   ]
  },
  {
   "cell_type": "markdown",
   "id": "bc1288d2",
   "metadata": {
    "deletable": false,
    "editable": false,
    "id": "09c3ac4c"
   },
   "source": [
    "#### 3.5 Приведите возможные причины появления пропусков в исходных данных."
   ]
  },
  {
   "cell_type": "markdown",
   "id": "e9f1d1de",
   "metadata": {
    "deletable": false,
    "id": "9da2ceda"
   },
   "source": [
    "*Ответ:* \n",
    "\n",
    "При выводе информации по пропускам, мы видим, что в столбцах `days_employed` и `total_income` одинаковое количество пропусков. Полагаю, это связано с тем, что есть заёмщики, которые подавали заявки, например онлайн, где не обязательно было заполнять доходы и стаж работы.\n",
    "\n",
    "Возможно, часть из заемщиков не работают и в связи с этим у них нет трудового стажа и доходов.\n",
    "\n",
    "Возможно, пропуски связаны с ошибкой при выгрузки данных"
   ]
  },
  {
   "cell_type": "markdown",
   "id": "6247d9dc",
   "metadata": {
    "deletable": false,
    "editable": false,
    "id": "7b0487d6"
   },
   "source": [
    "#### 3.6 Объясните, почему заполнить пропуски медианным значением — лучшее решение для количественных переменных."
   ]
  },
  {
   "cell_type": "markdown",
   "id": "f5a28f82",
   "metadata": {
    "deletable": false,
    "id": "7ecf2b8e"
   },
   "source": [
    "*Ответ:* \n",
    "это связано с тем, что при заполнении пропусков медианным значением, общее медианное значение не изменится, и медиана более устойчива к выбросам, т.е это не должно сильно отразиться на данных и следовательно на получаемых выводах"
   ]
  },
  {
   "cell_type": "markdown",
   "id": "95e3499c",
   "metadata": {
    "deletable": false,
    "editable": false,
    "id": "6db5255a"
   },
   "source": [
    "### Шаг 4: общий вывод."
   ]
  },
  {
   "cell_type": "markdown",
   "id": "99b0d380",
   "metadata": {
    "deletable": false,
    "id": "bad65432"
   },
   "source": [
    "Были проанализированы табличные данные по выданым ранее кредитам. Целью анализа данных было выявить влияет ли количество детей, семейное положение, уровень дохода и цели кредита на увеличение риска невыполения обязательст по кредиту.\n",
    "\n",
    "Перед выполнение анализа данных была проведена следующая работа:\n",
    "- заполнены пропуски значений в столцах `days_employed` и `total_income`\n",
    "- удалены аномальные значения в столбце `children`\n",
    "- удалены дубликаты\n",
    "- были выделены категории заемщиков по доходу\n",
    "- быди выделены категории по цели кредита\n",
    "\n",
    "В ходе проведенного анализа было выявлено:\n",
    "- наличие детей увеличивает риск невозврата займа\n",
    "- риск невозрата займа уменьшается, если заёмщик состоит или состоял в зарегистрированном браке\n",
    "- риск невозрата займа уменьшается, при высоком доходе у заемщика\n",
    "- при целях кредита *операции с автомобилем* и *получение образования* риск невозврата займа увеличивается\n",
    "\n",
    "Идеальным клиентом для банка будет является клиет с высоким доходом, без детей, состоящий или состоявшим в зарегистированном браке, который берет кредит для покупки жилья"
   ]
  }
 ],
 "metadata": {
  "ExecuteTimeLog": [
   {
    "duration": 486,
    "start_time": "2023-01-15T09:43:04.349Z"
   },
   {
    "duration": 23,
    "start_time": "2023-01-15T09:43:06.820Z"
   },
   {
    "duration": 16,
    "start_time": "2023-01-15T09:43:21.449Z"
   },
   {
    "duration": 10,
    "start_time": "2023-01-15T09:43:23.609Z"
   },
   {
    "duration": 35,
    "start_time": "2023-01-15T09:43:24.702Z"
   },
   {
    "duration": 4,
    "start_time": "2023-01-15T09:43:25.971Z"
   },
   {
    "duration": 8,
    "start_time": "2023-01-15T09:43:26.859Z"
   },
   {
    "duration": 5,
    "start_time": "2023-01-15T09:43:28.227Z"
   },
   {
    "duration": 8,
    "start_time": "2023-01-15T09:43:28.961Z"
   },
   {
    "duration": 5,
    "start_time": "2023-01-15T09:43:29.618Z"
   },
   {
    "duration": 37,
    "start_time": "2023-01-15T09:43:30.928Z"
   },
   {
    "duration": 10,
    "start_time": "2023-01-15T09:43:31.663Z"
   },
   {
    "duration": 4,
    "start_time": "2023-01-15T09:43:32.913Z"
   },
   {
    "duration": 12,
    "start_time": "2023-01-15T09:43:33.787Z"
   },
   {
    "duration": 21,
    "start_time": "2023-01-15T09:43:34.331Z"
   },
   {
    "duration": 22,
    "start_time": "2023-01-15T09:43:34.725Z"
   },
   {
    "duration": 4,
    "start_time": "2023-01-15T09:43:36.710Z"
   },
   {
    "duration": 11,
    "start_time": "2023-01-15T09:43:37.216Z"
   },
   {
    "duration": 6,
    "start_time": "2023-01-15T09:43:38.342Z"
   },
   {
    "duration": 3,
    "start_time": "2023-01-15T09:43:39.436Z"
   },
   {
    "duration": 10,
    "start_time": "2023-01-15T09:43:39.858Z"
   },
   {
    "duration": 2,
    "start_time": "2023-01-15T09:43:40.999Z"
   },
   {
    "duration": 18,
    "start_time": "2023-01-15T09:44:28.989Z"
   },
   {
    "duration": 5,
    "start_time": "2023-01-15T09:46:06.263Z"
   },
   {
    "duration": 6,
    "start_time": "2023-01-15T09:46:10.871Z"
   },
   {
    "duration": 24,
    "start_time": "2023-01-15T09:46:25.605Z"
   },
   {
    "duration": 5,
    "start_time": "2023-01-15T09:46:53.047Z"
   },
   {
    "duration": 4,
    "start_time": "2023-01-15T09:46:59.352Z"
   },
   {
    "duration": 4,
    "start_time": "2023-01-15T09:47:05.076Z"
   },
   {
    "duration": 5,
    "start_time": "2023-01-15T09:47:13.112Z"
   },
   {
    "duration": 4,
    "start_time": "2023-01-15T09:47:20.423Z"
   },
   {
    "duration": 20,
    "start_time": "2023-01-15T09:47:26.806Z"
   },
   {
    "duration": 81,
    "start_time": "2023-01-15T09:47:55.618Z"
   },
   {
    "duration": 74,
    "start_time": "2023-01-15T09:48:01.006Z"
   },
   {
    "duration": 8,
    "start_time": "2023-01-15T09:48:05.749Z"
   },
   {
    "duration": 7,
    "start_time": "2023-01-15T09:49:12.810Z"
   },
   {
    "duration": 5,
    "start_time": "2023-01-15T09:51:08.162Z"
   },
   {
    "duration": 11,
    "start_time": "2023-01-15T09:53:19.856Z"
   },
   {
    "duration": 6,
    "start_time": "2023-01-15T09:53:21.719Z"
   },
   {
    "duration": 22,
    "start_time": "2023-01-15T09:53:27.164Z"
   },
   {
    "duration": 10,
    "start_time": "2023-01-15T09:54:04.533Z"
   },
   {
    "duration": 8,
    "start_time": "2023-01-15T09:54:09.887Z"
   },
   {
    "duration": 22,
    "start_time": "2023-01-15T09:54:29.775Z"
   },
   {
    "duration": 7,
    "start_time": "2023-01-15T09:54:37.777Z"
   },
   {
    "duration": 5,
    "start_time": "2023-01-15T09:57:03.285Z"
   },
   {
    "duration": 8,
    "start_time": "2023-01-15T09:57:30.785Z"
   },
   {
    "duration": 7,
    "start_time": "2023-01-15T10:01:05.007Z"
   },
   {
    "duration": 7,
    "start_time": "2023-01-15T10:01:13.975Z"
   },
   {
    "duration": 6,
    "start_time": "2023-01-15T10:01:27.047Z"
   },
   {
    "duration": 7,
    "start_time": "2023-01-15T10:03:51.527Z"
   },
   {
    "duration": 11,
    "start_time": "2023-01-15T10:03:54.367Z"
   },
   {
    "duration": 5,
    "start_time": "2023-01-15T10:03:56.927Z"
   },
   {
    "duration": 6,
    "start_time": "2023-01-15T10:04:03.094Z"
   },
   {
    "duration": 7,
    "start_time": "2023-01-15T10:04:07.824Z"
   },
   {
    "duration": 7,
    "start_time": "2023-01-15T10:04:11.402Z"
   },
   {
    "duration": 8,
    "start_time": "2023-01-15T10:04:15.949Z"
   },
   {
    "duration": 6,
    "start_time": "2023-01-15T10:04:20.270Z"
   },
   {
    "duration": 7,
    "start_time": "2023-01-15T10:04:22.345Z"
   },
   {
    "duration": 4,
    "start_time": "2023-01-15T10:50:11.737Z"
   },
   {
    "duration": 5,
    "start_time": "2023-01-15T10:50:19.559Z"
   },
   {
    "duration": 1032,
    "start_time": "2023-01-15T10:51:07.445Z"
   },
   {
    "duration": 124,
    "start_time": "2023-01-15T10:51:35.831Z"
   },
   {
    "duration": 55,
    "start_time": "2023-01-15T10:52:04.480Z"
   },
   {
    "duration": 6,
    "start_time": "2023-01-15T10:52:17.096Z"
   },
   {
    "duration": 5,
    "start_time": "2023-01-15T10:52:57.667Z"
   },
   {
    "duration": 11,
    "start_time": "2023-01-15T10:53:07.179Z"
   },
   {
    "duration": 11,
    "start_time": "2023-01-15T10:53:11.164Z"
   },
   {
    "duration": 5,
    "start_time": "2023-01-15T10:53:16.609Z"
   },
   {
    "duration": 134,
    "start_time": "2023-01-15T10:54:09.424Z"
   },
   {
    "duration": 146,
    "start_time": "2023-01-15T10:54:35.850Z"
   },
   {
    "duration": 7,
    "start_time": "2023-01-15T10:55:42.151Z"
   },
   {
    "duration": 30,
    "start_time": "2023-01-15T10:56:16.745Z"
   },
   {
    "duration": 13,
    "start_time": "2023-01-15T10:56:30.743Z"
   },
   {
    "duration": 24,
    "start_time": "2023-01-15T10:56:34.639Z"
   },
   {
    "duration": 76,
    "start_time": "2023-01-15T10:56:49.407Z"
   },
   {
    "duration": 18,
    "start_time": "2023-01-15T10:56:49.894Z"
   },
   {
    "duration": 18,
    "start_time": "2023-01-15T10:56:50.287Z"
   },
   {
    "duration": 11,
    "start_time": "2023-01-15T10:56:51.051Z"
   },
   {
    "duration": 39,
    "start_time": "2023-01-15T10:56:51.414Z"
   },
   {
    "duration": 4,
    "start_time": "2023-01-15T10:56:51.978Z"
   },
   {
    "duration": 7,
    "start_time": "2023-01-15T10:56:52.343Z"
   },
   {
    "duration": 6,
    "start_time": "2023-01-15T10:56:52.896Z"
   },
   {
    "duration": 5,
    "start_time": "2023-01-15T10:56:53.282Z"
   },
   {
    "duration": 5,
    "start_time": "2023-01-15T10:56:53.675Z"
   },
   {
    "duration": 38,
    "start_time": "2023-01-15T10:56:54.255Z"
   },
   {
    "duration": 12,
    "start_time": "2023-01-15T10:56:54.924Z"
   },
   {
    "duration": 5,
    "start_time": "2023-01-15T10:56:57.099Z"
   },
   {
    "duration": 13,
    "start_time": "2023-01-15T10:56:58.102Z"
   },
   {
    "duration": 31,
    "start_time": "2023-01-15T10:56:58.625Z"
   },
   {
    "duration": 24,
    "start_time": "2023-01-15T10:56:58.914Z"
   },
   {
    "duration": 5,
    "start_time": "2023-01-15T10:57:00.043Z"
   },
   {
    "duration": 16,
    "start_time": "2023-01-15T10:57:00.532Z"
   },
   {
    "duration": 7,
    "start_time": "2023-01-15T10:57:01.639Z"
   },
   {
    "duration": 3,
    "start_time": "2023-01-15T10:57:02.357Z"
   },
   {
    "duration": 10,
    "start_time": "2023-01-15T10:57:02.685Z"
   },
   {
    "duration": 13,
    "start_time": "2023-01-15T10:57:04.125Z"
   },
   {
    "duration": 23,
    "start_time": "2023-01-15T10:57:05.638Z"
   },
   {
    "duration": 7,
    "start_time": "2023-01-15T10:57:28.067Z"
   },
   {
    "duration": 23,
    "start_time": "2023-01-15T10:58:46.996Z"
   },
   {
    "duration": 31,
    "start_time": "2023-01-15T10:58:48.747Z"
   },
   {
    "duration": 7,
    "start_time": "2023-01-15T10:58:52.624Z"
   },
   {
    "duration": 1240,
    "start_time": "2023-01-15T10:59:04.875Z"
   },
   {
    "duration": 21,
    "start_time": "2023-01-15T10:59:06.118Z"
   },
   {
    "duration": 18,
    "start_time": "2023-01-15T10:59:06.141Z"
   },
   {
    "duration": 12,
    "start_time": "2023-01-15T10:59:06.161Z"
   },
   {
    "duration": 62,
    "start_time": "2023-01-15T10:59:06.175Z"
   },
   {
    "duration": 4,
    "start_time": "2023-01-15T10:59:06.240Z"
   },
   {
    "duration": 11,
    "start_time": "2023-01-15T10:59:06.246Z"
   },
   {
    "duration": 5,
    "start_time": "2023-01-15T10:59:06.259Z"
   },
   {
    "duration": 10,
    "start_time": "2023-01-15T10:59:06.266Z"
   },
   {
    "duration": 9,
    "start_time": "2023-01-15T10:59:06.278Z"
   },
   {
    "duration": 79,
    "start_time": "2023-01-15T10:59:06.289Z"
   },
   {
    "duration": 10,
    "start_time": "2023-01-15T10:59:06.370Z"
   },
   {
    "duration": 4,
    "start_time": "2023-01-15T10:59:06.382Z"
   },
   {
    "duration": 15,
    "start_time": "2023-01-15T10:59:06.389Z"
   },
   {
    "duration": 38,
    "start_time": "2023-01-15T10:59:06.406Z"
   },
   {
    "duration": 18,
    "start_time": "2023-01-15T10:59:06.446Z"
   },
   {
    "duration": 5,
    "start_time": "2023-01-15T10:59:06.466Z"
   },
   {
    "duration": 13,
    "start_time": "2023-01-15T10:59:06.474Z"
   },
   {
    "duration": 9,
    "start_time": "2023-01-15T10:59:06.489Z"
   },
   {
    "duration": 4,
    "start_time": "2023-01-15T10:59:06.500Z"
   },
   {
    "duration": 35,
    "start_time": "2023-01-15T10:59:06.505Z"
   },
   {
    "duration": 22,
    "start_time": "2023-01-15T10:59:06.542Z"
   },
   {
    "duration": 10,
    "start_time": "2023-01-15T10:59:06.566Z"
   },
   {
    "duration": 7,
    "start_time": "2023-01-15T10:59:06.577Z"
   },
   {
    "duration": 153,
    "start_time": "2023-01-15T10:59:06.586Z"
   },
   {
    "duration": 3,
    "start_time": "2023-01-15T10:59:06.741Z"
   },
   {
    "duration": 6,
    "start_time": "2023-01-15T10:59:06.745Z"
   },
   {
    "duration": 5,
    "start_time": "2023-01-15T10:59:06.752Z"
   },
   {
    "duration": 2,
    "start_time": "2023-01-15T11:02:14.982Z"
   },
   {
    "duration": 2,
    "start_time": "2023-01-15T11:02:28.457Z"
   },
   {
    "duration": 119,
    "start_time": "2023-01-15T11:04:25.354Z"
   },
   {
    "duration": 118,
    "start_time": "2023-01-15T11:04:38.666Z"
   },
   {
    "duration": 148,
    "start_time": "2023-01-15T11:05:18.891Z"
   },
   {
    "duration": 4,
    "start_time": "2023-01-15T11:05:31.102Z"
   },
   {
    "duration": 119,
    "start_time": "2023-01-15T11:08:21.984Z"
   },
   {
    "duration": 154,
    "start_time": "2023-01-15T11:08:41.858Z"
   },
   {
    "duration": 120,
    "start_time": "2023-01-15T11:08:50.646Z"
   },
   {
    "duration": 8,
    "start_time": "2023-01-15T11:09:07.828Z"
   },
   {
    "duration": 21,
    "start_time": "2023-01-15T11:10:03.015Z"
   },
   {
    "duration": 16,
    "start_time": "2023-01-15T11:10:08.909Z"
   },
   {
    "duration": 14,
    "start_time": "2023-01-15T11:10:12.020Z"
   },
   {
    "duration": 71,
    "start_time": "2023-01-15T11:11:03.441Z"
   },
   {
    "duration": 5,
    "start_time": "2023-01-15T11:11:08.606Z"
   },
   {
    "duration": 26,
    "start_time": "2023-01-15T11:11:11.080Z"
   },
   {
    "duration": 9,
    "start_time": "2023-01-15T11:11:33.180Z"
   },
   {
    "duration": 110,
    "start_time": "2023-01-15T11:11:46.746Z"
   },
   {
    "duration": 15,
    "start_time": "2023-01-15T11:11:48.692Z"
   },
   {
    "duration": 9,
    "start_time": "2023-01-15T11:11:52.919Z"
   },
   {
    "duration": 14,
    "start_time": "2023-01-15T11:11:55.335Z"
   },
   {
    "duration": 8,
    "start_time": "2023-01-15T11:12:02.437Z"
   },
   {
    "duration": 10,
    "start_time": "2023-01-15T11:12:10.965Z"
   },
   {
    "duration": 8,
    "start_time": "2023-01-15T11:14:23.471Z"
   },
   {
    "duration": 6,
    "start_time": "2023-01-15T11:15:04.975Z"
   },
   {
    "duration": 8,
    "start_time": "2023-01-15T11:15:14.049Z"
   },
   {
    "duration": 9,
    "start_time": "2023-01-15T11:15:20.420Z"
   },
   {
    "duration": 4,
    "start_time": "2023-01-15T11:17:24.661Z"
   },
   {
    "duration": 7,
    "start_time": "2023-01-15T11:17:40.257Z"
   },
   {
    "duration": 6,
    "start_time": "2023-01-15T11:17:45.303Z"
   },
   {
    "duration": 5,
    "start_time": "2023-01-15T11:38:52.238Z"
   },
   {
    "duration": 10,
    "start_time": "2023-01-15T11:46:14.601Z"
   },
   {
    "duration": 8,
    "start_time": "2023-01-15T11:46:30.006Z"
   },
   {
    "duration": 29,
    "start_time": "2023-01-15T11:46:49.814Z"
   },
   {
    "duration": 10,
    "start_time": "2023-01-15T11:47:20.378Z"
   },
   {
    "duration": 11,
    "start_time": "2023-01-15T11:47:25.497Z"
   },
   {
    "duration": 15,
    "start_time": "2023-01-15T11:48:03.916Z"
   },
   {
    "duration": 16,
    "start_time": "2023-01-15T11:48:22.600Z"
   },
   {
    "duration": 15,
    "start_time": "2023-01-15T11:48:26.452Z"
   },
   {
    "duration": 19,
    "start_time": "2023-01-15T11:48:28.895Z"
   },
   {
    "duration": 17,
    "start_time": "2023-01-15T11:48:31.841Z"
   },
   {
    "duration": 15,
    "start_time": "2023-01-15T11:49:24.244Z"
   },
   {
    "duration": 3,
    "start_time": "2023-01-15T11:57:53.489Z"
   },
   {
    "duration": 9,
    "start_time": "2023-01-15T11:59:35.939Z"
   },
   {
    "duration": 6,
    "start_time": "2023-01-15T12:00:00.737Z"
   },
   {
    "duration": 9,
    "start_time": "2023-01-15T12:00:05.269Z"
   },
   {
    "duration": 8,
    "start_time": "2023-01-15T12:00:22.017Z"
   },
   {
    "duration": 7,
    "start_time": "2023-01-15T12:03:22.047Z"
   },
   {
    "duration": 7,
    "start_time": "2023-01-15T12:03:39.223Z"
   },
   {
    "duration": 9,
    "start_time": "2023-01-15T12:04:09.508Z"
   },
   {
    "duration": 8,
    "start_time": "2023-01-15T12:04:13.073Z"
   },
   {
    "duration": 13,
    "start_time": "2023-01-15T12:04:15.450Z"
   },
   {
    "duration": 8,
    "start_time": "2023-01-15T12:05:46.914Z"
   },
   {
    "duration": 10,
    "start_time": "2023-01-15T12:05:52.289Z"
   },
   {
    "duration": 7,
    "start_time": "2023-01-15T12:05:53.117Z"
   },
   {
    "duration": 12,
    "start_time": "2023-01-15T12:08:08.912Z"
   },
   {
    "duration": 8,
    "start_time": "2023-01-15T12:08:37.917Z"
   },
   {
    "duration": 11,
    "start_time": "2023-01-15T12:08:49.063Z"
   },
   {
    "duration": 10,
    "start_time": "2023-01-15T12:09:14.605Z"
   },
   {
    "duration": 8,
    "start_time": "2023-01-15T12:09:21.145Z"
   },
   {
    "duration": 8,
    "start_time": "2023-01-15T12:09:21.518Z"
   },
   {
    "duration": 6,
    "start_time": "2023-01-15T12:09:22.128Z"
   },
   {
    "duration": 8,
    "start_time": "2023-01-15T12:09:39.297Z"
   },
   {
    "duration": 9,
    "start_time": "2023-01-15T12:09:46.339Z"
   },
   {
    "duration": 6,
    "start_time": "2023-01-15T12:09:57.651Z"
   },
   {
    "duration": 10,
    "start_time": "2023-01-15T12:10:10.150Z"
   },
   {
    "duration": 8,
    "start_time": "2023-01-15T12:10:19.398Z"
   },
   {
    "duration": 9,
    "start_time": "2023-01-15T12:10:27.693Z"
   },
   {
    "duration": 9,
    "start_time": "2023-01-15T12:10:39.974Z"
   },
   {
    "duration": 3,
    "start_time": "2023-01-15T12:10:42.301Z"
   },
   {
    "duration": 10,
    "start_time": "2023-01-15T12:10:53.362Z"
   },
   {
    "duration": 9,
    "start_time": "2023-01-15T12:11:05.308Z"
   },
   {
    "duration": 10,
    "start_time": "2023-01-15T12:11:10.709Z"
   },
   {
    "duration": 9,
    "start_time": "2023-01-15T12:11:15.181Z"
   },
   {
    "duration": 11,
    "start_time": "2023-01-15T12:11:15.742Z"
   },
   {
    "duration": 1246,
    "start_time": "2023-01-15T12:11:28.864Z"
   },
   {
    "duration": 20,
    "start_time": "2023-01-15T12:11:30.112Z"
   },
   {
    "duration": 17,
    "start_time": "2023-01-15T12:11:30.134Z"
   },
   {
    "duration": 15,
    "start_time": "2023-01-15T12:11:30.154Z"
   },
   {
    "duration": 39,
    "start_time": "2023-01-15T12:11:30.171Z"
   },
   {
    "duration": 4,
    "start_time": "2023-01-15T12:11:30.211Z"
   },
   {
    "duration": 30,
    "start_time": "2023-01-15T12:11:30.216Z"
   },
   {
    "duration": 20,
    "start_time": "2023-01-15T12:11:30.248Z"
   },
   {
    "duration": 16,
    "start_time": "2023-01-15T12:11:30.270Z"
   },
   {
    "duration": 21,
    "start_time": "2023-01-15T12:11:30.290Z"
   },
   {
    "duration": 42,
    "start_time": "2023-01-15T12:11:30.313Z"
   },
   {
    "duration": 10,
    "start_time": "2023-01-15T12:11:30.357Z"
   },
   {
    "duration": 39,
    "start_time": "2023-01-15T12:11:30.368Z"
   },
   {
    "duration": 34,
    "start_time": "2023-01-15T12:11:30.409Z"
   },
   {
    "duration": 56,
    "start_time": "2023-01-15T12:11:30.445Z"
   },
   {
    "duration": 61,
    "start_time": "2023-01-15T12:11:30.503Z"
   },
   {
    "duration": 5,
    "start_time": "2023-01-15T12:11:30.566Z"
   },
   {
    "duration": 57,
    "start_time": "2023-01-15T12:11:30.573Z"
   },
   {
    "duration": 41,
    "start_time": "2023-01-15T12:11:30.632Z"
   },
   {
    "duration": 36,
    "start_time": "2023-01-15T12:11:30.675Z"
   },
   {
    "duration": 73,
    "start_time": "2023-01-15T12:11:30.713Z"
   },
   {
    "duration": 48,
    "start_time": "2023-01-15T12:11:30.788Z"
   },
   {
    "duration": 40,
    "start_time": "2023-01-15T12:11:30.838Z"
   },
   {
    "duration": 66,
    "start_time": "2023-01-15T12:11:30.880Z"
   },
   {
    "duration": 40,
    "start_time": "2023-01-15T12:11:30.948Z"
   },
   {
    "duration": 44,
    "start_time": "2023-01-15T12:11:30.990Z"
   },
   {
    "duration": 32,
    "start_time": "2023-01-15T12:11:31.036Z"
   },
   {
    "duration": 49,
    "start_time": "2023-01-15T12:11:31.072Z"
   },
   {
    "duration": 36,
    "start_time": "2023-01-15T12:11:31.123Z"
   },
   {
    "duration": 117,
    "start_time": "2023-01-15T12:11:31.161Z"
   },
   {
    "duration": 0,
    "start_time": "2023-01-15T12:11:31.279Z"
   },
   {
    "duration": 4,
    "start_time": "2023-01-15T12:11:50.486Z"
   },
   {
    "duration": 6,
    "start_time": "2023-01-15T12:11:56.085Z"
   },
   {
    "duration": 12,
    "start_time": "2023-01-15T12:23:05.911Z"
   },
   {
    "duration": 14,
    "start_time": "2023-01-15T12:24:52.900Z"
   },
   {
    "duration": 13,
    "start_time": "2023-01-15T12:24:55.102Z"
   },
   {
    "duration": 12,
    "start_time": "2023-01-15T12:25:10.521Z"
   },
   {
    "duration": 11,
    "start_time": "2023-01-15T12:25:18.912Z"
   },
   {
    "duration": 8,
    "start_time": "2023-01-15T12:27:05.150Z"
   },
   {
    "duration": 6,
    "start_time": "2023-01-15T12:30:26.455Z"
   },
   {
    "duration": 70,
    "start_time": "2023-01-15T13:11:13.065Z"
   },
   {
    "duration": 8,
    "start_time": "2023-01-15T13:11:15.299Z"
   },
   {
    "duration": 45,
    "start_time": "2023-01-15T13:34:35.085Z"
   },
   {
    "duration": 1402,
    "start_time": "2023-01-15T13:34:38.770Z"
   },
   {
    "duration": 17,
    "start_time": "2023-01-15T13:34:40.174Z"
   },
   {
    "duration": 22,
    "start_time": "2023-01-15T13:34:43.949Z"
   },
   {
    "duration": 21,
    "start_time": "2023-01-15T13:35:14.606Z"
   },
   {
    "duration": 14,
    "start_time": "2023-01-15T13:35:55.362Z"
   },
   {
    "duration": 1646,
    "start_time": "2023-01-15T15:20:13.914Z"
   },
   {
    "duration": 24,
    "start_time": "2023-01-15T15:20:15.563Z"
   },
   {
    "duration": 16,
    "start_time": "2023-01-15T15:20:15.589Z"
   },
   {
    "duration": 31,
    "start_time": "2023-01-15T15:20:15.607Z"
   },
   {
    "duration": 36,
    "start_time": "2023-01-15T15:20:15.640Z"
   },
   {
    "duration": 3,
    "start_time": "2023-01-15T15:20:15.678Z"
   },
   {
    "duration": 13,
    "start_time": "2023-01-15T15:20:15.682Z"
   },
   {
    "duration": 7,
    "start_time": "2023-01-15T15:20:15.697Z"
   },
   {
    "duration": 9,
    "start_time": "2023-01-15T15:20:15.725Z"
   },
   {
    "duration": 16,
    "start_time": "2023-01-15T15:20:15.736Z"
   },
   {
    "duration": 39,
    "start_time": "2023-01-15T15:20:15.753Z"
   },
   {
    "duration": 11,
    "start_time": "2023-01-15T15:20:15.794Z"
   },
   {
    "duration": 33,
    "start_time": "2023-01-15T15:20:15.808Z"
   },
   {
    "duration": 20,
    "start_time": "2023-01-15T15:20:15.846Z"
   },
   {
    "duration": 26,
    "start_time": "2023-01-15T15:20:15.869Z"
   },
   {
    "duration": 41,
    "start_time": "2023-01-15T15:20:15.897Z"
   },
   {
    "duration": 5,
    "start_time": "2023-01-15T15:20:15.942Z"
   },
   {
    "duration": 23,
    "start_time": "2023-01-15T15:20:15.949Z"
   },
   {
    "duration": 16,
    "start_time": "2023-01-15T15:20:15.974Z"
   },
   {
    "duration": 5,
    "start_time": "2023-01-15T15:20:15.991Z"
   },
   {
    "duration": 31,
    "start_time": "2023-01-15T15:20:15.998Z"
   },
   {
    "duration": 20,
    "start_time": "2023-01-15T15:20:16.031Z"
   },
   {
    "duration": 7,
    "start_time": "2023-01-15T15:20:16.053Z"
   },
   {
    "duration": 8,
    "start_time": "2023-01-15T15:20:16.062Z"
   },
   {
    "duration": 10,
    "start_time": "2023-01-15T15:20:16.073Z"
   },
   {
    "duration": 11,
    "start_time": "2023-01-15T15:20:16.085Z"
   },
   {
    "duration": 37,
    "start_time": "2023-01-15T15:20:16.097Z"
   },
   {
    "duration": 17,
    "start_time": "2023-01-15T15:20:16.135Z"
   },
   {
    "duration": 15,
    "start_time": "2023-01-15T15:20:16.154Z"
   },
   {
    "duration": 11,
    "start_time": "2023-01-15T15:20:16.171Z"
   },
   {
    "duration": 18,
    "start_time": "2023-01-15T15:20:16.184Z"
   },
   {
    "duration": 25,
    "start_time": "2023-01-15T15:20:16.203Z"
   },
   {
    "duration": 14,
    "start_time": "2023-01-15T15:20:16.230Z"
   },
   {
    "duration": 10,
    "start_time": "2023-01-15T15:20:16.246Z"
   },
   {
    "duration": 57,
    "start_time": "2023-01-15T18:03:03.937Z"
   },
   {
    "duration": 1380,
    "start_time": "2023-01-15T18:03:11.273Z"
   },
   {
    "duration": 16,
    "start_time": "2023-01-15T18:03:12.655Z"
   },
   {
    "duration": 15,
    "start_time": "2023-01-15T18:03:12.673Z"
   },
   {
    "duration": 10,
    "start_time": "2023-01-15T18:03:12.776Z"
   },
   {
    "duration": 33,
    "start_time": "2023-01-15T18:03:13.096Z"
   },
   {
    "duration": 4,
    "start_time": "2023-01-15T18:03:13.698Z"
   },
   {
    "duration": 9,
    "start_time": "2023-01-15T18:03:14.017Z"
   },
   {
    "duration": 5,
    "start_time": "2023-01-15T18:03:14.623Z"
   },
   {
    "duration": 6,
    "start_time": "2023-01-15T18:03:14.983Z"
   },
   {
    "duration": 6,
    "start_time": "2023-01-15T18:03:15.367Z"
   },
   {
    "duration": 33,
    "start_time": "2023-01-15T18:03:16.106Z"
   },
   {
    "duration": 9,
    "start_time": "2023-01-15T18:03:16.518Z"
   },
   {
    "duration": 3,
    "start_time": "2023-01-15T18:03:17.180Z"
   },
   {
    "duration": 11,
    "start_time": "2023-01-15T18:03:17.764Z"
   },
   {
    "duration": 18,
    "start_time": "2023-01-15T18:03:18.337Z"
   },
   {
    "duration": 16,
    "start_time": "2023-01-15T18:03:18.622Z"
   },
   {
    "duration": 4,
    "start_time": "2023-01-15T18:03:19.458Z"
   },
   {
    "duration": 11,
    "start_time": "2023-01-15T18:03:19.796Z"
   },
   {
    "duration": 6,
    "start_time": "2023-01-15T18:03:20.355Z"
   },
   {
    "duration": 5,
    "start_time": "2023-01-15T18:03:20.974Z"
   },
   {
    "duration": 8,
    "start_time": "2023-01-15T18:03:21.276Z"
   },
   {
    "duration": 6,
    "start_time": "2023-01-15T18:03:22.154Z"
   },
   {
    "duration": 6,
    "start_time": "2023-01-15T18:03:22.410Z"
   },
   {
    "duration": 5,
    "start_time": "2023-01-15T18:03:22.807Z"
   },
   {
    "duration": 9,
    "start_time": "2023-01-15T18:03:24.169Z"
   },
   {
    "duration": 11,
    "start_time": "2023-01-15T18:03:24.452Z"
   },
   {
    "duration": 6,
    "start_time": "2023-01-15T18:03:24.758Z"
   },
   {
    "duration": 8,
    "start_time": "2023-01-15T18:03:26.195Z"
   },
   {
    "duration": 7,
    "start_time": "2023-01-15T18:03:26.511Z"
   },
   {
    "duration": 5,
    "start_time": "2023-01-15T18:03:26.772Z"
   },
   {
    "duration": 4,
    "start_time": "2023-01-15T18:03:27.929Z"
   },
   {
    "duration": 7,
    "start_time": "2023-01-15T18:03:28.993Z"
   },
   {
    "duration": 7,
    "start_time": "2023-01-15T18:03:29.291Z"
   },
   {
    "duration": 5,
    "start_time": "2023-01-15T18:03:29.673Z"
   },
   {
    "duration": 72,
    "start_time": "2023-01-15T18:15:57.509Z"
   },
   {
    "duration": 76,
    "start_time": "2023-01-15T18:16:13.260Z"
   },
   {
    "duration": 8,
    "start_time": "2023-01-15T18:16:24.483Z"
   },
   {
    "duration": 5,
    "start_time": "2023-01-15T18:20:33.419Z"
   },
   {
    "duration": 6,
    "start_time": "2023-01-15T18:20:40.574Z"
   },
   {
    "duration": 4,
    "start_time": "2023-01-15T18:21:13.366Z"
   },
   {
    "duration": 6,
    "start_time": "2023-01-15T18:21:18.088Z"
   },
   {
    "duration": 5,
    "start_time": "2023-01-15T18:21:19.816Z"
   },
   {
    "duration": 1188,
    "start_time": "2023-01-15T18:21:32.371Z"
   },
   {
    "duration": 17,
    "start_time": "2023-01-15T18:21:33.561Z"
   },
   {
    "duration": 15,
    "start_time": "2023-01-15T18:21:33.579Z"
   },
   {
    "duration": 9,
    "start_time": "2023-01-15T18:21:33.595Z"
   },
   {
    "duration": 30,
    "start_time": "2023-01-15T18:21:33.606Z"
   },
   {
    "duration": 3,
    "start_time": "2023-01-15T18:21:33.638Z"
   },
   {
    "duration": 35,
    "start_time": "2023-01-15T18:21:33.643Z"
   },
   {
    "duration": 5,
    "start_time": "2023-01-15T18:21:33.679Z"
   },
   {
    "duration": 6,
    "start_time": "2023-01-15T18:21:33.686Z"
   },
   {
    "duration": 4,
    "start_time": "2023-01-15T18:21:33.694Z"
   },
   {
    "duration": 32,
    "start_time": "2023-01-15T18:21:33.699Z"
   },
   {
    "duration": 8,
    "start_time": "2023-01-15T18:21:33.733Z"
   },
   {
    "duration": 3,
    "start_time": "2023-01-15T18:21:33.743Z"
   },
   {
    "duration": 41,
    "start_time": "2023-01-15T18:21:33.748Z"
   },
   {
    "duration": 21,
    "start_time": "2023-01-15T18:21:33.791Z"
   },
   {
    "duration": 15,
    "start_time": "2023-01-15T18:21:33.814Z"
   },
   {
    "duration": 3,
    "start_time": "2023-01-15T18:21:33.830Z"
   },
   {
    "duration": 11,
    "start_time": "2023-01-15T18:21:33.835Z"
   },
   {
    "duration": 5,
    "start_time": "2023-01-15T18:21:33.847Z"
   },
   {
    "duration": 4,
    "start_time": "2023-01-15T18:21:33.853Z"
   },
   {
    "duration": 8,
    "start_time": "2023-01-15T18:21:33.878Z"
   },
   {
    "duration": 12,
    "start_time": "2023-01-15T18:21:33.887Z"
   },
   {
    "duration": 8,
    "start_time": "2023-01-15T18:21:33.901Z"
   },
   {
    "duration": 7,
    "start_time": "2023-01-15T18:21:33.910Z"
   },
   {
    "duration": 13,
    "start_time": "2023-01-15T18:21:33.919Z"
   },
   {
    "duration": 18,
    "start_time": "2023-01-15T18:21:33.934Z"
   },
   {
    "duration": 18,
    "start_time": "2023-01-15T18:21:33.954Z"
   },
   {
    "duration": 8,
    "start_time": "2023-01-15T18:21:33.978Z"
   },
   {
    "duration": 11,
    "start_time": "2023-01-15T18:21:33.987Z"
   },
   {
    "duration": 19,
    "start_time": "2023-01-15T18:21:34.001Z"
   },
   {
    "duration": 7,
    "start_time": "2023-01-15T18:21:34.022Z"
   },
   {
    "duration": 11,
    "start_time": "2023-01-15T18:21:34.031Z"
   },
   {
    "duration": 11,
    "start_time": "2023-01-15T18:21:34.044Z"
   },
   {
    "duration": 27,
    "start_time": "2023-01-15T18:21:34.056Z"
   },
   {
    "duration": 92,
    "start_time": "2023-01-15T18:23:57.557Z"
   },
   {
    "duration": 10,
    "start_time": "2023-01-15T18:27:01.422Z"
   },
   {
    "duration": 20,
    "start_time": "2023-01-15T18:27:35.843Z"
   },
   {
    "duration": 37,
    "start_time": "2023-01-15T18:27:44.030Z"
   },
   {
    "duration": 15,
    "start_time": "2023-01-15T18:28:11.016Z"
   },
   {
    "duration": 11,
    "start_time": "2023-01-15T18:28:45.964Z"
   },
   {
    "duration": 18,
    "start_time": "2023-01-15T18:29:26.395Z"
   },
   {
    "duration": 20,
    "start_time": "2023-01-15T18:29:45.465Z"
   },
   {
    "duration": 24,
    "start_time": "2023-01-15T18:30:05.988Z"
   },
   {
    "duration": 19,
    "start_time": "2023-01-15T18:30:19.177Z"
   },
   {
    "duration": 20,
    "start_time": "2023-01-15T18:31:06.854Z"
   },
   {
    "duration": 19,
    "start_time": "2023-01-15T18:31:29.062Z"
   },
   {
    "duration": 17,
    "start_time": "2023-01-15T18:31:35.709Z"
   },
   {
    "duration": 14,
    "start_time": "2023-01-15T18:31:48.014Z"
   },
   {
    "duration": 21,
    "start_time": "2023-01-15T18:31:56.387Z"
   },
   {
    "duration": 77,
    "start_time": "2023-01-15T18:32:27.188Z"
   },
   {
    "duration": 71,
    "start_time": "2023-01-15T18:32:30.354Z"
   },
   {
    "duration": 94,
    "start_time": "2023-01-15T18:32:38.383Z"
   },
   {
    "duration": 20,
    "start_time": "2023-01-15T18:32:41.414Z"
   },
   {
    "duration": 73,
    "start_time": "2023-01-15T18:33:42.503Z"
   },
   {
    "duration": 24,
    "start_time": "2023-01-15T18:33:45.527Z"
   },
   {
    "duration": 19,
    "start_time": "2023-01-15T18:33:50.767Z"
   },
   {
    "duration": 41,
    "start_time": "2023-01-15T18:35:16.866Z"
   },
   {
    "duration": 77,
    "start_time": "2023-01-15T18:35:44.175Z"
   },
   {
    "duration": 20,
    "start_time": "2023-01-15T18:35:49.799Z"
   },
   {
    "duration": 3,
    "start_time": "2023-01-15T18:47:19.855Z"
   },
   {
    "duration": 8,
    "start_time": "2023-01-15T18:47:25.589Z"
   },
   {
    "duration": 6,
    "start_time": "2023-01-15T18:48:17.772Z"
   },
   {
    "duration": 10,
    "start_time": "2023-01-15T18:49:23.719Z"
   },
   {
    "duration": 21,
    "start_time": "2023-01-15T18:51:58.321Z"
   },
   {
    "duration": 22,
    "start_time": "2023-01-15T18:52:18.251Z"
   },
   {
    "duration": 21,
    "start_time": "2023-01-15T18:52:29.851Z"
   },
   {
    "duration": 24,
    "start_time": "2023-01-15T18:52:33.504Z"
   },
   {
    "duration": 10,
    "start_time": "2023-01-15T18:53:21.140Z"
   },
   {
    "duration": 9,
    "start_time": "2023-01-15T18:56:37.666Z"
   },
   {
    "duration": 20,
    "start_time": "2023-01-15T18:56:46.606Z"
   },
   {
    "duration": 19,
    "start_time": "2023-01-15T18:57:43.136Z"
   },
   {
    "duration": 22,
    "start_time": "2023-01-15T18:57:56.793Z"
   },
   {
    "duration": 29,
    "start_time": "2023-01-15T18:58:08.357Z"
   },
   {
    "duration": 10,
    "start_time": "2023-01-15T18:59:05.347Z"
   },
   {
    "duration": 11,
    "start_time": "2023-01-15T18:59:17.734Z"
   },
   {
    "duration": 12,
    "start_time": "2023-01-15T19:00:02.511Z"
   },
   {
    "duration": 14,
    "start_time": "2023-01-15T19:00:27.027Z"
   },
   {
    "duration": 32,
    "start_time": "2023-01-15T19:00:54.818Z"
   },
   {
    "duration": 24,
    "start_time": "2023-01-15T19:01:55.647Z"
   },
   {
    "duration": 13,
    "start_time": "2023-01-15T19:03:21.762Z"
   },
   {
    "duration": 22,
    "start_time": "2023-01-15T19:05:11.095Z"
   },
   {
    "duration": 27,
    "start_time": "2023-01-15T19:06:30.203Z"
   },
   {
    "duration": 17,
    "start_time": "2023-01-15T19:06:37.455Z"
   },
   {
    "duration": 21,
    "start_time": "2023-01-15T19:07:13.551Z"
   },
   {
    "duration": 1181,
    "start_time": "2023-01-15T19:08:01.678Z"
   },
   {
    "duration": 1113,
    "start_time": "2023-01-15T19:08:10.399Z"
   },
   {
    "duration": 21,
    "start_time": "2023-01-15T19:08:14.938Z"
   },
   {
    "duration": 72,
    "start_time": "2023-01-15T19:09:22.987Z"
   },
   {
    "duration": 17,
    "start_time": "2023-01-15T19:09:32.913Z"
   },
   {
    "duration": 18,
    "start_time": "2023-01-15T19:09:43.177Z"
   },
   {
    "duration": 23,
    "start_time": "2023-01-15T19:09:54.578Z"
   },
   {
    "duration": 18,
    "start_time": "2023-01-15T19:12:06.745Z"
   },
   {
    "duration": 21,
    "start_time": "2023-01-15T19:12:11.248Z"
   },
   {
    "duration": 23,
    "start_time": "2023-01-15T19:15:10.391Z"
   },
   {
    "duration": 11,
    "start_time": "2023-01-15T19:21:07.753Z"
   },
   {
    "duration": 9,
    "start_time": "2023-01-15T19:21:17.527Z"
   },
   {
    "duration": 15,
    "start_time": "2023-01-15T19:21:25.807Z"
   },
   {
    "duration": 22,
    "start_time": "2023-01-15T19:21:35.394Z"
   },
   {
    "duration": 24,
    "start_time": "2023-01-15T19:22:02.586Z"
   },
   {
    "duration": 13,
    "start_time": "2023-01-15T19:43:56.162Z"
   },
   {
    "duration": 1357,
    "start_time": "2023-01-16T06:19:53.969Z"
   },
   {
    "duration": 20,
    "start_time": "2023-01-16T06:19:55.329Z"
   },
   {
    "duration": 54,
    "start_time": "2023-01-16T06:19:55.351Z"
   },
   {
    "duration": 13,
    "start_time": "2023-01-16T06:19:55.408Z"
   },
   {
    "duration": 45,
    "start_time": "2023-01-16T06:19:55.423Z"
   },
   {
    "duration": 4,
    "start_time": "2023-01-16T06:19:55.469Z"
   },
   {
    "duration": 20,
    "start_time": "2023-01-16T06:19:55.475Z"
   },
   {
    "duration": 6,
    "start_time": "2023-01-16T06:19:55.497Z"
   },
   {
    "duration": 13,
    "start_time": "2023-01-16T06:19:55.504Z"
   },
   {
    "duration": 4,
    "start_time": "2023-01-16T06:19:55.522Z"
   },
   {
    "duration": 45,
    "start_time": "2023-01-16T06:19:55.528Z"
   },
   {
    "duration": 10,
    "start_time": "2023-01-16T06:19:55.574Z"
   },
   {
    "duration": 17,
    "start_time": "2023-01-16T06:19:55.586Z"
   },
   {
    "duration": 25,
    "start_time": "2023-01-16T06:19:55.605Z"
   },
   {
    "duration": 18,
    "start_time": "2023-01-16T06:19:55.632Z"
   },
   {
    "duration": 39,
    "start_time": "2023-01-16T06:19:55.652Z"
   },
   {
    "duration": 4,
    "start_time": "2023-01-16T06:19:55.692Z"
   },
   {
    "duration": 17,
    "start_time": "2023-01-16T06:19:55.697Z"
   },
   {
    "duration": 7,
    "start_time": "2023-01-16T06:19:55.720Z"
   },
   {
    "duration": 7,
    "start_time": "2023-01-16T06:19:55.729Z"
   },
   {
    "duration": 10,
    "start_time": "2023-01-16T06:19:55.738Z"
   },
   {
    "duration": 10,
    "start_time": "2023-01-16T06:19:55.750Z"
   },
   {
    "duration": 8,
    "start_time": "2023-01-16T06:19:55.762Z"
   },
   {
    "duration": 17,
    "start_time": "2023-01-16T06:19:55.772Z"
   },
   {
    "duration": 36,
    "start_time": "2023-01-16T06:19:55.790Z"
   },
   {
    "duration": 15,
    "start_time": "2023-01-16T06:19:55.827Z"
   },
   {
    "duration": 7,
    "start_time": "2023-01-16T06:19:55.844Z"
   },
   {
    "duration": 25,
    "start_time": "2023-01-16T06:19:55.853Z"
   },
   {
    "duration": 16,
    "start_time": "2023-01-16T06:19:55.879Z"
   },
   {
    "duration": 27,
    "start_time": "2023-01-16T06:19:55.896Z"
   },
   {
    "duration": 7,
    "start_time": "2023-01-16T06:19:55.924Z"
   },
   {
    "duration": 13,
    "start_time": "2023-01-16T06:19:55.932Z"
   },
   {
    "duration": 6,
    "start_time": "2023-01-16T06:19:55.947Z"
   },
   {
    "duration": 33,
    "start_time": "2023-01-16T06:19:55.955Z"
   },
   {
    "duration": 10,
    "start_time": "2023-01-16T06:19:55.990Z"
   },
   {
    "duration": 10,
    "start_time": "2023-01-16T06:19:56.021Z"
   },
   {
    "duration": 9,
    "start_time": "2023-01-16T06:19:56.033Z"
   },
   {
    "duration": 26,
    "start_time": "2023-01-16T06:19:56.044Z"
   },
   {
    "duration": 30,
    "start_time": "2023-01-16T06:21:20.048Z"
   }
  ],
  "colab": {
   "name": "dpp_template_part2.ipynb",
   "provenance": []
  },
  "kernelspec": {
   "display_name": "Python 3 (ipykernel)",
   "language": "python",
   "name": "python3"
  },
  "language_info": {
   "codemirror_mode": {
    "name": "ipython",
    "version": 3
   },
   "file_extension": ".py",
   "mimetype": "text/x-python",
   "name": "python",
   "nbconvert_exporter": "python",
   "pygments_lexer": "ipython3",
   "version": "3.9.12"
  },
  "toc": {
   "base_numbering": 1,
   "nav_menu": {},
   "number_sections": true,
   "sideBar": true,
   "skip_h1_title": true,
   "title_cell": "Table of Contents",
   "title_sidebar": "Contents",
   "toc_cell": false,
   "toc_position": {},
   "toc_section_display": true,
   "toc_window_display": true
  }
 },
 "nbformat": 4,
 "nbformat_minor": 5
}
