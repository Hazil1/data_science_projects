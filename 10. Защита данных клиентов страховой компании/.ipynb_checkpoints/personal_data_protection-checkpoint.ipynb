{
 "cells": [
  {
   "cell_type": "markdown",
   "metadata": {
    "toc": true
   },
   "source": [
    "<h1>Содержание<span class=\"tocSkip\"></span></h1>\n",
    "<div class=\"toc\"><ul class=\"toc-item\"><li><span><a href=\"#Загрузка-данных\" data-toc-modified-id=\"Загрузка-данных-1\"><span class=\"toc-item-num\">1&nbsp;&nbsp;</span>Загрузка данных</a></span><ul class=\"toc-item\"><li><span><a href=\"#Посмотрим-на-общую-информацию-по-датасету\" data-toc-modified-id=\"Посмотрим-на-общую-информацию-по-датасету-1.1\"><span class=\"toc-item-num\">1.1&nbsp;&nbsp;</span>Посмотрим на общую информацию по датасету</a></span></li><li><span><a href=\"#Графически-ознакомимся-с-данными\" data-toc-modified-id=\"Графически-ознакомимся-с-данными-1.2\"><span class=\"toc-item-num\">1.2&nbsp;&nbsp;</span>Графически ознакомимся с данными</a></span></li><li><span><a href=\"#Вывод-по-разделу\" data-toc-modified-id=\"Вывод-по-разделу-1.3\"><span class=\"toc-item-num\">1.3&nbsp;&nbsp;</span>Вывод по разделу</a></span></li></ul></li><li><span><a href=\"#Умножение-матриц\" data-toc-modified-id=\"Умножение-матриц-2\"><span class=\"toc-item-num\">2&nbsp;&nbsp;</span>Умножение матриц</a></span><ul class=\"toc-item\"><li><span><a href=\"#Вывод\" data-toc-modified-id=\"Вывод-2.1\"><span class=\"toc-item-num\">2.1&nbsp;&nbsp;</span>Вывод</a></span></li></ul></li><li><span><a href=\"#Алгоритм-преобразования\" data-toc-modified-id=\"Алгоритм-преобразования-3\"><span class=\"toc-item-num\">3&nbsp;&nbsp;</span>Алгоритм преобразования</a></span></li><li><span><a href=\"#Проверка-алгоритма\" data-toc-modified-id=\"Проверка-алгоритма-4\"><span class=\"toc-item-num\">4&nbsp;&nbsp;</span>Проверка алгоритма</a></span><ul class=\"toc-item\"><li><span><a href=\"#Вывод-по-разделу\" data-toc-modified-id=\"Вывод-по-разделу-4.1\"><span class=\"toc-item-num\">4.1&nbsp;&nbsp;</span>Вывод по разделу</a></span></li></ul></li><li><span><a href=\"#Общий-вывод\" data-toc-modified-id=\"Общий-вывод-5\"><span class=\"toc-item-num\">5&nbsp;&nbsp;</span>Общий вывод</a></span></li><li><span><a href=\"#Чек-лист-проверки\" data-toc-modified-id=\"Чек-лист-проверки-6\"><span class=\"toc-item-num\">6&nbsp;&nbsp;</span>Чек-лист проверки</a></span></li></ul></div>"
   ]
  },
  {
   "cell_type": "markdown",
   "metadata": {},
   "source": [
    "# Защита персональных данных клиентов"
   ]
  },
  {
   "cell_type": "markdown",
   "metadata": {},
   "source": [
    "Вам нужно защитить данные клиентов страховой компании «Хоть потоп». Разработайте такой метод преобразования данных, чтобы по ним было сложно восстановить персональную информацию. Обоснуйте корректность его работы.\n",
    "\n",
    "Нужно защитить данные, чтобы при преобразовании качество моделей машинного обучения не ухудшилось. Подбирать наилучшую модель не требуется."
   ]
  },
  {
   "cell_type": "code",
   "execution_count": 1,
   "metadata": {},
   "outputs": [],
   "source": [
    "# Импортируем необходимые библиотеки\n",
    "import numpy as np\n",
    "import pandas as pd\n",
    "import matplotlib.pyplot as plt\n",
    "import seaborn as sns\n",
    "\n",
    "from sklearn.linear_model import LinearRegression\n",
    "from sklearn.model_selection import train_test_split\n",
    "from sklearn.metrics import r2_score, mean_absolute_error\n",
    "\n",
    "# Зафиксируем значение random_state\n",
    "RANDOM_STATE = 12345"
   ]
  },
  {
   "cell_type": "markdown",
   "metadata": {},
   "source": [
    "## Загрузка данных"
   ]
  },
  {
   "cell_type": "code",
   "execution_count": 2,
   "metadata": {},
   "outputs": [
    {
     "data": {
      "text/html": [
       "<div>\n",
       "<style scoped>\n",
       "    .dataframe tbody tr th:only-of-type {\n",
       "        vertical-align: middle;\n",
       "    }\n",
       "\n",
       "    .dataframe tbody tr th {\n",
       "        vertical-align: top;\n",
       "    }\n",
       "\n",
       "    .dataframe thead th {\n",
       "        text-align: right;\n",
       "    }\n",
       "</style>\n",
       "<table border=\"1\" class=\"dataframe\">\n",
       "  <thead>\n",
       "    <tr style=\"text-align: right;\">\n",
       "      <th></th>\n",
       "      <th>Пол</th>\n",
       "      <th>Возраст</th>\n",
       "      <th>Зарплата</th>\n",
       "      <th>Члены семьи</th>\n",
       "      <th>Страховые выплаты</th>\n",
       "    </tr>\n",
       "  </thead>\n",
       "  <tbody>\n",
       "    <tr>\n",
       "      <th>0</th>\n",
       "      <td>1</td>\n",
       "      <td>41.0</td>\n",
       "      <td>49600.0</td>\n",
       "      <td>1</td>\n",
       "      <td>0</td>\n",
       "    </tr>\n",
       "    <tr>\n",
       "      <th>1</th>\n",
       "      <td>0</td>\n",
       "      <td>46.0</td>\n",
       "      <td>38000.0</td>\n",
       "      <td>1</td>\n",
       "      <td>1</td>\n",
       "    </tr>\n",
       "    <tr>\n",
       "      <th>2</th>\n",
       "      <td>0</td>\n",
       "      <td>29.0</td>\n",
       "      <td>21000.0</td>\n",
       "      <td>0</td>\n",
       "      <td>0</td>\n",
       "    </tr>\n",
       "    <tr>\n",
       "      <th>3</th>\n",
       "      <td>0</td>\n",
       "      <td>21.0</td>\n",
       "      <td>41700.0</td>\n",
       "      <td>2</td>\n",
       "      <td>0</td>\n",
       "    </tr>\n",
       "    <tr>\n",
       "      <th>4</th>\n",
       "      <td>1</td>\n",
       "      <td>28.0</td>\n",
       "      <td>26100.0</td>\n",
       "      <td>0</td>\n",
       "      <td>0</td>\n",
       "    </tr>\n",
       "  </tbody>\n",
       "</table>\n",
       "</div>"
      ],
      "text/plain": [
       "   Пол  Возраст  Зарплата  Члены семьи  Страховые выплаты\n",
       "0    1     41.0   49600.0            1                  0\n",
       "1    0     46.0   38000.0            1                  1\n",
       "2    0     29.0   21000.0            0                  0\n",
       "3    0     21.0   41700.0            2                  0\n",
       "4    1     28.0   26100.0            0                  0"
      ]
     },
     "execution_count": 2,
     "metadata": {},
     "output_type": "execute_result"
    }
   ],
   "source": [
    "# Загрузим данные и сохраним их в переменной df\n",
    "df = pd.read_csv('/datasets/insurance.csv')\n",
    "df.head()"
   ]
  },
  {
   "cell_type": "markdown",
   "metadata": {},
   "source": [
    "### Посмотрим на общую информацию по датасету"
   ]
  },
  {
   "cell_type": "code",
   "execution_count": 3,
   "metadata": {},
   "outputs": [
    {
     "name": "stdout",
     "output_type": "stream",
     "text": [
      "<class 'pandas.core.frame.DataFrame'>\n",
      "RangeIndex: 5000 entries, 0 to 4999\n",
      "Data columns (total 5 columns):\n",
      " #   Column             Non-Null Count  Dtype  \n",
      "---  ------             --------------  -----  \n",
      " 0   Пол                5000 non-null   int64  \n",
      " 1   Возраст            5000 non-null   float64\n",
      " 2   Зарплата           5000 non-null   float64\n",
      " 3   Члены семьи        5000 non-null   int64  \n",
      " 4   Страховые выплаты  5000 non-null   int64  \n",
      "dtypes: float64(2), int64(3)\n",
      "memory usage: 195.4 KB\n"
     ]
    }
   ],
   "source": [
    "df.info()"
   ]
  },
  {
   "cell_type": "code",
   "execution_count": 4,
   "metadata": {
    "scrolled": true
   },
   "outputs": [
    {
     "data": {
      "text/html": [
       "<div>\n",
       "<style scoped>\n",
       "    .dataframe tbody tr th:only-of-type {\n",
       "        vertical-align: middle;\n",
       "    }\n",
       "\n",
       "    .dataframe tbody tr th {\n",
       "        vertical-align: top;\n",
       "    }\n",
       "\n",
       "    .dataframe thead th {\n",
       "        text-align: right;\n",
       "    }\n",
       "</style>\n",
       "<table border=\"1\" class=\"dataframe\">\n",
       "  <thead>\n",
       "    <tr style=\"text-align: right;\">\n",
       "      <th></th>\n",
       "      <th>Пол</th>\n",
       "      <th>Возраст</th>\n",
       "      <th>Зарплата</th>\n",
       "      <th>Члены семьи</th>\n",
       "      <th>Страховые выплаты</th>\n",
       "    </tr>\n",
       "  </thead>\n",
       "  <tbody>\n",
       "    <tr>\n",
       "      <th>count</th>\n",
       "      <td>5000.000000</td>\n",
       "      <td>5000.000000</td>\n",
       "      <td>5000.000000</td>\n",
       "      <td>5000.000000</td>\n",
       "      <td>5000.000000</td>\n",
       "    </tr>\n",
       "    <tr>\n",
       "      <th>mean</th>\n",
       "      <td>0.499000</td>\n",
       "      <td>30.952800</td>\n",
       "      <td>39916.360000</td>\n",
       "      <td>1.194200</td>\n",
       "      <td>0.148000</td>\n",
       "    </tr>\n",
       "    <tr>\n",
       "      <th>std</th>\n",
       "      <td>0.500049</td>\n",
       "      <td>8.440807</td>\n",
       "      <td>9900.083569</td>\n",
       "      <td>1.091387</td>\n",
       "      <td>0.463183</td>\n",
       "    </tr>\n",
       "    <tr>\n",
       "      <th>min</th>\n",
       "      <td>0.000000</td>\n",
       "      <td>18.000000</td>\n",
       "      <td>5300.000000</td>\n",
       "      <td>0.000000</td>\n",
       "      <td>0.000000</td>\n",
       "    </tr>\n",
       "    <tr>\n",
       "      <th>25%</th>\n",
       "      <td>0.000000</td>\n",
       "      <td>24.000000</td>\n",
       "      <td>33300.000000</td>\n",
       "      <td>0.000000</td>\n",
       "      <td>0.000000</td>\n",
       "    </tr>\n",
       "    <tr>\n",
       "      <th>50%</th>\n",
       "      <td>0.000000</td>\n",
       "      <td>30.000000</td>\n",
       "      <td>40200.000000</td>\n",
       "      <td>1.000000</td>\n",
       "      <td>0.000000</td>\n",
       "    </tr>\n",
       "    <tr>\n",
       "      <th>75%</th>\n",
       "      <td>1.000000</td>\n",
       "      <td>37.000000</td>\n",
       "      <td>46600.000000</td>\n",
       "      <td>2.000000</td>\n",
       "      <td>0.000000</td>\n",
       "    </tr>\n",
       "    <tr>\n",
       "      <th>max</th>\n",
       "      <td>1.000000</td>\n",
       "      <td>65.000000</td>\n",
       "      <td>79000.000000</td>\n",
       "      <td>6.000000</td>\n",
       "      <td>5.000000</td>\n",
       "    </tr>\n",
       "  </tbody>\n",
       "</table>\n",
       "</div>"
      ],
      "text/plain": [
       "               Пол      Возраст      Зарплата  Члены семьи  Страховые выплаты\n",
       "count  5000.000000  5000.000000   5000.000000  5000.000000        5000.000000\n",
       "mean      0.499000    30.952800  39916.360000     1.194200           0.148000\n",
       "std       0.500049     8.440807   9900.083569     1.091387           0.463183\n",
       "min       0.000000    18.000000   5300.000000     0.000000           0.000000\n",
       "25%       0.000000    24.000000  33300.000000     0.000000           0.000000\n",
       "50%       0.000000    30.000000  40200.000000     1.000000           0.000000\n",
       "75%       1.000000    37.000000  46600.000000     2.000000           0.000000\n",
       "max       1.000000    65.000000  79000.000000     6.000000           5.000000"
      ]
     },
     "execution_count": 4,
     "metadata": {},
     "output_type": "execute_result"
    }
   ],
   "source": [
    "df.describe()"
   ]
  },
  {
   "cell_type": "code",
   "execution_count": 5,
   "metadata": {},
   "outputs": [
    {
     "data": {
      "text/html": [
       "<div>\n",
       "<style scoped>\n",
       "    .dataframe tbody tr th:only-of-type {\n",
       "        vertical-align: middle;\n",
       "    }\n",
       "\n",
       "    .dataframe tbody tr th {\n",
       "        vertical-align: top;\n",
       "    }\n",
       "\n",
       "    .dataframe thead th {\n",
       "        text-align: right;\n",
       "    }\n",
       "</style>\n",
       "<table border=\"1\" class=\"dataframe\">\n",
       "  <thead>\n",
       "    <tr style=\"text-align: right;\">\n",
       "      <th></th>\n",
       "      <th>Пол</th>\n",
       "      <th>Возраст</th>\n",
       "      <th>Зарплата</th>\n",
       "      <th>Члены семьи</th>\n",
       "      <th>Страховые выплаты</th>\n",
       "    </tr>\n",
       "  </thead>\n",
       "  <tbody>\n",
       "    <tr>\n",
       "      <th>Пол</th>\n",
       "      <td>1.000000</td>\n",
       "      <td>0.002074</td>\n",
       "      <td>0.014910</td>\n",
       "      <td>-0.008991</td>\n",
       "      <td>0.010140</td>\n",
       "    </tr>\n",
       "    <tr>\n",
       "      <th>Возраст</th>\n",
       "      <td>0.002074</td>\n",
       "      <td>1.000000</td>\n",
       "      <td>-0.019093</td>\n",
       "      <td>-0.006692</td>\n",
       "      <td>0.651030</td>\n",
       "    </tr>\n",
       "    <tr>\n",
       "      <th>Зарплата</th>\n",
       "      <td>0.014910</td>\n",
       "      <td>-0.019093</td>\n",
       "      <td>1.000000</td>\n",
       "      <td>-0.030296</td>\n",
       "      <td>-0.014963</td>\n",
       "    </tr>\n",
       "    <tr>\n",
       "      <th>Члены семьи</th>\n",
       "      <td>-0.008991</td>\n",
       "      <td>-0.006692</td>\n",
       "      <td>-0.030296</td>\n",
       "      <td>1.000000</td>\n",
       "      <td>-0.036290</td>\n",
       "    </tr>\n",
       "    <tr>\n",
       "      <th>Страховые выплаты</th>\n",
       "      <td>0.010140</td>\n",
       "      <td>0.651030</td>\n",
       "      <td>-0.014963</td>\n",
       "      <td>-0.036290</td>\n",
       "      <td>1.000000</td>\n",
       "    </tr>\n",
       "  </tbody>\n",
       "</table>\n",
       "</div>"
      ],
      "text/plain": [
       "                        Пол   Возраст  Зарплата  Члены семьи  \\\n",
       "Пол                1.000000  0.002074  0.014910    -0.008991   \n",
       "Возраст            0.002074  1.000000 -0.019093    -0.006692   \n",
       "Зарплата           0.014910 -0.019093  1.000000    -0.030296   \n",
       "Члены семьи       -0.008991 -0.006692 -0.030296     1.000000   \n",
       "Страховые выплаты  0.010140  0.651030 -0.014963    -0.036290   \n",
       "\n",
       "                   Страховые выплаты  \n",
       "Пол                         0.010140  \n",
       "Возраст                     0.651030  \n",
       "Зарплата                   -0.014963  \n",
       "Члены семьи                -0.036290  \n",
       "Страховые выплаты           1.000000  "
      ]
     },
     "execution_count": 5,
     "metadata": {},
     "output_type": "execute_result"
    }
   ],
   "source": [
    "df.corr()"
   ]
  },
  {
   "cell_type": "markdown",
   "metadata": {},
   "source": [
    "### Графически ознакомимся с данными"
   ]
  },
  {
   "cell_type": "code",
   "execution_count": 6,
   "metadata": {},
   "outputs": [],
   "source": [
    "# Напишем функцию для быстрого отображения гистограммы\n",
    "def histogram(data, column):\n",
    "    plt.figure(figsize=(10, 3))\n",
    "    sns.histplot(data=data[column], bins=20);\n",
    "    plt.title(f'Распределение значений в столбце {column}', fontsize=14)\n",
    "    plt.xlabel(f'{column}', fontsize=12)\n",
    "    plt.ylabel('Количество', fontsize=12)\n",
    "    plt.show()"
   ]
  },
  {
   "cell_type": "code",
   "execution_count": 7,
   "metadata": {
    "scrolled": false
   },
   "outputs": [
    {
     "data": {
      "image/png": "[encoded data removed]",
      "text/plain": [
       "<Figure size 720x216 with 1 Axes>"
      ]
     },
     "metadata": {
      "needs_background": "light"
     },
     "output_type": "display_data"
    },
    {
     "data": {
      "image/png": "[encoded data removed]",
      "text/plain": [
       "<Figure size 720x216 with 1 Axes>"
      ]
     },
     "metadata": {
      "needs_background": "light"
     },
     "output_type": "display_data"
    },
    {
     "data": {
      "image/png": "[encoded data removed]",
      "text/plain": [
       "<Figure size 720x216 with 1 Axes>"
      ]
     },
     "metadata": {
      "needs_background": "light"
     },
     "output_type": "display_data"
    },
    {
     "data": {
      "image/png": "[encoded data removed]",
      "text/plain": [
       "<Figure size 720x216 with 1 Axes>"
      ]
     },
     "metadata": {
      "needs_background": "light"
     },
     "output_type": "display_data"
    }
   ],
   "source": [
    "# Посмотрим на гистограммы распределения данных по каждому столбцу\n",
    "columns = df.columns[1:]\n",
    "for column in columns:\n",
    "    histogram(df, column)"
   ]
  },
  {
   "cell_type": "markdown",
   "metadata": {},
   "source": [
    "### Вывод по разделу\n",
    "\n",
    "Был подгружен и сохранен датасет с данными клиентов страховой компании. Ознакомились с общей информацией по датасету, графически отобразили распределения данных в столбцах.\n",
    "\n",
    "В результате ознакомления с данными аномальных значений в данных не было обнаружено, видно ожидаемое распределение данных в датасете."
   ]
  },
  {
   "cell_type": "markdown",
   "metadata": {},
   "source": [
    "## Умножение матриц"
   ]
  },
  {
   "cell_type": "markdown",
   "metadata": {},
   "source": [
    "В этом задании вы можете записывать формулы в *Jupyter Notebook.*\n",
    "\n",
    "Чтобы записать формулу внутри текста, окружите её символами доллара \\\\$; если снаружи —  двойными символами \\\\$\\\\$. Эти формулы записываются на языке вёрстки *LaTeX.* \n",
    "\n",
    "Для примера мы записали формулы линейной регрессии. Можете их скопировать и отредактировать, чтобы решить задачу.\n",
    "\n",
    "Работать в *LaTeX* необязательно."
   ]
  },
  {
   "cell_type": "markdown",
   "metadata": {},
   "source": [
    "Обозначения:\n",
    "\n",
    "- $X$ — матрица признаков (нулевой столбец состоит из единиц)\n",
    "\n",
    "- $y$ — вектор целевого признака\n",
    "\n",
    "- $P$ — матрица, на которую умножаются признаки\n",
    "\n",
    "- $w$ — вектор весов линейной регрессии (нулевой элемент равен сдвигу)"
   ]
  },
  {
   "cell_type": "markdown",
   "metadata": {},
   "source": [
    "Предсказания:\n",
    "\n",
    "$$\n",
    "a = Xw\n",
    "$$\n",
    "\n",
    "Задача обучения:\n",
    "\n",
    "$$\n",
    "w = \\arg\\min_w MSE(Xw, y)\n",
    "$$\n",
    "\n",
    "Формула обучения:\n",
    "\n",
    "$$\n",
    "w = (X^T X)^{-1} X^T y\n",
    "$$"
   ]
  },
  {
   "cell_type": "markdown",
   "metadata": {},
   "source": [
    "**Ответ:** При умножении на обратимую матрицу качество линейной регресии не изменится.\n",
    "\n",
    "**Обоснование:** \n",
    "\n",
    "Запишем свойства умножнения матриц:\n",
    "- $ AA^{-1} = A^{-1}A = E $\n",
    "- $ AE = EA = A $\n",
    "- $ (AB)^T = B^T A^T $\n",
    "- $ (AB)^{-1} = B^{-1} A^{-1} $\n",
    "- $ A(BC) = (AB)C $"
   ]
  },
  {
   "cell_type": "markdown",
   "metadata": {},
   "source": [
    "Необходимо доказать, что приумножнии на обратимую матрицу $P$ предсказания не изменятся, т.е $a = Xw = XPw$\n",
    "\n",
    "Пусть $a1 = X1w1$  и  $ w1 = (X1^T X1)^{-1} X1^T y $, при этом $X1 = XP$, тогда получим следующее выражение:\n",
    "\n",
    "$$ w1 = ((XP)^T XP)^{-1} (XP)^T y $$\n",
    "\n",
    "Упросим полученное выражение: \n",
    "$$ w1 = ((XP)^T XP)^{-1} (XP)^T y = $$\n",
    "$$ = (P^T X^T XP)^{-1} P^T X^T y = $$\n",
    "$$ = P^{-1} (P^T X^T X)^{-1} P^T X^T y = $$\n",
    "$$ = P^{-1} (X^T X)^{-1} (P^T)^{-1} P^T X^T y = $$\n",
    "$$ = P^{-1} (X^T X)^{-1} E X^T y = $$\n",
    "$$ = P^{-1} (X^T X)^{-1} X^T y $$\n",
    "\n",
    "Подставив $w$ вместо $(X^T X)^{-1} X^T y$ получаем следующее выражение:\n",
    "$$ w1 = P^{-1} w $$\n",
    "\n",
    "поставив в $a1 = X1w1$ выражения $ w1 = P^{-1} w $ и $X1 = XP$, получим:\n",
    "$$a1 = XPP^{-1} w $$\n",
    "\n",
    "Исходя из свойства перемножения матриц $ AA^{-1} = A^{-1}A = E $ получаем:\n",
    "$$a1 = XEw $$\n",
    "\n",
    "Исходя из свойства перемножения матриц $ AE = EA = A $ получаем:\n",
    "$$a1 = Xw $$\n",
    "\n",
    "Следовательно: $a1 = Xw = a$ - **предсказания равны**"
   ]
  },
  {
   "cell_type": "markdown",
   "metadata": {},
   "source": [
    "### Вывод\n",
    "\n",
    "Доказали, что при умножении данных на обратимую матрицу с целью шифрования данных предсказания модели не изменятся, $$ a = Xw = XPw $$ "
   ]
  },
  {
   "cell_type": "markdown",
   "metadata": {},
   "source": [
    "## Алгоритм преобразования"
   ]
  },
  {
   "cell_type": "markdown",
   "metadata": {},
   "source": [
    "**Алгоритм**\n",
    "\n",
    "1. Исходный датасет разделим на 2 (признаки и целевой признак).\n",
    "2. Создадим квадратную матрицу **Р** с размерами **n** x **n** и заполним её случайными значениями, где: **n** - количество признаков. Необходимо создать квадратную матрицу **n** x **n** чтобы получить преобразованную матрицу с признаками такого-же размера\n",
    "3. Проведем проверку матрицы **P** на обратимость, если матрица необратима, пересоздадим матрицу **P**.\n",
    "4. Матрично умножим датасет с признаками на матрицу **P** для зашифровки значений и сохраним датасет с зашифрованными признаками.\n",
    "5. Разделим данным на обучающие и тестовые выборки для обучения моделей.\n",
    "6. Обучим модель линейной регресии на зашифрованных данных и на не зашифрованных, сравним значение метрик."
   ]
  },
  {
   "cell_type": "markdown",
   "metadata": {},
   "source": [
    "**Обоснование**\n",
    "\n",
    "Качество модели не изменится, т.к. ранее в пункте 2 мы выведени, что при умножении матицы признаков на обратимую матрицу предсказания модели не меняется $a = Xw = XPw$. В тоже время мы сможем зашифровать персональные данные клиентов страховой компании в датасете, без знания матрицы Р расшифровать данные будет затруднительно."
   ]
  },
  {
   "cell_type": "markdown",
   "metadata": {},
   "source": [
    "## Проверка алгоритма"
   ]
  },
  {
   "cell_type": "code",
   "execution_count": 8,
   "metadata": {},
   "outputs": [],
   "source": [
    "# Разделим датасет на признаки и обучающие признаки.\n",
    "features_df = df.drop('Страховые выплаты', axis=1)\n",
    "target_df = df['Страховые выплаты']"
   ]
  },
  {
   "cell_type": "code",
   "execution_count": 9,
   "metadata": {},
   "outputs": [
    {
     "data": {
      "text/plain": [
       "array([[0.35753153, 0.69228749, 0.30217965, 0.78089324],\n",
       "       [0.21189611, 0.21736846, 0.08391302, 0.26073803],\n",
       "       [0.16944212, 0.05552614, 0.74889395, 0.62906855],\n",
       "       [0.85917308, 0.05132982, 0.10609923, 0.73143656]])"
      ]
     },
     "execution_count": 9,
     "metadata": {},
     "output_type": "execute_result"
    }
   ],
   "source": [
    "# сохраним количество признаков в n\n",
    "n = features_df.shape[1]\n",
    "\n",
    "# Создадим квадратную матрицу Р размером n x n\n",
    "P = np.random.random((n, n))\n",
    "P"
   ]
  },
  {
   "cell_type": "code",
   "execution_count": 10,
   "metadata": {},
   "outputs": [
    {
     "data": {
      "text/plain": [
       "array([[ -4.50576422,  14.4126282 ,   0.28414995,  -0.57168229],\n",
       "       [ -1.23769349,   9.00256886,  -0.275427  ,  -1.65091989],\n",
       "       [ -3.88034181,  12.32480811,   1.77140527,  -1.77424671],\n",
       "       [  5.94236524, -19.34917646,  -0.57139761,   2.41191343]])"
      ]
     },
     "execution_count": 10,
     "metadata": {},
     "output_type": "execute_result"
    }
   ],
   "source": [
    "# Проверим матрицу P на обратимость (найдем обратную матрицу)\n",
    "np.linalg.inv(P)"
   ]
  },
  {
   "cell_type": "code",
   "execution_count": 11,
   "metadata": {},
   "outputs": [
    {
     "data": {
      "text/html": [
       "<div>\n",
       "<style scoped>\n",
       "    .dataframe tbody tr th:only-of-type {\n",
       "        vertical-align: middle;\n",
       "    }\n",
       "\n",
       "    .dataframe tbody tr th {\n",
       "        vertical-align: top;\n",
       "    }\n",
       "\n",
       "    .dataframe thead th {\n",
       "        text-align: right;\n",
       "    }\n",
       "</style>\n",
       "<table border=\"1\" class=\"dataframe\">\n",
       "  <thead>\n",
       "    <tr style=\"text-align: right;\">\n",
       "      <th></th>\n",
       "      <th>Пол</th>\n",
       "      <th>Возраст</th>\n",
       "      <th>Зарплата</th>\n",
       "      <th>Члены семьи</th>\n",
       "    </tr>\n",
       "  </thead>\n",
       "  <tbody>\n",
       "    <tr>\n",
       "      <th>0</th>\n",
       "      <td>8414.233633</td>\n",
       "      <td>2763.752162</td>\n",
       "      <td>37148.988777</td>\n",
       "      <td>31214.002815</td>\n",
       "    </tr>\n",
       "    <tr>\n",
       "      <th>1</th>\n",
       "      <td>6449.406981</td>\n",
       "      <td>2120.043518</td>\n",
       "      <td>28461.936308</td>\n",
       "      <td>23917.330398</td>\n",
       "    </tr>\n",
       "    <tr>\n",
       "      <th>2</th>\n",
       "      <td>3564.429522</td>\n",
       "      <td>1172.352581</td>\n",
       "      <td>15729.206488</td>\n",
       "      <td>13218.001015</td>\n",
       "    </tr>\n",
       "    <tr>\n",
       "      <th>3</th>\n",
       "      <td>7071.904598</td>\n",
       "      <td>2320.107346</td>\n",
       "      <td>31230.852208</td>\n",
       "      <td>26239.097030</td>\n",
       "    </tr>\n",
       "    <tr>\n",
       "      <th>4</th>\n",
       "      <td>4428.729973</td>\n",
       "      <td>1456.010803</td>\n",
       "      <td>19548.783915</td>\n",
       "      <td>16426.770790</td>\n",
       "    </tr>\n",
       "  </tbody>\n",
       "</table>\n",
       "</div>"
      ],
      "text/plain": [
       "           Пол      Возраст      Зарплата   Члены семьи\n",
       "0  8414.233633  2763.752162  37148.988777  31214.002815\n",
       "1  6449.406981  2120.043518  28461.936308  23917.330398\n",
       "2  3564.429522  1172.352581  15729.206488  13218.001015\n",
       "3  7071.904598  2320.107346  31230.852208  26239.097030\n",
       "4  4428.729973  1456.010803  19548.783915  16426.770790"
      ]
     },
     "execution_count": 11,
     "metadata": {},
     "output_type": "execute_result"
    }
   ],
   "source": [
    "# Создадим датасет с зашифованными признаками\n",
    "features_safe = features_df @ P\n",
    "features_safe.columns = features_df.columns\n",
    "\n",
    "# Выведем датасет с преобразованными признками для визуальной проверки\n",
    "features_safe.head()"
   ]
  },
  {
   "cell_type": "code",
   "execution_count": 12,
   "metadata": {},
   "outputs": [
    {
     "name": "stdout",
     "output_type": "stream",
     "text": [
      "\n",
      "R2: 0.41176839567705226 \n",
      "MSE: 0.24130630574910295\n",
      "\n"
     ]
    }
   ],
   "source": [
    "# Обучим модель линейной регрессии на незашифрованных данных\n",
    "X_train_df, X_test_df, y_train_df, y_test_df = train_test_split(features_df,\n",
    "                                                                target_df,\n",
    "                                                                test_size=0.2,\n",
    "                                                                random_state=RANDOM_STATE)\n",
    "\n",
    "model = LinearRegression()\n",
    "model.fit(X_train_df, y_train_df)\n",
    "predictions_df = model.predict(X_test_df)\n",
    "r2_score_df = r2_score(y_test_df, predictions_df)\n",
    "mse_df = mean_absolute_error(y_test_df, predictions_df)\n",
    "\n",
    "print(f'''\n",
    "R2: {r2_score_df} \n",
    "MSE: {mse_df}\n",
    "''')"
   ]
  },
  {
   "cell_type": "code",
   "execution_count": 13,
   "metadata": {},
   "outputs": [
    {
     "name": "stdout",
     "output_type": "stream",
     "text": [
      "\n",
      "R2: 0.4117683956774274\n",
      "MSE: 0.24130630574921572\n",
      "\n"
     ]
    }
   ],
   "source": [
    "# Обучим модель линейной регрессии на зашифрованных данных\n",
    "X_train_safe, X_test_safe, y_train_safe, y_test_safe = train_test_split(features_safe,\n",
    "                                                                        target_df,\n",
    "                                                                        test_size=0.2,\n",
    "                                                                        random_state=RANDOM_STATE)\n",
    "\n",
    "model = LinearRegression()\n",
    "model.fit(X_train_safe, y_train_safe)\n",
    "predictions_safe = model.predict(X_test_safe)\n",
    "r2_score_safe = r2_score(y_test_safe, predictions_safe)\n",
    "mse_safe = mean_absolute_error(y_test_safe, predictions_safe)\n",
    "\n",
    "print(f'''\n",
    "R2: {r2_score_safe}\n",
    "MSE: {mse_safe}\n",
    "''')"
   ]
  },
  {
   "cell_type": "code",
   "execution_count": 14,
   "metadata": {},
   "outputs": [
    {
     "data": {
      "text/plain": [
       "-3.751443600208404e-13"
      ]
     },
     "metadata": {},
     "output_type": "display_data"
    },
    {
     "data": {
      "text/plain": [
       "-1.1277090372630028e-13"
      ]
     },
     "execution_count": 14,
     "metadata": {},
     "output_type": "execute_result"
    }
   ],
   "source": [
    "# Проверим на сколько велика разница значений\n",
    "display(r2_score_df - r2_score_safe)\n",
    "(mse_df - mse_safe)"
   ]
  },
  {
   "cell_type": "markdown",
   "metadata": {},
   "source": [
    "Мы видим очень маленькую разницу в значениях, это связано с что в Python значения с плавающей точкой имеют ограниценную точность, так по сути, эти значения равны нулю.\n",
    "\n",
    "Сравним предсказания моделей и посмотрим есть ли разница в значениях при округлении до 10 знака"
   ]
  },
  {
   "cell_type": "code",
   "execution_count": 15,
   "metadata": {
    "scrolled": false
   },
   "outputs": [
    {
     "data": {
      "text/plain": [
       "0.0"
      ]
     },
     "execution_count": 15,
     "metadata": {},
     "output_type": "execute_result"
    }
   ],
   "source": [
    "(predictions_safe - predictions_df).round(10).sum()"
   ]
  },
  {
   "cell_type": "markdown",
   "metadata": {},
   "source": [
    "### Вывод по разделу\n",
    "\n",
    "Была реализована проверка предложенного алгоритма в пункте 3. В результате проверки было подтверждено, что качество предсказаний модели не изменяется, также были проверены значения предсказаний, в результате проверки так же было выявлено, что предсказания модели не изменяются."
   ]
  },
  {
   "cell_type": "markdown",
   "metadata": {},
   "source": [
    "## Общий вывод\n",
    "\n",
    "В ходе выполнения проекта были выполнены следующие работы:\n",
    "1. Загрузка и сохранение датасета и ознакомление с данными. В результате было выявлено, что в данных отсутствуют аномалии и распределение данных ожидаемое.\n",
    "2. Была математически проверено утверждение, что при умножении матрицы с признаками на обратимую матрицу предсказания модели не изменяются.\n",
    "3. Предложен алгоритм шифрования персональных данных клентов страховой компании.\n",
    "4. Была проведена проверка алгоритма. Было выявлено, что качество предсказаний модели и сами предсказания не изменяются при применении шифрования данных."
   ]
  }
 ],
 "metadata": {
  "ExecuteTimeLog": [
   {
    "duration": 1442,
    "start_time": "2023-05-06T13:48:50.656Z"
   },
   {
    "duration": 103,
    "start_time": "2023-05-06T13:49:14.917Z"
   },
   {
    "duration": 36,
    "start_time": "2023-05-06T13:49:21.953Z"
   },
   {
    "duration": 15,
    "start_time": "2023-05-06T13:49:33.457Z"
   },
   {
    "duration": 26,
    "start_time": "2023-05-06T13:49:43.756Z"
   },
   {
    "duration": 320,
    "start_time": "2023-05-06T13:49:51.263Z"
   },
   {
    "duration": 127,
    "start_time": "2023-05-06T13:50:00.584Z"
   },
   {
    "duration": 9,
    "start_time": "2023-05-06T13:50:13.701Z"
   },
   {
    "duration": 12,
    "start_time": "2023-05-06T13:50:17.150Z"
   },
   {
    "duration": 404,
    "start_time": "2023-05-06T13:50:37.422Z"
   },
   {
    "duration": 330,
    "start_time": "2023-05-06T13:50:51.596Z"
   },
   {
    "duration": 140,
    "start_time": "2023-05-06T13:57:07.343Z"
   },
   {
    "duration": 147,
    "start_time": "2023-05-06T13:57:18.137Z"
   },
   {
    "duration": 162,
    "start_time": "2023-05-06T13:57:40.036Z"
   },
   {
    "duration": 1548,
    "start_time": "2023-05-06T13:57:58.774Z"
   },
   {
    "duration": 147,
    "start_time": "2023-05-06T13:58:04.385Z"
   },
   {
    "duration": 138,
    "start_time": "2023-05-06T13:58:14.466Z"
   },
   {
    "duration": 751,
    "start_time": "2023-05-06T17:18:48.253Z"
   },
   {
    "duration": 3843,
    "start_time": "2023-05-06T17:19:14.593Z"
   },
   {
    "duration": 2099,
    "start_time": "2023-05-06T17:19:27.216Z"
   },
   {
    "duration": 1458,
    "start_time": "2023-05-06T17:19:29.317Z"
   },
   {
    "duration": 0,
    "start_time": "2023-05-06T17:19:30.777Z"
   },
   {
    "duration": 0,
    "start_time": "2023-05-06T17:19:30.779Z"
   },
   {
    "duration": 0,
    "start_time": "2023-05-06T17:19:30.780Z"
   },
   {
    "duration": 10,
    "start_time": "2023-05-06T17:20:38.574Z"
   },
   {
    "duration": 2188,
    "start_time": "2023-05-06T17:20:58.205Z"
   },
   {
    "duration": 1154,
    "start_time": "2023-05-06T17:21:00.395Z"
   },
   {
    "duration": 104,
    "start_time": "2023-05-06T17:21:01.550Z"
   },
   {
    "duration": 11,
    "start_time": "2023-05-06T17:21:01.656Z"
   },
   {
    "duration": 46,
    "start_time": "2023-05-06T17:21:01.669Z"
   },
   {
    "duration": 111,
    "start_time": "2023-05-06T17:21:01.716Z"
   },
   {
    "duration": 1176,
    "start_time": "2023-05-06T17:21:12.678Z"
   },
   {
    "duration": 41,
    "start_time": "2023-05-06T17:21:13.856Z"
   },
   {
    "duration": 12,
    "start_time": "2023-05-06T17:21:13.898Z"
   },
   {
    "duration": 31,
    "start_time": "2023-05-06T17:21:13.911Z"
   },
   {
    "duration": 125,
    "start_time": "2023-05-06T17:21:13.947Z"
   },
   {
    "duration": 247,
    "start_time": "2023-05-06T17:21:22.052Z"
   },
   {
    "duration": 15,
    "start_time": "2023-05-06T17:21:46.695Z"
   },
   {
    "duration": 11,
    "start_time": "2023-05-06T17:21:51.248Z"
   },
   {
    "duration": 73,
    "start_time": "2023-05-06T17:22:24.546Z"
   },
   {
    "duration": 11,
    "start_time": "2023-05-06T17:22:36.697Z"
   },
   {
    "duration": 3,
    "start_time": "2023-05-06T17:22:51.002Z"
   },
   {
    "duration": 3,
    "start_time": "2023-05-06T17:23:01.410Z"
   },
   {
    "duration": 3,
    "start_time": "2023-05-06T17:23:09.956Z"
   },
   {
    "duration": 8,
    "start_time": "2023-05-06T17:23:18.105Z"
   },
   {
    "duration": 10,
    "start_time": "2023-05-06T17:23:22.206Z"
   },
   {
    "duration": 10,
    "start_time": "2023-05-06T17:23:27.028Z"
   },
   {
    "duration": 47,
    "start_time": "2023-05-06T17:24:28.564Z"
   },
   {
    "duration": 7,
    "start_time": "2023-05-06T17:25:35.431Z"
   },
   {
    "duration": 17,
    "start_time": "2023-05-06T17:26:25.807Z"
   },
   {
    "duration": 4,
    "start_time": "2023-05-06T17:27:04.096Z"
   },
   {
    "duration": 12,
    "start_time": "2023-05-06T17:27:08.658Z"
   },
   {
    "duration": 4,
    "start_time": "2023-05-06T17:27:31.852Z"
   },
   {
    "duration": 15,
    "start_time": "2023-05-06T17:29:25.451Z"
   },
   {
    "duration": 5,
    "start_time": "2023-05-06T17:29:30.217Z"
   },
   {
    "duration": 8,
    "start_time": "2023-05-06T17:29:32.346Z"
   },
   {
    "duration": 13,
    "start_time": "2023-05-06T17:30:46.702Z"
   },
   {
    "duration": 16,
    "start_time": "2023-05-06T17:33:34.990Z"
   },
   {
    "duration": 20,
    "start_time": "2023-05-06T17:33:46.568Z"
   },
   {
    "duration": 17,
    "start_time": "2023-05-06T17:33:51.457Z"
   },
   {
    "duration": 14,
    "start_time": "2023-05-06T17:34:47.448Z"
   },
   {
    "duration": 2,
    "start_time": "2023-05-06T17:38:56.472Z"
   },
   {
    "duration": 120,
    "start_time": "2023-05-06T17:39:18.230Z"
   },
   {
    "duration": 93,
    "start_time": "2023-05-06T17:39:38.682Z"
   },
   {
    "duration": 9,
    "start_time": "2023-05-06T17:39:45.915Z"
   },
   {
    "duration": 6,
    "start_time": "2023-05-06T17:40:12.029Z"
   },
   {
    "duration": 6,
    "start_time": "2023-05-06T17:40:16.490Z"
   },
   {
    "duration": 98,
    "start_time": "2023-05-06T17:40:44.122Z"
   },
   {
    "duration": 12,
    "start_time": "2023-05-06T17:40:56.167Z"
   },
   {
    "duration": 25,
    "start_time": "2023-05-06T17:41:11.900Z"
   },
   {
    "duration": 18,
    "start_time": "2023-05-06T17:41:16.692Z"
   },
   {
    "duration": 15,
    "start_time": "2023-05-06T17:41:19.462Z"
   },
   {
    "duration": 14,
    "start_time": "2023-05-06T17:41:28.359Z"
   },
   {
    "duration": 393,
    "start_time": "2023-05-06T17:41:34.963Z"
   },
   {
    "duration": 627,
    "start_time": "2023-05-06T17:41:54.202Z"
   },
   {
    "duration": 9,
    "start_time": "2023-05-06T17:44:23.286Z"
   },
   {
    "duration": 2,
    "start_time": "2023-05-06T17:44:27.519Z"
   },
   {
    "duration": 5,
    "start_time": "2023-05-06T17:44:34.533Z"
   },
   {
    "duration": 10,
    "start_time": "2023-05-06T17:44:39.263Z"
   },
   {
    "duration": 9,
    "start_time": "2023-05-06T17:44:44.007Z"
   },
   {
    "duration": 12,
    "start_time": "2023-05-06T17:44:49.879Z"
   },
   {
    "duration": 5,
    "start_time": "2023-05-06T17:44:59.811Z"
   },
   {
    "duration": 5,
    "start_time": "2023-05-06T17:45:07.724Z"
   },
   {
    "duration": 389,
    "start_time": "2023-05-06T17:45:12.781Z"
   },
   {
    "duration": 5,
    "start_time": "2023-05-06T17:45:17.980Z"
   },
   {
    "duration": 7,
    "start_time": "2023-05-06T17:45:20.815Z"
   },
   {
    "duration": 4,
    "start_time": "2023-05-06T17:45:22.917Z"
   },
   {
    "duration": 4,
    "start_time": "2023-05-06T17:45:25.373Z"
   },
   {
    "duration": 4,
    "start_time": "2023-05-06T17:45:35.669Z"
   },
   {
    "duration": 10,
    "start_time": "2023-05-06T17:45:41.205Z"
   },
   {
    "duration": 5,
    "start_time": "2023-05-06T17:45:46.778Z"
   },
   {
    "duration": 8,
    "start_time": "2023-05-06T17:45:48.867Z"
   },
   {
    "duration": 10,
    "start_time": "2023-05-06T17:45:51.546Z"
   },
   {
    "duration": 12,
    "start_time": "2023-05-06T17:46:13.874Z"
   },
   {
    "duration": 12,
    "start_time": "2023-05-06T17:46:18.076Z"
   },
   {
    "duration": 11,
    "start_time": "2023-05-06T17:46:21.365Z"
   },
   {
    "duration": 3,
    "start_time": "2023-05-06T17:46:26.207Z"
   },
   {
    "duration": 4,
    "start_time": "2023-05-06T17:46:31.405Z"
   },
   {
    "duration": 5,
    "start_time": "2023-05-06T17:46:35.419Z"
   },
   {
    "duration": 7,
    "start_time": "2023-05-06T17:46:39.754Z"
   },
   {
    "duration": 6,
    "start_time": "2023-05-06T17:46:45.961Z"
   },
   {
    "duration": 8,
    "start_time": "2023-05-06T17:47:11.076Z"
   },
   {
    "duration": 18,
    "start_time": "2023-05-06T17:47:17.722Z"
   },
   {
    "duration": 10,
    "start_time": "2023-05-06T17:47:28.432Z"
   },
   {
    "duration": 15,
    "start_time": "2023-05-06T17:47:32.711Z"
   },
   {
    "duration": 102,
    "start_time": "2023-05-06T17:50:13.677Z"
   },
   {
    "duration": 17,
    "start_time": "2023-05-06T17:50:18.458Z"
   },
   {
    "duration": 15,
    "start_time": "2023-05-06T17:50:28.665Z"
   },
   {
    "duration": 21,
    "start_time": "2023-05-06T17:50:36.818Z"
   },
   {
    "duration": 4,
    "start_time": "2023-05-06T17:51:34.723Z"
   },
   {
    "duration": 3,
    "start_time": "2023-05-06T17:51:45.907Z"
   },
   {
    "duration": 4,
    "start_time": "2023-05-06T17:52:12.020Z"
   },
   {
    "duration": 13,
    "start_time": "2023-05-06T17:52:12.649Z"
   },
   {
    "duration": 20,
    "start_time": "2023-05-06T17:52:20.084Z"
   },
   {
    "duration": 13,
    "start_time": "2023-05-06T17:52:36.205Z"
   },
   {
    "duration": 6,
    "start_time": "2023-05-06T17:52:46.554Z"
   },
   {
    "duration": 345,
    "start_time": "2023-05-06T17:53:03.382Z"
   },
   {
    "duration": 6,
    "start_time": "2023-05-06T17:53:06.383Z"
   },
   {
    "duration": 25,
    "start_time": "2023-05-06T17:53:10.294Z"
   },
   {
    "duration": 4,
    "start_time": "2023-05-06T17:53:23.072Z"
   },
   {
    "duration": 5,
    "start_time": "2023-05-06T17:53:24.097Z"
   },
   {
    "duration": 23,
    "start_time": "2023-05-06T17:53:25.033Z"
   },
   {
    "duration": 21,
    "start_time": "2023-05-06T17:53:28.018Z"
   },
   {
    "duration": 4,
    "start_time": "2023-05-06T17:55:20.780Z"
   },
   {
    "duration": 18,
    "start_time": "2023-05-06T17:55:24.365Z"
   },
   {
    "duration": 14,
    "start_time": "2023-05-06T17:55:34.266Z"
   },
   {
    "duration": 9,
    "start_time": "2023-05-06T17:55:51.282Z"
   },
   {
    "duration": 9,
    "start_time": "2023-05-06T17:55:54.378Z"
   },
   {
    "duration": 12,
    "start_time": "2023-05-06T17:56:00.365Z"
   },
   {
    "duration": 19,
    "start_time": "2023-05-06T17:56:03.149Z"
   },
   {
    "duration": 9,
    "start_time": "2023-05-06T17:56:05.798Z"
   },
   {
    "duration": 19,
    "start_time": "2023-05-06T17:56:09.933Z"
   },
   {
    "duration": 3,
    "start_time": "2023-05-06T17:56:27.050Z"
   },
   {
    "duration": 16,
    "start_time": "2023-05-06T17:57:34.432Z"
   },
   {
    "duration": 13,
    "start_time": "2023-05-06T17:57:37.394Z"
   },
   {
    "duration": 4,
    "start_time": "2023-05-06T17:57:38.722Z"
   },
   {
    "duration": 5,
    "start_time": "2023-05-06T17:57:39.668Z"
   },
   {
    "duration": 14,
    "start_time": "2023-05-06T17:57:42.163Z"
   },
   {
    "duration": 4,
    "start_time": "2023-05-06T17:58:03.354Z"
   },
   {
    "duration": 19,
    "start_time": "2023-05-06T17:58:09.895Z"
   },
   {
    "duration": 19,
    "start_time": "2023-05-06T17:58:14.937Z"
   },
   {
    "duration": 4,
    "start_time": "2023-05-06T17:59:25.250Z"
   },
   {
    "duration": 5,
    "start_time": "2023-05-06T17:59:25.878Z"
   },
   {
    "duration": 4,
    "start_time": "2023-05-06T17:59:28.853Z"
   },
   {
    "duration": 14,
    "start_time": "2023-05-06T17:59:29.750Z"
   },
   {
    "duration": 18,
    "start_time": "2023-05-06T17:59:34.142Z"
   },
   {
    "duration": 12,
    "start_time": "2023-05-06T17:59:34.684Z"
   },
   {
    "duration": 4,
    "start_time": "2023-05-06T17:59:57.777Z"
   },
   {
    "duration": 5,
    "start_time": "2023-05-06T17:59:59.168Z"
   },
   {
    "duration": 5,
    "start_time": "2023-05-06T18:00:00.852Z"
   },
   {
    "duration": 17,
    "start_time": "2023-05-06T18:00:01.833Z"
   },
   {
    "duration": 15,
    "start_time": "2023-05-06T18:00:06.688Z"
   },
   {
    "duration": 17,
    "start_time": "2023-05-06T18:00:07.250Z"
   },
   {
    "duration": 3,
    "start_time": "2023-05-06T18:00:28.425Z"
   },
   {
    "duration": 11,
    "start_time": "2023-05-06T18:00:49.392Z"
   },
   {
    "duration": 23,
    "start_time": "2023-05-06T18:01:10.050Z"
   },
   {
    "duration": 14,
    "start_time": "2023-05-06T18:01:29.395Z"
   },
   {
    "duration": 4,
    "start_time": "2023-05-06T18:01:34.552Z"
   },
   {
    "duration": 4,
    "start_time": "2023-05-06T18:01:36.452Z"
   },
   {
    "duration": 4,
    "start_time": "2023-05-06T18:01:38.403Z"
   },
   {
    "duration": 12,
    "start_time": "2023-05-06T18:01:38.794Z"
   },
   {
    "duration": 19,
    "start_time": "2023-05-06T18:01:47.510Z"
   },
   {
    "duration": 14,
    "start_time": "2023-05-06T18:01:50.413Z"
   },
   {
    "duration": 13,
    "start_time": "2023-05-06T18:01:53.078Z"
   },
   {
    "duration": 5,
    "start_time": "2023-05-06T18:07:48.997Z"
   },
   {
    "duration": 9,
    "start_time": "2023-05-06T18:08:04.617Z"
   },
   {
    "duration": 24,
    "start_time": "2023-05-06T18:08:07.431Z"
   },
   {
    "duration": 5,
    "start_time": "2023-05-06T18:09:00.589Z"
   },
   {
    "duration": 16,
    "start_time": "2023-05-06T18:09:08.126Z"
   },
   {
    "duration": 5,
    "start_time": "2023-05-06T18:09:32.304Z"
   },
   {
    "duration": 6,
    "start_time": "2023-05-06T18:09:37.007Z"
   },
   {
    "duration": 5,
    "start_time": "2023-05-06T18:09:40.552Z"
   },
   {
    "duration": 7,
    "start_time": "2023-05-06T18:09:46.455Z"
   },
   {
    "duration": 6,
    "start_time": "2023-05-06T18:10:41.050Z"
   },
   {
    "duration": 13,
    "start_time": "2023-05-06T18:11:17.647Z"
   },
   {
    "duration": 15,
    "start_time": "2023-05-06T18:11:21.314Z"
   },
   {
    "duration": 822,
    "start_time": "2023-05-06T18:11:52.693Z"
   },
   {
    "duration": 5,
    "start_time": "2023-05-06T18:12:02.548Z"
   },
   {
    "duration": 12,
    "start_time": "2023-05-06T18:12:07.580Z"
   },
   {
    "duration": 13,
    "start_time": "2023-05-06T18:12:10.414Z"
   },
   {
    "duration": 4,
    "start_time": "2023-05-06T18:12:17.321Z"
   },
   {
    "duration": 10,
    "start_time": "2023-05-06T18:12:20.500Z"
   },
   {
    "duration": 13,
    "start_time": "2023-05-06T18:12:23.231Z"
   },
   {
    "duration": 15,
    "start_time": "2023-05-06T18:12:34.019Z"
   },
   {
    "duration": 1728,
    "start_time": "2023-05-07T15:02:55.860Z"
   },
   {
    "duration": 95,
    "start_time": "2023-05-07T15:02:57.591Z"
   },
   {
    "duration": 17,
    "start_time": "2023-05-07T15:02:57.688Z"
   },
   {
    "duration": 52,
    "start_time": "2023-05-07T15:02:57.707Z"
   },
   {
    "duration": 15,
    "start_time": "2023-05-07T15:02:57.761Z"
   },
   {
    "duration": 46,
    "start_time": "2023-05-07T15:07:04.318Z"
   },
   {
    "duration": 5,
    "start_time": "2023-05-07T16:01:57.518Z"
   },
   {
    "duration": 29,
    "start_time": "2023-05-07T16:02:26.033Z"
   },
   {
    "duration": 14,
    "start_time": "2023-05-07T16:02:32.972Z"
   },
   {
    "duration": 11,
    "start_time": "2023-05-07T16:03:04.115Z"
   },
   {
    "duration": 7,
    "start_time": "2023-05-07T16:03:06.766Z"
   },
   {
    "duration": 6,
    "start_time": "2023-05-07T16:03:11.115Z"
   },
   {
    "duration": 6,
    "start_time": "2023-05-07T16:03:39.713Z"
   },
   {
    "duration": 17,
    "start_time": "2023-05-07T16:04:11.375Z"
   },
   {
    "duration": 138,
    "start_time": "2023-05-07T16:04:38.345Z"
   },
   {
    "duration": 12,
    "start_time": "2023-05-07T16:04:50.249Z"
   },
   {
    "duration": 31,
    "start_time": "2023-05-07T16:05:05.968Z"
   },
   {
    "duration": 15,
    "start_time": "2023-05-07T16:05:15.346Z"
   },
   {
    "duration": 16,
    "start_time": "2023-05-07T16:05:26.270Z"
   },
   {
    "duration": 14,
    "start_time": "2023-05-07T16:05:30.519Z"
   },
   {
    "duration": 17,
    "start_time": "2023-05-07T16:05:41.736Z"
   },
   {
    "duration": 175,
    "start_time": "2023-05-07T16:07:38.775Z"
   },
   {
    "duration": 200,
    "start_time": "2023-05-07T16:07:44.317Z"
   },
   {
    "duration": 313,
    "start_time": "2023-05-07T16:07:47.055Z"
   },
   {
    "duration": 231,
    "start_time": "2023-05-07T16:07:50.437Z"
   },
   {
    "duration": 195,
    "start_time": "2023-05-07T16:08:06.017Z"
   },
   {
    "duration": 72,
    "start_time": "2023-05-07T16:08:11.659Z"
   },
   {
    "duration": 234,
    "start_time": "2023-05-07T16:08:13.889Z"
   },
   {
    "duration": 181,
    "start_time": "2023-05-07T16:08:20.744Z"
   },
   {
    "duration": 177,
    "start_time": "2023-05-07T16:08:27.145Z"
   },
   {
    "duration": 218,
    "start_time": "2023-05-07T16:08:32.277Z"
   },
   {
    "duration": 197,
    "start_time": "2023-05-07T16:08:34.444Z"
   },
   {
    "duration": 219,
    "start_time": "2023-05-07T16:08:38.419Z"
   },
   {
    "duration": 460,
    "start_time": "2023-05-07T16:08:41.665Z"
   },
   {
    "duration": 269,
    "start_time": "2023-05-07T16:08:45.862Z"
   },
   {
    "duration": 273,
    "start_time": "2023-05-07T16:09:02.662Z"
   },
   {
    "duration": 272,
    "start_time": "2023-05-07T16:09:05.562Z"
   },
   {
    "duration": 210,
    "start_time": "2023-05-07T16:09:11.517Z"
   },
   {
    "duration": 212,
    "start_time": "2023-05-07T16:09:15.068Z"
   },
   {
    "duration": 148,
    "start_time": "2023-05-07T16:09:21.802Z"
   },
   {
    "duration": 172,
    "start_time": "2023-05-07T16:09:47.448Z"
   },
   {
    "duration": 166,
    "start_time": "2023-05-07T16:09:52.757Z"
   },
   {
    "duration": 152,
    "start_time": "2023-05-07T16:10:21.938Z"
   },
   {
    "duration": 165,
    "start_time": "2023-05-07T16:11:21.920Z"
   },
   {
    "duration": 166,
    "start_time": "2023-05-07T16:11:53.158Z"
   },
   {
    "duration": 179,
    "start_time": "2023-05-07T16:12:02.740Z"
   },
   {
    "duration": 167,
    "start_time": "2023-05-07T16:12:07.253Z"
   },
   {
    "duration": 10,
    "start_time": "2023-05-07T16:12:30.843Z"
   },
   {
    "duration": 4,
    "start_time": "2023-05-07T16:12:39.361Z"
   },
   {
    "duration": 5,
    "start_time": "2023-05-07T16:12:43.618Z"
   },
   {
    "duration": 42,
    "start_time": "2023-05-07T16:12:46.520Z"
   },
   {
    "duration": 3,
    "start_time": "2023-05-07T16:13:19.264Z"
   },
   {
    "duration": 4,
    "start_time": "2023-05-07T16:13:59.748Z"
   },
   {
    "duration": 160,
    "start_time": "2023-05-07T16:14:22.020Z"
   },
   {
    "duration": 174,
    "start_time": "2023-05-07T16:14:27.368Z"
   },
   {
    "duration": 83,
    "start_time": "2023-05-07T16:14:54.245Z"
   },
   {
    "duration": 231,
    "start_time": "2023-05-07T16:15:00.629Z"
   },
   {
    "duration": 209,
    "start_time": "2023-05-07T16:15:24.324Z"
   },
   {
    "duration": 159,
    "start_time": "2023-05-07T16:15:35.368Z"
   },
   {
    "duration": 4,
    "start_time": "2023-05-07T16:17:43.079Z"
   },
   {
    "duration": 10,
    "start_time": "2023-05-07T16:18:40.864Z"
   },
   {
    "duration": 3,
    "start_time": "2023-05-07T16:18:46.615Z"
   },
   {
    "duration": 156,
    "start_time": "2023-05-07T16:18:46.844Z"
   },
   {
    "duration": 3,
    "start_time": "2023-05-07T16:18:52.178Z"
   },
   {
    "duration": 157,
    "start_time": "2023-05-07T16:18:55.214Z"
   },
   {
    "duration": 4,
    "start_time": "2023-05-07T16:19:03.121Z"
   },
   {
    "duration": 181,
    "start_time": "2023-05-07T16:19:04.257Z"
   },
   {
    "duration": 11,
    "start_time": "2023-05-07T16:19:27.543Z"
   },
   {
    "duration": 3,
    "start_time": "2023-05-07T16:19:30.150Z"
   },
   {
    "duration": 4,
    "start_time": "2023-05-07T16:19:33.918Z"
   },
   {
    "duration": 1115,
    "start_time": "2023-05-07T16:19:57.357Z"
   },
   {
    "duration": 4,
    "start_time": "2023-05-07T16:20:34.853Z"
   },
   {
    "duration": 1527,
    "start_time": "2023-05-07T16:20:37.382Z"
   },
   {
    "duration": 3,
    "start_time": "2023-05-07T16:21:08.922Z"
   },
   {
    "duration": 1164,
    "start_time": "2023-05-07T16:21:11.739Z"
   },
   {
    "duration": 954,
    "start_time": "2023-05-07T16:21:41.227Z"
   },
   {
    "duration": 11,
    "start_time": "2023-05-07T16:22:08.586Z"
   },
   {
    "duration": 907,
    "start_time": "2023-05-07T16:22:09.839Z"
   },
   {
    "duration": 4,
    "start_time": "2023-05-07T16:22:18.146Z"
   },
   {
    "duration": 874,
    "start_time": "2023-05-07T16:22:19.282Z"
   },
   {
    "duration": 5,
    "start_time": "2023-05-07T16:22:23.972Z"
   },
   {
    "duration": 1446,
    "start_time": "2023-05-07T16:22:25.598Z"
   },
   {
    "duration": 3,
    "start_time": "2023-05-07T16:22:29.660Z"
   },
   {
    "duration": 1108,
    "start_time": "2023-05-07T16:22:30.835Z"
   },
   {
    "duration": 4,
    "start_time": "2023-05-07T16:23:30.479Z"
   },
   {
    "duration": 980,
    "start_time": "2023-05-07T16:24:38.148Z"
   },
   {
    "duration": 49,
    "start_time": "2023-05-07T19:03:26.216Z"
   },
   {
    "duration": 7,
    "start_time": "2023-05-07T19:04:45.502Z"
   },
   {
    "duration": 1493,
    "start_time": "2023-05-07T19:04:52.670Z"
   },
   {
    "duration": 96,
    "start_time": "2023-05-07T19:04:55.497Z"
   },
   {
    "duration": 12,
    "start_time": "2023-05-07T19:04:55.858Z"
   },
   {
    "duration": 22,
    "start_time": "2023-05-07T19:04:56.039Z"
   },
   {
    "duration": 10,
    "start_time": "2023-05-07T19:04:56.186Z"
   },
   {
    "duration": 4,
    "start_time": "2023-05-07T19:04:56.519Z"
   },
   {
    "duration": 702,
    "start_time": "2023-05-07T19:04:56.671Z"
   },
   {
    "duration": 3,
    "start_time": "2023-05-07T19:04:58.559Z"
   },
   {
    "duration": 68,
    "start_time": "2023-05-07T19:04:59.033Z"
   },
   {
    "duration": 4,
    "start_time": "2023-05-07T19:04:59.327Z"
   },
   {
    "duration": 4,
    "start_time": "2023-05-07T19:04:59.352Z"
   },
   {
    "duration": 10,
    "start_time": "2023-05-07T19:05:00.029Z"
   },
   {
    "duration": 11,
    "start_time": "2023-05-07T19:05:00.216Z"
   },
   {
    "duration": 8,
    "start_time": "2023-05-07T19:06:00.648Z"
   },
   {
    "duration": 11,
    "start_time": "2023-05-07T19:06:05.062Z"
   },
   {
    "duration": 4,
    "start_time": "2023-05-07T19:06:08.333Z"
   },
   {
    "duration": 3,
    "start_time": "2023-05-07T19:06:13.139Z"
   },
   {
    "duration": 2,
    "start_time": "2023-05-07T19:06:26.470Z"
   },
   {
    "duration": 299,
    "start_time": "2023-05-07T19:07:46.543Z"
   },
   {
    "duration": 3,
    "start_time": "2023-05-07T19:07:56.214Z"
   },
   {
    "duration": 5,
    "start_time": "2023-05-07T19:07:59.826Z"
   },
   {
    "duration": 4,
    "start_time": "2023-05-07T19:08:08.621Z"
   },
   {
    "duration": 2,
    "start_time": "2023-05-07T19:08:51.299Z"
   },
   {
    "duration": 6,
    "start_time": "2023-05-07T19:09:10.252Z"
   },
   {
    "duration": 2,
    "start_time": "2023-05-07T19:10:23.291Z"
   },
   {
    "duration": 10,
    "start_time": "2023-05-07T19:11:00.110Z"
   },
   {
    "duration": 9,
    "start_time": "2023-05-07T19:13:23.087Z"
   },
   {
    "duration": 9,
    "start_time": "2023-05-07T19:13:26.202Z"
   },
   {
    "duration": 9,
    "start_time": "2023-05-07T19:13:37.975Z"
   },
   {
    "duration": 3,
    "start_time": "2023-05-07T19:18:16.589Z"
   },
   {
    "duration": 11,
    "start_time": "2023-05-07T19:18:26.886Z"
   },
   {
    "duration": 9,
    "start_time": "2023-05-07T19:18:52.602Z"
   },
   {
    "duration": 9,
    "start_time": "2023-05-07T19:19:31.769Z"
   },
   {
    "duration": 10,
    "start_time": "2023-05-07T19:21:17.498Z"
   },
   {
    "duration": 3,
    "start_time": "2023-05-07T19:22:18.728Z"
   },
   {
    "duration": 5,
    "start_time": "2023-05-07T19:22:19.390Z"
   },
   {
    "duration": 6,
    "start_time": "2023-05-07T19:22:19.867Z"
   },
   {
    "duration": 8,
    "start_time": "2023-05-07T19:22:20.091Z"
   },
   {
    "duration": 11,
    "start_time": "2023-05-07T19:22:22.213Z"
   },
   {
    "duration": 11,
    "start_time": "2023-05-07T19:23:02.616Z"
   },
   {
    "duration": 11,
    "start_time": "2023-05-07T19:23:49.817Z"
   },
   {
    "duration": 17,
    "start_time": "2023-05-07T19:24:17.788Z"
   },
   {
    "duration": 11,
    "start_time": "2023-05-07T19:24:33.283Z"
   },
   {
    "duration": 3,
    "start_time": "2023-05-07T19:26:31.576Z"
   },
   {
    "duration": 4,
    "start_time": "2023-05-07T19:26:31.876Z"
   },
   {
    "duration": 5,
    "start_time": "2023-05-07T19:26:32.519Z"
   },
   {
    "duration": 13,
    "start_time": "2023-05-07T19:26:34.592Z"
   },
   {
    "duration": 11,
    "start_time": "2023-05-07T19:27:01.719Z"
   },
   {
    "duration": 74,
    "start_time": "2023-05-07T19:27:45.295Z"
   },
   {
    "duration": 11,
    "start_time": "2023-05-07T19:27:50.914Z"
   },
   {
    "duration": 13,
    "start_time": "2023-05-07T19:28:06.366Z"
   },
   {
    "duration": 11,
    "start_time": "2023-05-07T19:28:20.635Z"
   },
   {
    "duration": 8,
    "start_time": "2023-05-07T19:28:26.604Z"
   },
   {
    "duration": 98,
    "start_time": "2023-05-07T19:29:01.714Z"
   },
   {
    "duration": 86,
    "start_time": "2023-05-07T19:29:06.020Z"
   },
   {
    "duration": 129,
    "start_time": "2023-05-07T19:29:09.067Z"
   },
   {
    "duration": 84,
    "start_time": "2023-05-07T19:29:20.762Z"
   },
   {
    "duration": 12,
    "start_time": "2023-05-07T19:29:27.503Z"
   },
   {
    "duration": 11,
    "start_time": "2023-05-07T19:29:34.879Z"
   },
   {
    "duration": 11,
    "start_time": "2023-05-07T19:29:41.594Z"
   },
   {
    "duration": 11,
    "start_time": "2023-05-07T19:29:46.743Z"
   },
   {
    "duration": 11,
    "start_time": "2023-05-07T19:29:51.629Z"
   },
   {
    "duration": 10,
    "start_time": "2023-05-07T19:30:08.637Z"
   },
   {
    "duration": 12,
    "start_time": "2023-05-07T19:30:12.085Z"
   },
   {
    "duration": 88,
    "start_time": "2023-05-07T19:30:15.741Z"
   },
   {
    "duration": 10,
    "start_time": "2023-05-07T19:30:17.807Z"
   },
   {
    "duration": 8,
    "start_time": "2023-05-07T19:30:30.922Z"
   },
   {
    "duration": 10,
    "start_time": "2023-05-07T19:30:44.669Z"
   },
   {
    "duration": 12,
    "start_time": "2023-05-07T19:30:48.441Z"
   },
   {
    "duration": 8,
    "start_time": "2023-05-07T19:30:50.510Z"
   },
   {
    "duration": 8,
    "start_time": "2023-05-07T19:30:52.481Z"
   },
   {
    "duration": 11,
    "start_time": "2023-05-07T19:31:24.092Z"
   },
   {
    "duration": 2,
    "start_time": "2023-05-07T19:31:56.831Z"
   },
   {
    "duration": 11,
    "start_time": "2023-05-07T19:32:19.430Z"
   },
   {
    "duration": 10,
    "start_time": "2023-05-07T19:32:19.910Z"
   },
   {
    "duration": 6,
    "start_time": "2023-05-07T19:33:02.170Z"
   },
   {
    "duration": 9,
    "start_time": "2023-05-07T19:33:08.954Z"
   },
   {
    "duration": 9,
    "start_time": "2023-05-07T19:33:15.519Z"
   },
   {
    "duration": 7,
    "start_time": "2023-05-07T19:33:34.634Z"
   },
   {
    "duration": 6,
    "start_time": "2023-05-07T19:33:38.607Z"
   },
   {
    "duration": 6,
    "start_time": "2023-05-07T19:33:46.619Z"
   },
   {
    "duration": 4,
    "start_time": "2023-05-07T19:33:59.423Z"
   },
   {
    "duration": 74,
    "start_time": "2023-05-07T19:34:04.897Z"
   },
   {
    "duration": 5,
    "start_time": "2023-05-07T19:34:11.059Z"
   },
   {
    "duration": 96,
    "start_time": "2023-05-07T19:41:10.465Z"
   },
   {
    "duration": 5,
    "start_time": "2023-05-07T19:41:14.902Z"
   },
   {
    "duration": 5,
    "start_time": "2023-05-07T19:41:19.087Z"
   },
   {
    "duration": 4,
    "start_time": "2023-05-07T19:41:21.843Z"
   },
   {
    "duration": 4,
    "start_time": "2023-05-07T19:42:14.269Z"
   },
   {
    "duration": 4,
    "start_time": "2023-05-07T19:42:16.339Z"
   },
   {
    "duration": 1305,
    "start_time": "2023-05-07T20:01:37.684Z"
   },
   {
    "duration": 38,
    "start_time": "2023-05-07T20:01:38.991Z"
   },
   {
    "duration": 11,
    "start_time": "2023-05-07T20:01:39.032Z"
   },
   {
    "duration": 23,
    "start_time": "2023-05-07T20:01:39.046Z"
   },
   {
    "duration": 11,
    "start_time": "2023-05-07T20:01:39.071Z"
   },
   {
    "duration": 5,
    "start_time": "2023-05-07T20:01:39.083Z"
   },
   {
    "duration": 735,
    "start_time": "2023-05-07T20:01:39.090Z"
   },
   {
    "duration": 9,
    "start_time": "2023-05-07T20:01:39.826Z"
   },
   {
    "duration": 9,
    "start_time": "2023-05-07T20:01:39.836Z"
   },
   {
    "duration": 11,
    "start_time": "2023-05-07T20:01:39.847Z"
   },
   {
    "duration": 75,
    "start_time": "2023-05-07T20:01:39.859Z"
   },
   {
    "duration": 192,
    "start_time": "2023-05-07T20:01:39.937Z"
   },
   {
    "duration": 0,
    "start_time": "2023-05-07T20:01:40.135Z"
   },
   {
    "duration": 0,
    "start_time": "2023-05-07T20:01:40.137Z"
   },
   {
    "duration": 0,
    "start_time": "2023-05-07T20:01:40.138Z"
   },
   {
    "duration": 2574,
    "start_time": "2023-05-08T14:24:23.178Z"
   },
   {
    "duration": 38,
    "start_time": "2023-05-08T14:24:25.754Z"
   },
   {
    "duration": 10,
    "start_time": "2023-05-08T14:24:25.793Z"
   },
   {
    "duration": 23,
    "start_time": "2023-05-08T14:24:25.805Z"
   },
   {
    "duration": 11,
    "start_time": "2023-05-08T14:24:25.830Z"
   },
   {
    "duration": 6,
    "start_time": "2023-05-08T14:24:25.843Z"
   },
   {
    "duration": 596,
    "start_time": "2023-05-08T14:24:25.850Z"
   },
   {
    "duration": 4,
    "start_time": "2023-05-08T14:24:26.448Z"
   },
   {
    "duration": 18,
    "start_time": "2023-05-08T14:24:26.453Z"
   },
   {
    "duration": 5,
    "start_time": "2023-05-08T14:24:26.474Z"
   },
   {
    "duration": 14,
    "start_time": "2023-05-08T14:24:26.480Z"
   },
   {
    "duration": 203,
    "start_time": "2023-05-08T14:24:26.549Z"
   },
   {
    "duration": 0,
    "start_time": "2023-05-08T14:24:26.754Z"
   },
   {
    "duration": 0,
    "start_time": "2023-05-08T14:24:26.755Z"
   },
   {
    "duration": 0,
    "start_time": "2023-05-08T14:24:26.756Z"
   },
   {
    "duration": 15,
    "start_time": "2023-05-08T14:24:42.004Z"
   },
   {
    "duration": 13,
    "start_time": "2023-05-08T14:25:02.295Z"
   },
   {
    "duration": 2552,
    "start_time": "2023-05-08T14:25:51.716Z"
   },
   {
    "duration": 38,
    "start_time": "2023-05-08T14:25:54.270Z"
   },
   {
    "duration": 10,
    "start_time": "2023-05-08T14:25:54.310Z"
   },
   {
    "duration": 22,
    "start_time": "2023-05-08T14:25:54.322Z"
   },
   {
    "duration": 8,
    "start_time": "2023-05-08T14:25:54.345Z"
   },
   {
    "duration": 7,
    "start_time": "2023-05-08T14:25:54.355Z"
   },
   {
    "duration": 669,
    "start_time": "2023-05-08T14:25:54.363Z"
   },
   {
    "duration": 3,
    "start_time": "2023-05-08T14:25:55.034Z"
   },
   {
    "duration": 28,
    "start_time": "2023-05-08T14:25:55.039Z"
   },
   {
    "duration": 21,
    "start_time": "2023-05-08T14:25:55.069Z"
   },
   {
    "duration": 16,
    "start_time": "2023-05-08T14:25:55.092Z"
   },
   {
    "duration": 200,
    "start_time": "2023-05-08T14:25:55.150Z"
   },
   {
    "duration": 0,
    "start_time": "2023-05-08T14:25:55.351Z"
   },
   {
    "duration": 0,
    "start_time": "2023-05-08T14:25:55.353Z"
   },
   {
    "duration": 0,
    "start_time": "2023-05-08T14:25:55.354Z"
   },
   {
    "duration": 1556,
    "start_time": "2023-05-08T17:08:26.710Z"
   },
   {
    "duration": 130,
    "start_time": "2023-05-08T17:08:28.269Z"
   },
   {
    "duration": 16,
    "start_time": "2023-05-08T17:08:28.401Z"
   },
   {
    "duration": 27,
    "start_time": "2023-05-08T17:08:28.421Z"
   },
   {
    "duration": 11,
    "start_time": "2023-05-08T17:08:28.451Z"
   },
   {
    "duration": 4,
    "start_time": "2023-05-08T17:08:28.485Z"
   },
   {
    "duration": 696,
    "start_time": "2023-05-08T17:08:28.491Z"
   },
   {
    "duration": 5,
    "start_time": "2023-05-08T17:08:29.189Z"
   },
   {
    "duration": 8,
    "start_time": "2023-05-08T17:08:29.195Z"
   },
   {
    "duration": 7,
    "start_time": "2023-05-08T17:08:29.205Z"
   },
   {
    "duration": 84,
    "start_time": "2023-05-08T17:08:29.216Z"
   },
   {
    "duration": 240,
    "start_time": "2023-05-08T17:08:29.386Z"
   },
   {
    "duration": 0,
    "start_time": "2023-05-08T17:08:29.628Z"
   },
   {
    "duration": 0,
    "start_time": "2023-05-08T17:08:29.629Z"
   },
   {
    "duration": 0,
    "start_time": "2023-05-08T17:08:29.630Z"
   },
   {
    "duration": 18,
    "start_time": "2023-05-08T17:12:26.610Z"
   },
   {
    "duration": 16,
    "start_time": "2023-05-08T17:12:31.704Z"
   },
   {
    "duration": 22,
    "start_time": "2023-05-08T17:12:36.238Z"
   },
   {
    "duration": 13,
    "start_time": "2023-05-08T17:12:52.254Z"
   },
   {
    "duration": 15,
    "start_time": "2023-05-08T17:14:02.487Z"
   },
   {
    "duration": 16,
    "start_time": "2023-05-08T17:14:17.621Z"
   },
   {
    "duration": 10,
    "start_time": "2023-05-08T17:14:29.704Z"
   },
   {
    "duration": 13,
    "start_time": "2023-05-08T17:14:32.810Z"
   },
   {
    "duration": 12,
    "start_time": "2023-05-08T17:14:33.435Z"
   },
   {
    "duration": 5,
    "start_time": "2023-05-08T17:14:36.209Z"
   },
   {
    "duration": 6,
    "start_time": "2023-05-08T17:14:38.946Z"
   },
   {
    "duration": 1388,
    "start_time": "2023-05-08T17:17:30.706Z"
   },
   {
    "duration": 36,
    "start_time": "2023-05-08T17:17:32.096Z"
   },
   {
    "duration": 12,
    "start_time": "2023-05-08T17:17:32.133Z"
   },
   {
    "duration": 55,
    "start_time": "2023-05-08T17:17:32.147Z"
   },
   {
    "duration": 14,
    "start_time": "2023-05-08T17:17:32.204Z"
   },
   {
    "duration": 17,
    "start_time": "2023-05-08T17:17:32.220Z"
   },
   {
    "duration": 684,
    "start_time": "2023-05-08T17:17:32.238Z"
   },
   {
    "duration": 3,
    "start_time": "2023-05-08T17:17:32.924Z"
   },
   {
    "duration": 7,
    "start_time": "2023-05-08T17:17:32.929Z"
   },
   {
    "duration": 4,
    "start_time": "2023-05-08T17:17:32.938Z"
   },
   {
    "duration": 12,
    "start_time": "2023-05-08T17:17:32.984Z"
   },
   {
    "duration": 95,
    "start_time": "2023-05-08T17:17:32.998Z"
   },
   {
    "duration": 100,
    "start_time": "2023-05-08T17:17:33.095Z"
   },
   {
    "duration": 5,
    "start_time": "2023-05-08T17:17:33.198Z"
   },
   {
    "duration": 18,
    "start_time": "2023-05-08T17:17:33.204Z"
   },
   {
    "duration": 13,
    "start_time": "2023-05-08T17:22:49.511Z"
   },
   {
    "duration": 10,
    "start_time": "2023-05-08T17:22:57.712Z"
   },
   {
    "duration": 51,
    "start_time": "2023-05-08T17:23:35.104Z"
   },
   {
    "duration": 12,
    "start_time": "2023-05-08T17:23:38.334Z"
   },
   {
    "duration": 6,
    "start_time": "2023-05-08T17:23:43.046Z"
   },
   {
    "duration": 4,
    "start_time": "2023-05-08T17:23:47.210Z"
   },
   {
    "duration": 1920,
    "start_time": "2023-05-08T20:49:08.179Z"
   },
   {
    "duration": 179,
    "start_time": "2023-05-08T20:49:10.101Z"
   },
   {
    "duration": 13,
    "start_time": "2023-05-08T20:49:10.282Z"
   },
   {
    "duration": 37,
    "start_time": "2023-05-08T20:49:10.297Z"
   },
   {
    "duration": 25,
    "start_time": "2023-05-08T20:49:10.340Z"
   },
   {
    "duration": 5,
    "start_time": "2023-05-08T20:49:10.367Z"
   },
   {
    "duration": 890,
    "start_time": "2023-05-08T20:49:10.374Z"
   },
   {
    "duration": 4,
    "start_time": "2023-05-08T20:49:11.267Z"
   },
   {
    "duration": 25,
    "start_time": "2023-05-08T20:49:11.273Z"
   },
   {
    "duration": 30,
    "start_time": "2023-05-08T20:49:11.301Z"
   },
   {
    "duration": 71,
    "start_time": "2023-05-08T20:49:11.345Z"
   },
   {
    "duration": 87,
    "start_time": "2023-05-08T20:49:11.425Z"
   },
   {
    "duration": 22,
    "start_time": "2023-05-08T20:49:11.527Z"
   },
   {
    "duration": 8,
    "start_time": "2023-05-08T20:49:11.552Z"
   },
   {
    "duration": 14,
    "start_time": "2023-05-08T20:49:11.562Z"
   },
   {
    "duration": 99,
    "start_time": "2023-05-08T20:50:19.860Z"
   },
   {
    "duration": 1600,
    "start_time": "2023-05-08T21:15:11.997Z"
   },
   {
    "duration": 63,
    "start_time": "2023-05-08T21:15:13.599Z"
   },
   {
    "duration": 13,
    "start_time": "2023-05-08T21:15:13.664Z"
   },
   {
    "duration": 25,
    "start_time": "2023-05-08T21:15:13.679Z"
   },
   {
    "duration": 13,
    "start_time": "2023-05-08T21:15:13.706Z"
   },
   {
    "duration": 5,
    "start_time": "2023-05-08T21:15:13.722Z"
   },
   {
    "duration": 897,
    "start_time": "2023-05-08T21:15:13.729Z"
   },
   {
    "duration": 5,
    "start_time": "2023-05-08T21:15:14.629Z"
   },
   {
    "duration": 8,
    "start_time": "2023-05-08T21:15:14.636Z"
   },
   {
    "duration": 29,
    "start_time": "2023-05-08T21:15:14.646Z"
   },
   {
    "duration": 53,
    "start_time": "2023-05-08T21:15:14.679Z"
   },
   {
    "duration": 29,
    "start_time": "2023-05-08T21:15:14.734Z"
   },
   {
    "duration": 53,
    "start_time": "2023-05-08T21:15:14.765Z"
   },
   {
    "duration": 20,
    "start_time": "2023-05-08T21:15:14.821Z"
   },
   {
    "duration": 12,
    "start_time": "2023-05-08T21:15:14.849Z"
   },
   {
    "duration": 3294,
    "start_time": "2023-05-09T05:11:51.669Z"
   },
   {
    "duration": 93,
    "start_time": "2023-05-09T05:11:54.965Z"
   },
   {
    "duration": 11,
    "start_time": "2023-05-09T05:11:55.059Z"
   },
   {
    "duration": 22,
    "start_time": "2023-05-09T05:11:55.072Z"
   },
   {
    "duration": 10,
    "start_time": "2023-05-09T05:11:55.095Z"
   },
   {
    "duration": 7,
    "start_time": "2023-05-09T05:11:55.106Z"
   },
   {
    "duration": 652,
    "start_time": "2023-05-09T05:11:55.115Z"
   },
   {
    "duration": 4,
    "start_time": "2023-05-09T05:11:55.769Z"
   },
   {
    "duration": 9,
    "start_time": "2023-05-09T05:11:55.774Z"
   },
   {
    "duration": 11,
    "start_time": "2023-05-09T05:11:55.784Z"
   },
   {
    "duration": 52,
    "start_time": "2023-05-09T05:11:55.797Z"
   },
   {
    "duration": 22,
    "start_time": "2023-05-09T05:11:55.936Z"
   },
   {
    "duration": 16,
    "start_time": "2023-05-09T05:11:55.960Z"
   },
   {
    "duration": 11,
    "start_time": "2023-05-09T05:11:55.977Z"
   },
   {
    "duration": 45,
    "start_time": "2023-05-09T05:11:55.990Z"
   }
  ],
  "kernelspec": {
   "display_name": "Python 3 (ipykernel)",
   "language": "python",
   "name": "python3"
  },
  "language_info": {
   "codemirror_mode": {
    "name": "ipython",
    "version": 3
   },
   "file_extension": ".py",
   "mimetype": "text/x-python",
   "name": "python",
   "nbconvert_exporter": "python",
   "pygments_lexer": "ipython3",
   "version": "3.9.12"
  },
  "toc": {
   "base_numbering": 1,
   "nav_menu": {},
   "number_sections": true,
   "sideBar": true,
   "skip_h1_title": true,
   "title_cell": "Содержание",
   "title_sidebar": "Contents",
   "toc_cell": true,
   "toc_position": {},
   "toc_section_display": true,
   "toc_window_display": false
  }
 },
 "nbformat": 4,
 "nbformat_minor": 2
}
