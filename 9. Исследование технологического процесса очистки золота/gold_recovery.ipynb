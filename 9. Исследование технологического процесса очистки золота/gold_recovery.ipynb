{
 "cells": [
  {
   "cell_type": "markdown",
   "metadata": {
    "toc": true
   },
   "source": [
    "<h1>Содержание<span class=\"tocSkip\"></span></h1>\n",
    "<div class=\"toc\"><ul class=\"toc-item\"><li><span><a href=\"#Подготовка-данных\" data-toc-modified-id=\"Подготовка-данных-1\"><span class=\"toc-item-num\">1&nbsp;&nbsp;</span>Подготовка данных</a></span><ul class=\"toc-item\"><li><span><a href=\"#Общая-информация-по-датасетам\" data-toc-modified-id=\"Общая-информация-по-датасетам-1.1\"><span class=\"toc-item-num\">1.1&nbsp;&nbsp;</span>Общая информация по датасетам</a></span></li><li><span><a href=\"#Проверка-правильности-эффективности-обогощения\" data-toc-modified-id=\"Проверка-правильности-эффективности-обогощения-1.2\"><span class=\"toc-item-num\">1.2&nbsp;&nbsp;</span>Проверка правильности эффективности обогощения</a></span></li><li><span><a href=\"#Добавление-целевых-признаков-в-тестовый-датасет\" data-toc-modified-id=\"Добавление-целевых-признаков-в-тестовый-датасет-1.3\"><span class=\"toc-item-num\">1.3&nbsp;&nbsp;</span>Добавление целевых признаков в тестовый датасет</a></span></li><li><span><a href=\"#Заполенение-пропусков\" data-toc-modified-id=\"Заполенение-пропусков-1.4\"><span class=\"toc-item-num\">1.4&nbsp;&nbsp;</span>Заполенение пропусков</a></span></li><li><span><a href=\"#Удаление-признаков-из-тренировочного-датасета.\" data-toc-modified-id=\"Удаление-признаков-из-тренировочного-датасета.-1.5\"><span class=\"toc-item-num\">1.5&nbsp;&nbsp;</span>Удаление признаков из тренировочного датасета.</a></span></li><li><span><a href=\"#Вывод-по-разделу\" data-toc-modified-id=\"Вывод-по-разделу-1.6\"><span class=\"toc-item-num\">1.6&nbsp;&nbsp;</span>Вывод по разделу</a></span></li></ul></li><li><span><a href=\"#Анализ-данных\" data-toc-modified-id=\"Анализ-данных-2\"><span class=\"toc-item-num\">2&nbsp;&nbsp;</span>Анализ данных</a></span><ul class=\"toc-item\"><li><span><a href=\"#Изменение-концентрации-элементов-на-каждом-технологическом-этапе\" data-toc-modified-id=\"Изменение-концентрации-элементов-на-каждом-технологическом-этапе-2.1\"><span class=\"toc-item-num\">2.1&nbsp;&nbsp;</span>Изменение концентрации элементов на каждом технологическом этапе</a></span></li><li><span><a href=\"#Распределения-размеров-гранул-на-обучающей-и-тестовой-выборках\" data-toc-modified-id=\"Распределения-размеров-гранул-на-обучающей-и-тестовой-выборках-2.2\"><span class=\"toc-item-num\">2.2&nbsp;&nbsp;</span>Распределения размеров гранул на обучающей и тестовой выборках</a></span></li><li><span><a href=\"#Суммарные-концентрации\" data-toc-modified-id=\"Суммарные-концентрации-2.3\"><span class=\"toc-item-num\">2.3&nbsp;&nbsp;</span>Суммарные концентрации</a></span></li><li><span><a href=\"#Индексация-данных-по-дате\" data-toc-modified-id=\"Индексация-данных-по-дате-2.4\"><span class=\"toc-item-num\">2.4&nbsp;&nbsp;</span>Индексация данных по дате</a></span></li><li><span><a href=\"#Вывод-по-разделую\" data-toc-modified-id=\"Вывод-по-разделую-2.5\"><span class=\"toc-item-num\">2.5&nbsp;&nbsp;</span>Вывод по разделую</a></span></li></ul></li><li><span><a href=\"#Модель\" data-toc-modified-id=\"Модель-3\"><span class=\"toc-item-num\">3&nbsp;&nbsp;</span>Модель</a></span><ul class=\"toc-item\"><li><span><a href=\"#Вычисление-итоговой-sMAPE\" data-toc-modified-id=\"Вычисление-итоговой-sMAPE-3.1\"><span class=\"toc-item-num\">3.1&nbsp;&nbsp;</span>Вычисление итоговой sMAPE</a></span></li><li><span><a href=\"#Обучение-моделей-машинного-обучения\" data-toc-modified-id=\"Обучение-моделей-машинного-обучения-3.2\"><span class=\"toc-item-num\">3.2&nbsp;&nbsp;</span>Обучение моделей машинного обучения</a></span><ul class=\"toc-item\"><li><span><a href=\"#Подготовка-датасетов-для-обучения-моделей\" data-toc-modified-id=\"Подготовка-датасетов-для-обучения-моделей-3.2.1\"><span class=\"toc-item-num\">3.2.1&nbsp;&nbsp;</span>Подготовка датасетов для обучения моделей</a></span></li><li><span><a href=\"#Масштабирование-данных\" data-toc-modified-id=\"Масштабирование-данных-3.2.2\"><span class=\"toc-item-num\">3.2.2&nbsp;&nbsp;</span>Масштабирование данных</a></span></li><li><span><a href=\"#Обучение-модели-линейной-регресии\" data-toc-modified-id=\"Обучение-модели-линейной-регресии-3.2.3\"><span class=\"toc-item-num\">3.2.3&nbsp;&nbsp;</span>Обучение модели линейной регресии</a></span></li><li><span><a href=\"#Обучение-модели-дерево-решений\" data-toc-modified-id=\"Обучение-модели-дерево-решений-3.2.4\"><span class=\"toc-item-num\">3.2.4&nbsp;&nbsp;</span>Обучение модели дерево решений</a></span></li><li><span><a href=\"#Обучение-модели-случайный-лес\" data-toc-modified-id=\"Обучение-модели-случайный-лес-3.2.5\"><span class=\"toc-item-num\">3.2.5&nbsp;&nbsp;</span>Обучение модели случайный лес</a></span></li></ul></li><li><span><a href=\"#Проверка-лучшей-модели-на-тестовой-выборке\" data-toc-modified-id=\"Проверка-лучшей-модели-на-тестовой-выборке-3.3\"><span class=\"toc-item-num\">3.3&nbsp;&nbsp;</span>Проверка лучшей модели на тестовой выборке</a></span></li><li><span><a href=\"#Проверка-адекватности-работы-модели\" data-toc-modified-id=\"Проверка-адекватности-работы-модели-3.4\"><span class=\"toc-item-num\">3.4&nbsp;&nbsp;</span>Проверка адекватности работы модели</a></span></li></ul></li><li><span><a href=\"#Вывод\" data-toc-modified-id=\"Вывод-4\"><span class=\"toc-item-num\">4&nbsp;&nbsp;</span>Вывод</a></span></li><li><span><a href=\"#Чек-лист-готовности-проекта\" data-toc-modified-id=\"Чек-лист-готовности-проекта-5\"><span class=\"toc-item-num\">5&nbsp;&nbsp;</span>Чек-лист готовности проекта</a></span></li></ul></div>"
   ]
  },
  {
   "cell_type": "markdown",
   "metadata": {},
   "source": [
    "# Восстановление золота из руды"
   ]
  },
  {
   "cell_type": "markdown",
   "metadata": {},
   "source": [
    "Подготовьте прототип модели машинного обучения для «Цифры». Компания разрабатывает решения для эффективной работы промышленных предприятий.\n",
    "\n",
    "Модель должна предсказать коэффициент восстановления золота из золотосодержащей руды. Используйте данные с параметрами добычи и очистки. \n",
    "\n",
    "Модель поможет оптимизировать производство, чтобы не запускать предприятие с убыточными характеристиками.\n",
    "\n",
    "Вам нужно:\n",
    "\n",
    "1. Подготовить данные;\n",
    "2. Провести исследовательский анализ данных;\n",
    "3. Построить и обучить модель.\n",
    "\n",
    "Чтобы выполнить проект, обращайтесь к библиотекам *pandas*, *matplotlib* и *sklearn.* Вам поможет их документация."
   ]
  },
  {
   "cell_type": "code",
   "execution_count": 1,
   "metadata": {},
   "outputs": [],
   "source": [
    "import pandas as pd\n",
    "import seaborn as sns\n",
    "import matplotlib.pyplot as plt\n",
    "import numpy as np\n",
    "\n",
    "from sklearn.model_selection import GridSearchCV, cross_val_score\n",
    "from sklearn.preprocessing import StandardScaler\n",
    "from sklearn.linear_model import LinearRegression\n",
    "from sklearn.tree import DecisionTreeRegressor\n",
    "from sklearn.ensemble import RandomForestRegressor\n",
    "from sklearn.metrics import mean_absolute_error, make_scorer\n",
    "from sklearn.dummy import DummyRegressor"
   ]
  },
  {
   "cell_type": "code",
   "execution_count": 2,
   "metadata": {},
   "outputs": [],
   "source": [
    "RANDOM_STATE = 123"
   ]
  },
  {
   "cell_type": "markdown",
   "metadata": {},
   "source": [
    "## Подготовка данных"
   ]
  },
  {
   "cell_type": "markdown",
   "metadata": {},
   "source": [
    "В ходе раздела планируется провести следующие работы с данными:\n",
    "1. Загрузка и сохранение датасетов в переменные.\n",
    "2. Знакомство с общей информацией по датасету.\n",
    "3. Поиск и устранение дубликатов и пропусков.\n",
    "4. Проверка правильности расчетов `recovery`\n",
    "5. Удаление и добавление признаков из датасетов (при необходимости)."
   ]
  },
  {
   "cell_type": "code",
   "execution_count": 3,
   "metadata": {},
   "outputs": [],
   "source": [
    "# Загрузим данные и сохраним их в переменные\n",
    "try:\n",
    "    data_train = pd.read_csv('/datasets/gold_recovery_train_new.csv')\n",
    "    data_test = pd.read_csv('/datasets/gold_recovery_test_new.csv')\n",
    "    data_full = pd.read_csv('/datasets/gold_recovery_full_new.csv')\n",
    "except:\n",
    "    data_train = pd.read_csv('gold_recovery_train_new.csv')\n",
    "    data_test = pd.read_csv('gold_recovery_test_new.csv')\n",
    "    data_full = pd.read_csv('gold_recovery_full_new.csv')"
   ]
  },
  {
   "cell_type": "code",
   "execution_count": 4,
   "metadata": {},
   "outputs": [
    {
     "data": {
      "text/html": [
       "<div>\n",
       "<style scoped>\n",
       "    .dataframe tbody tr th:only-of-type {\n",
       "        vertical-align: middle;\n",
       "    }\n",
       "\n",
       "    .dataframe tbody tr th {\n",
       "        vertical-align: top;\n",
       "    }\n",
       "\n",
       "    .dataframe thead th {\n",
       "        text-align: right;\n",
       "    }\n",
       "</style>\n",
       "<table border=\"1\" class=\"dataframe\">\n",
       "  <thead>\n",
       "    <tr style=\"text-align: right;\">\n",
       "      <th></th>\n",
       "      <th>date</th>\n",
       "      <th>final.output.concentrate_ag</th>\n",
       "      <th>final.output.concentrate_pb</th>\n",
       "      <th>final.output.concentrate_sol</th>\n",
       "      <th>final.output.concentrate_au</th>\n",
       "      <th>final.output.recovery</th>\n",
       "      <th>final.output.tail_ag</th>\n",
       "      <th>final.output.tail_pb</th>\n",
       "      <th>final.output.tail_sol</th>\n",
       "      <th>final.output.tail_au</th>\n",
       "      <th>primary_cleaner.input.sulfate</th>\n",
       "      <th>primary_cleaner.input.depressant</th>\n",
       "      <th>primary_cleaner.input.feed_size</th>\n",
       "      <th>primary_cleaner.input.xanthate</th>\n",
       "      <th>primary_cleaner.output.concentrate_ag</th>\n",
       "      <th>primary_cleaner.output.concentrate_pb</th>\n",
       "      <th>primary_cleaner.output.concentrate_sol</th>\n",
       "      <th>primary_cleaner.output.concentrate_au</th>\n",
       "      <th>primary_cleaner.output.tail_ag</th>\n",
       "      <th>primary_cleaner.output.tail_pb</th>\n",
       "      <th>primary_cleaner.output.tail_sol</th>\n",
       "      <th>primary_cleaner.output.tail_au</th>\n",
       "      <th>primary_cleaner.state.floatbank8_a_air</th>\n",
       "      <th>primary_cleaner.state.floatbank8_a_level</th>\n",
       "      <th>primary_cleaner.state.floatbank8_b_air</th>\n",
       "      <th>primary_cleaner.state.floatbank8_b_level</th>\n",
       "      <th>primary_cleaner.state.floatbank8_c_air</th>\n",
       "      <th>primary_cleaner.state.floatbank8_c_level</th>\n",
       "      <th>primary_cleaner.state.floatbank8_d_air</th>\n",
       "      <th>primary_cleaner.state.floatbank8_d_level</th>\n",
       "      <th>rougher.calculation.sulfate_to_au_concentrate</th>\n",
       "      <th>rougher.calculation.floatbank10_sulfate_to_au_feed</th>\n",
       "      <th>rougher.calculation.floatbank11_sulfate_to_au_feed</th>\n",
       "      <th>rougher.calculation.au_pb_ratio</th>\n",
       "      <th>rougher.input.feed_ag</th>\n",
       "      <th>rougher.input.feed_pb</th>\n",
       "      <th>rougher.input.feed_rate</th>\n",
       "      <th>rougher.input.feed_size</th>\n",
       "      <th>rougher.input.feed_sol</th>\n",
       "      <th>rougher.input.feed_au</th>\n",
       "      <th>rougher.input.floatbank10_sulfate</th>\n",
       "      <th>rougher.input.floatbank10_xanthate</th>\n",
       "      <th>rougher.input.floatbank11_sulfate</th>\n",
       "      <th>rougher.input.floatbank11_xanthate</th>\n",
       "      <th>rougher.output.concentrate_ag</th>\n",
       "      <th>rougher.output.concentrate_pb</th>\n",
       "      <th>rougher.output.concentrate_sol</th>\n",
       "      <th>rougher.output.concentrate_au</th>\n",
       "      <th>rougher.output.recovery</th>\n",
       "      <th>rougher.output.tail_ag</th>\n",
       "      <th>rougher.output.tail_pb</th>\n",
       "      <th>rougher.output.tail_sol</th>\n",
       "      <th>rougher.output.tail_au</th>\n",
       "      <th>rougher.state.floatbank10_a_air</th>\n",
       "      <th>rougher.state.floatbank10_a_level</th>\n",
       "      <th>rougher.state.floatbank10_b_air</th>\n",
       "      <th>rougher.state.floatbank10_b_level</th>\n",
       "      <th>rougher.state.floatbank10_c_air</th>\n",
       "      <th>rougher.state.floatbank10_c_level</th>\n",
       "      <th>rougher.state.floatbank10_d_air</th>\n",
       "      <th>rougher.state.floatbank10_d_level</th>\n",
       "      <th>rougher.state.floatbank10_e_air</th>\n",
       "      <th>rougher.state.floatbank10_e_level</th>\n",
       "      <th>rougher.state.floatbank10_f_air</th>\n",
       "      <th>rougher.state.floatbank10_f_level</th>\n",
       "      <th>secondary_cleaner.output.tail_ag</th>\n",
       "      <th>secondary_cleaner.output.tail_pb</th>\n",
       "      <th>secondary_cleaner.output.tail_sol</th>\n",
       "      <th>secondary_cleaner.output.tail_au</th>\n",
       "      <th>secondary_cleaner.state.floatbank2_a_air</th>\n",
       "      <th>secondary_cleaner.state.floatbank2_a_level</th>\n",
       "      <th>secondary_cleaner.state.floatbank2_b_air</th>\n",
       "      <th>secondary_cleaner.state.floatbank2_b_level</th>\n",
       "      <th>secondary_cleaner.state.floatbank3_a_air</th>\n",
       "      <th>secondary_cleaner.state.floatbank3_a_level</th>\n",
       "      <th>secondary_cleaner.state.floatbank3_b_air</th>\n",
       "      <th>secondary_cleaner.state.floatbank3_b_level</th>\n",
       "      <th>secondary_cleaner.state.floatbank4_a_air</th>\n",
       "      <th>secondary_cleaner.state.floatbank4_a_level</th>\n",
       "      <th>secondary_cleaner.state.floatbank4_b_air</th>\n",
       "      <th>secondary_cleaner.state.floatbank4_b_level</th>\n",
       "      <th>secondary_cleaner.state.floatbank5_a_air</th>\n",
       "      <th>secondary_cleaner.state.floatbank5_a_level</th>\n",
       "      <th>secondary_cleaner.state.floatbank5_b_air</th>\n",
       "      <th>secondary_cleaner.state.floatbank5_b_level</th>\n",
       "      <th>secondary_cleaner.state.floatbank6_a_air</th>\n",
       "      <th>secondary_cleaner.state.floatbank6_a_level</th>\n",
       "    </tr>\n",
       "  </thead>\n",
       "  <tbody>\n",
       "    <tr>\n",
       "      <th>0</th>\n",
       "      <td>2016-01-15 00:00:00</td>\n",
       "      <td>6.055403</td>\n",
       "      <td>9.889648</td>\n",
       "      <td>5.507324</td>\n",
       "      <td>42.192020</td>\n",
       "      <td>70.541216</td>\n",
       "      <td>10.411962</td>\n",
       "      <td>0.895447</td>\n",
       "      <td>16.904297</td>\n",
       "      <td>2.143149</td>\n",
       "      <td>127.092003</td>\n",
       "      <td>10.128295</td>\n",
       "      <td>7.25</td>\n",
       "      <td>0.988759</td>\n",
       "      <td>8.547551</td>\n",
       "      <td>10.389648</td>\n",
       "      <td>19.529297</td>\n",
       "      <td>34.174427</td>\n",
       "      <td>14.936526</td>\n",
       "      <td>2.534912</td>\n",
       "      <td>7.476074</td>\n",
       "      <td>2.106679</td>\n",
       "      <td>1549.775757</td>\n",
       "      <td>-498.912140</td>\n",
       "      <td>1551.434204</td>\n",
       "      <td>-516.403442</td>\n",
       "      <td>1549.873901</td>\n",
       "      <td>-498.666595</td>\n",
       "      <td>1554.367432</td>\n",
       "      <td>-493.428131</td>\n",
       "      <td>41885.707031</td>\n",
       "      <td>3481.779053</td>\n",
       "      <td>3520.337158</td>\n",
       "      <td>2.838687</td>\n",
       "      <td>6.100378</td>\n",
       "      <td>2.284912</td>\n",
       "      <td>523.546326</td>\n",
       "      <td>55.486599</td>\n",
       "      <td>36.808594</td>\n",
       "      <td>6.486150</td>\n",
       "      <td>11.986616</td>\n",
       "      <td>6.007990</td>\n",
       "      <td>11.836743</td>\n",
       "      <td>6.005818</td>\n",
       "      <td>11.500771</td>\n",
       "      <td>7.101074</td>\n",
       "      <td>28.029297</td>\n",
       "      <td>19.793808</td>\n",
       "      <td>87.107763</td>\n",
       "      <td>5.008018</td>\n",
       "      <td>0.508728</td>\n",
       "      <td>19.154297</td>\n",
       "      <td>1.170244</td>\n",
       "      <td>999.706909</td>\n",
       "      <td>-404.066986</td>\n",
       "      <td>1603.011353</td>\n",
       "      <td>-434.715027</td>\n",
       "      <td>1602.375000</td>\n",
       "      <td>-442.204468</td>\n",
       "      <td>1598.937256</td>\n",
       "      <td>-451.294128</td>\n",
       "      <td>1404.472046</td>\n",
       "      <td>-455.462982</td>\n",
       "      <td>1416.354980</td>\n",
       "      <td>-451.939636</td>\n",
       "      <td>14.500184</td>\n",
       "      <td>4.694824</td>\n",
       "      <td>8.764648</td>\n",
       "      <td>2.606185</td>\n",
       "      <td>25.853109</td>\n",
       "      <td>-498.526489</td>\n",
       "      <td>23.893660</td>\n",
       "      <td>-501.406281</td>\n",
       "      <td>23.961798</td>\n",
       "      <td>-495.262817</td>\n",
       "      <td>21.940409</td>\n",
       "      <td>-499.340973</td>\n",
       "      <td>14.016835</td>\n",
       "      <td>-502.488007</td>\n",
       "      <td>12.099931</td>\n",
       "      <td>-504.715942</td>\n",
       "      <td>9.925633</td>\n",
       "      <td>-498.310211</td>\n",
       "      <td>8.079666</td>\n",
       "      <td>-500.470978</td>\n",
       "      <td>14.151341</td>\n",
       "      <td>-605.841980</td>\n",
       "    </tr>\n",
       "    <tr>\n",
       "      <th>1</th>\n",
       "      <td>2016-01-15 01:00:00</td>\n",
       "      <td>6.029369</td>\n",
       "      <td>9.968944</td>\n",
       "      <td>5.257781</td>\n",
       "      <td>42.701629</td>\n",
       "      <td>69.266198</td>\n",
       "      <td>10.462676</td>\n",
       "      <td>0.927452</td>\n",
       "      <td>16.634514</td>\n",
       "      <td>2.224930</td>\n",
       "      <td>125.629232</td>\n",
       "      <td>10.296251</td>\n",
       "      <td>7.25</td>\n",
       "      <td>1.002663</td>\n",
       "      <td>8.558743</td>\n",
       "      <td>10.497069</td>\n",
       "      <td>19.369147</td>\n",
       "      <td>34.118526</td>\n",
       "      <td>16.250511</td>\n",
       "      <td>3.049646</td>\n",
       "      <td>6.733907</td>\n",
       "      <td>2.353017</td>\n",
       "      <td>1576.166671</td>\n",
       "      <td>-500.904965</td>\n",
       "      <td>1575.950626</td>\n",
       "      <td>-499.865889</td>\n",
       "      <td>1575.994189</td>\n",
       "      <td>-499.315107</td>\n",
       "      <td>1574.479259</td>\n",
       "      <td>-498.931665</td>\n",
       "      <td>42050.861809</td>\n",
       "      <td>3498.370979</td>\n",
       "      <td>3489.981857</td>\n",
       "      <td>2.858998</td>\n",
       "      <td>6.161113</td>\n",
       "      <td>2.266033</td>\n",
       "      <td>525.290581</td>\n",
       "      <td>57.278666</td>\n",
       "      <td>35.753385</td>\n",
       "      <td>6.478583</td>\n",
       "      <td>11.971193</td>\n",
       "      <td>6.005766</td>\n",
       "      <td>11.996163</td>\n",
       "      <td>6.012594</td>\n",
       "      <td>11.615865</td>\n",
       "      <td>7.278807</td>\n",
       "      <td>28.067063</td>\n",
       "      <td>20.050975</td>\n",
       "      <td>86.843261</td>\n",
       "      <td>4.955378</td>\n",
       "      <td>0.536689</td>\n",
       "      <td>18.965234</td>\n",
       "      <td>1.184827</td>\n",
       "      <td>1000.286398</td>\n",
       "      <td>-400.065196</td>\n",
       "      <td>1600.754587</td>\n",
       "      <td>-449.953435</td>\n",
       "      <td>1600.479580</td>\n",
       "      <td>-449.830646</td>\n",
       "      <td>1600.527589</td>\n",
       "      <td>-449.953649</td>\n",
       "      <td>1399.227084</td>\n",
       "      <td>-450.869848</td>\n",
       "      <td>1399.719514</td>\n",
       "      <td>-450.119001</td>\n",
       "      <td>14.265474</td>\n",
       "      <td>4.592547</td>\n",
       "      <td>9.001494</td>\n",
       "      <td>2.488248</td>\n",
       "      <td>25.880539</td>\n",
       "      <td>-499.989656</td>\n",
       "      <td>23.889530</td>\n",
       "      <td>-500.372428</td>\n",
       "      <td>23.970550</td>\n",
       "      <td>-500.085473</td>\n",
       "      <td>22.085714</td>\n",
       "      <td>-499.446897</td>\n",
       "      <td>13.992281</td>\n",
       "      <td>-505.503262</td>\n",
       "      <td>11.950531</td>\n",
       "      <td>-501.331529</td>\n",
       "      <td>10.039245</td>\n",
       "      <td>-500.169983</td>\n",
       "      <td>7.984757</td>\n",
       "      <td>-500.582168</td>\n",
       "      <td>13.998353</td>\n",
       "      <td>-599.787184</td>\n",
       "    </tr>\n",
       "    <tr>\n",
       "      <th>2</th>\n",
       "      <td>2016-01-15 02:00:00</td>\n",
       "      <td>6.055926</td>\n",
       "      <td>10.213995</td>\n",
       "      <td>5.383759</td>\n",
       "      <td>42.657501</td>\n",
       "      <td>68.116445</td>\n",
       "      <td>10.507046</td>\n",
       "      <td>0.953716</td>\n",
       "      <td>16.208849</td>\n",
       "      <td>2.257889</td>\n",
       "      <td>123.819808</td>\n",
       "      <td>11.316280</td>\n",
       "      <td>7.25</td>\n",
       "      <td>0.991265</td>\n",
       "      <td>8.603505</td>\n",
       "      <td>10.354494</td>\n",
       "      <td>19.167579</td>\n",
       "      <td>33.969464</td>\n",
       "      <td>16.491823</td>\n",
       "      <td>3.124664</td>\n",
       "      <td>6.471768</td>\n",
       "      <td>2.416800</td>\n",
       "      <td>1601.556163</td>\n",
       "      <td>-499.997791</td>\n",
       "      <td>1600.386685</td>\n",
       "      <td>-500.607762</td>\n",
       "      <td>1602.003542</td>\n",
       "      <td>-500.870069</td>\n",
       "      <td>1599.541515</td>\n",
       "      <td>-499.827444</td>\n",
       "      <td>42018.101184</td>\n",
       "      <td>3495.348910</td>\n",
       "      <td>3502.359819</td>\n",
       "      <td>2.945989</td>\n",
       "      <td>6.116455</td>\n",
       "      <td>2.159622</td>\n",
       "      <td>530.026610</td>\n",
       "      <td>57.510649</td>\n",
       "      <td>35.971630</td>\n",
       "      <td>6.362222</td>\n",
       "      <td>11.920603</td>\n",
       "      <td>6.197377</td>\n",
       "      <td>11.920305</td>\n",
       "      <td>6.204633</td>\n",
       "      <td>11.695753</td>\n",
       "      <td>7.216833</td>\n",
       "      <td>27.454037</td>\n",
       "      <td>19.737170</td>\n",
       "      <td>86.842308</td>\n",
       "      <td>4.843460</td>\n",
       "      <td>0.546416</td>\n",
       "      <td>18.808533</td>\n",
       "      <td>1.162562</td>\n",
       "      <td>999.719565</td>\n",
       "      <td>-400.074028</td>\n",
       "      <td>1599.337330</td>\n",
       "      <td>-450.008530</td>\n",
       "      <td>1599.672797</td>\n",
       "      <td>-449.954491</td>\n",
       "      <td>1599.849325</td>\n",
       "      <td>-449.954185</td>\n",
       "      <td>1399.180945</td>\n",
       "      <td>-449.937588</td>\n",
       "      <td>1400.316682</td>\n",
       "      <td>-450.527147</td>\n",
       "      <td>14.115662</td>\n",
       "      <td>4.624775</td>\n",
       "      <td>8.842896</td>\n",
       "      <td>2.458187</td>\n",
       "      <td>26.005245</td>\n",
       "      <td>-499.929616</td>\n",
       "      <td>23.886657</td>\n",
       "      <td>-499.951928</td>\n",
       "      <td>23.913535</td>\n",
       "      <td>-499.442343</td>\n",
       "      <td>23.957717</td>\n",
       "      <td>-499.901982</td>\n",
       "      <td>14.015015</td>\n",
       "      <td>-502.520901</td>\n",
       "      <td>11.912783</td>\n",
       "      <td>-501.133383</td>\n",
       "      <td>10.070913</td>\n",
       "      <td>-500.129135</td>\n",
       "      <td>8.013877</td>\n",
       "      <td>-500.517572</td>\n",
       "      <td>14.028663</td>\n",
       "      <td>-601.427363</td>\n",
       "    </tr>\n",
       "    <tr>\n",
       "      <th>3</th>\n",
       "      <td>2016-01-15 03:00:00</td>\n",
       "      <td>6.047977</td>\n",
       "      <td>9.977019</td>\n",
       "      <td>4.858634</td>\n",
       "      <td>42.689819</td>\n",
       "      <td>68.347543</td>\n",
       "      <td>10.422762</td>\n",
       "      <td>0.883763</td>\n",
       "      <td>16.532835</td>\n",
       "      <td>2.146849</td>\n",
       "      <td>122.270188</td>\n",
       "      <td>11.322140</td>\n",
       "      <td>7.25</td>\n",
       "      <td>0.996739</td>\n",
       "      <td>7.221879</td>\n",
       "      <td>8.496563</td>\n",
       "      <td>15.978538</td>\n",
       "      <td>28.260743</td>\n",
       "      <td>16.024359</td>\n",
       "      <td>2.960362</td>\n",
       "      <td>6.843791</td>\n",
       "      <td>2.262051</td>\n",
       "      <td>1599.968720</td>\n",
       "      <td>-500.951778</td>\n",
       "      <td>1600.659236</td>\n",
       "      <td>-499.677094</td>\n",
       "      <td>1600.304144</td>\n",
       "      <td>-500.727997</td>\n",
       "      <td>1600.449520</td>\n",
       "      <td>-500.052575</td>\n",
       "      <td>42029.447991</td>\n",
       "      <td>3498.578313</td>\n",
       "      <td>3499.162912</td>\n",
       "      <td>3.002340</td>\n",
       "      <td>6.043309</td>\n",
       "      <td>2.037807</td>\n",
       "      <td>542.590390</td>\n",
       "      <td>57.792734</td>\n",
       "      <td>36.862241</td>\n",
       "      <td>6.118189</td>\n",
       "      <td>11.630094</td>\n",
       "      <td>6.203177</td>\n",
       "      <td>11.692450</td>\n",
       "      <td>6.196578</td>\n",
       "      <td>11.915047</td>\n",
       "      <td>7.175616</td>\n",
       "      <td>27.341277</td>\n",
       "      <td>19.320810</td>\n",
       "      <td>87.226430</td>\n",
       "      <td>4.655288</td>\n",
       "      <td>0.542525</td>\n",
       "      <td>19.330200</td>\n",
       "      <td>1.079755</td>\n",
       "      <td>999.814770</td>\n",
       "      <td>-400.200179</td>\n",
       "      <td>1600.059442</td>\n",
       "      <td>-450.619948</td>\n",
       "      <td>1600.012842</td>\n",
       "      <td>-449.910497</td>\n",
       "      <td>1597.725177</td>\n",
       "      <td>-450.130127</td>\n",
       "      <td>1400.943157</td>\n",
       "      <td>-450.030142</td>\n",
       "      <td>1400.234743</td>\n",
       "      <td>-449.790835</td>\n",
       "      <td>13.732071</td>\n",
       "      <td>4.482453</td>\n",
       "      <td>9.122857</td>\n",
       "      <td>2.322062</td>\n",
       "      <td>25.942508</td>\n",
       "      <td>-499.176749</td>\n",
       "      <td>23.955516</td>\n",
       "      <td>-499.848796</td>\n",
       "      <td>23.966838</td>\n",
       "      <td>-500.008812</td>\n",
       "      <td>23.954443</td>\n",
       "      <td>-499.944710</td>\n",
       "      <td>14.036510</td>\n",
       "      <td>-500.857308</td>\n",
       "      <td>11.999550</td>\n",
       "      <td>-501.193686</td>\n",
       "      <td>9.970366</td>\n",
       "      <td>-499.201640</td>\n",
       "      <td>7.977324</td>\n",
       "      <td>-500.255908</td>\n",
       "      <td>14.005551</td>\n",
       "      <td>-599.996129</td>\n",
       "    </tr>\n",
       "    <tr>\n",
       "      <th>4</th>\n",
       "      <td>2016-01-15 04:00:00</td>\n",
       "      <td>6.148599</td>\n",
       "      <td>10.142511</td>\n",
       "      <td>4.939416</td>\n",
       "      <td>42.774141</td>\n",
       "      <td>66.927016</td>\n",
       "      <td>10.360302</td>\n",
       "      <td>0.792826</td>\n",
       "      <td>16.525686</td>\n",
       "      <td>2.055292</td>\n",
       "      <td>117.988169</td>\n",
       "      <td>11.913613</td>\n",
       "      <td>7.25</td>\n",
       "      <td>1.009869</td>\n",
       "      <td>9.089428</td>\n",
       "      <td>9.986786</td>\n",
       "      <td>19.199864</td>\n",
       "      <td>33.044932</td>\n",
       "      <td>16.480185</td>\n",
       "      <td>3.112100</td>\n",
       "      <td>6.550154</td>\n",
       "      <td>2.277073</td>\n",
       "      <td>1601.339707</td>\n",
       "      <td>-498.975456</td>\n",
       "      <td>1601.437854</td>\n",
       "      <td>-500.323246</td>\n",
       "      <td>1599.581894</td>\n",
       "      <td>-500.888152</td>\n",
       "      <td>1602.649541</td>\n",
       "      <td>-500.593010</td>\n",
       "      <td>42125.354245</td>\n",
       "      <td>3494.800771</td>\n",
       "      <td>3506.679315</td>\n",
       "      <td>3.169615</td>\n",
       "      <td>6.060915</td>\n",
       "      <td>1.786875</td>\n",
       "      <td>540.531893</td>\n",
       "      <td>56.047189</td>\n",
       "      <td>34.347666</td>\n",
       "      <td>5.663707</td>\n",
       "      <td>10.957755</td>\n",
       "      <td>6.198826</td>\n",
       "      <td>10.960521</td>\n",
       "      <td>6.194897</td>\n",
       "      <td>12.411054</td>\n",
       "      <td>7.240205</td>\n",
       "      <td>27.041023</td>\n",
       "      <td>19.216101</td>\n",
       "      <td>86.688794</td>\n",
       "      <td>4.552800</td>\n",
       "      <td>0.515438</td>\n",
       "      <td>19.267422</td>\n",
       "      <td>1.012642</td>\n",
       "      <td>999.678690</td>\n",
       "      <td>-399.752729</td>\n",
       "      <td>1600.208824</td>\n",
       "      <td>-449.599614</td>\n",
       "      <td>1600.357732</td>\n",
       "      <td>-450.034364</td>\n",
       "      <td>1599.759049</td>\n",
       "      <td>-449.909799</td>\n",
       "      <td>1401.560902</td>\n",
       "      <td>-448.877187</td>\n",
       "      <td>1401.160227</td>\n",
       "      <td>-450.407128</td>\n",
       "      <td>14.079996</td>\n",
       "      <td>4.470737</td>\n",
       "      <td>8.871028</td>\n",
       "      <td>2.330448</td>\n",
       "      <td>26.024787</td>\n",
       "      <td>-500.279091</td>\n",
       "      <td>23.955345</td>\n",
       "      <td>-500.593614</td>\n",
       "      <td>23.985703</td>\n",
       "      <td>-500.083811</td>\n",
       "      <td>23.958945</td>\n",
       "      <td>-499.990309</td>\n",
       "      <td>14.027298</td>\n",
       "      <td>-499.838632</td>\n",
       "      <td>11.953070</td>\n",
       "      <td>-501.053894</td>\n",
       "      <td>9.925709</td>\n",
       "      <td>-501.686727</td>\n",
       "      <td>7.894242</td>\n",
       "      <td>-500.356035</td>\n",
       "      <td>13.996647</td>\n",
       "      <td>-601.496691</td>\n",
       "    </tr>\n",
       "  </tbody>\n",
       "</table>\n",
       "</div>"
      ],
      "text/plain": [
       "                  date  final.output.concentrate_ag  \\\n",
       "0  2016-01-15 00:00:00                     6.055403   \n",
       "1  2016-01-15 01:00:00                     6.029369   \n",
       "2  2016-01-15 02:00:00                     6.055926   \n",
       "3  2016-01-15 03:00:00                     6.047977   \n",
       "4  2016-01-15 04:00:00                     6.148599   \n",
       "\n",
       "   final.output.concentrate_pb  final.output.concentrate_sol  \\\n",
       "0                     9.889648                      5.507324   \n",
       "1                     9.968944                      5.257781   \n",
       "2                    10.213995                      5.383759   \n",
       "3                     9.977019                      4.858634   \n",
       "4                    10.142511                      4.939416   \n",
       "\n",
       "   final.output.concentrate_au  final.output.recovery  final.output.tail_ag  \\\n",
       "0                    42.192020              70.541216             10.411962   \n",
       "1                    42.701629              69.266198             10.462676   \n",
       "2                    42.657501              68.116445             10.507046   \n",
       "3                    42.689819              68.347543             10.422762   \n",
       "4                    42.774141              66.927016             10.360302   \n",
       "\n",
       "   final.output.tail_pb  final.output.tail_sol  final.output.tail_au  \\\n",
       "0              0.895447              16.904297              2.143149   \n",
       "1              0.927452              16.634514              2.224930   \n",
       "2              0.953716              16.208849              2.257889   \n",
       "3              0.883763              16.532835              2.146849   \n",
       "4              0.792826              16.525686              2.055292   \n",
       "\n",
       "   primary_cleaner.input.sulfate  primary_cleaner.input.depressant  \\\n",
       "0                     127.092003                         10.128295   \n",
       "1                     125.629232                         10.296251   \n",
       "2                     123.819808                         11.316280   \n",
       "3                     122.270188                         11.322140   \n",
       "4                     117.988169                         11.913613   \n",
       "\n",
       "   primary_cleaner.input.feed_size  primary_cleaner.input.xanthate  \\\n",
       "0                             7.25                        0.988759   \n",
       "1                             7.25                        1.002663   \n",
       "2                             7.25                        0.991265   \n",
       "3                             7.25                        0.996739   \n",
       "4                             7.25                        1.009869   \n",
       "\n",
       "   primary_cleaner.output.concentrate_ag  \\\n",
       "0                               8.547551   \n",
       "1                               8.558743   \n",
       "2                               8.603505   \n",
       "3                               7.221879   \n",
       "4                               9.089428   \n",
       "\n",
       "   primary_cleaner.output.concentrate_pb  \\\n",
       "0                              10.389648   \n",
       "1                              10.497069   \n",
       "2                              10.354494   \n",
       "3                               8.496563   \n",
       "4                               9.986786   \n",
       "\n",
       "   primary_cleaner.output.concentrate_sol  \\\n",
       "0                               19.529297   \n",
       "1                               19.369147   \n",
       "2                               19.167579   \n",
       "3                               15.978538   \n",
       "4                               19.199864   \n",
       "\n",
       "   primary_cleaner.output.concentrate_au  primary_cleaner.output.tail_ag  \\\n",
       "0                              34.174427                       14.936526   \n",
       "1                              34.118526                       16.250511   \n",
       "2                              33.969464                       16.491823   \n",
       "3                              28.260743                       16.024359   \n",
       "4                              33.044932                       16.480185   \n",
       "\n",
       "   primary_cleaner.output.tail_pb  primary_cleaner.output.tail_sol  \\\n",
       "0                        2.534912                         7.476074   \n",
       "1                        3.049646                         6.733907   \n",
       "2                        3.124664                         6.471768   \n",
       "3                        2.960362                         6.843791   \n",
       "4                        3.112100                         6.550154   \n",
       "\n",
       "   primary_cleaner.output.tail_au  primary_cleaner.state.floatbank8_a_air  \\\n",
       "0                        2.106679                             1549.775757   \n",
       "1                        2.353017                             1576.166671   \n",
       "2                        2.416800                             1601.556163   \n",
       "3                        2.262051                             1599.968720   \n",
       "4                        2.277073                             1601.339707   \n",
       "\n",
       "   primary_cleaner.state.floatbank8_a_level  \\\n",
       "0                               -498.912140   \n",
       "1                               -500.904965   \n",
       "2                               -499.997791   \n",
       "3                               -500.951778   \n",
       "4                               -498.975456   \n",
       "\n",
       "   primary_cleaner.state.floatbank8_b_air  \\\n",
       "0                             1551.434204   \n",
       "1                             1575.950626   \n",
       "2                             1600.386685   \n",
       "3                             1600.659236   \n",
       "4                             1601.437854   \n",
       "\n",
       "   primary_cleaner.state.floatbank8_b_level  \\\n",
       "0                               -516.403442   \n",
       "1                               -499.865889   \n",
       "2                               -500.607762   \n",
       "3                               -499.677094   \n",
       "4                               -500.323246   \n",
       "\n",
       "   primary_cleaner.state.floatbank8_c_air  \\\n",
       "0                             1549.873901   \n",
       "1                             1575.994189   \n",
       "2                             1602.003542   \n",
       "3                             1600.304144   \n",
       "4                             1599.581894   \n",
       "\n",
       "   primary_cleaner.state.floatbank8_c_level  \\\n",
       "0                               -498.666595   \n",
       "1                               -499.315107   \n",
       "2                               -500.870069   \n",
       "3                               -500.727997   \n",
       "4                               -500.888152   \n",
       "\n",
       "   primary_cleaner.state.floatbank8_d_air  \\\n",
       "0                             1554.367432   \n",
       "1                             1574.479259   \n",
       "2                             1599.541515   \n",
       "3                             1600.449520   \n",
       "4                             1602.649541   \n",
       "\n",
       "   primary_cleaner.state.floatbank8_d_level  \\\n",
       "0                               -493.428131   \n",
       "1                               -498.931665   \n",
       "2                               -499.827444   \n",
       "3                               -500.052575   \n",
       "4                               -500.593010   \n",
       "\n",
       "   rougher.calculation.sulfate_to_au_concentrate  \\\n",
       "0                                   41885.707031   \n",
       "1                                   42050.861809   \n",
       "2                                   42018.101184   \n",
       "3                                   42029.447991   \n",
       "4                                   42125.354245   \n",
       "\n",
       "   rougher.calculation.floatbank10_sulfate_to_au_feed  \\\n",
       "0                                        3481.779053    \n",
       "1                                        3498.370979    \n",
       "2                                        3495.348910    \n",
       "3                                        3498.578313    \n",
       "4                                        3494.800771    \n",
       "\n",
       "   rougher.calculation.floatbank11_sulfate_to_au_feed  \\\n",
       "0                                        3520.337158    \n",
       "1                                        3489.981857    \n",
       "2                                        3502.359819    \n",
       "3                                        3499.162912    \n",
       "4                                        3506.679315    \n",
       "\n",
       "   rougher.calculation.au_pb_ratio  rougher.input.feed_ag  \\\n",
       "0                         2.838687               6.100378   \n",
       "1                         2.858998               6.161113   \n",
       "2                         2.945989               6.116455   \n",
       "3                         3.002340               6.043309   \n",
       "4                         3.169615               6.060915   \n",
       "\n",
       "   rougher.input.feed_pb  rougher.input.feed_rate  rougher.input.feed_size  \\\n",
       "0               2.284912               523.546326                55.486599   \n",
       "1               2.266033               525.290581                57.278666   \n",
       "2               2.159622               530.026610                57.510649   \n",
       "3               2.037807               542.590390                57.792734   \n",
       "4               1.786875               540.531893                56.047189   \n",
       "\n",
       "   rougher.input.feed_sol  rougher.input.feed_au  \\\n",
       "0               36.808594               6.486150   \n",
       "1               35.753385               6.478583   \n",
       "2               35.971630               6.362222   \n",
       "3               36.862241               6.118189   \n",
       "4               34.347666               5.663707   \n",
       "\n",
       "   rougher.input.floatbank10_sulfate  rougher.input.floatbank10_xanthate  \\\n",
       "0                          11.986616                            6.007990   \n",
       "1                          11.971193                            6.005766   \n",
       "2                          11.920603                            6.197377   \n",
       "3                          11.630094                            6.203177   \n",
       "4                          10.957755                            6.198826   \n",
       "\n",
       "   rougher.input.floatbank11_sulfate  rougher.input.floatbank11_xanthate  \\\n",
       "0                          11.836743                            6.005818   \n",
       "1                          11.996163                            6.012594   \n",
       "2                          11.920305                            6.204633   \n",
       "3                          11.692450                            6.196578   \n",
       "4                          10.960521                            6.194897   \n",
       "\n",
       "   rougher.output.concentrate_ag  rougher.output.concentrate_pb  \\\n",
       "0                      11.500771                       7.101074   \n",
       "1                      11.615865                       7.278807   \n",
       "2                      11.695753                       7.216833   \n",
       "3                      11.915047                       7.175616   \n",
       "4                      12.411054                       7.240205   \n",
       "\n",
       "   rougher.output.concentrate_sol  rougher.output.concentrate_au  \\\n",
       "0                       28.029297                      19.793808   \n",
       "1                       28.067063                      20.050975   \n",
       "2                       27.454037                      19.737170   \n",
       "3                       27.341277                      19.320810   \n",
       "4                       27.041023                      19.216101   \n",
       "\n",
       "   rougher.output.recovery  rougher.output.tail_ag  rougher.output.tail_pb  \\\n",
       "0                87.107763                5.008018                0.508728   \n",
       "1                86.843261                4.955378                0.536689   \n",
       "2                86.842308                4.843460                0.546416   \n",
       "3                87.226430                4.655288                0.542525   \n",
       "4                86.688794                4.552800                0.515438   \n",
       "\n",
       "   rougher.output.tail_sol  rougher.output.tail_au  \\\n",
       "0                19.154297                1.170244   \n",
       "1                18.965234                1.184827   \n",
       "2                18.808533                1.162562   \n",
       "3                19.330200                1.079755   \n",
       "4                19.267422                1.012642   \n",
       "\n",
       "   rougher.state.floatbank10_a_air  rougher.state.floatbank10_a_level  \\\n",
       "0                       999.706909                        -404.066986   \n",
       "1                      1000.286398                        -400.065196   \n",
       "2                       999.719565                        -400.074028   \n",
       "3                       999.814770                        -400.200179   \n",
       "4                       999.678690                        -399.752729   \n",
       "\n",
       "   rougher.state.floatbank10_b_air  rougher.state.floatbank10_b_level  \\\n",
       "0                      1603.011353                        -434.715027   \n",
       "1                      1600.754587                        -449.953435   \n",
       "2                      1599.337330                        -450.008530   \n",
       "3                      1600.059442                        -450.619948   \n",
       "4                      1600.208824                        -449.599614   \n",
       "\n",
       "   rougher.state.floatbank10_c_air  rougher.state.floatbank10_c_level  \\\n",
       "0                      1602.375000                        -442.204468   \n",
       "1                      1600.479580                        -449.830646   \n",
       "2                      1599.672797                        -449.954491   \n",
       "3                      1600.012842                        -449.910497   \n",
       "4                      1600.357732                        -450.034364   \n",
       "\n",
       "   rougher.state.floatbank10_d_air  rougher.state.floatbank10_d_level  \\\n",
       "0                      1598.937256                        -451.294128   \n",
       "1                      1600.527589                        -449.953649   \n",
       "2                      1599.849325                        -449.954185   \n",
       "3                      1597.725177                        -450.130127   \n",
       "4                      1599.759049                        -449.909799   \n",
       "\n",
       "   rougher.state.floatbank10_e_air  rougher.state.floatbank10_e_level  \\\n",
       "0                      1404.472046                        -455.462982   \n",
       "1                      1399.227084                        -450.869848   \n",
       "2                      1399.180945                        -449.937588   \n",
       "3                      1400.943157                        -450.030142   \n",
       "4                      1401.560902                        -448.877187   \n",
       "\n",
       "   rougher.state.floatbank10_f_air  rougher.state.floatbank10_f_level  \\\n",
       "0                      1416.354980                        -451.939636   \n",
       "1                      1399.719514                        -450.119001   \n",
       "2                      1400.316682                        -450.527147   \n",
       "3                      1400.234743                        -449.790835   \n",
       "4                      1401.160227                        -450.407128   \n",
       "\n",
       "   secondary_cleaner.output.tail_ag  secondary_cleaner.output.tail_pb  \\\n",
       "0                         14.500184                          4.694824   \n",
       "1                         14.265474                          4.592547   \n",
       "2                         14.115662                          4.624775   \n",
       "3                         13.732071                          4.482453   \n",
       "4                         14.079996                          4.470737   \n",
       "\n",
       "   secondary_cleaner.output.tail_sol  secondary_cleaner.output.tail_au  \\\n",
       "0                           8.764648                          2.606185   \n",
       "1                           9.001494                          2.488248   \n",
       "2                           8.842896                          2.458187   \n",
       "3                           9.122857                          2.322062   \n",
       "4                           8.871028                          2.330448   \n",
       "\n",
       "   secondary_cleaner.state.floatbank2_a_air  \\\n",
       "0                                 25.853109   \n",
       "1                                 25.880539   \n",
       "2                                 26.005245   \n",
       "3                                 25.942508   \n",
       "4                                 26.024787   \n",
       "\n",
       "   secondary_cleaner.state.floatbank2_a_level  \\\n",
       "0                                 -498.526489   \n",
       "1                                 -499.989656   \n",
       "2                                 -499.929616   \n",
       "3                                 -499.176749   \n",
       "4                                 -500.279091   \n",
       "\n",
       "   secondary_cleaner.state.floatbank2_b_air  \\\n",
       "0                                 23.893660   \n",
       "1                                 23.889530   \n",
       "2                                 23.886657   \n",
       "3                                 23.955516   \n",
       "4                                 23.955345   \n",
       "\n",
       "   secondary_cleaner.state.floatbank2_b_level  \\\n",
       "0                                 -501.406281   \n",
       "1                                 -500.372428   \n",
       "2                                 -499.951928   \n",
       "3                                 -499.848796   \n",
       "4                                 -500.593614   \n",
       "\n",
       "   secondary_cleaner.state.floatbank3_a_air  \\\n",
       "0                                 23.961798   \n",
       "1                                 23.970550   \n",
       "2                                 23.913535   \n",
       "3                                 23.966838   \n",
       "4                                 23.985703   \n",
       "\n",
       "   secondary_cleaner.state.floatbank3_a_level  \\\n",
       "0                                 -495.262817   \n",
       "1                                 -500.085473   \n",
       "2                                 -499.442343   \n",
       "3                                 -500.008812   \n",
       "4                                 -500.083811   \n",
       "\n",
       "   secondary_cleaner.state.floatbank3_b_air  \\\n",
       "0                                 21.940409   \n",
       "1                                 22.085714   \n",
       "2                                 23.957717   \n",
       "3                                 23.954443   \n",
       "4                                 23.958945   \n",
       "\n",
       "   secondary_cleaner.state.floatbank3_b_level  \\\n",
       "0                                 -499.340973   \n",
       "1                                 -499.446897   \n",
       "2                                 -499.901982   \n",
       "3                                 -499.944710   \n",
       "4                                 -499.990309   \n",
       "\n",
       "   secondary_cleaner.state.floatbank4_a_air  \\\n",
       "0                                 14.016835   \n",
       "1                                 13.992281   \n",
       "2                                 14.015015   \n",
       "3                                 14.036510   \n",
       "4                                 14.027298   \n",
       "\n",
       "   secondary_cleaner.state.floatbank4_a_level  \\\n",
       "0                                 -502.488007   \n",
       "1                                 -505.503262   \n",
       "2                                 -502.520901   \n",
       "3                                 -500.857308   \n",
       "4                                 -499.838632   \n",
       "\n",
       "   secondary_cleaner.state.floatbank4_b_air  \\\n",
       "0                                 12.099931   \n",
       "1                                 11.950531   \n",
       "2                                 11.912783   \n",
       "3                                 11.999550   \n",
       "4                                 11.953070   \n",
       "\n",
       "   secondary_cleaner.state.floatbank4_b_level  \\\n",
       "0                                 -504.715942   \n",
       "1                                 -501.331529   \n",
       "2                                 -501.133383   \n",
       "3                                 -501.193686   \n",
       "4                                 -501.053894   \n",
       "\n",
       "   secondary_cleaner.state.floatbank5_a_air  \\\n",
       "0                                  9.925633   \n",
       "1                                 10.039245   \n",
       "2                                 10.070913   \n",
       "3                                  9.970366   \n",
       "4                                  9.925709   \n",
       "\n",
       "   secondary_cleaner.state.floatbank5_a_level  \\\n",
       "0                                 -498.310211   \n",
       "1                                 -500.169983   \n",
       "2                                 -500.129135   \n",
       "3                                 -499.201640   \n",
       "4                                 -501.686727   \n",
       "\n",
       "   secondary_cleaner.state.floatbank5_b_air  \\\n",
       "0                                  8.079666   \n",
       "1                                  7.984757   \n",
       "2                                  8.013877   \n",
       "3                                  7.977324   \n",
       "4                                  7.894242   \n",
       "\n",
       "   secondary_cleaner.state.floatbank5_b_level  \\\n",
       "0                                 -500.470978   \n",
       "1                                 -500.582168   \n",
       "2                                 -500.517572   \n",
       "3                                 -500.255908   \n",
       "4                                 -500.356035   \n",
       "\n",
       "   secondary_cleaner.state.floatbank6_a_air  \\\n",
       "0                                 14.151341   \n",
       "1                                 13.998353   \n",
       "2                                 14.028663   \n",
       "3                                 14.005551   \n",
       "4                                 13.996647   \n",
       "\n",
       "   secondary_cleaner.state.floatbank6_a_level  \n",
       "0                                 -605.841980  \n",
       "1                                 -599.787184  \n",
       "2                                 -601.427363  \n",
       "3                                 -599.996129  \n",
       "4                                 -601.496691  "
      ]
     },
     "execution_count": 4,
     "metadata": {},
     "output_type": "execute_result"
    }
   ],
   "source": [
    "# Отобразим все колонки в датасете\n",
    "pd.set_option('display.max_columns', None)\n",
    "\n",
    "# Выведем первые 5 строк датасета\n",
    "data_train.head()"
   ]
  },
  {
   "cell_type": "markdown",
   "metadata": {},
   "source": [
    "### Общая информация по датасетам"
   ]
  },
  {
   "cell_type": "code",
   "execution_count": 5,
   "metadata": {
    "scrolled": false
   },
   "outputs": [
    {
     "name": "stdout",
     "output_type": "stream",
     "text": [
      "<class 'pandas.core.frame.DataFrame'>\n",
      "RangeIndex: 14149 entries, 0 to 14148\n",
      "Data columns (total 87 columns):\n",
      " #   Column                                              Non-Null Count  Dtype  \n",
      "---  ------                                              --------------  -----  \n",
      " 0   date                                                14149 non-null  object \n",
      " 1   final.output.concentrate_ag                         14148 non-null  float64\n",
      " 2   final.output.concentrate_pb                         14148 non-null  float64\n",
      " 3   final.output.concentrate_sol                        13938 non-null  float64\n",
      " 4   final.output.concentrate_au                         14149 non-null  float64\n",
      " 5   final.output.recovery                               14149 non-null  float64\n",
      " 6   final.output.tail_ag                                14149 non-null  float64\n",
      " 7   final.output.tail_pb                                14049 non-null  float64\n",
      " 8   final.output.tail_sol                               14144 non-null  float64\n",
      " 9   final.output.tail_au                                14149 non-null  float64\n",
      " 10  primary_cleaner.input.sulfate                       14129 non-null  float64\n",
      " 11  primary_cleaner.input.depressant                    14117 non-null  float64\n",
      " 12  primary_cleaner.input.feed_size                     14149 non-null  float64\n",
      " 13  primary_cleaner.input.xanthate                      14049 non-null  float64\n",
      " 14  primary_cleaner.output.concentrate_ag               14149 non-null  float64\n",
      " 15  primary_cleaner.output.concentrate_pb               14063 non-null  float64\n",
      " 16  primary_cleaner.output.concentrate_sol              13863 non-null  float64\n",
      " 17  primary_cleaner.output.concentrate_au               14149 non-null  float64\n",
      " 18  primary_cleaner.output.tail_ag                      14148 non-null  float64\n",
      " 19  primary_cleaner.output.tail_pb                      14134 non-null  float64\n",
      " 20  primary_cleaner.output.tail_sol                     14103 non-null  float64\n",
      " 21  primary_cleaner.output.tail_au                      14149 non-null  float64\n",
      " 22  primary_cleaner.state.floatbank8_a_air              14145 non-null  float64\n",
      " 23  primary_cleaner.state.floatbank8_a_level            14148 non-null  float64\n",
      " 24  primary_cleaner.state.floatbank8_b_air              14145 non-null  float64\n",
      " 25  primary_cleaner.state.floatbank8_b_level            14148 non-null  float64\n",
      " 26  primary_cleaner.state.floatbank8_c_air              14147 non-null  float64\n",
      " 27  primary_cleaner.state.floatbank8_c_level            14148 non-null  float64\n",
      " 28  primary_cleaner.state.floatbank8_d_air              14146 non-null  float64\n",
      " 29  primary_cleaner.state.floatbank8_d_level            14148 non-null  float64\n",
      " 30  rougher.calculation.sulfate_to_au_concentrate       14148 non-null  float64\n",
      " 31  rougher.calculation.floatbank10_sulfate_to_au_feed  14148 non-null  float64\n",
      " 32  rougher.calculation.floatbank11_sulfate_to_au_feed  14148 non-null  float64\n",
      " 33  rougher.calculation.au_pb_ratio                     14149 non-null  float64\n",
      " 34  rougher.input.feed_ag                               14149 non-null  float64\n",
      " 35  rougher.input.feed_pb                               14049 non-null  float64\n",
      " 36  rougher.input.feed_rate                             14141 non-null  float64\n",
      " 37  rougher.input.feed_size                             14005 non-null  float64\n",
      " 38  rougher.input.feed_sol                              14071 non-null  float64\n",
      " 39  rougher.input.feed_au                               14149 non-null  float64\n",
      " 40  rougher.input.floatbank10_sulfate                   14120 non-null  float64\n",
      " 41  rougher.input.floatbank10_xanthate                  14141 non-null  float64\n",
      " 42  rougher.input.floatbank11_sulfate                   14113 non-null  float64\n",
      " 43  rougher.input.floatbank11_xanthate                  13721 non-null  float64\n",
      " 44  rougher.output.concentrate_ag                       14149 non-null  float64\n",
      " 45  rougher.output.concentrate_pb                       14149 non-null  float64\n",
      " 46  rougher.output.concentrate_sol                      14127 non-null  float64\n",
      " 47  rougher.output.concentrate_au                       14149 non-null  float64\n",
      " 48  rougher.output.recovery                             14149 non-null  float64\n",
      " 49  rougher.output.tail_ag                              14148 non-null  float64\n",
      " 50  rougher.output.tail_pb                              14149 non-null  float64\n",
      " 51  rougher.output.tail_sol                             14149 non-null  float64\n",
      " 52  rougher.output.tail_au                              14149 non-null  float64\n",
      " 53  rougher.state.floatbank10_a_air                     14148 non-null  float64\n",
      " 54  rougher.state.floatbank10_a_level                   14148 non-null  float64\n",
      " 55  rougher.state.floatbank10_b_air                     14148 non-null  float64\n",
      " 56  rougher.state.floatbank10_b_level                   14148 non-null  float64\n",
      " 57  rougher.state.floatbank10_c_air                     14148 non-null  float64\n",
      " 58  rougher.state.floatbank10_c_level                   14148 non-null  float64\n",
      " 59  rougher.state.floatbank10_d_air                     14149 non-null  float64\n",
      " 60  rougher.state.floatbank10_d_level                   14149 non-null  float64\n",
      " 61  rougher.state.floatbank10_e_air                     13713 non-null  float64\n",
      " 62  rougher.state.floatbank10_e_level                   14149 non-null  float64\n",
      " 63  rougher.state.floatbank10_f_air                     14149 non-null  float64\n",
      " 64  rougher.state.floatbank10_f_level                   14149 non-null  float64\n",
      " 65  secondary_cleaner.output.tail_ag                    14147 non-null  float64\n",
      " 66  secondary_cleaner.output.tail_pb                    14139 non-null  float64\n",
      " 67  secondary_cleaner.output.tail_sol                   12544 non-null  float64\n",
      " 68  secondary_cleaner.output.tail_au                    14149 non-null  float64\n",
      " 69  secondary_cleaner.state.floatbank2_a_air            13932 non-null  float64\n",
      " 70  secondary_cleaner.state.floatbank2_a_level          14148 non-null  float64\n",
      " 71  secondary_cleaner.state.floatbank2_b_air            14128 non-null  float64\n",
      " 72  secondary_cleaner.state.floatbank2_b_level          14148 non-null  float64\n",
      " 73  secondary_cleaner.state.floatbank3_a_air            14145 non-null  float64\n",
      " 74  secondary_cleaner.state.floatbank3_a_level          14148 non-null  float64\n",
      " 75  secondary_cleaner.state.floatbank3_b_air            14148 non-null  float64\n",
      " 76  secondary_cleaner.state.floatbank3_b_level          14148 non-null  float64\n",
      " 77  secondary_cleaner.state.floatbank4_a_air            14143 non-null  float64\n",
      " 78  secondary_cleaner.state.floatbank4_a_level          14148 non-null  float64\n",
      " 79  secondary_cleaner.state.floatbank4_b_air            14148 non-null  float64\n",
      " 80  secondary_cleaner.state.floatbank4_b_level          14148 non-null  float64\n",
      " 81  secondary_cleaner.state.floatbank5_a_air            14148 non-null  float64\n",
      " 82  secondary_cleaner.state.floatbank5_a_level          14148 non-null  float64\n",
      " 83  secondary_cleaner.state.floatbank5_b_air            14148 non-null  float64\n",
      " 84  secondary_cleaner.state.floatbank5_b_level          14148 non-null  float64\n",
      " 85  secondary_cleaner.state.floatbank6_a_air            14147 non-null  float64\n",
      " 86  secondary_cleaner.state.floatbank6_a_level          14148 non-null  float64\n",
      "dtypes: float64(86), object(1)\n",
      "memory usage: 9.4+ MB\n"
     ]
    }
   ],
   "source": [
    "# Выведем общую информацию по датасетам\n",
    "data_train.info()"
   ]
  },
  {
   "cell_type": "code",
   "execution_count": 6,
   "metadata": {
    "scrolled": false
   },
   "outputs": [
    {
     "name": "stdout",
     "output_type": "stream",
     "text": [
      "<class 'pandas.core.frame.DataFrame'>\n",
      "RangeIndex: 5290 entries, 0 to 5289\n",
      "Data columns (total 53 columns):\n",
      " #   Column                                      Non-Null Count  Dtype  \n",
      "---  ------                                      --------------  -----  \n",
      " 0   date                                        5290 non-null   object \n",
      " 1   primary_cleaner.input.sulfate               5286 non-null   float64\n",
      " 2   primary_cleaner.input.depressant            5285 non-null   float64\n",
      " 3   primary_cleaner.input.feed_size             5290 non-null   float64\n",
      " 4   primary_cleaner.input.xanthate              5286 non-null   float64\n",
      " 5   primary_cleaner.state.floatbank8_a_air      5290 non-null   float64\n",
      " 6   primary_cleaner.state.floatbank8_a_level    5290 non-null   float64\n",
      " 7   primary_cleaner.state.floatbank8_b_air      5290 non-null   float64\n",
      " 8   primary_cleaner.state.floatbank8_b_level    5290 non-null   float64\n",
      " 9   primary_cleaner.state.floatbank8_c_air      5290 non-null   float64\n",
      " 10  primary_cleaner.state.floatbank8_c_level    5290 non-null   float64\n",
      " 11  primary_cleaner.state.floatbank8_d_air      5290 non-null   float64\n",
      " 12  primary_cleaner.state.floatbank8_d_level    5290 non-null   float64\n",
      " 13  rougher.input.feed_ag                       5290 non-null   float64\n",
      " 14  rougher.input.feed_pb                       5290 non-null   float64\n",
      " 15  rougher.input.feed_rate                     5287 non-null   float64\n",
      " 16  rougher.input.feed_size                     5289 non-null   float64\n",
      " 17  rougher.input.feed_sol                      5269 non-null   float64\n",
      " 18  rougher.input.feed_au                       5290 non-null   float64\n",
      " 19  rougher.input.floatbank10_sulfate           5285 non-null   float64\n",
      " 20  rougher.input.floatbank10_xanthate          5290 non-null   float64\n",
      " 21  rougher.input.floatbank11_sulfate           5282 non-null   float64\n",
      " 22  rougher.input.floatbank11_xanthate          5265 non-null   float64\n",
      " 23  rougher.state.floatbank10_a_air             5290 non-null   float64\n",
      " 24  rougher.state.floatbank10_a_level           5290 non-null   float64\n",
      " 25  rougher.state.floatbank10_b_air             5290 non-null   float64\n",
      " 26  rougher.state.floatbank10_b_level           5290 non-null   float64\n",
      " 27  rougher.state.floatbank10_c_air             5290 non-null   float64\n",
      " 28  rougher.state.floatbank10_c_level           5290 non-null   float64\n",
      " 29  rougher.state.floatbank10_d_air             5290 non-null   float64\n",
      " 30  rougher.state.floatbank10_d_level           5290 non-null   float64\n",
      " 31  rougher.state.floatbank10_e_air             5290 non-null   float64\n",
      " 32  rougher.state.floatbank10_e_level           5290 non-null   float64\n",
      " 33  rougher.state.floatbank10_f_air             5290 non-null   float64\n",
      " 34  rougher.state.floatbank10_f_level           5290 non-null   float64\n",
      " 35  secondary_cleaner.state.floatbank2_a_air    5287 non-null   float64\n",
      " 36  secondary_cleaner.state.floatbank2_a_level  5290 non-null   float64\n",
      " 37  secondary_cleaner.state.floatbank2_b_air    5288 non-null   float64\n",
      " 38  secondary_cleaner.state.floatbank2_b_level  5290 non-null   float64\n",
      " 39  secondary_cleaner.state.floatbank3_a_air    5281 non-null   float64\n",
      " 40  secondary_cleaner.state.floatbank3_a_level  5290 non-null   float64\n",
      " 41  secondary_cleaner.state.floatbank3_b_air    5290 non-null   float64\n",
      " 42  secondary_cleaner.state.floatbank3_b_level  5290 non-null   float64\n",
      " 43  secondary_cleaner.state.floatbank4_a_air    5290 non-null   float64\n",
      " 44  secondary_cleaner.state.floatbank4_a_level  5290 non-null   float64\n",
      " 45  secondary_cleaner.state.floatbank4_b_air    5290 non-null   float64\n",
      " 46  secondary_cleaner.state.floatbank4_b_level  5290 non-null   float64\n",
      " 47  secondary_cleaner.state.floatbank5_a_air    5290 non-null   float64\n",
      " 48  secondary_cleaner.state.floatbank5_a_level  5290 non-null   float64\n",
      " 49  secondary_cleaner.state.floatbank5_b_air    5290 non-null   float64\n",
      " 50  secondary_cleaner.state.floatbank5_b_level  5290 non-null   float64\n",
      " 51  secondary_cleaner.state.floatbank6_a_air    5290 non-null   float64\n",
      " 52  secondary_cleaner.state.floatbank6_a_level  5290 non-null   float64\n",
      "dtypes: float64(52), object(1)\n",
      "memory usage: 2.1+ MB\n"
     ]
    }
   ],
   "source": [
    "data_test.info()"
   ]
  },
  {
   "cell_type": "code",
   "execution_count": 7,
   "metadata": {
    "scrolled": false
   },
   "outputs": [
    {
     "name": "stdout",
     "output_type": "stream",
     "text": [
      "<class 'pandas.core.frame.DataFrame'>\n",
      "RangeIndex: 19439 entries, 0 to 19438\n",
      "Data columns (total 87 columns):\n",
      " #   Column                                              Non-Null Count  Dtype  \n",
      "---  ------                                              --------------  -----  \n",
      " 0   date                                                19439 non-null  object \n",
      " 1   final.output.concentrate_ag                         19438 non-null  float64\n",
      " 2   final.output.concentrate_pb                         19438 non-null  float64\n",
      " 3   final.output.concentrate_sol                        19228 non-null  float64\n",
      " 4   final.output.concentrate_au                         19439 non-null  float64\n",
      " 5   final.output.recovery                               19439 non-null  float64\n",
      " 6   final.output.tail_ag                                19438 non-null  float64\n",
      " 7   final.output.tail_pb                                19338 non-null  float64\n",
      " 8   final.output.tail_sol                               19433 non-null  float64\n",
      " 9   final.output.tail_au                                19439 non-null  float64\n",
      " 10  primary_cleaner.input.sulfate                       19415 non-null  float64\n",
      " 11  primary_cleaner.input.depressant                    19402 non-null  float64\n",
      " 12  primary_cleaner.input.feed_size                     19439 non-null  float64\n",
      " 13  primary_cleaner.input.xanthate                      19335 non-null  float64\n",
      " 14  primary_cleaner.output.concentrate_ag               19439 non-null  float64\n",
      " 15  primary_cleaner.output.concentrate_pb               19323 non-null  float64\n",
      " 16  primary_cleaner.output.concentrate_sol              19069 non-null  float64\n",
      " 17  primary_cleaner.output.concentrate_au               19439 non-null  float64\n",
      " 18  primary_cleaner.output.tail_ag                      19435 non-null  float64\n",
      " 19  primary_cleaner.output.tail_pb                      19418 non-null  float64\n",
      " 20  primary_cleaner.output.tail_sol                     19377 non-null  float64\n",
      " 21  primary_cleaner.output.tail_au                      19439 non-null  float64\n",
      " 22  primary_cleaner.state.floatbank8_a_air              19435 non-null  float64\n",
      " 23  primary_cleaner.state.floatbank8_a_level            19438 non-null  float64\n",
      " 24  primary_cleaner.state.floatbank8_b_air              19435 non-null  float64\n",
      " 25  primary_cleaner.state.floatbank8_b_level            19438 non-null  float64\n",
      " 26  primary_cleaner.state.floatbank8_c_air              19437 non-null  float64\n",
      " 27  primary_cleaner.state.floatbank8_c_level            19438 non-null  float64\n",
      " 28  primary_cleaner.state.floatbank8_d_air              19436 non-null  float64\n",
      " 29  primary_cleaner.state.floatbank8_d_level            19438 non-null  float64\n",
      " 30  rougher.calculation.sulfate_to_au_concentrate       19437 non-null  float64\n",
      " 31  rougher.calculation.floatbank10_sulfate_to_au_feed  19437 non-null  float64\n",
      " 32  rougher.calculation.floatbank11_sulfate_to_au_feed  19437 non-null  float64\n",
      " 33  rougher.calculation.au_pb_ratio                     19439 non-null  float64\n",
      " 34  rougher.input.feed_ag                               19439 non-null  float64\n",
      " 35  rougher.input.feed_pb                               19339 non-null  float64\n",
      " 36  rougher.input.feed_rate                             19428 non-null  float64\n",
      " 37  rougher.input.feed_size                             19294 non-null  float64\n",
      " 38  rougher.input.feed_sol                              19340 non-null  float64\n",
      " 39  rougher.input.feed_au                               19439 non-null  float64\n",
      " 40  rougher.input.floatbank10_sulfate                   19405 non-null  float64\n",
      " 41  rougher.input.floatbank10_xanthate                  19431 non-null  float64\n",
      " 42  rougher.input.floatbank11_sulfate                   19395 non-null  float64\n",
      " 43  rougher.input.floatbank11_xanthate                  18986 non-null  float64\n",
      " 44  rougher.output.concentrate_ag                       19439 non-null  float64\n",
      " 45  rougher.output.concentrate_pb                       19439 non-null  float64\n",
      " 46  rougher.output.concentrate_sol                      19416 non-null  float64\n",
      " 47  rougher.output.concentrate_au                       19439 non-null  float64\n",
      " 48  rougher.output.recovery                             19439 non-null  float64\n",
      " 49  rougher.output.tail_ag                              19438 non-null  float64\n",
      " 50  rougher.output.tail_pb                              19439 non-null  float64\n",
      " 51  rougher.output.tail_sol                             19439 non-null  float64\n",
      " 52  rougher.output.tail_au                              19439 non-null  float64\n",
      " 53  rougher.state.floatbank10_a_air                     19438 non-null  float64\n",
      " 54  rougher.state.floatbank10_a_level                   19438 non-null  float64\n",
      " 55  rougher.state.floatbank10_b_air                     19438 non-null  float64\n",
      " 56  rougher.state.floatbank10_b_level                   19438 non-null  float64\n",
      " 57  rougher.state.floatbank10_c_air                     19438 non-null  float64\n",
      " 58  rougher.state.floatbank10_c_level                   19438 non-null  float64\n",
      " 59  rougher.state.floatbank10_d_air                     19439 non-null  float64\n",
      " 60  rougher.state.floatbank10_d_level                   19439 non-null  float64\n",
      " 61  rougher.state.floatbank10_e_air                     19003 non-null  float64\n",
      " 62  rougher.state.floatbank10_e_level                   19439 non-null  float64\n",
      " 63  rougher.state.floatbank10_f_air                     19439 non-null  float64\n",
      " 64  rougher.state.floatbank10_f_level                   19439 non-null  float64\n",
      " 65  secondary_cleaner.output.tail_ag                    19437 non-null  float64\n",
      " 66  secondary_cleaner.output.tail_pb                    19427 non-null  float64\n",
      " 67  secondary_cleaner.output.tail_sol                   17691 non-null  float64\n",
      " 68  secondary_cleaner.output.tail_au                    19439 non-null  float64\n",
      " 69  secondary_cleaner.state.floatbank2_a_air            19219 non-null  float64\n",
      " 70  secondary_cleaner.state.floatbank2_a_level          19438 non-null  float64\n",
      " 71  secondary_cleaner.state.floatbank2_b_air            19416 non-null  float64\n",
      " 72  secondary_cleaner.state.floatbank2_b_level          19438 non-null  float64\n",
      " 73  secondary_cleaner.state.floatbank3_a_air            19426 non-null  float64\n",
      " 74  secondary_cleaner.state.floatbank3_a_level          19438 non-null  float64\n",
      " 75  secondary_cleaner.state.floatbank3_b_air            19438 non-null  float64\n",
      " 76  secondary_cleaner.state.floatbank3_b_level          19438 non-null  float64\n",
      " 77  secondary_cleaner.state.floatbank4_a_air            19433 non-null  float64\n",
      " 78  secondary_cleaner.state.floatbank4_a_level          19438 non-null  float64\n",
      " 79  secondary_cleaner.state.floatbank4_b_air            19438 non-null  float64\n",
      " 80  secondary_cleaner.state.floatbank4_b_level          19438 non-null  float64\n",
      " 81  secondary_cleaner.state.floatbank5_a_air            19438 non-null  float64\n",
      " 82  secondary_cleaner.state.floatbank5_a_level          19438 non-null  float64\n",
      " 83  secondary_cleaner.state.floatbank5_b_air            19438 non-null  float64\n",
      " 84  secondary_cleaner.state.floatbank5_b_level          19438 non-null  float64\n",
      " 85  secondary_cleaner.state.floatbank6_a_air            19437 non-null  float64\n",
      " 86  secondary_cleaner.state.floatbank6_a_level          19438 non-null  float64\n",
      "dtypes: float64(86), object(1)\n",
      "memory usage: 12.9+ MB\n"
     ]
    }
   ],
   "source": [
    "data_full.info()"
   ]
  },
  {
   "cell_type": "code",
   "execution_count": 8,
   "metadata": {},
   "outputs": [
    {
     "name": "stdout",
     "output_type": "stream",
     "text": [
      "\n",
      "Размер data_train: (14149, 87)\n",
      "Размер data_test: (5290, 53)\n",
      "Размер data_full: (19439, 87)\n",
      "\n"
     ]
    }
   ],
   "source": [
    "# Выведем общую информацию по размерам датасетов\n",
    "print(f'''\n",
    "Размер data_train: {data_train.shape}\n",
    "Размер data_test: {data_test.shape}\n",
    "Размер data_full: {data_full.shape}\n",
    "''')"
   ]
  },
  {
   "cell_type": "code",
   "execution_count": 9,
   "metadata": {},
   "outputs": [
    {
     "name": "stdout",
     "output_type": "stream",
     "text": [
      "\n",
      "Дубликатов в data_train: 0\n",
      "Дубликатов в data_test: 0\n",
      "Дубликатов в data_full: 0\n",
      "\n"
     ]
    }
   ],
   "source": [
    "# Проверим наличие явных дубликатов в датасете\n",
    "print(f'''\n",
    "Дубликатов в data_train: {data_train.duplicated().sum()}\n",
    "Дубликатов в data_test: {data_test.duplicated().sum()}\n",
    "Дубликатов в data_full: {data_full.duplicated().sum()}\n",
    "''')"
   ]
  },
  {
   "cell_type": "code",
   "execution_count": 10,
   "metadata": {},
   "outputs": [
    {
     "data": {
      "text/plain": [
       "count      87.000000\n",
       "mean       47.126437\n",
       "std       186.800590\n",
       "min         0.000000\n",
       "25%         0.000000\n",
       "50%         1.000000\n",
       "75%         8.000000\n",
       "max      1605.000000\n",
       "dtype: float64"
      ]
     },
     "metadata": {},
     "output_type": "display_data"
    },
    {
     "name": "stdout",
     "output_type": "stream",
     "text": [
      "Общее количество пропусков: 4100\n"
     ]
    }
   ],
   "source": [
    "# Посмотрим на общую статистику по пропускам в данных\n",
    "display(data_train.isna().sum().describe())\n",
    "print(f'Общее количество пропусков: {sum(data_train.isna().sum())}')"
   ]
  },
  {
   "cell_type": "code",
   "execution_count": 11,
   "metadata": {},
   "outputs": [
    {
     "data": {
      "text/plain": [
       "count    53.000000\n",
       "mean      1.698113\n",
       "std       4.729551\n",
       "min       0.000000\n",
       "25%       0.000000\n",
       "50%       0.000000\n",
       "75%       0.000000\n",
       "max      25.000000\n",
       "dtype: float64"
      ]
     },
     "metadata": {},
     "output_type": "display_data"
    },
    {
     "name": "stdout",
     "output_type": "stream",
     "text": [
      "Общее количество пропусков: 90\n"
     ]
    }
   ],
   "source": [
    "display(data_test.isna().sum().describe())\n",
    "print(f'Общее количество пропусков: {sum(data_test.isna().sum())}')"
   ]
  },
  {
   "cell_type": "markdown",
   "metadata": {},
   "source": [
    "### Проверка правильности эффективности обогощения"
   ]
  },
  {
   "cell_type": "markdown",
   "metadata": {},
   "source": [
    "Формула расчета **Recovery**\n",
    "<img src='https://pictures.s3.yandex.net/resources/Recovery_1576238822.jpg' width=500>\n",
    "Где:\n",
    " - C — доля золота в концентрате после флотации/очистки;\n",
    " - F — доля золота в сырье/концентрате до флотации/очистки;\n",
    " - T — доля золота в отвальных хвостах после флотации/очистки."
   ]
  },
  {
   "cell_type": "code",
   "execution_count": 12,
   "metadata": {},
   "outputs": [],
   "source": [
    "# Запишем в переменные значения необходимых столбцов\n",
    "C = data_train['rougher.output.concentrate_au']\n",
    "F = data_train['rougher.input.feed_au']\n",
    "T = data_train['rougher.output.tail_au']"
   ]
  },
  {
   "cell_type": "code",
   "execution_count": 13,
   "metadata": {
    "scrolled": true
   },
   "outputs": [
    {
     "data": {
      "text/plain": [
       "0    87.107763\n",
       "1    86.843261\n",
       "2    86.842308\n",
       "3    87.226430\n",
       "4    86.688794\n",
       "Name: rougher.output.recovery, dtype: float64"
      ]
     },
     "execution_count": 13,
     "metadata": {},
     "output_type": "execute_result"
    }
   ],
   "source": [
    "# Выведем 5 строк столбца 'rougher.output.recovery'\n",
    "data_train['rougher.output.recovery'].head()"
   ]
  },
  {
   "cell_type": "code",
   "execution_count": 14,
   "metadata": {},
   "outputs": [],
   "source": [
    "# Посчитаем значение Recovery согласно формуле\n",
    "recovery = (C * (F - T)) / (F * (C - T)) * 100"
   ]
  },
  {
   "cell_type": "code",
   "execution_count": 15,
   "metadata": {},
   "outputs": [
    {
     "data": {
      "text/plain": [
       "9.73512347450521e-15"
      ]
     },
     "execution_count": 15,
     "metadata": {},
     "output_type": "execute_result"
    }
   ],
   "source": [
    "# Вычислим MEA с помощью функции из библеотеки sklearn\n",
    "mean_absolute_error(data_train['rougher.output.recovery'], recovery)"
   ]
  },
  {
   "cell_type": "markdown",
   "metadata": {},
   "source": [
    "После проведения расчета значения Recovery и сравнения посчитанных значений и значений из датасета, мы получили очень маленькую разницу, что говорит о **правильности данных в представленном датасете.**"
   ]
  },
  {
   "cell_type": "markdown",
   "metadata": {},
   "source": [
    "### Добавление целевых признаков в тестовый датасет"
   ]
  },
  {
   "cell_type": "markdown",
   "metadata": {},
   "source": [
    "Необходимо спрогнозировать 2 целевых признака:\n",
    "1. `rougher.output.recovery` - эффективность обогащения чернового концентрата\n",
    "2. `final.output.recovery` - эффективность обогащения финального концентрата.\n",
    "\n",
    "Данные столбцы отсутсвуют в тестовой выборке, добавим стобцы с данными в тестовую выборку ориентируясь на время."
   ]
  },
  {
   "cell_type": "code",
   "execution_count": 17,
   "metadata": {},
   "outputs": [],
   "source": [
    "# Проиндексируем данные по дате, чтобы столбец с датой не участвовал в обучении модели\n",
    "data_test.set_index('date', inplace=True)\n",
    "data_train.set_index('date', inplace=True)\n",
    "data_full.set_index('date', inplace=True)"
   ]
  },
  {
   "cell_type": "code",
   "execution_count": 18,
   "metadata": {},
   "outputs": [],
   "source": [
    "data_test['rougher.output.recovery'] = data_full['rougher.output.recovery'].loc[data_test.index]\n",
    "data_test['final.output.recovery'] = data_full['final.output.recovery'].loc[data_test.index]"
   ]
  },
  {
   "cell_type": "code",
   "execution_count": 21,
   "metadata": {},
   "outputs": [
    {
     "data": {
      "text/html": [
       "<div>\n",
       "<style scoped>\n",
       "    .dataframe tbody tr th:only-of-type {\n",
       "        vertical-align: middle;\n",
       "    }\n",
       "\n",
       "    .dataframe tbody tr th {\n",
       "        vertical-align: top;\n",
       "    }\n",
       "\n",
       "    .dataframe thead th {\n",
       "        text-align: right;\n",
       "    }\n",
       "</style>\n",
       "<table border=\"1\" class=\"dataframe\">\n",
       "  <thead>\n",
       "    <tr style=\"text-align: right;\">\n",
       "      <th></th>\n",
       "      <th>rougher.output.recovery</th>\n",
       "      <th>final.output.recovery</th>\n",
       "    </tr>\n",
       "    <tr>\n",
       "      <th>date</th>\n",
       "      <th></th>\n",
       "      <th></th>\n",
       "    </tr>\n",
       "  </thead>\n",
       "  <tbody>\n",
       "    <tr>\n",
       "      <th>2016-09-01 00:59:59</th>\n",
       "      <td>89.993421</td>\n",
       "      <td>70.273583</td>\n",
       "    </tr>\n",
       "    <tr>\n",
       "      <th>2016-09-01 01:59:59</th>\n",
       "      <td>88.089657</td>\n",
       "      <td>68.910432</td>\n",
       "    </tr>\n",
       "    <tr>\n",
       "      <th>2016-09-01 02:59:59</th>\n",
       "      <td>88.412756</td>\n",
       "      <td>68.143213</td>\n",
       "    </tr>\n",
       "    <tr>\n",
       "      <th>2016-09-01 03:59:59</th>\n",
       "      <td>87.360133</td>\n",
       "      <td>67.776393</td>\n",
       "    </tr>\n",
       "    <tr>\n",
       "      <th>2016-09-01 04:59:59</th>\n",
       "      <td>83.236367</td>\n",
       "      <td>61.467078</td>\n",
       "    </tr>\n",
       "  </tbody>\n",
       "</table>\n",
       "</div>"
      ],
      "text/plain": [
       "                     rougher.output.recovery  final.output.recovery\n",
       "date                                                               \n",
       "2016-09-01 00:59:59                89.993421              70.273583\n",
       "2016-09-01 01:59:59                88.089657              68.910432\n",
       "2016-09-01 02:59:59                88.412756              68.143213\n",
       "2016-09-01 03:59:59                87.360133              67.776393\n",
       "2016-09-01 04:59:59                83.236367              61.467078"
      ]
     },
     "execution_count": 21,
     "metadata": {},
     "output_type": "execute_result"
    }
   ],
   "source": [
    "# Выведем первые 5 строк добавленных столбцов для проверки\n",
    "data_test[['rougher.output.recovery', 'final.output.recovery']].head()"
   ]
  },
  {
   "cell_type": "code",
   "execution_count": 22,
   "metadata": {},
   "outputs": [
    {
     "data": {
      "text/html": [
       "<div>\n",
       "<style scoped>\n",
       "    .dataframe tbody tr th:only-of-type {\n",
       "        vertical-align: middle;\n",
       "    }\n",
       "\n",
       "    .dataframe tbody tr th {\n",
       "        vertical-align: top;\n",
       "    }\n",
       "\n",
       "    .dataframe thead th {\n",
       "        text-align: right;\n",
       "    }\n",
       "</style>\n",
       "<table border=\"1\" class=\"dataframe\">\n",
       "  <thead>\n",
       "    <tr style=\"text-align: right;\">\n",
       "      <th></th>\n",
       "      <th>rougher.output.recovery</th>\n",
       "      <th>final.output.recovery</th>\n",
       "    </tr>\n",
       "    <tr>\n",
       "      <th>date</th>\n",
       "      <th></th>\n",
       "      <th></th>\n",
       "    </tr>\n",
       "  </thead>\n",
       "  <tbody>\n",
       "    <tr>\n",
       "      <th>2016-01-15 00:00:00</th>\n",
       "      <td>87.107763</td>\n",
       "      <td>70.541216</td>\n",
       "    </tr>\n",
       "    <tr>\n",
       "      <th>2016-01-15 01:00:00</th>\n",
       "      <td>86.843261</td>\n",
       "      <td>69.266198</td>\n",
       "    </tr>\n",
       "    <tr>\n",
       "      <th>2016-01-15 02:00:00</th>\n",
       "      <td>86.842308</td>\n",
       "      <td>68.116445</td>\n",
       "    </tr>\n",
       "    <tr>\n",
       "      <th>2016-01-15 03:00:00</th>\n",
       "      <td>87.226430</td>\n",
       "      <td>68.347543</td>\n",
       "    </tr>\n",
       "    <tr>\n",
       "      <th>2016-01-15 04:00:00</th>\n",
       "      <td>86.688794</td>\n",
       "      <td>66.927016</td>\n",
       "    </tr>\n",
       "  </tbody>\n",
       "</table>\n",
       "</div>"
      ],
      "text/plain": [
       "                     rougher.output.recovery  final.output.recovery\n",
       "date                                                               \n",
       "2016-01-15 00:00:00                87.107763              70.541216\n",
       "2016-01-15 01:00:00                86.843261              69.266198\n",
       "2016-01-15 02:00:00                86.842308              68.116445\n",
       "2016-01-15 03:00:00                87.226430              68.347543\n",
       "2016-01-15 04:00:00                86.688794              66.927016"
      ]
     },
     "execution_count": 22,
     "metadata": {},
     "output_type": "execute_result"
    }
   ],
   "source": [
    "data_train[['rougher.output.recovery', 'final.output.recovery']].head()"
   ]
  },
  {
   "cell_type": "markdown",
   "metadata": {},
   "source": [
    "### Заполенение пропусков"
   ]
  },
  {
   "cell_type": "code",
   "execution_count": 23,
   "metadata": {
    "scrolled": true
   },
   "outputs": [
    {
     "data": {
      "text/plain": [
       "primary_cleaner.input.sulfate                  4\n",
       "primary_cleaner.input.depressant               5\n",
       "primary_cleaner.input.feed_size                0\n",
       "primary_cleaner.input.xanthate                 4\n",
       "primary_cleaner.state.floatbank8_a_air         0\n",
       "primary_cleaner.state.floatbank8_a_level       0\n",
       "primary_cleaner.state.floatbank8_b_air         0\n",
       "primary_cleaner.state.floatbank8_b_level       0\n",
       "primary_cleaner.state.floatbank8_c_air         0\n",
       "primary_cleaner.state.floatbank8_c_level       0\n",
       "primary_cleaner.state.floatbank8_d_air         0\n",
       "primary_cleaner.state.floatbank8_d_level       0\n",
       "rougher.input.feed_ag                          0\n",
       "rougher.input.feed_pb                          0\n",
       "rougher.input.feed_rate                        3\n",
       "rougher.input.feed_size                        1\n",
       "rougher.input.feed_sol                        21\n",
       "rougher.input.feed_au                          0\n",
       "rougher.input.floatbank10_sulfate              5\n",
       "rougher.input.floatbank10_xanthate             0\n",
       "rougher.input.floatbank11_sulfate              8\n",
       "rougher.input.floatbank11_xanthate            25\n",
       "rougher.state.floatbank10_a_air                0\n",
       "rougher.state.floatbank10_a_level              0\n",
       "rougher.state.floatbank10_b_air                0\n",
       "rougher.state.floatbank10_b_level              0\n",
       "rougher.state.floatbank10_c_air                0\n",
       "rougher.state.floatbank10_c_level              0\n",
       "rougher.state.floatbank10_d_air                0\n",
       "rougher.state.floatbank10_d_level              0\n",
       "rougher.state.floatbank10_e_air                0\n",
       "rougher.state.floatbank10_e_level              0\n",
       "rougher.state.floatbank10_f_air                0\n",
       "rougher.state.floatbank10_f_level              0\n",
       "secondary_cleaner.state.floatbank2_a_air       3\n",
       "secondary_cleaner.state.floatbank2_a_level     0\n",
       "secondary_cleaner.state.floatbank2_b_air       2\n",
       "secondary_cleaner.state.floatbank2_b_level     0\n",
       "secondary_cleaner.state.floatbank3_a_air       9\n",
       "secondary_cleaner.state.floatbank3_a_level     0\n",
       "secondary_cleaner.state.floatbank3_b_air       0\n",
       "secondary_cleaner.state.floatbank3_b_level     0\n",
       "secondary_cleaner.state.floatbank4_a_air       0\n",
       "secondary_cleaner.state.floatbank4_a_level     0\n",
       "secondary_cleaner.state.floatbank4_b_air       0\n",
       "secondary_cleaner.state.floatbank4_b_level     0\n",
       "secondary_cleaner.state.floatbank5_a_air       0\n",
       "secondary_cleaner.state.floatbank5_a_level     0\n",
       "secondary_cleaner.state.floatbank5_b_air       0\n",
       "secondary_cleaner.state.floatbank5_b_level     0\n",
       "secondary_cleaner.state.floatbank6_a_air       0\n",
       "secondary_cleaner.state.floatbank6_a_level     0\n",
       "rougher.output.recovery                        0\n",
       "final.output.recovery                          0\n",
       "dtype: int64"
      ]
     },
     "execution_count": 23,
     "metadata": {},
     "output_type": "execute_result"
    }
   ],
   "source": [
    "# Проверим на наличие пропусков в тестовой выборке\n",
    "data_test.isna().sum()"
   ]
  },
  {
   "cell_type": "code",
   "execution_count": 24,
   "metadata": {
    "scrolled": true
   },
   "outputs": [
    {
     "data": {
      "text/plain": [
       "count      86.000000\n",
       "mean       47.674419\n",
       "std       187.825854\n",
       "min         0.000000\n",
       "25%         0.000000\n",
       "50%         1.000000\n",
       "75%         8.000000\n",
       "max      1605.000000\n",
       "dtype: float64"
      ]
     },
     "execution_count": 24,
     "metadata": {},
     "output_type": "execute_result"
    }
   ],
   "source": [
    "# Посмотрим на наличие пропусков в тренировочной выборке\n",
    "data_train.isna().sum().describe()"
   ]
  },
  {
   "cell_type": "markdown",
   "metadata": {},
   "source": [
    "Заполним пропуски в данных, для заполенения  пропусков будем использовать значение из предыдущей строки, т.к. это будут наиболее близкие значения. "
   ]
  },
  {
   "cell_type": "code",
   "execution_count": 25,
   "metadata": {},
   "outputs": [],
   "source": [
    "data_test.fillna(method='ffill', inplace=True)\n",
    "data_train.fillna(method='ffill', inplace=True)\n",
    "data_full.fillna(method='ffill', inplace=True)"
   ]
  },
  {
   "cell_type": "code",
   "execution_count": 26,
   "metadata": {
    "scrolled": false
   },
   "outputs": [
    {
     "data": {
      "text/plain": [
       "count    54.0\n",
       "mean      0.0\n",
       "std       0.0\n",
       "min       0.0\n",
       "25%       0.0\n",
       "50%       0.0\n",
       "75%       0.0\n",
       "max       0.0\n",
       "dtype: float64"
      ]
     },
     "metadata": {},
     "output_type": "display_data"
    },
    {
     "data": {
      "text/plain": [
       "count    86.0\n",
       "mean      0.0\n",
       "std       0.0\n",
       "min       0.0\n",
       "25%       0.0\n",
       "50%       0.0\n",
       "75%       0.0\n",
       "max       0.0\n",
       "dtype: float64"
      ]
     },
     "metadata": {},
     "output_type": "display_data"
    },
    {
     "data": {
      "text/plain": [
       "count    86.0\n",
       "mean      0.0\n",
       "std       0.0\n",
       "min       0.0\n",
       "25%       0.0\n",
       "50%       0.0\n",
       "75%       0.0\n",
       "max       0.0\n",
       "dtype: float64"
      ]
     },
     "execution_count": 26,
     "metadata": {},
     "output_type": "execute_result"
    }
   ],
   "source": [
    "# Проверим остались ли пропуски в данных\n",
    "display(data_test.isna().sum().describe())\n",
    "display(data_train.isna().sum().describe())\n",
    "data_full.isna().sum().describe()"
   ]
  },
  {
   "cell_type": "markdown",
   "metadata": {},
   "source": [
    "### Удаление признаков из тренировочного датасета."
   ]
  },
  {
   "cell_type": "markdown",
   "metadata": {},
   "source": [
    "В связи с тем, что в тренировочном датасете много больше признаков, чем в тестовом, для обучения модели машинного обучения необходимо исключить эти признаки из тренировочных данных."
   ]
  },
  {
   "cell_type": "code",
   "execution_count": 27,
   "metadata": {},
   "outputs": [
    {
     "data": {
      "text/plain": [
       "{'final.output.concentrate_ag',\n",
       " 'final.output.concentrate_au',\n",
       " 'final.output.concentrate_pb',\n",
       " 'final.output.concentrate_sol',\n",
       " 'final.output.tail_ag',\n",
       " 'final.output.tail_au',\n",
       " 'final.output.tail_pb',\n",
       " 'final.output.tail_sol',\n",
       " 'primary_cleaner.output.concentrate_ag',\n",
       " 'primary_cleaner.output.concentrate_au',\n",
       " 'primary_cleaner.output.concentrate_pb',\n",
       " 'primary_cleaner.output.concentrate_sol',\n",
       " 'primary_cleaner.output.tail_ag',\n",
       " 'primary_cleaner.output.tail_au',\n",
       " 'primary_cleaner.output.tail_pb',\n",
       " 'primary_cleaner.output.tail_sol',\n",
       " 'rougher.calculation.au_pb_ratio',\n",
       " 'rougher.calculation.floatbank10_sulfate_to_au_feed',\n",
       " 'rougher.calculation.floatbank11_sulfate_to_au_feed',\n",
       " 'rougher.calculation.sulfate_to_au_concentrate',\n",
       " 'rougher.output.concentrate_ag',\n",
       " 'rougher.output.concentrate_au',\n",
       " 'rougher.output.concentrate_pb',\n",
       " 'rougher.output.concentrate_sol',\n",
       " 'rougher.output.tail_ag',\n",
       " 'rougher.output.tail_au',\n",
       " 'rougher.output.tail_pb',\n",
       " 'rougher.output.tail_sol',\n",
       " 'secondary_cleaner.output.tail_ag',\n",
       " 'secondary_cleaner.output.tail_au',\n",
       " 'secondary_cleaner.output.tail_pb',\n",
       " 'secondary_cleaner.output.tail_sol'}"
      ]
     },
     "execution_count": 27,
     "metadata": {},
     "output_type": "execute_result"
    }
   ],
   "source": [
    "# Создадим переменную columns, в которую запишем признаки, отсутвующие в тестовом датасете.\n",
    "columns = set(data_train.columns) - set(data_test.columns)\n",
    "columns"
   ]
  },
  {
   "cell_type": "markdown",
   "metadata": {},
   "source": [
    "Признаки `output` являются целевыми, в связи с этим отсутствуют в тестовых данных.\n",
    "Признаки `calculation` являются расчетными характеристиками, рассчитыватся в конце тех.процесса из-за этого отсутствуют в тестовой выборке."
   ]
  },
  {
   "cell_type": "code",
   "execution_count": 28,
   "metadata": {},
   "outputs": [
    {
     "data": {
      "text/plain": [
       "(14149, 54)"
      ]
     },
     "metadata": {},
     "output_type": "display_data"
    },
    {
     "data": {
      "text/plain": [
       "(5290, 54)"
      ]
     },
     "execution_count": 28,
     "metadata": {},
     "output_type": "execute_result"
    }
   ],
   "source": [
    "# Удалим выделенные признаки из тренировочных данных\n",
    "data_train.drop(columns, axis=1, inplace=True)\n",
    "\n",
    "# Посмотрим на форму тренировочного и тестового датасета\n",
    "display(data_train.shape)\n",
    "data_test.shape"
   ]
  },
  {
   "cell_type": "markdown",
   "metadata": {},
   "source": [
    "**Количество колонок совпадает**, удаление произвелось корректно."
   ]
  },
  {
   "cell_type": "markdown",
   "metadata": {},
   "source": [
    "### Вывод по разделу\n",
    "В ходе подготовки данных были проведены следующие работы:\n",
    "1. Загружены 3 датасета и сохранены в переменные.\n",
    "2. Ознакомились с общей информацией по датасетам, было выявлено, что в датасетах разное количество описанных параметров.\n",
    "3. Проверено наличие явных дубликатов и пропусков в данных, пропуски в данных заполненны данными из предудущих строк, т.к. это наиболее близкие значения, в связи с тем, что данные представлены с индексацией по времени выполнения.\n",
    "4. Проверена правильность заполнения столбца со значениями `recovery`.\n",
    "5. В тестовый датасет добавлены целевые признаки `rougher.output.recovery` - эффективность обогащения чернового концентрата и `final.output.recovery` - эффективность обогащения финального концентрата.\n",
    "6. Удалены признаки в тренировочном датасете, которые отсутствуют в тестовом датасете."
   ]
  },
  {
   "cell_type": "markdown",
   "metadata": {},
   "source": [
    "## Анализ данных"
   ]
  },
  {
   "cell_type": "markdown",
   "metadata": {},
   "source": [
    "В ходе анализа данных проведем следующие работы:\n",
    "1. Посмотрим на изменение концентрации металлов на каждой ступене технологического процесса.\n",
    "2. Посмотрим на распределение размеров гранул в обучающей и тестовой выборках.\n",
    "3. Посмотрим на распределение общей концентарции металлов в течение технологического процесса.\n",
    "4. При наличие аномальных значений, избавимся от них."
   ]
  },
  {
   "cell_type": "markdown",
   "metadata": {},
   "source": [
    "### Изменение концентрации элементов на каждом технологическом этапе"
   ]
  },
  {
   "cell_type": "code",
   "execution_count": 29,
   "metadata": {},
   "outputs": [],
   "source": [
    "# Создадим словарь с обозначениениями металлов\n",
    "metals = {'серебро': 'ag', \n",
    "          'свинец': 'pb', \n",
    "          'коллоидный раствор': 'sol', \n",
    "          'золото': 'au'}"
   ]
  },
  {
   "cell_type": "code",
   "execution_count": 30,
   "metadata": {},
   "outputs": [],
   "source": [
    "# Функция отображния гистограмм распределения на этапах очистки\n",
    "def metal_concentration(metal):\n",
    "    '''\n",
    "    Возращает 2 графика распределения концентрации метала:\n",
    "    1. Распеределение в концентрате\n",
    "    2. Распеределение в отвальных хвостах\n",
    "    '''\n",
    "    \n",
    "    plt.figure(figsize=(15, 4))\n",
    "    plt.title(f'Распеределение концентрации {metal.title()} в концентрате', fontsize=14)\n",
    "    plt.xlabel('Концентрация')\n",
    "    plt.ylabel('Количество')\n",
    "    sns.histplot(\n",
    "        data_full[[f'rougher.input.feed_{metal}',\n",
    "                   f'rougher.output.concentrate_{metal}',\n",
    "                   f'primary_cleaner.output.concentrate_{metal}',\n",
    "                   f'final.output.concentrate_{metal}']], \n",
    "        bins=100,\n",
    "        alpha=0.5\n",
    "    )\n",
    "    \n",
    "    plt.figure(figsize=(15, 4))\n",
    "    plt.title(f'Распеределение концентрации {metal.title()} в отвальных хвостах', fontsize=14)\n",
    "    plt.xlabel('Концентрация')\n",
    "    plt.ylabel('Количество')\n",
    "    sns.histplot(\n",
    "        data_full[[f'rougher.input.feed_{metal}',\n",
    "                   f'rougher.output.tail_{metal}',\n",
    "                   f'primary_cleaner.output.tail_{metal}',\n",
    "                   f'final.output.tail_{metal}']], \n",
    "        bins=100,\n",
    "        alpha=0.5\n",
    "    )\n",
    "    plt.show()"
   ]
  },
  {
   "cell_type": "code",
   "execution_count": 31,
   "metadata": {
    "scrolled": false
   },
   "outputs": [
    {
     "name": "stdout",
     "output_type": "stream",
     "text": [
      "Графики распеделения компонента СЕРЕБРО на различных этапах технологического процесса:\n"
     ]
    },
    {
     "data": {
      "image/png": "[encoded data removed]",
      "text/plain": [
       "<Figure size 1080x288 with 1 Axes>"
      ]
     },
     "metadata": {
      "needs_background": "light"
     },
     "output_type": "display_data"
    },
    {
     "data": {
      "image/png": "[encoded data removed]",
      "text/plain": [
       "<Figure size 1080x288 with 1 Axes>"
      ]
     },
     "metadata": {
      "needs_background": "light"
     },
     "output_type": "display_data"
    },
    {
     "name": "stdout",
     "output_type": "stream",
     "text": [
      "\n",
      "Графики распеделения компонента СВИНЕЦ на различных этапах технологического процесса:\n"
     ]
    },
    {
     "data": {
      "image/png": "[encoded data removed]",
      "text/plain": [
       "<Figure size 1080x288 with 1 Axes>"
      ]
     },
     "metadata": {
      "needs_background": "light"
     },
     "output_type": "display_data"
    },
    {
     "data": {
      "image/png": "[encoded data removed]",
      "text/plain": [
       "<Figure size 1080x288 with 1 Axes>"
      ]
     },
     "metadata": {
      "needs_background": "light"
     },
     "output_type": "display_data"
    },
    {
     "name": "stdout",
     "output_type": "stream",
     "text": [
      "\n",
      "Графики распеделения компонента КОЛЛОИДНЫЙ РАСТВОР на различных этапах технологического процесса:\n"
     ]
    },
    {
     "data": {
      "image/png": "[encoded data removed]",
      "text/plain": [
       "<Figure size 1080x288 with 1 Axes>"
      ]
     },
     "metadata": {
      "needs_background": "light"
     },
     "output_type": "display_data"
    },
    {
     "data": {
      "image/png": "[encoded data removed]",
      "text/plain": [
       "<Figure size 1080x288 with 1 Axes>"
      ]
     },
     "metadata": {
      "needs_background": "light"
     },
     "output_type": "display_data"
    },
    {
     "name": "stdout",
     "output_type": "stream",
     "text": [
      "\n",
      "Графики распеделения компонента ЗОЛОТО на различных этапах технологического процесса:\n"
     ]
    },
    {
     "data": {
      "image/png": "[encoded data removed]",
      "text/plain": [
       "<Figure size 1080x288 with 1 Axes>"
      ]
     },
     "metadata": {
      "needs_background": "light"
     },
     "output_type": "display_data"
    },
    {
     "data": {
      "image/png": "[encoded data removed]",
      "text/plain": [
       "<Figure size 1080x288 with 1 Axes>"
      ]
     },
     "metadata": {
      "needs_background": "light"
     },
     "output_type": "display_data"
    },
    {
     "name": "stdout",
     "output_type": "stream",
     "text": [
      "\n"
     ]
    }
   ],
   "source": [
    "# Отобразим графики распеределений компоненотов\n",
    "for i, j in metals.items():\n",
    "    print(f'Графики распеделения компонента {i.upper()} на различных этапах технологического процесса:')\n",
    "    metal_concentration(j)\n",
    "    print()"
   ]
  },
  {
   "cell_type": "markdown",
   "metadata": {},
   "source": [
    "По графикам распределений концентраций видно, что в концентрация золота в концентрате на увеличивается на каждом технологическом этапе процесса и при этом уменьшается концентрация золота в отвальных хвостах. Также в концентрате, в целом, увеличивается концентрация свинца, концентрация серебра же уменьшается."
   ]
  },
  {
   "cell_type": "markdown",
   "metadata": {},
   "source": [
    "В данных видны аномальные значения равные или близкие к нулю значения, пока оставим как есть, далее удалим."
   ]
  },
  {
   "cell_type": "markdown",
   "metadata": {},
   "source": [
    "### Распределения размеров гранул на обучающей и тестовой выборках"
   ]
  },
  {
   "cell_type": "code",
   "execution_count": 32,
   "metadata": {
    "scrolled": false
   },
   "outputs": [
    {
     "data": {
      "image/png": "[encoded data removed]",
      "text/plain": [
       "<Figure size 1080x504 with 1 Axes>"
      ]
     },
     "metadata": {
      "needs_background": "light"
     },
     "output_type": "display_data"
    }
   ],
   "source": [
    "# Построим график плотности распределения по размерам гранул для тренировочной и тестовой выборки\n",
    "plt.figure(figsize=(15, 7))\n",
    "plt.title('Плотность распеделения размера гранул в тренировочной и тестовой выборке', fontsize=14)\n",
    "plt.xlabel('Размер', fontsize=12)\n",
    "plt.ylabel('Плотность', fontsize=12)\n",
    "plt.xlim(10, 120)\n",
    "\n",
    "sns.histplot(data_test['rougher.input.feed_size'], \n",
    "             kde=True, \n",
    "             stat='density', \n",
    "             element='step',\n",
    "             color='blue',\n",
    "             bins=100)\n",
    "sns.histplot(data_train['rougher.input.feed_size'], \n",
    "             kde=True, \n",
    "             stat='density', \n",
    "             element='step',\n",
    "             color='red',\n",
    "             bins=100)\n",
    "plt.show()"
   ]
  },
  {
   "cell_type": "markdown",
   "metadata": {},
   "source": [
    "Распеределение размеров гранул в обучающей и тестовой выборке схожи, но мода в тестовой выборке немного смещена в лево, что не должно сильно сказаться на результате, проверим распределение размеров гранул на следующем этапе."
   ]
  },
  {
   "cell_type": "code",
   "execution_count": 33,
   "metadata": {},
   "outputs": [
    {
     "data": {
      "image/png": "[encoded data removed]",
      "text/plain": [
       "<Figure size 1080x504 with 1 Axes>"
      ]
     },
     "metadata": {
      "needs_background": "light"
     },
     "output_type": "display_data"
    }
   ],
   "source": [
    "# Проверим распределение размеров гранул на первом этапе очистки\n",
    "plt.figure(figsize=(15, 7))\n",
    "plt.title('Плотность распеделения размера гранул в тренировочной и тестовой выборке', fontsize=14)\n",
    "plt.xlabel('Размер', fontsize=12)\n",
    "plt.ylabel('Плотность', fontsize=12)\n",
    "plt.xlim(4, 12)\n",
    "\n",
    "sns.histplot(data_test['primary_cleaner.input.feed_size'], \n",
    "             kde=True, \n",
    "             stat='density', \n",
    "             element='step',\n",
    "             color='blue',\n",
    "             bins=100)\n",
    "sns.histplot(data_train['primary_cleaner.input.feed_size'], \n",
    "             kde=True, \n",
    "             stat='density', \n",
    "             element='step',\n",
    "             color='red',\n",
    "             bins=100)\n",
    "plt.show()"
   ]
  },
  {
   "cell_type": "markdown",
   "metadata": {},
   "source": [
    "Из распределения размера гранул при первом этапе очистки видно, что размеры частиц в обоих выборках практически одинаковы."
   ]
  },
  {
   "cell_type": "markdown",
   "metadata": {},
   "source": [
    "### Суммарные концентрации"
   ]
  },
  {
   "cell_type": "code",
   "execution_count": 34,
   "metadata": {},
   "outputs": [],
   "source": [
    "# Создадим столбцы в data_full суммарными концентрациями металлов на каждом этапе тех.процесса\n",
    "data_full['final'] = (data_full['final.output.concentrate_ag'] + \n",
    "                            data_full['final.output.concentrate_pb'] +\n",
    "                            data_full['final.output.concentrate_au'])\n",
    "\n",
    "data_full['rougher_input'] = (data_full['rougher.input.feed_ag'] + \n",
    "                                    data_full['rougher.input.feed_pb'] +\n",
    "                                    data_full['rougher.input.feed_au'])\n",
    "\n",
    "data_full['rougher_output'] = (data_full['rougher.output.concentrate_ag'] + \n",
    "                                     data_full['rougher.output.concentrate_pb'] +\n",
    "                                     data_full['rougher.output.concentrate_au'])\n",
    "\n",
    "data_full['primary_cleaner'] = (data_full['primary_cleaner.output.concentrate_ag'] + \n",
    "                                      data_full['primary_cleaner.output.concentrate_pb'] + \n",
    "                                      data_full['primary_cleaner.output.concentrate_au'])\n",
    "\n",
    "columns = ['final', 'rougher_input', 'rougher_output', 'primary_cleaner']"
   ]
  },
  {
   "cell_type": "code",
   "execution_count": 35,
   "metadata": {},
   "outputs": [
    {
     "data": {
      "text/html": [
       "<div>\n",
       "<style scoped>\n",
       "    .dataframe tbody tr th:only-of-type {\n",
       "        vertical-align: middle;\n",
       "    }\n",
       "\n",
       "    .dataframe tbody tr th {\n",
       "        vertical-align: top;\n",
       "    }\n",
       "\n",
       "    .dataframe thead th {\n",
       "        text-align: right;\n",
       "    }\n",
       "</style>\n",
       "<table border=\"1\" class=\"dataframe\">\n",
       "  <thead>\n",
       "    <tr style=\"text-align: right;\">\n",
       "      <th></th>\n",
       "      <th>final</th>\n",
       "      <th>rougher_input</th>\n",
       "      <th>rougher_output</th>\n",
       "      <th>primary_cleaner</th>\n",
       "    </tr>\n",
       "    <tr>\n",
       "      <th>date</th>\n",
       "      <th></th>\n",
       "      <th></th>\n",
       "      <th></th>\n",
       "      <th></th>\n",
       "    </tr>\n",
       "  </thead>\n",
       "  <tbody>\n",
       "    <tr>\n",
       "      <th>2016-01-15 00:00:00</th>\n",
       "      <td>58.137072</td>\n",
       "      <td>14.871440</td>\n",
       "      <td>38.395653</td>\n",
       "      <td>53.111627</td>\n",
       "    </tr>\n",
       "    <tr>\n",
       "      <th>2016-01-15 01:00:00</th>\n",
       "      <td>58.699942</td>\n",
       "      <td>14.905729</td>\n",
       "      <td>38.945647</td>\n",
       "      <td>53.174338</td>\n",
       "    </tr>\n",
       "    <tr>\n",
       "      <th>2016-01-15 02:00:00</th>\n",
       "      <td>58.927421</td>\n",
       "      <td>14.638299</td>\n",
       "      <td>38.649756</td>\n",
       "      <td>52.927464</td>\n",
       "    </tr>\n",
       "    <tr>\n",
       "      <th>2016-01-15 03:00:00</th>\n",
       "      <td>58.714815</td>\n",
       "      <td>14.199305</td>\n",
       "      <td>38.411473</td>\n",
       "      <td>43.979185</td>\n",
       "    </tr>\n",
       "    <tr>\n",
       "      <th>2016-01-15 04:00:00</th>\n",
       "      <td>59.065251</td>\n",
       "      <td>13.511497</td>\n",
       "      <td>38.867359</td>\n",
       "      <td>52.121146</td>\n",
       "    </tr>\n",
       "  </tbody>\n",
       "</table>\n",
       "</div>"
      ],
      "text/plain": [
       "                         final  rougher_input  rougher_output  primary_cleaner\n",
       "date                                                                          \n",
       "2016-01-15 00:00:00  58.137072      14.871440       38.395653        53.111627\n",
       "2016-01-15 01:00:00  58.699942      14.905729       38.945647        53.174338\n",
       "2016-01-15 02:00:00  58.927421      14.638299       38.649756        52.927464\n",
       "2016-01-15 03:00:00  58.714815      14.199305       38.411473        43.979185\n",
       "2016-01-15 04:00:00  59.065251      13.511497       38.867359        52.121146"
      ]
     },
     "execution_count": 35,
     "metadata": {},
     "output_type": "execute_result"
    }
   ],
   "source": [
    "# Посмотрим правильно ли создались столбцы\n",
    "data_full[columns].head()"
   ]
  },
  {
   "cell_type": "code",
   "execution_count": 36,
   "metadata": {},
   "outputs": [
    {
     "data": {
      "text/html": [
       "<div>\n",
       "<style scoped>\n",
       "    .dataframe tbody tr th:only-of-type {\n",
       "        vertical-align: middle;\n",
       "    }\n",
       "\n",
       "    .dataframe tbody tr th {\n",
       "        vertical-align: top;\n",
       "    }\n",
       "\n",
       "    .dataframe thead th {\n",
       "        text-align: right;\n",
       "    }\n",
       "</style>\n",
       "<table border=\"1\" class=\"dataframe\">\n",
       "  <thead>\n",
       "    <tr style=\"text-align: right;\">\n",
       "      <th></th>\n",
       "      <th>final</th>\n",
       "      <th>rougher_input</th>\n",
       "      <th>rougher_output</th>\n",
       "      <th>primary_cleaner</th>\n",
       "    </tr>\n",
       "  </thead>\n",
       "  <tbody>\n",
       "    <tr>\n",
       "      <th>count</th>\n",
       "      <td>19439.000000</td>\n",
       "      <td>19439.000000</td>\n",
       "      <td>19439.000000</td>\n",
       "      <td>19439.000000</td>\n",
       "    </tr>\n",
       "    <tr>\n",
       "      <th>mean</th>\n",
       "      <td>59.223721</td>\n",
       "      <td>20.646120</td>\n",
       "      <td>39.373032</td>\n",
       "      <td>50.372125</td>\n",
       "    </tr>\n",
       "    <tr>\n",
       "      <th>std</th>\n",
       "      <td>6.095138</td>\n",
       "      <td>4.480027</td>\n",
       "      <td>6.863389</td>\n",
       "      <td>7.628095</td>\n",
       "    </tr>\n",
       "    <tr>\n",
       "      <th>min</th>\n",
       "      <td>0.000000</td>\n",
       "      <td>0.030000</td>\n",
       "      <td>0.000000</td>\n",
       "      <td>0.000000</td>\n",
       "    </tr>\n",
       "    <tr>\n",
       "      <th>25%</th>\n",
       "      <td>59.298323</td>\n",
       "      <td>17.252879</td>\n",
       "      <td>38.394639</td>\n",
       "      <td>50.053899</td>\n",
       "    </tr>\n",
       "    <tr>\n",
       "      <th>50%</th>\n",
       "      <td>60.306921</td>\n",
       "      <td>20.141216</td>\n",
       "      <td>40.312648</td>\n",
       "      <td>51.909156</td>\n",
       "    </tr>\n",
       "    <tr>\n",
       "      <th>75%</th>\n",
       "      <td>61.096667</td>\n",
       "      <td>23.797381</td>\n",
       "      <td>42.365102</td>\n",
       "      <td>53.386898</td>\n",
       "    </tr>\n",
       "    <tr>\n",
       "      <th>max</th>\n",
       "      <td>64.968881</td>\n",
       "      <td>33.498784</td>\n",
       "      <td>55.568687</td>\n",
       "      <td>60.269003</td>\n",
       "    </tr>\n",
       "  </tbody>\n",
       "</table>\n",
       "</div>"
      ],
      "text/plain": [
       "              final  rougher_input  rougher_output  primary_cleaner\n",
       "count  19439.000000   19439.000000    19439.000000     19439.000000\n",
       "mean      59.223721      20.646120       39.373032        50.372125\n",
       "std        6.095138       4.480027        6.863389         7.628095\n",
       "min        0.000000       0.030000        0.000000         0.000000\n",
       "25%       59.298323      17.252879       38.394639        50.053899\n",
       "50%       60.306921      20.141216       40.312648        51.909156\n",
       "75%       61.096667      23.797381       42.365102        53.386898\n",
       "max       64.968881      33.498784       55.568687        60.269003"
      ]
     },
     "execution_count": 36,
     "metadata": {},
     "output_type": "execute_result"
    }
   ],
   "source": [
    "data_full[columns].describe()"
   ]
  },
  {
   "cell_type": "code",
   "execution_count": 37,
   "metadata": {},
   "outputs": [
    {
     "data": {
      "image/png": "[encoded data removed]",
      "text/plain": [
       "<Figure size 1080x360 with 1 Axes>"
      ]
     },
     "metadata": {
      "needs_background": "light"
     },
     "output_type": "display_data"
    }
   ],
   "source": [
    "plt.figure(figsize=(15, 5))\n",
    "plt.title('Распределение суммарной концентрации металлов на каждом этапе тех.процесса', fontsize=14)\n",
    "plt.xlabel('Концентрация', fontsize=12)\n",
    "plt.ylabel('Количество', fontsize=12)\n",
    "sns.histplot(data_full[columns],\n",
    "            bins=100,\n",
    "            alpha=0.5)\n",
    "\n",
    "plt.show()"
   ]
  },
  {
   "cell_type": "markdown",
   "metadata": {},
   "source": [
    "По распределению суммарной концентрации металлов видно, что с течением технологического процесса концентрация металлов увеличивается и дисперсия в распределениях уменьшается. Так же видно значения близкие и равные нулю, удалим значения меньше 1, чтобы они не помешали обучению модели."
   ]
  },
  {
   "cell_type": "code",
   "execution_count": 38,
   "metadata": {},
   "outputs": [],
   "source": [
    "# Удалим значения меньше 1\n",
    "data_full = data_full[\n",
    "    (data_full['final'] > 1) &\n",
    "    (data_full['rougher_input'] > 1) &\n",
    "    (data_full['rougher_output'] > 1) &\n",
    "    (data_full['primary_cleaner'] > 1)\n",
    "]"
   ]
  },
  {
   "cell_type": "code",
   "execution_count": 39,
   "metadata": {},
   "outputs": [
    {
     "data": {
      "image/png": "[encoded data removed]",
      "text/plain": [
       "<Figure size 1080x360 with 1 Axes>"
      ]
     },
     "metadata": {
      "needs_background": "light"
     },
     "output_type": "display_data"
    }
   ],
   "source": [
    "# Проверим результаты\n",
    "plt.figure(figsize=(15, 5))\n",
    "plt.title('Распределение суммарной концентрации металлов на каждом этапе тех.процесса', fontsize=14)\n",
    "plt.xlabel('Концентрация', fontsize=12)\n",
    "plt.ylabel('Количество', fontsize=12)\n",
    "sns.histplot(data_full[columns],\n",
    "            bins=100,\n",
    "            alpha=0.5)\n",
    "\n",
    "plt.show()"
   ]
  },
  {
   "cell_type": "code",
   "execution_count": 40,
   "metadata": {},
   "outputs": [
    {
     "data": {
      "text/plain": [
       "(18721, 90)"
      ]
     },
     "execution_count": 40,
     "metadata": {},
     "output_type": "execute_result"
    }
   ],
   "source": [
    "# Посмотрим как изменился датасет\n",
    "data_full.shape"
   ]
  },
  {
   "cell_type": "code",
   "execution_count": 41,
   "metadata": {},
   "outputs": [],
   "source": [
    "# Удалим значения из тренировочного и тестового датасета\n",
    "data_train = data_train[data_train.index.isin(data_full.index)]\n",
    "data_test = data_test[data_test.index.isin(data_full.index)]"
   ]
  },
  {
   "cell_type": "code",
   "execution_count": 42,
   "metadata": {},
   "outputs": [
    {
     "data": {
      "text/plain": [
       "((13598, 54), (5123, 54))"
      ]
     },
     "execution_count": 42,
     "metadata": {},
     "output_type": "execute_result"
    }
   ],
   "source": [
    "# Посмотрим как изменились данные\n",
    "data_train.shape, data_test.shape"
   ]
  },
  {
   "cell_type": "markdown",
   "metadata": {},
   "source": [
    "### Вывод по разделую\n",
    "В ходе анализа данных:\n",
    "1. Ознакомились с изменением концентрации металлов на каждой ступене технологического процесса.\n",
    "2. Ознакомились с распределением размеров гранул в обучающей и тестовой выборках.\n",
    "3. Ознакомились с распределением общей концентарции металлов в течение технологического процесса.\n",
    "4. Удалили значения концентарции металлов меньше 1, т.к. это может помешать обучению моделей и ухудшению показателей.\n",
    "5. Проиндексировали датасеты по дате, чтобы данные с датой не участвовали в обучении моделей.\n",
    "\n",
    "В результате проделанной работы из датасетов было удалено:\n",
    " - `data_train` 5% от изначальных данных\n",
    " - `data_test`  3.5% от изначальных данных"
   ]
  },
  {
   "cell_type": "markdown",
   "metadata": {},
   "source": [
    "## Модель"
   ]
  },
  {
   "cell_type": "markdown",
   "metadata": {},
   "source": [
    "В ходе раздела будут выполены следующие работы:\n",
    "1. Напишем функцию по вычислению итоговой sMAPE\n",
    "2. Подготовим данные к обучению моделей:\n",
    "    - Разделим на признаки и целевой признак;\n",
    "    - Промасштабируем данные.\n",
    "3. Обучим модели машинного обучения:\n",
    "    - LinearRegressor;\n",
    "    - DecisionTreeRegressor;\n",
    "    - RandomForestRegressor.\n",
    "4. Выберем наилучшую модель и проверим на тестовых данных."
   ]
  },
  {
   "cell_type": "markdown",
   "metadata": {},
   "source": [
    "### Вычисление итоговой sMAPE"
   ]
  },
  {
   "cell_type": "markdown",
   "metadata": {},
   "source": [
    "Создадим функцию для расчета sMAPE (Symmetric Mean Absolute Percentage Error, «симметричное среднее абсолютное процентное отклонение»).\n",
    "\n",
    "Метрика sMAPE вычисляется так:\n",
    "\n",
    "<img src='https://pictures.s3.yandex.net/resources/smape_1576238825.jpg' width=600>\n",
    "\n",
    "Где:\n",
    "\n",
    " - **y**i — значение целевого признака для объекта с порядковым номером ***i*** в выборке, на которой измеряется качество;\n",
    " - **ÿ**i - значение предсказания для объекта с порядковым номером ***i***, например, в тестовой выборке;\n",
    " - **N** — количество объектов в выборке.\n"
   ]
  },
  {
   "cell_type": "code",
   "execution_count": 45,
   "metadata": {},
   "outputs": [],
   "source": [
    "# Функция для расчета sMAPE\n",
    "def smape(predictions, target):\n",
    "    value = 1/len(target) * sum(abs(target - predictions)/((abs(target) + abs(predictions)) / 2) * 100)\n",
    "    return value"
   ]
  },
  {
   "cell_type": "markdown",
   "metadata": {},
   "source": [
    "Итоговая метрика sMAPE складывается из двух величин:\n",
    "\n",
    "<img src='https://pictures.s3.yandex.net/resources/_smape_1576238814.jpg' width=600>"
   ]
  },
  {
   "cell_type": "code",
   "execution_count": 46,
   "metadata": {},
   "outputs": [],
   "source": [
    "# Функция для расчета итогового sMAPE\n",
    "def final_smape(smape_r, smape_f):\n",
    "    value = 0.25 * smape_r + 0.75 * smape_f\n",
    "    return value"
   ]
  },
  {
   "cell_type": "code",
   "execution_count": 47,
   "metadata": {},
   "outputs": [],
   "source": [
    "smape_score = make_scorer(smape, greater_is_better=False)"
   ]
  },
  {
   "cell_type": "markdown",
   "metadata": {},
   "source": [
    "### Обучение моделей машинного обучения"
   ]
  },
  {
   "cell_type": "markdown",
   "metadata": {},
   "source": [
    "#### Подготовка датасетов для обучения моделей"
   ]
  },
  {
   "cell_type": "markdown",
   "metadata": {},
   "source": [
    "Необходимо предсказать 2 целевых признака:\n",
    "1. `rougher.output.recovery` - эффективность обогощения чернового концентрата после флотации\n",
    "2. `final.output.recovery` - эффективность обогащения финального концентрата после всего технологического процесса.\n",
    "\n",
    "В связи с тем, что для предсказания `rougher.output.recovery` нам необходимы только параметры проходящие на этапе флотации (1 этап в технологическом процессе обогощения) создадим новую обучающую выборку с параметрами флотации, т.к. остальные процессы происходят после. Если не удалить остальные параметры, то это может сказаться на точности модели.\n",
    "\n",
    "Для предсказания `final.output.recovery` в обучающей выборке оставим все параметры, т.к. для получения финального концентрата руда проходит весь технологический процесс обогащения."
   ]
  },
  {
   "cell_type": "code",
   "execution_count": 48,
   "metadata": {
    "scrolled": true
   },
   "outputs": [
    {
     "data": {
      "text/plain": [
       "((13598, 52), (13598,), (5123, 52), (5123,))"
      ]
     },
     "execution_count": 48,
     "metadata": {},
     "output_type": "execute_result"
    }
   ],
   "source": [
    "# Разделим данные на признаки и целевой признак\n",
    "# Создадим датасеты для предсказания параметра 'final.output.recovery'\n",
    "features_train_f = data_train.drop(['rougher.output.recovery', 'final.output.recovery'], axis=1)\n",
    "target_train_f = data_train['final.output.recovery']\n",
    "features_test_f = data_test.drop(['rougher.output.recovery', 'final.output.recovery'], axis=1)\n",
    "target_test_f = data_test['final.output.recovery']\n",
    "\n",
    "# Проверим на размер выборок для предсказания 'final.output.recovery'\n",
    "features_train_f.shape, target_train_f.shape, features_test_f.shape, target_test_f.shape"
   ]
  },
  {
   "cell_type": "code",
   "execution_count": 49,
   "metadata": {
    "scrolled": true
   },
   "outputs": [
    {
     "data": {
      "text/plain": [
       "((13598, 22), (13598,), (5123, 22), (5123,))"
      ]
     },
     "execution_count": 49,
     "metadata": {},
     "output_type": "execute_result"
    }
   ],
   "source": [
    "# Создадим датасеты для предсказания параметра 'rougher.output.recovery'\n",
    "features_train_r = features_train_f.loc[:, 'rougher.input.feed_ag': 'rougher.state.floatbank10_f_level']\n",
    "target_train_r = data_train['rougher.output.recovery']\n",
    "features_test_r = features_test_f.loc[:, 'rougher.input.feed_ag': 'rougher.state.floatbank10_f_level']\n",
    "target_test_r = data_test['rougher.output.recovery']\n",
    "\n",
    "# # Проверим на размер выборок для предсказания 'rougher.output.recovery'\n",
    "features_train_r.shape, target_train_r.shape, features_test_r.shape, target_test_r.shape"
   ]
  },
  {
   "cell_type": "markdown",
   "metadata": {},
   "source": [
    "#### Масштабирование данных"
   ]
  },
  {
   "cell_type": "code",
   "execution_count": 50,
   "metadata": {},
   "outputs": [],
   "source": [
    "# Создадим функцию для масштабированния датасетов\n",
    "def scale_features(features_train, features_test):\n",
    "    scaler = StandardScaler().fit(features_train)\n",
    "    features_train = scaler.transform(features_train)\n",
    "    features_test = scaler.transform(features_test)\n",
    "    return features_train, features_test"
   ]
  },
  {
   "cell_type": "code",
   "execution_count": 51,
   "metadata": {},
   "outputs": [],
   "source": [
    "# Промасштабируем данные для выборок для предсказания 'final.output.recovery'\n",
    "features_train_f, features_test_f = scale_features(features_train_f, features_test_f)\n",
    "\n",
    "# Промасштабируем данные для выборок для предсказания 'rougher.output.recovery'\n",
    "features_train_r, features_test_r = scale_features(features_train_r, features_test_r)"
   ]
  },
  {
   "cell_type": "markdown",
   "metadata": {},
   "source": [
    "#### Обучение модели линейной регресии"
   ]
  },
  {
   "cell_type": "code",
   "execution_count": 52,
   "metadata": {},
   "outputs": [],
   "source": [
    "model = LinearRegression()\n",
    "smape_f = cross_val_score(LinearRegression(), \n",
    "                          features_train_f, \n",
    "                          target_train_f, \n",
    "                          scoring=smape_score, \n",
    "                          cv=5,\n",
    "                          n_jobs=-1)\n",
    "smape_r = cross_val_score(LinearRegression(), \n",
    "                          features_train_f, \n",
    "                          target_train_r, \n",
    "                          scoring=smape_score, \n",
    "                          cv=5,\n",
    "                          n_jobs=-1)"
   ]
  },
  {
   "cell_type": "code",
   "execution_count": 53,
   "metadata": {},
   "outputs": [
    {
     "name": "stdout",
     "output_type": "stream",
     "text": [
      "\n",
      "Результаты обучения модели LinearRegression\n",
      "\n",
      "sMAPE final.output.recovery: 11.0260299975189\n",
      "\n",
      "sMAPE rougher.output.recovery: 7.281616036096405\n",
      "\n",
      "Final sMAPE: 10.089926507163277\n",
      "\n"
     ]
    }
   ],
   "source": [
    "print(f'''\n",
    "Результаты обучения модели LinearRegression\n",
    "\n",
    "sMAPE final.output.recovery: {smape_f.mean() * -1}\n",
    "\n",
    "sMAPE rougher.output.recovery: {smape_r.mean() * -1}\n",
    "\n",
    "Final sMAPE: {final_smape(smape_r, smape_f).mean()*-1}\n",
    "''')"
   ]
  },
  {
   "cell_type": "markdown",
   "metadata": {},
   "source": [
    "#### Обучение модели дерево решений"
   ]
  },
  {
   "cell_type": "code",
   "execution_count": 54,
   "metadata": {},
   "outputs": [],
   "source": [
    "model = DecisionTreeRegressor(random_state=RANDOM_STATE)\n",
    "param_grid_DTR = {'max_depth': range(1, 11, 1),\n",
    "                  'splitter': ('best', 'random')\n",
    "                 }\n",
    "\n",
    "grid_search = GridSearchCV(model,\n",
    "                           param_grid=param_grid_DTR,\n",
    "                           scoring=smape_score,\n",
    "                           cv=5,\n",
    "                           n_jobs=-1\n",
    "                            )\n",
    "\n",
    "DTR_pred_f = grid_search.fit(features_train_f, target_train_f)"
   ]
  },
  {
   "cell_type": "code",
   "execution_count": 55,
   "metadata": {},
   "outputs": [],
   "source": [
    "grid_search = GridSearchCV(model,\n",
    "                           param_grid=param_grid_DTR,\n",
    "                           scoring=smape_score,\n",
    "                           cv=5,\n",
    "                           n_jobs=-1\n",
    "                            )\n",
    "\n",
    "DTR_pred_r = grid_search.fit(features_train_r, target_train_r)"
   ]
  },
  {
   "cell_type": "code",
   "execution_count": 56,
   "metadata": {},
   "outputs": [
    {
     "name": "stdout",
     "output_type": "stream",
     "text": [
      "\n",
      "Результаты обучения модели DecisionTreeRegressor\n",
      "\n",
      "sMAPE final.output.recovery:   9.238306627024972\n",
      "    лучшие параметры модели:   {'max_depth': 3, 'splitter': 'best'}\n",
      "        \n",
      "sMAPE rougher.output.recovery: 6.939506388854403\n",
      "      лучшие параметры модели: {'max_depth': 5, 'splitter': 'best'}\n",
      "        \n",
      "Final sMAPE: 8.66360656748233\n",
      "\n"
     ]
    }
   ],
   "source": [
    "print(f'''\n",
    "Результаты обучения модели DecisionTreeRegressor\n",
    "\n",
    "sMAPE final.output.recovery:   {DTR_pred_f.best_score_ * -1}\n",
    "    лучшие параметры модели:   {DTR_pred_f.best_params_}\n",
    "        \n",
    "sMAPE rougher.output.recovery: {DTR_pred_r.best_score_ * -1}\n",
    "      лучшие параметры модели: {DTR_pred_r.best_params_}\n",
    "        \n",
    "Final sMAPE: {final_smape(DTR_pred_r.best_score_, DTR_pred_f.best_score_) * -1}\n",
    "''')"
   ]
  },
  {
   "cell_type": "markdown",
   "metadata": {},
   "source": [
    "#### Обучение модели случайный лес"
   ]
  },
  {
   "cell_type": "code",
   "execution_count": null,
   "metadata": {
    "scrolled": true
   },
   "outputs": [],
   "source": [
    "model = RandomForestRegressor(random_state=RANDOM_STATE)\n",
    "param_grid_RFR = {'n_estimators': range(10, 101, 10),\n",
    "                  'max_depth': range(1, 11, 1),\n",
    "                 }\n",
    "\n",
    "grid_search_f = GridSearchCV(model,\n",
    "                           param_grid=param_grid_RFR,\n",
    "                           scoring=smape_score,\n",
    "                           cv=5,\n",
    "                           n_jobs=-1\n",
    "                          )\n",
    "\n",
    "RFR_pred_f = grid_search_f.fit(features_train_f, target_train_f)"
   ]
  },
  {
   "cell_type": "code",
   "execution_count": null,
   "metadata": {},
   "outputs": [],
   "source": [
    "grid_search_r = GridSearchCV(model,\n",
    "                           param_grid=param_grid_RFR,\n",
    "                           scoring=smape_score,\n",
    "                           cv=5,\n",
    "                           n_jobs=-1\n",
    "                          )\n",
    "\n",
    "RFR_pred_r = grid_search_r.fit(features_train_r, target_train_r)"
   ]
  },
  {
   "cell_type": "code",
   "execution_count": null,
   "metadata": {},
   "outputs": [],
   "source": [
    "print(f'''\n",
    "Результаты обучения модели RandomForestRegressor\n",
    "\n",
    "sMAPE final.output.recovery:   {RFR_pred_f.best_score_ * -1}\n",
    "    лучшие параметры модели:   {RFR_pred_f.best_params_}\n",
    "    \n",
    "sMAPE rougher.output.recovery: {RFR_pred_r.best_score_ * -1}\n",
    "      лучшие параметры модели: {RFR_pred_r.best_params_}\n",
    "        \n",
    "Final sMAPE: {final_smape(RFR_pred_r.best_score_, RFR_pred_f.best_score_) * -1}\n",
    "''')"
   ]
  },
  {
   "cell_type": "markdown",
   "metadata": {},
   "source": [
    "По результатам обучения наилучшей оказалась модель **RandomForestRegressor**, получены следующие оценки:\n",
    "- sMAPE final.output.recovery:   8.918\n",
    "- sMAPE rougher.output.recovery: 6.507\n",
    "- **Final sMAPE: 8.316**\n",
    "\n",
    "Проверим модель на тестовых данных."
   ]
  },
  {
   "cell_type": "markdown",
   "metadata": {},
   "source": [
    "### Проверка лучшей модели на тестовой выборке"
   ]
  },
  {
   "cell_type": "code",
   "execution_count": null,
   "metadata": {},
   "outputs": [],
   "source": [
    "prediction_f_test = grid_search_f.predict(features_test_f)\n",
    "smape_f = smape(prediction_f_test, target_test_f)\n",
    "print(f'sMAPE final.output.recovery: {smape_f}')"
   ]
  },
  {
   "cell_type": "code",
   "execution_count": null,
   "metadata": {},
   "outputs": [],
   "source": [
    "prediction_r_test = grid_search_r.predict(features_test_r)\n",
    "smape_r = smape(prediction_r_test, target_test_r)\n",
    "print(f'sMAPE final.output.recovery: {smape_r}')"
   ]
  },
  {
   "cell_type": "code",
   "execution_count": null,
   "metadata": {},
   "outputs": [],
   "source": [
    "print(f'Итоговое sMAPE: {final_smape(smape_r, smape_f)}')"
   ]
  },
  {
   "cell_type": "markdown",
   "metadata": {},
   "source": [
    "### Проверка адекватности работы модели"
   ]
  },
  {
   "cell_type": "code",
   "execution_count": null,
   "metadata": {},
   "outputs": [],
   "source": [
    "dummy_f = DummyRegressor().fit(features_train_f, target_train_f)\n",
    "dummy_r = DummyRegressor().fit(features_train_r, target_train_r)\n",
    "\n",
    "dummy_pred_f = dummy_f.predict(features_test_f)\n",
    "dummy_pred_r = dummy_r.predict(features_test_r)\n",
    "\n",
    "smape_dummy_f = smape(dummy_pred_f, target_test_f)\n",
    "smape_dummy_r = smape(dummy_pred_r, target_test_r)"
   ]
  },
  {
   "cell_type": "code",
   "execution_count": null,
   "metadata": {},
   "outputs": [],
   "source": [
    "print(f'Dummy sMAPE final.output.recovery: {smape_dummy_f}')\n",
    "print(f'Dummy sMAPE final.output.recovery: {smape_dummy_r}')\n",
    "print(f'Итоговое Dummy sMAPE: {final_smape(smape_dummy_r, smape_dummy_f)}')"
   ]
  },
  {
   "cell_type": "markdown",
   "metadata": {},
   "source": [
    "Значений sMAPE при проверке на Dummy модели получились хуже, чем при проверке на тестовой выборке, что говорит нам о том, что выбранная модель работает адекватно."
   ]
  },
  {
   "cell_type": "markdown",
   "metadata": {},
   "source": [
    "После проверки данных на тестовых данных результаты оказались хуже."
   ]
  },
  {
   "cell_type": "markdown",
   "metadata": {},
   "source": [
    "## Вывод\n",
    "\n",
    "В результате работы были выполнено:\n",
    "1. Подгружены и данные.\n",
    "2. Проведен анализ данных.\n",
    "3. Построены графики для визуального ознакомления с данными.\n",
    "4. Почищены данные от аномалий.\n",
    "5. Обучены модели машинного обучения.\n",
    "6. Выбрана лучшая модель и проверена на тестовых данных.\n",
    "7. Проведена проверка работы на адекватность\n",
    "\n",
    "В результате наилучшей моделью оказалась модель **RandomForestRegressor** при обучении получены следующие оценки:\n",
    "- sMAPE final.output.recovery: 8.918\n",
    "- sMAPE rougher.output.recovery: 6.507\n",
    "- Final sMAPE: 8.316\n",
    "\n",
    "При проверке модели на тестовых данных были получены следующие результаты:\n",
    "- sMAPE final.output.recovery: 8.262\n",
    "- sMAPE final.output.recovery: 4.63\n",
    "- Final sMAPE: 7.35\n",
    "\n",
    "При проверке модели на адекватность на Dummy модели получили следующие результаты.\n",
    "- Dummy sMAPE final.output.recovery: 8.586124677403095\n",
    "- Dummy sMAPE final.output.recovery: 5.360399873688372\n",
    "- Final Dummy sMAPE: 7.779693476474415\n",
    "\n",
    "Значений sMAPE при проверке на Dummy модели получились хуже, чем при проверке на тестовой выборке, что говорит нам о том, что выбранная модель работает адекватно."
   ]
  }
 ],
 "metadata": {
  "ExecuteTimeLog": [
   {
    "duration": 1400,
    "start_time": "2023-04-17T20:12:21.150Z"
   },
   {
    "duration": 3286,
    "start_time": "2023-04-17T20:14:55.063Z"
   },
   {
    "duration": 26,
    "start_time": "2023-04-17T20:15:11.603Z"
   },
   {
    "duration": 1257,
    "start_time": "2023-04-17T20:55:25.098Z"
   },
   {
    "duration": 783,
    "start_time": "2023-04-17T20:55:26.356Z"
   },
   {
    "duration": 26,
    "start_time": "2023-04-17T20:55:27.141Z"
   },
   {
    "duration": 27,
    "start_time": "2023-04-17T20:55:37.213Z"
   },
   {
    "duration": 16,
    "start_time": "2023-04-17T20:56:20.547Z"
   },
   {
    "duration": 113,
    "start_time": "2023-04-17T20:56:39.812Z"
   },
   {
    "duration": 18,
    "start_time": "2023-04-17T20:56:42.531Z"
   },
   {
    "duration": 1526,
    "start_time": "2023-04-18T19:09:47.804Z"
   },
   {
    "duration": 2021,
    "start_time": "2023-04-18T19:09:49.334Z"
   },
   {
    "duration": 29,
    "start_time": "2023-04-18T19:09:51.357Z"
   },
   {
    "duration": 34,
    "start_time": "2023-04-18T19:09:51.388Z"
   },
   {
    "duration": 33,
    "start_time": "2023-04-18T19:09:51.426Z"
   },
   {
    "duration": 60,
    "start_time": "2023-04-18T19:09:51.462Z"
   },
   {
    "duration": 42,
    "start_time": "2023-04-18T19:11:23.059Z"
   },
   {
    "duration": 10,
    "start_time": "2023-04-18T19:11:27.702Z"
   },
   {
    "duration": 131,
    "start_time": "2023-04-18T19:11:40.906Z"
   },
   {
    "duration": 130,
    "start_time": "2023-04-18T19:11:46.740Z"
   },
   {
    "duration": 6,
    "start_time": "2023-04-18T19:14:06.903Z"
   },
   {
    "duration": 6,
    "start_time": "2023-04-18T19:14:13.905Z"
   },
   {
    "duration": 7,
    "start_time": "2023-04-18T19:14:17.318Z"
   },
   {
    "duration": 4,
    "start_time": "2023-04-18T19:39:21.114Z"
   },
   {
    "duration": 127,
    "start_time": "2023-04-18T19:45:08.551Z"
   },
   {
    "duration": 76,
    "start_time": "2023-04-18T19:45:14.048Z"
   },
   {
    "duration": 312,
    "start_time": "2023-04-18T19:45:34.433Z"
   },
   {
    "duration": 6,
    "start_time": "2023-04-18T19:45:48.302Z"
   },
   {
    "duration": 18,
    "start_time": "2023-04-18T19:45:51.908Z"
   },
   {
    "duration": 13,
    "start_time": "2023-04-18T19:47:59.134Z"
   },
   {
    "duration": 18,
    "start_time": "2023-04-18T19:48:01.786Z"
   },
   {
    "duration": 17,
    "start_time": "2023-04-18T19:49:40.649Z"
   },
   {
    "duration": 4,
    "start_time": "2023-04-18T19:51:13.784Z"
   },
   {
    "duration": 3,
    "start_time": "2023-04-18T19:51:46.546Z"
   },
   {
    "duration": 4,
    "start_time": "2023-04-18T19:55:18.889Z"
   },
   {
    "duration": 134,
    "start_time": "2023-04-18T19:56:06.150Z"
   },
   {
    "duration": 142,
    "start_time": "2023-04-18T19:56:24.812Z"
   },
   {
    "duration": 236,
    "start_time": "2023-04-18T19:56:34.301Z"
   },
   {
    "duration": 122,
    "start_time": "2023-04-18T19:58:19.307Z"
   },
   {
    "duration": 12,
    "start_time": "2023-04-18T19:58:23.378Z"
   },
   {
    "duration": 84,
    "start_time": "2023-04-18T19:58:36.580Z"
   },
   {
    "duration": 10,
    "start_time": "2023-04-18T19:58:49.117Z"
   },
   {
    "duration": 9,
    "start_time": "2023-04-18T19:58:52.434Z"
   },
   {
    "duration": 11,
    "start_time": "2023-04-18T19:58:55.504Z"
   },
   {
    "duration": 10,
    "start_time": "2023-04-18T19:59:02.334Z"
   },
   {
    "duration": 10,
    "start_time": "2023-04-18T19:59:06.124Z"
   },
   {
    "duration": 9,
    "start_time": "2023-04-18T19:59:11.951Z"
   },
   {
    "duration": 10,
    "start_time": "2023-04-18T19:59:16.103Z"
   },
   {
    "duration": 10,
    "start_time": "2023-04-18T19:59:18.134Z"
   },
   {
    "duration": 12,
    "start_time": "2023-04-18T19:59:26.106Z"
   },
   {
    "duration": 12,
    "start_time": "2023-04-18T19:59:31.251Z"
   },
   {
    "duration": 10,
    "start_time": "2023-04-18T19:59:40.703Z"
   },
   {
    "duration": 10,
    "start_time": "2023-04-18T19:59:44.604Z"
   },
   {
    "duration": 22,
    "start_time": "2023-04-18T19:59:57.556Z"
   },
   {
    "duration": 20,
    "start_time": "2023-04-18T20:00:01.911Z"
   },
   {
    "duration": 15,
    "start_time": "2023-04-18T20:00:51.609Z"
   },
   {
    "duration": 10,
    "start_time": "2023-04-18T20:01:10.101Z"
   },
   {
    "duration": 177,
    "start_time": "2023-04-18T20:01:13.906Z"
   },
   {
    "duration": 69,
    "start_time": "2023-04-18T20:01:18.000Z"
   },
   {
    "duration": 10,
    "start_time": "2023-04-18T20:01:28.102Z"
   },
   {
    "duration": 12,
    "start_time": "2023-04-18T20:01:48.613Z"
   },
   {
    "duration": 24,
    "start_time": "2023-04-18T20:02:07.896Z"
   },
   {
    "duration": 16,
    "start_time": "2023-04-18T20:02:13.901Z"
   },
   {
    "duration": 15,
    "start_time": "2023-04-18T20:02:27.044Z"
   },
   {
    "duration": 16,
    "start_time": "2023-04-18T20:02:34.702Z"
   },
   {
    "duration": 17,
    "start_time": "2023-04-18T20:03:05.645Z"
   },
   {
    "duration": 18,
    "start_time": "2023-04-18T20:03:20.280Z"
   },
   {
    "duration": 55,
    "start_time": "2023-04-18T20:09:29.480Z"
   },
   {
    "duration": 963,
    "start_time": "2023-04-18T20:21:06.485Z"
   },
   {
    "duration": 4,
    "start_time": "2023-04-18T20:21:16.729Z"
   },
   {
    "duration": 725,
    "start_time": "2023-04-18T20:22:15.199Z"
   },
   {
    "duration": 1028,
    "start_time": "2023-04-18T20:22:26.308Z"
   },
   {
    "duration": 838,
    "start_time": "2023-04-18T20:23:15.014Z"
   },
   {
    "duration": 4,
    "start_time": "2023-04-18T20:23:27.583Z"
   },
   {
    "duration": 6,
    "start_time": "2023-04-18T20:23:28.345Z"
   },
   {
    "duration": 826,
    "start_time": "2023-04-18T20:23:28.853Z"
   },
   {
    "duration": 560,
    "start_time": "2023-04-18T20:23:41.634Z"
   },
   {
    "duration": 870,
    "start_time": "2023-04-18T20:23:55.634Z"
   },
   {
    "duration": 53,
    "start_time": "2023-04-18T20:24:40.589Z"
   },
   {
    "duration": 7,
    "start_time": "2023-04-18T20:24:50.582Z"
   },
   {
    "duration": 6,
    "start_time": "2023-04-18T20:25:10.383Z"
   },
   {
    "duration": 7,
    "start_time": "2023-04-18T20:25:17.555Z"
   },
   {
    "duration": 6,
    "start_time": "2023-04-18T20:27:05.982Z"
   },
   {
    "duration": 6,
    "start_time": "2023-04-18T20:27:08.102Z"
   },
   {
    "duration": 3,
    "start_time": "2023-04-18T20:29:37.814Z"
   },
   {
    "duration": 12,
    "start_time": "2023-04-18T20:29:38.189Z"
   },
   {
    "duration": 6,
    "start_time": "2023-04-18T20:29:38.734Z"
   },
   {
    "duration": 6,
    "start_time": "2023-04-18T20:29:39.135Z"
   },
   {
    "duration": 4,
    "start_time": "2023-04-18T20:30:21.953Z"
   },
   {
    "duration": 6,
    "start_time": "2023-04-18T20:30:22.686Z"
   },
   {
    "duration": 6,
    "start_time": "2023-04-18T20:30:23.455Z"
   },
   {
    "duration": 6,
    "start_time": "2023-04-18T20:30:24.035Z"
   },
   {
    "duration": 3,
    "start_time": "2023-04-18T20:32:59.479Z"
   },
   {
    "duration": 6,
    "start_time": "2023-04-18T20:32:59.879Z"
   },
   {
    "duration": 5,
    "start_time": "2023-04-18T20:33:01.082Z"
   },
   {
    "duration": 6,
    "start_time": "2023-04-18T20:33:01.441Z"
   },
   {
    "duration": 6,
    "start_time": "2023-04-18T20:34:21.047Z"
   },
   {
    "duration": 6,
    "start_time": "2023-04-18T20:34:36.183Z"
   },
   {
    "duration": 43,
    "start_time": "2023-04-18T20:34:40.191Z"
   },
   {
    "duration": 6,
    "start_time": "2023-04-18T20:34:43.422Z"
   },
   {
    "duration": 7,
    "start_time": "2023-04-18T20:34:57.119Z"
   },
   {
    "duration": 6,
    "start_time": "2023-04-18T20:35:08.877Z"
   },
   {
    "duration": 6,
    "start_time": "2023-04-18T20:35:15.337Z"
   },
   {
    "duration": 6,
    "start_time": "2023-04-18T20:35:22.054Z"
   },
   {
    "duration": 7,
    "start_time": "2023-04-18T20:35:25.988Z"
   },
   {
    "duration": 8,
    "start_time": "2023-04-18T20:37:41.658Z"
   },
   {
    "duration": 4,
    "start_time": "2023-04-18T20:37:55.019Z"
   },
   {
    "duration": 10,
    "start_time": "2023-04-18T20:38:20.293Z"
   },
   {
    "duration": 7,
    "start_time": "2023-04-18T20:38:27.410Z"
   },
   {
    "duration": 5,
    "start_time": "2023-04-18T20:38:32.122Z"
   },
   {
    "duration": 6,
    "start_time": "2023-04-18T20:38:41.606Z"
   },
   {
    "duration": 6,
    "start_time": "2023-04-18T20:39:00.798Z"
   },
   {
    "duration": 3,
    "start_time": "2023-04-18T20:39:40.075Z"
   },
   {
    "duration": 5,
    "start_time": "2023-04-18T20:40:03.082Z"
   },
   {
    "duration": 6,
    "start_time": "2023-04-18T20:40:37.505Z"
   },
   {
    "duration": 6,
    "start_time": "2023-04-18T20:41:37.679Z"
   },
   {
    "duration": 1504,
    "start_time": "2023-04-19T19:07:13.209Z"
   },
   {
    "duration": 1976,
    "start_time": "2023-04-19T19:07:14.715Z"
   },
   {
    "duration": 59,
    "start_time": "2023-04-19T19:07:16.692Z"
   },
   {
    "duration": 16,
    "start_time": "2023-04-19T19:07:16.753Z"
   },
   {
    "duration": 24,
    "start_time": "2023-04-19T19:07:16.770Z"
   },
   {
    "duration": 19,
    "start_time": "2023-04-19T19:07:16.796Z"
   },
   {
    "duration": 3,
    "start_time": "2023-04-19T19:07:16.816Z"
   },
   {
    "duration": 221,
    "start_time": "2023-04-19T19:07:16.820Z"
   },
   {
    "duration": 13,
    "start_time": "2023-04-19T19:07:17.043Z"
   },
   {
    "duration": 9,
    "start_time": "2023-04-19T19:07:17.058Z"
   },
   {
    "duration": 2,
    "start_time": "2023-04-19T19:07:17.068Z"
   },
   {
    "duration": 31,
    "start_time": "2023-04-19T19:07:17.072Z"
   },
   {
    "duration": 6,
    "start_time": "2023-04-19T19:07:17.105Z"
   },
   {
    "duration": 5,
    "start_time": "2023-04-19T19:07:17.112Z"
   },
   {
    "duration": 1310,
    "start_time": "2023-04-19T19:37:26.117Z"
   },
   {
    "duration": 622,
    "start_time": "2023-04-19T19:37:27.430Z"
   },
   {
    "duration": 60,
    "start_time": "2023-04-19T19:37:28.053Z"
   },
   {
    "duration": 15,
    "start_time": "2023-04-19T19:37:28.115Z"
   },
   {
    "duration": 10,
    "start_time": "2023-04-19T19:37:28.132Z"
   },
   {
    "duration": 14,
    "start_time": "2023-04-19T19:37:28.143Z"
   },
   {
    "duration": 2,
    "start_time": "2023-04-19T19:37:28.159Z"
   },
   {
    "duration": 226,
    "start_time": "2023-04-19T19:37:28.163Z"
   },
   {
    "duration": 16,
    "start_time": "2023-04-19T19:37:28.390Z"
   },
   {
    "duration": 11,
    "start_time": "2023-04-19T19:37:28.407Z"
   },
   {
    "duration": 3,
    "start_time": "2023-04-19T19:37:28.419Z"
   },
   {
    "duration": 7,
    "start_time": "2023-04-19T19:37:28.423Z"
   },
   {
    "duration": 6,
    "start_time": "2023-04-19T19:37:28.432Z"
   },
   {
    "duration": 5,
    "start_time": "2023-04-19T19:37:28.440Z"
   },
   {
    "duration": 1353,
    "start_time": "2023-04-19T19:37:42.897Z"
   },
   {
    "duration": 696,
    "start_time": "2023-04-19T19:37:44.252Z"
   },
   {
    "duration": 71,
    "start_time": "2023-04-19T19:37:44.950Z"
   },
   {
    "duration": 20,
    "start_time": "2023-04-19T19:37:45.023Z"
   },
   {
    "duration": 13,
    "start_time": "2023-04-19T19:37:45.045Z"
   },
   {
    "duration": 41,
    "start_time": "2023-04-19T19:37:45.060Z"
   },
   {
    "duration": 3,
    "start_time": "2023-04-19T19:37:45.103Z"
   },
   {
    "duration": 232,
    "start_time": "2023-04-19T19:37:45.108Z"
   },
   {
    "duration": 15,
    "start_time": "2023-04-19T19:37:45.341Z"
   },
   {
    "duration": 11,
    "start_time": "2023-04-19T19:37:45.359Z"
   },
   {
    "duration": 25,
    "start_time": "2023-04-19T19:37:45.371Z"
   },
   {
    "duration": 13,
    "start_time": "2023-04-19T19:37:45.398Z"
   },
   {
    "duration": 21,
    "start_time": "2023-04-19T19:37:45.413Z"
   },
   {
    "duration": 6,
    "start_time": "2023-04-19T19:37:45.436Z"
   },
   {
    "duration": 926,
    "start_time": "2023-04-19T19:39:00.046Z"
   },
   {
    "duration": 8,
    "start_time": "2023-04-19T19:39:10.942Z"
   },
   {
    "duration": 6,
    "start_time": "2023-04-19T19:39:55.023Z"
   },
   {
    "duration": 8,
    "start_time": "2023-04-19T19:39:55.031Z"
   },
   {
    "duration": 35,
    "start_time": "2023-04-19T19:40:58.722Z"
   },
   {
    "duration": 19,
    "start_time": "2023-04-19T19:43:39.488Z"
   },
   {
    "duration": 4,
    "start_time": "2023-04-19T19:46:38.690Z"
   },
   {
    "duration": 13,
    "start_time": "2023-04-19T19:46:48.285Z"
   },
   {
    "duration": 4,
    "start_time": "2023-04-19T19:46:50.689Z"
   },
   {
    "duration": 15,
    "start_time": "2023-04-19T19:46:59.050Z"
   },
   {
    "duration": 38,
    "start_time": "2023-04-19T19:47:14.406Z"
   },
   {
    "duration": 5,
    "start_time": "2023-04-19T19:48:05.129Z"
   },
   {
    "duration": 44,
    "start_time": "2023-04-19T19:48:06.093Z"
   },
   {
    "duration": 6,
    "start_time": "2023-04-19T19:53:54.159Z"
   },
   {
    "duration": 39,
    "start_time": "2023-04-19T19:53:55.457Z"
   },
   {
    "duration": 1323,
    "start_time": "2023-04-19T19:54:06.479Z"
   },
   {
    "duration": 647,
    "start_time": "2023-04-19T19:54:07.804Z"
   },
   {
    "duration": 66,
    "start_time": "2023-04-19T19:54:08.452Z"
   },
   {
    "duration": 17,
    "start_time": "2023-04-19T19:54:08.519Z"
   },
   {
    "duration": 12,
    "start_time": "2023-04-19T19:54:08.538Z"
   },
   {
    "duration": 19,
    "start_time": "2023-04-19T19:54:08.551Z"
   },
   {
    "duration": 24,
    "start_time": "2023-04-19T19:54:08.571Z"
   },
   {
    "duration": 208,
    "start_time": "2023-04-19T19:54:08.596Z"
   },
   {
    "duration": 13,
    "start_time": "2023-04-19T19:54:08.806Z"
   },
   {
    "duration": 9,
    "start_time": "2023-04-19T19:54:08.820Z"
   },
   {
    "duration": 3,
    "start_time": "2023-04-19T19:54:08.830Z"
   },
   {
    "duration": 6,
    "start_time": "2023-04-19T19:54:08.834Z"
   },
   {
    "duration": 7,
    "start_time": "2023-04-19T19:54:08.841Z"
   },
   {
    "duration": 4,
    "start_time": "2023-04-19T19:54:08.850Z"
   },
   {
    "duration": 35,
    "start_time": "2023-04-19T19:54:08.894Z"
   },
   {
    "duration": 7,
    "start_time": "2023-04-19T19:54:08.930Z"
   },
   {
    "duration": 11,
    "start_time": "2023-04-19T19:54:08.939Z"
   },
   {
    "duration": 45,
    "start_time": "2023-04-19T19:54:08.952Z"
   },
   {
    "duration": 46,
    "start_time": "2023-04-19T19:54:08.998Z"
   },
   {
    "duration": 12,
    "start_time": "2023-04-19T19:57:35.550Z"
   },
   {
    "duration": 63,
    "start_time": "2023-04-19T19:57:45.253Z"
   },
   {
    "duration": 8,
    "start_time": "2023-04-19T19:57:51.103Z"
   },
   {
    "duration": 8,
    "start_time": "2023-04-19T19:58:03.881Z"
   },
   {
    "duration": 40,
    "start_time": "2023-04-19T19:58:08.697Z"
   },
   {
    "duration": 92,
    "start_time": "2023-04-19T19:58:18.087Z"
   },
   {
    "duration": 15,
    "start_time": "2023-04-19T19:58:22.416Z"
   },
   {
    "duration": 52,
    "start_time": "2023-04-19T19:58:31.893Z"
   },
   {
    "duration": 9,
    "start_time": "2023-04-19T19:58:35.636Z"
   },
   {
    "duration": 14,
    "start_time": "2023-04-19T19:58:45.801Z"
   },
   {
    "duration": 138,
    "start_time": "2023-04-19T19:58:52.212Z"
   },
   {
    "duration": 56,
    "start_time": "2023-04-19T19:59:15.009Z"
   },
   {
    "duration": 8,
    "start_time": "2023-04-19T20:05:47.006Z"
   },
   {
    "duration": 10,
    "start_time": "2023-04-19T20:05:55.095Z"
   },
   {
    "duration": 52,
    "start_time": "2023-04-19T20:06:05.723Z"
   },
   {
    "duration": 7,
    "start_time": "2023-04-19T20:06:10.689Z"
   },
   {
    "duration": 9,
    "start_time": "2023-04-19T20:06:51.197Z"
   },
   {
    "duration": 72,
    "start_time": "2023-04-19T20:10:29.975Z"
   },
   {
    "duration": 114,
    "start_time": "2023-04-19T20:11:13.898Z"
   },
   {
    "duration": 44,
    "start_time": "2023-04-19T20:11:18.814Z"
   },
   {
    "duration": 8,
    "start_time": "2023-04-19T20:11:32.912Z"
   },
   {
    "duration": 46,
    "start_time": "2023-04-19T20:11:38.198Z"
   },
   {
    "duration": 41,
    "start_time": "2023-04-19T20:11:44.002Z"
   },
   {
    "duration": 9,
    "start_time": "2023-04-19T20:11:48.108Z"
   },
   {
    "duration": 6,
    "start_time": "2023-04-19T20:12:02.437Z"
   },
   {
    "duration": 11,
    "start_time": "2023-04-19T20:13:11.047Z"
   },
   {
    "duration": 4,
    "start_time": "2023-04-19T20:13:21.991Z"
   },
   {
    "duration": 7,
    "start_time": "2023-04-19T20:13:34.494Z"
   },
   {
    "duration": 7,
    "start_time": "2023-04-19T20:13:50.101Z"
   },
   {
    "duration": 7,
    "start_time": "2023-04-19T20:13:55.686Z"
   },
   {
    "duration": 38,
    "start_time": "2023-04-19T20:14:45.425Z"
   },
   {
    "duration": 6,
    "start_time": "2023-04-19T20:14:49.525Z"
   },
   {
    "duration": 8,
    "start_time": "2023-04-19T20:15:03.892Z"
   },
   {
    "duration": 10,
    "start_time": "2023-04-19T20:15:24.983Z"
   },
   {
    "duration": 11,
    "start_time": "2023-04-19T20:15:55.793Z"
   },
   {
    "duration": 9,
    "start_time": "2023-04-19T20:16:15.292Z"
   },
   {
    "duration": 7,
    "start_time": "2023-04-19T20:16:45.589Z"
   },
   {
    "duration": 7,
    "start_time": "2023-04-19T20:16:47.249Z"
   },
   {
    "duration": 10,
    "start_time": "2023-04-19T20:17:12.413Z"
   },
   {
    "duration": 9,
    "start_time": "2023-04-19T20:17:18.992Z"
   },
   {
    "duration": 9,
    "start_time": "2023-04-19T20:17:24.296Z"
   },
   {
    "duration": 9,
    "start_time": "2023-04-19T20:17:30.407Z"
   },
   {
    "duration": 51,
    "start_time": "2023-04-19T20:17:34.989Z"
   },
   {
    "duration": 5,
    "start_time": "2023-04-19T20:17:41.188Z"
   },
   {
    "duration": 10,
    "start_time": "2023-04-19T20:18:20.195Z"
   },
   {
    "duration": 15,
    "start_time": "2023-04-19T20:18:52.737Z"
   },
   {
    "duration": 2,
    "start_time": "2023-04-19T20:19:22.034Z"
   },
   {
    "duration": 4,
    "start_time": "2023-04-19T20:22:38.522Z"
   },
   {
    "duration": 3,
    "start_time": "2023-04-19T20:32:56.385Z"
   },
   {
    "duration": 4,
    "start_time": "2023-04-19T20:33:29.282Z"
   },
   {
    "duration": 5,
    "start_time": "2023-04-19T20:38:48.517Z"
   },
   {
    "duration": 3,
    "start_time": "2023-04-19T20:39:24.423Z"
   },
   {
    "duration": 4,
    "start_time": "2023-04-19T20:42:17.214Z"
   },
   {
    "duration": 2,
    "start_time": "2023-04-19T20:42:49.277Z"
   },
   {
    "duration": 48,
    "start_time": "2023-04-19T20:43:12.598Z"
   },
   {
    "duration": 7,
    "start_time": "2023-04-19T20:43:29.985Z"
   },
   {
    "duration": 15,
    "start_time": "2023-04-19T20:45:01.102Z"
   },
   {
    "duration": 12,
    "start_time": "2023-04-19T20:45:03.709Z"
   },
   {
    "duration": 14,
    "start_time": "2023-04-19T20:45:05.505Z"
   },
   {
    "duration": 1201,
    "start_time": "2023-04-19T20:45:21.309Z"
   },
   {
    "duration": 619,
    "start_time": "2023-04-19T20:45:22.512Z"
   },
   {
    "duration": 61,
    "start_time": "2023-04-19T20:45:23.133Z"
   },
   {
    "duration": 22,
    "start_time": "2023-04-19T20:45:23.197Z"
   },
   {
    "duration": 15,
    "start_time": "2023-04-19T20:45:23.220Z"
   },
   {
    "duration": 19,
    "start_time": "2023-04-19T20:45:23.237Z"
   },
   {
    "duration": 3,
    "start_time": "2023-04-19T20:45:23.258Z"
   },
   {
    "duration": 223,
    "start_time": "2023-04-19T20:45:23.263Z"
   },
   {
    "duration": 14,
    "start_time": "2023-04-19T20:45:23.493Z"
   },
   {
    "duration": 8,
    "start_time": "2023-04-19T20:45:23.509Z"
   },
   {
    "duration": 2,
    "start_time": "2023-04-19T20:45:23.519Z"
   },
   {
    "duration": 6,
    "start_time": "2023-04-19T20:45:23.522Z"
   },
   {
    "duration": 4,
    "start_time": "2023-04-19T20:45:23.529Z"
   },
   {
    "duration": 3,
    "start_time": "2023-04-19T20:45:23.535Z"
   },
   {
    "duration": 5,
    "start_time": "2023-04-19T20:45:23.539Z"
   },
   {
    "duration": 52,
    "start_time": "2023-04-19T20:45:23.545Z"
   },
   {
    "duration": 5,
    "start_time": "2023-04-19T20:45:23.599Z"
   },
   {
    "duration": 16,
    "start_time": "2023-04-19T20:45:23.605Z"
   },
   {
    "duration": 15,
    "start_time": "2023-04-19T20:45:23.623Z"
   },
   {
    "duration": 18,
    "start_time": "2023-04-19T20:45:23.640Z"
   },
   {
    "duration": 4,
    "start_time": "2023-04-19T20:45:23.660Z"
   },
   {
    "duration": 29,
    "start_time": "2023-04-19T20:45:23.665Z"
   },
   {
    "duration": 1627,
    "start_time": "2023-04-20T17:04:45.770Z"
   },
   {
    "duration": 2863,
    "start_time": "2023-04-20T17:04:47.399Z"
   },
   {
    "duration": 58,
    "start_time": "2023-04-20T17:04:50.264Z"
   },
   {
    "duration": 16,
    "start_time": "2023-04-20T17:04:50.324Z"
   },
   {
    "duration": 23,
    "start_time": "2023-04-20T17:04:50.342Z"
   },
   {
    "duration": 30,
    "start_time": "2023-04-20T17:04:50.367Z"
   },
   {
    "duration": 3,
    "start_time": "2023-04-20T17:04:50.399Z"
   },
   {
    "duration": 227,
    "start_time": "2023-04-20T17:04:50.404Z"
   },
   {
    "duration": 14,
    "start_time": "2023-04-20T17:04:50.632Z"
   },
   {
    "duration": 26,
    "start_time": "2023-04-20T17:04:50.649Z"
   },
   {
    "duration": 28,
    "start_time": "2023-04-20T17:04:50.676Z"
   },
   {
    "duration": 42,
    "start_time": "2023-04-20T17:04:50.705Z"
   },
   {
    "duration": 42,
    "start_time": "2023-04-20T17:04:50.748Z"
   },
   {
    "duration": 29,
    "start_time": "2023-04-20T17:04:50.791Z"
   },
   {
    "duration": 39,
    "start_time": "2023-04-20T17:04:50.822Z"
   },
   {
    "duration": 30,
    "start_time": "2023-04-20T17:04:50.863Z"
   },
   {
    "duration": 31,
    "start_time": "2023-04-20T17:04:50.894Z"
   },
   {
    "duration": 35,
    "start_time": "2023-04-20T17:04:50.927Z"
   },
   {
    "duration": 59,
    "start_time": "2023-04-20T17:04:50.964Z"
   },
   {
    "duration": 65,
    "start_time": "2023-04-20T17:04:51.025Z"
   },
   {
    "duration": 35,
    "start_time": "2023-04-20T17:04:51.091Z"
   },
   {
    "duration": 52,
    "start_time": "2023-04-20T17:04:51.127Z"
   },
   {
    "duration": 37,
    "start_time": "2023-04-20T17:20:31.629Z"
   },
   {
    "duration": 41,
    "start_time": "2023-04-20T17:21:12.626Z"
   },
   {
    "duration": 7,
    "start_time": "2023-04-20T17:28:39.132Z"
   },
   {
    "duration": 111,
    "start_time": "2023-04-20T17:28:47.792Z"
   },
   {
    "duration": 40,
    "start_time": "2023-04-20T17:29:18.003Z"
   },
   {
    "duration": 42,
    "start_time": "2023-04-20T17:29:25.728Z"
   },
   {
    "duration": 2541,
    "start_time": "2023-04-20T17:30:04.639Z"
   },
   {
    "duration": 702,
    "start_time": "2023-04-20T17:30:07.183Z"
   },
   {
    "duration": 65,
    "start_time": "2023-04-20T17:30:07.887Z"
   },
   {
    "duration": 33,
    "start_time": "2023-04-20T17:30:07.954Z"
   },
   {
    "duration": 14,
    "start_time": "2023-04-20T17:30:07.989Z"
   },
   {
    "duration": 51,
    "start_time": "2023-04-20T17:30:08.005Z"
   },
   {
    "duration": 7,
    "start_time": "2023-04-20T17:30:08.058Z"
   },
   {
    "duration": 243,
    "start_time": "2023-04-20T17:30:08.067Z"
   },
   {
    "duration": 16,
    "start_time": "2023-04-20T17:30:08.311Z"
   },
   {
    "duration": 23,
    "start_time": "2023-04-20T17:30:08.328Z"
   },
   {
    "duration": 20,
    "start_time": "2023-04-20T17:30:08.353Z"
   },
   {
    "duration": 17,
    "start_time": "2023-04-20T17:30:08.374Z"
   },
   {
    "duration": 23,
    "start_time": "2023-04-20T17:30:08.393Z"
   },
   {
    "duration": 23,
    "start_time": "2023-04-20T17:30:08.419Z"
   },
   {
    "duration": 22,
    "start_time": "2023-04-20T17:30:08.444Z"
   },
   {
    "duration": 38,
    "start_time": "2023-04-20T17:30:08.468Z"
   },
   {
    "duration": 34,
    "start_time": "2023-04-20T17:30:08.508Z"
   },
   {
    "duration": 34,
    "start_time": "2023-04-20T17:30:08.544Z"
   },
   {
    "duration": 28,
    "start_time": "2023-04-20T17:30:08.579Z"
   },
   {
    "duration": 59,
    "start_time": "2023-04-20T17:30:08.608Z"
   },
   {
    "duration": 31,
    "start_time": "2023-04-20T17:30:08.668Z"
   },
   {
    "duration": 52,
    "start_time": "2023-04-20T17:30:08.700Z"
   },
   {
    "duration": 66,
    "start_time": "2023-04-20T17:30:08.754Z"
   },
   {
    "duration": 79,
    "start_time": "2023-04-20T17:30:08.822Z"
   },
   {
    "duration": 115,
    "start_time": "2023-04-20T17:31:02.133Z"
   },
   {
    "duration": 17,
    "start_time": "2023-04-20T17:31:09.624Z"
   },
   {
    "duration": 436,
    "start_time": "2023-04-20T17:31:21.837Z"
   },
   {
    "duration": 992,
    "start_time": "2023-04-20T17:31:51.387Z"
   },
   {
    "duration": 783,
    "start_time": "2023-04-20T17:32:04.170Z"
   },
   {
    "duration": 88,
    "start_time": "2023-04-20T17:32:23.304Z"
   },
   {
    "duration": 3472,
    "start_time": "2023-04-20T17:32:32.170Z"
   },
   {
    "duration": 3909,
    "start_time": "2023-04-20T17:32:57.963Z"
   },
   {
    "duration": 215,
    "start_time": "2023-04-20T17:35:59.268Z"
   },
   {
    "duration": 3641,
    "start_time": "2023-04-20T17:38:15.561Z"
   },
   {
    "duration": 2516,
    "start_time": "2023-04-20T17:38:27.607Z"
   },
   {
    "duration": 4014,
    "start_time": "2023-04-20T17:38:40.517Z"
   },
   {
    "duration": 4068,
    "start_time": "2023-04-20T17:38:55.153Z"
   },
   {
    "duration": 3585,
    "start_time": "2023-04-20T17:39:05.329Z"
   },
   {
    "duration": 3704,
    "start_time": "2023-04-20T17:39:21.532Z"
   },
   {
    "duration": 3645,
    "start_time": "2023-04-20T17:39:33.430Z"
   },
   {
    "duration": 4133,
    "start_time": "2023-04-20T17:39:42.189Z"
   },
   {
    "duration": 2681,
    "start_time": "2023-04-20T17:39:53.154Z"
   },
   {
    "duration": 3835,
    "start_time": "2023-04-20T17:40:04.553Z"
   },
   {
    "duration": 3904,
    "start_time": "2023-04-20T17:40:13.289Z"
   },
   {
    "duration": 17411,
    "start_time": "2023-04-20T17:41:37.446Z"
   },
   {
    "duration": 16840,
    "start_time": "2023-04-20T17:42:08.757Z"
   },
   {
    "duration": 17034,
    "start_time": "2023-04-20T17:44:18.285Z"
   },
   {
    "duration": 17349,
    "start_time": "2023-04-20T17:44:45.346Z"
   },
   {
    "duration": 17450,
    "start_time": "2023-04-20T17:45:24.999Z"
   },
   {
    "duration": 214,
    "start_time": "2023-04-20T17:45:50.122Z"
   },
   {
    "duration": 16891,
    "start_time": "2023-04-20T17:46:19.049Z"
   },
   {
    "duration": 16894,
    "start_time": "2023-04-20T17:46:52.297Z"
   },
   {
    "duration": 16879,
    "start_time": "2023-04-20T17:47:14.649Z"
   },
   {
    "duration": 17029,
    "start_time": "2023-04-20T17:47:40.136Z"
   },
   {
    "duration": 16112,
    "start_time": "2023-04-20T17:48:43.929Z"
   },
   {
    "duration": 18252,
    "start_time": "2023-04-20T17:50:14.747Z"
   },
   {
    "duration": 17688,
    "start_time": "2023-04-20T17:50:50.185Z"
   },
   {
    "duration": 17388,
    "start_time": "2023-04-20T17:51:15.305Z"
   },
   {
    "duration": 4,
    "start_time": "2023-04-20T17:52:16.771Z"
   },
   {
    "duration": 13442,
    "start_time": "2023-04-20T17:52:48.367Z"
   },
   {
    "duration": 14278,
    "start_time": "2023-04-20T17:53:29.010Z"
   },
   {
    "duration": 10262,
    "start_time": "2023-04-20T17:54:16.132Z"
   },
   {
    "duration": 10665,
    "start_time": "2023-04-20T17:54:32.960Z"
   },
   {
    "duration": 80,
    "start_time": "2023-04-20T18:03:52.505Z"
   },
   {
    "duration": 6,
    "start_time": "2023-04-20T18:04:35.453Z"
   },
   {
    "duration": 14,
    "start_time": "2023-04-20T18:04:45.597Z"
   },
   {
    "duration": 246,
    "start_time": "2023-04-20T18:14:10.524Z"
   },
   {
    "duration": 9,
    "start_time": "2023-04-20T18:14:45.361Z"
   },
   {
    "duration": 5518,
    "start_time": "2023-04-20T18:15:02.523Z"
   },
   {
    "duration": 375,
    "start_time": "2023-04-20T18:15:15.779Z"
   },
   {
    "duration": 438,
    "start_time": "2023-04-20T18:16:53.457Z"
   },
   {
    "duration": 718,
    "start_time": "2023-04-20T18:17:27.397Z"
   },
   {
    "duration": 4,
    "start_time": "2023-04-20T18:19:08.929Z"
   },
   {
    "duration": 1071,
    "start_time": "2023-04-20T18:25:05.077Z"
   },
   {
    "duration": 2305,
    "start_time": "2023-04-20T18:25:31.780Z"
   },
   {
    "duration": 1331,
    "start_time": "2023-04-20T18:25:49.841Z"
   },
   {
    "duration": 2187,
    "start_time": "2023-04-20T18:26:19.796Z"
   },
   {
    "duration": 17,
    "start_time": "2023-04-20T18:27:08.885Z"
   },
   {
    "duration": 2061,
    "start_time": "2023-04-20T18:27:14.064Z"
   },
   {
    "duration": 11,
    "start_time": "2023-04-20T18:28:09.287Z"
   },
   {
    "duration": 10,
    "start_time": "2023-04-20T18:28:17.128Z"
   },
   {
    "duration": 2098,
    "start_time": "2023-04-20T18:28:23.585Z"
   },
   {
    "duration": 2183,
    "start_time": "2023-04-20T18:28:32.284Z"
   },
   {
    "duration": 2120,
    "start_time": "2023-04-20T18:29:13.838Z"
   },
   {
    "duration": 3047,
    "start_time": "2023-04-20T18:30:10.894Z"
   },
   {
    "duration": 84,
    "start_time": "2023-04-20T18:36:17.906Z"
   },
   {
    "duration": 21,
    "start_time": "2023-04-20T18:36:25.885Z"
   },
   {
    "duration": 4,
    "start_time": "2023-04-20T18:36:59.579Z"
   },
   {
    "duration": 2230,
    "start_time": "2023-04-20T18:37:23.468Z"
   },
   {
    "duration": 4,
    "start_time": "2023-04-20T18:37:38.454Z"
   },
   {
    "duration": 2007,
    "start_time": "2023-04-20T18:37:39.499Z"
   },
   {
    "duration": 4,
    "start_time": "2023-04-20T18:37:53.556Z"
   },
   {
    "duration": 2157,
    "start_time": "2023-04-20T18:37:57.781Z"
   },
   {
    "duration": 4,
    "start_time": "2023-04-20T18:38:05.536Z"
   },
   {
    "duration": 2229,
    "start_time": "2023-04-20T18:38:06.546Z"
   },
   {
    "duration": 4,
    "start_time": "2023-04-20T18:38:52.837Z"
   },
   {
    "duration": 2155,
    "start_time": "2023-04-20T18:38:53.440Z"
   },
   {
    "duration": 3,
    "start_time": "2023-04-20T18:41:37.942Z"
   },
   {
    "duration": 2069,
    "start_time": "2023-04-20T18:41:38.334Z"
   },
   {
    "duration": 4,
    "start_time": "2023-04-20T18:42:17.841Z"
   },
   {
    "duration": 2,
    "start_time": "2023-04-20T18:42:19.987Z"
   },
   {
    "duration": 3463,
    "start_time": "2023-04-20T18:42:44.000Z"
   },
   {
    "duration": 5,
    "start_time": "2023-04-20T18:45:39.672Z"
   },
   {
    "duration": 282,
    "start_time": "2023-04-20T18:45:48.987Z"
   },
   {
    "duration": 4,
    "start_time": "2023-04-20T18:45:59.262Z"
   },
   {
    "duration": 4,
    "start_time": "2023-04-20T18:46:03.220Z"
   },
   {
    "duration": 78,
    "start_time": "2023-04-20T18:46:22.777Z"
   },
   {
    "duration": 6,
    "start_time": "2023-04-20T18:46:26.621Z"
   },
   {
    "duration": 3,
    "start_time": "2023-04-20T18:46:27.537Z"
   },
   {
    "duration": 322,
    "start_time": "2023-04-20T18:46:28.102Z"
   },
   {
    "duration": 4,
    "start_time": "2023-04-20T18:46:38.770Z"
   },
   {
    "duration": 3,
    "start_time": "2023-04-20T18:46:39.161Z"
   },
   {
    "duration": 288,
    "start_time": "2023-04-20T18:46:39.540Z"
   },
   {
    "duration": 4,
    "start_time": "2023-04-20T18:47:05.309Z"
   },
   {
    "duration": 2,
    "start_time": "2023-04-20T18:47:06.247Z"
   },
   {
    "duration": 232,
    "start_time": "2023-04-20T18:47:06.710Z"
   },
   {
    "duration": 5,
    "start_time": "2023-04-20T18:47:19.512Z"
   },
   {
    "duration": 4,
    "start_time": "2023-04-20T18:47:20.455Z"
   },
   {
    "duration": 265,
    "start_time": "2023-04-20T18:47:20.682Z"
   },
   {
    "duration": 5,
    "start_time": "2023-04-20T18:47:30.881Z"
   },
   {
    "duration": 3,
    "start_time": "2023-04-20T18:47:31.296Z"
   },
   {
    "duration": 237,
    "start_time": "2023-04-20T18:47:31.808Z"
   },
   {
    "duration": 4,
    "start_time": "2023-04-20T18:50:19.379Z"
   },
   {
    "duration": 3,
    "start_time": "2023-04-20T18:50:19.786Z"
   },
   {
    "duration": 208,
    "start_time": "2023-04-20T18:50:20.307Z"
   },
   {
    "duration": 4,
    "start_time": "2023-04-20T18:50:31.463Z"
   },
   {
    "duration": 216,
    "start_time": "2023-04-20T18:50:32.002Z"
   },
   {
    "duration": 4,
    "start_time": "2023-04-20T18:50:41.109Z"
   },
   {
    "duration": 221,
    "start_time": "2023-04-20T18:50:41.440Z"
   },
   {
    "duration": 4,
    "start_time": "2023-04-20T18:50:48.074Z"
   },
   {
    "duration": 243,
    "start_time": "2023-04-20T18:50:48.378Z"
   },
   {
    "duration": 5,
    "start_time": "2023-04-20T18:51:04.517Z"
   },
   {
    "duration": 237,
    "start_time": "2023-04-20T18:51:05.080Z"
   },
   {
    "duration": 6,
    "start_time": "2023-04-20T18:51:43.458Z"
   },
   {
    "duration": 211,
    "start_time": "2023-04-20T18:51:44.139Z"
   },
   {
    "duration": 4,
    "start_time": "2023-04-20T18:51:48.007Z"
   },
   {
    "duration": 225,
    "start_time": "2023-04-20T18:51:48.621Z"
   },
   {
    "duration": 4,
    "start_time": "2023-04-20T18:51:54.089Z"
   },
   {
    "duration": 225,
    "start_time": "2023-04-20T18:51:54.528Z"
   },
   {
    "duration": 4,
    "start_time": "2023-04-20T18:52:02.160Z"
   },
   {
    "duration": 203,
    "start_time": "2023-04-20T18:52:02.537Z"
   },
   {
    "duration": 4,
    "start_time": "2023-04-20T18:52:07.159Z"
   },
   {
    "duration": 215,
    "start_time": "2023-04-20T18:52:07.549Z"
   },
   {
    "duration": 5,
    "start_time": "2023-04-20T18:52:11.595Z"
   },
   {
    "duration": 444,
    "start_time": "2023-04-20T18:52:11.873Z"
   },
   {
    "duration": 4,
    "start_time": "2023-04-20T18:52:16.261Z"
   },
   {
    "duration": 466,
    "start_time": "2023-04-20T18:52:16.634Z"
   },
   {
    "duration": 4,
    "start_time": "2023-04-20T18:52:25.760Z"
   },
   {
    "duration": 234,
    "start_time": "2023-04-20T18:52:26.433Z"
   },
   {
    "duration": 7,
    "start_time": "2023-04-20T18:52:29.822Z"
   },
   {
    "duration": 233,
    "start_time": "2023-04-20T18:52:30.381Z"
   },
   {
    "duration": 5,
    "start_time": "2023-04-20T18:52:49.200Z"
   },
   {
    "duration": 250,
    "start_time": "2023-04-20T18:52:50.763Z"
   },
   {
    "duration": 4,
    "start_time": "2023-04-20T18:52:55.435Z"
   },
   {
    "duration": 250,
    "start_time": "2023-04-20T18:52:55.914Z"
   },
   {
    "duration": 289,
    "start_time": "2023-04-20T18:53:05.168Z"
   },
   {
    "duration": 5,
    "start_time": "2023-04-20T18:53:10.136Z"
   },
   {
    "duration": 4,
    "start_time": "2023-04-20T18:53:19.061Z"
   },
   {
    "duration": 2131,
    "start_time": "2023-04-20T18:53:20.212Z"
   },
   {
    "duration": 4,
    "start_time": "2023-04-20T18:53:37.503Z"
   },
   {
    "duration": 141,
    "start_time": "2023-04-20T18:53:37.904Z"
   },
   {
    "duration": 4,
    "start_time": "2023-04-20T18:53:42.000Z"
   },
   {
    "duration": 156,
    "start_time": "2023-04-20T18:53:42.284Z"
   },
   {
    "duration": 4,
    "start_time": "2023-04-20T18:53:44.959Z"
   },
   {
    "duration": 2074,
    "start_time": "2023-04-20T18:53:45.291Z"
   },
   {
    "duration": 9,
    "start_time": "2023-04-20T18:54:58.200Z"
   },
   {
    "duration": 11,
    "start_time": "2023-04-20T18:55:01.831Z"
   },
   {
    "duration": 16,
    "start_time": "2023-04-20T18:55:06.836Z"
   },
   {
    "duration": 201,
    "start_time": "2023-04-20T18:55:24.066Z"
   },
   {
    "duration": 199,
    "start_time": "2023-04-20T18:55:40.789Z"
   },
   {
    "duration": 189,
    "start_time": "2023-04-20T18:56:12.315Z"
   },
   {
    "duration": 218,
    "start_time": "2023-04-20T18:56:56.117Z"
   },
   {
    "duration": 228,
    "start_time": "2023-04-20T18:57:05.279Z"
   },
   {
    "duration": 204,
    "start_time": "2023-04-20T18:57:11.818Z"
   },
   {
    "duration": 202,
    "start_time": "2023-04-20T18:57:18.913Z"
   },
   {
    "duration": 194,
    "start_time": "2023-04-20T18:57:26.108Z"
   },
   {
    "duration": 207,
    "start_time": "2023-04-20T18:57:31.402Z"
   },
   {
    "duration": 191,
    "start_time": "2023-04-20T18:58:01.841Z"
   },
   {
    "duration": 191,
    "start_time": "2023-04-20T18:58:11.619Z"
   },
   {
    "duration": 250,
    "start_time": "2023-04-20T18:58:17.695Z"
   },
   {
    "duration": 263,
    "start_time": "2023-04-20T18:58:22.142Z"
   },
   {
    "duration": 266,
    "start_time": "2023-04-20T18:58:28.298Z"
   },
   {
    "duration": 1403,
    "start_time": "2023-04-20T18:58:57.815Z"
   },
   {
    "duration": 5,
    "start_time": "2023-04-20T18:59:30.794Z"
   },
   {
    "duration": 4122,
    "start_time": "2023-04-20T18:59:31.381Z"
   },
   {
    "duration": 6,
    "start_time": "2023-04-20T19:01:08.158Z"
   },
   {
    "duration": 9,
    "start_time": "2023-04-20T19:01:08.977Z"
   },
   {
    "duration": 4109,
    "start_time": "2023-04-20T19:01:15.081Z"
   },
   {
    "duration": 6,
    "start_time": "2023-04-20T19:01:38.733Z"
   },
   {
    "duration": 4094,
    "start_time": "2023-04-20T19:01:44.144Z"
   },
   {
    "duration": 5,
    "start_time": "2023-04-20T19:02:39.963Z"
   },
   {
    "duration": 5,
    "start_time": "2023-04-20T19:02:41.189Z"
   },
   {
    "duration": 3785,
    "start_time": "2023-04-20T19:02:42.545Z"
   },
   {
    "duration": 3,
    "start_time": "2023-04-20T19:03:41.753Z"
   },
   {
    "duration": 5,
    "start_time": "2023-04-20T19:12:03.627Z"
   },
   {
    "duration": 5814,
    "start_time": "2023-04-20T19:12:04.108Z"
   },
   {
    "duration": 6,
    "start_time": "2023-04-20T19:12:30.794Z"
   },
   {
    "duration": 3870,
    "start_time": "2023-04-20T19:12:31.093Z"
   },
   {
    "duration": 5,
    "start_time": "2023-04-20T19:12:43.876Z"
   },
   {
    "duration": 4052,
    "start_time": "2023-04-20T19:12:44.253Z"
   },
   {
    "duration": 10,
    "start_time": "2023-04-20T19:14:03.317Z"
   },
   {
    "duration": 14,
    "start_time": "2023-04-20T19:14:06.462Z"
   },
   {
    "duration": 14,
    "start_time": "2023-04-20T19:14:09.832Z"
   },
   {
    "duration": 10,
    "start_time": "2023-04-20T19:14:15.061Z"
   },
   {
    "duration": 10,
    "start_time": "2023-04-20T19:14:17.944Z"
   },
   {
    "duration": 9,
    "start_time": "2023-04-20T19:14:21.091Z"
   },
   {
    "duration": 74,
    "start_time": "2023-04-20T19:14:26.750Z"
   },
   {
    "duration": 4,
    "start_time": "2023-04-20T19:14:31.115Z"
   },
   {
    "duration": 10,
    "start_time": "2023-04-20T19:14:40.167Z"
   },
   {
    "duration": 19,
    "start_time": "2023-04-20T19:14:45.193Z"
   },
   {
    "duration": 10,
    "start_time": "2023-04-20T19:14:58.233Z"
   },
   {
    "duration": 12,
    "start_time": "2023-04-20T19:15:01.619Z"
   },
   {
    "duration": 13,
    "start_time": "2023-04-20T19:15:04.588Z"
   },
   {
    "duration": 10,
    "start_time": "2023-04-20T19:15:06.953Z"
   },
   {
    "duration": 11,
    "start_time": "2023-04-20T19:16:19.013Z"
   },
   {
    "duration": 86,
    "start_time": "2023-04-20T19:16:26.021Z"
   },
   {
    "duration": 11,
    "start_time": "2023-04-20T19:16:30.309Z"
   },
   {
    "duration": 10,
    "start_time": "2023-04-20T19:16:57.980Z"
   },
   {
    "duration": 4,
    "start_time": "2023-04-20T19:17:14.684Z"
   },
   {
    "duration": 11,
    "start_time": "2023-04-20T19:18:08.277Z"
   },
   {
    "duration": 14,
    "start_time": "2023-04-20T19:18:26.132Z"
   },
   {
    "duration": 5,
    "start_time": "2023-04-20T19:18:53.154Z"
   },
   {
    "duration": 75,
    "start_time": "2023-04-20T19:18:58.656Z"
   },
   {
    "duration": 3,
    "start_time": "2023-04-20T19:19:04.223Z"
   },
   {
    "duration": 6,
    "start_time": "2023-04-20T19:19:06.322Z"
   },
   {
    "duration": 4,
    "start_time": "2023-04-20T19:19:06.733Z"
   },
   {
    "duration": 4,
    "start_time": "2023-04-20T19:19:08.496Z"
   },
   {
    "duration": 10,
    "start_time": "2023-04-20T19:19:17.636Z"
   },
   {
    "duration": 11,
    "start_time": "2023-04-20T19:19:39.119Z"
   },
   {
    "duration": 9,
    "start_time": "2023-04-20T19:19:50.753Z"
   },
   {
    "duration": 12,
    "start_time": "2023-04-20T19:19:54.604Z"
   },
   {
    "duration": 4,
    "start_time": "2023-04-20T19:20:02.979Z"
   },
   {
    "duration": 3371,
    "start_time": "2023-04-20T19:21:24.763Z"
   },
   {
    "duration": 5,
    "start_time": "2023-04-20T19:21:52.779Z"
   },
   {
    "duration": 5,
    "start_time": "2023-04-20T19:21:53.510Z"
   },
   {
    "duration": 3052,
    "start_time": "2023-04-20T19:21:54.213Z"
   },
   {
    "duration": 7,
    "start_time": "2023-04-20T19:22:14.823Z"
   },
   {
    "duration": 3446,
    "start_time": "2023-04-20T19:22:17.409Z"
   },
   {
    "duration": 5,
    "start_time": "2023-04-20T19:22:26.676Z"
   },
   {
    "duration": 4,
    "start_time": "2023-04-20T19:22:27.516Z"
   },
   {
    "duration": 3191,
    "start_time": "2023-04-20T19:22:28.010Z"
   },
   {
    "duration": 5,
    "start_time": "2023-04-20T19:22:33.979Z"
   },
   {
    "duration": 4,
    "start_time": "2023-04-20T19:22:34.251Z"
   },
   {
    "duration": 3988,
    "start_time": "2023-04-20T19:22:38.149Z"
   },
   {
    "duration": 4,
    "start_time": "2023-04-20T19:23:25.103Z"
   },
   {
    "duration": 17580,
    "start_time": "2023-04-20T19:24:14.060Z"
   },
   {
    "duration": 16044,
    "start_time": "2023-04-20T19:24:53.947Z"
   },
   {
    "duration": 17019,
    "start_time": "2023-04-20T19:25:29.325Z"
   },
   {
    "duration": 3833,
    "start_time": "2023-04-20T19:25:46.346Z"
   },
   {
    "duration": 16622,
    "start_time": "2023-04-20T19:27:38.640Z"
   },
   {
    "duration": 1417,
    "start_time": "2023-04-20T20:26:23.349Z"
   },
   {
    "duration": 1072,
    "start_time": "2023-04-20T20:26:24.768Z"
   },
   {
    "duration": 79,
    "start_time": "2023-04-20T20:26:25.841Z"
   },
   {
    "duration": 19,
    "start_time": "2023-04-20T20:26:25.922Z"
   },
   {
    "duration": 18,
    "start_time": "2023-04-20T20:26:25.944Z"
   },
   {
    "duration": 32,
    "start_time": "2023-04-20T20:26:25.964Z"
   },
   {
    "duration": 4,
    "start_time": "2023-04-20T20:26:25.998Z"
   },
   {
    "duration": 283,
    "start_time": "2023-04-20T20:26:26.003Z"
   },
   {
    "duration": 15,
    "start_time": "2023-04-20T20:26:26.288Z"
   },
   {
    "duration": 14,
    "start_time": "2023-04-20T20:26:26.305Z"
   },
   {
    "duration": 19,
    "start_time": "2023-04-20T20:26:26.320Z"
   },
   {
    "duration": 18,
    "start_time": "2023-04-20T20:26:26.341Z"
   },
   {
    "duration": 29,
    "start_time": "2023-04-20T20:26:26.361Z"
   },
   {
    "duration": 14,
    "start_time": "2023-04-20T20:26:26.393Z"
   },
   {
    "duration": 21,
    "start_time": "2023-04-20T20:26:26.408Z"
   },
   {
    "duration": 16,
    "start_time": "2023-04-20T20:26:26.430Z"
   },
   {
    "duration": 28,
    "start_time": "2023-04-20T20:26:26.448Z"
   },
   {
    "duration": 46,
    "start_time": "2023-04-20T20:26:26.478Z"
   },
   {
    "duration": 7,
    "start_time": "2023-04-20T20:26:26.526Z"
   },
   {
    "duration": 25,
    "start_time": "2023-04-20T20:26:26.534Z"
   },
   {
    "duration": 5,
    "start_time": "2023-04-20T20:26:26.561Z"
   },
   {
    "duration": 23,
    "start_time": "2023-04-20T20:26:26.567Z"
   },
   {
    "duration": 45,
    "start_time": "2023-04-20T20:26:26.592Z"
   },
   {
    "duration": 51,
    "start_time": "2023-04-20T20:26:26.639Z"
   },
   {
    "duration": 7,
    "start_time": "2023-04-20T20:26:26.693Z"
   },
   {
    "duration": 14,
    "start_time": "2023-04-20T20:26:26.702Z"
   },
   {
    "duration": 16567,
    "start_time": "2023-04-20T20:26:26.718Z"
   },
   {
    "duration": 11247,
    "start_time": "2023-04-20T20:26:43.287Z"
   },
   {
    "duration": 105,
    "start_time": "2023-04-20T20:29:41.753Z"
   },
   {
    "duration": 183,
    "start_time": "2023-04-20T20:29:47.746Z"
   },
   {
    "duration": 140,
    "start_time": "2023-04-20T20:41:16.129Z"
   },
   {
    "duration": 193,
    "start_time": "2023-04-20T20:41:30.824Z"
   },
   {
    "duration": 224,
    "start_time": "2023-04-20T20:41:34.716Z"
   },
   {
    "duration": 105,
    "start_time": "2023-04-20T20:41:46.748Z"
   },
   {
    "duration": 255,
    "start_time": "2023-04-20T20:42:05.099Z"
   },
   {
    "duration": 386,
    "start_time": "2023-04-20T20:43:02.860Z"
   },
   {
    "duration": 118,
    "start_time": "2023-04-20T20:43:09.192Z"
   },
   {
    "duration": 102,
    "start_time": "2023-04-20T20:43:17.581Z"
   },
   {
    "duration": 113,
    "start_time": "2023-04-20T20:43:23.617Z"
   },
   {
    "duration": 91,
    "start_time": "2023-04-20T20:43:27.087Z"
   },
   {
    "duration": 3,
    "start_time": "2023-04-20T20:44:34.880Z"
   },
   {
    "duration": 17,
    "start_time": "2023-04-20T20:45:43.064Z"
   },
   {
    "duration": 18,
    "start_time": "2023-04-20T20:46:29.157Z"
   },
   {
    "duration": 6,
    "start_time": "2023-04-20T20:47:19.053Z"
   },
   {
    "duration": 474,
    "start_time": "2023-04-20T20:47:31.915Z"
   },
   {
    "duration": 357,
    "start_time": "2023-04-20T20:47:57.046Z"
   },
   {
    "duration": 360,
    "start_time": "2023-04-20T20:48:07.196Z"
   },
   {
    "duration": 360,
    "start_time": "2023-04-20T20:48:26.475Z"
   },
   {
    "duration": 0,
    "start_time": "2023-04-20T20:49:47.896Z"
   },
   {
    "duration": 700,
    "start_time": "2023-04-20T20:49:53.840Z"
   },
   {
    "duration": 12,
    "start_time": "2023-04-20T20:50:01.986Z"
   },
   {
    "duration": 74,
    "start_time": "2023-04-20T20:50:09.524Z"
   },
   {
    "duration": 731,
    "start_time": "2023-04-20T20:50:19.429Z"
   },
   {
    "duration": 11,
    "start_time": "2023-04-20T20:50:29.669Z"
   },
   {
    "duration": 134,
    "start_time": "2023-04-20T20:50:38.221Z"
   },
   {
    "duration": 66,
    "start_time": "2023-04-20T20:50:46.383Z"
   },
   {
    "duration": 129,
    "start_time": "2023-04-20T20:50:55.311Z"
   },
   {
    "duration": 11,
    "start_time": "2023-04-20T20:51:02.690Z"
   },
   {
    "duration": 352,
    "start_time": "2023-04-20T20:51:06.089Z"
   },
   {
    "duration": 796,
    "start_time": "2023-04-20T20:51:28.630Z"
   },
   {
    "duration": 764,
    "start_time": "2023-04-20T20:51:36.046Z"
   },
   {
    "duration": 838,
    "start_time": "2023-04-20T20:51:45.046Z"
   },
   {
    "duration": 841,
    "start_time": "2023-04-20T20:51:55.605Z"
   },
   {
    "duration": 908,
    "start_time": "2023-04-20T20:52:00.015Z"
   },
   {
    "duration": 4893,
    "start_time": "2023-04-20T20:52:12.420Z"
   },
   {
    "duration": 970,
    "start_time": "2023-04-20T20:52:19.620Z"
   },
   {
    "duration": 828,
    "start_time": "2023-04-20T20:52:23.597Z"
   },
   {
    "duration": 1071,
    "start_time": "2023-04-20T20:52:42.881Z"
   },
   {
    "duration": 100,
    "start_time": "2023-04-20T20:52:50.449Z"
   },
   {
    "duration": 1045,
    "start_time": "2023-04-20T20:52:55.101Z"
   },
   {
    "duration": 1115,
    "start_time": "2023-04-20T20:53:25.149Z"
   },
   {
    "duration": 154,
    "start_time": "2023-04-20T21:01:33.857Z"
   },
   {
    "duration": 541,
    "start_time": "2023-04-20T21:01:43.959Z"
   },
   {
    "duration": 1942,
    "start_time": "2023-04-20T21:02:06.441Z"
   },
   {
    "duration": 536,
    "start_time": "2023-04-20T21:02:16.472Z"
   },
   {
    "duration": 602,
    "start_time": "2023-04-20T21:02:41.755Z"
   },
   {
    "duration": 847,
    "start_time": "2023-04-20T21:02:50.843Z"
   },
   {
    "duration": 534,
    "start_time": "2023-04-20T21:02:58.105Z"
   },
   {
    "duration": 564,
    "start_time": "2023-04-20T21:03:02.332Z"
   },
   {
    "duration": 476,
    "start_time": "2023-04-20T21:03:08.183Z"
   },
   {
    "duration": 463,
    "start_time": "2023-04-20T21:03:12.090Z"
   },
   {
    "duration": 464,
    "start_time": "2023-04-20T21:03:14.436Z"
   },
   {
    "duration": 506,
    "start_time": "2023-04-20T21:03:16.169Z"
   },
   {
    "duration": 553,
    "start_time": "2023-04-20T21:03:18.133Z"
   },
   {
    "duration": 718,
    "start_time": "2023-04-20T21:03:22.997Z"
   },
   {
    "duration": 561,
    "start_time": "2023-04-20T21:03:24.746Z"
   },
   {
    "duration": 557,
    "start_time": "2023-04-20T21:03:27.833Z"
   },
   {
    "duration": 537,
    "start_time": "2023-04-20T21:03:29.570Z"
   },
   {
    "duration": 372,
    "start_time": "2023-04-20T21:04:23.356Z"
   },
   {
    "duration": 520,
    "start_time": "2023-04-20T21:04:41.017Z"
   },
   {
    "duration": 682,
    "start_time": "2023-04-20T21:04:50.131Z"
   },
   {
    "duration": 458,
    "start_time": "2023-04-20T21:05:05.343Z"
   },
   {
    "duration": 266,
    "start_time": "2023-04-20T21:05:12.930Z"
   },
   {
    "duration": 1101,
    "start_time": "2023-04-20T21:05:59.295Z"
   },
   {
    "duration": 1211,
    "start_time": "2023-04-20T21:06:06.549Z"
   },
   {
    "duration": 425,
    "start_time": "2023-04-20T21:06:24.846Z"
   },
   {
    "duration": 485,
    "start_time": "2023-04-20T21:06:29.401Z"
   },
   {
    "duration": 527,
    "start_time": "2023-04-20T21:06:31.885Z"
   },
   {
    "duration": 725,
    "start_time": "2023-04-20T21:06:36.378Z"
   },
   {
    "duration": 602,
    "start_time": "2023-04-20T21:06:46.446Z"
   },
   {
    "duration": 556,
    "start_time": "2023-04-20T21:06:51.697Z"
   },
   {
    "duration": 617,
    "start_time": "2023-04-20T21:06:59.202Z"
   },
   {
    "duration": 651,
    "start_time": "2023-04-20T21:07:10.264Z"
   },
   {
    "duration": 539,
    "start_time": "2023-04-20T21:07:35.075Z"
   },
   {
    "duration": 334,
    "start_time": "2023-04-20T21:08:36.853Z"
   },
   {
    "duration": 164,
    "start_time": "2023-04-20T21:08:41.896Z"
   },
   {
    "duration": 710,
    "start_time": "2023-04-20T21:08:46.917Z"
   },
   {
    "duration": 0,
    "start_time": "2023-04-20T21:11:13.534Z"
   },
   {
    "duration": 3552,
    "start_time": "2023-04-20T21:11:36.981Z"
   },
   {
    "duration": 449,
    "start_time": "2023-04-20T21:12:15.800Z"
   },
   {
    "duration": 459,
    "start_time": "2023-04-20T21:12:25.682Z"
   },
   {
    "duration": 406,
    "start_time": "2023-04-20T21:12:35.522Z"
   },
   {
    "duration": 379,
    "start_time": "2023-04-20T21:12:40.568Z"
   },
   {
    "duration": 409,
    "start_time": "2023-04-20T21:12:58.012Z"
   },
   {
    "duration": 405,
    "start_time": "2023-04-20T21:13:03.024Z"
   },
   {
    "duration": 411,
    "start_time": "2023-04-20T21:13:11.935Z"
   },
   {
    "duration": 408,
    "start_time": "2023-04-20T21:13:23.327Z"
   },
   {
    "duration": 388,
    "start_time": "2023-04-20T21:13:26.946Z"
   },
   {
    "duration": 418,
    "start_time": "2023-04-20T21:13:34.034Z"
   },
   {
    "duration": 407,
    "start_time": "2023-04-20T21:13:36.235Z"
   },
   {
    "duration": 405,
    "start_time": "2023-04-20T21:13:40.843Z"
   },
   {
    "duration": 422,
    "start_time": "2023-04-20T21:14:23.601Z"
   },
   {
    "duration": 407,
    "start_time": "2023-04-20T21:14:33.118Z"
   },
   {
    "duration": 418,
    "start_time": "2023-04-20T21:14:46.212Z"
   },
   {
    "duration": 380,
    "start_time": "2023-04-20T21:14:49.146Z"
   },
   {
    "duration": 396,
    "start_time": "2023-04-20T21:14:52.739Z"
   },
   {
    "duration": 431,
    "start_time": "2023-04-20T21:14:54.689Z"
   },
   {
    "duration": 391,
    "start_time": "2023-04-20T21:15:01.440Z"
   },
   {
    "duration": 416,
    "start_time": "2023-04-20T21:15:05.516Z"
   },
   {
    "duration": 132,
    "start_time": "2023-04-20T21:16:06.018Z"
   },
   {
    "duration": 424,
    "start_time": "2023-04-20T21:16:12.722Z"
   },
   {
    "duration": 372,
    "start_time": "2023-04-20T21:16:19.862Z"
   },
   {
    "duration": 99,
    "start_time": "2023-04-20T21:17:57.881Z"
   },
   {
    "duration": 74,
    "start_time": "2023-04-20T21:18:05.423Z"
   },
   {
    "duration": 157,
    "start_time": "2023-04-20T21:18:13.133Z"
   },
   {
    "duration": 0,
    "start_time": "2023-04-20T21:22:16.850Z"
   },
   {
    "duration": 406,
    "start_time": "2023-04-20T21:24:20.642Z"
   },
   {
    "duration": 488,
    "start_time": "2023-04-20T21:25:25.566Z"
   },
   {
    "duration": 467,
    "start_time": "2023-04-20T21:25:37.096Z"
   },
   {
    "duration": 528,
    "start_time": "2023-04-20T21:26:49.137Z"
   },
   {
    "duration": 23,
    "start_time": "2023-04-20T21:29:56.479Z"
   },
   {
    "duration": 4,
    "start_time": "2023-04-20T21:30:45.279Z"
   },
   {
    "duration": 11,
    "start_time": "2023-04-20T21:32:57.716Z"
   },
   {
    "duration": 4,
    "start_time": "2023-04-20T21:33:18.330Z"
   },
   {
    "duration": 3,
    "start_time": "2023-04-20T21:33:39.450Z"
   },
   {
    "duration": 74,
    "start_time": "2023-04-20T21:33:47.000Z"
   },
   {
    "duration": 2675,
    "start_time": "2023-04-20T21:33:53.505Z"
   },
   {
    "duration": 2336,
    "start_time": "2023-04-20T21:34:01.120Z"
   },
   {
    "duration": 2459,
    "start_time": "2023-04-20T21:34:15.030Z"
   },
   {
    "duration": 614,
    "start_time": "2023-04-20T21:34:35.983Z"
   },
   {
    "duration": 33,
    "start_time": "2023-04-20T21:34:41.385Z"
   },
   {
    "duration": 4325,
    "start_time": "2023-04-20T21:35:02.977Z"
   },
   {
    "duration": 368,
    "start_time": "2023-04-20T21:35:09.099Z"
   },
   {
    "duration": 3974,
    "start_time": "2023-04-20T21:35:11.693Z"
   },
   {
    "duration": 1709,
    "start_time": "2023-04-20T21:35:18.555Z"
   },
   {
    "duration": 1900,
    "start_time": "2023-04-20T21:35:30.381Z"
   },
   {
    "duration": 91,
    "start_time": "2023-04-20T21:35:38.118Z"
   },
   {
    "duration": 8399,
    "start_time": "2023-04-20T21:35:50.935Z"
   },
   {
    "duration": 19,
    "start_time": "2023-04-20T21:36:09.590Z"
   },
   {
    "duration": 1453,
    "start_time": "2023-04-20T21:36:12.825Z"
   },
   {
    "duration": 77,
    "start_time": "2023-04-20T21:36:20.525Z"
   },
   {
    "duration": 4,
    "start_time": "2023-04-20T21:37:00.236Z"
   },
   {
    "duration": 7,
    "start_time": "2023-04-20T21:37:12.106Z"
   },
   {
    "duration": 17,
    "start_time": "2023-04-20T21:37:24.887Z"
   },
   {
    "duration": 571,
    "start_time": "2023-04-20T21:38:41.990Z"
   },
   {
    "duration": 472,
    "start_time": "2023-04-20T21:38:59.693Z"
   },
   {
    "duration": 457,
    "start_time": "2023-04-20T21:39:09.140Z"
   },
   {
    "duration": 20,
    "start_time": "2023-04-20T21:43:42.025Z"
   },
   {
    "duration": 82,
    "start_time": "2023-04-20T21:44:09.830Z"
   },
   {
    "duration": 8,
    "start_time": "2023-04-20T21:46:35.820Z"
   },
   {
    "duration": 63,
    "start_time": "2023-04-20T21:46:42.482Z"
   },
   {
    "duration": 55,
    "start_time": "2023-04-20T21:46:46.955Z"
   },
   {
    "duration": 9,
    "start_time": "2023-04-20T21:46:55.478Z"
   },
   {
    "duration": 1691,
    "start_time": "2023-04-21T12:32:09.393Z"
   },
   {
    "duration": 3403,
    "start_time": "2023-04-21T12:32:11.086Z"
   },
   {
    "duration": 64,
    "start_time": "2023-04-21T12:32:14.493Z"
   },
   {
    "duration": 26,
    "start_time": "2023-04-21T12:32:14.559Z"
   },
   {
    "duration": 13,
    "start_time": "2023-04-21T12:32:14.587Z"
   },
   {
    "duration": 17,
    "start_time": "2023-04-21T12:32:14.602Z"
   },
   {
    "duration": 4,
    "start_time": "2023-04-21T12:32:14.620Z"
   },
   {
    "duration": 315,
    "start_time": "2023-04-21T12:32:14.625Z"
   },
   {
    "duration": 19,
    "start_time": "2023-04-21T12:32:14.943Z"
   },
   {
    "duration": 27,
    "start_time": "2023-04-21T12:32:14.964Z"
   },
   {
    "duration": 12,
    "start_time": "2023-04-21T12:32:14.993Z"
   },
   {
    "duration": 59,
    "start_time": "2023-04-21T12:32:15.007Z"
   },
   {
    "duration": 14,
    "start_time": "2023-04-21T12:32:15.069Z"
   },
   {
    "duration": 9,
    "start_time": "2023-04-21T12:32:15.084Z"
   },
   {
    "duration": 9,
    "start_time": "2023-04-21T12:32:15.094Z"
   },
   {
    "duration": 11,
    "start_time": "2023-04-21T12:32:15.104Z"
   },
   {
    "duration": 8,
    "start_time": "2023-04-21T12:32:15.116Z"
   },
   {
    "duration": 19,
    "start_time": "2023-04-21T12:32:15.125Z"
   },
   {
    "duration": 8,
    "start_time": "2023-04-21T12:32:15.146Z"
   },
   {
    "duration": 44,
    "start_time": "2023-04-21T12:32:15.155Z"
   },
   {
    "duration": 4,
    "start_time": "2023-04-21T12:32:15.201Z"
   },
   {
    "duration": 15,
    "start_time": "2023-04-21T12:32:15.207Z"
   },
   {
    "duration": 73,
    "start_time": "2023-04-21T12:32:15.224Z"
   },
   {
    "duration": 43,
    "start_time": "2023-04-21T12:32:15.299Z"
   },
   {
    "duration": 11,
    "start_time": "2023-04-21T12:32:15.344Z"
   },
   {
    "duration": 16,
    "start_time": "2023-04-21T12:32:15.357Z"
   },
   {
    "duration": 16837,
    "start_time": "2023-04-21T12:32:15.384Z"
   },
   {
    "duration": 546,
    "start_time": "2023-04-21T12:32:32.222Z"
   },
   {
    "duration": 53,
    "start_time": "2023-04-21T12:32:32.770Z"
   },
   {
    "duration": 8,
    "start_time": "2023-04-21T12:32:32.824Z"
   },
   {
    "duration": 113,
    "start_time": "2023-04-21T12:32:32.834Z"
   },
   {
    "duration": 11203,
    "start_time": "2023-04-21T12:32:32.949Z"
   },
   {
    "duration": 12,
    "start_time": "2023-04-21T12:41:25.078Z"
   },
   {
    "duration": 1646,
    "start_time": "2023-04-21T17:07:22.724Z"
   },
   {
    "duration": 1814,
    "start_time": "2023-04-21T17:07:24.372Z"
   },
   {
    "duration": 62,
    "start_time": "2023-04-21T17:07:26.187Z"
   },
   {
    "duration": 18,
    "start_time": "2023-04-21T17:07:26.251Z"
   },
   {
    "duration": 13,
    "start_time": "2023-04-21T17:07:26.271Z"
   },
   {
    "duration": 18,
    "start_time": "2023-04-21T17:07:26.286Z"
   },
   {
    "duration": 3,
    "start_time": "2023-04-21T17:07:26.305Z"
   },
   {
    "duration": 265,
    "start_time": "2023-04-21T17:07:26.309Z"
   },
   {
    "duration": 16,
    "start_time": "2023-04-21T17:07:26.576Z"
   },
   {
    "duration": 12,
    "start_time": "2023-04-21T17:07:26.594Z"
   },
   {
    "duration": 17,
    "start_time": "2023-04-21T17:07:26.608Z"
   },
   {
    "duration": 10,
    "start_time": "2023-04-21T17:07:26.627Z"
   },
   {
    "duration": 21,
    "start_time": "2023-04-21T17:07:26.639Z"
   },
   {
    "duration": 6,
    "start_time": "2023-04-21T17:07:26.664Z"
   },
   {
    "duration": 9,
    "start_time": "2023-04-21T17:07:26.672Z"
   },
   {
    "duration": 12,
    "start_time": "2023-04-21T17:07:26.683Z"
   },
   {
    "duration": 8,
    "start_time": "2023-04-21T17:07:26.697Z"
   },
   {
    "duration": 54,
    "start_time": "2023-04-21T17:07:26.707Z"
   },
   {
    "duration": 8,
    "start_time": "2023-04-21T17:07:26.763Z"
   },
   {
    "duration": 17,
    "start_time": "2023-04-21T17:07:26.773Z"
   },
   {
    "duration": 5,
    "start_time": "2023-04-21T17:07:26.791Z"
   },
   {
    "duration": 15,
    "start_time": "2023-04-21T17:07:26.797Z"
   },
   {
    "duration": 85,
    "start_time": "2023-04-21T17:07:26.813Z"
   },
   {
    "duration": 40,
    "start_time": "2023-04-21T17:07:26.900Z"
   },
   {
    "duration": 4,
    "start_time": "2023-04-21T17:07:26.956Z"
   },
   {
    "duration": 7,
    "start_time": "2023-04-21T17:07:26.962Z"
   },
   {
    "duration": 16272,
    "start_time": "2023-04-21T17:07:26.971Z"
   },
   {
    "duration": 584,
    "start_time": "2023-04-21T17:07:43.245Z"
   },
   {
    "duration": 62,
    "start_time": "2023-04-21T17:07:43.830Z"
   },
   {
    "duration": 11,
    "start_time": "2023-04-21T17:07:43.894Z"
   },
   {
    "duration": 18,
    "start_time": "2023-04-21T17:07:43.908Z"
   },
   {
    "duration": 169,
    "start_time": "2023-04-21T17:07:43.929Z"
   },
   {
    "duration": 10967,
    "start_time": "2023-04-21T17:07:44.100Z"
   },
   {
    "duration": 527,
    "start_time": "2023-04-21T17:10:35.002Z"
   },
   {
    "duration": 5,
    "start_time": "2023-04-21T17:10:49.327Z"
   },
   {
    "duration": 472,
    "start_time": "2023-04-21T17:10:53.584Z"
   },
   {
    "duration": 415,
    "start_time": "2023-04-21T17:11:16.197Z"
   },
   {
    "duration": 424,
    "start_time": "2023-04-21T17:11:18.875Z"
   },
   {
    "duration": 435,
    "start_time": "2023-04-21T17:12:26.183Z"
   },
   {
    "duration": 446,
    "start_time": "2023-04-21T17:13:18.696Z"
   },
   {
    "duration": 536,
    "start_time": "2023-04-21T17:13:22.333Z"
   },
   {
    "duration": 567,
    "start_time": "2023-04-21T17:13:28.723Z"
   },
   {
    "duration": 433,
    "start_time": "2023-04-21T17:13:35.118Z"
   },
   {
    "duration": 3,
    "start_time": "2023-04-21T17:25:55.109Z"
   },
   {
    "duration": 26,
    "start_time": "2023-04-21T17:27:01.582Z"
   },
   {
    "duration": 158,
    "start_time": "2023-04-21T17:28:52.740Z"
   },
   {
    "duration": 12,
    "start_time": "2023-04-21T17:29:05.042Z"
   },
   {
    "duration": 6,
    "start_time": "2023-04-21T17:29:12.186Z"
   },
   {
    "duration": 17,
    "start_time": "2023-04-21T17:29:26.268Z"
   },
   {
    "duration": 13,
    "start_time": "2023-04-21T17:29:51.099Z"
   },
   {
    "duration": 12,
    "start_time": "2023-04-21T17:29:55.289Z"
   },
   {
    "duration": 16,
    "start_time": "2023-04-21T17:30:01.101Z"
   },
   {
    "duration": 23,
    "start_time": "2023-04-21T17:30:05.444Z"
   },
   {
    "duration": 8,
    "start_time": "2023-04-21T17:30:57.196Z"
   },
   {
    "duration": 23,
    "start_time": "2023-04-21T17:31:05.085Z"
   },
   {
    "duration": 22,
    "start_time": "2023-04-21T17:31:22.689Z"
   },
   {
    "duration": 14,
    "start_time": "2023-04-21T17:31:31.149Z"
   },
   {
    "duration": 85,
    "start_time": "2023-04-21T17:31:35.447Z"
   },
   {
    "duration": 17,
    "start_time": "2023-04-21T17:32:03.392Z"
   },
   {
    "duration": 1054,
    "start_time": "2023-04-21T17:32:10.493Z"
   },
   {
    "duration": 11,
    "start_time": "2023-04-21T17:32:20.722Z"
   },
   {
    "duration": 15535,
    "start_time": "2023-04-21T17:34:32.299Z"
   },
   {
    "duration": 368,
    "start_time": "2023-04-21T17:35:22.333Z"
   },
   {
    "duration": 72,
    "start_time": "2023-04-21T17:48:34.136Z"
   },
   {
    "duration": 4,
    "start_time": "2023-04-21T17:48:54.120Z"
   },
   {
    "duration": 4,
    "start_time": "2023-04-21T17:52:04.739Z"
   },
   {
    "duration": 3,
    "start_time": "2023-04-21T17:52:20.018Z"
   },
   {
    "duration": 16,
    "start_time": "2023-04-21T17:52:24.969Z"
   },
   {
    "duration": 9,
    "start_time": "2023-04-21T17:53:24.303Z"
   },
   {
    "duration": 9,
    "start_time": "2023-04-21T17:53:34.986Z"
   },
   {
    "duration": 3,
    "start_time": "2023-04-21T17:54:30.896Z"
   },
   {
    "duration": 11,
    "start_time": "2023-04-21T17:54:31.386Z"
   },
   {
    "duration": 10,
    "start_time": "2023-04-21T17:54:44.844Z"
   },
   {
    "duration": 9,
    "start_time": "2023-04-21T17:54:57.777Z"
   },
   {
    "duration": 9,
    "start_time": "2023-04-21T17:55:13.679Z"
   },
   {
    "duration": 4,
    "start_time": "2023-04-21T17:55:21.786Z"
   },
   {
    "duration": 10,
    "start_time": "2023-04-21T17:55:30.840Z"
   },
   {
    "duration": 4,
    "start_time": "2023-04-21T17:55:46.671Z"
   },
   {
    "duration": 12,
    "start_time": "2023-04-21T17:55:53.335Z"
   },
   {
    "duration": 13,
    "start_time": "2023-04-21T17:55:55.441Z"
   },
   {
    "duration": 3,
    "start_time": "2023-04-21T17:56:54.914Z"
   },
   {
    "duration": 20,
    "start_time": "2023-04-21T17:58:06.077Z"
   },
   {
    "duration": 11,
    "start_time": "2023-04-21T17:58:26.504Z"
   },
   {
    "duration": 10,
    "start_time": "2023-04-21T17:58:33.303Z"
   },
   {
    "duration": 9,
    "start_time": "2023-04-21T17:59:10.597Z"
   },
   {
    "duration": 10,
    "start_time": "2023-04-21T18:00:26.640Z"
   },
   {
    "duration": 10,
    "start_time": "2023-04-21T18:00:27.051Z"
   },
   {
    "duration": 10,
    "start_time": "2023-04-21T18:00:29.849Z"
   },
   {
    "duration": 9,
    "start_time": "2023-04-21T18:00:57.901Z"
   },
   {
    "duration": 8,
    "start_time": "2023-04-21T18:02:02.851Z"
   },
   {
    "duration": 736,
    "start_time": "2023-04-21T18:02:20.282Z"
   },
   {
    "duration": 1377,
    "start_time": "2023-04-21T18:02:31.865Z"
   },
   {
    "duration": 2743,
    "start_time": "2023-04-21T18:03:05.236Z"
   },
   {
    "duration": 2139,
    "start_time": "2023-04-21T18:04:35.423Z"
   },
   {
    "duration": 2804,
    "start_time": "2023-04-21T18:05:47.996Z"
   },
   {
    "duration": 4,
    "start_time": "2023-04-21T18:09:49.561Z"
   },
   {
    "duration": 1801,
    "start_time": "2023-04-21T19:04:23.735Z"
   },
   {
    "duration": 2138,
    "start_time": "2023-04-21T19:04:25.539Z"
   },
   {
    "duration": 68,
    "start_time": "2023-04-21T19:04:27.679Z"
   },
   {
    "duration": 19,
    "start_time": "2023-04-21T19:04:27.749Z"
   },
   {
    "duration": 20,
    "start_time": "2023-04-21T19:04:27.770Z"
   },
   {
    "duration": 28,
    "start_time": "2023-04-21T19:04:27.793Z"
   },
   {
    "duration": 5,
    "start_time": "2023-04-21T19:04:27.823Z"
   },
   {
    "duration": 238,
    "start_time": "2023-04-21T19:04:27.857Z"
   },
   {
    "duration": 17,
    "start_time": "2023-04-21T19:04:28.098Z"
   },
   {
    "duration": 13,
    "start_time": "2023-04-21T19:04:28.117Z"
   },
   {
    "duration": 26,
    "start_time": "2023-04-21T19:04:28.132Z"
   },
   {
    "duration": 84,
    "start_time": "2023-04-21T19:04:28.160Z"
   },
   {
    "duration": 36,
    "start_time": "2023-04-21T19:04:28.246Z"
   },
   {
    "duration": 33,
    "start_time": "2023-04-21T19:04:28.286Z"
   },
   {
    "duration": 51,
    "start_time": "2023-04-21T19:04:28.320Z"
   },
   {
    "duration": 10,
    "start_time": "2023-04-21T19:04:28.377Z"
   },
   {
    "duration": 7,
    "start_time": "2023-04-21T19:04:28.389Z"
   },
   {
    "duration": 13,
    "start_time": "2023-04-21T19:04:28.398Z"
   },
   {
    "duration": 9,
    "start_time": "2023-04-21T19:04:28.413Z"
   },
   {
    "duration": 39,
    "start_time": "2023-04-21T19:04:28.423Z"
   },
   {
    "duration": 7,
    "start_time": "2023-04-21T19:04:28.463Z"
   },
   {
    "duration": 12,
    "start_time": "2023-04-21T19:04:28.479Z"
   },
   {
    "duration": 66,
    "start_time": "2023-04-21T19:04:28.492Z"
   },
   {
    "duration": 49,
    "start_time": "2023-04-21T19:04:28.559Z"
   },
   {
    "duration": 3,
    "start_time": "2023-04-21T19:04:28.610Z"
   },
   {
    "duration": 8,
    "start_time": "2023-04-21T19:04:28.616Z"
   },
   {
    "duration": 17319,
    "start_time": "2023-04-21T19:04:28.626Z"
   },
   {
    "duration": 620,
    "start_time": "2023-04-21T19:04:45.947Z"
   },
   {
    "duration": 468,
    "start_time": "2023-04-21T19:04:46.570Z"
   },
   {
    "duration": 21,
    "start_time": "2023-04-21T19:04:47.040Z"
   },
   {
    "duration": 17,
    "start_time": "2023-04-21T19:04:47.064Z"
   },
   {
    "duration": 2279,
    "start_time": "2023-04-21T19:04:47.083Z"
   },
   {
    "duration": 57,
    "start_time": "2023-04-21T19:04:49.364Z"
   },
   {
    "duration": 0,
    "start_time": "2023-04-21T19:04:49.424Z"
   },
   {
    "duration": 0,
    "start_time": "2023-04-21T19:04:49.426Z"
   },
   {
    "duration": 0,
    "start_time": "2023-04-21T19:04:49.427Z"
   },
   {
    "duration": 0,
    "start_time": "2023-04-21T19:04:49.429Z"
   },
   {
    "duration": 6,
    "start_time": "2023-04-21T19:05:59.963Z"
   },
   {
    "duration": 166,
    "start_time": "2023-04-21T19:06:05.235Z"
   },
   {
    "duration": 3,
    "start_time": "2023-04-21T19:06:10.245Z"
   },
   {
    "duration": 13,
    "start_time": "2023-04-21T19:07:29.009Z"
   },
   {
    "duration": 55,
    "start_time": "2023-04-21T19:10:40.046Z"
   },
   {
    "duration": 3,
    "start_time": "2023-04-21T19:11:22.880Z"
   },
   {
    "duration": 6,
    "start_time": "2023-04-21T19:12:22.079Z"
   },
   {
    "duration": 13,
    "start_time": "2023-04-21T19:12:31.163Z"
   },
   {
    "duration": 46,
    "start_time": "2023-04-21T19:12:37.187Z"
   },
   {
    "duration": 18,
    "start_time": "2023-04-21T19:12:45.397Z"
   },
   {
    "duration": 8,
    "start_time": "2023-04-21T19:13:46.897Z"
   },
   {
    "duration": 7,
    "start_time": "2023-04-21T19:13:54.523Z"
   },
   {
    "duration": 7,
    "start_time": "2023-04-21T19:13:59.564Z"
   },
   {
    "duration": 10,
    "start_time": "2023-04-21T19:14:04.087Z"
   },
   {
    "duration": 6,
    "start_time": "2023-04-21T19:33:41.617Z"
   },
   {
    "duration": 159,
    "start_time": "2023-04-21T19:33:43.037Z"
   },
   {
    "duration": 179,
    "start_time": "2023-04-21T19:33:51.489Z"
   },
   {
    "duration": 5,
    "start_time": "2023-04-21T19:34:17.455Z"
   },
   {
    "duration": 15408,
    "start_time": "2023-04-21T19:34:18.175Z"
   },
   {
    "duration": 46,
    "start_time": "2023-04-21T19:34:43.179Z"
   },
   {
    "duration": 164,
    "start_time": "2023-04-21T19:34:49.132Z"
   },
   {
    "duration": 12,
    "start_time": "2023-04-21T19:39:56.779Z"
   },
   {
    "duration": 8,
    "start_time": "2023-04-21T19:48:43.198Z"
   },
   {
    "duration": 6,
    "start_time": "2023-04-21T19:49:27.534Z"
   },
   {
    "duration": 16,
    "start_time": "2023-04-21T19:49:28.230Z"
   },
   {
    "duration": 6,
    "start_time": "2023-04-21T19:51:15.935Z"
   },
   {
    "duration": 14,
    "start_time": "2023-04-21T19:51:16.334Z"
   },
   {
    "duration": 17,
    "start_time": "2023-04-21T19:51:17.277Z"
   },
   {
    "duration": 5,
    "start_time": "2023-04-21T19:52:07.185Z"
   },
   {
    "duration": 26,
    "start_time": "2023-04-21T19:52:16.174Z"
   },
   {
    "duration": 12,
    "start_time": "2023-04-21T19:52:21.306Z"
   },
   {
    "duration": 12,
    "start_time": "2023-04-21T19:53:47.537Z"
   },
   {
    "duration": 7,
    "start_time": "2023-04-21T19:53:53.951Z"
   },
   {
    "duration": 13,
    "start_time": "2023-04-21T19:58:39.699Z"
   },
   {
    "duration": 25,
    "start_time": "2023-04-21T19:59:08.583Z"
   },
   {
    "duration": 3,
    "start_time": "2023-04-21T20:16:23.602Z"
   },
   {
    "duration": 6,
    "start_time": "2023-04-21T20:16:31.147Z"
   },
   {
    "duration": 12,
    "start_time": "2023-04-21T20:16:36.698Z"
   },
   {
    "duration": 5,
    "start_time": "2023-04-21T20:16:46.181Z"
   },
   {
    "duration": 35,
    "start_time": "2023-04-21T20:17:02.172Z"
   },
   {
    "duration": 26,
    "start_time": "2023-04-21T20:17:58.834Z"
   },
   {
    "duration": 5,
    "start_time": "2023-04-21T20:18:47.673Z"
   },
   {
    "duration": 3,
    "start_time": "2023-04-21T20:20:52.096Z"
   },
   {
    "duration": 19,
    "start_time": "2023-04-21T20:33:59.152Z"
   },
   {
    "duration": 14,
    "start_time": "2023-04-21T20:35:26.740Z"
   },
   {
    "duration": 15,
    "start_time": "2023-04-21T20:42:36.159Z"
   },
   {
    "duration": 30,
    "start_time": "2023-04-21T20:42:46.564Z"
   },
   {
    "duration": 10,
    "start_time": "2023-04-21T20:43:24.743Z"
   },
   {
    "duration": 9,
    "start_time": "2023-04-21T20:44:20.176Z"
   },
   {
    "duration": 22,
    "start_time": "2023-04-21T20:45:32.663Z"
   },
   {
    "duration": 7,
    "start_time": "2023-04-21T20:46:23.937Z"
   },
   {
    "duration": 4,
    "start_time": "2023-04-21T20:49:27.832Z"
   },
   {
    "duration": 37,
    "start_time": "2023-04-21T20:50:54.383Z"
   },
   {
    "duration": 5,
    "start_time": "2023-04-21T20:51:04.153Z"
   },
   {
    "duration": 15,
    "start_time": "2023-04-21T20:51:10.121Z"
   },
   {
    "duration": 9,
    "start_time": "2023-04-21T20:51:14.190Z"
   },
   {
    "duration": 8,
    "start_time": "2023-04-21T20:51:32.641Z"
   },
   {
    "duration": 9,
    "start_time": "2023-04-21T20:51:40.652Z"
   },
   {
    "duration": 5,
    "start_time": "2023-04-21T20:51:53.502Z"
   },
   {
    "duration": 1496,
    "start_time": "2023-04-21T20:52:30.300Z"
   },
   {
    "duration": 747,
    "start_time": "2023-04-21T20:52:31.798Z"
   },
   {
    "duration": 83,
    "start_time": "2023-04-21T20:52:32.546Z"
   },
   {
    "duration": 45,
    "start_time": "2023-04-21T20:52:32.632Z"
   },
   {
    "duration": 20,
    "start_time": "2023-04-21T20:52:32.685Z"
   },
   {
    "duration": 26,
    "start_time": "2023-04-21T20:52:32.707Z"
   },
   {
    "duration": 3,
    "start_time": "2023-04-21T20:52:32.736Z"
   },
   {
    "duration": 243,
    "start_time": "2023-04-21T20:52:32.741Z"
   },
   {
    "duration": 21,
    "start_time": "2023-04-21T20:52:32.986Z"
   },
   {
    "duration": 11,
    "start_time": "2023-04-21T20:52:33.009Z"
   },
   {
    "duration": 13,
    "start_time": "2023-04-21T20:52:33.021Z"
   },
   {
    "duration": 21,
    "start_time": "2023-04-21T20:52:33.036Z"
   },
   {
    "duration": 19,
    "start_time": "2023-04-21T20:52:33.059Z"
   },
   {
    "duration": 6,
    "start_time": "2023-04-21T20:52:33.081Z"
   },
   {
    "duration": 10,
    "start_time": "2023-04-21T20:52:33.089Z"
   },
   {
    "duration": 17,
    "start_time": "2023-04-21T20:52:33.101Z"
   },
   {
    "duration": 12,
    "start_time": "2023-04-21T20:52:33.119Z"
   },
   {
    "duration": 35,
    "start_time": "2023-04-21T20:52:33.133Z"
   },
   {
    "duration": 12,
    "start_time": "2023-04-21T20:52:33.170Z"
   },
   {
    "duration": 21,
    "start_time": "2023-04-21T20:52:33.184Z"
   },
   {
    "duration": 12,
    "start_time": "2023-04-21T20:52:33.209Z"
   },
   {
    "duration": 17,
    "start_time": "2023-04-21T20:52:33.223Z"
   },
   {
    "duration": 64,
    "start_time": "2023-04-21T20:52:33.243Z"
   },
   {
    "duration": 39,
    "start_time": "2023-04-21T20:52:33.309Z"
   },
   {
    "duration": 29,
    "start_time": "2023-04-21T20:52:33.349Z"
   },
   {
    "duration": 9,
    "start_time": "2023-04-21T20:52:33.380Z"
   },
   {
    "duration": 19255,
    "start_time": "2023-04-21T20:52:33.391Z"
   },
   {
    "duration": 818,
    "start_time": "2023-04-21T20:52:52.649Z"
   },
   {
    "duration": 537,
    "start_time": "2023-04-21T20:52:53.469Z"
   },
   {
    "duration": 15,
    "start_time": "2023-04-21T20:52:54.008Z"
   },
   {
    "duration": 22,
    "start_time": "2023-04-21T20:52:54.025Z"
   },
   {
    "duration": 1824,
    "start_time": "2023-04-21T20:52:54.049Z"
   },
   {
    "duration": 10,
    "start_time": "2023-04-21T20:52:55.875Z"
   },
   {
    "duration": 10,
    "start_time": "2023-04-21T20:52:55.887Z"
   },
   {
    "duration": 5,
    "start_time": "2023-04-21T20:52:55.899Z"
   },
   {
    "duration": 55,
    "start_time": "2023-04-21T20:52:55.906Z"
   },
   {
    "duration": 115,
    "start_time": "2023-04-21T20:52:55.963Z"
   },
   {
    "duration": 11085,
    "start_time": "2023-04-21T20:52:56.080Z"
   },
   {
    "duration": 6,
    "start_time": "2023-04-21T20:53:37.958Z"
   },
   {
    "duration": 6,
    "start_time": "2023-04-21T20:53:49.143Z"
   },
   {
    "duration": 5,
    "start_time": "2023-04-21T20:53:53.577Z"
   },
   {
    "duration": 5,
    "start_time": "2023-04-21T20:54:03.720Z"
   },
   {
    "duration": 140,
    "start_time": "2023-04-21T20:54:10.731Z"
   },
   {
    "duration": 4,
    "start_time": "2023-04-21T20:54:15.229Z"
   },
   {
    "duration": 157,
    "start_time": "2023-04-21T20:54:31.419Z"
   },
   {
    "duration": 265,
    "start_time": "2023-04-21T20:54:42.378Z"
   },
   {
    "duration": 145,
    "start_time": "2023-04-21T20:54:51.065Z"
   },
   {
    "duration": 137,
    "start_time": "2023-04-21T20:54:54.848Z"
   },
   {
    "duration": 19,
    "start_time": "2023-04-21T20:55:00.826Z"
   },
   {
    "duration": 4,
    "start_time": "2023-04-21T20:55:11.874Z"
   },
   {
    "duration": 4,
    "start_time": "2023-04-21T20:55:27.802Z"
   },
   {
    "duration": 3,
    "start_time": "2023-04-21T20:55:36.135Z"
   },
   {
    "duration": 219,
    "start_time": "2023-04-21T20:55:45.431Z"
   },
   {
    "duration": 196,
    "start_time": "2023-04-21T20:55:48.851Z"
   },
   {
    "duration": 521,
    "start_time": "2023-04-21T20:55:51.074Z"
   },
   {
    "duration": 240,
    "start_time": "2023-04-21T20:55:53.310Z"
   },
   {
    "duration": 205,
    "start_time": "2023-04-21T20:55:55.382Z"
   },
   {
    "duration": 50,
    "start_time": "2023-04-21T20:55:57.216Z"
   },
   {
    "duration": 213,
    "start_time": "2023-04-21T20:56:02.073Z"
   },
   {
    "duration": 265,
    "start_time": "2023-04-21T20:56:05.081Z"
   },
   {
    "duration": 199,
    "start_time": "2023-04-21T20:56:08.074Z"
   },
   {
    "duration": 285,
    "start_time": "2023-04-21T20:56:21.921Z"
   },
   {
    "duration": 496,
    "start_time": "2023-04-21T20:56:26.522Z"
   },
   {
    "duration": 170,
    "start_time": "2023-04-21T20:56:28.870Z"
   },
   {
    "duration": 321,
    "start_time": "2023-04-21T20:56:32.005Z"
   },
   {
    "duration": 3,
    "start_time": "2023-04-21T20:58:05.144Z"
   },
   {
    "duration": 2,
    "start_time": "2023-04-21T20:59:18.716Z"
   },
   {
    "duration": 3,
    "start_time": "2023-04-21T21:14:34.799Z"
   },
   {
    "duration": 2,
    "start_time": "2023-04-21T21:15:34.099Z"
   },
   {
    "duration": 3,
    "start_time": "2023-04-21T21:15:44.708Z"
   },
   {
    "duration": 77,
    "start_time": "2023-04-21T21:16:43.984Z"
   },
   {
    "duration": 4,
    "start_time": "2023-04-21T21:16:47.164Z"
   },
   {
    "duration": 4,
    "start_time": "2023-04-21T21:24:49.874Z"
   },
   {
    "duration": 3,
    "start_time": "2023-04-21T21:25:06.521Z"
   },
   {
    "duration": 3,
    "start_time": "2023-04-21T21:27:29.350Z"
   },
   {
    "duration": 3,
    "start_time": "2023-04-21T21:27:59.552Z"
   },
   {
    "duration": 6,
    "start_time": "2023-04-21T21:29:59.480Z"
   },
   {
    "duration": 3,
    "start_time": "2023-04-21T21:30:54.455Z"
   },
   {
    "duration": 1329,
    "start_time": "2023-04-21T21:32:12.405Z"
   },
   {
    "duration": 700,
    "start_time": "2023-04-21T21:32:13.736Z"
   },
   {
    "duration": 77,
    "start_time": "2023-04-21T21:32:14.438Z"
   },
   {
    "duration": 17,
    "start_time": "2023-04-21T21:32:14.517Z"
   },
   {
    "duration": 28,
    "start_time": "2023-04-21T21:32:14.537Z"
   },
   {
    "duration": 21,
    "start_time": "2023-04-21T21:32:14.567Z"
   },
   {
    "duration": 4,
    "start_time": "2023-04-21T21:32:14.589Z"
   },
   {
    "duration": 258,
    "start_time": "2023-04-21T21:32:14.595Z"
   },
   {
    "duration": 17,
    "start_time": "2023-04-21T21:32:14.856Z"
   },
   {
    "duration": 12,
    "start_time": "2023-04-21T21:32:14.874Z"
   },
   {
    "duration": 19,
    "start_time": "2023-04-21T21:32:14.888Z"
   },
   {
    "duration": 40,
    "start_time": "2023-04-21T21:32:14.909Z"
   },
   {
    "duration": 12,
    "start_time": "2023-04-21T21:32:14.950Z"
   },
   {
    "duration": 7,
    "start_time": "2023-04-21T21:32:14.965Z"
   },
   {
    "duration": 6,
    "start_time": "2023-04-21T21:32:14.974Z"
   },
   {
    "duration": 12,
    "start_time": "2023-04-21T21:32:14.981Z"
   },
   {
    "duration": 7,
    "start_time": "2023-04-21T21:32:14.996Z"
   },
   {
    "duration": 38,
    "start_time": "2023-04-21T21:32:15.005Z"
   },
   {
    "duration": 10,
    "start_time": "2023-04-21T21:32:15.045Z"
   },
   {
    "duration": 22,
    "start_time": "2023-04-21T21:32:15.057Z"
   },
   {
    "duration": 5,
    "start_time": "2023-04-21T21:32:15.081Z"
   },
   {
    "duration": 37,
    "start_time": "2023-04-21T21:32:15.088Z"
   },
   {
    "duration": 59,
    "start_time": "2023-04-21T21:32:15.127Z"
   },
   {
    "duration": 63,
    "start_time": "2023-04-21T21:32:15.187Z"
   },
   {
    "duration": 8,
    "start_time": "2023-04-21T21:32:15.252Z"
   },
   {
    "duration": 7,
    "start_time": "2023-04-21T21:32:15.262Z"
   },
   {
    "duration": 16380,
    "start_time": "2023-04-21T21:32:15.270Z"
   },
   {
    "duration": 591,
    "start_time": "2023-04-21T21:32:31.652Z"
   },
   {
    "duration": 484,
    "start_time": "2023-04-21T21:32:32.245Z"
   },
   {
    "duration": 13,
    "start_time": "2023-04-21T21:32:32.731Z"
   },
   {
    "duration": 18,
    "start_time": "2023-04-21T21:32:32.746Z"
   },
   {
    "duration": 1867,
    "start_time": "2023-04-21T21:32:32.766Z"
   },
   {
    "duration": 5,
    "start_time": "2023-04-21T21:32:34.635Z"
   },
   {
    "duration": 15,
    "start_time": "2023-04-21T21:32:34.641Z"
   },
   {
    "duration": 3,
    "start_time": "2023-04-21T21:32:34.657Z"
   },
   {
    "duration": 11,
    "start_time": "2023-04-21T21:32:34.662Z"
   },
   {
    "duration": 14,
    "start_time": "2023-04-21T21:32:34.674Z"
   },
   {
    "duration": 4,
    "start_time": "2023-04-21T21:32:34.690Z"
   },
   {
    "duration": 36,
    "start_time": "2023-04-21T21:32:34.695Z"
   },
   {
    "duration": 324,
    "start_time": "2023-04-21T21:32:34.733Z"
   },
   {
    "duration": 3,
    "start_time": "2023-04-21T21:32:35.061Z"
   },
   {
    "duration": 3,
    "start_time": "2023-04-21T21:32:35.066Z"
   },
   {
    "duration": 169,
    "start_time": "2023-04-21T21:32:35.071Z"
   },
   {
    "duration": 10148,
    "start_time": "2023-04-21T21:32:35.242Z"
   },
   {
    "duration": 1705,
    "start_time": "2023-04-22T07:50:38.179Z"
   },
   {
    "duration": 3098,
    "start_time": "2023-04-22T07:50:39.887Z"
   },
   {
    "duration": 68,
    "start_time": "2023-04-22T07:50:42.987Z"
   },
   {
    "duration": 18,
    "start_time": "2023-04-22T07:50:43.057Z"
   },
   {
    "duration": 12,
    "start_time": "2023-04-22T07:50:43.078Z"
   },
   {
    "duration": 37,
    "start_time": "2023-04-22T07:50:43.092Z"
   },
   {
    "duration": 4,
    "start_time": "2023-04-22T07:50:43.130Z"
   },
   {
    "duration": 256,
    "start_time": "2023-04-22T07:50:43.135Z"
   },
   {
    "duration": 27,
    "start_time": "2023-04-22T07:50:43.393Z"
   },
   {
    "duration": 13,
    "start_time": "2023-04-22T07:50:43.422Z"
   },
   {
    "duration": 7,
    "start_time": "2023-04-22T07:50:43.437Z"
   },
   {
    "duration": 33,
    "start_time": "2023-04-22T07:50:43.446Z"
   },
   {
    "duration": 21,
    "start_time": "2023-04-22T07:50:43.481Z"
   },
   {
    "duration": 16,
    "start_time": "2023-04-22T07:50:43.506Z"
   },
   {
    "duration": 22,
    "start_time": "2023-04-22T07:50:43.524Z"
   },
   {
    "duration": 19,
    "start_time": "2023-04-22T07:50:43.548Z"
   },
   {
    "duration": 18,
    "start_time": "2023-04-22T07:50:43.569Z"
   },
   {
    "duration": 14,
    "start_time": "2023-04-22T07:50:43.589Z"
   },
   {
    "duration": 21,
    "start_time": "2023-04-22T07:50:43.605Z"
   },
   {
    "duration": 24,
    "start_time": "2023-04-22T07:50:43.628Z"
   },
   {
    "duration": 7,
    "start_time": "2023-04-22T07:50:43.653Z"
   },
   {
    "duration": 22,
    "start_time": "2023-04-22T07:50:43.661Z"
   },
   {
    "duration": 49,
    "start_time": "2023-04-22T07:50:43.684Z"
   },
   {
    "duration": 52,
    "start_time": "2023-04-22T07:50:43.735Z"
   },
   {
    "duration": 16,
    "start_time": "2023-04-22T07:50:43.789Z"
   },
   {
    "duration": 15,
    "start_time": "2023-04-22T07:50:43.807Z"
   },
   {
    "duration": 16483,
    "start_time": "2023-04-22T07:50:43.824Z"
   },
   {
    "duration": 641,
    "start_time": "2023-04-22T07:51:00.309Z"
   },
   {
    "duration": 488,
    "start_time": "2023-04-22T07:51:00.952Z"
   },
   {
    "duration": 12,
    "start_time": "2023-04-22T07:51:01.443Z"
   },
   {
    "duration": 73,
    "start_time": "2023-04-22T07:51:01.457Z"
   },
   {
    "duration": 2308,
    "start_time": "2023-04-22T07:51:01.532Z"
   },
   {
    "duration": 3,
    "start_time": "2023-04-22T07:51:03.842Z"
   },
   {
    "duration": 39,
    "start_time": "2023-04-22T07:51:03.847Z"
   },
   {
    "duration": 30,
    "start_time": "2023-04-22T07:51:03.888Z"
   },
   {
    "duration": 13,
    "start_time": "2023-04-22T07:51:03.920Z"
   },
   {
    "duration": 19,
    "start_time": "2023-04-22T07:51:03.934Z"
   },
   {
    "duration": 20,
    "start_time": "2023-04-22T07:51:03.955Z"
   },
   {
    "duration": 51,
    "start_time": "2023-04-22T07:51:03.977Z"
   },
   {
    "duration": 193,
    "start_time": "2023-04-22T07:51:04.030Z"
   },
   {
    "duration": 89,
    "start_time": "2023-04-22T07:51:04.230Z"
   },
   {
    "duration": 21,
    "start_time": "2023-04-22T07:51:04.320Z"
   },
   {
    "duration": 191,
    "start_time": "2023-04-22T07:51:04.343Z"
   },
   {
    "duration": 11360,
    "start_time": "2023-04-22T07:51:04.536Z"
   },
   {
    "duration": 63,
    "start_time": "2023-04-22T07:55:56.456Z"
   },
   {
    "duration": 483,
    "start_time": "2023-04-22T07:58:46.336Z"
   },
   {
    "duration": 164,
    "start_time": "2023-04-22T08:01:12.167Z"
   },
   {
    "duration": 11,
    "start_time": "2023-04-22T08:02:25.501Z"
   },
   {
    "duration": 10,
    "start_time": "2023-04-22T08:02:33.381Z"
   },
   {
    "duration": 1580,
    "start_time": "2023-04-22T08:02:51.011Z"
   },
   {
    "duration": 765,
    "start_time": "2023-04-22T08:02:52.594Z"
   },
   {
    "duration": 74,
    "start_time": "2023-04-22T08:02:53.361Z"
   },
   {
    "duration": 18,
    "start_time": "2023-04-22T08:02:53.437Z"
   },
   {
    "duration": 23,
    "start_time": "2023-04-22T08:02:53.458Z"
   },
   {
    "duration": 35,
    "start_time": "2023-04-22T08:02:53.482Z"
   },
   {
    "duration": 3,
    "start_time": "2023-04-22T08:02:53.519Z"
   },
   {
    "duration": 237,
    "start_time": "2023-04-22T08:02:53.524Z"
   },
   {
    "duration": 15,
    "start_time": "2023-04-22T08:02:53.762Z"
   },
   {
    "duration": 10,
    "start_time": "2023-04-22T08:02:53.779Z"
   },
   {
    "duration": 27,
    "start_time": "2023-04-22T08:02:53.790Z"
   },
   {
    "duration": 12,
    "start_time": "2023-04-22T08:02:53.819Z"
   },
   {
    "duration": 7,
    "start_time": "2023-04-22T08:02:53.834Z"
   },
   {
    "duration": 9,
    "start_time": "2023-04-22T08:02:53.844Z"
   },
   {
    "duration": 11,
    "start_time": "2023-04-22T08:02:53.855Z"
   },
   {
    "duration": 16,
    "start_time": "2023-04-22T08:02:53.868Z"
   },
   {
    "duration": 37,
    "start_time": "2023-04-22T08:02:53.886Z"
   },
   {
    "duration": 17,
    "start_time": "2023-04-22T08:02:53.925Z"
   },
   {
    "duration": 9,
    "start_time": "2023-04-22T08:02:53.945Z"
   },
   {
    "duration": 19,
    "start_time": "2023-04-22T08:02:53.956Z"
   },
   {
    "duration": 5,
    "start_time": "2023-04-22T08:02:53.976Z"
   },
   {
    "duration": 14,
    "start_time": "2023-04-22T08:02:54.016Z"
   },
   {
    "duration": 51,
    "start_time": "2023-04-22T08:02:54.032Z"
   },
   {
    "duration": 62,
    "start_time": "2023-04-22T08:02:54.085Z"
   },
   {
    "duration": 7,
    "start_time": "2023-04-22T08:02:54.149Z"
   },
   {
    "duration": 7,
    "start_time": "2023-04-22T08:02:54.158Z"
   },
   {
    "duration": 16061,
    "start_time": "2023-04-22T08:02:54.167Z"
   },
   {
    "duration": 581,
    "start_time": "2023-04-22T08:03:10.230Z"
   },
   {
    "duration": 510,
    "start_time": "2023-04-22T08:03:10.813Z"
   },
   {
    "duration": 11,
    "start_time": "2023-04-22T08:03:11.324Z"
   },
   {
    "duration": 33,
    "start_time": "2023-04-22T08:03:11.337Z"
   },
   {
    "duration": 2107,
    "start_time": "2023-04-22T08:03:11.372Z"
   },
   {
    "duration": 5,
    "start_time": "2023-04-22T08:03:13.481Z"
   },
   {
    "duration": 12,
    "start_time": "2023-04-22T08:03:13.488Z"
   },
   {
    "duration": 13,
    "start_time": "2023-04-22T08:03:13.502Z"
   },
   {
    "duration": 23,
    "start_time": "2023-04-22T08:03:13.518Z"
   },
   {
    "duration": 35,
    "start_time": "2023-04-22T08:03:13.543Z"
   },
   {
    "duration": 10,
    "start_time": "2023-04-22T08:03:13.580Z"
   },
   {
    "duration": 39,
    "start_time": "2023-04-22T08:03:13.592Z"
   },
   {
    "duration": 385,
    "start_time": "2023-04-22T08:03:13.633Z"
   },
   {
    "duration": 91,
    "start_time": "2023-04-22T08:03:14.027Z"
   },
   {
    "duration": 12,
    "start_time": "2023-04-22T08:03:14.120Z"
   },
   {
    "duration": 129,
    "start_time": "2023-04-22T08:03:14.134Z"
   },
   {
    "duration": 11445,
    "start_time": "2023-04-22T08:03:14.265Z"
   },
   {
    "duration": 320,
    "start_time": "2023-04-22T08:07:35.501Z"
   },
   {
    "duration": 411,
    "start_time": "2023-04-22T08:07:38.605Z"
   },
   {
    "duration": 247,
    "start_time": "2023-04-22T08:07:40.178Z"
   },
   {
    "duration": 116,
    "start_time": "2023-04-22T08:11:28.548Z"
   },
   {
    "duration": 235,
    "start_time": "2023-04-22T08:13:39.592Z"
   },
   {
    "duration": 13,
    "start_time": "2023-04-22T08:24:46.441Z"
   },
   {
    "duration": 15,
    "start_time": "2023-04-22T08:27:58.784Z"
   },
   {
    "duration": 14,
    "start_time": "2023-04-22T08:28:30.019Z"
   },
   {
    "duration": 13,
    "start_time": "2023-04-22T08:28:33.649Z"
   },
   {
    "duration": 6,
    "start_time": "2023-04-22T08:29:12.530Z"
   },
   {
    "duration": 9,
    "start_time": "2023-04-22T08:29:17.500Z"
   },
   {
    "duration": 10,
    "start_time": "2023-04-22T08:29:25.823Z"
   },
   {
    "duration": 48,
    "start_time": "2023-04-22T08:29:42.952Z"
   },
   {
    "duration": 7,
    "start_time": "2023-04-22T08:29:59.929Z"
   },
   {
    "duration": 12,
    "start_time": "2023-04-22T08:30:08.015Z"
   },
   {
    "duration": 6,
    "start_time": "2023-04-22T08:30:13.099Z"
   },
   {
    "duration": 244,
    "start_time": "2023-04-22T08:33:16.274Z"
   },
   {
    "duration": 3,
    "start_time": "2023-04-22T08:35:12.324Z"
   },
   {
    "duration": 12,
    "start_time": "2023-04-22T08:36:08.975Z"
   },
   {
    "duration": 233,
    "start_time": "2023-04-22T08:36:24.787Z"
   },
   {
    "duration": 12,
    "start_time": "2023-04-22T08:36:57.518Z"
   },
   {
    "duration": 11339,
    "start_time": "2023-04-22T08:37:06.786Z"
   },
   {
    "duration": 238,
    "start_time": "2023-04-22T09:13:40.081Z"
   },
   {
    "duration": 200,
    "start_time": "2023-04-22T09:14:28.426Z"
   },
   {
    "duration": 138,
    "start_time": "2023-04-22T09:15:19.781Z"
   },
   {
    "duration": 265,
    "start_time": "2023-04-22T09:15:38.654Z"
   },
   {
    "duration": 10,
    "start_time": "2023-04-22T10:07:34.549Z"
   },
   {
    "duration": 7,
    "start_time": "2023-04-22T10:08:08.578Z"
   },
   {
    "duration": 31,
    "start_time": "2023-04-22T10:08:38.131Z"
   },
   {
    "duration": 3,
    "start_time": "2023-04-22T10:08:39.846Z"
   },
   {
    "duration": 22,
    "start_time": "2023-04-22T10:08:40.148Z"
   },
   {
    "duration": 368,
    "start_time": "2023-04-22T10:08:49.569Z"
   },
   {
    "duration": 1558,
    "start_time": "2023-04-22T10:08:54.826Z"
   },
   {
    "duration": 748,
    "start_time": "2023-04-22T10:08:56.386Z"
   },
   {
    "duration": 85,
    "start_time": "2023-04-22T10:08:57.136Z"
   },
   {
    "duration": 24,
    "start_time": "2023-04-22T10:08:57.223Z"
   },
   {
    "duration": 32,
    "start_time": "2023-04-22T10:08:57.249Z"
   },
   {
    "duration": 17,
    "start_time": "2023-04-22T10:08:57.283Z"
   },
   {
    "duration": 20,
    "start_time": "2023-04-22T10:08:57.302Z"
   },
   {
    "duration": 269,
    "start_time": "2023-04-22T10:08:57.324Z"
   },
   {
    "duration": 23,
    "start_time": "2023-04-22T10:08:57.595Z"
   },
   {
    "duration": 17,
    "start_time": "2023-04-22T10:08:57.631Z"
   },
   {
    "duration": 13,
    "start_time": "2023-04-22T10:08:57.650Z"
   },
   {
    "duration": 17,
    "start_time": "2023-04-22T10:08:57.665Z"
   },
   {
    "duration": 27,
    "start_time": "2023-04-22T10:08:57.684Z"
   },
   {
    "duration": 21,
    "start_time": "2023-04-22T10:08:57.716Z"
   },
   {
    "duration": 11,
    "start_time": "2023-04-22T10:08:57.740Z"
   },
   {
    "duration": 54,
    "start_time": "2023-04-22T10:08:57.753Z"
   },
   {
    "duration": 32,
    "start_time": "2023-04-22T10:08:57.809Z"
   },
   {
    "duration": 28,
    "start_time": "2023-04-22T10:08:57.842Z"
   },
   {
    "duration": 13,
    "start_time": "2023-04-22T10:08:57.871Z"
   },
   {
    "duration": 35,
    "start_time": "2023-04-22T10:08:57.886Z"
   },
   {
    "duration": 14,
    "start_time": "2023-04-22T10:08:57.923Z"
   },
   {
    "duration": 36,
    "start_time": "2023-04-22T10:08:57.938Z"
   },
   {
    "duration": 59,
    "start_time": "2023-04-22T10:08:57.975Z"
   },
   {
    "duration": 43,
    "start_time": "2023-04-22T10:08:58.037Z"
   },
   {
    "duration": 18,
    "start_time": "2023-04-22T10:08:58.082Z"
   },
   {
    "duration": 34,
    "start_time": "2023-04-22T10:08:58.102Z"
   },
   {
    "duration": 18271,
    "start_time": "2023-04-22T10:08:58.138Z"
   },
   {
    "duration": 826,
    "start_time": "2023-04-22T10:09:16.417Z"
   },
   {
    "duration": 673,
    "start_time": "2023-04-22T10:09:17.246Z"
   },
   {
    "duration": 17,
    "start_time": "2023-04-22T10:09:17.921Z"
   },
   {
    "duration": 34,
    "start_time": "2023-04-22T10:09:17.941Z"
   },
   {
    "duration": 2332,
    "start_time": "2023-04-22T10:09:17.977Z"
   },
   {
    "duration": 4,
    "start_time": "2023-04-22T10:09:20.317Z"
   },
   {
    "duration": 17,
    "start_time": "2023-04-22T10:09:20.323Z"
   },
   {
    "duration": 33,
    "start_time": "2023-04-22T10:09:20.342Z"
   },
   {
    "duration": 37,
    "start_time": "2023-04-22T10:09:20.378Z"
   },
   {
    "duration": 31,
    "start_time": "2023-04-22T10:09:20.417Z"
   },
   {
    "duration": 17,
    "start_time": "2023-04-22T10:09:20.450Z"
   },
   {
    "duration": 55,
    "start_time": "2023-04-22T10:09:20.469Z"
   },
   {
    "duration": 197,
    "start_time": "2023-04-22T10:09:20.526Z"
   },
   {
    "duration": 2,
    "start_time": "2023-04-22T10:09:20.729Z"
   },
   {
    "duration": 99,
    "start_time": "2023-04-22T10:09:20.819Z"
   },
   {
    "duration": 121,
    "start_time": "2023-04-22T10:09:20.920Z"
   },
   {
    "duration": 11877,
    "start_time": "2023-04-22T10:09:21.042Z"
   },
   {
    "duration": 4,
    "start_time": "2023-04-22T10:10:17.804Z"
   },
   {
    "duration": 572,
    "start_time": "2023-04-22T10:10:36.893Z"
   },
   {
    "duration": 239,
    "start_time": "2023-04-22T10:10:47.700Z"
   },
   {
    "duration": 3,
    "start_time": "2023-04-22T10:12:44.801Z"
   },
   {
    "duration": 4,
    "start_time": "2023-04-22T10:12:45.193Z"
   },
   {
    "duration": 128,
    "start_time": "2023-04-22T10:12:49.147Z"
   },
   {
    "duration": 504,
    "start_time": "2023-04-22T10:12:57.331Z"
   },
   {
    "duration": 3,
    "start_time": "2023-04-22T10:13:14.580Z"
   },
   {
    "duration": 5,
    "start_time": "2023-04-22T10:13:17.537Z"
   },
   {
    "duration": 246,
    "start_time": "2023-04-22T10:13:22.696Z"
   },
   {
    "duration": 1988,
    "start_time": "2023-04-22T10:13:42.062Z"
   },
   {
    "duration": 0,
    "start_time": "2023-04-22T10:16:31.090Z"
   },
   {
    "duration": 0,
    "start_time": "2023-04-22T10:16:31.092Z"
   },
   {
    "duration": 1060,
    "start_time": "2023-04-22T10:16:33.149Z"
   },
   {
    "duration": 68091,
    "start_time": "2023-04-22T10:16:49.197Z"
   },
   {
    "duration": 0,
    "start_time": "2023-04-22T10:17:57.290Z"
   },
   {
    "duration": 1511,
    "start_time": "2023-04-22T10:17:58.941Z"
   },
   {
    "duration": 838,
    "start_time": "2023-04-22T10:18:13.779Z"
   },
   {
    "duration": 2112,
    "start_time": "2023-04-22T10:18:27.114Z"
   },
   {
    "duration": 334,
    "start_time": "2023-04-22T10:18:40.858Z"
   },
   {
    "duration": 694,
    "start_time": "2023-04-22T10:18:52.163Z"
   },
   {
    "duration": 736,
    "start_time": "2023-04-22T10:18:55.309Z"
   },
   {
    "duration": 1081,
    "start_time": "2023-04-22T10:19:02.748Z"
   },
   {
    "duration": 660,
    "start_time": "2023-04-22T10:19:13.480Z"
   },
   {
    "duration": 1161,
    "start_time": "2023-04-22T10:19:19.997Z"
   },
   {
    "duration": 122354,
    "start_time": "2023-04-22T10:19:27.574Z"
   },
   {
    "duration": 18,
    "start_time": "2023-04-22T10:21:29.933Z"
   },
   {
    "duration": 1075,
    "start_time": "2023-04-22T10:22:10.950Z"
   },
   {
    "duration": 2011,
    "start_time": "2023-04-22T10:22:17.897Z"
   },
   {
    "duration": 1129,
    "start_time": "2023-04-22T10:22:22.266Z"
   },
   {
    "duration": 1297,
    "start_time": "2023-04-22T10:22:25.781Z"
   },
   {
    "duration": 1148,
    "start_time": "2023-04-22T10:22:28.904Z"
   },
   {
    "duration": 1040,
    "start_time": "2023-04-22T10:22:32.373Z"
   },
   {
    "duration": 1174,
    "start_time": "2023-04-22T10:22:34.809Z"
   },
   {
    "duration": 153,
    "start_time": "2023-04-22T10:22:39.177Z"
   },
   {
    "duration": 265,
    "start_time": "2023-04-22T10:22:41.926Z"
   },
   {
    "duration": 369,
    "start_time": "2023-04-22T10:22:44.044Z"
   },
   {
    "duration": 492,
    "start_time": "2023-04-22T10:22:46.282Z"
   },
   {
    "duration": 586,
    "start_time": "2023-04-22T10:22:48.455Z"
   },
   {
    "duration": 715,
    "start_time": "2023-04-22T10:22:51.112Z"
   },
   {
    "duration": 784,
    "start_time": "2023-04-22T10:22:55.000Z"
   },
   {
    "duration": 816,
    "start_time": "2023-04-22T10:22:56.868Z"
   },
   {
    "duration": 885,
    "start_time": "2023-04-22T10:22:59.534Z"
   },
   {
    "duration": 988,
    "start_time": "2023-04-22T10:23:02.873Z"
   },
   {
    "duration": 79,
    "start_time": "2023-04-22T10:34:13.718Z"
   },
   {
    "duration": 73,
    "start_time": "2023-04-22T10:34:40.416Z"
   },
   {
    "duration": 75,
    "start_time": "2023-04-22T10:34:51.895Z"
   },
   {
    "duration": 73,
    "start_time": "2023-04-22T10:35:20.575Z"
   },
   {
    "duration": 3,
    "start_time": "2023-04-22T10:35:25.151Z"
   },
   {
    "duration": 3,
    "start_time": "2023-04-22T10:35:36.510Z"
   },
   {
    "duration": 410,
    "start_time": "2023-04-22T10:35:41.708Z"
   },
   {
    "duration": 312,
    "start_time": "2023-04-22T10:35:43.817Z"
   },
   {
    "duration": 955,
    "start_time": "2023-04-22T10:35:47.563Z"
   },
   {
    "duration": 1041,
    "start_time": "2023-04-22T10:35:52.540Z"
   },
   {
    "duration": 3,
    "start_time": "2023-04-22T10:36:24.023Z"
   },
   {
    "duration": 1005,
    "start_time": "2023-04-22T10:36:28.521Z"
   },
   {
    "duration": 344,
    "start_time": "2023-04-22T10:36:32.281Z"
   },
   {
    "duration": 4,
    "start_time": "2023-04-22T10:36:47.374Z"
   },
   {
    "duration": 4,
    "start_time": "2023-04-22T10:51:44.048Z"
   },
   {
    "duration": 522,
    "start_time": "2023-04-22T10:51:52.114Z"
   },
   {
    "duration": 3,
    "start_time": "2023-04-22T10:52:08.555Z"
   },
   {
    "duration": 3,
    "start_time": "2023-04-22T10:52:09.336Z"
   },
   {
    "duration": 4,
    "start_time": "2023-04-22T10:52:12.128Z"
   },
   {
    "duration": 462,
    "start_time": "2023-04-22T10:52:15.356Z"
   },
   {
    "duration": 141,
    "start_time": "2023-04-22T10:52:47.797Z"
   },
   {
    "duration": 583,
    "start_time": "2023-04-22T10:54:07.236Z"
   },
   {
    "duration": 1091,
    "start_time": "2023-04-22T10:54:11.394Z"
   },
   {
    "duration": 360,
    "start_time": "2023-04-22T10:54:15.447Z"
   },
   {
    "duration": 488,
    "start_time": "2023-04-22T10:54:18.042Z"
   },
   {
    "duration": 603,
    "start_time": "2023-04-22T10:54:20.881Z"
   },
   {
    "duration": 658,
    "start_time": "2023-04-22T10:54:23.739Z"
   },
   {
    "duration": 2001,
    "start_time": "2023-04-22T10:54:31.653Z"
   },
   {
    "duration": 2042,
    "start_time": "2023-04-22T10:54:39.994Z"
   },
   {
    "duration": 983,
    "start_time": "2023-04-22T10:54:44.583Z"
   },
   {
    "duration": 12,
    "start_time": "2023-04-22T10:55:52.635Z"
   },
   {
    "duration": 87,
    "start_time": "2023-04-22T10:55:55.041Z"
   },
   {
    "duration": 5,
    "start_time": "2023-04-22T10:55:57.248Z"
   },
   {
    "duration": 4,
    "start_time": "2023-04-22T10:56:03.306Z"
   },
   {
    "duration": 52,
    "start_time": "2023-04-22T10:56:09.175Z"
   },
   {
    "duration": 4,
    "start_time": "2023-04-22T10:56:13.476Z"
   },
   {
    "duration": 5,
    "start_time": "2023-04-22T10:56:16.150Z"
   },
   {
    "duration": 2571,
    "start_time": "2023-04-22T11:02:39.947Z"
   },
   {
    "duration": 5,
    "start_time": "2023-04-22T11:02:44.173Z"
   },
   {
    "duration": 11,
    "start_time": "2023-04-22T11:02:52.745Z"
   },
   {
    "duration": 4,
    "start_time": "2023-04-22T11:02:56.695Z"
   },
   {
    "duration": 4,
    "start_time": "2023-04-22T11:03:01.070Z"
   },
   {
    "duration": 3,
    "start_time": "2023-04-22T11:03:11.739Z"
   },
   {
    "duration": 4,
    "start_time": "2023-04-22T11:03:23.353Z"
   },
   {
    "duration": 3,
    "start_time": "2023-04-22T11:03:30.517Z"
   },
   {
    "duration": 4,
    "start_time": "2023-04-22T11:03:34.538Z"
   },
   {
    "duration": 2872,
    "start_time": "2023-04-22T11:04:05.850Z"
   },
   {
    "duration": 5,
    "start_time": "2023-04-22T11:04:08.816Z"
   },
   {
    "duration": 2123,
    "start_time": "2023-04-22T11:04:17.700Z"
   },
   {
    "duration": 98,
    "start_time": "2023-04-22T11:04:19.826Z"
   },
   {
    "duration": 33,
    "start_time": "2023-04-22T11:10:09.898Z"
   },
   {
    "duration": 1019,
    "start_time": "2023-04-22T11:10:49.454Z"
   },
   {
    "duration": 3,
    "start_time": "2023-04-22T11:10:54.240Z"
   },
   {
    "duration": 22839,
    "start_time": "2023-04-22T11:13:17.663Z"
   },
   {
    "duration": 8,
    "start_time": "2023-04-22T11:14:06.016Z"
   },
   {
    "duration": 10,
    "start_time": "2023-04-22T11:14:16.462Z"
   },
   {
    "duration": 26,
    "start_time": "2023-04-22T11:14:32.929Z"
   },
   {
    "duration": 53,
    "start_time": "2023-04-22T11:14:38.052Z"
   },
   {
    "duration": 486,
    "start_time": "2023-04-22T11:14:45.962Z"
   },
   {
    "duration": 563,
    "start_time": "2023-04-22T11:15:11.101Z"
   },
   {
    "duration": 33447,
    "start_time": "2023-04-22T11:15:49.010Z"
   },
   {
    "duration": 6,
    "start_time": "2023-04-22T11:16:27.959Z"
   },
   {
    "duration": 144,
    "start_time": "2023-04-22T11:16:33.976Z"
   },
   {
    "duration": 141,
    "start_time": "2023-04-22T11:16:42.024Z"
   },
   {
    "duration": 186458,
    "start_time": "2023-04-22T11:16:54.253Z"
   },
   {
    "duration": 11,
    "start_time": "2023-04-22T11:20:05.092Z"
   },
   {
    "duration": 40,
    "start_time": "2023-04-22T11:20:14.611Z"
   },
   {
    "duration": 8,
    "start_time": "2023-04-22T11:20:19.373Z"
   },
   {
    "duration": 6,
    "start_time": "2023-04-22T11:20:27.402Z"
   },
   {
    "duration": 7,
    "start_time": "2023-04-22T11:20:40.667Z"
   },
   {
    "duration": 8,
    "start_time": "2023-04-22T11:20:43.841Z"
   },
   {
    "duration": 7,
    "start_time": "2023-04-22T11:20:47.937Z"
   },
   {
    "duration": 6,
    "start_time": "2023-04-22T11:20:50.357Z"
   },
   {
    "duration": 7,
    "start_time": "2023-04-22T11:20:55.440Z"
   },
   {
    "duration": 7,
    "start_time": "2023-04-22T11:21:01.139Z"
   },
   {
    "duration": 14,
    "start_time": "2023-04-22T11:22:30.141Z"
   },
   {
    "duration": 80377,
    "start_time": "2023-04-22T11:24:01.396Z"
   },
   {
    "duration": 0,
    "start_time": "2023-04-22T11:37:11.688Z"
   },
   {
    "duration": 73,
    "start_time": "2023-04-22T11:37:27.081Z"
   },
   {
    "duration": 57599,
    "start_time": "2023-04-22T11:38:40.375Z"
   },
   {
    "duration": 25703,
    "start_time": "2023-04-22T11:42:20.222Z"
   },
   {
    "duration": 35693,
    "start_time": "2023-04-22T11:50:01.011Z"
   },
   {
    "duration": 1281,
    "start_time": "2023-04-22T11:53:38.291Z"
   },
   {
    "duration": 26581,
    "start_time": "2023-04-22T11:54:07.619Z"
   },
   {
    "duration": 27848,
    "start_time": "2023-04-22T11:56:22.157Z"
   },
   {
    "duration": 28085,
    "start_time": "2023-04-22T11:57:22.090Z"
   },
   {
    "duration": 41295,
    "start_time": "2023-04-22T11:58:56.510Z"
   },
   {
    "duration": 1109,
    "start_time": "2023-04-22T11:59:37.809Z"
   },
   {
    "duration": 263,
    "start_time": "2023-04-22T12:02:05.273Z"
   },
   {
    "duration": 4068,
    "start_time": "2023-04-22T12:02:09.357Z"
   },
   {
    "duration": 6,
    "start_time": "2023-04-22T12:02:54.733Z"
   },
   {
    "duration": 2846,
    "start_time": "2023-04-22T12:06:27.788Z"
   },
   {
    "duration": 36360,
    "start_time": "2023-04-22T12:09:49.280Z"
   },
   {
    "duration": 36055,
    "start_time": "2023-04-22T12:10:25.642Z"
   },
   {
    "duration": 33,
    "start_time": "2023-04-22T12:13:49.920Z"
   },
   {
    "duration": 24,
    "start_time": "2023-04-22T12:14:15.043Z"
   },
   {
    "duration": 25,
    "start_time": "2023-04-22T12:14:18.185Z"
   },
   {
    "duration": 30,
    "start_time": "2023-04-22T12:14:30.402Z"
   },
   {
    "duration": 29,
    "start_time": "2023-04-22T12:14:59.809Z"
   },
   {
    "duration": 36122,
    "start_time": "2023-04-22T12:15:03.812Z"
   },
   {
    "duration": 37028,
    "start_time": "2023-04-22T12:17:02.050Z"
   },
   {
    "duration": 0,
    "start_time": "2023-04-22T12:21:13.795Z"
   },
   {
    "duration": 1167241,
    "start_time": "2023-04-22T12:21:15.735Z"
   },
   {
    "duration": 0,
    "start_time": "2023-04-22T12:40:42.979Z"
   },
   {
    "duration": 0,
    "start_time": "2023-04-22T12:40:42.981Z"
   },
   {
    "duration": 0,
    "start_time": "2023-04-22T12:40:42.982Z"
   },
   {
    "duration": 2608,
    "start_time": "2023-04-22T12:41:37.826Z"
   },
   {
    "duration": 82,
    "start_time": "2023-04-22T12:41:40.437Z"
   },
   {
    "duration": 36553,
    "start_time": "2023-04-22T12:41:51.307Z"
   },
   {
    "duration": 93,
    "start_time": "2023-04-22T12:42:27.862Z"
   },
   {
    "duration": 4,
    "start_time": "2023-04-22T12:42:56.872Z"
   },
   {
    "duration": 4,
    "start_time": "2023-04-22T12:43:06.913Z"
   },
   {
    "duration": 4,
    "start_time": "2023-04-22T12:43:09.939Z"
   },
   {
    "duration": 4,
    "start_time": "2023-04-22T12:43:20.896Z"
   },
   {
    "duration": 3,
    "start_time": "2023-04-22T12:43:24.346Z"
   },
   {
    "duration": 12,
    "start_time": "2023-04-22T21:56:57.764Z"
   },
   {
    "duration": 46,
    "start_time": "2023-04-22T22:01:39.998Z"
   },
   {
    "duration": 1718,
    "start_time": "2023-04-22T22:01:43.212Z"
   },
   {
    "duration": 701,
    "start_time": "2023-04-22T22:01:46.599Z"
   },
   {
    "duration": 72,
    "start_time": "2023-04-22T22:01:48.124Z"
   },
   {
    "duration": 19,
    "start_time": "2023-04-22T22:01:49.697Z"
   },
   {
    "duration": 13,
    "start_time": "2023-04-22T22:01:50.066Z"
   },
   {
    "duration": 21,
    "start_time": "2023-04-22T22:01:50.507Z"
   },
   {
    "duration": 3,
    "start_time": "2023-04-22T22:01:51.613Z"
   },
   {
    "duration": 220,
    "start_time": "2023-04-22T22:01:51.806Z"
   },
   {
    "duration": 14,
    "start_time": "2023-04-22T22:01:52.029Z"
   },
   {
    "duration": 11,
    "start_time": "2023-04-22T22:01:52.399Z"
   },
   {
    "duration": 3,
    "start_time": "2023-04-22T22:01:54.903Z"
   },
   {
    "duration": 6,
    "start_time": "2023-04-22T22:01:55.621Z"
   },
   {
    "duration": 6,
    "start_time": "2023-04-22T22:01:56.044Z"
   },
   {
    "duration": 6,
    "start_time": "2023-04-22T22:01:57.152Z"
   },
   {
    "duration": 3,
    "start_time": "2023-04-22T22:01:58.353Z"
   },
   {
    "duration": 5,
    "start_time": "2023-04-22T22:02:00.212Z"
   },
   {
    "duration": 11,
    "start_time": "2023-04-22T22:02:00.813Z"
   },
   {
    "duration": 7,
    "start_time": "2023-04-22T22:02:02.202Z"
   },
   {
    "duration": 9,
    "start_time": "2023-04-22T22:02:02.813Z"
   },
   {
    "duration": 8,
    "start_time": "2023-04-22T22:02:04.052Z"
   },
   {
    "duration": 17,
    "start_time": "2023-04-22T22:02:04.840Z"
   },
   {
    "duration": 52,
    "start_time": "2023-04-22T22:06:10.532Z"
   },
   {
    "duration": 49,
    "start_time": "2023-04-22T22:06:34.608Z"
   },
   {
    "duration": 10,
    "start_time": "2023-04-22T22:07:15.304Z"
   },
   {
    "duration": 8,
    "start_time": "2023-04-22T22:07:27.808Z"
   },
   {
    "duration": 14,
    "start_time": "2023-04-22T22:30:47.232Z"
   },
   {
    "duration": 17,
    "start_time": "2023-04-22T22:30:48.132Z"
   },
   {
    "duration": 2,
    "start_time": "2023-04-22T22:30:49.888Z"
   },
   {
    "duration": 6,
    "start_time": "2023-04-22T22:30:50.192Z"
   },
   {
    "duration": 7473,
    "start_time": "2023-04-22T22:30:50.492Z"
   },
   {
    "duration": 431,
    "start_time": "2023-04-22T22:30:57.967Z"
   },
   {
    "duration": 419,
    "start_time": "2023-04-22T22:30:58.399Z"
   },
   {
    "duration": 25,
    "start_time": "2023-04-22T22:30:58.821Z"
   },
   {
    "duration": 21,
    "start_time": "2023-04-22T22:30:58.848Z"
   },
   {
    "duration": 21,
    "start_time": "2023-04-22T22:30:58.871Z"
   },
   {
    "duration": 1048,
    "start_time": "2023-04-22T22:30:59.912Z"
   },
   {
    "duration": 12,
    "start_time": "2023-04-22T22:31:01.852Z"
   },
   {
    "duration": 837,
    "start_time": "2023-04-22T22:31:03.314Z"
   },
   {
    "duration": 4,
    "start_time": "2023-04-22T22:31:04.488Z"
   },
   {
    "duration": 16,
    "start_time": "2023-04-22T22:31:04.753Z"
   },
   {
    "duration": 3,
    "start_time": "2023-04-22T22:31:05.748Z"
   },
   {
    "duration": 4,
    "start_time": "2023-04-22T22:32:39.992Z"
   },
   {
    "duration": 1837,
    "start_time": "2023-04-22T22:33:04.287Z"
   },
   {
    "duration": 1845,
    "start_time": "2023-04-22T22:33:20.053Z"
   },
   {
    "duration": 60,
    "start_time": "2023-04-23T09:18:18.483Z"
   },
   {
    "duration": 2338,
    "start_time": "2023-04-23T09:23:10.478Z"
   },
   {
    "duration": 3587,
    "start_time": "2023-04-23T09:23:17.313Z"
   },
   {
    "duration": 81,
    "start_time": "2023-04-23T09:23:22.477Z"
   },
   {
    "duration": 30,
    "start_time": "2023-04-23T09:23:30.190Z"
   },
   {
    "duration": 18,
    "start_time": "2023-04-23T09:23:31.660Z"
   },
   {
    "duration": 26,
    "start_time": "2023-04-23T09:23:32.427Z"
   },
   {
    "duration": 4,
    "start_time": "2023-04-23T09:23:36.181Z"
   },
   {
    "duration": 277,
    "start_time": "2023-04-23T09:23:38.217Z"
   },
   {
    "duration": 18,
    "start_time": "2023-04-23T09:23:39.266Z"
   },
   {
    "duration": 14,
    "start_time": "2023-04-23T09:23:43.022Z"
   },
   {
    "duration": 4,
    "start_time": "2023-04-23T09:23:48.595Z"
   },
   {
    "duration": 5,
    "start_time": "2023-04-23T09:23:49.030Z"
   },
   {
    "duration": 7,
    "start_time": "2023-04-23T09:23:49.501Z"
   },
   {
    "duration": 6,
    "start_time": "2023-04-23T09:23:49.869Z"
   },
   {
    "duration": 5,
    "start_time": "2023-04-23T09:23:52.376Z"
   },
   {
    "duration": 7,
    "start_time": "2023-04-23T09:23:54.309Z"
   },
   {
    "duration": 15,
    "start_time": "2023-04-23T09:23:56.532Z"
   },
   {
    "duration": 131,
    "start_time": "2023-04-23T09:23:58.607Z"
   },
   {
    "duration": 10,
    "start_time": "2023-04-23T09:24:12.817Z"
   },
   {
    "duration": 12,
    "start_time": "2023-04-23T09:24:20.310Z"
   },
   {
    "duration": 9,
    "start_time": "2023-04-23T09:24:38.402Z"
   },
   {
    "duration": 7,
    "start_time": "2023-04-23T09:24:42.517Z"
   },
   {
    "duration": 11,
    "start_time": "2023-04-23T09:24:44.805Z"
   },
   {
    "duration": 9,
    "start_time": "2023-04-23T09:24:46.681Z"
   },
   {
    "duration": 22,
    "start_time": "2023-04-23T09:24:48.765Z"
   },
   {
    "duration": 5,
    "start_time": "2023-04-23T09:24:53.474Z"
   },
   {
    "duration": 10,
    "start_time": "2023-04-23T09:24:56.827Z"
   },
   {
    "duration": 3,
    "start_time": "2023-04-23T09:25:01.731Z"
   },
   {
    "duration": 14,
    "start_time": "2023-04-23T09:25:03.956Z"
   },
   {
    "duration": 10265,
    "start_time": "2023-04-23T09:25:06.037Z"
   },
   {
    "duration": 501,
    "start_time": "2023-04-23T09:25:26.579Z"
   },
   {
    "duration": 500,
    "start_time": "2023-04-23T09:25:31.854Z"
   },
   {
    "duration": 13,
    "start_time": "2023-04-23T09:25:39.171Z"
   },
   {
    "duration": 41,
    "start_time": "2023-04-23T09:25:40.141Z"
   },
   {
    "duration": 27,
    "start_time": "2023-04-23T09:25:43.503Z"
   },
   {
    "duration": 1411,
    "start_time": "2023-04-23T09:25:46.079Z"
   },
   {
    "duration": 13,
    "start_time": "2023-04-23T09:26:33.803Z"
   },
   {
    "duration": 1163,
    "start_time": "2023-04-23T09:26:35.068Z"
   },
   {
    "duration": 1447,
    "start_time": "2023-04-23T09:26:53.863Z"
   },
   {
    "duration": 0,
    "start_time": "2023-04-23T09:26:55.313Z"
   },
   {
    "duration": 40,
    "start_time": "2023-04-23T09:27:17.271Z"
   },
   {
    "duration": 5,
    "start_time": "2023-04-23T09:27:21.002Z"
   },
   {
    "duration": 4,
    "start_time": "2023-04-23T09:27:23.904Z"
   },
   {
    "duration": 5,
    "start_time": "2023-04-23T09:27:38.235Z"
   },
   {
    "duration": 14,
    "start_time": "2023-04-23T09:29:13.822Z"
   },
   {
    "duration": 3,
    "start_time": "2023-04-23T09:29:23.308Z"
   },
   {
    "duration": 5,
    "start_time": "2023-04-23T09:29:29.214Z"
   },
   {
    "duration": 69,
    "start_time": "2023-04-23T09:29:44.362Z"
   },
   {
    "duration": 48,
    "start_time": "2023-04-23T09:30:50.177Z"
   },
   {
    "duration": 9,
    "start_time": "2023-04-23T09:30:54.890Z"
   },
   {
    "duration": 5,
    "start_time": "2023-04-23T09:31:25.137Z"
   },
   {
    "duration": 1032,
    "start_time": "2023-04-23T09:31:26.104Z"
   },
   {
    "duration": 85,
    "start_time": "2023-04-23T09:31:27.139Z"
   },
   {
    "duration": 27,
    "start_time": "2023-04-23T09:31:28.826Z"
   },
   {
    "duration": 18,
    "start_time": "2023-04-23T09:31:29.402Z"
   },
   {
    "duration": 32,
    "start_time": "2023-04-23T09:31:30.173Z"
   },
   {
    "duration": 3,
    "start_time": "2023-04-23T09:31:33.213Z"
   },
   {
    "duration": 308,
    "start_time": "2023-04-23T09:31:33.674Z"
   },
   {
    "duration": 45,
    "start_time": "2023-04-23T09:31:34.237Z"
   },
   {
    "duration": 16,
    "start_time": "2023-04-23T09:31:34.866Z"
   },
   {
    "duration": 6,
    "start_time": "2023-04-23T09:31:37.060Z"
   },
   {
    "duration": 6,
    "start_time": "2023-04-23T09:31:37.418Z"
   },
   {
    "duration": 11,
    "start_time": "2023-04-23T09:31:39.170Z"
   },
   {
    "duration": 8,
    "start_time": "2023-04-23T09:31:39.463Z"
   },
   {
    "duration": 6,
    "start_time": "2023-04-23T09:31:40.802Z"
   },
   {
    "duration": 17,
    "start_time": "2023-04-23T09:31:44.744Z"
   },
   {
    "duration": 19,
    "start_time": "2023-04-23T09:31:46.387Z"
   },
   {
    "duration": 20,
    "start_time": "2023-04-23T09:32:05.833Z"
   },
   {
    "duration": 27,
    "start_time": "2023-04-23T09:32:17.636Z"
   },
   {
    "duration": 14,
    "start_time": "2023-04-23T09:32:30.166Z"
   },
   {
    "duration": 15,
    "start_time": "2023-04-23T09:33:13.383Z"
   },
   {
    "duration": 19,
    "start_time": "2023-04-23T09:33:46.611Z"
   },
   {
    "duration": 26,
    "start_time": "2023-04-23T09:33:58.111Z"
   },
   {
    "duration": 42,
    "start_time": "2023-04-23T09:34:24.584Z"
   },
   {
    "duration": 8,
    "start_time": "2023-04-23T09:34:35.377Z"
   },
   {
    "duration": 19,
    "start_time": "2023-04-23T09:34:39.467Z"
   },
   {
    "duration": 3,
    "start_time": "2023-04-23T09:34:46.788Z"
   },
   {
    "duration": 9,
    "start_time": "2023-04-23T09:34:47.800Z"
   },
   {
    "duration": 11950,
    "start_time": "2023-04-23T09:34:50.527Z"
   },
   {
    "duration": 490,
    "start_time": "2023-04-23T09:35:59.923Z"
   },
   {
    "duration": 682,
    "start_time": "2023-04-23T09:36:14.719Z"
   },
   {
    "duration": 16,
    "start_time": "2023-04-23T09:36:20.416Z"
   },
   {
    "duration": 28,
    "start_time": "2023-04-23T09:36:23.294Z"
   },
   {
    "duration": 39,
    "start_time": "2023-04-23T09:36:24.599Z"
   },
   {
    "duration": 1551,
    "start_time": "2023-04-23T09:36:26.744Z"
   },
   {
    "duration": 17,
    "start_time": "2023-04-23T09:36:32.231Z"
   },
   {
    "duration": 1221,
    "start_time": "2023-04-23T09:36:33.483Z"
   },
   {
    "duration": 6,
    "start_time": "2023-04-23T09:36:37.024Z"
   },
   {
    "duration": 69,
    "start_time": "2023-04-23T09:36:42.739Z"
   },
   {
    "duration": 5,
    "start_time": "2023-04-23T09:36:43.483Z"
   },
   {
    "duration": 8,
    "start_time": "2023-04-23T09:36:49.572Z"
   },
   {
    "duration": 96,
    "start_time": "2023-04-23T09:36:53.585Z"
   },
   {
    "duration": 4,
    "start_time": "2023-04-23T09:37:02.817Z"
   },
   {
    "duration": 7,
    "start_time": "2023-04-23T09:37:08.466Z"
   },
   {
    "duration": 6,
    "start_time": "2023-04-23T09:37:12.036Z"
   },
   {
    "duration": 14,
    "start_time": "2023-04-23T09:37:18.973Z"
   },
   {
    "duration": 33,
    "start_time": "2023-04-23T09:37:18.990Z"
   },
   {
    "duration": 17,
    "start_time": "2023-04-23T09:37:21.003Z"
   },
   {
    "duration": 13,
    "start_time": "2023-04-23T09:37:24.164Z"
   },
   {
    "duration": 158,
    "start_time": "2023-04-23T09:38:03.501Z"
   },
   {
    "duration": 98,
    "start_time": "2023-04-23T09:38:08.102Z"
   },
   {
    "duration": 5,
    "start_time": "2023-04-23T09:38:08.425Z"
   },
   {
    "duration": 128,
    "start_time": "2023-04-23T09:38:13.767Z"
   },
   {
    "duration": 6,
    "start_time": "2023-04-23T09:38:14.103Z"
   },
   {
    "duration": 31,
    "start_time": "2023-04-23T09:38:17.876Z"
   },
   {
    "duration": 15,
    "start_time": "2023-04-23T09:38:24.415Z"
   },
   {
    "duration": 5,
    "start_time": "2023-04-23T09:38:24.817Z"
   },
   {
    "duration": 5,
    "start_time": "2023-04-23T09:38:29.581Z"
   },
   {
    "duration": 8,
    "start_time": "2023-04-23T09:38:31.756Z"
   },
   {
    "duration": 5,
    "start_time": "2023-04-23T09:38:33.465Z"
   },
   {
    "duration": 3,
    "start_time": "2023-04-23T09:38:37.220Z"
   },
   {
    "duration": 3,
    "start_time": "2023-04-23T09:38:38.504Z"
   },
   {
    "duration": 14,
    "start_time": "2023-04-23T09:38:41.605Z"
   },
   {
    "duration": 10,
    "start_time": "2023-04-23T09:38:43.304Z"
   },
   {
    "duration": 4,
    "start_time": "2023-04-23T09:38:47.117Z"
   },
   {
    "duration": 46,
    "start_time": "2023-04-23T09:38:47.601Z"
   },
   {
    "duration": 61,
    "start_time": "2023-04-23T09:39:00.328Z"
   },
   {
    "duration": 142,
    "start_time": "2023-04-23T09:39:03.336Z"
   },
   {
    "duration": 5,
    "start_time": "2023-04-23T09:39:10.665Z"
   },
   {
    "duration": 909,
    "start_time": "2023-04-23T09:39:14.208Z"
   },
   {
    "duration": 1725,
    "start_time": "2023-04-23T09:39:23.409Z"
   },
   {
    "duration": 826,
    "start_time": "2023-04-23T09:39:25.136Z"
   },
   {
    "duration": 117,
    "start_time": "2023-04-23T09:39:25.971Z"
   },
   {
    "duration": 26,
    "start_time": "2023-04-23T09:39:26.090Z"
   },
   {
    "duration": 43,
    "start_time": "2023-04-23T09:39:26.118Z"
   },
   {
    "duration": 52,
    "start_time": "2023-04-23T09:39:26.165Z"
   },
   {
    "duration": 7,
    "start_time": "2023-04-23T09:39:26.219Z"
   },
   {
    "duration": 354,
    "start_time": "2023-04-23T09:39:26.228Z"
   },
   {
    "duration": 24,
    "start_time": "2023-04-23T09:39:26.589Z"
   },
   {
    "duration": 64,
    "start_time": "2023-04-23T09:39:26.618Z"
   },
   {
    "duration": 7,
    "start_time": "2023-04-23T09:39:26.685Z"
   },
   {
    "duration": 96,
    "start_time": "2023-04-23T09:39:26.694Z"
   },
   {
    "duration": 16,
    "start_time": "2023-04-23T09:39:26.793Z"
   },
   {
    "duration": 33,
    "start_time": "2023-04-23T09:39:26.812Z"
   },
   {
    "duration": 29,
    "start_time": "2023-04-23T09:39:26.847Z"
   },
   {
    "duration": 18,
    "start_time": "2023-04-23T09:39:26.878Z"
   },
   {
    "duration": 32,
    "start_time": "2023-04-23T09:39:26.899Z"
   },
   {
    "duration": 174,
    "start_time": "2023-04-23T09:39:26.933Z"
   },
   {
    "duration": 0,
    "start_time": "2023-04-23T09:39:27.110Z"
   },
   {
    "duration": 0,
    "start_time": "2023-04-23T09:39:27.112Z"
   },
   {
    "duration": 0,
    "start_time": "2023-04-23T09:39:27.114Z"
   },
   {
    "duration": 0,
    "start_time": "2023-04-23T09:39:27.115Z"
   },
   {
    "duration": 0,
    "start_time": "2023-04-23T09:39:27.116Z"
   },
   {
    "duration": 0,
    "start_time": "2023-04-23T09:39:27.117Z"
   },
   {
    "duration": 0,
    "start_time": "2023-04-23T09:39:27.118Z"
   },
   {
    "duration": 0,
    "start_time": "2023-04-23T09:39:27.119Z"
   },
   {
    "duration": 0,
    "start_time": "2023-04-23T09:39:27.120Z"
   },
   {
    "duration": 0,
    "start_time": "2023-04-23T09:39:27.122Z"
   },
   {
    "duration": 0,
    "start_time": "2023-04-23T09:39:27.123Z"
   },
   {
    "duration": 0,
    "start_time": "2023-04-23T09:39:27.141Z"
   },
   {
    "duration": 0,
    "start_time": "2023-04-23T09:39:27.144Z"
   },
   {
    "duration": 0,
    "start_time": "2023-04-23T09:39:27.146Z"
   },
   {
    "duration": 0,
    "start_time": "2023-04-23T09:39:27.147Z"
   },
   {
    "duration": 0,
    "start_time": "2023-04-23T09:39:27.148Z"
   },
   {
    "duration": 0,
    "start_time": "2023-04-23T09:39:27.150Z"
   },
   {
    "duration": 0,
    "start_time": "2023-04-23T09:39:27.151Z"
   },
   {
    "duration": 0,
    "start_time": "2023-04-23T09:39:27.152Z"
   },
   {
    "duration": 0,
    "start_time": "2023-04-23T09:39:27.154Z"
   },
   {
    "duration": 0,
    "start_time": "2023-04-23T09:39:27.156Z"
   },
   {
    "duration": 0,
    "start_time": "2023-04-23T09:39:27.157Z"
   },
   {
    "duration": 0,
    "start_time": "2023-04-23T09:39:27.158Z"
   },
   {
    "duration": 0,
    "start_time": "2023-04-23T09:39:27.165Z"
   },
   {
    "duration": 0,
    "start_time": "2023-04-23T09:39:27.166Z"
   },
   {
    "duration": 0,
    "start_time": "2023-04-23T09:39:27.167Z"
   },
   {
    "duration": 0,
    "start_time": "2023-04-23T09:39:27.168Z"
   },
   {
    "duration": 0,
    "start_time": "2023-04-23T09:39:27.169Z"
   },
   {
    "duration": 0,
    "start_time": "2023-04-23T09:39:27.170Z"
   },
   {
    "duration": 0,
    "start_time": "2023-04-23T09:39:27.172Z"
   },
   {
    "duration": 0,
    "start_time": "2023-04-23T09:39:27.176Z"
   },
   {
    "duration": 0,
    "start_time": "2023-04-23T09:39:27.177Z"
   },
   {
    "duration": 0,
    "start_time": "2023-04-23T09:39:27.178Z"
   },
   {
    "duration": 0,
    "start_time": "2023-04-23T09:39:27.179Z"
   },
   {
    "duration": 1,
    "start_time": "2023-04-23T09:39:27.180Z"
   },
   {
    "duration": 0,
    "start_time": "2023-04-23T09:39:27.182Z"
   },
   {
    "duration": 0,
    "start_time": "2023-04-23T09:39:27.183Z"
   },
   {
    "duration": 0,
    "start_time": "2023-04-23T09:39:27.184Z"
   },
   {
    "duration": 0,
    "start_time": "2023-04-23T09:39:27.185Z"
   },
   {
    "duration": 0,
    "start_time": "2023-04-23T09:39:27.186Z"
   },
   {
    "duration": 0,
    "start_time": "2023-04-23T09:39:27.245Z"
   },
   {
    "duration": 0,
    "start_time": "2023-04-23T09:39:27.248Z"
   },
   {
    "duration": 0,
    "start_time": "2023-04-23T09:39:27.249Z"
   },
   {
    "duration": 11,
    "start_time": "2023-04-23T09:39:59.577Z"
   },
   {
    "duration": 11,
    "start_time": "2023-04-23T09:40:00.527Z"
   },
   {
    "duration": 16,
    "start_time": "2023-04-23T09:40:02.833Z"
   },
   {
    "duration": 12,
    "start_time": "2023-04-23T09:40:03.860Z"
   },
   {
    "duration": 16,
    "start_time": "2023-04-23T09:40:05.346Z"
   },
   {
    "duration": 37,
    "start_time": "2023-04-23T09:40:09.607Z"
   },
   {
    "duration": 19,
    "start_time": "2023-04-23T09:40:11.539Z"
   },
   {
    "duration": 12,
    "start_time": "2023-04-23T09:40:14.467Z"
   },
   {
    "duration": 4,
    "start_time": "2023-04-23T09:40:18.915Z"
   },
   {
    "duration": 7,
    "start_time": "2023-04-23T09:40:20.685Z"
   },
   {
    "duration": 9324,
    "start_time": "2023-04-23T09:40:21.068Z"
   },
   {
    "duration": 466,
    "start_time": "2023-04-23T09:40:35.830Z"
   },
   {
    "duration": 500,
    "start_time": "2023-04-23T09:40:38.463Z"
   },
   {
    "duration": 11,
    "start_time": "2023-04-23T09:40:41.878Z"
   },
   {
    "duration": 25,
    "start_time": "2023-04-23T09:40:42.297Z"
   },
   {
    "duration": 34,
    "start_time": "2023-04-23T09:40:43.236Z"
   },
   {
    "duration": 1279,
    "start_time": "2023-04-23T09:40:46.062Z"
   },
   {
    "duration": 16,
    "start_time": "2023-04-23T09:40:48.514Z"
   },
   {
    "duration": 1084,
    "start_time": "2023-04-23T09:40:51.940Z"
   },
   {
    "duration": 5,
    "start_time": "2023-04-23T09:40:53.378Z"
   },
   {
    "duration": 16,
    "start_time": "2023-04-23T09:40:58.515Z"
   },
   {
    "duration": 5,
    "start_time": "2023-04-23T09:41:02.556Z"
   },
   {
    "duration": 20,
    "start_time": "2023-04-23T09:42:56.633Z"
   },
   {
    "duration": 189,
    "start_time": "2023-04-23T09:43:09.432Z"
   },
   {
    "duration": 4,
    "start_time": "2023-04-23T09:43:26.682Z"
   },
   {
    "duration": 3,
    "start_time": "2023-04-23T09:43:31.132Z"
   },
   {
    "duration": 3,
    "start_time": "2023-04-23T09:43:32.214Z"
   },
   {
    "duration": 18,
    "start_time": "2023-04-23T09:43:39.935Z"
   },
   {
    "duration": 8,
    "start_time": "2023-04-23T09:43:42.656Z"
   },
   {
    "duration": 6,
    "start_time": "2023-04-23T09:43:47.937Z"
   },
   {
    "duration": 38,
    "start_time": "2023-04-23T09:43:50.375Z"
   },
   {
    "duration": 4596,
    "start_time": "2023-04-23T09:43:54.059Z"
   },
   {
    "duration": 4,
    "start_time": "2023-04-23T09:44:00.830Z"
   },
   {
    "duration": 16919,
    "start_time": "2023-04-23T09:44:37.962Z"
   },
   {
    "duration": 7418,
    "start_time": "2023-04-23T09:45:13.591Z"
   },
   {
    "duration": 4,
    "start_time": "2023-04-23T09:45:33.205Z"
   },
   {
    "duration": 3,
    "start_time": "2023-04-23T09:48:29.797Z"
   },
   {
    "duration": 112,
    "start_time": "2023-04-23T09:59:54.513Z"
   },
   {
    "duration": 4,
    "start_time": "2023-04-23T10:01:07.168Z"
   },
   {
    "duration": 4,
    "start_time": "2023-04-23T10:01:09.321Z"
   },
   {
    "duration": 3,
    "start_time": "2023-04-23T10:03:36.931Z"
   },
   {
    "duration": 118,
    "start_time": "2023-04-23T10:06:03.513Z"
   },
   {
    "duration": 2647,
    "start_time": "2023-04-23T10:09:39.469Z"
   },
   {
    "duration": 3,
    "start_time": "2023-04-23T10:09:42.118Z"
   },
   {
    "duration": 4472,
    "start_time": "2023-04-23T10:09:42.123Z"
   },
   {
    "duration": 92,
    "start_time": "2023-04-23T10:09:46.597Z"
   },
   {
    "duration": 28,
    "start_time": "2023-04-23T10:09:46.692Z"
   },
   {
    "duration": 37,
    "start_time": "2023-04-23T10:09:46.722Z"
   },
   {
    "duration": 56,
    "start_time": "2023-04-23T10:09:46.761Z"
   },
   {
    "duration": 4,
    "start_time": "2023-04-23T10:09:46.819Z"
   },
   {
    "duration": 287,
    "start_time": "2023-04-23T10:09:46.825Z"
   },
   {
    "duration": 33,
    "start_time": "2023-04-23T10:09:47.114Z"
   },
   {
    "duration": 54,
    "start_time": "2023-04-23T10:09:47.149Z"
   },
   {
    "duration": 4,
    "start_time": "2023-04-23T10:09:47.205Z"
   },
   {
    "duration": 20,
    "start_time": "2023-04-23T10:09:47.211Z"
   },
   {
    "duration": 21,
    "start_time": "2023-04-23T10:09:47.236Z"
   },
   {
    "duration": 44,
    "start_time": "2023-04-23T10:09:47.261Z"
   },
   {
    "duration": 7,
    "start_time": "2023-04-23T10:09:47.307Z"
   },
   {
    "duration": 10,
    "start_time": "2023-04-23T10:09:47.316Z"
   },
   {
    "duration": 23,
    "start_time": "2023-04-23T10:09:47.327Z"
   },
   {
    "duration": 45,
    "start_time": "2023-04-23T10:09:47.355Z"
   },
   {
    "duration": 6,
    "start_time": "2023-04-23T10:09:47.403Z"
   },
   {
    "duration": 21,
    "start_time": "2023-04-23T10:09:47.411Z"
   },
   {
    "duration": 25,
    "start_time": "2023-04-23T10:09:47.434Z"
   },
   {
    "duration": 43,
    "start_time": "2023-04-23T10:09:47.474Z"
   },
   {
    "duration": 16,
    "start_time": "2023-04-23T10:09:47.518Z"
   },
   {
    "duration": 60,
    "start_time": "2023-04-23T10:09:47.535Z"
   },
   {
    "duration": 32,
    "start_time": "2023-04-23T10:09:47.597Z"
   },
   {
    "duration": 6,
    "start_time": "2023-04-23T10:09:47.631Z"
   },
   {
    "duration": 61,
    "start_time": "2023-04-23T10:09:47.639Z"
   },
   {
    "duration": 17,
    "start_time": "2023-04-23T10:09:47.702Z"
   },
   {
    "duration": 25,
    "start_time": "2023-04-23T10:09:47.720Z"
   },
   {
    "duration": 10349,
    "start_time": "2023-04-23T10:09:47.748Z"
   },
   {
    "duration": 602,
    "start_time": "2023-04-23T10:09:58.099Z"
   },
   {
    "duration": 456,
    "start_time": "2023-04-23T10:09:58.703Z"
   },
   {
    "duration": 18,
    "start_time": "2023-04-23T10:09:59.161Z"
   },
   {
    "duration": 48,
    "start_time": "2023-04-23T10:09:59.181Z"
   },
   {
    "duration": 42,
    "start_time": "2023-04-23T10:09:59.232Z"
   },
   {
    "duration": 1304,
    "start_time": "2023-04-23T10:09:59.277Z"
   },
   {
    "duration": 19,
    "start_time": "2023-04-23T10:10:00.583Z"
   },
   {
    "duration": 1138,
    "start_time": "2023-04-23T10:10:00.605Z"
   },
   {
    "duration": 19,
    "start_time": "2023-04-23T10:10:01.750Z"
   },
   {
    "duration": 33,
    "start_time": "2023-04-23T10:10:01.779Z"
   },
   {
    "duration": 4,
    "start_time": "2023-04-23T10:10:01.814Z"
   },
   {
    "duration": 57,
    "start_time": "2023-04-23T10:10:01.820Z"
   },
   {
    "duration": 22,
    "start_time": "2023-04-23T10:10:01.879Z"
   },
   {
    "duration": 18,
    "start_time": "2023-04-23T10:10:01.903Z"
   },
   {
    "duration": 61,
    "start_time": "2023-04-23T10:10:01.923Z"
   },
   {
    "duration": 29,
    "start_time": "2023-04-23T10:10:01.987Z"
   },
   {
    "duration": 21,
    "start_time": "2023-04-23T10:10:02.018Z"
   },
   {
    "duration": 52,
    "start_time": "2023-04-23T10:10:02.041Z"
   },
   {
    "duration": 30,
    "start_time": "2023-04-23T10:10:02.095Z"
   },
   {
    "duration": 90,
    "start_time": "2023-04-23T10:10:02.128Z"
   },
   {
    "duration": 7037,
    "start_time": "2023-04-23T10:10:02.220Z"
   },
   {
    "duration": 13,
    "start_time": "2023-04-23T10:10:09.267Z"
   },
   {
    "duration": 18939,
    "start_time": "2023-04-23T10:10:09.282Z"
   },
   {
    "duration": 8539,
    "start_time": "2023-04-23T10:10:28.223Z"
   },
   {
    "duration": 6,
    "start_time": "2023-04-23T10:10:36.765Z"
   },
   {
    "duration": 19655,
    "start_time": "2023-04-23T10:10:36.773Z"
   },
   {
    "duration": 17969,
    "start_time": "2023-04-23T10:10:56.431Z"
   },
   {
    "duration": 4,
    "start_time": "2023-04-23T10:11:14.403Z"
   },
   {
    "duration": 163,
    "start_time": "2023-04-23T10:11:14.410Z"
   },
   {
    "duration": 0,
    "start_time": "2023-04-23T10:11:14.575Z"
   },
   {
    "duration": 0,
    "start_time": "2023-04-23T10:11:14.577Z"
   },
   {
    "duration": 13,
    "start_time": "2023-04-23T10:13:06.315Z"
   },
   {
    "duration": 17924,
    "start_time": "2023-04-23T10:13:26.177Z"
   },
   {
    "duration": 17623,
    "start_time": "2023-04-23T10:14:03.709Z"
   },
   {
    "duration": 7645,
    "start_time": "2023-04-23T10:14:29.971Z"
   },
   {
    "duration": 5,
    "start_time": "2023-04-23T10:14:38.527Z"
   },
   {
    "duration": 7627,
    "start_time": "2023-04-23T10:14:44.904Z"
   },
   {
    "duration": 4,
    "start_time": "2023-04-23T10:14:53.576Z"
   },
   {
    "duration": 7728,
    "start_time": "2023-04-23T10:15:11.965Z"
   },
   {
    "duration": 5,
    "start_time": "2023-04-23T10:15:22.669Z"
   },
   {
    "duration": 7469,
    "start_time": "2023-04-23T10:15:28.927Z"
   },
   {
    "duration": 4,
    "start_time": "2023-04-23T10:15:38.112Z"
   },
   {
    "duration": 1857,
    "start_time": "2023-04-23T10:15:56.866Z"
   },
   {
    "duration": 3,
    "start_time": "2023-04-23T10:15:58.725Z"
   },
   {
    "duration": 1044,
    "start_time": "2023-04-23T10:15:58.730Z"
   },
   {
    "duration": 83,
    "start_time": "2023-04-23T10:15:59.777Z"
   },
   {
    "duration": 28,
    "start_time": "2023-04-23T10:15:59.867Z"
   },
   {
    "duration": 14,
    "start_time": "2023-04-23T10:15:59.897Z"
   },
   {
    "duration": 45,
    "start_time": "2023-04-23T10:15:59.913Z"
   },
   {
    "duration": 10,
    "start_time": "2023-04-23T10:15:59.960Z"
   },
   {
    "duration": 309,
    "start_time": "2023-04-23T10:15:59.972Z"
   },
   {
    "duration": 19,
    "start_time": "2023-04-23T10:16:00.283Z"
   },
   {
    "duration": 30,
    "start_time": "2023-04-23T10:16:00.303Z"
   },
   {
    "duration": 33,
    "start_time": "2023-04-23T10:16:00.361Z"
   },
   {
    "duration": 96,
    "start_time": "2023-04-23T10:16:00.396Z"
   },
   {
    "duration": 96,
    "start_time": "2023-04-23T10:16:00.496Z"
   },
   {
    "duration": 81,
    "start_time": "2023-04-23T10:16:00.594Z"
   },
   {
    "duration": 287,
    "start_time": "2023-04-23T10:16:00.678Z"
   },
   {
    "duration": 65,
    "start_time": "2023-04-23T10:16:00.972Z"
   },
   {
    "duration": 89,
    "start_time": "2023-04-23T10:16:01.039Z"
   },
   {
    "duration": 57,
    "start_time": "2023-04-23T10:16:01.130Z"
   },
   {
    "duration": 78,
    "start_time": "2023-04-23T10:16:01.189Z"
   },
   {
    "duration": 60,
    "start_time": "2023-04-23T10:16:01.270Z"
   },
   {
    "duration": 68,
    "start_time": "2023-04-23T10:16:01.332Z"
   },
   {
    "duration": 71,
    "start_time": "2023-04-23T10:16:01.401Z"
   },
   {
    "duration": 44,
    "start_time": "2023-04-23T10:16:01.474Z"
   },
   {
    "duration": 56,
    "start_time": "2023-04-23T10:16:01.520Z"
   },
   {
    "duration": 309,
    "start_time": "2023-04-23T10:16:01.578Z"
   },
   {
    "duration": 181,
    "start_time": "2023-04-23T10:16:01.888Z"
   },
   {
    "duration": 106,
    "start_time": "2023-04-23T10:16:02.072Z"
   },
   {
    "duration": 384,
    "start_time": "2023-04-23T10:16:02.180Z"
   },
   {
    "duration": 156,
    "start_time": "2023-04-23T10:16:02.567Z"
   },
   {
    "duration": 10650,
    "start_time": "2023-04-23T10:16:02.725Z"
   },
   {
    "duration": 614,
    "start_time": "2023-04-23T10:16:13.377Z"
   },
   {
    "duration": 531,
    "start_time": "2023-04-23T10:16:13.993Z"
   },
   {
    "duration": 12,
    "start_time": "2023-04-23T10:16:14.527Z"
   },
   {
    "duration": 63,
    "start_time": "2023-04-23T10:16:14.542Z"
   },
   {
    "duration": 27,
    "start_time": "2023-04-23T10:16:14.608Z"
   },
   {
    "duration": 1526,
    "start_time": "2023-04-23T10:16:14.637Z"
   },
   {
    "duration": 21,
    "start_time": "2023-04-23T10:16:16.165Z"
   },
   {
    "duration": 1231,
    "start_time": "2023-04-23T10:16:16.189Z"
   },
   {
    "duration": 5,
    "start_time": "2023-04-23T10:16:17.423Z"
   },
   {
    "duration": 47,
    "start_time": "2023-04-23T10:16:17.443Z"
   },
   {
    "duration": 36,
    "start_time": "2023-04-23T10:16:17.492Z"
   },
   {
    "duration": 52,
    "start_time": "2023-04-23T10:16:17.529Z"
   },
   {
    "duration": 18,
    "start_time": "2023-04-23T10:16:17.583Z"
   },
   {
    "duration": 20,
    "start_time": "2023-04-23T10:16:17.603Z"
   },
   {
    "duration": 25,
    "start_time": "2023-04-23T10:16:17.626Z"
   },
   {
    "duration": 29,
    "start_time": "2023-04-23T10:16:17.653Z"
   },
   {
    "duration": 35,
    "start_time": "2023-04-23T10:16:17.684Z"
   },
   {
    "duration": 81,
    "start_time": "2023-04-23T10:16:17.721Z"
   },
   {
    "duration": 10,
    "start_time": "2023-04-23T10:16:17.805Z"
   },
   {
    "duration": 56,
    "start_time": "2023-04-23T10:16:17.817Z"
   },
   {
    "duration": 5982,
    "start_time": "2023-04-23T10:16:17.876Z"
   },
   {
    "duration": 12,
    "start_time": "2023-04-23T10:16:23.872Z"
   },
   {
    "duration": 17375,
    "start_time": "2023-04-23T10:16:23.888Z"
   },
   {
    "duration": 7629,
    "start_time": "2023-04-23T10:16:41.271Z"
   },
   {
    "duration": 5,
    "start_time": "2023-04-23T10:16:48.903Z"
   },
   {
    "duration": 18112,
    "start_time": "2023-04-23T10:16:48.910Z"
   },
   {
    "duration": 7708,
    "start_time": "2023-04-23T10:17:07.024Z"
   },
   {
    "duration": 14,
    "start_time": "2023-04-23T10:17:14.733Z"
   },
   {
    "duration": 189,
    "start_time": "2023-04-23T10:17:14.749Z"
   },
   {
    "duration": 0,
    "start_time": "2023-04-23T10:17:14.940Z"
   },
   {
    "duration": 0,
    "start_time": "2023-04-23T10:17:14.941Z"
   },
   {
    "duration": 17724,
    "start_time": "2023-04-23T10:18:06.120Z"
   },
   {
    "duration": 1906,
    "start_time": "2023-04-23T10:23:18.431Z"
   },
   {
    "duration": 13,
    "start_time": "2023-04-23T10:23:20.343Z"
   },
   {
    "duration": 910,
    "start_time": "2023-04-23T10:23:20.363Z"
   },
   {
    "duration": 78,
    "start_time": "2023-04-23T10:23:21.275Z"
   },
   {
    "duration": 27,
    "start_time": "2023-04-23T10:23:21.356Z"
   },
   {
    "duration": 44,
    "start_time": "2023-04-23T10:23:21.385Z"
   },
   {
    "duration": 29,
    "start_time": "2023-04-23T10:23:21.431Z"
   },
   {
    "duration": 36,
    "start_time": "2023-04-23T10:23:21.464Z"
   },
   {
    "duration": 311,
    "start_time": "2023-04-23T10:23:21.502Z"
   },
   {
    "duration": 36,
    "start_time": "2023-04-23T10:23:21.815Z"
   },
   {
    "duration": 32,
    "start_time": "2023-04-23T10:23:21.857Z"
   },
   {
    "duration": 42,
    "start_time": "2023-04-23T10:23:21.894Z"
   },
   {
    "duration": 66,
    "start_time": "2023-04-23T10:23:21.939Z"
   },
   {
    "duration": 31,
    "start_time": "2023-04-23T10:23:22.010Z"
   },
   {
    "duration": 68,
    "start_time": "2023-04-23T10:23:22.049Z"
   },
   {
    "duration": 14,
    "start_time": "2023-04-23T10:23:22.119Z"
   },
   {
    "duration": 70,
    "start_time": "2023-04-23T10:23:22.136Z"
   },
   {
    "duration": 35,
    "start_time": "2023-04-23T10:23:22.208Z"
   },
   {
    "duration": 136,
    "start_time": "2023-04-23T10:23:22.248Z"
   },
   {
    "duration": 32,
    "start_time": "2023-04-23T10:23:22.387Z"
   },
   {
    "duration": 85,
    "start_time": "2023-04-23T10:23:22.422Z"
   },
   {
    "duration": 24,
    "start_time": "2023-04-23T10:23:22.510Z"
   },
   {
    "duration": 72,
    "start_time": "2023-04-23T10:23:22.536Z"
   },
   {
    "duration": 32,
    "start_time": "2023-04-23T10:23:22.610Z"
   },
   {
    "duration": 25,
    "start_time": "2023-04-23T10:23:22.644Z"
   },
   {
    "duration": 50,
    "start_time": "2023-04-23T10:23:22.672Z"
   },
   {
    "duration": 5,
    "start_time": "2023-04-23T10:23:22.724Z"
   },
   {
    "duration": 29,
    "start_time": "2023-04-23T10:23:22.731Z"
   },
   {
    "duration": 37,
    "start_time": "2023-04-23T10:23:22.762Z"
   },
   {
    "duration": 15,
    "start_time": "2023-04-23T10:23:22.802Z"
   },
   {
    "duration": 10389,
    "start_time": "2023-04-23T10:23:22.819Z"
   },
   {
    "duration": 575,
    "start_time": "2023-04-23T10:23:33.210Z"
   },
   {
    "duration": 508,
    "start_time": "2023-04-23T10:23:33.788Z"
   },
   {
    "duration": 13,
    "start_time": "2023-04-23T10:23:34.298Z"
   },
   {
    "duration": 48,
    "start_time": "2023-04-23T10:23:34.313Z"
   },
   {
    "duration": 45,
    "start_time": "2023-04-23T10:23:34.363Z"
   },
   {
    "duration": 1356,
    "start_time": "2023-04-23T10:23:34.410Z"
   },
   {
    "duration": 15,
    "start_time": "2023-04-23T10:23:35.774Z"
   },
   {
    "duration": 1319,
    "start_time": "2023-04-23T10:23:35.792Z"
   },
   {
    "duration": 4,
    "start_time": "2023-04-23T10:23:37.113Z"
   },
   {
    "duration": 64,
    "start_time": "2023-04-23T10:23:37.123Z"
   },
   {
    "duration": 17,
    "start_time": "2023-04-23T10:23:37.190Z"
   },
   {
    "duration": 73,
    "start_time": "2023-04-23T10:23:37.209Z"
   },
   {
    "duration": 27,
    "start_time": "2023-04-23T10:23:37.285Z"
   },
   {
    "duration": 18,
    "start_time": "2023-04-23T10:23:37.315Z"
   },
   {
    "duration": 58,
    "start_time": "2023-04-23T10:23:37.334Z"
   },
   {
    "duration": 20,
    "start_time": "2023-04-23T10:23:37.395Z"
   },
   {
    "duration": 35,
    "start_time": "2023-04-23T10:23:37.417Z"
   },
   {
    "duration": 64,
    "start_time": "2023-04-23T10:23:37.455Z"
   },
   {
    "duration": 63,
    "start_time": "2023-04-23T10:23:37.522Z"
   },
   {
    "duration": 71,
    "start_time": "2023-04-23T10:23:37.587Z"
   },
   {
    "duration": 7228,
    "start_time": "2023-04-23T10:23:37.660Z"
   },
   {
    "duration": 5,
    "start_time": "2023-04-23T10:23:44.891Z"
   },
   {
    "duration": 18263,
    "start_time": "2023-04-23T10:23:44.946Z"
   },
   {
    "duration": 7819,
    "start_time": "2023-04-23T10:24:03.211Z"
   },
   {
    "duration": 5,
    "start_time": "2023-04-23T10:24:11.032Z"
   },
   {
    "duration": 3498,
    "start_time": "2023-04-23T18:16:19.126Z"
   },
   {
    "duration": 11,
    "start_time": "2023-04-23T18:16:22.691Z"
   },
   {
    "duration": 2610,
    "start_time": "2023-04-23T18:16:22.712Z"
   },
   {
    "duration": 282,
    "start_time": "2023-04-23T18:16:25.324Z"
   },
   {
    "duration": 95,
    "start_time": "2023-04-23T18:16:25.612Z"
   },
   {
    "duration": 189,
    "start_time": "2023-04-23T18:16:25.712Z"
   },
   {
    "duration": 90,
    "start_time": "2023-04-23T18:16:25.903Z"
   },
   {
    "duration": 14,
    "start_time": "2023-04-23T18:16:25.995Z"
   },
   {
    "duration": 1087,
    "start_time": "2023-04-23T18:16:26.012Z"
   },
   {
    "duration": 90,
    "start_time": "2023-04-23T18:16:27.108Z"
   },
   {
    "duration": 103,
    "start_time": "2023-04-23T18:16:27.203Z"
   },
   {
    "duration": 7,
    "start_time": "2023-04-23T18:16:27.312Z"
   },
   {
    "duration": 25,
    "start_time": "2023-04-23T18:16:27.385Z"
   },
   {
    "duration": 87,
    "start_time": "2023-04-23T18:16:27.413Z"
   },
   {
    "duration": 6,
    "start_time": "2023-04-23T18:16:27.503Z"
   },
   {
    "duration": 8,
    "start_time": "2023-04-23T18:16:27.511Z"
   },
   {
    "duration": 16,
    "start_time": "2023-04-23T18:16:27.588Z"
   },
   {
    "duration": 85,
    "start_time": "2023-04-23T18:16:27.606Z"
   },
   {
    "duration": 5,
    "start_time": "2023-04-23T18:16:27.696Z"
   },
   {
    "duration": 13,
    "start_time": "2023-04-23T18:16:27.702Z"
   },
   {
    "duration": 81,
    "start_time": "2023-04-23T18:16:27.719Z"
   },
   {
    "duration": 81,
    "start_time": "2023-04-23T18:16:27.806Z"
   },
   {
    "duration": 20,
    "start_time": "2023-04-23T18:16:27.895Z"
   },
   {
    "duration": 78,
    "start_time": "2023-04-23T18:16:27.918Z"
   },
   {
    "duration": 13,
    "start_time": "2023-04-23T18:16:28.001Z"
   },
   {
    "duration": 108,
    "start_time": "2023-04-23T18:16:28.016Z"
   },
   {
    "duration": 9,
    "start_time": "2023-04-23T18:16:28.188Z"
   },
   {
    "duration": 23,
    "start_time": "2023-04-23T18:16:28.201Z"
   },
   {
    "duration": 57,
    "start_time": "2023-04-23T18:16:28.229Z"
   },
   {
    "duration": 11,
    "start_time": "2023-04-23T18:16:28.288Z"
   },
   {
    "duration": 34608,
    "start_time": "2023-04-23T18:16:28.302Z"
   },
   {
    "duration": 2185,
    "start_time": "2023-04-23T18:17:02.912Z"
   },
   {
    "duration": 2695,
    "start_time": "2023-04-23T18:17:05.101Z"
   },
   {
    "duration": 96,
    "start_time": "2023-04-23T18:17:07.805Z"
   },
   {
    "duration": 188,
    "start_time": "2023-04-23T18:17:07.912Z"
   },
   {
    "duration": 111,
    "start_time": "2023-04-23T18:17:08.102Z"
   },
   {
    "duration": 9500,
    "start_time": "2023-04-23T18:17:08.216Z"
   },
   {
    "duration": 80,
    "start_time": "2023-04-23T18:17:17.719Z"
   },
   {
    "duration": 4313,
    "start_time": "2023-04-23T18:17:17.809Z"
   },
   {
    "duration": 4,
    "start_time": "2023-04-23T18:17:22.186Z"
   },
   {
    "duration": 26,
    "start_time": "2023-04-23T18:17:22.196Z"
   },
   {
    "duration": 62,
    "start_time": "2023-04-23T18:17:22.231Z"
   },
   {
    "duration": 12,
    "start_time": "2023-04-23T18:17:22.296Z"
   },
   {
    "duration": 20,
    "start_time": "2023-04-23T18:17:22.310Z"
   },
   {
    "duration": 17,
    "start_time": "2023-04-23T18:17:22.386Z"
   },
   {
    "duration": 8,
    "start_time": "2023-04-23T18:17:22.407Z"
   },
   {
    "duration": 71,
    "start_time": "2023-04-23T18:17:22.419Z"
   },
   {
    "duration": 17,
    "start_time": "2023-04-23T18:17:22.493Z"
   },
   {
    "duration": 11,
    "start_time": "2023-04-23T18:17:22.515Z"
   },
   {
    "duration": 14,
    "start_time": "2023-04-23T18:17:22.589Z"
   },
   {
    "duration": 112,
    "start_time": "2023-04-23T18:17:22.609Z"
   },
   {
    "duration": 9717,
    "start_time": "2023-04-23T18:17:22.788Z"
   },
   {
    "duration": 9,
    "start_time": "2023-04-23T18:17:32.584Z"
   },
   {
    "duration": 64804,
    "start_time": "2023-04-23T18:17:32.599Z"
   },
   {
    "duration": 27683,
    "start_time": "2023-04-23T18:18:37.404Z"
   },
   {
    "duration": 6,
    "start_time": "2023-04-23T18:19:05.089Z"
   }
  ],
  "kernelspec": {
   "display_name": "Python 3 (ipykernel)",
   "language": "python",
   "name": "python3"
  },
  "language_info": {
   "codemirror_mode": {
    "name": "ipython",
    "version": 3
   },
   "file_extension": ".py",
   "mimetype": "text/x-python",
   "name": "python",
   "nbconvert_exporter": "python",
   "pygments_lexer": "ipython3",
   "version": "3.9.12"
  },
  "toc": {
   "base_numbering": 1,
   "nav_menu": {},
   "number_sections": true,
   "sideBar": true,
   "skip_h1_title": true,
   "title_cell": "Содержание",
   "title_sidebar": "Contents",
   "toc_cell": true,
   "toc_position": {},
   "toc_section_display": true,
   "toc_window_display": true
  }
 },
 "nbformat": 4,
 "nbformat_minor": 2
}
